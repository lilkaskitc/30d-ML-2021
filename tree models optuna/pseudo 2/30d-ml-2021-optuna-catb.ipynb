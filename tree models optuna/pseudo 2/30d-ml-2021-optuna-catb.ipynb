{
 "cells": [
  {
   "cell_type": "code",
   "execution_count": 1,
   "id": "df43d3b5",
   "metadata": {
    "_cell_guid": "b1076dfc-b9ad-4769-8c92-a6c4dae69d19",
    "_uuid": "8f2839f25d086af736a60e9eeb907d3b93b6e0e5",
    "execution": {
     "iopub.execute_input": "2021-08-28T14:21:20.007064Z",
     "iopub.status.busy": "2021-08-28T14:21:20.006014Z",
     "iopub.status.idle": "2021-08-28T14:21:21.248076Z",
     "shell.execute_reply": "2021-08-28T14:21:21.248577Z",
     "shell.execute_reply.started": "2021-08-20T08:38:28.570883Z"
    },
    "papermill": {
     "duration": 1.258183,
     "end_time": "2021-08-28T14:21:21.248870",
     "exception": false,
     "start_time": "2021-08-28T14:21:19.990687",
     "status": "completed"
    },
    "tags": []
   },
   "outputs": [],
   "source": [
    "# Familiar imports\n",
    "import numpy as np\n",
    "import pandas as pd\n",
    "import random\n",
    "import os\n",
    "import time\n",
    "from pathlib import Path\n",
    "\n",
    "from sklearn.preprocessing import StandardScaler\n",
    "from sklearn.model_selection import KFold, train_test_split\n",
    "from sklearn.metrics import mean_squared_error\n",
    "from sklearn.preprocessing import OrdinalEncoder, OneHotEncoder\n",
    "\n",
    "#import lightgbm as lgb\n",
    "#import xgboost as xgb\n",
    "import catboost as ctb\n",
    "\n",
    "import warnings\n",
    "warnings.simplefilter('ignore')"
   ]
  },
  {
   "cell_type": "markdown",
   "id": "242c4ac7",
   "metadata": {
    "papermill": {
     "duration": 0.011243,
     "end_time": "2021-08-28T14:21:21.272063",
     "exception": false,
     "start_time": "2021-08-28T14:21:21.260820",
     "status": "completed"
    },
    "tags": []
   },
   "source": [
    "# Parameters"
   ]
  },
  {
   "cell_type": "code",
   "execution_count": 2,
   "id": "667dcfd0",
   "metadata": {
    "execution": {
     "iopub.execute_input": "2021-08-28T14:21:21.301920Z",
     "iopub.status.busy": "2021-08-28T14:21:21.301263Z",
     "iopub.status.idle": "2021-08-28T14:21:21.304024Z",
     "shell.execute_reply": "2021-08-28T14:21:21.303583Z",
     "shell.execute_reply.started": "2021-08-20T08:38:29.63784Z"
    },
    "papermill": {
     "duration": 0.020613,
     "end_time": "2021-08-28T14:21:21.304156",
     "exception": false,
     "start_time": "2021-08-28T14:21:21.283543",
     "status": "completed"
    },
    "tags": []
   },
   "outputs": [],
   "source": [
    "target = 'target'\n",
    "\n",
    "DEBUG = False\n",
    "\n",
    "if DEBUG:\n",
    "    N_ESTIMATORS = 1\n",
    "    N_SPLITS = 2\n",
    "    SEED = 17\n",
    "    CVSEED = 17\n",
    "    EARLY_STOPPING_ROUNDS = 1\n",
    "    VERBOSE = 100\n",
    "    #N_ITERS = 2\n",
    "else:\n",
    "    N_SPLITS = 10\n",
    "    N_ESTIMATORS = 20000\n",
    "    EARLY_STOPPING_ROUNDS = 200\n",
    "    VERBOSE = 1000\n",
    "    SEED = 17\n",
    "    CVSEED = 17\n",
    "    #N_ITERS = 10"
   ]
  },
  {
   "cell_type": "code",
   "execution_count": 3,
   "id": "64892fdc",
   "metadata": {
    "execution": {
     "iopub.execute_input": "2021-08-28T14:21:21.331989Z",
     "iopub.status.busy": "2021-08-28T14:21:21.331407Z",
     "iopub.status.idle": "2021-08-28T14:21:21.334361Z",
     "shell.execute_reply": "2021-08-28T14:21:21.333897Z",
     "shell.execute_reply.started": "2021-08-20T08:38:29.645292Z"
    },
    "papermill": {
     "duration": 0.018853,
     "end_time": "2021-08-28T14:21:21.334501",
     "exception": false,
     "start_time": "2021-08-28T14:21:21.315648",
     "status": "completed"
    },
    "tags": []
   },
   "outputs": [],
   "source": [
    "def set_seed(seed=17):\n",
    "    random.seed(seed)\n",
    "    os.environ['PYTHONHASHSEED'] = str(seed)\n",
    "    np.random.seed(seed)\n",
    "    \n",
    "set_seed(SEED)"
   ]
  },
  {
   "cell_type": "markdown",
   "id": "cb92a10e",
   "metadata": {
    "papermill": {
     "duration": 0.010964,
     "end_time": "2021-08-28T14:21:21.356942",
     "exception": false,
     "start_time": "2021-08-28T14:21:21.345978",
     "status": "completed"
    },
    "tags": []
   },
   "source": [
    "# Load data"
   ]
  },
  {
   "cell_type": "code",
   "execution_count": 4,
   "id": "c1280ee2",
   "metadata": {
    "execution": {
     "iopub.execute_input": "2021-08-28T14:21:21.382914Z",
     "iopub.status.busy": "2021-08-28T14:21:21.382033Z",
     "iopub.status.idle": "2021-08-28T14:21:24.936441Z",
     "shell.execute_reply": "2021-08-28T14:21:24.936895Z",
     "shell.execute_reply.started": "2021-08-20T08:38:29.656342Z"
    },
    "papermill": {
     "duration": 3.568898,
     "end_time": "2021-08-28T14:21:24.937060",
     "exception": false,
     "start_time": "2021-08-28T14:21:21.368162",
     "status": "completed"
    },
    "tags": []
   },
   "outputs": [
    {
     "data": {
      "text/html": [
       "<div>\n",
       "<style scoped>\n",
       "    .dataframe tbody tr th:only-of-type {\n",
       "        vertical-align: middle;\n",
       "    }\n",
       "\n",
       "    .dataframe tbody tr th {\n",
       "        vertical-align: top;\n",
       "    }\n",
       "\n",
       "    .dataframe thead th {\n",
       "        text-align: right;\n",
       "    }\n",
       "</style>\n",
       "<table border=\"1\" class=\"dataframe\">\n",
       "  <thead>\n",
       "    <tr style=\"text-align: right;\">\n",
       "      <th></th>\n",
       "      <th>id</th>\n",
       "      <th>cat0</th>\n",
       "      <th>cat1</th>\n",
       "      <th>cat2</th>\n",
       "      <th>cat3</th>\n",
       "      <th>cat4</th>\n",
       "      <th>cat5</th>\n",
       "      <th>cat6</th>\n",
       "      <th>cat7</th>\n",
       "      <th>cat8</th>\n",
       "      <th>...</th>\n",
       "      <th>cont5</th>\n",
       "      <th>cont6</th>\n",
       "      <th>cont7</th>\n",
       "      <th>cont8</th>\n",
       "      <th>cont9</th>\n",
       "      <th>cont10</th>\n",
       "      <th>cont11</th>\n",
       "      <th>cont12</th>\n",
       "      <th>cont13</th>\n",
       "      <th>target</th>\n",
       "    </tr>\n",
       "  </thead>\n",
       "  <tbody>\n",
       "    <tr>\n",
       "      <th>0</th>\n",
       "      <td>1</td>\n",
       "      <td>B</td>\n",
       "      <td>B</td>\n",
       "      <td>B</td>\n",
       "      <td>C</td>\n",
       "      <td>B</td>\n",
       "      <td>B</td>\n",
       "      <td>A</td>\n",
       "      <td>E</td>\n",
       "      <td>C</td>\n",
       "      <td>...</td>\n",
       "      <td>0.400361</td>\n",
       "      <td>0.160266</td>\n",
       "      <td>0.310921</td>\n",
       "      <td>0.389470</td>\n",
       "      <td>0.267559</td>\n",
       "      <td>0.237281</td>\n",
       "      <td>0.377873</td>\n",
       "      <td>0.322401</td>\n",
       "      <td>0.869850</td>\n",
       "      <td>8.113634</td>\n",
       "    </tr>\n",
       "    <tr>\n",
       "      <th>1</th>\n",
       "      <td>2</td>\n",
       "      <td>B</td>\n",
       "      <td>B</td>\n",
       "      <td>A</td>\n",
       "      <td>A</td>\n",
       "      <td>B</td>\n",
       "      <td>D</td>\n",
       "      <td>A</td>\n",
       "      <td>F</td>\n",
       "      <td>A</td>\n",
       "      <td>...</td>\n",
       "      <td>0.533087</td>\n",
       "      <td>0.558922</td>\n",
       "      <td>0.516294</td>\n",
       "      <td>0.594928</td>\n",
       "      <td>0.341439</td>\n",
       "      <td>0.906013</td>\n",
       "      <td>0.921701</td>\n",
       "      <td>0.261975</td>\n",
       "      <td>0.465083</td>\n",
       "      <td>8.481233</td>\n",
       "    </tr>\n",
       "    <tr>\n",
       "      <th>2</th>\n",
       "      <td>3</td>\n",
       "      <td>A</td>\n",
       "      <td>A</td>\n",
       "      <td>A</td>\n",
       "      <td>C</td>\n",
       "      <td>B</td>\n",
       "      <td>D</td>\n",
       "      <td>A</td>\n",
       "      <td>D</td>\n",
       "      <td>A</td>\n",
       "      <td>...</td>\n",
       "      <td>0.650609</td>\n",
       "      <td>0.375348</td>\n",
       "      <td>0.902567</td>\n",
       "      <td>0.555205</td>\n",
       "      <td>0.843531</td>\n",
       "      <td>0.748809</td>\n",
       "      <td>0.620126</td>\n",
       "      <td>0.541474</td>\n",
       "      <td>0.763846</td>\n",
       "      <td>8.364351</td>\n",
       "    </tr>\n",
       "    <tr>\n",
       "      <th>3</th>\n",
       "      <td>4</td>\n",
       "      <td>B</td>\n",
       "      <td>B</td>\n",
       "      <td>A</td>\n",
       "      <td>C</td>\n",
       "      <td>B</td>\n",
       "      <td>D</td>\n",
       "      <td>A</td>\n",
       "      <td>E</td>\n",
       "      <td>C</td>\n",
       "      <td>...</td>\n",
       "      <td>0.668980</td>\n",
       "      <td>0.239061</td>\n",
       "      <td>0.732948</td>\n",
       "      <td>0.679618</td>\n",
       "      <td>0.574844</td>\n",
       "      <td>0.346010</td>\n",
       "      <td>0.714610</td>\n",
       "      <td>0.540150</td>\n",
       "      <td>0.280682</td>\n",
       "      <td>8.049253</td>\n",
       "    </tr>\n",
       "    <tr>\n",
       "      <th>4</th>\n",
       "      <td>6</td>\n",
       "      <td>A</td>\n",
       "      <td>A</td>\n",
       "      <td>A</td>\n",
       "      <td>C</td>\n",
       "      <td>B</td>\n",
       "      <td>D</td>\n",
       "      <td>A</td>\n",
       "      <td>E</td>\n",
       "      <td>A</td>\n",
       "      <td>...</td>\n",
       "      <td>0.686964</td>\n",
       "      <td>0.420667</td>\n",
       "      <td>0.648182</td>\n",
       "      <td>0.684501</td>\n",
       "      <td>0.956692</td>\n",
       "      <td>1.000773</td>\n",
       "      <td>0.776742</td>\n",
       "      <td>0.625849</td>\n",
       "      <td>0.250823</td>\n",
       "      <td>7.972260</td>\n",
       "    </tr>\n",
       "  </tbody>\n",
       "</table>\n",
       "<p>5 rows × 26 columns</p>\n",
       "</div>"
      ],
      "text/plain": [
       "   id cat0 cat1 cat2 cat3 cat4 cat5 cat6 cat7 cat8  ...     cont5     cont6  \\\n",
       "0   1    B    B    B    C    B    B    A    E    C  ...  0.400361  0.160266   \n",
       "1   2    B    B    A    A    B    D    A    F    A  ...  0.533087  0.558922   \n",
       "2   3    A    A    A    C    B    D    A    D    A  ...  0.650609  0.375348   \n",
       "3   4    B    B    A    C    B    D    A    E    C  ...  0.668980  0.239061   \n",
       "4   6    A    A    A    C    B    D    A    E    A  ...  0.686964  0.420667   \n",
       "\n",
       "      cont7     cont8     cont9    cont10    cont11    cont12    cont13  \\\n",
       "0  0.310921  0.389470  0.267559  0.237281  0.377873  0.322401  0.869850   \n",
       "1  0.516294  0.594928  0.341439  0.906013  0.921701  0.261975  0.465083   \n",
       "2  0.902567  0.555205  0.843531  0.748809  0.620126  0.541474  0.763846   \n",
       "3  0.732948  0.679618  0.574844  0.346010  0.714610  0.540150  0.280682   \n",
       "4  0.648182  0.684501  0.956692  1.000773  0.776742  0.625849  0.250823   \n",
       "\n",
       "     target  \n",
       "0  8.113634  \n",
       "1  8.481233  \n",
       "2  8.364351  \n",
       "3  8.049253  \n",
       "4  7.972260  \n",
       "\n",
       "[5 rows x 26 columns]"
      ]
     },
     "execution_count": 4,
     "metadata": {},
     "output_type": "execute_result"
    }
   ],
   "source": [
    "# Load the training data\n",
    "train = pd.read_csv(\"../input/30-days-of-ml/train.csv\")\n",
    "test = pd.read_csv(\"../input/30-days-of-ml/test.csv\")\n",
    "\n",
    "# Preview the data\n",
    "train.head()"
   ]
  },
  {
   "cell_type": "code",
   "execution_count": 5,
   "id": "7c5814d5",
   "metadata": {
    "execution": {
     "iopub.execute_input": "2021-08-28T14:21:24.968156Z",
     "iopub.status.busy": "2021-08-28T14:21:24.967568Z",
     "iopub.status.idle": "2021-08-28T14:21:25.022935Z",
     "shell.execute_reply": "2021-08-28T14:21:25.022252Z",
     "shell.execute_reply.started": "2021-08-20T08:38:33.275109Z"
    },
    "papermill": {
     "duration": 0.073705,
     "end_time": "2021-08-28T14:21:25.023089",
     "exception": false,
     "start_time": "2021-08-28T14:21:24.949384",
     "status": "completed"
    },
    "tags": []
   },
   "outputs": [
    {
     "data": {
      "text/html": [
       "<div>\n",
       "<style scoped>\n",
       "    .dataframe tbody tr th:only-of-type {\n",
       "        vertical-align: middle;\n",
       "    }\n",
       "\n",
       "    .dataframe tbody tr th {\n",
       "        vertical-align: top;\n",
       "    }\n",
       "\n",
       "    .dataframe thead th {\n",
       "        text-align: right;\n",
       "    }\n",
       "</style>\n",
       "<table border=\"1\" class=\"dataframe\">\n",
       "  <thead>\n",
       "    <tr style=\"text-align: right;\">\n",
       "      <th></th>\n",
       "      <th>cat0</th>\n",
       "      <th>cat1</th>\n",
       "      <th>cat2</th>\n",
       "      <th>cat3</th>\n",
       "      <th>cat4</th>\n",
       "      <th>cat5</th>\n",
       "      <th>cat6</th>\n",
       "      <th>cat7</th>\n",
       "      <th>cat8</th>\n",
       "      <th>cat9</th>\n",
       "      <th>...</th>\n",
       "      <th>cont4</th>\n",
       "      <th>cont5</th>\n",
       "      <th>cont6</th>\n",
       "      <th>cont7</th>\n",
       "      <th>cont8</th>\n",
       "      <th>cont9</th>\n",
       "      <th>cont10</th>\n",
       "      <th>cont11</th>\n",
       "      <th>cont12</th>\n",
       "      <th>cont13</th>\n",
       "    </tr>\n",
       "  </thead>\n",
       "  <tbody>\n",
       "    <tr>\n",
       "      <th>0</th>\n",
       "      <td>B</td>\n",
       "      <td>B</td>\n",
       "      <td>B</td>\n",
       "      <td>C</td>\n",
       "      <td>B</td>\n",
       "      <td>B</td>\n",
       "      <td>A</td>\n",
       "      <td>E</td>\n",
       "      <td>C</td>\n",
       "      <td>N</td>\n",
       "      <td>...</td>\n",
       "      <td>0.610706</td>\n",
       "      <td>0.400361</td>\n",
       "      <td>0.160266</td>\n",
       "      <td>0.310921</td>\n",
       "      <td>0.389470</td>\n",
       "      <td>0.267559</td>\n",
       "      <td>0.237281</td>\n",
       "      <td>0.377873</td>\n",
       "      <td>0.322401</td>\n",
       "      <td>0.869850</td>\n",
       "    </tr>\n",
       "    <tr>\n",
       "      <th>1</th>\n",
       "      <td>B</td>\n",
       "      <td>B</td>\n",
       "      <td>A</td>\n",
       "      <td>A</td>\n",
       "      <td>B</td>\n",
       "      <td>D</td>\n",
       "      <td>A</td>\n",
       "      <td>F</td>\n",
       "      <td>A</td>\n",
       "      <td>O</td>\n",
       "      <td>...</td>\n",
       "      <td>0.276853</td>\n",
       "      <td>0.533087</td>\n",
       "      <td>0.558922</td>\n",
       "      <td>0.516294</td>\n",
       "      <td>0.594928</td>\n",
       "      <td>0.341439</td>\n",
       "      <td>0.906013</td>\n",
       "      <td>0.921701</td>\n",
       "      <td>0.261975</td>\n",
       "      <td>0.465083</td>\n",
       "    </tr>\n",
       "    <tr>\n",
       "      <th>2</th>\n",
       "      <td>A</td>\n",
       "      <td>A</td>\n",
       "      <td>A</td>\n",
       "      <td>C</td>\n",
       "      <td>B</td>\n",
       "      <td>D</td>\n",
       "      <td>A</td>\n",
       "      <td>D</td>\n",
       "      <td>A</td>\n",
       "      <td>F</td>\n",
       "      <td>...</td>\n",
       "      <td>0.285074</td>\n",
       "      <td>0.650609</td>\n",
       "      <td>0.375348</td>\n",
       "      <td>0.902567</td>\n",
       "      <td>0.555205</td>\n",
       "      <td>0.843531</td>\n",
       "      <td>0.748809</td>\n",
       "      <td>0.620126</td>\n",
       "      <td>0.541474</td>\n",
       "      <td>0.763846</td>\n",
       "    </tr>\n",
       "    <tr>\n",
       "      <th>3</th>\n",
       "      <td>B</td>\n",
       "      <td>B</td>\n",
       "      <td>A</td>\n",
       "      <td>C</td>\n",
       "      <td>B</td>\n",
       "      <td>D</td>\n",
       "      <td>A</td>\n",
       "      <td>E</td>\n",
       "      <td>C</td>\n",
       "      <td>K</td>\n",
       "      <td>...</td>\n",
       "      <td>0.284667</td>\n",
       "      <td>0.668980</td>\n",
       "      <td>0.239061</td>\n",
       "      <td>0.732948</td>\n",
       "      <td>0.679618</td>\n",
       "      <td>0.574844</td>\n",
       "      <td>0.346010</td>\n",
       "      <td>0.714610</td>\n",
       "      <td>0.540150</td>\n",
       "      <td>0.280682</td>\n",
       "    </tr>\n",
       "    <tr>\n",
       "      <th>4</th>\n",
       "      <td>A</td>\n",
       "      <td>A</td>\n",
       "      <td>A</td>\n",
       "      <td>C</td>\n",
       "      <td>B</td>\n",
       "      <td>D</td>\n",
       "      <td>A</td>\n",
       "      <td>E</td>\n",
       "      <td>A</td>\n",
       "      <td>N</td>\n",
       "      <td>...</td>\n",
       "      <td>0.287595</td>\n",
       "      <td>0.686964</td>\n",
       "      <td>0.420667</td>\n",
       "      <td>0.648182</td>\n",
       "      <td>0.684501</td>\n",
       "      <td>0.956692</td>\n",
       "      <td>1.000773</td>\n",
       "      <td>0.776742</td>\n",
       "      <td>0.625849</td>\n",
       "      <td>0.250823</td>\n",
       "    </tr>\n",
       "  </tbody>\n",
       "</table>\n",
       "<p>5 rows × 24 columns</p>\n",
       "</div>"
      ],
      "text/plain": [
       "  cat0 cat1 cat2 cat3 cat4 cat5 cat6 cat7 cat8 cat9  ...     cont4     cont5  \\\n",
       "0    B    B    B    C    B    B    A    E    C    N  ...  0.610706  0.400361   \n",
       "1    B    B    A    A    B    D    A    F    A    O  ...  0.276853  0.533087   \n",
       "2    A    A    A    C    B    D    A    D    A    F  ...  0.285074  0.650609   \n",
       "3    B    B    A    C    B    D    A    E    C    K  ...  0.284667  0.668980   \n",
       "4    A    A    A    C    B    D    A    E    A    N  ...  0.287595  0.686964   \n",
       "\n",
       "      cont6     cont7     cont8     cont9    cont10    cont11    cont12  \\\n",
       "0  0.160266  0.310921  0.389470  0.267559  0.237281  0.377873  0.322401   \n",
       "1  0.558922  0.516294  0.594928  0.341439  0.906013  0.921701  0.261975   \n",
       "2  0.375348  0.902567  0.555205  0.843531  0.748809  0.620126  0.541474   \n",
       "3  0.239061  0.732948  0.679618  0.574844  0.346010  0.714610  0.540150   \n",
       "4  0.420667  0.648182  0.684501  0.956692  1.000773  0.776742  0.625849   \n",
       "\n",
       "     cont13  \n",
       "0  0.869850  \n",
       "1  0.465083  \n",
       "2  0.763846  \n",
       "3  0.280682  \n",
       "4  0.250823  \n",
       "\n",
       "[5 rows x 24 columns]"
      ]
     },
     "execution_count": 5,
     "metadata": {},
     "output_type": "execute_result"
    }
   ],
   "source": [
    "# Separate target from features\n",
    "y = train['target']\n",
    "features = train.drop(['id','target'], axis=1)\n",
    "\n",
    "# Preview features\n",
    "features.head()"
   ]
  },
  {
   "cell_type": "markdown",
   "id": "0364de03",
   "metadata": {
    "papermill": {
     "duration": 0.012853,
     "end_time": "2021-08-28T14:21:25.048931",
     "exception": false,
     "start_time": "2021-08-28T14:21:25.036078",
     "status": "completed"
    },
    "tags": []
   },
   "source": [
    "# Preprocessing"
   ]
  },
  {
   "cell_type": "code",
   "execution_count": 6,
   "id": "e150dbe8",
   "metadata": {
    "execution": {
     "iopub.execute_input": "2021-08-28T14:21:25.078531Z",
     "iopub.status.busy": "2021-08-28T14:21:25.077751Z",
     "iopub.status.idle": "2021-08-28T14:21:25.081418Z",
     "shell.execute_reply": "2021-08-28T14:21:25.080962Z",
     "shell.execute_reply.started": "2021-08-20T08:38:33.330537Z"
    },
    "papermill": {
     "duration": 0.020428,
     "end_time": "2021-08-28T14:21:25.081553",
     "exception": false,
     "start_time": "2021-08-28T14:21:25.061125",
     "status": "completed"
    },
    "tags": []
   },
   "outputs": [
    {
     "data": {
      "text/plain": [
       "\"\\n# List of categorical columns\\nobject_cols = [col for col in features.columns if 'cat' in col]\\n\\n# ordinal-encode categorical columns\\nX = features.copy()\\nX_test = test.drop(['id'], axis=1).copy()\\nordinal_encoder = OrdinalEncoder()\\nX[object_cols] = ordinal_encoder.fit_transform(features[object_cols])\\nX_test[object_cols] = ordinal_encoder.transform(test[object_cols])\\n\\n# Preview the ordinal-encoded features\\nX.head()\\n\""
      ]
     },
     "execution_count": 6,
     "metadata": {},
     "output_type": "execute_result"
    }
   ],
   "source": [
    "'''\n",
    "# List of categorical columns\n",
    "object_cols = [col for col in features.columns if 'cat' in col]\n",
    "\n",
    "# ordinal-encode categorical columns\n",
    "X = features.copy()\n",
    "X_test = test.drop(['id'], axis=1).copy()\n",
    "ordinal_encoder = OrdinalEncoder()\n",
    "X[object_cols] = ordinal_encoder.fit_transform(features[object_cols])\n",
    "X_test[object_cols] = ordinal_encoder.transform(test[object_cols])\n",
    "\n",
    "# Preview the ordinal-encoded features\n",
    "X.head()\n",
    "'''"
   ]
  },
  {
   "cell_type": "code",
   "execution_count": 7,
   "id": "57f73103",
   "metadata": {
    "execution": {
     "iopub.execute_input": "2021-08-28T14:21:25.115909Z",
     "iopub.status.busy": "2021-08-28T14:21:25.114358Z",
     "iopub.status.idle": "2021-08-28T14:21:27.492940Z",
     "shell.execute_reply": "2021-08-28T14:21:27.492480Z"
    },
    "papermill": {
     "duration": 2.399041,
     "end_time": "2021-08-28T14:21:27.493078",
     "exception": false,
     "start_time": "2021-08-28T14:21:25.094037",
     "status": "completed"
    },
    "tags": []
   },
   "outputs": [
    {
     "data": {
      "text/html": [
       "<div>\n",
       "<style scoped>\n",
       "    .dataframe tbody tr th:only-of-type {\n",
       "        vertical-align: middle;\n",
       "    }\n",
       "\n",
       "    .dataframe tbody tr th {\n",
       "        vertical-align: top;\n",
       "    }\n",
       "\n",
       "    .dataframe thead th {\n",
       "        text-align: right;\n",
       "    }\n",
       "</style>\n",
       "<table border=\"1\" class=\"dataframe\">\n",
       "  <thead>\n",
       "    <tr style=\"text-align: right;\">\n",
       "      <th></th>\n",
       "      <th>cont0</th>\n",
       "      <th>cont1</th>\n",
       "      <th>cont2</th>\n",
       "      <th>cont3</th>\n",
       "      <th>cont4</th>\n",
       "      <th>cont5</th>\n",
       "      <th>cont6</th>\n",
       "      <th>cont7</th>\n",
       "      <th>cont8</th>\n",
       "      <th>cont9</th>\n",
       "      <th>...</th>\n",
       "      <th>ohe_46</th>\n",
       "      <th>ohe_47</th>\n",
       "      <th>ohe_48</th>\n",
       "      <th>ohe_49</th>\n",
       "      <th>ohe_50</th>\n",
       "      <th>ohe_51</th>\n",
       "      <th>ohe_52</th>\n",
       "      <th>ohe_53</th>\n",
       "      <th>ohe_54</th>\n",
       "      <th>ohe_55</th>\n",
       "    </tr>\n",
       "  </thead>\n",
       "  <tbody>\n",
       "    <tr>\n",
       "      <th>0</th>\n",
       "      <td>0.201470</td>\n",
       "      <td>-0.014822</td>\n",
       "      <td>0.669699</td>\n",
       "      <td>0.136278</td>\n",
       "      <td>0.610706</td>\n",
       "      <td>0.400361</td>\n",
       "      <td>0.160266</td>\n",
       "      <td>0.310921</td>\n",
       "      <td>0.389470</td>\n",
       "      <td>0.267559</td>\n",
       "      <td>...</td>\n",
       "      <td>0.0</td>\n",
       "      <td>0.0</td>\n",
       "      <td>0.0</td>\n",
       "      <td>0.0</td>\n",
       "      <td>0.0</td>\n",
       "      <td>0.0</td>\n",
       "      <td>0.0</td>\n",
       "      <td>0.0</td>\n",
       "      <td>1.0</td>\n",
       "      <td>0.0</td>\n",
       "    </tr>\n",
       "    <tr>\n",
       "      <th>1</th>\n",
       "      <td>0.743068</td>\n",
       "      <td>0.367411</td>\n",
       "      <td>1.021605</td>\n",
       "      <td>0.365798</td>\n",
       "      <td>0.276853</td>\n",
       "      <td>0.533087</td>\n",
       "      <td>0.558922</td>\n",
       "      <td>0.516294</td>\n",
       "      <td>0.594928</td>\n",
       "      <td>0.341439</td>\n",
       "      <td>...</td>\n",
       "      <td>0.0</td>\n",
       "      <td>0.0</td>\n",
       "      <td>0.0</td>\n",
       "      <td>0.0</td>\n",
       "      <td>0.0</td>\n",
       "      <td>0.0</td>\n",
       "      <td>0.0</td>\n",
       "      <td>0.0</td>\n",
       "      <td>0.0</td>\n",
       "      <td>1.0</td>\n",
       "    </tr>\n",
       "    <tr>\n",
       "      <th>2</th>\n",
       "      <td>0.742708</td>\n",
       "      <td>0.310383</td>\n",
       "      <td>-0.012673</td>\n",
       "      <td>0.576957</td>\n",
       "      <td>0.285074</td>\n",
       "      <td>0.650609</td>\n",
       "      <td>0.375348</td>\n",
       "      <td>0.902567</td>\n",
       "      <td>0.555205</td>\n",
       "      <td>0.843531</td>\n",
       "      <td>...</td>\n",
       "      <td>1.0</td>\n",
       "      <td>0.0</td>\n",
       "      <td>0.0</td>\n",
       "      <td>0.0</td>\n",
       "      <td>0.0</td>\n",
       "      <td>0.0</td>\n",
       "      <td>0.0</td>\n",
       "      <td>0.0</td>\n",
       "      <td>0.0</td>\n",
       "      <td>0.0</td>\n",
       "    </tr>\n",
       "    <tr>\n",
       "      <th>3</th>\n",
       "      <td>0.429551</td>\n",
       "      <td>0.620998</td>\n",
       "      <td>0.577942</td>\n",
       "      <td>0.280610</td>\n",
       "      <td>0.284667</td>\n",
       "      <td>0.668980</td>\n",
       "      <td>0.239061</td>\n",
       "      <td>0.732948</td>\n",
       "      <td>0.679618</td>\n",
       "      <td>0.574844</td>\n",
       "      <td>...</td>\n",
       "      <td>0.0</td>\n",
       "      <td>0.0</td>\n",
       "      <td>0.0</td>\n",
       "      <td>0.0</td>\n",
       "      <td>0.0</td>\n",
       "      <td>1.0</td>\n",
       "      <td>0.0</td>\n",
       "      <td>0.0</td>\n",
       "      <td>0.0</td>\n",
       "      <td>0.0</td>\n",
       "    </tr>\n",
       "    <tr>\n",
       "      <th>4</th>\n",
       "      <td>1.058291</td>\n",
       "      <td>0.367492</td>\n",
       "      <td>-0.052389</td>\n",
       "      <td>0.232407</td>\n",
       "      <td>0.287595</td>\n",
       "      <td>0.686964</td>\n",
       "      <td>0.420667</td>\n",
       "      <td>0.648182</td>\n",
       "      <td>0.684501</td>\n",
       "      <td>0.956692</td>\n",
       "      <td>...</td>\n",
       "      <td>0.0</td>\n",
       "      <td>0.0</td>\n",
       "      <td>0.0</td>\n",
       "      <td>0.0</td>\n",
       "      <td>0.0</td>\n",
       "      <td>0.0</td>\n",
       "      <td>0.0</td>\n",
       "      <td>0.0</td>\n",
       "      <td>1.0</td>\n",
       "      <td>0.0</td>\n",
       "    </tr>\n",
       "  </tbody>\n",
       "</table>\n",
       "<p>5 rows × 70 columns</p>\n",
       "</div>"
      ],
      "text/plain": [
       "      cont0     cont1     cont2     cont3     cont4     cont5     cont6  \\\n",
       "0  0.201470 -0.014822  0.669699  0.136278  0.610706  0.400361  0.160266   \n",
       "1  0.743068  0.367411  1.021605  0.365798  0.276853  0.533087  0.558922   \n",
       "2  0.742708  0.310383 -0.012673  0.576957  0.285074  0.650609  0.375348   \n",
       "3  0.429551  0.620998  0.577942  0.280610  0.284667  0.668980  0.239061   \n",
       "4  1.058291  0.367492 -0.052389  0.232407  0.287595  0.686964  0.420667   \n",
       "\n",
       "      cont7     cont8     cont9  ...  ohe_46  ohe_47  ohe_48  ohe_49  ohe_50  \\\n",
       "0  0.310921  0.389470  0.267559  ...     0.0     0.0     0.0     0.0     0.0   \n",
       "1  0.516294  0.594928  0.341439  ...     0.0     0.0     0.0     0.0     0.0   \n",
       "2  0.902567  0.555205  0.843531  ...     1.0     0.0     0.0     0.0     0.0   \n",
       "3  0.732948  0.679618  0.574844  ...     0.0     0.0     0.0     0.0     0.0   \n",
       "4  0.648182  0.684501  0.956692  ...     0.0     0.0     0.0     0.0     0.0   \n",
       "\n",
       "   ohe_51  ohe_52  ohe_53  ohe_54  ohe_55  \n",
       "0     0.0     0.0     0.0     1.0     0.0  \n",
       "1     0.0     0.0     0.0     0.0     1.0  \n",
       "2     0.0     0.0     0.0     0.0     0.0  \n",
       "3     1.0     0.0     0.0     0.0     0.0  \n",
       "4     0.0     0.0     0.0     1.0     0.0  \n",
       "\n",
       "[5 rows x 70 columns]"
      ]
     },
     "execution_count": 7,
     "metadata": {},
     "output_type": "execute_result"
    }
   ],
   "source": [
    "# List of categorical columns\n",
    "object_cols = [col for col in features.columns if 'cat' in col]\n",
    "\n",
    "# one-hot-encode categorical columns\n",
    "X = features.copy()\n",
    "X_test = test.drop(['id'], axis=1).copy()\n",
    "\n",
    "oh_encoder = OneHotEncoder(sparse=False, handle_unknown=\"ignore\")\n",
    "X_ohe = oh_encoder.fit_transform(features[object_cols])\n",
    "X_test_ohe = oh_encoder.transform(test[object_cols])\n",
    "\n",
    "X_ohe = pd.DataFrame(X_ohe, columns=[f\"ohe_{i}\" for i in range(X_ohe.shape[1])])\n",
    "X_test_ohe = pd.DataFrame(X_test_ohe, columns=[f\"ohe_{i}\" for i in range(X_test_ohe.shape[1])])\n",
    "\n",
    "X = pd.concat([X, X_ohe], axis=1)\n",
    "X_test = pd.concat([X_test, X_test_ohe], axis=1)\n",
    "X = X.drop(object_cols, axis=1)\n",
    "X_test = X_test.drop(object_cols, axis=1)\n",
    "    \n",
    "# Preview the one-hot-encoded features\n",
    "X.head()"
   ]
  },
  {
   "cell_type": "code",
   "execution_count": 8,
   "id": "2d1bcf65",
   "metadata": {
    "execution": {
     "iopub.execute_input": "2021-08-28T14:21:27.534414Z",
     "iopub.status.busy": "2021-08-28T14:21:27.533799Z",
     "iopub.status.idle": "2021-08-28T14:21:27.680630Z",
     "shell.execute_reply": "2021-08-28T14:21:27.680087Z",
     "shell.execute_reply.started": "2021-08-20T08:38:36.757826Z"
    },
    "papermill": {
     "duration": 0.174322,
     "end_time": "2021-08-28T14:21:27.680767",
     "exception": false,
     "start_time": "2021-08-28T14:21:27.506445",
     "status": "completed"
    },
    "tags": []
   },
   "outputs": [],
   "source": [
    "scale_features = [col for col in features.columns if 'cont' in col]\n",
    "\n",
    "ss = StandardScaler()\n",
    "X[scale_features] = ss.fit_transform(features[scale_features])\n",
    "X_test[scale_features] = ss.transform(test[scale_features])"
   ]
  },
  {
   "cell_type": "code",
   "execution_count": 9,
   "id": "df898def",
   "metadata": {
    "execution": {
     "iopub.execute_input": "2021-08-28T14:21:27.714468Z",
     "iopub.status.busy": "2021-08-28T14:21:27.713822Z",
     "iopub.status.idle": "2021-08-28T14:21:27.716752Z",
     "shell.execute_reply": "2021-08-28T14:21:27.716139Z",
     "shell.execute_reply.started": "2021-08-20T08:38:38.471996Z"
    },
    "papermill": {
     "duration": 0.022721,
     "end_time": "2021-08-28T14:21:27.716887",
     "exception": false,
     "start_time": "2021-08-28T14:21:27.694166",
     "status": "completed"
    },
    "tags": []
   },
   "outputs": [],
   "source": [
    "# Swap noise\n",
    "\n",
    "# Random\n",
    "def apply_noise_rn(df, p=.75):\n",
    "    should_not_swap = np.random.binomial(1, p, df.shape)\n",
    "    corrupted_df = df.where(should_not_swap == 1, np.random.permutation(df))\n",
    "    return corrupted_df\n",
    "\n",
    "# Row-wise\n",
    "def apply_noise_row(df, p=.75):\n",
    "    should_not_swap = np.zeros(df.shape)\n",
    "    for i in range(df.shape[0]):\n",
    "        for j in np.random.choice(df.shape[1],int(p*df.shape[1]),replace=False):\n",
    "            should_not_swap[i,j]=1 \n",
    "    corrupted_df = df.where(should_not_swap == 1, np.random.permutation(df))\n",
    "    return corrupted_df"
   ]
  },
  {
   "cell_type": "markdown",
   "id": "8230e256",
   "metadata": {
    "papermill": {
     "duration": 0.012735,
     "end_time": "2021-08-28T14:21:27.742846",
     "exception": false,
     "start_time": "2021-08-28T14:21:27.730111",
     "status": "completed"
    },
    "tags": []
   },
   "source": [
    "# Pseudo Label"
   ]
  },
  {
   "cell_type": "code",
   "execution_count": 10,
   "id": "299976ca",
   "metadata": {
    "execution": {
     "iopub.execute_input": "2021-08-28T14:21:27.773675Z",
     "iopub.status.busy": "2021-08-28T14:21:27.773067Z",
     "iopub.status.idle": "2021-08-28T14:21:28.415748Z",
     "shell.execute_reply": "2021-08-28T14:21:28.415202Z",
     "shell.execute_reply.started": "2021-08-20T08:38:38.483158Z"
    },
    "papermill": {
     "duration": 0.659994,
     "end_time": "2021-08-28T14:21:28.415883",
     "exception": false,
     "start_time": "2021-08-28T14:21:27.755889",
     "status": "completed"
    },
    "tags": []
   },
   "outputs": [],
   "source": [
    "pseudo = pd.read_csv(\"../input/30dml-pseudo2/xgb_submission_k.txt\")[target]\n",
    "train_pseudo = pd.concat([X, y], axis=1)\n",
    "test_pseudo = pd.concat([X_test, pseudo], axis=1)\n",
    "all_pseudo = pd.concat([train_pseudo, test_pseudo]).reset_index(drop=True)"
   ]
  },
  {
   "cell_type": "markdown",
   "id": "54ac5d53",
   "metadata": {
    "papermill": {
     "duration": 0.012889,
     "end_time": "2021-08-28T14:21:28.442036",
     "exception": false,
     "start_time": "2021-08-28T14:21:28.429147",
     "status": "completed"
    },
    "tags": []
   },
   "source": [
    "# Optuna"
   ]
  },
  {
   "cell_type": "code",
   "execution_count": 11,
   "id": "38857766",
   "metadata": {
    "execution": {
     "iopub.execute_input": "2021-08-28T14:21:28.471878Z",
     "iopub.status.busy": "2021-08-28T14:21:28.470978Z",
     "iopub.status.idle": "2021-08-28T14:21:36.566127Z",
     "shell.execute_reply": "2021-08-28T14:21:36.565617Z",
     "shell.execute_reply.started": "2021-08-20T08:38:38.826249Z"
    },
    "papermill": {
     "duration": 8.110891,
     "end_time": "2021-08-28T14:21:36.566280",
     "exception": false,
     "start_time": "2021-08-28T14:21:28.455389",
     "status": "completed"
    },
    "tags": []
   },
   "outputs": [
    {
     "name": "stdout",
     "output_type": "stream",
     "text": [
      "\u001b[33mWARNING: Running pip as root will break packages and permissions. You should install packages reliably by using venv: https://pip.pypa.io/warnings/venv\u001b[0m\r\n"
     ]
    }
   ],
   "source": [
    "# Optuna for parameter search\n",
    "!pip install -q optuna\n",
    "\n",
    "import optuna\n",
    "import pickle"
   ]
  },
  {
   "cell_type": "code",
   "execution_count": 12,
   "id": "79a9ecd6",
   "metadata": {
    "execution": {
     "iopub.execute_input": "2021-08-28T14:21:36.606981Z",
     "iopub.status.busy": "2021-08-28T14:21:36.606358Z",
     "iopub.status.idle": "2021-08-28T14:21:36.608954Z",
     "shell.execute_reply": "2021-08-28T14:21:36.608369Z",
     "shell.execute_reply.started": "2021-08-20T08:39:47.662891Z"
    },
    "papermill": {
     "duration": 0.028828,
     "end_time": "2021-08-28T14:21:36.609085",
     "exception": false,
     "start_time": "2021-08-28T14:21:36.580257",
     "status": "completed"
    },
    "tags": []
   },
   "outputs": [],
   "source": [
    "# for the fixed learning rate, use the opt n iterations and tune the tree hyperparameters\n",
    "def objective(trial, X=all_pseudo.iloc[:,:-1], y=all_pseudo[target]):\n",
    "  \"\"\"\n",
    "  \"\"\"\n",
    "  param_space = {\n",
    "             'bootstrap_type': trial.suggest_categorical('bootstrap_type', ['Bernoulli', 'MVS']),\n",
    "            'loss_function': 'RMSE',\n",
    "            'eval_metric': 'RMSE',\n",
    "          #'task_type': 'GPU',\n",
    "          'max_depth':trial.suggest_int('max_depth', 4, 6),\n",
    "           'learning_rate':trial.suggest_uniform('learning_rate', 1e-2, 1.01e-2),\n",
    "          'n_estimators':N_ESTIMATORS,\n",
    "        'max_bin':trial.suggest_int('max_bin', 486, 492),\n",
    "             'min_data_in_leaf':trial.suggest_int('min_data_in_leaf', 10, 12),\n",
    "         'reg_lambda':trial.suggest_uniform('reg_lambda', 0.00875, 0.00925),\n",
    "            'subsample': trial.suggest_uniform('subsample', 0.921, 0.931)\n",
    "                }\n",
    "            \n",
    "  seed_list=[SEED, SEED+1]\n",
    "  #kf = KFold(n_splits=N_SPLITS, shuffle=True, random_state=CVSEED)\n",
    "  ctb_oof = np.zeros(train.shape[0])\n",
    "  #lgb_pred = np.zeros(test.shape[0])\n",
    "  X_tr, X_va, y_tr, y_va = train_test_split(X,y,test_size=.2,random_state=CVSEED)\n",
    "  trn_idx = X_tr.index\n",
    "  val_idx = X_va.index\n",
    "  \n",
    "  #for (trn_idx, val_idx) in enumerate(kf.split(X, y)):\n",
    "  #print(f\"===== fold {fold} =====\")\n",
    "  oof_idx = np.array([idx for idx in val_idx if idx < train.shape[0]])\n",
    "  preds_idx = np.array([idx for idx in val_idx if idx >= train.shape[0]])\n",
    "\n",
    "  X_train, y_train = all_pseudo.iloc[trn_idx, :-1], all_pseudo[target].iloc[trn_idx]\n",
    "  #X_train = apply_noise_rn(X_train)\n",
    "\n",
    "  X_valid, y_valid = all_pseudo.iloc[oof_idx, :-1], all_pseudo[target].iloc[oof_idx]\n",
    "  #X_test = all_pseudo[scale_features].iloc[preds_idx]\n",
    "  \n",
    "  #start = time.time()\n",
    "  for inseed in seed_list:\n",
    "    param_space['random_seed'] = inseed\n",
    "\n",
    "    model = ctb.CatBoostRegressor(**param_space)\n",
    "    model.fit(\n",
    "        X_train, \n",
    "        y_train,\n",
    "        eval_set=[(X_valid, y_valid)],\n",
    "        use_best_model=True,\n",
    "        early_stopping_rounds=EARLY_STOPPING_ROUNDS,\n",
    "        verbose=VERBOSE\n",
    "       \n",
    "    )\n",
    "\n",
    "\n",
    "    ctb_oof[oof_idx] += model.predict(X_valid) / len(seed_list)\n",
    "    #lgb_pred[preds_idx-train.shape[0]] += model.predict(X_test) / len(seed_list)\n",
    "\n",
    "  #elapsed = time.time() - start\n",
    "  rmse = mean_squared_error(y_valid, ctb_oof[oof_idx], squared=False)\n",
    "  #print(f\"fold {fold} - lgb rmse: {rmse:.6f}, elapsed time: {elapsed:.2f}sec\\n\")            \n",
    "  \n",
    "  #print(f\"oof lgb_rmse = {mean_squared_error(train[target], lgb_oof, squared=False)}\")\n",
    "\n",
    "  \n",
    "  return rmse"
   ]
  },
  {
   "cell_type": "code",
   "execution_count": 13,
   "id": "6c697694",
   "metadata": {
    "execution": {
     "iopub.execute_input": "2021-08-28T14:21:36.641096Z",
     "iopub.status.busy": "2021-08-28T14:21:36.640220Z",
     "iopub.status.idle": "2021-08-20T08:41:22.316949Z",
     "shell.execute_reply": "2021-08-20T08:41:22.314752Z",
     "shell.execute_reply.started": "2021-08-20T08:39:47.904242Z"
    },
    "papermill": {
     "duration": null,
     "end_time": null,
     "exception": false,
     "start_time": "2021-08-28T14:21:36.622544",
     "status": "running"
    },
    "tags": []
   },
   "outputs": [
    {
     "name": "stderr",
     "output_type": "stream",
     "text": [
      "\u001b[32m[I 2021-08-28 14:21:36,638]\u001b[0m A new study created in memory with name: no-name-53559ede-0f64-4c7b-962b-cf6376db8a8e\u001b[0m\n"
     ]
    },
    {
     "name": "stdout",
     "output_type": "stream",
     "text": [
      "0:\tlearn: 0.5943287\ttest: 0.7398387\tbest: 0.7398387 (0)\ttotal: 118ms\tremaining: 39m 17s\n"
     ]
    },
    {
     "name": "stdout",
     "output_type": "stream",
     "text": [
      "1000:\tlearn: 0.5725379\ttest: 0.7227694\tbest: 0.7227694 (1000)\ttotal: 40.4s\tremaining: 12m 46s\n"
     ]
    },
    {
     "name": "stdout",
     "output_type": "stream",
     "text": [
      "2000:\tlearn: 0.5672108\ttest: 0.7189586\tbest: 0.7189586 (2000)\ttotal: 1m 19s\tremaining: 11m 58s\n"
     ]
    },
    {
     "name": "stdout",
     "output_type": "stream",
     "text": [
      "3000:\tlearn: 0.5637038\ttest: 0.7165894\tbest: 0.7165894 (3000)\ttotal: 1m 59s\tremaining: 11m 15s\n"
     ]
    },
    {
     "name": "stdout",
     "output_type": "stream",
     "text": [
      "4000:\tlearn: 0.5611924\ttest: 0.7150249\tbest: 0.7150249 (4000)\ttotal: 2m 39s\tremaining: 10m 35s\n"
     ]
    },
    {
     "name": "stdout",
     "output_type": "stream",
     "text": [
      "5000:\tlearn: 0.5592329\ttest: 0.7138757\tbest: 0.7138757 (5000)\ttotal: 3m 18s\tremaining: 9m 56s\n"
     ]
    },
    {
     "name": "stdout",
     "output_type": "stream",
     "text": [
      "6000:\tlearn: 0.5576838\ttest: 0.7130686\tbest: 0.7130686 (6000)\ttotal: 3m 58s\tremaining: 9m 16s\n"
     ]
    },
    {
     "name": "stdout",
     "output_type": "stream",
     "text": [
      "7000:\tlearn: 0.5563306\ttest: 0.7124719\tbest: 0.7124719 (7000)\ttotal: 4m 37s\tremaining: 8m 36s\n"
     ]
    },
    {
     "name": "stdout",
     "output_type": "stream",
     "text": [
      "8000:\tlearn: 0.5551373\ttest: 0.7120432\tbest: 0.7120432 (8000)\ttotal: 5m 17s\tremaining: 7m 55s\n"
     ]
    },
    {
     "name": "stdout",
     "output_type": "stream",
     "text": [
      "9000:\tlearn: 0.5540131\ttest: 0.7117086\tbest: 0.7117086 (9000)\ttotal: 5m 58s\tremaining: 7m 17s\n"
     ]
    },
    {
     "name": "stdout",
     "output_type": "stream",
     "text": [
      "10000:\tlearn: 0.5529671\ttest: 0.7114545\tbest: 0.7114545 (10000)\ttotal: 6m 37s\tremaining: 6m 37s\n"
     ]
    },
    {
     "name": "stdout",
     "output_type": "stream",
     "text": [
      "11000:\tlearn: 0.5519695\ttest: 0.7112362\tbest: 0.7112353 (10992)\ttotal: 7m 16s\tremaining: 5m 56s\n"
     ]
    },
    {
     "name": "stdout",
     "output_type": "stream",
     "text": [
      "12000:\tlearn: 0.5510200\ttest: 0.7110313\tbest: 0.7110310 (11998)\ttotal: 7m 54s\tremaining: 5m 16s\n"
     ]
    },
    {
     "name": "stdout",
     "output_type": "stream",
     "text": [
      "13000:\tlearn: 0.5500988\ttest: 0.7108659\tbest: 0.7108659 (13000)\ttotal: 8m 33s\tremaining: 4m 36s\n"
     ]
    },
    {
     "name": "stdout",
     "output_type": "stream",
     "text": [
      "14000:\tlearn: 0.5492123\ttest: 0.7107152\tbest: 0.7107149 (13999)\ttotal: 9m 12s\tremaining: 3m 56s\n"
     ]
    },
    {
     "name": "stdout",
     "output_type": "stream",
     "text": [
      "15000:\tlearn: 0.5483552\ttest: 0.7106056\tbest: 0.7106046 (14983)\ttotal: 9m 50s\tremaining: 3m 16s\n"
     ]
    },
    {
     "name": "stdout",
     "output_type": "stream",
     "text": [
      "16000:\tlearn: 0.5475060\ttest: 0.7105296\tbest: 0.7105296 (15998)\ttotal: 10m 29s\tremaining: 2m 37s\n"
     ]
    },
    {
     "name": "stdout",
     "output_type": "stream",
     "text": [
      "17000:\tlearn: 0.5466824\ttest: 0.7104727\tbest: 0.7104727 (17000)\ttotal: 11m 8s\tremaining: 1m 57s\n"
     ]
    },
    {
     "name": "stdout",
     "output_type": "stream",
     "text": [
      "Stopped by overfitting detector  (200 iterations wait)\n",
      "\n",
      "bestTest = 0.7104679865\n",
      "bestIteration = 17059\n",
      "\n",
      "Shrink model to first 17060 iterations.\n"
     ]
    },
    {
     "name": "stdout",
     "output_type": "stream",
     "text": [
      "0:\tlearn: 0.5943307\ttest: 0.7398411\tbest: 0.7398411 (0)\ttotal: 48.9ms\tremaining: 16m 17s\n"
     ]
    },
    {
     "name": "stdout",
     "output_type": "stream",
     "text": [
      "1000:\tlearn: 0.5725195\ttest: 0.7227709\tbest: 0.7227709 (1000)\ttotal: 40.1s\tremaining: 12m 40s\n"
     ]
    },
    {
     "name": "stdout",
     "output_type": "stream",
     "text": [
      "2000:\tlearn: 0.5670780\ttest: 0.7188453\tbest: 0.7188453 (2000)\ttotal: 1m 19s\tremaining: 11m 52s\n"
     ]
    },
    {
     "name": "stdout",
     "output_type": "stream",
     "text": [
      "3000:\tlearn: 0.5636248\ttest: 0.7165046\tbest: 0.7165046 (3000)\ttotal: 1m 58s\tremaining: 11m 11s\n"
     ]
    },
    {
     "name": "stdout",
     "output_type": "stream",
     "text": [
      "4000:\tlearn: 0.5611449\ttest: 0.7149788\tbest: 0.7149788 (4000)\ttotal: 2m 38s\tremaining: 10m 32s\n"
     ]
    },
    {
     "name": "stdout",
     "output_type": "stream",
     "text": [
      "5000:\tlearn: 0.5592201\ttest: 0.7138956\tbest: 0.7138956 (5000)\ttotal: 3m 17s\tremaining: 9m 52s\n"
     ]
    },
    {
     "name": "stdout",
     "output_type": "stream",
     "text": [
      "6000:\tlearn: 0.5576344\ttest: 0.7130857\tbest: 0.7130857 (6000)\ttotal: 3m 57s\tremaining: 9m 13s\n"
     ]
    },
    {
     "name": "stdout",
     "output_type": "stream",
     "text": [
      "7000:\tlearn: 0.5562759\ttest: 0.7124422\tbest: 0.7124422 (7000)\ttotal: 4m 37s\tremaining: 8m 34s\n"
     ]
    },
    {
     "name": "stdout",
     "output_type": "stream",
     "text": [
      "8000:\tlearn: 0.5550835\ttest: 0.7120245\tbest: 0.7120245 (8000)\ttotal: 5m 16s\tremaining: 7m 55s\n"
     ]
    },
    {
     "name": "stdout",
     "output_type": "stream",
     "text": [
      "9000:\tlearn: 0.5539793\ttest: 0.7116759\tbest: 0.7116759 (9000)\ttotal: 5m 56s\tremaining: 7m 15s\n"
     ]
    },
    {
     "name": "stdout",
     "output_type": "stream",
     "text": [
      "10000:\tlearn: 0.5529467\ttest: 0.7114202\tbest: 0.7114202 (10000)\ttotal: 6m 35s\tremaining: 6m 35s\n"
     ]
    },
    {
     "name": "stdout",
     "output_type": "stream",
     "text": [
      "11000:\tlearn: 0.5519484\ttest: 0.7112142\tbest: 0.7112142 (10999)\ttotal: 7m 14s\tremaining: 5m 55s\n"
     ]
    },
    {
     "name": "stdout",
     "output_type": "stream",
     "text": [
      "12000:\tlearn: 0.5509915\ttest: 0.7110544\tbest: 0.7110537 (11998)\ttotal: 7m 52s\tremaining: 5m 15s\n"
     ]
    },
    {
     "name": "stdout",
     "output_type": "stream",
     "text": [
      "13000:\tlearn: 0.5500712\ttest: 0.7109349\tbest: 0.7109347 (12999)\ttotal: 8m 31s\tremaining: 4m 35s\n"
     ]
    },
    {
     "name": "stdout",
     "output_type": "stream",
     "text": [
      "14000:\tlearn: 0.5491809\ttest: 0.7108164\tbest: 0.7108159 (13998)\ttotal: 9m 11s\tremaining: 3m 56s\n"
     ]
    },
    {
     "name": "stdout",
     "output_type": "stream",
     "text": [
      "15000:\tlearn: 0.5483162\ttest: 0.7107547\tbest: 0.7107543 (14930)\ttotal: 9m 50s\tremaining: 3m 16s\n"
     ]
    },
    {
     "name": "stdout",
     "output_type": "stream",
     "text": [
      "16000:\tlearn: 0.5474644\ttest: 0.7106921\tbest: 0.7106915 (15996)\ttotal: 10m 29s\tremaining: 2m 37s\n"
     ]
    },
    {
     "name": "stdout",
     "output_type": "stream",
     "text": [
      "17000:\tlearn: 0.5466420\ttest: 0.7106127\tbest: 0.7106112 (16995)\ttotal: 11m 7s\tremaining: 1m 57s\n"
     ]
    },
    {
     "name": "stdout",
     "output_type": "stream",
     "text": [
      "18000:\tlearn: 0.5458415\ttest: 0.7105730\tbest: 0.7105689 (17903)\ttotal: 11m 46s\tremaining: 1m 18s\n"
     ]
    },
    {
     "name": "stdout",
     "output_type": "stream",
     "text": [
      "19000:\tlearn: 0.5450471\ttest: 0.7105386\tbest: 0.7105353 (18847)\ttotal: 12m 24s\tremaining: 39.2s\n"
     ]
    },
    {
     "name": "stdout",
     "output_type": "stream",
     "text": [
      "Stopped by overfitting detector  (200 iterations wait)\n",
      "\n",
      "bestTest = 0.710535332\n",
      "bestIteration = 18847\n",
      "\n",
      "Shrink model to first 18848 iterations.\n"
     ]
    },
    {
     "name": "stderr",
     "output_type": "stream",
     "text": [
      "\u001b[32m[I 2021-08-28 14:45:30,141]\u001b[0m Trial 0 finished with value: 0.7103609183657239 and parameters: {'bootstrap_type': 'MVS', 'max_depth': 5, 'learning_rate': 0.01008526097545748, 'max_bin': 490, 'min_data_in_leaf': 11, 'reg_lambda': 0.008953653895589017, 'subsample': 0.9228073935509185}. Best is trial 0 with value: 0.7103609183657239.\u001b[0m\n"
     ]
    },
    {
     "name": "stdout",
     "output_type": "stream",
     "text": [
      "0:\tlearn: 0.5943500\ttest: 0.7398561\tbest: 0.7398561 (0)\ttotal: 35.1ms\tremaining: 11m 42s\n"
     ]
    },
    {
     "name": "stdout",
     "output_type": "stream",
     "text": [
      "1000:\tlearn: 0.5744030\ttest: 0.7241067\tbest: 0.7241067 (1000)\ttotal: 31.6s\tremaining: 9m 59s\n"
     ]
    },
    {
     "name": "stdout",
     "output_type": "stream",
     "text": [
      "2000:\tlearn: 0.5692686\ttest: 0.7203149\tbest: 0.7203149 (2000)\ttotal: 1m 2s\tremaining: 9m 17s\n"
     ]
    },
    {
     "name": "stdout",
     "output_type": "stream",
     "text": [
      "3000:\tlearn: 0.5660456\ttest: 0.7180391\tbest: 0.7180391 (3000)\ttotal: 1m 33s\tremaining: 8m 48s\n"
     ]
    },
    {
     "name": "stdout",
     "output_type": "stream",
     "text": [
      "4000:\tlearn: 0.5636463\ttest: 0.7163921\tbest: 0.7163921 (4000)\ttotal: 2m 4s\tremaining: 8m 17s\n"
     ]
    },
    {
     "name": "stdout",
     "output_type": "stream",
     "text": [
      "5000:\tlearn: 0.5617802\ttest: 0.7151698\tbest: 0.7151698 (5000)\ttotal: 2m 35s\tremaining: 7m 47s\n"
     ]
    },
    {
     "name": "stdout",
     "output_type": "stream",
     "text": [
      "6000:\tlearn: 0.5603003\ttest: 0.7142588\tbest: 0.7142588 (6000)\ttotal: 3m 7s\tremaining: 7m 16s\n"
     ]
    },
    {
     "name": "stdout",
     "output_type": "stream",
     "text": [
      "7000:\tlearn: 0.5590576\ttest: 0.7135154\tbest: 0.7135154 (7000)\ttotal: 3m 39s\tremaining: 6m 46s\n"
     ]
    },
    {
     "name": "stdout",
     "output_type": "stream",
     "text": [
      "8000:\tlearn: 0.5579980\ttest: 0.7129431\tbest: 0.7129431 (8000)\ttotal: 4m 10s\tremaining: 6m 15s\n"
     ]
    },
    {
     "name": "stdout",
     "output_type": "stream",
     "text": [
      "9000:\tlearn: 0.5570904\ttest: 0.7124904\tbest: 0.7124904 (9000)\ttotal: 4m 42s\tremaining: 5m 44s\n"
     ]
    },
    {
     "name": "stdout",
     "output_type": "stream",
     "text": [
      "10000:\tlearn: 0.5562721\ttest: 0.7121380\tbest: 0.7121380 (10000)\ttotal: 5m 13s\tremaining: 5m 13s\n"
     ]
    },
    {
     "name": "stdout",
     "output_type": "stream",
     "text": [
      "11000:\tlearn: 0.5555029\ttest: 0.7118268\tbest: 0.7118266 (10999)\ttotal: 5m 44s\tremaining: 4m 41s\n"
     ]
    },
    {
     "name": "stdout",
     "output_type": "stream",
     "text": [
      "12000:\tlearn: 0.5547971\ttest: 0.7115834\tbest: 0.7115833 (11999)\ttotal: 6m 15s\tremaining: 4m 10s\n"
     ]
    },
    {
     "name": "stdout",
     "output_type": "stream",
     "text": [
      "13000:\tlearn: 0.5541357\ttest: 0.7113637\tbest: 0.7113637 (13000)\ttotal: 6m 46s\tremaining: 3m 38s\n"
     ]
    },
    {
     "name": "stdout",
     "output_type": "stream",
     "text": [
      "14000:\tlearn: 0.5534974\ttest: 0.7111753\tbest: 0.7111753 (14000)\ttotal: 7m 17s\tremaining: 3m 7s\n"
     ]
    },
    {
     "name": "stdout",
     "output_type": "stream",
     "text": [
      "15000:\tlearn: 0.5528848\ttest: 0.7110068\tbest: 0.7110064 (14995)\ttotal: 7m 48s\tremaining: 2m 36s\n"
     ]
    },
    {
     "name": "stdout",
     "output_type": "stream",
     "text": [
      "16000:\tlearn: 0.5523048\ttest: 0.7108630\tbest: 0.7108630 (16000)\ttotal: 8m 19s\tremaining: 2m 4s\n"
     ]
    },
    {
     "name": "stdout",
     "output_type": "stream",
     "text": [
      "17000:\tlearn: 0.5517440\ttest: 0.7107432\tbest: 0.7107428 (16996)\ttotal: 8m 50s\tremaining: 1m 33s\n"
     ]
    },
    {
     "name": "stdout",
     "output_type": "stream",
     "text": [
      "18000:\tlearn: 0.5511906\ttest: 0.7106423\tbest: 0.7106411 (17989)\ttotal: 9m 20s\tremaining: 1m 2s\n"
     ]
    },
    {
     "name": "stdout",
     "output_type": "stream",
     "text": [
      "19000:\tlearn: 0.5506627\ttest: 0.7105447\tbest: 0.7105445 (18997)\ttotal: 9m 51s\tremaining: 31.1s\n"
     ]
    },
    {
     "name": "stdout",
     "output_type": "stream",
     "text": [
      "19999:\tlearn: 0.5501503\ttest: 0.7104489\tbest: 0.7104489 (19992)\ttotal: 10m 22s\tremaining: 0us\n",
      "\n",
      "bestTest = 0.7104488796\n",
      "bestIteration = 19992\n",
      "\n",
      "Shrink model to first 19993 iterations.\n"
     ]
    },
    {
     "name": "stdout",
     "output_type": "stream",
     "text": [
      "0:\tlearn: 0.5943498\ttest: 0.7398545\tbest: 0.7398545 (0)\ttotal: 36.6ms\tremaining: 12m 12s\n"
     ]
    },
    {
     "name": "stdout",
     "output_type": "stream",
     "text": [
      "1000:\tlearn: 0.5742669\ttest: 0.7239793\tbest: 0.7239793 (1000)\ttotal: 32s\tremaining: 10m 6s\n"
     ]
    },
    {
     "name": "stdout",
     "output_type": "stream",
     "text": [
      "2000:\tlearn: 0.5692792\ttest: 0.7203118\tbest: 0.7203118 (2000)\ttotal: 1m 2s\tremaining: 9m 25s\n"
     ]
    },
    {
     "name": "stdout",
     "output_type": "stream",
     "text": [
      "3000:\tlearn: 0.5660472\ttest: 0.7180204\tbest: 0.7180204 (3000)\ttotal: 1m 35s\tremaining: 9m 3s\n"
     ]
    },
    {
     "name": "stdout",
     "output_type": "stream",
     "text": [
      "4000:\tlearn: 0.5636746\ttest: 0.7164110\tbest: 0.7164110 (4000)\ttotal: 2m 7s\tremaining: 8m 28s\n"
     ]
    },
    {
     "name": "stdout",
     "output_type": "stream",
     "text": [
      "5000:\tlearn: 0.5617762\ttest: 0.7151554\tbest: 0.7151554 (5000)\ttotal: 2m 39s\tremaining: 7m 57s\n"
     ]
    },
    {
     "name": "stdout",
     "output_type": "stream",
     "text": [
      "6000:\tlearn: 0.5602945\ttest: 0.7142600\tbest: 0.7142600 (6000)\ttotal: 3m 10s\tremaining: 7m 25s\n"
     ]
    },
    {
     "name": "stdout",
     "output_type": "stream",
     "text": [
      "7000:\tlearn: 0.5590341\ttest: 0.7135396\tbest: 0.7135390 (6999)\ttotal: 3m 42s\tremaining: 6m 52s\n"
     ]
    },
    {
     "name": "stdout",
     "output_type": "stream",
     "text": [
      "8000:\tlearn: 0.5579869\ttest: 0.7129899\tbest: 0.7129899 (8000)\ttotal: 4m 14s\tremaining: 6m 21s\n"
     ]
    },
    {
     "name": "stdout",
     "output_type": "stream",
     "text": [
      "9000:\tlearn: 0.5570661\ttest: 0.7125404\tbest: 0.7125404 (9000)\ttotal: 4m 46s\tremaining: 5m 49s\n"
     ]
    },
    {
     "name": "stdout",
     "output_type": "stream",
     "text": [
      "10000:\tlearn: 0.5562280\ttest: 0.7121881\tbest: 0.7121881 (10000)\ttotal: 5m 17s\tremaining: 5m 17s\n"
     ]
    },
    {
     "name": "stdout",
     "output_type": "stream",
     "text": [
      "11000:\tlearn: 0.5554601\ttest: 0.7118729\tbest: 0.7118729 (11000)\ttotal: 5m 49s\tremaining: 4m 45s\n"
     ]
    },
    {
     "name": "stdout",
     "output_type": "stream",
     "text": [
      "12000:\tlearn: 0.5547531\ttest: 0.7116239\tbest: 0.7116236 (11998)\ttotal: 6m 21s\tremaining: 4m 13s\n"
     ]
    },
    {
     "name": "stdout",
     "output_type": "stream",
     "text": [
      "13000:\tlearn: 0.5540874\ttest: 0.7114066\tbest: 0.7114066 (13000)\ttotal: 6m 52s\tremaining: 3m 42s\n"
     ]
    },
    {
     "name": "stdout",
     "output_type": "stream",
     "text": [
      "14000:\tlearn: 0.5534456\ttest: 0.7112324\tbest: 0.7112324 (14000)\ttotal: 7m 23s\tremaining: 3m 10s\n"
     ]
    },
    {
     "name": "stdout",
     "output_type": "stream",
     "text": [
      "15000:\tlearn: 0.5528422\ttest: 0.7110877\tbest: 0.7110877 (15000)\ttotal: 7m 55s\tremaining: 2m 38s\n"
     ]
    },
    {
     "name": "stdout",
     "output_type": "stream",
     "text": [
      "16000:\tlearn: 0.5522709\ttest: 0.7109402\tbest: 0.7109402 (16000)\ttotal: 8m 26s\tremaining: 2m 6s\n"
     ]
    },
    {
     "name": "stdout",
     "output_type": "stream",
     "text": [
      "17000:\tlearn: 0.5517068\ttest: 0.7108215\tbest: 0.7108215 (17000)\ttotal: 8m 57s\tremaining: 1m 34s\n"
     ]
    },
    {
     "name": "stdout",
     "output_type": "stream",
     "text": [
      "18000:\tlearn: 0.5511591\ttest: 0.7107199\tbest: 0.7107199 (18000)\ttotal: 9m 28s\tremaining: 1m 3s\n"
     ]
    },
    {
     "name": "stdout",
     "output_type": "stream",
     "text": [
      "19000:\tlearn: 0.5506327\ttest: 0.7106364\tbest: 0.7106362 (18999)\ttotal: 9m 59s\tremaining: 31.5s\n"
     ]
    },
    {
     "name": "stdout",
     "output_type": "stream",
     "text": [
      "19999:\tlearn: 0.5501169\ttest: 0.7105487\tbest: 0.7105478 (19993)\ttotal: 10m 30s\tremaining: 0us\n",
      "\n",
      "bestTest = 0.7105477981\n",
      "bestIteration = 19993\n",
      "\n",
      "Shrink model to first 19994 iterations.\n"
     ]
    },
    {
     "name": "stderr",
     "output_type": "stream",
     "text": [
      "\u001b[32m[I 2021-08-28 15:06:32,623]\u001b[0m Trial 1 finished with value: 0.7104065463073196 and parameters: {'bootstrap_type': 'Bernoulli', 'max_depth': 4, 'learning_rate': 0.010040090568081795, 'max_bin': 486, 'min_data_in_leaf': 12, 'reg_lambda': 0.009077366762172414, 'subsample': 0.928024122873812}. Best is trial 0 with value: 0.7103609183657239.\u001b[0m\n"
     ]
    },
    {
     "name": "stdout",
     "output_type": "stream",
     "text": [
      "0:\tlearn: 0.5943290\ttest: 0.7398389\tbest: 0.7398389 (0)\ttotal: 49.7ms\tremaining: 16m 33s\n"
     ]
    },
    {
     "name": "stdout",
     "output_type": "stream",
     "text": [
      "1000:\tlearn: 0.5726146\ttest: 0.7228226\tbest: 0.7228226 (1000)\ttotal: 41s\tremaining: 12m 57s\n"
     ]
    },
    {
     "name": "stdout",
     "output_type": "stream",
     "text": [
      "2000:\tlearn: 0.5672113\ttest: 0.7189367\tbest: 0.7189367 (2000)\ttotal: 1m 20s\tremaining: 12m 7s\n"
     ]
    },
    {
     "name": "stdout",
     "output_type": "stream",
     "text": [
      "3000:\tlearn: 0.5637941\ttest: 0.7166531\tbest: 0.7166531 (3000)\ttotal: 2m\tremaining: 11m 24s\n"
     ]
    },
    {
     "name": "stdout",
     "output_type": "stream",
     "text": [
      "4000:\tlearn: 0.5612621\ttest: 0.7150850\tbest: 0.7150849 (3999)\ttotal: 2m 41s\tremaining: 10m 44s\n"
     ]
    },
    {
     "name": "stdout",
     "output_type": "stream",
     "text": [
      "5000:\tlearn: 0.5592755\ttest: 0.7139046\tbest: 0.7139046 (5000)\ttotal: 3m 21s\tremaining: 10m 5s\n"
     ]
    },
    {
     "name": "stdout",
     "output_type": "stream",
     "text": [
      "6000:\tlearn: 0.5577192\ttest: 0.7130972\tbest: 0.7130972 (6000)\ttotal: 4m 2s\tremaining: 9m 25s\n"
     ]
    },
    {
     "name": "stdout",
     "output_type": "stream",
     "text": [
      "7000:\tlearn: 0.5563731\ttest: 0.7125207\tbest: 0.7125205 (6998)\ttotal: 4m 42s\tremaining: 8m 44s\n"
     ]
    },
    {
     "name": "stdout",
     "output_type": "stream",
     "text": [
      "8000:\tlearn: 0.5551652\ttest: 0.7120839\tbest: 0.7120839 (8000)\ttotal: 5m 22s\tremaining: 8m 3s\n"
     ]
    },
    {
     "name": "stdout",
     "output_type": "stream",
     "text": [
      "9000:\tlearn: 0.5540510\ttest: 0.7117033\tbest: 0.7117033 (9000)\ttotal: 6m 2s\tremaining: 7m 23s\n"
     ]
    },
    {
     "name": "stdout",
     "output_type": "stream",
     "text": [
      "10000:\tlearn: 0.5530009\ttest: 0.7114277\tbest: 0.7114277 (10000)\ttotal: 6m 43s\tremaining: 6m 43s\n"
     ]
    },
    {
     "name": "stdout",
     "output_type": "stream",
     "text": [
      "11000:\tlearn: 0.5520043\ttest: 0.7111956\tbest: 0.7111955 (10999)\ttotal: 7m 22s\tremaining: 6m 2s\n"
     ]
    },
    {
     "name": "stdout",
     "output_type": "stream",
     "text": [
      "12000:\tlearn: 0.5510465\ttest: 0.7110033\tbest: 0.7110030 (11999)\ttotal: 8m 2s\tremaining: 5m 21s\n"
     ]
    },
    {
     "name": "stdout",
     "output_type": "stream",
     "text": [
      "13000:\tlearn: 0.5501346\ttest: 0.7108443\tbest: 0.7108428 (12988)\ttotal: 8m 41s\tremaining: 4m 40s\n"
     ]
    },
    {
     "name": "stdout",
     "output_type": "stream",
     "text": [
      "14000:\tlearn: 0.5492442\ttest: 0.7107213\tbest: 0.7107206 (13992)\ttotal: 9m 20s\tremaining: 4m\n"
     ]
    },
    {
     "name": "stdout",
     "output_type": "stream",
     "text": [
      "15000:\tlearn: 0.5483841\ttest: 0.7106180\tbest: 0.7106178 (14999)\ttotal: 9m 59s\tremaining: 3m 19s\n"
     ]
    },
    {
     "name": "stdout",
     "output_type": "stream",
     "text": [
      "16000:\tlearn: 0.5475426\ttest: 0.7105353\tbest: 0.7105346 (15995)\ttotal: 10m 38s\tremaining: 2m 39s\n"
     ]
    },
    {
     "name": "stdout",
     "output_type": "stream",
     "text": [
      "17000:\tlearn: 0.5467188\ttest: 0.7104692\tbest: 0.7104688 (16998)\ttotal: 11m 17s\tremaining: 1m 59s\n"
     ]
    },
    {
     "name": "stdout",
     "output_type": "stream",
     "text": [
      "18000:\tlearn: 0.5459099\ttest: 0.7104206\tbest: 0.7104202 (17993)\ttotal: 11m 56s\tremaining: 1m 19s\n"
     ]
    },
    {
     "name": "stdout",
     "output_type": "stream",
     "text": [
      "19000:\tlearn: 0.5451128\ttest: 0.7103740\tbest: 0.7103735 (18998)\ttotal: 12m 35s\tremaining: 39.7s\n"
     ]
    },
    {
     "name": "stdout",
     "output_type": "stream",
     "text": [
      "19999:\tlearn: 0.5443342\ttest: 0.7103333\tbest: 0.7103333 (19999)\ttotal: 13m 14s\tremaining: 0us\n",
      "\n",
      "bestTest = 0.7103332729\n",
      "bestIteration = 19999\n",
      "\n"
     ]
    },
    {
     "name": "stdout",
     "output_type": "stream",
     "text": [
      "0:\tlearn: 0.5943317\ttest: 0.7398420\tbest: 0.7398420 (0)\ttotal: 46.4ms\tremaining: 15m 28s\n"
     ]
    },
    {
     "name": "stdout",
     "output_type": "stream",
     "text": [
      "1000:\tlearn: 0.5725601\ttest: 0.7227932\tbest: 0.7227932 (1000)\ttotal: 40.8s\tremaining: 12m 53s\n"
     ]
    },
    {
     "name": "stdout",
     "output_type": "stream",
     "text": [
      "2000:\tlearn: 0.5671784\ttest: 0.7189402\tbest: 0.7189402 (2000)\ttotal: 1m 20s\tremaining: 12m 5s\n"
     ]
    },
    {
     "name": "stdout",
     "output_type": "stream",
     "text": [
      "3000:\tlearn: 0.5637154\ttest: 0.7166053\tbest: 0.7166053 (3000)\ttotal: 2m\tremaining: 11m 21s\n"
     ]
    },
    {
     "name": "stdout",
     "output_type": "stream",
     "text": [
      "4000:\tlearn: 0.5612098\ttest: 0.7150631\tbest: 0.7150631 (4000)\ttotal: 2m 40s\tremaining: 10m 43s\n"
     ]
    },
    {
     "name": "stdout",
     "output_type": "stream",
     "text": [
      "5000:\tlearn: 0.5592681\ttest: 0.7139458\tbest: 0.7139458 (5000)\ttotal: 3m 21s\tremaining: 10m 4s\n"
     ]
    },
    {
     "name": "stdout",
     "output_type": "stream",
     "text": [
      "6000:\tlearn: 0.5577047\ttest: 0.7131593\tbest: 0.7131593 (6000)\ttotal: 4m 2s\tremaining: 9m 26s\n"
     ]
    },
    {
     "name": "stdout",
     "output_type": "stream",
     "text": [
      "7000:\tlearn: 0.5563592\ttest: 0.7125271\tbest: 0.7125271 (7000)\ttotal: 4m 45s\tremaining: 8m 50s\n"
     ]
    },
    {
     "name": "stdout",
     "output_type": "stream",
     "text": [
      "8000:\tlearn: 0.5551584\ttest: 0.7120592\tbest: 0.7120592 (8000)\ttotal: 5m 26s\tremaining: 8m 9s\n"
     ]
    },
    {
     "name": "stdout",
     "output_type": "stream",
     "text": [
      "9000:\tlearn: 0.5540761\ttest: 0.7117386\tbest: 0.7117386 (9000)\ttotal: 6m 7s\tremaining: 7m 28s\n"
     ]
    },
    {
     "name": "stdout",
     "output_type": "stream",
     "text": [
      "10000:\tlearn: 0.5530319\ttest: 0.7114723\tbest: 0.7114723 (10000)\ttotal: 6m 47s\tremaining: 6m 47s\n"
     ]
    },
    {
     "name": "stdout",
     "output_type": "stream",
     "text": [
      "11000:\tlearn: 0.5520279\ttest: 0.7112666\tbest: 0.7112662 (10996)\ttotal: 7m 26s\tremaining: 6m 5s\n"
     ]
    },
    {
     "name": "stdout",
     "output_type": "stream",
     "text": [
      "12000:\tlearn: 0.5510655\ttest: 0.7111308\tbest: 0.7111308 (12000)\ttotal: 8m 7s\tremaining: 5m 24s\n"
     ]
    },
    {
     "name": "stdout",
     "output_type": "stream",
     "text": [
      "13000:\tlearn: 0.5501545\ttest: 0.7110050\tbest: 0.7110050 (13000)\ttotal: 8m 46s\tremaining: 4m 43s\n"
     ]
    },
    {
     "name": "stdout",
     "output_type": "stream",
     "text": [
      "14000:\tlearn: 0.5492748\ttest: 0.7109114\tbest: 0.7109114 (13999)\ttotal: 9m 27s\tremaining: 4m 3s\n"
     ]
    },
    {
     "name": "stdout",
     "output_type": "stream",
     "text": [
      "15000:\tlearn: 0.5484050\ttest: 0.7108312\tbest: 0.7108312 (15000)\ttotal: 10m 6s\tremaining: 3m 22s\n"
     ]
    },
    {
     "name": "stdout",
     "output_type": "stream",
     "text": [
      "16000:\tlearn: 0.5475570\ttest: 0.7107631\tbest: 0.7107627 (15998)\ttotal: 10m 46s\tremaining: 2m 41s\n"
     ]
    },
    {
     "name": "stdout",
     "output_type": "stream",
     "text": [
      "17000:\tlearn: 0.5467300\ttest: 0.7107063\tbest: 0.7107054 (16979)\ttotal: 11m 25s\tremaining: 2m\n"
     ]
    },
    {
     "name": "stdout",
     "output_type": "stream",
     "text": [
      "18000:\tlearn: 0.5459183\ttest: 0.7106340\tbest: 0.7106340 (18000)\ttotal: 12m 5s\tremaining: 1m 20s\n"
     ]
    },
    {
     "name": "stdout",
     "output_type": "stream",
     "text": [
      "19000:\tlearn: 0.5451223\ttest: 0.7105722\tbest: 0.7105722 (19000)\ttotal: 12m 45s\tremaining: 40.3s\n"
     ]
    },
    {
     "name": "stdout",
     "output_type": "stream",
     "text": [
      "19999:\tlearn: 0.5443405\ttest: 0.7105486\tbest: 0.7105485 (19973)\ttotal: 13m 26s\tremaining: 0us\n",
      "\n",
      "bestTest = 0.7105484986\n",
      "bestIteration = 19973\n",
      "\n",
      "Shrink model to first 19974 iterations.\n"
     ]
    },
    {
     "name": "stderr",
     "output_type": "stream",
     "text": [
      "\u001b[32m[I 2021-08-28 15:33:23,402]\u001b[0m Trial 2 finished with value: 0.7102901585412287 and parameters: {'bootstrap_type': 'MVS', 'max_depth': 5, 'learning_rate': 0.010033818558762276, 'max_bin': 488, 'min_data_in_leaf': 10, 'reg_lambda': 0.008776444104559203, 'subsample': 0.9291946659024727}. Best is trial 2 with value: 0.7102901585412287.\u001b[0m\n"
     ]
    },
    {
     "name": "stdout",
     "output_type": "stream",
     "text": [
      "0:\tlearn: 0.5943287\ttest: 0.7398388\tbest: 0.7398388 (0)\ttotal: 50.4ms\tremaining: 16m 47s\n"
     ]
    },
    {
     "name": "stdout",
     "output_type": "stream",
     "text": [
      "1000:\tlearn: 0.5725807\ttest: 0.7227893\tbest: 0.7227893 (1000)\ttotal: 41.3s\tremaining: 13m 4s\n"
     ]
    },
    {
     "name": "stdout",
     "output_type": "stream",
     "text": [
      "2000:\tlearn: 0.5671971\ttest: 0.7189354\tbest: 0.7189354 (2000)\ttotal: 1m 21s\tremaining: 12m 12s\n"
     ]
    },
    {
     "name": "stdout",
     "output_type": "stream",
     "text": [
      "3000:\tlearn: 0.5637261\ttest: 0.7166042\tbest: 0.7166042 (3000)\ttotal: 2m 2s\tremaining: 11m 32s\n"
     ]
    },
    {
     "name": "stdout",
     "output_type": "stream",
     "text": [
      "4000:\tlearn: 0.5612042\ttest: 0.7150313\tbest: 0.7150313 (4000)\ttotal: 2m 42s\tremaining: 10m 50s\n"
     ]
    },
    {
     "name": "stdout",
     "output_type": "stream",
     "text": [
      "5000:\tlearn: 0.5592641\ttest: 0.7139036\tbest: 0.7139036 (5000)\ttotal: 3m 23s\tremaining: 10m 8s\n"
     ]
    },
    {
     "name": "stdout",
     "output_type": "stream",
     "text": [
      "6000:\tlearn: 0.5576948\ttest: 0.7130926\tbest: 0.7130926 (6000)\ttotal: 4m 3s\tremaining: 9m 28s\n"
     ]
    },
    {
     "name": "stdout",
     "output_type": "stream",
     "text": [
      "7000:\tlearn: 0.5563473\ttest: 0.7125105\tbest: 0.7125105 (7000)\ttotal: 4m 44s\tremaining: 8m 48s\n"
     ]
    },
    {
     "name": "stdout",
     "output_type": "stream",
     "text": [
      "8000:\tlearn: 0.5551408\ttest: 0.7120622\tbest: 0.7120622 (8000)\ttotal: 5m 24s\tremaining: 8m 6s\n"
     ]
    },
    {
     "name": "stdout",
     "output_type": "stream",
     "text": [
      "9000:\tlearn: 0.5540259\ttest: 0.7117107\tbest: 0.7117107 (8999)\ttotal: 6m 4s\tremaining: 7m 25s\n"
     ]
    },
    {
     "name": "stdout",
     "output_type": "stream",
     "text": [
      "10000:\tlearn: 0.5529773\ttest: 0.7114370\tbest: 0.7114370 (10000)\ttotal: 6m 44s\tremaining: 6m 44s\n"
     ]
    },
    {
     "name": "stdout",
     "output_type": "stream",
     "text": [
      "11000:\tlearn: 0.5519926\ttest: 0.7112195\tbest: 0.7112195 (11000)\ttotal: 7m 23s\tremaining: 6m 3s\n"
     ]
    },
    {
     "name": "stdout",
     "output_type": "stream",
     "text": [
      "12000:\tlearn: 0.5510337\ttest: 0.7110179\tbest: 0.7110179 (12000)\ttotal: 8m 3s\tremaining: 5m 22s\n"
     ]
    },
    {
     "name": "stdout",
     "output_type": "stream",
     "text": [
      "13000:\tlearn: 0.5501071\ttest: 0.7108517\tbest: 0.7108517 (13000)\ttotal: 8m 43s\tremaining: 4m 41s\n"
     ]
    },
    {
     "name": "stdout",
     "output_type": "stream",
     "text": [
      "14000:\tlearn: 0.5492118\ttest: 0.7107226\tbest: 0.7107226 (14000)\ttotal: 9m 23s\tremaining: 4m 1s\n"
     ]
    },
    {
     "name": "stdout",
     "output_type": "stream",
     "text": [
      "15000:\tlearn: 0.5483535\ttest: 0.7106311\tbest: 0.7106304 (14999)\ttotal: 10m 2s\tremaining: 3m 20s\n"
     ]
    },
    {
     "name": "stdout",
     "output_type": "stream",
     "text": [
      "16000:\tlearn: 0.5475105\ttest: 0.7105493\tbest: 0.7105487 (15952)\ttotal: 10m 42s\tremaining: 2m 40s\n"
     ]
    },
    {
     "name": "stdout",
     "output_type": "stream",
     "text": [
      "17000:\tlearn: 0.5466765\ttest: 0.7104835\tbest: 0.7104811 (16990)\ttotal: 11m 22s\tremaining: 2m\n"
     ]
    },
    {
     "name": "stdout",
     "output_type": "stream",
     "text": [
      "18000:\tlearn: 0.5458633\ttest: 0.7104258\tbest: 0.7104237 (17969)\ttotal: 12m 1s\tremaining: 1m 20s\n"
     ]
    },
    {
     "name": "stdout",
     "output_type": "stream",
     "text": [
      "19000:\tlearn: 0.5450672\ttest: 0.7103683\tbest: 0.7103676 (18985)\ttotal: 12m 41s\tremaining: 40s\n"
     ]
    },
    {
     "name": "stdout",
     "output_type": "stream",
     "text": [
      "19999:\tlearn: 0.5442842\ttest: 0.7103208\tbest: 0.7103200 (19990)\ttotal: 13m 20s\tremaining: 0us\n",
      "\n",
      "bestTest = 0.7103199716\n",
      "bestIteration = 19990\n",
      "\n",
      "Shrink model to first 19991 iterations.\n"
     ]
    },
    {
     "name": "stdout",
     "output_type": "stream",
     "text": [
      "0:\tlearn: 0.5943309\ttest: 0.7398413\tbest: 0.7398413 (0)\ttotal: 46.9ms\tremaining: 15m 36s\n"
     ]
    },
    {
     "name": "stdout",
     "output_type": "stream",
     "text": [
      "1000:\tlearn: 0.5725145\ttest: 0.7227636\tbest: 0.7227636 (1000)\ttotal: 40.8s\tremaining: 12m 54s\n"
     ]
    },
    {
     "name": "stdout",
     "output_type": "stream",
     "text": [
      "2000:\tlearn: 0.5670815\ttest: 0.7188564\tbest: 0.7188564 (2000)\ttotal: 1m 20s\tremaining: 12m 3s\n"
     ]
    },
    {
     "name": "stdout",
     "output_type": "stream",
     "text": [
      "3000:\tlearn: 0.5636707\ttest: 0.7165557\tbest: 0.7165557 (3000)\ttotal: 2m\tremaining: 11m 23s\n"
     ]
    },
    {
     "name": "stdout",
     "output_type": "stream",
     "text": [
      "4000:\tlearn: 0.5611692\ttest: 0.7150062\tbest: 0.7150062 (4000)\ttotal: 2m 40s\tremaining: 10m 43s\n"
     ]
    },
    {
     "name": "stdout",
     "output_type": "stream",
     "text": [
      "5000:\tlearn: 0.5592350\ttest: 0.7139151\tbest: 0.7139151 (5000)\ttotal: 3m 20s\tremaining: 10m 2s\n"
     ]
    },
    {
     "name": "stdout",
     "output_type": "stream",
     "text": [
      "6000:\tlearn: 0.5576694\ttest: 0.7131129\tbest: 0.7131129 (6000)\ttotal: 4m\tremaining: 9m 21s\n"
     ]
    },
    {
     "name": "stdout",
     "output_type": "stream",
     "text": [
      "7000:\tlearn: 0.5563097\ttest: 0.7124945\tbest: 0.7124945 (7000)\ttotal: 4m 41s\tremaining: 8m 41s\n"
     ]
    },
    {
     "name": "stdout",
     "output_type": "stream",
     "text": [
      "8000:\tlearn: 0.5551096\ttest: 0.7120316\tbest: 0.7120316 (8000)\ttotal: 5m 21s\tremaining: 8m 1s\n"
     ]
    },
    {
     "name": "stdout",
     "output_type": "stream",
     "text": [
      "9000:\tlearn: 0.5539959\ttest: 0.7116834\tbest: 0.7116834 (9000)\ttotal: 6m\tremaining: 7m 20s\n"
     ]
    },
    {
     "name": "stdout",
     "output_type": "stream",
     "text": [
      "10000:\tlearn: 0.5529567\ttest: 0.7114231\tbest: 0.7114231 (10000)\ttotal: 6m 40s\tremaining: 6m 40s\n"
     ]
    },
    {
     "name": "stdout",
     "output_type": "stream",
     "text": [
      "11000:\tlearn: 0.5519536\ttest: 0.7112002\tbest: 0.7112002 (10993)\ttotal: 7m 19s\tremaining: 5m 59s\n"
     ]
    },
    {
     "name": "stdout",
     "output_type": "stream",
     "text": [
      "12000:\tlearn: 0.5510039\ttest: 0.7110399\tbest: 0.7110395 (11999)\ttotal: 7m 58s\tremaining: 5m 18s\n"
     ]
    },
    {
     "name": "stdout",
     "output_type": "stream",
     "text": [
      "13000:\tlearn: 0.5500872\ttest: 0.7109202\tbest: 0.7109197 (12999)\ttotal: 8m 37s\tremaining: 4m 38s\n"
     ]
    },
    {
     "name": "stdout",
     "output_type": "stream",
     "text": [
      "14000:\tlearn: 0.5491962\ttest: 0.7108328\tbest: 0.7108322 (13992)\ttotal: 9m 16s\tremaining: 3m 58s\n"
     ]
    },
    {
     "name": "stdout",
     "output_type": "stream",
     "text": [
      "15000:\tlearn: 0.5483175\ttest: 0.7107412\tbest: 0.7107409 (14998)\ttotal: 9m 55s\tremaining: 3m 18s\n"
     ]
    },
    {
     "name": "stdout",
     "output_type": "stream",
     "text": [
      "16000:\tlearn: 0.5474645\ttest: 0.7106693\tbest: 0.7106692 (15998)\ttotal: 10m 35s\tremaining: 2m 38s\n"
     ]
    },
    {
     "name": "stdout",
     "output_type": "stream",
     "text": [
      "17000:\tlearn: 0.5466384\ttest: 0.7106046\tbest: 0.7106040 (16995)\ttotal: 11m 14s\tremaining: 1m 59s\n"
     ]
    },
    {
     "name": "stdout",
     "output_type": "stream",
     "text": [
      "18000:\tlearn: 0.5458281\ttest: 0.7105401\tbest: 0.7105399 (17998)\ttotal: 11m 54s\tremaining: 1m 19s\n"
     ]
    },
    {
     "name": "stdout",
     "output_type": "stream",
     "text": [
      "19000:\tlearn: 0.5450344\ttest: 0.7104815\tbest: 0.7104809 (18992)\ttotal: 12m 33s\tremaining: 39.6s\n"
     ]
    },
    {
     "name": "stdout",
     "output_type": "stream",
     "text": [
      "Stopped by overfitting detector  (200 iterations wait)\n",
      "\n",
      "bestTest = 0.7104771706\n",
      "bestIteration = 19084\n",
      "\n",
      "Shrink model to first 19085 iterations.\n"
     ]
    },
    {
     "name": "stderr",
     "output_type": "stream",
     "text": [
      "\u001b[32m[I 2021-08-28 15:59:38,382]\u001b[0m Trial 3 finished with value: 0.7102495930615063 and parameters: {'bootstrap_type': 'MVS', 'max_depth': 5, 'learning_rate': 0.010080823349473205, 'max_bin': 491, 'min_data_in_leaf': 11, 'reg_lambda': 0.009078839855442541, 'subsample': 0.9277733844076875}. Best is trial 3 with value: 0.7102495930615063.\u001b[0m\n"
     ]
    },
    {
     "name": "stdout",
     "output_type": "stream",
     "text": [
      "0:\tlearn: 0.5943499\ttest: 0.7398541\tbest: 0.7398541 (0)\ttotal: 41.6ms\tremaining: 13m 52s\n"
     ]
    },
    {
     "name": "stdout",
     "output_type": "stream",
     "text": [
      "1000:\tlearn: 0.5742780\ttest: 0.7239911\tbest: 0.7239911 (1000)\ttotal: 35.8s\tremaining: 11m 19s\n"
     ]
    },
    {
     "name": "stdout",
     "output_type": "stream",
     "text": [
      "2000:\tlearn: 0.5692098\ttest: 0.7202821\tbest: 0.7202821 (2000)\ttotal: 1m 10s\tremaining: 10m 35s\n"
     ]
    },
    {
     "name": "stdout",
     "output_type": "stream",
     "text": [
      "3000:\tlearn: 0.5659188\ttest: 0.7179477\tbest: 0.7179477 (3000)\ttotal: 1m 47s\tremaining: 10m 10s\n"
     ]
    },
    {
     "name": "stdout",
     "output_type": "stream",
     "text": [
      "4000:\tlearn: 0.5635556\ttest: 0.7163477\tbest: 0.7163477 (4000)\ttotal: 2m 22s\tremaining: 9m 31s\n"
     ]
    },
    {
     "name": "stdout",
     "output_type": "stream",
     "text": [
      "5000:\tlearn: 0.5616772\ttest: 0.7151212\tbest: 0.7151212 (5000)\ttotal: 2m 58s\tremaining: 8m 54s\n"
     ]
    },
    {
     "name": "stdout",
     "output_type": "stream",
     "text": [
      "6000:\tlearn: 0.5601691\ttest: 0.7141806\tbest: 0.7141806 (6000)\ttotal: 3m 33s\tremaining: 8m 18s\n"
     ]
    },
    {
     "name": "stdout",
     "output_type": "stream",
     "text": [
      "7000:\tlearn: 0.5589076\ttest: 0.7134333\tbest: 0.7134333 (7000)\ttotal: 4m 8s\tremaining: 7m 42s\n"
     ]
    },
    {
     "name": "stdout",
     "output_type": "stream",
     "text": [
      "8000:\tlearn: 0.5578636\ttest: 0.7128634\tbest: 0.7128634 (8000)\ttotal: 4m 44s\tremaining: 7m 5s\n"
     ]
    },
    {
     "name": "stdout",
     "output_type": "stream",
     "text": [
      "9000:\tlearn: 0.5569695\ttest: 0.7124384\tbest: 0.7124384 (9000)\ttotal: 5m 19s\tremaining: 6m 29s\n"
     ]
    },
    {
     "name": "stdout",
     "output_type": "stream",
     "text": [
      "10000:\tlearn: 0.5561505\ttest: 0.7120678\tbest: 0.7120678 (10000)\ttotal: 5m 54s\tremaining: 5m 54s\n"
     ]
    },
    {
     "name": "stdout",
     "output_type": "stream",
     "text": [
      "11000:\tlearn: 0.5553935\ttest: 0.7117757\tbest: 0.7117755 (10999)\ttotal: 6m 29s\tremaining: 5m 18s\n"
     ]
    },
    {
     "name": "stdout",
     "output_type": "stream",
     "text": [
      "12000:\tlearn: 0.5546770\ttest: 0.7115095\tbest: 0.7115095 (12000)\ttotal: 7m 3s\tremaining: 4m 42s\n"
     ]
    },
    {
     "name": "stdout",
     "output_type": "stream",
     "text": [
      "13000:\tlearn: 0.5540078\ttest: 0.7113134\tbest: 0.7113134 (13000)\ttotal: 7m 37s\tremaining: 4m 6s\n"
     ]
    },
    {
     "name": "stdout",
     "output_type": "stream",
     "text": [
      "14000:\tlearn: 0.5533711\ttest: 0.7111247\tbest: 0.7111247 (13991)\ttotal: 8m 12s\tremaining: 3m 30s\n"
     ]
    },
    {
     "name": "stdout",
     "output_type": "stream",
     "text": [
      "15000:\tlearn: 0.5527556\ttest: 0.7109631\tbest: 0.7109631 (15000)\ttotal: 8m 47s\tremaining: 2m 55s\n"
     ]
    },
    {
     "name": "stdout",
     "output_type": "stream",
     "text": [
      "16000:\tlearn: 0.5521725\ttest: 0.7108352\tbest: 0.7108350 (15986)\ttotal: 9m 22s\tremaining: 2m 20s\n"
     ]
    },
    {
     "name": "stdout",
     "output_type": "stream",
     "text": [
      "17000:\tlearn: 0.5516003\ttest: 0.7107057\tbest: 0.7107057 (16999)\ttotal: 9m 56s\tremaining: 1m 45s\n"
     ]
    },
    {
     "name": "stdout",
     "output_type": "stream",
     "text": [
      "18000:\tlearn: 0.5510495\ttest: 0.7105889\tbest: 0.7105889 (18000)\ttotal: 10m 31s\tremaining: 1m 10s\n"
     ]
    },
    {
     "name": "stdout",
     "output_type": "stream",
     "text": [
      "19000:\tlearn: 0.5505257\ttest: 0.7105081\tbest: 0.7105081 (19000)\ttotal: 11m 5s\tremaining: 35s\n"
     ]
    },
    {
     "name": "stdout",
     "output_type": "stream",
     "text": [
      "19999:\tlearn: 0.5500050\ttest: 0.7104219\tbest: 0.7104215 (19987)\ttotal: 11m 39s\tremaining: 0us\n",
      "\n",
      "bestTest = 0.7104215315\n",
      "bestIteration = 19987\n",
      "\n",
      "Shrink model to first 19988 iterations.\n"
     ]
    },
    {
     "name": "stdout",
     "output_type": "stream",
     "text": [
      "0:\tlearn: 0.5943515\ttest: 0.7398561\tbest: 0.7398561 (0)\ttotal: 42.1ms\tremaining: 14m 2s\n"
     ]
    },
    {
     "name": "stdout",
     "output_type": "stream",
     "text": [
      "1000:\tlearn: 0.5743065\ttest: 0.7240470\tbest: 0.7240470 (1000)\ttotal: 35.8s\tremaining: 11m 19s\n"
     ]
    },
    {
     "name": "stdout",
     "output_type": "stream",
     "text": [
      "2000:\tlearn: 0.5691429\ttest: 0.7202321\tbest: 0.7202321 (2000)\ttotal: 1m 10s\tremaining: 10m 32s\n"
     ]
    },
    {
     "name": "stdout",
     "output_type": "stream",
     "text": [
      "3000:\tlearn: 0.5659777\ttest: 0.7180102\tbest: 0.7180102 (3000)\ttotal: 1m 44s\tremaining: 9m 53s\n"
     ]
    },
    {
     "name": "stdout",
     "output_type": "stream",
     "text": [
      "4000:\tlearn: 0.5636153\ttest: 0.7164065\tbest: 0.7164065 (4000)\ttotal: 2m 19s\tremaining: 9m 18s\n"
     ]
    },
    {
     "name": "stdout",
     "output_type": "stream",
     "text": [
      "5000:\tlearn: 0.5617323\ttest: 0.7151664\tbest: 0.7151664 (5000)\ttotal: 2m 54s\tremaining: 8m 43s\n"
     ]
    },
    {
     "name": "stdout",
     "output_type": "stream",
     "text": [
      "6000:\tlearn: 0.5601929\ttest: 0.7142172\tbest: 0.7142172 (6000)\ttotal: 3m 29s\tremaining: 8m 8s\n"
     ]
    },
    {
     "name": "stdout",
     "output_type": "stream",
     "text": [
      "7000:\tlearn: 0.5589181\ttest: 0.7134499\tbest: 0.7134499 (7000)\ttotal: 4m 4s\tremaining: 7m 34s\n"
     ]
    },
    {
     "name": "stdout",
     "output_type": "stream",
     "text": [
      "8000:\tlearn: 0.5578780\ttest: 0.7128841\tbest: 0.7128841 (8000)\ttotal: 4m 39s\tremaining: 6m 59s\n"
     ]
    },
    {
     "name": "stdout",
     "output_type": "stream",
     "text": [
      "9000:\tlearn: 0.5569524\ttest: 0.7124426\tbest: 0.7124426 (9000)\ttotal: 5m 14s\tremaining: 6m 24s\n"
     ]
    },
    {
     "name": "stdout",
     "output_type": "stream",
     "text": [
      "10000:\tlearn: 0.5561191\ttest: 0.7120993\tbest: 0.7120991 (9999)\ttotal: 5m 49s\tremaining: 5m 49s\n"
     ]
    },
    {
     "name": "stdout",
     "output_type": "stream",
     "text": [
      "11000:\tlearn: 0.5553581\ttest: 0.7118241\tbest: 0.7118241 (11000)\ttotal: 6m 24s\tremaining: 5m 14s\n"
     ]
    },
    {
     "name": "stdout",
     "output_type": "stream",
     "text": [
      "12000:\tlearn: 0.5546409\ttest: 0.7115697\tbest: 0.7115697 (12000)\ttotal: 6m 58s\tremaining: 4m 39s\n"
     ]
    },
    {
     "name": "stdout",
     "output_type": "stream",
     "text": [
      "13000:\tlearn: 0.5539674\ttest: 0.7113530\tbest: 0.7113528 (12998)\ttotal: 7m 32s\tremaining: 4m 3s\n"
     ]
    },
    {
     "name": "stdout",
     "output_type": "stream",
     "text": [
      "14000:\tlearn: 0.5533358\ttest: 0.7111780\tbest: 0.7111780 (13999)\ttotal: 8m 6s\tremaining: 3m 28s\n"
     ]
    },
    {
     "name": "stdout",
     "output_type": "stream",
     "text": [
      "15000:\tlearn: 0.5527280\ttest: 0.7110329\tbest: 0.7110329 (15000)\ttotal: 8m 41s\tremaining: 2m 53s\n"
     ]
    },
    {
     "name": "stdout",
     "output_type": "stream",
     "text": [
      "16000:\tlearn: 0.5521452\ttest: 0.7109140\tbest: 0.7109139 (15998)\ttotal: 9m 15s\tremaining: 2m 18s\n"
     ]
    },
    {
     "name": "stdout",
     "output_type": "stream",
     "text": [
      "17000:\tlearn: 0.5515851\ttest: 0.7108211\tbest: 0.7108211 (17000)\ttotal: 9m 49s\tremaining: 1m 44s\n"
     ]
    },
    {
     "name": "stdout",
     "output_type": "stream",
     "text": [
      "18000:\tlearn: 0.5510383\ttest: 0.7107385\tbest: 0.7107385 (18000)\ttotal: 10m 24s\tremaining: 1m 9s\n"
     ]
    },
    {
     "name": "stdout",
     "output_type": "stream",
     "text": [
      "19000:\tlearn: 0.5505074\ttest: 0.7106756\tbest: 0.7106756 (19000)\ttotal: 10m 58s\tremaining: 34.6s\n"
     ]
    },
    {
     "name": "stdout",
     "output_type": "stream",
     "text": [
      "19999:\tlearn: 0.5499852\ttest: 0.7106138\tbest: 0.7106136 (19996)\ttotal: 11m 32s\tremaining: 0us\n",
      "\n",
      "bestTest = 0.7106135889\n",
      "bestIteration = 19996\n",
      "\n",
      "Shrink model to first 19997 iterations.\n"
     ]
    },
    {
     "name": "stderr",
     "output_type": "stream",
     "text": [
      "\u001b[32m[I 2021-08-28 16:23:00,997]\u001b[0m Trial 4 finished with value: 0.710402637209089 and parameters: {'bootstrap_type': 'MVS', 'max_depth': 4, 'learning_rate': 0.010052874476116027, 'max_bin': 490, 'min_data_in_leaf': 11, 'reg_lambda': 0.008846605681874693, 'subsample': 0.9248836873084274}. Best is trial 3 with value: 0.7102495930615063.\u001b[0m\n"
     ]
    },
    {
     "name": "stdout",
     "output_type": "stream",
     "text": [
      "0:\tlearn: 0.5943296\ttest: 0.7398396\tbest: 0.7398396 (0)\ttotal: 47.3ms\tremaining: 15m 46s\n"
     ]
    },
    {
     "name": "stdout",
     "output_type": "stream",
     "text": [
      "1000:\tlearn: 0.5726141\ttest: 0.7228271\tbest: 0.7228271 (1000)\ttotal: 40.4s\tremaining: 12m 46s\n"
     ]
    },
    {
     "name": "stdout",
     "output_type": "stream",
     "text": [
      "2000:\tlearn: 0.5672618\ttest: 0.7189801\tbest: 0.7189801 (2000)\ttotal: 1m 20s\tremaining: 12m 8s\n"
     ]
    },
    {
     "name": "stdout",
     "output_type": "stream",
     "text": [
      "3000:\tlearn: 0.5637953\ttest: 0.7166538\tbest: 0.7166538 (3000)\ttotal: 2m 1s\tremaining: 11m 27s\n"
     ]
    },
    {
     "name": "stdout",
     "output_type": "stream",
     "text": [
      "4000:\tlearn: 0.5613043\ttest: 0.7151322\tbest: 0.7151322 (4000)\ttotal: 2m 42s\tremaining: 10m 47s\n"
     ]
    },
    {
     "name": "stdout",
     "output_type": "stream",
     "text": [
      "5000:\tlearn: 0.5593369\ttest: 0.7139504\tbest: 0.7139504 (5000)\ttotal: 3m 22s\tremaining: 10m 7s\n"
     ]
    },
    {
     "name": "stdout",
     "output_type": "stream",
     "text": [
      "6000:\tlearn: 0.5577450\ttest: 0.7131148\tbest: 0.7131148 (6000)\ttotal: 4m 2s\tremaining: 9m 26s\n"
     ]
    },
    {
     "name": "stdout",
     "output_type": "stream",
     "text": [
      "7000:\tlearn: 0.5564085\ttest: 0.7125191\tbest: 0.7125189 (6999)\ttotal: 4m 43s\tremaining: 8m 46s\n"
     ]
    },
    {
     "name": "stdout",
     "output_type": "stream",
     "text": [
      "8000:\tlearn: 0.5552156\ttest: 0.7120652\tbest: 0.7120652 (8000)\ttotal: 5m 23s\tremaining: 8m 5s\n"
     ]
    },
    {
     "name": "stdout",
     "output_type": "stream",
     "text": [
      "9000:\tlearn: 0.5541038\ttest: 0.7117181\tbest: 0.7117181 (9000)\ttotal: 6m 2s\tremaining: 7m 23s\n"
     ]
    },
    {
     "name": "stdout",
     "output_type": "stream",
     "text": [
      "10000:\tlearn: 0.5530712\ttest: 0.7114433\tbest: 0.7114433 (10000)\ttotal: 6m 42s\tremaining: 6m 42s\n"
     ]
    },
    {
     "name": "stdout",
     "output_type": "stream",
     "text": [
      "11000:\tlearn: 0.5520703\ttest: 0.7112238\tbest: 0.7112238 (11000)\ttotal: 7m 21s\tremaining: 6m\n"
     ]
    },
    {
     "name": "stdout",
     "output_type": "stream",
     "text": [
      "12000:\tlearn: 0.5511138\ttest: 0.7110341\tbest: 0.7110341 (12000)\ttotal: 8m\tremaining: 5m 20s\n"
     ]
    },
    {
     "name": "stdout",
     "output_type": "stream",
     "text": [
      "13000:\tlearn: 0.5501933\ttest: 0.7108849\tbest: 0.7108835 (12976)\ttotal: 8m 39s\tremaining: 4m 39s\n"
     ]
    },
    {
     "name": "stdout",
     "output_type": "stream",
     "text": [
      "14000:\tlearn: 0.5493077\ttest: 0.7107518\tbest: 0.7107518 (14000)\ttotal: 9m 18s\tremaining: 3m 59s\n"
     ]
    },
    {
     "name": "stdout",
     "output_type": "stream",
     "text": [
      "15000:\tlearn: 0.5484488\ttest: 0.7106387\tbest: 0.7106378 (14990)\ttotal: 9m 58s\tremaining: 3m 19s\n"
     ]
    },
    {
     "name": "stdout",
     "output_type": "stream",
     "text": [
      "16000:\tlearn: 0.5476023\ttest: 0.7105288\tbest: 0.7105286 (15998)\ttotal: 10m 37s\tremaining: 2m 39s\n"
     ]
    },
    {
     "name": "stdout",
     "output_type": "stream",
     "text": [
      "17000:\tlearn: 0.5467879\ttest: 0.7104568\tbest: 0.7104568 (17000)\ttotal: 11m 16s\tremaining: 1m 59s\n"
     ]
    },
    {
     "name": "stdout",
     "output_type": "stream",
     "text": [
      "18000:\tlearn: 0.5459789\ttest: 0.7104069\tbest: 0.7104039 (17954)\ttotal: 11m 55s\tremaining: 1m 19s\n"
     ]
    },
    {
     "name": "stdout",
     "output_type": "stream",
     "text": [
      "19000:\tlearn: 0.5451907\ttest: 0.7103457\tbest: 0.7103457 (19000)\ttotal: 12m 34s\tremaining: 39.7s\n"
     ]
    },
    {
     "name": "stdout",
     "output_type": "stream",
     "text": [
      "19999:\tlearn: 0.5444140\ttest: 0.7102914\tbest: 0.7102911 (19982)\ttotal: 13m 13s\tremaining: 0us\n",
      "\n",
      "bestTest = 0.7102911084\n",
      "bestIteration = 19982\n",
      "\n",
      "Shrink model to first 19983 iterations.\n"
     ]
    },
    {
     "name": "stdout",
     "output_type": "stream",
     "text": [
      "0:\tlearn: 0.5943318\ttest: 0.7398420\tbest: 0.7398420 (0)\ttotal: 48.6ms\tremaining: 16m 12s\n"
     ]
    },
    {
     "name": "stdout",
     "output_type": "stream",
     "text": [
      "1000:\tlearn: 0.5725728\ttest: 0.7227875\tbest: 0.7227875 (1000)\ttotal: 40.4s\tremaining: 12m 47s\n"
     ]
    },
    {
     "name": "stdout",
     "output_type": "stream",
     "text": [
      "2000:\tlearn: 0.5672137\ttest: 0.7189322\tbest: 0.7189322 (2000)\ttotal: 1m 20s\tremaining: 12m\n"
     ]
    },
    {
     "name": "stdout",
     "output_type": "stream",
     "text": [
      "3000:\tlearn: 0.5637553\ttest: 0.7166286\tbest: 0.7166286 (3000)\ttotal: 1m 59s\tremaining: 11m 19s\n"
     ]
    },
    {
     "name": "stdout",
     "output_type": "stream",
     "text": [
      "4000:\tlearn: 0.5612467\ttest: 0.7150647\tbest: 0.7150647 (4000)\ttotal: 2m 39s\tremaining: 10m 39s\n"
     ]
    },
    {
     "name": "stdout",
     "output_type": "stream",
     "text": [
      "5000:\tlearn: 0.5592822\ttest: 0.7139238\tbest: 0.7139238 (5000)\ttotal: 3m 19s\tremaining: 9m 58s\n"
     ]
    },
    {
     "name": "stdout",
     "output_type": "stream",
     "text": [
      "6000:\tlearn: 0.5577235\ttest: 0.7131428\tbest: 0.7131428 (6000)\ttotal: 3m 59s\tremaining: 9m 19s\n"
     ]
    },
    {
     "name": "stdout",
     "output_type": "stream",
     "text": [
      "7000:\tlearn: 0.5563580\ttest: 0.7125088\tbest: 0.7125088 (7000)\ttotal: 4m 39s\tremaining: 8m 39s\n"
     ]
    },
    {
     "name": "stdout",
     "output_type": "stream",
     "text": [
      "8000:\tlearn: 0.5551695\ttest: 0.7120685\tbest: 0.7120685 (8000)\ttotal: 5m 19s\tremaining: 7m 59s\n"
     ]
    },
    {
     "name": "stdout",
     "output_type": "stream",
     "text": [
      "9000:\tlearn: 0.5540872\ttest: 0.7117423\tbest: 0.7117423 (9000)\ttotal: 5m 59s\tremaining: 7m 19s\n"
     ]
    },
    {
     "name": "stdout",
     "output_type": "stream",
     "text": [
      "10000:\tlearn: 0.5530454\ttest: 0.7114745\tbest: 0.7114737 (9996)\ttotal: 6m 39s\tremaining: 6m 39s\n"
     ]
    },
    {
     "name": "stdout",
     "output_type": "stream",
     "text": [
      "11000:\tlearn: 0.5520472\ttest: 0.7112766\tbest: 0.7112764 (10999)\ttotal: 7m 19s\tremaining: 5m 59s\n"
     ]
    },
    {
     "name": "stdout",
     "output_type": "stream",
     "text": [
      "12000:\tlearn: 0.5511077\ttest: 0.7111210\tbest: 0.7111206 (11996)\ttotal: 7m 58s\tremaining: 5m 18s\n"
     ]
    },
    {
     "name": "stdout",
     "output_type": "stream",
     "text": [
      "13000:\tlearn: 0.5501881\ttest: 0.7109654\tbest: 0.7109652 (12952)\ttotal: 8m 38s\tremaining: 4m 38s\n"
     ]
    },
    {
     "name": "stdout",
     "output_type": "stream",
     "text": [
      "14000:\tlearn: 0.5493045\ttest: 0.7108801\tbest: 0.7108799 (13996)\ttotal: 9m 17s\tremaining: 3m 58s\n"
     ]
    },
    {
     "name": "stdout",
     "output_type": "stream",
     "text": [
      "15000:\tlearn: 0.5484383\ttest: 0.7108005\tbest: 0.7108005 (15000)\ttotal: 9m 57s\tremaining: 3m 19s\n"
     ]
    },
    {
     "name": "stdout",
     "output_type": "stream",
     "text": [
      "16000:\tlearn: 0.5475948\ttest: 0.7107305\tbest: 0.7107289 (15966)\ttotal: 10m 36s\tremaining: 2m 39s\n"
     ]
    },
    {
     "name": "stdout",
     "output_type": "stream",
     "text": [
      "17000:\tlearn: 0.5467736\ttest: 0.7106795\tbest: 0.7106793 (16999)\ttotal: 11m 16s\tremaining: 1m 59s\n"
     ]
    },
    {
     "name": "stdout",
     "output_type": "stream",
     "text": [
      "18000:\tlearn: 0.5459721\ttest: 0.7106319\tbest: 0.7106303 (17994)\ttotal: 11m 54s\tremaining: 1m 19s\n"
     ]
    },
    {
     "name": "stdout",
     "output_type": "stream",
     "text": [
      "19000:\tlearn: 0.5451744\ttest: 0.7105768\tbest: 0.7105768 (19000)\ttotal: 12m 33s\tremaining: 39.6s\n"
     ]
    },
    {
     "name": "stdout",
     "output_type": "stream",
     "text": [
      "19999:\tlearn: 0.5443866\ttest: 0.7105362\tbest: 0.7105362 (19999)\ttotal: 13m 13s\tremaining: 0us\n",
      "\n",
      "bestTest = 0.7105361928\n",
      "bestIteration = 19999\n",
      "\n"
     ]
    },
    {
     "name": "stderr",
     "output_type": "stream",
     "text": [
      "\u001b[32m[I 2021-08-28 16:49:38,050]\u001b[0m Trial 5 finished with value: 0.7102635559767085 and parameters: {'bootstrap_type': 'MVS', 'max_depth': 5, 'learning_rate': 0.010011084111529957, 'max_bin': 489, 'min_data_in_leaf': 10, 'reg_lambda': 0.008901138806065897, 'subsample': 0.9216631938456737}. Best is trial 3 with value: 0.7102495930615063.\u001b[0m\n"
     ]
    },
    {
     "name": "stdout",
     "output_type": "stream",
     "text": [
      "0:\tlearn: 0.5943161\ttest: 0.7398303\tbest: 0.7398303 (0)\ttotal: 56.3ms\tremaining: 18m 45s\n"
     ]
    },
    {
     "name": "stdout",
     "output_type": "stream",
     "text": [
      "1000:\tlearn: 0.5710229\ttest: 0.7218236\tbest: 0.7218236 (1000)\ttotal: 46.4s\tremaining: 14m 41s\n"
     ]
    },
    {
     "name": "stdout",
     "output_type": "stream",
     "text": [
      "2000:\tlearn: 0.5652359\ttest: 0.7178190\tbest: 0.7178190 (2000)\ttotal: 1m 31s\tremaining: 13m 45s\n"
     ]
    },
    {
     "name": "stdout",
     "output_type": "stream",
     "text": [
      "3000:\tlearn: 0.5615345\ttest: 0.7155179\tbest: 0.7155179 (3000)\ttotal: 2m 17s\tremaining: 13m 1s\n"
     ]
    },
    {
     "name": "stdout",
     "output_type": "stream",
     "text": [
      "4000:\tlearn: 0.5589131\ttest: 0.7141160\tbest: 0.7141160 (4000)\ttotal: 3m 3s\tremaining: 12m 14s\n"
     ]
    },
    {
     "name": "stdout",
     "output_type": "stream",
     "text": [
      "5000:\tlearn: 0.5568320\ttest: 0.7131521\tbest: 0.7131521 (5000)\ttotal: 3m 49s\tremaining: 11m 29s\n"
     ]
    },
    {
     "name": "stdout",
     "output_type": "stream",
     "text": [
      "6000:\tlearn: 0.5550200\ttest: 0.7124633\tbest: 0.7124633 (5999)\ttotal: 4m 35s\tremaining: 10m 42s\n"
     ]
    },
    {
     "name": "stdout",
     "output_type": "stream",
     "text": [
      "7000:\tlearn: 0.5533702\ttest: 0.7119791\tbest: 0.7119791 (7000)\ttotal: 5m 20s\tremaining: 9m 55s\n"
     ]
    },
    {
     "name": "stdout",
     "output_type": "stream",
     "text": [
      "8000:\tlearn: 0.5518267\ttest: 0.7116544\tbest: 0.7116544 (7998)\ttotal: 6m 6s\tremaining: 9m 9s\n"
     ]
    },
    {
     "name": "stdout",
     "output_type": "stream",
     "text": [
      "9000:\tlearn: 0.5503604\ttest: 0.7113898\tbest: 0.7113898 (9000)\ttotal: 6m 51s\tremaining: 8m 22s\n"
     ]
    },
    {
     "name": "stdout",
     "output_type": "stream",
     "text": [
      "10000:\tlearn: 0.5489375\ttest: 0.7111658\tbest: 0.7111658 (10000)\ttotal: 7m 36s\tremaining: 7m 36s\n"
     ]
    },
    {
     "name": "stdout",
     "output_type": "stream",
     "text": [
      "11000:\tlearn: 0.5475583\ttest: 0.7109828\tbest: 0.7109824 (10998)\ttotal: 8m 21s\tremaining: 6m 49s\n"
     ]
    },
    {
     "name": "stdout",
     "output_type": "stream",
     "text": [
      "12000:\tlearn: 0.5462107\ttest: 0.7108633\tbest: 0.7108623 (11993)\ttotal: 9m 5s\tremaining: 6m 3s\n"
     ]
    },
    {
     "name": "stdout",
     "output_type": "stream",
     "text": [
      "13000:\tlearn: 0.5448870\ttest: 0.7107312\tbest: 0.7107310 (12998)\ttotal: 9m 51s\tremaining: 5m 18s\n"
     ]
    },
    {
     "name": "stdout",
     "output_type": "stream",
     "text": [
      "14000:\tlearn: 0.5436087\ttest: 0.7106406\tbest: 0.7106406 (13999)\ttotal: 10m 35s\tremaining: 4m 32s\n"
     ]
    },
    {
     "name": "stdout",
     "output_type": "stream",
     "text": [
      "15000:\tlearn: 0.5423488\ttest: 0.7105397\tbest: 0.7105394 (14996)\ttotal: 11m 20s\tremaining: 3m 46s\n"
     ]
    },
    {
     "name": "stdout",
     "output_type": "stream",
     "text": [
      "16000:\tlearn: 0.5411014\ttest: 0.7104722\tbest: 0.7104709 (15999)\ttotal: 12m 5s\tremaining: 3m 1s\n"
     ]
    },
    {
     "name": "stdout",
     "output_type": "stream",
     "text": [
      "Stopped by overfitting detector  (200 iterations wait)\n",
      "\n",
      "bestTest = 0.710454253\n",
      "bestIteration = 16284\n",
      "\n",
      "Shrink model to first 16285 iterations.\n"
     ]
    },
    {
     "name": "stdout",
     "output_type": "stream",
     "text": [
      "0:\tlearn: 0.5943117\ttest: 0.7398266\tbest: 0.7398266 (0)\ttotal: 55.8ms\tremaining: 18m 35s\n"
     ]
    },
    {
     "name": "stdout",
     "output_type": "stream",
     "text": [
      "1000:\tlearn: 0.5710190\ttest: 0.7217955\tbest: 0.7217955 (1000)\ttotal: 46.7s\tremaining: 14m 47s\n"
     ]
    },
    {
     "name": "stdout",
     "output_type": "stream",
     "text": [
      "2000:\tlearn: 0.5652322\ttest: 0.7177633\tbest: 0.7177633 (2000)\ttotal: 1m 32s\tremaining: 13m 50s\n"
     ]
    },
    {
     "name": "stdout",
     "output_type": "stream",
     "text": [
      "3000:\tlearn: 0.5615300\ttest: 0.7154564\tbest: 0.7154564 (3000)\ttotal: 2m 18s\tremaining: 13m 5s\n"
     ]
    },
    {
     "name": "stdout",
     "output_type": "stream",
     "text": [
      "4000:\tlearn: 0.5589169\ttest: 0.7140562\tbest: 0.7140562 (4000)\ttotal: 3m 4s\tremaining: 12m 17s\n"
     ]
    },
    {
     "name": "stdout",
     "output_type": "stream",
     "text": [
      "5000:\tlearn: 0.5568431\ttest: 0.7131102\tbest: 0.7131102 (5000)\ttotal: 3m 50s\tremaining: 11m 31s\n"
     ]
    },
    {
     "name": "stdout",
     "output_type": "stream",
     "text": [
      "6000:\tlearn: 0.5550374\ttest: 0.7124166\tbest: 0.7124166 (6000)\ttotal: 4m 36s\tremaining: 10m 45s\n"
     ]
    },
    {
     "name": "stdout",
     "output_type": "stream",
     "text": [
      "7000:\tlearn: 0.5534019\ttest: 0.7119428\tbest: 0.7119428 (7000)\ttotal: 5m 22s\tremaining: 9m 58s\n"
     ]
    },
    {
     "name": "stdout",
     "output_type": "stream",
     "text": [
      "8000:\tlearn: 0.5518857\ttest: 0.7115967\tbest: 0.7115967 (8000)\ttotal: 6m 7s\tremaining: 9m 11s\n"
     ]
    },
    {
     "name": "stdout",
     "output_type": "stream",
     "text": [
      "9000:\tlearn: 0.5503908\ttest: 0.7113295\tbest: 0.7113295 (9000)\ttotal: 6m 52s\tremaining: 8m 24s\n"
     ]
    },
    {
     "name": "stdout",
     "output_type": "stream",
     "text": [
      "10000:\tlearn: 0.5489685\ttest: 0.7111514\tbest: 0.7111514 (10000)\ttotal: 7m 37s\tremaining: 7m 37s\n"
     ]
    },
    {
     "name": "stdout",
     "output_type": "stream",
     "text": [
      "11000:\tlearn: 0.5476045\ttest: 0.7110035\tbest: 0.7110035 (11000)\ttotal: 8m 22s\tremaining: 6m 50s\n"
     ]
    },
    {
     "name": "stdout",
     "output_type": "stream",
     "text": [
      "12000:\tlearn: 0.5462649\ttest: 0.7108844\tbest: 0.7108844 (12000)\ttotal: 9m 6s\tremaining: 6m 4s\n"
     ]
    },
    {
     "name": "stdout",
     "output_type": "stream",
     "text": [
      "13000:\tlearn: 0.5449507\ttest: 0.7107928\tbest: 0.7107928 (13000)\ttotal: 9m 52s\tremaining: 5m 18s\n"
     ]
    },
    {
     "name": "stdout",
     "output_type": "stream",
     "text": [
      "14000:\tlearn: 0.5436593\ttest: 0.7107159\tbest: 0.7107144 (13892)\ttotal: 10m 37s\tremaining: 4m 33s\n"
     ]
    },
    {
     "name": "stdout",
     "output_type": "stream",
     "text": [
      "15000:\tlearn: 0.5423907\ttest: 0.7106609\tbest: 0.7106587 (14963)\ttotal: 11m 22s\tremaining: 3m 47s\n"
     ]
    },
    {
     "name": "stdout",
     "output_type": "stream",
     "text": [
      "16000:\tlearn: 0.5411487\ttest: 0.7106220\tbest: 0.7106192 (15962)\ttotal: 12m 7s\tremaining: 3m 1s\n"
     ]
    },
    {
     "name": "stdout",
     "output_type": "stream",
     "text": [
      "17000:\tlearn: 0.5399250\ttest: 0.7105879\tbest: 0.7105879 (17000)\ttotal: 12m 52s\tremaining: 2m 16s\n"
     ]
    },
    {
     "name": "stdout",
     "output_type": "stream",
     "text": [
      "Stopped by overfitting detector  (200 iterations wait)\n",
      "\n",
      "bestTest = 0.710586106\n",
      "bestIteration = 17106\n",
      "\n",
      "Shrink model to first 17107 iterations.\n"
     ]
    },
    {
     "name": "stderr",
     "output_type": "stream",
     "text": [
      "\u001b[32m[I 2021-08-28 17:15:21,412]\u001b[0m Trial 6 finished with value: 0.7103664600219826 and parameters: {'bootstrap_type': 'MVS', 'max_depth': 6, 'learning_rate': 0.010080889718190942, 'max_bin': 490, 'min_data_in_leaf': 10, 'reg_lambda': 0.009193064158096774, 'subsample': 0.9232209948185408}. Best is trial 3 with value: 0.7102495930615063.\u001b[0m\n"
     ]
    },
    {
     "name": "stdout",
     "output_type": "stream",
     "text": [
      "0:\tlearn: 0.5943102\ttest: 0.7398256\tbest: 0.7398256 (0)\ttotal: 51.7ms\tremaining: 17m 13s\n"
     ]
    },
    {
     "name": "stdout",
     "output_type": "stream",
     "text": [
      "1000:\tlearn: 0.5710747\ttest: 0.7218472\tbest: 0.7218472 (1000)\ttotal: 43.5s\tremaining: 13m 45s\n"
     ]
    },
    {
     "name": "stdout",
     "output_type": "stream",
     "text": [
      "2000:\tlearn: 0.5652984\ttest: 0.7178349\tbest: 0.7178349 (2000)\ttotal: 1m 26s\tremaining: 12m 57s\n"
     ]
    },
    {
     "name": "stdout",
     "output_type": "stream",
     "text": [
      "3000:\tlearn: 0.5615768\ttest: 0.7154527\tbest: 0.7154527 (3000)\ttotal: 2m 9s\tremaining: 12m 13s\n"
     ]
    },
    {
     "name": "stdout",
     "output_type": "stream",
     "text": [
      "4000:\tlearn: 0.5589628\ttest: 0.7140544\tbest: 0.7140544 (4000)\ttotal: 2m 52s\tremaining: 11m 29s\n"
     ]
    },
    {
     "name": "stdout",
     "output_type": "stream",
     "text": [
      "5000:\tlearn: 0.5568829\ttest: 0.7131093\tbest: 0.7131093 (5000)\ttotal: 3m 34s\tremaining: 10m 44s\n"
     ]
    },
    {
     "name": "stdout",
     "output_type": "stream",
     "text": [
      "6000:\tlearn: 0.5550829\ttest: 0.7124921\tbest: 0.7124921 (6000)\ttotal: 4m 17s\tremaining: 10m 1s\n"
     ]
    },
    {
     "name": "stdout",
     "output_type": "stream",
     "text": [
      "7000:\tlearn: 0.5534394\ttest: 0.7120155\tbest: 0.7120155 (7000)\ttotal: 4m 59s\tremaining: 9m 16s\n"
     ]
    },
    {
     "name": "stdout",
     "output_type": "stream",
     "text": [
      "8000:\tlearn: 0.5519034\ttest: 0.7116494\tbest: 0.7116474 (7998)\ttotal: 5m 42s\tremaining: 8m 33s\n"
     ]
    },
    {
     "name": "stdout",
     "output_type": "stream",
     "text": [
      "9000:\tlearn: 0.5504311\ttest: 0.7113802\tbest: 0.7113802 (8998)\ttotal: 6m 24s\tremaining: 7m 50s\n"
     ]
    },
    {
     "name": "stdout",
     "output_type": "stream",
     "text": [
      "10000:\tlearn: 0.5490113\ttest: 0.7111621\tbest: 0.7111621 (10000)\ttotal: 7m 6s\tremaining: 7m 6s\n"
     ]
    },
    {
     "name": "stdout",
     "output_type": "stream",
     "text": [
      "11000:\tlearn: 0.5476353\ttest: 0.7109837\tbest: 0.7109805 (10991)\ttotal: 7m 47s\tremaining: 6m 22s\n"
     ]
    },
    {
     "name": "stdout",
     "output_type": "stream",
     "text": [
      "12000:\tlearn: 0.5463030\ttest: 0.7108627\tbest: 0.7108622 (11996)\ttotal: 8m 29s\tremaining: 5m 39s\n"
     ]
    },
    {
     "name": "stdout",
     "output_type": "stream",
     "text": [
      "13000:\tlearn: 0.5449966\ttest: 0.7107339\tbest: 0.7107332 (12990)\ttotal: 9m 11s\tremaining: 4m 56s\n"
     ]
    },
    {
     "name": "stdout",
     "output_type": "stream",
     "text": [
      "14000:\tlearn: 0.5437112\ttest: 0.7106299\tbest: 0.7106299 (14000)\ttotal: 9m 53s\tremaining: 4m 14s\n"
     ]
    },
    {
     "name": "stdout",
     "output_type": "stream",
     "text": [
      "15000:\tlearn: 0.5424525\ttest: 0.7105513\tbest: 0.7105512 (14990)\ttotal: 10m 34s\tremaining: 3m 31s\n"
     ]
    },
    {
     "name": "stdout",
     "output_type": "stream",
     "text": [
      "16000:\tlearn: 0.5411964\ttest: 0.7104757\tbest: 0.7104749 (15996)\ttotal: 11m 17s\tremaining: 2m 49s\n"
     ]
    },
    {
     "name": "stdout",
     "output_type": "stream",
     "text": [
      "Stopped by overfitting detector  (200 iterations wait)\n",
      "\n",
      "bestTest = 0.7104487316\n",
      "bestIteration = 16265\n",
      "\n",
      "Shrink model to first 16266 iterations.\n"
     ]
    },
    {
     "name": "stdout",
     "output_type": "stream",
     "text": [
      "0:\tlearn: 0.5943142\ttest: 0.7398274\tbest: 0.7398274 (0)\ttotal: 50.7ms\tremaining: 16m 54s\n"
     ]
    },
    {
     "name": "stdout",
     "output_type": "stream",
     "text": [
      "1000:\tlearn: 0.5710116\ttest: 0.7217933\tbest: 0.7217933 (1000)\ttotal: 44s\tremaining: 13m 55s\n"
     ]
    },
    {
     "name": "stdout",
     "output_type": "stream",
     "text": [
      "2000:\tlearn: 0.5652950\ttest: 0.7178409\tbest: 0.7178409 (2000)\ttotal: 1m 26s\tremaining: 13m 1s\n"
     ]
    },
    {
     "name": "stdout",
     "output_type": "stream",
     "text": [
      "3000:\tlearn: 0.5615904\ttest: 0.7155231\tbest: 0.7155231 (3000)\ttotal: 2m 9s\tremaining: 12m 15s\n"
     ]
    },
    {
     "name": "stdout",
     "output_type": "stream",
     "text": [
      "4000:\tlearn: 0.5589663\ttest: 0.7140878\tbest: 0.7140878 (4000)\ttotal: 2m 53s\tremaining: 11m 32s\n"
     ]
    },
    {
     "name": "stdout",
     "output_type": "stream",
     "text": [
      "5000:\tlearn: 0.5568656\ttest: 0.7131278\tbest: 0.7131278 (5000)\ttotal: 3m 37s\tremaining: 10m 51s\n"
     ]
    },
    {
     "name": "stdout",
     "output_type": "stream",
     "text": [
      "6000:\tlearn: 0.5550716\ttest: 0.7124717\tbest: 0.7124717 (6000)\ttotal: 4m 20s\tremaining: 10m 6s\n"
     ]
    },
    {
     "name": "stdout",
     "output_type": "stream",
     "text": [
      "7000:\tlearn: 0.5534370\ttest: 0.7120118\tbest: 0.7120118 (7000)\ttotal: 5m 3s\tremaining: 9m 23s\n"
     ]
    },
    {
     "name": "stdout",
     "output_type": "stream",
     "text": [
      "8000:\tlearn: 0.5518983\ttest: 0.7116817\tbest: 0.7116817 (8000)\ttotal: 5m 46s\tremaining: 8m 39s\n"
     ]
    },
    {
     "name": "stdout",
     "output_type": "stream",
     "text": [
      "9000:\tlearn: 0.5504456\ttest: 0.7114247\tbest: 0.7114247 (9000)\ttotal: 6m 28s\tremaining: 7m 55s\n"
     ]
    },
    {
     "name": "stdout",
     "output_type": "stream",
     "text": [
      "10000:\tlearn: 0.5490266\ttest: 0.7112190\tbest: 0.7112188 (9999)\ttotal: 7m 11s\tremaining: 7m 11s\n"
     ]
    },
    {
     "name": "stdout",
     "output_type": "stream",
     "text": [
      "11000:\tlearn: 0.5476633\ttest: 0.7110361\tbest: 0.7110361 (10999)\ttotal: 7m 53s\tremaining: 6m 27s\n"
     ]
    },
    {
     "name": "stdout",
     "output_type": "stream",
     "text": [
      "12000:\tlearn: 0.5463316\ttest: 0.7109014\tbest: 0.7109004 (11984)\ttotal: 8m 35s\tremaining: 5m 43s\n"
     ]
    },
    {
     "name": "stdout",
     "output_type": "stream",
     "text": [
      "13000:\tlearn: 0.5450314\ttest: 0.7107771\tbest: 0.7107771 (13000)\ttotal: 9m 17s\tremaining: 4m 59s\n"
     ]
    },
    {
     "name": "stdout",
     "output_type": "stream",
     "text": [
      "14000:\tlearn: 0.5437549\ttest: 0.7107020\tbest: 0.7107009 (13985)\ttotal: 9m 58s\tremaining: 4m 16s\n"
     ]
    },
    {
     "name": "stdout",
     "output_type": "stream",
     "text": [
      "15000:\tlearn: 0.5424933\ttest: 0.7106397\tbest: 0.7106374 (14989)\ttotal: 10m 39s\tremaining: 3m 33s\n"
     ]
    },
    {
     "name": "stdout",
     "output_type": "stream",
     "text": [
      "16000:\tlearn: 0.5412419\ttest: 0.7105723\tbest: 0.7105718 (15998)\ttotal: 11m 21s\tremaining: 2m 50s\n"
     ]
    },
    {
     "name": "stdout",
     "output_type": "stream",
     "text": [
      "17000:\tlearn: 0.5400160\ttest: 0.7105075\tbest: 0.7105048 (16984)\ttotal: 12m 2s\tremaining: 2m 7s\n"
     ]
    },
    {
     "name": "stdout",
     "output_type": "stream",
     "text": [
      "Stopped by overfitting detector  (200 iterations wait)\n",
      "\n",
      "bestTest = 0.7104927002\n",
      "bestIteration = 17384\n",
      "\n",
      "Shrink model to first 17385 iterations.\n"
     ]
    },
    {
     "name": "stderr",
     "output_type": "stream",
     "text": [
      "\u001b[32m[I 2021-08-28 17:39:34,160]\u001b[0m Trial 7 finished with value: 0.7103576046938858 and parameters: {'bootstrap_type': 'Bernoulli', 'max_depth': 6, 'learning_rate': 0.010096215218244744, 'max_bin': 486, 'min_data_in_leaf': 12, 'reg_lambda': 0.009144662934570091, 'subsample': 0.9239266926231765}. Best is trial 3 with value: 0.7102495930615063.\u001b[0m\n"
     ]
    },
    {
     "name": "stdout",
     "output_type": "stream",
     "text": [
      "0:\tlearn: 0.5943301\ttest: 0.7398417\tbest: 0.7398417 (0)\ttotal: 41.6ms\tremaining: 13m 52s\n"
     ]
    },
    {
     "name": "stdout",
     "output_type": "stream",
     "text": [
      "1000:\tlearn: 0.5726412\ttest: 0.7228401\tbest: 0.7228401 (1000)\ttotal: 36.9s\tremaining: 11m 40s\n"
     ]
    },
    {
     "name": "stdout",
     "output_type": "stream",
     "text": [
      "2000:\tlearn: 0.5672326\ttest: 0.7189583\tbest: 0.7189583 (2000)\ttotal: 1m 12s\tremaining: 10m 54s\n"
     ]
    },
    {
     "name": "stdout",
     "output_type": "stream",
     "text": [
      "3000:\tlearn: 0.5637656\ttest: 0.7165917\tbest: 0.7165917 (3000)\ttotal: 1m 49s\tremaining: 10m 18s\n"
     ]
    },
    {
     "name": "stdout",
     "output_type": "stream",
     "text": [
      "4000:\tlearn: 0.5612553\ttest: 0.7150140\tbest: 0.7150140 (4000)\ttotal: 2m 25s\tremaining: 9m 42s\n"
     ]
    },
    {
     "name": "stdout",
     "output_type": "stream",
     "text": [
      "5000:\tlearn: 0.5593739\ttest: 0.7139609\tbest: 0.7139609 (5000)\ttotal: 3m 2s\tremaining: 9m 5s\n"
     ]
    },
    {
     "name": "stdout",
     "output_type": "stream",
     "text": [
      "6000:\tlearn: 0.5578138\ttest: 0.7131608\tbest: 0.7131608 (6000)\ttotal: 3m 38s\tremaining: 8m 29s\n"
     ]
    },
    {
     "name": "stdout",
     "output_type": "stream",
     "text": [
      "7000:\tlearn: 0.5564893\ttest: 0.7125714\tbest: 0.7125714 (7000)\ttotal: 4m 14s\tremaining: 7m 52s\n"
     ]
    },
    {
     "name": "stdout",
     "output_type": "stream",
     "text": [
      "8000:\tlearn: 0.5552931\ttest: 0.7121206\tbest: 0.7121204 (7999)\ttotal: 4m 50s\tremaining: 7m 16s\n"
     ]
    },
    {
     "name": "stdout",
     "output_type": "stream",
     "text": [
      "9000:\tlearn: 0.5541949\ttest: 0.7117702\tbest: 0.7117702 (9000)\ttotal: 5m 26s\tremaining: 6m 38s\n"
     ]
    },
    {
     "name": "stdout",
     "output_type": "stream",
     "text": [
      "10000:\tlearn: 0.5531685\ttest: 0.7114971\tbest: 0.7114971 (10000)\ttotal: 6m 2s\tremaining: 6m 2s\n"
     ]
    },
    {
     "name": "stdout",
     "output_type": "stream",
     "text": [
      "11000:\tlearn: 0.5521826\ttest: 0.7112464\tbest: 0.7112464 (11000)\ttotal: 6m 37s\tremaining: 5m 25s\n"
     ]
    },
    {
     "name": "stdout",
     "output_type": "stream",
     "text": [
      "12000:\tlearn: 0.5512402\ttest: 0.7110442\tbest: 0.7110440 (11999)\ttotal: 7m 13s\tremaining: 4m 48s\n"
     ]
    },
    {
     "name": "stdout",
     "output_type": "stream",
     "text": [
      "13000:\tlearn: 0.5503319\ttest: 0.7108866\tbest: 0.7108864 (12999)\ttotal: 7m 49s\tremaining: 4m 12s\n"
     ]
    },
    {
     "name": "stdout",
     "output_type": "stream",
     "text": [
      "14000:\tlearn: 0.5494489\ttest: 0.7107343\tbest: 0.7107340 (13996)\ttotal: 8m 24s\tremaining: 3m 36s\n"
     ]
    },
    {
     "name": "stdout",
     "output_type": "stream",
     "text": [
      "15000:\tlearn: 0.5486004\ttest: 0.7106306\tbest: 0.7106306 (15000)\ttotal: 9m\tremaining: 3m\n"
     ]
    },
    {
     "name": "stdout",
     "output_type": "stream",
     "text": [
      "16000:\tlearn: 0.5477629\ttest: 0.7105355\tbest: 0.7105355 (16000)\ttotal: 9m 35s\tremaining: 2m 23s\n"
     ]
    },
    {
     "name": "stdout",
     "output_type": "stream",
     "text": [
      "17000:\tlearn: 0.5469359\ttest: 0.7104659\tbest: 0.7104656 (16969)\ttotal: 10m 11s\tremaining: 1m 47s\n"
     ]
    },
    {
     "name": "stdout",
     "output_type": "stream",
     "text": [
      "18000:\tlearn: 0.5461333\ttest: 0.7103858\tbest: 0.7103858 (18000)\ttotal: 10m 46s\tremaining: 1m 11s\n"
     ]
    },
    {
     "name": "stdout",
     "output_type": "stream",
     "text": [
      "19000:\tlearn: 0.5453347\ttest: 0.7103247\tbest: 0.7103244 (18999)\ttotal: 11m 23s\tremaining: 35.9s\n"
     ]
    },
    {
     "name": "stdout",
     "output_type": "stream",
     "text": [
      "19999:\tlearn: 0.5445570\ttest: 0.7102643\tbest: 0.7102643 (19999)\ttotal: 11m 58s\tremaining: 0us\n",
      "\n",
      "bestTest = 0.7102642864\n",
      "bestIteration = 19999\n",
      "\n"
     ]
    },
    {
     "name": "stdout",
     "output_type": "stream",
     "text": [
      "0:\tlearn: 0.5943359\ttest: 0.7398430\tbest: 0.7398430 (0)\ttotal: 43ms\tremaining: 14m 20s\n"
     ]
    },
    {
     "name": "stdout",
     "output_type": "stream",
     "text": [
      "1000:\tlearn: 0.5726327\ttest: 0.7228347\tbest: 0.7228347 (1000)\ttotal: 36.8s\tremaining: 11m 38s\n"
     ]
    },
    {
     "name": "stdout",
     "output_type": "stream",
     "text": [
      "2000:\tlearn: 0.5672175\ttest: 0.7189408\tbest: 0.7189408 (2000)\ttotal: 1m 12s\tremaining: 10m 54s\n"
     ]
    },
    {
     "name": "stdout",
     "output_type": "stream",
     "text": [
      "3000:\tlearn: 0.5637512\ttest: 0.7165967\tbest: 0.7165967 (3000)\ttotal: 1m 49s\tremaining: 10m 17s\n"
     ]
    },
    {
     "name": "stdout",
     "output_type": "stream",
     "text": [
      "4000:\tlearn: 0.5612570\ttest: 0.7150761\tbest: 0.7150761 (4000)\ttotal: 2m 25s\tremaining: 9m 43s\n"
     ]
    },
    {
     "name": "stdout",
     "output_type": "stream",
     "text": [
      "5000:\tlearn: 0.5593504\ttest: 0.7140092\tbest: 0.7140092 (5000)\ttotal: 3m 2s\tremaining: 9m 6s\n"
     ]
    },
    {
     "name": "stdout",
     "output_type": "stream",
     "text": [
      "6000:\tlearn: 0.5577888\ttest: 0.7132085\tbest: 0.7132085 (6000)\ttotal: 3m 38s\tremaining: 8m 30s\n"
     ]
    },
    {
     "name": "stdout",
     "output_type": "stream",
     "text": [
      "7000:\tlearn: 0.5564375\ttest: 0.7125987\tbest: 0.7125986 (6999)\ttotal: 4m 15s\tremaining: 7m 53s\n"
     ]
    },
    {
     "name": "stdout",
     "output_type": "stream",
     "text": [
      "8000:\tlearn: 0.5552469\ttest: 0.7121561\tbest: 0.7121561 (8000)\ttotal: 4m 51s\tremaining: 7m 16s\n"
     ]
    },
    {
     "name": "stdout",
     "output_type": "stream",
     "text": [
      "9000:\tlearn: 0.5541524\ttest: 0.7118177\tbest: 0.7118177 (9000)\ttotal: 5m 27s\tremaining: 6m 39s\n"
     ]
    },
    {
     "name": "stdout",
     "output_type": "stream",
     "text": [
      "10000:\tlearn: 0.5531247\ttest: 0.7115282\tbest: 0.7115282 (10000)\ttotal: 6m 3s\tremaining: 6m 3s\n"
     ]
    },
    {
     "name": "stdout",
     "output_type": "stream",
     "text": [
      "11000:\tlearn: 0.5521484\ttest: 0.7113170\tbest: 0.7113165 (10999)\ttotal: 6m 39s\tremaining: 5m 26s\n"
     ]
    },
    {
     "name": "stdout",
     "output_type": "stream",
     "text": [
      "12000:\tlearn: 0.5512137\ttest: 0.7111620\tbest: 0.7111620 (12000)\ttotal: 7m 14s\tremaining: 4m 49s\n"
     ]
    },
    {
     "name": "stdout",
     "output_type": "stream",
     "text": [
      "13000:\tlearn: 0.5503149\ttest: 0.7109961\tbest: 0.7109961 (13000)\ttotal: 7m 50s\tremaining: 4m 13s\n"
     ]
    },
    {
     "name": "stdout",
     "output_type": "stream",
     "text": [
      "14000:\tlearn: 0.5494383\ttest: 0.7108653\tbest: 0.7108653 (14000)\ttotal: 8m 25s\tremaining: 3m 36s\n"
     ]
    },
    {
     "name": "stdout",
     "output_type": "stream",
     "text": [
      "15000:\tlearn: 0.5485853\ttest: 0.7107698\tbest: 0.7107698 (15000)\ttotal: 9m 1s\tremaining: 3m\n"
     ]
    },
    {
     "name": "stdout",
     "output_type": "stream",
     "text": [
      "16000:\tlearn: 0.5477437\ttest: 0.7106910\tbest: 0.7106907 (15999)\ttotal: 9m 36s\tremaining: 2m 24s\n"
     ]
    },
    {
     "name": "stdout",
     "output_type": "stream",
     "text": [
      "17000:\tlearn: 0.5469215\ttest: 0.7106122\tbest: 0.7106111 (16995)\ttotal: 10m 11s\tremaining: 1m 47s\n"
     ]
    },
    {
     "name": "stdout",
     "output_type": "stream",
     "text": [
      "18000:\tlearn: 0.5461208\ttest: 0.7105439\tbest: 0.7105436 (17998)\ttotal: 10m 47s\tremaining: 1m 11s\n"
     ]
    },
    {
     "name": "stdout",
     "output_type": "stream",
     "text": [
      "19000:\tlearn: 0.5453381\ttest: 0.7104920\tbest: 0.7104917 (18985)\ttotal: 11m 23s\tremaining: 35.9s\n"
     ]
    },
    {
     "name": "stdout",
     "output_type": "stream",
     "text": [
      "19999:\tlearn: 0.5445612\ttest: 0.7104426\tbest: 0.7104417 (19996)\ttotal: 11m 58s\tremaining: 0us\n",
      "\n",
      "bestTest = 0.7104416719\n",
      "bestIteration = 19996\n",
      "\n",
      "Shrink model to first 19997 iterations.\n"
     ]
    },
    {
     "name": "stderr",
     "output_type": "stream",
     "text": [
      "\u001b[32m[I 2021-08-28 18:03:41,700]\u001b[0m Trial 8 finished with value: 0.7102446277732508 and parameters: {'bootstrap_type': 'Bernoulli', 'max_depth': 5, 'learning_rate': 0.010004991887799524, 'max_bin': 486, 'min_data_in_leaf': 12, 'reg_lambda': 0.008887342961035948, 'subsample': 0.9270770557792115}. Best is trial 8 with value: 0.7102446277732508.\u001b[0m\n"
     ]
    },
    {
     "name": "stdout",
     "output_type": "stream",
     "text": [
      "0:\tlearn: 0.5943495\ttest: 0.7398555\tbest: 0.7398555 (0)\ttotal: 35.5ms\tremaining: 11m 49s\n"
     ]
    },
    {
     "name": "stdout",
     "output_type": "stream",
     "text": [
      "1000:\tlearn: 0.5743983\ttest: 0.7241031\tbest: 0.7241031 (1000)\ttotal: 31.5s\tremaining: 9m 58s\n"
     ]
    },
    {
     "name": "stdout",
     "output_type": "stream",
     "text": [
      "2000:\tlearn: 0.5692148\ttest: 0.7202631\tbest: 0.7202631 (2000)\ttotal: 1m 2s\tremaining: 9m 22s\n"
     ]
    },
    {
     "name": "stdout",
     "output_type": "stream",
     "text": [
      "3000:\tlearn: 0.5659991\ttest: 0.7179758\tbest: 0.7179758 (3000)\ttotal: 1m 33s\tremaining: 8m 49s\n"
     ]
    },
    {
     "name": "stdout",
     "output_type": "stream",
     "text": [
      "4000:\tlearn: 0.5636213\ttest: 0.7163372\tbest: 0.7163372 (4000)\ttotal: 2m 4s\tremaining: 8m 18s\n"
     ]
    },
    {
     "name": "stdout",
     "output_type": "stream",
     "text": [
      "5000:\tlearn: 0.5617733\ttest: 0.7151299\tbest: 0.7151299 (5000)\ttotal: 2m 36s\tremaining: 7m 48s\n"
     ]
    },
    {
     "name": "stdout",
     "output_type": "stream",
     "text": [
      "6000:\tlearn: 0.5602986\ttest: 0.7142398\tbest: 0.7142398 (6000)\ttotal: 3m 7s\tremaining: 7m 17s\n"
     ]
    },
    {
     "name": "stdout",
     "output_type": "stream",
     "text": [
      "7000:\tlearn: 0.5590559\ttest: 0.7135011\tbest: 0.7135011 (7000)\ttotal: 3m 39s\tremaining: 6m 47s\n"
     ]
    },
    {
     "name": "stdout",
     "output_type": "stream",
     "text": [
      "8000:\tlearn: 0.5579844\ttest: 0.7129341\tbest: 0.7129341 (8000)\ttotal: 4m 11s\tremaining: 6m 16s\n"
     ]
    },
    {
     "name": "stdout",
     "output_type": "stream",
     "text": [
      "9000:\tlearn: 0.5570737\ttest: 0.7124786\tbest: 0.7124786 (9000)\ttotal: 4m 42s\tremaining: 5m 45s\n"
     ]
    },
    {
     "name": "stdout",
     "output_type": "stream",
     "text": [
      "10000:\tlearn: 0.5562599\ttest: 0.7121212\tbest: 0.7121212 (10000)\ttotal: 5m 14s\tremaining: 5m 13s\n"
     ]
    },
    {
     "name": "stdout",
     "output_type": "stream",
     "text": [
      "11000:\tlearn: 0.5554891\ttest: 0.7118268\tbest: 0.7118268 (11000)\ttotal: 5m 45s\tremaining: 4m 42s\n"
     ]
    },
    {
     "name": "stdout",
     "output_type": "stream",
     "text": [
      "12000:\tlearn: 0.5547835\ttest: 0.7115766\tbest: 0.7115766 (12000)\ttotal: 6m 16s\tremaining: 4m 11s\n"
     ]
    },
    {
     "name": "stdout",
     "output_type": "stream",
     "text": [
      "13000:\tlearn: 0.5541135\ttest: 0.7113550\tbest: 0.7113550 (13000)\ttotal: 6m 48s\tremaining: 3m 39s\n"
     ]
    },
    {
     "name": "stdout",
     "output_type": "stream",
     "text": [
      "14000:\tlearn: 0.5534735\ttest: 0.7111656\tbest: 0.7111651 (13993)\ttotal: 7m 19s\tremaining: 3m 8s\n"
     ]
    },
    {
     "name": "stdout",
     "output_type": "stream",
     "text": [
      "15000:\tlearn: 0.5528613\ttest: 0.7109999\tbest: 0.7109996 (14995)\ttotal: 7m 50s\tremaining: 2m 36s\n"
     ]
    },
    {
     "name": "stdout",
     "output_type": "stream",
     "text": [
      "16000:\tlearn: 0.5522808\ttest: 0.7108555\tbest: 0.7108555 (16000)\ttotal: 8m 22s\tremaining: 2m 5s\n"
     ]
    },
    {
     "name": "stdout",
     "output_type": "stream",
     "text": [
      "17000:\tlearn: 0.5517197\ttest: 0.7107387\tbest: 0.7107381 (16997)\ttotal: 8m 52s\tremaining: 1m 34s\n"
     ]
    },
    {
     "name": "stdout",
     "output_type": "stream",
     "text": [
      "18000:\tlearn: 0.5511704\ttest: 0.7106177\tbest: 0.7106173 (17989)\ttotal: 9m 23s\tremaining: 1m 2s\n"
     ]
    },
    {
     "name": "stdout",
     "output_type": "stream",
     "text": [
      "19000:\tlearn: 0.5506390\ttest: 0.7105137\tbest: 0.7105134 (18997)\ttotal: 9m 54s\tremaining: 31.3s\n"
     ]
    },
    {
     "name": "stdout",
     "output_type": "stream",
     "text": [
      "19999:\tlearn: 0.5501265\ttest: 0.7104420\tbest: 0.7104419 (19970)\ttotal: 10m 25s\tremaining: 0us\n",
      "\n",
      "bestTest = 0.7104418692\n",
      "bestIteration = 19970\n",
      "\n",
      "Shrink model to first 19971 iterations.\n"
     ]
    },
    {
     "name": "stdout",
     "output_type": "stream",
     "text": [
      "0:\tlearn: 0.5943560\ttest: 0.7398606\tbest: 0.7398606 (0)\ttotal: 38.4ms\tremaining: 12m 48s\n"
     ]
    },
    {
     "name": "stdout",
     "output_type": "stream",
     "text": [
      "1000:\tlearn: 0.5743084\ttest: 0.7240156\tbest: 0.7240156 (1000)\ttotal: 32.1s\tremaining: 10m 9s\n"
     ]
    },
    {
     "name": "stdout",
     "output_type": "stream",
     "text": [
      "2000:\tlearn: 0.5692508\ttest: 0.7203028\tbest: 0.7203028 (2000)\ttotal: 1m 3s\tremaining: 9m 29s\n"
     ]
    },
    {
     "name": "stdout",
     "output_type": "stream",
     "text": [
      "3000:\tlearn: 0.5660139\ttest: 0.7179971\tbest: 0.7179971 (3000)\ttotal: 1m 34s\tremaining: 8m 57s\n"
     ]
    },
    {
     "name": "stdout",
     "output_type": "stream",
     "text": [
      "4000:\tlearn: 0.5636734\ttest: 0.7164072\tbest: 0.7164072 (4000)\ttotal: 2m 6s\tremaining: 8m 24s\n"
     ]
    },
    {
     "name": "stdout",
     "output_type": "stream",
     "text": [
      "5000:\tlearn: 0.5617792\ttest: 0.7151514\tbest: 0.7151514 (5000)\ttotal: 2m 38s\tremaining: 7m 54s\n"
     ]
    },
    {
     "name": "stdout",
     "output_type": "stream",
     "text": [
      "6000:\tlearn: 0.5602818\ttest: 0.7142376\tbest: 0.7142376 (6000)\ttotal: 3m 10s\tremaining: 7m 23s\n"
     ]
    },
    {
     "name": "stdout",
     "output_type": "stream",
     "text": [
      "7000:\tlearn: 0.5590183\ttest: 0.7135044\tbest: 0.7135044 (7000)\ttotal: 3m 42s\tremaining: 6m 52s\n"
     ]
    },
    {
     "name": "stdout",
     "output_type": "stream",
     "text": [
      "8000:\tlearn: 0.5579671\ttest: 0.7129464\tbest: 0.7129464 (8000)\ttotal: 4m 14s\tremaining: 6m 21s\n"
     ]
    },
    {
     "name": "stdout",
     "output_type": "stream",
     "text": [
      "9000:\tlearn: 0.5570420\ttest: 0.7125112\tbest: 0.7125112 (9000)\ttotal: 4m 46s\tremaining: 5m 49s\n"
     ]
    },
    {
     "name": "stdout",
     "output_type": "stream",
     "text": [
      "10000:\tlearn: 0.5562112\ttest: 0.7121640\tbest: 0.7121640 (10000)\ttotal: 5m 18s\tremaining: 5m 18s\n"
     ]
    },
    {
     "name": "stdout",
     "output_type": "stream",
     "text": [
      "11000:\tlearn: 0.5554530\ttest: 0.7118571\tbest: 0.7118571 (11000)\ttotal: 5m 49s\tremaining: 4m 46s\n"
     ]
    },
    {
     "name": "stdout",
     "output_type": "stream",
     "text": [
      "12000:\tlearn: 0.5547401\ttest: 0.7116087\tbest: 0.7116084 (11998)\ttotal: 6m 21s\tremaining: 4m 14s\n"
     ]
    },
    {
     "name": "stdout",
     "output_type": "stream",
     "text": [
      "13000:\tlearn: 0.5540773\ttest: 0.7113929\tbest: 0.7113929 (13000)\ttotal: 6m 52s\tremaining: 3m 42s\n"
     ]
    },
    {
     "name": "stdout",
     "output_type": "stream",
     "text": [
      "14000:\tlearn: 0.5534368\ttest: 0.7112094\tbest: 0.7112094 (13999)\ttotal: 7m 24s\tremaining: 3m 10s\n"
     ]
    },
    {
     "name": "stdout",
     "output_type": "stream",
     "text": [
      "15000:\tlearn: 0.5528333\ttest: 0.7110706\tbest: 0.7110706 (15000)\ttotal: 7m 56s\tremaining: 2m 38s\n"
     ]
    },
    {
     "name": "stdout",
     "output_type": "stream",
     "text": [
      "16000:\tlearn: 0.5522550\ttest: 0.7109220\tbest: 0.7109219 (15998)\ttotal: 8m 27s\tremaining: 2m 6s\n"
     ]
    },
    {
     "name": "stdout",
     "output_type": "stream",
     "text": [
      "17000:\tlearn: 0.5516933\ttest: 0.7108128\tbest: 0.7108128 (17000)\ttotal: 8m 59s\tremaining: 1m 35s\n"
     ]
    },
    {
     "name": "stdout",
     "output_type": "stream",
     "text": [
      "18000:\tlearn: 0.5511461\ttest: 0.7107144\tbest: 0.7107144 (18000)\ttotal: 9m 30s\tremaining: 1m 3s\n"
     ]
    },
    {
     "name": "stdout",
     "output_type": "stream",
     "text": [
      "19000:\tlearn: 0.5506179\ttest: 0.7106283\tbest: 0.7106282 (18997)\ttotal: 10m 2s\tremaining: 31.7s\n"
     ]
    },
    {
     "name": "stdout",
     "output_type": "stream",
     "text": [
      "19999:\tlearn: 0.5501047\ttest: 0.7105427\tbest: 0.7105427 (19999)\ttotal: 10m 33s\tremaining: 0us\n",
      "\n",
      "bestTest = 0.7105426769\n",
      "bestIteration = 19999\n",
      "\n"
     ]
    },
    {
     "name": "stderr",
     "output_type": "stream",
     "text": [
      "\u001b[32m[I 2021-08-28 18:24:50,238]\u001b[0m Trial 9 finished with value: 0.710401508166964 and parameters: {'bootstrap_type': 'Bernoulli', 'max_depth': 4, 'learning_rate': 0.010053261072069752, 'max_bin': 492, 'min_data_in_leaf': 11, 'reg_lambda': 0.009131711595382182, 'subsample': 0.9290615742565314}. Best is trial 8 with value: 0.7102446277732508.\u001b[0m\n"
     ]
    },
    {
     "name": "stdout",
     "output_type": "stream",
     "text": [
      "0:\tlearn: 0.5943121\ttest: 0.7398270\tbest: 0.7398270 (0)\ttotal: 53.2ms\tremaining: 17m 42s\n"
     ]
    },
    {
     "name": "stdout",
     "output_type": "stream",
     "text": [
      "1000:\tlearn: 0.5711200\ttest: 0.7218995\tbest: 0.7218995 (1000)\ttotal: 43.8s\tremaining: 13m 51s\n"
     ]
    },
    {
     "name": "stdout",
     "output_type": "stream",
     "text": [
      "2000:\tlearn: 0.5653216\ttest: 0.7178651\tbest: 0.7178651 (2000)\ttotal: 1m 26s\tremaining: 12m 59s\n"
     ]
    },
    {
     "name": "stdout",
     "output_type": "stream",
     "text": [
      "3000:\tlearn: 0.5616211\ttest: 0.7154992\tbest: 0.7154992 (3000)\ttotal: 2m 9s\tremaining: 12m 11s\n"
     ]
    },
    {
     "name": "stdout",
     "output_type": "stream",
     "text": [
      "4000:\tlearn: 0.5590061\ttest: 0.7140913\tbest: 0.7140913 (4000)\ttotal: 2m 52s\tremaining: 11m 28s\n"
     ]
    },
    {
     "name": "stdout",
     "output_type": "stream",
     "text": [
      "5000:\tlearn: 0.5569286\ttest: 0.7131442\tbest: 0.7131442 (5000)\ttotal: 3m 35s\tremaining: 10m 45s\n"
     ]
    },
    {
     "name": "stdout",
     "output_type": "stream",
     "text": [
      "6000:\tlearn: 0.5551365\ttest: 0.7124799\tbest: 0.7124799 (6000)\ttotal: 4m 17s\tremaining: 10m\n"
     ]
    },
    {
     "name": "stdout",
     "output_type": "stream",
     "text": [
      "7000:\tlearn: 0.5534939\ttest: 0.7120112\tbest: 0.7120112 (7000)\ttotal: 4m 59s\tremaining: 9m 16s\n"
     ]
    },
    {
     "name": "stdout",
     "output_type": "stream",
     "text": [
      "8000:\tlearn: 0.5519599\ttest: 0.7116325\tbest: 0.7116325 (8000)\ttotal: 5m 42s\tremaining: 8m 33s\n"
     ]
    },
    {
     "name": "stdout",
     "output_type": "stream",
     "text": [
      "9000:\tlearn: 0.5505113\ttest: 0.7113491\tbest: 0.7113491 (8999)\ttotal: 6m 24s\tremaining: 7m 49s\n"
     ]
    },
    {
     "name": "stdout",
     "output_type": "stream",
     "text": [
      "10000:\tlearn: 0.5491064\ttest: 0.7111349\tbest: 0.7111349 (10000)\ttotal: 7m 6s\tremaining: 7m 5s\n"
     ]
    },
    {
     "name": "stdout",
     "output_type": "stream",
     "text": [
      "11000:\tlearn: 0.5477350\ttest: 0.7109539\tbest: 0.7109535 (10998)\ttotal: 7m 47s\tremaining: 6m 22s\n"
     ]
    },
    {
     "name": "stdout",
     "output_type": "stream",
     "text": [
      "12000:\tlearn: 0.5464071\ttest: 0.7108112\tbest: 0.7108111 (11999)\ttotal: 8m 30s\tremaining: 5m 39s\n"
     ]
    },
    {
     "name": "stdout",
     "output_type": "stream",
     "text": [
      "13000:\tlearn: 0.5451121\ttest: 0.7106846\tbest: 0.7106846 (13000)\ttotal: 9m 11s\tremaining: 4m 57s\n"
     ]
    },
    {
     "name": "stdout",
     "output_type": "stream",
     "text": [
      "14000:\tlearn: 0.5438357\ttest: 0.7106143\tbest: 0.7106114 (13972)\ttotal: 9m 53s\tremaining: 4m 14s\n"
     ]
    },
    {
     "name": "stdout",
     "output_type": "stream",
     "text": [
      "15000:\tlearn: 0.5425850\ttest: 0.7105172\tbest: 0.7105159 (14987)\ttotal: 10m 35s\tremaining: 3m 31s\n"
     ]
    },
    {
     "name": "stdout",
     "output_type": "stream",
     "text": [
      "16000:\tlearn: 0.5413591\ttest: 0.7104415\tbest: 0.7104387 (15991)\ttotal: 11m 18s\tremaining: 2m 49s\n"
     ]
    },
    {
     "name": "stdout",
     "output_type": "stream",
     "text": [
      "Stopped by overfitting detector  (200 iterations wait)\n",
      "\n",
      "bestTest = 0.7104137415\n",
      "bestIteration = 16383\n",
      "\n",
      "Shrink model to first 16384 iterations.\n"
     ]
    },
    {
     "name": "stdout",
     "output_type": "stream",
     "text": [
      "0:\tlearn: 0.5943157\ttest: 0.7398286\tbest: 0.7398286 (0)\ttotal: 47.9ms\tremaining: 15m 58s\n"
     ]
    },
    {
     "name": "stdout",
     "output_type": "stream",
     "text": [
      "1000:\tlearn: 0.5711042\ttest: 0.7218826\tbest: 0.7218826 (1000)\ttotal: 45.1s\tremaining: 14m 16s\n"
     ]
    },
    {
     "name": "stdout",
     "output_type": "stream",
     "text": [
      "2000:\tlearn: 0.5653497\ttest: 0.7178679\tbest: 0.7178679 (2000)\ttotal: 1m 27s\tremaining: 13m 6s\n"
     ]
    },
    {
     "name": "stdout",
     "output_type": "stream",
     "text": [
      "3000:\tlearn: 0.5616634\ttest: 0.7155504\tbest: 0.7155504 (3000)\ttotal: 2m 10s\tremaining: 12m 17s\n"
     ]
    },
    {
     "name": "stdout",
     "output_type": "stream",
     "text": [
      "4000:\tlearn: 0.5590424\ttest: 0.7141435\tbest: 0.7141435 (4000)\ttotal: 2m 52s\tremaining: 11m 29s\n"
     ]
    },
    {
     "name": "stdout",
     "output_type": "stream",
     "text": [
      "5000:\tlearn: 0.5569555\ttest: 0.7131812\tbest: 0.7131812 (5000)\ttotal: 3m 34s\tremaining: 10m 44s\n"
     ]
    },
    {
     "name": "stdout",
     "output_type": "stream",
     "text": [
      "6000:\tlearn: 0.5551538\ttest: 0.7125012\tbest: 0.7125012 (6000)\ttotal: 4m 17s\tremaining: 10m\n"
     ]
    },
    {
     "name": "stdout",
     "output_type": "stream",
     "text": [
      "7000:\tlearn: 0.5535195\ttest: 0.7120076\tbest: 0.7120076 (7000)\ttotal: 5m\tremaining: 9m 17s\n"
     ]
    },
    {
     "name": "stdout",
     "output_type": "stream",
     "text": [
      "8000:\tlearn: 0.5520022\ttest: 0.7116667\tbest: 0.7116667 (8000)\ttotal: 5m 41s\tremaining: 8m 32s\n"
     ]
    },
    {
     "name": "stdout",
     "output_type": "stream",
     "text": [
      "9000:\tlearn: 0.5505600\ttest: 0.7114185\tbest: 0.7114185 (9000)\ttotal: 6m 23s\tremaining: 7m 48s\n"
     ]
    },
    {
     "name": "stdout",
     "output_type": "stream",
     "text": [
      "10000:\tlearn: 0.5491609\ttest: 0.7111984\tbest: 0.7111982 (9999)\ttotal: 7m 4s\tremaining: 7m 4s\n"
     ]
    },
    {
     "name": "stdout",
     "output_type": "stream",
     "text": [
      "11000:\tlearn: 0.5478045\ttest: 0.7110256\tbest: 0.7110254 (10984)\ttotal: 7m 46s\tremaining: 6m 21s\n"
     ]
    },
    {
     "name": "stdout",
     "output_type": "stream",
     "text": [
      "12000:\tlearn: 0.5464842\ttest: 0.7108909\tbest: 0.7108904 (11979)\ttotal: 8m 27s\tremaining: 5m 38s\n"
     ]
    },
    {
     "name": "stdout",
     "output_type": "stream",
     "text": [
      "13000:\tlearn: 0.5451917\ttest: 0.7107737\tbest: 0.7107734 (12999)\ttotal: 9m 8s\tremaining: 4m 55s\n"
     ]
    },
    {
     "name": "stdout",
     "output_type": "stream",
     "text": [
      "14000:\tlearn: 0.5439168\ttest: 0.7106821\tbest: 0.7106821 (14000)\ttotal: 9m 50s\tremaining: 4m 13s\n"
     ]
    },
    {
     "name": "stdout",
     "output_type": "stream",
     "text": [
      "Stopped by overfitting detector  (200 iterations wait)\n",
      "\n",
      "bestTest = 0.7106634652\n",
      "bestIteration = 14288\n",
      "\n",
      "Shrink model to first 14289 iterations.\n"
     ]
    },
    {
     "name": "stderr",
     "output_type": "stream",
     "text": [
      "\u001b[32m[I 2021-08-28 18:46:52,238]\u001b[0m Trial 10 finished with value: 0.7104293898696878 and parameters: {'bootstrap_type': 'Bernoulli', 'max_depth': 6, 'learning_rate': 0.010000218856087236, 'max_bin': 487, 'min_data_in_leaf': 12, 'reg_lambda': 0.008755847134768156, 'subsample': 0.9309927660028469}. Best is trial 8 with value: 0.7102446277732508.\u001b[0m\n"
     ]
    },
    {
     "name": "stdout",
     "output_type": "stream",
     "text": [
      "0:\tlearn: 0.5943288\ttest: 0.7398404\tbest: 0.7398404 (0)\ttotal: 42.9ms\tremaining: 14m 17s\n"
     ]
    },
    {
     "name": "stdout",
     "output_type": "stream",
     "text": [
      "1000:\tlearn: 0.5726330\ttest: 0.7228295\tbest: 0.7228295 (1000)\ttotal: 37.1s\tremaining: 11m 44s\n"
     ]
    },
    {
     "name": "stdout",
     "output_type": "stream",
     "text": [
      "2000:\tlearn: 0.5672581\ttest: 0.7189931\tbest: 0.7189931 (2000)\ttotal: 1m 13s\tremaining: 11m 5s\n"
     ]
    },
    {
     "name": "stdout",
     "output_type": "stream",
     "text": [
      "3000:\tlearn: 0.5637543\ttest: 0.7166110\tbest: 0.7166110 (3000)\ttotal: 1m 51s\tremaining: 10m 30s\n"
     ]
    },
    {
     "name": "stdout",
     "output_type": "stream",
     "text": [
      "4000:\tlearn: 0.5612311\ttest: 0.7150347\tbest: 0.7150347 (4000)\ttotal: 2m 28s\tremaining: 9m 53s\n"
     ]
    },
    {
     "name": "stdout",
     "output_type": "stream",
     "text": [
      "5000:\tlearn: 0.5593391\ttest: 0.7139717\tbest: 0.7139717 (5000)\ttotal: 3m 5s\tremaining: 9m 15s\n"
     ]
    },
    {
     "name": "stdout",
     "output_type": "stream",
     "text": [
      "6000:\tlearn: 0.5577724\ttest: 0.7131752\tbest: 0.7131752 (6000)\ttotal: 3m 42s\tremaining: 8m 38s\n"
     ]
    },
    {
     "name": "stdout",
     "output_type": "stream",
     "text": [
      "7000:\tlearn: 0.5564302\ttest: 0.7125655\tbest: 0.7125655 (7000)\ttotal: 4m 19s\tremaining: 8m 1s\n"
     ]
    },
    {
     "name": "stdout",
     "output_type": "stream",
     "text": [
      "8000:\tlearn: 0.5552247\ttest: 0.7121093\tbest: 0.7121093 (7999)\ttotal: 4m 56s\tremaining: 7m 24s\n"
     ]
    },
    {
     "name": "stdout",
     "output_type": "stream",
     "text": [
      "9000:\tlearn: 0.5541255\ttest: 0.7117584\tbest: 0.7117584 (9000)\ttotal: 5m 33s\tremaining: 6m 47s\n"
     ]
    },
    {
     "name": "stdout",
     "output_type": "stream",
     "text": [
      "10000:\tlearn: 0.5530950\ttest: 0.7114865\tbest: 0.7114860 (9998)\ttotal: 6m 10s\tremaining: 6m 10s\n"
     ]
    },
    {
     "name": "stdout",
     "output_type": "stream",
     "text": [
      "11000:\tlearn: 0.5521129\ttest: 0.7112627\tbest: 0.7112627 (11000)\ttotal: 6m 48s\tremaining: 5m 33s\n"
     ]
    },
    {
     "name": "stdout",
     "output_type": "stream",
     "text": [
      "12000:\tlearn: 0.5511650\ttest: 0.7110708\tbest: 0.7110708 (12000)\ttotal: 7m 25s\tremaining: 4m 56s\n"
     ]
    },
    {
     "name": "stdout",
     "output_type": "stream",
     "text": [
      "13000:\tlearn: 0.5502538\ttest: 0.7109085\tbest: 0.7109085 (13000)\ttotal: 8m 2s\tremaining: 4m 19s\n"
     ]
    },
    {
     "name": "stdout",
     "output_type": "stream",
     "text": [
      "14000:\tlearn: 0.5493636\ttest: 0.7107646\tbest: 0.7107646 (14000)\ttotal: 8m 39s\tremaining: 3m 42s\n"
     ]
    },
    {
     "name": "stdout",
     "output_type": "stream",
     "text": [
      "15000:\tlearn: 0.5485115\ttest: 0.7106436\tbest: 0.7106436 (15000)\ttotal: 9m 15s\tremaining: 3m 5s\n"
     ]
    },
    {
     "name": "stdout",
     "output_type": "stream",
     "text": [
      "16000:\tlearn: 0.5476699\ttest: 0.7105413\tbest: 0.7105413 (16000)\ttotal: 9m 52s\tremaining: 2m 28s\n"
     ]
    },
    {
     "name": "stdout",
     "output_type": "stream",
     "text": [
      "17000:\tlearn: 0.5468337\ttest: 0.7104645\tbest: 0.7104634 (16963)\ttotal: 10m 28s\tremaining: 1m 50s\n"
     ]
    },
    {
     "name": "stdout",
     "output_type": "stream",
     "text": [
      "18000:\tlearn: 0.5460213\ttest: 0.7103838\tbest: 0.7103830 (17979)\ttotal: 11m 5s\tremaining: 1m 13s\n"
     ]
    },
    {
     "name": "stdout",
     "output_type": "stream",
     "text": [
      "19000:\tlearn: 0.5452217\ttest: 0.7103254\tbest: 0.7103247 (18991)\ttotal: 11m 41s\tremaining: 36.9s\n"
     ]
    },
    {
     "name": "stdout",
     "output_type": "stream",
     "text": [
      "19999:\tlearn: 0.5444427\ttest: 0.7102836\tbest: 0.7102824 (19980)\ttotal: 12m 17s\tremaining: 0us\n",
      "\n",
      "bestTest = 0.7102824414\n",
      "bestIteration = 19980\n",
      "\n",
      "Shrink model to first 19981 iterations.\n"
     ]
    },
    {
     "name": "stdout",
     "output_type": "stream",
     "text": [
      "0:\tlearn: 0.5943321\ttest: 0.7398419\tbest: 0.7398419 (0)\ttotal: 43.2ms\tremaining: 14m 23s\n"
     ]
    },
    {
     "name": "stdout",
     "output_type": "stream",
     "text": [
      "1000:\tlearn: 0.5726228\ttest: 0.7228332\tbest: 0.7228332 (1000)\ttotal: 37.7s\tremaining: 11m 54s\n"
     ]
    },
    {
     "name": "stdout",
     "output_type": "stream",
     "text": [
      "2000:\tlearn: 0.5671699\ttest: 0.7189024\tbest: 0.7189024 (2000)\ttotal: 1m 14s\tremaining: 11m 9s\n"
     ]
    },
    {
     "name": "stdout",
     "output_type": "stream",
     "text": [
      "3000:\tlearn: 0.5637195\ttest: 0.7165750\tbest: 0.7165750 (3000)\ttotal: 1m 51s\tremaining: 10m 29s\n"
     ]
    },
    {
     "name": "stdout",
     "output_type": "stream",
     "text": [
      "4000:\tlearn: 0.5612143\ttest: 0.7150394\tbest: 0.7150394 (4000)\ttotal: 2m 28s\tremaining: 9m 55s\n"
     ]
    },
    {
     "name": "stdout",
     "output_type": "stream",
     "text": [
      "5000:\tlearn: 0.5592822\ttest: 0.7139491\tbest: 0.7139491 (5000)\ttotal: 3m 6s\tremaining: 9m 19s\n"
     ]
    },
    {
     "name": "stdout",
     "output_type": "stream",
     "text": [
      "6000:\tlearn: 0.5577115\ttest: 0.7131488\tbest: 0.7131488 (6000)\ttotal: 3m 44s\tremaining: 8m 43s\n"
     ]
    },
    {
     "name": "stdout",
     "output_type": "stream",
     "text": [
      "7000:\tlearn: 0.5563638\ttest: 0.7125488\tbest: 0.7125488 (7000)\ttotal: 4m 21s\tremaining: 8m 5s\n"
     ]
    },
    {
     "name": "stdout",
     "output_type": "stream",
     "text": [
      "8000:\tlearn: 0.5551689\ttest: 0.7121147\tbest: 0.7121147 (8000)\ttotal: 4m 58s\tremaining: 7m 27s\n"
     ]
    },
    {
     "name": "stdout",
     "output_type": "stream",
     "text": [
      "9000:\tlearn: 0.5540738\ttest: 0.7117763\tbest: 0.7117763 (8999)\ttotal: 5m 34s\tremaining: 6m 48s\n"
     ]
    },
    {
     "name": "stdout",
     "output_type": "stream",
     "text": [
      "10000:\tlearn: 0.5530473\ttest: 0.7114939\tbest: 0.7114937 (9996)\ttotal: 6m 10s\tremaining: 6m 10s\n"
     ]
    },
    {
     "name": "stdout",
     "output_type": "stream",
     "text": [
      "11000:\tlearn: 0.5520664\ttest: 0.7112994\tbest: 0.7112993 (10998)\ttotal: 6m 47s\tremaining: 5m 33s\n"
     ]
    },
    {
     "name": "stdout",
     "output_type": "stream",
     "text": [
      "12000:\tlearn: 0.5511211\ttest: 0.7111375\tbest: 0.7111375 (12000)\ttotal: 7m 23s\tremaining: 4m 55s\n"
     ]
    },
    {
     "name": "stdout",
     "output_type": "stream",
     "text": [
      "13000:\tlearn: 0.5502143\ttest: 0.7109702\tbest: 0.7109702 (13000)\ttotal: 7m 59s\tremaining: 4m 18s\n"
     ]
    },
    {
     "name": "stdout",
     "output_type": "stream",
     "text": [
      "14000:\tlearn: 0.5493392\ttest: 0.7108480\tbest: 0.7108480 (14000)\ttotal: 8m 35s\tremaining: 3m 41s\n"
     ]
    },
    {
     "name": "stdout",
     "output_type": "stream",
     "text": [
      "15000:\tlearn: 0.5484783\ttest: 0.7107535\tbest: 0.7107535 (15000)\ttotal: 9m 11s\tremaining: 3m 3s\n"
     ]
    },
    {
     "name": "stdout",
     "output_type": "stream",
     "text": [
      "16000:\tlearn: 0.5476415\ttest: 0.7106709\tbest: 0.7106705 (15999)\ttotal: 9m 47s\tremaining: 2m 26s\n"
     ]
    },
    {
     "name": "stdout",
     "output_type": "stream",
     "text": [
      "17000:\tlearn: 0.5468227\ttest: 0.7105875\tbest: 0.7105874 (16996)\ttotal: 10m 23s\tremaining: 1m 49s\n"
     ]
    },
    {
     "name": "stdout",
     "output_type": "stream",
     "text": [
      "18000:\tlearn: 0.5460144\ttest: 0.7105120\tbest: 0.7105118 (17998)\ttotal: 10m 58s\tremaining: 1m 13s\n"
     ]
    },
    {
     "name": "stdout",
     "output_type": "stream",
     "text": [
      "19000:\tlearn: 0.5452246\ttest: 0.7104612\tbest: 0.7104612 (18998)\ttotal: 11m 34s\tremaining: 36.5s\n"
     ]
    },
    {
     "name": "stdout",
     "output_type": "stream",
     "text": [
      "19999:\tlearn: 0.5444419\ttest: 0.7104146\tbest: 0.7104141 (19996)\ttotal: 12m 10s\tremaining: 0us\n",
      "\n",
      "bestTest = 0.710414135\n",
      "bestIteration = 19996\n",
      "\n",
      "Shrink model to first 19997 iterations.\n"
     ]
    },
    {
     "name": "stderr",
     "output_type": "stream",
     "text": [
      "\u001b[32m[I 2021-08-28 19:11:30,471]\u001b[0m Trial 11 finished with value: 0.7102411042041764 and parameters: {'bootstrap_type': 'Bernoulli', 'max_depth': 5, 'learning_rate': 0.010066712451342703, 'max_bin': 492, 'min_data_in_leaf': 12, 'reg_lambda': 0.00905555837805129, 'subsample': 0.9266212127553198}. Best is trial 11 with value: 0.7102411042041764.\u001b[0m\n"
     ]
    },
    {
     "name": "stdout",
     "output_type": "stream",
     "text": [
      "0:\tlearn: 0.5943291\ttest: 0.7398406\tbest: 0.7398406 (0)\ttotal: 55.4ms\tremaining: 18m 28s\n"
     ]
    },
    {
     "name": "stdout",
     "output_type": "stream",
     "text": [
      "1000:\tlearn: 0.5726373\ttest: 0.7228418\tbest: 0.7228418 (1000)\ttotal: 37.7s\tremaining: 11m 55s\n"
     ]
    },
    {
     "name": "stdout",
     "output_type": "stream",
     "text": [
      "2000:\tlearn: 0.5672234\ttest: 0.7189725\tbest: 0.7189725 (2000)\ttotal: 1m 13s\tremaining: 11m 5s\n"
     ]
    },
    {
     "name": "stdout",
     "output_type": "stream",
     "text": [
      "3000:\tlearn: 0.5637442\ttest: 0.7165857\tbest: 0.7165857 (3000)\ttotal: 1m 50s\tremaining: 10m 27s\n"
     ]
    },
    {
     "name": "stdout",
     "output_type": "stream",
     "text": [
      "4000:\tlearn: 0.5612444\ttest: 0.7150386\tbest: 0.7150386 (4000)\ttotal: 2m 27s\tremaining: 9m 51s\n"
     ]
    },
    {
     "name": "stdout",
     "output_type": "stream",
     "text": [
      "5000:\tlearn: 0.5593442\ttest: 0.7139719\tbest: 0.7139719 (5000)\ttotal: 3m 4s\tremaining: 9m 13s\n"
     ]
    },
    {
     "name": "stdout",
     "output_type": "stream",
     "text": [
      "6000:\tlearn: 0.5577898\ttest: 0.7131764\tbest: 0.7131764 (6000)\ttotal: 3m 41s\tremaining: 8m 36s\n"
     ]
    },
    {
     "name": "stdout",
     "output_type": "stream",
     "text": [
      "7000:\tlearn: 0.5564561\ttest: 0.7125827\tbest: 0.7125827 (7000)\ttotal: 4m 18s\tremaining: 7m 59s\n"
     ]
    },
    {
     "name": "stdout",
     "output_type": "stream",
     "text": [
      "8000:\tlearn: 0.5552430\ttest: 0.7121215\tbest: 0.7121215 (8000)\ttotal: 4m 54s\tremaining: 7m 22s\n"
     ]
    },
    {
     "name": "stdout",
     "output_type": "stream",
     "text": [
      "9000:\tlearn: 0.5541409\ttest: 0.7117777\tbest: 0.7117776 (8999)\ttotal: 5m 31s\tremaining: 6m 45s\n"
     ]
    },
    {
     "name": "stdout",
     "output_type": "stream",
     "text": [
      "10000:\tlearn: 0.5531108\ttest: 0.7115166\tbest: 0.7115161 (9999)\ttotal: 6m 8s\tremaining: 6m 8s\n"
     ]
    },
    {
     "name": "stdout",
     "output_type": "stream",
     "text": [
      "11000:\tlearn: 0.5521204\ttest: 0.7112703\tbest: 0.7112703 (11000)\ttotal: 6m 44s\tremaining: 5m 31s\n"
     ]
    },
    {
     "name": "stdout",
     "output_type": "stream",
     "text": [
      "12000:\tlearn: 0.5511769\ttest: 0.7110683\tbest: 0.7110683 (12000)\ttotal: 7m 21s\tremaining: 4m 54s\n"
     ]
    },
    {
     "name": "stdout",
     "output_type": "stream",
     "text": [
      "13000:\tlearn: 0.5502675\ttest: 0.7109000\tbest: 0.7108999 (12995)\ttotal: 7m 57s\tremaining: 4m 16s\n"
     ]
    },
    {
     "name": "stdout",
     "output_type": "stream",
     "text": [
      "14000:\tlearn: 0.5493757\ttest: 0.7107594\tbest: 0.7107591 (13996)\ttotal: 8m 33s\tremaining: 3m 40s\n"
     ]
    },
    {
     "name": "stdout",
     "output_type": "stream",
     "text": [
      "15000:\tlearn: 0.5485167\ttest: 0.7106502\tbest: 0.7106502 (15000)\ttotal: 9m 9s\tremaining: 3m 3s\n"
     ]
    },
    {
     "name": "stdout",
     "output_type": "stream",
     "text": [
      "16000:\tlearn: 0.5476707\ttest: 0.7105565\tbest: 0.7105565 (16000)\ttotal: 9m 45s\tremaining: 2m 26s\n"
     ]
    },
    {
     "name": "stdout",
     "output_type": "stream",
     "text": [
      "17000:\tlearn: 0.5468431\ttest: 0.7104849\tbest: 0.7104849 (17000)\ttotal: 10m 21s\tremaining: 1m 49s\n"
     ]
    },
    {
     "name": "stdout",
     "output_type": "stream",
     "text": [
      "18000:\tlearn: 0.5460344\ttest: 0.7104127\tbest: 0.7104121 (17979)\ttotal: 10m 58s\tremaining: 1m 13s\n"
     ]
    },
    {
     "name": "stdout",
     "output_type": "stream",
     "text": [
      "19000:\tlearn: 0.5452331\ttest: 0.7103532\tbest: 0.7103524 (18991)\ttotal: 11m 35s\tremaining: 36.5s\n"
     ]
    },
    {
     "name": "stdout",
     "output_type": "stream",
     "text": [
      "19999:\tlearn: 0.5444502\ttest: 0.7103070\tbest: 0.7103070 (19981)\ttotal: 12m 11s\tremaining: 0us\n",
      "\n",
      "bestTest = 0.7103069699\n",
      "bestIteration = 19981\n",
      "\n",
      "Shrink model to first 19982 iterations.\n"
     ]
    },
    {
     "name": "stdout",
     "output_type": "stream",
     "text": [
      "0:\tlearn: 0.5943321\ttest: 0.7398420\tbest: 0.7398420 (0)\ttotal: 41.9ms\tremaining: 13m 58s\n"
     ]
    },
    {
     "name": "stdout",
     "output_type": "stream",
     "text": [
      "1000:\tlearn: 0.5726569\ttest: 0.7228605\tbest: 0.7228605 (1000)\ttotal: 37.5s\tremaining: 11m 51s\n"
     ]
    },
    {
     "name": "stdout",
     "output_type": "stream",
     "text": [
      "2000:\tlearn: 0.5671572\ttest: 0.7189019\tbest: 0.7189019 (2000)\ttotal: 1m 14s\tremaining: 11m 9s\n"
     ]
    },
    {
     "name": "stdout",
     "output_type": "stream",
     "text": [
      "3000:\tlearn: 0.5637415\ttest: 0.7165983\tbest: 0.7165983 (3000)\ttotal: 1m 51s\tremaining: 10m 29s\n"
     ]
    },
    {
     "name": "stdout",
     "output_type": "stream",
     "text": [
      "4000:\tlearn: 0.5612277\ttest: 0.7150458\tbest: 0.7150457 (3998)\ttotal: 2m 28s\tremaining: 9m 52s\n"
     ]
    },
    {
     "name": "stdout",
     "output_type": "stream",
     "text": [
      "5000:\tlearn: 0.5592984\ttest: 0.7139536\tbest: 0.7139536 (5000)\ttotal: 3m 5s\tremaining: 9m 14s\n"
     ]
    },
    {
     "name": "stdout",
     "output_type": "stream",
     "text": [
      "6000:\tlearn: 0.5577258\ttest: 0.7131457\tbest: 0.7131457 (6000)\ttotal: 3m 43s\tremaining: 8m 40s\n"
     ]
    },
    {
     "name": "stdout",
     "output_type": "stream",
     "text": [
      "7000:\tlearn: 0.5563723\ttest: 0.7125448\tbest: 0.7125448 (7000)\ttotal: 4m 20s\tremaining: 8m 4s\n"
     ]
    },
    {
     "name": "stdout",
     "output_type": "stream",
     "text": [
      "8000:\tlearn: 0.5551770\ttest: 0.7121016\tbest: 0.7121016 (8000)\ttotal: 4m 57s\tremaining: 7m 25s\n"
     ]
    },
    {
     "name": "stdout",
     "output_type": "stream",
     "text": [
      "9000:\tlearn: 0.5540861\ttest: 0.7117455\tbest: 0.7117455 (9000)\ttotal: 5m 33s\tremaining: 6m 47s\n"
     ]
    },
    {
     "name": "stdout",
     "output_type": "stream",
     "text": [
      "10000:\tlearn: 0.5530565\ttest: 0.7114667\tbest: 0.7114666 (9996)\ttotal: 6m 9s\tremaining: 6m 9s\n"
     ]
    },
    {
     "name": "stdout",
     "output_type": "stream",
     "text": [
      "11000:\tlearn: 0.5520726\ttest: 0.7112669\tbest: 0.7112669 (11000)\ttotal: 6m 46s\tremaining: 5m 32s\n"
     ]
    },
    {
     "name": "stdout",
     "output_type": "stream",
     "text": [
      "12000:\tlearn: 0.5511331\ttest: 0.7110974\tbest: 0.7110974 (12000)\ttotal: 7m 22s\tremaining: 4m 54s\n"
     ]
    },
    {
     "name": "stdout",
     "output_type": "stream",
     "text": [
      "13000:\tlearn: 0.5502272\ttest: 0.7109423\tbest: 0.7109423 (13000)\ttotal: 7m 59s\tremaining: 4m 17s\n"
     ]
    },
    {
     "name": "stdout",
     "output_type": "stream",
     "text": [
      "14000:\tlearn: 0.5493501\ttest: 0.7108160\tbest: 0.7108157 (13979)\ttotal: 8m 35s\tremaining: 3m 40s\n"
     ]
    },
    {
     "name": "stdout",
     "output_type": "stream",
     "text": [
      "15000:\tlearn: 0.5484869\ttest: 0.7107169\tbest: 0.7107169 (15000)\ttotal: 9m 11s\tremaining: 3m 3s\n"
     ]
    },
    {
     "name": "stdout",
     "output_type": "stream",
     "text": [
      "16000:\tlearn: 0.5476507\ttest: 0.7106353\tbest: 0.7106350 (15999)\ttotal: 9m 46s\tremaining: 2m 26s\n"
     ]
    },
    {
     "name": "stdout",
     "output_type": "stream",
     "text": [
      "17000:\tlearn: 0.5468297\ttest: 0.7105611\tbest: 0.7105607 (16996)\ttotal: 10m 22s\tremaining: 1m 49s\n"
     ]
    },
    {
     "name": "stdout",
     "output_type": "stream",
     "text": [
      "18000:\tlearn: 0.5460240\ttest: 0.7105013\tbest: 0.7105011 (17998)\ttotal: 10m 58s\tremaining: 1m 13s\n"
     ]
    },
    {
     "name": "stdout",
     "output_type": "stream",
     "text": [
      "19000:\tlearn: 0.5452323\ttest: 0.7104512\tbest: 0.7104500 (18985)\ttotal: 11m 34s\tremaining: 36.5s\n"
     ]
    },
    {
     "name": "stdout",
     "output_type": "stream",
     "text": [
      "19999:\tlearn: 0.5444524\ttest: 0.7104122\tbest: 0.7104117 (19996)\ttotal: 12m 10s\tremaining: 0us\n",
      "\n",
      "bestTest = 0.7104116706\n",
      "bestIteration = 19996\n",
      "\n",
      "Shrink model to first 19997 iterations.\n"
     ]
    },
    {
     "name": "stderr",
     "output_type": "stream",
     "text": [
      "\u001b[32m[I 2021-08-28 19:36:03,017]\u001b[0m Trial 12 finished with value: 0.710252059725351 and parameters: {'bootstrap_type': 'Bernoulli', 'max_depth': 5, 'learning_rate': 0.010064825705788002, 'max_bin': 492, 'min_data_in_leaf': 12, 'reg_lambda': 0.00898988170469865, 'subsample': 0.9262034276207439}. Best is trial 11 with value: 0.7102411042041764.\u001b[0m\n"
     ]
    },
    {
     "name": "stdout",
     "output_type": "stream",
     "text": [
      "0:\tlearn: 0.5943300\ttest: 0.7398415\tbest: 0.7398415 (0)\ttotal: 43.1ms\tremaining: 14m 22s\n"
     ]
    },
    {
     "name": "stdout",
     "output_type": "stream",
     "text": [
      "1000:\tlearn: 0.5726778\ttest: 0.7228716\tbest: 0.7228716 (1000)\ttotal: 37.6s\tremaining: 11m 53s\n"
     ]
    },
    {
     "name": "stdout",
     "output_type": "stream",
     "text": [
      "2000:\tlearn: 0.5672110\ttest: 0.7189401\tbest: 0.7189401 (2000)\ttotal: 1m 14s\tremaining: 11m 7s\n"
     ]
    },
    {
     "name": "stdout",
     "output_type": "stream",
     "text": [
      "3000:\tlearn: 0.5637468\ttest: 0.7165789\tbest: 0.7165789 (3000)\ttotal: 1m 50s\tremaining: 10m 27s\n"
     ]
    },
    {
     "name": "stdout",
     "output_type": "stream",
     "text": [
      "4000:\tlearn: 0.5612433\ttest: 0.7150238\tbest: 0.7150238 (4000)\ttotal: 2m 27s\tremaining: 9m 51s\n"
     ]
    },
    {
     "name": "stdout",
     "output_type": "stream",
     "text": [
      "5000:\tlearn: 0.5593501\ttest: 0.7139451\tbest: 0.7139451 (5000)\ttotal: 3m 4s\tremaining: 9m 14s\n"
     ]
    },
    {
     "name": "stdout",
     "output_type": "stream",
     "text": [
      "6000:\tlearn: 0.5578041\ttest: 0.7131689\tbest: 0.7131689 (6000)\ttotal: 3m 41s\tremaining: 8m 37s\n"
     ]
    },
    {
     "name": "stdout",
     "output_type": "stream",
     "text": [
      "7000:\tlearn: 0.5564591\ttest: 0.7125407\tbest: 0.7125407 (7000)\ttotal: 4m 18s\tremaining: 8m\n"
     ]
    },
    {
     "name": "stdout",
     "output_type": "stream",
     "text": [
      "8000:\tlearn: 0.5552624\ttest: 0.7120858\tbest: 0.7120858 (8000)\ttotal: 4m 55s\tremaining: 7m 23s\n"
     ]
    },
    {
     "name": "stdout",
     "output_type": "stream",
     "text": [
      "9000:\tlearn: 0.5541715\ttest: 0.7117406\tbest: 0.7117405 (8999)\ttotal: 5m 31s\tremaining: 6m 45s\n"
     ]
    },
    {
     "name": "stdout",
     "output_type": "stream",
     "text": [
      "10000:\tlearn: 0.5531511\ttest: 0.7114844\tbest: 0.7114844 (10000)\ttotal: 6m 8s\tremaining: 6m 8s\n"
     ]
    },
    {
     "name": "stdout",
     "output_type": "stream",
     "text": [
      "11000:\tlearn: 0.5521648\ttest: 0.7112425\tbest: 0.7112425 (11000)\ttotal: 6m 44s\tremaining: 5m 30s\n"
     ]
    },
    {
     "name": "stdout",
     "output_type": "stream",
     "text": [
      "12000:\tlearn: 0.5512223\ttest: 0.7110520\tbest: 0.7110520 (12000)\ttotal: 7m 20s\tremaining: 4m 53s\n"
     ]
    },
    {
     "name": "stdout",
     "output_type": "stream",
     "text": [
      "13000:\tlearn: 0.5503096\ttest: 0.7108886\tbest: 0.7108886 (13000)\ttotal: 7m 56s\tremaining: 4m 16s\n"
     ]
    },
    {
     "name": "stdout",
     "output_type": "stream",
     "text": [
      "14000:\tlearn: 0.5494266\ttest: 0.7107511\tbest: 0.7107507 (13995)\ttotal: 8m 32s\tremaining: 3m 39s\n"
     ]
    },
    {
     "name": "stdout",
     "output_type": "stream",
     "text": [
      "15000:\tlearn: 0.5485734\ttest: 0.7106481\tbest: 0.7106481 (14993)\ttotal: 9m 8s\tremaining: 3m 2s\n"
     ]
    },
    {
     "name": "stdout",
     "output_type": "stream",
     "text": [
      "16000:\tlearn: 0.5477367\ttest: 0.7105591\tbest: 0.7105591 (16000)\ttotal: 9m 44s\tremaining: 2m 26s\n"
     ]
    },
    {
     "name": "stdout",
     "output_type": "stream",
     "text": [
      "17000:\tlearn: 0.5469091\ttest: 0.7104911\tbest: 0.7104911 (16988)\ttotal: 10m 20s\tremaining: 1m 49s\n"
     ]
    },
    {
     "name": "stdout",
     "output_type": "stream",
     "text": [
      "18000:\tlearn: 0.5461022\ttest: 0.7104193\tbest: 0.7104193 (18000)\ttotal: 10m 56s\tremaining: 1m 12s\n"
     ]
    },
    {
     "name": "stdout",
     "output_type": "stream",
     "text": [
      "19000:\tlearn: 0.5453076\ttest: 0.7103435\tbest: 0.7103420 (18991)\ttotal: 11m 32s\tremaining: 36.4s\n"
     ]
    },
    {
     "name": "stdout",
     "output_type": "stream",
     "text": [
      "19999:\tlearn: 0.5445245\ttest: 0.7102976\tbest: 0.7102976 (19999)\ttotal: 12m 8s\tremaining: 0us\n",
      "\n",
      "bestTest = 0.7102976158\n",
      "bestIteration = 19999\n",
      "\n"
     ]
    },
    {
     "name": "stdout",
     "output_type": "stream",
     "text": [
      "0:\tlearn: 0.5943366\ttest: 0.7398424\tbest: 0.7398424 (0)\ttotal: 43ms\tremaining: 14m 20s\n"
     ]
    },
    {
     "name": "stdout",
     "output_type": "stream",
     "text": [
      "1000:\tlearn: 0.5726072\ttest: 0.7228317\tbest: 0.7228317 (1000)\ttotal: 37s\tremaining: 11m 42s\n"
     ]
    },
    {
     "name": "stdout",
     "output_type": "stream",
     "text": [
      "2000:\tlearn: 0.5672152\ttest: 0.7189603\tbest: 0.7189603 (2000)\ttotal: 1m 12s\tremaining: 10m 56s\n"
     ]
    },
    {
     "name": "stdout",
     "output_type": "stream",
     "text": [
      "3000:\tlearn: 0.5637604\ttest: 0.7166212\tbest: 0.7166212 (3000)\ttotal: 1m 49s\tremaining: 10m 19s\n"
     ]
    },
    {
     "name": "stdout",
     "output_type": "stream",
     "text": [
      "4000:\tlearn: 0.5612691\ttest: 0.7150750\tbest: 0.7150750 (4000)\ttotal: 2m 26s\tremaining: 9m 44s\n"
     ]
    },
    {
     "name": "stdout",
     "output_type": "stream",
     "text": [
      "5000:\tlearn: 0.5593469\ttest: 0.7139973\tbest: 0.7139973 (5000)\ttotal: 3m 2s\tremaining: 9m 7s\n"
     ]
    },
    {
     "name": "stdout",
     "output_type": "stream",
     "text": [
      "6000:\tlearn: 0.5577697\ttest: 0.7131776\tbest: 0.7131776 (6000)\ttotal: 3m 39s\tremaining: 8m 31s\n"
     ]
    },
    {
     "name": "stdout",
     "output_type": "stream",
     "text": [
      "7000:\tlearn: 0.5564299\ttest: 0.7125787\tbest: 0.7125783 (6998)\ttotal: 4m 15s\tremaining: 7m 55s\n"
     ]
    },
    {
     "name": "stdout",
     "output_type": "stream",
     "text": [
      "8000:\tlearn: 0.5552397\ttest: 0.7121469\tbest: 0.7121469 (8000)\ttotal: 4m 52s\tremaining: 7m 17s\n"
     ]
    },
    {
     "name": "stdout",
     "output_type": "stream",
     "text": [
      "9000:\tlearn: 0.5541423\ttest: 0.7117912\tbest: 0.7117912 (9000)\ttotal: 5m 28s\tremaining: 6m 41s\n"
     ]
    },
    {
     "name": "stdout",
     "output_type": "stream",
     "text": [
      "10000:\tlearn: 0.5531196\ttest: 0.7115015\tbest: 0.7115015 (10000)\ttotal: 6m 4s\tremaining: 6m 4s\n"
     ]
    },
    {
     "name": "stdout",
     "output_type": "stream",
     "text": [
      "11000:\tlearn: 0.5521433\ttest: 0.7112915\tbest: 0.7112910 (10997)\ttotal: 6m 40s\tremaining: 5m 27s\n"
     ]
    },
    {
     "name": "stdout",
     "output_type": "stream",
     "text": [
      "12000:\tlearn: 0.5512065\ttest: 0.7111145\tbest: 0.7111140 (11997)\ttotal: 7m 16s\tremaining: 4m 50s\n"
     ]
    },
    {
     "name": "stdout",
     "output_type": "stream",
     "text": [
      "13000:\tlearn: 0.5502995\ttest: 0.7109509\tbest: 0.7109509 (13000)\ttotal: 7m 52s\tremaining: 4m 14s\n"
     ]
    },
    {
     "name": "stdout",
     "output_type": "stream",
     "text": [
      "14000:\tlearn: 0.5494276\ttest: 0.7108167\tbest: 0.7108167 (14000)\ttotal: 8m 27s\tremaining: 3m 37s\n"
     ]
    },
    {
     "name": "stdout",
     "output_type": "stream",
     "text": [
      "15000:\tlearn: 0.5485698\ttest: 0.7107274\tbest: 0.7107274 (15000)\ttotal: 9m 3s\tremaining: 3m 1s\n"
     ]
    },
    {
     "name": "stdout",
     "output_type": "stream",
     "text": [
      "16000:\tlearn: 0.5477366\ttest: 0.7106416\tbest: 0.7106413 (15999)\ttotal: 9m 39s\tremaining: 2m 24s\n"
     ]
    },
    {
     "name": "stdout",
     "output_type": "stream",
     "text": [
      "17000:\tlearn: 0.5469209\ttest: 0.7105558\tbest: 0.7105556 (16996)\ttotal: 10m 14s\tremaining: 1m 48s\n"
     ]
    },
    {
     "name": "stdout",
     "output_type": "stream",
     "text": [
      "18000:\tlearn: 0.5461160\ttest: 0.7104900\tbest: 0.7104897 (17998)\ttotal: 10m 50s\tremaining: 1m 12s\n"
     ]
    },
    {
     "name": "stdout",
     "output_type": "stream",
     "text": [
      "19000:\tlearn: 0.5453305\ttest: 0.7104359\tbest: 0.7104342 (18987)\ttotal: 11m 26s\tremaining: 36.1s\n"
     ]
    },
    {
     "name": "stdout",
     "output_type": "stream",
     "text": [
      "19999:\tlearn: 0.5445544\ttest: 0.7103848\tbest: 0.7103841 (19996)\ttotal: 12m 1s\tremaining: 0us\n",
      "\n",
      "bestTest = 0.7103841402\n",
      "bestIteration = 19996\n",
      "\n",
      "Shrink model to first 19997 iterations.\n"
     ]
    },
    {
     "name": "stderr",
     "output_type": "stream",
     "text": [
      "\u001b[32m[I 2021-08-28 20:00:23,017]\u001b[0m Trial 13 finished with value: 0.710232894171808 and parameters: {'bootstrap_type': 'Bernoulli', 'max_depth': 5, 'learning_rate': 0.010020967910621001, 'max_bin': 488, 'min_data_in_leaf': 12, 'reg_lambda': 0.008872301184608886, 'subsample': 0.9260124072745982}. Best is trial 13 with value: 0.710232894171808.\u001b[0m\n"
     ]
    },
    {
     "name": "stdout",
     "output_type": "stream",
     "text": [
      "0:\tlearn: 0.5943117\ttest: 0.7398267\tbest: 0.7398267 (0)\ttotal: 76.7ms\tremaining: 25m 33s\n"
     ]
    },
    {
     "name": "stdout",
     "output_type": "stream",
     "text": [
      "1000:\tlearn: 0.5711611\ttest: 0.7219295\tbest: 0.7219295 (1000)\ttotal: 43.3s\tremaining: 13m 41s\n"
     ]
    },
    {
     "name": "stdout",
     "output_type": "stream",
     "text": [
      "2000:\tlearn: 0.5653340\ttest: 0.7178613\tbest: 0.7178613 (2000)\ttotal: 1m 25s\tremaining: 12m 51s\n"
     ]
    },
    {
     "name": "stdout",
     "output_type": "stream",
     "text": [
      "3000:\tlearn: 0.5616253\ttest: 0.7155120\tbest: 0.7155120 (3000)\ttotal: 2m 8s\tremaining: 12m 7s\n"
     ]
    },
    {
     "name": "stdout",
     "output_type": "stream",
     "text": [
      "4000:\tlearn: 0.5590110\ttest: 0.7140962\tbest: 0.7140962 (4000)\ttotal: 2m 51s\tremaining: 11m 24s\n"
     ]
    },
    {
     "name": "stdout",
     "output_type": "stream",
     "text": [
      "5000:\tlearn: 0.5569417\ttest: 0.7131457\tbest: 0.7131457 (5000)\ttotal: 3m 33s\tremaining: 10m 40s\n"
     ]
    },
    {
     "name": "stdout",
     "output_type": "stream",
     "text": [
      "6000:\tlearn: 0.5551453\ttest: 0.7124985\tbest: 0.7124985 (6000)\ttotal: 4m 15s\tremaining: 9m 56s\n"
     ]
    },
    {
     "name": "stdout",
     "output_type": "stream",
     "text": [
      "7000:\tlearn: 0.5535109\ttest: 0.7120332\tbest: 0.7120332 (7000)\ttotal: 4m 58s\tremaining: 9m 13s\n"
     ]
    },
    {
     "name": "stdout",
     "output_type": "stream",
     "text": [
      "8000:\tlearn: 0.5519695\ttest: 0.7116657\tbest: 0.7116646 (7999)\ttotal: 5m 40s\tremaining: 8m 30s\n"
     ]
    },
    {
     "name": "stdout",
     "output_type": "stream",
     "text": [
      "9000:\tlearn: 0.5505085\ttest: 0.7113773\tbest: 0.7113770 (8995)\ttotal: 6m 21s\tremaining: 7m 46s\n"
     ]
    },
    {
     "name": "stdout",
     "output_type": "stream",
     "text": [
      "10000:\tlearn: 0.5490992\ttest: 0.7111689\tbest: 0.7111688 (9998)\ttotal: 7m 3s\tremaining: 7m 3s\n"
     ]
    },
    {
     "name": "stdout",
     "output_type": "stream",
     "text": [
      "11000:\tlearn: 0.5477356\ttest: 0.7109925\tbest: 0.7109910 (10992)\ttotal: 7m 45s\tremaining: 6m 20s\n"
     ]
    },
    {
     "name": "stdout",
     "output_type": "stream",
     "text": [
      "12000:\tlearn: 0.5464117\ttest: 0.7108529\tbest: 0.7108528 (11999)\ttotal: 8m 26s\tremaining: 5m 37s\n"
     ]
    },
    {
     "name": "stdout",
     "output_type": "stream",
     "text": [
      "13000:\tlearn: 0.5451132\ttest: 0.7107304\tbest: 0.7107295 (12978)\ttotal: 9m 7s\tremaining: 4m 54s\n"
     ]
    },
    {
     "name": "stdout",
     "output_type": "stream",
     "text": [
      "14000:\tlearn: 0.5438385\ttest: 0.7106249\tbest: 0.7106249 (14000)\ttotal: 9m 49s\tremaining: 4m 12s\n"
     ]
    },
    {
     "name": "stdout",
     "output_type": "stream",
     "text": [
      "15000:\tlearn: 0.5425960\ttest: 0.7105344\tbest: 0.7105338 (14976)\ttotal: 10m 31s\tremaining: 3m 30s\n"
     ]
    },
    {
     "name": "stdout",
     "output_type": "stream",
     "text": [
      "16000:\tlearn: 0.5413517\ttest: 0.7104706\tbest: 0.7104672 (15990)\ttotal: 11m 12s\tremaining: 2m 48s\n"
     ]
    },
    {
     "name": "stdout",
     "output_type": "stream",
     "text": [
      "Stopped by overfitting detector  (200 iterations wait)\n",
      "\n",
      "bestTest = 0.7104515255\n",
      "bestIteration = 16249\n",
      "\n",
      "Shrink model to first 16250 iterations.\n"
     ]
    },
    {
     "name": "stdout",
     "output_type": "stream",
     "text": [
      "0:\tlearn: 0.5943162\ttest: 0.7398279\tbest: 0.7398279 (0)\ttotal: 49ms\tremaining: 16m 19s\n"
     ]
    },
    {
     "name": "stdout",
     "output_type": "stream",
     "text": [
      "1000:\tlearn: 0.5711182\ttest: 0.7218796\tbest: 0.7218796 (1000)\ttotal: 42.8s\tremaining: 13m 33s\n"
     ]
    },
    {
     "name": "stdout",
     "output_type": "stream",
     "text": [
      "2000:\tlearn: 0.5653515\ttest: 0.7178582\tbest: 0.7178582 (2000)\ttotal: 1m 24s\tremaining: 12m 42s\n"
     ]
    },
    {
     "name": "stdout",
     "output_type": "stream",
     "text": [
      "3000:\tlearn: 0.5616571\ttest: 0.7155095\tbest: 0.7155095 (3000)\ttotal: 2m 7s\tremaining: 12m\n"
     ]
    },
    {
     "name": "stdout",
     "output_type": "stream",
     "text": [
      "4000:\tlearn: 0.5590344\ttest: 0.7140955\tbest: 0.7140955 (4000)\ttotal: 2m 49s\tremaining: 11m 16s\n"
     ]
    },
    {
     "name": "stdout",
     "output_type": "stream",
     "text": [
      "5000:\tlearn: 0.5569244\ttest: 0.7131348\tbest: 0.7131348 (5000)\ttotal: 3m 31s\tremaining: 10m 34s\n"
     ]
    },
    {
     "name": "stdout",
     "output_type": "stream",
     "text": [
      "6000:\tlearn: 0.5551448\ttest: 0.7124934\tbest: 0.7124934 (6000)\ttotal: 4m 13s\tremaining: 9m 51s\n"
     ]
    },
    {
     "name": "stdout",
     "output_type": "stream",
     "text": [
      "7000:\tlearn: 0.5535043\ttest: 0.7120119\tbest: 0.7120119 (7000)\ttotal: 4m 55s\tremaining: 9m 9s\n"
     ]
    },
    {
     "name": "stdout",
     "output_type": "stream",
     "text": [
      "8000:\tlearn: 0.5519781\ttest: 0.7116489\tbest: 0.7116489 (8000)\ttotal: 5m 37s\tremaining: 8m 25s\n"
     ]
    },
    {
     "name": "stdout",
     "output_type": "stream",
     "text": [
      "9000:\tlearn: 0.5505222\ttest: 0.7113753\tbest: 0.7113753 (9000)\ttotal: 6m 18s\tremaining: 7m 43s\n"
     ]
    },
    {
     "name": "stdout",
     "output_type": "stream",
     "text": [
      "10000:\tlearn: 0.5491063\ttest: 0.7111625\tbest: 0.7111623 (9999)\ttotal: 7m\tremaining: 6m 59s\n"
     ]
    },
    {
     "name": "stdout",
     "output_type": "stream",
     "text": [
      "11000:\tlearn: 0.5477441\ttest: 0.7109988\tbest: 0.7109988 (11000)\ttotal: 7m 41s\tremaining: 6m 17s\n"
     ]
    },
    {
     "name": "stdout",
     "output_type": "stream",
     "text": [
      "12000:\tlearn: 0.5464246\ttest: 0.7108714\tbest: 0.7108707 (11998)\ttotal: 8m 22s\tremaining: 5m 35s\n"
     ]
    },
    {
     "name": "stdout",
     "output_type": "stream",
     "text": [
      "13000:\tlearn: 0.5451307\ttest: 0.7107477\tbest: 0.7107477 (13000)\ttotal: 9m 4s\tremaining: 4m 52s\n"
     ]
    },
    {
     "name": "stdout",
     "output_type": "stream",
     "text": [
      "14000:\tlearn: 0.5438634\ttest: 0.7106763\tbest: 0.7106763 (14000)\ttotal: 9m 45s\tremaining: 4m 10s\n"
     ]
    },
    {
     "name": "stdout",
     "output_type": "stream",
     "text": [
      "15000:\tlearn: 0.5426055\ttest: 0.7106018\tbest: 0.7105992 (14989)\ttotal: 10m 26s\tremaining: 3m 28s\n"
     ]
    },
    {
     "name": "stdout",
     "output_type": "stream",
     "text": [
      "16000:\tlearn: 0.5413648\ttest: 0.7105398\tbest: 0.7105386 (15978)\ttotal: 11m 7s\tremaining: 2m 46s\n"
     ]
    },
    {
     "name": "stdout",
     "output_type": "stream",
     "text": [
      "17000:\tlearn: 0.5401530\ttest: 0.7104850\tbest: 0.7104847 (16985)\ttotal: 11m 49s\tremaining: 2m 5s\n"
     ]
    },
    {
     "name": "stdout",
     "output_type": "stream",
     "text": [
      "18000:\tlearn: 0.5389527\ttest: 0.7104504\tbest: 0.7104483 (17899)\ttotal: 12m 30s\tremaining: 1m 23s\n"
     ]
    },
    {
     "name": "stdout",
     "output_type": "stream",
     "text": [
      "Stopped by overfitting detector  (200 iterations wait)\n",
      "\n",
      "bestTest = 0.7104340562\n",
      "bestIteration = 18499\n",
      "\n",
      "Shrink model to first 18500 iterations.\n"
     ]
    },
    {
     "name": "stderr",
     "output_type": "stream",
     "text": [
      "\u001b[32m[I 2021-08-28 20:25:02,623]\u001b[0m Trial 14 finished with value: 0.7103233409638191 and parameters: {'bootstrap_type': 'Bernoulli', 'max_depth': 6, 'learning_rate': 0.01002450111762964, 'max_bin': 488, 'min_data_in_leaf': 12, 'reg_lambda': 0.00904762768004932, 'subsample': 0.9256255182764757}. Best is trial 13 with value: 0.710232894171808.\u001b[0m\n"
     ]
    },
    {
     "name": "stdout",
     "output_type": "stream",
     "text": [
      "0:\tlearn: 0.5943499\ttest: 0.7398559\tbest: 0.7398559 (0)\ttotal: 36.4ms\tremaining: 12m 7s\n"
     ]
    },
    {
     "name": "stdout",
     "output_type": "stream",
     "text": [
      "1000:\tlearn: 0.5743660\ttest: 0.7240732\tbest: 0.7240732 (1000)\ttotal: 31.4s\tremaining: 9m 55s\n"
     ]
    },
    {
     "name": "stdout",
     "output_type": "stream",
     "text": [
      "2000:\tlearn: 0.5692172\ttest: 0.7202664\tbest: 0.7202664 (2000)\ttotal: 1m 1s\tremaining: 9m 17s\n"
     ]
    },
    {
     "name": "stdout",
     "output_type": "stream",
     "text": [
      "3000:\tlearn: 0.5660354\ttest: 0.7180501\tbest: 0.7180501 (3000)\ttotal: 1m 32s\tremaining: 8m 45s\n"
     ]
    },
    {
     "name": "stdout",
     "output_type": "stream",
     "text": [
      "4000:\tlearn: 0.5636338\ttest: 0.7163728\tbest: 0.7163728 (4000)\ttotal: 2m 3s\tremaining: 8m 15s\n"
     ]
    },
    {
     "name": "stdout",
     "output_type": "stream",
     "text": [
      "5000:\tlearn: 0.5617618\ttest: 0.7151573\tbest: 0.7151573 (5000)\ttotal: 2m 35s\tremaining: 7m 45s\n"
     ]
    },
    {
     "name": "stdout",
     "output_type": "stream",
     "text": [
      "6000:\tlearn: 0.5602846\ttest: 0.7142489\tbest: 0.7142489 (6000)\ttotal: 3m 6s\tremaining: 7m 14s\n"
     ]
    },
    {
     "name": "stdout",
     "output_type": "stream",
     "text": [
      "7000:\tlearn: 0.5590525\ttest: 0.7135365\tbest: 0.7135365 (7000)\ttotal: 3m 37s\tremaining: 6m 43s\n"
     ]
    },
    {
     "name": "stdout",
     "output_type": "stream",
     "text": [
      "8000:\tlearn: 0.5579884\ttest: 0.7129577\tbest: 0.7129577 (8000)\ttotal: 4m 8s\tremaining: 6m 12s\n"
     ]
    },
    {
     "name": "stdout",
     "output_type": "stream",
     "text": [
      "9000:\tlearn: 0.5570887\ttest: 0.7125147\tbest: 0.7125145 (8999)\ttotal: 4m 39s\tremaining: 5m 41s\n"
     ]
    },
    {
     "name": "stdout",
     "output_type": "stream",
     "text": [
      "10000:\tlearn: 0.5562726\ttest: 0.7121488\tbest: 0.7121488 (10000)\ttotal: 5m 10s\tremaining: 5m 10s\n"
     ]
    },
    {
     "name": "stdout",
     "output_type": "stream",
     "text": [
      "11000:\tlearn: 0.5555029\ttest: 0.7118492\tbest: 0.7118492 (11000)\ttotal: 5m 42s\tremaining: 4m 39s\n"
     ]
    },
    {
     "name": "stdout",
     "output_type": "stream",
     "text": [
      "12000:\tlearn: 0.5547860\ttest: 0.7115919\tbest: 0.7115919 (12000)\ttotal: 6m 12s\tremaining: 4m 8s\n"
     ]
    },
    {
     "name": "stdout",
     "output_type": "stream",
     "text": [
      "13000:\tlearn: 0.5541183\ttest: 0.7113825\tbest: 0.7113825 (13000)\ttotal: 6m 43s\tremaining: 3m 37s\n"
     ]
    },
    {
     "name": "stdout",
     "output_type": "stream",
     "text": [
      "14000:\tlearn: 0.5534754\ttest: 0.7111889\tbest: 0.7111889 (14000)\ttotal: 7m 14s\tremaining: 3m 6s\n"
     ]
    },
    {
     "name": "stdout",
     "output_type": "stream",
     "text": [
      "15000:\tlearn: 0.5528714\ttest: 0.7110339\tbest: 0.7110339 (14999)\ttotal: 7m 44s\tremaining: 2m 34s\n"
     ]
    },
    {
     "name": "stdout",
     "output_type": "stream",
     "text": [
      "16000:\tlearn: 0.5522960\ttest: 0.7108972\tbest: 0.7108972 (16000)\ttotal: 8m 15s\tremaining: 2m 3s\n"
     ]
    },
    {
     "name": "stdout",
     "output_type": "stream",
     "text": [
      "17000:\tlearn: 0.5517312\ttest: 0.7107810\tbest: 0.7107802 (16997)\ttotal: 8m 45s\tremaining: 1m 32s\n"
     ]
    },
    {
     "name": "stdout",
     "output_type": "stream",
     "text": [
      "18000:\tlearn: 0.5511830\ttest: 0.7106574\tbest: 0.7106574 (17999)\ttotal: 9m 16s\tremaining: 1m 1s\n"
     ]
    },
    {
     "name": "stdout",
     "output_type": "stream",
     "text": [
      "19000:\tlearn: 0.5506503\ttest: 0.7105738\tbest: 0.7105731 (18985)\ttotal: 9m 46s\tremaining: 30.9s\n"
     ]
    },
    {
     "name": "stdout",
     "output_type": "stream",
     "text": [
      "19999:\tlearn: 0.5501385\ttest: 0.7104895\tbest: 0.7104894 (19959)\ttotal: 10m 17s\tremaining: 0us\n",
      "\n",
      "bestTest = 0.7104893866\n",
      "bestIteration = 19959\n",
      "\n",
      "Shrink model to first 19960 iterations.\n"
     ]
    },
    {
     "name": "stdout",
     "output_type": "stream",
     "text": [
      "0:\tlearn: 0.5943504\ttest: 0.7398540\tbest: 0.7398540 (0)\ttotal: 47.1ms\tremaining: 15m 42s\n"
     ]
    },
    {
     "name": "stdout",
     "output_type": "stream",
     "text": [
      "1000:\tlearn: 0.5742196\ttest: 0.7239475\tbest: 0.7239475 (1000)\ttotal: 32.9s\tremaining: 10m 23s\n"
     ]
    },
    {
     "name": "stdout",
     "output_type": "stream",
     "text": [
      "2000:\tlearn: 0.5692087\ttest: 0.7202659\tbest: 0.7202659 (2000)\ttotal: 1m 3s\tremaining: 9m 33s\n"
     ]
    },
    {
     "name": "stdout",
     "output_type": "stream",
     "text": [
      "3000:\tlearn: 0.5659991\ttest: 0.7179820\tbest: 0.7179820 (3000)\ttotal: 1m 34s\tremaining: 8m 55s\n"
     ]
    },
    {
     "name": "stdout",
     "output_type": "stream",
     "text": [
      "4000:\tlearn: 0.5636440\ttest: 0.7163754\tbest: 0.7163754 (4000)\ttotal: 2m 5s\tremaining: 8m 21s\n"
     ]
    },
    {
     "name": "stdout",
     "output_type": "stream",
     "text": [
      "5000:\tlearn: 0.5617872\ttest: 0.7151723\tbest: 0.7151723 (5000)\ttotal: 2m 36s\tremaining: 7m 49s\n"
     ]
    },
    {
     "name": "stdout",
     "output_type": "stream",
     "text": [
      "6000:\tlearn: 0.5603016\ttest: 0.7142712\tbest: 0.7142712 (6000)\ttotal: 3m 7s\tremaining: 7m 18s\n"
     ]
    },
    {
     "name": "stdout",
     "output_type": "stream",
     "text": [
      "7000:\tlearn: 0.5590503\ttest: 0.7135432\tbest: 0.7135422 (6992)\ttotal: 3m 39s\tremaining: 6m 46s\n"
     ]
    },
    {
     "name": "stdout",
     "output_type": "stream",
     "text": [
      "8000:\tlearn: 0.5579921\ttest: 0.7129866\tbest: 0.7129866 (8000)\ttotal: 4m 10s\tremaining: 6m 15s\n"
     ]
    },
    {
     "name": "stdout",
     "output_type": "stream",
     "text": [
      "9000:\tlearn: 0.5570554\ttest: 0.7125353\tbest: 0.7125353 (9000)\ttotal: 4m 41s\tremaining: 5m 44s\n"
     ]
    },
    {
     "name": "stdout",
     "output_type": "stream",
     "text": [
      "10000:\tlearn: 0.5562244\ttest: 0.7121793\tbest: 0.7121793 (10000)\ttotal: 5m 12s\tremaining: 5m 12s\n"
     ]
    },
    {
     "name": "stdout",
     "output_type": "stream",
     "text": [
      "11000:\tlearn: 0.5554665\ttest: 0.7118800\tbest: 0.7118800 (11000)\ttotal: 5m 43s\tremaining: 4m 40s\n"
     ]
    },
    {
     "name": "stdout",
     "output_type": "stream",
     "text": [
      "12000:\tlearn: 0.5547538\ttest: 0.7116215\tbest: 0.7116215 (12000)\ttotal: 6m 14s\tremaining: 4m 9s\n"
     ]
    },
    {
     "name": "stdout",
     "output_type": "stream",
     "text": [
      "13000:\tlearn: 0.5540839\ttest: 0.7114137\tbest: 0.7114137 (13000)\ttotal: 6m 44s\tremaining: 3m 38s\n"
     ]
    },
    {
     "name": "stdout",
     "output_type": "stream",
     "text": [
      "14000:\tlearn: 0.5534447\ttest: 0.7112261\tbest: 0.7112261 (14000)\ttotal: 7m 15s\tremaining: 3m 6s\n"
     ]
    },
    {
     "name": "stdout",
     "output_type": "stream",
     "text": [
      "15000:\tlearn: 0.5528373\ttest: 0.7110873\tbest: 0.7110871 (14990)\ttotal: 7m 46s\tremaining: 2m 35s\n"
     ]
    },
    {
     "name": "stdout",
     "output_type": "stream",
     "text": [
      "16000:\tlearn: 0.5522595\ttest: 0.7109504\tbest: 0.7109504 (16000)\ttotal: 8m 17s\tremaining: 2m 4s\n"
     ]
    },
    {
     "name": "stdout",
     "output_type": "stream",
     "text": [
      "17000:\tlearn: 0.5516911\ttest: 0.7108180\tbest: 0.7108179 (16999)\ttotal: 8m 48s\tremaining: 1m 33s\n"
     ]
    },
    {
     "name": "stdout",
     "output_type": "stream",
     "text": [
      "18000:\tlearn: 0.5511439\ttest: 0.7107181\tbest: 0.7107178 (17996)\ttotal: 9m 19s\tremaining: 1m 2s\n"
     ]
    },
    {
     "name": "stdout",
     "output_type": "stream",
     "text": [
      "19000:\tlearn: 0.5506129\ttest: 0.7106380\tbest: 0.7106380 (19000)\ttotal: 9m 49s\tremaining: 31s\n"
     ]
    },
    {
     "name": "stdout",
     "output_type": "stream",
     "text": [
      "19999:\tlearn: 0.5500993\ttest: 0.7105656\tbest: 0.7105644 (19989)\ttotal: 10m 20s\tremaining: 0us\n",
      "\n",
      "bestTest = 0.7105643814\n",
      "bestIteration = 19989\n",
      "\n",
      "Shrink model to first 19990 iterations.\n"
     ]
    },
    {
     "name": "stderr",
     "output_type": "stream",
     "text": [
      "\u001b[32m[I 2021-08-28 20:45:50,141]\u001b[0m Trial 15 finished with value: 0.7104361053897383 and parameters: {'bootstrap_type': 'Bernoulli', 'max_depth': 4, 'learning_rate': 0.010065676156468422, 'max_bin': 488, 'min_data_in_leaf': 12, 'reg_lambda': 0.008822251915101133, 'subsample': 0.9248356122543702}. Best is trial 13 with value: 0.710232894171808.\u001b[0m\n"
     ]
    },
    {
     "name": "stdout",
     "output_type": "stream",
     "text": [
      "0:\tlearn: 0.5943296\ttest: 0.7398411\tbest: 0.7398411 (0)\ttotal: 42.7ms\tremaining: 14m 13s\n"
     ]
    },
    {
     "name": "stdout",
     "output_type": "stream",
     "text": [
      "1000:\tlearn: 0.5726531\ttest: 0.7228467\tbest: 0.7228467 (1000)\ttotal: 36.5s\tremaining: 11m 32s\n"
     ]
    },
    {
     "name": "stdout",
     "output_type": "stream",
     "text": [
      "2000:\tlearn: 0.5672252\ttest: 0.7189479\tbest: 0.7189479 (2000)\ttotal: 1m 12s\tremaining: 10m 51s\n"
     ]
    },
    {
     "name": "stdout",
     "output_type": "stream",
     "text": [
      "3000:\tlearn: 0.5637249\ttest: 0.7165559\tbest: 0.7165559 (3000)\ttotal: 1m 48s\tremaining: 10m 17s\n"
     ]
    },
    {
     "name": "stdout",
     "output_type": "stream",
     "text": [
      "4000:\tlearn: 0.5612481\ttest: 0.7150108\tbest: 0.7150108 (4000)\ttotal: 2m 25s\tremaining: 9m 40s\n"
     ]
    },
    {
     "name": "stdout",
     "output_type": "stream",
     "text": [
      "5000:\tlearn: 0.5593527\ttest: 0.7139421\tbest: 0.7139421 (5000)\ttotal: 3m 1s\tremaining: 9m 5s\n"
     ]
    },
    {
     "name": "stdout",
     "output_type": "stream",
     "text": [
      "6000:\tlearn: 0.5578002\ttest: 0.7131553\tbest: 0.7131553 (6000)\ttotal: 3m 38s\tremaining: 8m 29s\n"
     ]
    },
    {
     "name": "stdout",
     "output_type": "stream",
     "text": [
      "7000:\tlearn: 0.5564681\ttest: 0.7125535\tbest: 0.7125535 (7000)\ttotal: 4m 14s\tremaining: 7m 52s\n"
     ]
    },
    {
     "name": "stdout",
     "output_type": "stream",
     "text": [
      "8000:\tlearn: 0.5552709\ttest: 0.7120971\tbest: 0.7120971 (7999)\ttotal: 4m 50s\tremaining: 7m 15s\n"
     ]
    },
    {
     "name": "stdout",
     "output_type": "stream",
     "text": [
      "9000:\tlearn: 0.5541707\ttest: 0.7117548\tbest: 0.7117547 (8999)\ttotal: 5m 26s\tremaining: 6m 38s\n"
     ]
    },
    {
     "name": "stdout",
     "output_type": "stream",
     "text": [
      "10000:\tlearn: 0.5531468\ttest: 0.7114765\tbest: 0.7114765 (10000)\ttotal: 6m 1s\tremaining: 6m 1s\n"
     ]
    },
    {
     "name": "stdout",
     "output_type": "stream",
     "text": [
      "11000:\tlearn: 0.5521636\ttest: 0.7112260\tbest: 0.7112260 (11000)\ttotal: 6m 37s\tremaining: 5m 25s\n"
     ]
    },
    {
     "name": "stdout",
     "output_type": "stream",
     "text": [
      "12000:\tlearn: 0.5512189\ttest: 0.7110322\tbest: 0.7110322 (12000)\ttotal: 7m 12s\tremaining: 4m 48s\n"
     ]
    },
    {
     "name": "stdout",
     "output_type": "stream",
     "text": [
      "13000:\tlearn: 0.5503178\ttest: 0.7108778\tbest: 0.7108778 (13000)\ttotal: 7m 48s\tremaining: 4m 12s\n"
     ]
    },
    {
     "name": "stdout",
     "output_type": "stream",
     "text": [
      "14000:\tlearn: 0.5494378\ttest: 0.7107377\tbest: 0.7107371 (13995)\ttotal: 8m 23s\tremaining: 3m 35s\n"
     ]
    },
    {
     "name": "stdout",
     "output_type": "stream",
     "text": [
      "15000:\tlearn: 0.5485833\ttest: 0.7106311\tbest: 0.7106311 (15000)\ttotal: 8m 59s\tremaining: 2m 59s\n"
     ]
    },
    {
     "name": "stdout",
     "output_type": "stream",
     "text": [
      "16000:\tlearn: 0.5477419\ttest: 0.7105226\tbest: 0.7105226 (16000)\ttotal: 9m 34s\tremaining: 2m 23s\n"
     ]
    },
    {
     "name": "stdout",
     "output_type": "stream",
     "text": [
      "17000:\tlearn: 0.5469128\ttest: 0.7104512\tbest: 0.7104512 (17000)\ttotal: 10m 9s\tremaining: 1m 47s\n"
     ]
    },
    {
     "name": "stdout",
     "output_type": "stream",
     "text": [
      "18000:\tlearn: 0.5461117\ttest: 0.7103768\tbest: 0.7103768 (18000)\ttotal: 10m 44s\tremaining: 1m 11s\n"
     ]
    },
    {
     "name": "stdout",
     "output_type": "stream",
     "text": [
      "19000:\tlearn: 0.5453166\ttest: 0.7103190\tbest: 0.7103186 (18996)\ttotal: 11m 20s\tremaining: 35.8s\n"
     ]
    },
    {
     "name": "stdout",
     "output_type": "stream",
     "text": [
      "19999:\tlearn: 0.5445344\ttest: 0.7102687\tbest: 0.7102670 (19983)\ttotal: 11m 55s\tremaining: 0us\n",
      "\n",
      "bestTest = 0.7102670391\n",
      "bestIteration = 19983\n",
      "\n",
      "Shrink model to first 19984 iterations.\n"
     ]
    },
    {
     "name": "stdout",
     "output_type": "stream",
     "text": [
      "0:\tlearn: 0.5943323\ttest: 0.7398423\tbest: 0.7398423 (0)\ttotal: 44.3ms\tremaining: 14m 46s\n"
     ]
    },
    {
     "name": "stdout",
     "output_type": "stream",
     "text": [
      "1000:\tlearn: 0.5725955\ttest: 0.7228032\tbest: 0.7228032 (1000)\ttotal: 36.7s\tremaining: 11m 37s\n"
     ]
    },
    {
     "name": "stdout",
     "output_type": "stream",
     "text": [
      "2000:\tlearn: 0.5672019\ttest: 0.7189340\tbest: 0.7189340 (2000)\ttotal: 1m 12s\tremaining: 10m 53s\n"
     ]
    },
    {
     "name": "stdout",
     "output_type": "stream",
     "text": [
      "3000:\tlearn: 0.5637494\ttest: 0.7166060\tbest: 0.7166060 (3000)\ttotal: 1m 48s\tremaining: 10m 15s\n"
     ]
    },
    {
     "name": "stdout",
     "output_type": "stream",
     "text": [
      "4000:\tlearn: 0.5612443\ttest: 0.7150448\tbest: 0.7150448 (4000)\ttotal: 2m 25s\tremaining: 9m 40s\n"
     ]
    },
    {
     "name": "stdout",
     "output_type": "stream",
     "text": [
      "5000:\tlearn: 0.5593360\ttest: 0.7139767\tbest: 0.7139767 (5000)\ttotal: 3m 1s\tremaining: 9m 4s\n"
     ]
    },
    {
     "name": "stdout",
     "output_type": "stream",
     "text": [
      "6000:\tlearn: 0.5577705\ttest: 0.7131663\tbest: 0.7131663 (6000)\ttotal: 3m 37s\tremaining: 8m 28s\n"
     ]
    },
    {
     "name": "stdout",
     "output_type": "stream",
     "text": [
      "7000:\tlearn: 0.5564219\ttest: 0.7125572\tbest: 0.7125572 (7000)\ttotal: 4m 14s\tremaining: 7m 51s\n"
     ]
    },
    {
     "name": "stdout",
     "output_type": "stream",
     "text": [
      "8000:\tlearn: 0.5552218\ttest: 0.7121024\tbest: 0.7121024 (8000)\ttotal: 4m 50s\tremaining: 7m 15s\n"
     ]
    },
    {
     "name": "stdout",
     "output_type": "stream",
     "text": [
      "9000:\tlearn: 0.5541214\ttest: 0.7117429\tbest: 0.7117429 (9000)\ttotal: 5m 26s\tremaining: 6m 38s\n"
     ]
    },
    {
     "name": "stdout",
     "output_type": "stream",
     "text": [
      "10000:\tlearn: 0.5530957\ttest: 0.7114657\tbest: 0.7114657 (10000)\ttotal: 6m 2s\tremaining: 6m 2s\n"
     ]
    },
    {
     "name": "stdout",
     "output_type": "stream",
     "text": [
      "11000:\tlearn: 0.5521160\ttest: 0.7112530\tbest: 0.7112530 (11000)\ttotal: 6m 37s\tremaining: 5m 25s\n"
     ]
    },
    {
     "name": "stdout",
     "output_type": "stream",
     "text": [
      "12000:\tlearn: 0.5511818\ttest: 0.7111027\tbest: 0.7111027 (11985)\ttotal: 7m 13s\tremaining: 4m 48s\n"
     ]
    },
    {
     "name": "stdout",
     "output_type": "stream",
     "text": [
      "13000:\tlearn: 0.5502793\ttest: 0.7109305\tbest: 0.7109305 (13000)\ttotal: 7m 49s\tremaining: 4m 12s\n"
     ]
    },
    {
     "name": "stdout",
     "output_type": "stream",
     "text": [
      "14000:\tlearn: 0.5494049\ttest: 0.7107966\tbest: 0.7107966 (14000)\ttotal: 8m 24s\tremaining: 3m 36s\n"
     ]
    },
    {
     "name": "stdout",
     "output_type": "stream",
     "text": [
      "15000:\tlearn: 0.5485473\ttest: 0.7106979\tbest: 0.7106970 (14997)\ttotal: 8m 59s\tremaining: 2m 59s\n"
     ]
    },
    {
     "name": "stdout",
     "output_type": "stream",
     "text": [
      "16000:\tlearn: 0.5477148\ttest: 0.7106241\tbest: 0.7106237 (15999)\ttotal: 9m 35s\tremaining: 2m 23s\n"
     ]
    },
    {
     "name": "stdout",
     "output_type": "stream",
     "text": [
      "17000:\tlearn: 0.5468953\ttest: 0.7105526\tbest: 0.7105521 (16996)\ttotal: 10m 10s\tremaining: 1m 47s\n"
     ]
    },
    {
     "name": "stdout",
     "output_type": "stream",
     "text": [
      "18000:\tlearn: 0.5460927\ttest: 0.7104734\tbest: 0.7104732 (17999)\ttotal: 10m 47s\tremaining: 1m 11s\n"
     ]
    },
    {
     "name": "stdout",
     "output_type": "stream",
     "text": [
      "19000:\tlearn: 0.5453156\ttest: 0.7104313\tbest: 0.7104306 (18972)\ttotal: 11m 22s\tremaining: 35.9s\n"
     ]
    },
    {
     "name": "stdout",
     "output_type": "stream",
     "text": [
      "19999:\tlearn: 0.5445419\ttest: 0.7103962\tbest: 0.7103936 (19844)\ttotal: 11m 58s\tremaining: 0us\n",
      "\n",
      "bestTest = 0.7103936139\n",
      "bestIteration = 19844\n",
      "\n",
      "Shrink model to first 19845 iterations.\n"
     ]
    },
    {
     "name": "stderr",
     "output_type": "stream",
     "text": [
      "\u001b[32m[I 2021-08-28 21:09:54,003]\u001b[0m Trial 16 finished with value: 0.7102225629703823 and parameters: {'bootstrap_type': 'Bernoulli', 'max_depth': 5, 'learning_rate': 0.010016622529691191, 'max_bin': 489, 'min_data_in_leaf': 11, 'reg_lambda': 0.00894870361494563, 'subsample': 0.9264369943394062}. Best is trial 16 with value: 0.7102225629703823.\u001b[0m\n"
     ]
    },
    {
     "name": "stdout",
     "output_type": "stream",
     "text": [
      "0:\tlearn: 0.5943295\ttest: 0.7398411\tbest: 0.7398411 (0)\ttotal: 43.4ms\tremaining: 14m 28s\n"
     ]
    },
    {
     "name": "stdout",
     "output_type": "stream",
     "text": [
      "1000:\tlearn: 0.5726876\ttest: 0.7228732\tbest: 0.7228732 (1000)\ttotal: 36.8s\tremaining: 11m 39s\n"
     ]
    },
    {
     "name": "stdout",
     "output_type": "stream",
     "text": [
      "2000:\tlearn: 0.5672110\ttest: 0.7189215\tbest: 0.7189215 (2000)\ttotal: 1m 12s\tremaining: 10m 55s\n"
     ]
    },
    {
     "name": "stdout",
     "output_type": "stream",
     "text": [
      "3000:\tlearn: 0.5637680\ttest: 0.7165872\tbest: 0.7165872 (3000)\ttotal: 1m 49s\tremaining: 10m 17s\n"
     ]
    },
    {
     "name": "stdout",
     "output_type": "stream",
     "text": [
      "4000:\tlearn: 0.5612566\ttest: 0.7150199\tbest: 0.7150199 (4000)\ttotal: 2m 25s\tremaining: 9m 41s\n"
     ]
    },
    {
     "name": "stdout",
     "output_type": "stream",
     "text": [
      "5000:\tlearn: 0.5593809\ttest: 0.7139725\tbest: 0.7139725 (5000)\ttotal: 3m 2s\tremaining: 9m 5s\n"
     ]
    },
    {
     "name": "stdout",
     "output_type": "stream",
     "text": [
      "6000:\tlearn: 0.5578351\ttest: 0.7132079\tbest: 0.7132079 (6000)\ttotal: 3m 38s\tremaining: 8m 28s\n"
     ]
    },
    {
     "name": "stdout",
     "output_type": "stream",
     "text": [
      "7000:\tlearn: 0.5564945\ttest: 0.7125849\tbest: 0.7125849 (7000)\ttotal: 4m 14s\tremaining: 7m 52s\n"
     ]
    },
    {
     "name": "stdout",
     "output_type": "stream",
     "text": [
      "8000:\tlearn: 0.5552884\ttest: 0.7121316\tbest: 0.7121315 (7999)\ttotal: 4m 50s\tremaining: 7m 15s\n"
     ]
    },
    {
     "name": "stdout",
     "output_type": "stream",
     "text": [
      "9000:\tlearn: 0.5541925\ttest: 0.7117909\tbest: 0.7117907 (8999)\ttotal: 5m 26s\tremaining: 6m 38s\n"
     ]
    },
    {
     "name": "stdout",
     "output_type": "stream",
     "text": [
      "10000:\tlearn: 0.5531465\ttest: 0.7115157\tbest: 0.7115157 (10000)\ttotal: 6m 2s\tremaining: 6m 2s\n"
     ]
    },
    {
     "name": "stdout",
     "output_type": "stream",
     "text": [
      "11000:\tlearn: 0.5521612\ttest: 0.7112818\tbest: 0.7112817 (10999)\ttotal: 6m 38s\tremaining: 5m 25s\n"
     ]
    },
    {
     "name": "stdout",
     "output_type": "stream",
     "text": [
      "12000:\tlearn: 0.5512137\ttest: 0.7110836\tbest: 0.7110835 (11999)\ttotal: 7m 13s\tremaining: 4m 49s\n"
     ]
    },
    {
     "name": "stdout",
     "output_type": "stream",
     "text": [
      "13000:\tlearn: 0.5503066\ttest: 0.7109091\tbest: 0.7109091 (13000)\ttotal: 7m 49s\tremaining: 4m 12s\n"
     ]
    },
    {
     "name": "stdout",
     "output_type": "stream",
     "text": [
      "14000:\tlearn: 0.5494206\ttest: 0.7107739\tbest: 0.7107735 (13995)\ttotal: 8m 25s\tremaining: 3m 36s\n"
     ]
    },
    {
     "name": "stdout",
     "output_type": "stream",
     "text": [
      "15000:\tlearn: 0.5485632\ttest: 0.7106584\tbest: 0.7106584 (15000)\ttotal: 9m\tremaining: 3m\n"
     ]
    },
    {
     "name": "stdout",
     "output_type": "stream",
     "text": [
      "16000:\tlearn: 0.5477263\ttest: 0.7105549\tbest: 0.7105548 (15997)\ttotal: 9m 36s\tremaining: 2m 24s\n"
     ]
    },
    {
     "name": "stdout",
     "output_type": "stream",
     "text": [
      "17000:\tlearn: 0.5468920\ttest: 0.7104836\tbest: 0.7104822 (16987)\ttotal: 10m 11s\tremaining: 1m 47s\n"
     ]
    },
    {
     "name": "stdout",
     "output_type": "stream",
     "text": [
      "18000:\tlearn: 0.5460902\ttest: 0.7104060\tbest: 0.7104060 (18000)\ttotal: 10m 47s\tremaining: 1m 11s\n"
     ]
    },
    {
     "name": "stdout",
     "output_type": "stream",
     "text": [
      "19000:\tlearn: 0.5452973\ttest: 0.7103363\tbest: 0.7103363 (19000)\ttotal: 11m 22s\tremaining: 35.9s\n"
     ]
    },
    {
     "name": "stdout",
     "output_type": "stream",
     "text": [
      "19999:\tlearn: 0.5445149\ttest: 0.7102793\tbest: 0.7102791 (19997)\ttotal: 11m 57s\tremaining: 0us\n",
      "\n",
      "bestTest = 0.7102790666\n",
      "bestIteration = 19997\n",
      "\n",
      "Shrink model to first 19998 iterations.\n"
     ]
    },
    {
     "name": "stdout",
     "output_type": "stream",
     "text": [
      "0:\tlearn: 0.5943323\ttest: 0.7398422\tbest: 0.7398422 (0)\ttotal: 50.4ms\tremaining: 16m 47s\n"
     ]
    },
    {
     "name": "stdout",
     "output_type": "stream",
     "text": [
      "1000:\tlearn: 0.5725839\ttest: 0.7228016\tbest: 0.7228016 (1000)\ttotal: 37.3s\tremaining: 11m 47s\n"
     ]
    },
    {
     "name": "stdout",
     "output_type": "stream",
     "text": [
      "2000:\tlearn: 0.5671869\ttest: 0.7189154\tbest: 0.7189154 (2000)\ttotal: 1m 13s\tremaining: 10m 59s\n"
     ]
    },
    {
     "name": "stdout",
     "output_type": "stream",
     "text": [
      "3000:\tlearn: 0.5637536\ttest: 0.7165953\tbest: 0.7165953 (3000)\ttotal: 1m 49s\tremaining: 10m 20s\n"
     ]
    },
    {
     "name": "stdout",
     "output_type": "stream",
     "text": [
      "4000:\tlearn: 0.5612510\ttest: 0.7150475\tbest: 0.7150475 (4000)\ttotal: 2m 26s\tremaining: 9m 45s\n"
     ]
    },
    {
     "name": "stdout",
     "output_type": "stream",
     "text": [
      "5000:\tlearn: 0.5593305\ttest: 0.7139436\tbest: 0.7139436 (5000)\ttotal: 3m 3s\tremaining: 9m 10s\n"
     ]
    },
    {
     "name": "stdout",
     "output_type": "stream",
     "text": [
      "6000:\tlearn: 0.5577625\ttest: 0.7131588\tbest: 0.7131588 (6000)\ttotal: 3m 41s\tremaining: 8m 35s\n"
     ]
    },
    {
     "name": "stdout",
     "output_type": "stream",
     "text": [
      "7000:\tlearn: 0.5564120\ttest: 0.7125426\tbest: 0.7125426 (7000)\ttotal: 4m 18s\tremaining: 7m 59s\n"
     ]
    },
    {
     "name": "stdout",
     "output_type": "stream",
     "text": [
      "8000:\tlearn: 0.5552208\ttest: 0.7121118\tbest: 0.7121117 (7999)\ttotal: 4m 56s\tremaining: 7m 23s\n"
     ]
    },
    {
     "name": "stdout",
     "output_type": "stream",
     "text": [
      "9000:\tlearn: 0.5541205\ttest: 0.7117675\tbest: 0.7117673 (8996)\ttotal: 5m 33s\tremaining: 6m 47s\n"
     ]
    },
    {
     "name": "stdout",
     "output_type": "stream",
     "text": [
      "10000:\tlearn: 0.5530902\ttest: 0.7114942\tbest: 0.7114941 (9996)\ttotal: 6m 9s\tremaining: 6m 9s\n"
     ]
    },
    {
     "name": "stdout",
     "output_type": "stream",
     "text": [
      "11000:\tlearn: 0.5521101\ttest: 0.7112495\tbest: 0.7112495 (11000)\ttotal: 6m 46s\tremaining: 5m 32s\n"
     ]
    },
    {
     "name": "stdout",
     "output_type": "stream",
     "text": [
      "12000:\tlearn: 0.5511722\ttest: 0.7110818\tbest: 0.7110817 (11996)\ttotal: 7m 23s\tremaining: 4m 55s\n"
     ]
    },
    {
     "name": "stdout",
     "output_type": "stream",
     "text": [
      "13000:\tlearn: 0.5502691\ttest: 0.7109199\tbest: 0.7109199 (13000)\ttotal: 7m 59s\tremaining: 4m 18s\n"
     ]
    },
    {
     "name": "stdout",
     "output_type": "stream",
     "text": [
      "14000:\tlearn: 0.5493988\ttest: 0.7108030\tbest: 0.7108030 (14000)\ttotal: 8m 36s\tremaining: 3m 41s\n"
     ]
    },
    {
     "name": "stdout",
     "output_type": "stream",
     "text": [
      "15000:\tlearn: 0.5485356\ttest: 0.7107080\tbest: 0.7107080 (15000)\ttotal: 9m 13s\tremaining: 3m 4s\n"
     ]
    },
    {
     "name": "stdout",
     "output_type": "stream",
     "text": [
      "16000:\tlearn: 0.5476973\ttest: 0.7106303\tbest: 0.7106287 (15983)\ttotal: 9m 49s\tremaining: 2m 27s\n"
     ]
    },
    {
     "name": "stdout",
     "output_type": "stream",
     "text": [
      "17000:\tlearn: 0.5468665\ttest: 0.7105532\tbest: 0.7105530 (16997)\ttotal: 10m 25s\tremaining: 1m 50s\n"
     ]
    },
    {
     "name": "stdout",
     "output_type": "stream",
     "text": [
      "18000:\tlearn: 0.5460654\ttest: 0.7104726\tbest: 0.7104725 (17999)\ttotal: 11m 1s\tremaining: 1m 13s\n"
     ]
    },
    {
     "name": "stdout",
     "output_type": "stream",
     "text": [
      "19000:\tlearn: 0.5452793\ttest: 0.7104254\tbest: 0.7104233 (18987)\ttotal: 11m 37s\tremaining: 36.7s\n"
     ]
    },
    {
     "name": "stdout",
     "output_type": "stream",
     "text": [
      "19999:\tlearn: 0.5444979\ttest: 0.7103867\tbest: 0.7103847 (19845)\ttotal: 12m 13s\tremaining: 0us\n",
      "\n",
      "bestTest = 0.7103847151\n",
      "bestIteration = 19845\n",
      "\n",
      "Shrink model to first 19846 iterations.\n"
     ]
    },
    {
     "name": "stderr",
     "output_type": "stream",
     "text": [
      "\u001b[32m[I 2021-08-28 21:34:15,357]\u001b[0m Trial 17 finished with value: 0.7102248421223362 and parameters: {'bootstrap_type': 'Bernoulli', 'max_depth': 5, 'learning_rate': 0.010020335717450602, 'max_bin': 489, 'min_data_in_leaf': 11, 'reg_lambda': 0.00894904308674173, 'subsample': 0.9309307127938372}. Best is trial 16 with value: 0.7102225629703823.\u001b[0m\n"
     ]
    },
    {
     "name": "stdout",
     "output_type": "stream",
     "text": [
      "0:\tlearn: 0.5943501\ttest: 0.7398560\tbest: 0.7398560 (0)\ttotal: 36.6ms\tremaining: 12m 12s\n"
     ]
    },
    {
     "name": "stdout",
     "output_type": "stream",
     "text": [
      "1000:\tlearn: 0.5743910\ttest: 0.7241013\tbest: 0.7241013 (1000)\ttotal: 32s\tremaining: 10m 7s\n"
     ]
    },
    {
     "name": "stdout",
     "output_type": "stream",
     "text": [
      "2000:\tlearn: 0.5693019\ttest: 0.7203349\tbest: 0.7203349 (2000)\ttotal: 1m 3s\tremaining: 9m 27s\n"
     ]
    },
    {
     "name": "stdout",
     "output_type": "stream",
     "text": [
      "3000:\tlearn: 0.5660254\ttest: 0.7179976\tbest: 0.7179971 (2999)\ttotal: 1m 34s\tremaining: 8m 54s\n"
     ]
    },
    {
     "name": "stdout",
     "output_type": "stream",
     "text": [
      "4000:\tlearn: 0.5636549\ttest: 0.7163893\tbest: 0.7163893 (4000)\ttotal: 2m 5s\tremaining: 8m 23s\n"
     ]
    },
    {
     "name": "stdout",
     "output_type": "stream",
     "text": [
      "5000:\tlearn: 0.5617930\ttest: 0.7151679\tbest: 0.7151679 (5000)\ttotal: 2m 37s\tremaining: 7m 52s\n"
     ]
    },
    {
     "name": "stdout",
     "output_type": "stream",
     "text": [
      "6000:\tlearn: 0.5603028\ttest: 0.7142560\tbest: 0.7142560 (6000)\ttotal: 3m 9s\tremaining: 7m 21s\n"
     ]
    },
    {
     "name": "stdout",
     "output_type": "stream",
     "text": [
      "7000:\tlearn: 0.5590648\ttest: 0.7135370\tbest: 0.7135370 (7000)\ttotal: 3m 41s\tremaining: 6m 50s\n"
     ]
    },
    {
     "name": "stdout",
     "output_type": "stream",
     "text": [
      "8000:\tlearn: 0.5580137\ttest: 0.7129719\tbest: 0.7129719 (8000)\ttotal: 4m 12s\tremaining: 6m 19s\n"
     ]
    },
    {
     "name": "stdout",
     "output_type": "stream",
     "text": [
      "9000:\tlearn: 0.5570976\ttest: 0.7125178\tbest: 0.7125178 (9000)\ttotal: 4m 44s\tremaining: 5m 47s\n"
     ]
    },
    {
     "name": "stdout",
     "output_type": "stream",
     "text": [
      "10000:\tlearn: 0.5562737\ttest: 0.7121548\tbest: 0.7121548 (10000)\ttotal: 5m 16s\tremaining: 5m 15s\n"
     ]
    },
    {
     "name": "stdout",
     "output_type": "stream",
     "text": [
      "11000:\tlearn: 0.5555144\ttest: 0.7118654\tbest: 0.7118654 (11000)\ttotal: 5m 47s\tremaining: 4m 44s\n"
     ]
    },
    {
     "name": "stdout",
     "output_type": "stream",
     "text": [
      "12000:\tlearn: 0.5548082\ttest: 0.7116166\tbest: 0.7116166 (12000)\ttotal: 6m 19s\tremaining: 4m 12s\n"
     ]
    },
    {
     "name": "stdout",
     "output_type": "stream",
     "text": [
      "13000:\tlearn: 0.5541398\ttest: 0.7113902\tbest: 0.7113902 (13000)\ttotal: 6m 50s\tremaining: 3m 41s\n"
     ]
    },
    {
     "name": "stdout",
     "output_type": "stream",
     "text": [
      "14000:\tlearn: 0.5535051\ttest: 0.7111934\tbest: 0.7111934 (14000)\ttotal: 7m 22s\tremaining: 3m 9s\n"
     ]
    },
    {
     "name": "stdout",
     "output_type": "stream",
     "text": [
      "15000:\tlearn: 0.5528956\ttest: 0.7110222\tbest: 0.7110222 (15000)\ttotal: 7m 53s\tremaining: 2m 37s\n"
     ]
    },
    {
     "name": "stdout",
     "output_type": "stream",
     "text": [
      "16000:\tlearn: 0.5523121\ttest: 0.7108828\tbest: 0.7108828 (16000)\ttotal: 8m 25s\tremaining: 2m 6s\n"
     ]
    },
    {
     "name": "stdout",
     "output_type": "stream",
     "text": [
      "17000:\tlearn: 0.5517506\ttest: 0.7107639\tbest: 0.7107631 (16997)\ttotal: 8m 55s\tremaining: 1m 34s\n"
     ]
    },
    {
     "name": "stdout",
     "output_type": "stream",
     "text": [
      "18000:\tlearn: 0.5511999\ttest: 0.7106495\tbest: 0.7106495 (18000)\ttotal: 9m 26s\tremaining: 1m 2s\n"
     ]
    },
    {
     "name": "stdout",
     "output_type": "stream",
     "text": [
      "19000:\tlearn: 0.5506689\ttest: 0.7105548\tbest: 0.7105544 (18997)\ttotal: 9m 57s\tremaining: 31.4s\n"
     ]
    },
    {
     "name": "stdout",
     "output_type": "stream",
     "text": [
      "19999:\tlearn: 0.5501618\ttest: 0.7104706\tbest: 0.7104706 (19999)\ttotal: 10m 28s\tremaining: 0us\n",
      "\n",
      "bestTest = 0.7104706294\n",
      "bestIteration = 19999\n",
      "\n"
     ]
    },
    {
     "name": "stdout",
     "output_type": "stream",
     "text": [
      "0:\tlearn: 0.5943560\ttest: 0.7398608\tbest: 0.7398608 (0)\ttotal: 37.4ms\tremaining: 12m 28s\n"
     ]
    },
    {
     "name": "stdout",
     "output_type": "stream",
     "text": [
      "1000:\tlearn: 0.5742985\ttest: 0.7240067\tbest: 0.7240067 (1000)\ttotal: 32.1s\tremaining: 10m 9s\n"
     ]
    },
    {
     "name": "stdout",
     "output_type": "stream",
     "text": [
      "2000:\tlearn: 0.5693021\ttest: 0.7203438\tbest: 0.7203438 (2000)\ttotal: 1m 3s\tremaining: 9m 30s\n"
     ]
    },
    {
     "name": "stdout",
     "output_type": "stream",
     "text": [
      "3000:\tlearn: 0.5660651\ttest: 0.7180371\tbest: 0.7180371 (3000)\ttotal: 1m 34s\tremaining: 8m 56s\n"
     ]
    },
    {
     "name": "stdout",
     "output_type": "stream",
     "text": [
      "4000:\tlearn: 0.5636879\ttest: 0.7164123\tbest: 0.7164123 (4000)\ttotal: 2m 6s\tremaining: 8m 26s\n"
     ]
    },
    {
     "name": "stdout",
     "output_type": "stream",
     "text": [
      "5000:\tlearn: 0.5618043\ttest: 0.7151727\tbest: 0.7151727 (5000)\ttotal: 2m 38s\tremaining: 7m 55s\n"
     ]
    },
    {
     "name": "stdout",
     "output_type": "stream",
     "text": [
      "6000:\tlearn: 0.5602994\ttest: 0.7142548\tbest: 0.7142548 (6000)\ttotal: 3m 10s\tremaining: 7m 23s\n"
     ]
    },
    {
     "name": "stdout",
     "output_type": "stream",
     "text": [
      "7000:\tlearn: 0.5590647\ttest: 0.7135477\tbest: 0.7135477 (7000)\ttotal: 3m 41s\tremaining: 6m 51s\n"
     ]
    },
    {
     "name": "stdout",
     "output_type": "stream",
     "text": [
      "8000:\tlearn: 0.5580167\ttest: 0.7129857\tbest: 0.7129857 (8000)\ttotal: 4m 13s\tremaining: 6m 19s\n"
     ]
    },
    {
     "name": "stdout",
     "output_type": "stream",
     "text": [
      "9000:\tlearn: 0.5570799\ttest: 0.7125454\tbest: 0.7125454 (9000)\ttotal: 4m 45s\tremaining: 5m 48s\n"
     ]
    },
    {
     "name": "stdout",
     "output_type": "stream",
     "text": [
      "10000:\tlearn: 0.5562486\ttest: 0.7121941\tbest: 0.7121941 (10000)\ttotal: 5m 16s\tremaining: 5m 16s\n"
     ]
    },
    {
     "name": "stdout",
     "output_type": "stream",
     "text": [
      "11000:\tlearn: 0.5554800\ttest: 0.7118811\tbest: 0.7118811 (11000)\ttotal: 5m 48s\tremaining: 4m 44s\n"
     ]
    },
    {
     "name": "stdout",
     "output_type": "stream",
     "text": [
      "12000:\tlearn: 0.5547724\ttest: 0.7116353\tbest: 0.7116353 (12000)\ttotal: 6m 19s\tremaining: 4m 12s\n"
     ]
    },
    {
     "name": "stdout",
     "output_type": "stream",
     "text": [
      "13000:\tlearn: 0.5541027\ttest: 0.7114125\tbest: 0.7114124 (12999)\ttotal: 6m 50s\tremaining: 3m 41s\n"
     ]
    },
    {
     "name": "stdout",
     "output_type": "stream",
     "text": [
      "14000:\tlearn: 0.5534690\ttest: 0.7112385\tbest: 0.7112383 (13999)\ttotal: 7m 22s\tremaining: 3m 9s\n"
     ]
    },
    {
     "name": "stdout",
     "output_type": "stream",
     "text": [
      "15000:\tlearn: 0.5528644\ttest: 0.7110807\tbest: 0.7110807 (14995)\ttotal: 7m 53s\tremaining: 2m 37s\n"
     ]
    },
    {
     "name": "stdout",
     "output_type": "stream",
     "text": [
      "16000:\tlearn: 0.5522829\ttest: 0.7109365\tbest: 0.7109364 (15998)\ttotal: 8m 24s\tremaining: 2m 6s\n"
     ]
    },
    {
     "name": "stdout",
     "output_type": "stream",
     "text": [
      "17000:\tlearn: 0.5517156\ttest: 0.7108205\tbest: 0.7108205 (17000)\ttotal: 8m 55s\tremaining: 1m 34s\n"
     ]
    },
    {
     "name": "stdout",
     "output_type": "stream",
     "text": [
      "18000:\tlearn: 0.5511667\ttest: 0.7107184\tbest: 0.7107184 (18000)\ttotal: 9m 26s\tremaining: 1m 2s\n"
     ]
    },
    {
     "name": "stdout",
     "output_type": "stream",
     "text": [
      "19000:\tlearn: 0.5506421\ttest: 0.7106316\tbest: 0.7106316 (18998)\ttotal: 9m 57s\tremaining: 31.4s\n"
     ]
    },
    {
     "name": "stdout",
     "output_type": "stream",
     "text": [
      "19999:\tlearn: 0.5501283\ttest: 0.7105463\tbest: 0.7105459 (19996)\ttotal: 10m 28s\tremaining: 0us\n",
      "\n",
      "bestTest = 0.7105459325\n",
      "bestIteration = 19996\n",
      "\n",
      "Shrink model to first 19997 iterations.\n"
     ]
    },
    {
     "name": "stderr",
     "output_type": "stream",
     "text": [
      "\u001b[32m[I 2021-08-28 21:55:22,482]\u001b[0m Trial 18 finished with value: 0.7104162818936801 and parameters: {'bootstrap_type': 'Bernoulli', 'max_depth': 4, 'learning_rate': 0.010017741022228703, 'max_bin': 489, 'min_data_in_leaf': 11, 'reg_lambda': 0.008939166674040258, 'subsample': 0.9307730291922274}. Best is trial 16 with value: 0.7102225629703823.\u001b[0m\n"
     ]
    },
    {
     "name": "stdout",
     "output_type": "stream",
     "text": [
      "0:\tlearn: 0.5943113\ttest: 0.7398260\tbest: 0.7398260 (0)\ttotal: 52ms\tremaining: 17m 20s\n"
     ]
    },
    {
     "name": "stdout",
     "output_type": "stream",
     "text": [
      "1000:\tlearn: 0.5711366\ttest: 0.7218988\tbest: 0.7218988 (1000)\ttotal: 43s\tremaining: 13m 36s\n"
     ]
    },
    {
     "name": "stdout",
     "output_type": "stream",
     "text": [
      "2000:\tlearn: 0.5653391\ttest: 0.7178665\tbest: 0.7178665 (2000)\ttotal: 1m 25s\tremaining: 12m 47s\n"
     ]
    },
    {
     "name": "stdout",
     "output_type": "stream",
     "text": [
      "3000:\tlearn: 0.5616275\ttest: 0.7155228\tbest: 0.7155228 (3000)\ttotal: 2m 8s\tremaining: 12m 7s\n"
     ]
    },
    {
     "name": "stdout",
     "output_type": "stream",
     "text": [
      "4000:\tlearn: 0.5589900\ttest: 0.7140738\tbest: 0.7140738 (4000)\ttotal: 2m 51s\tremaining: 11m 24s\n"
     ]
    },
    {
     "name": "stdout",
     "output_type": "stream",
     "text": [
      "5000:\tlearn: 0.5569122\ttest: 0.7131285\tbest: 0.7131285 (5000)\ttotal: 3m 33s\tremaining: 10m 40s\n"
     ]
    },
    {
     "name": "stdout",
     "output_type": "stream",
     "text": [
      "6000:\tlearn: 0.5551158\ttest: 0.7124612\tbest: 0.7124612 (6000)\ttotal: 4m 16s\tremaining: 9m 58s\n"
     ]
    },
    {
     "name": "stdout",
     "output_type": "stream",
     "text": [
      "7000:\tlearn: 0.5534843\ttest: 0.7119999\tbest: 0.7119999 (7000)\ttotal: 4m 58s\tremaining: 9m 14s\n"
     ]
    },
    {
     "name": "stdout",
     "output_type": "stream",
     "text": [
      "8000:\tlearn: 0.5519446\ttest: 0.7116433\tbest: 0.7116433 (8000)\ttotal: 5m 40s\tremaining: 8m 31s\n"
     ]
    },
    {
     "name": "stdout",
     "output_type": "stream",
     "text": [
      "9000:\tlearn: 0.5504845\ttest: 0.7113748\tbest: 0.7113747 (8997)\ttotal: 6m 23s\tremaining: 7m 48s\n"
     ]
    },
    {
     "name": "stdout",
     "output_type": "stream",
     "text": [
      "10000:\tlearn: 0.5490757\ttest: 0.7111602\tbest: 0.7111602 (10000)\ttotal: 7m 5s\tremaining: 7m 5s\n"
     ]
    },
    {
     "name": "stdout",
     "output_type": "stream",
     "text": [
      "11000:\tlearn: 0.5477115\ttest: 0.7109761\tbest: 0.7109755 (10992)\ttotal: 7m 47s\tremaining: 6m 22s\n"
     ]
    },
    {
     "name": "stdout",
     "output_type": "stream",
     "text": [
      "12000:\tlearn: 0.5463823\ttest: 0.7108221\tbest: 0.7108219 (11999)\ttotal: 8m 28s\tremaining: 5m 39s\n"
     ]
    },
    {
     "name": "stdout",
     "output_type": "stream",
     "text": [
      "13000:\tlearn: 0.5450836\ttest: 0.7106897\tbest: 0.7106897 (13000)\ttotal: 9m 10s\tremaining: 4m 56s\n"
     ]
    },
    {
     "name": "stdout",
     "output_type": "stream",
     "text": [
      "14000:\tlearn: 0.5437995\ttest: 0.7105964\tbest: 0.7105946 (13972)\ttotal: 9m 51s\tremaining: 4m 13s\n"
     ]
    },
    {
     "name": "stdout",
     "output_type": "stream",
     "text": [
      "15000:\tlearn: 0.5425328\ttest: 0.7105184\tbest: 0.7105176 (14994)\ttotal: 10m 32s\tremaining: 3m 30s\n"
     ]
    },
    {
     "name": "stdout",
     "output_type": "stream",
     "text": [
      "16000:\tlearn: 0.5412959\ttest: 0.7104296\tbest: 0.7104278 (15993)\ttotal: 11m 14s\tremaining: 2m 48s\n"
     ]
    },
    {
     "name": "stdout",
     "output_type": "stream",
     "text": [
      "Stopped by overfitting detector  (200 iterations wait)\n",
      "\n",
      "bestTest = 0.7104063327\n",
      "bestIteration = 16345\n",
      "\n",
      "Shrink model to first 16346 iterations.\n"
     ]
    },
    {
     "name": "stdout",
     "output_type": "stream",
     "text": [
      "0:\tlearn: 0.5943180\ttest: 0.7398313\tbest: 0.7398313 (0)\ttotal: 51.9ms\tremaining: 17m 18s\n"
     ]
    },
    {
     "name": "stdout",
     "output_type": "stream",
     "text": [
      "1000:\tlearn: 0.5710948\ttest: 0.7218690\tbest: 0.7218690 (1000)\ttotal: 43.3s\tremaining: 13m 41s\n"
     ]
    },
    {
     "name": "stdout",
     "output_type": "stream",
     "text": [
      "2000:\tlearn: 0.5653657\ttest: 0.7178848\tbest: 0.7178848 (2000)\ttotal: 1m 26s\tremaining: 12m 53s\n"
     ]
    },
    {
     "name": "stdout",
     "output_type": "stream",
     "text": [
      "3000:\tlearn: 0.5616435\ttest: 0.7155271\tbest: 0.7155271 (3000)\ttotal: 2m 8s\tremaining: 12m 7s\n"
     ]
    },
    {
     "name": "stdout",
     "output_type": "stream",
     "text": [
      "4000:\tlearn: 0.5590153\ttest: 0.7140869\tbest: 0.7140869 (4000)\ttotal: 2m 51s\tremaining: 11m 25s\n"
     ]
    },
    {
     "name": "stdout",
     "output_type": "stream",
     "text": [
      "5000:\tlearn: 0.5569011\ttest: 0.7131139\tbest: 0.7131139 (5000)\ttotal: 3m 34s\tremaining: 10m 41s\n"
     ]
    },
    {
     "name": "stdout",
     "output_type": "stream",
     "text": [
      "6000:\tlearn: 0.5551095\ttest: 0.7124396\tbest: 0.7124396 (6000)\ttotal: 4m 16s\tremaining: 9m 58s\n"
     ]
    },
    {
     "name": "stdout",
     "output_type": "stream",
     "text": [
      "7000:\tlearn: 0.5534738\ttest: 0.7119388\tbest: 0.7119388 (7000)\ttotal: 4m 59s\tremaining: 9m 15s\n"
     ]
    },
    {
     "name": "stdout",
     "output_type": "stream",
     "text": [
      "8000:\tlearn: 0.5519593\ttest: 0.7115999\tbest: 0.7115999 (8000)\ttotal: 5m 41s\tremaining: 8m 32s\n"
     ]
    },
    {
     "name": "stdout",
     "output_type": "stream",
     "text": [
      "9000:\tlearn: 0.5505113\ttest: 0.7113478\tbest: 0.7113478 (9000)\ttotal: 6m 23s\tremaining: 7m 48s\n"
     ]
    },
    {
     "name": "stdout",
     "output_type": "stream",
     "text": [
      "10000:\tlearn: 0.5491119\ttest: 0.7111296\tbest: 0.7111296 (10000)\ttotal: 7m 4s\tremaining: 7m 4s\n"
     ]
    },
    {
     "name": "stdout",
     "output_type": "stream",
     "text": [
      "11000:\tlearn: 0.5477480\ttest: 0.7109657\tbest: 0.7109657 (11000)\ttotal: 7m 46s\tremaining: 6m 21s\n"
     ]
    },
    {
     "name": "stdout",
     "output_type": "stream",
     "text": [
      "12000:\tlearn: 0.5464163\ttest: 0.7108271\tbest: 0.7108258 (11973)\ttotal: 8m 28s\tremaining: 5m 38s\n"
     ]
    },
    {
     "name": "stdout",
     "output_type": "stream",
     "text": [
      "13000:\tlearn: 0.5451172\ttest: 0.7107295\tbest: 0.7107292 (12999)\ttotal: 9m 10s\tremaining: 4m 56s\n"
     ]
    },
    {
     "name": "stdout",
     "output_type": "stream",
     "text": [
      "14000:\tlearn: 0.5438510\ttest: 0.7106383\tbest: 0.7106370 (13985)\ttotal: 9m 51s\tremaining: 4m 13s\n"
     ]
    },
    {
     "name": "stdout",
     "output_type": "stream",
     "text": [
      "15000:\tlearn: 0.5425937\ttest: 0.7105678\tbest: 0.7105678 (14999)\ttotal: 10m 33s\tremaining: 3m 31s\n"
     ]
    },
    {
     "name": "stdout",
     "output_type": "stream",
     "text": [
      "16000:\tlearn: 0.5413481\ttest: 0.7105024\tbest: 0.7105024 (16000)\ttotal: 11m 14s\tremaining: 2m 48s\n"
     ]
    },
    {
     "name": "stdout",
     "output_type": "stream",
     "text": [
      "Stopped by overfitting detector  (200 iterations wait)\n",
      "\n",
      "bestTest = 0.7104568903\n",
      "bestIteration = 16756\n",
      "\n",
      "Shrink model to first 16757 iterations.\n"
     ]
    },
    {
     "name": "stderr",
     "output_type": "stream",
     "text": [
      "\u001b[32m[I 2021-08-28 22:19:03,842]\u001b[0m Trial 19 finished with value: 0.7103206658786262 and parameters: {'bootstrap_type': 'Bernoulli', 'max_depth': 6, 'learning_rate': 0.010032958265672387, 'max_bin': 491, 'min_data_in_leaf': 11, 'reg_lambda': 0.009001880844364138, 'subsample': 0.9299592019714701}. Best is trial 16 with value: 0.7102225629703823.\u001b[0m\n"
     ]
    },
    {
     "name": "stdout",
     "output_type": "stream",
     "text": [
      "0:\tlearn: 0.5943297\ttest: 0.7398412\tbest: 0.7398412 (0)\ttotal: 42.6ms\tremaining: 14m 11s\n"
     ]
    },
    {
     "name": "stdout",
     "output_type": "stream",
     "text": [
      "1000:\tlearn: 0.5726892\ttest: 0.7228801\tbest: 0.7228801 (1000)\ttotal: 36.6s\tremaining: 11m 35s\n"
     ]
    },
    {
     "name": "stdout",
     "output_type": "stream",
     "text": [
      "2000:\tlearn: 0.5672656\ttest: 0.7189859\tbest: 0.7189857 (1999)\ttotal: 1m 12s\tremaining: 10m 51s\n"
     ]
    },
    {
     "name": "stdout",
     "output_type": "stream",
     "text": [
      "3000:\tlearn: 0.5637337\ttest: 0.7165663\tbest: 0.7165663 (3000)\ttotal: 1m 48s\tremaining: 10m 17s\n"
     ]
    },
    {
     "name": "stdout",
     "output_type": "stream",
     "text": [
      "4000:\tlearn: 0.5612575\ttest: 0.7150320\tbest: 0.7150320 (4000)\ttotal: 2m 25s\tremaining: 9m 41s\n"
     ]
    },
    {
     "name": "stdout",
     "output_type": "stream",
     "text": [
      "5000:\tlearn: 0.5593588\ttest: 0.7139486\tbest: 0.7139486 (5000)\ttotal: 3m 2s\tremaining: 9m 6s\n"
     ]
    },
    {
     "name": "stdout",
     "output_type": "stream",
     "text": [
      "6000:\tlearn: 0.5578115\ttest: 0.7131797\tbest: 0.7131797 (6000)\ttotal: 3m 39s\tremaining: 8m 31s\n"
     ]
    },
    {
     "name": "stdout",
     "output_type": "stream",
     "text": [
      "7000:\tlearn: 0.5564831\ttest: 0.7125851\tbest: 0.7125851 (7000)\ttotal: 4m 15s\tremaining: 7m 54s\n"
     ]
    },
    {
     "name": "stdout",
     "output_type": "stream",
     "text": [
      "8000:\tlearn: 0.5552816\ttest: 0.7121300\tbest: 0.7121299 (7999)\ttotal: 4m 51s\tremaining: 7m 17s\n"
     ]
    },
    {
     "name": "stdout",
     "output_type": "stream",
     "text": [
      "9000:\tlearn: 0.5541867\ttest: 0.7117912\tbest: 0.7117912 (9000)\ttotal: 5m 27s\tremaining: 6m 40s\n"
     ]
    },
    {
     "name": "stdout",
     "output_type": "stream",
     "text": [
      "10000:\tlearn: 0.5531594\ttest: 0.7115047\tbest: 0.7115046 (9999)\ttotal: 6m 2s\tremaining: 6m 2s\n"
     ]
    },
    {
     "name": "stdout",
     "output_type": "stream",
     "text": [
      "11000:\tlearn: 0.5521806\ttest: 0.7112792\tbest: 0.7112792 (11000)\ttotal: 6m 38s\tremaining: 5m 26s\n"
     ]
    },
    {
     "name": "stdout",
     "output_type": "stream",
     "text": [
      "12000:\tlearn: 0.5512384\ttest: 0.7110921\tbest: 0.7110919 (11999)\ttotal: 7m 13s\tremaining: 4m 49s\n"
     ]
    },
    {
     "name": "stdout",
     "output_type": "stream",
     "text": [
      "13000:\tlearn: 0.5503342\ttest: 0.7109278\tbest: 0.7109278 (13000)\ttotal: 7m 48s\tremaining: 4m 12s\n"
     ]
    },
    {
     "name": "stdout",
     "output_type": "stream",
     "text": [
      "14000:\tlearn: 0.5494517\ttest: 0.7107791\tbest: 0.7107791 (14000)\ttotal: 8m 23s\tremaining: 3m 35s\n"
     ]
    },
    {
     "name": "stdout",
     "output_type": "stream",
     "text": [
      "15000:\tlearn: 0.5485954\ttest: 0.7106658\tbest: 0.7106653 (14999)\ttotal: 8m 58s\tremaining: 2m 59s\n"
     ]
    },
    {
     "name": "stdout",
     "output_type": "stream",
     "text": [
      "16000:\tlearn: 0.5477619\ttest: 0.7105629\tbest: 0.7105629 (16000)\ttotal: 9m 33s\tremaining: 2m 23s\n"
     ]
    },
    {
     "name": "stdout",
     "output_type": "stream",
     "text": [
      "17000:\tlearn: 0.5469410\ttest: 0.7104881\tbest: 0.7104881 (17000)\ttotal: 10m 8s\tremaining: 1m 47s\n"
     ]
    },
    {
     "name": "stdout",
     "output_type": "stream",
     "text": [
      "18000:\tlearn: 0.5461363\ttest: 0.7104146\tbest: 0.7104146 (17999)\ttotal: 10m 43s\tremaining: 1m 11s\n"
     ]
    },
    {
     "name": "stdout",
     "output_type": "stream",
     "text": [
      "19000:\tlearn: 0.5453452\ttest: 0.7103467\tbest: 0.7103465 (18999)\ttotal: 11m 18s\tremaining: 35.7s\n"
     ]
    },
    {
     "name": "stdout",
     "output_type": "stream",
     "text": [
      "19999:\tlearn: 0.5445678\ttest: 0.7102832\tbest: 0.7102832 (19999)\ttotal: 11m 53s\tremaining: 0us\n",
      "\n",
      "bestTest = 0.7102832396\n",
      "bestIteration = 19999\n",
      "\n"
     ]
    },
    {
     "name": "stdout",
     "output_type": "stream",
     "text": [
      "0:\tlearn: 0.5943369\ttest: 0.7398433\tbest: 0.7398433 (0)\ttotal: 43.2ms\tremaining: 14m 24s\n"
     ]
    },
    {
     "name": "stdout",
     "output_type": "stream",
     "text": [
      "1000:\tlearn: 0.5726333\ttest: 0.7228422\tbest: 0.7228422 (1000)\ttotal: 36.9s\tremaining: 11m 40s\n"
     ]
    },
    {
     "name": "stdout",
     "output_type": "stream",
     "text": [
      "2000:\tlearn: 0.5672134\ttest: 0.7189505\tbest: 0.7189505 (2000)\ttotal: 1m 12s\tremaining: 10m 50s\n"
     ]
    },
    {
     "name": "stdout",
     "output_type": "stream",
     "text": [
      "3000:\tlearn: 0.5637790\ttest: 0.7166282\tbest: 0.7166282 (3000)\ttotal: 1m 47s\tremaining: 10m 9s\n"
     ]
    },
    {
     "name": "stdout",
     "output_type": "stream",
     "text": [
      "4000:\tlearn: 0.5612799\ttest: 0.7150838\tbest: 0.7150838 (4000)\ttotal: 2m 23s\tremaining: 9m 33s\n"
     ]
    },
    {
     "name": "stdout",
     "output_type": "stream",
     "text": [
      "5000:\tlearn: 0.5593657\ttest: 0.7140169\tbest: 0.7140169 (5000)\ttotal: 2m 58s\tremaining: 8m 56s\n"
     ]
    },
    {
     "name": "stdout",
     "output_type": "stream",
     "text": [
      "6000:\tlearn: 0.5577833\ttest: 0.7131971\tbest: 0.7131968 (5999)\ttotal: 3m 34s\tremaining: 8m 21s\n"
     ]
    },
    {
     "name": "stdout",
     "output_type": "stream",
     "text": [
      "7000:\tlearn: 0.5564363\ttest: 0.7125789\tbest: 0.7125785 (6999)\ttotal: 4m 10s\tremaining: 7m 45s\n"
     ]
    },
    {
     "name": "stdout",
     "output_type": "stream",
     "text": [
      "8000:\tlearn: 0.5552509\ttest: 0.7121509\tbest: 0.7121509 (8000)\ttotal: 4m 45s\tremaining: 7m 8s\n"
     ]
    },
    {
     "name": "stdout",
     "output_type": "stream",
     "text": [
      "9000:\tlearn: 0.5541524\ttest: 0.7117935\tbest: 0.7117931 (8997)\ttotal: 5m 21s\tremaining: 6m 32s\n"
     ]
    },
    {
     "name": "stdout",
     "output_type": "stream",
     "text": [
      "10000:\tlearn: 0.5531228\ttest: 0.7115174\tbest: 0.7115174 (10000)\ttotal: 5m 56s\tremaining: 5m 56s\n"
     ]
    },
    {
     "name": "stdout",
     "output_type": "stream",
     "text": [
      "11000:\tlearn: 0.5521527\ttest: 0.7113000\tbest: 0.7112999 (10998)\ttotal: 6m 31s\tremaining: 5m 20s\n"
     ]
    },
    {
     "name": "stdout",
     "output_type": "stream",
     "text": [
      "12000:\tlearn: 0.5512098\ttest: 0.7111207\tbest: 0.7111207 (12000)\ttotal: 7m 6s\tremaining: 4m 44s\n"
     ]
    },
    {
     "name": "stdout",
     "output_type": "stream",
     "text": [
      "13000:\tlearn: 0.5503069\ttest: 0.7109578\tbest: 0.7109578 (13000)\ttotal: 7m 41s\tremaining: 4m 8s\n"
     ]
    },
    {
     "name": "stdout",
     "output_type": "stream",
     "text": [
      "14000:\tlearn: 0.5494299\ttest: 0.7108394\tbest: 0.7108394 (14000)\ttotal: 8m 16s\tremaining: 3m 32s\n"
     ]
    },
    {
     "name": "stdout",
     "output_type": "stream",
     "text": [
      "15000:\tlearn: 0.5485774\ttest: 0.7107438\tbest: 0.7107438 (14997)\ttotal: 8m 50s\tremaining: 2m 56s\n"
     ]
    },
    {
     "name": "stdout",
     "output_type": "stream",
     "text": [
      "16000:\tlearn: 0.5477459\ttest: 0.7106509\tbest: 0.7106509 (16000)\ttotal: 9m 25s\tremaining: 2m 21s\n"
     ]
    },
    {
     "name": "stdout",
     "output_type": "stream",
     "text": [
      "17000:\tlearn: 0.5469286\ttest: 0.7105783\tbest: 0.7105777 (16998)\ttotal: 10m\tremaining: 1m 45s\n"
     ]
    },
    {
     "name": "stdout",
     "output_type": "stream",
     "text": [
      "18000:\tlearn: 0.5461173\ttest: 0.7105207\tbest: 0.7105205 (17999)\ttotal: 10m 35s\tremaining: 1m 10s\n"
     ]
    },
    {
     "name": "stdout",
     "output_type": "stream",
     "text": [
      "19000:\tlearn: 0.5453355\ttest: 0.7104552\tbest: 0.7104546 (18989)\ttotal: 11m 9s\tremaining: 35.2s\n"
     ]
    },
    {
     "name": "stdout",
     "output_type": "stream",
     "text": [
      "19999:\tlearn: 0.5445633\ttest: 0.7103988\tbest: 0.7103987 (19981)\ttotal: 11m 44s\tremaining: 0us\n",
      "\n",
      "bestTest = 0.7103986551\n",
      "bestIteration = 19981\n",
      "\n",
      "Shrink model to first 19982 iterations.\n"
     ]
    },
    {
     "name": "stderr",
     "output_type": "stream",
     "text": [
      "\u001b[32m[I 2021-08-28 22:42:51,612]\u001b[0m Trial 20 finished with value: 0.7102342771037047 and parameters: {'bootstrap_type': 'Bernoulli', 'max_depth': 5, 'learning_rate': 0.010007006192419635, 'max_bin': 489, 'min_data_in_leaf': 10, 'reg_lambda': 0.008943399158144072, 'subsample': 0.9215783317208308}. Best is trial 16 with value: 0.7102225629703823.\u001b[0m\n"
     ]
    },
    {
     "name": "stdout",
     "output_type": "stream",
     "text": [
      "0:\tlearn: 0.5943300\ttest: 0.7398415\tbest: 0.7398415 (0)\ttotal: 41.8ms\tremaining: 13m 55s\n"
     ]
    },
    {
     "name": "stdout",
     "output_type": "stream",
     "text": [
      "1000:\tlearn: 0.5726810\ttest: 0.7228491\tbest: 0.7228491 (1000)\ttotal: 36s\tremaining: 11m 23s\n"
     ]
    },
    {
     "name": "stdout",
     "output_type": "stream",
     "text": [
      "2000:\tlearn: 0.5672512\ttest: 0.7189428\tbest: 0.7189428 (2000)\ttotal: 1m 11s\tremaining: 10m 44s\n"
     ]
    },
    {
     "name": "stdout",
     "output_type": "stream",
     "text": [
      "3000:\tlearn: 0.5637620\ttest: 0.7165816\tbest: 0.7165816 (3000)\ttotal: 1m 47s\tremaining: 10m 9s\n"
     ]
    },
    {
     "name": "stdout",
     "output_type": "stream",
     "text": [
      "4000:\tlearn: 0.5612731\ttest: 0.7150184\tbest: 0.7150184 (4000)\ttotal: 2m 23s\tremaining: 9m 33s\n"
     ]
    },
    {
     "name": "stdout",
     "output_type": "stream",
     "text": [
      "5000:\tlearn: 0.5593659\ttest: 0.7139315\tbest: 0.7139315 (5000)\ttotal: 2m 59s\tremaining: 8m 57s\n"
     ]
    },
    {
     "name": "stdout",
     "output_type": "stream",
     "text": [
      "6000:\tlearn: 0.5578202\ttest: 0.7131510\tbest: 0.7131510 (6000)\ttotal: 3m 34s\tremaining: 8m 21s\n"
     ]
    },
    {
     "name": "stdout",
     "output_type": "stream",
     "text": [
      "7000:\tlearn: 0.5564789\ttest: 0.7125500\tbest: 0.7125500 (7000)\ttotal: 4m 10s\tremaining: 7m 45s\n"
     ]
    },
    {
     "name": "stdout",
     "output_type": "stream",
     "text": [
      "8000:\tlearn: 0.5552743\ttest: 0.7120933\tbest: 0.7120933 (7999)\ttotal: 4m 46s\tremaining: 7m 8s\n"
     ]
    },
    {
     "name": "stdout",
     "output_type": "stream",
     "text": [
      "9000:\tlearn: 0.5541784\ttest: 0.7117585\tbest: 0.7117585 (9000)\ttotal: 5m 21s\tremaining: 6m 32s\n"
     ]
    },
    {
     "name": "stdout",
     "output_type": "stream",
     "text": [
      "10000:\tlearn: 0.5531544\ttest: 0.7114906\tbest: 0.7114900 (9997)\ttotal: 5m 56s\tremaining: 5m 56s\n"
     ]
    },
    {
     "name": "stdout",
     "output_type": "stream",
     "text": [
      "11000:\tlearn: 0.5521631\ttest: 0.7112365\tbest: 0.7112365 (11000)\ttotal: 6m 31s\tremaining: 5m 20s\n"
     ]
    },
    {
     "name": "stdout",
     "output_type": "stream",
     "text": [
      "12000:\tlearn: 0.5512209\ttest: 0.7110317\tbest: 0.7110317 (12000)\ttotal: 7m 6s\tremaining: 4m 44s\n"
     ]
    },
    {
     "name": "stdout",
     "output_type": "stream",
     "text": [
      "13000:\tlearn: 0.5503062\ttest: 0.7108669\tbest: 0.7108669 (13000)\ttotal: 7m 42s\tremaining: 4m 8s\n"
     ]
    },
    {
     "name": "stdout",
     "output_type": "stream",
     "text": [
      "14000:\tlearn: 0.5494247\ttest: 0.7107291\tbest: 0.7107281 (13991)\ttotal: 8m 17s\tremaining: 3m 33s\n"
     ]
    },
    {
     "name": "stdout",
     "output_type": "stream",
     "text": [
      "15000:\tlearn: 0.5485724\ttest: 0.7106131\tbest: 0.7106131 (15000)\ttotal: 8m 53s\tremaining: 2m 57s\n"
     ]
    },
    {
     "name": "stdout",
     "output_type": "stream",
     "text": [
      "16000:\tlearn: 0.5477397\ttest: 0.7105078\tbest: 0.7105072 (15999)\ttotal: 9m 28s\tremaining: 2m 21s\n"
     ]
    },
    {
     "name": "stdout",
     "output_type": "stream",
     "text": [
      "17000:\tlearn: 0.5469142\ttest: 0.7104389\tbest: 0.7104379 (16981)\ttotal: 10m 2s\tremaining: 1m 46s\n"
     ]
    },
    {
     "name": "stdout",
     "output_type": "stream",
     "text": [
      "18000:\tlearn: 0.5461082\ttest: 0.7103527\tbest: 0.7103522 (17947)\ttotal: 10m 37s\tremaining: 1m 10s\n"
     ]
    },
    {
     "name": "stdout",
     "output_type": "stream",
     "text": [
      "19000:\tlearn: 0.5453126\ttest: 0.7102774\tbest: 0.7102772 (18999)\ttotal: 11m 12s\tremaining: 35.4s\n"
     ]
    },
    {
     "name": "stdout",
     "output_type": "stream",
     "text": [
      "19999:\tlearn: 0.5445375\ttest: 0.7102291\tbest: 0.7102274 (19983)\ttotal: 11m 47s\tremaining: 0us\n",
      "\n",
      "bestTest = 0.710227432\n",
      "bestIteration = 19983\n",
      "\n",
      "Shrink model to first 19984 iterations.\n"
     ]
    },
    {
     "name": "stdout",
     "output_type": "stream",
     "text": [
      "0:\tlearn: 0.5943357\ttest: 0.7398428\tbest: 0.7398428 (0)\ttotal: 42.5ms\tremaining: 14m 10s\n"
     ]
    },
    {
     "name": "stdout",
     "output_type": "stream",
     "text": [
      "1000:\tlearn: 0.5726366\ttest: 0.7228404\tbest: 0.7228404 (1000)\ttotal: 36.2s\tremaining: 11m 26s\n"
     ]
    },
    {
     "name": "stdout",
     "output_type": "stream",
     "text": [
      "2000:\tlearn: 0.5672334\ttest: 0.7189767\tbest: 0.7189767 (2000)\ttotal: 1m 11s\tremaining: 10m 44s\n"
     ]
    },
    {
     "name": "stdout",
     "output_type": "stream",
     "text": [
      "3000:\tlearn: 0.5637891\ttest: 0.7166496\tbest: 0.7166496 (3000)\ttotal: 1m 47s\tremaining: 10m 8s\n"
     ]
    },
    {
     "name": "stdout",
     "output_type": "stream",
     "text": [
      "4000:\tlearn: 0.5612396\ttest: 0.7150625\tbest: 0.7150625 (4000)\ttotal: 2m 23s\tremaining: 9m 33s\n"
     ]
    },
    {
     "name": "stdout",
     "output_type": "stream",
     "text": [
      "5000:\tlearn: 0.5593252\ttest: 0.7139815\tbest: 0.7139815 (5000)\ttotal: 2m 59s\tremaining: 8m 57s\n"
     ]
    },
    {
     "name": "stdout",
     "output_type": "stream",
     "text": [
      "6000:\tlearn: 0.5577764\ttest: 0.7131796\tbest: 0.7131793 (5999)\ttotal: 3m 35s\tremaining: 8m 22s\n"
     ]
    },
    {
     "name": "stdout",
     "output_type": "stream",
     "text": [
      "7000:\tlearn: 0.5564312\ttest: 0.7125826\tbest: 0.7125826 (7000)\ttotal: 4m 11s\tremaining: 7m 47s\n"
     ]
    },
    {
     "name": "stdout",
     "output_type": "stream",
     "text": [
      "8000:\tlearn: 0.5552386\ttest: 0.7121248\tbest: 0.7121248 (8000)\ttotal: 4m 46s\tremaining: 7m 10s\n"
     ]
    },
    {
     "name": "stdout",
     "output_type": "stream",
     "text": [
      "9000:\tlearn: 0.5541441\ttest: 0.7117867\tbest: 0.7117867 (9000)\ttotal: 5m 22s\tremaining: 6m 33s\n"
     ]
    },
    {
     "name": "stdout",
     "output_type": "stream",
     "text": [
      "10000:\tlearn: 0.5531150\ttest: 0.7115211\tbest: 0.7115211 (10000)\ttotal: 5m 57s\tremaining: 5m 57s\n"
     ]
    },
    {
     "name": "stdout",
     "output_type": "stream",
     "text": [
      "11000:\tlearn: 0.5521346\ttest: 0.7112822\tbest: 0.7112822 (10998)\ttotal: 6m 32s\tremaining: 5m 21s\n"
     ]
    },
    {
     "name": "stdout",
     "output_type": "stream",
     "text": [
      "12000:\tlearn: 0.5511938\ttest: 0.7111241\tbest: 0.7111239 (11998)\ttotal: 7m 8s\tremaining: 4m 45s\n"
     ]
    },
    {
     "name": "stdout",
     "output_type": "stream",
     "text": [
      "13000:\tlearn: 0.5502903\ttest: 0.7109720\tbest: 0.7109720 (13000)\ttotal: 7m 43s\tremaining: 4m 9s\n"
     ]
    },
    {
     "name": "stdout",
     "output_type": "stream",
     "text": [
      "14000:\tlearn: 0.5494155\ttest: 0.7108418\tbest: 0.7108416 (13999)\ttotal: 8m 19s\tremaining: 3m 33s\n"
     ]
    },
    {
     "name": "stdout",
     "output_type": "stream",
     "text": [
      "15000:\tlearn: 0.5485610\ttest: 0.7107454\tbest: 0.7107453 (14997)\ttotal: 8m 55s\tremaining: 2m 58s\n"
     ]
    },
    {
     "name": "stdout",
     "output_type": "stream",
     "text": [
      "16000:\tlearn: 0.5477281\ttest: 0.7106666\tbest: 0.7106662 (15999)\ttotal: 9m 30s\tremaining: 2m 22s\n"
     ]
    },
    {
     "name": "stdout",
     "output_type": "stream",
     "text": [
      "17000:\tlearn: 0.5469048\ttest: 0.7105837\tbest: 0.7105834 (16995)\ttotal: 10m 5s\tremaining: 1m 46s\n"
     ]
    },
    {
     "name": "stdout",
     "output_type": "stream",
     "text": [
      "18000:\tlearn: 0.5460954\ttest: 0.7105191\tbest: 0.7105190 (17999)\ttotal: 10m 40s\tremaining: 1m 11s\n"
     ]
    },
    {
     "name": "stdout",
     "output_type": "stream",
     "text": [
      "19000:\tlearn: 0.5453075\ttest: 0.7104533\tbest: 0.7104528 (18989)\ttotal: 11m 15s\tremaining: 35.5s\n"
     ]
    },
    {
     "name": "stdout",
     "output_type": "stream",
     "text": [
      "19999:\tlearn: 0.5445353\ttest: 0.7103996\tbest: 0.7103988 (19981)\ttotal: 11m 49s\tremaining: 0us\n",
      "\n",
      "bestTest = 0.7103988099\n",
      "bestIteration = 19981\n",
      "\n",
      "Shrink model to first 19982 iterations.\n"
     ]
    },
    {
     "name": "stderr",
     "output_type": "stream",
     "text": [
      "\u001b[32m[I 2021-08-28 23:06:39,485]\u001b[0m Trial 21 finished with value: 0.7102024030007975 and parameters: {'bootstrap_type': 'Bernoulli', 'max_depth': 5, 'learning_rate': 0.010022408148680544, 'max_bin': 487, 'min_data_in_leaf': 11, 'reg_lambda': 0.008868544563934334, 'subsample': 0.9252603717110417}. Best is trial 21 with value: 0.7102024030007975.\u001b[0m\n"
     ]
    },
    {
     "name": "stdout",
     "output_type": "stream",
     "text": [
      "0:\tlearn: 0.5943301\ttest: 0.7398416\tbest: 0.7398416 (0)\ttotal: 42.8ms\tremaining: 14m 16s\n"
     ]
    },
    {
     "name": "stdout",
     "output_type": "stream",
     "text": [
      "1000:\tlearn: 0.5727051\ttest: 0.7228832\tbest: 0.7228832 (1000)\ttotal: 36.3s\tremaining: 11m 29s\n"
     ]
    },
    {
     "name": "stdout",
     "output_type": "stream",
     "text": [
      "2000:\tlearn: 0.5672568\ttest: 0.7189538\tbest: 0.7189538 (2000)\ttotal: 1m 12s\tremaining: 10m 48s\n"
     ]
    },
    {
     "name": "stdout",
     "output_type": "stream",
     "text": [
      "3000:\tlearn: 0.5637479\ttest: 0.7165469\tbest: 0.7165469 (3000)\ttotal: 1m 49s\tremaining: 10m 17s\n"
     ]
    },
    {
     "name": "stdout",
     "output_type": "stream",
     "text": [
      "4000:\tlearn: 0.5612540\ttest: 0.7150250\tbest: 0.7150250 (4000)\ttotal: 2m 26s\tremaining: 9m 44s\n"
     ]
    },
    {
     "name": "stdout",
     "output_type": "stream",
     "text": [
      "5000:\tlearn: 0.5593506\ttest: 0.7139409\tbest: 0.7139409 (5000)\ttotal: 3m 2s\tremaining: 9m 8s\n"
     ]
    },
    {
     "name": "stdout",
     "output_type": "stream",
     "text": [
      "6000:\tlearn: 0.5578057\ttest: 0.7131625\tbest: 0.7131625 (6000)\ttotal: 3m 39s\tremaining: 8m 33s\n"
     ]
    },
    {
     "name": "stdout",
     "output_type": "stream",
     "text": [
      "7000:\tlearn: 0.5564695\ttest: 0.7125600\tbest: 0.7125600 (7000)\ttotal: 4m 16s\tremaining: 7m 56s\n"
     ]
    },
    {
     "name": "stdout",
     "output_type": "stream",
     "text": [
      "8000:\tlearn: 0.5552768\ttest: 0.7121049\tbest: 0.7121046 (7998)\ttotal: 4m 52s\tremaining: 7m 19s\n"
     ]
    },
    {
     "name": "stdout",
     "output_type": "stream",
     "text": [
      "9000:\tlearn: 0.5541812\ttest: 0.7117667\tbest: 0.7117667 (9000)\ttotal: 5m 29s\tremaining: 6m 42s\n"
     ]
    },
    {
     "name": "stdout",
     "output_type": "stream",
     "text": [
      "10000:\tlearn: 0.5531607\ttest: 0.7114764\tbest: 0.7114764 (10000)\ttotal: 6m 5s\tremaining: 6m 5s\n"
     ]
    },
    {
     "name": "stdout",
     "output_type": "stream",
     "text": [
      "11000:\tlearn: 0.5521808\ttest: 0.7112441\tbest: 0.7112441 (11000)\ttotal: 6m 41s\tremaining: 5m 28s\n"
     ]
    },
    {
     "name": "stdout",
     "output_type": "stream",
     "text": [
      "12000:\tlearn: 0.5512368\ttest: 0.7110369\tbest: 0.7110369 (12000)\ttotal: 7m 16s\tremaining: 4m 51s\n"
     ]
    },
    {
     "name": "stdout",
     "output_type": "stream",
     "text": [
      "13000:\tlearn: 0.5503290\ttest: 0.7108714\tbest: 0.7108714 (13000)\ttotal: 7m 52s\tremaining: 4m 14s\n"
     ]
    },
    {
     "name": "stdout",
     "output_type": "stream",
     "text": [
      "14000:\tlearn: 0.5494522\ttest: 0.7107376\tbest: 0.7107371 (13991)\ttotal: 8m 28s\tremaining: 3m 37s\n"
     ]
    },
    {
     "name": "stdout",
     "output_type": "stream",
     "text": [
      "15000:\tlearn: 0.5486009\ttest: 0.7106252\tbest: 0.7106252 (15000)\ttotal: 9m 3s\tremaining: 3m 1s\n"
     ]
    },
    {
     "name": "stdout",
     "output_type": "stream",
     "text": [
      "16000:\tlearn: 0.5477639\ttest: 0.7105317\tbest: 0.7105313 (15976)\ttotal: 9m 39s\tremaining: 2m 24s\n"
     ]
    },
    {
     "name": "stdout",
     "output_type": "stream",
     "text": [
      "17000:\tlearn: 0.5469482\ttest: 0.7104574\tbest: 0.7104574 (16992)\ttotal: 10m 14s\tremaining: 1m 48s\n"
     ]
    },
    {
     "name": "stdout",
     "output_type": "stream",
     "text": [
      "18000:\tlearn: 0.5461393\ttest: 0.7103756\tbest: 0.7103756 (18000)\ttotal: 10m 49s\tremaining: 1m 12s\n"
     ]
    },
    {
     "name": "stdout",
     "output_type": "stream",
     "text": [
      "19000:\tlearn: 0.5453406\ttest: 0.7103015\tbest: 0.7103006 (18991)\ttotal: 11m 25s\tremaining: 36s\n"
     ]
    },
    {
     "name": "stdout",
     "output_type": "stream",
     "text": [
      "19999:\tlearn: 0.5445623\ttest: 0.7102489\tbest: 0.7102489 (19999)\ttotal: 12m 1s\tremaining: 0us\n",
      "\n",
      "bestTest = 0.7102489223\n",
      "bestIteration = 19999\n",
      "\n"
     ]
    },
    {
     "name": "stdout",
     "output_type": "stream",
     "text": [
      "0:\tlearn: 0.5943358\ttest: 0.7398429\tbest: 0.7398429 (0)\ttotal: 41.9ms\tremaining: 13m 57s\n"
     ]
    },
    {
     "name": "stdout",
     "output_type": "stream",
     "text": [
      "1000:\tlearn: 0.5726327\ttest: 0.7228502\tbest: 0.7228502 (1000)\ttotal: 37.4s\tremaining: 11m 50s\n"
     ]
    },
    {
     "name": "stdout",
     "output_type": "stream",
     "text": [
      "2000:\tlearn: 0.5672495\ttest: 0.7189896\tbest: 0.7189896 (2000)\ttotal: 1m 13s\tremaining: 11m 2s\n"
     ]
    },
    {
     "name": "stdout",
     "output_type": "stream",
     "text": [
      "3000:\tlearn: 0.5637661\ttest: 0.7166257\tbest: 0.7166257 (3000)\ttotal: 1m 50s\tremaining: 10m 26s\n"
     ]
    },
    {
     "name": "stdout",
     "output_type": "stream",
     "text": [
      "4000:\tlearn: 0.5612751\ttest: 0.7150858\tbest: 0.7150858 (4000)\ttotal: 2m 27s\tremaining: 9m 48s\n"
     ]
    }
   ],
   "source": [
    "study = optuna.create_study(direction='minimize')\n",
    "study.optimize(objective,n_trials= 30)\n",
    "print('Number of finished trials:', len(study.trials))\n",
    "print('Best trial:', study.best_trial.params)"
   ]
  },
  {
   "cell_type": "code",
   "execution_count": null,
   "id": "f2660b36",
   "metadata": {
    "execution": {
     "iopub.status.busy": "2021-08-20T08:39:00.712316Z",
     "iopub.status.idle": "2021-08-20T08:39:00.713031Z"
    },
    "papermill": {
     "duration": null,
     "end_time": null,
     "exception": null,
     "start_time": null,
     "status": "pending"
    },
    "tags": []
   },
   "outputs": [],
   "source": [
    "study.best_params"
   ]
  },
  {
   "cell_type": "markdown",
   "id": "4bdc4b53",
   "metadata": {
    "papermill": {
     "duration": null,
     "end_time": null,
     "exception": null,
     "start_time": null,
     "status": "pending"
    },
    "tags": []
   },
   "source": [
    "# Log\n",
    "\n",
    "====== Ordinal encoding =========\n",
    "\n",
    " 0.7106017728195324 no noise ver2\n",
    "\n",
    " 0.71414426290903 row-wise noise ver1\n",
    "\n",
    " 0.7144009762376538 random noise ver3\n",
    " \n",
    " ====== One-hot encoding =========\n",
    " \n",
    " 0.7104558237409161 no noise ver7\n",
    " \n",
    " 0.71027414342552 no noise ver8 (narrow space)\n",
    " \n",
    " 0.7101568290815834 no noise ver9 (narrow space) final\n",
    " \n",
    " ========================================== \n",
    " =========== Changed pseudo ===============\n",
    "\n",
    "====== One-hot encoding =========\n",
    "\n",
    "0.7106317384292977 no noise ver12\n",
    " \n",
    "0.7103170281381075 no noise ver13 (narrow space)\n",
    "\n",
    "0.7102441417639822 no noise ver14 (narrow space)\n",
    "\n",
    "0.7101608935751483 no noise ver15 (narrow space) final\n",
    "\n",
    "=========== No GPU ====================\n",
    "\n",
    "0.7113444190504132 no nosie ver19\n",
    "\n",
    "0.710486053096272 no noise ver20 (narrow space)\n",
    "\n",
    "0.7102679033099836 no noise ver21 (narrow space)\n",
    "\n",
    "0.7102617135316375 no noise ver22 (narrow space)\n",
    "\n",
    "0.7102278624363383 no noise ver23 (narrow space)\n",
    "\n",
    "0.7102199059591663 no noise ver24 (narrow space)"
   ]
  }
 ],
 "metadata": {
  "kernelspec": {
   "display_name": "Python 3",
   "language": "python",
   "name": "python3"
  },
  "language_info": {
   "codemirror_mode": {
    "name": "ipython",
    "version": 3
   },
   "file_extension": ".py",
   "mimetype": "text/x-python",
   "name": "python",
   "nbconvert_exporter": "python",
   "pygments_lexer": "ipython3",
   "version": "3.6.4"
  },
  "papermill": {
   "default_parameters": {},
   "duration": null,
   "end_time": null,
   "environment_variables": {},
   "exception": null,
   "input_path": "__notebook__.ipynb",
   "output_path": "__notebook__.ipynb",
   "parameters": {},
   "start_time": "2021-08-28T14:21:13.023201",
   "version": "2.3.3"
  }
 },
 "nbformat": 4,
 "nbformat_minor": 5
}