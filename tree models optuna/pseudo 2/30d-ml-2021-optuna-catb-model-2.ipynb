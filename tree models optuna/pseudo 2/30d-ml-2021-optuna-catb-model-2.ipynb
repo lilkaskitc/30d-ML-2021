{
 "cells": [
  {
   "cell_type": "code",
   "execution_count": 1,
   "id": "a27da703",
   "metadata": {
    "_cell_guid": "b1076dfc-b9ad-4769-8c92-a6c4dae69d19",
    "_uuid": "8f2839f25d086af736a60e9eeb907d3b93b6e0e5",
    "execution": {
     "iopub.execute_input": "2021-08-26T01:57:57.506276Z",
     "iopub.status.busy": "2021-08-26T01:57:57.505135Z",
     "iopub.status.idle": "2021-08-26T01:57:58.849094Z",
     "shell.execute_reply": "2021-08-26T01:57:58.848375Z",
     "shell.execute_reply.started": "2021-08-20T08:38:28.570883Z"
    },
    "papermill": {
     "duration": 1.364217,
     "end_time": "2021-08-26T01:57:58.849281",
     "exception": false,
     "start_time": "2021-08-26T01:57:57.485064",
     "status": "completed"
    },
    "tags": []
   },
   "outputs": [],
   "source": [
    "# Familiar imports\n",
    "import numpy as np\n",
    "import pandas as pd\n",
    "import random\n",
    "import os\n",
    "import time\n",
    "from pathlib import Path\n",
    "\n",
    "from sklearn.preprocessing import StandardScaler\n",
    "from sklearn.model_selection import KFold, train_test_split\n",
    "from sklearn.metrics import mean_squared_error\n",
    "from sklearn.preprocessing import OrdinalEncoder, OneHotEncoder\n",
    "\n",
    "#import lightgbm as lgb\n",
    "#import xgboost as xgb\n",
    "import catboost as ctb\n",
    "\n",
    "import warnings\n",
    "warnings.simplefilter('ignore')"
   ]
  },
  {
   "cell_type": "markdown",
   "id": "d7747bfa",
   "metadata": {
    "papermill": {
     "duration": 0.015202,
     "end_time": "2021-08-26T01:57:58.880698",
     "exception": false,
     "start_time": "2021-08-26T01:57:58.865496",
     "status": "completed"
    },
    "tags": []
   },
   "source": [
    "# Parameters"
   ]
  },
  {
   "cell_type": "code",
   "execution_count": 2,
   "id": "d8a198af",
   "metadata": {
    "execution": {
     "iopub.execute_input": "2021-08-26T01:57:58.918160Z",
     "iopub.status.busy": "2021-08-26T01:57:58.917490Z",
     "iopub.status.idle": "2021-08-26T01:57:58.919387Z",
     "shell.execute_reply": "2021-08-26T01:57:58.919970Z",
     "shell.execute_reply.started": "2021-08-20T08:38:29.63784Z"
    },
    "papermill": {
     "duration": 0.023868,
     "end_time": "2021-08-26T01:57:58.920150",
     "exception": false,
     "start_time": "2021-08-26T01:57:58.896282",
     "status": "completed"
    },
    "tags": []
   },
   "outputs": [],
   "source": [
    "target = 'target'\n",
    "\n",
    "DEBUG = False\n",
    "\n",
    "if DEBUG:\n",
    "    N_ESTIMATORS = 1\n",
    "    N_SPLITS = 2\n",
    "    SEED = 17\n",
    "    CVSEED = 17\n",
    "    EARLY_STOPPING_ROUNDS = 1\n",
    "    VERBOSE = 100\n",
    "    #N_ITERS = 2\n",
    "else:\n",
    "    N_SPLITS = 10\n",
    "    N_ESTIMATORS = 20000\n",
    "    EARLY_STOPPING_ROUNDS = 200\n",
    "    VERBOSE = 1000\n",
    "    SEED = 17\n",
    "    CVSEED = 17\n",
    "    #N_ITERS = 10"
   ]
  },
  {
   "cell_type": "code",
   "execution_count": 3,
   "id": "a3f0098f",
   "metadata": {
    "execution": {
     "iopub.execute_input": "2021-08-26T01:57:58.954713Z",
     "iopub.status.busy": "2021-08-26T01:57:58.954047Z",
     "iopub.status.idle": "2021-08-26T01:57:58.958380Z",
     "shell.execute_reply": "2021-08-26T01:57:58.958962Z",
     "shell.execute_reply.started": "2021-08-20T08:38:29.645292Z"
    },
    "papermill": {
     "duration": 0.023279,
     "end_time": "2021-08-26T01:57:58.959137",
     "exception": false,
     "start_time": "2021-08-26T01:57:58.935858",
     "status": "completed"
    },
    "tags": []
   },
   "outputs": [],
   "source": [
    "def set_seed(seed=17):\n",
    "    random.seed(seed)\n",
    "    os.environ['PYTHONHASHSEED'] = str(seed)\n",
    "    np.random.seed(seed)\n",
    "    \n",
    "set_seed(SEED)"
   ]
  },
  {
   "cell_type": "markdown",
   "id": "158512b7",
   "metadata": {
    "papermill": {
     "duration": 0.015267,
     "end_time": "2021-08-26T01:57:58.990085",
     "exception": false,
     "start_time": "2021-08-26T01:57:58.974818",
     "status": "completed"
    },
    "tags": []
   },
   "source": [
    "# Load data"
   ]
  },
  {
   "cell_type": "code",
   "execution_count": 4,
   "id": "fca58077",
   "metadata": {
    "execution": {
     "iopub.execute_input": "2021-08-26T01:57:59.024167Z",
     "iopub.status.busy": "2021-08-26T01:57:59.023545Z",
     "iopub.status.idle": "2021-08-26T01:58:04.608784Z",
     "shell.execute_reply": "2021-08-26T01:58:04.609393Z",
     "shell.execute_reply.started": "2021-08-20T08:38:29.656342Z"
    },
    "papermill": {
     "duration": 5.604007,
     "end_time": "2021-08-26T01:58:04.609611",
     "exception": false,
     "start_time": "2021-08-26T01:57:59.005604",
     "status": "completed"
    },
    "tags": []
   },
   "outputs": [
    {
     "data": {
      "text/html": [
       "<div>\n",
       "<style scoped>\n",
       "    .dataframe tbody tr th:only-of-type {\n",
       "        vertical-align: middle;\n",
       "    }\n",
       "\n",
       "    .dataframe tbody tr th {\n",
       "        vertical-align: top;\n",
       "    }\n",
       "\n",
       "    .dataframe thead th {\n",
       "        text-align: right;\n",
       "    }\n",
       "</style>\n",
       "<table border=\"1\" class=\"dataframe\">\n",
       "  <thead>\n",
       "    <tr style=\"text-align: right;\">\n",
       "      <th></th>\n",
       "      <th>id</th>\n",
       "      <th>cat0</th>\n",
       "      <th>cat1</th>\n",
       "      <th>cat2</th>\n",
       "      <th>cat3</th>\n",
       "      <th>cat4</th>\n",
       "      <th>cat5</th>\n",
       "      <th>cat6</th>\n",
       "      <th>cat7</th>\n",
       "      <th>cat8</th>\n",
       "      <th>...</th>\n",
       "      <th>cont5</th>\n",
       "      <th>cont6</th>\n",
       "      <th>cont7</th>\n",
       "      <th>cont8</th>\n",
       "      <th>cont9</th>\n",
       "      <th>cont10</th>\n",
       "      <th>cont11</th>\n",
       "      <th>cont12</th>\n",
       "      <th>cont13</th>\n",
       "      <th>target</th>\n",
       "    </tr>\n",
       "  </thead>\n",
       "  <tbody>\n",
       "    <tr>\n",
       "      <th>0</th>\n",
       "      <td>1</td>\n",
       "      <td>B</td>\n",
       "      <td>B</td>\n",
       "      <td>B</td>\n",
       "      <td>C</td>\n",
       "      <td>B</td>\n",
       "      <td>B</td>\n",
       "      <td>A</td>\n",
       "      <td>E</td>\n",
       "      <td>C</td>\n",
       "      <td>...</td>\n",
       "      <td>0.400361</td>\n",
       "      <td>0.160266</td>\n",
       "      <td>0.310921</td>\n",
       "      <td>0.389470</td>\n",
       "      <td>0.267559</td>\n",
       "      <td>0.237281</td>\n",
       "      <td>0.377873</td>\n",
       "      <td>0.322401</td>\n",
       "      <td>0.869850</td>\n",
       "      <td>8.113634</td>\n",
       "    </tr>\n",
       "    <tr>\n",
       "      <th>1</th>\n",
       "      <td>2</td>\n",
       "      <td>B</td>\n",
       "      <td>B</td>\n",
       "      <td>A</td>\n",
       "      <td>A</td>\n",
       "      <td>B</td>\n",
       "      <td>D</td>\n",
       "      <td>A</td>\n",
       "      <td>F</td>\n",
       "      <td>A</td>\n",
       "      <td>...</td>\n",
       "      <td>0.533087</td>\n",
       "      <td>0.558922</td>\n",
       "      <td>0.516294</td>\n",
       "      <td>0.594928</td>\n",
       "      <td>0.341439</td>\n",
       "      <td>0.906013</td>\n",
       "      <td>0.921701</td>\n",
       "      <td>0.261975</td>\n",
       "      <td>0.465083</td>\n",
       "      <td>8.481233</td>\n",
       "    </tr>\n",
       "    <tr>\n",
       "      <th>2</th>\n",
       "      <td>3</td>\n",
       "      <td>A</td>\n",
       "      <td>A</td>\n",
       "      <td>A</td>\n",
       "      <td>C</td>\n",
       "      <td>B</td>\n",
       "      <td>D</td>\n",
       "      <td>A</td>\n",
       "      <td>D</td>\n",
       "      <td>A</td>\n",
       "      <td>...</td>\n",
       "      <td>0.650609</td>\n",
       "      <td>0.375348</td>\n",
       "      <td>0.902567</td>\n",
       "      <td>0.555205</td>\n",
       "      <td>0.843531</td>\n",
       "      <td>0.748809</td>\n",
       "      <td>0.620126</td>\n",
       "      <td>0.541474</td>\n",
       "      <td>0.763846</td>\n",
       "      <td>8.364351</td>\n",
       "    </tr>\n",
       "    <tr>\n",
       "      <th>3</th>\n",
       "      <td>4</td>\n",
       "      <td>B</td>\n",
       "      <td>B</td>\n",
       "      <td>A</td>\n",
       "      <td>C</td>\n",
       "      <td>B</td>\n",
       "      <td>D</td>\n",
       "      <td>A</td>\n",
       "      <td>E</td>\n",
       "      <td>C</td>\n",
       "      <td>...</td>\n",
       "      <td>0.668980</td>\n",
       "      <td>0.239061</td>\n",
       "      <td>0.732948</td>\n",
       "      <td>0.679618</td>\n",
       "      <td>0.574844</td>\n",
       "      <td>0.346010</td>\n",
       "      <td>0.714610</td>\n",
       "      <td>0.540150</td>\n",
       "      <td>0.280682</td>\n",
       "      <td>8.049253</td>\n",
       "    </tr>\n",
       "    <tr>\n",
       "      <th>4</th>\n",
       "      <td>6</td>\n",
       "      <td>A</td>\n",
       "      <td>A</td>\n",
       "      <td>A</td>\n",
       "      <td>C</td>\n",
       "      <td>B</td>\n",
       "      <td>D</td>\n",
       "      <td>A</td>\n",
       "      <td>E</td>\n",
       "      <td>A</td>\n",
       "      <td>...</td>\n",
       "      <td>0.686964</td>\n",
       "      <td>0.420667</td>\n",
       "      <td>0.648182</td>\n",
       "      <td>0.684501</td>\n",
       "      <td>0.956692</td>\n",
       "      <td>1.000773</td>\n",
       "      <td>0.776742</td>\n",
       "      <td>0.625849</td>\n",
       "      <td>0.250823</td>\n",
       "      <td>7.972260</td>\n",
       "    </tr>\n",
       "  </tbody>\n",
       "</table>\n",
       "<p>5 rows × 26 columns</p>\n",
       "</div>"
      ],
      "text/plain": [
       "   id cat0 cat1 cat2 cat3 cat4 cat5 cat6 cat7 cat8  ...     cont5     cont6  \\\n",
       "0   1    B    B    B    C    B    B    A    E    C  ...  0.400361  0.160266   \n",
       "1   2    B    B    A    A    B    D    A    F    A  ...  0.533087  0.558922   \n",
       "2   3    A    A    A    C    B    D    A    D    A  ...  0.650609  0.375348   \n",
       "3   4    B    B    A    C    B    D    A    E    C  ...  0.668980  0.239061   \n",
       "4   6    A    A    A    C    B    D    A    E    A  ...  0.686964  0.420667   \n",
       "\n",
       "      cont7     cont8     cont9    cont10    cont11    cont12    cont13  \\\n",
       "0  0.310921  0.389470  0.267559  0.237281  0.377873  0.322401  0.869850   \n",
       "1  0.516294  0.594928  0.341439  0.906013  0.921701  0.261975  0.465083   \n",
       "2  0.902567  0.555205  0.843531  0.748809  0.620126  0.541474  0.763846   \n",
       "3  0.732948  0.679618  0.574844  0.346010  0.714610  0.540150  0.280682   \n",
       "4  0.648182  0.684501  0.956692  1.000773  0.776742  0.625849  0.250823   \n",
       "\n",
       "     target  \n",
       "0  8.113634  \n",
       "1  8.481233  \n",
       "2  8.364351  \n",
       "3  8.049253  \n",
       "4  7.972260  \n",
       "\n",
       "[5 rows x 26 columns]"
      ]
     },
     "execution_count": 4,
     "metadata": {},
     "output_type": "execute_result"
    }
   ],
   "source": [
    "# Load the training data\n",
    "train = pd.read_csv(\"../input/30-days-of-ml/train.csv\")\n",
    "test = pd.read_csv(\"../input/30-days-of-ml/test.csv\")\n",
    "\n",
    "# Preview the data\n",
    "train.head()"
   ]
  },
  {
   "cell_type": "code",
   "execution_count": 5,
   "id": "d15fc74c",
   "metadata": {
    "execution": {
     "iopub.execute_input": "2021-08-26T01:58:04.645619Z",
     "iopub.status.busy": "2021-08-26T01:58:04.645002Z",
     "iopub.status.idle": "2021-08-26T01:58:04.789163Z",
     "shell.execute_reply": "2021-08-26T01:58:04.789735Z"
    },
    "papermill": {
     "duration": 0.163553,
     "end_time": "2021-08-26T01:58:04.789926",
     "exception": false,
     "start_time": "2021-08-26T01:58:04.626373",
     "status": "completed"
    },
    "tags": []
   },
   "outputs": [
    {
     "data": {
      "text/html": [
       "<div>\n",
       "<style scoped>\n",
       "    .dataframe tbody tr th:only-of-type {\n",
       "        vertical-align: middle;\n",
       "    }\n",
       "\n",
       "    .dataframe tbody tr th {\n",
       "        vertical-align: top;\n",
       "    }\n",
       "\n",
       "    .dataframe thead th {\n",
       "        text-align: right;\n",
       "    }\n",
       "</style>\n",
       "<table border=\"1\" class=\"dataframe\">\n",
       "  <thead>\n",
       "    <tr style=\"text-align: right;\">\n",
       "      <th></th>\n",
       "      <th>id</th>\n",
       "      <th>cat0</th>\n",
       "      <th>cat1</th>\n",
       "      <th>cat5</th>\n",
       "      <th>cat7</th>\n",
       "      <th>cat8</th>\n",
       "      <th>cat9</th>\n",
       "      <th>cont0</th>\n",
       "      <th>cont1</th>\n",
       "      <th>cont2</th>\n",
       "      <th>...</th>\n",
       "      <th>cont5</th>\n",
       "      <th>cont6</th>\n",
       "      <th>cont7</th>\n",
       "      <th>cont8</th>\n",
       "      <th>cont9</th>\n",
       "      <th>cont10</th>\n",
       "      <th>cont11</th>\n",
       "      <th>cont12</th>\n",
       "      <th>cont13</th>\n",
       "      <th>target</th>\n",
       "    </tr>\n",
       "  </thead>\n",
       "  <tbody>\n",
       "    <tr>\n",
       "      <th>0</th>\n",
       "      <td>1</td>\n",
       "      <td>B</td>\n",
       "      <td>B</td>\n",
       "      <td>B</td>\n",
       "      <td>E</td>\n",
       "      <td>C</td>\n",
       "      <td>N</td>\n",
       "      <td>0.201470</td>\n",
       "      <td>-0.014822</td>\n",
       "      <td>0.669699</td>\n",
       "      <td>...</td>\n",
       "      <td>0.400361</td>\n",
       "      <td>0.160266</td>\n",
       "      <td>0.310921</td>\n",
       "      <td>0.389470</td>\n",
       "      <td>0.267559</td>\n",
       "      <td>0.237281</td>\n",
       "      <td>0.377873</td>\n",
       "      <td>0.322401</td>\n",
       "      <td>0.869850</td>\n",
       "      <td>8.113634</td>\n",
       "    </tr>\n",
       "    <tr>\n",
       "      <th>1</th>\n",
       "      <td>2</td>\n",
       "      <td>B</td>\n",
       "      <td>B</td>\n",
       "      <td>D</td>\n",
       "      <td>F</td>\n",
       "      <td>A</td>\n",
       "      <td>O</td>\n",
       "      <td>0.743068</td>\n",
       "      <td>0.367411</td>\n",
       "      <td>1.021605</td>\n",
       "      <td>...</td>\n",
       "      <td>0.533087</td>\n",
       "      <td>0.558922</td>\n",
       "      <td>0.516294</td>\n",
       "      <td>0.594928</td>\n",
       "      <td>0.341439</td>\n",
       "      <td>0.906013</td>\n",
       "      <td>0.921701</td>\n",
       "      <td>0.261975</td>\n",
       "      <td>0.465083</td>\n",
       "      <td>8.481233</td>\n",
       "    </tr>\n",
       "    <tr>\n",
       "      <th>2</th>\n",
       "      <td>3</td>\n",
       "      <td>A</td>\n",
       "      <td>A</td>\n",
       "      <td>D</td>\n",
       "      <td>D</td>\n",
       "      <td>A</td>\n",
       "      <td>F</td>\n",
       "      <td>0.742708</td>\n",
       "      <td>0.310383</td>\n",
       "      <td>-0.012673</td>\n",
       "      <td>...</td>\n",
       "      <td>0.650609</td>\n",
       "      <td>0.375348</td>\n",
       "      <td>0.902567</td>\n",
       "      <td>0.555205</td>\n",
       "      <td>0.843531</td>\n",
       "      <td>0.748809</td>\n",
       "      <td>0.620126</td>\n",
       "      <td>0.541474</td>\n",
       "      <td>0.763846</td>\n",
       "      <td>8.364351</td>\n",
       "    </tr>\n",
       "    <tr>\n",
       "      <th>3</th>\n",
       "      <td>4</td>\n",
       "      <td>B</td>\n",
       "      <td>B</td>\n",
       "      <td>D</td>\n",
       "      <td>E</td>\n",
       "      <td>C</td>\n",
       "      <td>K</td>\n",
       "      <td>0.429551</td>\n",
       "      <td>0.620998</td>\n",
       "      <td>0.577942</td>\n",
       "      <td>...</td>\n",
       "      <td>0.668980</td>\n",
       "      <td>0.239061</td>\n",
       "      <td>0.732948</td>\n",
       "      <td>0.679618</td>\n",
       "      <td>0.574844</td>\n",
       "      <td>0.346010</td>\n",
       "      <td>0.714610</td>\n",
       "      <td>0.540150</td>\n",
       "      <td>0.280682</td>\n",
       "      <td>8.049253</td>\n",
       "    </tr>\n",
       "    <tr>\n",
       "      <th>4</th>\n",
       "      <td>6</td>\n",
       "      <td>A</td>\n",
       "      <td>A</td>\n",
       "      <td>D</td>\n",
       "      <td>E</td>\n",
       "      <td>A</td>\n",
       "      <td>N</td>\n",
       "      <td>1.058291</td>\n",
       "      <td>0.367492</td>\n",
       "      <td>-0.052389</td>\n",
       "      <td>...</td>\n",
       "      <td>0.686964</td>\n",
       "      <td>0.420667</td>\n",
       "      <td>0.648182</td>\n",
       "      <td>0.684501</td>\n",
       "      <td>0.956692</td>\n",
       "      <td>1.000773</td>\n",
       "      <td>0.776742</td>\n",
       "      <td>0.625849</td>\n",
       "      <td>0.250823</td>\n",
       "      <td>7.972260</td>\n",
       "    </tr>\n",
       "  </tbody>\n",
       "</table>\n",
       "<p>5 rows × 22 columns</p>\n",
       "</div>"
      ],
      "text/plain": [
       "   id cat0 cat1 cat5 cat7 cat8 cat9     cont0     cont1     cont2  ...  \\\n",
       "0   1    B    B    B    E    C    N  0.201470 -0.014822  0.669699  ...   \n",
       "1   2    B    B    D    F    A    O  0.743068  0.367411  1.021605  ...   \n",
       "2   3    A    A    D    D    A    F  0.742708  0.310383 -0.012673  ...   \n",
       "3   4    B    B    D    E    C    K  0.429551  0.620998  0.577942  ...   \n",
       "4   6    A    A    D    E    A    N  1.058291  0.367492 -0.052389  ...   \n",
       "\n",
       "      cont5     cont6     cont7     cont8     cont9    cont10    cont11  \\\n",
       "0  0.400361  0.160266  0.310921  0.389470  0.267559  0.237281  0.377873   \n",
       "1  0.533087  0.558922  0.516294  0.594928  0.341439  0.906013  0.921701   \n",
       "2  0.650609  0.375348  0.902567  0.555205  0.843531  0.748809  0.620126   \n",
       "3  0.668980  0.239061  0.732948  0.679618  0.574844  0.346010  0.714610   \n",
       "4  0.686964  0.420667  0.648182  0.684501  0.956692  1.000773  0.776742   \n",
       "\n",
       "     cont12    cont13    target  \n",
       "0  0.322401  0.869850  8.113634  \n",
       "1  0.261975  0.465083  8.481233  \n",
       "2  0.541474  0.763846  8.364351  \n",
       "3  0.540150  0.280682  8.049253  \n",
       "4  0.625849  0.250823  7.972260  \n",
       "\n",
       "[5 rows x 22 columns]"
      ]
     },
     "execution_count": 5,
     "metadata": {},
     "output_type": "execute_result"
    }
   ],
   "source": [
    "# Low MI scores\n",
    "for pp in [\"cat2\",\"cat3\",\"cat4\",\"cat6\"]:\n",
    "    train.pop(pp)\n",
    "    test.pop(pp)\n",
    "train.head()"
   ]
  },
  {
   "cell_type": "code",
   "execution_count": 6,
   "id": "863812cd",
   "metadata": {
    "execution": {
     "iopub.execute_input": "2021-08-26T01:58:04.827854Z",
     "iopub.status.busy": "2021-08-26T01:58:04.827127Z",
     "iopub.status.idle": "2021-08-26T01:58:04.876611Z",
     "shell.execute_reply": "2021-08-26T01:58:04.877106Z",
     "shell.execute_reply.started": "2021-08-20T08:38:33.275109Z"
    },
    "papermill": {
     "duration": 0.069893,
     "end_time": "2021-08-26T01:58:04.877285",
     "exception": false,
     "start_time": "2021-08-26T01:58:04.807392",
     "status": "completed"
    },
    "tags": []
   },
   "outputs": [
    {
     "data": {
      "text/html": [
       "<div>\n",
       "<style scoped>\n",
       "    .dataframe tbody tr th:only-of-type {\n",
       "        vertical-align: middle;\n",
       "    }\n",
       "\n",
       "    .dataframe tbody tr th {\n",
       "        vertical-align: top;\n",
       "    }\n",
       "\n",
       "    .dataframe thead th {\n",
       "        text-align: right;\n",
       "    }\n",
       "</style>\n",
       "<table border=\"1\" class=\"dataframe\">\n",
       "  <thead>\n",
       "    <tr style=\"text-align: right;\">\n",
       "      <th></th>\n",
       "      <th>cat0</th>\n",
       "      <th>cat1</th>\n",
       "      <th>cat5</th>\n",
       "      <th>cat7</th>\n",
       "      <th>cat8</th>\n",
       "      <th>cat9</th>\n",
       "      <th>cont0</th>\n",
       "      <th>cont1</th>\n",
       "      <th>cont2</th>\n",
       "      <th>cont3</th>\n",
       "      <th>cont4</th>\n",
       "      <th>cont5</th>\n",
       "      <th>cont6</th>\n",
       "      <th>cont7</th>\n",
       "      <th>cont8</th>\n",
       "      <th>cont9</th>\n",
       "      <th>cont10</th>\n",
       "      <th>cont11</th>\n",
       "      <th>cont12</th>\n",
       "      <th>cont13</th>\n",
       "    </tr>\n",
       "  </thead>\n",
       "  <tbody>\n",
       "    <tr>\n",
       "      <th>0</th>\n",
       "      <td>B</td>\n",
       "      <td>B</td>\n",
       "      <td>B</td>\n",
       "      <td>E</td>\n",
       "      <td>C</td>\n",
       "      <td>N</td>\n",
       "      <td>0.201470</td>\n",
       "      <td>-0.014822</td>\n",
       "      <td>0.669699</td>\n",
       "      <td>0.136278</td>\n",
       "      <td>0.610706</td>\n",
       "      <td>0.400361</td>\n",
       "      <td>0.160266</td>\n",
       "      <td>0.310921</td>\n",
       "      <td>0.389470</td>\n",
       "      <td>0.267559</td>\n",
       "      <td>0.237281</td>\n",
       "      <td>0.377873</td>\n",
       "      <td>0.322401</td>\n",
       "      <td>0.869850</td>\n",
       "    </tr>\n",
       "    <tr>\n",
       "      <th>1</th>\n",
       "      <td>B</td>\n",
       "      <td>B</td>\n",
       "      <td>D</td>\n",
       "      <td>F</td>\n",
       "      <td>A</td>\n",
       "      <td>O</td>\n",
       "      <td>0.743068</td>\n",
       "      <td>0.367411</td>\n",
       "      <td>1.021605</td>\n",
       "      <td>0.365798</td>\n",
       "      <td>0.276853</td>\n",
       "      <td>0.533087</td>\n",
       "      <td>0.558922</td>\n",
       "      <td>0.516294</td>\n",
       "      <td>0.594928</td>\n",
       "      <td>0.341439</td>\n",
       "      <td>0.906013</td>\n",
       "      <td>0.921701</td>\n",
       "      <td>0.261975</td>\n",
       "      <td>0.465083</td>\n",
       "    </tr>\n",
       "    <tr>\n",
       "      <th>2</th>\n",
       "      <td>A</td>\n",
       "      <td>A</td>\n",
       "      <td>D</td>\n",
       "      <td>D</td>\n",
       "      <td>A</td>\n",
       "      <td>F</td>\n",
       "      <td>0.742708</td>\n",
       "      <td>0.310383</td>\n",
       "      <td>-0.012673</td>\n",
       "      <td>0.576957</td>\n",
       "      <td>0.285074</td>\n",
       "      <td>0.650609</td>\n",
       "      <td>0.375348</td>\n",
       "      <td>0.902567</td>\n",
       "      <td>0.555205</td>\n",
       "      <td>0.843531</td>\n",
       "      <td>0.748809</td>\n",
       "      <td>0.620126</td>\n",
       "      <td>0.541474</td>\n",
       "      <td>0.763846</td>\n",
       "    </tr>\n",
       "    <tr>\n",
       "      <th>3</th>\n",
       "      <td>B</td>\n",
       "      <td>B</td>\n",
       "      <td>D</td>\n",
       "      <td>E</td>\n",
       "      <td>C</td>\n",
       "      <td>K</td>\n",
       "      <td>0.429551</td>\n",
       "      <td>0.620998</td>\n",
       "      <td>0.577942</td>\n",
       "      <td>0.280610</td>\n",
       "      <td>0.284667</td>\n",
       "      <td>0.668980</td>\n",
       "      <td>0.239061</td>\n",
       "      <td>0.732948</td>\n",
       "      <td>0.679618</td>\n",
       "      <td>0.574844</td>\n",
       "      <td>0.346010</td>\n",
       "      <td>0.714610</td>\n",
       "      <td>0.540150</td>\n",
       "      <td>0.280682</td>\n",
       "    </tr>\n",
       "    <tr>\n",
       "      <th>4</th>\n",
       "      <td>A</td>\n",
       "      <td>A</td>\n",
       "      <td>D</td>\n",
       "      <td>E</td>\n",
       "      <td>A</td>\n",
       "      <td>N</td>\n",
       "      <td>1.058291</td>\n",
       "      <td>0.367492</td>\n",
       "      <td>-0.052389</td>\n",
       "      <td>0.232407</td>\n",
       "      <td>0.287595</td>\n",
       "      <td>0.686964</td>\n",
       "      <td>0.420667</td>\n",
       "      <td>0.648182</td>\n",
       "      <td>0.684501</td>\n",
       "      <td>0.956692</td>\n",
       "      <td>1.000773</td>\n",
       "      <td>0.776742</td>\n",
       "      <td>0.625849</td>\n",
       "      <td>0.250823</td>\n",
       "    </tr>\n",
       "  </tbody>\n",
       "</table>\n",
       "</div>"
      ],
      "text/plain": [
       "  cat0 cat1 cat5 cat7 cat8 cat9     cont0     cont1     cont2     cont3  \\\n",
       "0    B    B    B    E    C    N  0.201470 -0.014822  0.669699  0.136278   \n",
       "1    B    B    D    F    A    O  0.743068  0.367411  1.021605  0.365798   \n",
       "2    A    A    D    D    A    F  0.742708  0.310383 -0.012673  0.576957   \n",
       "3    B    B    D    E    C    K  0.429551  0.620998  0.577942  0.280610   \n",
       "4    A    A    D    E    A    N  1.058291  0.367492 -0.052389  0.232407   \n",
       "\n",
       "      cont4     cont5     cont6     cont7     cont8     cont9    cont10  \\\n",
       "0  0.610706  0.400361  0.160266  0.310921  0.389470  0.267559  0.237281   \n",
       "1  0.276853  0.533087  0.558922  0.516294  0.594928  0.341439  0.906013   \n",
       "2  0.285074  0.650609  0.375348  0.902567  0.555205  0.843531  0.748809   \n",
       "3  0.284667  0.668980  0.239061  0.732948  0.679618  0.574844  0.346010   \n",
       "4  0.287595  0.686964  0.420667  0.648182  0.684501  0.956692  1.000773   \n",
       "\n",
       "     cont11    cont12    cont13  \n",
       "0  0.377873  0.322401  0.869850  \n",
       "1  0.921701  0.261975  0.465083  \n",
       "2  0.620126  0.541474  0.763846  \n",
       "3  0.714610  0.540150  0.280682  \n",
       "4  0.776742  0.625849  0.250823  "
      ]
     },
     "execution_count": 6,
     "metadata": {},
     "output_type": "execute_result"
    }
   ],
   "source": [
    "# Separate target from features\n",
    "y = train['target']\n",
    "features = train.drop(['id','target'], axis=1)\n",
    "\n",
    "# Preview features\n",
    "features.head()"
   ]
  },
  {
   "cell_type": "markdown",
   "id": "9e661265",
   "metadata": {
    "papermill": {
     "duration": 0.017335,
     "end_time": "2021-08-26T01:58:04.912292",
     "exception": false,
     "start_time": "2021-08-26T01:58:04.894957",
     "status": "completed"
    },
    "tags": []
   },
   "source": [
    "# Preprocessing"
   ]
  },
  {
   "cell_type": "code",
   "execution_count": 7,
   "id": "17c812e2",
   "metadata": {
    "execution": {
     "iopub.execute_input": "2021-08-26T01:58:04.951034Z",
     "iopub.status.busy": "2021-08-26T01:58:04.950314Z",
     "iopub.status.idle": "2021-08-26T01:58:07.340956Z",
     "shell.execute_reply": "2021-08-26T01:58:07.340276Z",
     "shell.execute_reply.started": "2021-08-20T08:38:33.330537Z"
    },
    "papermill": {
     "duration": 2.411004,
     "end_time": "2021-08-26T01:58:07.341100",
     "exception": false,
     "start_time": "2021-08-26T01:58:04.930096",
     "status": "completed"
    },
    "tags": []
   },
   "outputs": [
    {
     "data": {
      "text/html": [
       "<div>\n",
       "<style scoped>\n",
       "    .dataframe tbody tr th:only-of-type {\n",
       "        vertical-align: middle;\n",
       "    }\n",
       "\n",
       "    .dataframe tbody tr th {\n",
       "        vertical-align: top;\n",
       "    }\n",
       "\n",
       "    .dataframe thead th {\n",
       "        text-align: right;\n",
       "    }\n",
       "</style>\n",
       "<table border=\"1\" class=\"dataframe\">\n",
       "  <thead>\n",
       "    <tr style=\"text-align: right;\">\n",
       "      <th></th>\n",
       "      <th>cat0</th>\n",
       "      <th>cat1</th>\n",
       "      <th>cat5</th>\n",
       "      <th>cat7</th>\n",
       "      <th>cat8</th>\n",
       "      <th>cat9</th>\n",
       "      <th>cont0</th>\n",
       "      <th>cont1</th>\n",
       "      <th>cont2</th>\n",
       "      <th>cont3</th>\n",
       "      <th>cont4</th>\n",
       "      <th>cont5</th>\n",
       "      <th>cont6</th>\n",
       "      <th>cont7</th>\n",
       "      <th>cont8</th>\n",
       "      <th>cont9</th>\n",
       "      <th>cont10</th>\n",
       "      <th>cont11</th>\n",
       "      <th>cont12</th>\n",
       "      <th>cont13</th>\n",
       "    </tr>\n",
       "  </thead>\n",
       "  <tbody>\n",
       "    <tr>\n",
       "      <th>0</th>\n",
       "      <td>1.0</td>\n",
       "      <td>1.0</td>\n",
       "      <td>1.0</td>\n",
       "      <td>4.0</td>\n",
       "      <td>2.0</td>\n",
       "      <td>13.0</td>\n",
       "      <td>0.201470</td>\n",
       "      <td>-0.014822</td>\n",
       "      <td>0.669699</td>\n",
       "      <td>0.136278</td>\n",
       "      <td>0.610706</td>\n",
       "      <td>0.400361</td>\n",
       "      <td>0.160266</td>\n",
       "      <td>0.310921</td>\n",
       "      <td>0.389470</td>\n",
       "      <td>0.267559</td>\n",
       "      <td>0.237281</td>\n",
       "      <td>0.377873</td>\n",
       "      <td>0.322401</td>\n",
       "      <td>0.869850</td>\n",
       "    </tr>\n",
       "    <tr>\n",
       "      <th>1</th>\n",
       "      <td>1.0</td>\n",
       "      <td>1.0</td>\n",
       "      <td>3.0</td>\n",
       "      <td>5.0</td>\n",
       "      <td>0.0</td>\n",
       "      <td>14.0</td>\n",
       "      <td>0.743068</td>\n",
       "      <td>0.367411</td>\n",
       "      <td>1.021605</td>\n",
       "      <td>0.365798</td>\n",
       "      <td>0.276853</td>\n",
       "      <td>0.533087</td>\n",
       "      <td>0.558922</td>\n",
       "      <td>0.516294</td>\n",
       "      <td>0.594928</td>\n",
       "      <td>0.341439</td>\n",
       "      <td>0.906013</td>\n",
       "      <td>0.921701</td>\n",
       "      <td>0.261975</td>\n",
       "      <td>0.465083</td>\n",
       "    </tr>\n",
       "    <tr>\n",
       "      <th>2</th>\n",
       "      <td>0.0</td>\n",
       "      <td>0.0</td>\n",
       "      <td>3.0</td>\n",
       "      <td>3.0</td>\n",
       "      <td>0.0</td>\n",
       "      <td>5.0</td>\n",
       "      <td>0.742708</td>\n",
       "      <td>0.310383</td>\n",
       "      <td>-0.012673</td>\n",
       "      <td>0.576957</td>\n",
       "      <td>0.285074</td>\n",
       "      <td>0.650609</td>\n",
       "      <td>0.375348</td>\n",
       "      <td>0.902567</td>\n",
       "      <td>0.555205</td>\n",
       "      <td>0.843531</td>\n",
       "      <td>0.748809</td>\n",
       "      <td>0.620126</td>\n",
       "      <td>0.541474</td>\n",
       "      <td>0.763846</td>\n",
       "    </tr>\n",
       "    <tr>\n",
       "      <th>3</th>\n",
       "      <td>1.0</td>\n",
       "      <td>1.0</td>\n",
       "      <td>3.0</td>\n",
       "      <td>4.0</td>\n",
       "      <td>2.0</td>\n",
       "      <td>10.0</td>\n",
       "      <td>0.429551</td>\n",
       "      <td>0.620998</td>\n",
       "      <td>0.577942</td>\n",
       "      <td>0.280610</td>\n",
       "      <td>0.284667</td>\n",
       "      <td>0.668980</td>\n",
       "      <td>0.239061</td>\n",
       "      <td>0.732948</td>\n",
       "      <td>0.679618</td>\n",
       "      <td>0.574844</td>\n",
       "      <td>0.346010</td>\n",
       "      <td>0.714610</td>\n",
       "      <td>0.540150</td>\n",
       "      <td>0.280682</td>\n",
       "    </tr>\n",
       "    <tr>\n",
       "      <th>4</th>\n",
       "      <td>0.0</td>\n",
       "      <td>0.0</td>\n",
       "      <td>3.0</td>\n",
       "      <td>4.0</td>\n",
       "      <td>0.0</td>\n",
       "      <td>13.0</td>\n",
       "      <td>1.058291</td>\n",
       "      <td>0.367492</td>\n",
       "      <td>-0.052389</td>\n",
       "      <td>0.232407</td>\n",
       "      <td>0.287595</td>\n",
       "      <td>0.686964</td>\n",
       "      <td>0.420667</td>\n",
       "      <td>0.648182</td>\n",
       "      <td>0.684501</td>\n",
       "      <td>0.956692</td>\n",
       "      <td>1.000773</td>\n",
       "      <td>0.776742</td>\n",
       "      <td>0.625849</td>\n",
       "      <td>0.250823</td>\n",
       "    </tr>\n",
       "  </tbody>\n",
       "</table>\n",
       "</div>"
      ],
      "text/plain": [
       "   cat0  cat1  cat5  cat7  cat8  cat9     cont0     cont1     cont2     cont3  \\\n",
       "0   1.0   1.0   1.0   4.0   2.0  13.0  0.201470 -0.014822  0.669699  0.136278   \n",
       "1   1.0   1.0   3.0   5.0   0.0  14.0  0.743068  0.367411  1.021605  0.365798   \n",
       "2   0.0   0.0   3.0   3.0   0.0   5.0  0.742708  0.310383 -0.012673  0.576957   \n",
       "3   1.0   1.0   3.0   4.0   2.0  10.0  0.429551  0.620998  0.577942  0.280610   \n",
       "4   0.0   0.0   3.0   4.0   0.0  13.0  1.058291  0.367492 -0.052389  0.232407   \n",
       "\n",
       "      cont4     cont5     cont6     cont7     cont8     cont9    cont10  \\\n",
       "0  0.610706  0.400361  0.160266  0.310921  0.389470  0.267559  0.237281   \n",
       "1  0.276853  0.533087  0.558922  0.516294  0.594928  0.341439  0.906013   \n",
       "2  0.285074  0.650609  0.375348  0.902567  0.555205  0.843531  0.748809   \n",
       "3  0.284667  0.668980  0.239061  0.732948  0.679618  0.574844  0.346010   \n",
       "4  0.287595  0.686964  0.420667  0.648182  0.684501  0.956692  1.000773   \n",
       "\n",
       "     cont11    cont12    cont13  \n",
       "0  0.377873  0.322401  0.869850  \n",
       "1  0.921701  0.261975  0.465083  \n",
       "2  0.620126  0.541474  0.763846  \n",
       "3  0.714610  0.540150  0.280682  \n",
       "4  0.776742  0.625849  0.250823  "
      ]
     },
     "execution_count": 7,
     "metadata": {},
     "output_type": "execute_result"
    }
   ],
   "source": [
    "\n",
    "# List of categorical columns\n",
    "object_cols = [col for col in features.columns if 'cat' in col]\n",
    "\n",
    "# ordinal-encode categorical columns\n",
    "X = features.copy()\n",
    "X_test = test.drop(['id'], axis=1).copy()\n",
    "ordinal_encoder = OrdinalEncoder()\n",
    "X[object_cols] = ordinal_encoder.fit_transform(features[object_cols])\n",
    "X_test[object_cols] = ordinal_encoder.transform(test[object_cols])\n",
    "\n",
    "# Preview the ordinal-encoded features\n",
    "X.head()\n"
   ]
  },
  {
   "cell_type": "code",
   "execution_count": 8,
   "id": "bc01ba4f",
   "metadata": {
    "execution": {
     "iopub.execute_input": "2021-08-26T01:58:07.384097Z",
     "iopub.status.busy": "2021-08-26T01:58:07.383190Z",
     "iopub.status.idle": "2021-08-26T01:58:07.387503Z",
     "shell.execute_reply": "2021-08-26T01:58:07.387003Z"
    },
    "papermill": {
     "duration": 0.028281,
     "end_time": "2021-08-26T01:58:07.387647",
     "exception": false,
     "start_time": "2021-08-26T01:58:07.359366",
     "status": "completed"
    },
    "tags": []
   },
   "outputs": [
    {
     "data": {
      "text/plain": [
       "'\\n# List of categorical columns\\nobject_cols = [col for col in features.columns if \\'cat\\' in col]\\n\\n# one-hot-encode categorical columns\\nX = features.copy()\\nX_test = test.drop([\\'id\\'], axis=1).copy()\\n\\noh_encoder = OneHotEncoder(sparse=False, handle_unknown=\"ignore\")\\nX_ohe = oh_encoder.fit_transform(features[object_cols])\\nX_test_ohe = oh_encoder.transform(test[object_cols])\\n\\nX_ohe = pd.DataFrame(X_ohe, columns=[f\"ohe_{i}\" for i in range(X_ohe.shape[1])])\\nX_test_ohe = pd.DataFrame(X_test_ohe, columns=[f\"ohe_{i}\" for i in range(X_test_ohe.shape[1])])\\n\\nX = pd.concat([X, X_ohe], axis=1)\\nX_test = pd.concat([X_test, X_test_ohe], axis=1)\\nX = X.drop(object_cols, axis=1)\\nX_test = X_test.drop(object_cols, axis=1)\\n    \\n# Preview the one-hot-encoded features\\nX.head()\\n'"
      ]
     },
     "execution_count": 8,
     "metadata": {},
     "output_type": "execute_result"
    }
   ],
   "source": [
    "'''\n",
    "# List of categorical columns\n",
    "object_cols = [col for col in features.columns if 'cat' in col]\n",
    "\n",
    "# one-hot-encode categorical columns\n",
    "X = features.copy()\n",
    "X_test = test.drop(['id'], axis=1).copy()\n",
    "\n",
    "oh_encoder = OneHotEncoder(sparse=False, handle_unknown=\"ignore\")\n",
    "X_ohe = oh_encoder.fit_transform(features[object_cols])\n",
    "X_test_ohe = oh_encoder.transform(test[object_cols])\n",
    "\n",
    "X_ohe = pd.DataFrame(X_ohe, columns=[f\"ohe_{i}\" for i in range(X_ohe.shape[1])])\n",
    "X_test_ohe = pd.DataFrame(X_test_ohe, columns=[f\"ohe_{i}\" for i in range(X_test_ohe.shape[1])])\n",
    "\n",
    "X = pd.concat([X, X_ohe], axis=1)\n",
    "X_test = pd.concat([X_test, X_test_ohe], axis=1)\n",
    "X = X.drop(object_cols, axis=1)\n",
    "X_test = X_test.drop(object_cols, axis=1)\n",
    "    \n",
    "# Preview the one-hot-encoded features\n",
    "X.head()\n",
    "'''"
   ]
  },
  {
   "cell_type": "code",
   "execution_count": 9,
   "id": "84f79c79",
   "metadata": {
    "execution": {
     "iopub.execute_input": "2021-08-26T01:58:07.447045Z",
     "iopub.status.busy": "2021-08-26T01:58:07.445808Z",
     "iopub.status.idle": "2021-08-26T01:58:09.497599Z",
     "shell.execute_reply": "2021-08-26T01:58:09.496993Z",
     "shell.execute_reply.started": "2021-08-20T08:38:36.757826Z"
    },
    "papermill": {
     "duration": 2.09146,
     "end_time": "2021-08-26T01:58:09.497766",
     "exception": false,
     "start_time": "2021-08-26T01:58:07.406306",
     "status": "completed"
    },
    "tags": []
   },
   "outputs": [],
   "source": [
    "scale_features = [col for col in features.columns if 'cont' in col]\n",
    "\n",
    "ss = StandardScaler()\n",
    "X[scale_features] = ss.fit_transform(features[scale_features])\n",
    "X_test[scale_features] = ss.transform(test[scale_features])"
   ]
  },
  {
   "cell_type": "code",
   "execution_count": 10,
   "id": "3ceb41eb",
   "metadata": {
    "execution": {
     "iopub.execute_input": "2021-08-26T01:58:09.544038Z",
     "iopub.status.busy": "2021-08-26T01:58:09.543301Z",
     "iopub.status.idle": "2021-08-26T01:58:09.546302Z",
     "shell.execute_reply": "2021-08-26T01:58:09.545778Z",
     "shell.execute_reply.started": "2021-08-20T08:38:38.471996Z"
    },
    "papermill": {
     "duration": 0.029884,
     "end_time": "2021-08-26T01:58:09.546469",
     "exception": false,
     "start_time": "2021-08-26T01:58:09.516585",
     "status": "completed"
    },
    "tags": []
   },
   "outputs": [],
   "source": [
    "# Swap noise\n",
    "\n",
    "# Random\n",
    "def apply_noise_rn(df, p=.75):\n",
    "    should_not_swap = np.random.binomial(1, p, df.shape)\n",
    "    corrupted_df = df.where(should_not_swap == 1, np.random.permutation(df))\n",
    "    return corrupted_df\n",
    "\n",
    "# Row-wise\n",
    "def apply_noise_row(df, p=.75):\n",
    "    should_not_swap = np.zeros(df.shape)\n",
    "    for i in range(df.shape[0]):\n",
    "        for j in np.random.choice(df.shape[1],int(p*df.shape[1]),replace=False):\n",
    "            should_not_swap[i,j]=1 \n",
    "    corrupted_df = df.where(should_not_swap == 1, np.random.permutation(df))\n",
    "    return corrupted_df"
   ]
  },
  {
   "cell_type": "markdown",
   "id": "578581fe",
   "metadata": {
    "papermill": {
     "duration": 0.018506,
     "end_time": "2021-08-26T01:58:09.583728",
     "exception": false,
     "start_time": "2021-08-26T01:58:09.565222",
     "status": "completed"
    },
    "tags": []
   },
   "source": [
    "# Pseudo Label"
   ]
  },
  {
   "cell_type": "code",
   "execution_count": 11,
   "id": "ad40a228",
   "metadata": {
    "execution": {
     "iopub.execute_input": "2021-08-26T01:58:09.627494Z",
     "iopub.status.busy": "2021-08-26T01:58:09.626810Z",
     "iopub.status.idle": "2021-08-26T01:58:09.956444Z",
     "shell.execute_reply": "2021-08-26T01:58:09.955761Z",
     "shell.execute_reply.started": "2021-08-20T08:38:38.483158Z"
    },
    "papermill": {
     "duration": 0.353938,
     "end_time": "2021-08-26T01:58:09.956610",
     "exception": false,
     "start_time": "2021-08-26T01:58:09.602672",
     "status": "completed"
    },
    "tags": []
   },
   "outputs": [],
   "source": [
    "pseudo = pd.read_csv(\"../input/30dml-pseudo2/xgb_submission_k.txt\")[target]\n",
    "train_pseudo = pd.concat([X, y], axis=1)\n",
    "test_pseudo = pd.concat([X_test, pseudo], axis=1)\n",
    "all_pseudo = pd.concat([train_pseudo, test_pseudo]).reset_index(drop=True)"
   ]
  },
  {
   "cell_type": "markdown",
   "id": "a802262c",
   "metadata": {
    "papermill": {
     "duration": 0.02041,
     "end_time": "2021-08-26T01:58:09.998187",
     "exception": false,
     "start_time": "2021-08-26T01:58:09.977777",
     "status": "completed"
    },
    "tags": []
   },
   "source": [
    "# Optuna"
   ]
  },
  {
   "cell_type": "code",
   "execution_count": 12,
   "id": "fd0a0f8a",
   "metadata": {
    "execution": {
     "iopub.execute_input": "2021-08-26T01:58:10.041832Z",
     "iopub.status.busy": "2021-08-26T01:58:10.041155Z",
     "iopub.status.idle": "2021-08-26T01:58:19.709231Z",
     "shell.execute_reply": "2021-08-26T01:58:19.708553Z",
     "shell.execute_reply.started": "2021-08-20T08:38:38.826249Z"
    },
    "papermill": {
     "duration": 9.691441,
     "end_time": "2021-08-26T01:58:19.709396",
     "exception": false,
     "start_time": "2021-08-26T01:58:10.017955",
     "status": "completed"
    },
    "tags": []
   },
   "outputs": [
    {
     "name": "stdout",
     "output_type": "stream",
     "text": [
      "\u001b[33mWARNING: Running pip as root will break packages and permissions. You should install packages reliably by using venv: https://pip.pypa.io/warnings/venv\u001b[0m\r\n"
     ]
    }
   ],
   "source": [
    "# Optuna for parameter search\n",
    "!pip install -q optuna\n",
    "\n",
    "import optuna\n",
    "import pickle"
   ]
  },
  {
   "cell_type": "code",
   "execution_count": 13,
   "id": "6b0a6743",
   "metadata": {
    "execution": {
     "iopub.execute_input": "2021-08-26T01:58:19.765872Z",
     "iopub.status.busy": "2021-08-26T01:58:19.765086Z",
     "iopub.status.idle": "2021-08-26T01:58:19.768111Z",
     "shell.execute_reply": "2021-08-26T01:58:19.768597Z",
     "shell.execute_reply.started": "2021-08-20T08:39:47.662891Z"
    },
    "papermill": {
     "duration": 0.03932,
     "end_time": "2021-08-26T01:58:19.768786",
     "exception": false,
     "start_time": "2021-08-26T01:58:19.729466",
     "status": "completed"
    },
    "tags": []
   },
   "outputs": [],
   "source": [
    "# for the fixed learning rate, use the opt n iterations and tune the tree hyperparameters\n",
    "def objective(trial, X=all_pseudo.iloc[:,:-1], y=all_pseudo[target]):\n",
    "  \"\"\"\n",
    "  \"\"\"\n",
    "  param_space = {\n",
    "               'bootstrap_type': trial.suggest_categorical('bootstrap_type', ['Bernoulli', 'MVS']),\n",
    "            'loss_function': 'RMSE',\n",
    "            'eval_metric': 'RMSE',\n",
    "          'max_depth':trial.suggest_int('max_depth', 2, 3),\n",
    "           'learning_rate':trial.suggest_uniform('learning_rate', 2.2e-1, 3e-1),\n",
    "          'n_estimators':N_ESTIMATORS,\n",
    "        'max_bin':trial.suggest_int('max_bin', 890, 914),\n",
    "             'min_data_in_leaf':trial.suggest_int('min_data_in_leaf', 159, 167),\n",
    "         'reg_lambda':trial.suggest_uniform('reg_lambda', 16.9, 18.9),\n",
    "            'subsample': trial.suggest_uniform('subsample', 0.565, 0.585)\n",
    "                }\n",
    "            \n",
    "  seed_list=[SEED, SEED+1]\n",
    "  #kf = KFold(n_splits=N_SPLITS, shuffle=True, random_state=CVSEED)\n",
    "  ctb_oof = np.zeros(train.shape[0])\n",
    "  #lgb_pred = np.zeros(test.shape[0])\n",
    "  X_tr, X_va, y_tr, y_va = train_test_split(X,y,test_size=.2,random_state=CVSEED)\n",
    "  trn_idx = X_tr.index\n",
    "  val_idx = X_va.index\n",
    "  \n",
    "  #for (trn_idx, val_idx) in enumerate(kf.split(X, y)):\n",
    "  #print(f\"===== fold {fold} =====\")\n",
    "  oof_idx = np.array([idx for idx in val_idx if idx < train.shape[0]])\n",
    "  preds_idx = np.array([idx for idx in val_idx if idx >= train.shape[0]])\n",
    "\n",
    "  X_train, y_train = all_pseudo.iloc[trn_idx, :-1], all_pseudo[target].iloc[trn_idx]\n",
    "  #X_train = apply_noise_row(X_train)\n",
    "\n",
    "  X_valid, y_valid = all_pseudo.iloc[oof_idx, :-1], all_pseudo[target].iloc[oof_idx]\n",
    "  #X_test = all_pseudo[scale_features].iloc[preds_idx]\n",
    "  \n",
    "  #start = time.time()\n",
    "  for inseed in seed_list:\n",
    "    param_space['random_seed'] = inseed\n",
    "\n",
    "    model = ctb.CatBoostRegressor(**param_space)\n",
    "    model.fit(\n",
    "        X_train, \n",
    "        y_train,\n",
    "        eval_set=[(X_valid, y_valid)],\n",
    "        use_best_model=True,\n",
    "        early_stopping_rounds=EARLY_STOPPING_ROUNDS,\n",
    "        verbose=VERBOSE\n",
    "       \n",
    "    )\n",
    "\n",
    "\n",
    "    ctb_oof[oof_idx] += model.predict(X_valid) / len(seed_list)\n",
    "    #lgb_pred[preds_idx-train.shape[0]] += model.predict(X_test) / len(seed_list)\n",
    "\n",
    "  #elapsed = time.time() - start\n",
    "  rmse = mean_squared_error(y_valid, ctb_oof[oof_idx], squared=False)\n",
    "  #print(f\"fold {fold} - lgb rmse: {rmse:.6f}, elapsed time: {elapsed:.2f}sec\\n\")            \n",
    "  \n",
    "  #print(f\"oof lgb_rmse = {mean_squared_error(train[target], lgb_oof, squared=False)}\")\n",
    "\n",
    "  \n",
    "  return rmse"
   ]
  },
  {
   "cell_type": "code",
   "execution_count": 14,
   "id": "c65a86d2",
   "metadata": {
    "execution": {
     "iopub.execute_input": "2021-08-26T01:58:19.814633Z",
     "iopub.status.busy": "2021-08-26T01:58:19.813955Z",
     "iopub.status.idle": "2021-08-26T03:04:17.679775Z",
     "shell.execute_reply": "2021-08-26T03:04:17.679217Z",
     "shell.execute_reply.started": "2021-08-20T08:39:47.904242Z"
    },
    "papermill": {
     "duration": 3957.891207,
     "end_time": "2021-08-26T03:04:17.679934",
     "exception": false,
     "start_time": "2021-08-26T01:58:19.788727",
     "status": "completed"
    },
    "tags": []
   },
   "outputs": [
    {
     "name": "stderr",
     "output_type": "stream",
     "text": [
      "\u001b[32m[I 2021-08-26 01:58:19,812]\u001b[0m A new study created in memory with name: no-name-7a561667-14b0-459d-bfcd-f6f13dbec0ec\u001b[0m\n"
     ]
    },
    {
     "name": "stdout",
     "output_type": "stream",
     "text": [
      "0:\tlearn: 0.5925261\ttest: 0.7383143\tbest: 0.7383143 (0)\ttotal: 87.7ms\tremaining: 29m 13s\n",
      "1000:\tlearn: 0.5557435\ttest: 0.7112667\tbest: 0.7112667 (1000)\ttotal: 23.3s\tremaining: 7m 22s\n",
      "2000:\tlearn: 0.5521626\ttest: 0.7100354\tbest: 0.7100354 (2000)\ttotal: 46s\tremaining: 6m 53s\n",
      "Stopped by overfitting detector  (200 iterations wait)\n",
      "\n",
      "bestTest = 0.7098881342\n",
      "bestIteration = 2338\n",
      "\n",
      "Shrink model to first 2339 iterations.\n",
      "0:\tlearn: 0.5925436\ttest: 0.7382819\tbest: 0.7382819 (0)\ttotal: 24ms\tremaining: 7m 59s\n",
      "1000:\tlearn: 0.5558720\ttest: 0.7113829\tbest: 0.7113829 (1000)\ttotal: 23.2s\tremaining: 7m 20s\n",
      "2000:\tlearn: 0.5522935\ttest: 0.7101581\tbest: 0.7101579 (1999)\ttotal: 46.1s\tremaining: 6m 54s\n",
      "3000:\tlearn: 0.5502316\ttest: 0.7099695\tbest: 0.7099687 (2998)\ttotal: 1m 9s\tremaining: 6m 31s\n"
     ]
    },
    {
     "name": "stderr",
     "output_type": "stream",
     "text": [
      "\u001b[32m[I 2021-08-26 02:00:34,997]\u001b[0m Trial 0 finished with value: 0.7097346055236204 and parameters: {'bootstrap_type': 'MVS', 'max_depth': 2, 'learning_rate': 0.279601242525599, 'max_bin': 905, 'min_data_in_leaf': 159, 'reg_lambda': 17.43179722655722, 'subsample': 0.5662006954882283}. Best is trial 0 with value: 0.7097346055236204.\u001b[0m\n"
     ]
    },
    {
     "name": "stdout",
     "output_type": "stream",
     "text": [
      "Stopped by overfitting detector  (200 iterations wait)\n",
      "\n",
      "bestTest = 0.709966438\n",
      "bestIteration = 3003\n",
      "\n",
      "Shrink model to first 3004 iterations.\n",
      "0:\tlearn: 0.5928542\ttest: 0.7385794\tbest: 0.7385794 (0)\ttotal: 23.8ms\tremaining: 7m 56s\n",
      "1000:\tlearn: 0.5570244\ttest: 0.7120170\tbest: 0.7120170 (1000)\ttotal: 23.5s\tremaining: 7m 26s\n",
      "2000:\tlearn: 0.5531884\ttest: 0.7104013\tbest: 0.7103981 (1999)\ttotal: 46.6s\tremaining: 6m 58s\n",
      "3000:\tlearn: 0.5511909\ttest: 0.7100713\tbest: 0.7100554 (2977)\ttotal: 1m 9s\tremaining: 6m 34s\n",
      "Stopped by overfitting detector  (200 iterations wait)\n",
      "\n",
      "bestTest = 0.7099416832\n",
      "bestIteration = 3611\n",
      "\n",
      "Shrink model to first 3612 iterations.\n",
      "0:\tlearn: 0.5928565\ttest: 0.7385492\tbest: 0.7385492 (0)\ttotal: 25.5ms\tremaining: 8m 28s\n",
      "1000:\tlearn: 0.5571892\ttest: 0.7119723\tbest: 0.7119723 (1000)\ttotal: 23.4s\tremaining: 7m 24s\n",
      "2000:\tlearn: 0.5533330\ttest: 0.7104494\tbest: 0.7104435 (1978)\ttotal: 46.5s\tremaining: 6m 58s\n",
      "3000:\tlearn: 0.5513331\ttest: 0.7100238\tbest: 0.7100208 (2998)\ttotal: 1m 9s\tremaining: 6m 35s\n"
     ]
    },
    {
     "name": "stderr",
     "output_type": "stream",
     "text": [
      "\u001b[32m[I 2021-08-26 02:03:29,365]\u001b[0m Trial 1 finished with value: 0.7098013654912383 and parameters: {'bootstrap_type': 'MVS', 'max_depth': 2, 'learning_rate': 0.2278495428579023, 'max_bin': 904, 'min_data_in_leaf': 163, 'reg_lambda': 17.201673617683802, 'subsample': 0.5846139827336116}. Best is trial 0 with value: 0.7097346055236204.\u001b[0m\n"
     ]
    },
    {
     "name": "stdout",
     "output_type": "stream",
     "text": [
      "Stopped by overfitting detector  (200 iterations wait)\n",
      "\n",
      "bestTest = 0.7099667593\n",
      "bestIteration = 3351\n",
      "\n",
      "Shrink model to first 3352 iterations.\n",
      "0:\tlearn: 0.5924743\ttest: 0.7382320\tbest: 0.7382320 (0)\ttotal: 19.9ms\tremaining: 6m 38s\n",
      "1000:\tlearn: 0.5564964\ttest: 0.7116724\tbest: 0.7116724 (1000)\ttotal: 18.4s\tremaining: 5m 49s\n",
      "2000:\tlearn: 0.5533515\ttest: 0.7106377\tbest: 0.7106339 (1985)\ttotal: 36.7s\tremaining: 5m 30s\n",
      "3000:\tlearn: 0.5515351\ttest: 0.7102241\tbest: 0.7102129 (2990)\ttotal: 54.7s\tremaining: 5m 10s\n",
      "Stopped by overfitting detector  (200 iterations wait)\n",
      "\n",
      "bestTest = 0.7100764713\n",
      "bestIteration = 3726\n",
      "\n",
      "Shrink model to first 3727 iterations.\n",
      "0:\tlearn: 0.5924209\ttest: 0.7381966\tbest: 0.7381966 (0)\ttotal: 19.2ms\tremaining: 6m 23s\n",
      "1000:\tlearn: 0.5566674\ttest: 0.7118319\tbest: 0.7118300 (998)\ttotal: 18.1s\tremaining: 5m 43s\n",
      "2000:\tlearn: 0.5534707\ttest: 0.7105506\tbest: 0.7105500 (1998)\ttotal: 36.3s\tremaining: 5m 26s\n",
      "3000:\tlearn: 0.5516718\ttest: 0.7102065\tbest: 0.7101829 (2853)\ttotal: 54.3s\tremaining: 5m 7s\n"
     ]
    },
    {
     "name": "stderr",
     "output_type": "stream",
     "text": [
      "\u001b[32m[I 2021-08-26 02:05:39,293]\u001b[0m Trial 2 finished with value: 0.7098798594705112 and parameters: {'bootstrap_type': 'Bernoulli', 'max_depth': 2, 'learning_rate': 0.2980580251443795, 'max_bin': 896, 'min_data_in_leaf': 166, 'reg_lambda': 17.831947810239996, 'subsample': 0.5836221257893855}. Best is trial 0 with value: 0.7097346055236204.\u001b[0m\n"
     ]
    },
    {
     "name": "stdout",
     "output_type": "stream",
     "text": [
      "Stopped by overfitting detector  (200 iterations wait)\n",
      "\n",
      "bestTest = 0.7101828941\n",
      "bestIteration = 2853\n",
      "\n",
      "Shrink model to first 2854 iterations.\n",
      "0:\tlearn: 0.5928045\ttest: 0.7385503\tbest: 0.7385503 (0)\ttotal: 19.1ms\tremaining: 6m 21s\n",
      "1000:\tlearn: 0.5577704\ttest: 0.7123288\tbest: 0.7123284 (999)\ttotal: 18.4s\tremaining: 5m 48s\n",
      "2000:\tlearn: 0.5542957\ttest: 0.7107504\tbest: 0.7107468 (1994)\ttotal: 36.6s\tremaining: 5m 29s\n",
      "3000:\tlearn: 0.5524912\ttest: 0.7102070\tbest: 0.7101818 (2959)\ttotal: 54.6s\tremaining: 5m 9s\n",
      "4000:\tlearn: 0.5512156\ttest: 0.7099932\tbest: 0.7099884 (3993)\ttotal: 1m 12s\tremaining: 4m 51s\n",
      "Stopped by overfitting detector  (200 iterations wait)\n",
      "\n",
      "bestTest = 0.7099882327\n",
      "bestIteration = 4011\n",
      "\n",
      "Shrink model to first 4012 iterations.\n",
      "0:\tlearn: 0.5927905\ttest: 0.7385419\tbest: 0.7385419 (0)\ttotal: 19.2ms\tremaining: 6m 23s\n",
      "1000:\tlearn: 0.5580219\ttest: 0.7127018\tbest: 0.7127018 (1000)\ttotal: 18s\tremaining: 5m 42s\n",
      "2000:\tlearn: 0.5543980\ttest: 0.7109872\tbest: 0.7109862 (1999)\ttotal: 36.5s\tremaining: 5m 28s\n",
      "3000:\tlearn: 0.5525769\ttest: 0.7104159\tbest: 0.7104090 (2994)\ttotal: 54.4s\tremaining: 5m 8s\n"
     ]
    },
    {
     "name": "stderr",
     "output_type": "stream",
     "text": [
      "\u001b[32m[I 2021-08-26 02:08:06,685]\u001b[0m Trial 3 finished with value: 0.70995122786039 and parameters: {'bootstrap_type': 'Bernoulli', 'max_depth': 2, 'learning_rate': 0.239646309673968, 'max_bin': 913, 'min_data_in_leaf': 165, 'reg_lambda': 17.243577673270423, 'subsample': 0.5746184922226196}. Best is trial 0 with value: 0.7097346055236204.\u001b[0m\n"
     ]
    },
    {
     "name": "stdout",
     "output_type": "stream",
     "text": [
      "Stopped by overfitting detector  (200 iterations wait)\n",
      "\n",
      "bestTest = 0.7102982835\n",
      "bestIteration = 3516\n",
      "\n",
      "Shrink model to first 3517 iterations.\n",
      "0:\tlearn: 0.5924004\ttest: 0.7381838\tbest: 0.7381838 (0)\ttotal: 24.5ms\tremaining: 8m 10s\n",
      "1000:\tlearn: 0.5553660\ttest: 0.7111418\tbest: 0.7111418 (1000)\ttotal: 23.4s\tremaining: 7m 23s\n",
      "2000:\tlearn: 0.5518959\ttest: 0.7100857\tbest: 0.7100815 (1983)\ttotal: 46.3s\tremaining: 6m 56s\n",
      "Stopped by overfitting detector  (200 iterations wait)\n",
      "\n",
      "bestTest = 0.7099158106\n",
      "bestIteration = 2692\n",
      "\n",
      "Shrink model to first 2693 iterations.\n",
      "0:\tlearn: 0.5924385\ttest: 0.7381904\tbest: 0.7381904 (0)\ttotal: 22.4ms\tremaining: 7m 28s\n",
      "1000:\tlearn: 0.5555457\ttest: 0.7112735\tbest: 0.7112726 (999)\ttotal: 23.6s\tremaining: 7m 28s\n",
      "2000:\tlearn: 0.5519583\ttest: 0.7101426\tbest: 0.7101426 (2000)\ttotal: 46.7s\tremaining: 7m\n"
     ]
    },
    {
     "name": "stderr",
     "output_type": "stream",
     "text": [
      "\u001b[32m[I 2021-08-26 02:10:21,457]\u001b[0m Trial 4 finished with value: 0.7098111163106058 and parameters: {'bootstrap_type': 'MVS', 'max_depth': 2, 'learning_rate': 0.2974180931789327, 'max_bin': 892, 'min_data_in_leaf': 164, 'reg_lambda': 18.705554620031403, 'subsample': 0.5738024564633764}. Best is trial 0 with value: 0.7097346055236204.\u001b[0m\n"
     ]
    },
    {
     "name": "stdout",
     "output_type": "stream",
     "text": [
      "Stopped by overfitting detector  (200 iterations wait)\n",
      "\n",
      "bestTest = 0.710092468\n",
      "bestIteration = 2577\n",
      "\n",
      "Shrink model to first 2578 iterations.\n",
      "0:\tlearn: 0.5929285\ttest: 0.7386238\tbest: 0.7386238 (0)\ttotal: 19.5ms\tremaining: 6m 29s\n",
      "1000:\tlearn: 0.5583111\ttest: 0.7125968\tbest: 0.7125968 (1000)\ttotal: 18.5s\tremaining: 5m 51s\n",
      "2000:\tlearn: 0.5546797\ttest: 0.7108707\tbest: 0.7108673 (1998)\ttotal: 37s\tremaining: 5m 32s\n",
      "3000:\tlearn: 0.5528519\ttest: 0.7102997\tbest: 0.7102977 (2999)\ttotal: 55.2s\tremaining: 5m 12s\n",
      "4000:\tlearn: 0.5515848\ttest: 0.7101072\tbest: 0.7100990 (3980)\ttotal: 1m 13s\tremaining: 4m 53s\n",
      "Stopped by overfitting detector  (200 iterations wait)\n",
      "\n",
      "bestTest = 0.7100968303\n",
      "bestIteration = 4017\n",
      "\n",
      "Shrink model to first 4018 iterations.\n",
      "0:\tlearn: 0.5928839\ttest: 0.7386051\tbest: 0.7386051 (0)\ttotal: 19.6ms\tremaining: 6m 32s\n",
      "1000:\tlearn: 0.5584512\ttest: 0.7127944\tbest: 0.7127937 (998)\ttotal: 18.7s\tremaining: 5m 54s\n",
      "2000:\tlearn: 0.5547848\ttest: 0.7110745\tbest: 0.7110726 (1997)\ttotal: 36.8s\tremaining: 5m 30s\n",
      "3000:\tlearn: 0.5529737\ttest: 0.7104621\tbest: 0.7104621 (3000)\ttotal: 55s\tremaining: 5m 11s\n"
     ]
    },
    {
     "name": "stderr",
     "output_type": "stream",
     "text": [
      "\u001b[32m[I 2021-08-26 02:12:48,914]\u001b[0m Trial 5 finished with value: 0.7100249143265283 and parameters: {'bootstrap_type': 'Bernoulli', 'max_depth': 2, 'learning_rate': 0.22062232219899786, 'max_bin': 903, 'min_data_in_leaf': 160, 'reg_lambda': 18.357982369473966, 'subsample': 0.5812779264682164}. Best is trial 0 with value: 0.7097346055236204.\u001b[0m\n"
     ]
    },
    {
     "name": "stdout",
     "output_type": "stream",
     "text": [
      "Stopped by overfitting detector  (200 iterations wait)\n",
      "\n",
      "bestTest = 0.7103096931\n",
      "bestIteration = 3466\n",
      "\n",
      "Shrink model to first 3467 iterations.\n",
      "0:\tlearn: 0.5917272\ttest: 0.7376288\tbest: 0.7376288 (0)\ttotal: 27.8ms\tremaining: 9m 16s\n",
      "1000:\tlearn: 0.5515702\ttest: 0.7103582\tbest: 0.7103544 (997)\ttotal: 26.7s\tremaining: 8m 27s\n",
      "Stopped by overfitting detector  (200 iterations wait)\n",
      "\n",
      "bestTest = 0.710134054\n",
      "bestIteration = 1429\n",
      "\n",
      "Shrink model to first 1430 iterations.\n",
      "0:\tlearn: 0.5917425\ttest: 0.7376151\tbest: 0.7376151 (0)\ttotal: 27.6ms\tremaining: 9m 12s\n",
      "1000:\tlearn: 0.5515235\ttest: 0.7104637\tbest: 0.7104512 (977)\ttotal: 26.8s\tremaining: 8m 29s\n"
     ]
    },
    {
     "name": "stderr",
     "output_type": "stream",
     "text": [
      "\u001b[32m[I 2021-08-26 02:14:14,617]\u001b[0m Trial 6 finished with value: 0.7099046152920899 and parameters: {'bootstrap_type': 'MVS', 'max_depth': 3, 'learning_rate': 0.29635876128915256, 'max_bin': 899, 'min_data_in_leaf': 164, 'reg_lambda': 17.245256021378445, 'subsample': 0.572130649503297}. Best is trial 0 with value: 0.7097346055236204.\u001b[0m\n"
     ]
    },
    {
     "name": "stdout",
     "output_type": "stream",
     "text": [
      "Stopped by overfitting detector  (200 iterations wait)\n",
      "\n",
      "bestTest = 0.7102653145\n",
      "bestIteration = 1296\n",
      "\n",
      "Shrink model to first 1297 iterations.\n",
      "0:\tlearn: 0.5927943\ttest: 0.7385256\tbest: 0.7385256 (0)\ttotal: 23.5ms\tremaining: 7m 49s\n",
      "1000:\tlearn: 0.5569913\ttest: 0.7120603\tbest: 0.7120603 (1000)\ttotal: 23.2s\tremaining: 7m 19s\n",
      "2000:\tlearn: 0.5530585\ttest: 0.7102325\tbest: 0.7102316 (1995)\ttotal: 46.4s\tremaining: 6m 57s\n",
      "3000:\tlearn: 0.5510823\ttest: 0.7100093\tbest: 0.7099844 (2943)\ttotal: 1m 9s\tremaining: 6m 33s\n",
      "Stopped by overfitting detector  (200 iterations wait)\n",
      "\n",
      "bestTest = 0.7099057117\n",
      "bestIteration = 3443\n",
      "\n",
      "Shrink model to first 3444 iterations.\n",
      "0:\tlearn: 0.5928239\ttest: 0.7385210\tbest: 0.7385210 (0)\ttotal: 23.6ms\tremaining: 7m 52s\n",
      "1000:\tlearn: 0.5569615\ttest: 0.7118960\tbest: 0.7118902 (999)\ttotal: 22.9s\tremaining: 7m 13s\n",
      "2000:\tlearn: 0.5532185\ttest: 0.7103662\tbest: 0.7103649 (1999)\ttotal: 46s\tremaining: 6m 54s\n",
      "3000:\tlearn: 0.5512252\ttest: 0.7099273\tbest: 0.7098967 (2954)\ttotal: 1m 9s\tremaining: 6m 31s\n"
     ]
    },
    {
     "name": "stderr",
     "output_type": "stream",
     "text": [
      "\u001b[32m[I 2021-08-26 02:16:54,878]\u001b[0m Trial 7 finished with value: 0.709740928589616 and parameters: {'bootstrap_type': 'MVS', 'max_depth': 2, 'learning_rate': 0.23291628410523843, 'max_bin': 897, 'min_data_in_leaf': 160, 'reg_lambda': 17.55583093936729, 'subsample': 0.567927971572903}. Best is trial 0 with value: 0.7097346055236204.\u001b[0m\n"
     ]
    },
    {
     "name": "stdout",
     "output_type": "stream",
     "text": [
      "Stopped by overfitting detector  (200 iterations wait)\n",
      "\n",
      "bestTest = 0.7098967022\n",
      "bestIteration = 2954\n",
      "\n",
      "Shrink model to first 2955 iterations.\n",
      "0:\tlearn: 0.5928337\ttest: 0.7385751\tbest: 0.7385751 (0)\ttotal: 19.8ms\tremaining: 6m 35s\n",
      "1000:\tlearn: 0.5579379\ttest: 0.7126078\tbest: 0.7126078 (1000)\ttotal: 18.1s\tremaining: 5m 43s\n",
      "2000:\tlearn: 0.5543256\ttest: 0.7107709\tbest: 0.7107690 (1996)\ttotal: 36.4s\tremaining: 5m 27s\n",
      "3000:\tlearn: 0.5525391\ttest: 0.7103518\tbest: 0.7103340 (2978)\ttotal: 54.3s\tremaining: 5m 7s\n",
      "4000:\tlearn: 0.5512939\ttest: 0.7101469\tbest: 0.7101407 (3984)\ttotal: 1m 12s\tremaining: 4m 50s\n",
      "Stopped by overfitting detector  (200 iterations wait)\n",
      "\n",
      "bestTest = 0.71012427\n",
      "bestIteration = 4162\n",
      "\n",
      "Shrink model to first 4163 iterations.\n",
      "0:\tlearn: 0.5928158\ttest: 0.7385584\tbest: 0.7385584 (0)\ttotal: 19.9ms\tremaining: 6m 37s\n",
      "1000:\tlearn: 0.5580256\ttest: 0.7125441\tbest: 0.7125441 (1000)\ttotal: 18.5s\tremaining: 5m 50s\n",
      "2000:\tlearn: 0.5544950\ttest: 0.7108457\tbest: 0.7108457 (2000)\ttotal: 36.5s\tremaining: 5m 28s\n",
      "3000:\tlearn: 0.5527116\ttest: 0.7103198\tbest: 0.7103198 (3000)\ttotal: 54.7s\tremaining: 5m 9s\n"
     ]
    },
    {
     "name": "stderr",
     "output_type": "stream",
     "text": [
      "\u001b[32m[I 2021-08-26 02:19:26,381]\u001b[0m Trial 8 finished with value: 0.7099751609009143 and parameters: {'bootstrap_type': 'Bernoulli', 'max_depth': 2, 'learning_rate': 0.23483286320094598, 'max_bin': 911, 'min_data_in_leaf': 161, 'reg_lambda': 17.998626841489006, 'subsample': 0.5698881149099556}. Best is trial 0 with value: 0.7097346055236204.\u001b[0m\n"
     ]
    },
    {
     "name": "stdout",
     "output_type": "stream",
     "text": [
      "Stopped by overfitting detector  (200 iterations wait)\n",
      "\n",
      "bestTest = 0.7102116227\n",
      "bestIteration = 3587\n",
      "\n",
      "Shrink model to first 3588 iterations.\n",
      "0:\tlearn: 0.5927658\ttest: 0.7384818\tbest: 0.7384818 (0)\ttotal: 19.2ms\tremaining: 6m 24s\n",
      "1000:\tlearn: 0.5577091\ttest: 0.7123995\tbest: 0.7123993 (999)\ttotal: 18.4s\tremaining: 5m 50s\n",
      "2000:\tlearn: 0.5541770\ttest: 0.7108435\tbest: 0.7108428 (1988)\ttotal: 36.8s\tremaining: 5m 31s\n",
      "3000:\tlearn: 0.5523578\ttest: 0.7103251\tbest: 0.7103191 (2985)\ttotal: 54.9s\tremaining: 5m 10s\n",
      "Stopped by overfitting detector  (200 iterations wait)\n",
      "\n",
      "bestTest = 0.7101776748\n",
      "bestIteration = 3707\n",
      "\n",
      "Shrink model to first 3708 iterations.\n",
      "0:\tlearn: 0.5927159\ttest: 0.7384621\tbest: 0.7384621 (0)\ttotal: 18.1ms\tremaining: 6m 1s\n",
      "1000:\tlearn: 0.5578036\ttest: 0.7124640\tbest: 0.7124620 (998)\ttotal: 18.3s\tremaining: 5m 46s\n",
      "2000:\tlearn: 0.5542917\ttest: 0.7109963\tbest: 0.7109963 (2000)\ttotal: 36.7s\tremaining: 5m 29s\n",
      "3000:\tlearn: 0.5525021\ttest: 0.7105192\tbest: 0.7105140 (2998)\ttotal: 54.7s\tremaining: 5m 10s\n"
     ]
    },
    {
     "name": "stderr",
     "output_type": "stream",
     "text": [
      "\u001b[32m[I 2021-08-26 02:21:45,595]\u001b[0m Trial 9 finished with value: 0.7100970521755349 and parameters: {'bootstrap_type': 'Bernoulli', 'max_depth': 2, 'learning_rate': 0.2474434760470871, 'max_bin': 902, 'min_data_in_leaf': 167, 'reg_lambda': 18.037252588905275, 'subsample': 0.582930354614758}. Best is trial 0 with value: 0.7097346055236204.\u001b[0m\n"
     ]
    },
    {
     "name": "stdout",
     "output_type": "stream",
     "text": [
      "Stopped by overfitting detector  (200 iterations wait)\n",
      "\n",
      "bestTest = 0.7104118618\n",
      "bestIteration = 3331\n",
      "\n",
      "Shrink model to first 3332 iterations.\n",
      "0:\tlearn: 0.5918880\ttest: 0.7377951\tbest: 0.7377951 (0)\ttotal: 28.6ms\tremaining: 9m 32s\n",
      "1000:\tlearn: 0.5519356\ttest: 0.7102611\tbest: 0.7102566 (998)\ttotal: 27.1s\tremaining: 8m 34s\n",
      "Stopped by overfitting detector  (200 iterations wait)\n",
      "\n",
      "bestTest = 0.7101655432\n",
      "bestIteration = 1187\n",
      "\n",
      "Shrink model to first 1188 iterations.\n",
      "0:\tlearn: 0.5918955\ttest: 0.7377602\tbest: 0.7377602 (0)\ttotal: 28.1ms\tremaining: 9m 21s\n",
      "1000:\tlearn: 0.5520409\ttest: 0.7107136\tbest: 0.7107102 (988)\ttotal: 27.2s\tremaining: 8m 37s\n",
      "2000:\tlearn: 0.5468667\ttest: 0.7105149\tbest: 0.7104543 (1923)\ttotal: 53.8s\tremaining: 8m 4s\n"
     ]
    },
    {
     "name": "stderr",
     "output_type": "stream",
     "text": [
      "\u001b[32m[I 2021-08-26 02:23:22,458]\u001b[0m Trial 10 finished with value: 0.709980382181364 and parameters: {'bootstrap_type': 'MVS', 'max_depth': 3, 'learning_rate': 0.2762480341260273, 'max_bin': 907, 'min_data_in_leaf': 159, 'reg_lambda': 16.904818863164618, 'subsample': 0.5784155828432621}. Best is trial 0 with value: 0.7097346055236204.\u001b[0m\n"
     ]
    },
    {
     "name": "stdout",
     "output_type": "stream",
     "text": [
      "Stopped by overfitting detector  (200 iterations wait)\n",
      "\n",
      "bestTest = 0.7104542958\n",
      "bestIteration = 1923\n",
      "\n",
      "Shrink model to first 1924 iterations.\n",
      "0:\tlearn: 0.5919003\ttest: 0.7377875\tbest: 0.7377875 (0)\ttotal: 27.7ms\tremaining: 9m 14s\n",
      "1000:\tlearn: 0.5519740\ttest: 0.7102652\tbest: 0.7102652 (1000)\ttotal: 26.9s\tremaining: 8m 29s\n",
      "Stopped by overfitting detector  (200 iterations wait)\n",
      "\n",
      "bestTest = 0.7100615265\n",
      "bestIteration = 1345\n",
      "\n",
      "Shrink model to first 1346 iterations.\n",
      "0:\tlearn: 0.5919289\ttest: 0.7377813\tbest: 0.7377813 (0)\ttotal: 27.2ms\tremaining: 9m 3s\n",
      "1000:\tlearn: 0.5521354\ttest: 0.7104687\tbest: 0.7104687 (1000)\ttotal: 26.8s\tremaining: 8m 28s\n"
     ]
    },
    {
     "name": "stderr",
     "output_type": "stream",
     "text": [
      "\u001b[32m[I 2021-08-26 02:24:49,123]\u001b[0m Trial 11 finished with value: 0.7098580592554459 and parameters: {'bootstrap_type': 'MVS', 'max_depth': 3, 'learning_rate': 0.27276861652739715, 'max_bin': 895, 'min_data_in_leaf': 161, 'reg_lambda': 17.608052924471316, 'subsample': 0.5654662407676467}. Best is trial 0 with value: 0.7097346055236204.\u001b[0m\n"
     ]
    },
    {
     "name": "stdout",
     "output_type": "stream",
     "text": [
      "Stopped by overfitting detector  (200 iterations wait)\n",
      "\n",
      "bestTest = 0.710177255\n",
      "bestIteration = 1427\n",
      "\n",
      "Shrink model to first 1428 iterations.\n",
      "0:\tlearn: 0.5925495\ttest: 0.7383129\tbest: 0.7383129 (0)\ttotal: 27.3ms\tremaining: 9m 6s\n",
      "1000:\tlearn: 0.5559087\ttest: 0.7113139\tbest: 0.7113131 (995)\ttotal: 23.6s\tremaining: 7m 27s\n",
      "2000:\tlearn: 0.5523715\ttest: 0.7101710\tbest: 0.7101578 (1914)\ttotal: 46.9s\tremaining: 7m 2s\n",
      "3000:\tlearn: 0.5503502\ttest: 0.7099746\tbest: 0.7099421 (2802)\ttotal: 1m 9s\tremaining: 6m 36s\n",
      "Stopped by overfitting detector  (200 iterations wait)\n",
      "\n",
      "bestTest = 0.709942093\n",
      "bestIteration = 2802\n",
      "\n",
      "Shrink model to first 2803 iterations.\n",
      "0:\tlearn: 0.5925848\ttest: 0.7383193\tbest: 0.7383193 (0)\ttotal: 29.1ms\tremaining: 9m 42s\n",
      "1000:\tlearn: 0.5559848\ttest: 0.7113806\tbest: 0.7113806 (1000)\ttotal: 23.1s\tremaining: 7m 17s\n",
      "2000:\tlearn: 0.5524135\ttest: 0.7102451\tbest: 0.7102359 (1977)\ttotal: 46.6s\tremaining: 6m 58s\n",
      "3000:\tlearn: 0.5504175\ttest: 0.7100228\tbest: 0.7100203 (2941)\ttotal: 1m 9s\tremaining: 6m 35s\n"
     ]
    },
    {
     "name": "stderr",
     "output_type": "stream",
     "text": [
      "\u001b[32m[I 2021-08-26 02:27:21,644]\u001b[0m Trial 12 finished with value: 0.7097933865509164 and parameters: {'bootstrap_type': 'MVS', 'max_depth': 2, 'learning_rate': 0.27209158308191944, 'max_bin': 890, 'min_data_in_leaf': 159, 'reg_lambda': 17.553506226844114, 'subsample': 0.5655927772636417}. Best is trial 0 with value: 0.7097346055236204.\u001b[0m\n"
     ]
    },
    {
     "name": "stdout",
     "output_type": "stream",
     "text": [
      "Stopped by overfitting detector  (200 iterations wait)\n",
      "\n",
      "bestTest = 0.7100097311\n",
      "bestIteration = 3215\n",
      "\n",
      "Shrink model to first 3216 iterations.\n",
      "0:\tlearn: 0.5926424\ttest: 0.7383940\tbest: 0.7383940 (0)\ttotal: 22.9ms\tremaining: 7m 38s\n",
      "1000:\tlearn: 0.5561754\ttest: 0.7114863\tbest: 0.7114836 (999)\ttotal: 23.5s\tremaining: 7m 25s\n",
      "2000:\tlearn: 0.5524801\ttest: 0.7100969\tbest: 0.7100753 (1974)\ttotal: 46.5s\tremaining: 6m 58s\n",
      "Stopped by overfitting detector  (200 iterations wait)\n",
      "\n",
      "bestTest = 0.7100752787\n",
      "bestIteration = 1974\n",
      "\n",
      "Shrink model to first 1975 iterations.\n",
      "0:\tlearn: 0.5926465\ttest: 0.7383758\tbest: 0.7383758 (0)\ttotal: 24.4ms\tremaining: 8m 8s\n",
      "1000:\tlearn: 0.5562838\ttest: 0.7115844\tbest: 0.7115844 (1000)\ttotal: 23.1s\tremaining: 7m 17s\n",
      "2000:\tlearn: 0.5526444\ttest: 0.7103518\tbest: 0.7103481 (1998)\ttotal: 46.6s\tremaining: 6m 59s\n",
      "3000:\tlearn: 0.5506149\ttest: 0.7100923\tbest: 0.7100847 (2965)\ttotal: 1m 9s\tremaining: 6m 36s\n"
     ]
    },
    {
     "name": "stderr",
     "output_type": "stream",
     "text": [
      "\u001b[32m[I 2021-08-26 02:29:35,514]\u001b[0m Trial 13 finished with value: 0.7098534456530634 and parameters: {'bootstrap_type': 'MVS', 'max_depth': 2, 'learning_rate': 0.26168831997972236, 'max_bin': 908, 'min_data_in_leaf': 161, 'reg_lambda': 16.913376285063496, 'subsample': 0.5680619071749197}. Best is trial 0 with value: 0.7097346055236204.\u001b[0m\n"
     ]
    },
    {
     "name": "stdout",
     "output_type": "stream",
     "text": [
      "Stopped by overfitting detector  (200 iterations wait)\n",
      "\n",
      "bestTest = 0.7100501121\n",
      "bestIteration = 3246\n",
      "\n",
      "Shrink model to first 3247 iterations.\n",
      "0:\tlearn: 0.5924630\ttest: 0.7382398\tbest: 0.7382398 (0)\ttotal: 23.9ms\tremaining: 7m 58s\n",
      "1000:\tlearn: 0.5555577\ttest: 0.7112160\tbest: 0.7112160 (1000)\ttotal: 23.4s\tremaining: 7m 24s\n",
      "2000:\tlearn: 0.5520391\ttest: 0.7101306\tbest: 0.7100994 (1968)\ttotal: 47s\tremaining: 7m 2s\n",
      "3000:\tlearn: 0.5499791\ttest: 0.7098643\tbest: 0.7098288 (2955)\ttotal: 1m 10s\tremaining: 6m 37s\n",
      "Stopped by overfitting detector  (200 iterations wait)\n",
      "\n",
      "bestTest = 0.7098288252\n",
      "bestIteration = 2955\n",
      "\n",
      "Shrink model to first 2956 iterations.\n",
      "0:\tlearn: 0.5924984\ttest: 0.7382332\tbest: 0.7382332 (0)\ttotal: 22.7ms\tremaining: 7m 34s\n",
      "1000:\tlearn: 0.5556346\ttest: 0.7112604\tbest: 0.7112604 (1000)\ttotal: 23.4s\tremaining: 7m 23s\n",
      "2000:\tlearn: 0.5520637\ttest: 0.7101370\tbest: 0.7101355 (1999)\ttotal: 46.8s\tremaining: 7m\n"
     ]
    },
    {
     "name": "stderr",
     "output_type": "stream",
     "text": [
      "\u001b[32m[I 2021-08-26 02:31:49,790]\u001b[0m Trial 14 finished with value: 0.7097475810392456 and parameters: {'bootstrap_type': 'MVS', 'max_depth': 2, 'learning_rate': 0.28746924851604566, 'max_bin': 898, 'min_data_in_leaf': 159, 'reg_lambda': 17.582557223232413, 'subsample': 0.5684173448249134}. Best is trial 0 with value: 0.7097346055236204.\u001b[0m\n"
     ]
    },
    {
     "name": "stdout",
     "output_type": "stream",
     "text": [
      "Stopped by overfitting detector  (200 iterations wait)\n",
      "\n",
      "bestTest = 0.7100586244\n",
      "bestIteration = 2272\n",
      "\n",
      "Shrink model to first 2273 iterations.\n",
      "0:\tlearn: 0.5920595\ttest: 0.7379413\tbest: 0.7379413 (0)\ttotal: 26.7ms\tremaining: 8m 54s\n",
      "1000:\tlearn: 0.5524899\ttest: 0.7104686\tbest: 0.7104686 (1000)\ttotal: 27.2s\tremaining: 8m 35s\n",
      "2000:\tlearn: 0.5475062\ttest: 0.7101511\tbest: 0.7101009 (1944)\ttotal: 53.8s\tremaining: 8m 3s\n",
      "Stopped by overfitting detector  (200 iterations wait)\n",
      "\n",
      "bestTest = 0.710100875\n",
      "bestIteration = 1944\n",
      "\n",
      "Shrink model to first 1945 iterations.\n",
      "0:\tlearn: 0.5920696\ttest: 0.7379102\tbest: 0.7379102 (0)\ttotal: 30.8ms\tremaining: 10m 15s\n",
      "1000:\tlearn: 0.5526077\ttest: 0.7105724\tbest: 0.7105681 (998)\ttotal: 27s\tremaining: 8m 32s\n"
     ]
    },
    {
     "name": "stderr",
     "output_type": "stream",
     "text": [
      "\u001b[32m[I 2021-08-26 02:33:37,914]\u001b[0m Trial 15 finished with value: 0.7099049929923059 and parameters: {'bootstrap_type': 'MVS', 'max_depth': 3, 'learning_rate': 0.2546533853861169, 'max_bin': 906, 'min_data_in_leaf': 162, 'reg_lambda': 17.39538062412973, 'subsample': 0.5652176343221068}. Best is trial 0 with value: 0.7097346055236204.\u001b[0m\n"
     ]
    },
    {
     "name": "stdout",
     "output_type": "stream",
     "text": [
      "Stopped by overfitting detector  (200 iterations wait)\n",
      "\n",
      "bestTest = 0.7102575432\n",
      "bestIteration = 1590\n",
      "\n",
      "Shrink model to first 1591 iterations.\n",
      "0:\tlearn: 0.5925172\ttest: 0.7382552\tbest: 0.7382552 (0)\ttotal: 24.2ms\tremaining: 8m 3s\n",
      "1000:\tlearn: 0.5556725\ttest: 0.7112320\tbest: 0.7112320 (1000)\ttotal: 23.4s\tremaining: 7m 23s\n",
      "2000:\tlearn: 0.5521246\ttest: 0.7101036\tbest: 0.7100793 (1826)\ttotal: 46.7s\tremaining: 6m 59s\n",
      "Stopped by overfitting detector  (200 iterations wait)\n",
      "\n",
      "bestTest = 0.710079271\n",
      "bestIteration = 1826\n",
      "\n",
      "Shrink model to first 1827 iterations.\n",
      "0:\tlearn: 0.5925302\ttest: 0.7382606\tbest: 0.7382606 (0)\ttotal: 24.5ms\tremaining: 8m 10s\n",
      "1000:\tlearn: 0.5558271\ttest: 0.7113221\tbest: 0.7113219 (998)\ttotal: 23.4s\tremaining: 7m 24s\n",
      "2000:\tlearn: 0.5522328\ttest: 0.7102468\tbest: 0.7102427 (1983)\ttotal: 46.4s\tremaining: 6m 57s\n",
      "3000:\tlearn: 0.5502279\ttest: 0.7100724\tbest: 0.7100545 (2960)\ttotal: 1m 9s\tremaining: 6m 36s\n"
     ]
    },
    {
     "name": "stderr",
     "output_type": "stream",
     "text": [
      "\u001b[32m[I 2021-08-26 02:35:41,554]\u001b[0m Trial 16 finished with value: 0.7098543968319412 and parameters: {'bootstrap_type': 'MVS', 'max_depth': 2, 'learning_rate': 0.28234990250070974, 'max_bin': 900, 'min_data_in_leaf': 160, 'reg_lambda': 17.783523031151887, 'subsample': 0.5711467652673771}. Best is trial 0 with value: 0.7097346055236204.\u001b[0m\n"
     ]
    },
    {
     "name": "stdout",
     "output_type": "stream",
     "text": [
      "Stopped by overfitting detector  (200 iterations wait)\n",
      "\n",
      "bestTest = 0.7100545413\n",
      "bestIteration = 2960\n",
      "\n",
      "Shrink model to first 2961 iterations.\n",
      "0:\tlearn: 0.5926067\ttest: 0.7383624\tbest: 0.7383624 (0)\ttotal: 23.7ms\tremaining: 7m 54s\n",
      "1000:\tlearn: 0.5561987\ttest: 0.7115865\tbest: 0.7115823 (998)\ttotal: 23.3s\tremaining: 7m 22s\n",
      "2000:\tlearn: 0.5525253\ttest: 0.7102360\tbest: 0.7102343 (1991)\ttotal: 46.7s\tremaining: 7m\n",
      "3000:\tlearn: 0.5505069\ttest: 0.7099449\tbest: 0.7099421 (2994)\ttotal: 1m 9s\tremaining: 6m 34s\n",
      "Stopped by overfitting detector  (200 iterations wait)\n",
      "\n",
      "bestTest = 0.7099304111\n",
      "bestIteration = 3010\n",
      "\n",
      "Shrink model to first 3011 iterations.\n",
      "0:\tlearn: 0.5926411\ttest: 0.7383687\tbest: 0.7383687 (0)\ttotal: 24ms\tremaining: 7m 59s\n",
      "1000:\tlearn: 0.5562174\ttest: 0.7115455\tbest: 0.7115414 (995)\ttotal: 23s\tremaining: 7m 16s\n",
      "2000:\tlearn: 0.5525426\ttest: 0.7102137\tbest: 0.7101999 (1987)\ttotal: 46.3s\tremaining: 6m 56s\n"
     ]
    },
    {
     "name": "stderr",
     "output_type": "stream",
     "text": [
      "\u001b[32m[I 2021-08-26 02:38:06,560]\u001b[0m Trial 17 finished with value: 0.7097840206038986 and parameters: {'bootstrap_type': 'MVS', 'max_depth': 2, 'learning_rate': 0.262595019952972, 'max_bin': 893, 'min_data_in_leaf': 160, 'reg_lambda': 18.168927235508995, 'subsample': 0.5676409799395096}. Best is trial 0 with value: 0.7097346055236204.\u001b[0m\n"
     ]
    },
    {
     "name": "stdout",
     "output_type": "stream",
     "text": [
      "Stopped by overfitting detector  (200 iterations wait)\n",
      "\n",
      "bestTest = 0.7099756314\n",
      "bestIteration = 2700\n",
      "\n",
      "Shrink model to first 2701 iterations.\n",
      "0:\tlearn: 0.5927166\ttest: 0.7384580\tbest: 0.7384580 (0)\ttotal: 23.8ms\tremaining: 7m 56s\n",
      "1000:\tlearn: 0.5565319\ttest: 0.7116891\tbest: 0.7116891 (1000)\ttotal: 23.1s\tremaining: 7m 18s\n",
      "2000:\tlearn: 0.5527405\ttest: 0.7100895\tbest: 0.7100825 (1998)\ttotal: 46.7s\tremaining: 7m\n",
      "Stopped by overfitting detector  (200 iterations wait)\n",
      "\n",
      "bestTest = 0.7099682537\n",
      "bestIteration = 2610\n",
      "\n",
      "Shrink model to first 2611 iterations.\n",
      "0:\tlearn: 0.5927155\ttest: 0.7384425\tbest: 0.7384425 (0)\ttotal: 23.9ms\tremaining: 7m 57s\n",
      "1000:\tlearn: 0.5565823\ttest: 0.7117385\tbest: 0.7117275 (997)\ttotal: 23.2s\tremaining: 7m 19s\n",
      "2000:\tlearn: 0.5528519\ttest: 0.7103704\tbest: 0.7103691 (1999)\ttotal: 46.7s\tremaining: 6m 59s\n",
      "3000:\tlearn: 0.5508334\ttest: 0.7100767\tbest: 0.7100767 (3000)\ttotal: 1m 10s\tremaining: 6m 38s\n"
     ]
    },
    {
     "name": "stderr",
     "output_type": "stream",
     "text": [
      "\u001b[32m[I 2021-08-26 02:40:44,439]\u001b[0m Trial 18 finished with value: 0.7097948466691877 and parameters: {'bootstrap_type': 'MVS', 'max_depth': 2, 'learning_rate': 0.24938600556977872, 'max_bin': 910, 'min_data_in_leaf': 162, 'reg_lambda': 17.05396085921546, 'subsample': 0.577235586524838}. Best is trial 0 with value: 0.7097346055236204.\u001b[0m\n"
     ]
    },
    {
     "name": "stdout",
     "output_type": "stream",
     "text": [
      "Stopped by overfitting detector  (200 iterations wait)\n",
      "\n",
      "bestTest = 0.7099814562\n",
      "bestIteration = 3624\n",
      "\n",
      "Shrink model to first 3625 iterations.\n",
      "0:\tlearn: 0.5918016\ttest: 0.7376705\tbest: 0.7376705 (0)\ttotal: 35ms\tremaining: 11m 40s\n",
      "1000:\tlearn: 0.5516995\ttest: 0.7105684\tbest: 0.7105634 (999)\ttotal: 26.6s\tremaining: 8m 24s\n",
      "Stopped by overfitting detector  (200 iterations wait)\n",
      "\n",
      "bestTest = 0.7103556643\n",
      "bestIteration = 1206\n",
      "\n",
      "Shrink model to first 1207 iterations.\n",
      "0:\tlearn: 0.5918074\ttest: 0.7376700\tbest: 0.7376700 (0)\ttotal: 28ms\tremaining: 9m 20s\n",
      "1000:\tlearn: 0.5518170\ttest: 0.7105885\tbest: 0.7105477 (984)\ttotal: 26.6s\tremaining: 8m 24s\n"
     ]
    },
    {
     "name": "stderr",
     "output_type": "stream",
     "text": [
      "\u001b[32m[I 2021-08-26 02:42:00,062]\u001b[0m Trial 19 finished with value: 0.7101587336772851 and parameters: {'bootstrap_type': 'MVS', 'max_depth': 3, 'learning_rate': 0.28835584329631425, 'max_bin': 901, 'min_data_in_leaf': 159, 'reg_lambda': 17.377902580041166, 'subsample': 0.5669009664574702}. Best is trial 0 with value: 0.7097346055236204.\u001b[0m\n"
     ]
    },
    {
     "name": "stdout",
     "output_type": "stream",
     "text": [
      "Stopped by overfitting detector  (200 iterations wait)\n",
      "\n",
      "bestTest = 0.7104774375\n",
      "bestIteration = 1134\n",
      "\n",
      "Shrink model to first 1135 iterations.\n",
      "0:\tlearn: 0.5925913\ttest: 0.7383507\tbest: 0.7383507 (0)\ttotal: 25.8ms\tremaining: 8m 35s\n",
      "1000:\tlearn: 0.5561766\ttest: 0.7114237\tbest: 0.7114051 (992)\ttotal: 23.1s\tremaining: 7m 17s\n",
      "2000:\tlearn: 0.5524439\ttest: 0.7099769\tbest: 0.7099700 (1949)\ttotal: 46.4s\tremaining: 6m 57s\n",
      "Stopped by overfitting detector  (200 iterations wait)\n",
      "\n",
      "bestTest = 0.7097539071\n",
      "bestIteration = 2751\n",
      "\n",
      "Shrink model to first 2752 iterations.\n",
      "0:\tlearn: 0.5926245\ttest: 0.7383449\tbest: 0.7383449 (0)\ttotal: 24ms\tremaining: 8m\n",
      "1000:\tlearn: 0.5562399\ttest: 0.7114100\tbest: 0.7114080 (995)\ttotal: 23.4s\tremaining: 7m 24s\n",
      "2000:\tlearn: 0.5525323\ttest: 0.7101119\tbest: 0.7101056 (1995)\ttotal: 46.6s\tremaining: 6m 58s\n",
      "3000:\tlearn: 0.5505342\ttest: 0.7098500\tbest: 0.7098360 (2961)\ttotal: 1m 9s\tremaining: 6m 35s\n"
     ]
    },
    {
     "name": "stderr",
     "output_type": "stream",
     "text": [
      "\u001b[32m[I 2021-08-26 02:44:31,778]\u001b[0m Trial 20 finished with value: 0.7095854568172137 and parameters: {'bootstrap_type': 'MVS', 'max_depth': 2, 'learning_rate': 0.2658641073071089, 'max_bin': 897, 'min_data_in_leaf': 162, 'reg_lambda': 18.28415615971921, 'subsample': 0.5705244926914805}. Best is trial 20 with value: 0.7095854568172137.\u001b[0m\n"
     ]
    },
    {
     "name": "stdout",
     "output_type": "stream",
     "text": [
      "Stopped by overfitting detector  (200 iterations wait)\n",
      "\n",
      "bestTest = 0.7097808746\n",
      "bestIteration = 3261\n",
      "\n",
      "Shrink model to first 3262 iterations.\n",
      "0:\tlearn: 0.5925954\ttest: 0.7383542\tbest: 0.7383542 (0)\ttotal: 23.6ms\tremaining: 7m 52s\n",
      "1000:\tlearn: 0.5561495\ttest: 0.7115725\tbest: 0.7115713 (998)\ttotal: 23.4s\tremaining: 7m 23s\n",
      "2000:\tlearn: 0.5524006\ttest: 0.7101845\tbest: 0.7101747 (1993)\ttotal: 46.8s\tremaining: 7m\n",
      "Stopped by overfitting detector  (200 iterations wait)\n",
      "\n",
      "bestTest = 0.7098805264\n",
      "bestIteration = 2656\n",
      "\n",
      "Shrink model to first 2657 iterations.\n",
      "0:\tlearn: 0.5926285\ttest: 0.7383485\tbest: 0.7383485 (0)\ttotal: 22.9ms\tremaining: 7m 38s\n",
      "1000:\tlearn: 0.5561481\ttest: 0.7113992\tbest: 0.7113977 (997)\ttotal: 23.3s\tremaining: 7m 21s\n",
      "2000:\tlearn: 0.5525388\ttest: 0.7103515\tbest: 0.7103515 (2000)\ttotal: 46.6s\tremaining: 6m 59s\n"
     ]
    },
    {
     "name": "stderr",
     "output_type": "stream",
     "text": [
      "\u001b[32m[I 2021-08-26 02:46:48,108]\u001b[0m Trial 21 finished with value: 0.7098060387485196 and parameters: {'bootstrap_type': 'MVS', 'max_depth': 2, 'learning_rate': 0.26518628839785435, 'max_bin': 897, 'min_data_in_leaf': 162, 'reg_lambda': 18.48648512272669, 'subsample': 0.5702754675836094}. Best is trial 20 with value: 0.7095854568172137.\u001b[0m\n"
     ]
    },
    {
     "name": "stdout",
     "output_type": "stream",
     "text": [
      "Stopped by overfitting detector  (200 iterations wait)\n",
      "\n",
      "bestTest = 0.7100628649\n",
      "bestIteration = 2649\n",
      "\n",
      "Shrink model to first 2650 iterations.\n",
      "0:\tlearn: 0.5925736\ttest: 0.7383337\tbest: 0.7383337 (0)\ttotal: 23.2ms\tremaining: 7m 43s\n",
      "1000:\tlearn: 0.5561153\ttest: 0.7114627\tbest: 0.7114574 (999)\ttotal: 23.1s\tremaining: 7m 17s\n",
      "2000:\tlearn: 0.5524124\ttest: 0.7101543\tbest: 0.7101543 (2000)\ttotal: 46.5s\tremaining: 6m 58s\n",
      "Stopped by overfitting detector  (200 iterations wait)\n",
      "\n",
      "bestTest = 0.7100927426\n",
      "bestIteration = 2220\n",
      "\n",
      "Shrink model to first 2221 iterations.\n",
      "0:\tlearn: 0.5926110\ttest: 0.7383406\tbest: 0.7383406 (0)\ttotal: 30.5ms\tremaining: 10m 9s\n",
      "1000:\tlearn: 0.5561234\ttest: 0.7115166\tbest: 0.7115166 (1000)\ttotal: 23.2s\tremaining: 7m 19s\n",
      "2000:\tlearn: 0.5524831\ttest: 0.7102592\tbest: 0.7102590 (1999)\ttotal: 46.5s\tremaining: 6m 58s\n"
     ]
    },
    {
     "name": "stderr",
     "output_type": "stream",
     "text": [
      "\u001b[32m[I 2021-08-26 02:48:43,933]\u001b[0m Trial 22 finished with value: 0.7099630572774469 and parameters: {'bootstrap_type': 'MVS', 'max_depth': 2, 'learning_rate': 0.268079348962522, 'max_bin': 894, 'min_data_in_leaf': 160, 'reg_lambda': 18.85269233170561, 'subsample': 0.5725260106882291}. Best is trial 20 with value: 0.7095854568172137.\u001b[0m\n"
     ]
    },
    {
     "name": "stdout",
     "output_type": "stream",
     "text": [
      "Stopped by overfitting detector  (200 iterations wait)\n",
      "\n",
      "bestTest = 0.7101548561\n",
      "bestIteration = 2252\n",
      "\n",
      "Shrink model to first 2253 iterations.\n",
      "0:\tlearn: 0.5925342\ttest: 0.7383212\tbest: 0.7383212 (0)\ttotal: 23.2ms\tremaining: 7m 44s\n",
      "1000:\tlearn: 0.5557162\ttest: 0.7112885\tbest: 0.7112885 (1000)\ttotal: 23.5s\tremaining: 7m 25s\n",
      "2000:\tlearn: 0.5522006\ttest: 0.7101169\tbest: 0.7101138 (1999)\ttotal: 46.8s\tremaining: 7m\n",
      "Stopped by overfitting detector  (200 iterations wait)\n",
      "\n",
      "bestTest = 0.7099640535\n",
      "bestIteration = 2540\n",
      "\n",
      "Shrink model to first 2541 iterations.\n",
      "0:\tlearn: 0.5925516\ttest: 0.7382889\tbest: 0.7382889 (0)\ttotal: 23ms\tremaining: 7m 40s\n",
      "1000:\tlearn: 0.5558544\ttest: 0.7113294\tbest: 0.7113294 (1000)\ttotal: 23.5s\tremaining: 7m 26s\n",
      "2000:\tlearn: 0.5522954\ttest: 0.7101504\tbest: 0.7101487 (1989)\ttotal: 46.8s\tremaining: 7m\n",
      "3000:\tlearn: 0.5502777\ttest: 0.7099223\tbest: 0.7099144 (2964)\ttotal: 1m 10s\tremaining: 6m 36s\n"
     ]
    },
    {
     "name": "stderr",
     "output_type": "stream",
     "text": [
      "\u001b[32m[I 2021-08-26 02:51:09,830]\u001b[0m Trial 23 finished with value: 0.7097264177607255 and parameters: {'bootstrap_type': 'MVS', 'max_depth': 2, 'learning_rate': 0.27822656712458804, 'max_bin': 905, 'min_data_in_leaf': 163, 'reg_lambda': 18.294695378307246, 'subsample': 0.5693794464800087}. Best is trial 20 with value: 0.7095854568172137.\u001b[0m\n"
     ]
    },
    {
     "name": "stdout",
     "output_type": "stream",
     "text": [
      "Stopped by overfitting detector  (200 iterations wait)\n",
      "\n",
      "bestTest = 0.7098662226\n",
      "bestIteration = 3209\n",
      "\n",
      "Shrink model to first 3210 iterations.\n",
      "0:\tlearn: 0.5925255\ttest: 0.7383138\tbest: 0.7383138 (0)\ttotal: 22.3ms\tremaining: 7m 26s\n",
      "1000:\tlearn: 0.5557355\ttest: 0.7113673\tbest: 0.7113645 (998)\ttotal: 23.4s\tremaining: 7m 23s\n",
      "2000:\tlearn: 0.5521452\ttest: 0.7101693\tbest: 0.7101534 (1980)\ttotal: 46.3s\tremaining: 6m 56s\n",
      "3000:\tlearn: 0.5501246\ttest: 0.7099143\tbest: 0.7098926 (2942)\ttotal: 1m 9s\tremaining: 6m 34s\n",
      "Stopped by overfitting detector  (200 iterations wait)\n",
      "\n",
      "bestTest = 0.7098772752\n",
      "bestIteration = 3025\n",
      "\n",
      "Shrink model to first 3026 iterations.\n",
      "0:\tlearn: 0.5925430\ttest: 0.7382813\tbest: 0.7382813 (0)\ttotal: 23.4ms\tremaining: 7m 48s\n",
      "1000:\tlearn: 0.5558655\ttest: 0.7113333\tbest: 0.7113264 (998)\ttotal: 23.4s\tremaining: 7m 23s\n",
      "2000:\tlearn: 0.5522418\ttest: 0.7101334\tbest: 0.7101283 (1996)\ttotal: 47s\tremaining: 7m 2s\n",
      "3000:\tlearn: 0.5502546\ttest: 0.7099896\tbest: 0.7099830 (2993)\ttotal: 1m 9s\tremaining: 6m 36s\n"
     ]
    },
    {
     "name": "stderr",
     "output_type": "stream",
     "text": [
      "\u001b[32m[I 2021-08-26 02:53:42,249]\u001b[0m Trial 24 finished with value: 0.7097472168204259 and parameters: {'bootstrap_type': 'MVS', 'max_depth': 2, 'learning_rate': 0.2797044280643726, 'max_bin': 905, 'min_data_in_leaf': 163, 'reg_lambda': 18.333111388032425, 'subsample': 0.5693500319900827}. Best is trial 20 with value: 0.7095854568172137.\u001b[0m\n"
     ]
    },
    {
     "name": "stdout",
     "output_type": "stream",
     "text": [
      "Stopped by overfitting detector  (200 iterations wait)\n",
      "\n",
      "bestTest = 0.7099830362\n",
      "bestIteration = 2993\n",
      "\n",
      "Shrink model to first 2994 iterations.\n",
      "0:\tlearn: 0.5924985\ttest: 0.7382697\tbest: 0.7382697 (0)\ttotal: 22.4ms\tremaining: 7m 27s\n",
      "1000:\tlearn: 0.5555140\ttest: 0.7112744\tbest: 0.7112744 (1000)\ttotal: 23s\tremaining: 7m 16s\n",
      "2000:\tlearn: 0.5519777\ttest: 0.7099979\tbest: 0.7099941 (1960)\ttotal: 46.3s\tremaining: 6m 56s\n",
      "Stopped by overfitting detector  (200 iterations wait)\n",
      "\n",
      "bestTest = 0.7099669093\n",
      "bestIteration = 2040\n",
      "\n",
      "Shrink model to first 2041 iterations.\n",
      "0:\tlearn: 0.5925029\ttest: 0.7382497\tbest: 0.7382497 (0)\ttotal: 23.7ms\tremaining: 7m 54s\n",
      "1000:\tlearn: 0.5557415\ttest: 0.7112574\tbest: 0.7112558 (998)\ttotal: 23.6s\tremaining: 7m 27s\n",
      "2000:\tlearn: 0.5521508\ttest: 0.7101859\tbest: 0.7101853 (1999)\ttotal: 47s\tremaining: 7m 2s\n"
     ]
    },
    {
     "name": "stderr",
     "output_type": "stream",
     "text": [
      "\u001b[32m[I 2021-08-26 02:55:33,887]\u001b[0m Trial 25 finished with value: 0.70986896685925 and parameters: {'bootstrap_type': 'MVS', 'max_depth': 2, 'learning_rate': 0.2861707767892435, 'max_bin': 908, 'min_data_in_leaf': 164, 'reg_lambda': 18.61514587143498, 'subsample': 0.571695057228319}. Best is trial 20 with value: 0.7095854568172137.\u001b[0m\n"
     ]
    },
    {
     "name": "stdout",
     "output_type": "stream",
     "text": [
      "Stopped by overfitting detector  (200 iterations wait)\n",
      "\n",
      "bestTest = 0.7101124982\n",
      "bestIteration = 2234\n",
      "\n",
      "Shrink model to first 2235 iterations.\n",
      "0:\tlearn: 0.5926582\ttest: 0.7384247\tbest: 0.7384247 (0)\ttotal: 24.6ms\tremaining: 8m 12s\n",
      "1000:\tlearn: 0.5562536\ttest: 0.7115667\tbest: 0.7115667 (1000)\ttotal: 23.4s\tremaining: 7m 23s\n",
      "2000:\tlearn: 0.5526165\ttest: 0.7101459\tbest: 0.7101355 (1981)\ttotal: 46.4s\tremaining: 6m 56s\n",
      "Stopped by overfitting detector  (200 iterations wait)\n",
      "\n",
      "bestTest = 0.7098632787\n",
      "bestIteration = 2798\n",
      "\n",
      "Shrink model to first 2799 iterations.\n",
      "0:\tlearn: 0.5926769\ttest: 0.7383907\tbest: 0.7383907 (0)\ttotal: 23.5ms\tremaining: 7m 50s\n",
      "1000:\tlearn: 0.5563247\ttest: 0.7114741\tbest: 0.7114741 (1000)\ttotal: 23.3s\tremaining: 7m 23s\n",
      "2000:\tlearn: 0.5527031\ttest: 0.7103144\tbest: 0.7103053 (1979)\ttotal: 46.8s\tremaining: 7m\n"
     ]
    },
    {
     "name": "stderr",
     "output_type": "stream",
     "text": [
      "\u001b[32m[I 2021-08-26 02:57:41,915]\u001b[0m Trial 26 finished with value: 0.7098868964910892 and parameters: {'bootstrap_type': 'MVS', 'max_depth': 2, 'learning_rate': 0.2572711248405927, 'max_bin': 903, 'min_data_in_leaf': 165, 'reg_lambda': 18.18538823881844, 'subsample': 0.576476494380736}. Best is trial 20 with value: 0.7095854568172137.\u001b[0m\n"
     ]
    },
    {
     "name": "stdout",
     "output_type": "stream",
     "text": [
      "Stopped by overfitting detector  (200 iterations wait)\n",
      "\n",
      "bestTest = 0.7102565519\n",
      "bestIteration = 2181\n",
      "\n",
      "Shrink model to first 2182 iterations.\n",
      "0:\tlearn: 0.5925966\ttest: 0.7383545\tbest: 0.7383545 (0)\ttotal: 22.9ms\tremaining: 7m 38s\n",
      "1000:\tlearn: 0.5560829\ttest: 0.7114539\tbest: 0.7114539 (1000)\ttotal: 23.4s\tremaining: 7m 24s\n",
      "2000:\tlearn: 0.5524290\ttest: 0.7101529\tbest: 0.7101401 (1985)\ttotal: 46.5s\tremaining: 6m 58s\n",
      "Stopped by overfitting detector  (200 iterations wait)\n",
      "\n",
      "bestTest = 0.7099448422\n",
      "bestIteration = 2505\n",
      "\n",
      "Shrink model to first 2506 iterations.\n",
      "0:\tlearn: 0.5925954\ttest: 0.7383377\tbest: 0.7383377 (0)\ttotal: 22.2ms\tremaining: 7m 23s\n",
      "1000:\tlearn: 0.5560538\ttest: 0.7115102\tbest: 0.7115102 (1000)\ttotal: 23.4s\tremaining: 7m 24s\n",
      "2000:\tlearn: 0.5524318\ttest: 0.7102995\tbest: 0.7102943 (1976)\ttotal: 46.4s\tremaining: 6m 56s\n"
     ]
    },
    {
     "name": "stderr",
     "output_type": "stream",
     "text": [
      "\u001b[32m[I 2021-08-26 02:59:49,873]\u001b[0m Trial 27 finished with value: 0.7098258407491403 and parameters: {'bootstrap_type': 'MVS', 'max_depth': 2, 'learning_rate': 0.26939890068103783, 'max_bin': 910, 'min_data_in_leaf': 163, 'reg_lambda': 18.265602255129522, 'subsample': 0.5737589523070648}. Best is trial 20 with value: 0.7095854568172137.\u001b[0m\n"
     ]
    },
    {
     "name": "stdout",
     "output_type": "stream",
     "text": [
      "Stopped by overfitting detector  (200 iterations wait)\n",
      "\n",
      "bestTest = 0.7100469644\n",
      "bestIteration = 2468\n",
      "\n",
      "Shrink model to first 2469 iterations.\n",
      "0:\tlearn: 0.5924615\ttest: 0.7382059\tbest: 0.7382059 (0)\ttotal: 22.7ms\tremaining: 7m 34s\n",
      "1000:\tlearn: 0.5555082\ttest: 0.7111286\tbest: 0.7111247 (999)\ttotal: 23.4s\tremaining: 7m 23s\n",
      "2000:\tlearn: 0.5519719\ttest: 0.7100792\tbest: 0.7100726 (1968)\ttotal: 46.4s\tremaining: 6m 57s\n",
      "Stopped by overfitting detector  (200 iterations wait)\n",
      "\n",
      "bestTest = 0.7099059578\n",
      "bestIteration = 2279\n",
      "\n",
      "Shrink model to first 2280 iterations.\n",
      "0:\tlearn: 0.5924749\ttest: 0.7382115\tbest: 0.7382115 (0)\ttotal: 23.2ms\tremaining: 7m 43s\n",
      "1000:\tlearn: 0.5556167\ttest: 0.7111401\tbest: 0.7111354 (997)\ttotal: 23.1s\tremaining: 7m 18s\n",
      "2000:\tlearn: 0.5520674\ttest: 0.7100975\tbest: 0.7100956 (1906)\ttotal: 46.6s\tremaining: 6m 59s\n"
     ]
    },
    {
     "name": "stderr",
     "output_type": "stream",
     "text": [
      "\u001b[32m[I 2021-08-26 03:01:58,926]\u001b[0m Trial 28 finished with value: 0.7097096508212319 and parameters: {'bootstrap_type': 'MVS', 'max_depth': 2, 'learning_rate': 0.2919789248977589, 'max_bin': 900, 'min_data_in_leaf': 162, 'reg_lambda': 18.494624466128073, 'subsample': 0.5666411344995719}. Best is trial 20 with value: 0.7095854568172137.\u001b[0m\n"
     ]
    },
    {
     "name": "stdout",
     "output_type": "stream",
     "text": [
      "Stopped by overfitting detector  (200 iterations wait)\n",
      "\n",
      "bestTest = 0.7098847492\n",
      "bestIteration = 2726\n",
      "\n",
      "Shrink model to first 2727 iterations.\n",
      "0:\tlearn: 0.5925190\ttest: 0.7382567\tbest: 0.7382567 (0)\ttotal: 23.7ms\tremaining: 7m 54s\n",
      "1000:\tlearn: 0.5557534\ttest: 0.7112698\tbest: 0.7112698 (1000)\ttotal: 23.1s\tremaining: 7m 18s\n",
      "2000:\tlearn: 0.5521664\ttest: 0.7101312\tbest: 0.7101254 (1927)\ttotal: 46.6s\tremaining: 6m 58s\n",
      "Stopped by overfitting detector  (200 iterations wait)\n",
      "\n",
      "bestTest = 0.7098550246\n",
      "bestIteration = 2634\n",
      "\n",
      "Shrink model to first 2635 iterations.\n",
      "0:\tlearn: 0.5925320\ttest: 0.7382622\tbest: 0.7382622 (0)\ttotal: 23.1ms\tremaining: 7m 42s\n",
      "1000:\tlearn: 0.5558390\ttest: 0.7114255\tbest: 0.7114247 (999)\ttotal: 23s\tremaining: 7m 16s\n",
      "2000:\tlearn: 0.5522729\ttest: 0.7102806\tbest: 0.7102608 (1905)\ttotal: 46.3s\tremaining: 6m 56s\n"
     ]
    },
    {
     "name": "stderr",
     "output_type": "stream",
     "text": [
      "\u001b[32m[I 2021-08-26 03:04:17,664]\u001b[0m Trial 29 finished with value: 0.7097777207029027 and parameters: {'bootstrap_type': 'MVS', 'max_depth': 2, 'learning_rate': 0.28204529486470725, 'max_bin': 900, 'min_data_in_leaf': 162, 'reg_lambda': 18.48831949846108, 'subsample': 0.5665684859386865}. Best is trial 20 with value: 0.7095854568172137.\u001b[0m\n"
     ]
    },
    {
     "name": "stdout",
     "output_type": "stream",
     "text": [
      "Stopped by overfitting detector  (200 iterations wait)\n",
      "\n",
      "bestTest = 0.7100608546\n",
      "bestIteration = 2793\n",
      "\n",
      "Shrink model to first 2794 iterations.\n",
      "Number of finished trials: 30\n",
      "Best trial: {'bootstrap_type': 'MVS', 'max_depth': 2, 'learning_rate': 0.2658641073071089, 'max_bin': 897, 'min_data_in_leaf': 162, 'reg_lambda': 18.28415615971921, 'subsample': 0.5705244926914805}\n"
     ]
    }
   ],
   "source": [
    "study = optuna.create_study(direction='minimize')\n",
    "study.optimize(objective,n_trials= 30)\n",
    "print('Number of finished trials:', len(study.trials))\n",
    "print('Best trial:', study.best_trial.params)"
   ]
  },
  {
   "cell_type": "code",
   "execution_count": 15,
   "id": "ce1406a8",
   "metadata": {
    "execution": {
     "iopub.execute_input": "2021-08-26T03:04:17.897903Z",
     "iopub.status.busy": "2021-08-26T03:04:17.897232Z",
     "iopub.status.idle": "2021-08-26T03:04:17.901697Z",
     "shell.execute_reply": "2021-08-26T03:04:17.901079Z"
    },
    "papermill": {
     "duration": 0.115715,
     "end_time": "2021-08-26T03:04:17.901839",
     "exception": false,
     "start_time": "2021-08-26T03:04:17.786124",
     "status": "completed"
    },
    "tags": []
   },
   "outputs": [
    {
     "data": {
      "text/plain": [
       "{'bootstrap_type': 'MVS',\n",
       " 'max_depth': 2,\n",
       " 'learning_rate': 0.2658641073071089,\n",
       " 'max_bin': 897,\n",
       " 'min_data_in_leaf': 162,\n",
       " 'reg_lambda': 18.28415615971921,\n",
       " 'subsample': 0.5705244926914805}"
      ]
     },
     "execution_count": 15,
     "metadata": {},
     "output_type": "execute_result"
    }
   ],
   "source": [
    "study.best_params"
   ]
  },
  {
   "cell_type": "markdown",
   "id": "edb2f1b1",
   "metadata": {
    "papermill": {
     "duration": 0.111062,
     "end_time": "2021-08-26T03:04:18.124373",
     "exception": false,
     "start_time": "2021-08-26T03:04:18.013311",
     "status": "completed"
    },
    "tags": []
   },
   "source": [
    "# Log\n",
    "\n",
    "====== Ordinal encoding =========\n",
    "\n",
    "0.7104169071824754 no noise ver3\n",
    "\n",
    "0.7100365351403024 no noise ver6 (narrow space)\n",
    "\n",
    "0.7099791926764689 no noise ver7 (narrow space)\n",
    "\n",
    "0.7099021667949135 no noise ver8 (narrow space)\n",
    "\n",
    "0.7098886176837581 no noise ver10 (narrow space)\n",
    "\n",
    "0.7098848674925469 no noise ver11 (narrow space) final\n",
    "\n",
    "0.7146235117715432 random noise ver4\n",
    "\n",
    "0.7139039381188639 row-wise noise ver5\n",
    "\n",
    " ====== One-hot encoding =========\n",
    " \n",
    "0.7104321496790325 no noise ver2\n",
    " \n",
    " ========================================== \n",
    " =========== Changed pseudo ===============\n",
    "\n",
    "====== Ordinal encoding =========\n",
    "\n",
    "0.7099758299240976 no noise ver14\n",
    "\n",
    "0.7099757677030406 no noise ver15 (narrow space)\n",
    "\n",
    "0.7097344112879561 no noise ver16 (narrow space)\n",
    " \n",
    "0.7097006154877742 no noise ver17 (narrow space)\n",
    " \n",
    "0.709608093816904 no noise ver18 (narrow space)\n",
    " "
   ]
  }
 ],
 "metadata": {
  "kernelspec": {
   "display_name": "Python 3",
   "language": "python",
   "name": "python3"
  },
  "language_info": {
   "codemirror_mode": {
    "name": "ipython",
    "version": 3
   },
   "file_extension": ".py",
   "mimetype": "text/x-python",
   "name": "python",
   "nbconvert_exporter": "python",
   "pygments_lexer": "ipython3",
   "version": "3.7.10"
  },
  "papermill": {
   "default_parameters": {},
   "duration": 3991.080616,
   "end_time": "2021-08-26T03:04:19.945931",
   "environment_variables": {},
   "exception": null,
   "input_path": "__notebook__.ipynb",
   "output_path": "__notebook__.ipynb",
   "parameters": {},
   "start_time": "2021-08-26T01:57:48.865315",
   "version": "2.3.3"
  }
 },
 "nbformat": 4,
 "nbformat_minor": 5
}
