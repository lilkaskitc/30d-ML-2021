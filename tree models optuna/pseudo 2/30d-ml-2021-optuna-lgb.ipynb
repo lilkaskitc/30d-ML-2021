{
 "cells": [
  {
   "cell_type": "code",
   "execution_count": 1,
   "id": "c2adfd13",
   "metadata": {
    "_cell_guid": "b1076dfc-b9ad-4769-8c92-a6c4dae69d19",
    "_uuid": "8f2839f25d086af736a60e9eeb907d3b93b6e0e5",
    "execution": {
     "iopub.execute_input": "2021-08-24T00:01:15.432181Z",
     "iopub.status.busy": "2021-08-24T00:01:15.431289Z",
     "iopub.status.idle": "2021-08-24T00:01:17.676681Z",
     "shell.execute_reply": "2021-08-24T00:01:17.675787Z",
     "shell.execute_reply.started": "2021-08-23T07:12:08.184049Z"
    },
    "papermill": {
     "duration": 2.277803,
     "end_time": "2021-08-24T00:01:17.676914",
     "exception": false,
     "start_time": "2021-08-24T00:01:15.399111",
     "status": "completed"
    },
    "tags": []
   },
   "outputs": [
    {
     "data": {
      "text/html": [
       "<style type='text/css'>\n",
       ".datatable table.frame { margin-bottom: 0; }\n",
       ".datatable table.frame thead { border-bottom: none; }\n",
       ".datatable table.frame tr.coltypes td {  color: #FFFFFF;  line-height: 6px;  padding: 0 0.5em;}\n",
       ".datatable .bool    { background: #DDDD99; }\n",
       ".datatable .object  { background: #565656; }\n",
       ".datatable .int     { background: #5D9E5D; }\n",
       ".datatable .float   { background: #4040CC; }\n",
       ".datatable .str     { background: #CC4040; }\n",
       ".datatable .time    { background: #40CC40; }\n",
       ".datatable .row_index {  background: var(--jp-border-color3);  border-right: 1px solid var(--jp-border-color0);  color: var(--jp-ui-font-color3);  font-size: 9px;}\n",
       ".datatable .frame tbody td { text-align: left; }\n",
       ".datatable .frame tr.coltypes .row_index {  background: var(--jp-border-color0);}\n",
       ".datatable th:nth-child(2) { padding-left: 12px; }\n",
       ".datatable .hellipsis {  color: var(--jp-cell-editor-border-color);}\n",
       ".datatable .vellipsis {  background: var(--jp-layout-color0);  color: var(--jp-cell-editor-border-color);}\n",
       ".datatable .na {  color: var(--jp-cell-editor-border-color);  font-size: 80%;}\n",
       ".datatable .sp {  opacity: 0.25;}\n",
       ".datatable .footer { font-size: 9px; }\n",
       ".datatable .frame_dimensions {  background: var(--jp-border-color3);  border-top: 1px solid var(--jp-border-color0);  color: var(--jp-ui-font-color3);  display: inline-block;  opacity: 0.6;  padding: 1px 10px 1px 5px;}\n",
       "</style>\n"
      ],
      "text/plain": [
       "<IPython.core.display.HTML object>"
      ]
     },
     "metadata": {},
     "output_type": "display_data"
    }
   ],
   "source": [
    "# Familiar imports\n",
    "import numpy as np\n",
    "import pandas as pd\n",
    "import random\n",
    "import os\n",
    "import time\n",
    "from pathlib import Path\n",
    "\n",
    "from sklearn.preprocessing import StandardScaler\n",
    "from sklearn.model_selection import KFold, train_test_split\n",
    "from sklearn.metrics import mean_squared_error\n",
    "from sklearn.preprocessing import OrdinalEncoder, OneHotEncoder\n",
    "\n",
    "import lightgbm as lgb\n",
    "#import xgboost as xgb\n",
    "#import catboost as ctb\n",
    "\n",
    "import warnings\n",
    "warnings.simplefilter('ignore')"
   ]
  },
  {
   "cell_type": "markdown",
   "id": "3977c132",
   "metadata": {
    "papermill": {
     "duration": 0.015551,
     "end_time": "2021-08-24T00:01:17.710224",
     "exception": false,
     "start_time": "2021-08-24T00:01:17.694673",
     "status": "completed"
    },
    "tags": []
   },
   "source": [
    "# Parameters"
   ]
  },
  {
   "cell_type": "code",
   "execution_count": 2,
   "id": "3d926f43",
   "metadata": {
    "execution": {
     "iopub.execute_input": "2021-08-24T00:01:17.749100Z",
     "iopub.status.busy": "2021-08-24T00:01:17.748256Z",
     "iopub.status.idle": "2021-08-24T00:01:17.751507Z",
     "shell.execute_reply": "2021-08-24T00:01:17.750995Z",
     "shell.execute_reply.started": "2021-08-23T07:12:10.59291Z"
    },
    "papermill": {
     "duration": 0.025501,
     "end_time": "2021-08-24T00:01:17.751653",
     "exception": false,
     "start_time": "2021-08-24T00:01:17.726152",
     "status": "completed"
    },
    "tags": []
   },
   "outputs": [],
   "source": [
    "target = 'target'\n",
    "\n",
    "DEBUG = False\n",
    "\n",
    "if DEBUG:\n",
    "    N_ESTIMATORS = 1\n",
    "    N_SPLITS = 2\n",
    "    SEED = 17\n",
    "    CVSEED = 17\n",
    "    EARLY_STOPPING_ROUNDS = 1\n",
    "    VERBOSE = 100\n",
    "    #N_ITERS = 2\n",
    "else:\n",
    "    N_SPLITS = 10\n",
    "    N_ESTIMATORS = 20000\n",
    "    EARLY_STOPPING_ROUNDS = 200\n",
    "    VERBOSE = 1000\n",
    "    SEED = 17\n",
    "    CVSEED = 17\n",
    "    #N_ITERS = 10"
   ]
  },
  {
   "cell_type": "code",
   "execution_count": 3,
   "id": "d19eb8bb",
   "metadata": {
    "execution": {
     "iopub.execute_input": "2021-08-24T00:01:17.789319Z",
     "iopub.status.busy": "2021-08-24T00:01:17.788633Z",
     "iopub.status.idle": "2021-08-24T00:01:17.791712Z",
     "shell.execute_reply": "2021-08-24T00:01:17.792244Z",
     "shell.execute_reply.started": "2021-08-23T07:12:10.601916Z"
    },
    "papermill": {
     "duration": 0.024663,
     "end_time": "2021-08-24T00:01:17.792422",
     "exception": false,
     "start_time": "2021-08-24T00:01:17.767759",
     "status": "completed"
    },
    "tags": []
   },
   "outputs": [],
   "source": [
    "def set_seed(seed=17):\n",
    "    random.seed(seed)\n",
    "    os.environ['PYTHONHASHSEED'] = str(seed)\n",
    "    np.random.seed(seed)\n",
    "    \n",
    "set_seed(SEED)"
   ]
  },
  {
   "cell_type": "markdown",
   "id": "0dfed22a",
   "metadata": {
    "papermill": {
     "duration": 0.015689,
     "end_time": "2021-08-24T00:01:17.824103",
     "exception": false,
     "start_time": "2021-08-24T00:01:17.808414",
     "status": "completed"
    },
    "tags": []
   },
   "source": [
    "# Load data"
   ]
  },
  {
   "cell_type": "code",
   "execution_count": 4,
   "id": "f6ed33eb",
   "metadata": {
    "execution": {
     "iopub.execute_input": "2021-08-24T00:01:17.861702Z",
     "iopub.status.busy": "2021-08-24T00:01:17.860869Z",
     "iopub.status.idle": "2021-08-24T00:01:22.263300Z",
     "shell.execute_reply": "2021-08-24T00:01:22.262642Z",
     "shell.execute_reply.started": "2021-08-23T07:12:10.617539Z"
    },
    "papermill": {
     "duration": 4.42341,
     "end_time": "2021-08-24T00:01:22.263452",
     "exception": false,
     "start_time": "2021-08-24T00:01:17.840042",
     "status": "completed"
    },
    "tags": []
   },
   "outputs": [
    {
     "data": {
      "text/html": [
       "<div>\n",
       "<style scoped>\n",
       "    .dataframe tbody tr th:only-of-type {\n",
       "        vertical-align: middle;\n",
       "    }\n",
       "\n",
       "    .dataframe tbody tr th {\n",
       "        vertical-align: top;\n",
       "    }\n",
       "\n",
       "    .dataframe thead th {\n",
       "        text-align: right;\n",
       "    }\n",
       "</style>\n",
       "<table border=\"1\" class=\"dataframe\">\n",
       "  <thead>\n",
       "    <tr style=\"text-align: right;\">\n",
       "      <th></th>\n",
       "      <th>id</th>\n",
       "      <th>cat0</th>\n",
       "      <th>cat1</th>\n",
       "      <th>cat2</th>\n",
       "      <th>cat3</th>\n",
       "      <th>cat4</th>\n",
       "      <th>cat5</th>\n",
       "      <th>cat6</th>\n",
       "      <th>cat7</th>\n",
       "      <th>cat8</th>\n",
       "      <th>...</th>\n",
       "      <th>cont5</th>\n",
       "      <th>cont6</th>\n",
       "      <th>cont7</th>\n",
       "      <th>cont8</th>\n",
       "      <th>cont9</th>\n",
       "      <th>cont10</th>\n",
       "      <th>cont11</th>\n",
       "      <th>cont12</th>\n",
       "      <th>cont13</th>\n",
       "      <th>target</th>\n",
       "    </tr>\n",
       "  </thead>\n",
       "  <tbody>\n",
       "    <tr>\n",
       "      <th>0</th>\n",
       "      <td>1</td>\n",
       "      <td>B</td>\n",
       "      <td>B</td>\n",
       "      <td>B</td>\n",
       "      <td>C</td>\n",
       "      <td>B</td>\n",
       "      <td>B</td>\n",
       "      <td>A</td>\n",
       "      <td>E</td>\n",
       "      <td>C</td>\n",
       "      <td>...</td>\n",
       "      <td>0.400361</td>\n",
       "      <td>0.160266</td>\n",
       "      <td>0.310921</td>\n",
       "      <td>0.389470</td>\n",
       "      <td>0.267559</td>\n",
       "      <td>0.237281</td>\n",
       "      <td>0.377873</td>\n",
       "      <td>0.322401</td>\n",
       "      <td>0.869850</td>\n",
       "      <td>8.113634</td>\n",
       "    </tr>\n",
       "    <tr>\n",
       "      <th>1</th>\n",
       "      <td>2</td>\n",
       "      <td>B</td>\n",
       "      <td>B</td>\n",
       "      <td>A</td>\n",
       "      <td>A</td>\n",
       "      <td>B</td>\n",
       "      <td>D</td>\n",
       "      <td>A</td>\n",
       "      <td>F</td>\n",
       "      <td>A</td>\n",
       "      <td>...</td>\n",
       "      <td>0.533087</td>\n",
       "      <td>0.558922</td>\n",
       "      <td>0.516294</td>\n",
       "      <td>0.594928</td>\n",
       "      <td>0.341439</td>\n",
       "      <td>0.906013</td>\n",
       "      <td>0.921701</td>\n",
       "      <td>0.261975</td>\n",
       "      <td>0.465083</td>\n",
       "      <td>8.481233</td>\n",
       "    </tr>\n",
       "    <tr>\n",
       "      <th>2</th>\n",
       "      <td>3</td>\n",
       "      <td>A</td>\n",
       "      <td>A</td>\n",
       "      <td>A</td>\n",
       "      <td>C</td>\n",
       "      <td>B</td>\n",
       "      <td>D</td>\n",
       "      <td>A</td>\n",
       "      <td>D</td>\n",
       "      <td>A</td>\n",
       "      <td>...</td>\n",
       "      <td>0.650609</td>\n",
       "      <td>0.375348</td>\n",
       "      <td>0.902567</td>\n",
       "      <td>0.555205</td>\n",
       "      <td>0.843531</td>\n",
       "      <td>0.748809</td>\n",
       "      <td>0.620126</td>\n",
       "      <td>0.541474</td>\n",
       "      <td>0.763846</td>\n",
       "      <td>8.364351</td>\n",
       "    </tr>\n",
       "    <tr>\n",
       "      <th>3</th>\n",
       "      <td>4</td>\n",
       "      <td>B</td>\n",
       "      <td>B</td>\n",
       "      <td>A</td>\n",
       "      <td>C</td>\n",
       "      <td>B</td>\n",
       "      <td>D</td>\n",
       "      <td>A</td>\n",
       "      <td>E</td>\n",
       "      <td>C</td>\n",
       "      <td>...</td>\n",
       "      <td>0.668980</td>\n",
       "      <td>0.239061</td>\n",
       "      <td>0.732948</td>\n",
       "      <td>0.679618</td>\n",
       "      <td>0.574844</td>\n",
       "      <td>0.346010</td>\n",
       "      <td>0.714610</td>\n",
       "      <td>0.540150</td>\n",
       "      <td>0.280682</td>\n",
       "      <td>8.049253</td>\n",
       "    </tr>\n",
       "    <tr>\n",
       "      <th>4</th>\n",
       "      <td>6</td>\n",
       "      <td>A</td>\n",
       "      <td>A</td>\n",
       "      <td>A</td>\n",
       "      <td>C</td>\n",
       "      <td>B</td>\n",
       "      <td>D</td>\n",
       "      <td>A</td>\n",
       "      <td>E</td>\n",
       "      <td>A</td>\n",
       "      <td>...</td>\n",
       "      <td>0.686964</td>\n",
       "      <td>0.420667</td>\n",
       "      <td>0.648182</td>\n",
       "      <td>0.684501</td>\n",
       "      <td>0.956692</td>\n",
       "      <td>1.000773</td>\n",
       "      <td>0.776742</td>\n",
       "      <td>0.625849</td>\n",
       "      <td>0.250823</td>\n",
       "      <td>7.972260</td>\n",
       "    </tr>\n",
       "  </tbody>\n",
       "</table>\n",
       "<p>5 rows × 26 columns</p>\n",
       "</div>"
      ],
      "text/plain": [
       "   id cat0 cat1 cat2 cat3 cat4 cat5 cat6 cat7 cat8  ...     cont5     cont6  \\\n",
       "0   1    B    B    B    C    B    B    A    E    C  ...  0.400361  0.160266   \n",
       "1   2    B    B    A    A    B    D    A    F    A  ...  0.533087  0.558922   \n",
       "2   3    A    A    A    C    B    D    A    D    A  ...  0.650609  0.375348   \n",
       "3   4    B    B    A    C    B    D    A    E    C  ...  0.668980  0.239061   \n",
       "4   6    A    A    A    C    B    D    A    E    A  ...  0.686964  0.420667   \n",
       "\n",
       "      cont7     cont8     cont9    cont10    cont11    cont12    cont13  \\\n",
       "0  0.310921  0.389470  0.267559  0.237281  0.377873  0.322401  0.869850   \n",
       "1  0.516294  0.594928  0.341439  0.906013  0.921701  0.261975  0.465083   \n",
       "2  0.902567  0.555205  0.843531  0.748809  0.620126  0.541474  0.763846   \n",
       "3  0.732948  0.679618  0.574844  0.346010  0.714610  0.540150  0.280682   \n",
       "4  0.648182  0.684501  0.956692  1.000773  0.776742  0.625849  0.250823   \n",
       "\n",
       "     target  \n",
       "0  8.113634  \n",
       "1  8.481233  \n",
       "2  8.364351  \n",
       "3  8.049253  \n",
       "4  7.972260  \n",
       "\n",
       "[5 rows x 26 columns]"
      ]
     },
     "execution_count": 4,
     "metadata": {},
     "output_type": "execute_result"
    }
   ],
   "source": [
    "# Load the training data\n",
    "train = pd.read_csv(\"../input/30-days-of-ml/train.csv\")\n",
    "test = pd.read_csv(\"../input/30-days-of-ml/test.csv\")\n",
    "\n",
    "# Preview the data\n",
    "train.head()"
   ]
  },
  {
   "cell_type": "code",
   "execution_count": 5,
   "id": "3236ebd7",
   "metadata": {
    "execution": {
     "iopub.execute_input": "2021-08-24T00:01:22.329966Z",
     "iopub.status.busy": "2021-08-24T00:01:22.318472Z",
     "iopub.status.idle": "2021-08-24T00:01:22.372134Z",
     "shell.execute_reply": "2021-08-24T00:01:22.372612Z",
     "shell.execute_reply.started": "2021-08-23T07:12:15.285585Z"
    },
    "papermill": {
     "duration": 0.092727,
     "end_time": "2021-08-24T00:01:22.372826",
     "exception": false,
     "start_time": "2021-08-24T00:01:22.280099",
     "status": "completed"
    },
    "tags": []
   },
   "outputs": [
    {
     "data": {
      "text/html": [
       "<div>\n",
       "<style scoped>\n",
       "    .dataframe tbody tr th:only-of-type {\n",
       "        vertical-align: middle;\n",
       "    }\n",
       "\n",
       "    .dataframe tbody tr th {\n",
       "        vertical-align: top;\n",
       "    }\n",
       "\n",
       "    .dataframe thead th {\n",
       "        text-align: right;\n",
       "    }\n",
       "</style>\n",
       "<table border=\"1\" class=\"dataframe\">\n",
       "  <thead>\n",
       "    <tr style=\"text-align: right;\">\n",
       "      <th></th>\n",
       "      <th>cat0</th>\n",
       "      <th>cat1</th>\n",
       "      <th>cat2</th>\n",
       "      <th>cat3</th>\n",
       "      <th>cat4</th>\n",
       "      <th>cat5</th>\n",
       "      <th>cat6</th>\n",
       "      <th>cat7</th>\n",
       "      <th>cat8</th>\n",
       "      <th>cat9</th>\n",
       "      <th>...</th>\n",
       "      <th>cont4</th>\n",
       "      <th>cont5</th>\n",
       "      <th>cont6</th>\n",
       "      <th>cont7</th>\n",
       "      <th>cont8</th>\n",
       "      <th>cont9</th>\n",
       "      <th>cont10</th>\n",
       "      <th>cont11</th>\n",
       "      <th>cont12</th>\n",
       "      <th>cont13</th>\n",
       "    </tr>\n",
       "  </thead>\n",
       "  <tbody>\n",
       "    <tr>\n",
       "      <th>0</th>\n",
       "      <td>B</td>\n",
       "      <td>B</td>\n",
       "      <td>B</td>\n",
       "      <td>C</td>\n",
       "      <td>B</td>\n",
       "      <td>B</td>\n",
       "      <td>A</td>\n",
       "      <td>E</td>\n",
       "      <td>C</td>\n",
       "      <td>N</td>\n",
       "      <td>...</td>\n",
       "      <td>0.610706</td>\n",
       "      <td>0.400361</td>\n",
       "      <td>0.160266</td>\n",
       "      <td>0.310921</td>\n",
       "      <td>0.389470</td>\n",
       "      <td>0.267559</td>\n",
       "      <td>0.237281</td>\n",
       "      <td>0.377873</td>\n",
       "      <td>0.322401</td>\n",
       "      <td>0.869850</td>\n",
       "    </tr>\n",
       "    <tr>\n",
       "      <th>1</th>\n",
       "      <td>B</td>\n",
       "      <td>B</td>\n",
       "      <td>A</td>\n",
       "      <td>A</td>\n",
       "      <td>B</td>\n",
       "      <td>D</td>\n",
       "      <td>A</td>\n",
       "      <td>F</td>\n",
       "      <td>A</td>\n",
       "      <td>O</td>\n",
       "      <td>...</td>\n",
       "      <td>0.276853</td>\n",
       "      <td>0.533087</td>\n",
       "      <td>0.558922</td>\n",
       "      <td>0.516294</td>\n",
       "      <td>0.594928</td>\n",
       "      <td>0.341439</td>\n",
       "      <td>0.906013</td>\n",
       "      <td>0.921701</td>\n",
       "      <td>0.261975</td>\n",
       "      <td>0.465083</td>\n",
       "    </tr>\n",
       "    <tr>\n",
       "      <th>2</th>\n",
       "      <td>A</td>\n",
       "      <td>A</td>\n",
       "      <td>A</td>\n",
       "      <td>C</td>\n",
       "      <td>B</td>\n",
       "      <td>D</td>\n",
       "      <td>A</td>\n",
       "      <td>D</td>\n",
       "      <td>A</td>\n",
       "      <td>F</td>\n",
       "      <td>...</td>\n",
       "      <td>0.285074</td>\n",
       "      <td>0.650609</td>\n",
       "      <td>0.375348</td>\n",
       "      <td>0.902567</td>\n",
       "      <td>0.555205</td>\n",
       "      <td>0.843531</td>\n",
       "      <td>0.748809</td>\n",
       "      <td>0.620126</td>\n",
       "      <td>0.541474</td>\n",
       "      <td>0.763846</td>\n",
       "    </tr>\n",
       "    <tr>\n",
       "      <th>3</th>\n",
       "      <td>B</td>\n",
       "      <td>B</td>\n",
       "      <td>A</td>\n",
       "      <td>C</td>\n",
       "      <td>B</td>\n",
       "      <td>D</td>\n",
       "      <td>A</td>\n",
       "      <td>E</td>\n",
       "      <td>C</td>\n",
       "      <td>K</td>\n",
       "      <td>...</td>\n",
       "      <td>0.284667</td>\n",
       "      <td>0.668980</td>\n",
       "      <td>0.239061</td>\n",
       "      <td>0.732948</td>\n",
       "      <td>0.679618</td>\n",
       "      <td>0.574844</td>\n",
       "      <td>0.346010</td>\n",
       "      <td>0.714610</td>\n",
       "      <td>0.540150</td>\n",
       "      <td>0.280682</td>\n",
       "    </tr>\n",
       "    <tr>\n",
       "      <th>4</th>\n",
       "      <td>A</td>\n",
       "      <td>A</td>\n",
       "      <td>A</td>\n",
       "      <td>C</td>\n",
       "      <td>B</td>\n",
       "      <td>D</td>\n",
       "      <td>A</td>\n",
       "      <td>E</td>\n",
       "      <td>A</td>\n",
       "      <td>N</td>\n",
       "      <td>...</td>\n",
       "      <td>0.287595</td>\n",
       "      <td>0.686964</td>\n",
       "      <td>0.420667</td>\n",
       "      <td>0.648182</td>\n",
       "      <td>0.684501</td>\n",
       "      <td>0.956692</td>\n",
       "      <td>1.000773</td>\n",
       "      <td>0.776742</td>\n",
       "      <td>0.625849</td>\n",
       "      <td>0.250823</td>\n",
       "    </tr>\n",
       "  </tbody>\n",
       "</table>\n",
       "<p>5 rows × 24 columns</p>\n",
       "</div>"
      ],
      "text/plain": [
       "  cat0 cat1 cat2 cat3 cat4 cat5 cat6 cat7 cat8 cat9  ...     cont4     cont5  \\\n",
       "0    B    B    B    C    B    B    A    E    C    N  ...  0.610706  0.400361   \n",
       "1    B    B    A    A    B    D    A    F    A    O  ...  0.276853  0.533087   \n",
       "2    A    A    A    C    B    D    A    D    A    F  ...  0.285074  0.650609   \n",
       "3    B    B    A    C    B    D    A    E    C    K  ...  0.284667  0.668980   \n",
       "4    A    A    A    C    B    D    A    E    A    N  ...  0.287595  0.686964   \n",
       "\n",
       "      cont6     cont7     cont8     cont9    cont10    cont11    cont12  \\\n",
       "0  0.160266  0.310921  0.389470  0.267559  0.237281  0.377873  0.322401   \n",
       "1  0.558922  0.516294  0.594928  0.341439  0.906013  0.921701  0.261975   \n",
       "2  0.375348  0.902567  0.555205  0.843531  0.748809  0.620126  0.541474   \n",
       "3  0.239061  0.732948  0.679618  0.574844  0.346010  0.714610  0.540150   \n",
       "4  0.420667  0.648182  0.684501  0.956692  1.000773  0.776742  0.625849   \n",
       "\n",
       "     cont13  \n",
       "0  0.869850  \n",
       "1  0.465083  \n",
       "2  0.763846  \n",
       "3  0.280682  \n",
       "4  0.250823  \n",
       "\n",
       "[5 rows x 24 columns]"
      ]
     },
     "execution_count": 5,
     "metadata": {},
     "output_type": "execute_result"
    }
   ],
   "source": [
    "# Separate target from features\n",
    "y = train['target']\n",
    "features = train.drop(['id','target'], axis=1)\n",
    "\n",
    "# Preview features\n",
    "features.head()"
   ]
  },
  {
   "cell_type": "markdown",
   "id": "009488dc",
   "metadata": {
    "papermill": {
     "duration": 0.01695,
     "end_time": "2021-08-24T00:01:22.407045",
     "exception": false,
     "start_time": "2021-08-24T00:01:22.390095",
     "status": "completed"
    },
    "tags": []
   },
   "source": [
    "# Preprocessing"
   ]
  },
  {
   "cell_type": "code",
   "execution_count": 6,
   "id": "c1c1aa61",
   "metadata": {
    "execution": {
     "iopub.execute_input": "2021-08-24T00:01:22.484303Z",
     "iopub.status.busy": "2021-08-24T00:01:22.483581Z",
     "iopub.status.idle": "2021-08-24T00:01:26.618475Z",
     "shell.execute_reply": "2021-08-24T00:01:26.619000Z",
     "shell.execute_reply.started": "2021-08-23T07:12:15.368013Z"
    },
    "papermill": {
     "duration": 4.195055,
     "end_time": "2021-08-24T00:01:26.619174",
     "exception": false,
     "start_time": "2021-08-24T00:01:22.424119",
     "status": "completed"
    },
    "tags": []
   },
   "outputs": [
    {
     "data": {
      "text/html": [
       "<div>\n",
       "<style scoped>\n",
       "    .dataframe tbody tr th:only-of-type {\n",
       "        vertical-align: middle;\n",
       "    }\n",
       "\n",
       "    .dataframe tbody tr th {\n",
       "        vertical-align: top;\n",
       "    }\n",
       "\n",
       "    .dataframe thead th {\n",
       "        text-align: right;\n",
       "    }\n",
       "</style>\n",
       "<table border=\"1\" class=\"dataframe\">\n",
       "  <thead>\n",
       "    <tr style=\"text-align: right;\">\n",
       "      <th></th>\n",
       "      <th>cat0</th>\n",
       "      <th>cat1</th>\n",
       "      <th>cat2</th>\n",
       "      <th>cat3</th>\n",
       "      <th>cat4</th>\n",
       "      <th>cat5</th>\n",
       "      <th>cat6</th>\n",
       "      <th>cat7</th>\n",
       "      <th>cat8</th>\n",
       "      <th>cat9</th>\n",
       "      <th>...</th>\n",
       "      <th>cont4</th>\n",
       "      <th>cont5</th>\n",
       "      <th>cont6</th>\n",
       "      <th>cont7</th>\n",
       "      <th>cont8</th>\n",
       "      <th>cont9</th>\n",
       "      <th>cont10</th>\n",
       "      <th>cont11</th>\n",
       "      <th>cont12</th>\n",
       "      <th>cont13</th>\n",
       "    </tr>\n",
       "  </thead>\n",
       "  <tbody>\n",
       "    <tr>\n",
       "      <th>0</th>\n",
       "      <td>1.0</td>\n",
       "      <td>1.0</td>\n",
       "      <td>1.0</td>\n",
       "      <td>2.0</td>\n",
       "      <td>1.0</td>\n",
       "      <td>1.0</td>\n",
       "      <td>0.0</td>\n",
       "      <td>4.0</td>\n",
       "      <td>2.0</td>\n",
       "      <td>13.0</td>\n",
       "      <td>...</td>\n",
       "      <td>0.610706</td>\n",
       "      <td>0.400361</td>\n",
       "      <td>0.160266</td>\n",
       "      <td>0.310921</td>\n",
       "      <td>0.389470</td>\n",
       "      <td>0.267559</td>\n",
       "      <td>0.237281</td>\n",
       "      <td>0.377873</td>\n",
       "      <td>0.322401</td>\n",
       "      <td>0.869850</td>\n",
       "    </tr>\n",
       "    <tr>\n",
       "      <th>1</th>\n",
       "      <td>1.0</td>\n",
       "      <td>1.0</td>\n",
       "      <td>0.0</td>\n",
       "      <td>0.0</td>\n",
       "      <td>1.0</td>\n",
       "      <td>3.0</td>\n",
       "      <td>0.0</td>\n",
       "      <td>5.0</td>\n",
       "      <td>0.0</td>\n",
       "      <td>14.0</td>\n",
       "      <td>...</td>\n",
       "      <td>0.276853</td>\n",
       "      <td>0.533087</td>\n",
       "      <td>0.558922</td>\n",
       "      <td>0.516294</td>\n",
       "      <td>0.594928</td>\n",
       "      <td>0.341439</td>\n",
       "      <td>0.906013</td>\n",
       "      <td>0.921701</td>\n",
       "      <td>0.261975</td>\n",
       "      <td>0.465083</td>\n",
       "    </tr>\n",
       "    <tr>\n",
       "      <th>2</th>\n",
       "      <td>0.0</td>\n",
       "      <td>0.0</td>\n",
       "      <td>0.0</td>\n",
       "      <td>2.0</td>\n",
       "      <td>1.0</td>\n",
       "      <td>3.0</td>\n",
       "      <td>0.0</td>\n",
       "      <td>3.0</td>\n",
       "      <td>0.0</td>\n",
       "      <td>5.0</td>\n",
       "      <td>...</td>\n",
       "      <td>0.285074</td>\n",
       "      <td>0.650609</td>\n",
       "      <td>0.375348</td>\n",
       "      <td>0.902567</td>\n",
       "      <td>0.555205</td>\n",
       "      <td>0.843531</td>\n",
       "      <td>0.748809</td>\n",
       "      <td>0.620126</td>\n",
       "      <td>0.541474</td>\n",
       "      <td>0.763846</td>\n",
       "    </tr>\n",
       "    <tr>\n",
       "      <th>3</th>\n",
       "      <td>1.0</td>\n",
       "      <td>1.0</td>\n",
       "      <td>0.0</td>\n",
       "      <td>2.0</td>\n",
       "      <td>1.0</td>\n",
       "      <td>3.0</td>\n",
       "      <td>0.0</td>\n",
       "      <td>4.0</td>\n",
       "      <td>2.0</td>\n",
       "      <td>10.0</td>\n",
       "      <td>...</td>\n",
       "      <td>0.284667</td>\n",
       "      <td>0.668980</td>\n",
       "      <td>0.239061</td>\n",
       "      <td>0.732948</td>\n",
       "      <td>0.679618</td>\n",
       "      <td>0.574844</td>\n",
       "      <td>0.346010</td>\n",
       "      <td>0.714610</td>\n",
       "      <td>0.540150</td>\n",
       "      <td>0.280682</td>\n",
       "    </tr>\n",
       "    <tr>\n",
       "      <th>4</th>\n",
       "      <td>0.0</td>\n",
       "      <td>0.0</td>\n",
       "      <td>0.0</td>\n",
       "      <td>2.0</td>\n",
       "      <td>1.0</td>\n",
       "      <td>3.0</td>\n",
       "      <td>0.0</td>\n",
       "      <td>4.0</td>\n",
       "      <td>0.0</td>\n",
       "      <td>13.0</td>\n",
       "      <td>...</td>\n",
       "      <td>0.287595</td>\n",
       "      <td>0.686964</td>\n",
       "      <td>0.420667</td>\n",
       "      <td>0.648182</td>\n",
       "      <td>0.684501</td>\n",
       "      <td>0.956692</td>\n",
       "      <td>1.000773</td>\n",
       "      <td>0.776742</td>\n",
       "      <td>0.625849</td>\n",
       "      <td>0.250823</td>\n",
       "    </tr>\n",
       "  </tbody>\n",
       "</table>\n",
       "<p>5 rows × 24 columns</p>\n",
       "</div>"
      ],
      "text/plain": [
       "   cat0  cat1  cat2  cat3  cat4  cat5  cat6  cat7  cat8  cat9  ...     cont4  \\\n",
       "0   1.0   1.0   1.0   2.0   1.0   1.0   0.0   4.0   2.0  13.0  ...  0.610706   \n",
       "1   1.0   1.0   0.0   0.0   1.0   3.0   0.0   5.0   0.0  14.0  ...  0.276853   \n",
       "2   0.0   0.0   0.0   2.0   1.0   3.0   0.0   3.0   0.0   5.0  ...  0.285074   \n",
       "3   1.0   1.0   0.0   2.0   1.0   3.0   0.0   4.0   2.0  10.0  ...  0.284667   \n",
       "4   0.0   0.0   0.0   2.0   1.0   3.0   0.0   4.0   0.0  13.0  ...  0.287595   \n",
       "\n",
       "      cont5     cont6     cont7     cont8     cont9    cont10    cont11  \\\n",
       "0  0.400361  0.160266  0.310921  0.389470  0.267559  0.237281  0.377873   \n",
       "1  0.533087  0.558922  0.516294  0.594928  0.341439  0.906013  0.921701   \n",
       "2  0.650609  0.375348  0.902567  0.555205  0.843531  0.748809  0.620126   \n",
       "3  0.668980  0.239061  0.732948  0.679618  0.574844  0.346010  0.714610   \n",
       "4  0.686964  0.420667  0.648182  0.684501  0.956692  1.000773  0.776742   \n",
       "\n",
       "     cont12    cont13  \n",
       "0  0.322401  0.869850  \n",
       "1  0.261975  0.465083  \n",
       "2  0.541474  0.763846  \n",
       "3  0.540150  0.280682  \n",
       "4  0.625849  0.250823  \n",
       "\n",
       "[5 rows x 24 columns]"
      ]
     },
     "execution_count": 6,
     "metadata": {},
     "output_type": "execute_result"
    }
   ],
   "source": [
    "\n",
    "# List of categorical columns\n",
    "object_cols = [col for col in features.columns if 'cat' in col]\n",
    "\n",
    "# ordinal-encode categorical columns\n",
    "X = features.copy()\n",
    "X_test = test.drop(['id'], axis=1).copy()\n",
    "ordinal_encoder = OrdinalEncoder()\n",
    "X[object_cols] = ordinal_encoder.fit_transform(features[object_cols])\n",
    "X_test[object_cols] = ordinal_encoder.transform(test[object_cols])\n",
    "\n",
    "# Preview the ordinal-encoded features\n",
    "X.head()\n"
   ]
  },
  {
   "cell_type": "code",
   "execution_count": 7,
   "id": "cde4ea04",
   "metadata": {
    "execution": {
     "iopub.execute_input": "2021-08-24T00:01:26.660587Z",
     "iopub.status.busy": "2021-08-24T00:01:26.659910Z",
     "iopub.status.idle": "2021-08-24T00:01:26.662764Z",
     "shell.execute_reply": "2021-08-24T00:01:26.663342Z",
     "shell.execute_reply.started": "2021-08-23T07:12:19.528169Z"
    },
    "papermill": {
     "duration": 0.026691,
     "end_time": "2021-08-24T00:01:26.663509",
     "exception": false,
     "start_time": "2021-08-24T00:01:26.636818",
     "status": "completed"
    },
    "tags": []
   },
   "outputs": [
    {
     "data": {
      "text/plain": [
       "'\\n# List of categorical columns\\nobject_cols = [col for col in features.columns if \\'cat\\' in col]\\n\\n# one-hot-encode categorical columns\\nX = features.copy()\\nX_test = test.drop([\\'id\\'], axis=1).copy()\\n\\noh_encoder = OneHotEncoder(sparse=False, handle_unknown=\"ignore\")\\nX_ohe = oh_encoder.fit_transform(features[object_cols])\\nX_test_ohe = oh_encoder.transform(test[object_cols])\\n\\nX_ohe = pd.DataFrame(X_ohe, columns=[f\"ohe_{i}\" for i in range(X_ohe.shape[1])])\\nX_test_ohe = pd.DataFrame(X_test_ohe, columns=[f\"ohe_{i}\" for i in range(X_test_ohe.shape[1])])\\n\\nX = pd.concat([X, X_ohe], axis=1)\\nX_test = pd.concat([X_test, X_test_ohe], axis=1)\\nX = X.drop(object_cols, axis=1)\\nX_test = X_test.drop(object_cols, axis=1)\\n    \\n# Preview the one-hot-encoded features\\nX.head()\\n'"
      ]
     },
     "execution_count": 7,
     "metadata": {},
     "output_type": "execute_result"
    }
   ],
   "source": [
    "'''\n",
    "# List of categorical columns\n",
    "object_cols = [col for col in features.columns if 'cat' in col]\n",
    "\n",
    "# one-hot-encode categorical columns\n",
    "X = features.copy()\n",
    "X_test = test.drop(['id'], axis=1).copy()\n",
    "\n",
    "oh_encoder = OneHotEncoder(sparse=False, handle_unknown=\"ignore\")\n",
    "X_ohe = oh_encoder.fit_transform(features[object_cols])\n",
    "X_test_ohe = oh_encoder.transform(test[object_cols])\n",
    "\n",
    "X_ohe = pd.DataFrame(X_ohe, columns=[f\"ohe_{i}\" for i in range(X_ohe.shape[1])])\n",
    "X_test_ohe = pd.DataFrame(X_test_ohe, columns=[f\"ohe_{i}\" for i in range(X_test_ohe.shape[1])])\n",
    "\n",
    "X = pd.concat([X, X_ohe], axis=1)\n",
    "X_test = pd.concat([X_test, X_test_ohe], axis=1)\n",
    "X = X.drop(object_cols, axis=1)\n",
    "X_test = X_test.drop(object_cols, axis=1)\n",
    "    \n",
    "# Preview the one-hot-encoded features\n",
    "X.head()\n",
    "'''"
   ]
  },
  {
   "cell_type": "code",
   "execution_count": 8,
   "id": "ec0707ca",
   "metadata": {
    "execution": {
     "iopub.execute_input": "2021-08-24T00:01:26.702511Z",
     "iopub.status.busy": "2021-08-24T00:01:26.701859Z",
     "iopub.status.idle": "2021-08-24T00:01:28.690740Z",
     "shell.execute_reply": "2021-08-24T00:01:28.690030Z",
     "shell.execute_reply.started": "2021-08-23T07:12:19.537057Z"
    },
    "papermill": {
     "duration": 2.009309,
     "end_time": "2021-08-24T00:01:28.690886",
     "exception": false,
     "start_time": "2021-08-24T00:01:26.681577",
     "status": "completed"
    },
    "tags": []
   },
   "outputs": [],
   "source": [
    "scale_features = [col for col in features.columns if 'cont' in col]\n",
    "\n",
    "ss = StandardScaler()\n",
    "X[scale_features] = ss.fit_transform(features[scale_features])\n",
    "X_test[scale_features] = ss.transform(test[scale_features])"
   ]
  },
  {
   "cell_type": "code",
   "execution_count": 9,
   "id": "8347f440",
   "metadata": {
    "execution": {
     "iopub.execute_input": "2021-08-24T00:01:28.735037Z",
     "iopub.status.busy": "2021-08-24T00:01:28.734213Z",
     "iopub.status.idle": "2021-08-24T00:01:28.737359Z",
     "shell.execute_reply": "2021-08-24T00:01:28.736849Z",
     "shell.execute_reply.started": "2021-08-23T07:12:21.578474Z"
    },
    "papermill": {
     "duration": 0.028621,
     "end_time": "2021-08-24T00:01:28.737505",
     "exception": false,
     "start_time": "2021-08-24T00:01:28.708884",
     "status": "completed"
    },
    "tags": []
   },
   "outputs": [],
   "source": [
    "# Swap noise\n",
    "\n",
    "# Random\n",
    "def apply_noise_rn(df, p=.75):\n",
    "    should_not_swap = np.random.binomial(1, p, df.shape)\n",
    "    corrupted_df = df.where(should_not_swap == 1, np.random.permutation(df))\n",
    "    return corrupted_df\n",
    "\n",
    "# Row-wise\n",
    "def apply_noise_row(df, p=.75):\n",
    "    should_not_swap = np.zeros(df.shape)\n",
    "    for i in range(df.shape[0]):\n",
    "        for j in np.random.choice(df.shape[1],int(p*df.shape[1]),replace=False):\n",
    "            should_not_swap[i,j]=1 \n",
    "    corrupted_df = df.where(should_not_swap == 1, np.random.permutation(df))\n",
    "    return corrupted_df"
   ]
  },
  {
   "cell_type": "markdown",
   "id": "bb06c7a3",
   "metadata": {
    "papermill": {
     "duration": 0.017545,
     "end_time": "2021-08-24T00:01:28.773026",
     "exception": false,
     "start_time": "2021-08-24T00:01:28.755481",
     "status": "completed"
    },
    "tags": []
   },
   "source": [
    "# Pseudo Label"
   ]
  },
  {
   "cell_type": "code",
   "execution_count": 10,
   "id": "d93a7595",
   "metadata": {
    "execution": {
     "iopub.execute_input": "2021-08-24T00:01:28.815413Z",
     "iopub.status.busy": "2021-08-24T00:01:28.814771Z",
     "iopub.status.idle": "2021-08-24T00:01:29.188204Z",
     "shell.execute_reply": "2021-08-24T00:01:29.187582Z",
     "shell.execute_reply.started": "2021-08-23T07:12:21.588485Z"
    },
    "papermill": {
     "duration": 0.396645,
     "end_time": "2021-08-24T00:01:29.188351",
     "exception": false,
     "start_time": "2021-08-24T00:01:28.791706",
     "status": "completed"
    },
    "tags": []
   },
   "outputs": [],
   "source": [
    "pseudo = pd.read_csv(\"../input/30dml-pseudo2/xgb_submission_k.txt\")[target]\n",
    "train_pseudo = pd.concat([X, y], axis=1)\n",
    "test_pseudo = pd.concat([X_test, pseudo], axis=1)\n",
    "all_pseudo = pd.concat([train_pseudo, test_pseudo]).reset_index(drop=True)"
   ]
  },
  {
   "cell_type": "markdown",
   "id": "ee3c8501",
   "metadata": {
    "papermill": {
     "duration": 0.017783,
     "end_time": "2021-08-24T00:01:29.224967",
     "exception": false,
     "start_time": "2021-08-24T00:01:29.207184",
     "status": "completed"
    },
    "tags": []
   },
   "source": [
    "# Optuna"
   ]
  },
  {
   "cell_type": "code",
   "execution_count": 11,
   "id": "67d15591",
   "metadata": {
    "execution": {
     "iopub.execute_input": "2021-08-24T00:01:29.265273Z",
     "iopub.status.busy": "2021-08-24T00:01:29.264266Z",
     "iopub.status.idle": "2021-08-24T00:01:39.111026Z",
     "shell.execute_reply": "2021-08-24T00:01:39.109824Z",
     "shell.execute_reply.started": "2021-08-20T00:41:22.401559Z"
    },
    "papermill": {
     "duration": 9.868138,
     "end_time": "2021-08-24T00:01:39.111239",
     "exception": false,
     "start_time": "2021-08-24T00:01:29.243101",
     "status": "completed"
    },
    "tags": []
   },
   "outputs": [
    {
     "name": "stdout",
     "output_type": "stream",
     "text": [
      "\u001b[33mWARNING: Running pip as root will break packages and permissions. You should install packages reliably by using venv: https://pip.pypa.io/warnings/venv\u001b[0m\r\n"
     ]
    }
   ],
   "source": [
    "# Optuna for parameter search\n",
    "!pip install -q optuna\n",
    "\n",
    "import optuna\n",
    "import pickle"
   ]
  },
  {
   "cell_type": "code",
   "execution_count": 12,
   "id": "48ace898",
   "metadata": {
    "execution": {
     "iopub.execute_input": "2021-08-24T00:01:39.167143Z",
     "iopub.status.busy": "2021-08-24T00:01:39.166248Z",
     "iopub.status.idle": "2021-08-24T00:01:39.170576Z",
     "shell.execute_reply": "2021-08-24T00:01:39.170028Z",
     "shell.execute_reply.started": "2021-08-20T00:41:32.85435Z"
    },
    "papermill": {
     "duration": 0.040855,
     "end_time": "2021-08-24T00:01:39.170756",
     "exception": false,
     "start_time": "2021-08-24T00:01:39.129901",
     "status": "completed"
    },
    "tags": []
   },
   "outputs": [],
   "source": [
    "# for the fixed learning rate, use the opt n iterations and tune the tree hyperparameters\n",
    "def objective(trial, X=all_pseudo.iloc[:,:-1], y=all_pseudo[target]):\n",
    "  \"\"\"\n",
    "  \"\"\"\n",
    "  param_space = {\n",
    "               #'device':'gpu',  # Use GPU acceleration\n",
    "               #'boosting_type': 'gbdt',\n",
    "               'reg_lambda':trial.suggest_uniform('reg_lambda', 29, 35),\n",
    "              'reg_alpha':trial.suggest_uniform('reg_alpha', 28, 34),\n",
    "                'subsample': trial.suggest_uniform('subsample', 0.127, 0.227),\n",
    "              'colsample_bytree':trial.suggest_uniform('colsample_bytree', 0.0468,0.1268),\n",
    "                #'subsample_freq': trial.suggest_int('subsample_freq', 1, 10),\n",
    "               'learning_rate':trial.suggest_uniform('learning_rate', 2.47e-2, 4.47e-2),\n",
    "                 'min_child_samples':trial.suggest_int('min_child_samples', 47, 59),\n",
    "              'num_leaves':trial.suggest_int('num_leaves', 37, 53),\n",
    "              'max_depth':trial.suggest_int('max_depth', 3, 7),\n",
    "              #'min_split_gain': trial.suggest_float('min_split_gain', 0.0, 0.005),\n",
    "              #'class_weight':trial.suggest_categorical('class_weight',['balanced',None]),\n",
    "               'n_estimators':N_ESTIMATORS,\n",
    "                'n_jobs' : -1,\n",
    "              'metric':'rmse',\n",
    "              'max_bin':trial.suggest_int('max_bin', 777, 877),\n",
    "              'cat_smooth':trial.suggest_int('cat_smooth', 16, 28),\n",
    "              'cat_l2':trial.suggest_loguniform('cat_l2', 17.7, 29.7)\n",
    "                }\n",
    "            \n",
    "  seed_list=[SEED, SEED+1]\n",
    "  #kf = KFold(n_splits=N_SPLITS, shuffle=True, random_state=CVSEED)\n",
    "  lgb_oof = np.zeros(train.shape[0])\n",
    "  #lgb_pred = np.zeros(test.shape[0])\n",
    "  X_tr, X_va, y_tr, y_va = train_test_split(X,y,test_size=.2,random_state=CVSEED)\n",
    "  trn_idx = X_tr.index\n",
    "  val_idx = X_va.index\n",
    "  \n",
    "  #for (trn_idx, val_idx) in enumerate(kf.split(X, y)):\n",
    "  #print(f\"===== fold {fold} =====\")\n",
    "  oof_idx = np.array([idx for idx in val_idx if idx < train.shape[0]])\n",
    "  preds_idx = np.array([idx for idx in val_idx if idx >= train.shape[0]])\n",
    "\n",
    "  X_train, y_train = all_pseudo.iloc[trn_idx, :-1], all_pseudo[target].iloc[trn_idx]\n",
    "  #X_train = apply_noise_row(X_train)\n",
    "\n",
    "  X_valid, y_valid = all_pseudo.iloc[oof_idx, :-1], all_pseudo[target].iloc[oof_idx]\n",
    "  #X_test = all_pseudo[scale_features].iloc[preds_idx]\n",
    "  \n",
    "  #start = time.time()\n",
    "  for inseed in seed_list:\n",
    "    param_space['random_state'] = inseed\n",
    "\n",
    "    model = lgb.LGBMRegressor(**param_space)\n",
    "    model.fit(\n",
    "        X_train, \n",
    "        y_train,\n",
    "        eval_set=[(X_valid, y_valid)],\n",
    "        eval_metric='rmse',\n",
    "        early_stopping_rounds=EARLY_STOPPING_ROUNDS,\n",
    "        verbose=VERBOSE,\n",
    "        categorical_feature=[0, 1, 2, 3, 4, 5, 6, 7, 8, 9]\n",
    "        #callbacks=[optuna.integration.LightGBMPruningCallback(trial, metric='rmse')],\n",
    "    )\n",
    "\n",
    "\n",
    "    lgb_oof[oof_idx] += model.predict(X_valid) / len(seed_list)\n",
    "    #lgb_pred[preds_idx-train.shape[0]] += model.predict(X_test) / len(seed_list)\n",
    "\n",
    "  #elapsed = time.time() - start\n",
    "  rmse = mean_squared_error(y_valid, lgb_oof[oof_idx], squared=False)\n",
    "  #print(f\"fold {fold} - lgb rmse: {rmse:.6f}, elapsed time: {elapsed:.2f}sec\\n\")            \n",
    "  \n",
    "  #print(f\"oof lgb_rmse = {mean_squared_error(train[target], lgb_oof, squared=False)}\")\n",
    "\n",
    "  \n",
    "  return rmse"
   ]
  },
  {
   "cell_type": "code",
   "execution_count": 13,
   "id": "17cf992e",
   "metadata": {
    "execution": {
     "iopub.execute_input": "2021-08-24T00:01:39.213818Z",
     "iopub.status.busy": "2021-08-24T00:01:39.212848Z",
     "iopub.status.idle": "2021-08-24T02:35:41.797072Z",
     "shell.execute_reply": "2021-08-24T02:35:41.797692Z",
     "shell.execute_reply.started": "2021-08-20T00:41:32.874968Z"
    },
    "papermill": {
     "duration": 9242.608679,
     "end_time": "2021-08-24T02:35:41.797964",
     "exception": false,
     "start_time": "2021-08-24T00:01:39.189285",
     "status": "completed"
    },
    "tags": []
   },
   "outputs": [
    {
     "name": "stderr",
     "output_type": "stream",
     "text": [
      "\u001b[32m[I 2021-08-24 00:01:39,211]\u001b[0m A new study created in memory with name: no-name-85adc3b1-2c5f-47b4-8dc4-0b1162f9c64e\u001b[0m\n"
     ]
    },
    {
     "name": "stdout",
     "output_type": "stream",
     "text": [
      "Training until validation scores don't improve for 200 rounds\n",
      "[1000]\tvalid_0's rmse: 0.712979\n",
      "[2000]\tvalid_0's rmse: 0.710256\n",
      "[3000]\tvalid_0's rmse: 0.709329\n",
      "[4000]\tvalid_0's rmse: 0.709023\n",
      "[5000]\tvalid_0's rmse: 0.708936\n",
      "[6000]\tvalid_0's rmse: 0.708868\n",
      "[7000]\tvalid_0's rmse: 0.708824\n",
      "Early stopping, best iteration is:\n",
      "[7231]\tvalid_0's rmse: 0.708815\n",
      "Training until validation scores don't improve for 200 rounds\n",
      "[1000]\tvalid_0's rmse: 0.713076\n",
      "[2000]\tvalid_0's rmse: 0.710287\n",
      "[3000]\tvalid_0's rmse: 0.709472\n",
      "[4000]\tvalid_0's rmse: 0.709153\n",
      "[5000]\tvalid_0's rmse: 0.709016\n",
      "[6000]\tvalid_0's rmse: 0.708938\n",
      "[7000]\tvalid_0's rmse: 0.708902\n",
      "[8000]\tvalid_0's rmse: 0.708867\n",
      "Early stopping, best iteration is:\n",
      "[8745]\tvalid_0's rmse: 0.708849\n"
     ]
    },
    {
     "name": "stderr",
     "output_type": "stream",
     "text": [
      "\u001b[32m[I 2021-08-24 00:06:34,155]\u001b[0m Trial 0 finished with value: 0.7085765147166658 and parameters: {'reg_lambda': 32.958173239105804, 'reg_alpha': 33.36253373575549, 'subsample': 0.16499732885756266, 'colsample_bytree': 0.08557122940591796, 'learning_rate': 0.04240519644606573, 'min_child_samples': 52, 'num_leaves': 41, 'max_depth': 5, 'max_bin': 873, 'cat_smooth': 21, 'cat_l2': 26.566113015674667}. Best is trial 0 with value: 0.7085765147166658.\u001b[0m\n"
     ]
    },
    {
     "name": "stdout",
     "output_type": "stream",
     "text": [
      "Training until validation scores don't improve for 200 rounds\n",
      "[1000]\tvalid_0's rmse: 0.713037\n",
      "[2000]\tvalid_0's rmse: 0.710377\n",
      "[3000]\tvalid_0's rmse: 0.70945\n",
      "[4000]\tvalid_0's rmse: 0.709135\n",
      "[5000]\tvalid_0's rmse: 0.709016\n",
      "Early stopping, best iteration is:\n",
      "[5626]\tvalid_0's rmse: 0.70895\n",
      "Training until validation scores don't improve for 200 rounds\n",
      "[1000]\tvalid_0's rmse: 0.71309\n",
      "[2000]\tvalid_0's rmse: 0.710339\n",
      "[3000]\tvalid_0's rmse: 0.709488\n",
      "[4000]\tvalid_0's rmse: 0.709225\n",
      "[5000]\tvalid_0's rmse: 0.709134\n",
      "[6000]\tvalid_0's rmse: 0.709055\n",
      "Early stopping, best iteration is:\n",
      "[6689]\tvalid_0's rmse: 0.709032\n"
     ]
    },
    {
     "name": "stderr",
     "output_type": "stream",
     "text": [
      "\u001b[32m[I 2021-08-24 00:10:28,593]\u001b[0m Trial 1 finished with value: 0.7087332481758782 and parameters: {'reg_lambda': 30.815054668622405, 'reg_alpha': 31.600743869733975, 'subsample': 0.12735285757014822, 'colsample_bytree': 0.08040774730960737, 'learning_rate': 0.04230783781244815, 'min_child_samples': 57, 'num_leaves': 49, 'max_depth': 5, 'max_bin': 807, 'cat_smooth': 28, 'cat_l2': 19.794552863647922}. Best is trial 0 with value: 0.7085765147166658.\u001b[0m\n"
     ]
    },
    {
     "name": "stdout",
     "output_type": "stream",
     "text": [
      "Training until validation scores don't improve for 200 rounds\n",
      "[1000]\tvalid_0's rmse: 0.722735\n",
      "[2000]\tvalid_0's rmse: 0.717555\n",
      "[3000]\tvalid_0's rmse: 0.715244\n",
      "[4000]\tvalid_0's rmse: 0.713866\n",
      "[5000]\tvalid_0's rmse: 0.71291\n",
      "[6000]\tvalid_0's rmse: 0.712297\n",
      "[7000]\tvalid_0's rmse: 0.711812\n",
      "[8000]\tvalid_0's rmse: 0.711459\n",
      "[9000]\tvalid_0's rmse: 0.711177\n",
      "[10000]\tvalid_0's rmse: 0.710982\n",
      "[11000]\tvalid_0's rmse: 0.710801\n",
      "[12000]\tvalid_0's rmse: 0.710647\n",
      "[13000]\tvalid_0's rmse: 0.710545\n",
      "[14000]\tvalid_0's rmse: 0.710449\n",
      "[15000]\tvalid_0's rmse: 0.710383\n",
      "[16000]\tvalid_0's rmse: 0.71033\n",
      "[17000]\tvalid_0's rmse: 0.710279\n",
      "[18000]\tvalid_0's rmse: 0.710238\n",
      "[19000]\tvalid_0's rmse: 0.710205\n",
      "[20000]\tvalid_0's rmse: 0.710176\n",
      "Did not meet early stopping. Best iteration is:\n",
      "[19989]\tvalid_0's rmse: 0.710176\n",
      "Training until validation scores don't improve for 200 rounds\n",
      "[1000]\tvalid_0's rmse: 0.722777\n",
      "[2000]\tvalid_0's rmse: 0.71758\n",
      "[3000]\tvalid_0's rmse: 0.715217\n",
      "[4000]\tvalid_0's rmse: 0.713778\n",
      "[5000]\tvalid_0's rmse: 0.712886\n",
      "[6000]\tvalid_0's rmse: 0.712231\n",
      "[7000]\tvalid_0's rmse: 0.711777\n",
      "[8000]\tvalid_0's rmse: 0.711404\n",
      "[9000]\tvalid_0's rmse: 0.711139\n",
      "[10000]\tvalid_0's rmse: 0.710949\n",
      "[11000]\tvalid_0's rmse: 0.710794\n",
      "[12000]\tvalid_0's rmse: 0.710657\n",
      "[13000]\tvalid_0's rmse: 0.710561\n",
      "[14000]\tvalid_0's rmse: 0.710485\n",
      "[15000]\tvalid_0's rmse: 0.710421\n",
      "[16000]\tvalid_0's rmse: 0.710369\n",
      "[17000]\tvalid_0's rmse: 0.710318\n",
      "[18000]\tvalid_0's rmse: 0.710272\n",
      "[19000]\tvalid_0's rmse: 0.710233\n",
      "[20000]\tvalid_0's rmse: 0.710198\n",
      "Did not meet early stopping. Best iteration is:\n",
      "[20000]\tvalid_0's rmse: 0.710198\n"
     ]
    },
    {
     "name": "stderr",
     "output_type": "stream",
     "text": [
      "\u001b[32m[I 2021-08-24 00:16:17,165]\u001b[0m Trial 2 finished with value: 0.7101089694894408 and parameters: {'reg_lambda': 33.34803032722804, 'reg_alpha': 32.6978224089307, 'subsample': 0.12719387428894652, 'colsample_bytree': 0.04866344524967127, 'learning_rate': 0.02822648780707568, 'min_child_samples': 59, 'num_leaves': 42, 'max_depth': 3, 'max_bin': 832, 'cat_smooth': 27, 'cat_l2': 20.54119450764401}. Best is trial 0 with value: 0.7085765147166658.\u001b[0m\n"
     ]
    },
    {
     "name": "stdout",
     "output_type": "stream",
     "text": [
      "Training until validation scores don't improve for 200 rounds\n",
      "[1000]\tvalid_0's rmse: 0.711338\n",
      "[2000]\tvalid_0's rmse: 0.709633\n",
      "[3000]\tvalid_0's rmse: 0.709185\n",
      "[4000]\tvalid_0's rmse: 0.709036\n",
      "Early stopping, best iteration is:\n",
      "[4008]\tvalid_0's rmse: 0.709035\n",
      "Training until validation scores don't improve for 200 rounds\n",
      "[1000]\tvalid_0's rmse: 0.711327\n",
      "[2000]\tvalid_0's rmse: 0.709605\n",
      "[3000]\tvalid_0's rmse: 0.709157\n",
      "[4000]\tvalid_0's rmse: 0.709002\n",
      "Early stopping, best iteration is:\n",
      "[4245]\tvalid_0's rmse: 0.708993\n"
     ]
    },
    {
     "name": "stderr",
     "output_type": "stream",
     "text": [
      "\u001b[32m[I 2021-08-24 00:19:11,542]\u001b[0m Trial 3 finished with value: 0.7089045794784699 and parameters: {'reg_lambda': 30.215258129901635, 'reg_alpha': 30.986457580239367, 'subsample': 0.16228456007826741, 'colsample_bytree': 0.12192498744674873, 'learning_rate': 0.03143809171114683, 'min_child_samples': 49, 'num_leaves': 39, 'max_depth': 6, 'max_bin': 850, 'cat_smooth': 20, 'cat_l2': 22.2120384979283}. Best is trial 0 with value: 0.7085765147166658.\u001b[0m\n"
     ]
    },
    {
     "name": "stdout",
     "output_type": "stream",
     "text": [
      "Training until validation scores don't improve for 200 rounds\n",
      "[1000]\tvalid_0's rmse: 0.720293\n",
      "[2000]\tvalid_0's rmse: 0.715574\n",
      "[3000]\tvalid_0's rmse: 0.713339\n",
      "[4000]\tvalid_0's rmse: 0.712119\n",
      "[5000]\tvalid_0's rmse: 0.711377\n",
      "[6000]\tvalid_0's rmse: 0.710797\n",
      "[7000]\tvalid_0's rmse: 0.71036\n",
      "[8000]\tvalid_0's rmse: 0.710061\n",
      "[9000]\tvalid_0's rmse: 0.709821\n",
      "[10000]\tvalid_0's rmse: 0.709616\n",
      "[11000]\tvalid_0's rmse: 0.709472\n",
      "[12000]\tvalid_0's rmse: 0.709346\n",
      "[13000]\tvalid_0's rmse: 0.709251\n",
      "[14000]\tvalid_0's rmse: 0.709159\n",
      "[15000]\tvalid_0's rmse: 0.709091\n",
      "[16000]\tvalid_0's rmse: 0.709045\n",
      "[17000]\tvalid_0's rmse: 0.709006\n",
      "[18000]\tvalid_0's rmse: 0.708965\n",
      "[19000]\tvalid_0's rmse: 0.708935\n",
      "[20000]\tvalid_0's rmse: 0.708912\n",
      "Did not meet early stopping. Best iteration is:\n",
      "[19999]\tvalid_0's rmse: 0.708912\n",
      "Training until validation scores don't improve for 200 rounds\n",
      "[1000]\tvalid_0's rmse: 0.720432\n",
      "[2000]\tvalid_0's rmse: 0.715855\n",
      "[3000]\tvalid_0's rmse: 0.713606\n",
      "[4000]\tvalid_0's rmse: 0.712229\n",
      "[5000]\tvalid_0's rmse: 0.711321\n",
      "[6000]\tvalid_0's rmse: 0.710788\n",
      "[7000]\tvalid_0's rmse: 0.710427\n",
      "[8000]\tvalid_0's rmse: 0.710128\n",
      "[9000]\tvalid_0's rmse: 0.709924\n",
      "[10000]\tvalid_0's rmse: 0.709739\n",
      "[11000]\tvalid_0's rmse: 0.709599\n",
      "[12000]\tvalid_0's rmse: 0.709452\n",
      "[13000]\tvalid_0's rmse: 0.709358\n",
      "[14000]\tvalid_0's rmse: 0.709278\n",
      "[15000]\tvalid_0's rmse: 0.70921\n",
      "[16000]\tvalid_0's rmse: 0.709153\n",
      "[17000]\tvalid_0's rmse: 0.709109\n",
      "[18000]\tvalid_0's rmse: 0.709075\n",
      "[19000]\tvalid_0's rmse: 0.70904\n",
      "[20000]\tvalid_0's rmse: 0.709009\n",
      "Did not meet early stopping. Best iteration is:\n",
      "[19992]\tvalid_0's rmse: 0.709009\n"
     ]
    },
    {
     "name": "stderr",
     "output_type": "stream",
     "text": [
      "\u001b[32m[I 2021-08-24 00:29:40,132]\u001b[0m Trial 4 finished with value: 0.7087809246552681 and parameters: {'reg_lambda': 32.426105866337025, 'reg_alpha': 32.939594007536094, 'subsample': 0.1950019793121997, 'colsample_bytree': 0.0829624283839859, 'learning_rate': 0.028596109219913367, 'min_child_samples': 56, 'num_leaves': 45, 'max_depth': 3, 'max_bin': 844, 'cat_smooth': 27, 'cat_l2': 19.30366086435558}. Best is trial 0 with value: 0.7085765147166658.\u001b[0m\n"
     ]
    },
    {
     "name": "stdout",
     "output_type": "stream",
     "text": [
      "Training until validation scores don't improve for 200 rounds\n",
      "[1000]\tvalid_0's rmse: 0.71567\n",
      "[2000]\tvalid_0's rmse: 0.711678\n",
      "[3000]\tvalid_0's rmse: 0.710206\n",
      "[4000]\tvalid_0's rmse: 0.709461\n",
      "[5000]\tvalid_0's rmse: 0.709159\n",
      "[6000]\tvalid_0's rmse: 0.708985\n",
      "[7000]\tvalid_0's rmse: 0.708937\n",
      "Early stopping, best iteration is:\n",
      "[7644]\tvalid_0's rmse: 0.70889\n",
      "Training until validation scores don't improve for 200 rounds\n",
      "[1000]\tvalid_0's rmse: 0.715607\n",
      "[2000]\tvalid_0's rmse: 0.711655\n",
      "[3000]\tvalid_0's rmse: 0.710162\n",
      "[4000]\tvalid_0's rmse: 0.709564\n",
      "[5000]\tvalid_0's rmse: 0.70926\n",
      "[6000]\tvalid_0's rmse: 0.709128\n",
      "[7000]\tvalid_0's rmse: 0.709053\n",
      "[8000]\tvalid_0's rmse: 0.709008\n",
      "Early stopping, best iteration is:\n",
      "[8140]\tvalid_0's rmse: 0.709004\n"
     ]
    },
    {
     "name": "stderr",
     "output_type": "stream",
     "text": [
      "\u001b[32m[I 2021-08-24 00:34:50,030]\u001b[0m Trial 5 finished with value: 0.7086986944603882 and parameters: {'reg_lambda': 33.09281295014168, 'reg_alpha': 28.588200626574295, 'subsample': 0.1959983622637424, 'colsample_bytree': 0.08569414867360163, 'learning_rate': 0.02808465125823114, 'min_child_samples': 53, 'num_leaves': 51, 'max_depth': 5, 'max_bin': 874, 'cat_smooth': 25, 'cat_l2': 18.317230874372118}. Best is trial 0 with value: 0.7085765147166658.\u001b[0m\n"
     ]
    },
    {
     "name": "stdout",
     "output_type": "stream",
     "text": [
      "Training until validation scores don't improve for 200 rounds\n",
      "[1000]\tvalid_0's rmse: 0.713044\n",
      "[2000]\tvalid_0's rmse: 0.710472\n",
      "[3000]\tvalid_0's rmse: 0.709625\n",
      "[4000]\tvalid_0's rmse: 0.709229\n",
      "[5000]\tvalid_0's rmse: 0.70902\n",
      "[6000]\tvalid_0's rmse: 0.708896\n",
      "[7000]\tvalid_0's rmse: 0.708843\n",
      "[8000]\tvalid_0's rmse: 0.708806\n",
      "Early stopping, best iteration is:\n",
      "[8209]\tvalid_0's rmse: 0.708795\n",
      "Training until validation scores don't improve for 200 rounds\n",
      "[1000]\tvalid_0's rmse: 0.713018\n",
      "[2000]\tvalid_0's rmse: 0.710424\n",
      "[3000]\tvalid_0's rmse: 0.709604\n",
      "[4000]\tvalid_0's rmse: 0.709205\n",
      "[5000]\tvalid_0's rmse: 0.709004\n",
      "[6000]\tvalid_0's rmse: 0.708883\n",
      "Early stopping, best iteration is:\n",
      "[6592]\tvalid_0's rmse: 0.708823\n"
     ]
    },
    {
     "name": "stderr",
     "output_type": "stream",
     "text": [
      "\u001b[32m[I 2021-08-24 00:38:36,747]\u001b[0m Trial 6 finished with value: 0.7086874904094618 and parameters: {'reg_lambda': 31.00704092687721, 'reg_alpha': 32.4273474058035, 'subsample': 0.1636627094619688, 'colsample_bytree': 0.12154405186785597, 'learning_rate': 0.040384442647436083, 'min_child_samples': 50, 'num_leaves': 47, 'max_depth': 4, 'max_bin': 826, 'cat_smooth': 25, 'cat_l2': 18.258122450394744}. Best is trial 0 with value: 0.7085765147166658.\u001b[0m\n"
     ]
    },
    {
     "name": "stdout",
     "output_type": "stream",
     "text": [
      "Training until validation scores don't improve for 200 rounds\n",
      "[1000]\tvalid_0's rmse: 0.719745\n",
      "[2000]\tvalid_0's rmse: 0.715196\n",
      "[3000]\tvalid_0's rmse: 0.713484\n",
      "[4000]\tvalid_0's rmse: 0.712434\n",
      "[5000]\tvalid_0's rmse: 0.711753\n",
      "[6000]\tvalid_0's rmse: 0.711328\n",
      "[7000]\tvalid_0's rmse: 0.711049\n",
      "[8000]\tvalid_0's rmse: 0.710826\n",
      "[9000]\tvalid_0's rmse: 0.71067\n",
      "[10000]\tvalid_0's rmse: 0.71056\n",
      "[11000]\tvalid_0's rmse: 0.710467\n",
      "[12000]\tvalid_0's rmse: 0.7104\n",
      "[13000]\tvalid_0's rmse: 0.710346\n",
      "[14000]\tvalid_0's rmse: 0.710307\n",
      "[15000]\tvalid_0's rmse: 0.71028\n",
      "[16000]\tvalid_0's rmse: 0.710262\n",
      "Early stopping, best iteration is:\n",
      "[15825]\tvalid_0's rmse: 0.710262\n",
      "Training until validation scores don't improve for 200 rounds\n",
      "[1000]\tvalid_0's rmse: 0.719728\n",
      "[2000]\tvalid_0's rmse: 0.715111\n",
      "[3000]\tvalid_0's rmse: 0.71328\n",
      "[4000]\tvalid_0's rmse: 0.712213\n",
      "[5000]\tvalid_0's rmse: 0.711618\n",
      "[6000]\tvalid_0's rmse: 0.711196\n",
      "[7000]\tvalid_0's rmse: 0.710919\n",
      "[8000]\tvalid_0's rmse: 0.710694\n",
      "[9000]\tvalid_0's rmse: 0.710503\n",
      "[10000]\tvalid_0's rmse: 0.710373\n",
      "[11000]\tvalid_0's rmse: 0.710287\n",
      "[12000]\tvalid_0's rmse: 0.710239\n",
      "[13000]\tvalid_0's rmse: 0.710188\n",
      "[14000]\tvalid_0's rmse: 0.710152\n",
      "[15000]\tvalid_0's rmse: 0.710112\n",
      "[16000]\tvalid_0's rmse: 0.710088\n",
      "[17000]\tvalid_0's rmse: 0.710064\n",
      "[18000]\tvalid_0's rmse: 0.71005\n",
      "Early stopping, best iteration is:\n",
      "[17848]\tvalid_0's rmse: 0.710049\n"
     ]
    },
    {
     "name": "stderr",
     "output_type": "stream",
     "text": [
      "\u001b[32m[I 2021-08-24 00:43:27,098]\u001b[0m Trial 7 finished with value: 0.7100678492252918 and parameters: {'reg_lambda': 31.55684746701612, 'reg_alpha': 30.404403081781144, 'subsample': 0.13917728778320476, 'colsample_bytree': 0.05857641527822824, 'learning_rate': 0.04215132606511392, 'min_child_samples': 50, 'num_leaves': 39, 'max_depth': 3, 'max_bin': 794, 'cat_smooth': 28, 'cat_l2': 27.40512705911875}. Best is trial 0 with value: 0.7085765147166658.\u001b[0m\n"
     ]
    },
    {
     "name": "stdout",
     "output_type": "stream",
     "text": [
      "Training until validation scores don't improve for 200 rounds\n",
      "[1000]\tvalid_0's rmse: 0.719449\n",
      "[2000]\tvalid_0's rmse: 0.714926\n",
      "[3000]\tvalid_0's rmse: 0.712882\n",
      "[4000]\tvalid_0's rmse: 0.711763\n",
      "[5000]\tvalid_0's rmse: 0.711104\n",
      "[6000]\tvalid_0's rmse: 0.710556\n",
      "[7000]\tvalid_0's rmse: 0.710171\n",
      "[8000]\tvalid_0's rmse: 0.709909\n",
      "[9000]\tvalid_0's rmse: 0.709701\n",
      "[10000]\tvalid_0's rmse: 0.709522\n",
      "[11000]\tvalid_0's rmse: 0.709381\n",
      "[12000]\tvalid_0's rmse: 0.709295\n",
      "[13000]\tvalid_0's rmse: 0.709222\n",
      "[14000]\tvalid_0's rmse: 0.709177\n",
      "[15000]\tvalid_0's rmse: 0.709129\n",
      "[16000]\tvalid_0's rmse: 0.709098\n",
      "[17000]\tvalid_0's rmse: 0.709076\n",
      "Early stopping, best iteration is:\n",
      "[17218]\tvalid_0's rmse: 0.709072\n",
      "Training until validation scores don't improve for 200 rounds\n",
      "[1000]\tvalid_0's rmse: 0.719573\n",
      "[2000]\tvalid_0's rmse: 0.715242\n",
      "[3000]\tvalid_0's rmse: 0.713086\n",
      "[4000]\tvalid_0's rmse: 0.711796\n",
      "[5000]\tvalid_0's rmse: 0.711004\n",
      "[6000]\tvalid_0's rmse: 0.710525\n",
      "[7000]\tvalid_0's rmse: 0.710202\n",
      "[8000]\tvalid_0's rmse: 0.709973\n",
      "[9000]\tvalid_0's rmse: 0.709773\n",
      "[10000]\tvalid_0's rmse: 0.70961\n",
      "[11000]\tvalid_0's rmse: 0.709478\n",
      "[12000]\tvalid_0's rmse: 0.709366\n",
      "[13000]\tvalid_0's rmse: 0.709282\n",
      "[14000]\tvalid_0's rmse: 0.709223\n",
      "[15000]\tvalid_0's rmse: 0.709161\n",
      "[16000]\tvalid_0's rmse: 0.70913\n",
      "[17000]\tvalid_0's rmse: 0.709094\n",
      "[18000]\tvalid_0's rmse: 0.709054\n",
      "[19000]\tvalid_0's rmse: 0.709026\n",
      "[20000]\tvalid_0's rmse: 0.709007\n",
      "Did not meet early stopping. Best iteration is:\n",
      "[19981]\tvalid_0's rmse: 0.709007\n"
     ]
    },
    {
     "name": "stderr",
     "output_type": "stream",
     "text": [
      "\u001b[32m[I 2021-08-24 00:53:15,293]\u001b[0m Trial 8 finished with value: 0.7088316014113591 and parameters: {'reg_lambda': 31.775868792104582, 'reg_alpha': 28.766573157189057, 'subsample': 0.13513247870768638, 'colsample_bytree': 0.08501232928487285, 'learning_rate': 0.03202490169261187, 'min_child_samples': 57, 'num_leaves': 49, 'max_depth': 3, 'max_bin': 783, 'cat_smooth': 21, 'cat_l2': 20.783662842756844}. Best is trial 0 with value: 0.7085765147166658.\u001b[0m\n"
     ]
    },
    {
     "name": "stdout",
     "output_type": "stream",
     "text": [
      "Training until validation scores don't improve for 200 rounds\n",
      "[1000]\tvalid_0's rmse: 0.717738\n",
      "[2000]\tvalid_0's rmse: 0.713581\n",
      "[3000]\tvalid_0's rmse: 0.711865\n",
      "[4000]\tvalid_0's rmse: 0.710908\n",
      "[5000]\tvalid_0's rmse: 0.710352\n",
      "[6000]\tvalid_0's rmse: 0.709923\n",
      "[7000]\tvalid_0's rmse: 0.709634\n",
      "[8000]\tvalid_0's rmse: 0.709435\n",
      "[9000]\tvalid_0's rmse: 0.709283\n",
      "[10000]\tvalid_0's rmse: 0.709133\n",
      "[11000]\tvalid_0's rmse: 0.709051\n",
      "[12000]\tvalid_0's rmse: 0.709016\n",
      "[13000]\tvalid_0's rmse: 0.708974\n",
      "Early stopping, best iteration is:\n",
      "[13147]\tvalid_0's rmse: 0.708969\n",
      "Training until validation scores don't improve for 200 rounds\n",
      "[1000]\tvalid_0's rmse: 0.717902\n",
      "[2000]\tvalid_0's rmse: 0.713961\n",
      "[3000]\tvalid_0's rmse: 0.711987\n",
      "[4000]\tvalid_0's rmse: 0.710915\n",
      "[5000]\tvalid_0's rmse: 0.710325\n",
      "[6000]\tvalid_0's rmse: 0.709936\n",
      "[7000]\tvalid_0's rmse: 0.709734\n",
      "[8000]\tvalid_0's rmse: 0.70955\n",
      "[9000]\tvalid_0's rmse: 0.709416\n",
      "[10000]\tvalid_0's rmse: 0.709274\n",
      "[11000]\tvalid_0's rmse: 0.709191\n",
      "[12000]\tvalid_0's rmse: 0.709125\n",
      "Early stopping, best iteration is:\n",
      "[12544]\tvalid_0's rmse: 0.709089\n"
     ]
    },
    {
     "name": "stderr",
     "output_type": "stream",
     "text": [
      "\u001b[32m[I 2021-08-24 00:59:53,716]\u001b[0m Trial 9 finished with value: 0.7088421568519975 and parameters: {'reg_lambda': 29.494840255039055, 'reg_alpha': 30.10355039901831, 'subsample': 0.20273118132056195, 'colsample_bytree': 0.09644446840618257, 'learning_rate': 0.04079099672487095, 'min_child_samples': 47, 'num_leaves': 49, 'max_depth': 3, 'max_bin': 844, 'cat_smooth': 23, 'cat_l2': 28.31751339418116}. Best is trial 0 with value: 0.7085765147166658.\u001b[0m\n"
     ]
    },
    {
     "name": "stdout",
     "output_type": "stream",
     "text": [
      "Training until validation scores don't improve for 200 rounds\n",
      "[1000]\tvalid_0's rmse: 0.710441\n",
      "[2000]\tvalid_0's rmse: 0.70934\n",
      "[3000]\tvalid_0's rmse: 0.709089\n",
      "Early stopping, best iteration is:\n",
      "[3514]\tvalid_0's rmse: 0.709038\n",
      "Training until validation scores don't improve for 200 rounds\n",
      "[1000]\tvalid_0's rmse: 0.710405\n",
      "[2000]\tvalid_0's rmse: 0.709253\n",
      "[3000]\tvalid_0's rmse: 0.708995\n",
      "Early stopping, best iteration is:\n",
      "[3706]\tvalid_0's rmse: 0.70891\n"
     ]
    },
    {
     "name": "stderr",
     "output_type": "stream",
     "text": [
      "\u001b[32m[I 2021-08-24 01:02:58,142]\u001b[0m Trial 10 finished with value: 0.7088654818019515 and parameters: {'reg_lambda': 34.990978164827084, 'reg_alpha': 33.98259879865731, 'subsample': 0.1758426166796774, 'colsample_bytree': 0.10443413882459604, 'learning_rate': 0.036485060471127866, 'min_child_samples': 53, 'num_leaves': 37, 'max_depth': 7, 'max_bin': 876, 'cat_smooth': 17, 'cat_l2': 25.280674964210043}. Best is trial 0 with value: 0.7085765147166658.\u001b[0m\n"
     ]
    },
    {
     "name": "stdout",
     "output_type": "stream",
     "text": [
      "Training until validation scores don't improve for 200 rounds\n",
      "[1000]\tvalid_0's rmse: 0.713359\n",
      "[2000]\tvalid_0's rmse: 0.710667\n",
      "[3000]\tvalid_0's rmse: 0.709706\n",
      "[4000]\tvalid_0's rmse: 0.709324\n",
      "[5000]\tvalid_0's rmse: 0.709093\n",
      "[6000]\tvalid_0's rmse: 0.708929\n",
      "[7000]\tvalid_0's rmse: 0.708847\n",
      "Early stopping, best iteration is:\n",
      "[7442]\tvalid_0's rmse: 0.708838\n",
      "Training until validation scores don't improve for 200 rounds\n",
      "[1000]\tvalid_0's rmse: 0.713364\n",
      "[2000]\tvalid_0's rmse: 0.710625\n",
      "[3000]\tvalid_0's rmse: 0.70976\n",
      "[4000]\tvalid_0's rmse: 0.709361\n",
      "[5000]\tvalid_0's rmse: 0.709148\n",
      "[6000]\tvalid_0's rmse: 0.708993\n",
      "[7000]\tvalid_0's rmse: 0.708897\n",
      "Early stopping, best iteration is:\n",
      "[7687]\tvalid_0's rmse: 0.708863\n"
     ]
    },
    {
     "name": "stderr",
     "output_type": "stream",
     "text": [
      "\u001b[32m[I 2021-08-24 01:07:41,925]\u001b[0m Trial 11 finished with value: 0.7087474859462867 and parameters: {'reg_lambda': 34.81153531353731, 'reg_alpha': 33.877559675826625, 'subsample': 0.1540982233374274, 'colsample_bytree': 0.11606096154453206, 'learning_rate': 0.03774691013120019, 'min_child_samples': 51, 'num_leaves': 44, 'max_depth': 4, 'max_bin': 816, 'cat_smooth': 18, 'cat_l2': 24.70181577845134}. Best is trial 0 with value: 0.7085765147166658.\u001b[0m\n"
     ]
    },
    {
     "name": "stdout",
     "output_type": "stream",
     "text": [
      "Training until validation scores don't improve for 200 rounds\n",
      "[1000]\tvalid_0's rmse: 0.714529\n",
      "[2000]\tvalid_0's rmse: 0.711348\n",
      "[3000]\tvalid_0's rmse: 0.710077\n",
      "[4000]\tvalid_0's rmse: 0.70951\n",
      "[5000]\tvalid_0's rmse: 0.709206\n",
      "[6000]\tvalid_0's rmse: 0.708986\n",
      "[7000]\tvalid_0's rmse: 0.708853\n",
      "[8000]\tvalid_0's rmse: 0.708794\n",
      "[9000]\tvalid_0's rmse: 0.708738\n",
      "[10000]\tvalid_0's rmse: 0.708703\n",
      "[11000]\tvalid_0's rmse: 0.708681\n",
      "[12000]\tvalid_0's rmse: 0.708654\n",
      "Early stopping, best iteration is:\n",
      "[12680]\tvalid_0's rmse: 0.708639\n",
      "Training until validation scores don't improve for 200 rounds\n",
      "[1000]\tvalid_0's rmse: 0.714842\n",
      "[2000]\tvalid_0's rmse: 0.711522\n",
      "[3000]\tvalid_0's rmse: 0.710267\n",
      "[4000]\tvalid_0's rmse: 0.709706\n",
      "[5000]\tvalid_0's rmse: 0.709407\n",
      "[6000]\tvalid_0's rmse: 0.709264\n",
      "Early stopping, best iteration is:\n",
      "[6390]\tvalid_0's rmse: 0.709215\n"
     ]
    },
    {
     "name": "stderr",
     "output_type": "stream",
     "text": [
      "\u001b[32m[I 2021-08-24 01:12:57,776]\u001b[0m Trial 12 finished with value: 0.7086909776856035 and parameters: {'reg_lambda': 33.56565802713629, 'reg_alpha': 32.49359442602249, 'subsample': 0.17349662274361913, 'colsample_bytree': 0.06524856016956306, 'learning_rate': 0.04429319218361308, 'min_child_samples': 47, 'num_leaves': 44, 'max_depth': 4, 'max_bin': 861, 'cat_smooth': 24, 'cat_l2': 25.757159856683817}. Best is trial 0 with value: 0.7085765147166658.\u001b[0m\n"
     ]
    },
    {
     "name": "stdout",
     "output_type": "stream",
     "text": [
      "Training until validation scores don't improve for 200 rounds\n",
      "[1000]\tvalid_0's rmse: 0.712614\n",
      "[2000]\tvalid_0's rmse: 0.710043\n",
      "[3000]\tvalid_0's rmse: 0.709355\n",
      "[4000]\tvalid_0's rmse: 0.709108\n",
      "Early stopping, best iteration is:\n",
      "[4550]\tvalid_0's rmse: 0.709055\n",
      "Training until validation scores don't improve for 200 rounds\n",
      "[1000]\tvalid_0's rmse: 0.712462\n",
      "[2000]\tvalid_0's rmse: 0.71001\n",
      "[3000]\tvalid_0's rmse: 0.709391\n",
      "[4000]\tvalid_0's rmse: 0.709165\n",
      "Early stopping, best iteration is:\n",
      "[4710]\tvalid_0's rmse: 0.709094\n"
     ]
    },
    {
     "name": "stderr",
     "output_type": "stream",
     "text": [
      "\u001b[32m[I 2021-08-24 01:16:19,244]\u001b[0m Trial 13 finished with value: 0.7088185575436985 and parameters: {'reg_lambda': 30.80533564635773, 'reg_alpha': 33.320645298310694, 'subsample': 0.22296927260367402, 'colsample_bytree': 0.10324618549216524, 'learning_rate': 0.03877203652326573, 'min_child_samples': 52, 'num_leaves': 41, 'max_depth': 6, 'max_bin': 822, 'cat_smooth': 19, 'cat_l2': 23.32439839717921}. Best is trial 0 with value: 0.7085765147166658.\u001b[0m\n"
     ]
    },
    {
     "name": "stdout",
     "output_type": "stream",
     "text": [
      "Training until validation scores don't improve for 200 rounds\n",
      "[1000]\tvalid_0's rmse: 0.714447\n",
      "[2000]\tvalid_0's rmse: 0.711334\n",
      "[3000]\tvalid_0's rmse: 0.710173\n",
      "[4000]\tvalid_0's rmse: 0.709602\n",
      "[5000]\tvalid_0's rmse: 0.70931\n",
      "[6000]\tvalid_0's rmse: 0.709133\n",
      "[7000]\tvalid_0's rmse: 0.709024\n",
      "[8000]\tvalid_0's rmse: 0.708964\n",
      "[9000]\tvalid_0's rmse: 0.708921\n",
      "[10000]\tvalid_0's rmse: 0.708887\n",
      "[11000]\tvalid_0's rmse: 0.708865\n",
      "Early stopping, best iteration is:\n",
      "[11682]\tvalid_0's rmse: 0.708846\n",
      "Training until validation scores don't improve for 200 rounds\n",
      "[1000]\tvalid_0's rmse: 0.714759\n",
      "[2000]\tvalid_0's rmse: 0.711491\n",
      "[3000]\tvalid_0's rmse: 0.71026\n",
      "[4000]\tvalid_0's rmse: 0.709714\n",
      "[5000]\tvalid_0's rmse: 0.709426\n",
      "[6000]\tvalid_0's rmse: 0.709248\n",
      "[7000]\tvalid_0's rmse: 0.709166\n",
      "Early stopping, best iteration is:\n",
      "[7753]\tvalid_0's rmse: 0.709097\n"
     ]
    },
    {
     "name": "stderr",
     "output_type": "stream",
     "text": [
      "\u001b[32m[I 2021-08-24 01:21:38,791]\u001b[0m Trial 14 finished with value: 0.7087391336553126 and parameters: {'reg_lambda': 34.205172283009325, 'reg_alpha': 31.944553809066225, 'subsample': 0.1536725510363431, 'colsample_bytree': 0.06845068560320386, 'learning_rate': 0.04437605110037092, 'min_child_samples': 49, 'num_leaves': 46, 'max_depth': 4, 'max_bin': 805, 'cat_smooth': 22, 'cat_l2': 29.07937003671934}. Best is trial 0 with value: 0.7085765147166658.\u001b[0m\n"
     ]
    },
    {
     "name": "stdout",
     "output_type": "stream",
     "text": [
      "Training until validation scores don't improve for 200 rounds\n",
      "[1000]\tvalid_0's rmse: 0.710623\n",
      "[2000]\tvalid_0's rmse: 0.709368\n",
      "[3000]\tvalid_0's rmse: 0.709054\n",
      "[4000]\tvalid_0's rmse: 0.708973\n",
      "Early stopping, best iteration is:\n",
      "[3853]\tvalid_0's rmse: 0.708966\n",
      "Training until validation scores don't improve for 200 rounds\n",
      "[1000]\tvalid_0's rmse: 0.710524\n",
      "[2000]\tvalid_0's rmse: 0.709252\n",
      "[3000]\tvalid_0's rmse: 0.708999\n",
      "Early stopping, best iteration is:\n",
      "[3119]\tvalid_0's rmse: 0.708967\n"
     ]
    },
    {
     "name": "stderr",
     "output_type": "stream",
     "text": [
      "\u001b[32m[I 2021-08-24 01:23:44,935]\u001b[0m Trial 15 finished with value: 0.708839844647507 and parameters: {'reg_lambda': 32.42659030523132, 'reg_alpha': 33.55166830025455, 'subsample': 0.16426216097901974, 'colsample_bytree': 0.1267499805492672, 'learning_rate': 0.04000989185153632, 'min_child_samples': 54, 'num_leaves': 53, 'max_depth': 6, 'max_bin': 837, 'cat_smooth': 25, 'cat_l2': 17.967170010253}. Best is trial 0 with value: 0.7085765147166658.\u001b[0m\n"
     ]
    },
    {
     "name": "stdout",
     "output_type": "stream",
     "text": [
      "Training until validation scores don't improve for 200 rounds\n",
      "[1000]\tvalid_0's rmse: 0.714168\n",
      "[2000]\tvalid_0's rmse: 0.710818\n",
      "[3000]\tvalid_0's rmse: 0.709629\n",
      "[4000]\tvalid_0's rmse: 0.709166\n",
      "[5000]\tvalid_0's rmse: 0.708984\n",
      "[6000]\tvalid_0's rmse: 0.708874\n",
      "Early stopping, best iteration is:\n",
      "[6688]\tvalid_0's rmse: 0.708815\n",
      "Training until validation scores don't improve for 200 rounds\n",
      "[1000]\tvalid_0's rmse: 0.714138\n",
      "[2000]\tvalid_0's rmse: 0.710861\n",
      "[3000]\tvalid_0's rmse: 0.709721\n",
      "[4000]\tvalid_0's rmse: 0.709298\n",
      "[5000]\tvalid_0's rmse: 0.709099\n",
      "[6000]\tvalid_0's rmse: 0.70901\n",
      "Early stopping, best iteration is:\n",
      "[6395]\tvalid_0's rmse: 0.708987\n"
     ]
    },
    {
     "name": "stderr",
     "output_type": "stream",
     "text": [
      "\u001b[32m[I 2021-08-24 01:27:57,569]\u001b[0m Trial 16 finished with value: 0.7086632821586791 and parameters: {'reg_lambda': 29.058787550801586, 'reg_alpha': 32.014526596830954, 'subsample': 0.18576084791215247, 'colsample_bytree': 0.09518200539194951, 'learning_rate': 0.03509547211014101, 'min_child_samples': 55, 'num_leaves': 47, 'max_depth': 5, 'max_bin': 860, 'cat_smooth': 22, 'cat_l2': 26.890916135485146}. Best is trial 0 with value: 0.7085765147166658.\u001b[0m\n"
     ]
    },
    {
     "name": "stdout",
     "output_type": "stream",
     "text": [
      "Training until validation scores don't improve for 200 rounds\n",
      "[1000]\tvalid_0's rmse: 0.714313\n",
      "[2000]\tvalid_0's rmse: 0.710904\n",
      "[3000]\tvalid_0's rmse: 0.709709\n",
      "[4000]\tvalid_0's rmse: 0.709244\n",
      "[5000]\tvalid_0's rmse: 0.709057\n",
      "[6000]\tvalid_0's rmse: 0.708947\n",
      "[7000]\tvalid_0's rmse: 0.708909\n",
      "[8000]\tvalid_0's rmse: 0.708867\n",
      "Early stopping, best iteration is:\n",
      "[8122]\tvalid_0's rmse: 0.708859\n",
      "Training until validation scores don't improve for 200 rounds\n",
      "[1000]\tvalid_0's rmse: 0.714121\n",
      "[2000]\tvalid_0's rmse: 0.710792\n",
      "[3000]\tvalid_0's rmse: 0.709667\n",
      "[4000]\tvalid_0's rmse: 0.709259\n",
      "[5000]\tvalid_0's rmse: 0.709066\n",
      "[6000]\tvalid_0's rmse: 0.708957\n",
      "[7000]\tvalid_0's rmse: 0.708903\n",
      "Early stopping, best iteration is:\n",
      "[7375]\tvalid_0's rmse: 0.70889\n"
     ]
    },
    {
     "name": "stderr",
     "output_type": "stream",
     "text": [
      "\u001b[32m[I 2021-08-24 01:32:58,773]\u001b[0m Trial 17 finished with value: 0.7086130914191038 and parameters: {'reg_lambda': 29.088772160367398, 'reg_alpha': 31.632523141234618, 'subsample': 0.18602225812232065, 'colsample_bytree': 0.09693757029144398, 'learning_rate': 0.034410281968223926, 'min_child_samples': 55, 'num_leaves': 42, 'max_depth': 5, 'max_bin': 863, 'cat_smooth': 16, 'cat_l2': 26.876699197442285}. Best is trial 0 with value: 0.7085765147166658.\u001b[0m\n"
     ]
    },
    {
     "name": "stdout",
     "output_type": "stream",
     "text": [
      "Training until validation scores don't improve for 200 rounds\n",
      "[1000]\tvalid_0's rmse: 0.710533\n",
      "[2000]\tvalid_0's rmse: 0.709225\n",
      "[3000]\tvalid_0's rmse: 0.708915\n",
      "Early stopping, best iteration is:\n",
      "[3099]\tvalid_0's rmse: 0.708886\n",
      "Training until validation scores don't improve for 200 rounds\n",
      "[1000]\tvalid_0's rmse: 0.71059\n",
      "[2000]\tvalid_0's rmse: 0.709279\n",
      "[3000]\tvalid_0's rmse: 0.708997\n",
      "Early stopping, best iteration is:\n",
      "[3667]\tvalid_0's rmse: 0.708948\n"
     ]
    },
    {
     "name": "stderr",
     "output_type": "stream",
     "text": [
      "\u001b[32m[I 2021-08-24 01:35:14,401]\u001b[0m Trial 18 finished with value: 0.7088033466740623 and parameters: {'reg_lambda': 34.23244400294661, 'reg_alpha': 29.441053835958105, 'subsample': 0.21235957748989043, 'colsample_bytree': 0.10982326028778144, 'learning_rate': 0.0322898862868428, 'min_child_samples': 59, 'num_leaves': 42, 'max_depth': 7, 'max_bin': 866, 'cat_smooth': 16, 'cat_l2': 29.385372861035098}. Best is trial 0 with value: 0.7085765147166658.\u001b[0m\n"
     ]
    },
    {
     "name": "stdout",
     "output_type": "stream",
     "text": [
      "Training until validation scores don't improve for 200 rounds\n",
      "[1000]\tvalid_0's rmse: 0.715203\n",
      "[2000]\tvalid_0's rmse: 0.711195\n",
      "[3000]\tvalid_0's rmse: 0.709876\n",
      "[4000]\tvalid_0's rmse: 0.709339\n",
      "[5000]\tvalid_0's rmse: 0.70916\n",
      "[6000]\tvalid_0's rmse: 0.709053\n",
      "[7000]\tvalid_0's rmse: 0.709002\n",
      "Early stopping, best iteration is:\n",
      "[7590]\tvalid_0's rmse: 0.708992\n",
      "Training until validation scores don't improve for 200 rounds\n",
      "[1000]\tvalid_0's rmse: 0.715066\n",
      "[2000]\tvalid_0's rmse: 0.711175\n",
      "[3000]\tvalid_0's rmse: 0.709925\n",
      "[4000]\tvalid_0's rmse: 0.709456\n",
      "[5000]\tvalid_0's rmse: 0.709217\n",
      "[6000]\tvalid_0's rmse: 0.709127\n",
      "[7000]\tvalid_0's rmse: 0.709074\n",
      "[8000]\tvalid_0's rmse: 0.709033\n",
      "[9000]\tvalid_0's rmse: 0.709003\n",
      "[10000]\tvalid_0's rmse: 0.708975\n",
      "Early stopping, best iteration is:\n",
      "[9965]\tvalid_0's rmse: 0.708972\n"
     ]
    },
    {
     "name": "stderr",
     "output_type": "stream",
     "text": [
      "\u001b[32m[I 2021-08-24 01:41:33,658]\u001b[0m Trial 19 finished with value: 0.7087080530035513 and parameters: {'reg_lambda': 32.59192247153911, 'reg_alpha': 30.824868331761383, 'subsample': 0.18755646891831412, 'colsample_bytree': 0.07289840319671856, 'learning_rate': 0.025558777355656863, 'min_child_samples': 55, 'num_leaves': 39, 'max_depth': 6, 'max_bin': 873, 'cat_smooth': 16, 'cat_l2': 24.135710479848047}. Best is trial 0 with value: 0.7085765147166658.\u001b[0m\n"
     ]
    },
    {
     "name": "stdout",
     "output_type": "stream",
     "text": [
      "Training until validation scores don't improve for 200 rounds\n",
      "[1000]\tvalid_0's rmse: 0.714399\n",
      "[2000]\tvalid_0's rmse: 0.711016\n",
      "[3000]\tvalid_0's rmse: 0.70979\n",
      "[4000]\tvalid_0's rmse: 0.709279\n",
      "[5000]\tvalid_0's rmse: 0.709091\n",
      "[6000]\tvalid_0's rmse: 0.70896\n",
      "[7000]\tvalid_0's rmse: 0.708899\n",
      "Early stopping, best iteration is:\n",
      "[6945]\tvalid_0's rmse: 0.708896\n",
      "Training until validation scores don't improve for 200 rounds\n",
      "[1000]\tvalid_0's rmse: 0.714308\n",
      "[2000]\tvalid_0's rmse: 0.710966\n",
      "[3000]\tvalid_0's rmse: 0.709788\n",
      "[4000]\tvalid_0's rmse: 0.709346\n",
      "[5000]\tvalid_0's rmse: 0.709124\n",
      "[6000]\tvalid_0's rmse: 0.709042\n",
      "Early stopping, best iteration is:\n",
      "[6278]\tvalid_0's rmse: 0.709026\n"
     ]
    },
    {
     "name": "stderr",
     "output_type": "stream",
     "text": [
      "\u001b[32m[I 2021-08-24 01:45:50,189]\u001b[0m Trial 20 finished with value: 0.7087230261491979 and parameters: {'reg_lambda': 29.92712573375954, 'reg_alpha': 31.613696643306344, 'subsample': 0.1838796613046315, 'colsample_bytree': 0.09155469089077088, 'learning_rate': 0.034064275442074, 'min_child_samples': 52, 'num_leaves': 37, 'max_depth': 5, 'max_bin': 858, 'cat_smooth': 19, 'cat_l2': 26.915495264288168}. Best is trial 0 with value: 0.7085765147166658.\u001b[0m\n"
     ]
    },
    {
     "name": "stdout",
     "output_type": "stream",
     "text": [
      "Training until validation scores don't improve for 200 rounds\n",
      "[1000]\tvalid_0's rmse: 0.714194\n",
      "[2000]\tvalid_0's rmse: 0.710885\n",
      "[3000]\tvalid_0's rmse: 0.709661\n",
      "[4000]\tvalid_0's rmse: 0.70918\n",
      "[5000]\tvalid_0's rmse: 0.709012\n",
      "[6000]\tvalid_0's rmse: 0.708929\n",
      "Early stopping, best iteration is:\n",
      "[6760]\tvalid_0's rmse: 0.708861\n",
      "Training until validation scores don't improve for 200 rounds\n",
      "[1000]\tvalid_0's rmse: 0.71415\n",
      "[2000]\tvalid_0's rmse: 0.710914\n",
      "[3000]\tvalid_0's rmse: 0.709752\n",
      "[4000]\tvalid_0's rmse: 0.709353\n",
      "[5000]\tvalid_0's rmse: 0.709149\n",
      "[6000]\tvalid_0's rmse: 0.709038\n",
      "[7000]\tvalid_0's rmse: 0.708985\n",
      "Early stopping, best iteration is:\n",
      "[7479]\tvalid_0's rmse: 0.708955\n"
     ]
    },
    {
     "name": "stderr",
     "output_type": "stream",
     "text": [
      "\u001b[32m[I 2021-08-24 01:50:24,540]\u001b[0m Trial 21 finished with value: 0.708663975706911 and parameters: {'reg_lambda': 29.08780069901383, 'reg_alpha': 32.0475249062769, 'subsample': 0.18414348528552185, 'colsample_bytree': 0.09580143624970415, 'learning_rate': 0.03499530728511069, 'min_child_samples': 55, 'num_leaves': 41, 'max_depth': 5, 'max_bin': 856, 'cat_smooth': 22, 'cat_l2': 26.32120024854782}. Best is trial 0 with value: 0.7085765147166658.\u001b[0m\n"
     ]
    },
    {
     "name": "stdout",
     "output_type": "stream",
     "text": [
      "Training until validation scores don't improve for 200 rounds\n",
      "[1000]\tvalid_0's rmse: 0.714041\n",
      "[2000]\tvalid_0's rmse: 0.710811\n",
      "[3000]\tvalid_0's rmse: 0.709627\n",
      "[4000]\tvalid_0's rmse: 0.709189\n",
      "[5000]\tvalid_0's rmse: 0.708995\n",
      "[6000]\tvalid_0's rmse: 0.708899\n",
      "[7000]\tvalid_0's rmse: 0.708823\n",
      "Early stopping, best iteration is:\n",
      "[7748]\tvalid_0's rmse: 0.708796\n",
      "Training until validation scores don't improve for 200 rounds\n",
      "[1000]\tvalid_0's rmse: 0.714083\n",
      "[2000]\tvalid_0's rmse: 0.710773\n",
      "[3000]\tvalid_0's rmse: 0.709661\n",
      "[4000]\tvalid_0's rmse: 0.709256\n",
      "[5000]\tvalid_0's rmse: 0.709074\n",
      "[6000]\tvalid_0's rmse: 0.708989\n",
      "[7000]\tvalid_0's rmse: 0.708941\n",
      "Early stopping, best iteration is:\n",
      "[7242]\tvalid_0's rmse: 0.708929\n"
     ]
    },
    {
     "name": "stderr",
     "output_type": "stream",
     "text": [
      "\u001b[32m[I 2021-08-24 01:55:11,765]\u001b[0m Trial 22 finished with value: 0.7086109544605645 and parameters: {'reg_lambda': 29.195405654306107, 'reg_alpha': 31.37734249561368, 'subsample': 0.20769801630145185, 'colsample_bytree': 0.07724280322542088, 'learning_rate': 0.035218931825885, 'min_child_samples': 54, 'num_leaves': 43, 'max_depth': 5, 'max_bin': 867, 'cat_smooth': 21, 'cat_l2': 27.825947700914664}. Best is trial 0 with value: 0.7085765147166658.\u001b[0m\n"
     ]
    },
    {
     "name": "stdout",
     "output_type": "stream",
     "text": [
      "Training until validation scores don't improve for 200 rounds\n",
      "[1000]\tvalid_0's rmse: 0.713432\n",
      "[2000]\tvalid_0's rmse: 0.71024\n",
      "[3000]\tvalid_0's rmse: 0.709385\n",
      "[4000]\tvalid_0's rmse: 0.709038\n",
      "Early stopping, best iteration is:\n",
      "[4612]\tvalid_0's rmse: 0.708972\n",
      "Training until validation scores don't improve for 200 rounds\n",
      "[1000]\tvalid_0's rmse: 0.713238\n",
      "[2000]\tvalid_0's rmse: 0.710303\n",
      "[3000]\tvalid_0's rmse: 0.709504\n",
      "[4000]\tvalid_0's rmse: 0.709247\n",
      "[5000]\tvalid_0's rmse: 0.709109\n",
      "[6000]\tvalid_0's rmse: 0.709047\n",
      "Early stopping, best iteration is:\n",
      "[6002]\tvalid_0's rmse: 0.709046\n"
     ]
    },
    {
     "name": "stderr",
     "output_type": "stream",
     "text": [
      "\u001b[32m[I 2021-08-24 01:59:03,423]\u001b[0m Trial 23 finished with value: 0.7087486765829685 and parameters: {'reg_lambda': 29.947769081298517, 'reg_alpha': 31.446739034564835, 'subsample': 0.21421193640129368, 'colsample_bytree': 0.07510968816892499, 'learning_rate': 0.03319558586825313, 'min_child_samples': 54, 'num_leaves': 43, 'max_depth': 6, 'max_bin': 868, 'cat_smooth': 20, 'cat_l2': 28.52716818715661}. Best is trial 0 with value: 0.7085765147166658.\u001b[0m\n"
     ]
    },
    {
     "name": "stdout",
     "output_type": "stream",
     "text": [
      "Training until validation scores don't improve for 200 rounds\n",
      "[1000]\tvalid_0's rmse: 0.716927\n",
      "[2000]\tvalid_0's rmse: 0.712886\n",
      "[3000]\tvalid_0's rmse: 0.71122\n",
      "[4000]\tvalid_0's rmse: 0.710328\n",
      "[5000]\tvalid_0's rmse: 0.709851\n",
      "[6000]\tvalid_0's rmse: 0.709531\n",
      "[7000]\tvalid_0's rmse: 0.709286\n",
      "[8000]\tvalid_0's rmse: 0.709137\n",
      "[9000]\tvalid_0's rmse: 0.709026\n",
      "[10000]\tvalid_0's rmse: 0.70896\n",
      "[11000]\tvalid_0's rmse: 0.70892\n",
      "Early stopping, best iteration is:\n",
      "[11326]\tvalid_0's rmse: 0.708905\n",
      "Training until validation scores don't improve for 200 rounds\n",
      "[1000]\tvalid_0's rmse: 0.717196\n",
      "[2000]\tvalid_0's rmse: 0.713007\n",
      "[3000]\tvalid_0's rmse: 0.711262\n",
      "[4000]\tvalid_0's rmse: 0.710355\n",
      "[5000]\tvalid_0's rmse: 0.709863\n",
      "[6000]\tvalid_0's rmse: 0.709589\n",
      "[7000]\tvalid_0's rmse: 0.709408\n",
      "[8000]\tvalid_0's rmse: 0.709265\n",
      "[9000]\tvalid_0's rmse: 0.709174\n",
      "[10000]\tvalid_0's rmse: 0.709096\n",
      "[11000]\tvalid_0's rmse: 0.709045\n",
      "[12000]\tvalid_0's rmse: 0.709017\n",
      "[13000]\tvalid_0's rmse: 0.708985\n",
      "[14000]\tvalid_0's rmse: 0.708966\n",
      "[15000]\tvalid_0's rmse: 0.708951\n",
      "Early stopping, best iteration is:\n",
      "[14960]\tvalid_0's rmse: 0.708949\n"
     ]
    },
    {
     "name": "stderr",
     "output_type": "stream",
     "text": [
      "\u001b[32m[I 2021-08-24 02:06:47,524]\u001b[0m Trial 24 finished with value: 0.7087000515912254 and parameters: {'reg_lambda': 29.0478116190584, 'reg_alpha': 29.991602144362254, 'subsample': 0.2009575740664912, 'colsample_bytree': 0.07665966081364248, 'learning_rate': 0.030406159194552602, 'min_child_samples': 57, 'num_leaves': 40, 'max_depth': 4, 'max_bin': 875, 'cat_smooth': 18, 'cat_l2': 27.85348207041406}. Best is trial 0 with value: 0.7085765147166658.\u001b[0m\n"
     ]
    },
    {
     "name": "stdout",
     "output_type": "stream",
     "text": [
      "Training until validation scores don't improve for 200 rounds\n",
      "[1000]\tvalid_0's rmse: 0.713884\n",
      "[2000]\tvalid_0's rmse: 0.710727\n",
      "[3000]\tvalid_0's rmse: 0.709643\n",
      "[4000]\tvalid_0's rmse: 0.709222\n",
      "[5000]\tvalid_0's rmse: 0.709089\n",
      "[6000]\tvalid_0's rmse: 0.708986\n",
      "[7000]\tvalid_0's rmse: 0.708927\n",
      "Early stopping, best iteration is:\n",
      "[6913]\tvalid_0's rmse: 0.708923\n",
      "Training until validation scores don't improve for 200 rounds\n",
      "[1000]\tvalid_0's rmse: 0.713909\n",
      "[2000]\tvalid_0's rmse: 0.710749\n",
      "[3000]\tvalid_0's rmse: 0.709699\n",
      "[4000]\tvalid_0's rmse: 0.709341\n",
      "[5000]\tvalid_0's rmse: 0.709148\n",
      "[6000]\tvalid_0's rmse: 0.709051\n",
      "[7000]\tvalid_0's rmse: 0.709002\n",
      "Early stopping, best iteration is:\n",
      "[7616]\tvalid_0's rmse: 0.708978\n"
     ]
    },
    {
     "name": "stderr",
     "output_type": "stream",
     "text": [
      "\u001b[32m[I 2021-08-24 02:11:24,971]\u001b[0m Trial 25 finished with value: 0.7086932417502393 and parameters: {'reg_lambda': 31.319817861394746, 'reg_alpha': 30.641091217483204, 'subsample': 0.2104492826047034, 'colsample_bytree': 0.09031569717374058, 'learning_rate': 0.03661433886540175, 'min_child_samples': 52, 'num_leaves': 43, 'max_depth': 5, 'max_bin': 849, 'cat_smooth': 20, 'cat_l2': 29.503400906885616}. Best is trial 0 with value: 0.7085765147166658.\u001b[0m\n"
     ]
    },
    {
     "name": "stdout",
     "output_type": "stream",
     "text": [
      "Training until validation scores don't improve for 200 rounds\n",
      "[1000]\tvalid_0's rmse: 0.714013\n",
      "[2000]\tvalid_0's rmse: 0.710868\n",
      "[3000]\tvalid_0's rmse: 0.709756\n",
      "[4000]\tvalid_0's rmse: 0.709318\n",
      "[5000]\tvalid_0's rmse: 0.709146\n",
      "[6000]\tvalid_0's rmse: 0.709043\n",
      "[7000]\tvalid_0's rmse: 0.708973\n",
      "[8000]\tvalid_0's rmse: 0.708906\n",
      "Early stopping, best iteration is:\n",
      "[8117]\tvalid_0's rmse: 0.708902\n",
      "Training until validation scores don't improve for 200 rounds\n",
      "[1000]\tvalid_0's rmse: 0.713924\n",
      "[2000]\tvalid_0's rmse: 0.710706\n",
      "[3000]\tvalid_0's rmse: 0.709607\n",
      "[4000]\tvalid_0's rmse: 0.709208\n",
      "[5000]\tvalid_0's rmse: 0.709004\n",
      "[6000]\tvalid_0's rmse: 0.708868\n",
      "[7000]\tvalid_0's rmse: 0.708817\n",
      "Early stopping, best iteration is:\n",
      "[6908]\tvalid_0's rmse: 0.70881\n"
     ]
    },
    {
     "name": "stderr",
     "output_type": "stream",
     "text": [
      "\u001b[32m[I 2021-08-24 02:16:11,004]\u001b[0m Trial 26 finished with value: 0.7086127811418564 and parameters: {'reg_lambda': 32.80773431341397, 'reg_alpha': 33.25117204329168, 'subsample': 0.2251812616010934, 'colsample_bytree': 0.10321039219603506, 'learning_rate': 0.03647993589026244, 'min_child_samples': 54, 'num_leaves': 41, 'max_depth': 5, 'max_bin': 865, 'cat_smooth': 21, 'cat_l2': 22.776632573602384}. Best is trial 0 with value: 0.7085765147166658.\u001b[0m\n"
     ]
    },
    {
     "name": "stdout",
     "output_type": "stream",
     "text": [
      "Training until validation scores don't improve for 200 rounds\n",
      "[1000]\tvalid_0's rmse: 0.714289\n",
      "[2000]\tvalid_0's rmse: 0.711288\n",
      "[3000]\tvalid_0's rmse: 0.710662\n",
      "[4000]\tvalid_0's rmse: 0.710413\n",
      "[5000]\tvalid_0's rmse: 0.710311\n",
      "[6000]\tvalid_0's rmse: 0.710269\n",
      "[7000]\tvalid_0's rmse: 0.71025\n",
      "[8000]\tvalid_0's rmse: 0.710237\n",
      "[9000]\tvalid_0's rmse: 0.710229\n",
      "Early stopping, best iteration is:\n",
      "[8864]\tvalid_0's rmse: 0.710229\n",
      "Training until validation scores don't improve for 200 rounds\n",
      "[1000]\tvalid_0's rmse: 0.714361\n",
      "[2000]\tvalid_0's rmse: 0.711164\n",
      "[3000]\tvalid_0's rmse: 0.710456\n",
      "[4000]\tvalid_0's rmse: 0.710229\n",
      "[5000]\tvalid_0's rmse: 0.710118\n",
      "[6000]\tvalid_0's rmse: 0.710064\n",
      "[7000]\tvalid_0's rmse: 0.710038\n",
      "[8000]\tvalid_0's rmse: 0.710021\n",
      "[9000]\tvalid_0's rmse: 0.710012\n",
      "[10000]\tvalid_0's rmse: 0.710007\n",
      "[11000]\tvalid_0's rmse: 0.710004\n",
      "[12000]\tvalid_0's rmse: 0.710001\n",
      "Early stopping, best iteration is:\n",
      "[11842]\tvalid_0's rmse: 0.710001\n"
     ]
    },
    {
     "name": "stderr",
     "output_type": "stream",
     "text": [
      "\u001b[32m[I 2021-08-24 02:20:20,310]\u001b[0m Trial 27 finished with value: 0.7100083481446587 and parameters: {'reg_lambda': 33.099832097580816, 'reg_alpha': 33.11089645401093, 'subsample': 0.22558056966107481, 'colsample_bytree': 0.05763908383625652, 'learning_rate': 0.03837254230990031, 'min_child_samples': 54, 'num_leaves': 38, 'max_depth': 6, 'max_bin': 852, 'cat_smooth': 21, 'cat_l2': 22.01496496248816}. Best is trial 0 with value: 0.7085765147166658.\u001b[0m\n"
     ]
    },
    {
     "name": "stdout",
     "output_type": "stream",
     "text": [
      "Training until validation scores don't improve for 200 rounds\n",
      "[1000]\tvalid_0's rmse: 0.715753\n",
      "[2000]\tvalid_0's rmse: 0.712102\n",
      "[3000]\tvalid_0's rmse: 0.710587\n",
      "[4000]\tvalid_0's rmse: 0.709842\n",
      "[5000]\tvalid_0's rmse: 0.709501\n",
      "[6000]\tvalid_0's rmse: 0.709206\n",
      "[7000]\tvalid_0's rmse: 0.709026\n",
      "[8000]\tvalid_0's rmse: 0.70893\n",
      "[9000]\tvalid_0's rmse: 0.708842\n",
      "[10000]\tvalid_0's rmse: 0.708782\n",
      "[11000]\tvalid_0's rmse: 0.708729\n",
      "[12000]\tvalid_0's rmse: 0.708704\n",
      "[13000]\tvalid_0's rmse: 0.708675\n",
      "[14000]\tvalid_0's rmse: 0.708657\n",
      "[15000]\tvalid_0's rmse: 0.708641\n",
      "[16000]\tvalid_0's rmse: 0.708629\n",
      "Early stopping, best iteration is:\n",
      "[15873]\tvalid_0's rmse: 0.708626\n",
      "Training until validation scores don't improve for 200 rounds\n",
      "[1000]\tvalid_0's rmse: 0.716114\n",
      "[2000]\tvalid_0's rmse: 0.712246\n",
      "[3000]\tvalid_0's rmse: 0.710768\n",
      "[4000]\tvalid_0's rmse: 0.709975\n",
      "[5000]\tvalid_0's rmse: 0.709575\n",
      "[6000]\tvalid_0's rmse: 0.709338\n",
      "[7000]\tvalid_0's rmse: 0.709196\n",
      "[8000]\tvalid_0's rmse: 0.709079\n",
      "[9000]\tvalid_0's rmse: 0.709017\n",
      "[10000]\tvalid_0's rmse: 0.70894\n",
      "[11000]\tvalid_0's rmse: 0.708901\n",
      "[12000]\tvalid_0's rmse: 0.708865\n",
      "[13000]\tvalid_0's rmse: 0.708846\n",
      "[14000]\tvalid_0's rmse: 0.708823\n",
      "Early stopping, best iteration is:\n",
      "[14711]\tvalid_0's rmse: 0.708812\n"
     ]
    },
    {
     "name": "stderr",
     "output_type": "stream",
     "text": [
      "\u001b[32m[I 2021-08-24 02:28:51,380]\u001b[0m Trial 28 finished with value: 0.7085074339931049 and parameters: {'reg_lambda': 33.93572114516547, 'reg_alpha': 33.62934849863741, 'subsample': 0.21953523935854952, 'colsample_bytree': 0.103283511215348, 'learning_rate': 0.03638976294584761, 'min_child_samples': 51, 'num_leaves': 41, 'max_depth': 4, 'max_bin': 870, 'cat_smooth': 23, 'cat_l2': 22.923539663380268}. Best is trial 28 with value: 0.7085074339931049.\u001b[0m\n"
     ]
    },
    {
     "name": "stdout",
     "output_type": "stream",
     "text": [
      "Training until validation scores don't improve for 200 rounds\n",
      "[1000]\tvalid_0's rmse: 0.714562\n",
      "[2000]\tvalid_0's rmse: 0.711376\n",
      "[3000]\tvalid_0's rmse: 0.710115\n",
      "[4000]\tvalid_0's rmse: 0.709519\n",
      "[5000]\tvalid_0's rmse: 0.709232\n",
      "[6000]\tvalid_0's rmse: 0.709042\n",
      "[7000]\tvalid_0's rmse: 0.708919\n",
      "[8000]\tvalid_0's rmse: 0.708852\n",
      "[9000]\tvalid_0's rmse: 0.708785\n",
      "[10000]\tvalid_0's rmse: 0.708744\n",
      "Early stopping, best iteration is:\n",
      "[10680]\tvalid_0's rmse: 0.708719\n",
      "Training until validation scores don't improve for 200 rounds\n",
      "[1000]\tvalid_0's rmse: 0.715033\n",
      "[2000]\tvalid_0's rmse: 0.711622\n",
      "[3000]\tvalid_0's rmse: 0.710286\n",
      "[4000]\tvalid_0's rmse: 0.709719\n",
      "[5000]\tvalid_0's rmse: 0.709391\n",
      "[6000]\tvalid_0's rmse: 0.709195\n",
      "[7000]\tvalid_0's rmse: 0.70908\n",
      "[8000]\tvalid_0's rmse: 0.709016\n",
      "[9000]\tvalid_0's rmse: 0.708967\n",
      "[10000]\tvalid_0's rmse: 0.708912\n",
      "[11000]\tvalid_0's rmse: 0.708881\n",
      "[12000]\tvalid_0's rmse: 0.708862\n",
      "[13000]\tvalid_0's rmse: 0.708839\n",
      "[14000]\tvalid_0's rmse: 0.708826\n",
      "Early stopping, best iteration is:\n",
      "[14628]\tvalid_0's rmse: 0.708819\n"
     ]
    },
    {
     "name": "stderr",
     "output_type": "stream",
     "text": [
      "\u001b[32m[I 2021-08-24 02:35:41,779]\u001b[0m Trial 29 finished with value: 0.7085576390510198 and parameters: {'reg_lambda': 34.0188035399498, 'reg_alpha': 33.76374074749085, 'subsample': 0.21601062133127855, 'colsample_bytree': 0.08115813727344115, 'learning_rate': 0.04314077517210314, 'min_child_samples': 51, 'num_leaves': 40, 'max_depth': 4, 'max_bin': 870, 'cat_smooth': 23, 'cat_l2': 23.559253908877295}. Best is trial 28 with value: 0.7085074339931049.\u001b[0m\n"
     ]
    },
    {
     "name": "stdout",
     "output_type": "stream",
     "text": [
      "Number of finished trials: 30\n",
      "Best trial: {'reg_lambda': 33.93572114516547, 'reg_alpha': 33.62934849863741, 'subsample': 0.21953523935854952, 'colsample_bytree': 0.103283511215348, 'learning_rate': 0.03638976294584761, 'min_child_samples': 51, 'num_leaves': 41, 'max_depth': 4, 'max_bin': 870, 'cat_smooth': 23, 'cat_l2': 22.923539663380268}\n"
     ]
    }
   ],
   "source": [
    "study = optuna.create_study(direction='minimize')\n",
    "study.optimize(objective,n_trials= 30)\n",
    "print('Number of finished trials:', len(study.trials))\n",
    "print('Best trial:', study.best_trial.params)"
   ]
  },
  {
   "cell_type": "code",
   "execution_count": 14,
   "id": "1ae744d2",
   "metadata": {
    "execution": {
     "iopub.execute_input": "2021-08-24T02:35:42.251964Z",
     "iopub.status.busy": "2021-08-24T02:35:42.251108Z",
     "iopub.status.idle": "2021-08-24T02:35:42.255584Z",
     "shell.execute_reply": "2021-08-24T02:35:42.254845Z"
    },
    "papermill": {
     "duration": 0.234333,
     "end_time": "2021-08-24T02:35:42.255765",
     "exception": false,
     "start_time": "2021-08-24T02:35:42.021432",
     "status": "completed"
    },
    "tags": []
   },
   "outputs": [
    {
     "data": {
      "text/plain": [
       "{'reg_lambda': 33.93572114516547,\n",
       " 'reg_alpha': 33.62934849863741,\n",
       " 'subsample': 0.21953523935854952,\n",
       " 'colsample_bytree': 0.103283511215348,\n",
       " 'learning_rate': 0.03638976294584761,\n",
       " 'min_child_samples': 51,\n",
       " 'num_leaves': 41,\n",
       " 'max_depth': 4,\n",
       " 'max_bin': 870,\n",
       " 'cat_smooth': 23,\n",
       " 'cat_l2': 22.923539663380268}"
      ]
     },
     "execution_count": 14,
     "metadata": {},
     "output_type": "execute_result"
    }
   ],
   "source": [
    "study.best_params"
   ]
  },
  {
   "cell_type": "markdown",
   "id": "682de0cf",
   "metadata": {
    "papermill": {
     "duration": 0.226431,
     "end_time": "2021-08-24T02:35:42.708692",
     "exception": false,
     "start_time": "2021-08-24T02:35:42.482261",
     "status": "completed"
    },
    "tags": []
   },
   "source": [
    "# Log\n",
    "\n",
    "====== Ordinal encoding =========\n",
    "\n",
    "0.709167665584924 no noise ver9\n",
    "\n",
    "0.7087162719562731 no noise ver16 (narrow space)\n",
    "\n",
    "0.7086508785373714 no noise ver17 (narrow space) final\n",
    "\n",
    "0.7127333982112984 row-wise noise ver10\n",
    "\n",
    "0.7126600249836035 random noise ver11\n",
    "\n",
    "====== One-hot encoding =========\n",
    "\n",
    "0.7205030924594267 no noise ver13\n",
    "\n",
    "0.722057702839371 random noise ver14\n",
    "\n",
    "0.7222305639305339 row-wise noise ver15\n",
    "\n",
    "==========================================\n",
    "=========== Changed pseudo ===============\n",
    "\n",
    "====== Ordinal encoding =========\n",
    "\n",
    "0.709174903761106 no noise ver20\n",
    "\n",
    "0.7086337003244899 no noise ver21 (narrow space)\n",
    "\n",
    "0.708623028878119 no noise ver22 (narrow space)\n"
   ]
  }
 ],
 "metadata": {
  "kernelspec": {
   "display_name": "Python 3",
   "language": "python",
   "name": "python3"
  },
  "language_info": {
   "codemirror_mode": {
    "name": "ipython",
    "version": 3
   },
   "file_extension": ".py",
   "mimetype": "text/x-python",
   "name": "python",
   "nbconvert_exporter": "python",
   "pygments_lexer": "ipython3",
   "version": "3.7.10"
  },
  "papermill": {
   "default_parameters": {},
   "duration": 9277.870545,
   "end_time": "2021-08-24T02:35:44.566444",
   "environment_variables": {},
   "exception": null,
   "input_path": "__notebook__.ipynb",
   "output_path": "__notebook__.ipynb",
   "parameters": {},
   "start_time": "2021-08-24T00:01:06.695899",
   "version": "2.3.3"
  }
 },
 "nbformat": 4,
 "nbformat_minor": 5
}
