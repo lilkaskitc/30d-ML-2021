{
 "cells": [
  {
   "cell_type": "code",
   "execution_count": 1,
   "id": "cc7e3ee2",
   "metadata": {
    "_cell_guid": "b1076dfc-b9ad-4769-8c92-a6c4dae69d19",
    "_uuid": "8f2839f25d086af736a60e9eeb907d3b93b6e0e5",
    "execution": {
     "iopub.execute_input": "2021-08-24T06:31:50.809247Z",
     "iopub.status.busy": "2021-08-24T06:31:50.807426Z",
     "iopub.status.idle": "2021-08-24T06:31:51.944226Z",
     "shell.execute_reply": "2021-08-24T06:31:51.943526Z",
     "shell.execute_reply.started": "2021-08-20T04:03:17.046357Z"
    },
    "papermill": {
     "duration": 1.158303,
     "end_time": "2021-08-24T06:31:51.944418",
     "exception": false,
     "start_time": "2021-08-24T06:31:50.786115",
     "status": "completed"
    },
    "tags": []
   },
   "outputs": [],
   "source": [
    "# Familiar imports\n",
    "import numpy as np\n",
    "import pandas as pd\n",
    "import random\n",
    "import os\n",
    "import time\n",
    "from pathlib import Path\n",
    "\n",
    "from sklearn.preprocessing import StandardScaler\n",
    "from sklearn.model_selection import KFold, train_test_split\n",
    "from sklearn.metrics import mean_squared_error\n",
    "from sklearn.preprocessing import OrdinalEncoder, OneHotEncoder\n",
    "\n",
    "#import lightgbm as lgb\n",
    "import xgboost as xgb\n",
    "#import catboost as ctb\n",
    "\n",
    "import warnings\n",
    "warnings.simplefilter('ignore')"
   ]
  },
  {
   "cell_type": "markdown",
   "id": "f0093263",
   "metadata": {
    "papermill": {
     "duration": 0.01509,
     "end_time": "2021-08-24T06:31:51.975767",
     "exception": false,
     "start_time": "2021-08-24T06:31:51.960677",
     "status": "completed"
    },
    "tags": []
   },
   "source": [
    "# Parameters"
   ]
  },
  {
   "cell_type": "code",
   "execution_count": 2,
   "id": "14b73f0b",
   "metadata": {
    "execution": {
     "iopub.execute_input": "2021-08-24T06:31:52.013532Z",
     "iopub.status.busy": "2021-08-24T06:31:52.012698Z",
     "iopub.status.idle": "2021-08-24T06:31:52.015650Z",
     "shell.execute_reply": "2021-08-24T06:31:52.016117Z",
     "shell.execute_reply.started": "2021-08-20T04:03:18.510416Z"
    },
    "papermill": {
     "duration": 0.025468,
     "end_time": "2021-08-24T06:31:52.016310",
     "exception": false,
     "start_time": "2021-08-24T06:31:51.990842",
     "status": "completed"
    },
    "tags": []
   },
   "outputs": [],
   "source": [
    "target = 'target'\n",
    "\n",
    "DEBUG = False\n",
    "\n",
    "if DEBUG:\n",
    "    N_ESTIMATORS = 1\n",
    "    N_SPLITS = 2\n",
    "    SEED = 17\n",
    "    CVSEED = 17\n",
    "    EARLY_STOPPING_ROUNDS = 1\n",
    "    VERBOSE = 100\n",
    "    #N_ITERS = 2\n",
    "else:\n",
    "    N_SPLITS = 10\n",
    "    N_ESTIMATORS = 20000\n",
    "    EARLY_STOPPING_ROUNDS = 200\n",
    "    VERBOSE = 1000\n",
    "    SEED = 17\n",
    "    CVSEED = 17\n",
    "    #N_ITERS = 10"
   ]
  },
  {
   "cell_type": "code",
   "execution_count": 3,
   "id": "b04bec10",
   "metadata": {
    "execution": {
     "iopub.execute_input": "2021-08-24T06:31:52.052456Z",
     "iopub.status.busy": "2021-08-24T06:31:52.051786Z",
     "iopub.status.idle": "2021-08-24T06:31:52.053696Z",
     "shell.execute_reply": "2021-08-24T06:31:52.054174Z",
     "shell.execute_reply.started": "2021-08-20T04:03:18.522875Z"
    },
    "papermill": {
     "duration": 0.022475,
     "end_time": "2021-08-24T06:31:52.054360",
     "exception": false,
     "start_time": "2021-08-24T06:31:52.031885",
     "status": "completed"
    },
    "tags": []
   },
   "outputs": [],
   "source": [
    "def set_seed(seed=17):\n",
    "    random.seed(seed)\n",
    "    os.environ['PYTHONHASHSEED'] = str(seed)\n",
    "    np.random.seed(seed)\n",
    "    \n",
    "set_seed(SEED)"
   ]
  },
  {
   "cell_type": "markdown",
   "id": "f4a77041",
   "metadata": {
    "papermill": {
     "duration": 0.014895,
     "end_time": "2021-08-24T06:31:52.084332",
     "exception": false,
     "start_time": "2021-08-24T06:31:52.069437",
     "status": "completed"
    },
    "tags": []
   },
   "source": [
    "# Load data"
   ]
  },
  {
   "cell_type": "code",
   "execution_count": 4,
   "id": "62057df6",
   "metadata": {
    "execution": {
     "iopub.execute_input": "2021-08-24T06:31:52.117516Z",
     "iopub.status.busy": "2021-08-24T06:31:52.116829Z",
     "iopub.status.idle": "2021-08-24T06:31:56.131746Z",
     "shell.execute_reply": "2021-08-24T06:31:56.132219Z",
     "shell.execute_reply.started": "2021-08-20T04:03:18.539486Z"
    },
    "papermill": {
     "duration": 4.03308,
     "end_time": "2021-08-24T06:31:56.132414",
     "exception": false,
     "start_time": "2021-08-24T06:31:52.099334",
     "status": "completed"
    },
    "tags": []
   },
   "outputs": [
    {
     "data": {
      "text/html": [
       "<div>\n",
       "<style scoped>\n",
       "    .dataframe tbody tr th:only-of-type {\n",
       "        vertical-align: middle;\n",
       "    }\n",
       "\n",
       "    .dataframe tbody tr th {\n",
       "        vertical-align: top;\n",
       "    }\n",
       "\n",
       "    .dataframe thead th {\n",
       "        text-align: right;\n",
       "    }\n",
       "</style>\n",
       "<table border=\"1\" class=\"dataframe\">\n",
       "  <thead>\n",
       "    <tr style=\"text-align: right;\">\n",
       "      <th></th>\n",
       "      <th>id</th>\n",
       "      <th>cat0</th>\n",
       "      <th>cat1</th>\n",
       "      <th>cat2</th>\n",
       "      <th>cat3</th>\n",
       "      <th>cat4</th>\n",
       "      <th>cat5</th>\n",
       "      <th>cat6</th>\n",
       "      <th>cat7</th>\n",
       "      <th>cat8</th>\n",
       "      <th>...</th>\n",
       "      <th>cont5</th>\n",
       "      <th>cont6</th>\n",
       "      <th>cont7</th>\n",
       "      <th>cont8</th>\n",
       "      <th>cont9</th>\n",
       "      <th>cont10</th>\n",
       "      <th>cont11</th>\n",
       "      <th>cont12</th>\n",
       "      <th>cont13</th>\n",
       "      <th>target</th>\n",
       "    </tr>\n",
       "  </thead>\n",
       "  <tbody>\n",
       "    <tr>\n",
       "      <th>0</th>\n",
       "      <td>1</td>\n",
       "      <td>B</td>\n",
       "      <td>B</td>\n",
       "      <td>B</td>\n",
       "      <td>C</td>\n",
       "      <td>B</td>\n",
       "      <td>B</td>\n",
       "      <td>A</td>\n",
       "      <td>E</td>\n",
       "      <td>C</td>\n",
       "      <td>...</td>\n",
       "      <td>0.400361</td>\n",
       "      <td>0.160266</td>\n",
       "      <td>0.310921</td>\n",
       "      <td>0.389470</td>\n",
       "      <td>0.267559</td>\n",
       "      <td>0.237281</td>\n",
       "      <td>0.377873</td>\n",
       "      <td>0.322401</td>\n",
       "      <td>0.869850</td>\n",
       "      <td>8.113634</td>\n",
       "    </tr>\n",
       "    <tr>\n",
       "      <th>1</th>\n",
       "      <td>2</td>\n",
       "      <td>B</td>\n",
       "      <td>B</td>\n",
       "      <td>A</td>\n",
       "      <td>A</td>\n",
       "      <td>B</td>\n",
       "      <td>D</td>\n",
       "      <td>A</td>\n",
       "      <td>F</td>\n",
       "      <td>A</td>\n",
       "      <td>...</td>\n",
       "      <td>0.533087</td>\n",
       "      <td>0.558922</td>\n",
       "      <td>0.516294</td>\n",
       "      <td>0.594928</td>\n",
       "      <td>0.341439</td>\n",
       "      <td>0.906013</td>\n",
       "      <td>0.921701</td>\n",
       "      <td>0.261975</td>\n",
       "      <td>0.465083</td>\n",
       "      <td>8.481233</td>\n",
       "    </tr>\n",
       "    <tr>\n",
       "      <th>2</th>\n",
       "      <td>3</td>\n",
       "      <td>A</td>\n",
       "      <td>A</td>\n",
       "      <td>A</td>\n",
       "      <td>C</td>\n",
       "      <td>B</td>\n",
       "      <td>D</td>\n",
       "      <td>A</td>\n",
       "      <td>D</td>\n",
       "      <td>A</td>\n",
       "      <td>...</td>\n",
       "      <td>0.650609</td>\n",
       "      <td>0.375348</td>\n",
       "      <td>0.902567</td>\n",
       "      <td>0.555205</td>\n",
       "      <td>0.843531</td>\n",
       "      <td>0.748809</td>\n",
       "      <td>0.620126</td>\n",
       "      <td>0.541474</td>\n",
       "      <td>0.763846</td>\n",
       "      <td>8.364351</td>\n",
       "    </tr>\n",
       "    <tr>\n",
       "      <th>3</th>\n",
       "      <td>4</td>\n",
       "      <td>B</td>\n",
       "      <td>B</td>\n",
       "      <td>A</td>\n",
       "      <td>C</td>\n",
       "      <td>B</td>\n",
       "      <td>D</td>\n",
       "      <td>A</td>\n",
       "      <td>E</td>\n",
       "      <td>C</td>\n",
       "      <td>...</td>\n",
       "      <td>0.668980</td>\n",
       "      <td>0.239061</td>\n",
       "      <td>0.732948</td>\n",
       "      <td>0.679618</td>\n",
       "      <td>0.574844</td>\n",
       "      <td>0.346010</td>\n",
       "      <td>0.714610</td>\n",
       "      <td>0.540150</td>\n",
       "      <td>0.280682</td>\n",
       "      <td>8.049253</td>\n",
       "    </tr>\n",
       "    <tr>\n",
       "      <th>4</th>\n",
       "      <td>6</td>\n",
       "      <td>A</td>\n",
       "      <td>A</td>\n",
       "      <td>A</td>\n",
       "      <td>C</td>\n",
       "      <td>B</td>\n",
       "      <td>D</td>\n",
       "      <td>A</td>\n",
       "      <td>E</td>\n",
       "      <td>A</td>\n",
       "      <td>...</td>\n",
       "      <td>0.686964</td>\n",
       "      <td>0.420667</td>\n",
       "      <td>0.648182</td>\n",
       "      <td>0.684501</td>\n",
       "      <td>0.956692</td>\n",
       "      <td>1.000773</td>\n",
       "      <td>0.776742</td>\n",
       "      <td>0.625849</td>\n",
       "      <td>0.250823</td>\n",
       "      <td>7.972260</td>\n",
       "    </tr>\n",
       "  </tbody>\n",
       "</table>\n",
       "<p>5 rows × 26 columns</p>\n",
       "</div>"
      ],
      "text/plain": [
       "   id cat0 cat1 cat2 cat3 cat4 cat5 cat6 cat7 cat8  ...     cont5     cont6  \\\n",
       "0   1    B    B    B    C    B    B    A    E    C  ...  0.400361  0.160266   \n",
       "1   2    B    B    A    A    B    D    A    F    A  ...  0.533087  0.558922   \n",
       "2   3    A    A    A    C    B    D    A    D    A  ...  0.650609  0.375348   \n",
       "3   4    B    B    A    C    B    D    A    E    C  ...  0.668980  0.239061   \n",
       "4   6    A    A    A    C    B    D    A    E    A  ...  0.686964  0.420667   \n",
       "\n",
       "      cont7     cont8     cont9    cont10    cont11    cont12    cont13  \\\n",
       "0  0.310921  0.389470  0.267559  0.237281  0.377873  0.322401  0.869850   \n",
       "1  0.516294  0.594928  0.341439  0.906013  0.921701  0.261975  0.465083   \n",
       "2  0.902567  0.555205  0.843531  0.748809  0.620126  0.541474  0.763846   \n",
       "3  0.732948  0.679618  0.574844  0.346010  0.714610  0.540150  0.280682   \n",
       "4  0.648182  0.684501  0.956692  1.000773  0.776742  0.625849  0.250823   \n",
       "\n",
       "     target  \n",
       "0  8.113634  \n",
       "1  8.481233  \n",
       "2  8.364351  \n",
       "3  8.049253  \n",
       "4  7.972260  \n",
       "\n",
       "[5 rows x 26 columns]"
      ]
     },
     "execution_count": 4,
     "metadata": {},
     "output_type": "execute_result"
    }
   ],
   "source": [
    "# Load the training data\n",
    "train = pd.read_csv(\"../input/30-days-of-ml/train.csv\")\n",
    "test = pd.read_csv(\"../input/30-days-of-ml/test.csv\")\n",
    "\n",
    "# Preview the data\n",
    "train.head()"
   ]
  },
  {
   "cell_type": "code",
   "execution_count": 5,
   "id": "6db92014",
   "metadata": {
    "execution": {
     "iopub.execute_input": "2021-08-24T06:31:56.239945Z",
     "iopub.status.busy": "2021-08-24T06:31:56.199778Z",
     "iopub.status.idle": "2021-08-24T06:31:56.244481Z",
     "shell.execute_reply": "2021-08-24T06:31:56.245019Z",
     "shell.execute_reply.started": "2021-08-20T04:03:23.520473Z"
    },
    "papermill": {
     "duration": 0.095728,
     "end_time": "2021-08-24T06:31:56.245227",
     "exception": false,
     "start_time": "2021-08-24T06:31:56.149499",
     "status": "completed"
    },
    "tags": []
   },
   "outputs": [
    {
     "data": {
      "text/html": [
       "<div>\n",
       "<style scoped>\n",
       "    .dataframe tbody tr th:only-of-type {\n",
       "        vertical-align: middle;\n",
       "    }\n",
       "\n",
       "    .dataframe tbody tr th {\n",
       "        vertical-align: top;\n",
       "    }\n",
       "\n",
       "    .dataframe thead th {\n",
       "        text-align: right;\n",
       "    }\n",
       "</style>\n",
       "<table border=\"1\" class=\"dataframe\">\n",
       "  <thead>\n",
       "    <tr style=\"text-align: right;\">\n",
       "      <th></th>\n",
       "      <th>cat0</th>\n",
       "      <th>cat1</th>\n",
       "      <th>cat2</th>\n",
       "      <th>cat3</th>\n",
       "      <th>cat4</th>\n",
       "      <th>cat5</th>\n",
       "      <th>cat6</th>\n",
       "      <th>cat7</th>\n",
       "      <th>cat8</th>\n",
       "      <th>cat9</th>\n",
       "      <th>...</th>\n",
       "      <th>cont4</th>\n",
       "      <th>cont5</th>\n",
       "      <th>cont6</th>\n",
       "      <th>cont7</th>\n",
       "      <th>cont8</th>\n",
       "      <th>cont9</th>\n",
       "      <th>cont10</th>\n",
       "      <th>cont11</th>\n",
       "      <th>cont12</th>\n",
       "      <th>cont13</th>\n",
       "    </tr>\n",
       "  </thead>\n",
       "  <tbody>\n",
       "    <tr>\n",
       "      <th>0</th>\n",
       "      <td>B</td>\n",
       "      <td>B</td>\n",
       "      <td>B</td>\n",
       "      <td>C</td>\n",
       "      <td>B</td>\n",
       "      <td>B</td>\n",
       "      <td>A</td>\n",
       "      <td>E</td>\n",
       "      <td>C</td>\n",
       "      <td>N</td>\n",
       "      <td>...</td>\n",
       "      <td>0.610706</td>\n",
       "      <td>0.400361</td>\n",
       "      <td>0.160266</td>\n",
       "      <td>0.310921</td>\n",
       "      <td>0.389470</td>\n",
       "      <td>0.267559</td>\n",
       "      <td>0.237281</td>\n",
       "      <td>0.377873</td>\n",
       "      <td>0.322401</td>\n",
       "      <td>0.869850</td>\n",
       "    </tr>\n",
       "    <tr>\n",
       "      <th>1</th>\n",
       "      <td>B</td>\n",
       "      <td>B</td>\n",
       "      <td>A</td>\n",
       "      <td>A</td>\n",
       "      <td>B</td>\n",
       "      <td>D</td>\n",
       "      <td>A</td>\n",
       "      <td>F</td>\n",
       "      <td>A</td>\n",
       "      <td>O</td>\n",
       "      <td>...</td>\n",
       "      <td>0.276853</td>\n",
       "      <td>0.533087</td>\n",
       "      <td>0.558922</td>\n",
       "      <td>0.516294</td>\n",
       "      <td>0.594928</td>\n",
       "      <td>0.341439</td>\n",
       "      <td>0.906013</td>\n",
       "      <td>0.921701</td>\n",
       "      <td>0.261975</td>\n",
       "      <td>0.465083</td>\n",
       "    </tr>\n",
       "    <tr>\n",
       "      <th>2</th>\n",
       "      <td>A</td>\n",
       "      <td>A</td>\n",
       "      <td>A</td>\n",
       "      <td>C</td>\n",
       "      <td>B</td>\n",
       "      <td>D</td>\n",
       "      <td>A</td>\n",
       "      <td>D</td>\n",
       "      <td>A</td>\n",
       "      <td>F</td>\n",
       "      <td>...</td>\n",
       "      <td>0.285074</td>\n",
       "      <td>0.650609</td>\n",
       "      <td>0.375348</td>\n",
       "      <td>0.902567</td>\n",
       "      <td>0.555205</td>\n",
       "      <td>0.843531</td>\n",
       "      <td>0.748809</td>\n",
       "      <td>0.620126</td>\n",
       "      <td>0.541474</td>\n",
       "      <td>0.763846</td>\n",
       "    </tr>\n",
       "    <tr>\n",
       "      <th>3</th>\n",
       "      <td>B</td>\n",
       "      <td>B</td>\n",
       "      <td>A</td>\n",
       "      <td>C</td>\n",
       "      <td>B</td>\n",
       "      <td>D</td>\n",
       "      <td>A</td>\n",
       "      <td>E</td>\n",
       "      <td>C</td>\n",
       "      <td>K</td>\n",
       "      <td>...</td>\n",
       "      <td>0.284667</td>\n",
       "      <td>0.668980</td>\n",
       "      <td>0.239061</td>\n",
       "      <td>0.732948</td>\n",
       "      <td>0.679618</td>\n",
       "      <td>0.574844</td>\n",
       "      <td>0.346010</td>\n",
       "      <td>0.714610</td>\n",
       "      <td>0.540150</td>\n",
       "      <td>0.280682</td>\n",
       "    </tr>\n",
       "    <tr>\n",
       "      <th>4</th>\n",
       "      <td>A</td>\n",
       "      <td>A</td>\n",
       "      <td>A</td>\n",
       "      <td>C</td>\n",
       "      <td>B</td>\n",
       "      <td>D</td>\n",
       "      <td>A</td>\n",
       "      <td>E</td>\n",
       "      <td>A</td>\n",
       "      <td>N</td>\n",
       "      <td>...</td>\n",
       "      <td>0.287595</td>\n",
       "      <td>0.686964</td>\n",
       "      <td>0.420667</td>\n",
       "      <td>0.648182</td>\n",
       "      <td>0.684501</td>\n",
       "      <td>0.956692</td>\n",
       "      <td>1.000773</td>\n",
       "      <td>0.776742</td>\n",
       "      <td>0.625849</td>\n",
       "      <td>0.250823</td>\n",
       "    </tr>\n",
       "  </tbody>\n",
       "</table>\n",
       "<p>5 rows × 24 columns</p>\n",
       "</div>"
      ],
      "text/plain": [
       "  cat0 cat1 cat2 cat3 cat4 cat5 cat6 cat7 cat8 cat9  ...     cont4     cont5  \\\n",
       "0    B    B    B    C    B    B    A    E    C    N  ...  0.610706  0.400361   \n",
       "1    B    B    A    A    B    D    A    F    A    O  ...  0.276853  0.533087   \n",
       "2    A    A    A    C    B    D    A    D    A    F  ...  0.285074  0.650609   \n",
       "3    B    B    A    C    B    D    A    E    C    K  ...  0.284667  0.668980   \n",
       "4    A    A    A    C    B    D    A    E    A    N  ...  0.287595  0.686964   \n",
       "\n",
       "      cont6     cont7     cont8     cont9    cont10    cont11    cont12  \\\n",
       "0  0.160266  0.310921  0.389470  0.267559  0.237281  0.377873  0.322401   \n",
       "1  0.558922  0.516294  0.594928  0.341439  0.906013  0.921701  0.261975   \n",
       "2  0.375348  0.902567  0.555205  0.843531  0.748809  0.620126  0.541474   \n",
       "3  0.239061  0.732948  0.679618  0.574844  0.346010  0.714610  0.540150   \n",
       "4  0.420667  0.648182  0.684501  0.956692  1.000773  0.776742  0.625849   \n",
       "\n",
       "     cont13  \n",
       "0  0.869850  \n",
       "1  0.465083  \n",
       "2  0.763846  \n",
       "3  0.280682  \n",
       "4  0.250823  \n",
       "\n",
       "[5 rows x 24 columns]"
      ]
     },
     "execution_count": 5,
     "metadata": {},
     "output_type": "execute_result"
    }
   ],
   "source": [
    "# Separate target from features\n",
    "y = train['target']\n",
    "features = train.drop(['id','target'], axis=1)\n",
    "\n",
    "# Preview features\n",
    "features.head()"
   ]
  },
  {
   "cell_type": "markdown",
   "id": "0c474bd9",
   "metadata": {
    "papermill": {
     "duration": 0.015913,
     "end_time": "2021-08-24T06:31:56.278971",
     "exception": false,
     "start_time": "2021-08-24T06:31:56.263058",
     "status": "completed"
    },
    "tags": []
   },
   "source": [
    "# Preprocessing"
   ]
  },
  {
   "cell_type": "code",
   "execution_count": 6,
   "id": "35e87f00",
   "metadata": {
    "execution": {
     "iopub.execute_input": "2021-08-24T06:31:56.315049Z",
     "iopub.status.busy": "2021-08-24T06:31:56.314058Z",
     "iopub.status.idle": "2021-08-24T06:31:56.319872Z",
     "shell.execute_reply": "2021-08-24T06:31:56.320490Z",
     "shell.execute_reply.started": "2021-08-20T04:03:23.6336Z"
    },
    "papermill": {
     "duration": 0.025548,
     "end_time": "2021-08-24T06:31:56.320657",
     "exception": false,
     "start_time": "2021-08-24T06:31:56.295109",
     "status": "completed"
    },
    "tags": []
   },
   "outputs": [
    {
     "data": {
      "text/plain": [
       "\"\\n# List of categorical columns\\nobject_cols = [col for col in features.columns if 'cat' in col]\\n\\n# ordinal-encode categorical columns\\nX = features.copy()\\nX_test = test.drop(['id'], axis=1).copy()\\nordinal_encoder = OrdinalEncoder()\\nX[object_cols] = ordinal_encoder.fit_transform(features[object_cols])\\nX_test[object_cols] = ordinal_encoder.transform(test[object_cols])\\n\\n# Preview the ordinal-encoded features\\nX.head()\\n\""
      ]
     },
     "execution_count": 6,
     "metadata": {},
     "output_type": "execute_result"
    }
   ],
   "source": [
    "'''\n",
    "# List of categorical columns\n",
    "object_cols = [col for col in features.columns if 'cat' in col]\n",
    "\n",
    "# ordinal-encode categorical columns\n",
    "X = features.copy()\n",
    "X_test = test.drop(['id'], axis=1).copy()\n",
    "ordinal_encoder = OrdinalEncoder()\n",
    "X[object_cols] = ordinal_encoder.fit_transform(features[object_cols])\n",
    "X_test[object_cols] = ordinal_encoder.transform(test[object_cols])\n",
    "\n",
    "# Preview the ordinal-encoded features\n",
    "X.head()\n",
    "'''"
   ]
  },
  {
   "cell_type": "code",
   "execution_count": 7,
   "id": "49bd760e",
   "metadata": {
    "execution": {
     "iopub.execute_input": "2021-08-24T06:31:56.357357Z",
     "iopub.status.busy": "2021-08-24T06:31:56.356367Z",
     "iopub.status.idle": "2021-08-24T06:31:59.837583Z",
     "shell.execute_reply": "2021-08-24T06:31:59.838101Z"
    },
    "papermill": {
     "duration": 3.501198,
     "end_time": "2021-08-24T06:31:59.838289",
     "exception": false,
     "start_time": "2021-08-24T06:31:56.337091",
     "status": "completed"
    },
    "tags": []
   },
   "outputs": [
    {
     "data": {
      "text/html": [
       "<div>\n",
       "<style scoped>\n",
       "    .dataframe tbody tr th:only-of-type {\n",
       "        vertical-align: middle;\n",
       "    }\n",
       "\n",
       "    .dataframe tbody tr th {\n",
       "        vertical-align: top;\n",
       "    }\n",
       "\n",
       "    .dataframe thead th {\n",
       "        text-align: right;\n",
       "    }\n",
       "</style>\n",
       "<table border=\"1\" class=\"dataframe\">\n",
       "  <thead>\n",
       "    <tr style=\"text-align: right;\">\n",
       "      <th></th>\n",
       "      <th>cont0</th>\n",
       "      <th>cont1</th>\n",
       "      <th>cont2</th>\n",
       "      <th>cont3</th>\n",
       "      <th>cont4</th>\n",
       "      <th>cont5</th>\n",
       "      <th>cont6</th>\n",
       "      <th>cont7</th>\n",
       "      <th>cont8</th>\n",
       "      <th>cont9</th>\n",
       "      <th>...</th>\n",
       "      <th>ohe_46</th>\n",
       "      <th>ohe_47</th>\n",
       "      <th>ohe_48</th>\n",
       "      <th>ohe_49</th>\n",
       "      <th>ohe_50</th>\n",
       "      <th>ohe_51</th>\n",
       "      <th>ohe_52</th>\n",
       "      <th>ohe_53</th>\n",
       "      <th>ohe_54</th>\n",
       "      <th>ohe_55</th>\n",
       "    </tr>\n",
       "  </thead>\n",
       "  <tbody>\n",
       "    <tr>\n",
       "      <th>0</th>\n",
       "      <td>0.201470</td>\n",
       "      <td>-0.014822</td>\n",
       "      <td>0.669699</td>\n",
       "      <td>0.136278</td>\n",
       "      <td>0.610706</td>\n",
       "      <td>0.400361</td>\n",
       "      <td>0.160266</td>\n",
       "      <td>0.310921</td>\n",
       "      <td>0.389470</td>\n",
       "      <td>0.267559</td>\n",
       "      <td>...</td>\n",
       "      <td>0.0</td>\n",
       "      <td>0.0</td>\n",
       "      <td>0.0</td>\n",
       "      <td>0.0</td>\n",
       "      <td>0.0</td>\n",
       "      <td>0.0</td>\n",
       "      <td>0.0</td>\n",
       "      <td>0.0</td>\n",
       "      <td>1.0</td>\n",
       "      <td>0.0</td>\n",
       "    </tr>\n",
       "    <tr>\n",
       "      <th>1</th>\n",
       "      <td>0.743068</td>\n",
       "      <td>0.367411</td>\n",
       "      <td>1.021605</td>\n",
       "      <td>0.365798</td>\n",
       "      <td>0.276853</td>\n",
       "      <td>0.533087</td>\n",
       "      <td>0.558922</td>\n",
       "      <td>0.516294</td>\n",
       "      <td>0.594928</td>\n",
       "      <td>0.341439</td>\n",
       "      <td>...</td>\n",
       "      <td>0.0</td>\n",
       "      <td>0.0</td>\n",
       "      <td>0.0</td>\n",
       "      <td>0.0</td>\n",
       "      <td>0.0</td>\n",
       "      <td>0.0</td>\n",
       "      <td>0.0</td>\n",
       "      <td>0.0</td>\n",
       "      <td>0.0</td>\n",
       "      <td>1.0</td>\n",
       "    </tr>\n",
       "    <tr>\n",
       "      <th>2</th>\n",
       "      <td>0.742708</td>\n",
       "      <td>0.310383</td>\n",
       "      <td>-0.012673</td>\n",
       "      <td>0.576957</td>\n",
       "      <td>0.285074</td>\n",
       "      <td>0.650609</td>\n",
       "      <td>0.375348</td>\n",
       "      <td>0.902567</td>\n",
       "      <td>0.555205</td>\n",
       "      <td>0.843531</td>\n",
       "      <td>...</td>\n",
       "      <td>1.0</td>\n",
       "      <td>0.0</td>\n",
       "      <td>0.0</td>\n",
       "      <td>0.0</td>\n",
       "      <td>0.0</td>\n",
       "      <td>0.0</td>\n",
       "      <td>0.0</td>\n",
       "      <td>0.0</td>\n",
       "      <td>0.0</td>\n",
       "      <td>0.0</td>\n",
       "    </tr>\n",
       "    <tr>\n",
       "      <th>3</th>\n",
       "      <td>0.429551</td>\n",
       "      <td>0.620998</td>\n",
       "      <td>0.577942</td>\n",
       "      <td>0.280610</td>\n",
       "      <td>0.284667</td>\n",
       "      <td>0.668980</td>\n",
       "      <td>0.239061</td>\n",
       "      <td>0.732948</td>\n",
       "      <td>0.679618</td>\n",
       "      <td>0.574844</td>\n",
       "      <td>...</td>\n",
       "      <td>0.0</td>\n",
       "      <td>0.0</td>\n",
       "      <td>0.0</td>\n",
       "      <td>0.0</td>\n",
       "      <td>0.0</td>\n",
       "      <td>1.0</td>\n",
       "      <td>0.0</td>\n",
       "      <td>0.0</td>\n",
       "      <td>0.0</td>\n",
       "      <td>0.0</td>\n",
       "    </tr>\n",
       "    <tr>\n",
       "      <th>4</th>\n",
       "      <td>1.058291</td>\n",
       "      <td>0.367492</td>\n",
       "      <td>-0.052389</td>\n",
       "      <td>0.232407</td>\n",
       "      <td>0.287595</td>\n",
       "      <td>0.686964</td>\n",
       "      <td>0.420667</td>\n",
       "      <td>0.648182</td>\n",
       "      <td>0.684501</td>\n",
       "      <td>0.956692</td>\n",
       "      <td>...</td>\n",
       "      <td>0.0</td>\n",
       "      <td>0.0</td>\n",
       "      <td>0.0</td>\n",
       "      <td>0.0</td>\n",
       "      <td>0.0</td>\n",
       "      <td>0.0</td>\n",
       "      <td>0.0</td>\n",
       "      <td>0.0</td>\n",
       "      <td>1.0</td>\n",
       "      <td>0.0</td>\n",
       "    </tr>\n",
       "  </tbody>\n",
       "</table>\n",
       "<p>5 rows × 70 columns</p>\n",
       "</div>"
      ],
      "text/plain": [
       "      cont0     cont1     cont2     cont3     cont4     cont5     cont6  \\\n",
       "0  0.201470 -0.014822  0.669699  0.136278  0.610706  0.400361  0.160266   \n",
       "1  0.743068  0.367411  1.021605  0.365798  0.276853  0.533087  0.558922   \n",
       "2  0.742708  0.310383 -0.012673  0.576957  0.285074  0.650609  0.375348   \n",
       "3  0.429551  0.620998  0.577942  0.280610  0.284667  0.668980  0.239061   \n",
       "4  1.058291  0.367492 -0.052389  0.232407  0.287595  0.686964  0.420667   \n",
       "\n",
       "      cont7     cont8     cont9  ...  ohe_46  ohe_47  ohe_48  ohe_49  ohe_50  \\\n",
       "0  0.310921  0.389470  0.267559  ...     0.0     0.0     0.0     0.0     0.0   \n",
       "1  0.516294  0.594928  0.341439  ...     0.0     0.0     0.0     0.0     0.0   \n",
       "2  0.902567  0.555205  0.843531  ...     1.0     0.0     0.0     0.0     0.0   \n",
       "3  0.732948  0.679618  0.574844  ...     0.0     0.0     0.0     0.0     0.0   \n",
       "4  0.648182  0.684501  0.956692  ...     0.0     0.0     0.0     0.0     0.0   \n",
       "\n",
       "   ohe_51  ohe_52  ohe_53  ohe_54  ohe_55  \n",
       "0     0.0     0.0     0.0     1.0     0.0  \n",
       "1     0.0     0.0     0.0     0.0     1.0  \n",
       "2     0.0     0.0     0.0     0.0     0.0  \n",
       "3     1.0     0.0     0.0     0.0     0.0  \n",
       "4     0.0     0.0     0.0     1.0     0.0  \n",
       "\n",
       "[5 rows x 70 columns]"
      ]
     },
     "execution_count": 7,
     "metadata": {},
     "output_type": "execute_result"
    }
   ],
   "source": [
    "\n",
    "# List of categorical columns\n",
    "object_cols = [col for col in features.columns if 'cat' in col]\n",
    "\n",
    "# one-hot-encode categorical columns\n",
    "X = features.copy()\n",
    "X_test = test.drop(['id'], axis=1).copy()\n",
    "\n",
    "oh_encoder = OneHotEncoder(sparse=False, handle_unknown=\"ignore\")\n",
    "X_ohe = oh_encoder.fit_transform(features[object_cols])\n",
    "X_test_ohe = oh_encoder.transform(test[object_cols])\n",
    "\n",
    "X_ohe = pd.DataFrame(X_ohe, columns=[f\"ohe_{i}\" for i in range(X_ohe.shape[1])])\n",
    "X_test_ohe = pd.DataFrame(X_test_ohe, columns=[f\"ohe_{i}\" for i in range(X_test_ohe.shape[1])])\n",
    "\n",
    "X = pd.concat([X, X_ohe], axis=1)\n",
    "X_test = pd.concat([X_test, X_test_ohe], axis=1)\n",
    "X = X.drop(object_cols, axis=1)\n",
    "X_test = X_test.drop(object_cols, axis=1)\n",
    "    \n",
    "# Preview the one-hot-encoded features\n",
    "X.head()\n"
   ]
  },
  {
   "cell_type": "code",
   "execution_count": 8,
   "id": "495a9f9c",
   "metadata": {
    "execution": {
     "iopub.execute_input": "2021-08-24T06:31:59.893722Z",
     "iopub.status.busy": "2021-08-24T06:31:59.893043Z",
     "iopub.status.idle": "2021-08-24T06:32:00.053350Z",
     "shell.execute_reply": "2021-08-24T06:32:00.052758Z",
     "shell.execute_reply.started": "2021-08-20T04:03:27.921586Z"
    },
    "papermill": {
     "duration": 0.197795,
     "end_time": "2021-08-24T06:32:00.053490",
     "exception": false,
     "start_time": "2021-08-24T06:31:59.855695",
     "status": "completed"
    },
    "tags": []
   },
   "outputs": [],
   "source": [
    "scale_features = [col for col in features.columns if 'cont' in col]\n",
    "\n",
    "ss = StandardScaler()\n",
    "X[scale_features] = ss.fit_transform(features[scale_features])\n",
    "X_test[scale_features] = ss.transform(test[scale_features])"
   ]
  },
  {
   "cell_type": "code",
   "execution_count": 9,
   "id": "ecc80818",
   "metadata": {
    "execution": {
     "iopub.execute_input": "2021-08-24T06:32:00.097080Z",
     "iopub.status.busy": "2021-08-24T06:32:00.096052Z",
     "iopub.status.idle": "2021-08-24T06:32:00.099157Z",
     "shell.execute_reply": "2021-08-24T06:32:00.099639Z",
     "shell.execute_reply.started": "2021-08-20T04:03:29.923859Z"
    },
    "papermill": {
     "duration": 0.028588,
     "end_time": "2021-08-24T06:32:00.099816",
     "exception": false,
     "start_time": "2021-08-24T06:32:00.071228",
     "status": "completed"
    },
    "tags": []
   },
   "outputs": [],
   "source": [
    "# Swap noise\n",
    "\n",
    "# Random\n",
    "def apply_noise_rn(df, p=.75):\n",
    "    should_not_swap = np.random.binomial(1, p, df.shape)\n",
    "    corrupted_df = df.where(should_not_swap == 1, np.random.permutation(df))\n",
    "    return corrupted_df\n",
    "\n",
    "# Row-wise\n",
    "def apply_noise_row(df, p=.75):\n",
    "    should_not_swap = np.zeros(df.shape)\n",
    "    for i in range(df.shape[0]):\n",
    "        for j in np.random.choice(df.shape[1],int(p*df.shape[1]),replace=False):\n",
    "            should_not_swap[i,j]=1 \n",
    "    corrupted_df = df.where(should_not_swap == 1, np.random.permutation(df))\n",
    "    return corrupted_df"
   ]
  },
  {
   "cell_type": "markdown",
   "id": "7ade8853",
   "metadata": {
    "papermill": {
     "duration": 0.01777,
     "end_time": "2021-08-24T06:32:00.134989",
     "exception": false,
     "start_time": "2021-08-24T06:32:00.117219",
     "status": "completed"
    },
    "tags": []
   },
   "source": [
    "# Pseudo Label"
   ]
  },
  {
   "cell_type": "code",
   "execution_count": 10,
   "id": "4c3f7e12",
   "metadata": {
    "execution": {
     "iopub.execute_input": "2021-08-24T06:32:00.176840Z",
     "iopub.status.busy": "2021-08-24T06:32:00.176101Z",
     "iopub.status.idle": "2021-08-24T06:32:00.830604Z",
     "shell.execute_reply": "2021-08-24T06:32:00.830056Z",
     "shell.execute_reply.started": "2021-08-20T04:03:29.934585Z"
    },
    "papermill": {
     "duration": 0.677857,
     "end_time": "2021-08-24T06:32:00.830884",
     "exception": false,
     "start_time": "2021-08-24T06:32:00.153027",
     "status": "completed"
    },
    "tags": []
   },
   "outputs": [],
   "source": [
    "pseudo = pd.read_csv(\"../input/30dml-pseudo2/xgb_submission_k.txt\")[target]\n",
    "train_pseudo = pd.concat([X, y], axis=1)\n",
    "test_pseudo = pd.concat([X_test, pseudo], axis=1)\n",
    "all_pseudo = pd.concat([train_pseudo, test_pseudo]).reset_index(drop=True)"
   ]
  },
  {
   "cell_type": "markdown",
   "id": "61fa9f59",
   "metadata": {
    "papermill": {
     "duration": 0.017191,
     "end_time": "2021-08-24T06:32:00.865659",
     "exception": false,
     "start_time": "2021-08-24T06:32:00.848468",
     "status": "completed"
    },
    "tags": []
   },
   "source": [
    "# Optuna"
   ]
  },
  {
   "cell_type": "code",
   "execution_count": 11,
   "id": "977b8b7d",
   "metadata": {
    "execution": {
     "iopub.execute_input": "2021-08-24T06:32:00.903897Z",
     "iopub.status.busy": "2021-08-24T06:32:00.903281Z",
     "iopub.status.idle": "2021-08-24T06:32:10.500542Z",
     "shell.execute_reply": "2021-08-24T06:32:10.499941Z",
     "shell.execute_reply.started": "2021-08-20T04:03:30.323708Z"
    },
    "papermill": {
     "duration": 9.617526,
     "end_time": "2021-08-24T06:32:10.500698",
     "exception": false,
     "start_time": "2021-08-24T06:32:00.883172",
     "status": "completed"
    },
    "tags": []
   },
   "outputs": [
    {
     "name": "stdout",
     "output_type": "stream",
     "text": [
      "\u001b[33mWARNING: Running pip as root will break packages and permissions. You should install packages reliably by using venv: https://pip.pypa.io/warnings/venv\u001b[0m\r\n"
     ]
    }
   ],
   "source": [
    "# Optuna for parameter search\n",
    "!pip install -q optuna\n",
    "\n",
    "import optuna\n",
    "import pickle"
   ]
  },
  {
   "cell_type": "code",
   "execution_count": 12,
   "id": "5fcb8b39",
   "metadata": {
    "execution": {
     "iopub.execute_input": "2021-08-24T06:32:10.551042Z",
     "iopub.status.busy": "2021-08-24T06:32:10.545699Z",
     "iopub.status.idle": "2021-08-24T06:32:10.560047Z",
     "shell.execute_reply": "2021-08-24T06:32:10.559496Z",
     "shell.execute_reply.started": "2021-08-20T04:03:40.160094Z"
    },
    "papermill": {
     "duration": 0.041118,
     "end_time": "2021-08-24T06:32:10.560212",
     "exception": false,
     "start_time": "2021-08-24T06:32:10.519094",
     "status": "completed"
    },
    "tags": []
   },
   "outputs": [],
   "source": [
    "# for the fixed learning rate, use the opt n iterations and tune the tree hyperparameters\n",
    "def objective(trial, X=all_pseudo.iloc[:,:-1], y=all_pseudo[target]):\n",
    "  \"\"\"\n",
    "  \"\"\"\n",
    "  param_space = {\n",
    "              'objective': 'reg:squarederror',\n",
    "               'learning_rate':trial.suggest_uniform('learning_rate', 3.86e-2, 8.86e-2),\n",
    "               'n_estimators':N_ESTIMATORS,\n",
    "               'subsample': trial.suggest_uniform('subsample', 0.832, 1),\n",
    "              'colsample_bytree':trial.suggest_uniform('colsample_bytree', 0.001, 0.167),\n",
    "              'max_depth':trial.suggest_int('max_depth', 5, 9),\n",
    "              'lambda':trial.suggest_uniform('lambda', 5.4, 13.4),\n",
    "              'alpha':trial.suggest_uniform('alpha', 53.34, 65.34),\n",
    "           'min_child_weight':trial.suggest_uniform('min_child_weight', 313, 423),\n",
    "           'importance_type': 'total_gain',\n",
    "            'tree_method': 'hist'\n",
    "                }\n",
    "            \n",
    "  seed_list=[SEED, SEED+1]\n",
    "  #kf = KFold(n_splits=N_SPLITS, shuffle=True, random_state=CVSEED)\n",
    "  xgb_oof = np.zeros(train.shape[0])\n",
    "  #lgb_pred = np.zeros(test.shape[0])\n",
    "  X_tr, X_va, y_tr, y_va = train_test_split(X,y,test_size=.2,random_state=CVSEED)\n",
    "  trn_idx = X_tr.index\n",
    "  val_idx = X_va.index\n",
    "  \n",
    "  #for (trn_idx, val_idx) in enumerate(kf.split(X, y)):\n",
    "  #print(f\"===== fold {fold} =====\")\n",
    "  oof_idx = np.array([idx for idx in val_idx if idx < train.shape[0]])\n",
    "  preds_idx = np.array([idx for idx in val_idx if idx >= train.shape[0]])\n",
    "\n",
    "  X_train, y_train = all_pseudo.iloc[trn_idx, :-1], all_pseudo[target].iloc[trn_idx]\n",
    "  #X_train = apply_noise_row(X_train)\n",
    "\n",
    "  X_valid, y_valid = all_pseudo.iloc[oof_idx, :-1], all_pseudo[target].iloc[oof_idx]\n",
    "  #X_test = all_pseudo[scale_features].iloc[preds_idx]\n",
    "  \n",
    "  #start = time.time()\n",
    "  for inseed in seed_list:\n",
    "    param_space['random_state'] = inseed\n",
    "\n",
    "    model = xgb.XGBRegressor(**param_space)\n",
    "    model.fit(\n",
    "        X_train, \n",
    "        y_train,\n",
    "        eval_set=[(X_valid, y_valid)],\n",
    "        eval_metric='rmse',\n",
    "        early_stopping_rounds=EARLY_STOPPING_ROUNDS,\n",
    "        verbose=VERBOSE,\n",
    "        \n",
    "    )\n",
    "\n",
    "\n",
    "    xgb_oof[oof_idx] += model.predict(X_valid) / len(seed_list)\n",
    "    #lgb_pred[preds_idx-train.shape[0]] += model.predict(X_test) / len(seed_list)\n",
    "\n",
    "  #elapsed = time.time() - start\n",
    "  rmse = mean_squared_error(y_valid, xgb_oof[oof_idx], squared=False)\n",
    "  #print(f\"fold {fold} - lgb rmse: {rmse:.6f}, elapsed time: {elapsed:.2f}sec\\n\")            \n",
    "  \n",
    "  #print(f\"oof lgb_rmse = {mean_squared_error(train[target], lgb_oof, squared=False)}\")\n",
    "\n",
    "  \n",
    "  return rmse"
   ]
  },
  {
   "cell_type": "code",
   "execution_count": 13,
   "id": "9c214046",
   "metadata": {
    "execution": {
     "iopub.execute_input": "2021-08-24T06:32:10.599875Z",
     "iopub.status.busy": "2021-08-24T06:32:10.598918Z",
     "iopub.status.idle": "2021-08-24T12:40:53.188353Z",
     "shell.execute_reply": "2021-08-24T12:40:53.187450Z",
     "shell.execute_reply.started": "2021-08-20T04:03:40.176265Z"
    },
    "papermill": {
     "duration": 22122.610232,
     "end_time": "2021-08-24T12:40:53.188598",
     "exception": false,
     "start_time": "2021-08-24T06:32:10.578366",
     "status": "completed"
    },
    "tags": []
   },
   "outputs": [
    {
     "name": "stderr",
     "output_type": "stream",
     "text": [
      "\u001b[32m[I 2021-08-24 06:32:10,600]\u001b[0m A new study created in memory with name: no-name-c70ea56a-6085-47fa-9496-748cce9ea4aa\u001b[0m\n"
     ]
    },
    {
     "name": "stdout",
     "output_type": "stream",
     "text": [
      "[0]\tvalidation_0-rmse:7.34123\n",
      "[1000]\tvalidation_0-rmse:0.71913\n",
      "[2000]\tvalidation_0-rmse:0.71368\n",
      "[3000]\tvalidation_0-rmse:0.71186\n",
      "[4000]\tvalidation_0-rmse:0.71107\n",
      "[5000]\tvalidation_0-rmse:0.71071\n",
      "[6000]\tvalidation_0-rmse:0.71054\n",
      "[7000]\tvalidation_0-rmse:0.71041\n",
      "[8000]\tvalidation_0-rmse:0.71036\n",
      "[9000]\tvalidation_0-rmse:0.71032\n",
      "[10000]\tvalidation_0-rmse:0.71028\n",
      "[11000]\tvalidation_0-rmse:0.71027\n",
      "[11171]\tvalidation_0-rmse:0.71027\n",
      "[0]\tvalidation_0-rmse:7.34117\n",
      "[1000]\tvalidation_0-rmse:0.72095\n",
      "[2000]\tvalidation_0-rmse:0.71428\n",
      "[3000]\tvalidation_0-rmse:0.71219\n",
      "[4000]\tvalidation_0-rmse:0.71132\n",
      "[5000]\tvalidation_0-rmse:0.71087\n",
      "[6000]\tvalidation_0-rmse:0.71067\n",
      "[7000]\tvalidation_0-rmse:0.71051\n",
      "[8000]\tvalidation_0-rmse:0.71044\n",
      "[9000]\tvalidation_0-rmse:0.71037\n",
      "[10000]\tvalidation_0-rmse:0.71033\n",
      "[11000]\tvalidation_0-rmse:0.71030\n",
      "[12000]\tvalidation_0-rmse:0.71028\n",
      "[13000]\tvalidation_0-rmse:0.71026\n",
      "[14000]\tvalidation_0-rmse:0.71025\n",
      "[14358]\tvalidation_0-rmse:0.71025\n"
     ]
    },
    {
     "name": "stderr",
     "output_type": "stream",
     "text": [
      "\u001b[32m[I 2021-08-24 06:52:43,532]\u001b[0m Trial 0 finished with value: 0.7102556606197346 and parameters: {'learning_rate': 0.05643669245393019, 'subsample': 0.909640970334601, 'colsample_bytree': 0.01617940084638739, 'max_depth': 9, 'lambda': 11.860785180590966, 'alpha': 56.52662496144876, 'min_child_weight': 347.49662757408333}. Best is trial 0 with value: 0.7102556606197346.\u001b[0m\n"
     ]
    },
    {
     "name": "stdout",
     "output_type": "stream",
     "text": [
      "[0]\tvalidation_0-rmse:7.13210\n",
      "[1000]\tvalidation_0-rmse:0.71062\n",
      "[2000]\tvalidation_0-rmse:0.71008\n",
      "[2691]\tvalidation_0-rmse:0.71000\n",
      "[0]\tvalidation_0-rmse:7.13208\n",
      "[1000]\tvalidation_0-rmse:0.71063\n",
      "[2000]\tvalidation_0-rmse:0.71008\n",
      "[2922]\tvalidation_0-rmse:0.71001\n"
     ]
    },
    {
     "name": "stderr",
     "output_type": "stream",
     "text": [
      "\u001b[32m[I 2021-08-24 06:58:58,791]\u001b[0m Trial 1 finished with value: 0.7099389093558335 and parameters: {'learning_rate': 0.0835906348362928, 'subsample': 0.968184012042584, 'colsample_bytree': 0.0742320074827586, 'max_depth': 7, 'lambda': 8.274169082560896, 'alpha': 60.94051839189858, 'min_child_weight': 330.1258476888272}. Best is trial 1 with value: 0.7099389093558335.\u001b[0m\n"
     ]
    },
    {
     "name": "stdout",
     "output_type": "stream",
     "text": [
      "[0]\tvalidation_0-rmse:7.42735\n",
      "[1000]\tvalidation_0-rmse:0.71170\n",
      "[2000]\tvalidation_0-rmse:0.71041\n",
      "[3000]\tvalidation_0-rmse:0.71015\n",
      "[4000]\tvalidation_0-rmse:0.71004\n",
      "[5000]\tvalidation_0-rmse:0.71000\n",
      "[5024]\tvalidation_0-rmse:0.71000\n",
      "[0]\tvalidation_0-rmse:7.42730\n",
      "[1000]\tvalidation_0-rmse:0.71182\n",
      "[2000]\tvalidation_0-rmse:0.71041\n",
      "[3000]\tvalidation_0-rmse:0.71012\n",
      "[3730]\tvalidation_0-rmse:0.71007\n"
     ]
    },
    {
     "name": "stderr",
     "output_type": "stream",
     "text": [
      "\u001b[32m[I 2021-08-24 07:09:14,180]\u001b[0m Trial 2 finished with value: 0.7099765519051093 and parameters: {'learning_rate': 0.04525593856849153, 'subsample': 0.8413211788576452, 'colsample_bytree': 0.07529578249285686, 'max_depth': 9, 'lambda': 9.45278278957117, 'alpha': 62.61763046041607, 'min_child_weight': 332.7176889708854}. Best is trial 1 with value: 0.7099389093558335.\u001b[0m\n"
     ]
    },
    {
     "name": "stdout",
     "output_type": "stream",
     "text": [
      "[0]\tvalidation_0-rmse:7.44439\n",
      "[1000]\tvalidation_0-rmse:0.71273\n",
      "[2000]\tvalidation_0-rmse:0.71081\n",
      "[3000]\tvalidation_0-rmse:0.71034\n",
      "[4000]\tvalidation_0-rmse:0.71011\n",
      "[5000]\tvalidation_0-rmse:0.71002\n",
      "[6000]\tvalidation_0-rmse:0.70996\n",
      "[7000]\tvalidation_0-rmse:0.70992\n",
      "[7275]\tvalidation_0-rmse:0.70993\n",
      "[0]\tvalidation_0-rmse:7.44435\n",
      "[1000]\tvalidation_0-rmse:0.71282\n",
      "[2000]\tvalidation_0-rmse:0.71086\n",
      "[3000]\tvalidation_0-rmse:0.71035\n",
      "[4000]\tvalidation_0-rmse:0.71010\n",
      "[5000]\tvalidation_0-rmse:0.71000\n",
      "[6000]\tvalidation_0-rmse:0.70994\n",
      "[6423]\tvalidation_0-rmse:0.70993\n"
     ]
    },
    {
     "name": "stderr",
     "output_type": "stream",
     "text": [
      "\u001b[32m[I 2021-08-24 07:23:57,485]\u001b[0m Trial 3 finished with value: 0.7098863365092543 and parameters: {'learning_rate': 0.0430434767753427, 'subsample': 0.9093874490153686, 'colsample_bytree': 0.08170450765134066, 'max_depth': 6, 'lambda': 5.730986341230516, 'alpha': 61.29184803406538, 'min_child_weight': 368.6420635950785}. Best is trial 3 with value: 0.7098863365092543.\u001b[0m\n"
     ]
    },
    {
     "name": "stdout",
     "output_type": "stream",
     "text": [
      "[0]\tvalidation_0-rmse:7.29396\n",
      "[1000]\tvalidation_0-rmse:0.71097\n",
      "[2000]\tvalidation_0-rmse:0.71021\n",
      "[3000]\tvalidation_0-rmse:0.71003\n",
      "[3991]\tvalidation_0-rmse:0.70999\n",
      "[0]\tvalidation_0-rmse:7.29390\n",
      "[1000]\tvalidation_0-rmse:0.71106\n",
      "[2000]\tvalidation_0-rmse:0.71020\n",
      "[3000]\tvalidation_0-rmse:0.71005\n",
      "[3452]\tvalidation_0-rmse:0.71002\n"
     ]
    },
    {
     "name": "stderr",
     "output_type": "stream",
     "text": [
      "\u001b[32m[I 2021-08-24 07:32:39,412]\u001b[0m Trial 4 finished with value: 0.7099408359436826 and parameters: {'learning_rate': 0.0625738311665758, 'subsample': 0.8664676021731051, 'colsample_bytree': 0.08129017893877662, 'max_depth': 8, 'lambda': 6.380906195496985, 'alpha': 63.28722268562762, 'min_child_weight': 339.68730793314325}. Best is trial 3 with value: 0.7098863365092543.\u001b[0m\n"
     ]
    },
    {
     "name": "stdout",
     "output_type": "stream",
     "text": [
      "[0]\tvalidation_0-rmse:7.12112\n",
      "[1000]\tvalidation_0-rmse:0.71105\n",
      "[2000]\tvalidation_0-rmse:0.71022\n",
      "[3000]\tvalidation_0-rmse:0.70998\n",
      "[3240]\tvalidation_0-rmse:0.70998\n",
      "[0]\tvalidation_0-rmse:7.12102\n",
      "[1000]\tvalidation_0-rmse:0.71114\n",
      "[2000]\tvalidation_0-rmse:0.71028\n",
      "[3000]\tvalidation_0-rmse:0.71005\n",
      "[3477]\tvalidation_0-rmse:0.71001\n"
     ]
    },
    {
     "name": "stderr",
     "output_type": "stream",
     "text": [
      "\u001b[32m[I 2021-08-24 07:39:41,466]\u001b[0m Trial 5 finished with value: 0.7099276957718179 and parameters: {'learning_rate': 0.08502167891535715, 'subsample': 0.8389332104485904, 'colsample_bytree': 0.09251396055537121, 'max_depth': 5, 'lambda': 8.224735789866227, 'alpha': 55.73328724798775, 'min_child_weight': 392.44354008744466}. Best is trial 3 with value: 0.7098863365092543.\u001b[0m\n"
     ]
    },
    {
     "name": "stdout",
     "output_type": "stream",
     "text": [
      "[0]\tvalidation_0-rmse:7.10787\n",
      "[1000]\tvalidation_0-rmse:0.71022\n",
      "[1907]\tvalidation_0-rmse:0.71003\n",
      "[0]\tvalidation_0-rmse:7.10778\n",
      "[1000]\tvalidation_0-rmse:0.71041\n",
      "[2000]\tvalidation_0-rmse:0.71010\n",
      "[2345]\tvalidation_0-rmse:0.71010\n"
     ]
    },
    {
     "name": "stderr",
     "output_type": "stream",
     "text": [
      "\u001b[32m[I 2021-08-24 07:45:01,117]\u001b[0m Trial 6 finished with value: 0.7099470430515721 and parameters: {'learning_rate': 0.08674204504275085, 'subsample': 0.8730965420442742, 'colsample_bytree': 0.09113370533678358, 'max_depth': 9, 'lambda': 5.413107195322413, 'alpha': 55.51660311746112, 'min_child_weight': 414.2995844312729}. Best is trial 3 with value: 0.7098863365092543.\u001b[0m\n"
     ]
    },
    {
     "name": "stdout",
     "output_type": "stream",
     "text": [
      "[0]\tvalidation_0-rmse:7.39157\n",
      "[1000]\tvalidation_0-rmse:0.71096\n",
      "[2000]\tvalidation_0-rmse:0.71018\n",
      "[2988]\tvalidation_0-rmse:0.71009\n",
      "[0]\tvalidation_0-rmse:7.39157\n",
      "[1000]\tvalidation_0-rmse:0.71099\n",
      "[2000]\tvalidation_0-rmse:0.71021\n",
      "[2950]\tvalidation_0-rmse:0.71010\n"
     ]
    },
    {
     "name": "stderr",
     "output_type": "stream",
     "text": [
      "\u001b[32m[I 2021-08-24 07:52:09,056]\u001b[0m Trial 7 finished with value: 0.7100237302615833 and parameters: {'learning_rate': 0.04989658381109176, 'subsample': 0.9955388765656181, 'colsample_bytree': 0.1409873018323642, 'max_depth': 7, 'lambda': 6.940592281057745, 'alpha': 54.28806053191556, 'min_child_weight': 376.1010056393499}. Best is trial 3 with value: 0.7098863365092543.\u001b[0m\n"
     ]
    },
    {
     "name": "stdout",
     "output_type": "stream",
     "text": [
      "[0]\tvalidation_0-rmse:7.25604\n",
      "[1000]\tvalidation_0-rmse:0.71172\n",
      "[2000]\tvalidation_0-rmse:0.71044\n",
      "[3000]\tvalidation_0-rmse:0.71011\n",
      "[4000]\tvalidation_0-rmse:0.70995\n",
      "[5000]\tvalidation_0-rmse:0.70989\n",
      "[5865]\tvalidation_0-rmse:0.70985\n",
      "[0]\tvalidation_0-rmse:7.25602\n",
      "[1000]\tvalidation_0-rmse:0.71212\n",
      "[2000]\tvalidation_0-rmse:0.71057\n",
      "[3000]\tvalidation_0-rmse:0.71021\n",
      "[4000]\tvalidation_0-rmse:0.71007\n",
      "[5000]\tvalidation_0-rmse:0.70998\n",
      "[6000]\tvalidation_0-rmse:0.70992\n",
      "[6774]\tvalidation_0-rmse:0.70991\n"
     ]
    },
    {
     "name": "stderr",
     "output_type": "stream",
     "text": [
      "\u001b[32m[I 2021-08-24 08:04:26,157]\u001b[0m Trial 8 finished with value: 0.7098425865549556 and parameters: {'learning_rate': 0.06749646100551591, 'subsample': 0.9469300895868324, 'colsample_bytree': 0.05707519568411686, 'max_depth': 7, 'lambda': 11.973154100800077, 'alpha': 64.55597091975442, 'min_child_weight': 325.6495595080435}. Best is trial 8 with value: 0.7098425865549556.\u001b[0m\n"
     ]
    },
    {
     "name": "stdout",
     "output_type": "stream",
     "text": [
      "[0]\tvalidation_0-rmse:7.17138\n",
      "[1000]\tvalidation_0-rmse:0.71050\n",
      "[2000]\tvalidation_0-rmse:0.71010\n",
      "[2029]\tvalidation_0-rmse:0.71010\n",
      "[0]\tvalidation_0-rmse:7.17130\n",
      "[1000]\tvalidation_0-rmse:0.71058\n",
      "[2000]\tvalidation_0-rmse:0.71009\n",
      "[2651]\tvalidation_0-rmse:0.71008\n"
     ]
    },
    {
     "name": "stderr",
     "output_type": "stream",
     "text": [
      "\u001b[32m[I 2021-08-24 08:10:06,459]\u001b[0m Trial 9 finished with value: 0.7099720243806814 and parameters: {'learning_rate': 0.07849470319789666, 'subsample': 0.8550664680120091, 'colsample_bytree': 0.11296888063441306, 'max_depth': 7, 'lambda': 8.03325862978095, 'alpha': 56.28804263647329, 'min_child_weight': 341.5100048541015}. Best is trial 8 with value: 0.7098425865549556.\u001b[0m\n"
     ]
    },
    {
     "name": "stdout",
     "output_type": "stream",
     "text": [
      "[0]\tvalidation_0-rmse:7.21896\n",
      "[1000]\tvalidation_0-rmse:0.71918\n",
      "[2000]\tvalidation_0-rmse:0.71411\n",
      "[3000]\tvalidation_0-rmse:0.71236\n",
      "[4000]\tvalidation_0-rmse:0.71155\n",
      "[5000]\tvalidation_0-rmse:0.71109\n",
      "[6000]\tvalidation_0-rmse:0.71088\n",
      "[7000]\tvalidation_0-rmse:0.71070\n",
      "[8000]\tvalidation_0-rmse:0.71061\n",
      "[9000]\tvalidation_0-rmse:0.71054\n",
      "[10000]\tvalidation_0-rmse:0.71048\n",
      "[11000]\tvalidation_0-rmse:0.71045\n",
      "[12000]\tvalidation_0-rmse:0.71043\n",
      "[13000]\tvalidation_0-rmse:0.71041\n",
      "[14000]\tvalidation_0-rmse:0.71038\n",
      "[15000]\tvalidation_0-rmse:0.71035\n",
      "[15425]\tvalidation_0-rmse:0.71035\n",
      "[0]\tvalidation_0-rmse:7.21894\n",
      "[1000]\tvalidation_0-rmse:0.72080\n",
      "[2000]\tvalidation_0-rmse:0.71463\n",
      "[3000]\tvalidation_0-rmse:0.71264\n",
      "[4000]\tvalidation_0-rmse:0.71176\n",
      "[5000]\tvalidation_0-rmse:0.71120\n",
      "[6000]\tvalidation_0-rmse:0.71094\n",
      "[7000]\tvalidation_0-rmse:0.71073\n",
      "[8000]\tvalidation_0-rmse:0.71063\n",
      "[9000]\tvalidation_0-rmse:0.71055\n",
      "[10000]\tvalidation_0-rmse:0.71049\n",
      "[11000]\tvalidation_0-rmse:0.71045\n",
      "[12000]\tvalidation_0-rmse:0.71042\n",
      "[12075]\tvalidation_0-rmse:0.71042\n"
     ]
    },
    {
     "name": "stderr",
     "output_type": "stream",
     "text": [
      "\u001b[32m[I 2021-08-24 08:31:14,027]\u001b[0m Trial 10 finished with value: 0.7103802923756427 and parameters: {'learning_rate': 0.07231243579242076, 'subsample': 0.9535229944017427, 'colsample_bytree': 0.02327533990835664, 'max_depth': 5, 'lambda': 13.212639911717996, 'alpha': 65.25594793734481, 'min_child_weight': 314.8513742614897}. Best is trial 8 with value: 0.7098425865549556.\u001b[0m\n"
     ]
    },
    {
     "name": "stdout",
     "output_type": "stream",
     "text": [
      "[0]\tvalidation_0-rmse:7.24211\n",
      "[1000]\tvalidation_0-rmse:0.71356\n",
      "[2000]\tvalidation_0-rmse:0.71115\n",
      "[3000]\tvalidation_0-rmse:0.71057\n",
      "[4000]\tvalidation_0-rmse:0.71031\n",
      "[5000]\tvalidation_0-rmse:0.71016\n",
      "[6000]\tvalidation_0-rmse:0.71009\n",
      "[7000]\tvalidation_0-rmse:0.71001\n",
      "[8000]\tvalidation_0-rmse:0.70997\n",
      "[8892]\tvalidation_0-rmse:0.70994\n",
      "[0]\tvalidation_0-rmse:7.24205\n",
      "[1000]\tvalidation_0-rmse:0.71428\n",
      "[2000]\tvalidation_0-rmse:0.71137\n",
      "[3000]\tvalidation_0-rmse:0.71062\n",
      "[4000]\tvalidation_0-rmse:0.71039\n",
      "[5000]\tvalidation_0-rmse:0.71026\n",
      "[6000]\tvalidation_0-rmse:0.71016\n",
      "[7000]\tvalidation_0-rmse:0.71009\n",
      "[8000]\tvalidation_0-rmse:0.71005\n",
      "[9000]\tvalidation_0-rmse:0.71000\n",
      "[9680]\tvalidation_0-rmse:0.70998\n"
     ]
    },
    {
     "name": "stderr",
     "output_type": "stream",
     "text": [
      "\u001b[32m[I 2021-08-24 08:47:47,802]\u001b[0m Trial 11 finished with value: 0.709936050800885 and parameters: {'learning_rate': 0.06930719781368955, 'subsample': 0.9176095024232543, 'colsample_bytree': 0.04238802150735977, 'max_depth': 6, 'lambda': 11.20546792803911, 'alpha': 59.68026966497918, 'min_child_weight': 362.59561363096077}. Best is trial 8 with value: 0.7098425865549556.\u001b[0m\n"
     ]
    },
    {
     "name": "stdout",
     "output_type": "stream",
     "text": [
      "[0]\tvalidation_0-rmse:7.47765\n",
      "[1000]\tvalidation_0-rmse:0.71514\n",
      "[2000]\tvalidation_0-rmse:0.71185\n",
      "[3000]\tvalidation_0-rmse:0.71096\n",
      "[4000]\tvalidation_0-rmse:0.71055\n",
      "[5000]\tvalidation_0-rmse:0.71036\n",
      "[6000]\tvalidation_0-rmse:0.71023\n",
      "[7000]\tvalidation_0-rmse:0.71013\n",
      "[8000]\tvalidation_0-rmse:0.71006\n",
      "[9000]\tvalidation_0-rmse:0.71000\n",
      "[10000]\tvalidation_0-rmse:0.70996\n",
      "[10271]\tvalidation_0-rmse:0.70995\n",
      "[0]\tvalidation_0-rmse:7.47761\n",
      "[1000]\tvalidation_0-rmse:0.71573\n",
      "[2000]\tvalidation_0-rmse:0.71203\n",
      "[3000]\tvalidation_0-rmse:0.71103\n",
      "[4000]\tvalidation_0-rmse:0.71060\n",
      "[5000]\tvalidation_0-rmse:0.71039\n",
      "[6000]\tvalidation_0-rmse:0.71023\n",
      "[7000]\tvalidation_0-rmse:0.71013\n",
      "[8000]\tvalidation_0-rmse:0.71006\n",
      "[9000]\tvalidation_0-rmse:0.71002\n",
      "[10000]\tvalidation_0-rmse:0.70997\n",
      "[10103]\tvalidation_0-rmse:0.70997\n"
     ]
    },
    {
     "name": "stderr",
     "output_type": "stream",
     "text": [
      "\u001b[32m[I 2021-08-24 09:08:20,842]\u001b[0m Trial 12 finished with value: 0.709944626941517 and parameters: {'learning_rate': 0.0387257975668671, 'subsample': 0.9158938135832606, 'colsample_bytree': 0.04755804162875713, 'max_depth': 6, 'lambda': 10.549576157208019, 'alpha': 64.74179369917307, 'min_child_weight': 388.9377974156903}. Best is trial 8 with value: 0.7098425865549556.\u001b[0m\n"
     ]
    },
    {
     "name": "stdout",
     "output_type": "stream",
     "text": [
      "[0]\tvalidation_0-rmse:7.31382\n",
      "[1000]\tvalidation_0-rmse:0.71260\n",
      "[2000]\tvalidation_0-rmse:0.71077\n",
      "[3000]\tvalidation_0-rmse:0.71033\n",
      "[4000]\tvalidation_0-rmse:0.71012\n",
      "[5000]\tvalidation_0-rmse:0.71003\n",
      "[6000]\tvalidation_0-rmse:0.70996\n",
      "[6809]\tvalidation_0-rmse:0.70991\n",
      "[0]\tvalidation_0-rmse:7.31380\n",
      "[1000]\tvalidation_0-rmse:0.71299\n",
      "[2000]\tvalidation_0-rmse:0.71090\n",
      "[3000]\tvalidation_0-rmse:0.71039\n",
      "[4000]\tvalidation_0-rmse:0.71019\n",
      "[5000]\tvalidation_0-rmse:0.71010\n",
      "[6000]\tvalidation_0-rmse:0.71001\n",
      "[6469]\tvalidation_0-rmse:0.70999\n"
     ]
    },
    {
     "name": "stderr",
     "output_type": "stream",
     "text": [
      "\u001b[32m[I 2021-08-24 09:21:17,412]\u001b[0m Trial 13 finished with value: 0.7099187589808081 and parameters: {'learning_rate': 0.05999424497650515, 'subsample': 0.9449184821168645, 'colsample_bytree': 0.05266761991169231, 'max_depth': 6, 'lambda': 13.002835286611216, 'alpha': 61.84142172181476, 'min_child_weight': 313.1202865931406}. Best is trial 8 with value: 0.7098425865549556.\u001b[0m\n"
     ]
    },
    {
     "name": "stdout",
     "output_type": "stream",
     "text": [
      "[0]\tvalidation_0-rmse:7.22677\n",
      "[1000]\tvalidation_0-rmse:0.71087\n",
      "[2000]\tvalidation_0-rmse:0.71016\n",
      "[2813]\tvalidation_0-rmse:0.71009\n",
      "[0]\tvalidation_0-rmse:7.22669\n",
      "[1000]\tvalidation_0-rmse:0.71094\n",
      "[2000]\tvalidation_0-rmse:0.71026\n",
      "[2718]\tvalidation_0-rmse:0.71016\n"
     ]
    },
    {
     "name": "stderr",
     "output_type": "stream",
     "text": [
      "\u001b[32m[I 2021-08-24 09:27:51,707]\u001b[0m Trial 14 finished with value: 0.7100532832298749 and parameters: {'learning_rate': 0.07130013277644481, 'subsample': 0.9019561231790947, 'colsample_bytree': 0.12018838286413294, 'max_depth': 6, 'lambda': 12.192007256710557, 'alpha': 58.414512143331244, 'min_child_weight': 359.4489806310837}. Best is trial 8 with value: 0.7098425865549556.\u001b[0m\n"
     ]
    },
    {
     "name": "stdout",
     "output_type": "stream",
     "text": [
      "[0]\tvalidation_0-rmse:7.37683\n",
      "[1000]\tvalidation_0-rmse:0.71090\n",
      "[2000]\tvalidation_0-rmse:0.71032\n",
      "[2571]\tvalidation_0-rmse:0.71029\n",
      "[0]\tvalidation_0-rmse:7.37682\n",
      "[1000]\tvalidation_0-rmse:0.71088\n",
      "[2000]\tvalidation_0-rmse:0.71026\n",
      "[2515]\tvalidation_0-rmse:0.71020\n"
     ]
    },
    {
     "name": "stderr",
     "output_type": "stream",
     "text": [
      "\u001b[32m[I 2021-08-24 09:34:44,123]\u001b[0m Trial 15 finished with value: 0.7101710941909586 and parameters: {'learning_rate': 0.05181290320655088, 'subsample': 0.9885661640929853, 'colsample_bytree': 0.16204182238391263, 'max_depth': 8, 'lambda': 9.710427387190517, 'alpha': 63.77400366291846, 'min_child_weight': 381.69889215229074}. Best is trial 8 with value: 0.7098425865549556.\u001b[0m\n"
     ]
    },
    {
     "name": "stdout",
     "output_type": "stream",
     "text": [
      "[0]\tvalidation_0-rmse:7.46341\n",
      "[1000]\tvalidation_0-rmse:0.72256\n",
      "[2000]\tvalidation_0-rmse:0.71610\n",
      "[3000]\tvalidation_0-rmse:0.71345\n",
      "[4000]\tvalidation_0-rmse:0.71209\n",
      "[5000]\tvalidation_0-rmse:0.71138\n",
      "[6000]\tvalidation_0-rmse:0.71104\n",
      "[7000]\tvalidation_0-rmse:0.71078\n",
      "[8000]\tvalidation_0-rmse:0.71065\n",
      "[9000]\tvalidation_0-rmse:0.71055\n",
      "[10000]\tvalidation_0-rmse:0.71048\n",
      "[11000]\tvalidation_0-rmse:0.71044\n",
      "[12000]\tvalidation_0-rmse:0.71041\n",
      "[13000]\tvalidation_0-rmse:0.71038\n",
      "[14000]\tvalidation_0-rmse:0.71035\n",
      "[15000]\tvalidation_0-rmse:0.71033\n",
      "[15455]\tvalidation_0-rmse:0.71032\n",
      "[0]\tvalidation_0-rmse:7.46339\n",
      "[1000]\tvalidation_0-rmse:0.72447\n",
      "[2000]\tvalidation_0-rmse:0.71687\n",
      "[3000]\tvalidation_0-rmse:0.71390\n",
      "[4000]\tvalidation_0-rmse:0.71245\n",
      "[5000]\tvalidation_0-rmse:0.71162\n",
      "[6000]\tvalidation_0-rmse:0.71122\n",
      "[7000]\tvalidation_0-rmse:0.71090\n",
      "[8000]\tvalidation_0-rmse:0.71074\n",
      "[9000]\tvalidation_0-rmse:0.71062\n",
      "[10000]\tvalidation_0-rmse:0.71052\n",
      "[11000]\tvalidation_0-rmse:0.71045\n",
      "[12000]\tvalidation_0-rmse:0.71041\n",
      "[13000]\tvalidation_0-rmse:0.71038\n",
      "[14000]\tvalidation_0-rmse:0.71035\n",
      "[15000]\tvalidation_0-rmse:0.71034\n",
      "[16000]\tvalidation_0-rmse:0.71032\n",
      "[17000]\tvalidation_0-rmse:0.71030\n",
      "[17895]\tvalidation_0-rmse:0.71029\n"
     ]
    },
    {
     "name": "stderr",
     "output_type": "stream",
     "text": [
      "\u001b[32m[I 2021-08-24 10:01:47,454]\u001b[0m Trial 16 finished with value: 0.710306409371749 and parameters: {'learning_rate': 0.040572593091150314, 'subsample': 0.9355756479787245, 'colsample_bytree': 0.0012435383230916114, 'max_depth': 8, 'lambda': 10.390035884413617, 'alpha': 60.495469044393005, 'min_child_weight': 409.2242984875959}. Best is trial 8 with value: 0.7098425865549556.\u001b[0m\n"
     ]
    },
    {
     "name": "stdout",
     "output_type": "stream",
     "text": [
      "[0]\tvalidation_0-rmse:7.26250\n",
      "[1000]\tvalidation_0-rmse:0.71214\n",
      "[2000]\tvalidation_0-rmse:0.71064\n",
      "[3000]\tvalidation_0-rmse:0.71021\n",
      "[4000]\tvalidation_0-rmse:0.71000\n",
      "[5000]\tvalidation_0-rmse:0.70991\n",
      "[5798]\tvalidation_0-rmse:0.70986\n",
      "[0]\tvalidation_0-rmse:7.26242\n",
      "[1000]\tvalidation_0-rmse:0.71247\n",
      "[2000]\tvalidation_0-rmse:0.71074\n",
      "[3000]\tvalidation_0-rmse:0.71029\n",
      "[4000]\tvalidation_0-rmse:0.71010\n",
      "[5000]\tvalidation_0-rmse:0.70998\n",
      "[6000]\tvalidation_0-rmse:0.70993\n",
      "[6852]\tvalidation_0-rmse:0.70991\n"
     ]
    },
    {
     "name": "stderr",
     "output_type": "stream",
     "text": [
      "\u001b[32m[I 2021-08-24 10:14:35,642]\u001b[0m Trial 17 finished with value: 0.7098390721059733 and parameters: {'learning_rate': 0.06666068527594282, 'subsample': 0.8927437752490178, 'colsample_bytree': 0.05941623943592869, 'max_depth': 5, 'lambda': 5.629930519060372, 'alpha': 58.31581517910081, 'min_child_weight': 353.6882180875941}. Best is trial 17 with value: 0.7098390721059733.\u001b[0m\n"
     ]
    },
    {
     "name": "stdout",
     "output_type": "stream",
     "text": [
      "[0]\tvalidation_0-rmse:7.26093\n",
      "[1000]\tvalidation_0-rmse:0.71213\n",
      "[2000]\tvalidation_0-rmse:0.71068\n",
      "[3000]\tvalidation_0-rmse:0.71024\n",
      "[4000]\tvalidation_0-rmse:0.71001\n",
      "[5000]\tvalidation_0-rmse:0.70993\n",
      "[5054]\tvalidation_0-rmse:0.70993\n",
      "[0]\tvalidation_0-rmse:7.26085\n",
      "[1000]\tvalidation_0-rmse:0.71252\n",
      "[2000]\tvalidation_0-rmse:0.71075\n",
      "[3000]\tvalidation_0-rmse:0.71029\n",
      "[4000]\tvalidation_0-rmse:0.71010\n",
      "[5000]\tvalidation_0-rmse:0.71001\n",
      "[6000]\tvalidation_0-rmse:0.70995\n",
      "[7000]\tvalidation_0-rmse:0.70990\n",
      "[7120]\tvalidation_0-rmse:0.70989\n"
     ]
    },
    {
     "name": "stderr",
     "output_type": "stream",
     "text": [
      "\u001b[32m[I 2021-08-24 10:27:04,612]\u001b[0m Trial 18 finished with value: 0.7098678396919376 and parameters: {'learning_rate': 0.06686479727320199, 'subsample': 0.8906245657688258, 'colsample_bytree': 0.05896745989280139, 'max_depth': 5, 'lambda': 12.249872193114474, 'alpha': 59.01023502758255, 'min_child_weight': 322.2423932205613}. Best is trial 17 with value: 0.7098390721059733.\u001b[0m\n"
     ]
    },
    {
     "name": "stdout",
     "output_type": "stream",
     "text": [
      "[0]\tvalidation_0-rmse:7.18590\n",
      "[1000]\tvalidation_0-rmse:0.71648\n",
      "[2000]\tvalidation_0-rmse:0.71226\n",
      "[3000]\tvalidation_0-rmse:0.71110\n",
      "[4000]\tvalidation_0-rmse:0.71064\n",
      "[5000]\tvalidation_0-rmse:0.71045\n",
      "[6000]\tvalidation_0-rmse:0.71036\n",
      "[7000]\tvalidation_0-rmse:0.71029\n",
      "[8000]\tvalidation_0-rmse:0.71027\n",
      "[9000]\tvalidation_0-rmse:0.71025\n",
      "[9516]\tvalidation_0-rmse:0.71024\n",
      "[0]\tvalidation_0-rmse:7.18586\n",
      "[1000]\tvalidation_0-rmse:0.71808\n",
      "[2000]\tvalidation_0-rmse:0.71263\n",
      "[3000]\tvalidation_0-rmse:0.71127\n",
      "[4000]\tvalidation_0-rmse:0.71079\n",
      "[5000]\tvalidation_0-rmse:0.71054\n",
      "[6000]\tvalidation_0-rmse:0.71043\n",
      "[7000]\tvalidation_0-rmse:0.71035\n",
      "[8000]\tvalidation_0-rmse:0.71031\n",
      "[9000]\tvalidation_0-rmse:0.71028\n",
      "[10000]\tvalidation_0-rmse:0.71026\n",
      "[11000]\tvalidation_0-rmse:0.71024\n",
      "[11646]\tvalidation_0-rmse:0.71024\n"
     ]
    },
    {
     "name": "stderr",
     "output_type": "stream",
     "text": [
      "\u001b[32m[I 2021-08-24 10:44:34,384]\u001b[0m Trial 19 finished with value: 0.7102356456352619 and parameters: {'learning_rate': 0.07660327691005261, 'subsample': 0.9308122490718198, 'colsample_bytree': 0.025155374802298847, 'max_depth': 8, 'lambda': 7.5471836515145965, 'alpha': 57.65850766797104, 'min_child_weight': 351.06474431132443}. Best is trial 17 with value: 0.7098390721059733.\u001b[0m\n"
     ]
    },
    {
     "name": "stdout",
     "output_type": "stream",
     "text": [
      "[0]\tvalidation_0-rmse:7.32682\n",
      "[1000]\tvalidation_0-rmse:0.71125\n",
      "[2000]\tvalidation_0-rmse:0.71015\n",
      "[3000]\tvalidation_0-rmse:0.70991\n",
      "[4000]\tvalidation_0-rmse:0.70983\n",
      "[5000]\tvalidation_0-rmse:0.70978\n",
      "[5051]\tvalidation_0-rmse:0.70978\n",
      "[0]\tvalidation_0-rmse:7.32682\n",
      "[1000]\tvalidation_0-rmse:0.71155\n",
      "[2000]\tvalidation_0-rmse:0.71025\n",
      "[3000]\tvalidation_0-rmse:0.70997\n",
      "[4000]\tvalidation_0-rmse:0.70986\n",
      "[4390]\tvalidation_0-rmse:0.70985\n"
     ]
    },
    {
     "name": "stderr",
     "output_type": "stream",
     "text": [
      "\u001b[32m[I 2021-08-24 10:54:49,853]\u001b[0m Trial 20 finished with value: 0.7097690504240546 and parameters: {'learning_rate': 0.05830420740014966, 'subsample': 0.9704905268463236, 'colsample_bytree': 0.06271182375784967, 'max_depth': 7, 'lambda': 8.889456920536881, 'alpha': 53.62520080816777, 'min_child_weight': 324.84720422456087}. Best is trial 20 with value: 0.7097690504240546.\u001b[0m\n"
     ]
    },
    {
     "name": "stdout",
     "output_type": "stream",
     "text": [
      "[0]\tvalidation_0-rmse:7.32227\n",
      "[1000]\tvalidation_0-rmse:0.71123\n",
      "[2000]\tvalidation_0-rmse:0.71013\n",
      "[3000]\tvalidation_0-rmse:0.70987\n",
      "[4000]\tvalidation_0-rmse:0.70978\n",
      "[4483]\tvalidation_0-rmse:0.70976\n",
      "[0]\tvalidation_0-rmse:7.32226\n",
      "[1000]\tvalidation_0-rmse:0.71153\n",
      "[2000]\tvalidation_0-rmse:0.71026\n",
      "[3000]\tvalidation_0-rmse:0.70998\n",
      "[4000]\tvalidation_0-rmse:0.70988\n",
      "[4824]\tvalidation_0-rmse:0.70986\n"
     ]
    },
    {
     "name": "stderr",
     "output_type": "stream",
     "text": [
      "\u001b[32m[I 2021-08-24 11:04:56,380]\u001b[0m Trial 21 finished with value: 0.7097666048475235 and parameters: {'learning_rate': 0.05889646321820302, 'subsample': 0.9696632151770538, 'colsample_bytree': 0.06416088812643116, 'max_depth': 7, 'lambda': 8.937879163296444, 'alpha': 54.38293217857195, 'min_child_weight': 324.6738529059135}. Best is trial 21 with value: 0.7097666048475235.\u001b[0m\n"
     ]
    },
    {
     "name": "stdout",
     "output_type": "stream",
     "text": [
      "[0]\tvalidation_0-rmse:7.33694\n",
      "[1000]\tvalidation_0-rmse:0.71398\n",
      "[2000]\tvalidation_0-rmse:0.71114\n",
      "[3000]\tvalidation_0-rmse:0.71046\n",
      "[4000]\tvalidation_0-rmse:0.71020\n",
      "[5000]\tvalidation_0-rmse:0.71007\n",
      "[6000]\tvalidation_0-rmse:0.71002\n",
      "[7000]\tvalidation_0-rmse:0.70995\n",
      "[8000]\tvalidation_0-rmse:0.70990\n",
      "[8584]\tvalidation_0-rmse:0.70988\n",
      "[0]\tvalidation_0-rmse:7.33693\n",
      "[1000]\tvalidation_0-rmse:0.71474\n",
      "[2000]\tvalidation_0-rmse:0.71136\n",
      "[3000]\tvalidation_0-rmse:0.71053\n",
      "[4000]\tvalidation_0-rmse:0.71025\n",
      "[5000]\tvalidation_0-rmse:0.71011\n",
      "[6000]\tvalidation_0-rmse:0.71003\n",
      "[7000]\tvalidation_0-rmse:0.70997\n",
      "[8000]\tvalidation_0-rmse:0.70991\n",
      "[9000]\tvalidation_0-rmse:0.70988\n",
      "[9672]\tvalidation_0-rmse:0.70986\n"
     ]
    },
    {
     "name": "stderr",
     "output_type": "stream",
     "text": [
      "\u001b[32m[I 2021-08-24 11:21:17,434]\u001b[0m Trial 22 finished with value: 0.7098515042035354 and parameters: {'learning_rate': 0.05699112580031278, 'subsample': 0.974690906076135, 'colsample_bytree': 0.039022662166197014, 'max_depth': 7, 'lambda': 8.862516299187225, 'alpha': 53.50254856690478, 'min_child_weight': 314.9960064670328}. Best is trial 21 with value: 0.7097666048475235.\u001b[0m\n"
     ]
    },
    {
     "name": "stdout",
     "output_type": "stream",
     "text": [
      "[0]\tvalidation_0-rmse:7.36346\n",
      "[1000]\tvalidation_0-rmse:0.71126\n",
      "[2000]\tvalidation_0-rmse:0.71011\n",
      "[3000]\tvalidation_0-rmse:0.70988\n",
      "[4000]\tvalidation_0-rmse:0.70979\n",
      "[4481]\tvalidation_0-rmse:0.70978\n",
      "[0]\tvalidation_0-rmse:7.36345\n",
      "[1000]\tvalidation_0-rmse:0.71158\n",
      "[2000]\tvalidation_0-rmse:0.71023\n",
      "[3000]\tvalidation_0-rmse:0.70998\n",
      "[3815]\tvalidation_0-rmse:0.70991\n"
     ]
    },
    {
     "name": "stderr",
     "output_type": "stream",
     "text": [
      "\u001b[32m[I 2021-08-24 11:30:37,453]\u001b[0m Trial 23 finished with value: 0.7098005558576915 and parameters: {'learning_rate': 0.05354795461527928, 'subsample': 0.9693700969033763, 'colsample_bytree': 0.06310178694635912, 'max_depth': 8, 'lambda': 6.861817829443311, 'alpha': 53.34055862662517, 'min_child_weight': 354.1432371890256}. Best is trial 21 with value: 0.7097666048475235.\u001b[0m\n"
     ]
    },
    {
     "name": "stdout",
     "output_type": "stream",
     "text": [
      "[0]\tvalidation_0-rmse:7.38445\n",
      "[1000]\tvalidation_0-rmse:0.71070\n",
      "[2000]\tvalidation_0-rmse:0.71002\n",
      "[2939]\tvalidation_0-rmse:0.70993\n",
      "[0]\tvalidation_0-rmse:7.38444\n",
      "[1000]\tvalidation_0-rmse:0.71083\n",
      "[2000]\tvalidation_0-rmse:0.71004\n",
      "[3000]\tvalidation_0-rmse:0.70993\n",
      "[3012]\tvalidation_0-rmse:0.70993\n"
     ]
    },
    {
     "name": "stderr",
     "output_type": "stream",
     "text": [
      "\u001b[32m[I 2021-08-24 11:38:28,311]\u001b[0m Trial 24 finished with value: 0.7098645752623124 and parameters: {'learning_rate': 0.050822419040662654, 'subsample': 0.9693575354833976, 'colsample_bytree': 0.10716137776725783, 'max_depth': 8, 'lambda': 6.989498543883167, 'alpha': 53.38182402161511, 'min_child_weight': 337.76851784494846}. Best is trial 21 with value: 0.7097666048475235.\u001b[0m\n"
     ]
    },
    {
     "name": "stdout",
     "output_type": "stream",
     "text": [
      "[0]\tvalidation_0-rmse:7.34314\n",
      "[1000]\tvalidation_0-rmse:0.71119\n",
      "[2000]\tvalidation_0-rmse:0.71012\n",
      "[3000]\tvalidation_0-rmse:0.70993\n",
      "[4000]\tvalidation_0-rmse:0.70986\n",
      "[4007]\tvalidation_0-rmse:0.70985\n",
      "[0]\tvalidation_0-rmse:7.34313\n",
      "[1000]\tvalidation_0-rmse:0.71151\n",
      "[2000]\tvalidation_0-rmse:0.71026\n",
      "[3000]\tvalidation_0-rmse:0.71001\n",
      "[3729]\tvalidation_0-rmse:0.70997\n"
     ]
    },
    {
     "name": "stderr",
     "output_type": "stream",
     "text": [
      "\u001b[32m[I 2021-08-24 11:47:07,764]\u001b[0m Trial 25 finished with value: 0.7098661257172536 and parameters: {'learning_rate': 0.056185675901536065, 'subsample': 0.9842015198313199, 'colsample_bytree': 0.06912789594637488, 'max_depth': 8, 'lambda': 8.894916300528772, 'alpha': 54.69213626365433, 'min_child_weight': 321.15807606690976}. Best is trial 21 with value: 0.7097666048475235.\u001b[0m\n"
     ]
    },
    {
     "name": "stdout",
     "output_type": "stream",
     "text": [
      "[0]\tvalidation_0-rmse:7.30188\n",
      "[1000]\tvalidation_0-rmse:0.71076\n",
      "[2000]\tvalidation_0-rmse:0.71005\n",
      "[3000]\tvalidation_0-rmse:0.70994\n",
      "[3115]\tvalidation_0-rmse:0.70994\n",
      "[0]\tvalidation_0-rmse:7.30188\n",
      "[1000]\tvalidation_0-rmse:0.71085\n",
      "[2000]\tvalidation_0-rmse:0.71008\n",
      "[3000]\tvalidation_0-rmse:0.70991\n",
      "[3139]\tvalidation_0-rmse:0.70993\n"
     ]
    },
    {
     "name": "stderr",
     "output_type": "stream",
     "text": [
      "\u001b[32m[I 2021-08-24 11:54:35,609]\u001b[0m Trial 26 finished with value: 0.7098592185103916 and parameters: {'learning_rate': 0.06154188475872525, 'subsample': 0.9649249417638783, 'colsample_bytree': 0.09837453875768598, 'max_depth': 7, 'lambda': 7.447588533936399, 'alpha': 54.28894631350551, 'min_child_weight': 332.4168544218226}. Best is trial 21 with value: 0.7097666048475235.\u001b[0m\n"
     ]
    },
    {
     "name": "stdout",
     "output_type": "stream",
     "text": [
      "[0]\tvalidation_0-rmse:7.41767\n",
      "[1000]\tvalidation_0-rmse:0.71496\n",
      "[2000]\tvalidation_0-rmse:0.71144\n",
      "[3000]\tvalidation_0-rmse:0.71058\n",
      "[4000]\tvalidation_0-rmse:0.71026\n",
      "[5000]\tvalidation_0-rmse:0.71010\n",
      "[6000]\tvalidation_0-rmse:0.71003\n",
      "[7000]\tvalidation_0-rmse:0.70998\n",
      "[8000]\tvalidation_0-rmse:0.70993\n",
      "[9000]\tvalidation_0-rmse:0.70990\n",
      "[9710]\tvalidation_0-rmse:0.70988\n",
      "[0]\tvalidation_0-rmse:7.41766\n",
      "[1000]\tvalidation_0-rmse:0.71586\n",
      "[2000]\tvalidation_0-rmse:0.71170\n",
      "[3000]\tvalidation_0-rmse:0.71066\n",
      "[4000]\tvalidation_0-rmse:0.71032\n",
      "[5000]\tvalidation_0-rmse:0.71016\n",
      "[6000]\tvalidation_0-rmse:0.71006\n",
      "[7000]\tvalidation_0-rmse:0.71000\n",
      "[8000]\tvalidation_0-rmse:0.70994\n",
      "[8186]\tvalidation_0-rmse:0.70994\n"
     ]
    },
    {
     "name": "stderr",
     "output_type": "stream",
     "text": [
      "\u001b[32m[I 2021-08-24 12:10:39,716]\u001b[0m Trial 27 finished with value: 0.7098933397393179 and parameters: {'learning_rate': 0.04651020695945785, 'subsample': 0.9966627165178346, 'colsample_bytree': 0.034348345832844504, 'max_depth': 8, 'lambda': 9.83879788440929, 'alpha': 53.37187424759455, 'min_child_weight': 345.4514390643083}. Best is trial 21 with value: 0.7097666048475235.\u001b[0m\n"
     ]
    },
    {
     "name": "stdout",
     "output_type": "stream",
     "text": [
      "[0]\tvalidation_0-rmse:7.36511\n",
      "[1000]\tvalidation_0-rmse:0.71155\n",
      "[2000]\tvalidation_0-rmse:0.71027\n",
      "[3000]\tvalidation_0-rmse:0.70996\n",
      "[4000]\tvalidation_0-rmse:0.70985\n",
      "[5000]\tvalidation_0-rmse:0.70980\n",
      "[5033]\tvalidation_0-rmse:0.70980\n",
      "[0]\tvalidation_0-rmse:7.36511\n",
      "[1000]\tvalidation_0-rmse:0.71189\n",
      "[2000]\tvalidation_0-rmse:0.71034\n",
      "[3000]\tvalidation_0-rmse:0.71000\n",
      "[4000]\tvalidation_0-rmse:0.70987\n",
      "[4913]\tvalidation_0-rmse:0.70984\n"
     ]
    },
    {
     "name": "stderr",
     "output_type": "stream",
     "text": [
      "\u001b[32m[I 2021-08-24 12:21:31,281]\u001b[0m Trial 28 finished with value: 0.7097759154492443 and parameters: {'learning_rate': 0.05333328571035907, 'subsample': 0.9564314639533431, 'colsample_bytree': 0.062443135348732914, 'max_depth': 7, 'lambda': 8.7726421045735, 'alpha': 55.04787383414727, 'min_child_weight': 357.04103309671245}. Best is trial 21 with value: 0.7097666048475235.\u001b[0m\n"
     ]
    },
    {
     "name": "stdout",
     "output_type": "stream",
     "text": [
      "[0]\tvalidation_0-rmse:7.32661\n",
      "[1000]\tvalidation_0-rmse:0.71919\n",
      "[2000]\tvalidation_0-rmse:0.71379\n",
      "[3000]\tvalidation_0-rmse:0.71194\n",
      "[4000]\tvalidation_0-rmse:0.71113\n",
      "[5000]\tvalidation_0-rmse:0.71076\n",
      "[6000]\tvalidation_0-rmse:0.71059\n",
      "[7000]\tvalidation_0-rmse:0.71045\n",
      "[8000]\tvalidation_0-rmse:0.71040\n",
      "[9000]\tvalidation_0-rmse:0.71035\n",
      "[10000]\tvalidation_0-rmse:0.71031\n",
      "[11000]\tvalidation_0-rmse:0.71029\n",
      "[11775]\tvalidation_0-rmse:0.71029\n",
      "[0]\tvalidation_0-rmse:7.32660\n",
      "[1000]\tvalidation_0-rmse:0.72098\n",
      "[2000]\tvalidation_0-rmse:0.71431\n",
      "[3000]\tvalidation_0-rmse:0.71223\n",
      "[4000]\tvalidation_0-rmse:0.71139\n",
      "[5000]\tvalidation_0-rmse:0.71093\n",
      "[6000]\tvalidation_0-rmse:0.71070\n",
      "[7000]\tvalidation_0-rmse:0.71053\n",
      "[8000]\tvalidation_0-rmse:0.71045\n",
      "[9000]\tvalidation_0-rmse:0.71039\n",
      "[10000]\tvalidation_0-rmse:0.71034\n",
      "[11000]\tvalidation_0-rmse:0.71032\n",
      "[12000]\tvalidation_0-rmse:0.71029\n",
      "[12463]\tvalidation_0-rmse:0.71029\n"
     ]
    },
    {
     "name": "stderr",
     "output_type": "stream",
     "text": [
      "\u001b[32m[I 2021-08-24 12:40:53,167]\u001b[0m Trial 29 finished with value: 0.7102851173275533 and parameters: {'learning_rate': 0.05833220549974259, 'subsample': 0.958385095249468, 'colsample_bytree': 0.010480640968136001, 'max_depth': 7, 'lambda': 8.937367797856679, 'alpha': 56.918900585298424, 'min_child_weight': 367.745304955875}. Best is trial 21 with value: 0.7097666048475235.\u001b[0m\n"
     ]
    },
    {
     "name": "stdout",
     "output_type": "stream",
     "text": [
      "Number of finished trials: 30\n",
      "Best trial: {'learning_rate': 0.05889646321820302, 'subsample': 0.9696632151770538, 'colsample_bytree': 0.06416088812643116, 'max_depth': 7, 'lambda': 8.937879163296444, 'alpha': 54.38293217857195, 'min_child_weight': 324.6738529059135}\n"
     ]
    }
   ],
   "source": [
    "study = optuna.create_study(direction='minimize')\n",
    "study.optimize(objective,n_trials= 30)\n",
    "print('Number of finished trials:', len(study.trials))\n",
    "print('Best trial:', study.best_trial.params)"
   ]
  },
  {
   "cell_type": "code",
   "execution_count": 14,
   "id": "c6673843",
   "metadata": {
    "execution": {
     "iopub.execute_input": "2021-08-24T12:40:53.545720Z",
     "iopub.status.busy": "2021-08-24T12:40:53.544924Z",
     "iopub.status.idle": "2021-08-24T12:40:53.547889Z",
     "shell.execute_reply": "2021-08-24T12:40:53.548358Z"
    },
    "papermill": {
     "duration": 0.184174,
     "end_time": "2021-08-24T12:40:53.548644",
     "exception": false,
     "start_time": "2021-08-24T12:40:53.364470",
     "status": "completed"
    },
    "tags": []
   },
   "outputs": [
    {
     "data": {
      "text/plain": [
       "{'learning_rate': 0.05889646321820302,\n",
       " 'subsample': 0.9696632151770538,\n",
       " 'colsample_bytree': 0.06416088812643116,\n",
       " 'max_depth': 7,\n",
       " 'lambda': 8.937879163296444,\n",
       " 'alpha': 54.38293217857195,\n",
       " 'min_child_weight': 324.6738529059135}"
      ]
     },
     "execution_count": 14,
     "metadata": {},
     "output_type": "execute_result"
    }
   ],
   "source": [
    "study.best_params"
   ]
  },
  {
   "cell_type": "markdown",
   "id": "7c01c8a6",
   "metadata": {
    "papermill": {
     "duration": 0.176121,
     "end_time": "2021-08-24T12:40:53.894915",
     "exception": false,
     "start_time": "2021-08-24T12:40:53.718794",
     "status": "completed"
    },
    "tags": []
   },
   "source": [
    "# Log\n",
    "\n",
    "====== Ordinal encoding =========\n",
    "\n",
    "0.710263730055926 no noise ver2\n",
    "\n",
    "0.7098699076215974 no noise ver5 (narrow space)\n",
    "\n",
    "0.7097806935091454 no noise ver6 (narrow space)\n",
    "\n",
    "0.7128654211262124 row-wise noise ver3\n",
    "\n",
    "0.7131624379749847 random noise ver4\n",
    "\n",
    "====== One-hot encoding =========\n",
    "\n",
    "0.7101457824816443 no noise ver7\n",
    "\n",
    "0.709767447519238 no noise ver10 (narrow space) final\n",
    "\n",
    "0.7131014270509544 random noise ver8\n",
    "\n",
    "0.7132486107908714 row-wise noise ver9\n",
    "\n",
    "\n",
    "==========================================\n",
    "=========== Changed pseudo ===============\n",
    "\n",
    "====== One-hot encoding =========\n",
    "\n",
    "0.7102184927322749 no noise ver13\n",
    "\n",
    "0.7098602061085649 no noise ver15 (narrow space)"
   ]
  }
 ],
 "metadata": {
  "kernelspec": {
   "display_name": "Python 3",
   "language": "python",
   "name": "python3"
  },
  "language_info": {
   "codemirror_mode": {
    "name": "ipython",
    "version": 3
   },
   "file_extension": ".py",
   "mimetype": "text/x-python",
   "name": "python",
   "nbconvert_exporter": "python",
   "pygments_lexer": "ipython3",
   "version": "3.7.10"
  },
  "papermill": {
   "default_parameters": {},
   "duration": 22153.617924,
   "end_time": "2021-08-24T12:40:55.893734",
   "environment_variables": {},
   "exception": null,
   "input_path": "__notebook__.ipynb",
   "output_path": "__notebook__.ipynb",
   "parameters": {},
   "start_time": "2021-08-24T06:31:42.275810",
   "version": "2.3.3"
  }
 },
 "nbformat": 4,
 "nbformat_minor": 5
}
