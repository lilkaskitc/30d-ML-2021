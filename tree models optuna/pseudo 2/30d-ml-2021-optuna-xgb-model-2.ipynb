{
 "cells": [
  {
   "cell_type": "code",
   "execution_count": 1,
   "id": "a977b4bb",
   "metadata": {
    "_cell_guid": "b1076dfc-b9ad-4769-8c92-a6c4dae69d19",
    "_uuid": "8f2839f25d086af736a60e9eeb907d3b93b6e0e5",
    "execution": {
     "iopub.execute_input": "2021-08-31T00:49:39.181109Z",
     "iopub.status.busy": "2021-08-31T00:49:39.180427Z",
     "iopub.status.idle": "2021-08-31T00:49:40.155214Z",
     "shell.execute_reply": "2021-08-31T00:49:40.155736Z",
     "shell.execute_reply.started": "2021-08-20T04:03:17.046357Z"
    },
    "papermill": {
     "duration": 1.002366,
     "end_time": "2021-08-31T00:49:40.155992",
     "exception": false,
     "start_time": "2021-08-31T00:49:39.153626",
     "status": "completed"
    },
    "tags": []
   },
   "outputs": [],
   "source": [
    "# Familiar imports\n",
    "import numpy as np\n",
    "import pandas as pd\n",
    "import random\n",
    "import os\n",
    "import time\n",
    "from pathlib import Path\n",
    "\n",
    "from sklearn.preprocessing import StandardScaler\n",
    "from sklearn.model_selection import KFold, train_test_split\n",
    "from sklearn.metrics import mean_squared_error\n",
    "from sklearn.preprocessing import OrdinalEncoder, OneHotEncoder\n",
    "\n",
    "#import lightgbm as lgb\n",
    "import xgboost as xgb\n",
    "#import catboost as ctb\n",
    "\n",
    "import warnings\n",
    "warnings.simplefilter('ignore')"
   ]
  },
  {
   "cell_type": "markdown",
   "id": "060469ee",
   "metadata": {
    "papermill": {
     "duration": 0.020905,
     "end_time": "2021-08-31T00:49:40.199314",
     "exception": false,
     "start_time": "2021-08-31T00:49:40.178409",
     "status": "completed"
    },
    "tags": []
   },
   "source": [
    "# Parameters"
   ]
  },
  {
   "cell_type": "code",
   "execution_count": 2,
   "id": "4354cfe1",
   "metadata": {
    "execution": {
     "iopub.execute_input": "2021-08-31T00:49:40.232233Z",
     "iopub.status.busy": "2021-08-31T00:49:40.230820Z",
     "iopub.status.idle": "2021-08-31T00:49:40.233103Z",
     "shell.execute_reply": "2021-08-31T00:49:40.233524Z",
     "shell.execute_reply.started": "2021-08-20T04:03:18.510416Z"
    },
    "papermill": {
     "duration": 0.021342,
     "end_time": "2021-08-31T00:49:40.233661",
     "exception": false,
     "start_time": "2021-08-31T00:49:40.212319",
     "status": "completed"
    },
    "tags": []
   },
   "outputs": [],
   "source": [
    "target = 'target'\n",
    "\n",
    "DEBUG = False\n",
    "\n",
    "if DEBUG:\n",
    "    N_ESTIMATORS = 1\n",
    "    N_SPLITS = 2\n",
    "    SEED = 17\n",
    "    CVSEED = 17\n",
    "    EARLY_STOPPING_ROUNDS = 1\n",
    "    VERBOSE = 100\n",
    "    #N_ITERS = 2\n",
    "else:\n",
    "    N_SPLITS = 10\n",
    "    N_ESTIMATORS = 20000\n",
    "    EARLY_STOPPING_ROUNDS = 200\n",
    "    VERBOSE = 1000\n",
    "    SEED = 17\n",
    "    CVSEED = 17\n",
    "    #N_ITERS = 10"
   ]
  },
  {
   "cell_type": "code",
   "execution_count": 3,
   "id": "dbd0b178",
   "metadata": {
    "execution": {
     "iopub.execute_input": "2021-08-31T00:49:40.265728Z",
     "iopub.status.busy": "2021-08-31T00:49:40.264244Z",
     "iopub.status.idle": "2021-08-31T00:49:40.266487Z",
     "shell.execute_reply": "2021-08-31T00:49:40.266893Z",
     "shell.execute_reply.started": "2021-08-20T04:03:18.522875Z"
    },
    "papermill": {
     "duration": 0.020272,
     "end_time": "2021-08-31T00:49:40.267022",
     "exception": false,
     "start_time": "2021-08-31T00:49:40.246750",
     "status": "completed"
    },
    "tags": []
   },
   "outputs": [],
   "source": [
    "def set_seed(seed=17):\n",
    "    random.seed(seed)\n",
    "    os.environ['PYTHONHASHSEED'] = str(seed)\n",
    "    np.random.seed(seed)\n",
    "    \n",
    "set_seed(SEED)"
   ]
  },
  {
   "cell_type": "markdown",
   "id": "ee62b8b5",
   "metadata": {
    "papermill": {
     "duration": 0.012977,
     "end_time": "2021-08-31T00:49:40.293161",
     "exception": false,
     "start_time": "2021-08-31T00:49:40.280184",
     "status": "completed"
    },
    "tags": []
   },
   "source": [
    "# Load data"
   ]
  },
  {
   "cell_type": "code",
   "execution_count": 4,
   "id": "f0dd0584",
   "metadata": {
    "execution": {
     "iopub.execute_input": "2021-08-31T00:49:40.338077Z",
     "iopub.status.busy": "2021-08-31T00:49:40.337264Z",
     "iopub.status.idle": "2021-08-31T00:49:43.728683Z",
     "shell.execute_reply": "2021-08-31T00:49:43.728238Z",
     "shell.execute_reply.started": "2021-08-20T04:03:18.539486Z"
    },
    "papermill": {
     "duration": 3.422126,
     "end_time": "2021-08-31T00:49:43.728807",
     "exception": false,
     "start_time": "2021-08-31T00:49:40.306681",
     "status": "completed"
    },
    "tags": []
   },
   "outputs": [
    {
     "data": {
      "text/html": [
       "<div>\n",
       "<style scoped>\n",
       "    .dataframe tbody tr th:only-of-type {\n",
       "        vertical-align: middle;\n",
       "    }\n",
       "\n",
       "    .dataframe tbody tr th {\n",
       "        vertical-align: top;\n",
       "    }\n",
       "\n",
       "    .dataframe thead th {\n",
       "        text-align: right;\n",
       "    }\n",
       "</style>\n",
       "<table border=\"1\" class=\"dataframe\">\n",
       "  <thead>\n",
       "    <tr style=\"text-align: right;\">\n",
       "      <th></th>\n",
       "      <th>id</th>\n",
       "      <th>cat0</th>\n",
       "      <th>cat1</th>\n",
       "      <th>cat2</th>\n",
       "      <th>cat3</th>\n",
       "      <th>cat4</th>\n",
       "      <th>cat5</th>\n",
       "      <th>cat6</th>\n",
       "      <th>cat7</th>\n",
       "      <th>cat8</th>\n",
       "      <th>...</th>\n",
       "      <th>cont5</th>\n",
       "      <th>cont6</th>\n",
       "      <th>cont7</th>\n",
       "      <th>cont8</th>\n",
       "      <th>cont9</th>\n",
       "      <th>cont10</th>\n",
       "      <th>cont11</th>\n",
       "      <th>cont12</th>\n",
       "      <th>cont13</th>\n",
       "      <th>target</th>\n",
       "    </tr>\n",
       "  </thead>\n",
       "  <tbody>\n",
       "    <tr>\n",
       "      <th>0</th>\n",
       "      <td>1</td>\n",
       "      <td>B</td>\n",
       "      <td>B</td>\n",
       "      <td>B</td>\n",
       "      <td>C</td>\n",
       "      <td>B</td>\n",
       "      <td>B</td>\n",
       "      <td>A</td>\n",
       "      <td>E</td>\n",
       "      <td>C</td>\n",
       "      <td>...</td>\n",
       "      <td>0.400361</td>\n",
       "      <td>0.160266</td>\n",
       "      <td>0.310921</td>\n",
       "      <td>0.389470</td>\n",
       "      <td>0.267559</td>\n",
       "      <td>0.237281</td>\n",
       "      <td>0.377873</td>\n",
       "      <td>0.322401</td>\n",
       "      <td>0.869850</td>\n",
       "      <td>8.113634</td>\n",
       "    </tr>\n",
       "    <tr>\n",
       "      <th>1</th>\n",
       "      <td>2</td>\n",
       "      <td>B</td>\n",
       "      <td>B</td>\n",
       "      <td>A</td>\n",
       "      <td>A</td>\n",
       "      <td>B</td>\n",
       "      <td>D</td>\n",
       "      <td>A</td>\n",
       "      <td>F</td>\n",
       "      <td>A</td>\n",
       "      <td>...</td>\n",
       "      <td>0.533087</td>\n",
       "      <td>0.558922</td>\n",
       "      <td>0.516294</td>\n",
       "      <td>0.594928</td>\n",
       "      <td>0.341439</td>\n",
       "      <td>0.906013</td>\n",
       "      <td>0.921701</td>\n",
       "      <td>0.261975</td>\n",
       "      <td>0.465083</td>\n",
       "      <td>8.481233</td>\n",
       "    </tr>\n",
       "    <tr>\n",
       "      <th>2</th>\n",
       "      <td>3</td>\n",
       "      <td>A</td>\n",
       "      <td>A</td>\n",
       "      <td>A</td>\n",
       "      <td>C</td>\n",
       "      <td>B</td>\n",
       "      <td>D</td>\n",
       "      <td>A</td>\n",
       "      <td>D</td>\n",
       "      <td>A</td>\n",
       "      <td>...</td>\n",
       "      <td>0.650609</td>\n",
       "      <td>0.375348</td>\n",
       "      <td>0.902567</td>\n",
       "      <td>0.555205</td>\n",
       "      <td>0.843531</td>\n",
       "      <td>0.748809</td>\n",
       "      <td>0.620126</td>\n",
       "      <td>0.541474</td>\n",
       "      <td>0.763846</td>\n",
       "      <td>8.364351</td>\n",
       "    </tr>\n",
       "    <tr>\n",
       "      <th>3</th>\n",
       "      <td>4</td>\n",
       "      <td>B</td>\n",
       "      <td>B</td>\n",
       "      <td>A</td>\n",
       "      <td>C</td>\n",
       "      <td>B</td>\n",
       "      <td>D</td>\n",
       "      <td>A</td>\n",
       "      <td>E</td>\n",
       "      <td>C</td>\n",
       "      <td>...</td>\n",
       "      <td>0.668980</td>\n",
       "      <td>0.239061</td>\n",
       "      <td>0.732948</td>\n",
       "      <td>0.679618</td>\n",
       "      <td>0.574844</td>\n",
       "      <td>0.346010</td>\n",
       "      <td>0.714610</td>\n",
       "      <td>0.540150</td>\n",
       "      <td>0.280682</td>\n",
       "      <td>8.049253</td>\n",
       "    </tr>\n",
       "    <tr>\n",
       "      <th>4</th>\n",
       "      <td>6</td>\n",
       "      <td>A</td>\n",
       "      <td>A</td>\n",
       "      <td>A</td>\n",
       "      <td>C</td>\n",
       "      <td>B</td>\n",
       "      <td>D</td>\n",
       "      <td>A</td>\n",
       "      <td>E</td>\n",
       "      <td>A</td>\n",
       "      <td>...</td>\n",
       "      <td>0.686964</td>\n",
       "      <td>0.420667</td>\n",
       "      <td>0.648182</td>\n",
       "      <td>0.684501</td>\n",
       "      <td>0.956692</td>\n",
       "      <td>1.000773</td>\n",
       "      <td>0.776742</td>\n",
       "      <td>0.625849</td>\n",
       "      <td>0.250823</td>\n",
       "      <td>7.972260</td>\n",
       "    </tr>\n",
       "  </tbody>\n",
       "</table>\n",
       "<p>5 rows × 26 columns</p>\n",
       "</div>"
      ],
      "text/plain": [
       "   id cat0 cat1 cat2 cat3 cat4 cat5 cat6 cat7 cat8  ...     cont5     cont6  \\\n",
       "0   1    B    B    B    C    B    B    A    E    C  ...  0.400361  0.160266   \n",
       "1   2    B    B    A    A    B    D    A    F    A  ...  0.533087  0.558922   \n",
       "2   3    A    A    A    C    B    D    A    D    A  ...  0.650609  0.375348   \n",
       "3   4    B    B    A    C    B    D    A    E    C  ...  0.668980  0.239061   \n",
       "4   6    A    A    A    C    B    D    A    E    A  ...  0.686964  0.420667   \n",
       "\n",
       "      cont7     cont8     cont9    cont10    cont11    cont12    cont13  \\\n",
       "0  0.310921  0.389470  0.267559  0.237281  0.377873  0.322401  0.869850   \n",
       "1  0.516294  0.594928  0.341439  0.906013  0.921701  0.261975  0.465083   \n",
       "2  0.902567  0.555205  0.843531  0.748809  0.620126  0.541474  0.763846   \n",
       "3  0.732948  0.679618  0.574844  0.346010  0.714610  0.540150  0.280682   \n",
       "4  0.648182  0.684501  0.956692  1.000773  0.776742  0.625849  0.250823   \n",
       "\n",
       "     target  \n",
       "0  8.113634  \n",
       "1  8.481233  \n",
       "2  8.364351  \n",
       "3  8.049253  \n",
       "4  7.972260  \n",
       "\n",
       "[5 rows x 26 columns]"
      ]
     },
     "execution_count": 4,
     "metadata": {},
     "output_type": "execute_result"
    }
   ],
   "source": [
    "# Load the training data\n",
    "train = pd.read_csv(\"../input/30-days-of-ml/train.csv\")\n",
    "test = pd.read_csv(\"../input/30-days-of-ml/test.csv\")\n",
    "\n",
    "# Preview the data\n",
    "train.head()"
   ]
  },
  {
   "cell_type": "code",
   "execution_count": 5,
   "id": "bfc3d107",
   "metadata": {
    "execution": {
     "iopub.execute_input": "2021-08-31T00:49:43.842084Z",
     "iopub.status.busy": "2021-08-31T00:49:43.836502Z",
     "iopub.status.idle": "2021-08-31T00:49:43.949416Z",
     "shell.execute_reply": "2021-08-31T00:49:43.949862Z"
    },
    "papermill": {
     "duration": 0.206756,
     "end_time": "2021-08-31T00:49:43.950023",
     "exception": false,
     "start_time": "2021-08-31T00:49:43.743267",
     "status": "completed"
    },
    "tags": []
   },
   "outputs": [
    {
     "data": {
      "text/html": [
       "<div>\n",
       "<style scoped>\n",
       "    .dataframe tbody tr th:only-of-type {\n",
       "        vertical-align: middle;\n",
       "    }\n",
       "\n",
       "    .dataframe tbody tr th {\n",
       "        vertical-align: top;\n",
       "    }\n",
       "\n",
       "    .dataframe thead th {\n",
       "        text-align: right;\n",
       "    }\n",
       "</style>\n",
       "<table border=\"1\" class=\"dataframe\">\n",
       "  <thead>\n",
       "    <tr style=\"text-align: right;\">\n",
       "      <th></th>\n",
       "      <th>id</th>\n",
       "      <th>cat0</th>\n",
       "      <th>cat1</th>\n",
       "      <th>cat5</th>\n",
       "      <th>cat7</th>\n",
       "      <th>cat8</th>\n",
       "      <th>cat9</th>\n",
       "      <th>cont0</th>\n",
       "      <th>cont1</th>\n",
       "      <th>cont2</th>\n",
       "      <th>...</th>\n",
       "      <th>cont5</th>\n",
       "      <th>cont6</th>\n",
       "      <th>cont7</th>\n",
       "      <th>cont8</th>\n",
       "      <th>cont9</th>\n",
       "      <th>cont10</th>\n",
       "      <th>cont11</th>\n",
       "      <th>cont12</th>\n",
       "      <th>cont13</th>\n",
       "      <th>target</th>\n",
       "    </tr>\n",
       "  </thead>\n",
       "  <tbody>\n",
       "    <tr>\n",
       "      <th>0</th>\n",
       "      <td>1</td>\n",
       "      <td>B</td>\n",
       "      <td>B</td>\n",
       "      <td>B</td>\n",
       "      <td>E</td>\n",
       "      <td>C</td>\n",
       "      <td>N</td>\n",
       "      <td>0.201470</td>\n",
       "      <td>-0.014822</td>\n",
       "      <td>0.669699</td>\n",
       "      <td>...</td>\n",
       "      <td>0.400361</td>\n",
       "      <td>0.160266</td>\n",
       "      <td>0.310921</td>\n",
       "      <td>0.389470</td>\n",
       "      <td>0.267559</td>\n",
       "      <td>0.237281</td>\n",
       "      <td>0.377873</td>\n",
       "      <td>0.322401</td>\n",
       "      <td>0.869850</td>\n",
       "      <td>8.113634</td>\n",
       "    </tr>\n",
       "    <tr>\n",
       "      <th>1</th>\n",
       "      <td>2</td>\n",
       "      <td>B</td>\n",
       "      <td>B</td>\n",
       "      <td>D</td>\n",
       "      <td>F</td>\n",
       "      <td>A</td>\n",
       "      <td>O</td>\n",
       "      <td>0.743068</td>\n",
       "      <td>0.367411</td>\n",
       "      <td>1.021605</td>\n",
       "      <td>...</td>\n",
       "      <td>0.533087</td>\n",
       "      <td>0.558922</td>\n",
       "      <td>0.516294</td>\n",
       "      <td>0.594928</td>\n",
       "      <td>0.341439</td>\n",
       "      <td>0.906013</td>\n",
       "      <td>0.921701</td>\n",
       "      <td>0.261975</td>\n",
       "      <td>0.465083</td>\n",
       "      <td>8.481233</td>\n",
       "    </tr>\n",
       "    <tr>\n",
       "      <th>2</th>\n",
       "      <td>3</td>\n",
       "      <td>A</td>\n",
       "      <td>A</td>\n",
       "      <td>D</td>\n",
       "      <td>D</td>\n",
       "      <td>A</td>\n",
       "      <td>F</td>\n",
       "      <td>0.742708</td>\n",
       "      <td>0.310383</td>\n",
       "      <td>-0.012673</td>\n",
       "      <td>...</td>\n",
       "      <td>0.650609</td>\n",
       "      <td>0.375348</td>\n",
       "      <td>0.902567</td>\n",
       "      <td>0.555205</td>\n",
       "      <td>0.843531</td>\n",
       "      <td>0.748809</td>\n",
       "      <td>0.620126</td>\n",
       "      <td>0.541474</td>\n",
       "      <td>0.763846</td>\n",
       "      <td>8.364351</td>\n",
       "    </tr>\n",
       "    <tr>\n",
       "      <th>3</th>\n",
       "      <td>4</td>\n",
       "      <td>B</td>\n",
       "      <td>B</td>\n",
       "      <td>D</td>\n",
       "      <td>E</td>\n",
       "      <td>C</td>\n",
       "      <td>K</td>\n",
       "      <td>0.429551</td>\n",
       "      <td>0.620998</td>\n",
       "      <td>0.577942</td>\n",
       "      <td>...</td>\n",
       "      <td>0.668980</td>\n",
       "      <td>0.239061</td>\n",
       "      <td>0.732948</td>\n",
       "      <td>0.679618</td>\n",
       "      <td>0.574844</td>\n",
       "      <td>0.346010</td>\n",
       "      <td>0.714610</td>\n",
       "      <td>0.540150</td>\n",
       "      <td>0.280682</td>\n",
       "      <td>8.049253</td>\n",
       "    </tr>\n",
       "    <tr>\n",
       "      <th>4</th>\n",
       "      <td>6</td>\n",
       "      <td>A</td>\n",
       "      <td>A</td>\n",
       "      <td>D</td>\n",
       "      <td>E</td>\n",
       "      <td>A</td>\n",
       "      <td>N</td>\n",
       "      <td>1.058291</td>\n",
       "      <td>0.367492</td>\n",
       "      <td>-0.052389</td>\n",
       "      <td>...</td>\n",
       "      <td>0.686964</td>\n",
       "      <td>0.420667</td>\n",
       "      <td>0.648182</td>\n",
       "      <td>0.684501</td>\n",
       "      <td>0.956692</td>\n",
       "      <td>1.000773</td>\n",
       "      <td>0.776742</td>\n",
       "      <td>0.625849</td>\n",
       "      <td>0.250823</td>\n",
       "      <td>7.972260</td>\n",
       "    </tr>\n",
       "  </tbody>\n",
       "</table>\n",
       "<p>5 rows × 22 columns</p>\n",
       "</div>"
      ],
      "text/plain": [
       "   id cat0 cat1 cat5 cat7 cat8 cat9     cont0     cont1     cont2  ...  \\\n",
       "0   1    B    B    B    E    C    N  0.201470 -0.014822  0.669699  ...   \n",
       "1   2    B    B    D    F    A    O  0.743068  0.367411  1.021605  ...   \n",
       "2   3    A    A    D    D    A    F  0.742708  0.310383 -0.012673  ...   \n",
       "3   4    B    B    D    E    C    K  0.429551  0.620998  0.577942  ...   \n",
       "4   6    A    A    D    E    A    N  1.058291  0.367492 -0.052389  ...   \n",
       "\n",
       "      cont5     cont6     cont7     cont8     cont9    cont10    cont11  \\\n",
       "0  0.400361  0.160266  0.310921  0.389470  0.267559  0.237281  0.377873   \n",
       "1  0.533087  0.558922  0.516294  0.594928  0.341439  0.906013  0.921701   \n",
       "2  0.650609  0.375348  0.902567  0.555205  0.843531  0.748809  0.620126   \n",
       "3  0.668980  0.239061  0.732948  0.679618  0.574844  0.346010  0.714610   \n",
       "4  0.686964  0.420667  0.648182  0.684501  0.956692  1.000773  0.776742   \n",
       "\n",
       "     cont12    cont13    target  \n",
       "0  0.322401  0.869850  8.113634  \n",
       "1  0.261975  0.465083  8.481233  \n",
       "2  0.541474  0.763846  8.364351  \n",
       "3  0.540150  0.280682  8.049253  \n",
       "4  0.625849  0.250823  7.972260  \n",
       "\n",
       "[5 rows x 22 columns]"
      ]
     },
     "execution_count": 5,
     "metadata": {},
     "output_type": "execute_result"
    }
   ],
   "source": [
    "# Low MI scores\n",
    "for pp in [\"cat2\",\"cat3\",\"cat4\",\"cat6\"]:\n",
    "    train.pop(pp)\n",
    "    test.pop(pp)\n",
    "train.head()"
   ]
  },
  {
   "cell_type": "code",
   "execution_count": 6,
   "id": "25bd765b",
   "metadata": {
    "execution": {
     "iopub.execute_input": "2021-08-31T00:49:43.986059Z",
     "iopub.status.busy": "2021-08-31T00:49:43.985332Z",
     "iopub.status.idle": "2021-08-31T00:49:44.025903Z",
     "shell.execute_reply": "2021-08-31T00:49:44.026340Z",
     "shell.execute_reply.started": "2021-08-20T04:03:23.520473Z"
    },
    "papermill": {
     "duration": 0.061449,
     "end_time": "2021-08-31T00:49:44.026490",
     "exception": false,
     "start_time": "2021-08-31T00:49:43.965041",
     "status": "completed"
    },
    "tags": []
   },
   "outputs": [
    {
     "data": {
      "text/html": [
       "<div>\n",
       "<style scoped>\n",
       "    .dataframe tbody tr th:only-of-type {\n",
       "        vertical-align: middle;\n",
       "    }\n",
       "\n",
       "    .dataframe tbody tr th {\n",
       "        vertical-align: top;\n",
       "    }\n",
       "\n",
       "    .dataframe thead th {\n",
       "        text-align: right;\n",
       "    }\n",
       "</style>\n",
       "<table border=\"1\" class=\"dataframe\">\n",
       "  <thead>\n",
       "    <tr style=\"text-align: right;\">\n",
       "      <th></th>\n",
       "      <th>cat0</th>\n",
       "      <th>cat1</th>\n",
       "      <th>cat5</th>\n",
       "      <th>cat7</th>\n",
       "      <th>cat8</th>\n",
       "      <th>cat9</th>\n",
       "      <th>cont0</th>\n",
       "      <th>cont1</th>\n",
       "      <th>cont2</th>\n",
       "      <th>cont3</th>\n",
       "      <th>cont4</th>\n",
       "      <th>cont5</th>\n",
       "      <th>cont6</th>\n",
       "      <th>cont7</th>\n",
       "      <th>cont8</th>\n",
       "      <th>cont9</th>\n",
       "      <th>cont10</th>\n",
       "      <th>cont11</th>\n",
       "      <th>cont12</th>\n",
       "      <th>cont13</th>\n",
       "    </tr>\n",
       "  </thead>\n",
       "  <tbody>\n",
       "    <tr>\n",
       "      <th>0</th>\n",
       "      <td>B</td>\n",
       "      <td>B</td>\n",
       "      <td>B</td>\n",
       "      <td>E</td>\n",
       "      <td>C</td>\n",
       "      <td>N</td>\n",
       "      <td>0.201470</td>\n",
       "      <td>-0.014822</td>\n",
       "      <td>0.669699</td>\n",
       "      <td>0.136278</td>\n",
       "      <td>0.610706</td>\n",
       "      <td>0.400361</td>\n",
       "      <td>0.160266</td>\n",
       "      <td>0.310921</td>\n",
       "      <td>0.389470</td>\n",
       "      <td>0.267559</td>\n",
       "      <td>0.237281</td>\n",
       "      <td>0.377873</td>\n",
       "      <td>0.322401</td>\n",
       "      <td>0.869850</td>\n",
       "    </tr>\n",
       "    <tr>\n",
       "      <th>1</th>\n",
       "      <td>B</td>\n",
       "      <td>B</td>\n",
       "      <td>D</td>\n",
       "      <td>F</td>\n",
       "      <td>A</td>\n",
       "      <td>O</td>\n",
       "      <td>0.743068</td>\n",
       "      <td>0.367411</td>\n",
       "      <td>1.021605</td>\n",
       "      <td>0.365798</td>\n",
       "      <td>0.276853</td>\n",
       "      <td>0.533087</td>\n",
       "      <td>0.558922</td>\n",
       "      <td>0.516294</td>\n",
       "      <td>0.594928</td>\n",
       "      <td>0.341439</td>\n",
       "      <td>0.906013</td>\n",
       "      <td>0.921701</td>\n",
       "      <td>0.261975</td>\n",
       "      <td>0.465083</td>\n",
       "    </tr>\n",
       "    <tr>\n",
       "      <th>2</th>\n",
       "      <td>A</td>\n",
       "      <td>A</td>\n",
       "      <td>D</td>\n",
       "      <td>D</td>\n",
       "      <td>A</td>\n",
       "      <td>F</td>\n",
       "      <td>0.742708</td>\n",
       "      <td>0.310383</td>\n",
       "      <td>-0.012673</td>\n",
       "      <td>0.576957</td>\n",
       "      <td>0.285074</td>\n",
       "      <td>0.650609</td>\n",
       "      <td>0.375348</td>\n",
       "      <td>0.902567</td>\n",
       "      <td>0.555205</td>\n",
       "      <td>0.843531</td>\n",
       "      <td>0.748809</td>\n",
       "      <td>0.620126</td>\n",
       "      <td>0.541474</td>\n",
       "      <td>0.763846</td>\n",
       "    </tr>\n",
       "    <tr>\n",
       "      <th>3</th>\n",
       "      <td>B</td>\n",
       "      <td>B</td>\n",
       "      <td>D</td>\n",
       "      <td>E</td>\n",
       "      <td>C</td>\n",
       "      <td>K</td>\n",
       "      <td>0.429551</td>\n",
       "      <td>0.620998</td>\n",
       "      <td>0.577942</td>\n",
       "      <td>0.280610</td>\n",
       "      <td>0.284667</td>\n",
       "      <td>0.668980</td>\n",
       "      <td>0.239061</td>\n",
       "      <td>0.732948</td>\n",
       "      <td>0.679618</td>\n",
       "      <td>0.574844</td>\n",
       "      <td>0.346010</td>\n",
       "      <td>0.714610</td>\n",
       "      <td>0.540150</td>\n",
       "      <td>0.280682</td>\n",
       "    </tr>\n",
       "    <tr>\n",
       "      <th>4</th>\n",
       "      <td>A</td>\n",
       "      <td>A</td>\n",
       "      <td>D</td>\n",
       "      <td>E</td>\n",
       "      <td>A</td>\n",
       "      <td>N</td>\n",
       "      <td>1.058291</td>\n",
       "      <td>0.367492</td>\n",
       "      <td>-0.052389</td>\n",
       "      <td>0.232407</td>\n",
       "      <td>0.287595</td>\n",
       "      <td>0.686964</td>\n",
       "      <td>0.420667</td>\n",
       "      <td>0.648182</td>\n",
       "      <td>0.684501</td>\n",
       "      <td>0.956692</td>\n",
       "      <td>1.000773</td>\n",
       "      <td>0.776742</td>\n",
       "      <td>0.625849</td>\n",
       "      <td>0.250823</td>\n",
       "    </tr>\n",
       "  </tbody>\n",
       "</table>\n",
       "</div>"
      ],
      "text/plain": [
       "  cat0 cat1 cat5 cat7 cat8 cat9     cont0     cont1     cont2     cont3  \\\n",
       "0    B    B    B    E    C    N  0.201470 -0.014822  0.669699  0.136278   \n",
       "1    B    B    D    F    A    O  0.743068  0.367411  1.021605  0.365798   \n",
       "2    A    A    D    D    A    F  0.742708  0.310383 -0.012673  0.576957   \n",
       "3    B    B    D    E    C    K  0.429551  0.620998  0.577942  0.280610   \n",
       "4    A    A    D    E    A    N  1.058291  0.367492 -0.052389  0.232407   \n",
       "\n",
       "      cont4     cont5     cont6     cont7     cont8     cont9    cont10  \\\n",
       "0  0.610706  0.400361  0.160266  0.310921  0.389470  0.267559  0.237281   \n",
       "1  0.276853  0.533087  0.558922  0.516294  0.594928  0.341439  0.906013   \n",
       "2  0.285074  0.650609  0.375348  0.902567  0.555205  0.843531  0.748809   \n",
       "3  0.284667  0.668980  0.239061  0.732948  0.679618  0.574844  0.346010   \n",
       "4  0.287595  0.686964  0.420667  0.648182  0.684501  0.956692  1.000773   \n",
       "\n",
       "     cont11    cont12    cont13  \n",
       "0  0.377873  0.322401  0.869850  \n",
       "1  0.921701  0.261975  0.465083  \n",
       "2  0.620126  0.541474  0.763846  \n",
       "3  0.714610  0.540150  0.280682  \n",
       "4  0.776742  0.625849  0.250823  "
      ]
     },
     "execution_count": 6,
     "metadata": {},
     "output_type": "execute_result"
    }
   ],
   "source": [
    "# Separate target from features\n",
    "y = train['target']\n",
    "features = train.drop(['id','target'], axis=1)\n",
    "\n",
    "# Preview features\n",
    "features.head()"
   ]
  },
  {
   "cell_type": "markdown",
   "id": "c90d3608",
   "metadata": {
    "papermill": {
     "duration": 0.015768,
     "end_time": "2021-08-31T00:49:44.058115",
     "exception": false,
     "start_time": "2021-08-31T00:49:44.042347",
     "status": "completed"
    },
    "tags": []
   },
   "source": [
    "# Preprocessing"
   ]
  },
  {
   "cell_type": "code",
   "execution_count": 7,
   "id": "22fc8bd1",
   "metadata": {
    "execution": {
     "iopub.execute_input": "2021-08-31T00:49:44.094281Z",
     "iopub.status.busy": "2021-08-31T00:49:44.093634Z",
     "iopub.status.idle": "2021-08-31T00:49:44.098442Z",
     "shell.execute_reply": "2021-08-31T00:49:44.098918Z",
     "shell.execute_reply.started": "2021-08-20T04:03:23.6336Z"
    },
    "papermill": {
     "duration": 0.025139,
     "end_time": "2021-08-31T00:49:44.099088",
     "exception": false,
     "start_time": "2021-08-31T00:49:44.073949",
     "status": "completed"
    },
    "tags": []
   },
   "outputs": [
    {
     "data": {
      "text/plain": [
       "\"\\n# List of categorical columns\\nobject_cols = [col for col in features.columns if 'cat' in col]\\n\\n# ordinal-encode categorical columns\\nX = features.copy()\\nX_test = test.drop(['id'], axis=1).copy()\\nordinal_encoder = OrdinalEncoder()\\nX[object_cols] = ordinal_encoder.fit_transform(features[object_cols])\\nX_test[object_cols] = ordinal_encoder.transform(test[object_cols])\\n\\n# Preview the ordinal-encoded features\\nX.head()\\n\""
      ]
     },
     "execution_count": 7,
     "metadata": {},
     "output_type": "execute_result"
    }
   ],
   "source": [
    "'''\n",
    "# List of categorical columns\n",
    "object_cols = [col for col in features.columns if 'cat' in col]\n",
    "\n",
    "# ordinal-encode categorical columns\n",
    "X = features.copy()\n",
    "X_test = test.drop(['id'], axis=1).copy()\n",
    "ordinal_encoder = OrdinalEncoder()\n",
    "X[object_cols] = ordinal_encoder.fit_transform(features[object_cols])\n",
    "X_test[object_cols] = ordinal_encoder.transform(test[object_cols])\n",
    "\n",
    "# Preview the ordinal-encoded features\n",
    "X.head()\n",
    "'''"
   ]
  },
  {
   "cell_type": "code",
   "execution_count": 8,
   "id": "ccd566e7",
   "metadata": {
    "execution": {
     "iopub.execute_input": "2021-08-31T00:49:44.138707Z",
     "iopub.status.busy": "2021-08-31T00:49:44.137524Z",
     "iopub.status.idle": "2021-08-31T00:49:45.940831Z",
     "shell.execute_reply": "2021-08-31T00:49:45.940353Z"
    },
    "papermill": {
     "duration": 1.826565,
     "end_time": "2021-08-31T00:49:45.940979",
     "exception": false,
     "start_time": "2021-08-31T00:49:44.114414",
     "status": "completed"
    },
    "tags": []
   },
   "outputs": [
    {
     "data": {
      "text/html": [
       "<div>\n",
       "<style scoped>\n",
       "    .dataframe tbody tr th:only-of-type {\n",
       "        vertical-align: middle;\n",
       "    }\n",
       "\n",
       "    .dataframe tbody tr th {\n",
       "        vertical-align: top;\n",
       "    }\n",
       "\n",
       "    .dataframe thead th {\n",
       "        text-align: right;\n",
       "    }\n",
       "</style>\n",
       "<table border=\"1\" class=\"dataframe\">\n",
       "  <thead>\n",
       "    <tr style=\"text-align: right;\">\n",
       "      <th></th>\n",
       "      <th>cont0</th>\n",
       "      <th>cont1</th>\n",
       "      <th>cont2</th>\n",
       "      <th>cont3</th>\n",
       "      <th>cont4</th>\n",
       "      <th>cont5</th>\n",
       "      <th>cont6</th>\n",
       "      <th>cont7</th>\n",
       "      <th>cont8</th>\n",
       "      <th>cont9</th>\n",
       "      <th>...</th>\n",
       "      <th>ohe_28</th>\n",
       "      <th>ohe_29</th>\n",
       "      <th>ohe_30</th>\n",
       "      <th>ohe_31</th>\n",
       "      <th>ohe_32</th>\n",
       "      <th>ohe_33</th>\n",
       "      <th>ohe_34</th>\n",
       "      <th>ohe_35</th>\n",
       "      <th>ohe_36</th>\n",
       "      <th>ohe_37</th>\n",
       "    </tr>\n",
       "  </thead>\n",
       "  <tbody>\n",
       "    <tr>\n",
       "      <th>0</th>\n",
       "      <td>0.201470</td>\n",
       "      <td>-0.014822</td>\n",
       "      <td>0.669699</td>\n",
       "      <td>0.136278</td>\n",
       "      <td>0.610706</td>\n",
       "      <td>0.400361</td>\n",
       "      <td>0.160266</td>\n",
       "      <td>0.310921</td>\n",
       "      <td>0.389470</td>\n",
       "      <td>0.267559</td>\n",
       "      <td>...</td>\n",
       "      <td>0.0</td>\n",
       "      <td>0.0</td>\n",
       "      <td>0.0</td>\n",
       "      <td>0.0</td>\n",
       "      <td>0.0</td>\n",
       "      <td>0.0</td>\n",
       "      <td>0.0</td>\n",
       "      <td>0.0</td>\n",
       "      <td>1.0</td>\n",
       "      <td>0.0</td>\n",
       "    </tr>\n",
       "    <tr>\n",
       "      <th>1</th>\n",
       "      <td>0.743068</td>\n",
       "      <td>0.367411</td>\n",
       "      <td>1.021605</td>\n",
       "      <td>0.365798</td>\n",
       "      <td>0.276853</td>\n",
       "      <td>0.533087</td>\n",
       "      <td>0.558922</td>\n",
       "      <td>0.516294</td>\n",
       "      <td>0.594928</td>\n",
       "      <td>0.341439</td>\n",
       "      <td>...</td>\n",
       "      <td>0.0</td>\n",
       "      <td>0.0</td>\n",
       "      <td>0.0</td>\n",
       "      <td>0.0</td>\n",
       "      <td>0.0</td>\n",
       "      <td>0.0</td>\n",
       "      <td>0.0</td>\n",
       "      <td>0.0</td>\n",
       "      <td>0.0</td>\n",
       "      <td>1.0</td>\n",
       "    </tr>\n",
       "    <tr>\n",
       "      <th>2</th>\n",
       "      <td>0.742708</td>\n",
       "      <td>0.310383</td>\n",
       "      <td>-0.012673</td>\n",
       "      <td>0.576957</td>\n",
       "      <td>0.285074</td>\n",
       "      <td>0.650609</td>\n",
       "      <td>0.375348</td>\n",
       "      <td>0.902567</td>\n",
       "      <td>0.555205</td>\n",
       "      <td>0.843531</td>\n",
       "      <td>...</td>\n",
       "      <td>1.0</td>\n",
       "      <td>0.0</td>\n",
       "      <td>0.0</td>\n",
       "      <td>0.0</td>\n",
       "      <td>0.0</td>\n",
       "      <td>0.0</td>\n",
       "      <td>0.0</td>\n",
       "      <td>0.0</td>\n",
       "      <td>0.0</td>\n",
       "      <td>0.0</td>\n",
       "    </tr>\n",
       "    <tr>\n",
       "      <th>3</th>\n",
       "      <td>0.429551</td>\n",
       "      <td>0.620998</td>\n",
       "      <td>0.577942</td>\n",
       "      <td>0.280610</td>\n",
       "      <td>0.284667</td>\n",
       "      <td>0.668980</td>\n",
       "      <td>0.239061</td>\n",
       "      <td>0.732948</td>\n",
       "      <td>0.679618</td>\n",
       "      <td>0.574844</td>\n",
       "      <td>...</td>\n",
       "      <td>0.0</td>\n",
       "      <td>0.0</td>\n",
       "      <td>0.0</td>\n",
       "      <td>0.0</td>\n",
       "      <td>0.0</td>\n",
       "      <td>1.0</td>\n",
       "      <td>0.0</td>\n",
       "      <td>0.0</td>\n",
       "      <td>0.0</td>\n",
       "      <td>0.0</td>\n",
       "    </tr>\n",
       "    <tr>\n",
       "      <th>4</th>\n",
       "      <td>1.058291</td>\n",
       "      <td>0.367492</td>\n",
       "      <td>-0.052389</td>\n",
       "      <td>0.232407</td>\n",
       "      <td>0.287595</td>\n",
       "      <td>0.686964</td>\n",
       "      <td>0.420667</td>\n",
       "      <td>0.648182</td>\n",
       "      <td>0.684501</td>\n",
       "      <td>0.956692</td>\n",
       "      <td>...</td>\n",
       "      <td>0.0</td>\n",
       "      <td>0.0</td>\n",
       "      <td>0.0</td>\n",
       "      <td>0.0</td>\n",
       "      <td>0.0</td>\n",
       "      <td>0.0</td>\n",
       "      <td>0.0</td>\n",
       "      <td>0.0</td>\n",
       "      <td>1.0</td>\n",
       "      <td>0.0</td>\n",
       "    </tr>\n",
       "  </tbody>\n",
       "</table>\n",
       "<p>5 rows × 52 columns</p>\n",
       "</div>"
      ],
      "text/plain": [
       "      cont0     cont1     cont2     cont3     cont4     cont5     cont6  \\\n",
       "0  0.201470 -0.014822  0.669699  0.136278  0.610706  0.400361  0.160266   \n",
       "1  0.743068  0.367411  1.021605  0.365798  0.276853  0.533087  0.558922   \n",
       "2  0.742708  0.310383 -0.012673  0.576957  0.285074  0.650609  0.375348   \n",
       "3  0.429551  0.620998  0.577942  0.280610  0.284667  0.668980  0.239061   \n",
       "4  1.058291  0.367492 -0.052389  0.232407  0.287595  0.686964  0.420667   \n",
       "\n",
       "      cont7     cont8     cont9  ...  ohe_28  ohe_29  ohe_30  ohe_31  ohe_32  \\\n",
       "0  0.310921  0.389470  0.267559  ...     0.0     0.0     0.0     0.0     0.0   \n",
       "1  0.516294  0.594928  0.341439  ...     0.0     0.0     0.0     0.0     0.0   \n",
       "2  0.902567  0.555205  0.843531  ...     1.0     0.0     0.0     0.0     0.0   \n",
       "3  0.732948  0.679618  0.574844  ...     0.0     0.0     0.0     0.0     0.0   \n",
       "4  0.648182  0.684501  0.956692  ...     0.0     0.0     0.0     0.0     0.0   \n",
       "\n",
       "   ohe_33  ohe_34  ohe_35  ohe_36  ohe_37  \n",
       "0     0.0     0.0     0.0     1.0     0.0  \n",
       "1     0.0     0.0     0.0     0.0     1.0  \n",
       "2     0.0     0.0     0.0     0.0     0.0  \n",
       "3     1.0     0.0     0.0     0.0     0.0  \n",
       "4     0.0     0.0     0.0     1.0     0.0  \n",
       "\n",
       "[5 rows x 52 columns]"
      ]
     },
     "execution_count": 8,
     "metadata": {},
     "output_type": "execute_result"
    }
   ],
   "source": [
    "\n",
    "# List of categorical columns\n",
    "object_cols = [col for col in features.columns if 'cat' in col]\n",
    "\n",
    "# one-hot-encode categorical columns\n",
    "X = features.copy()\n",
    "X_test = test.drop(['id'], axis=1).copy()\n",
    "\n",
    "oh_encoder = OneHotEncoder(sparse=False, handle_unknown=\"ignore\")\n",
    "X_ohe = oh_encoder.fit_transform(features[object_cols])\n",
    "X_test_ohe = oh_encoder.transform(test[object_cols])\n",
    "\n",
    "X_ohe = pd.DataFrame(X_ohe, columns=[f\"ohe_{i}\" for i in range(X_ohe.shape[1])])\n",
    "X_test_ohe = pd.DataFrame(X_test_ohe, columns=[f\"ohe_{i}\" for i in range(X_test_ohe.shape[1])])\n",
    "\n",
    "X = pd.concat([X, X_ohe], axis=1)\n",
    "X_test = pd.concat([X_test, X_test_ohe], axis=1)\n",
    "X = X.drop(object_cols, axis=1)\n",
    "X_test = X_test.drop(object_cols, axis=1)\n",
    "    \n",
    "# Preview the one-hot-encoded features\n",
    "X.head()\n"
   ]
  },
  {
   "cell_type": "code",
   "execution_count": 9,
   "id": "34b6c707",
   "metadata": {
    "execution": {
     "iopub.execute_input": "2021-08-31T00:49:45.991605Z",
     "iopub.status.busy": "2021-08-31T00:49:45.990698Z",
     "iopub.status.idle": "2021-08-31T00:49:46.130020Z",
     "shell.execute_reply": "2021-08-31T00:49:46.129549Z",
     "shell.execute_reply.started": "2021-08-20T04:03:27.921586Z"
    },
    "papermill": {
     "duration": 0.17314,
     "end_time": "2021-08-31T00:49:46.130155",
     "exception": false,
     "start_time": "2021-08-31T00:49:45.957015",
     "status": "completed"
    },
    "tags": []
   },
   "outputs": [],
   "source": [
    "scale_features = [col for col in features.columns if 'cont' in col]\n",
    "\n",
    "ss = StandardScaler()\n",
    "X[scale_features] = ss.fit_transform(features[scale_features])\n",
    "X_test[scale_features] = ss.transform(test[scale_features])"
   ]
  },
  {
   "cell_type": "code",
   "execution_count": 10,
   "id": "a071f3a5",
   "metadata": {
    "execution": {
     "iopub.execute_input": "2021-08-31T00:49:46.169554Z",
     "iopub.status.busy": "2021-08-31T00:49:46.168161Z",
     "iopub.status.idle": "2021-08-31T00:49:46.170441Z",
     "shell.execute_reply": "2021-08-31T00:49:46.170843Z",
     "shell.execute_reply.started": "2021-08-20T04:03:29.923859Z"
    },
    "papermill": {
     "duration": 0.024861,
     "end_time": "2021-08-31T00:49:46.170966",
     "exception": false,
     "start_time": "2021-08-31T00:49:46.146105",
     "status": "completed"
    },
    "tags": []
   },
   "outputs": [],
   "source": [
    "# Swap noise\n",
    "\n",
    "# Random\n",
    "def apply_noise_rn(df, p=.75):\n",
    "    should_not_swap = np.random.binomial(1, p, df.shape)\n",
    "    corrupted_df = df.where(should_not_swap == 1, np.random.permutation(df))\n",
    "    return corrupted_df\n",
    "\n",
    "# Row-wise\n",
    "def apply_noise_row(df, p=.75):\n",
    "    should_not_swap = np.zeros(df.shape)\n",
    "    for i in range(df.shape[0]):\n",
    "        for j in np.random.choice(df.shape[1],int(p*df.shape[1]),replace=False):\n",
    "            should_not_swap[i,j]=1 \n",
    "    corrupted_df = df.where(should_not_swap == 1, np.random.permutation(df))\n",
    "    return corrupted_df"
   ]
  },
  {
   "cell_type": "markdown",
   "id": "eefd8d46",
   "metadata": {
    "papermill": {
     "duration": 0.016837,
     "end_time": "2021-08-31T00:49:46.203932",
     "exception": false,
     "start_time": "2021-08-31T00:49:46.187095",
     "status": "completed"
    },
    "tags": []
   },
   "source": [
    "# Pseudo Label"
   ]
  },
  {
   "cell_type": "code",
   "execution_count": 11,
   "id": "2709fe28",
   "metadata": {
    "execution": {
     "iopub.execute_input": "2021-08-31T00:49:46.240997Z",
     "iopub.status.busy": "2021-08-31T00:49:46.240404Z",
     "iopub.status.idle": "2021-08-31T00:49:46.692536Z",
     "shell.execute_reply": "2021-08-31T00:49:46.692954Z",
     "shell.execute_reply.started": "2021-08-20T04:03:29.934585Z"
    },
    "papermill": {
     "duration": 0.472943,
     "end_time": "2021-08-31T00:49:46.693127",
     "exception": false,
     "start_time": "2021-08-31T00:49:46.220184",
     "status": "completed"
    },
    "tags": []
   },
   "outputs": [],
   "source": [
    "pseudo = pd.read_csv(\"../input/30dml-pseudo2/xgb_submission_k.txt\")[target]\n",
    "train_pseudo = pd.concat([X, y], axis=1)\n",
    "test_pseudo = pd.concat([X_test, pseudo], axis=1)\n",
    "all_pseudo = pd.concat([train_pseudo, test_pseudo]).reset_index(drop=True)"
   ]
  },
  {
   "cell_type": "markdown",
   "id": "93223766",
   "metadata": {
    "papermill": {
     "duration": 0.015567,
     "end_time": "2021-08-31T00:49:46.724959",
     "exception": false,
     "start_time": "2021-08-31T00:49:46.709392",
     "status": "completed"
    },
    "tags": []
   },
   "source": [
    "# Optuna"
   ]
  },
  {
   "cell_type": "code",
   "execution_count": 12,
   "id": "18f9aa33",
   "metadata": {
    "execution": {
     "iopub.execute_input": "2021-08-31T00:49:46.760873Z",
     "iopub.status.busy": "2021-08-31T00:49:46.760322Z",
     "iopub.status.idle": "2021-08-31T00:49:55.164334Z",
     "shell.execute_reply": "2021-08-31T00:49:55.164770Z",
     "shell.execute_reply.started": "2021-08-20T04:03:30.323708Z"
    },
    "papermill": {
     "duration": 8.424334,
     "end_time": "2021-08-31T00:49:55.164936",
     "exception": false,
     "start_time": "2021-08-31T00:49:46.740602",
     "status": "completed"
    },
    "tags": []
   },
   "outputs": [
    {
     "name": "stdout",
     "output_type": "stream",
     "text": [
      "\u001b[33mWARNING: Running pip as root will break packages and permissions. You should install packages reliably by using venv: https://pip.pypa.io/warnings/venv\u001b[0m\r\n"
     ]
    }
   ],
   "source": [
    "# Optuna for parameter search\n",
    "!pip install -q optuna\n",
    "\n",
    "import optuna\n",
    "import pickle"
   ]
  },
  {
   "cell_type": "code",
   "execution_count": 13,
   "id": "b88a7520",
   "metadata": {
    "execution": {
     "iopub.execute_input": "2021-08-31T00:49:55.236568Z",
     "iopub.status.busy": "2021-08-31T00:49:55.235664Z",
     "iopub.status.idle": "2021-08-31T00:49:55.239702Z",
     "shell.execute_reply": "2021-08-31T00:49:55.240269Z",
     "shell.execute_reply.started": "2021-08-20T04:03:40.160094Z"
    },
    "papermill": {
     "duration": 0.049059,
     "end_time": "2021-08-31T00:49:55.240460",
     "exception": false,
     "start_time": "2021-08-31T00:49:55.191401",
     "status": "completed"
    },
    "tags": []
   },
   "outputs": [],
   "source": [
    "# for the fixed learning rate, use the opt n iterations and tune the tree hyperparameters\n",
    "def objective(trial, X=all_pseudo.iloc[:,:-1], y=all_pseudo[target]):\n",
    "  \"\"\"\n",
    "  \"\"\"\n",
    "  param_space = {\n",
    "               'objective': 'reg:squarederror',\n",
    "               'learning_rate':trial.suggest_uniform('learning_rate', 4.58e-2, 5.58e-2),\n",
    "               'n_estimators':N_ESTIMATORS,\n",
    "               'subsample': trial.suggest_uniform('subsample', 0.963, 1),\n",
    "              'colsample_bytree':trial.suggest_uniform('colsample_bytree', 0.0585, 0.0985),\n",
    "              'max_depth':trial.suggest_int('max_depth', 5, 7),\n",
    "              'lambda':trial.suggest_uniform('lambda', 87.16, 92.16),\n",
    "              'alpha':trial.suggest_uniform('alpha', 15.7, 18.7),\n",
    "           'min_child_weight':trial.suggest_uniform('min_child_weight', 218, 245),\n",
    "           'importance_type': 'total_gain',\n",
    "              'booster': 'gbtree',\n",
    "            'tree_method': 'gpu_hist'\n",
    "                }\n",
    "            \n",
    "  seed_list=[SEED, SEED+1]\n",
    "  #kf = KFold(n_splits=N_SPLITS, shuffle=True, random_state=CVSEED)\n",
    "  xgb_oof = np.zeros(train.shape[0])\n",
    "  #lgb_pred = np.zeros(test.shape[0])\n",
    "  X_tr, X_va, y_tr, y_va = train_test_split(X,y,test_size=.2,random_state=CVSEED)\n",
    "  trn_idx = X_tr.index\n",
    "  val_idx = X_va.index\n",
    "  \n",
    "  #for (trn_idx, val_idx) in enumerate(kf.split(X, y)):\n",
    "  #print(f\"===== fold {fold} =====\")\n",
    "  oof_idx = np.array([idx for idx in val_idx if idx < train.shape[0]])\n",
    "  preds_idx = np.array([idx for idx in val_idx if idx >= train.shape[0]])\n",
    "\n",
    "  X_train, y_train = all_pseudo.iloc[trn_idx, :-1], all_pseudo[target].iloc[trn_idx]\n",
    "  #X_train = apply_noise_row(X_train)\n",
    "\n",
    "  X_valid, y_valid = all_pseudo.iloc[oof_idx, :-1], all_pseudo[target].iloc[oof_idx]\n",
    "  #X_test = all_pseudo[scale_features].iloc[preds_idx]\n",
    "  \n",
    "  #start = time.time()\n",
    "  for inseed in seed_list:\n",
    "    param_space['random_state'] = inseed\n",
    "\n",
    "    model = xgb.XGBRegressor(**param_space)\n",
    "    model.fit(\n",
    "        X_train, \n",
    "        y_train,\n",
    "        eval_set=[(X_valid, y_valid)],\n",
    "        eval_metric='rmse',\n",
    "        early_stopping_rounds=EARLY_STOPPING_ROUNDS,\n",
    "        verbose=VERBOSE,\n",
    "        \n",
    "    )\n",
    "\n",
    "\n",
    "    xgb_oof[oof_idx] += model.predict(X_valid) / len(seed_list)\n",
    "    #lgb_pred[preds_idx-train.shape[0]] += model.predict(X_test) / len(seed_list)\n",
    "\n",
    "  #elapsed = time.time() - start\n",
    "  rmse = mean_squared_error(y_valid, xgb_oof[oof_idx], squared=False)\n",
    "  #print(f\"fold {fold} - lgb rmse: {rmse:.6f}, elapsed time: {elapsed:.2f}sec\\n\")            \n",
    "  \n",
    "  #print(f\"oof lgb_rmse = {mean_squared_error(train[target], lgb_oof, squared=False)}\")\n",
    "\n",
    "  \n",
    "  return rmse"
   ]
  },
  {
   "cell_type": "code",
   "execution_count": 14,
   "id": "6a82caa9",
   "metadata": {
    "execution": {
     "iopub.execute_input": "2021-08-31T00:49:55.306007Z",
     "iopub.status.busy": "2021-08-31T00:49:55.305261Z",
     "iopub.status.idle": "2021-08-31T01:15:51.925294Z",
     "shell.execute_reply": "2021-08-31T01:15:51.924757Z",
     "shell.execute_reply.started": "2021-08-20T04:03:40.176265Z"
    },
    "papermill": {
     "duration": 1556.659379,
     "end_time": "2021-08-31T01:15:51.925494",
     "exception": false,
     "start_time": "2021-08-31T00:49:55.266115",
     "status": "completed"
    },
    "tags": []
   },
   "outputs": [
    {
     "name": "stderr",
     "output_type": "stream",
     "text": [
      "\u001b[32m[I 2021-08-31 00:49:55,295]\u001b[0m A new study created in memory with name: no-name-457bcd4d-c67f-48ee-9395-454f2c25b396\u001b[0m\n"
     ]
    },
    {
     "name": "stdout",
     "output_type": "stream",
     "text": [
      "[0]\tvalidation_0-rmse:7.39342\n",
      "[1000]\tvalidation_0-rmse:0.71285\n",
      "[2000]\tvalidation_0-rmse:0.71057\n",
      "[3000]\tvalidation_0-rmse:0.71005\n",
      "[4000]\tvalidation_0-rmse:0.70985\n",
      "[5000]\tvalidation_0-rmse:0.70978\n",
      "[5371]\tvalidation_0-rmse:0.70977\n",
      "[0]\tvalidation_0-rmse:7.39343\n",
      "[1000]\tvalidation_0-rmse:0.71305\n",
      "[2000]\tvalidation_0-rmse:0.71056\n",
      "[3000]\tvalidation_0-rmse:0.71008\n",
      "[4000]\tvalidation_0-rmse:0.70993\n",
      "[5000]\tvalidation_0-rmse:0.70985\n",
      "[5021]\tvalidation_0-rmse:0.70985\n"
     ]
    },
    {
     "name": "stderr",
     "output_type": "stream",
     "text": [
      "\u001b[32m[I 2021-08-31 00:50:58,141]\u001b[0m Trial 0 finished with value: 0.7097679114099649 and parameters: {'learning_rate': 0.04966577780453602, 'subsample': 0.9648127717874132, 'colsample_bytree': 0.07168710763104424, 'max_depth': 5, 'lambda': 91.22081435431974, 'alpha': 17.754656836593437, 'min_child_weight': 221.69403254108673}. Best is trial 0 with value: 0.7097679114099649.\u001b[0m\n"
     ]
    },
    {
     "name": "stdout",
     "output_type": "stream",
     "text": [
      "[0]\tvalidation_0-rmse:7.37282\n",
      "[1000]\tvalidation_0-rmse:0.71103\n",
      "[2000]\tvalidation_0-rmse:0.71001\n",
      "[3000]\tvalidation_0-rmse:0.70987\n",
      "[3199]\tvalidation_0-rmse:0.70988\n",
      "[0]\tvalidation_0-rmse:7.37282\n",
      "[1000]\tvalidation_0-rmse:0.71109\n",
      "[2000]\tvalidation_0-rmse:0.71005\n",
      "[2849]\tvalidation_0-rmse:0.70992\n"
     ]
    },
    {
     "name": "stderr",
     "output_type": "stream",
     "text": [
      "\u001b[32m[I 2021-08-31 00:51:44,940]\u001b[0m Trial 1 finished with value: 0.7098273441969993 and parameters: {'learning_rate': 0.052340477046363285, 'subsample': 0.9807212347305155, 'colsample_bytree': 0.08280607157550475, 'max_depth': 6, 'lambda': 87.16124382720635, 'alpha': 16.28372167773897, 'min_child_weight': 226.99794288010568}. Best is trial 0 with value: 0.7097679114099649.\u001b[0m\n"
     ]
    },
    {
     "name": "stdout",
     "output_type": "stream",
     "text": [
      "[0]\tvalidation_0-rmse:7.39320\n",
      "[1000]\tvalidation_0-rmse:0.71187\n",
      "[2000]\tvalidation_0-rmse:0.71025\n",
      "[3000]\tvalidation_0-rmse:0.70995\n",
      "[3446]\tvalidation_0-rmse:0.70990\n",
      "[0]\tvalidation_0-rmse:7.39319\n",
      "[1000]\tvalidation_0-rmse:0.71206\n",
      "[2000]\tvalidation_0-rmse:0.71025\n",
      "[3000]\tvalidation_0-rmse:0.70996\n",
      "[3426]\tvalidation_0-rmse:0.70996\n"
     ]
    },
    {
     "name": "stderr",
     "output_type": "stream",
     "text": [
      "\u001b[32m[I 2021-08-31 00:52:33,229]\u001b[0m Trial 2 finished with value: 0.7098765907612066 and parameters: {'learning_rate': 0.04969526993139129, 'subsample': 0.9940352342171442, 'colsample_bytree': 0.06315850580881058, 'max_depth': 6, 'lambda': 90.47215827070369, 'alpha': 17.02889683960626, 'min_child_weight': 226.04680975972482}. Best is trial 0 with value: 0.7097679114099649.\u001b[0m\n"
     ]
    },
    {
     "name": "stdout",
     "output_type": "stream",
     "text": [
      "[0]\tvalidation_0-rmse:7.39214\n",
      "[1000]\tvalidation_0-rmse:0.71115\n",
      "[2000]\tvalidation_0-rmse:0.71008\n",
      "[3000]\tvalidation_0-rmse:0.70991\n",
      "[3122]\tvalidation_0-rmse:0.70990\n",
      "[0]\tvalidation_0-rmse:7.39213\n",
      "[1000]\tvalidation_0-rmse:0.71121\n",
      "[2000]\tvalidation_0-rmse:0.71004\n",
      "[3000]\tvalidation_0-rmse:0.70988\n",
      "[3300]\tvalidation_0-rmse:0.70988\n"
     ]
    },
    {
     "name": "stderr",
     "output_type": "stream",
     "text": [
      "\u001b[32m[I 2021-08-31 00:53:21,675]\u001b[0m Trial 3 finished with value: 0.7098201663615139 and parameters: {'learning_rate': 0.04983252589051591, 'subsample': 0.980191472557908, 'colsample_bytree': 0.0822955891254008, 'max_depth': 6, 'lambda': 87.9536730269433, 'alpha': 17.967582898420453, 'min_child_weight': 228.50277866009299}. Best is trial 0 with value: 0.7097679114099649.\u001b[0m\n"
     ]
    },
    {
     "name": "stdout",
     "output_type": "stream",
     "text": [
      "[0]\tvalidation_0-rmse:7.39499\n",
      "[1000]\tvalidation_0-rmse:0.71135\n",
      "[2000]\tvalidation_0-rmse:0.71010\n",
      "[3000]\tvalidation_0-rmse:0.70996\n",
      "[3468]\tvalidation_0-rmse:0.70993\n",
      "[0]\tvalidation_0-rmse:7.39500\n",
      "[1000]\tvalidation_0-rmse:0.71146\n",
      "[2000]\tvalidation_0-rmse:0.71005\n",
      "[3000]\tvalidation_0-rmse:0.70991\n",
      "[3079]\tvalidation_0-rmse:0.70993\n"
     ]
    },
    {
     "name": "stderr",
     "output_type": "stream",
     "text": [
      "\u001b[32m[I 2021-08-31 00:54:16,024]\u001b[0m Trial 4 finished with value: 0.7098523374068866 and parameters: {'learning_rate': 0.04946176557207805, 'subsample': 0.9658395578738228, 'colsample_bytree': 0.07666481011821387, 'max_depth': 7, 'lambda': 91.0542337107985, 'alpha': 17.166945322816787, 'min_child_weight': 239.2819578395949}. Best is trial 0 with value: 0.7097679114099649.\u001b[0m\n"
     ]
    },
    {
     "name": "stdout",
     "output_type": "stream",
     "text": [
      "[0]\tvalidation_0-rmse:7.40110\n",
      "[1000]\tvalidation_0-rmse:0.71294\n",
      "[2000]\tvalidation_0-rmse:0.71064\n",
      "[3000]\tvalidation_0-rmse:0.71011\n",
      "[4000]\tvalidation_0-rmse:0.70992\n",
      "[4643]\tvalidation_0-rmse:0.70989\n",
      "[0]\tvalidation_0-rmse:7.40110\n",
      "[1000]\tvalidation_0-rmse:0.71322\n",
      "[2000]\tvalidation_0-rmse:0.71066\n",
      "[3000]\tvalidation_0-rmse:0.71011\n",
      "[4000]\tvalidation_0-rmse:0.70994\n",
      "[5000]\tvalidation_0-rmse:0.70986\n",
      "[5297]\tvalidation_0-rmse:0.70985\n"
     ]
    },
    {
     "name": "stderr",
     "output_type": "stream",
     "text": [
      "\u001b[32m[I 2021-08-31 00:55:14,879]\u001b[0m Trial 5 finished with value: 0.7098258197095366 and parameters: {'learning_rate': 0.04866897956058551, 'subsample': 0.9887540891332539, 'colsample_bytree': 0.06286045324963879, 'max_depth': 5, 'lambda': 91.52089205419395, 'alpha': 18.465975341104823, 'min_child_weight': 241.33220971380567}. Best is trial 0 with value: 0.7097679114099649.\u001b[0m\n"
     ]
    },
    {
     "name": "stdout",
     "output_type": "stream",
     "text": [
      "[0]\tvalidation_0-rmse:7.42209\n",
      "[1000]\tvalidation_0-rmse:0.71089\n",
      "[2000]\tvalidation_0-rmse:0.70996\n",
      "[2825]\tvalidation_0-rmse:0.70991\n",
      "[0]\tvalidation_0-rmse:7.42208\n",
      "[1000]\tvalidation_0-rmse:0.71100\n",
      "[2000]\tvalidation_0-rmse:0.70999\n",
      "[2639]\tvalidation_0-rmse:0.70992\n"
     ]
    },
    {
     "name": "stderr",
     "output_type": "stream",
     "text": [
      "\u001b[32m[I 2021-08-31 00:56:04,989]\u001b[0m Trial 6 finished with value: 0.7098321567300784 and parameters: {'learning_rate': 0.045943959497900096, 'subsample': 0.9931814264598494, 'colsample_bytree': 0.08266965391687396, 'max_depth': 7, 'lambda': 89.05401112796059, 'alpha': 16.696878198101572, 'min_child_weight': 220.75290969286823}. Best is trial 0 with value: 0.7097679114099649.\u001b[0m\n"
     ]
    },
    {
     "name": "stdout",
     "output_type": "stream",
     "text": [
      "[0]\tvalidation_0-rmse:7.37961\n",
      "[1000]\tvalidation_0-rmse:0.71064\n",
      "[2000]\tvalidation_0-rmse:0.70993\n",
      "[2232]\tvalidation_0-rmse:0.70993\n",
      "[0]\tvalidation_0-rmse:7.37960\n",
      "[1000]\tvalidation_0-rmse:0.71075\n",
      "[2000]\tvalidation_0-rmse:0.71000\n",
      "[2571]\tvalidation_0-rmse:0.70995\n"
     ]
    },
    {
     "name": "stderr",
     "output_type": "stream",
     "text": [
      "\u001b[32m[I 2021-08-31 00:56:49,047]\u001b[0m Trial 7 finished with value: 0.7098519847716382 and parameters: {'learning_rate': 0.05145937118174893, 'subsample': 0.9791771030642776, 'colsample_bytree': 0.08413087667884611, 'max_depth': 7, 'lambda': 88.4509622863401, 'alpha': 17.30019439499492, 'min_child_weight': 224.76702628208457}. Best is trial 0 with value: 0.7097679114099649.\u001b[0m\n"
     ]
    },
    {
     "name": "stdout",
     "output_type": "stream",
     "text": [
      "[0]\tvalidation_0-rmse:7.39919\n",
      "[1000]\tvalidation_0-rmse:0.71136\n",
      "[2000]\tvalidation_0-rmse:0.71010\n",
      "[2928]\tvalidation_0-rmse:0.70998\n",
      "[0]\tvalidation_0-rmse:7.39919\n",
      "[1000]\tvalidation_0-rmse:0.71147\n",
      "[2000]\tvalidation_0-rmse:0.71005\n",
      "[2849]\tvalidation_0-rmse:0.70991\n"
     ]
    },
    {
     "name": "stderr",
     "output_type": "stream",
     "text": [
      "\u001b[32m[I 2021-08-31 00:57:37,806]\u001b[0m Trial 8 finished with value: 0.7098809588415849 and parameters: {'learning_rate': 0.04891634982616141, 'subsample': 0.9790945695991893, 'colsample_bytree': 0.07034021260300681, 'max_depth': 7, 'lambda': 90.32324738405757, 'alpha': 16.050400897299102, 'min_child_weight': 225.60131865539287}. Best is trial 0 with value: 0.7097679114099649.\u001b[0m\n"
     ]
    },
    {
     "name": "stdout",
     "output_type": "stream",
     "text": [
      "[0]\tvalidation_0-rmse:7.36846\n",
      "[1000]\tvalidation_0-rmse:0.71103\n",
      "[2000]\tvalidation_0-rmse:0.71004\n",
      "[3000]\tvalidation_0-rmse:0.70990\n",
      "[0]\tvalidation_0-rmse:7.36846\n",
      "[1000]\tvalidation_0-rmse:0.71108\n",
      "[2000]\tvalidation_0-rmse:0.71000\n",
      "[2798]\tvalidation_0-rmse:0.70986\n"
     ]
    },
    {
     "name": "stderr",
     "output_type": "stream",
     "text": [
      "\u001b[32m[I 2021-08-31 00:58:22,121]\u001b[0m Trial 9 finished with value: 0.7098086331643285 and parameters: {'learning_rate': 0.052906910049619484, 'subsample': 0.9795800859079652, 'colsample_bytree': 0.09167586355330212, 'max_depth': 6, 'lambda': 91.49478040567182, 'alpha': 18.14039242023375, 'min_child_weight': 231.40910383545395}. Best is trial 0 with value: 0.7097679114099649.\u001b[0m\n"
     ]
    },
    {
     "name": "stdout",
     "output_type": "stream",
     "text": [
      "[0]\tvalidation_0-rmse:7.35168\n",
      "[1000]\tvalidation_0-rmse:0.71244\n",
      "[2000]\tvalidation_0-rmse:0.71049\n",
      "[3000]\tvalidation_0-rmse:0.71002\n",
      "[4000]\tvalidation_0-rmse:0.70990\n",
      "[4633]\tvalidation_0-rmse:0.70987\n",
      "[0]\tvalidation_0-rmse:7.35169\n",
      "[1000]\tvalidation_0-rmse:0.71253\n",
      "[2000]\tvalidation_0-rmse:0.71040\n",
      "[3000]\tvalidation_0-rmse:0.71001\n",
      "[4000]\tvalidation_0-rmse:0.70989\n",
      "[4533]\tvalidation_0-rmse:0.70987\n"
     ]
    },
    {
     "name": "stderr",
     "output_type": "stream",
     "text": [
      "\u001b[32m[I 2021-08-31 00:59:16,554]\u001b[0m Trial 10 finished with value: 0.7098196557344574 and parameters: {'learning_rate': 0.055085471467016575, 'subsample': 0.963523360201336, 'colsample_bytree': 0.07129617051397183, 'max_depth': 5, 'lambda': 92.03047980902925, 'alpha': 17.69818139563527, 'min_child_weight': 218.33872413731626}. Best is trial 0 with value: 0.7097679114099649.\u001b[0m\n"
     ]
    },
    {
     "name": "stdout",
     "output_type": "stream",
     "text": [
      "[0]\tvalidation_0-rmse:7.35829\n",
      "[1000]\tvalidation_0-rmse:0.71167\n",
      "[2000]\tvalidation_0-rmse:0.71032\n",
      "[3000]\tvalidation_0-rmse:0.70996\n",
      "[3401]\tvalidation_0-rmse:0.70992\n",
      "[0]\tvalidation_0-rmse:7.35829\n",
      "[1000]\tvalidation_0-rmse:0.71178\n",
      "[2000]\tvalidation_0-rmse:0.71027\n",
      "[3000]\tvalidation_0-rmse:0.70996\n",
      "[3690]\tvalidation_0-rmse:0.70987\n"
     ]
    },
    {
     "name": "stderr",
     "output_type": "stream",
     "text": [
      "\u001b[32m[I 2021-08-31 01:00:01,539]\u001b[0m Trial 11 finished with value: 0.7098397609335058 and parameters: {'learning_rate': 0.05422812960690821, 'subsample': 0.9721243714810064, 'colsample_bytree': 0.09554261145028387, 'max_depth': 5, 'lambda': 92.11266154488011, 'alpha': 18.33595532526287, 'min_child_weight': 235.25728575425975}. Best is trial 0 with value: 0.7097679114099649.\u001b[0m\n"
     ]
    },
    {
     "name": "stdout",
     "output_type": "stream",
     "text": [
      "[0]\tvalidation_0-rmse:7.36561\n",
      "[1000]\tvalidation_0-rmse:0.71079\n",
      "[2000]\tvalidation_0-rmse:0.71004\n",
      "[2389]\tvalidation_0-rmse:0.71000\n",
      "[0]\tvalidation_0-rmse:7.36561\n",
      "[1000]\tvalidation_0-rmse:0.71079\n",
      "[2000]\tvalidation_0-rmse:0.71002\n",
      "[2795]\tvalidation_0-rmse:0.70995\n"
     ]
    },
    {
     "name": "stderr",
     "output_type": "stream",
     "text": [
      "\u001b[32m[I 2021-08-31 01:00:43,341]\u001b[0m Trial 12 finished with value: 0.709878919628052 and parameters: {'learning_rate': 0.05327643110476884, 'subsample': 0.9709708311014128, 'colsample_bytree': 0.09696960661490109, 'max_depth': 6, 'lambda': 91.0421250397657, 'alpha': 17.90613709436481, 'min_child_weight': 233.54511531137882}. Best is trial 0 with value: 0.7097679114099649.\u001b[0m\n"
     ]
    },
    {
     "name": "stdout",
     "output_type": "stream",
     "text": [
      "[0]\tvalidation_0-rmse:7.41451\n",
      "[1000]\tvalidation_0-rmse:0.71225\n",
      "[2000]\tvalidation_0-rmse:0.71047\n",
      "[3000]\tvalidation_0-rmse:0.71003\n",
      "[4000]\tvalidation_0-rmse:0.70992\n",
      "[4082]\tvalidation_0-rmse:0.70993\n",
      "[0]\tvalidation_0-rmse:7.41451\n",
      "[1000]\tvalidation_0-rmse:0.71229\n",
      "[2000]\tvalidation_0-rmse:0.71048\n",
      "[3000]\tvalidation_0-rmse:0.71002\n",
      "[4000]\tvalidation_0-rmse:0.70991\n",
      "[4720]\tvalidation_0-rmse:0.70989\n"
     ]
    },
    {
     "name": "stderr",
     "output_type": "stream",
     "text": [
      "\u001b[32m[I 2021-08-31 01:01:39,269]\u001b[0m Trial 13 finished with value: 0.7098498236956513 and parameters: {'learning_rate': 0.046927626688575544, 'subsample': 0.9873859041495595, 'colsample_bytree': 0.09046002530497055, 'max_depth': 5, 'lambda': 89.78129377121117, 'alpha': 18.69160391242338, 'min_child_weight': 221.3199183121658}. Best is trial 0 with value: 0.7097679114099649.\u001b[0m\n"
     ]
    },
    {
     "name": "stdout",
     "output_type": "stream",
     "text": [
      "[0]\tvalidation_0-rmse:7.38244\n",
      "[1000]\tvalidation_0-rmse:0.71170\n",
      "[2000]\tvalidation_0-rmse:0.71018\n",
      "[3000]\tvalidation_0-rmse:0.70986\n",
      "[3950]\tvalidation_0-rmse:0.70983\n",
      "[0]\tvalidation_0-rmse:7.38244\n",
      "[1000]\tvalidation_0-rmse:0.71195\n",
      "[2000]\tvalidation_0-rmse:0.71019\n",
      "[3000]\tvalidation_0-rmse:0.70996\n",
      "[3161]\tvalidation_0-rmse:0.70995\n"
     ]
    },
    {
     "name": "stderr",
     "output_type": "stream",
     "text": [
      "\u001b[32m[I 2021-08-31 01:02:28,790]\u001b[0m Trial 14 finished with value: 0.7098283161400022 and parameters: {'learning_rate': 0.051090869119876925, 'subsample': 0.9712786057707717, 'colsample_bytree': 0.07194608305841996, 'max_depth': 6, 'lambda': 91.5984123906368, 'alpha': 17.54271360200815, 'min_child_weight': 230.72925123953686}. Best is trial 0 with value: 0.7097679114099649.\u001b[0m\n"
     ]
    },
    {
     "name": "stdout",
     "output_type": "stream",
     "text": [
      "[0]\tvalidation_0-rmse:7.41052\n",
      "[1000]\tvalidation_0-rmse:0.71216\n",
      "[2000]\tvalidation_0-rmse:0.71047\n",
      "[3000]\tvalidation_0-rmse:0.71009\n",
      "[3451]\tvalidation_0-rmse:0.71005\n",
      "[0]\tvalidation_0-rmse:7.41052\n",
      "[1000]\tvalidation_0-rmse:0.71231\n",
      "[2000]\tvalidation_0-rmse:0.71045\n",
      "[3000]\tvalidation_0-rmse:0.71005\n",
      "[4000]\tvalidation_0-rmse:0.70994\n",
      "[5000]\tvalidation_0-rmse:0.70992\n",
      "[5005]\tvalidation_0-rmse:0.70991\n"
     ]
    },
    {
     "name": "stderr",
     "output_type": "stream",
     "text": [
      "\u001b[32m[I 2021-08-31 01:03:22,171]\u001b[0m Trial 15 finished with value: 0.7099069156202833 and parameters: {'learning_rate': 0.04744681225509293, 'subsample': 0.9991640634268213, 'colsample_bytree': 0.0902397474795684, 'max_depth': 5, 'lambda': 90.62431147258674, 'alpha': 18.186231108372308, 'min_child_weight': 244.5981611315346}. Best is trial 0 with value: 0.7097679114099649.\u001b[0m\n"
     ]
    },
    {
     "name": "stdout",
     "output_type": "stream",
     "text": [
      "[0]\tvalidation_0-rmse:7.36996\n",
      "[1000]\tvalidation_0-rmse:0.71158\n",
      "[2000]\tvalidation_0-rmse:0.71012\n",
      "[3000]\tvalidation_0-rmse:0.70988\n",
      "[3437]\tvalidation_0-rmse:0.70986\n",
      "[0]\tvalidation_0-rmse:7.36995\n",
      "[1000]\tvalidation_0-rmse:0.71176\n",
      "[2000]\tvalidation_0-rmse:0.71011\n",
      "[3000]\tvalidation_0-rmse:0.70989\n",
      "[3156]\tvalidation_0-rmse:0.70989\n"
     ]
    },
    {
     "name": "stderr",
     "output_type": "stream",
     "text": [
      "\u001b[32m[I 2021-08-31 01:04:08,188]\u001b[0m Trial 16 finished with value: 0.7098172305158488 and parameters: {'learning_rate': 0.05271290615082024, 'subsample': 0.9746956497967982, 'colsample_bytree': 0.05880319196032356, 'max_depth': 6, 'lambda': 89.82977008685593, 'alpha': 17.603840741352737, 'min_child_weight': 237.1875746120009}. Best is trial 0 with value: 0.7097679114099649.\u001b[0m\n"
     ]
    },
    {
     "name": "stdout",
     "output_type": "stream",
     "text": [
      "[0]\tvalidation_0-rmse:7.34748\n",
      "[1000]\tvalidation_0-rmse:0.71236\n",
      "[2000]\tvalidation_0-rmse:0.71044\n",
      "[3000]\tvalidation_0-rmse:0.71001\n",
      "[4000]\tvalidation_0-rmse:0.70986\n",
      "[4635]\tvalidation_0-rmse:0.70983\n",
      "[0]\tvalidation_0-rmse:7.34749\n",
      "[1000]\tvalidation_0-rmse:0.71253\n",
      "[2000]\tvalidation_0-rmse:0.71043\n",
      "[3000]\tvalidation_0-rmse:0.71005\n",
      "[4000]\tvalidation_0-rmse:0.70993\n",
      "[4745]\tvalidation_0-rmse:0.70988\n"
     ]
    },
    {
     "name": "stderr",
     "output_type": "stream",
     "text": [
      "\u001b[32m[I 2021-08-31 01:05:03,790]\u001b[0m Trial 17 finished with value: 0.7098096894601683 and parameters: {'learning_rate': 0.055630577253106314, 'subsample': 0.9663293393678921, 'colsample_bytree': 0.07638546951492625, 'max_depth': 5, 'lambda': 91.5414613090507, 'alpha': 18.616065421324663, 'min_child_weight': 230.51362926207707}. Best is trial 0 with value: 0.7097679114099649.\u001b[0m\n"
     ]
    },
    {
     "name": "stdout",
     "output_type": "stream",
     "text": [
      "[0]\tvalidation_0-rmse:7.38569\n",
      "[1000]\tvalidation_0-rmse:0.71176\n",
      "[2000]\tvalidation_0-rmse:0.71024\n",
      "[3000]\tvalidation_0-rmse:0.70991\n",
      "[3450]\tvalidation_0-rmse:0.70988\n",
      "[0]\tvalidation_0-rmse:7.38568\n",
      "[1000]\tvalidation_0-rmse:0.71197\n",
      "[2000]\tvalidation_0-rmse:0.71020\n",
      "[3000]\tvalidation_0-rmse:0.70993\n",
      "[3467]\tvalidation_0-rmse:0.70993\n"
     ]
    },
    {
     "name": "stderr",
     "output_type": "stream",
     "text": [
      "\u001b[32m[I 2021-08-31 01:05:52,784]\u001b[0m Trial 18 finished with value: 0.7098516756650656 and parameters: {'learning_rate': 0.0506702234242994, 'subsample': 0.9755225445063391, 'colsample_bytree': 0.0665856146698521, 'max_depth': 6, 'lambda': 92.06503683558519, 'alpha': 18.071095186678313, 'min_child_weight': 222.17030830453808}. Best is trial 0 with value: 0.7097679114099649.\u001b[0m\n"
     ]
    },
    {
     "name": "stdout",
     "output_type": "stream",
     "text": [
      "[0]\tvalidation_0-rmse:7.36071\n",
      "[1000]\tvalidation_0-rmse:0.71169\n",
      "[2000]\tvalidation_0-rmse:0.71032\n",
      "[3000]\tvalidation_0-rmse:0.70998\n",
      "[3413]\tvalidation_0-rmse:0.70994\n",
      "[0]\tvalidation_0-rmse:7.36070\n",
      "[1000]\tvalidation_0-rmse:0.71177\n",
      "[2000]\tvalidation_0-rmse:0.71033\n",
      "[3000]\tvalidation_0-rmse:0.71003\n",
      "[3697]\tvalidation_0-rmse:0.71000\n"
     ]
    },
    {
     "name": "stderr",
     "output_type": "stream",
     "text": [
      "\u001b[32m[I 2021-08-31 01:06:38,200]\u001b[0m Trial 19 finished with value: 0.7099052190267048 and parameters: {'learning_rate': 0.05391381017533984, 'subsample': 0.9846526461324315, 'colsample_bytree': 0.08984624762707173, 'max_depth': 5, 'lambda': 91.01527631494467, 'alpha': 16.697944026514435, 'min_child_weight': 219.18306704703718}. Best is trial 0 with value: 0.7097679114099649.\u001b[0m\n"
     ]
    },
    {
     "name": "stdout",
     "output_type": "stream",
     "text": [
      "[0]\tvalidation_0-rmse:7.37566\n",
      "[1000]\tvalidation_0-rmse:0.71105\n",
      "[2000]\tvalidation_0-rmse:0.71008\n",
      "[2947]\tvalidation_0-rmse:0.70994\n",
      "[0]\tvalidation_0-rmse:7.37567\n",
      "[1000]\tvalidation_0-rmse:0.71112\n",
      "[2000]\tvalidation_0-rmse:0.71008\n",
      "[2845]\tvalidation_0-rmse:0.70994\n"
     ]
    },
    {
     "name": "stderr",
     "output_type": "stream",
     "text": [
      "\u001b[32m[I 2021-08-31 01:07:22,061]\u001b[0m Trial 20 finished with value: 0.709875334656473 and parameters: {'learning_rate': 0.05197108508946304, 'subsample': 0.9630439616265345, 'colsample_bytree': 0.07840034488511022, 'max_depth': 6, 'lambda': 90.1623099442352, 'alpha': 17.778574278523664, 'min_child_weight': 233.0530802971951}. Best is trial 0 with value: 0.7097679114099649.\u001b[0m\n"
     ]
    },
    {
     "name": "stdout",
     "output_type": "stream",
     "text": [
      "[0]\tvalidation_0-rmse:7.35028\n",
      "[1000]\tvalidation_0-rmse:0.71241\n",
      "[2000]\tvalidation_0-rmse:0.71046\n",
      "[3000]\tvalidation_0-rmse:0.71000\n",
      "[4000]\tvalidation_0-rmse:0.70983\n",
      "[4405]\tvalidation_0-rmse:0.70983\n",
      "[0]\tvalidation_0-rmse:7.35029\n",
      "[1000]\tvalidation_0-rmse:0.71258\n",
      "[2000]\tvalidation_0-rmse:0.71041\n",
      "[3000]\tvalidation_0-rmse:0.71002\n",
      "[4000]\tvalidation_0-rmse:0.70989\n",
      "[4664]\tvalidation_0-rmse:0.70986\n"
     ]
    },
    {
     "name": "stderr",
     "output_type": "stream",
     "text": [
      "\u001b[32m[I 2021-08-31 01:08:15,906]\u001b[0m Trial 21 finished with value: 0.7097972176413954 and parameters: {'learning_rate': 0.05526721560177694, 'subsample': 0.9664526953060568, 'colsample_bytree': 0.07529959370756178, 'max_depth': 5, 'lambda': 91.4841513204413, 'alpha': 18.59348964332077, 'min_child_weight': 229.2064780393623}. Best is trial 0 with value: 0.7097679114099649.\u001b[0m\n"
     ]
    },
    {
     "name": "stdout",
     "output_type": "stream",
     "text": [
      "[0]\tvalidation_0-rmse:7.35627\n",
      "[1000]\tvalidation_0-rmse:0.71246\n",
      "[2000]\tvalidation_0-rmse:0.71050\n",
      "[3000]\tvalidation_0-rmse:0.71005\n",
      "[4000]\tvalidation_0-rmse:0.70989\n",
      "[4956]\tvalidation_0-rmse:0.70983\n",
      "[0]\tvalidation_0-rmse:7.35627\n",
      "[1000]\tvalidation_0-rmse:0.71256\n",
      "[2000]\tvalidation_0-rmse:0.71043\n",
      "[3000]\tvalidation_0-rmse:0.71002\n",
      "[4000]\tvalidation_0-rmse:0.70989\n",
      "[4527]\tvalidation_0-rmse:0.70987\n"
     ]
    },
    {
     "name": "stderr",
     "output_type": "stream",
     "text": [
      "\u001b[32m[I 2021-08-31 01:09:12,282]\u001b[0m Trial 22 finished with value: 0.7097955296902445 and parameters: {'learning_rate': 0.05448996231494732, 'subsample': 0.9687012746923797, 'colsample_bytree': 0.07389123333914546, 'max_depth': 5, 'lambda': 91.63542624707027, 'alpha': 18.32692488377442, 'min_child_weight': 229.38539503673945}. Best is trial 0 with value: 0.7097679114099649.\u001b[0m\n"
     ]
    },
    {
     "name": "stdout",
     "output_type": "stream",
     "text": [
      "[0]\tvalidation_0-rmse:7.35151\n",
      "[1000]\tvalidation_0-rmse:0.71241\n",
      "[2000]\tvalidation_0-rmse:0.71046\n",
      "[3000]\tvalidation_0-rmse:0.71000\n",
      "[4000]\tvalidation_0-rmse:0.70986\n",
      "[5000]\tvalidation_0-rmse:0.70979\n",
      "[5344]\tvalidation_0-rmse:0.70979\n",
      "[0]\tvalidation_0-rmse:7.35151\n",
      "[1000]\tvalidation_0-rmse:0.71252\n",
      "[2000]\tvalidation_0-rmse:0.71039\n",
      "[3000]\tvalidation_0-rmse:0.71000\n",
      "[4000]\tvalidation_0-rmse:0.70986\n",
      "[4052]\tvalidation_0-rmse:0.70986\n"
     ]
    },
    {
     "name": "stderr",
     "output_type": "stream",
     "text": [
      "\u001b[32m[I 2021-08-31 01:10:08,134]\u001b[0m Trial 23 finished with value: 0.7097668779647643 and parameters: {'learning_rate': 0.05510759280586885, 'subsample': 0.9684651346063825, 'colsample_bytree': 0.07434683610800047, 'max_depth': 5, 'lambda': 90.83558021534245, 'alpha': 18.68492800206771, 'min_child_weight': 223.4301110745184}. Best is trial 23 with value: 0.7097668779647643.\u001b[0m\n"
     ]
    },
    {
     "name": "stdout",
     "output_type": "stream",
     "text": [
      "[0]\tvalidation_0-rmse:7.35654\n",
      "[1000]\tvalidation_0-rmse:0.71248\n",
      "[2000]\tvalidation_0-rmse:0.71045\n",
      "[3000]\tvalidation_0-rmse:0.70997\n",
      "[4000]\tvalidation_0-rmse:0.70984\n",
      "[4641]\tvalidation_0-rmse:0.70980\n",
      "[0]\tvalidation_0-rmse:7.35654\n",
      "[1000]\tvalidation_0-rmse:0.71267\n",
      "[2000]\tvalidation_0-rmse:0.71047\n",
      "[3000]\tvalidation_0-rmse:0.71002\n",
      "[4000]\tvalidation_0-rmse:0.70989\n",
      "[4642]\tvalidation_0-rmse:0.70987\n"
     ]
    },
    {
     "name": "stderr",
     "output_type": "stream",
     "text": [
      "\u001b[32m[I 2021-08-31 01:11:03,210]\u001b[0m Trial 24 finished with value: 0.709786779512117 and parameters: {'learning_rate': 0.05445408100798216, 'subsample': 0.9689065888707036, 'colsample_bytree': 0.06726076325372271, 'max_depth': 5, 'lambda': 90.8721514402141, 'alpha': 18.32844955320145, 'min_child_weight': 224.27712982548212}. Best is trial 23 with value: 0.7097668779647643.\u001b[0m\n"
     ]
    },
    {
     "name": "stdout",
     "output_type": "stream",
     "text": [
      "[0]\tvalidation_0-rmse:7.38762\n",
      "[1000]\tvalidation_0-rmse:0.71289\n",
      "[2000]\tvalidation_0-rmse:0.71062\n",
      "[3000]\tvalidation_0-rmse:0.71010\n",
      "[4000]\tvalidation_0-rmse:0.70991\n",
      "[4634]\tvalidation_0-rmse:0.70988\n",
      "[0]\tvalidation_0-rmse:7.38763\n",
      "[1000]\tvalidation_0-rmse:0.71298\n",
      "[2000]\tvalidation_0-rmse:0.71056\n",
      "[3000]\tvalidation_0-rmse:0.71012\n",
      "[4000]\tvalidation_0-rmse:0.70996\n",
      "[5000]\tvalidation_0-rmse:0.70988\n",
      "[5718]\tvalidation_0-rmse:0.70986\n"
     ]
    },
    {
     "name": "stderr",
     "output_type": "stream",
     "text": [
      "\u001b[32m[I 2021-08-31 01:12:04,429]\u001b[0m Trial 25 finished with value: 0.709823751029475 and parameters: {'learning_rate': 0.05041840067385499, 'subsample': 0.963503149945397, 'colsample_bytree': 0.06736918199202731, 'max_depth': 5, 'lambda': 90.7314025421842, 'alpha': 17.420399082831782, 'min_child_weight': 223.2600843911344}. Best is trial 23 with value: 0.7097668779647643.\u001b[0m\n"
     ]
    },
    {
     "name": "stdout",
     "output_type": "stream",
     "text": [
      "[0]\tvalidation_0-rmse:7.34649\n",
      "[1000]\tvalidation_0-rmse:0.71235\n",
      "[2000]\tvalidation_0-rmse:0.71044\n",
      "[3000]\tvalidation_0-rmse:0.71000\n",
      "[4000]\tvalidation_0-rmse:0.70986\n",
      "[4461]\tvalidation_0-rmse:0.70985\n",
      "[0]\tvalidation_0-rmse:7.34649\n",
      "[1000]\tvalidation_0-rmse:0.71250\n",
      "[2000]\tvalidation_0-rmse:0.71042\n",
      "[3000]\tvalidation_0-rmse:0.71004\n",
      "[4000]\tvalidation_0-rmse:0.70993\n",
      "[4526]\tvalidation_0-rmse:0.70991\n"
     ]
    },
    {
     "name": "stderr",
     "output_type": "stream",
     "text": [
      "\u001b[32m[I 2021-08-31 01:12:57,940]\u001b[0m Trial 26 finished with value: 0.7098298363138034 and parameters: {'learning_rate': 0.055759248792038044, 'subsample': 0.968763059741279, 'colsample_bytree': 0.06756722216482602, 'max_depth': 5, 'lambda': 90.07925043289484, 'alpha': 18.69587395585239, 'min_child_weight': 223.65261276143275}. Best is trial 23 with value: 0.7097668779647643.\u001b[0m\n"
     ]
    },
    {
     "name": "stdout",
     "output_type": "stream",
     "text": [
      "[0]\tvalidation_0-rmse:7.40373\n",
      "[1000]\tvalidation_0-rmse:0.71298\n",
      "[2000]\tvalidation_0-rmse:0.71067\n",
      "[3000]\tvalidation_0-rmse:0.71009\n",
      "[4000]\tvalidation_0-rmse:0.70991\n",
      "[5000]\tvalidation_0-rmse:0.70984\n",
      "[5380]\tvalidation_0-rmse:0.70983\n",
      "[0]\tvalidation_0-rmse:7.40373\n",
      "[1000]\tvalidation_0-rmse:0.71326\n",
      "[2000]\tvalidation_0-rmse:0.71066\n",
      "[3000]\tvalidation_0-rmse:0.71010\n",
      "[4000]\tvalidation_0-rmse:0.70993\n",
      "[4760]\tvalidation_0-rmse:0.70989\n"
     ]
    },
    {
     "name": "stderr",
     "output_type": "stream",
     "text": [
      "\u001b[32m[I 2021-08-31 01:13:58,001]\u001b[0m Trial 27 finished with value: 0.7098172581427785 and parameters: {'learning_rate': 0.048326694988297496, 'subsample': 0.9745697246198355, 'colsample_bytree': 0.06256769400704196, 'max_depth': 5, 'lambda': 89.04293748744394, 'alpha': 18.383580896334816, 'min_child_weight': 219.28469542942696}. Best is trial 23 with value: 0.7097668779647643.\u001b[0m\n"
     ]
    },
    {
     "name": "stdout",
     "output_type": "stream",
     "text": [
      "[0]\tvalidation_0-rmse:7.35463\n",
      "[1000]\tvalidation_0-rmse:0.71243\n",
      "[2000]\tvalidation_0-rmse:0.71046\n",
      "[3000]\tvalidation_0-rmse:0.70998\n",
      "[4000]\tvalidation_0-rmse:0.70984\n",
      "[4958]\tvalidation_0-rmse:0.70981\n",
      "[0]\tvalidation_0-rmse:7.35464\n",
      "[1000]\tvalidation_0-rmse:0.71259\n",
      "[2000]\tvalidation_0-rmse:0.71046\n",
      "[3000]\tvalidation_0-rmse:0.71003\n",
      "[4000]\tvalidation_0-rmse:0.70993\n",
      "[4567]\tvalidation_0-rmse:0.70990\n"
     ]
    },
    {
     "name": "stderr",
     "output_type": "stream",
     "text": [
      "\u001b[32m[I 2021-08-31 01:14:54,372]\u001b[0m Trial 28 finished with value: 0.7098034097421807 and parameters: {'learning_rate': 0.05470153512847735, 'subsample': 0.9683662287012604, 'colsample_bytree': 0.05857092074655468, 'max_depth': 5, 'lambda': 89.42610936460609, 'alpha': 17.916838640824544, 'min_child_weight': 227.1647204301212}. Best is trial 23 with value: 0.7097668779647643.\u001b[0m\n"
     ]
    },
    {
     "name": "stdout",
     "output_type": "stream",
     "text": [
      "[0]\tvalidation_0-rmse:7.36367\n",
      "[1000]\tvalidation_0-rmse:0.71176\n",
      "[2000]\tvalidation_0-rmse:0.71037\n",
      "[3000]\tvalidation_0-rmse:0.71001\n",
      "[4000]\tvalidation_0-rmse:0.70993\n",
      "[4570]\tvalidation_0-rmse:0.70992\n",
      "[0]\tvalidation_0-rmse:7.36366\n",
      "[1000]\tvalidation_0-rmse:0.71179\n",
      "[2000]\tvalidation_0-rmse:0.71035\n",
      "[3000]\tvalidation_0-rmse:0.70999\n",
      "[4000]\tvalidation_0-rmse:0.70990\n",
      "[4538]\tvalidation_0-rmse:0.70989\n"
     ]
    },
    {
     "name": "stderr",
     "output_type": "stream",
     "text": [
      "\u001b[32m[I 2021-08-31 01:15:51,910]\u001b[0m Trial 29 finished with value: 0.7098417256919911 and parameters: {'learning_rate': 0.05352921682961161, 'subsample': 0.9766654947328101, 'colsample_bytree': 0.07917109144913197, 'max_depth': 5, 'lambda': 90.84357414842718, 'alpha': 18.193390085605735, 'min_child_weight': 220.65099191384428}. Best is trial 23 with value: 0.7097668779647643.\u001b[0m\n"
     ]
    },
    {
     "name": "stdout",
     "output_type": "stream",
     "text": [
      "Number of finished trials: 30\n",
      "Best trial: {'learning_rate': 0.05510759280586885, 'subsample': 0.9684651346063825, 'colsample_bytree': 0.07434683610800047, 'max_depth': 5, 'lambda': 90.83558021534245, 'alpha': 18.68492800206771, 'min_child_weight': 223.4301110745184}\n"
     ]
    }
   ],
   "source": [
    "study = optuna.create_study(direction='minimize')\n",
    "study.optimize(objective,n_trials= 30)\n",
    "print('Number of finished trials:', len(study.trials))\n",
    "print('Best trial:', study.best_trial.params)"
   ]
  },
  {
   "cell_type": "code",
   "execution_count": 15,
   "id": "bcecc79c",
   "metadata": {
    "execution": {
     "iopub.execute_input": "2021-08-31T01:15:52.145212Z",
     "iopub.status.busy": "2021-08-31T01:15:52.144522Z",
     "iopub.status.idle": "2021-08-31T01:15:52.147381Z",
     "shell.execute_reply": "2021-08-31T01:15:52.147781Z"
    },
    "papermill": {
     "duration": 0.116308,
     "end_time": "2021-08-31T01:15:52.147915",
     "exception": false,
     "start_time": "2021-08-31T01:15:52.031607",
     "status": "completed"
    },
    "tags": []
   },
   "outputs": [
    {
     "data": {
      "text/plain": [
       "{'learning_rate': 0.05510759280586885,\n",
       " 'subsample': 0.9684651346063825,\n",
       " 'colsample_bytree': 0.07434683610800047,\n",
       " 'max_depth': 5,\n",
       " 'lambda': 90.83558021534245,\n",
       " 'alpha': 18.68492800206771,\n",
       " 'min_child_weight': 223.4301110745184}"
      ]
     },
     "execution_count": 15,
     "metadata": {},
     "output_type": "execute_result"
    }
   ],
   "source": [
    "study.best_params"
   ]
  },
  {
   "cell_type": "markdown",
   "id": "642b2b8c",
   "metadata": {
    "papermill": {
     "duration": 0.105457,
     "end_time": "2021-08-31T01:15:52.358841",
     "exception": false,
     "start_time": "2021-08-31T01:15:52.253384",
     "status": "completed"
    },
    "tags": []
   },
   "source": [
    "# Log\n",
    "\n",
    "====== Ordinal encoding =========\n",
    "\n",
    "0.7104482581506356 no noise ver1\n",
    "\n",
    "0.714284445715517 row-wise noise ver2\n",
    "\n",
    "====== One-hot encoding =========\n",
    "\n",
    "0.7103796124277987 no noise ver3\n",
    "\n",
    "0.7100970391939901 no noise ver4 (narrow space)\n",
    "\n",
    "0.709957588415761 no noise ver5 (narrow space) final\n",
    "\n",
    "========================================== \n",
    "=========== Changed pseudo ===============\n",
    "\n",
    "====== Ordinal encoding =========\n",
    "\n",
    "0.7101944034015998 no noise ver9\n",
    "\n",
    "====== One-hot encoding =========\n",
    "\n",
    "0.7100303460873891 no noise ver8\n",
    "\n",
    "0.7099357251489501 no noise ver10 (narrow space)\n",
    "\n",
    "0.7099117436246878 no noise ver11 (narrow space)\n",
    "\n",
    "0.7098921880994804 no noise ver12 (narrow space)"
   ]
  }
 ],
 "metadata": {
  "kernelspec": {
   "display_name": "Python 3",
   "language": "python",
   "name": "python3"
  },
  "language_info": {
   "codemirror_mode": {
    "name": "ipython",
    "version": 3
   },
   "file_extension": ".py",
   "mimetype": "text/x-python",
   "name": "python",
   "nbconvert_exporter": "python",
   "pygments_lexer": "ipython3",
   "version": "3.7.10"
  },
  "papermill": {
   "default_parameters": {},
   "duration": 1582.112224,
   "end_time": "2021-08-31T01:15:54.623430",
   "environment_variables": {},
   "exception": null,
   "input_path": "__notebook__.ipynb",
   "output_path": "__notebook__.ipynb",
   "parameters": {},
   "start_time": "2021-08-31T00:49:32.511206",
   "version": "2.3.3"
  }
 },
 "nbformat": 4,
 "nbformat_minor": 5
}
