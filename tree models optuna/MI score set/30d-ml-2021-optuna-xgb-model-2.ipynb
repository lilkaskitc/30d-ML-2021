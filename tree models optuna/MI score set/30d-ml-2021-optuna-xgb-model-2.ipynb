{
 "cells": [
  {
   "cell_type": "code",
   "execution_count": 1,
   "id": "057281e9",
   "metadata": {
    "_cell_guid": "b1076dfc-b9ad-4769-8c92-a6c4dae69d19",
    "_uuid": "8f2839f25d086af736a60e9eeb907d3b93b6e0e5",
    "execution": {
     "iopub.execute_input": "2021-08-23T09:44:20.662013Z",
     "iopub.status.busy": "2021-08-23T09:44:20.661220Z",
     "iopub.status.idle": "2021-08-23T09:44:21.722731Z",
     "shell.execute_reply": "2021-08-23T09:44:21.721943Z",
     "shell.execute_reply.started": "2021-08-20T04:03:17.046357Z"
    },
    "papermill": {
     "duration": 1.084388,
     "end_time": "2021-08-23T09:44:21.722895",
     "exception": false,
     "start_time": "2021-08-23T09:44:20.638507",
     "status": "completed"
    },
    "tags": []
   },
   "outputs": [],
   "source": [
    "# Familiar imports\n",
    "import numpy as np\n",
    "import pandas as pd\n",
    "import random\n",
    "import os\n",
    "import time\n",
    "from pathlib import Path\n",
    "\n",
    "from sklearn.preprocessing import StandardScaler\n",
    "from sklearn.model_selection import KFold, train_test_split\n",
    "from sklearn.metrics import mean_squared_error\n",
    "from sklearn.preprocessing import OrdinalEncoder, OneHotEncoder\n",
    "\n",
    "#import lightgbm as lgb\n",
    "import xgboost as xgb\n",
    "#import catboost as ctb\n",
    "\n",
    "import warnings\n",
    "warnings.simplefilter('ignore')"
   ]
  },
  {
   "cell_type": "markdown",
   "id": "98843ea8",
   "metadata": {
    "papermill": {
     "duration": 0.011816,
     "end_time": "2021-08-23T09:44:21.748399",
     "exception": false,
     "start_time": "2021-08-23T09:44:21.736583",
     "status": "completed"
    },
    "tags": []
   },
   "source": [
    "# Parameters"
   ]
  },
  {
   "cell_type": "code",
   "execution_count": 2,
   "id": "e58aed25",
   "metadata": {
    "execution": {
     "iopub.execute_input": "2021-08-23T09:44:21.778236Z",
     "iopub.status.busy": "2021-08-23T09:44:21.777603Z",
     "iopub.status.idle": "2021-08-23T09:44:21.780477Z",
     "shell.execute_reply": "2021-08-23T09:44:21.779976Z",
     "shell.execute_reply.started": "2021-08-20T04:03:18.510416Z"
    },
    "papermill": {
     "duration": 0.020166,
     "end_time": "2021-08-23T09:44:21.780617",
     "exception": false,
     "start_time": "2021-08-23T09:44:21.760451",
     "status": "completed"
    },
    "tags": []
   },
   "outputs": [],
   "source": [
    "target = 'target'\n",
    "\n",
    "DEBUG = False\n",
    "\n",
    "if DEBUG:\n",
    "    N_ESTIMATORS = 1\n",
    "    N_SPLITS = 2\n",
    "    SEED = 17\n",
    "    CVSEED = 17\n",
    "    EARLY_STOPPING_ROUNDS = 1\n",
    "    VERBOSE = 100\n",
    "    #N_ITERS = 2\n",
    "else:\n",
    "    N_SPLITS = 10\n",
    "    N_ESTIMATORS = 20000\n",
    "    EARLY_STOPPING_ROUNDS = 200\n",
    "    VERBOSE = 1000\n",
    "    SEED = 17\n",
    "    CVSEED = 17\n",
    "    #N_ITERS = 10"
   ]
  },
  {
   "cell_type": "code",
   "execution_count": 3,
   "id": "d03d466c",
   "metadata": {
    "execution": {
     "iopub.execute_input": "2021-08-23T09:44:21.809386Z",
     "iopub.status.busy": "2021-08-23T09:44:21.808797Z",
     "iopub.status.idle": "2021-08-23T09:44:21.811073Z",
     "shell.execute_reply": "2021-08-23T09:44:21.811457Z",
     "shell.execute_reply.started": "2021-08-20T04:03:18.522875Z"
    },
    "papermill": {
     "duration": 0.019097,
     "end_time": "2021-08-23T09:44:21.811616",
     "exception": false,
     "start_time": "2021-08-23T09:44:21.792519",
     "status": "completed"
    },
    "tags": []
   },
   "outputs": [],
   "source": [
    "def set_seed(seed=17):\n",
    "    random.seed(seed)\n",
    "    os.environ['PYTHONHASHSEED'] = str(seed)\n",
    "    np.random.seed(seed)\n",
    "    \n",
    "set_seed(SEED)"
   ]
  },
  {
   "cell_type": "markdown",
   "id": "b499dd10",
   "metadata": {
    "papermill": {
     "duration": 0.011898,
     "end_time": "2021-08-23T09:44:21.835541",
     "exception": false,
     "start_time": "2021-08-23T09:44:21.823643",
     "status": "completed"
    },
    "tags": []
   },
   "source": [
    "# Load data"
   ]
  },
  {
   "cell_type": "code",
   "execution_count": 4,
   "id": "7a306311",
   "metadata": {
    "execution": {
     "iopub.execute_input": "2021-08-23T09:44:21.864798Z",
     "iopub.status.busy": "2021-08-23T09:44:21.864137Z",
     "iopub.status.idle": "2021-08-23T09:44:25.783172Z",
     "shell.execute_reply": "2021-08-23T09:44:25.782080Z",
     "shell.execute_reply.started": "2021-08-20T04:03:18.539486Z"
    },
    "papermill": {
     "duration": 3.935723,
     "end_time": "2021-08-23T09:44:25.783316",
     "exception": false,
     "start_time": "2021-08-23T09:44:21.847593",
     "status": "completed"
    },
    "tags": []
   },
   "outputs": [
    {
     "data": {
      "text/html": [
       "<div>\n",
       "<style scoped>\n",
       "    .dataframe tbody tr th:only-of-type {\n",
       "        vertical-align: middle;\n",
       "    }\n",
       "\n",
       "    .dataframe tbody tr th {\n",
       "        vertical-align: top;\n",
       "    }\n",
       "\n",
       "    .dataframe thead th {\n",
       "        text-align: right;\n",
       "    }\n",
       "</style>\n",
       "<table border=\"1\" class=\"dataframe\">\n",
       "  <thead>\n",
       "    <tr style=\"text-align: right;\">\n",
       "      <th></th>\n",
       "      <th>id</th>\n",
       "      <th>cat0</th>\n",
       "      <th>cat1</th>\n",
       "      <th>cat2</th>\n",
       "      <th>cat3</th>\n",
       "      <th>cat4</th>\n",
       "      <th>cat5</th>\n",
       "      <th>cat6</th>\n",
       "      <th>cat7</th>\n",
       "      <th>cat8</th>\n",
       "      <th>...</th>\n",
       "      <th>cont5</th>\n",
       "      <th>cont6</th>\n",
       "      <th>cont7</th>\n",
       "      <th>cont8</th>\n",
       "      <th>cont9</th>\n",
       "      <th>cont10</th>\n",
       "      <th>cont11</th>\n",
       "      <th>cont12</th>\n",
       "      <th>cont13</th>\n",
       "      <th>target</th>\n",
       "    </tr>\n",
       "  </thead>\n",
       "  <tbody>\n",
       "    <tr>\n",
       "      <th>0</th>\n",
       "      <td>1</td>\n",
       "      <td>B</td>\n",
       "      <td>B</td>\n",
       "      <td>B</td>\n",
       "      <td>C</td>\n",
       "      <td>B</td>\n",
       "      <td>B</td>\n",
       "      <td>A</td>\n",
       "      <td>E</td>\n",
       "      <td>C</td>\n",
       "      <td>...</td>\n",
       "      <td>0.400361</td>\n",
       "      <td>0.160266</td>\n",
       "      <td>0.310921</td>\n",
       "      <td>0.389470</td>\n",
       "      <td>0.267559</td>\n",
       "      <td>0.237281</td>\n",
       "      <td>0.377873</td>\n",
       "      <td>0.322401</td>\n",
       "      <td>0.869850</td>\n",
       "      <td>8.113634</td>\n",
       "    </tr>\n",
       "    <tr>\n",
       "      <th>1</th>\n",
       "      <td>2</td>\n",
       "      <td>B</td>\n",
       "      <td>B</td>\n",
       "      <td>A</td>\n",
       "      <td>A</td>\n",
       "      <td>B</td>\n",
       "      <td>D</td>\n",
       "      <td>A</td>\n",
       "      <td>F</td>\n",
       "      <td>A</td>\n",
       "      <td>...</td>\n",
       "      <td>0.533087</td>\n",
       "      <td>0.558922</td>\n",
       "      <td>0.516294</td>\n",
       "      <td>0.594928</td>\n",
       "      <td>0.341439</td>\n",
       "      <td>0.906013</td>\n",
       "      <td>0.921701</td>\n",
       "      <td>0.261975</td>\n",
       "      <td>0.465083</td>\n",
       "      <td>8.481233</td>\n",
       "    </tr>\n",
       "    <tr>\n",
       "      <th>2</th>\n",
       "      <td>3</td>\n",
       "      <td>A</td>\n",
       "      <td>A</td>\n",
       "      <td>A</td>\n",
       "      <td>C</td>\n",
       "      <td>B</td>\n",
       "      <td>D</td>\n",
       "      <td>A</td>\n",
       "      <td>D</td>\n",
       "      <td>A</td>\n",
       "      <td>...</td>\n",
       "      <td>0.650609</td>\n",
       "      <td>0.375348</td>\n",
       "      <td>0.902567</td>\n",
       "      <td>0.555205</td>\n",
       "      <td>0.843531</td>\n",
       "      <td>0.748809</td>\n",
       "      <td>0.620126</td>\n",
       "      <td>0.541474</td>\n",
       "      <td>0.763846</td>\n",
       "      <td>8.364351</td>\n",
       "    </tr>\n",
       "    <tr>\n",
       "      <th>3</th>\n",
       "      <td>4</td>\n",
       "      <td>B</td>\n",
       "      <td>B</td>\n",
       "      <td>A</td>\n",
       "      <td>C</td>\n",
       "      <td>B</td>\n",
       "      <td>D</td>\n",
       "      <td>A</td>\n",
       "      <td>E</td>\n",
       "      <td>C</td>\n",
       "      <td>...</td>\n",
       "      <td>0.668980</td>\n",
       "      <td>0.239061</td>\n",
       "      <td>0.732948</td>\n",
       "      <td>0.679618</td>\n",
       "      <td>0.574844</td>\n",
       "      <td>0.346010</td>\n",
       "      <td>0.714610</td>\n",
       "      <td>0.540150</td>\n",
       "      <td>0.280682</td>\n",
       "      <td>8.049253</td>\n",
       "    </tr>\n",
       "    <tr>\n",
       "      <th>4</th>\n",
       "      <td>6</td>\n",
       "      <td>A</td>\n",
       "      <td>A</td>\n",
       "      <td>A</td>\n",
       "      <td>C</td>\n",
       "      <td>B</td>\n",
       "      <td>D</td>\n",
       "      <td>A</td>\n",
       "      <td>E</td>\n",
       "      <td>A</td>\n",
       "      <td>...</td>\n",
       "      <td>0.686964</td>\n",
       "      <td>0.420667</td>\n",
       "      <td>0.648182</td>\n",
       "      <td>0.684501</td>\n",
       "      <td>0.956692</td>\n",
       "      <td>1.000773</td>\n",
       "      <td>0.776742</td>\n",
       "      <td>0.625849</td>\n",
       "      <td>0.250823</td>\n",
       "      <td>7.972260</td>\n",
       "    </tr>\n",
       "  </tbody>\n",
       "</table>\n",
       "<p>5 rows × 26 columns</p>\n",
       "</div>"
      ],
      "text/plain": [
       "   id cat0 cat1 cat2 cat3 cat4 cat5 cat6 cat7 cat8  ...     cont5     cont6  \\\n",
       "0   1    B    B    B    C    B    B    A    E    C  ...  0.400361  0.160266   \n",
       "1   2    B    B    A    A    B    D    A    F    A  ...  0.533087  0.558922   \n",
       "2   3    A    A    A    C    B    D    A    D    A  ...  0.650609  0.375348   \n",
       "3   4    B    B    A    C    B    D    A    E    C  ...  0.668980  0.239061   \n",
       "4   6    A    A    A    C    B    D    A    E    A  ...  0.686964  0.420667   \n",
       "\n",
       "      cont7     cont8     cont9    cont10    cont11    cont12    cont13  \\\n",
       "0  0.310921  0.389470  0.267559  0.237281  0.377873  0.322401  0.869850   \n",
       "1  0.516294  0.594928  0.341439  0.906013  0.921701  0.261975  0.465083   \n",
       "2  0.902567  0.555205  0.843531  0.748809  0.620126  0.541474  0.763846   \n",
       "3  0.732948  0.679618  0.574844  0.346010  0.714610  0.540150  0.280682   \n",
       "4  0.648182  0.684501  0.956692  1.000773  0.776742  0.625849  0.250823   \n",
       "\n",
       "     target  \n",
       "0  8.113634  \n",
       "1  8.481233  \n",
       "2  8.364351  \n",
       "3  8.049253  \n",
       "4  7.972260  \n",
       "\n",
       "[5 rows x 26 columns]"
      ]
     },
     "execution_count": 4,
     "metadata": {},
     "output_type": "execute_result"
    }
   ],
   "source": [
    "# Load the training data\n",
    "train = pd.read_csv(\"../input/30-days-of-ml/train.csv\")\n",
    "test = pd.read_csv(\"../input/30-days-of-ml/test.csv\")\n",
    "\n",
    "# Preview the data\n",
    "train.head()"
   ]
  },
  {
   "cell_type": "code",
   "execution_count": 5,
   "id": "6fb14463",
   "metadata": {
    "execution": {
     "iopub.execute_input": "2021-08-23T09:44:25.872512Z",
     "iopub.status.busy": "2021-08-23T09:44:25.849622Z",
     "iopub.status.idle": "2021-08-23T09:44:26.032686Z",
     "shell.execute_reply": "2021-08-23T09:44:26.032156Z"
    },
    "papermill": {
     "duration": 0.236598,
     "end_time": "2021-08-23T09:44:26.032818",
     "exception": false,
     "start_time": "2021-08-23T09:44:25.796220",
     "status": "completed"
    },
    "tags": []
   },
   "outputs": [
    {
     "data": {
      "text/html": [
       "<div>\n",
       "<style scoped>\n",
       "    .dataframe tbody tr th:only-of-type {\n",
       "        vertical-align: middle;\n",
       "    }\n",
       "\n",
       "    .dataframe tbody tr th {\n",
       "        vertical-align: top;\n",
       "    }\n",
       "\n",
       "    .dataframe thead th {\n",
       "        text-align: right;\n",
       "    }\n",
       "</style>\n",
       "<table border=\"1\" class=\"dataframe\">\n",
       "  <thead>\n",
       "    <tr style=\"text-align: right;\">\n",
       "      <th></th>\n",
       "      <th>id</th>\n",
       "      <th>cat0</th>\n",
       "      <th>cat1</th>\n",
       "      <th>cat5</th>\n",
       "      <th>cat7</th>\n",
       "      <th>cat8</th>\n",
       "      <th>cat9</th>\n",
       "      <th>cont0</th>\n",
       "      <th>cont1</th>\n",
       "      <th>cont2</th>\n",
       "      <th>...</th>\n",
       "      <th>cont5</th>\n",
       "      <th>cont6</th>\n",
       "      <th>cont7</th>\n",
       "      <th>cont8</th>\n",
       "      <th>cont9</th>\n",
       "      <th>cont10</th>\n",
       "      <th>cont11</th>\n",
       "      <th>cont12</th>\n",
       "      <th>cont13</th>\n",
       "      <th>target</th>\n",
       "    </tr>\n",
       "  </thead>\n",
       "  <tbody>\n",
       "    <tr>\n",
       "      <th>0</th>\n",
       "      <td>1</td>\n",
       "      <td>B</td>\n",
       "      <td>B</td>\n",
       "      <td>B</td>\n",
       "      <td>E</td>\n",
       "      <td>C</td>\n",
       "      <td>N</td>\n",
       "      <td>0.201470</td>\n",
       "      <td>-0.014822</td>\n",
       "      <td>0.669699</td>\n",
       "      <td>...</td>\n",
       "      <td>0.400361</td>\n",
       "      <td>0.160266</td>\n",
       "      <td>0.310921</td>\n",
       "      <td>0.389470</td>\n",
       "      <td>0.267559</td>\n",
       "      <td>0.237281</td>\n",
       "      <td>0.377873</td>\n",
       "      <td>0.322401</td>\n",
       "      <td>0.869850</td>\n",
       "      <td>8.113634</td>\n",
       "    </tr>\n",
       "    <tr>\n",
       "      <th>1</th>\n",
       "      <td>2</td>\n",
       "      <td>B</td>\n",
       "      <td>B</td>\n",
       "      <td>D</td>\n",
       "      <td>F</td>\n",
       "      <td>A</td>\n",
       "      <td>O</td>\n",
       "      <td>0.743068</td>\n",
       "      <td>0.367411</td>\n",
       "      <td>1.021605</td>\n",
       "      <td>...</td>\n",
       "      <td>0.533087</td>\n",
       "      <td>0.558922</td>\n",
       "      <td>0.516294</td>\n",
       "      <td>0.594928</td>\n",
       "      <td>0.341439</td>\n",
       "      <td>0.906013</td>\n",
       "      <td>0.921701</td>\n",
       "      <td>0.261975</td>\n",
       "      <td>0.465083</td>\n",
       "      <td>8.481233</td>\n",
       "    </tr>\n",
       "    <tr>\n",
       "      <th>2</th>\n",
       "      <td>3</td>\n",
       "      <td>A</td>\n",
       "      <td>A</td>\n",
       "      <td>D</td>\n",
       "      <td>D</td>\n",
       "      <td>A</td>\n",
       "      <td>F</td>\n",
       "      <td>0.742708</td>\n",
       "      <td>0.310383</td>\n",
       "      <td>-0.012673</td>\n",
       "      <td>...</td>\n",
       "      <td>0.650609</td>\n",
       "      <td>0.375348</td>\n",
       "      <td>0.902567</td>\n",
       "      <td>0.555205</td>\n",
       "      <td>0.843531</td>\n",
       "      <td>0.748809</td>\n",
       "      <td>0.620126</td>\n",
       "      <td>0.541474</td>\n",
       "      <td>0.763846</td>\n",
       "      <td>8.364351</td>\n",
       "    </tr>\n",
       "    <tr>\n",
       "      <th>3</th>\n",
       "      <td>4</td>\n",
       "      <td>B</td>\n",
       "      <td>B</td>\n",
       "      <td>D</td>\n",
       "      <td>E</td>\n",
       "      <td>C</td>\n",
       "      <td>K</td>\n",
       "      <td>0.429551</td>\n",
       "      <td>0.620998</td>\n",
       "      <td>0.577942</td>\n",
       "      <td>...</td>\n",
       "      <td>0.668980</td>\n",
       "      <td>0.239061</td>\n",
       "      <td>0.732948</td>\n",
       "      <td>0.679618</td>\n",
       "      <td>0.574844</td>\n",
       "      <td>0.346010</td>\n",
       "      <td>0.714610</td>\n",
       "      <td>0.540150</td>\n",
       "      <td>0.280682</td>\n",
       "      <td>8.049253</td>\n",
       "    </tr>\n",
       "    <tr>\n",
       "      <th>4</th>\n",
       "      <td>6</td>\n",
       "      <td>A</td>\n",
       "      <td>A</td>\n",
       "      <td>D</td>\n",
       "      <td>E</td>\n",
       "      <td>A</td>\n",
       "      <td>N</td>\n",
       "      <td>1.058291</td>\n",
       "      <td>0.367492</td>\n",
       "      <td>-0.052389</td>\n",
       "      <td>...</td>\n",
       "      <td>0.686964</td>\n",
       "      <td>0.420667</td>\n",
       "      <td>0.648182</td>\n",
       "      <td>0.684501</td>\n",
       "      <td>0.956692</td>\n",
       "      <td>1.000773</td>\n",
       "      <td>0.776742</td>\n",
       "      <td>0.625849</td>\n",
       "      <td>0.250823</td>\n",
       "      <td>7.972260</td>\n",
       "    </tr>\n",
       "  </tbody>\n",
       "</table>\n",
       "<p>5 rows × 22 columns</p>\n",
       "</div>"
      ],
      "text/plain": [
       "   id cat0 cat1 cat5 cat7 cat8 cat9     cont0     cont1     cont2  ...  \\\n",
       "0   1    B    B    B    E    C    N  0.201470 -0.014822  0.669699  ...   \n",
       "1   2    B    B    D    F    A    O  0.743068  0.367411  1.021605  ...   \n",
       "2   3    A    A    D    D    A    F  0.742708  0.310383 -0.012673  ...   \n",
       "3   4    B    B    D    E    C    K  0.429551  0.620998  0.577942  ...   \n",
       "4   6    A    A    D    E    A    N  1.058291  0.367492 -0.052389  ...   \n",
       "\n",
       "      cont5     cont6     cont7     cont8     cont9    cont10    cont11  \\\n",
       "0  0.400361  0.160266  0.310921  0.389470  0.267559  0.237281  0.377873   \n",
       "1  0.533087  0.558922  0.516294  0.594928  0.341439  0.906013  0.921701   \n",
       "2  0.650609  0.375348  0.902567  0.555205  0.843531  0.748809  0.620126   \n",
       "3  0.668980  0.239061  0.732948  0.679618  0.574844  0.346010  0.714610   \n",
       "4  0.686964  0.420667  0.648182  0.684501  0.956692  1.000773  0.776742   \n",
       "\n",
       "     cont12    cont13    target  \n",
       "0  0.322401  0.869850  8.113634  \n",
       "1  0.261975  0.465083  8.481233  \n",
       "2  0.541474  0.763846  8.364351  \n",
       "3  0.540150  0.280682  8.049253  \n",
       "4  0.625849  0.250823  7.972260  \n",
       "\n",
       "[5 rows x 22 columns]"
      ]
     },
     "execution_count": 5,
     "metadata": {},
     "output_type": "execute_result"
    }
   ],
   "source": [
    "# Low MI scores\n",
    "for pp in [\"cat2\",\"cat3\",\"cat4\",\"cat6\"]:\n",
    "    train.pop(pp)\n",
    "    test.pop(pp)\n",
    "train.head()"
   ]
  },
  {
   "cell_type": "code",
   "execution_count": 6,
   "id": "6ef89406",
   "metadata": {
    "execution": {
     "iopub.execute_input": "2021-08-23T09:44:26.065287Z",
     "iopub.status.busy": "2021-08-23T09:44:26.064515Z",
     "iopub.status.idle": "2021-08-23T09:44:26.110590Z",
     "shell.execute_reply": "2021-08-23T09:44:26.110012Z",
     "shell.execute_reply.started": "2021-08-20T04:03:23.520473Z"
    },
    "papermill": {
     "duration": 0.065064,
     "end_time": "2021-08-23T09:44:26.110732",
     "exception": false,
     "start_time": "2021-08-23T09:44:26.045668",
     "status": "completed"
    },
    "tags": []
   },
   "outputs": [
    {
     "data": {
      "text/html": [
       "<div>\n",
       "<style scoped>\n",
       "    .dataframe tbody tr th:only-of-type {\n",
       "        vertical-align: middle;\n",
       "    }\n",
       "\n",
       "    .dataframe tbody tr th {\n",
       "        vertical-align: top;\n",
       "    }\n",
       "\n",
       "    .dataframe thead th {\n",
       "        text-align: right;\n",
       "    }\n",
       "</style>\n",
       "<table border=\"1\" class=\"dataframe\">\n",
       "  <thead>\n",
       "    <tr style=\"text-align: right;\">\n",
       "      <th></th>\n",
       "      <th>cat0</th>\n",
       "      <th>cat1</th>\n",
       "      <th>cat5</th>\n",
       "      <th>cat7</th>\n",
       "      <th>cat8</th>\n",
       "      <th>cat9</th>\n",
       "      <th>cont0</th>\n",
       "      <th>cont1</th>\n",
       "      <th>cont2</th>\n",
       "      <th>cont3</th>\n",
       "      <th>cont4</th>\n",
       "      <th>cont5</th>\n",
       "      <th>cont6</th>\n",
       "      <th>cont7</th>\n",
       "      <th>cont8</th>\n",
       "      <th>cont9</th>\n",
       "      <th>cont10</th>\n",
       "      <th>cont11</th>\n",
       "      <th>cont12</th>\n",
       "      <th>cont13</th>\n",
       "    </tr>\n",
       "  </thead>\n",
       "  <tbody>\n",
       "    <tr>\n",
       "      <th>0</th>\n",
       "      <td>B</td>\n",
       "      <td>B</td>\n",
       "      <td>B</td>\n",
       "      <td>E</td>\n",
       "      <td>C</td>\n",
       "      <td>N</td>\n",
       "      <td>0.201470</td>\n",
       "      <td>-0.014822</td>\n",
       "      <td>0.669699</td>\n",
       "      <td>0.136278</td>\n",
       "      <td>0.610706</td>\n",
       "      <td>0.400361</td>\n",
       "      <td>0.160266</td>\n",
       "      <td>0.310921</td>\n",
       "      <td>0.389470</td>\n",
       "      <td>0.267559</td>\n",
       "      <td>0.237281</td>\n",
       "      <td>0.377873</td>\n",
       "      <td>0.322401</td>\n",
       "      <td>0.869850</td>\n",
       "    </tr>\n",
       "    <tr>\n",
       "      <th>1</th>\n",
       "      <td>B</td>\n",
       "      <td>B</td>\n",
       "      <td>D</td>\n",
       "      <td>F</td>\n",
       "      <td>A</td>\n",
       "      <td>O</td>\n",
       "      <td>0.743068</td>\n",
       "      <td>0.367411</td>\n",
       "      <td>1.021605</td>\n",
       "      <td>0.365798</td>\n",
       "      <td>0.276853</td>\n",
       "      <td>0.533087</td>\n",
       "      <td>0.558922</td>\n",
       "      <td>0.516294</td>\n",
       "      <td>0.594928</td>\n",
       "      <td>0.341439</td>\n",
       "      <td>0.906013</td>\n",
       "      <td>0.921701</td>\n",
       "      <td>0.261975</td>\n",
       "      <td>0.465083</td>\n",
       "    </tr>\n",
       "    <tr>\n",
       "      <th>2</th>\n",
       "      <td>A</td>\n",
       "      <td>A</td>\n",
       "      <td>D</td>\n",
       "      <td>D</td>\n",
       "      <td>A</td>\n",
       "      <td>F</td>\n",
       "      <td>0.742708</td>\n",
       "      <td>0.310383</td>\n",
       "      <td>-0.012673</td>\n",
       "      <td>0.576957</td>\n",
       "      <td>0.285074</td>\n",
       "      <td>0.650609</td>\n",
       "      <td>0.375348</td>\n",
       "      <td>0.902567</td>\n",
       "      <td>0.555205</td>\n",
       "      <td>0.843531</td>\n",
       "      <td>0.748809</td>\n",
       "      <td>0.620126</td>\n",
       "      <td>0.541474</td>\n",
       "      <td>0.763846</td>\n",
       "    </tr>\n",
       "    <tr>\n",
       "      <th>3</th>\n",
       "      <td>B</td>\n",
       "      <td>B</td>\n",
       "      <td>D</td>\n",
       "      <td>E</td>\n",
       "      <td>C</td>\n",
       "      <td>K</td>\n",
       "      <td>0.429551</td>\n",
       "      <td>0.620998</td>\n",
       "      <td>0.577942</td>\n",
       "      <td>0.280610</td>\n",
       "      <td>0.284667</td>\n",
       "      <td>0.668980</td>\n",
       "      <td>0.239061</td>\n",
       "      <td>0.732948</td>\n",
       "      <td>0.679618</td>\n",
       "      <td>0.574844</td>\n",
       "      <td>0.346010</td>\n",
       "      <td>0.714610</td>\n",
       "      <td>0.540150</td>\n",
       "      <td>0.280682</td>\n",
       "    </tr>\n",
       "    <tr>\n",
       "      <th>4</th>\n",
       "      <td>A</td>\n",
       "      <td>A</td>\n",
       "      <td>D</td>\n",
       "      <td>E</td>\n",
       "      <td>A</td>\n",
       "      <td>N</td>\n",
       "      <td>1.058291</td>\n",
       "      <td>0.367492</td>\n",
       "      <td>-0.052389</td>\n",
       "      <td>0.232407</td>\n",
       "      <td>0.287595</td>\n",
       "      <td>0.686964</td>\n",
       "      <td>0.420667</td>\n",
       "      <td>0.648182</td>\n",
       "      <td>0.684501</td>\n",
       "      <td>0.956692</td>\n",
       "      <td>1.000773</td>\n",
       "      <td>0.776742</td>\n",
       "      <td>0.625849</td>\n",
       "      <td>0.250823</td>\n",
       "    </tr>\n",
       "  </tbody>\n",
       "</table>\n",
       "</div>"
      ],
      "text/plain": [
       "  cat0 cat1 cat5 cat7 cat8 cat9     cont0     cont1     cont2     cont3  \\\n",
       "0    B    B    B    E    C    N  0.201470 -0.014822  0.669699  0.136278   \n",
       "1    B    B    D    F    A    O  0.743068  0.367411  1.021605  0.365798   \n",
       "2    A    A    D    D    A    F  0.742708  0.310383 -0.012673  0.576957   \n",
       "3    B    B    D    E    C    K  0.429551  0.620998  0.577942  0.280610   \n",
       "4    A    A    D    E    A    N  1.058291  0.367492 -0.052389  0.232407   \n",
       "\n",
       "      cont4     cont5     cont6     cont7     cont8     cont9    cont10  \\\n",
       "0  0.610706  0.400361  0.160266  0.310921  0.389470  0.267559  0.237281   \n",
       "1  0.276853  0.533087  0.558922  0.516294  0.594928  0.341439  0.906013   \n",
       "2  0.285074  0.650609  0.375348  0.902567  0.555205  0.843531  0.748809   \n",
       "3  0.284667  0.668980  0.239061  0.732948  0.679618  0.574844  0.346010   \n",
       "4  0.287595  0.686964  0.420667  0.648182  0.684501  0.956692  1.000773   \n",
       "\n",
       "     cont11    cont12    cont13  \n",
       "0  0.377873  0.322401  0.869850  \n",
       "1  0.921701  0.261975  0.465083  \n",
       "2  0.620126  0.541474  0.763846  \n",
       "3  0.714610  0.540150  0.280682  \n",
       "4  0.776742  0.625849  0.250823  "
      ]
     },
     "execution_count": 6,
     "metadata": {},
     "output_type": "execute_result"
    }
   ],
   "source": [
    "# Separate target from features\n",
    "y = train['target']\n",
    "features = train.drop(['id','target'], axis=1)\n",
    "\n",
    "# Preview features\n",
    "features.head()"
   ]
  },
  {
   "cell_type": "markdown",
   "id": "0afebd48",
   "metadata": {
    "papermill": {
     "duration": 0.012944,
     "end_time": "2021-08-23T09:44:26.137032",
     "exception": false,
     "start_time": "2021-08-23T09:44:26.124088",
     "status": "completed"
    },
    "tags": []
   },
   "source": [
    "# Preprocessing"
   ]
  },
  {
   "cell_type": "code",
   "execution_count": 7,
   "id": "faeb8ca3",
   "metadata": {
    "execution": {
     "iopub.execute_input": "2021-08-23T09:44:26.169223Z",
     "iopub.status.busy": "2021-08-23T09:44:26.168299Z",
     "iopub.status.idle": "2021-08-23T09:44:26.172476Z",
     "shell.execute_reply": "2021-08-23T09:44:26.171876Z",
     "shell.execute_reply.started": "2021-08-20T04:03:23.6336Z"
    },
    "papermill": {
     "duration": 0.022152,
     "end_time": "2021-08-23T09:44:26.172617",
     "exception": false,
     "start_time": "2021-08-23T09:44:26.150465",
     "status": "completed"
    },
    "tags": []
   },
   "outputs": [
    {
     "data": {
      "text/plain": [
       "\"\\n# List of categorical columns\\nobject_cols = [col for col in features.columns if 'cat' in col]\\n\\n# ordinal-encode categorical columns\\nX = features.copy()\\nX_test = test.drop(['id'], axis=1).copy()\\nordinal_encoder = OrdinalEncoder()\\nX[object_cols] = ordinal_encoder.fit_transform(features[object_cols])\\nX_test[object_cols] = ordinal_encoder.transform(test[object_cols])\\n\\n# Preview the ordinal-encoded features\\nX.head()\\n\""
      ]
     },
     "execution_count": 7,
     "metadata": {},
     "output_type": "execute_result"
    }
   ],
   "source": [
    "'''\n",
    "# List of categorical columns\n",
    "object_cols = [col for col in features.columns if 'cat' in col]\n",
    "\n",
    "# ordinal-encode categorical columns\n",
    "X = features.copy()\n",
    "X_test = test.drop(['id'], axis=1).copy()\n",
    "ordinal_encoder = OrdinalEncoder()\n",
    "X[object_cols] = ordinal_encoder.fit_transform(features[object_cols])\n",
    "X_test[object_cols] = ordinal_encoder.transform(test[object_cols])\n",
    "\n",
    "# Preview the ordinal-encoded features\n",
    "X.head()\n",
    "'''"
   ]
  },
  {
   "cell_type": "code",
   "execution_count": 8,
   "id": "c199fadb",
   "metadata": {
    "execution": {
     "iopub.execute_input": "2021-08-23T09:44:26.207160Z",
     "iopub.status.busy": "2021-08-23T09:44:26.206495Z",
     "iopub.status.idle": "2021-08-23T09:44:27.732501Z",
     "shell.execute_reply": "2021-08-23T09:44:27.731890Z"
    },
    "papermill": {
     "duration": 1.546438,
     "end_time": "2021-08-23T09:44:27.732646",
     "exception": false,
     "start_time": "2021-08-23T09:44:26.186208",
     "status": "completed"
    },
    "tags": []
   },
   "outputs": [
    {
     "data": {
      "text/html": [
       "<div>\n",
       "<style scoped>\n",
       "    .dataframe tbody tr th:only-of-type {\n",
       "        vertical-align: middle;\n",
       "    }\n",
       "\n",
       "    .dataframe tbody tr th {\n",
       "        vertical-align: top;\n",
       "    }\n",
       "\n",
       "    .dataframe thead th {\n",
       "        text-align: right;\n",
       "    }\n",
       "</style>\n",
       "<table border=\"1\" class=\"dataframe\">\n",
       "  <thead>\n",
       "    <tr style=\"text-align: right;\">\n",
       "      <th></th>\n",
       "      <th>cont0</th>\n",
       "      <th>cont1</th>\n",
       "      <th>cont2</th>\n",
       "      <th>cont3</th>\n",
       "      <th>cont4</th>\n",
       "      <th>cont5</th>\n",
       "      <th>cont6</th>\n",
       "      <th>cont7</th>\n",
       "      <th>cont8</th>\n",
       "      <th>cont9</th>\n",
       "      <th>...</th>\n",
       "      <th>ohe_28</th>\n",
       "      <th>ohe_29</th>\n",
       "      <th>ohe_30</th>\n",
       "      <th>ohe_31</th>\n",
       "      <th>ohe_32</th>\n",
       "      <th>ohe_33</th>\n",
       "      <th>ohe_34</th>\n",
       "      <th>ohe_35</th>\n",
       "      <th>ohe_36</th>\n",
       "      <th>ohe_37</th>\n",
       "    </tr>\n",
       "  </thead>\n",
       "  <tbody>\n",
       "    <tr>\n",
       "      <th>0</th>\n",
       "      <td>0.201470</td>\n",
       "      <td>-0.014822</td>\n",
       "      <td>0.669699</td>\n",
       "      <td>0.136278</td>\n",
       "      <td>0.610706</td>\n",
       "      <td>0.400361</td>\n",
       "      <td>0.160266</td>\n",
       "      <td>0.310921</td>\n",
       "      <td>0.389470</td>\n",
       "      <td>0.267559</td>\n",
       "      <td>...</td>\n",
       "      <td>0.0</td>\n",
       "      <td>0.0</td>\n",
       "      <td>0.0</td>\n",
       "      <td>0.0</td>\n",
       "      <td>0.0</td>\n",
       "      <td>0.0</td>\n",
       "      <td>0.0</td>\n",
       "      <td>0.0</td>\n",
       "      <td>1.0</td>\n",
       "      <td>0.0</td>\n",
       "    </tr>\n",
       "    <tr>\n",
       "      <th>1</th>\n",
       "      <td>0.743068</td>\n",
       "      <td>0.367411</td>\n",
       "      <td>1.021605</td>\n",
       "      <td>0.365798</td>\n",
       "      <td>0.276853</td>\n",
       "      <td>0.533087</td>\n",
       "      <td>0.558922</td>\n",
       "      <td>0.516294</td>\n",
       "      <td>0.594928</td>\n",
       "      <td>0.341439</td>\n",
       "      <td>...</td>\n",
       "      <td>0.0</td>\n",
       "      <td>0.0</td>\n",
       "      <td>0.0</td>\n",
       "      <td>0.0</td>\n",
       "      <td>0.0</td>\n",
       "      <td>0.0</td>\n",
       "      <td>0.0</td>\n",
       "      <td>0.0</td>\n",
       "      <td>0.0</td>\n",
       "      <td>1.0</td>\n",
       "    </tr>\n",
       "    <tr>\n",
       "      <th>2</th>\n",
       "      <td>0.742708</td>\n",
       "      <td>0.310383</td>\n",
       "      <td>-0.012673</td>\n",
       "      <td>0.576957</td>\n",
       "      <td>0.285074</td>\n",
       "      <td>0.650609</td>\n",
       "      <td>0.375348</td>\n",
       "      <td>0.902567</td>\n",
       "      <td>0.555205</td>\n",
       "      <td>0.843531</td>\n",
       "      <td>...</td>\n",
       "      <td>1.0</td>\n",
       "      <td>0.0</td>\n",
       "      <td>0.0</td>\n",
       "      <td>0.0</td>\n",
       "      <td>0.0</td>\n",
       "      <td>0.0</td>\n",
       "      <td>0.0</td>\n",
       "      <td>0.0</td>\n",
       "      <td>0.0</td>\n",
       "      <td>0.0</td>\n",
       "    </tr>\n",
       "    <tr>\n",
       "      <th>3</th>\n",
       "      <td>0.429551</td>\n",
       "      <td>0.620998</td>\n",
       "      <td>0.577942</td>\n",
       "      <td>0.280610</td>\n",
       "      <td>0.284667</td>\n",
       "      <td>0.668980</td>\n",
       "      <td>0.239061</td>\n",
       "      <td>0.732948</td>\n",
       "      <td>0.679618</td>\n",
       "      <td>0.574844</td>\n",
       "      <td>...</td>\n",
       "      <td>0.0</td>\n",
       "      <td>0.0</td>\n",
       "      <td>0.0</td>\n",
       "      <td>0.0</td>\n",
       "      <td>0.0</td>\n",
       "      <td>1.0</td>\n",
       "      <td>0.0</td>\n",
       "      <td>0.0</td>\n",
       "      <td>0.0</td>\n",
       "      <td>0.0</td>\n",
       "    </tr>\n",
       "    <tr>\n",
       "      <th>4</th>\n",
       "      <td>1.058291</td>\n",
       "      <td>0.367492</td>\n",
       "      <td>-0.052389</td>\n",
       "      <td>0.232407</td>\n",
       "      <td>0.287595</td>\n",
       "      <td>0.686964</td>\n",
       "      <td>0.420667</td>\n",
       "      <td>0.648182</td>\n",
       "      <td>0.684501</td>\n",
       "      <td>0.956692</td>\n",
       "      <td>...</td>\n",
       "      <td>0.0</td>\n",
       "      <td>0.0</td>\n",
       "      <td>0.0</td>\n",
       "      <td>0.0</td>\n",
       "      <td>0.0</td>\n",
       "      <td>0.0</td>\n",
       "      <td>0.0</td>\n",
       "      <td>0.0</td>\n",
       "      <td>1.0</td>\n",
       "      <td>0.0</td>\n",
       "    </tr>\n",
       "  </tbody>\n",
       "</table>\n",
       "<p>5 rows × 52 columns</p>\n",
       "</div>"
      ],
      "text/plain": [
       "      cont0     cont1     cont2     cont3     cont4     cont5     cont6  \\\n",
       "0  0.201470 -0.014822  0.669699  0.136278  0.610706  0.400361  0.160266   \n",
       "1  0.743068  0.367411  1.021605  0.365798  0.276853  0.533087  0.558922   \n",
       "2  0.742708  0.310383 -0.012673  0.576957  0.285074  0.650609  0.375348   \n",
       "3  0.429551  0.620998  0.577942  0.280610  0.284667  0.668980  0.239061   \n",
       "4  1.058291  0.367492 -0.052389  0.232407  0.287595  0.686964  0.420667   \n",
       "\n",
       "      cont7     cont8     cont9  ...  ohe_28  ohe_29  ohe_30  ohe_31  ohe_32  \\\n",
       "0  0.310921  0.389470  0.267559  ...     0.0     0.0     0.0     0.0     0.0   \n",
       "1  0.516294  0.594928  0.341439  ...     0.0     0.0     0.0     0.0     0.0   \n",
       "2  0.902567  0.555205  0.843531  ...     1.0     0.0     0.0     0.0     0.0   \n",
       "3  0.732948  0.679618  0.574844  ...     0.0     0.0     0.0     0.0     0.0   \n",
       "4  0.648182  0.684501  0.956692  ...     0.0     0.0     0.0     0.0     0.0   \n",
       "\n",
       "   ohe_33  ohe_34  ohe_35  ohe_36  ohe_37  \n",
       "0     0.0     0.0     0.0     1.0     0.0  \n",
       "1     0.0     0.0     0.0     0.0     1.0  \n",
       "2     0.0     0.0     0.0     0.0     0.0  \n",
       "3     1.0     0.0     0.0     0.0     0.0  \n",
       "4     0.0     0.0     0.0     1.0     0.0  \n",
       "\n",
       "[5 rows x 52 columns]"
      ]
     },
     "execution_count": 8,
     "metadata": {},
     "output_type": "execute_result"
    }
   ],
   "source": [
    "\n",
    "# List of categorical columns\n",
    "object_cols = [col for col in features.columns if 'cat' in col]\n",
    "\n",
    "# one-hot-encode categorical columns\n",
    "X = features.copy()\n",
    "X_test = test.drop(['id'], axis=1).copy()\n",
    "\n",
    "oh_encoder = OneHotEncoder(sparse=False, handle_unknown=\"ignore\")\n",
    "X_ohe = oh_encoder.fit_transform(features[object_cols])\n",
    "X_test_ohe = oh_encoder.transform(test[object_cols])\n",
    "\n",
    "X_ohe = pd.DataFrame(X_ohe, columns=[f\"ohe_{i}\" for i in range(X_ohe.shape[1])])\n",
    "X_test_ohe = pd.DataFrame(X_test_ohe, columns=[f\"ohe_{i}\" for i in range(X_test_ohe.shape[1])])\n",
    "\n",
    "X = pd.concat([X, X_ohe], axis=1)\n",
    "X_test = pd.concat([X_test, X_test_ohe], axis=1)\n",
    "X = X.drop(object_cols, axis=1)\n",
    "X_test = X_test.drop(object_cols, axis=1)\n",
    "    \n",
    "# Preview the one-hot-encoded features\n",
    "X.head()\n"
   ]
  },
  {
   "cell_type": "code",
   "execution_count": 9,
   "id": "88c6d17e",
   "metadata": {
    "execution": {
     "iopub.execute_input": "2021-08-23T09:44:27.781172Z",
     "iopub.status.busy": "2021-08-23T09:44:27.780506Z",
     "iopub.status.idle": "2021-08-23T09:44:27.922047Z",
     "shell.execute_reply": "2021-08-23T09:44:27.921457Z",
     "shell.execute_reply.started": "2021-08-20T04:03:27.921586Z"
    },
    "papermill": {
     "duration": 0.175375,
     "end_time": "2021-08-23T09:44:27.922197",
     "exception": false,
     "start_time": "2021-08-23T09:44:27.746822",
     "status": "completed"
    },
    "tags": []
   },
   "outputs": [],
   "source": [
    "scale_features = [col for col in features.columns if 'cont' in col]\n",
    "\n",
    "ss = StandardScaler()\n",
    "X[scale_features] = ss.fit_transform(features[scale_features])\n",
    "X_test[scale_features] = ss.transform(test[scale_features])"
   ]
  },
  {
   "cell_type": "code",
   "execution_count": 10,
   "id": "b30a0274",
   "metadata": {
    "execution": {
     "iopub.execute_input": "2021-08-23T09:44:27.958506Z",
     "iopub.status.busy": "2021-08-23T09:44:27.957865Z",
     "iopub.status.idle": "2021-08-23T09:44:27.960927Z",
     "shell.execute_reply": "2021-08-23T09:44:27.960413Z",
     "shell.execute_reply.started": "2021-08-20T04:03:29.923859Z"
    },
    "papermill": {
     "duration": 0.024384,
     "end_time": "2021-08-23T09:44:27.961063",
     "exception": false,
     "start_time": "2021-08-23T09:44:27.936679",
     "status": "completed"
    },
    "tags": []
   },
   "outputs": [],
   "source": [
    "# Swap noise\n",
    "\n",
    "# Random\n",
    "def apply_noise_rn(df, p=.75):\n",
    "    should_not_swap = np.random.binomial(1, p, df.shape)\n",
    "    corrupted_df = df.where(should_not_swap == 1, np.random.permutation(df))\n",
    "    return corrupted_df\n",
    "\n",
    "# Row-wise\n",
    "def apply_noise_row(df, p=.75):\n",
    "    should_not_swap = np.zeros(df.shape)\n",
    "    for i in range(df.shape[0]):\n",
    "        for j in np.random.choice(df.shape[1],int(p*df.shape[1]),replace=False):\n",
    "            should_not_swap[i,j]=1 \n",
    "    corrupted_df = df.where(should_not_swap == 1, np.random.permutation(df))\n",
    "    return corrupted_df"
   ]
  },
  {
   "cell_type": "markdown",
   "id": "626389cb",
   "metadata": {
    "papermill": {
     "duration": 0.013788,
     "end_time": "2021-08-23T09:44:27.988981",
     "exception": false,
     "start_time": "2021-08-23T09:44:27.975193",
     "status": "completed"
    },
    "tags": []
   },
   "source": [
    "# Pseudo Label"
   ]
  },
  {
   "cell_type": "code",
   "execution_count": 11,
   "id": "39faccac",
   "metadata": {
    "execution": {
     "iopub.execute_input": "2021-08-23T09:44:28.022504Z",
     "iopub.status.busy": "2021-08-23T09:44:28.021792Z",
     "iopub.status.idle": "2021-08-23T09:44:28.514422Z",
     "shell.execute_reply": "2021-08-23T09:44:28.514855Z",
     "shell.execute_reply.started": "2021-08-20T04:03:29.934585Z"
    },
    "papermill": {
     "duration": 0.511845,
     "end_time": "2021-08-23T09:44:28.515055",
     "exception": false,
     "start_time": "2021-08-23T09:44:28.003210",
     "status": "completed"
    },
    "tags": []
   },
   "outputs": [],
   "source": [
    "pseudo = pd.read_csv(\"../input/30-days-pseudo/submission.csv\")[target]\n",
    "train_pseudo = pd.concat([X, y], axis=1)\n",
    "test_pseudo = pd.concat([X_test, pseudo], axis=1)\n",
    "all_pseudo = pd.concat([train_pseudo, test_pseudo]).reset_index(drop=True)"
   ]
  },
  {
   "cell_type": "markdown",
   "id": "a5c5c1c7",
   "metadata": {
    "papermill": {
     "duration": 0.013946,
     "end_time": "2021-08-23T09:44:28.543285",
     "exception": false,
     "start_time": "2021-08-23T09:44:28.529339",
     "status": "completed"
    },
    "tags": []
   },
   "source": [
    "# Optuna"
   ]
  },
  {
   "cell_type": "code",
   "execution_count": 12,
   "id": "7d677828",
   "metadata": {
    "execution": {
     "iopub.execute_input": "2021-08-23T09:44:28.575522Z",
     "iopub.status.busy": "2021-08-23T09:44:28.574603Z",
     "iopub.status.idle": "2021-08-23T09:44:36.779809Z",
     "shell.execute_reply": "2021-08-23T09:44:36.779190Z",
     "shell.execute_reply.started": "2021-08-20T04:03:30.323708Z"
    },
    "papermill": {
     "duration": 8.222096,
     "end_time": "2021-08-23T09:44:36.779962",
     "exception": false,
     "start_time": "2021-08-23T09:44:28.557866",
     "status": "completed"
    },
    "tags": []
   },
   "outputs": [
    {
     "name": "stdout",
     "output_type": "stream",
     "text": [
      "\u001b[33mWARNING: Running pip as root will break packages and permissions. You should install packages reliably by using venv: https://pip.pypa.io/warnings/venv\u001b[0m\r\n"
     ]
    }
   ],
   "source": [
    "# Optuna for parameter search\n",
    "!pip install -q optuna\n",
    "\n",
    "import optuna\n",
    "import pickle"
   ]
  },
  {
   "cell_type": "code",
   "execution_count": 13,
   "id": "53349bab",
   "metadata": {
    "execution": {
     "iopub.execute_input": "2021-08-23T09:44:36.822658Z",
     "iopub.status.busy": "2021-08-23T09:44:36.821715Z",
     "iopub.status.idle": "2021-08-23T09:44:36.824841Z",
     "shell.execute_reply": "2021-08-23T09:44:36.824280Z",
     "shell.execute_reply.started": "2021-08-20T04:03:40.160094Z"
    },
    "papermill": {
     "duration": 0.030402,
     "end_time": "2021-08-23T09:44:36.825008",
     "exception": false,
     "start_time": "2021-08-23T09:44:36.794606",
     "status": "completed"
    },
    "tags": []
   },
   "outputs": [],
   "source": [
    "# for the fixed learning rate, use the opt n iterations and tune the tree hyperparameters\n",
    "def objective(trial, X=all_pseudo.iloc[:,:-1], y=all_pseudo[target]):\n",
    "  \"\"\"\n",
    "  \"\"\"\n",
    "  param_space = {\n",
    "               'objective': 'reg:squarederror',\n",
    "               'learning_rate':trial.suggest_uniform('learning_rate', 7e-2, 1.2e-1),\n",
    "               'n_estimators':N_ESTIMATORS,\n",
    "               'subsample': trial.suggest_uniform('subsample', 0.75, 1.0),\n",
    "              'colsample_bytree':trial.suggest_uniform('colsample_bytree', 0.07, 0.27),\n",
    "              'max_depth':trial.suggest_int('max_depth', 2, 4),\n",
    "              'lambda':trial.suggest_uniform('lambda', 18.3, 38.3),\n",
    "              'alpha':trial.suggest_uniform('alpha', 4.72, 12.72),\n",
    "           'min_child_weight':trial.suggest_uniform('min_child_weight', 178, 288),\n",
    "           'importance_type': 'total_gain',\n",
    "              'booster': 'gbtree',\n",
    "            'tree_method': 'hist'\n",
    "                }\n",
    "            \n",
    "  seed_list=[SEED, SEED+1]\n",
    "  #kf = KFold(n_splits=N_SPLITS, shuffle=True, random_state=CVSEED)\n",
    "  xgb_oof = np.zeros(train.shape[0])\n",
    "  #lgb_pred = np.zeros(test.shape[0])\n",
    "  X_tr, X_va, y_tr, y_va = train_test_split(X,y,test_size=.2,random_state=CVSEED)\n",
    "  trn_idx = X_tr.index\n",
    "  val_idx = X_va.index\n",
    "  \n",
    "  #for (trn_idx, val_idx) in enumerate(kf.split(X, y)):\n",
    "  #print(f\"===== fold {fold} =====\")\n",
    "  oof_idx = np.array([idx for idx in val_idx if idx < train.shape[0]])\n",
    "  preds_idx = np.array([idx for idx in val_idx if idx >= train.shape[0]])\n",
    "\n",
    "  X_train, y_train = all_pseudo.iloc[trn_idx, :-1], all_pseudo[target].iloc[trn_idx]\n",
    "  #X_train = apply_noise_row(X_train)\n",
    "\n",
    "  X_valid, y_valid = all_pseudo.iloc[oof_idx, :-1], all_pseudo[target].iloc[oof_idx]\n",
    "  #X_test = all_pseudo[scale_features].iloc[preds_idx]\n",
    "  \n",
    "  #start = time.time()\n",
    "  for inseed in seed_list:\n",
    "    param_space['random_state'] = inseed\n",
    "\n",
    "    model = xgb.XGBRegressor(**param_space)\n",
    "    model.fit(\n",
    "        X_train, \n",
    "        y_train,\n",
    "        eval_set=[(X_valid, y_valid)],\n",
    "        eval_metric='rmse',\n",
    "        early_stopping_rounds=EARLY_STOPPING_ROUNDS,\n",
    "        verbose=VERBOSE,\n",
    "        \n",
    "    )\n",
    "\n",
    "\n",
    "    xgb_oof[oof_idx] += model.predict(X_valid) / len(seed_list)\n",
    "    #lgb_pred[preds_idx-train.shape[0]] += model.predict(X_test) / len(seed_list)\n",
    "\n",
    "  #elapsed = time.time() - start\n",
    "  rmse = mean_squared_error(y_valid, xgb_oof[oof_idx], squared=False)\n",
    "  #print(f\"fold {fold} - lgb rmse: {rmse:.6f}, elapsed time: {elapsed:.2f}sec\\n\")            \n",
    "  \n",
    "  #print(f\"oof lgb_rmse = {mean_squared_error(train[target], lgb_oof, squared=False)}\")\n",
    "\n",
    "  \n",
    "  return rmse"
   ]
  },
  {
   "cell_type": "code",
   "execution_count": 14,
   "id": "fddf609f",
   "metadata": {
    "execution": {
     "iopub.execute_input": "2021-08-23T09:44:36.857977Z",
     "iopub.status.busy": "2021-08-23T09:44:36.857385Z",
     "iopub.status.idle": "2021-08-23T12:45:54.179587Z",
     "shell.execute_reply": "2021-08-23T12:45:54.180118Z",
     "shell.execute_reply.started": "2021-08-20T04:03:40.176265Z"
    },
    "papermill": {
     "duration": 10877.340194,
     "end_time": "2021-08-23T12:45:54.180346",
     "exception": false,
     "start_time": "2021-08-23T09:44:36.840152",
     "status": "completed"
    },
    "tags": []
   },
   "outputs": [
    {
     "name": "stderr",
     "output_type": "stream",
     "text": [
      "\u001b[32m[I 2021-08-23 09:44:36,858]\u001b[0m A new study created in memory with name: no-name-894e8a4d-ba65-42f8-a873-8444c20a5b6a\u001b[0m\n"
     ]
    },
    {
     "name": "stdout",
     "output_type": "stream",
     "text": [
      "[0]\tvalidation_0-rmse:7.01020\n",
      "[1000]\tvalidation_0-rmse:0.71103\n",
      "[2000]\tvalidation_0-rmse:0.71017\n",
      "[2493]\tvalidation_0-rmse:0.71015\n",
      "[0]\tvalidation_0-rmse:7.01020\n",
      "[1000]\tvalidation_0-rmse:0.71103\n",
      "[2000]\tvalidation_0-rmse:0.71022\n",
      "[2605]\tvalidation_0-rmse:0.71014\n"
     ]
    },
    {
     "name": "stderr",
     "output_type": "stream",
     "text": [
      "\u001b[32m[I 2021-08-23 09:48:27,611]\u001b[0m Trial 0 finished with value: 0.7100121911152144 and parameters: {'learning_rate': 0.0994258697284431, 'subsample': 0.9950366660647135, 'colsample_bytree': 0.1086592552289673, 'max_depth': 4, 'lambda': 36.88228533821513, 'alpha': 7.990489736018922, 'min_child_weight': 199.9530569152943}. Best is trial 0 with value: 0.7100121911152144.\u001b[0m\n"
     ]
    },
    {
     "name": "stdout",
     "output_type": "stream",
     "text": [
      "[0]\tvalidation_0-rmse:7.21851\n",
      "[1000]\tvalidation_0-rmse:0.71414\n",
      "[2000]\tvalidation_0-rmse:0.71162\n",
      "[3000]\tvalidation_0-rmse:0.71076\n",
      "[4000]\tvalidation_0-rmse:0.71041\n",
      "[5000]\tvalidation_0-rmse:0.71024\n",
      "[6000]\tvalidation_0-rmse:0.71016\n",
      "[6704]\tvalidation_0-rmse:0.71013\n",
      "[0]\tvalidation_0-rmse:7.21848\n",
      "[1000]\tvalidation_0-rmse:0.71427\n",
      "[2000]\tvalidation_0-rmse:0.71166\n",
      "[3000]\tvalidation_0-rmse:0.71073\n",
      "[4000]\tvalidation_0-rmse:0.71034\n",
      "[5000]\tvalidation_0-rmse:0.71020\n",
      "[6000]\tvalidation_0-rmse:0.71011\n",
      "[6023]\tvalidation_0-rmse:0.71011\n"
     ]
    },
    {
     "name": "stderr",
     "output_type": "stream",
     "text": [
      "\u001b[32m[I 2021-08-23 09:57:34,222]\u001b[0m Trial 1 finished with value: 0.710069888709891 and parameters: {'learning_rate': 0.07237173142589468, 'subsample': 0.9413838250557869, 'colsample_bytree': 0.08903962245519154, 'max_depth': 3, 'lambda': 31.449025194115602, 'alpha': 11.128166982927937, 'min_child_weight': 221.69298384750596}. Best is trial 0 with value: 0.7100121911152144.\u001b[0m\n"
     ]
    },
    {
     "name": "stdout",
     "output_type": "stream",
     "text": [
      "[0]\tvalidation_0-rmse:7.01245\n",
      "[1000]\tvalidation_0-rmse:0.71344\n",
      "[2000]\tvalidation_0-rmse:0.71132\n",
      "[3000]\tvalidation_0-rmse:0.71050\n",
      "[4000]\tvalidation_0-rmse:0.71025\n",
      "[4789]\tvalidation_0-rmse:0.71018\n",
      "[0]\tvalidation_0-rmse:7.01243\n",
      "[1000]\tvalidation_0-rmse:0.71360\n",
      "[2000]\tvalidation_0-rmse:0.71134\n",
      "[3000]\tvalidation_0-rmse:0.71057\n",
      "[4000]\tvalidation_0-rmse:0.71031\n",
      "[5000]\tvalidation_0-rmse:0.71023\n",
      "[5160]\tvalidation_0-rmse:0.71024\n"
     ]
    },
    {
     "name": "stderr",
     "output_type": "stream",
     "text": [
      "\u001b[32m[I 2021-08-23 10:04:15,351]\u001b[0m Trial 2 finished with value: 0.7101528756256889 and parameters: {'learning_rate': 0.0991322703844009, 'subsample': 0.9924152027721029, 'colsample_bytree': 0.07153751859985356, 'max_depth': 3, 'lambda': 24.201798000962818, 'alpha': 4.747688705133513, 'min_child_weight': 239.80366537420582}. Best is trial 0 with value: 0.7100121911152144.\u001b[0m\n"
     ]
    },
    {
     "name": "stdout",
     "output_type": "stream",
     "text": [
      "[0]\tvalidation_0-rmse:6.92416\n",
      "[1000]\tvalidation_0-rmse:0.71526\n",
      "[2000]\tvalidation_0-rmse:0.71228\n",
      "[3000]\tvalidation_0-rmse:0.71111\n",
      "[4000]\tvalidation_0-rmse:0.71062\n",
      "[5000]\tvalidation_0-rmse:0.71038\n",
      "[6000]\tvalidation_0-rmse:0.71024\n",
      "[6367]\tvalidation_0-rmse:0.71022\n",
      "[0]\tvalidation_0-rmse:6.92403\n",
      "[1000]\tvalidation_0-rmse:0.71540\n",
      "[2000]\tvalidation_0-rmse:0.71240\n",
      "[3000]\tvalidation_0-rmse:0.71120\n",
      "[4000]\tvalidation_0-rmse:0.71079\n",
      "[5000]\tvalidation_0-rmse:0.71055\n",
      "[6000]\tvalidation_0-rmse:0.71039\n",
      "[6204]\tvalidation_0-rmse:0.71039\n"
     ]
    },
    {
     "name": "stderr",
     "output_type": "stream",
     "text": [
      "\u001b[32m[I 2021-08-23 10:12:59,567]\u001b[0m Trial 3 finished with value: 0.7102441809103656 and parameters: {'learning_rate': 0.11061722196393384, 'subsample': 0.7926220897976255, 'colsample_bytree': 0.13229805134324246, 'max_depth': 2, 'lambda': 29.761702403924886, 'alpha': 9.604501322503914, 'min_child_weight': 212.392156155334}. Best is trial 0 with value: 0.7100121911152144.\u001b[0m\n"
     ]
    },
    {
     "name": "stdout",
     "output_type": "stream",
     "text": [
      "[0]\tvalidation_0-rmse:6.98996\n",
      "[1000]\tvalidation_0-rmse:0.71178\n",
      "[2000]\tvalidation_0-rmse:0.71040\n",
      "[3000]\tvalidation_0-rmse:0.71015\n",
      "[3791]\tvalidation_0-rmse:0.71014\n",
      "[0]\tvalidation_0-rmse:6.98993\n",
      "[1000]\tvalidation_0-rmse:0.71179\n",
      "[2000]\tvalidation_0-rmse:0.71049\n",
      "[2982]\tvalidation_0-rmse:0.71023\n"
     ]
    },
    {
     "name": "stderr",
     "output_type": "stream",
     "text": [
      "\u001b[32m[I 2021-08-23 10:17:55,380]\u001b[0m Trial 4 finished with value: 0.7100805739811479 and parameters: {'learning_rate': 0.1020553447543864, 'subsample': 0.9506763485681867, 'colsample_bytree': 0.15060499232505947, 'max_depth': 3, 'lambda': 21.99892449273504, 'alpha': 7.803954158412165, 'min_child_weight': 254.2087219418263}. Best is trial 0 with value: 0.7100121911152144.\u001b[0m\n"
     ]
    },
    {
     "name": "stdout",
     "output_type": "stream",
     "text": [
      "[0]\tvalidation_0-rmse:6.85968\n",
      "[1000]\tvalidation_0-rmse:0.71467\n",
      "[2000]\tvalidation_0-rmse:0.71189\n",
      "[3000]\tvalidation_0-rmse:0.71088\n",
      "[4000]\tvalidation_0-rmse:0.71046\n",
      "[5000]\tvalidation_0-rmse:0.71027\n",
      "[5936]\tvalidation_0-rmse:0.71024\n",
      "[0]\tvalidation_0-rmse:6.85958\n",
      "[1000]\tvalidation_0-rmse:0.71465\n",
      "[2000]\tvalidation_0-rmse:0.71195\n",
      "[3000]\tvalidation_0-rmse:0.71093\n",
      "[4000]\tvalidation_0-rmse:0.71060\n",
      "[5000]\tvalidation_0-rmse:0.71050\n",
      "[5019]\tvalidation_0-rmse:0.71050\n"
     ]
    },
    {
     "name": "stderr",
     "output_type": "stream",
     "text": [
      "\u001b[32m[I 2021-08-23 10:25:47,228]\u001b[0m Trial 5 finished with value: 0.7102944520082637 and parameters: {'learning_rate': 0.11899373292880619, 'subsample': 0.7514252216998012, 'colsample_bytree': 0.14362753162351402, 'max_depth': 2, 'lambda': 35.24283568834247, 'alpha': 10.369166735991477, 'min_child_weight': 279.8415677458134}. Best is trial 0 with value: 0.7100121911152144.\u001b[0m\n"
     ]
    },
    {
     "name": "stdout",
     "output_type": "stream",
     "text": [
      "[0]\tvalidation_0-rmse:7.13217\n",
      "[1000]\tvalidation_0-rmse:0.71109\n",
      "[2000]\tvalidation_0-rmse:0.71030\n",
      "[2583]\tvalidation_0-rmse:0.71022\n",
      "[0]\tvalidation_0-rmse:7.13217\n",
      "[1000]\tvalidation_0-rmse:0.71118\n",
      "[2000]\tvalidation_0-rmse:0.71025\n",
      "[2523]\tvalidation_0-rmse:0.71022\n"
     ]
    },
    {
     "name": "stderr",
     "output_type": "stream",
     "text": [
      "\u001b[32m[I 2021-08-23 10:29:50,598]\u001b[0m Trial 6 finished with value: 0.7100995495923029 and parameters: {'learning_rate': 0.08358191068590735, 'subsample': 0.9635679423405092, 'colsample_bytree': 0.16310538948816278, 'max_depth': 4, 'lambda': 31.014107709308902, 'alpha': 7.952399004455999, 'min_child_weight': 213.4985638194974}. Best is trial 0 with value: 0.7100121911152144.\u001b[0m\n"
     ]
    },
    {
     "name": "stdout",
     "output_type": "stream",
     "text": [
      "[0]\tvalidation_0-rmse:7.20910\n",
      "[1000]\tvalidation_0-rmse:0.71687\n",
      "[2000]\tvalidation_0-rmse:0.71356\n",
      "[3000]\tvalidation_0-rmse:0.71197\n",
      "[4000]\tvalidation_0-rmse:0.71116\n",
      "[5000]\tvalidation_0-rmse:0.71074\n",
      "[6000]\tvalidation_0-rmse:0.71051\n",
      "[7000]\tvalidation_0-rmse:0.71037\n",
      "[8000]\tvalidation_0-rmse:0.71027\n",
      "[9000]\tvalidation_0-rmse:0.71022\n",
      "[10000]\tvalidation_0-rmse:0.71019\n",
      "[10021]\tvalidation_0-rmse:0.71019\n",
      "[0]\tvalidation_0-rmse:7.20904\n",
      "[1000]\tvalidation_0-rmse:0.71668\n",
      "[2000]\tvalidation_0-rmse:0.71352\n",
      "[3000]\tvalidation_0-rmse:0.71187\n",
      "[4000]\tvalidation_0-rmse:0.71108\n",
      "[5000]\tvalidation_0-rmse:0.71063\n",
      "[6000]\tvalidation_0-rmse:0.71042\n",
      "[7000]\tvalidation_0-rmse:0.71026\n",
      "[8000]\tvalidation_0-rmse:0.71018\n",
      "[8069]\tvalidation_0-rmse:0.71018\n"
     ]
    },
    {
     "name": "stderr",
     "output_type": "stream",
     "text": [
      "\u001b[32m[I 2021-08-23 10:42:05,075]\u001b[0m Trial 7 finished with value: 0.7101400991780855 and parameters: {'learning_rate': 0.07359592499390692, 'subsample': 0.9135095246564409, 'colsample_bytree': 0.19188782985899516, 'max_depth': 2, 'lambda': 32.84174653760306, 'alpha': 5.810719366894152, 'min_child_weight': 244.37191682656533}. Best is trial 0 with value: 0.7100121911152144.\u001b[0m\n"
     ]
    },
    {
     "name": "stdout",
     "output_type": "stream",
     "text": [
      "[0]\tvalidation_0-rmse:7.21983\n",
      "[1000]\tvalidation_0-rmse:0.71405\n",
      "[2000]\tvalidation_0-rmse:0.71161\n",
      "[3000]\tvalidation_0-rmse:0.71073\n",
      "[4000]\tvalidation_0-rmse:0.71037\n",
      "[5000]\tvalidation_0-rmse:0.71022\n",
      "[6000]\tvalidation_0-rmse:0.71014\n",
      "[6782]\tvalidation_0-rmse:0.71010\n",
      "[0]\tvalidation_0-rmse:7.21980\n",
      "[1000]\tvalidation_0-rmse:0.71421\n",
      "[2000]\tvalidation_0-rmse:0.71164\n",
      "[3000]\tvalidation_0-rmse:0.71072\n",
      "[4000]\tvalidation_0-rmse:0.71035\n",
      "[5000]\tvalidation_0-rmse:0.71020\n",
      "[6000]\tvalidation_0-rmse:0.71010\n",
      "[6137]\tvalidation_0-rmse:0.71011\n"
     ]
    },
    {
     "name": "stderr",
     "output_type": "stream",
     "text": [
      "\u001b[32m[I 2021-08-23 10:51:26,897]\u001b[0m Trial 8 finished with value: 0.7100480866602575 and parameters: {'learning_rate': 0.07219961826966936, 'subsample': 0.9386609225289987, 'colsample_bytree': 0.09149696534826895, 'max_depth': 3, 'lambda': 29.03664412234596, 'alpha': 12.267383201989587, 'min_child_weight': 213.49043855869232}. Best is trial 0 with value: 0.7100121911152144.\u001b[0m\n"
     ]
    },
    {
     "name": "stdout",
     "output_type": "stream",
     "text": [
      "[0]\tvalidation_0-rmse:6.96788\n",
      "[1000]\tvalidation_0-rmse:0.71493\n",
      "[2000]\tvalidation_0-rmse:0.71196\n",
      "[3000]\tvalidation_0-rmse:0.71096\n",
      "[4000]\tvalidation_0-rmse:0.71052\n",
      "[5000]\tvalidation_0-rmse:0.71037\n",
      "[6000]\tvalidation_0-rmse:0.71028\n",
      "[6317]\tvalidation_0-rmse:0.71031\n",
      "[0]\tvalidation_0-rmse:6.96775\n",
      "[1000]\tvalidation_0-rmse:0.71493\n",
      "[2000]\tvalidation_0-rmse:0.71205\n",
      "[3000]\tvalidation_0-rmse:0.71095\n",
      "[4000]\tvalidation_0-rmse:0.71062\n",
      "[5000]\tvalidation_0-rmse:0.71045\n",
      "[6000]\tvalidation_0-rmse:0.71035\n",
      "[6138]\tvalidation_0-rmse:0.71036\n"
     ]
    },
    {
     "name": "stderr",
     "output_type": "stream",
     "text": [
      "\u001b[32m[I 2021-08-23 11:00:12,804]\u001b[0m Trial 9 finished with value: 0.7102429891763296 and parameters: {'learning_rate': 0.10493261604170571, 'subsample': 0.8150508783823306, 'colsample_bytree': 0.19917876368456447, 'max_depth': 2, 'lambda': 25.260213675534565, 'alpha': 5.904465323524681, 'min_child_weight': 233.9808670047869}. Best is trial 0 with value: 0.7100121911152144.\u001b[0m\n"
     ]
    },
    {
     "name": "stdout",
     "output_type": "stream",
     "text": [
      "[0]\tvalidation_0-rmse:7.09176\n",
      "[1000]\tvalidation_0-rmse:0.71093\n",
      "[2000]\tvalidation_0-rmse:0.71037\n",
      "[2098]\tvalidation_0-rmse:0.71037\n",
      "[0]\tvalidation_0-rmse:7.09167\n",
      "[1000]\tvalidation_0-rmse:0.71122\n",
      "[2000]\tvalidation_0-rmse:0.71069\n",
      "[2019]\tvalidation_0-rmse:0.71070\n"
     ]
    },
    {
     "name": "stderr",
     "output_type": "stream",
     "text": [
      "\u001b[32m[I 2021-08-23 11:03:37,491]\u001b[0m Trial 10 finished with value: 0.7103396347774885 and parameters: {'learning_rate': 0.08883978546538279, 'subsample': 0.8720248283581292, 'colsample_bytree': 0.2624960947270384, 'max_depth': 4, 'lambda': 37.868866928635136, 'alpha': 7.254514325138928, 'min_child_weight': 181.1319829283908}. Best is trial 0 with value: 0.7100121911152144.\u001b[0m\n"
     ]
    },
    {
     "name": "stdout",
     "output_type": "stream",
     "text": [
      "[0]\tvalidation_0-rmse:7.07217\n",
      "[1000]\tvalidation_0-rmse:0.71128\n",
      "[2000]\tvalidation_0-rmse:0.71021\n",
      "[3000]\tvalidation_0-rmse:0.71002\n",
      "[3123]\tvalidation_0-rmse:0.71004\n",
      "[0]\tvalidation_0-rmse:7.07217\n",
      "[1000]\tvalidation_0-rmse:0.71134\n",
      "[2000]\tvalidation_0-rmse:0.71037\n",
      "[3000]\tvalidation_0-rmse:0.71012\n",
      "[3022]\tvalidation_0-rmse:0.71012\n"
     ]
    },
    {
     "name": "stderr",
     "output_type": "stream",
     "text": [
      "\u001b[32m[I 2021-08-23 11:08:15,329]\u001b[0m Trial 11 finished with value: 0.7099822189963252 and parameters: {'learning_rate': 0.09137699129766286, 'subsample': 0.9980881150593356, 'colsample_bytree': 0.10316749396272704, 'max_depth': 4, 'lambda': 38.12134871120182, 'alpha': 12.668703997126714, 'min_child_weight': 186.86680210869702}. Best is trial 11 with value: 0.7099822189963252.\u001b[0m\n"
     ]
    },
    {
     "name": "stdout",
     "output_type": "stream",
     "text": [
      "[0]\tvalidation_0-rmse:7.07856\n",
      "[1000]\tvalidation_0-rmse:0.71127\n",
      "[2000]\tvalidation_0-rmse:0.71031\n",
      "[3000]\tvalidation_0-rmse:0.71010\n",
      "[3106]\tvalidation_0-rmse:0.71010\n",
      "[0]\tvalidation_0-rmse:7.07855\n",
      "[1000]\tvalidation_0-rmse:0.71134\n",
      "[2000]\tvalidation_0-rmse:0.71035\n",
      "[2989]\tvalidation_0-rmse:0.71016\n"
     ]
    },
    {
     "name": "stderr",
     "output_type": "stream",
     "text": [
      "\u001b[32m[I 2021-08-23 11:12:51,004]\u001b[0m Trial 12 finished with value: 0.7100216942770535 and parameters: {'learning_rate': 0.09054767298951509, 'subsample': 0.9958711339771185, 'colsample_bytree': 0.11207047710354967, 'max_depth': 4, 'lambda': 38.09659781113632, 'alpha': 9.22317065430588, 'min_child_weight': 181.14575638065156}. Best is trial 11 with value: 0.7099822189963252.\u001b[0m\n"
     ]
    },
    {
     "name": "stdout",
     "output_type": "stream",
     "text": [
      "[0]\tvalidation_0-rmse:7.14314\n",
      "[1000]\tvalidation_0-rmse:0.71144\n",
      "[2000]\tvalidation_0-rmse:0.71028\n",
      "[3000]\tvalidation_0-rmse:0.71007\n",
      "[3913]\tvalidation_0-rmse:0.71001\n",
      "[0]\tvalidation_0-rmse:7.14314\n",
      "[1000]\tvalidation_0-rmse:0.71157\n",
      "[2000]\tvalidation_0-rmse:0.71035\n",
      "[3000]\tvalidation_0-rmse:0.71010\n",
      "[3420]\tvalidation_0-rmse:0.71010\n"
     ]
    },
    {
     "name": "stderr",
     "output_type": "stream",
     "text": [
      "\u001b[32m[I 2021-08-23 11:18:21,867]\u001b[0m Trial 13 finished with value: 0.709957588415761 and parameters: {'learning_rate': 0.08215886225725774, 'subsample': 0.9980920697335086, 'colsample_bytree': 0.11149131891094967, 'max_depth': 4, 'lambda': 35.58950712080482, 'alpha': 12.535044845785041, 'min_child_weight': 194.57706909971765}. Best is trial 13 with value: 0.709957588415761.\u001b[0m\n"
     ]
    },
    {
     "name": "stdout",
     "output_type": "stream",
     "text": [
      "[0]\tvalidation_0-rmse:7.14437\n",
      "[1000]\tvalidation_0-rmse:0.71183\n",
      "[2000]\tvalidation_0-rmse:0.71047\n",
      "[3000]\tvalidation_0-rmse:0.71022\n",
      "[3790]\tvalidation_0-rmse:0.71018\n",
      "[0]\tvalidation_0-rmse:7.14428\n",
      "[1000]\tvalidation_0-rmse:0.71197\n",
      "[2000]\tvalidation_0-rmse:0.71053\n",
      "[3000]\tvalidation_0-rmse:0.71023\n",
      "[3048]\tvalidation_0-rmse:0.71024\n"
     ]
    },
    {
     "name": "stderr",
     "output_type": "stream",
     "text": [
      "\u001b[32m[I 2021-08-23 11:23:52,225]\u001b[0m Trial 14 finished with value: 0.7101051135349383 and parameters: {'learning_rate': 0.0820060364270876, 'subsample': 0.8885806381609587, 'colsample_bytree': 0.07888578251346513, 'max_depth': 4, 'lambda': 34.535556306178286, 'alpha': 12.465891446577695, 'min_child_weight': 194.19852128020878}. Best is trial 13 with value: 0.709957588415761.\u001b[0m\n"
     ]
    },
    {
     "name": "stdout",
     "output_type": "stream",
     "text": [
      "[0]\tvalidation_0-rmse:7.15445\n",
      "[1000]\tvalidation_0-rmse:0.71143\n",
      "[2000]\tvalidation_0-rmse:0.71024\n",
      "[3000]\tvalidation_0-rmse:0.70998\n",
      "[3455]\tvalidation_0-rmse:0.70998\n",
      "[0]\tvalidation_0-rmse:7.15444\n",
      "[1000]\tvalidation_0-rmse:0.71170\n",
      "[2000]\tvalidation_0-rmse:0.71043\n",
      "[2882]\tvalidation_0-rmse:0.71016\n"
     ]
    },
    {
     "name": "stderr",
     "output_type": "stream",
     "text": [
      "\u001b[32m[I 2021-08-23 11:28:52,161]\u001b[0m Trial 15 finished with value: 0.7099764814663122 and parameters: {'learning_rate': 0.08069038825683686, 'subsample': 0.9733046373030385, 'colsample_bytree': 0.11212244539166728, 'max_depth': 4, 'lambda': 34.82196658399111, 'alpha': 11.148619318298595, 'min_child_weight': 178.06438536657498}. Best is trial 13 with value: 0.709957588415761.\u001b[0m\n"
     ]
    },
    {
     "name": "stdout",
     "output_type": "stream",
     "text": [
      "[0]\tvalidation_0-rmse:7.15047\n",
      "[1000]\tvalidation_0-rmse:0.71109\n",
      "[2000]\tvalidation_0-rmse:0.71022\n",
      "[2451]\tvalidation_0-rmse:0.71021\n",
      "[0]\tvalidation_0-rmse:7.15039\n",
      "[1000]\tvalidation_0-rmse:0.71122\n",
      "[2000]\tvalidation_0-rmse:0.71036\n",
      "[2636]\tvalidation_0-rmse:0.71033\n"
     ]
    },
    {
     "name": "stderr",
     "output_type": "stream",
     "text": [
      "\u001b[32m[I 2021-08-23 11:33:05,184]\u001b[0m Trial 16 finished with value: 0.7101034570168684 and parameters: {'learning_rate': 0.0812138157963349, 'subsample': 0.8584084522653215, 'colsample_bytree': 0.18799098848403697, 'max_depth': 4, 'lambda': 34.42396029853557, 'alpha': 11.462082626116585, 'min_child_weight': 198.21236146107904}. Best is trial 13 with value: 0.709957588415761.\u001b[0m\n"
     ]
    },
    {
     "name": "stdout",
     "output_type": "stream",
     "text": [
      "[0]\tvalidation_0-rmse:7.17612\n",
      "[1000]\tvalidation_0-rmse:0.71261\n",
      "[2000]\tvalidation_0-rmse:0.71077\n",
      "[3000]\tvalidation_0-rmse:0.71032\n",
      "[3758]\tvalidation_0-rmse:0.71022\n",
      "[0]\tvalidation_0-rmse:7.17610\n",
      "[1000]\tvalidation_0-rmse:0.71272\n",
      "[2000]\tvalidation_0-rmse:0.71080\n",
      "[3000]\tvalidation_0-rmse:0.71037\n",
      "[4000]\tvalidation_0-rmse:0.71025\n",
      "[4132]\tvalidation_0-rmse:0.71025\n"
     ]
    },
    {
     "name": "stderr",
     "output_type": "stream",
     "text": [
      "\u001b[32m[I 2021-08-23 11:38:47,812]\u001b[0m Trial 17 finished with value: 0.7101580665150105 and parameters: {'learning_rate': 0.07787604619396066, 'subsample': 0.9724647705678637, 'colsample_bytree': 0.23552712144836077, 'max_depth': 3, 'lambda': 27.217904333535085, 'alpha': 11.437806700413937, 'min_child_weight': 269.2656619309181}. Best is trial 13 with value: 0.709957588415761.\u001b[0m\n"
     ]
    },
    {
     "name": "stdout",
     "output_type": "stream",
     "text": [
      "[0]\tvalidation_0-rmse:7.11762\n",
      "[1000]\tvalidation_0-rmse:0.71120\n",
      "[2000]\tvalidation_0-rmse:0.71027\n",
      "[2407]\tvalidation_0-rmse:0.71021\n",
      "[0]\tvalidation_0-rmse:7.11755\n",
      "[1000]\tvalidation_0-rmse:0.71119\n",
      "[2000]\tvalidation_0-rmse:0.71025\n",
      "[2789]\tvalidation_0-rmse:0.71010\n"
     ]
    },
    {
     "name": "stderr",
     "output_type": "stream",
     "text": [
      "\u001b[32m[I 2021-08-23 11:42:57,724]\u001b[0m Trial 18 finished with value: 0.7100510070994374 and parameters: {'learning_rate': 0.08547644368618187, 'subsample': 0.9269407541104892, 'colsample_bytree': 0.12837026556730324, 'max_depth': 4, 'lambda': 35.62919295880083, 'alpha': 10.440061837571168, 'min_child_weight': 181.2418789329791}. Best is trial 13 with value: 0.709957588415761.\u001b[0m\n"
     ]
    },
    {
     "name": "stdout",
     "output_type": "stream",
     "text": [
      "[0]\tvalidation_0-rmse:7.18688\n",
      "[1000]\tvalidation_0-rmse:0.71133\n",
      "[2000]\tvalidation_0-rmse:0.71027\n",
      "[3000]\tvalidation_0-rmse:0.71006\n",
      "[3322]\tvalidation_0-rmse:0.71008\n",
      "[0]\tvalidation_0-rmse:7.18678\n",
      "[1000]\tvalidation_0-rmse:0.71143\n",
      "[2000]\tvalidation_0-rmse:0.71026\n",
      "[2891]\tvalidation_0-rmse:0.71007\n"
     ]
    },
    {
     "name": "stderr",
     "output_type": "stream",
     "text": [
      "\u001b[32m[I 2021-08-23 11:48:05,039]\u001b[0m Trial 19 finished with value: 0.7099601004029493 and parameters: {'learning_rate': 0.07648453223025074, 'subsample': 0.9004328383746503, 'colsample_bytree': 0.12090937393073076, 'max_depth': 4, 'lambda': 33.06950335737063, 'alpha': 11.978344745399237, 'min_child_weight': 202.90149261549024}. Best is trial 13 with value: 0.709957588415761.\u001b[0m\n"
     ]
    },
    {
     "name": "stdout",
     "output_type": "stream",
     "text": [
      "[0]\tvalidation_0-rmse:7.18668\n",
      "[1000]\tvalidation_0-rmse:0.71266\n",
      "[2000]\tvalidation_0-rmse:0.71078\n",
      "[3000]\tvalidation_0-rmse:0.71035\n",
      "[4000]\tvalidation_0-rmse:0.71020\n",
      "[4851]\tvalidation_0-rmse:0.71011\n",
      "[0]\tvalidation_0-rmse:7.18659\n",
      "[1000]\tvalidation_0-rmse:0.71269\n",
      "[2000]\tvalidation_0-rmse:0.71085\n",
      "[3000]\tvalidation_0-rmse:0.71033\n",
      "[3902]\tvalidation_0-rmse:0.71024\n"
     ]
    },
    {
     "name": "stderr",
     "output_type": "stream",
     "text": [
      "\u001b[32m[I 2021-08-23 11:54:50,435]\u001b[0m Trial 20 finished with value: 0.7100947062110323 and parameters: {'learning_rate': 0.07650798579347257, 'subsample': 0.820414587503942, 'colsample_bytree': 0.17004904167500065, 'max_depth': 3, 'lambda': 18.771219405246256, 'alpha': 12.053875115327255, 'min_child_weight': 223.23196837519782}. Best is trial 13 with value: 0.709957588415761.\u001b[0m\n"
     ]
    },
    {
     "name": "stdout",
     "output_type": "stream",
     "text": [
      "[0]\tvalidation_0-rmse:7.17014\n",
      "[1000]\tvalidation_0-rmse:0.71134\n",
      "[2000]\tvalidation_0-rmse:0.71027\n",
      "[2386]\tvalidation_0-rmse:0.71020\n",
      "[0]\tvalidation_0-rmse:7.17004\n",
      "[1000]\tvalidation_0-rmse:0.71141\n",
      "[2000]\tvalidation_0-rmse:0.71030\n",
      "[3000]\tvalidation_0-rmse:0.71019\n",
      "[3013]\tvalidation_0-rmse:0.71020\n"
     ]
    },
    {
     "name": "stderr",
     "output_type": "stream",
     "text": [
      "\u001b[32m[I 2021-08-23 11:59:14,749]\u001b[0m Trial 21 finished with value: 0.7100745352559453 and parameters: {'learning_rate': 0.07865950820742064, 'subsample': 0.8953258775757856, 'colsample_bytree': 0.12241994767384921, 'max_depth': 4, 'lambda': 32.73783534837471, 'alpha': 10.638553926046473, 'min_child_weight': 202.197708864241}. Best is trial 13 with value: 0.709957588415761.\u001b[0m\n"
     ]
    },
    {
     "name": "stdout",
     "output_type": "stream",
     "text": [
      "[0]\tvalidation_0-rmse:7.23585\n",
      "[1000]\tvalidation_0-rmse:0.71184\n",
      "[2000]\tvalidation_0-rmse:0.71044\n",
      "[3000]\tvalidation_0-rmse:0.71010\n",
      "[3859]\tvalidation_0-rmse:0.71005\n",
      "[0]\tvalidation_0-rmse:7.23583\n",
      "[1000]\tvalidation_0-rmse:0.71199\n",
      "[2000]\tvalidation_0-rmse:0.71049\n",
      "[3000]\tvalidation_0-rmse:0.71011\n",
      "[3828]\tvalidation_0-rmse:0.71005\n"
     ]
    },
    {
     "name": "stderr",
     "output_type": "stream",
     "text": [
      "\u001b[32m[I 2021-08-23 12:05:11,399]\u001b[0m Trial 22 finished with value: 0.7099721579558713 and parameters: {'learning_rate': 0.07012025942424574, 'subsample': 0.971788846022675, 'colsample_bytree': 0.10043560291280222, 'max_depth': 4, 'lambda': 32.953036675886494, 'alpha': 11.890473745789734, 'min_child_weight': 185.07576706622714}. Best is trial 13 with value: 0.709957588415761.\u001b[0m\n"
     ]
    },
    {
     "name": "stdout",
     "output_type": "stream",
     "text": [
      "[0]\tvalidation_0-rmse:7.23503\n",
      "[1000]\tvalidation_0-rmse:0.71235\n",
      "[2000]\tvalidation_0-rmse:0.71071\n",
      "[3000]\tvalidation_0-rmse:0.71028\n",
      "[4000]\tvalidation_0-rmse:0.71016\n",
      "[4424]\tvalidation_0-rmse:0.71015\n",
      "[0]\tvalidation_0-rmse:7.23496\n",
      "[1000]\tvalidation_0-rmse:0.71237\n",
      "[2000]\tvalidation_0-rmse:0.71064\n",
      "[3000]\tvalidation_0-rmse:0.71020\n",
      "[3945]\tvalidation_0-rmse:0.71008\n"
     ]
    },
    {
     "name": "stderr",
     "output_type": "stream",
     "text": [
      "\u001b[32m[I 2021-08-23 12:11:52,837]\u001b[0m Trial 23 finished with value: 0.7100405994475686 and parameters: {'learning_rate': 0.07022913032871608, 'subsample': 0.9088843088394608, 'colsample_bytree': 0.09118245739488501, 'max_depth': 4, 'lambda': 32.51534681808255, 'alpha': 12.696483468008266, 'min_child_weight': 190.1701573087696}. Best is trial 13 with value: 0.709957588415761.\u001b[0m\n"
     ]
    },
    {
     "name": "stdout",
     "output_type": "stream",
     "text": [
      "[0]\tvalidation_0-rmse:7.23599\n",
      "[1000]\tvalidation_0-rmse:0.71304\n",
      "[2000]\tvalidation_0-rmse:0.71093\n",
      "[3000]\tvalidation_0-rmse:0.71037\n",
      "[4000]\tvalidation_0-rmse:0.71023\n",
      "[5000]\tvalidation_0-rmse:0.71015\n",
      "[5055]\tvalidation_0-rmse:0.71014\n",
      "[0]\tvalidation_0-rmse:7.23592\n",
      "[1000]\tvalidation_0-rmse:0.71316\n",
      "[2000]\tvalidation_0-rmse:0.71090\n",
      "[3000]\tvalidation_0-rmse:0.71031\n",
      "[4000]\tvalidation_0-rmse:0.71015\n",
      "[4969]\tvalidation_0-rmse:0.71010\n"
     ]
    },
    {
     "name": "stderr",
     "output_type": "stream",
     "text": [
      "\u001b[32m[I 2021-08-23 12:19:50,064]\u001b[0m Trial 24 finished with value: 0.7100555513064094 and parameters: {'learning_rate': 0.07010834619601486, 'subsample': 0.8648046729446331, 'colsample_bytree': 0.07181437473793331, 'max_depth': 4, 'lambda': 36.64692488979948, 'alpha': 11.775077617241035, 'min_child_weight': 204.96538472013566}. Best is trial 13 with value: 0.709957588415761.\u001b[0m\n"
     ]
    },
    {
     "name": "stdout",
     "output_type": "stream",
     "text": [
      "[0]\tvalidation_0-rmse:7.19423\n",
      "[1000]\tvalidation_0-rmse:0.71133\n",
      "[2000]\tvalidation_0-rmse:0.71027\n",
      "[2974]\tvalidation_0-rmse:0.71017\n",
      "[0]\tvalidation_0-rmse:7.19415\n",
      "[1000]\tvalidation_0-rmse:0.71131\n",
      "[2000]\tvalidation_0-rmse:0.71034\n",
      "[2797]\tvalidation_0-rmse:0.71018\n"
     ]
    },
    {
     "name": "stderr",
     "output_type": "stream",
     "text": [
      "\u001b[32m[I 2021-08-23 12:24:37,080]\u001b[0m Trial 25 finished with value: 0.7100595917220601 and parameters: {'learning_rate': 0.07552819767554916, 'subsample': 0.84334531511115, 'colsample_bytree': 0.1400504061806427, 'max_depth': 4, 'lambda': 30.68533613401703, 'alpha': 9.788247092794393, 'min_child_weight': 190.06692197857978}. Best is trial 13 with value: 0.709957588415761.\u001b[0m\n"
     ]
    },
    {
     "name": "stdout",
     "output_type": "stream",
     "text": [
      "[0]\tvalidation_0-rmse:7.23346\n",
      "[1000]\tvalidation_0-rmse:0.71150\n",
      "[2000]\tvalidation_0-rmse:0.71029\n",
      "[2928]\tvalidation_0-rmse:0.71012\n",
      "[0]\tvalidation_0-rmse:7.23345\n",
      "[1000]\tvalidation_0-rmse:0.71158\n",
      "[2000]\tvalidation_0-rmse:0.71035\n",
      "[2748]\tvalidation_0-rmse:0.71015\n"
     ]
    },
    {
     "name": "stderr",
     "output_type": "stream",
     "text": [
      "\u001b[32m[I 2021-08-23 12:29:02,808]\u001b[0m Trial 26 finished with value: 0.7100443866862677 and parameters: {'learning_rate': 0.07042948606767385, 'subsample': 0.9766750396088152, 'colsample_bytree': 0.1618724359181375, 'max_depth': 4, 'lambda': 33.462000875587904, 'alpha': 12.047183699498326, 'min_child_weight': 208.22567023075476}. Best is trial 13 with value: 0.709957588415761.\u001b[0m\n"
     ]
    },
    {
     "name": "stdout",
     "output_type": "stream",
     "text": [
      "[0]\tvalidation_0-rmse:7.11976\n",
      "[1000]\tvalidation_0-rmse:0.71283\n",
      "[2000]\tvalidation_0-rmse:0.71088\n",
      "[3000]\tvalidation_0-rmse:0.71030\n",
      "[4000]\tvalidation_0-rmse:0.71013\n",
      "[4776]\tvalidation_0-rmse:0.71003\n",
      "[0]\tvalidation_0-rmse:7.11973\n",
      "[1000]\tvalidation_0-rmse:0.71301\n",
      "[2000]\tvalidation_0-rmse:0.71094\n",
      "[3000]\tvalidation_0-rmse:0.71037\n",
      "[4000]\tvalidation_0-rmse:0.71018\n",
      "[5000]\tvalidation_0-rmse:0.71011\n",
      "[5135]\tvalidation_0-rmse:0.71011\n"
     ]
    },
    {
     "name": "stderr",
     "output_type": "stream",
     "text": [
      "\u001b[32m[I 2021-08-23 12:36:14,722]\u001b[0m Trial 27 finished with value: 0.7100082988207533 and parameters: {'learning_rate': 0.08519571796879195, 'subsample': 0.9510804207119395, 'colsample_bytree': 0.10093073357758922, 'max_depth': 3, 'lambda': 26.932062460138916, 'alpha': 12.700775617279508, 'min_child_weight': 226.5733394421581}. Best is trial 13 with value: 0.709957588415761.\u001b[0m\n"
     ]
    },
    {
     "name": "stdout",
     "output_type": "stream",
     "text": [
      "[0]\tvalidation_0-rmse:7.05626\n",
      "[1000]\tvalidation_0-rmse:0.71093\n",
      "[2000]\tvalidation_0-rmse:0.71018\n",
      "[2362]\tvalidation_0-rmse:0.71020\n",
      "[0]\tvalidation_0-rmse:7.05618\n",
      "[1000]\tvalidation_0-rmse:0.71106\n",
      "[2000]\tvalidation_0-rmse:0.71022\n",
      "[2662]\tvalidation_0-rmse:0.71014\n"
     ]
    },
    {
     "name": "stderr",
     "output_type": "stream",
     "text": [
      "\u001b[32m[I 2021-08-23 12:40:20,351]\u001b[0m Trial 28 finished with value: 0.71001055038912 and parameters: {'learning_rate': 0.09344882498699933, 'subsample': 0.9198952134047282, 'colsample_bytree': 0.12227997195401762, 'max_depth': 4, 'lambda': 36.36612385792084, 'alpha': 10.731447931239906, 'min_child_weight': 194.32317170372312}. Best is trial 13 with value: 0.709957588415761.\u001b[0m\n"
     ]
    },
    {
     "name": "stdout",
     "output_type": "stream",
     "text": [
      "[0]\tvalidation_0-rmse:7.10155\n",
      "[1000]\tvalidation_0-rmse:0.71164\n",
      "[2000]\tvalidation_0-rmse:0.71044\n",
      "[3000]\tvalidation_0-rmse:0.71020\n",
      "[3468]\tvalidation_0-rmse:0.71015\n",
      "[0]\tvalidation_0-rmse:7.10154\n",
      "[1000]\tvalidation_0-rmse:0.71172\n",
      "[2000]\tvalidation_0-rmse:0.71046\n",
      "[3000]\tvalidation_0-rmse:0.71022\n",
      "[4000]\tvalidation_0-rmse:0.71017\n",
      "[4090]\tvalidation_0-rmse:0.71017\n"
     ]
    },
    {
     "name": "stderr",
     "output_type": "stream",
     "text": [
      "\u001b[32m[I 2021-08-23 12:45:54,167]\u001b[0m Trial 29 finished with value: 0.710060578677229 and parameters: {'learning_rate': 0.08755892200787022, 'subsample': 0.999235925045584, 'colsample_bytree': 0.08137330742092694, 'max_depth': 4, 'lambda': 31.97101860115988, 'alpha': 9.983197980728468, 'min_child_weight': 199.70529471979796}. Best is trial 13 with value: 0.709957588415761.\u001b[0m\n"
     ]
    },
    {
     "name": "stdout",
     "output_type": "stream",
     "text": [
      "Number of finished trials: 30\n",
      "Best trial: {'learning_rate': 0.08215886225725774, 'subsample': 0.9980920697335086, 'colsample_bytree': 0.11149131891094967, 'max_depth': 4, 'lambda': 35.58950712080482, 'alpha': 12.535044845785041, 'min_child_weight': 194.57706909971765}\n"
     ]
    }
   ],
   "source": [
    "study = optuna.create_study(direction='minimize')\n",
    "study.optimize(objective,n_trials= 30)\n",
    "print('Number of finished trials:', len(study.trials))\n",
    "print('Best trial:', study.best_trial.params)"
   ]
  },
  {
   "cell_type": "code",
   "execution_count": 15,
   "id": "e3b2251b",
   "metadata": {
    "execution": {
     "iopub.execute_input": "2021-08-23T12:45:54.384232Z",
     "iopub.status.busy": "2021-08-23T12:45:54.383312Z",
     "iopub.status.idle": "2021-08-23T12:45:54.390960Z",
     "shell.execute_reply": "2021-08-23T12:45:54.390307Z"
    },
    "papermill": {
     "duration": 0.111638,
     "end_time": "2021-08-23T12:45:54.391103",
     "exception": false,
     "start_time": "2021-08-23T12:45:54.279465",
     "status": "completed"
    },
    "tags": []
   },
   "outputs": [
    {
     "data": {
      "text/plain": [
       "{'learning_rate': 0.08215886225725774,\n",
       " 'subsample': 0.9980920697335086,\n",
       " 'colsample_bytree': 0.11149131891094967,\n",
       " 'max_depth': 4,\n",
       " 'lambda': 35.58950712080482,\n",
       " 'alpha': 12.535044845785041,\n",
       " 'min_child_weight': 194.57706909971765}"
      ]
     },
     "execution_count": 15,
     "metadata": {},
     "output_type": "execute_result"
    }
   ],
   "source": [
    "study.best_params"
   ]
  },
  {
   "cell_type": "markdown",
   "id": "a4b20911",
   "metadata": {
    "papermill": {
     "duration": 0.099167,
     "end_time": "2021-08-23T12:45:54.597303",
     "exception": false,
     "start_time": "2021-08-23T12:45:54.498136",
     "status": "completed"
    },
    "tags": []
   },
   "source": [
    "# Log\n",
    "\n",
    "====== Ordinal encoding =========\n",
    "\n",
    "0.7104482581506356 no noise ver1\n",
    "\n",
    "0.714284445715517 row-wise noise ver2\n",
    "\n",
    "====== One-hot encoding =========\n",
    "\n",
    "0.7103796124277987 no noise ver3\n",
    "\n",
    "0.7100970391939901 no noise ver4 (narrow space)\n",
    "\n"
   ]
  }
 ],
 "metadata": {
  "kernelspec": {
   "display_name": "Python 3",
   "language": "python",
   "name": "python3"
  },
  "language_info": {
   "codemirror_mode": {
    "name": "ipython",
    "version": 3
   },
   "file_extension": ".py",
   "mimetype": "text/x-python",
   "name": "python",
   "nbconvert_exporter": "python",
   "pygments_lexer": "ipython3",
   "version": "3.7.10"
  },
  "papermill": {
   "default_parameters": {},
   "duration": 10901.559021,
   "end_time": "2021-08-23T12:45:55.620386",
   "environment_variables": {},
   "exception": null,
   "input_path": "__notebook__.ipynb",
   "output_path": "__notebook__.ipynb",
   "parameters": {},
   "start_time": "2021-08-23T09:44:14.061365",
   "version": "2.3.3"
  }
 },
 "nbformat": 4,
 "nbformat_minor": 5
}
