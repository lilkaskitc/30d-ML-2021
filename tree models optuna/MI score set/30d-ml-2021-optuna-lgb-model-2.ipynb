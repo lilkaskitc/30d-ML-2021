{
 "cells": [
  {
   "cell_type": "code",
   "execution_count": 1,
   "id": "aa631716",
   "metadata": {
    "_cell_guid": "b1076dfc-b9ad-4769-8c92-a6c4dae69d19",
    "_uuid": "8f2839f25d086af736a60e9eeb907d3b93b6e0e5",
    "execution": {
     "iopub.execute_input": "2021-08-23T14:50:40.942744Z",
     "iopub.status.busy": "2021-08-23T14:50:40.941554Z",
     "iopub.status.idle": "2021-08-23T14:50:42.974910Z",
     "shell.execute_reply": "2021-08-23T14:50:42.975586Z",
     "shell.execute_reply.started": "2021-08-23T00:16:14.312898Z"
    },
    "papermill": {
     "duration": 2.054544,
     "end_time": "2021-08-23T14:50:42.975878",
     "exception": false,
     "start_time": "2021-08-23T14:50:40.921334",
     "status": "completed"
    },
    "tags": []
   },
   "outputs": [
    {
     "data": {
      "text/html": [
       "<style type='text/css'>\n",
       ".datatable table.frame { margin-bottom: 0; }\n",
       ".datatable table.frame thead { border-bottom: none; }\n",
       ".datatable table.frame tr.coltypes td {  color: #FFFFFF;  line-height: 6px;  padding: 0 0.5em;}\n",
       ".datatable .bool    { background: #DDDD99; }\n",
       ".datatable .object  { background: #565656; }\n",
       ".datatable .int     { background: #5D9E5D; }\n",
       ".datatable .float   { background: #4040CC; }\n",
       ".datatable .str     { background: #CC4040; }\n",
       ".datatable .time    { background: #40CC40; }\n",
       ".datatable .row_index {  background: var(--jp-border-color3);  border-right: 1px solid var(--jp-border-color0);  color: var(--jp-ui-font-color3);  font-size: 9px;}\n",
       ".datatable .frame tbody td { text-align: left; }\n",
       ".datatable .frame tr.coltypes .row_index {  background: var(--jp-border-color0);}\n",
       ".datatable th:nth-child(2) { padding-left: 12px; }\n",
       ".datatable .hellipsis {  color: var(--jp-cell-editor-border-color);}\n",
       ".datatable .vellipsis {  background: var(--jp-layout-color0);  color: var(--jp-cell-editor-border-color);}\n",
       ".datatable .na {  color: var(--jp-cell-editor-border-color);  font-size: 80%;}\n",
       ".datatable .sp {  opacity: 0.25;}\n",
       ".datatable .footer { font-size: 9px; }\n",
       ".datatable .frame_dimensions {  background: var(--jp-border-color3);  border-top: 1px solid var(--jp-border-color0);  color: var(--jp-ui-font-color3);  display: inline-block;  opacity: 0.6;  padding: 1px 10px 1px 5px;}\n",
       "</style>\n"
      ],
      "text/plain": [
       "<IPython.core.display.HTML object>"
      ]
     },
     "metadata": {},
     "output_type": "display_data"
    }
   ],
   "source": [
    "# Familiar imports\n",
    "import numpy as np\n",
    "import pandas as pd\n",
    "import random\n",
    "import os\n",
    "import time\n",
    "from pathlib import Path\n",
    "\n",
    "from sklearn.preprocessing import StandardScaler\n",
    "from sklearn.model_selection import KFold, train_test_split\n",
    "from sklearn.metrics import mean_squared_error\n",
    "from sklearn.preprocessing import OrdinalEncoder, OneHotEncoder\n",
    "\n",
    "import lightgbm as lgb\n",
    "#import xgboost as xgb\n",
    "#import catboost as ctb\n",
    "\n",
    "import warnings\n",
    "warnings.simplefilter('ignore')"
   ]
  },
  {
   "cell_type": "markdown",
   "id": "6f610880",
   "metadata": {
    "papermill": {
     "duration": 0.016257,
     "end_time": "2021-08-23T14:50:43.009837",
     "exception": false,
     "start_time": "2021-08-23T14:50:42.993580",
     "status": "completed"
    },
    "tags": []
   },
   "source": [
    "# Parameters"
   ]
  },
  {
   "cell_type": "code",
   "execution_count": 2,
   "id": "86ccb65f",
   "metadata": {
    "execution": {
     "iopub.execute_input": "2021-08-23T14:50:43.046581Z",
     "iopub.status.busy": "2021-08-23T14:50:43.045938Z",
     "iopub.status.idle": "2021-08-23T14:50:43.051072Z",
     "shell.execute_reply": "2021-08-23T14:50:43.051615Z",
     "shell.execute_reply.started": "2021-08-23T00:16:14.321159Z"
    },
    "papermill": {
     "duration": 0.024742,
     "end_time": "2021-08-23T14:50:43.051780",
     "exception": false,
     "start_time": "2021-08-23T14:50:43.027038",
     "status": "completed"
    },
    "tags": []
   },
   "outputs": [],
   "source": [
    "target = 'target'\n",
    "\n",
    "DEBUG = False\n",
    "\n",
    "if DEBUG:\n",
    "    N_ESTIMATORS = 1\n",
    "    N_SPLITS = 2\n",
    "    SEED = 17\n",
    "    CVSEED = 17\n",
    "    EARLY_STOPPING_ROUNDS = 1\n",
    "    VERBOSE = 100\n",
    "    #N_ITERS = 2\n",
    "else:\n",
    "    N_SPLITS = 10\n",
    "    N_ESTIMATORS = 20000\n",
    "    EARLY_STOPPING_ROUNDS = 200\n",
    "    VERBOSE = 1000\n",
    "    SEED = 17\n",
    "    CVSEED = 17\n",
    "    #N_ITERS = 10"
   ]
  },
  {
   "cell_type": "code",
   "execution_count": 3,
   "id": "256478cb",
   "metadata": {
    "execution": {
     "iopub.execute_input": "2021-08-23T14:50:43.089013Z",
     "iopub.status.busy": "2021-08-23T14:50:43.088100Z",
     "iopub.status.idle": "2021-08-23T14:50:43.092592Z",
     "shell.execute_reply": "2021-08-23T14:50:43.093110Z",
     "shell.execute_reply.started": "2021-08-23T00:16:14.340149Z"
    },
    "papermill": {
     "duration": 0.024598,
     "end_time": "2021-08-23T14:50:43.093293",
     "exception": false,
     "start_time": "2021-08-23T14:50:43.068695",
     "status": "completed"
    },
    "tags": []
   },
   "outputs": [],
   "source": [
    "def set_seed(seed=17):\n",
    "    random.seed(seed)\n",
    "    os.environ['PYTHONHASHSEED'] = str(seed)\n",
    "    np.random.seed(seed)\n",
    "    \n",
    "set_seed(SEED)"
   ]
  },
  {
   "cell_type": "markdown",
   "id": "146ace3a",
   "metadata": {
    "papermill": {
     "duration": 0.016182,
     "end_time": "2021-08-23T14:50:43.126739",
     "exception": false,
     "start_time": "2021-08-23T14:50:43.110557",
     "status": "completed"
    },
    "tags": []
   },
   "source": [
    "# Load data"
   ]
  },
  {
   "cell_type": "code",
   "execution_count": 4,
   "id": "05d354c7",
   "metadata": {
    "execution": {
     "iopub.execute_input": "2021-08-23T14:50:43.163486Z",
     "iopub.status.busy": "2021-08-23T14:50:43.162829Z",
     "iopub.status.idle": "2021-08-23T14:50:47.166280Z",
     "shell.execute_reply": "2021-08-23T14:50:47.167036Z",
     "shell.execute_reply.started": "2021-08-23T00:16:14.353733Z"
    },
    "papermill": {
     "duration": 4.023709,
     "end_time": "2021-08-23T14:50:47.167202",
     "exception": false,
     "start_time": "2021-08-23T14:50:43.143493",
     "status": "completed"
    },
    "tags": []
   },
   "outputs": [
    {
     "data": {
      "text/html": [
       "<div>\n",
       "<style scoped>\n",
       "    .dataframe tbody tr th:only-of-type {\n",
       "        vertical-align: middle;\n",
       "    }\n",
       "\n",
       "    .dataframe tbody tr th {\n",
       "        vertical-align: top;\n",
       "    }\n",
       "\n",
       "    .dataframe thead th {\n",
       "        text-align: right;\n",
       "    }\n",
       "</style>\n",
       "<table border=\"1\" class=\"dataframe\">\n",
       "  <thead>\n",
       "    <tr style=\"text-align: right;\">\n",
       "      <th></th>\n",
       "      <th>id</th>\n",
       "      <th>cat0</th>\n",
       "      <th>cat1</th>\n",
       "      <th>cat2</th>\n",
       "      <th>cat3</th>\n",
       "      <th>cat4</th>\n",
       "      <th>cat5</th>\n",
       "      <th>cat6</th>\n",
       "      <th>cat7</th>\n",
       "      <th>cat8</th>\n",
       "      <th>...</th>\n",
       "      <th>cont5</th>\n",
       "      <th>cont6</th>\n",
       "      <th>cont7</th>\n",
       "      <th>cont8</th>\n",
       "      <th>cont9</th>\n",
       "      <th>cont10</th>\n",
       "      <th>cont11</th>\n",
       "      <th>cont12</th>\n",
       "      <th>cont13</th>\n",
       "      <th>target</th>\n",
       "    </tr>\n",
       "  </thead>\n",
       "  <tbody>\n",
       "    <tr>\n",
       "      <th>0</th>\n",
       "      <td>1</td>\n",
       "      <td>B</td>\n",
       "      <td>B</td>\n",
       "      <td>B</td>\n",
       "      <td>C</td>\n",
       "      <td>B</td>\n",
       "      <td>B</td>\n",
       "      <td>A</td>\n",
       "      <td>E</td>\n",
       "      <td>C</td>\n",
       "      <td>...</td>\n",
       "      <td>0.400361</td>\n",
       "      <td>0.160266</td>\n",
       "      <td>0.310921</td>\n",
       "      <td>0.389470</td>\n",
       "      <td>0.267559</td>\n",
       "      <td>0.237281</td>\n",
       "      <td>0.377873</td>\n",
       "      <td>0.322401</td>\n",
       "      <td>0.869850</td>\n",
       "      <td>8.113634</td>\n",
       "    </tr>\n",
       "    <tr>\n",
       "      <th>1</th>\n",
       "      <td>2</td>\n",
       "      <td>B</td>\n",
       "      <td>B</td>\n",
       "      <td>A</td>\n",
       "      <td>A</td>\n",
       "      <td>B</td>\n",
       "      <td>D</td>\n",
       "      <td>A</td>\n",
       "      <td>F</td>\n",
       "      <td>A</td>\n",
       "      <td>...</td>\n",
       "      <td>0.533087</td>\n",
       "      <td>0.558922</td>\n",
       "      <td>0.516294</td>\n",
       "      <td>0.594928</td>\n",
       "      <td>0.341439</td>\n",
       "      <td>0.906013</td>\n",
       "      <td>0.921701</td>\n",
       "      <td>0.261975</td>\n",
       "      <td>0.465083</td>\n",
       "      <td>8.481233</td>\n",
       "    </tr>\n",
       "    <tr>\n",
       "      <th>2</th>\n",
       "      <td>3</td>\n",
       "      <td>A</td>\n",
       "      <td>A</td>\n",
       "      <td>A</td>\n",
       "      <td>C</td>\n",
       "      <td>B</td>\n",
       "      <td>D</td>\n",
       "      <td>A</td>\n",
       "      <td>D</td>\n",
       "      <td>A</td>\n",
       "      <td>...</td>\n",
       "      <td>0.650609</td>\n",
       "      <td>0.375348</td>\n",
       "      <td>0.902567</td>\n",
       "      <td>0.555205</td>\n",
       "      <td>0.843531</td>\n",
       "      <td>0.748809</td>\n",
       "      <td>0.620126</td>\n",
       "      <td>0.541474</td>\n",
       "      <td>0.763846</td>\n",
       "      <td>8.364351</td>\n",
       "    </tr>\n",
       "    <tr>\n",
       "      <th>3</th>\n",
       "      <td>4</td>\n",
       "      <td>B</td>\n",
       "      <td>B</td>\n",
       "      <td>A</td>\n",
       "      <td>C</td>\n",
       "      <td>B</td>\n",
       "      <td>D</td>\n",
       "      <td>A</td>\n",
       "      <td>E</td>\n",
       "      <td>C</td>\n",
       "      <td>...</td>\n",
       "      <td>0.668980</td>\n",
       "      <td>0.239061</td>\n",
       "      <td>0.732948</td>\n",
       "      <td>0.679618</td>\n",
       "      <td>0.574844</td>\n",
       "      <td>0.346010</td>\n",
       "      <td>0.714610</td>\n",
       "      <td>0.540150</td>\n",
       "      <td>0.280682</td>\n",
       "      <td>8.049253</td>\n",
       "    </tr>\n",
       "    <tr>\n",
       "      <th>4</th>\n",
       "      <td>6</td>\n",
       "      <td>A</td>\n",
       "      <td>A</td>\n",
       "      <td>A</td>\n",
       "      <td>C</td>\n",
       "      <td>B</td>\n",
       "      <td>D</td>\n",
       "      <td>A</td>\n",
       "      <td>E</td>\n",
       "      <td>A</td>\n",
       "      <td>...</td>\n",
       "      <td>0.686964</td>\n",
       "      <td>0.420667</td>\n",
       "      <td>0.648182</td>\n",
       "      <td>0.684501</td>\n",
       "      <td>0.956692</td>\n",
       "      <td>1.000773</td>\n",
       "      <td>0.776742</td>\n",
       "      <td>0.625849</td>\n",
       "      <td>0.250823</td>\n",
       "      <td>7.972260</td>\n",
       "    </tr>\n",
       "  </tbody>\n",
       "</table>\n",
       "<p>5 rows × 26 columns</p>\n",
       "</div>"
      ],
      "text/plain": [
       "   id cat0 cat1 cat2 cat3 cat4 cat5 cat6 cat7 cat8  ...     cont5     cont6  \\\n",
       "0   1    B    B    B    C    B    B    A    E    C  ...  0.400361  0.160266   \n",
       "1   2    B    B    A    A    B    D    A    F    A  ...  0.533087  0.558922   \n",
       "2   3    A    A    A    C    B    D    A    D    A  ...  0.650609  0.375348   \n",
       "3   4    B    B    A    C    B    D    A    E    C  ...  0.668980  0.239061   \n",
       "4   6    A    A    A    C    B    D    A    E    A  ...  0.686964  0.420667   \n",
       "\n",
       "      cont7     cont8     cont9    cont10    cont11    cont12    cont13  \\\n",
       "0  0.310921  0.389470  0.267559  0.237281  0.377873  0.322401  0.869850   \n",
       "1  0.516294  0.594928  0.341439  0.906013  0.921701  0.261975  0.465083   \n",
       "2  0.902567  0.555205  0.843531  0.748809  0.620126  0.541474  0.763846   \n",
       "3  0.732948  0.679618  0.574844  0.346010  0.714610  0.540150  0.280682   \n",
       "4  0.648182  0.684501  0.956692  1.000773  0.776742  0.625849  0.250823   \n",
       "\n",
       "     target  \n",
       "0  8.113634  \n",
       "1  8.481233  \n",
       "2  8.364351  \n",
       "3  8.049253  \n",
       "4  7.972260  \n",
       "\n",
       "[5 rows x 26 columns]"
      ]
     },
     "execution_count": 4,
     "metadata": {},
     "output_type": "execute_result"
    }
   ],
   "source": [
    "# Load the training data\n",
    "train = pd.read_csv(\"../input/30-days-of-ml/train.csv\")\n",
    "test = pd.read_csv(\"../input/30-days-of-ml/test.csv\")\n",
    "\n",
    "# Preview the data\n",
    "train.head()"
   ]
  },
  {
   "cell_type": "code",
   "execution_count": 5,
   "id": "2de29763",
   "metadata": {
    "execution": {
     "iopub.execute_input": "2021-08-23T14:50:47.208352Z",
     "iopub.status.busy": "2021-08-23T14:50:47.207730Z",
     "iopub.status.idle": "2021-08-23T14:50:47.390595Z",
     "shell.execute_reply": "2021-08-23T14:50:47.391053Z",
     "shell.execute_reply.started": "2021-08-23T00:16:16.729191Z"
    },
    "papermill": {
     "duration": 0.206897,
     "end_time": "2021-08-23T14:50:47.391227",
     "exception": false,
     "start_time": "2021-08-23T14:50:47.184330",
     "status": "completed"
    },
    "tags": []
   },
   "outputs": [
    {
     "data": {
      "text/html": [
       "<div>\n",
       "<style scoped>\n",
       "    .dataframe tbody tr th:only-of-type {\n",
       "        vertical-align: middle;\n",
       "    }\n",
       "\n",
       "    .dataframe tbody tr th {\n",
       "        vertical-align: top;\n",
       "    }\n",
       "\n",
       "    .dataframe thead th {\n",
       "        text-align: right;\n",
       "    }\n",
       "</style>\n",
       "<table border=\"1\" class=\"dataframe\">\n",
       "  <thead>\n",
       "    <tr style=\"text-align: right;\">\n",
       "      <th></th>\n",
       "      <th>id</th>\n",
       "      <th>cat0</th>\n",
       "      <th>cat1</th>\n",
       "      <th>cat5</th>\n",
       "      <th>cat7</th>\n",
       "      <th>cat8</th>\n",
       "      <th>cat9</th>\n",
       "      <th>cont0</th>\n",
       "      <th>cont1</th>\n",
       "      <th>cont2</th>\n",
       "      <th>...</th>\n",
       "      <th>cont5</th>\n",
       "      <th>cont6</th>\n",
       "      <th>cont7</th>\n",
       "      <th>cont8</th>\n",
       "      <th>cont9</th>\n",
       "      <th>cont10</th>\n",
       "      <th>cont11</th>\n",
       "      <th>cont12</th>\n",
       "      <th>cont13</th>\n",
       "      <th>target</th>\n",
       "    </tr>\n",
       "  </thead>\n",
       "  <tbody>\n",
       "    <tr>\n",
       "      <th>0</th>\n",
       "      <td>1</td>\n",
       "      <td>B</td>\n",
       "      <td>B</td>\n",
       "      <td>B</td>\n",
       "      <td>E</td>\n",
       "      <td>C</td>\n",
       "      <td>N</td>\n",
       "      <td>0.201470</td>\n",
       "      <td>-0.014822</td>\n",
       "      <td>0.669699</td>\n",
       "      <td>...</td>\n",
       "      <td>0.400361</td>\n",
       "      <td>0.160266</td>\n",
       "      <td>0.310921</td>\n",
       "      <td>0.389470</td>\n",
       "      <td>0.267559</td>\n",
       "      <td>0.237281</td>\n",
       "      <td>0.377873</td>\n",
       "      <td>0.322401</td>\n",
       "      <td>0.869850</td>\n",
       "      <td>8.113634</td>\n",
       "    </tr>\n",
       "    <tr>\n",
       "      <th>1</th>\n",
       "      <td>2</td>\n",
       "      <td>B</td>\n",
       "      <td>B</td>\n",
       "      <td>D</td>\n",
       "      <td>F</td>\n",
       "      <td>A</td>\n",
       "      <td>O</td>\n",
       "      <td>0.743068</td>\n",
       "      <td>0.367411</td>\n",
       "      <td>1.021605</td>\n",
       "      <td>...</td>\n",
       "      <td>0.533087</td>\n",
       "      <td>0.558922</td>\n",
       "      <td>0.516294</td>\n",
       "      <td>0.594928</td>\n",
       "      <td>0.341439</td>\n",
       "      <td>0.906013</td>\n",
       "      <td>0.921701</td>\n",
       "      <td>0.261975</td>\n",
       "      <td>0.465083</td>\n",
       "      <td>8.481233</td>\n",
       "    </tr>\n",
       "    <tr>\n",
       "      <th>2</th>\n",
       "      <td>3</td>\n",
       "      <td>A</td>\n",
       "      <td>A</td>\n",
       "      <td>D</td>\n",
       "      <td>D</td>\n",
       "      <td>A</td>\n",
       "      <td>F</td>\n",
       "      <td>0.742708</td>\n",
       "      <td>0.310383</td>\n",
       "      <td>-0.012673</td>\n",
       "      <td>...</td>\n",
       "      <td>0.650609</td>\n",
       "      <td>0.375348</td>\n",
       "      <td>0.902567</td>\n",
       "      <td>0.555205</td>\n",
       "      <td>0.843531</td>\n",
       "      <td>0.748809</td>\n",
       "      <td>0.620126</td>\n",
       "      <td>0.541474</td>\n",
       "      <td>0.763846</td>\n",
       "      <td>8.364351</td>\n",
       "    </tr>\n",
       "    <tr>\n",
       "      <th>3</th>\n",
       "      <td>4</td>\n",
       "      <td>B</td>\n",
       "      <td>B</td>\n",
       "      <td>D</td>\n",
       "      <td>E</td>\n",
       "      <td>C</td>\n",
       "      <td>K</td>\n",
       "      <td>0.429551</td>\n",
       "      <td>0.620998</td>\n",
       "      <td>0.577942</td>\n",
       "      <td>...</td>\n",
       "      <td>0.668980</td>\n",
       "      <td>0.239061</td>\n",
       "      <td>0.732948</td>\n",
       "      <td>0.679618</td>\n",
       "      <td>0.574844</td>\n",
       "      <td>0.346010</td>\n",
       "      <td>0.714610</td>\n",
       "      <td>0.540150</td>\n",
       "      <td>0.280682</td>\n",
       "      <td>8.049253</td>\n",
       "    </tr>\n",
       "    <tr>\n",
       "      <th>4</th>\n",
       "      <td>6</td>\n",
       "      <td>A</td>\n",
       "      <td>A</td>\n",
       "      <td>D</td>\n",
       "      <td>E</td>\n",
       "      <td>A</td>\n",
       "      <td>N</td>\n",
       "      <td>1.058291</td>\n",
       "      <td>0.367492</td>\n",
       "      <td>-0.052389</td>\n",
       "      <td>...</td>\n",
       "      <td>0.686964</td>\n",
       "      <td>0.420667</td>\n",
       "      <td>0.648182</td>\n",
       "      <td>0.684501</td>\n",
       "      <td>0.956692</td>\n",
       "      <td>1.000773</td>\n",
       "      <td>0.776742</td>\n",
       "      <td>0.625849</td>\n",
       "      <td>0.250823</td>\n",
       "      <td>7.972260</td>\n",
       "    </tr>\n",
       "  </tbody>\n",
       "</table>\n",
       "<p>5 rows × 22 columns</p>\n",
       "</div>"
      ],
      "text/plain": [
       "   id cat0 cat1 cat5 cat7 cat8 cat9     cont0     cont1     cont2  ...  \\\n",
       "0   1    B    B    B    E    C    N  0.201470 -0.014822  0.669699  ...   \n",
       "1   2    B    B    D    F    A    O  0.743068  0.367411  1.021605  ...   \n",
       "2   3    A    A    D    D    A    F  0.742708  0.310383 -0.012673  ...   \n",
       "3   4    B    B    D    E    C    K  0.429551  0.620998  0.577942  ...   \n",
       "4   6    A    A    D    E    A    N  1.058291  0.367492 -0.052389  ...   \n",
       "\n",
       "      cont5     cont6     cont7     cont8     cont9    cont10    cont11  \\\n",
       "0  0.400361  0.160266  0.310921  0.389470  0.267559  0.237281  0.377873   \n",
       "1  0.533087  0.558922  0.516294  0.594928  0.341439  0.906013  0.921701   \n",
       "2  0.650609  0.375348  0.902567  0.555205  0.843531  0.748809  0.620126   \n",
       "3  0.668980  0.239061  0.732948  0.679618  0.574844  0.346010  0.714610   \n",
       "4  0.686964  0.420667  0.648182  0.684501  0.956692  1.000773  0.776742   \n",
       "\n",
       "     cont12    cont13    target  \n",
       "0  0.322401  0.869850  8.113634  \n",
       "1  0.261975  0.465083  8.481233  \n",
       "2  0.541474  0.763846  8.364351  \n",
       "3  0.540150  0.280682  8.049253  \n",
       "4  0.625849  0.250823  7.972260  \n",
       "\n",
       "[5 rows x 22 columns]"
      ]
     },
     "execution_count": 5,
     "metadata": {},
     "output_type": "execute_result"
    }
   ],
   "source": [
    "# Low MI scores\n",
    "for pp in [\"cat2\",\"cat3\",\"cat4\",\"cat6\"]:\n",
    "    train.pop(pp)\n",
    "    test.pop(pp)\n",
    "train.head()"
   ]
  },
  {
   "cell_type": "code",
   "execution_count": 6,
   "id": "930cbf7e",
   "metadata": {
    "execution": {
     "iopub.execute_input": "2021-08-23T14:50:47.429397Z",
     "iopub.status.busy": "2021-08-23T14:50:47.428793Z",
     "iopub.status.idle": "2021-08-23T14:50:47.480585Z",
     "shell.execute_reply": "2021-08-23T14:50:47.480023Z",
     "shell.execute_reply.started": "2021-08-23T00:16:16.834758Z"
    },
    "papermill": {
     "duration": 0.071822,
     "end_time": "2021-08-23T14:50:47.480734",
     "exception": false,
     "start_time": "2021-08-23T14:50:47.408912",
     "status": "completed"
    },
    "tags": []
   },
   "outputs": [
    {
     "data": {
      "text/html": [
       "<div>\n",
       "<style scoped>\n",
       "    .dataframe tbody tr th:only-of-type {\n",
       "        vertical-align: middle;\n",
       "    }\n",
       "\n",
       "    .dataframe tbody tr th {\n",
       "        vertical-align: top;\n",
       "    }\n",
       "\n",
       "    .dataframe thead th {\n",
       "        text-align: right;\n",
       "    }\n",
       "</style>\n",
       "<table border=\"1\" class=\"dataframe\">\n",
       "  <thead>\n",
       "    <tr style=\"text-align: right;\">\n",
       "      <th></th>\n",
       "      <th>cat0</th>\n",
       "      <th>cat1</th>\n",
       "      <th>cat5</th>\n",
       "      <th>cat7</th>\n",
       "      <th>cat8</th>\n",
       "      <th>cat9</th>\n",
       "      <th>cont0</th>\n",
       "      <th>cont1</th>\n",
       "      <th>cont2</th>\n",
       "      <th>cont3</th>\n",
       "      <th>cont4</th>\n",
       "      <th>cont5</th>\n",
       "      <th>cont6</th>\n",
       "      <th>cont7</th>\n",
       "      <th>cont8</th>\n",
       "      <th>cont9</th>\n",
       "      <th>cont10</th>\n",
       "      <th>cont11</th>\n",
       "      <th>cont12</th>\n",
       "      <th>cont13</th>\n",
       "    </tr>\n",
       "  </thead>\n",
       "  <tbody>\n",
       "    <tr>\n",
       "      <th>0</th>\n",
       "      <td>B</td>\n",
       "      <td>B</td>\n",
       "      <td>B</td>\n",
       "      <td>E</td>\n",
       "      <td>C</td>\n",
       "      <td>N</td>\n",
       "      <td>0.201470</td>\n",
       "      <td>-0.014822</td>\n",
       "      <td>0.669699</td>\n",
       "      <td>0.136278</td>\n",
       "      <td>0.610706</td>\n",
       "      <td>0.400361</td>\n",
       "      <td>0.160266</td>\n",
       "      <td>0.310921</td>\n",
       "      <td>0.389470</td>\n",
       "      <td>0.267559</td>\n",
       "      <td>0.237281</td>\n",
       "      <td>0.377873</td>\n",
       "      <td>0.322401</td>\n",
       "      <td>0.869850</td>\n",
       "    </tr>\n",
       "    <tr>\n",
       "      <th>1</th>\n",
       "      <td>B</td>\n",
       "      <td>B</td>\n",
       "      <td>D</td>\n",
       "      <td>F</td>\n",
       "      <td>A</td>\n",
       "      <td>O</td>\n",
       "      <td>0.743068</td>\n",
       "      <td>0.367411</td>\n",
       "      <td>1.021605</td>\n",
       "      <td>0.365798</td>\n",
       "      <td>0.276853</td>\n",
       "      <td>0.533087</td>\n",
       "      <td>0.558922</td>\n",
       "      <td>0.516294</td>\n",
       "      <td>0.594928</td>\n",
       "      <td>0.341439</td>\n",
       "      <td>0.906013</td>\n",
       "      <td>0.921701</td>\n",
       "      <td>0.261975</td>\n",
       "      <td>0.465083</td>\n",
       "    </tr>\n",
       "    <tr>\n",
       "      <th>2</th>\n",
       "      <td>A</td>\n",
       "      <td>A</td>\n",
       "      <td>D</td>\n",
       "      <td>D</td>\n",
       "      <td>A</td>\n",
       "      <td>F</td>\n",
       "      <td>0.742708</td>\n",
       "      <td>0.310383</td>\n",
       "      <td>-0.012673</td>\n",
       "      <td>0.576957</td>\n",
       "      <td>0.285074</td>\n",
       "      <td>0.650609</td>\n",
       "      <td>0.375348</td>\n",
       "      <td>0.902567</td>\n",
       "      <td>0.555205</td>\n",
       "      <td>0.843531</td>\n",
       "      <td>0.748809</td>\n",
       "      <td>0.620126</td>\n",
       "      <td>0.541474</td>\n",
       "      <td>0.763846</td>\n",
       "    </tr>\n",
       "    <tr>\n",
       "      <th>3</th>\n",
       "      <td>B</td>\n",
       "      <td>B</td>\n",
       "      <td>D</td>\n",
       "      <td>E</td>\n",
       "      <td>C</td>\n",
       "      <td>K</td>\n",
       "      <td>0.429551</td>\n",
       "      <td>0.620998</td>\n",
       "      <td>0.577942</td>\n",
       "      <td>0.280610</td>\n",
       "      <td>0.284667</td>\n",
       "      <td>0.668980</td>\n",
       "      <td>0.239061</td>\n",
       "      <td>0.732948</td>\n",
       "      <td>0.679618</td>\n",
       "      <td>0.574844</td>\n",
       "      <td>0.346010</td>\n",
       "      <td>0.714610</td>\n",
       "      <td>0.540150</td>\n",
       "      <td>0.280682</td>\n",
       "    </tr>\n",
       "    <tr>\n",
       "      <th>4</th>\n",
       "      <td>A</td>\n",
       "      <td>A</td>\n",
       "      <td>D</td>\n",
       "      <td>E</td>\n",
       "      <td>A</td>\n",
       "      <td>N</td>\n",
       "      <td>1.058291</td>\n",
       "      <td>0.367492</td>\n",
       "      <td>-0.052389</td>\n",
       "      <td>0.232407</td>\n",
       "      <td>0.287595</td>\n",
       "      <td>0.686964</td>\n",
       "      <td>0.420667</td>\n",
       "      <td>0.648182</td>\n",
       "      <td>0.684501</td>\n",
       "      <td>0.956692</td>\n",
       "      <td>1.000773</td>\n",
       "      <td>0.776742</td>\n",
       "      <td>0.625849</td>\n",
       "      <td>0.250823</td>\n",
       "    </tr>\n",
       "  </tbody>\n",
       "</table>\n",
       "</div>"
      ],
      "text/plain": [
       "  cat0 cat1 cat5 cat7 cat8 cat9     cont0     cont1     cont2     cont3  \\\n",
       "0    B    B    B    E    C    N  0.201470 -0.014822  0.669699  0.136278   \n",
       "1    B    B    D    F    A    O  0.743068  0.367411  1.021605  0.365798   \n",
       "2    A    A    D    D    A    F  0.742708  0.310383 -0.012673  0.576957   \n",
       "3    B    B    D    E    C    K  0.429551  0.620998  0.577942  0.280610   \n",
       "4    A    A    D    E    A    N  1.058291  0.367492 -0.052389  0.232407   \n",
       "\n",
       "      cont4     cont5     cont6     cont7     cont8     cont9    cont10  \\\n",
       "0  0.610706  0.400361  0.160266  0.310921  0.389470  0.267559  0.237281   \n",
       "1  0.276853  0.533087  0.558922  0.516294  0.594928  0.341439  0.906013   \n",
       "2  0.285074  0.650609  0.375348  0.902567  0.555205  0.843531  0.748809   \n",
       "3  0.284667  0.668980  0.239061  0.732948  0.679618  0.574844  0.346010   \n",
       "4  0.287595  0.686964  0.420667  0.648182  0.684501  0.956692  1.000773   \n",
       "\n",
       "     cont11    cont12    cont13  \n",
       "0  0.377873  0.322401  0.869850  \n",
       "1  0.921701  0.261975  0.465083  \n",
       "2  0.620126  0.541474  0.763846  \n",
       "3  0.714610  0.540150  0.280682  \n",
       "4  0.776742  0.625849  0.250823  "
      ]
     },
     "execution_count": 6,
     "metadata": {},
     "output_type": "execute_result"
    }
   ],
   "source": [
    "# Separate target from features\n",
    "y = train['target']\n",
    "features = train.drop(['id','target'], axis=1)\n",
    "\n",
    "# Preview features\n",
    "features.head()"
   ]
  },
  {
   "cell_type": "markdown",
   "id": "2585253a",
   "metadata": {
    "papermill": {
     "duration": 0.017881,
     "end_time": "2021-08-23T14:50:47.517068",
     "exception": false,
     "start_time": "2021-08-23T14:50:47.499187",
     "status": "completed"
    },
    "tags": []
   },
   "source": [
    "# Preprocessing"
   ]
  },
  {
   "cell_type": "code",
   "execution_count": 7,
   "id": "db2a1865",
   "metadata": {
    "execution": {
     "iopub.execute_input": "2021-08-23T14:50:47.559139Z",
     "iopub.status.busy": "2021-08-23T14:50:47.558460Z",
     "iopub.status.idle": "2021-08-23T14:50:49.900267Z",
     "shell.execute_reply": "2021-08-23T14:50:49.899748Z",
     "shell.execute_reply.started": "2021-08-23T00:16:16.898832Z"
    },
    "papermill": {
     "duration": 2.365203,
     "end_time": "2021-08-23T14:50:49.900408",
     "exception": false,
     "start_time": "2021-08-23T14:50:47.535205",
     "status": "completed"
    },
    "tags": []
   },
   "outputs": [
    {
     "data": {
      "text/html": [
       "<div>\n",
       "<style scoped>\n",
       "    .dataframe tbody tr th:only-of-type {\n",
       "        vertical-align: middle;\n",
       "    }\n",
       "\n",
       "    .dataframe tbody tr th {\n",
       "        vertical-align: top;\n",
       "    }\n",
       "\n",
       "    .dataframe thead th {\n",
       "        text-align: right;\n",
       "    }\n",
       "</style>\n",
       "<table border=\"1\" class=\"dataframe\">\n",
       "  <thead>\n",
       "    <tr style=\"text-align: right;\">\n",
       "      <th></th>\n",
       "      <th>cat0</th>\n",
       "      <th>cat1</th>\n",
       "      <th>cat5</th>\n",
       "      <th>cat7</th>\n",
       "      <th>cat8</th>\n",
       "      <th>cat9</th>\n",
       "      <th>cont0</th>\n",
       "      <th>cont1</th>\n",
       "      <th>cont2</th>\n",
       "      <th>cont3</th>\n",
       "      <th>cont4</th>\n",
       "      <th>cont5</th>\n",
       "      <th>cont6</th>\n",
       "      <th>cont7</th>\n",
       "      <th>cont8</th>\n",
       "      <th>cont9</th>\n",
       "      <th>cont10</th>\n",
       "      <th>cont11</th>\n",
       "      <th>cont12</th>\n",
       "      <th>cont13</th>\n",
       "    </tr>\n",
       "  </thead>\n",
       "  <tbody>\n",
       "    <tr>\n",
       "      <th>0</th>\n",
       "      <td>1.0</td>\n",
       "      <td>1.0</td>\n",
       "      <td>1.0</td>\n",
       "      <td>4.0</td>\n",
       "      <td>2.0</td>\n",
       "      <td>13.0</td>\n",
       "      <td>0.201470</td>\n",
       "      <td>-0.014822</td>\n",
       "      <td>0.669699</td>\n",
       "      <td>0.136278</td>\n",
       "      <td>0.610706</td>\n",
       "      <td>0.400361</td>\n",
       "      <td>0.160266</td>\n",
       "      <td>0.310921</td>\n",
       "      <td>0.389470</td>\n",
       "      <td>0.267559</td>\n",
       "      <td>0.237281</td>\n",
       "      <td>0.377873</td>\n",
       "      <td>0.322401</td>\n",
       "      <td>0.869850</td>\n",
       "    </tr>\n",
       "    <tr>\n",
       "      <th>1</th>\n",
       "      <td>1.0</td>\n",
       "      <td>1.0</td>\n",
       "      <td>3.0</td>\n",
       "      <td>5.0</td>\n",
       "      <td>0.0</td>\n",
       "      <td>14.0</td>\n",
       "      <td>0.743068</td>\n",
       "      <td>0.367411</td>\n",
       "      <td>1.021605</td>\n",
       "      <td>0.365798</td>\n",
       "      <td>0.276853</td>\n",
       "      <td>0.533087</td>\n",
       "      <td>0.558922</td>\n",
       "      <td>0.516294</td>\n",
       "      <td>0.594928</td>\n",
       "      <td>0.341439</td>\n",
       "      <td>0.906013</td>\n",
       "      <td>0.921701</td>\n",
       "      <td>0.261975</td>\n",
       "      <td>0.465083</td>\n",
       "    </tr>\n",
       "    <tr>\n",
       "      <th>2</th>\n",
       "      <td>0.0</td>\n",
       "      <td>0.0</td>\n",
       "      <td>3.0</td>\n",
       "      <td>3.0</td>\n",
       "      <td>0.0</td>\n",
       "      <td>5.0</td>\n",
       "      <td>0.742708</td>\n",
       "      <td>0.310383</td>\n",
       "      <td>-0.012673</td>\n",
       "      <td>0.576957</td>\n",
       "      <td>0.285074</td>\n",
       "      <td>0.650609</td>\n",
       "      <td>0.375348</td>\n",
       "      <td>0.902567</td>\n",
       "      <td>0.555205</td>\n",
       "      <td>0.843531</td>\n",
       "      <td>0.748809</td>\n",
       "      <td>0.620126</td>\n",
       "      <td>0.541474</td>\n",
       "      <td>0.763846</td>\n",
       "    </tr>\n",
       "    <tr>\n",
       "      <th>3</th>\n",
       "      <td>1.0</td>\n",
       "      <td>1.0</td>\n",
       "      <td>3.0</td>\n",
       "      <td>4.0</td>\n",
       "      <td>2.0</td>\n",
       "      <td>10.0</td>\n",
       "      <td>0.429551</td>\n",
       "      <td>0.620998</td>\n",
       "      <td>0.577942</td>\n",
       "      <td>0.280610</td>\n",
       "      <td>0.284667</td>\n",
       "      <td>0.668980</td>\n",
       "      <td>0.239061</td>\n",
       "      <td>0.732948</td>\n",
       "      <td>0.679618</td>\n",
       "      <td>0.574844</td>\n",
       "      <td>0.346010</td>\n",
       "      <td>0.714610</td>\n",
       "      <td>0.540150</td>\n",
       "      <td>0.280682</td>\n",
       "    </tr>\n",
       "    <tr>\n",
       "      <th>4</th>\n",
       "      <td>0.0</td>\n",
       "      <td>0.0</td>\n",
       "      <td>3.0</td>\n",
       "      <td>4.0</td>\n",
       "      <td>0.0</td>\n",
       "      <td>13.0</td>\n",
       "      <td>1.058291</td>\n",
       "      <td>0.367492</td>\n",
       "      <td>-0.052389</td>\n",
       "      <td>0.232407</td>\n",
       "      <td>0.287595</td>\n",
       "      <td>0.686964</td>\n",
       "      <td>0.420667</td>\n",
       "      <td>0.648182</td>\n",
       "      <td>0.684501</td>\n",
       "      <td>0.956692</td>\n",
       "      <td>1.000773</td>\n",
       "      <td>0.776742</td>\n",
       "      <td>0.625849</td>\n",
       "      <td>0.250823</td>\n",
       "    </tr>\n",
       "  </tbody>\n",
       "</table>\n",
       "</div>"
      ],
      "text/plain": [
       "   cat0  cat1  cat5  cat7  cat8  cat9     cont0     cont1     cont2     cont3  \\\n",
       "0   1.0   1.0   1.0   4.0   2.0  13.0  0.201470 -0.014822  0.669699  0.136278   \n",
       "1   1.0   1.0   3.0   5.0   0.0  14.0  0.743068  0.367411  1.021605  0.365798   \n",
       "2   0.0   0.0   3.0   3.0   0.0   5.0  0.742708  0.310383 -0.012673  0.576957   \n",
       "3   1.0   1.0   3.0   4.0   2.0  10.0  0.429551  0.620998  0.577942  0.280610   \n",
       "4   0.0   0.0   3.0   4.0   0.0  13.0  1.058291  0.367492 -0.052389  0.232407   \n",
       "\n",
       "      cont4     cont5     cont6     cont7     cont8     cont9    cont10  \\\n",
       "0  0.610706  0.400361  0.160266  0.310921  0.389470  0.267559  0.237281   \n",
       "1  0.276853  0.533087  0.558922  0.516294  0.594928  0.341439  0.906013   \n",
       "2  0.285074  0.650609  0.375348  0.902567  0.555205  0.843531  0.748809   \n",
       "3  0.284667  0.668980  0.239061  0.732948  0.679618  0.574844  0.346010   \n",
       "4  0.287595  0.686964  0.420667  0.648182  0.684501  0.956692  1.000773   \n",
       "\n",
       "     cont11    cont12    cont13  \n",
       "0  0.377873  0.322401  0.869850  \n",
       "1  0.921701  0.261975  0.465083  \n",
       "2  0.620126  0.541474  0.763846  \n",
       "3  0.714610  0.540150  0.280682  \n",
       "4  0.776742  0.625849  0.250823  "
      ]
     },
     "execution_count": 7,
     "metadata": {},
     "output_type": "execute_result"
    }
   ],
   "source": [
    "\n",
    "# List of categorical columns\n",
    "object_cols = [col for col in features.columns if 'cat' in col]\n",
    "\n",
    "# ordinal-encode categorical columns\n",
    "X = features.copy()\n",
    "X_test = test.drop(['id'], axis=1).copy()\n",
    "ordinal_encoder = OrdinalEncoder()\n",
    "X[object_cols] = ordinal_encoder.fit_transform(features[object_cols])\n",
    "X_test[object_cols] = ordinal_encoder.transform(test[object_cols])\n",
    "\n",
    "# Preview the ordinal-encoded features\n",
    "X.head()\n"
   ]
  },
  {
   "cell_type": "code",
   "execution_count": 8,
   "id": "bf7d00b9",
   "metadata": {
    "execution": {
     "iopub.execute_input": "2021-08-23T14:50:49.944373Z",
     "iopub.status.busy": "2021-08-23T14:50:49.943372Z",
     "iopub.status.idle": "2021-08-23T14:50:49.947873Z",
     "shell.execute_reply": "2021-08-23T14:50:49.948441Z",
     "shell.execute_reply.started": "2021-08-23T00:16:19.341219Z"
    },
    "papermill": {
     "duration": 0.029213,
     "end_time": "2021-08-23T14:50:49.948620",
     "exception": false,
     "start_time": "2021-08-23T14:50:49.919407",
     "status": "completed"
    },
    "tags": []
   },
   "outputs": [
    {
     "data": {
      "text/plain": [
       "'\\n# List of categorical columns\\nobject_cols = [col for col in features.columns if \\'cat\\' in col]\\n\\n# one-hot-encode categorical columns\\nX = features.copy()\\nX_test = test.drop([\\'id\\'], axis=1).copy()\\n\\noh_encoder = OneHotEncoder(sparse=False, handle_unknown=\"ignore\")\\nX_ohe = oh_encoder.fit_transform(features[object_cols])\\nX_test_ohe = oh_encoder.transform(test[object_cols])\\n\\nX_ohe = pd.DataFrame(X_ohe, columns=[f\"ohe_{i}\" for i in range(X_ohe.shape[1])])\\nX_test_ohe = pd.DataFrame(X_test_ohe, columns=[f\"ohe_{i}\" for i in range(X_test_ohe.shape[1])])\\n\\nX = pd.concat([X, X_ohe], axis=1)\\nX_test = pd.concat([X_test, X_test_ohe], axis=1)\\nX = X.drop(object_cols, axis=1)\\nX_test = X_test.drop(object_cols, axis=1)\\n    \\n# Preview the one-hot-encoded features\\nX.head()\\n'"
      ]
     },
     "execution_count": 8,
     "metadata": {},
     "output_type": "execute_result"
    }
   ],
   "source": [
    "'''\n",
    "# List of categorical columns\n",
    "object_cols = [col for col in features.columns if 'cat' in col]\n",
    "\n",
    "# one-hot-encode categorical columns\n",
    "X = features.copy()\n",
    "X_test = test.drop(['id'], axis=1).copy()\n",
    "\n",
    "oh_encoder = OneHotEncoder(sparse=False, handle_unknown=\"ignore\")\n",
    "X_ohe = oh_encoder.fit_transform(features[object_cols])\n",
    "X_test_ohe = oh_encoder.transform(test[object_cols])\n",
    "\n",
    "X_ohe = pd.DataFrame(X_ohe, columns=[f\"ohe_{i}\" for i in range(X_ohe.shape[1])])\n",
    "X_test_ohe = pd.DataFrame(X_test_ohe, columns=[f\"ohe_{i}\" for i in range(X_test_ohe.shape[1])])\n",
    "\n",
    "X = pd.concat([X, X_ohe], axis=1)\n",
    "X_test = pd.concat([X_test, X_test_ohe], axis=1)\n",
    "X = X.drop(object_cols, axis=1)\n",
    "X_test = X_test.drop(object_cols, axis=1)\n",
    "    \n",
    "# Preview the one-hot-encoded features\n",
    "X.head()\n",
    "'''"
   ]
  },
  {
   "cell_type": "code",
   "execution_count": 9,
   "id": "a7736690",
   "metadata": {
    "execution": {
     "iopub.execute_input": "2021-08-23T14:50:50.008348Z",
     "iopub.status.busy": "2021-08-23T14:50:50.007679Z",
     "iopub.status.idle": "2021-08-23T14:50:52.071741Z",
     "shell.execute_reply": "2021-08-23T14:50:52.071113Z",
     "shell.execute_reply.started": "2021-08-23T00:16:19.349749Z"
    },
    "papermill": {
     "duration": 2.103905,
     "end_time": "2021-08-23T14:50:52.071891",
     "exception": false,
     "start_time": "2021-08-23T14:50:49.967986",
     "status": "completed"
    },
    "tags": []
   },
   "outputs": [],
   "source": [
    "scale_features = [col for col in features.columns if 'cont' in col]\n",
    "\n",
    "ss = StandardScaler()\n",
    "X[scale_features] = ss.fit_transform(features[scale_features])\n",
    "X_test[scale_features] = ss.transform(test[scale_features])"
   ]
  },
  {
   "cell_type": "code",
   "execution_count": 10,
   "id": "f06b747c",
   "metadata": {
    "execution": {
     "iopub.execute_input": "2021-08-23T14:50:52.115090Z",
     "iopub.status.busy": "2021-08-23T14:50:52.114151Z",
     "iopub.status.idle": "2021-08-23T14:50:52.121453Z",
     "shell.execute_reply": "2021-08-23T14:50:52.121939Z",
     "shell.execute_reply.started": "2021-08-23T00:16:21.487354Z"
    },
    "papermill": {
     "duration": 0.030798,
     "end_time": "2021-08-23T14:50:52.122115",
     "exception": false,
     "start_time": "2021-08-23T14:50:52.091317",
     "status": "completed"
    },
    "tags": []
   },
   "outputs": [],
   "source": [
    "# Swap noise\n",
    "\n",
    "# Random\n",
    "def apply_noise_rn(df, p=.75):\n",
    "    should_not_swap = np.random.binomial(1, p, df.shape)\n",
    "    corrupted_df = df.where(should_not_swap == 1, np.random.permutation(df))\n",
    "    return corrupted_df\n",
    "\n",
    "# Row-wise\n",
    "def apply_noise_row(df, p=.75):\n",
    "    should_not_swap = np.zeros(df.shape)\n",
    "    for i in range(df.shape[0]):\n",
    "        for j in np.random.choice(df.shape[1],int(p*df.shape[1]),replace=False):\n",
    "            should_not_swap[i,j]=1 \n",
    "    corrupted_df = df.where(should_not_swap == 1, np.random.permutation(df))\n",
    "    return corrupted_df"
   ]
  },
  {
   "cell_type": "markdown",
   "id": "d24e15ba",
   "metadata": {
    "papermill": {
     "duration": 0.018931,
     "end_time": "2021-08-23T14:50:52.160434",
     "exception": false,
     "start_time": "2021-08-23T14:50:52.141503",
     "status": "completed"
    },
    "tags": []
   },
   "source": [
    "# Pseudo Label"
   ]
  },
  {
   "cell_type": "code",
   "execution_count": 11,
   "id": "5239e8ba",
   "metadata": {
    "execution": {
     "iopub.execute_input": "2021-08-23T14:50:52.204625Z",
     "iopub.status.busy": "2021-08-23T14:50:52.203403Z",
     "iopub.status.idle": "2021-08-23T14:50:52.530934Z",
     "shell.execute_reply": "2021-08-23T14:50:52.531399Z",
     "shell.execute_reply.started": "2021-08-23T00:16:21.499316Z"
    },
    "papermill": {
     "duration": 0.35174,
     "end_time": "2021-08-23T14:50:52.531601",
     "exception": false,
     "start_time": "2021-08-23T14:50:52.179861",
     "status": "completed"
    },
    "tags": []
   },
   "outputs": [],
   "source": [
    "pseudo = pd.read_csv(\"../input/30-days-pseudo/submission.csv\")[target]\n",
    "train_pseudo = pd.concat([X, y], axis=1)\n",
    "test_pseudo = pd.concat([X_test, pseudo], axis=1)\n",
    "all_pseudo = pd.concat([train_pseudo, test_pseudo]).reset_index(drop=True)"
   ]
  },
  {
   "cell_type": "markdown",
   "id": "18a452bb",
   "metadata": {
    "papermill": {
     "duration": 0.019138,
     "end_time": "2021-08-23T14:50:52.570014",
     "exception": false,
     "start_time": "2021-08-23T14:50:52.550876",
     "status": "completed"
    },
    "tags": []
   },
   "source": [
    "# Optuna"
   ]
  },
  {
   "cell_type": "code",
   "execution_count": 12,
   "id": "2334f031",
   "metadata": {
    "execution": {
     "iopub.execute_input": "2021-08-23T14:50:52.612394Z",
     "iopub.status.busy": "2021-08-23T14:50:52.611422Z",
     "iopub.status.idle": "2021-08-23T14:51:01.892024Z",
     "shell.execute_reply": "2021-08-23T14:51:01.890948Z",
     "shell.execute_reply.started": "2021-08-23T00:16:21.841088Z"
    },
    "papermill": {
     "duration": 9.302806,
     "end_time": "2021-08-23T14:51:01.892219",
     "exception": false,
     "start_time": "2021-08-23T14:50:52.589413",
     "status": "completed"
    },
    "tags": []
   },
   "outputs": [
    {
     "name": "stdout",
     "output_type": "stream",
     "text": [
      "\u001b[33mWARNING: Running pip as root will break packages and permissions. You should install packages reliably by using venv: https://pip.pypa.io/warnings/venv\u001b[0m\r\n"
     ]
    }
   ],
   "source": [
    "# Optuna for parameter search\n",
    "!pip install -q optuna\n",
    "\n",
    "import optuna\n",
    "import pickle"
   ]
  },
  {
   "cell_type": "code",
   "execution_count": 13,
   "id": "851b92e1",
   "metadata": {
    "execution": {
     "iopub.execute_input": "2021-08-23T14:51:01.949254Z",
     "iopub.status.busy": "2021-08-23T14:51:01.948533Z",
     "iopub.status.idle": "2021-08-23T14:51:01.951645Z",
     "shell.execute_reply": "2021-08-23T14:51:01.951023Z",
     "shell.execute_reply.started": "2021-08-23T00:16:31.417078Z"
    },
    "papermill": {
     "duration": 0.039511,
     "end_time": "2021-08-23T14:51:01.951784",
     "exception": false,
     "start_time": "2021-08-23T14:51:01.912273",
     "status": "completed"
    },
    "tags": []
   },
   "outputs": [],
   "source": [
    "# for the fixed learning rate, use the opt n iterations and tune the tree hyperparameters\n",
    "def objective(trial, X=all_pseudo.iloc[:,:-1], y=all_pseudo[target]):\n",
    "  \"\"\"\n",
    "  \"\"\"\n",
    "  param_space = {\n",
    "               #'device':'gpu',  # Use GPU acceleration\n",
    "               #'boosting_type': 'gbdt',\n",
    "               'reg_lambda':trial.suggest_uniform('reg_lambda', 0.01, 100),\n",
    "              'reg_alpha':trial.suggest_uniform('reg_alpha', 0.01, 50),\n",
    "                'subsample': trial.suggest_uniform('subsample', 0.2, 1.0),\n",
    "              'colsample_bytree':trial.suggest_uniform('colsample_bytree', 0.1, 1.0),\n",
    "                #'subsample_freq': trial.suggest_int('subsample_freq', 1, 10),\n",
    "               'learning_rate':trial.suggest_uniform('learning_rate', 1e-3, 1),\n",
    "                 'min_child_samples':trial.suggest_int('min_child_samples', 5, 100),\n",
    "              'num_leaves':trial.suggest_int('num_leaves', 10, 200),\n",
    "              'max_depth':trial.suggest_int('max_depth', 2, 30),\n",
    "              #'min_split_gain': trial.suggest_float('min_split_gain', 0.0, 0.005),\n",
    "              #'class_weight':trial.suggest_categorical('class_weight',['balanced',None]),\n",
    "               'n_estimators':N_ESTIMATORS,\n",
    "                'n_jobs' : -1,\n",
    "              'metric':'rmse',\n",
    "              'max_bin':trial.suggest_int('max_bin', 300, 1000),\n",
    "              'cat_smooth':trial.suggest_int('cat_smooth', 5, 100),\n",
    "              'cat_l2':trial.suggest_loguniform('cat_l2', 1e-3, 100)\n",
    "                }\n",
    "            \n",
    "  seed_list=[SEED, SEED+1]\n",
    "  #kf = KFold(n_splits=N_SPLITS, shuffle=True, random_state=CVSEED)\n",
    "  lgb_oof = np.zeros(train.shape[0])\n",
    "  #lgb_pred = np.zeros(test.shape[0])\n",
    "  X_tr, X_va, y_tr, y_va = train_test_split(X,y,test_size=.2,random_state=CVSEED)\n",
    "  trn_idx = X_tr.index\n",
    "  val_idx = X_va.index\n",
    "  \n",
    "  #for (trn_idx, val_idx) in enumerate(kf.split(X, y)):\n",
    "  #print(f\"===== fold {fold} =====\")\n",
    "  oof_idx = np.array([idx for idx in val_idx if idx < train.shape[0]])\n",
    "  preds_idx = np.array([idx for idx in val_idx if idx >= train.shape[0]])\n",
    "\n",
    "  X_train, y_train = all_pseudo.iloc[trn_idx, :-1], all_pseudo[target].iloc[trn_idx]\n",
    "  #X_train = apply_noise_rn(X_train)\n",
    "\n",
    "  X_valid, y_valid = all_pseudo.iloc[oof_idx, :-1], all_pseudo[target].iloc[oof_idx]\n",
    "  #X_test = all_pseudo[scale_features].iloc[preds_idx]\n",
    "  \n",
    "  #start = time.time()\n",
    "  for inseed in seed_list:\n",
    "    param_space['random_state'] = inseed\n",
    "\n",
    "    model = lgb.LGBMRegressor(**param_space)\n",
    "    model.fit(\n",
    "        X_train, \n",
    "        y_train,\n",
    "        eval_set=[(X_valid, y_valid)],\n",
    "        eval_metric='rmse',\n",
    "        early_stopping_rounds=EARLY_STOPPING_ROUNDS,\n",
    "        verbose=VERBOSE,\n",
    "        categorical_feature=[0, 1, 2, 3, 4, 5, 6, 7, 8, 9]\n",
    "        #callbacks=[optuna.integration.LightGBMPruningCallback(trial, metric='rmse')],\n",
    "    )\n",
    "\n",
    "\n",
    "    lgb_oof[oof_idx] += model.predict(X_valid) / len(seed_list)\n",
    "    #lgb_pred[preds_idx-train.shape[0]] += model.predict(X_test) / len(seed_list)\n",
    "\n",
    "  #elapsed = time.time() - start\n",
    "  rmse = mean_squared_error(y_valid, lgb_oof[oof_idx], squared=False)\n",
    "  #print(f\"fold {fold} - lgb rmse: {rmse:.6f}, elapsed time: {elapsed:.2f}sec\\n\")            \n",
    "  \n",
    "  #print(f\"oof lgb_rmse = {mean_squared_error(train[target], lgb_oof, squared=False)}\")\n",
    "\n",
    "  \n",
    "  return rmse"
   ]
  },
  {
   "cell_type": "code",
   "execution_count": 14,
   "id": "00c8bc44",
   "metadata": {
    "execution": {
     "iopub.execute_input": "2021-08-23T14:51:01.996742Z",
     "iopub.status.busy": "2021-08-23T14:51:01.996029Z",
     "iopub.status.idle": "2021-08-23T15:45:26.574681Z",
     "shell.execute_reply": "2021-08-23T15:45:26.573951Z",
     "shell.execute_reply.started": "2021-08-23T00:16:31.436472Z"
    },
    "papermill": {
     "duration": 3264.603594,
     "end_time": "2021-08-23T15:45:26.574984",
     "exception": false,
     "start_time": "2021-08-23T14:51:01.971390",
     "status": "completed"
    },
    "tags": []
   },
   "outputs": [
    {
     "name": "stderr",
     "output_type": "stream",
     "text": [
      "\u001b[32m[I 2021-08-23 14:51:01,994]\u001b[0m A new study created in memory with name: no-name-6c6c752f-2de4-4881-9e75-d666af1da3e2\u001b[0m\n"
     ]
    },
    {
     "name": "stdout",
     "output_type": "stream",
     "text": [
      "Training until validation scores don't improve for 200 rounds\n",
      "Early stopping, best iteration is:\n",
      "[78]\tvalid_0's rmse: 0.715448\n",
      "Training until validation scores don't improve for 200 rounds\n"
     ]
    },
    {
     "name": "stderr",
     "output_type": "stream",
     "text": [
      "\u001b[32m[I 2021-08-23 14:51:25,681]\u001b[0m Trial 0 finished with value: 0.7144756146995378 and parameters: {'reg_lambda': 16.387039405987355, 'reg_alpha': 16.247821826951892, 'subsample': 0.47752431429381376, 'colsample_bytree': 0.8960762060747465, 'learning_rate': 0.29407458120981017, 'min_child_samples': 74, 'num_leaves': 78, 'max_depth': 24, 'max_bin': 917, 'cat_smooth': 16, 'cat_l2': 0.006712594921545039}. Best is trial 0 with value: 0.7144756146995378.\u001b[0m\n"
     ]
    },
    {
     "name": "stdout",
     "output_type": "stream",
     "text": [
      "Early stopping, best iteration is:\n",
      "[66]\tvalid_0's rmse: 0.715173\n",
      "Training until validation scores don't improve for 200 rounds\n",
      "Early stopping, best iteration is:\n",
      "[36]\tvalid_0's rmse: 0.716238\n",
      "Training until validation scores don't improve for 200 rounds\n"
     ]
    },
    {
     "name": "stderr",
     "output_type": "stream",
     "text": [
      "\u001b[32m[I 2021-08-23 14:51:46,559]\u001b[0m Trial 1 finished with value: 0.7148411154381455 and parameters: {'reg_lambda': 23.228329738145455, 'reg_alpha': 15.578555086069409, 'subsample': 0.7697016718190468, 'colsample_bytree': 0.27225576696605913, 'learning_rate': 0.5281783173066487, 'min_child_samples': 42, 'num_leaves': 189, 'max_depth': 30, 'max_bin': 678, 'cat_smooth': 85, 'cat_l2': 0.0194932122458214}. Best is trial 0 with value: 0.7144756146995378.\u001b[0m\n"
     ]
    },
    {
     "name": "stdout",
     "output_type": "stream",
     "text": [
      "Early stopping, best iteration is:\n",
      "[34]\tvalid_0's rmse: 0.716729\n",
      "Training until validation scores don't improve for 200 rounds\n",
      "[1000]\tvalid_0's rmse: 0.717176\n",
      "[2000]\tvalid_0's rmse: 0.714629\n",
      "[3000]\tvalid_0's rmse: 0.71387\n",
      "[4000]\tvalid_0's rmse: 0.713512\n",
      "[5000]\tvalid_0's rmse: 0.713399\n",
      "Early stopping, best iteration is:\n",
      "[5502]\tvalid_0's rmse: 0.713359\n",
      "Training until validation scores don't improve for 200 rounds\n",
      "[1000]\tvalid_0's rmse: 0.717222\n",
      "[2000]\tvalid_0's rmse: 0.71457\n",
      "[3000]\tvalid_0's rmse: 0.713766\n",
      "[4000]\tvalid_0's rmse: 0.713481\n",
      "[5000]\tvalid_0's rmse: 0.713401\n",
      "Early stopping, best iteration is:\n",
      "[4919]\tvalid_0's rmse: 0.713393\n"
     ]
    },
    {
     "name": "stderr",
     "output_type": "stream",
     "text": [
      "\u001b[32m[I 2021-08-23 14:54:38,653]\u001b[0m Trial 2 finished with value: 0.7132650949389292 and parameters: {'reg_lambda': 28.724637450305423, 'reg_alpha': 8.237252813254061, 'subsample': 0.8342652462801474, 'colsample_bytree': 0.7884174555977527, 'learning_rate': 0.04221322279986934, 'min_child_samples': 73, 'num_leaves': 174, 'max_depth': 3, 'max_bin': 649, 'cat_smooth': 94, 'cat_l2': 0.007582993419544741}. Best is trial 2 with value: 0.7132650949389292.\u001b[0m\n"
     ]
    },
    {
     "name": "stdout",
     "output_type": "stream",
     "text": [
      "Training until validation scores don't improve for 200 rounds\n",
      "Early stopping, best iteration is:\n",
      "[93]\tvalid_0's rmse: 0.715675\n",
      "Training until validation scores don't improve for 200 rounds\n"
     ]
    },
    {
     "name": "stderr",
     "output_type": "stream",
     "text": [
      "\u001b[32m[I 2021-08-23 14:54:51,443]\u001b[0m Trial 3 finished with value: 0.7146542571971023 and parameters: {'reg_lambda': 81.14045437269921, 'reg_alpha': 1.9171704252142114, 'subsample': 0.7677794589692766, 'colsample_bytree': 0.7180762941762456, 'learning_rate': 0.735928067253769, 'min_child_samples': 7, 'num_leaves': 22, 'max_depth': 4, 'max_bin': 552, 'cat_smooth': 20, 'cat_l2': 15.004566215212657}. Best is trial 2 with value: 0.7132650949389292.\u001b[0m\n"
     ]
    },
    {
     "name": "stdout",
     "output_type": "stream",
     "text": [
      "Early stopping, best iteration is:\n",
      "[83]\tvalid_0's rmse: 0.716323\n",
      "Training until validation scores don't improve for 200 rounds\n",
      "Early stopping, best iteration is:\n",
      "[77]\tvalid_0's rmse: 0.715973\n",
      "Training until validation scores don't improve for 200 rounds\n",
      "Early stopping, best iteration is:\n",
      "[84]\tvalid_0's rmse: 0.715762\n"
     ]
    },
    {
     "name": "stderr",
     "output_type": "stream",
     "text": [
      "\u001b[32m[I 2021-08-23 14:55:09,865]\u001b[0m Trial 4 finished with value: 0.7150679028889722 and parameters: {'reg_lambda': 26.841546383498468, 'reg_alpha': 9.427479854204208, 'subsample': 0.7328218145245291, 'colsample_bytree': 0.9559871327565951, 'learning_rate': 0.2852864807217327, 'min_child_samples': 35, 'num_leaves': 63, 'max_depth': 22, 'max_bin': 558, 'cat_smooth': 32, 'cat_l2': 2.7342986083868244}. Best is trial 2 with value: 0.7132650949389292.\u001b[0m\n"
     ]
    },
    {
     "name": "stdout",
     "output_type": "stream",
     "text": [
      "Training until validation scores don't improve for 200 rounds\n",
      "Early stopping, best iteration is:\n",
      "[13]\tvalid_0's rmse: 0.720918\n",
      "Training until validation scores don't improve for 200 rounds\n"
     ]
    },
    {
     "name": "stderr",
     "output_type": "stream",
     "text": [
      "\u001b[32m[I 2021-08-23 14:55:35,268]\u001b[0m Trial 5 finished with value: 0.7173494480857486 and parameters: {'reg_lambda': 51.22816142593612, 'reg_alpha': 17.02485329998982, 'subsample': 0.5789534398033316, 'colsample_bytree': 0.6993003270243139, 'learning_rate': 0.9145970843957766, 'min_child_samples': 67, 'num_leaves': 179, 'max_depth': 14, 'max_bin': 742, 'cat_smooth': 99, 'cat_l2': 9.92274428106438}. Best is trial 2 with value: 0.7132650949389292.\u001b[0m\n"
     ]
    },
    {
     "name": "stdout",
     "output_type": "stream",
     "text": [
      "Early stopping, best iteration is:\n",
      "[12]\tvalid_0's rmse: 0.720798\n",
      "Training until validation scores don't improve for 200 rounds\n",
      "Early stopping, best iteration is:\n",
      "[16]\tvalid_0's rmse: 0.719344\n",
      "Training until validation scores don't improve for 200 rounds\n"
     ]
    },
    {
     "name": "stderr",
     "output_type": "stream",
     "text": [
      "\u001b[32m[I 2021-08-23 14:56:07,835]\u001b[0m Trial 6 finished with value: 0.7175702069793399 and parameters: {'reg_lambda': 94.93766194284426, 'reg_alpha': 47.90907285546832, 'subsample': 0.24167634324419832, 'colsample_bytree': 0.9545518564665488, 'learning_rate': 0.7666993318335387, 'min_child_samples': 65, 'num_leaves': 172, 'max_depth': 25, 'max_bin': 871, 'cat_smooth': 14, 'cat_l2': 0.00517065163155389}. Best is trial 2 with value: 0.7132650949389292.\u001b[0m\n"
     ]
    },
    {
     "name": "stdout",
     "output_type": "stream",
     "text": [
      "Early stopping, best iteration is:\n",
      "[22]\tvalid_0's rmse: 0.720341\n",
      "Training until validation scores don't improve for 200 rounds\n",
      "Early stopping, best iteration is:\n",
      "[171]\tvalid_0's rmse: 0.715402\n",
      "Training until validation scores don't improve for 200 rounds\n"
     ]
    },
    {
     "name": "stderr",
     "output_type": "stream",
     "text": [
      "\u001b[32m[I 2021-08-23 14:56:26,124]\u001b[0m Trial 7 finished with value: 0.7141621455990994 and parameters: {'reg_lambda': 10.266409756755314, 'reg_alpha': 8.641181187142795, 'subsample': 0.837687275623596, 'colsample_bytree': 0.4711632750651541, 'learning_rate': 0.9842516933408881, 'min_child_samples': 15, 'num_leaves': 146, 'max_depth': 3, 'max_bin': 900, 'cat_smooth': 15, 'cat_l2': 0.009197625814676291}. Best is trial 2 with value: 0.7132650949389292.\u001b[0m\n"
     ]
    },
    {
     "name": "stdout",
     "output_type": "stream",
     "text": [
      "Early stopping, best iteration is:\n",
      "[167]\tvalid_0's rmse: 0.715456\n",
      "Training until validation scores don't improve for 200 rounds\n",
      "Early stopping, best iteration is:\n",
      "[34]\tvalid_0's rmse: 0.715639\n",
      "Training until validation scores don't improve for 200 rounds\n"
     ]
    },
    {
     "name": "stderr",
     "output_type": "stream",
     "text": [
      "\u001b[32m[I 2021-08-23 14:56:44,515]\u001b[0m Trial 8 finished with value: 0.7143757579829529 and parameters: {'reg_lambda': 60.53904487069175, 'reg_alpha': 22.36382207272888, 'subsample': 0.431859625794627, 'colsample_bytree': 0.44631027880216545, 'learning_rate': 0.6852600749910992, 'min_child_samples': 24, 'num_leaves': 63, 'max_depth': 27, 'max_bin': 992, 'cat_smooth': 14, 'cat_l2': 0.019621318693419806}. Best is trial 2 with value: 0.7132650949389292.\u001b[0m\n"
     ]
    },
    {
     "name": "stdout",
     "output_type": "stream",
     "text": [
      "Early stopping, best iteration is:\n",
      "[42]\tvalid_0's rmse: 0.716455\n",
      "Training until validation scores don't improve for 200 rounds\n",
      "[1000]\tvalid_0's rmse: 0.713702\n",
      "Early stopping, best iteration is:\n",
      "[1227]\tvalid_0's rmse: 0.713653\n",
      "Training until validation scores don't improve for 200 rounds\n",
      "[1000]\tvalid_0's rmse: 0.713729\n",
      "Early stopping, best iteration is:\n",
      "[1057]\tvalid_0's rmse: 0.713695\n"
     ]
    },
    {
     "name": "stderr",
     "output_type": "stream",
     "text": [
      "\u001b[32m[I 2021-08-23 14:57:34,180]\u001b[0m Trial 9 finished with value: 0.7134546621684625 and parameters: {'reg_lambda': 87.1872056685274, 'reg_alpha': 14.98089307483873, 'subsample': 0.5022897315112489, 'colsample_bytree': 0.9081661958906263, 'learning_rate': 0.1285046511755429, 'min_child_samples': 7, 'num_leaves': 153, 'max_depth': 4, 'max_bin': 658, 'cat_smooth': 22, 'cat_l2': 1.0346303645447643}. Best is trial 2 with value: 0.7132650949389292.\u001b[0m\n"
     ]
    },
    {
     "name": "stdout",
     "output_type": "stream",
     "text": [
      "Training until validation scores don't improve for 200 rounds\n",
      "[1000]\tvalid_0's rmse: 0.722353\n",
      "[2000]\tvalid_0's rmse: 0.718564\n",
      "[3000]\tvalid_0's rmse: 0.71684\n",
      "[4000]\tvalid_0's rmse: 0.715884\n",
      "[5000]\tvalid_0's rmse: 0.715388\n",
      "[6000]\tvalid_0's rmse: 0.715071\n",
      "[7000]\tvalid_0's rmse: 0.714885\n",
      "[8000]\tvalid_0's rmse: 0.714776\n",
      "[9000]\tvalid_0's rmse: 0.714696\n",
      "[10000]\tvalid_0's rmse: 0.714647\n",
      "Early stopping, best iteration is:\n",
      "[10656]\tvalid_0's rmse: 0.71462\n",
      "Training until validation scores don't improve for 200 rounds\n",
      "[1000]\tvalid_0's rmse: 0.722418\n",
      "[2000]\tvalid_0's rmse: 0.718628\n",
      "[3000]\tvalid_0's rmse: 0.716959\n",
      "[4000]\tvalid_0's rmse: 0.716014\n",
      "[5000]\tvalid_0's rmse: 0.715492\n",
      "[6000]\tvalid_0's rmse: 0.715219\n",
      "[7000]\tvalid_0's rmse: 0.715055\n",
      "[8000]\tvalid_0's rmse: 0.714942\n",
      "[9000]\tvalid_0's rmse: 0.714843\n",
      "[10000]\tvalid_0's rmse: 0.714808\n",
      "Early stopping, best iteration is:\n",
      "[10721]\tvalid_0's rmse: 0.714772\n"
     ]
    },
    {
     "name": "stderr",
     "output_type": "stream",
     "text": [
      "\u001b[32m[I 2021-08-23 15:13:04,996]\u001b[0m Trial 10 finished with value: 0.7145723387744957 and parameters: {'reg_lambda': 38.608173707253336, 'reg_alpha': 36.7293178212926, 'subsample': 0.9881069681441683, 'colsample_bytree': 0.6975559751232432, 'learning_rate': 0.004177060932049899, 'min_child_samples': 100, 'num_leaves': 127, 'max_depth': 9, 'max_bin': 302, 'cat_smooth': 63, 'cat_l2': 0.14181384129201596}. Best is trial 2 with value: 0.7132650949389292.\u001b[0m\n"
     ]
    },
    {
     "name": "stdout",
     "output_type": "stream",
     "text": [
      "Training until validation scores don't improve for 200 rounds\n",
      "[1000]\tvalid_0's rmse: 0.722299\n",
      "[2000]\tvalid_0's rmse: 0.718467\n",
      "[3000]\tvalid_0's rmse: 0.716783\n",
      "[4000]\tvalid_0's rmse: 0.715827\n",
      "[5000]\tvalid_0's rmse: 0.715359\n",
      "[6000]\tvalid_0's rmse: 0.715105\n",
      "[7000]\tvalid_0's rmse: 0.714972\n",
      "Early stopping, best iteration is:\n",
      "[7577]\tvalid_0's rmse: 0.714947\n",
      "Training until validation scores don't improve for 200 rounds\n",
      "[1000]\tvalid_0's rmse: 0.722303\n",
      "[2000]\tvalid_0's rmse: 0.718643\n",
      "[3000]\tvalid_0's rmse: 0.716931\n",
      "[4000]\tvalid_0's rmse: 0.715955\n",
      "[5000]\tvalid_0's rmse: 0.715438\n",
      "[6000]\tvalid_0's rmse: 0.715176\n",
      "[7000]\tvalid_0's rmse: 0.715021\n",
      "[8000]\tvalid_0's rmse: 0.714943\n",
      "Early stopping, best iteration is:\n",
      "[8719]\tvalid_0's rmse: 0.714904\n"
     ]
    },
    {
     "name": "stderr",
     "output_type": "stream",
     "text": [
      "\u001b[32m[I 2021-08-23 15:24:42,607]\u001b[0m Trial 11 finished with value: 0.7147615017191958 and parameters: {'reg_lambda': 72.38985654993505, 'reg_alpha': 2.239367684818375, 'subsample': 0.3136051762690186, 'colsample_bytree': 0.8298965392494919, 'learning_rate': 0.004070705965308619, 'min_child_samples': 98, 'num_leaves': 145, 'max_depth': 8, 'max_bin': 430, 'cat_smooth': 51, 'cat_l2': 0.42931778334933557}. Best is trial 2 with value: 0.7132650949389292.\u001b[0m\n"
     ]
    },
    {
     "name": "stdout",
     "output_type": "stream",
     "text": [
      "Training until validation scores don't improve for 200 rounds\n",
      "Early stopping, best iteration is:\n",
      "[336]\tvalid_0's rmse: 0.714358\n",
      "Training until validation scores don't improve for 200 rounds\n",
      "Early stopping, best iteration is:\n",
      "[298]\tvalid_0's rmse: 0.71489\n"
     ]
    },
    {
     "name": "stderr",
     "output_type": "stream",
     "text": [
      "\u001b[32m[I 2021-08-23 15:25:23,902]\u001b[0m Trial 12 finished with value: 0.7142657135350746 and parameters: {'reg_lambda': 96.52713055240292, 'reg_alpha': 30.70129621881879, 'subsample': 0.9479967269427239, 'colsample_bytree': 0.8110306816734141, 'learning_rate': 0.13089462845201408, 'min_child_samples': 82, 'num_leaves': 112, 'max_depth': 8, 'max_bin': 765, 'cat_smooth': 49, 'cat_l2': 0.0010951896885448237}. Best is trial 2 with value: 0.7132650949389292.\u001b[0m\n"
     ]
    },
    {
     "name": "stdout",
     "output_type": "stream",
     "text": [
      "Training until validation scores don't improve for 200 rounds\n",
      "[1000]\tvalid_0's rmse: 0.714061\n",
      "[2000]\tvalid_0's rmse: 0.713093\n",
      "Early stopping, best iteration is:\n",
      "[2538]\tvalid_0's rmse: 0.713021\n",
      "Training until validation scores don't improve for 200 rounds\n",
      "[1000]\tvalid_0's rmse: 0.714208\n",
      "[2000]\tvalid_0's rmse: 0.713229\n",
      "Early stopping, best iteration is:\n",
      "[1988]\tvalid_0's rmse: 0.713217\n"
     ]
    },
    {
     "name": "stderr",
     "output_type": "stream",
     "text": [
      "\u001b[32m[I 2021-08-23 15:26:56,216]\u001b[0m Trial 13 finished with value: 0.7129671568808704 and parameters: {'reg_lambda': 36.86116989706787, 'reg_alpha': 8.868703818825622, 'subsample': 0.6095692653245135, 'colsample_bytree': 0.5738076013007622, 'learning_rate': 0.19839609159739033, 'min_child_samples': 51, 'num_leaves': 199, 'max_depth': 2, 'max_bin': 554, 'cat_smooth': 76, 'cat_l2': 0.39251082737096415}. Best is trial 13 with value: 0.7129671568808704.\u001b[0m\n"
     ]
    },
    {
     "name": "stdout",
     "output_type": "stream",
     "text": [
      "Training until validation scores don't improve for 200 rounds\n",
      "Early stopping, best iteration is:\n",
      "[40]\tvalid_0's rmse: 0.717986\n",
      "Training until validation scores don't improve for 200 rounds\n"
     ]
    },
    {
     "name": "stderr",
     "output_type": "stream",
     "text": [
      "\u001b[32m[I 2021-08-23 15:27:14,552]\u001b[0m Trial 14 finished with value: 0.7162196169488023 and parameters: {'reg_lambda': 2.2903355290088854, 'reg_alpha': 0.5778833334674403, 'subsample': 0.6195810935432051, 'colsample_bytree': 0.5852132134272477, 'learning_rate': 0.30876472228180707, 'min_child_samples': 53, 'num_leaves': 196, 'max_depth': 15, 'max_bin': 502, 'cat_smooth': 79, 'cat_l2': 0.10999111054014993}. Best is trial 13 with value: 0.7129671568808704.\u001b[0m\n"
     ]
    },
    {
     "name": "stdout",
     "output_type": "stream",
     "text": [
      "Early stopping, best iteration is:\n",
      "[37]\tvalid_0's rmse: 0.717811\n",
      "Training until validation scores don't improve for 200 rounds\n",
      "[1000]\tvalid_0's rmse: 0.715503\n",
      "[2000]\tvalid_0's rmse: 0.713654\n",
      "[3000]\tvalid_0's rmse: 0.713225\n",
      "Early stopping, best iteration is:\n",
      "[3033]\tvalid_0's rmse: 0.713208\n",
      "Training until validation scores don't improve for 200 rounds\n",
      "[1000]\tvalid_0's rmse: 0.71552\n",
      "[2000]\tvalid_0's rmse: 0.713796\n",
      "[3000]\tvalid_0's rmse: 0.713378\n",
      "[4000]\tvalid_0's rmse: 0.713279\n",
      "Early stopping, best iteration is:\n",
      "[3988]\tvalid_0's rmse: 0.713275\n"
     ]
    },
    {
     "name": "stderr",
     "output_type": "stream",
     "text": [
      "\u001b[32m[I 2021-08-23 15:29:21,652]\u001b[0m Trial 15 finished with value: 0.7130778826911622 and parameters: {'reg_lambda': 36.51298166228841, 'reg_alpha': 8.907652847301794, 'subsample': 0.632280960914277, 'colsample_bytree': 0.3066988818342807, 'learning_rate': 0.1371554935538694, 'min_child_samples': 54, 'num_leaves': 193, 'max_depth': 2, 'max_bin': 384, 'cat_smooth': 95, 'cat_l2': 89.02599664331731}. Best is trial 13 with value: 0.7129671568808704.\u001b[0m\n"
     ]
    },
    {
     "name": "stdout",
     "output_type": "stream",
     "text": [
      "Training until validation scores don't improve for 200 rounds\n",
      "Early stopping, best iteration is:\n",
      "[140]\tvalid_0's rmse: 0.714536\n",
      "Training until validation scores don't improve for 200 rounds\n",
      "Early stopping, best iteration is:\n",
      "[154]\tvalid_0's rmse: 0.714874\n"
     ]
    },
    {
     "name": "stderr",
     "output_type": "stream",
     "text": [
      "\u001b[32m[I 2021-08-23 15:29:43,426]\u001b[0m Trial 16 finished with value: 0.7139552834071271 and parameters: {'reg_lambda': 45.26541852839866, 'reg_alpha': 24.95992792896404, 'subsample': 0.6427683740002086, 'colsample_bytree': 0.16373548260596374, 'learning_rate': 0.4127327248222118, 'min_child_samples': 52, 'num_leaves': 90, 'max_depth': 11, 'max_bin': 301, 'cat_smooth': 71, 'cat_l2': 98.2662589716185}. Best is trial 13 with value: 0.7129671568808704.\u001b[0m\n"
     ]
    },
    {
     "name": "stdout",
     "output_type": "stream",
     "text": [
      "Training until validation scores don't improve for 200 rounds\n",
      "[1000]\tvalid_0's rmse: 0.713884\n",
      "Early stopping, best iteration is:\n",
      "[879]\tvalid_0's rmse: 0.713842\n",
      "Training until validation scores don't improve for 200 rounds\n",
      "Early stopping, best iteration is:\n",
      "[713]\tvalid_0's rmse: 0.713666\n"
     ]
    },
    {
     "name": "stderr",
     "output_type": "stream",
     "text": [
      "\u001b[32m[I 2021-08-23 15:30:21,457]\u001b[0m Trial 17 finished with value: 0.7133967142383741 and parameters: {'reg_lambda': 59.73863771926406, 'reg_alpha': 6.062799295770105, 'subsample': 0.38749318746418404, 'colsample_bytree': 0.3130914558669684, 'learning_rate': 0.13283692284407242, 'min_child_samples': 52, 'num_leaves': 19, 'max_depth': 18, 'max_bin': 393, 'cat_smooth': 89, 'cat_l2': 41.83735091222549}. Best is trial 13 with value: 0.7129671568808704.\u001b[0m\n"
     ]
    },
    {
     "name": "stdout",
     "output_type": "stream",
     "text": [
      "Training until validation scores don't improve for 200 rounds\n",
      "[1000]\tvalid_0's rmse: 0.715612\n",
      "[2000]\tvalid_0's rmse: 0.714061\n",
      "[3000]\tvalid_0's rmse: 0.713544\n",
      "[4000]\tvalid_0's rmse: 0.713308\n",
      "[5000]\tvalid_0's rmse: 0.713201\n",
      "[6000]\tvalid_0's rmse: 0.71315\n",
      "[7000]\tvalid_0's rmse: 0.713115\n",
      "[8000]\tvalid_0's rmse: 0.713093\n",
      "[9000]\tvalid_0's rmse: 0.713084\n",
      "Early stopping, best iteration is:\n",
      "[9069]\tvalid_0's rmse: 0.713083\n",
      "Training until validation scores don't improve for 200 rounds\n",
      "[1000]\tvalid_0's rmse: 0.716578\n",
      "[2000]\tvalid_0's rmse: 0.714566\n",
      "[3000]\tvalid_0's rmse: 0.713745\n",
      "[4000]\tvalid_0's rmse: 0.713514\n",
      "[5000]\tvalid_0's rmse: 0.713377\n",
      "[6000]\tvalid_0's rmse: 0.713333\n",
      "[7000]\tvalid_0's rmse: 0.713287\n",
      "[8000]\tvalid_0's rmse: 0.713266\n",
      "Early stopping, best iteration is:\n",
      "[7978]\tvalid_0's rmse: 0.713265\n"
     ]
    },
    {
     "name": "stderr",
     "output_type": "stream",
     "text": [
      "\u001b[32m[I 2021-08-23 15:33:51,306]\u001b[0m Trial 18 finished with value: 0.7129867431910842 and parameters: {'reg_lambda': 41.0713476961404, 'reg_alpha': 31.94879085808348, 'subsample': 0.5394287255952266, 'colsample_bytree': 0.11101978103023588, 'learning_rate': 0.21177851244932577, 'min_child_samples': 36, 'num_leaves': 198, 'max_depth': 2, 'max_bin': 409, 'cat_smooth': 67, 'cat_l2': 2.6768295004454483}. Best is trial 13 with value: 0.7129671568808704.\u001b[0m\n"
     ]
    },
    {
     "name": "stdout",
     "output_type": "stream",
     "text": [
      "Training until validation scores don't improve for 200 rounds\n",
      "Early stopping, best iteration is:\n",
      "[140]\tvalid_0's rmse: 0.715348\n",
      "Training until validation scores don't improve for 200 rounds\n",
      "Early stopping, best iteration is:\n",
      "[152]\tvalid_0's rmse: 0.715105\n"
     ]
    },
    {
     "name": "stderr",
     "output_type": "stream",
     "text": [
      "\u001b[32m[I 2021-08-23 15:34:12,564]\u001b[0m Trial 19 finished with value: 0.7143150181516701 and parameters: {'reg_lambda': 55.454180219022305, 'reg_alpha': 39.65217413239088, 'subsample': 0.5281306160824033, 'colsample_bytree': 0.5667342712261696, 'learning_rate': 0.4615593974477828, 'min_child_samples': 39, 'num_leaves': 157, 'max_depth': 6, 'max_bin': 481, 'cat_smooth': 63, 'cat_l2': 3.094367145324927}. Best is trial 13 with value: 0.7129671568808704.\u001b[0m\n"
     ]
    },
    {
     "name": "stdout",
     "output_type": "stream",
     "text": [
      "Training until validation scores don't improve for 200 rounds\n",
      "Early stopping, best iteration is:\n",
      "[303]\tvalid_0's rmse: 0.713659\n",
      "Training until validation scores don't improve for 200 rounds\n",
      "Early stopping, best iteration is:\n",
      "[291]\tvalid_0's rmse: 0.7137\n"
     ]
    },
    {
     "name": "stderr",
     "output_type": "stream",
     "text": [
      "\u001b[32m[I 2021-08-23 15:34:39,998]\u001b[0m Trial 20 finished with value: 0.7132719554649679 and parameters: {'reg_lambda': 68.12567802326325, 'reg_alpha': 30.62010729964434, 'subsample': 0.38055424714182545, 'colsample_bytree': 0.12461580860404535, 'learning_rate': 0.22677872530949553, 'min_child_samples': 25, 'num_leaves': 128, 'max_depth': 12, 'max_bin': 594, 'cat_smooth': 42, 'cat_l2': 0.5132325392478948}. Best is trial 13 with value: 0.7129671568808704.\u001b[0m\n"
     ]
    },
    {
     "name": "stdout",
     "output_type": "stream",
     "text": [
      "Training until validation scores don't improve for 200 rounds\n",
      "[1000]\tvalid_0's rmse: 0.714175\n",
      "[2000]\tvalid_0's rmse: 0.713133\n",
      "[3000]\tvalid_0's rmse: 0.712957\n",
      "Early stopping, best iteration is:\n",
      "[3107]\tvalid_0's rmse: 0.712931\n",
      "Training until validation scores don't improve for 200 rounds\n",
      "[1000]\tvalid_0's rmse: 0.714221\n",
      "[2000]\tvalid_0's rmse: 0.713192\n",
      "[3000]\tvalid_0's rmse: 0.713018\n",
      "Early stopping, best iteration is:\n",
      "[3039]\tvalid_0's rmse: 0.713006\n"
     ]
    },
    {
     "name": "stderr",
     "output_type": "stream",
     "text": [
      "\u001b[32m[I 2021-08-23 15:36:28,034]\u001b[0m Trial 21 finished with value: 0.7128286882236133 and parameters: {'reg_lambda': 37.43914460247242, 'reg_alpha': 30.339069983167338, 'subsample': 0.6775270670661361, 'colsample_bytree': 0.2398515288244969, 'learning_rate': 0.20886675681928338, 'min_child_samples': 47, 'num_leaves': 196, 'max_depth': 2, 'max_bin': 371, 'cat_smooth': 76, 'cat_l2': 0.1264463864796752}. Best is trial 21 with value: 0.7128286882236133.\u001b[0m\n"
     ]
    },
    {
     "name": "stdout",
     "output_type": "stream",
     "text": [
      "Training until validation scores don't improve for 200 rounds\n",
      "Early stopping, best iteration is:\n",
      "[192]\tvalid_0's rmse: 0.714095\n",
      "Training until validation scores don't improve for 200 rounds\n",
      "Early stopping, best iteration is:\n",
      "[216]\tvalid_0's rmse: 0.714361\n"
     ]
    },
    {
     "name": "stderr",
     "output_type": "stream",
     "text": [
      "\u001b[32m[I 2021-08-23 15:36:49,438]\u001b[0m Trial 22 finished with value: 0.7136451438930904 and parameters: {'reg_lambda': 38.83586596492692, 'reg_alpha': 30.943457388410106, 'subsample': 0.6937062434077768, 'colsample_bytree': 0.1957795044442749, 'learning_rate': 0.3812140347451515, 'min_child_samples': 30, 'num_leaves': 193, 'max_depth': 6, 'max_bin': 363, 'cat_smooth': 73, 'cat_l2': 0.08886278441458219}. Best is trial 21 with value: 0.7128286882236133.\u001b[0m\n"
     ]
    },
    {
     "name": "stdout",
     "output_type": "stream",
     "text": [
      "Training until validation scores don't improve for 200 rounds\n",
      "[1000]\tvalid_0's rmse: 0.713609\n",
      "Early stopping, best iteration is:\n",
      "[1332]\tvalid_0's rmse: 0.713542\n",
      "Training until validation scores don't improve for 200 rounds\n",
      "[1000]\tvalid_0's rmse: 0.713552\n",
      "Early stopping, best iteration is:\n",
      "[1135]\tvalid_0's rmse: 0.713474\n"
     ]
    },
    {
     "name": "stderr",
     "output_type": "stream",
     "text": [
      "\u001b[32m[I 2021-08-23 15:37:43,229]\u001b[0m Trial 23 finished with value: 0.7132469522961162 and parameters: {'reg_lambda': 43.78891061338918, 'reg_alpha': 38.869720148499866, 'subsample': 0.5698523982338994, 'colsample_bytree': 0.393510113313295, 'learning_rate': 0.5621577549553702, 'min_child_samples': 44, 'num_leaves': 167, 'max_depth': 2, 'max_bin': 466, 'cat_smooth': 62, 'cat_l2': 1.2739317961616157}. Best is trial 21 with value: 0.7128286882236133.\u001b[0m\n"
     ]
    },
    {
     "name": "stdout",
     "output_type": "stream",
     "text": [
      "Training until validation scores don't improve for 200 rounds\n",
      "Early stopping, best iteration is:\n",
      "[495]\tvalid_0's rmse: 0.713725\n",
      "Training until validation scores don't improve for 200 rounds\n",
      "Early stopping, best iteration is:\n",
      "[473]\tvalid_0's rmse: 0.71416\n"
     ]
    },
    {
     "name": "stderr",
     "output_type": "stream",
     "text": [
      "\u001b[32m[I 2021-08-23 15:38:19,782]\u001b[0m Trial 24 finished with value: 0.7136084957685566 and parameters: {'reg_lambda': 19.082003546057567, 'reg_alpha': 45.37968433739627, 'subsample': 0.6910911799707885, 'colsample_bytree': 0.22637911009482387, 'learning_rate': 0.20942628916208975, 'min_child_samples': 48, 'num_leaves': 196, 'max_depth': 6, 'max_bin': 348, 'cat_smooth': 77, 'cat_l2': 0.2141728022238479}. Best is trial 21 with value: 0.7128286882236133.\u001b[0m\n"
     ]
    },
    {
     "name": "stdout",
     "output_type": "stream",
     "text": [
      "Training until validation scores don't improve for 200 rounds\n",
      "Early stopping, best iteration is:\n",
      "[494]\tvalid_0's rmse: 0.713608\n",
      "Training until validation scores don't improve for 200 rounds\n",
      "Early stopping, best iteration is:\n",
      "[374]\tvalid_0's rmse: 0.713559\n"
     ]
    },
    {
     "name": "stderr",
     "output_type": "stream",
     "text": [
      "\u001b[32m[I 2021-08-23 15:38:50,409]\u001b[0m Trial 25 finished with value: 0.7131560462333969 and parameters: {'reg_lambda': 30.76446026474719, 'reg_alpha': 34.39375752194798, 'subsample': 0.5534634577095413, 'colsample_bytree': 0.10314712450874251, 'learning_rate': 0.21502441491086263, 'min_child_samples': 62, 'num_leaves': 198, 'max_depth': 18, 'max_bin': 445, 'cat_smooth': 68, 'cat_l2': 0.050609817595108623}. Best is trial 21 with value: 0.7128286882236133.\u001b[0m\n"
     ]
    },
    {
     "name": "stdout",
     "output_type": "stream",
     "text": [
      "Training until validation scores don't improve for 200 rounds\n",
      "[1000]\tvalid_0's rmse: 0.718948\n",
      "[2000]\tvalid_0's rmse: 0.71589\n",
      "[3000]\tvalid_0's rmse: 0.714493\n",
      "[4000]\tvalid_0's rmse: 0.713639\n",
      "[5000]\tvalid_0's rmse: 0.713173\n",
      "[6000]\tvalid_0's rmse: 0.712972\n",
      "[7000]\tvalid_0's rmse: 0.712863\n",
      "[8000]\tvalid_0's rmse: 0.712813\n",
      "[9000]\tvalid_0's rmse: 0.712784\n",
      "Early stopping, best iteration is:\n",
      "[9295]\tvalid_0's rmse: 0.712769\n",
      "Training until validation scores don't improve for 200 rounds\n",
      "[1000]\tvalid_0's rmse: 0.7191\n",
      "[2000]\tvalid_0's rmse: 0.716015\n",
      "[3000]\tvalid_0's rmse: 0.714656\n",
      "[4000]\tvalid_0's rmse: 0.713849\n",
      "[5000]\tvalid_0's rmse: 0.713451\n",
      "[6000]\tvalid_0's rmse: 0.713218\n",
      "[7000]\tvalid_0's rmse: 0.713099\n",
      "[8000]\tvalid_0's rmse: 0.713046\n",
      "Early stopping, best iteration is:\n",
      "[8671]\tvalid_0's rmse: 0.71301\n"
     ]
    },
    {
     "name": "stderr",
     "output_type": "stream",
     "text": [
      "\u001b[32m[I 2021-08-23 15:42:40,544]\u001b[0m Trial 26 finished with value: 0.7127896275680465 and parameters: {'reg_lambda': 50.73580972273695, 'reg_alpha': 20.511875015884407, 'subsample': 0.8746464245788418, 'colsample_bytree': 0.6267030518811912, 'learning_rate': 0.0602064011142347, 'min_child_samples': 34, 'num_leaves': 181, 'max_depth': 2, 'max_bin': 525, 'cat_smooth': 82, 'cat_l2': 5.73502470505396}. Best is trial 26 with value: 0.7127896275680465.\u001b[0m\n"
     ]
    },
    {
     "name": "stdout",
     "output_type": "stream",
     "text": [
      "Training until validation scores don't improve for 200 rounds\n",
      "[1000]\tvalid_0's rmse: 0.713881\n",
      "Early stopping, best iteration is:\n",
      "[1578]\tvalid_0's rmse: 0.713629\n",
      "Training until validation scores don't improve for 200 rounds\n",
      "[1000]\tvalid_0's rmse: 0.713908\n",
      "Early stopping, best iteration is:\n",
      "[1498]\tvalid_0's rmse: 0.713688\n"
     ]
    },
    {
     "name": "stderr",
     "output_type": "stream",
     "text": [
      "\u001b[32m[I 2021-08-23 15:43:56,875]\u001b[0m Trial 27 finished with value: 0.7134850393129377 and parameters: {'reg_lambda': 51.66942512231507, 'reg_alpha': 21.59281678603076, 'subsample': 0.8777500398878413, 'colsample_bytree': 0.6320924596630856, 'learning_rate': 0.06312231143364042, 'min_child_samples': 18, 'num_leaves': 181, 'max_depth': 5, 'max_bin': 529, 'cat_smooth': 84, 'cat_l2': 9.277396127948222}. Best is trial 26 with value: 0.7127896275680465.\u001b[0m\n"
     ]
    },
    {
     "name": "stdout",
     "output_type": "stream",
     "text": [
      "Training until validation scores don't improve for 200 rounds\n",
      "Early stopping, best iteration is:\n",
      "[52]\tvalid_0's rmse: 0.716242\n",
      "Training until validation scores don't improve for 200 rounds\n",
      "Early stopping, best iteration is:\n",
      "[65]\tvalid_0's rmse: 0.716164\n"
     ]
    },
    {
     "name": "stderr",
     "output_type": "stream",
     "text": [
      "\u001b[32m[I 2021-08-23 15:44:21,915]\u001b[0m Trial 28 finished with value: 0.7151188114076312 and parameters: {'reg_lambda': 33.15968286170836, 'reg_alpha': 25.655438766380442, 'subsample': 0.9176612436579279, 'colsample_bytree': 0.5033800224414263, 'learning_rate': 0.3582550090241852, 'min_child_samples': 60, 'num_leaves': 162, 'max_depth': 10, 'max_bin': 608, 'cat_smooth': 57, 'cat_l2': 0.044884434665890045}. Best is trial 26 with value: 0.7127896275680465.\u001b[0m\n"
     ]
    },
    {
     "name": "stdout",
     "output_type": "stream",
     "text": [
      "Training until validation scores don't improve for 200 rounds\n",
      "Early stopping, best iteration is:\n",
      "[682]\tvalid_0's rmse: 0.713904\n",
      "Training until validation scores don't improve for 200 rounds\n",
      "Early stopping, best iteration is:\n",
      "[609]\tvalid_0's rmse: 0.713599\n"
     ]
    },
    {
     "name": "stderr",
     "output_type": "stream",
     "text": [
      "\u001b[32m[I 2021-08-23 15:45:26,556]\u001b[0m Trial 29 finished with value: 0.7134422559364586 and parameters: {'reg_lambda': 12.353626408258972, 'reg_alpha': 19.85633961876123, 'subsample': 0.8063242728142914, 'colsample_bytree': 0.39413134132115335, 'learning_rate': 0.08072679667322709, 'min_child_samples': 84, 'num_leaves': 136, 'max_depth': 8, 'max_bin': 746, 'cat_smooth': 79, 'cat_l2': 1.0171110951620668}. Best is trial 26 with value: 0.7127896275680465.\u001b[0m\n"
     ]
    },
    {
     "name": "stdout",
     "output_type": "stream",
     "text": [
      "Number of finished trials: 30\n",
      "Best trial: {'reg_lambda': 50.73580972273695, 'reg_alpha': 20.511875015884407, 'subsample': 0.8746464245788418, 'colsample_bytree': 0.6267030518811912, 'learning_rate': 0.0602064011142347, 'min_child_samples': 34, 'num_leaves': 181, 'max_depth': 2, 'max_bin': 525, 'cat_smooth': 82, 'cat_l2': 5.73502470505396}\n"
     ]
    }
   ],
   "source": [
    "study = optuna.create_study(direction='minimize')\n",
    "study.optimize(objective,n_trials= 30)\n",
    "print('Number of finished trials:', len(study.trials))\n",
    "print('Best trial:', study.best_trial.params)"
   ]
  },
  {
   "cell_type": "code",
   "execution_count": 15,
   "id": "787a268e",
   "metadata": {
    "execution": {
     "iopub.execute_input": "2021-08-23T15:45:26.778797Z",
     "iopub.status.busy": "2021-08-23T15:45:26.777909Z",
     "iopub.status.idle": "2021-08-23T15:45:26.782066Z",
     "shell.execute_reply": "2021-08-23T15:45:26.781591Z"
    },
    "papermill": {
     "duration": 0.109638,
     "end_time": "2021-08-23T15:45:26.782204",
     "exception": false,
     "start_time": "2021-08-23T15:45:26.672566",
     "status": "completed"
    },
    "tags": []
   },
   "outputs": [
    {
     "data": {
      "text/plain": [
       "{'reg_lambda': 50.73580972273695,\n",
       " 'reg_alpha': 20.511875015884407,\n",
       " 'subsample': 0.8746464245788418,\n",
       " 'colsample_bytree': 0.6267030518811912,\n",
       " 'learning_rate': 0.0602064011142347,\n",
       " 'min_child_samples': 34,\n",
       " 'num_leaves': 181,\n",
       " 'max_depth': 2,\n",
       " 'max_bin': 525,\n",
       " 'cat_smooth': 82,\n",
       " 'cat_l2': 5.73502470505396}"
      ]
     },
     "execution_count": 15,
     "metadata": {},
     "output_type": "execute_result"
    }
   ],
   "source": [
    "study.best_params"
   ]
  },
  {
   "cell_type": "markdown",
   "id": "b0cd8806",
   "metadata": {
    "papermill": {
     "duration": 0.110397,
     "end_time": "2021-08-23T15:45:27.000648",
     "exception": false,
     "start_time": "2021-08-23T15:45:26.890251",
     "status": "completed"
    },
    "tags": []
   },
   "source": [
    "# Log\n",
    "\n",
    "====== Ordinal encoding =========\n",
    "\n",
    "0.7123367407151787 no noise ver1\n",
    "\n",
    "0.7158040228380602 row-wise noise ver2\n",
    "\n",
    "0.7157995952863279 random noise ver3\n",
    "\n",
    "====== One-hot encoding =========\n",
    "\n",
    "0.7203460513257339 no noise ver4\n",
    "\n"
   ]
  }
 ],
 "metadata": {
  "kernelspec": {
   "display_name": "Python 3",
   "language": "python",
   "name": "python3"
  },
  "language_info": {
   "codemirror_mode": {
    "name": "ipython",
    "version": 3
   },
   "file_extension": ".py",
   "mimetype": "text/x-python",
   "name": "python",
   "nbconvert_exporter": "python",
   "pygments_lexer": "ipython3",
   "version": "3.7.10"
  },
  "papermill": {
   "default_parameters": {},
   "duration": 3295.828777,
   "end_time": "2021-08-23T15:45:28.749635",
   "environment_variables": {},
   "exception": null,
   "input_path": "__notebook__.ipynb",
   "output_path": "__notebook__.ipynb",
   "parameters": {},
   "start_time": "2021-08-23T14:50:32.920858",
   "version": "2.3.3"
  }
 },
 "nbformat": 4,
 "nbformat_minor": 5
}
