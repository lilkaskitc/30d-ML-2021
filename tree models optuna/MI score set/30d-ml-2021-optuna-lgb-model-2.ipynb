{
 "cells": [
  {
   "cell_type": "code",
   "execution_count": 1,
   "id": "80bc1a48",
   "metadata": {
    "_cell_guid": "b1076dfc-b9ad-4769-8c92-a6c4dae69d19",
    "_uuid": "8f2839f25d086af736a60e9eeb907d3b93b6e0e5",
    "execution": {
     "iopub.execute_input": "2021-08-23T00:18:15.371027Z",
     "iopub.status.busy": "2021-08-23T00:18:15.369200Z",
     "iopub.status.idle": "2021-08-23T00:18:17.490128Z",
     "shell.execute_reply": "2021-08-23T00:18:17.490757Z",
     "shell.execute_reply.started": "2021-08-23T00:16:14.312898Z"
    },
    "papermill": {
     "duration": 2.147374,
     "end_time": "2021-08-23T00:18:17.491108",
     "exception": false,
     "start_time": "2021-08-23T00:18:15.343734",
     "status": "completed"
    },
    "tags": []
   },
   "outputs": [
    {
     "data": {
      "text/html": [
       "<style type='text/css'>\n",
       ".datatable table.frame { margin-bottom: 0; }\n",
       ".datatable table.frame thead { border-bottom: none; }\n",
       ".datatable table.frame tr.coltypes td {  color: #FFFFFF;  line-height: 6px;  padding: 0 0.5em;}\n",
       ".datatable .bool    { background: #DDDD99; }\n",
       ".datatable .object  { background: #565656; }\n",
       ".datatable .int     { background: #5D9E5D; }\n",
       ".datatable .float   { background: #4040CC; }\n",
       ".datatable .str     { background: #CC4040; }\n",
       ".datatable .time    { background: #40CC40; }\n",
       ".datatable .row_index {  background: var(--jp-border-color3);  border-right: 1px solid var(--jp-border-color0);  color: var(--jp-ui-font-color3);  font-size: 9px;}\n",
       ".datatable .frame tbody td { text-align: left; }\n",
       ".datatable .frame tr.coltypes .row_index {  background: var(--jp-border-color0);}\n",
       ".datatable th:nth-child(2) { padding-left: 12px; }\n",
       ".datatable .hellipsis {  color: var(--jp-cell-editor-border-color);}\n",
       ".datatable .vellipsis {  background: var(--jp-layout-color0);  color: var(--jp-cell-editor-border-color);}\n",
       ".datatable .na {  color: var(--jp-cell-editor-border-color);  font-size: 80%;}\n",
       ".datatable .sp {  opacity: 0.25;}\n",
       ".datatable .footer { font-size: 9px; }\n",
       ".datatable .frame_dimensions {  background: var(--jp-border-color3);  border-top: 1px solid var(--jp-border-color0);  color: var(--jp-ui-font-color3);  display: inline-block;  opacity: 0.6;  padding: 1px 10px 1px 5px;}\n",
       "</style>\n"
      ],
      "text/plain": [
       "<IPython.core.display.HTML object>"
      ]
     },
     "metadata": {},
     "output_type": "display_data"
    }
   ],
   "source": [
    "# Familiar imports\n",
    "import numpy as np\n",
    "import pandas as pd\n",
    "import random\n",
    "import os\n",
    "import time\n",
    "from pathlib import Path\n",
    "\n",
    "from sklearn.preprocessing import StandardScaler\n",
    "from sklearn.model_selection import KFold, train_test_split\n",
    "from sklearn.metrics import mean_squared_error\n",
    "from sklearn.preprocessing import OrdinalEncoder, OneHotEncoder\n",
    "\n",
    "import lightgbm as lgb\n",
    "#import xgboost as xgb\n",
    "#import catboost as ctb\n",
    "\n",
    "import warnings\n",
    "warnings.simplefilter('ignore')"
   ]
  },
  {
   "cell_type": "markdown",
   "id": "94a342db",
   "metadata": {
    "papermill": {
     "duration": 0.017043,
     "end_time": "2021-08-23T00:18:17.526109",
     "exception": false,
     "start_time": "2021-08-23T00:18:17.509066",
     "status": "completed"
    },
    "tags": []
   },
   "source": [
    "# Parameters"
   ]
  },
  {
   "cell_type": "code",
   "execution_count": 2,
   "id": "a07bf84d",
   "metadata": {
    "execution": {
     "iopub.execute_input": "2021-08-23T00:18:17.563000Z",
     "iopub.status.busy": "2021-08-23T00:18:17.562280Z",
     "iopub.status.idle": "2021-08-23T00:18:17.568708Z",
     "shell.execute_reply": "2021-08-23T00:18:17.569251Z",
     "shell.execute_reply.started": "2021-08-23T00:16:14.321159Z"
    },
    "papermill": {
     "duration": 0.026595,
     "end_time": "2021-08-23T00:18:17.569425",
     "exception": false,
     "start_time": "2021-08-23T00:18:17.542830",
     "status": "completed"
    },
    "tags": []
   },
   "outputs": [],
   "source": [
    "target = 'target'\n",
    "\n",
    "DEBUG = False\n",
    "\n",
    "if DEBUG:\n",
    "    N_ESTIMATORS = 1\n",
    "    N_SPLITS = 2\n",
    "    SEED = 17\n",
    "    CVSEED = 17\n",
    "    EARLY_STOPPING_ROUNDS = 1\n",
    "    VERBOSE = 100\n",
    "    #N_ITERS = 2\n",
    "else:\n",
    "    N_SPLITS = 10\n",
    "    N_ESTIMATORS = 20000\n",
    "    EARLY_STOPPING_ROUNDS = 200\n",
    "    VERBOSE = 1000\n",
    "    SEED = 17\n",
    "    CVSEED = 17\n",
    "    #N_ITERS = 10"
   ]
  },
  {
   "cell_type": "code",
   "execution_count": 3,
   "id": "4d3c6c9c",
   "metadata": {
    "execution": {
     "iopub.execute_input": "2021-08-23T00:18:17.609284Z",
     "iopub.status.busy": "2021-08-23T00:18:17.608580Z",
     "iopub.status.idle": "2021-08-23T00:18:17.611644Z",
     "shell.execute_reply": "2021-08-23T00:18:17.612146Z",
     "shell.execute_reply.started": "2021-08-23T00:16:14.340149Z"
    },
    "papermill": {
     "duration": 0.025897,
     "end_time": "2021-08-23T00:18:17.612318",
     "exception": false,
     "start_time": "2021-08-23T00:18:17.586421",
     "status": "completed"
    },
    "tags": []
   },
   "outputs": [],
   "source": [
    "def set_seed(seed=17):\n",
    "    random.seed(seed)\n",
    "    os.environ['PYTHONHASHSEED'] = str(seed)\n",
    "    np.random.seed(seed)\n",
    "    \n",
    "set_seed(SEED)"
   ]
  },
  {
   "cell_type": "markdown",
   "id": "b2560d9f",
   "metadata": {
    "papermill": {
     "duration": 0.018032,
     "end_time": "2021-08-23T00:18:17.648655",
     "exception": false,
     "start_time": "2021-08-23T00:18:17.630623",
     "status": "completed"
    },
    "tags": []
   },
   "source": [
    "# Load data"
   ]
  },
  {
   "cell_type": "code",
   "execution_count": 4,
   "id": "6bfe6cc2",
   "metadata": {
    "execution": {
     "iopub.execute_input": "2021-08-23T00:18:17.690651Z",
     "iopub.status.busy": "2021-08-23T00:18:17.689906Z",
     "iopub.status.idle": "2021-08-23T00:18:22.036283Z",
     "shell.execute_reply": "2021-08-23T00:18:22.036744Z",
     "shell.execute_reply.started": "2021-08-23T00:16:14.353733Z"
    },
    "papermill": {
     "duration": 4.369935,
     "end_time": "2021-08-23T00:18:22.036914",
     "exception": false,
     "start_time": "2021-08-23T00:18:17.666979",
     "status": "completed"
    },
    "tags": []
   },
   "outputs": [
    {
     "data": {
      "text/html": [
       "<div>\n",
       "<style scoped>\n",
       "    .dataframe tbody tr th:only-of-type {\n",
       "        vertical-align: middle;\n",
       "    }\n",
       "\n",
       "    .dataframe tbody tr th {\n",
       "        vertical-align: top;\n",
       "    }\n",
       "\n",
       "    .dataframe thead th {\n",
       "        text-align: right;\n",
       "    }\n",
       "</style>\n",
       "<table border=\"1\" class=\"dataframe\">\n",
       "  <thead>\n",
       "    <tr style=\"text-align: right;\">\n",
       "      <th></th>\n",
       "      <th>id</th>\n",
       "      <th>cat0</th>\n",
       "      <th>cat1</th>\n",
       "      <th>cat2</th>\n",
       "      <th>cat3</th>\n",
       "      <th>cat4</th>\n",
       "      <th>cat5</th>\n",
       "      <th>cat6</th>\n",
       "      <th>cat7</th>\n",
       "      <th>cat8</th>\n",
       "      <th>...</th>\n",
       "      <th>cont5</th>\n",
       "      <th>cont6</th>\n",
       "      <th>cont7</th>\n",
       "      <th>cont8</th>\n",
       "      <th>cont9</th>\n",
       "      <th>cont10</th>\n",
       "      <th>cont11</th>\n",
       "      <th>cont12</th>\n",
       "      <th>cont13</th>\n",
       "      <th>target</th>\n",
       "    </tr>\n",
       "  </thead>\n",
       "  <tbody>\n",
       "    <tr>\n",
       "      <th>0</th>\n",
       "      <td>1</td>\n",
       "      <td>B</td>\n",
       "      <td>B</td>\n",
       "      <td>B</td>\n",
       "      <td>C</td>\n",
       "      <td>B</td>\n",
       "      <td>B</td>\n",
       "      <td>A</td>\n",
       "      <td>E</td>\n",
       "      <td>C</td>\n",
       "      <td>...</td>\n",
       "      <td>0.400361</td>\n",
       "      <td>0.160266</td>\n",
       "      <td>0.310921</td>\n",
       "      <td>0.389470</td>\n",
       "      <td>0.267559</td>\n",
       "      <td>0.237281</td>\n",
       "      <td>0.377873</td>\n",
       "      <td>0.322401</td>\n",
       "      <td>0.869850</td>\n",
       "      <td>8.113634</td>\n",
       "    </tr>\n",
       "    <tr>\n",
       "      <th>1</th>\n",
       "      <td>2</td>\n",
       "      <td>B</td>\n",
       "      <td>B</td>\n",
       "      <td>A</td>\n",
       "      <td>A</td>\n",
       "      <td>B</td>\n",
       "      <td>D</td>\n",
       "      <td>A</td>\n",
       "      <td>F</td>\n",
       "      <td>A</td>\n",
       "      <td>...</td>\n",
       "      <td>0.533087</td>\n",
       "      <td>0.558922</td>\n",
       "      <td>0.516294</td>\n",
       "      <td>0.594928</td>\n",
       "      <td>0.341439</td>\n",
       "      <td>0.906013</td>\n",
       "      <td>0.921701</td>\n",
       "      <td>0.261975</td>\n",
       "      <td>0.465083</td>\n",
       "      <td>8.481233</td>\n",
       "    </tr>\n",
       "    <tr>\n",
       "      <th>2</th>\n",
       "      <td>3</td>\n",
       "      <td>A</td>\n",
       "      <td>A</td>\n",
       "      <td>A</td>\n",
       "      <td>C</td>\n",
       "      <td>B</td>\n",
       "      <td>D</td>\n",
       "      <td>A</td>\n",
       "      <td>D</td>\n",
       "      <td>A</td>\n",
       "      <td>...</td>\n",
       "      <td>0.650609</td>\n",
       "      <td>0.375348</td>\n",
       "      <td>0.902567</td>\n",
       "      <td>0.555205</td>\n",
       "      <td>0.843531</td>\n",
       "      <td>0.748809</td>\n",
       "      <td>0.620126</td>\n",
       "      <td>0.541474</td>\n",
       "      <td>0.763846</td>\n",
       "      <td>8.364351</td>\n",
       "    </tr>\n",
       "    <tr>\n",
       "      <th>3</th>\n",
       "      <td>4</td>\n",
       "      <td>B</td>\n",
       "      <td>B</td>\n",
       "      <td>A</td>\n",
       "      <td>C</td>\n",
       "      <td>B</td>\n",
       "      <td>D</td>\n",
       "      <td>A</td>\n",
       "      <td>E</td>\n",
       "      <td>C</td>\n",
       "      <td>...</td>\n",
       "      <td>0.668980</td>\n",
       "      <td>0.239061</td>\n",
       "      <td>0.732948</td>\n",
       "      <td>0.679618</td>\n",
       "      <td>0.574844</td>\n",
       "      <td>0.346010</td>\n",
       "      <td>0.714610</td>\n",
       "      <td>0.540150</td>\n",
       "      <td>0.280682</td>\n",
       "      <td>8.049253</td>\n",
       "    </tr>\n",
       "    <tr>\n",
       "      <th>4</th>\n",
       "      <td>6</td>\n",
       "      <td>A</td>\n",
       "      <td>A</td>\n",
       "      <td>A</td>\n",
       "      <td>C</td>\n",
       "      <td>B</td>\n",
       "      <td>D</td>\n",
       "      <td>A</td>\n",
       "      <td>E</td>\n",
       "      <td>A</td>\n",
       "      <td>...</td>\n",
       "      <td>0.686964</td>\n",
       "      <td>0.420667</td>\n",
       "      <td>0.648182</td>\n",
       "      <td>0.684501</td>\n",
       "      <td>0.956692</td>\n",
       "      <td>1.000773</td>\n",
       "      <td>0.776742</td>\n",
       "      <td>0.625849</td>\n",
       "      <td>0.250823</td>\n",
       "      <td>7.972260</td>\n",
       "    </tr>\n",
       "  </tbody>\n",
       "</table>\n",
       "<p>5 rows × 26 columns</p>\n",
       "</div>"
      ],
      "text/plain": [
       "   id cat0 cat1 cat2 cat3 cat4 cat5 cat6 cat7 cat8  ...     cont5     cont6  \\\n",
       "0   1    B    B    B    C    B    B    A    E    C  ...  0.400361  0.160266   \n",
       "1   2    B    B    A    A    B    D    A    F    A  ...  0.533087  0.558922   \n",
       "2   3    A    A    A    C    B    D    A    D    A  ...  0.650609  0.375348   \n",
       "3   4    B    B    A    C    B    D    A    E    C  ...  0.668980  0.239061   \n",
       "4   6    A    A    A    C    B    D    A    E    A  ...  0.686964  0.420667   \n",
       "\n",
       "      cont7     cont8     cont9    cont10    cont11    cont12    cont13  \\\n",
       "0  0.310921  0.389470  0.267559  0.237281  0.377873  0.322401  0.869850   \n",
       "1  0.516294  0.594928  0.341439  0.906013  0.921701  0.261975  0.465083   \n",
       "2  0.902567  0.555205  0.843531  0.748809  0.620126  0.541474  0.763846   \n",
       "3  0.732948  0.679618  0.574844  0.346010  0.714610  0.540150  0.280682   \n",
       "4  0.648182  0.684501  0.956692  1.000773  0.776742  0.625849  0.250823   \n",
       "\n",
       "     target  \n",
       "0  8.113634  \n",
       "1  8.481233  \n",
       "2  8.364351  \n",
       "3  8.049253  \n",
       "4  7.972260  \n",
       "\n",
       "[5 rows x 26 columns]"
      ]
     },
     "execution_count": 4,
     "metadata": {},
     "output_type": "execute_result"
    }
   ],
   "source": [
    "# Load the training data\n",
    "train = pd.read_csv(\"../input/30-days-of-ml/train.csv\")\n",
    "test = pd.read_csv(\"../input/30-days-of-ml/test.csv\")\n",
    "\n",
    "# Preview the data\n",
    "train.head()"
   ]
  },
  {
   "cell_type": "code",
   "execution_count": 5,
   "id": "e02854b5",
   "metadata": {
    "execution": {
     "iopub.execute_input": "2021-08-23T00:18:22.075757Z",
     "iopub.status.busy": "2021-08-23T00:18:22.074810Z",
     "iopub.status.idle": "2021-08-23T00:18:22.267206Z",
     "shell.execute_reply": "2021-08-23T00:18:22.267683Z",
     "shell.execute_reply.started": "2021-08-23T00:16:16.729191Z"
    },
    "papermill": {
     "duration": 0.213584,
     "end_time": "2021-08-23T00:18:22.267860",
     "exception": false,
     "start_time": "2021-08-23T00:18:22.054276",
     "status": "completed"
    },
    "tags": []
   },
   "outputs": [
    {
     "data": {
      "text/html": [
       "<div>\n",
       "<style scoped>\n",
       "    .dataframe tbody tr th:only-of-type {\n",
       "        vertical-align: middle;\n",
       "    }\n",
       "\n",
       "    .dataframe tbody tr th {\n",
       "        vertical-align: top;\n",
       "    }\n",
       "\n",
       "    .dataframe thead th {\n",
       "        text-align: right;\n",
       "    }\n",
       "</style>\n",
       "<table border=\"1\" class=\"dataframe\">\n",
       "  <thead>\n",
       "    <tr style=\"text-align: right;\">\n",
       "      <th></th>\n",
       "      <th>id</th>\n",
       "      <th>cat0</th>\n",
       "      <th>cat1</th>\n",
       "      <th>cat5</th>\n",
       "      <th>cat7</th>\n",
       "      <th>cat8</th>\n",
       "      <th>cat9</th>\n",
       "      <th>cont0</th>\n",
       "      <th>cont1</th>\n",
       "      <th>cont2</th>\n",
       "      <th>...</th>\n",
       "      <th>cont5</th>\n",
       "      <th>cont6</th>\n",
       "      <th>cont7</th>\n",
       "      <th>cont8</th>\n",
       "      <th>cont9</th>\n",
       "      <th>cont10</th>\n",
       "      <th>cont11</th>\n",
       "      <th>cont12</th>\n",
       "      <th>cont13</th>\n",
       "      <th>target</th>\n",
       "    </tr>\n",
       "  </thead>\n",
       "  <tbody>\n",
       "    <tr>\n",
       "      <th>0</th>\n",
       "      <td>1</td>\n",
       "      <td>B</td>\n",
       "      <td>B</td>\n",
       "      <td>B</td>\n",
       "      <td>E</td>\n",
       "      <td>C</td>\n",
       "      <td>N</td>\n",
       "      <td>0.201470</td>\n",
       "      <td>-0.014822</td>\n",
       "      <td>0.669699</td>\n",
       "      <td>...</td>\n",
       "      <td>0.400361</td>\n",
       "      <td>0.160266</td>\n",
       "      <td>0.310921</td>\n",
       "      <td>0.389470</td>\n",
       "      <td>0.267559</td>\n",
       "      <td>0.237281</td>\n",
       "      <td>0.377873</td>\n",
       "      <td>0.322401</td>\n",
       "      <td>0.869850</td>\n",
       "      <td>8.113634</td>\n",
       "    </tr>\n",
       "    <tr>\n",
       "      <th>1</th>\n",
       "      <td>2</td>\n",
       "      <td>B</td>\n",
       "      <td>B</td>\n",
       "      <td>D</td>\n",
       "      <td>F</td>\n",
       "      <td>A</td>\n",
       "      <td>O</td>\n",
       "      <td>0.743068</td>\n",
       "      <td>0.367411</td>\n",
       "      <td>1.021605</td>\n",
       "      <td>...</td>\n",
       "      <td>0.533087</td>\n",
       "      <td>0.558922</td>\n",
       "      <td>0.516294</td>\n",
       "      <td>0.594928</td>\n",
       "      <td>0.341439</td>\n",
       "      <td>0.906013</td>\n",
       "      <td>0.921701</td>\n",
       "      <td>0.261975</td>\n",
       "      <td>0.465083</td>\n",
       "      <td>8.481233</td>\n",
       "    </tr>\n",
       "    <tr>\n",
       "      <th>2</th>\n",
       "      <td>3</td>\n",
       "      <td>A</td>\n",
       "      <td>A</td>\n",
       "      <td>D</td>\n",
       "      <td>D</td>\n",
       "      <td>A</td>\n",
       "      <td>F</td>\n",
       "      <td>0.742708</td>\n",
       "      <td>0.310383</td>\n",
       "      <td>-0.012673</td>\n",
       "      <td>...</td>\n",
       "      <td>0.650609</td>\n",
       "      <td>0.375348</td>\n",
       "      <td>0.902567</td>\n",
       "      <td>0.555205</td>\n",
       "      <td>0.843531</td>\n",
       "      <td>0.748809</td>\n",
       "      <td>0.620126</td>\n",
       "      <td>0.541474</td>\n",
       "      <td>0.763846</td>\n",
       "      <td>8.364351</td>\n",
       "    </tr>\n",
       "    <tr>\n",
       "      <th>3</th>\n",
       "      <td>4</td>\n",
       "      <td>B</td>\n",
       "      <td>B</td>\n",
       "      <td>D</td>\n",
       "      <td>E</td>\n",
       "      <td>C</td>\n",
       "      <td>K</td>\n",
       "      <td>0.429551</td>\n",
       "      <td>0.620998</td>\n",
       "      <td>0.577942</td>\n",
       "      <td>...</td>\n",
       "      <td>0.668980</td>\n",
       "      <td>0.239061</td>\n",
       "      <td>0.732948</td>\n",
       "      <td>0.679618</td>\n",
       "      <td>0.574844</td>\n",
       "      <td>0.346010</td>\n",
       "      <td>0.714610</td>\n",
       "      <td>0.540150</td>\n",
       "      <td>0.280682</td>\n",
       "      <td>8.049253</td>\n",
       "    </tr>\n",
       "    <tr>\n",
       "      <th>4</th>\n",
       "      <td>6</td>\n",
       "      <td>A</td>\n",
       "      <td>A</td>\n",
       "      <td>D</td>\n",
       "      <td>E</td>\n",
       "      <td>A</td>\n",
       "      <td>N</td>\n",
       "      <td>1.058291</td>\n",
       "      <td>0.367492</td>\n",
       "      <td>-0.052389</td>\n",
       "      <td>...</td>\n",
       "      <td>0.686964</td>\n",
       "      <td>0.420667</td>\n",
       "      <td>0.648182</td>\n",
       "      <td>0.684501</td>\n",
       "      <td>0.956692</td>\n",
       "      <td>1.000773</td>\n",
       "      <td>0.776742</td>\n",
       "      <td>0.625849</td>\n",
       "      <td>0.250823</td>\n",
       "      <td>7.972260</td>\n",
       "    </tr>\n",
       "  </tbody>\n",
       "</table>\n",
       "<p>5 rows × 22 columns</p>\n",
       "</div>"
      ],
      "text/plain": [
       "   id cat0 cat1 cat5 cat7 cat8 cat9     cont0     cont1     cont2  ...  \\\n",
       "0   1    B    B    B    E    C    N  0.201470 -0.014822  0.669699  ...   \n",
       "1   2    B    B    D    F    A    O  0.743068  0.367411  1.021605  ...   \n",
       "2   3    A    A    D    D    A    F  0.742708  0.310383 -0.012673  ...   \n",
       "3   4    B    B    D    E    C    K  0.429551  0.620998  0.577942  ...   \n",
       "4   6    A    A    D    E    A    N  1.058291  0.367492 -0.052389  ...   \n",
       "\n",
       "      cont5     cont6     cont7     cont8     cont9    cont10    cont11  \\\n",
       "0  0.400361  0.160266  0.310921  0.389470  0.267559  0.237281  0.377873   \n",
       "1  0.533087  0.558922  0.516294  0.594928  0.341439  0.906013  0.921701   \n",
       "2  0.650609  0.375348  0.902567  0.555205  0.843531  0.748809  0.620126   \n",
       "3  0.668980  0.239061  0.732948  0.679618  0.574844  0.346010  0.714610   \n",
       "4  0.686964  0.420667  0.648182  0.684501  0.956692  1.000773  0.776742   \n",
       "\n",
       "     cont12    cont13    target  \n",
       "0  0.322401  0.869850  8.113634  \n",
       "1  0.261975  0.465083  8.481233  \n",
       "2  0.541474  0.763846  8.364351  \n",
       "3  0.540150  0.280682  8.049253  \n",
       "4  0.625849  0.250823  7.972260  \n",
       "\n",
       "[5 rows x 22 columns]"
      ]
     },
     "execution_count": 5,
     "metadata": {},
     "output_type": "execute_result"
    }
   ],
   "source": [
    "# Low MI scores\n",
    "for pp in [\"cat2\",\"cat3\",\"cat4\",\"cat6\"]:\n",
    "    train.pop(pp)\n",
    "    test.pop(pp)\n",
    "train.head()"
   ]
  },
  {
   "cell_type": "code",
   "execution_count": 6,
   "id": "12f8b7ea",
   "metadata": {
    "execution": {
     "iopub.execute_input": "2021-08-23T00:18:22.311845Z",
     "iopub.status.busy": "2021-08-23T00:18:22.310905Z",
     "iopub.status.idle": "2021-08-23T00:18:22.362878Z",
     "shell.execute_reply": "2021-08-23T00:18:22.363356Z",
     "shell.execute_reply.started": "2021-08-23T00:16:16.834758Z"
    },
    "papermill": {
     "duration": 0.075777,
     "end_time": "2021-08-23T00:18:22.363522",
     "exception": false,
     "start_time": "2021-08-23T00:18:22.287745",
     "status": "completed"
    },
    "tags": []
   },
   "outputs": [
    {
     "data": {
      "text/html": [
       "<div>\n",
       "<style scoped>\n",
       "    .dataframe tbody tr th:only-of-type {\n",
       "        vertical-align: middle;\n",
       "    }\n",
       "\n",
       "    .dataframe tbody tr th {\n",
       "        vertical-align: top;\n",
       "    }\n",
       "\n",
       "    .dataframe thead th {\n",
       "        text-align: right;\n",
       "    }\n",
       "</style>\n",
       "<table border=\"1\" class=\"dataframe\">\n",
       "  <thead>\n",
       "    <tr style=\"text-align: right;\">\n",
       "      <th></th>\n",
       "      <th>cat0</th>\n",
       "      <th>cat1</th>\n",
       "      <th>cat5</th>\n",
       "      <th>cat7</th>\n",
       "      <th>cat8</th>\n",
       "      <th>cat9</th>\n",
       "      <th>cont0</th>\n",
       "      <th>cont1</th>\n",
       "      <th>cont2</th>\n",
       "      <th>cont3</th>\n",
       "      <th>cont4</th>\n",
       "      <th>cont5</th>\n",
       "      <th>cont6</th>\n",
       "      <th>cont7</th>\n",
       "      <th>cont8</th>\n",
       "      <th>cont9</th>\n",
       "      <th>cont10</th>\n",
       "      <th>cont11</th>\n",
       "      <th>cont12</th>\n",
       "      <th>cont13</th>\n",
       "    </tr>\n",
       "  </thead>\n",
       "  <tbody>\n",
       "    <tr>\n",
       "      <th>0</th>\n",
       "      <td>B</td>\n",
       "      <td>B</td>\n",
       "      <td>B</td>\n",
       "      <td>E</td>\n",
       "      <td>C</td>\n",
       "      <td>N</td>\n",
       "      <td>0.201470</td>\n",
       "      <td>-0.014822</td>\n",
       "      <td>0.669699</td>\n",
       "      <td>0.136278</td>\n",
       "      <td>0.610706</td>\n",
       "      <td>0.400361</td>\n",
       "      <td>0.160266</td>\n",
       "      <td>0.310921</td>\n",
       "      <td>0.389470</td>\n",
       "      <td>0.267559</td>\n",
       "      <td>0.237281</td>\n",
       "      <td>0.377873</td>\n",
       "      <td>0.322401</td>\n",
       "      <td>0.869850</td>\n",
       "    </tr>\n",
       "    <tr>\n",
       "      <th>1</th>\n",
       "      <td>B</td>\n",
       "      <td>B</td>\n",
       "      <td>D</td>\n",
       "      <td>F</td>\n",
       "      <td>A</td>\n",
       "      <td>O</td>\n",
       "      <td>0.743068</td>\n",
       "      <td>0.367411</td>\n",
       "      <td>1.021605</td>\n",
       "      <td>0.365798</td>\n",
       "      <td>0.276853</td>\n",
       "      <td>0.533087</td>\n",
       "      <td>0.558922</td>\n",
       "      <td>0.516294</td>\n",
       "      <td>0.594928</td>\n",
       "      <td>0.341439</td>\n",
       "      <td>0.906013</td>\n",
       "      <td>0.921701</td>\n",
       "      <td>0.261975</td>\n",
       "      <td>0.465083</td>\n",
       "    </tr>\n",
       "    <tr>\n",
       "      <th>2</th>\n",
       "      <td>A</td>\n",
       "      <td>A</td>\n",
       "      <td>D</td>\n",
       "      <td>D</td>\n",
       "      <td>A</td>\n",
       "      <td>F</td>\n",
       "      <td>0.742708</td>\n",
       "      <td>0.310383</td>\n",
       "      <td>-0.012673</td>\n",
       "      <td>0.576957</td>\n",
       "      <td>0.285074</td>\n",
       "      <td>0.650609</td>\n",
       "      <td>0.375348</td>\n",
       "      <td>0.902567</td>\n",
       "      <td>0.555205</td>\n",
       "      <td>0.843531</td>\n",
       "      <td>0.748809</td>\n",
       "      <td>0.620126</td>\n",
       "      <td>0.541474</td>\n",
       "      <td>0.763846</td>\n",
       "    </tr>\n",
       "    <tr>\n",
       "      <th>3</th>\n",
       "      <td>B</td>\n",
       "      <td>B</td>\n",
       "      <td>D</td>\n",
       "      <td>E</td>\n",
       "      <td>C</td>\n",
       "      <td>K</td>\n",
       "      <td>0.429551</td>\n",
       "      <td>0.620998</td>\n",
       "      <td>0.577942</td>\n",
       "      <td>0.280610</td>\n",
       "      <td>0.284667</td>\n",
       "      <td>0.668980</td>\n",
       "      <td>0.239061</td>\n",
       "      <td>0.732948</td>\n",
       "      <td>0.679618</td>\n",
       "      <td>0.574844</td>\n",
       "      <td>0.346010</td>\n",
       "      <td>0.714610</td>\n",
       "      <td>0.540150</td>\n",
       "      <td>0.280682</td>\n",
       "    </tr>\n",
       "    <tr>\n",
       "      <th>4</th>\n",
       "      <td>A</td>\n",
       "      <td>A</td>\n",
       "      <td>D</td>\n",
       "      <td>E</td>\n",
       "      <td>A</td>\n",
       "      <td>N</td>\n",
       "      <td>1.058291</td>\n",
       "      <td>0.367492</td>\n",
       "      <td>-0.052389</td>\n",
       "      <td>0.232407</td>\n",
       "      <td>0.287595</td>\n",
       "      <td>0.686964</td>\n",
       "      <td>0.420667</td>\n",
       "      <td>0.648182</td>\n",
       "      <td>0.684501</td>\n",
       "      <td>0.956692</td>\n",
       "      <td>1.000773</td>\n",
       "      <td>0.776742</td>\n",
       "      <td>0.625849</td>\n",
       "      <td>0.250823</td>\n",
       "    </tr>\n",
       "  </tbody>\n",
       "</table>\n",
       "</div>"
      ],
      "text/plain": [
       "  cat0 cat1 cat5 cat7 cat8 cat9     cont0     cont1     cont2     cont3  \\\n",
       "0    B    B    B    E    C    N  0.201470 -0.014822  0.669699  0.136278   \n",
       "1    B    B    D    F    A    O  0.743068  0.367411  1.021605  0.365798   \n",
       "2    A    A    D    D    A    F  0.742708  0.310383 -0.012673  0.576957   \n",
       "3    B    B    D    E    C    K  0.429551  0.620998  0.577942  0.280610   \n",
       "4    A    A    D    E    A    N  1.058291  0.367492 -0.052389  0.232407   \n",
       "\n",
       "      cont4     cont5     cont6     cont7     cont8     cont9    cont10  \\\n",
       "0  0.610706  0.400361  0.160266  0.310921  0.389470  0.267559  0.237281   \n",
       "1  0.276853  0.533087  0.558922  0.516294  0.594928  0.341439  0.906013   \n",
       "2  0.285074  0.650609  0.375348  0.902567  0.555205  0.843531  0.748809   \n",
       "3  0.284667  0.668980  0.239061  0.732948  0.679618  0.574844  0.346010   \n",
       "4  0.287595  0.686964  0.420667  0.648182  0.684501  0.956692  1.000773   \n",
       "\n",
       "     cont11    cont12    cont13  \n",
       "0  0.377873  0.322401  0.869850  \n",
       "1  0.921701  0.261975  0.465083  \n",
       "2  0.620126  0.541474  0.763846  \n",
       "3  0.714610  0.540150  0.280682  \n",
       "4  0.776742  0.625849  0.250823  "
      ]
     },
     "execution_count": 6,
     "metadata": {},
     "output_type": "execute_result"
    }
   ],
   "source": [
    "# Separate target from features\n",
    "y = train['target']\n",
    "features = train.drop(['id','target'], axis=1)\n",
    "\n",
    "# Preview features\n",
    "features.head()"
   ]
  },
  {
   "cell_type": "markdown",
   "id": "1945a122",
   "metadata": {
    "papermill": {
     "duration": 0.020484,
     "end_time": "2021-08-23T00:18:22.404390",
     "exception": false,
     "start_time": "2021-08-23T00:18:22.383906",
     "status": "completed"
    },
    "tags": []
   },
   "source": [
    "# Preprocessing"
   ]
  },
  {
   "cell_type": "code",
   "execution_count": 7,
   "id": "4d42e94b",
   "metadata": {
    "execution": {
     "iopub.execute_input": "2021-08-23T00:18:22.450074Z",
     "iopub.status.busy": "2021-08-23T00:18:22.449109Z",
     "iopub.status.idle": "2021-08-23T00:18:24.788665Z",
     "shell.execute_reply": "2021-08-23T00:18:24.788150Z",
     "shell.execute_reply.started": "2021-08-23T00:16:16.898832Z"
    },
    "papermill": {
     "duration": 2.363531,
     "end_time": "2021-08-23T00:18:24.788807",
     "exception": false,
     "start_time": "2021-08-23T00:18:22.425276",
     "status": "completed"
    },
    "tags": []
   },
   "outputs": [
    {
     "data": {
      "text/html": [
       "<div>\n",
       "<style scoped>\n",
       "    .dataframe tbody tr th:only-of-type {\n",
       "        vertical-align: middle;\n",
       "    }\n",
       "\n",
       "    .dataframe tbody tr th {\n",
       "        vertical-align: top;\n",
       "    }\n",
       "\n",
       "    .dataframe thead th {\n",
       "        text-align: right;\n",
       "    }\n",
       "</style>\n",
       "<table border=\"1\" class=\"dataframe\">\n",
       "  <thead>\n",
       "    <tr style=\"text-align: right;\">\n",
       "      <th></th>\n",
       "      <th>cat0</th>\n",
       "      <th>cat1</th>\n",
       "      <th>cat5</th>\n",
       "      <th>cat7</th>\n",
       "      <th>cat8</th>\n",
       "      <th>cat9</th>\n",
       "      <th>cont0</th>\n",
       "      <th>cont1</th>\n",
       "      <th>cont2</th>\n",
       "      <th>cont3</th>\n",
       "      <th>cont4</th>\n",
       "      <th>cont5</th>\n",
       "      <th>cont6</th>\n",
       "      <th>cont7</th>\n",
       "      <th>cont8</th>\n",
       "      <th>cont9</th>\n",
       "      <th>cont10</th>\n",
       "      <th>cont11</th>\n",
       "      <th>cont12</th>\n",
       "      <th>cont13</th>\n",
       "    </tr>\n",
       "  </thead>\n",
       "  <tbody>\n",
       "    <tr>\n",
       "      <th>0</th>\n",
       "      <td>1.0</td>\n",
       "      <td>1.0</td>\n",
       "      <td>1.0</td>\n",
       "      <td>4.0</td>\n",
       "      <td>2.0</td>\n",
       "      <td>13.0</td>\n",
       "      <td>0.201470</td>\n",
       "      <td>-0.014822</td>\n",
       "      <td>0.669699</td>\n",
       "      <td>0.136278</td>\n",
       "      <td>0.610706</td>\n",
       "      <td>0.400361</td>\n",
       "      <td>0.160266</td>\n",
       "      <td>0.310921</td>\n",
       "      <td>0.389470</td>\n",
       "      <td>0.267559</td>\n",
       "      <td>0.237281</td>\n",
       "      <td>0.377873</td>\n",
       "      <td>0.322401</td>\n",
       "      <td>0.869850</td>\n",
       "    </tr>\n",
       "    <tr>\n",
       "      <th>1</th>\n",
       "      <td>1.0</td>\n",
       "      <td>1.0</td>\n",
       "      <td>3.0</td>\n",
       "      <td>5.0</td>\n",
       "      <td>0.0</td>\n",
       "      <td>14.0</td>\n",
       "      <td>0.743068</td>\n",
       "      <td>0.367411</td>\n",
       "      <td>1.021605</td>\n",
       "      <td>0.365798</td>\n",
       "      <td>0.276853</td>\n",
       "      <td>0.533087</td>\n",
       "      <td>0.558922</td>\n",
       "      <td>0.516294</td>\n",
       "      <td>0.594928</td>\n",
       "      <td>0.341439</td>\n",
       "      <td>0.906013</td>\n",
       "      <td>0.921701</td>\n",
       "      <td>0.261975</td>\n",
       "      <td>0.465083</td>\n",
       "    </tr>\n",
       "    <tr>\n",
       "      <th>2</th>\n",
       "      <td>0.0</td>\n",
       "      <td>0.0</td>\n",
       "      <td>3.0</td>\n",
       "      <td>3.0</td>\n",
       "      <td>0.0</td>\n",
       "      <td>5.0</td>\n",
       "      <td>0.742708</td>\n",
       "      <td>0.310383</td>\n",
       "      <td>-0.012673</td>\n",
       "      <td>0.576957</td>\n",
       "      <td>0.285074</td>\n",
       "      <td>0.650609</td>\n",
       "      <td>0.375348</td>\n",
       "      <td>0.902567</td>\n",
       "      <td>0.555205</td>\n",
       "      <td>0.843531</td>\n",
       "      <td>0.748809</td>\n",
       "      <td>0.620126</td>\n",
       "      <td>0.541474</td>\n",
       "      <td>0.763846</td>\n",
       "    </tr>\n",
       "    <tr>\n",
       "      <th>3</th>\n",
       "      <td>1.0</td>\n",
       "      <td>1.0</td>\n",
       "      <td>3.0</td>\n",
       "      <td>4.0</td>\n",
       "      <td>2.0</td>\n",
       "      <td>10.0</td>\n",
       "      <td>0.429551</td>\n",
       "      <td>0.620998</td>\n",
       "      <td>0.577942</td>\n",
       "      <td>0.280610</td>\n",
       "      <td>0.284667</td>\n",
       "      <td>0.668980</td>\n",
       "      <td>0.239061</td>\n",
       "      <td>0.732948</td>\n",
       "      <td>0.679618</td>\n",
       "      <td>0.574844</td>\n",
       "      <td>0.346010</td>\n",
       "      <td>0.714610</td>\n",
       "      <td>0.540150</td>\n",
       "      <td>0.280682</td>\n",
       "    </tr>\n",
       "    <tr>\n",
       "      <th>4</th>\n",
       "      <td>0.0</td>\n",
       "      <td>0.0</td>\n",
       "      <td>3.0</td>\n",
       "      <td>4.0</td>\n",
       "      <td>0.0</td>\n",
       "      <td>13.0</td>\n",
       "      <td>1.058291</td>\n",
       "      <td>0.367492</td>\n",
       "      <td>-0.052389</td>\n",
       "      <td>0.232407</td>\n",
       "      <td>0.287595</td>\n",
       "      <td>0.686964</td>\n",
       "      <td>0.420667</td>\n",
       "      <td>0.648182</td>\n",
       "      <td>0.684501</td>\n",
       "      <td>0.956692</td>\n",
       "      <td>1.000773</td>\n",
       "      <td>0.776742</td>\n",
       "      <td>0.625849</td>\n",
       "      <td>0.250823</td>\n",
       "    </tr>\n",
       "  </tbody>\n",
       "</table>\n",
       "</div>"
      ],
      "text/plain": [
       "   cat0  cat1  cat5  cat7  cat8  cat9     cont0     cont1     cont2     cont3  \\\n",
       "0   1.0   1.0   1.0   4.0   2.0  13.0  0.201470 -0.014822  0.669699  0.136278   \n",
       "1   1.0   1.0   3.0   5.0   0.0  14.0  0.743068  0.367411  1.021605  0.365798   \n",
       "2   0.0   0.0   3.0   3.0   0.0   5.0  0.742708  0.310383 -0.012673  0.576957   \n",
       "3   1.0   1.0   3.0   4.0   2.0  10.0  0.429551  0.620998  0.577942  0.280610   \n",
       "4   0.0   0.0   3.0   4.0   0.0  13.0  1.058291  0.367492 -0.052389  0.232407   \n",
       "\n",
       "      cont4     cont5     cont6     cont7     cont8     cont9    cont10  \\\n",
       "0  0.610706  0.400361  0.160266  0.310921  0.389470  0.267559  0.237281   \n",
       "1  0.276853  0.533087  0.558922  0.516294  0.594928  0.341439  0.906013   \n",
       "2  0.285074  0.650609  0.375348  0.902567  0.555205  0.843531  0.748809   \n",
       "3  0.284667  0.668980  0.239061  0.732948  0.679618  0.574844  0.346010   \n",
       "4  0.287595  0.686964  0.420667  0.648182  0.684501  0.956692  1.000773   \n",
       "\n",
       "     cont11    cont12    cont13  \n",
       "0  0.377873  0.322401  0.869850  \n",
       "1  0.921701  0.261975  0.465083  \n",
       "2  0.620126  0.541474  0.763846  \n",
       "3  0.714610  0.540150  0.280682  \n",
       "4  0.776742  0.625849  0.250823  "
      ]
     },
     "execution_count": 7,
     "metadata": {},
     "output_type": "execute_result"
    }
   ],
   "source": [
    "\n",
    "# List of categorical columns\n",
    "object_cols = [col for col in features.columns if 'cat' in col]\n",
    "\n",
    "# ordinal-encode categorical columns\n",
    "X = features.copy()\n",
    "X_test = test.drop(['id'], axis=1).copy()\n",
    "ordinal_encoder = OrdinalEncoder()\n",
    "X[object_cols] = ordinal_encoder.fit_transform(features[object_cols])\n",
    "X_test[object_cols] = ordinal_encoder.transform(test[object_cols])\n",
    "\n",
    "# Preview the ordinal-encoded features\n",
    "X.head()\n"
   ]
  },
  {
   "cell_type": "code",
   "execution_count": 8,
   "id": "f56efe7a",
   "metadata": {
    "execution": {
     "iopub.execute_input": "2021-08-23T00:18:24.833205Z",
     "iopub.status.busy": "2021-08-23T00:18:24.832334Z",
     "iopub.status.idle": "2021-08-23T00:18:24.835966Z",
     "shell.execute_reply": "2021-08-23T00:18:24.836406Z",
     "shell.execute_reply.started": "2021-08-23T00:16:19.341219Z"
    },
    "papermill": {
     "duration": 0.028698,
     "end_time": "2021-08-23T00:18:24.836570",
     "exception": false,
     "start_time": "2021-08-23T00:18:24.807872",
     "status": "completed"
    },
    "tags": []
   },
   "outputs": [
    {
     "data": {
      "text/plain": [
       "'\\n# List of categorical columns\\nobject_cols = [col for col in features.columns if \\'cat\\' in col]\\n\\n# one-hot-encode categorical columns\\nX = features.copy()\\nX_test = test.drop([\\'id\\'], axis=1).copy()\\n\\noh_encoder = OneHotEncoder(sparse=False, handle_unknown=\"ignore\")\\nX_ohe = oh_encoder.fit_transform(features[object_cols])\\nX_test_ohe = oh_encoder.transform(test[object_cols])\\n\\nX_ohe = pd.DataFrame(X_ohe, columns=[f\"ohe_{i}\" for i in range(X_ohe.shape[1])])\\nX_test_ohe = pd.DataFrame(X_test_ohe, columns=[f\"ohe_{i}\" for i in range(X_test_ohe.shape[1])])\\n\\nX = pd.concat([X, X_ohe], axis=1)\\nX_test = pd.concat([X_test, X_test_ohe], axis=1)\\nX = X.drop(object_cols, axis=1)\\nX_test = X_test.drop(object_cols, axis=1)\\n    \\n# Preview the one-hot-encoded features\\nX.head()\\n'"
      ]
     },
     "execution_count": 8,
     "metadata": {},
     "output_type": "execute_result"
    }
   ],
   "source": [
    "'''\n",
    "# List of categorical columns\n",
    "object_cols = [col for col in features.columns if 'cat' in col]\n",
    "\n",
    "# one-hot-encode categorical columns\n",
    "X = features.copy()\n",
    "X_test = test.drop(['id'], axis=1).copy()\n",
    "\n",
    "oh_encoder = OneHotEncoder(sparse=False, handle_unknown=\"ignore\")\n",
    "X_ohe = oh_encoder.fit_transform(features[object_cols])\n",
    "X_test_ohe = oh_encoder.transform(test[object_cols])\n",
    "\n",
    "X_ohe = pd.DataFrame(X_ohe, columns=[f\"ohe_{i}\" for i in range(X_ohe.shape[1])])\n",
    "X_test_ohe = pd.DataFrame(X_test_ohe, columns=[f\"ohe_{i}\" for i in range(X_test_ohe.shape[1])])\n",
    "\n",
    "X = pd.concat([X, X_ohe], axis=1)\n",
    "X_test = pd.concat([X_test, X_test_ohe], axis=1)\n",
    "X = X.drop(object_cols, axis=1)\n",
    "X_test = X_test.drop(object_cols, axis=1)\n",
    "    \n",
    "# Preview the one-hot-encoded features\n",
    "X.head()\n",
    "'''"
   ]
  },
  {
   "cell_type": "code",
   "execution_count": 9,
   "id": "640ae431",
   "metadata": {
    "execution": {
     "iopub.execute_input": "2021-08-23T00:18:24.896840Z",
     "iopub.status.busy": "2021-08-23T00:18:24.895569Z",
     "iopub.status.idle": "2021-08-23T00:18:26.907859Z",
     "shell.execute_reply": "2021-08-23T00:18:26.907272Z",
     "shell.execute_reply.started": "2021-08-23T00:16:19.349749Z"
    },
    "papermill": {
     "duration": 2.052173,
     "end_time": "2021-08-23T00:18:26.908019",
     "exception": false,
     "start_time": "2021-08-23T00:18:24.855846",
     "status": "completed"
    },
    "tags": []
   },
   "outputs": [],
   "source": [
    "scale_features = [col for col in features.columns if 'cont' in col]\n",
    "\n",
    "ss = StandardScaler()\n",
    "X[scale_features] = ss.fit_transform(features[scale_features])\n",
    "X_test[scale_features] = ss.transform(test[scale_features])"
   ]
  },
  {
   "cell_type": "code",
   "execution_count": 10,
   "id": "71de23a7",
   "metadata": {
    "execution": {
     "iopub.execute_input": "2021-08-23T00:18:26.955413Z",
     "iopub.status.busy": "2021-08-23T00:18:26.954421Z",
     "iopub.status.idle": "2021-08-23T00:18:26.957633Z",
     "shell.execute_reply": "2021-08-23T00:18:26.957105Z",
     "shell.execute_reply.started": "2021-08-23T00:16:21.487354Z"
    },
    "papermill": {
     "duration": 0.030233,
     "end_time": "2021-08-23T00:18:26.957768",
     "exception": false,
     "start_time": "2021-08-23T00:18:26.927535",
     "status": "completed"
    },
    "tags": []
   },
   "outputs": [],
   "source": [
    "# Swap noise\n",
    "\n",
    "# Random\n",
    "def apply_noise_rn(df, p=.75):\n",
    "    should_not_swap = np.random.binomial(1, p, df.shape)\n",
    "    corrupted_df = df.where(should_not_swap == 1, np.random.permutation(df))\n",
    "    return corrupted_df\n",
    "\n",
    "# Row-wise\n",
    "def apply_noise_row(df, p=.75):\n",
    "    should_not_swap = np.zeros(df.shape)\n",
    "    for i in range(df.shape[0]):\n",
    "        for j in np.random.choice(df.shape[1],int(p*df.shape[1]),replace=False):\n",
    "            should_not_swap[i,j]=1 \n",
    "    corrupted_df = df.where(should_not_swap == 1, np.random.permutation(df))\n",
    "    return corrupted_df"
   ]
  },
  {
   "cell_type": "markdown",
   "id": "44976ff4",
   "metadata": {
    "papermill": {
     "duration": 0.018996,
     "end_time": "2021-08-23T00:18:26.996318",
     "exception": false,
     "start_time": "2021-08-23T00:18:26.977322",
     "status": "completed"
    },
    "tags": []
   },
   "source": [
    "# Pseudo Label"
   ]
  },
  {
   "cell_type": "code",
   "execution_count": 11,
   "id": "c7328537",
   "metadata": {
    "execution": {
     "iopub.execute_input": "2021-08-23T00:18:27.041892Z",
     "iopub.status.busy": "2021-08-23T00:18:27.041159Z",
     "iopub.status.idle": "2021-08-23T00:18:27.358501Z",
     "shell.execute_reply": "2021-08-23T00:18:27.357964Z",
     "shell.execute_reply.started": "2021-08-23T00:16:21.499316Z"
    },
    "papermill": {
     "duration": 0.342408,
     "end_time": "2021-08-23T00:18:27.358657",
     "exception": false,
     "start_time": "2021-08-23T00:18:27.016249",
     "status": "completed"
    },
    "tags": []
   },
   "outputs": [],
   "source": [
    "pseudo = pd.read_csv(\"../input/30-days-pseudo/submission.csv\")[target]\n",
    "train_pseudo = pd.concat([X, y], axis=1)\n",
    "test_pseudo = pd.concat([X_test, pseudo], axis=1)\n",
    "all_pseudo = pd.concat([train_pseudo, test_pseudo]).reset_index(drop=True)"
   ]
  },
  {
   "cell_type": "markdown",
   "id": "fbfd07d3",
   "metadata": {
    "papermill": {
     "duration": 0.019951,
     "end_time": "2021-08-23T00:18:27.399135",
     "exception": false,
     "start_time": "2021-08-23T00:18:27.379184",
     "status": "completed"
    },
    "tags": []
   },
   "source": [
    "# Optuna"
   ]
  },
  {
   "cell_type": "code",
   "execution_count": 12,
   "id": "bec5290e",
   "metadata": {
    "execution": {
     "iopub.execute_input": "2021-08-23T00:18:27.443200Z",
     "iopub.status.busy": "2021-08-23T00:18:27.442399Z",
     "iopub.status.idle": "2021-08-23T00:18:37.144706Z",
     "shell.execute_reply": "2021-08-23T00:18:37.144123Z",
     "shell.execute_reply.started": "2021-08-23T00:16:21.841088Z"
    },
    "papermill": {
     "duration": 9.72654,
     "end_time": "2021-08-23T00:18:37.144847",
     "exception": false,
     "start_time": "2021-08-23T00:18:27.418307",
     "status": "completed"
    },
    "tags": []
   },
   "outputs": [
    {
     "name": "stdout",
     "output_type": "stream",
     "text": [
      "\u001b[33mWARNING: Running pip as root will break packages and permissions. You should install packages reliably by using venv: https://pip.pypa.io/warnings/venv\u001b[0m\r\n"
     ]
    }
   ],
   "source": [
    "# Optuna for parameter search\n",
    "!pip install -q optuna\n",
    "\n",
    "import optuna\n",
    "import pickle"
   ]
  },
  {
   "cell_type": "code",
   "execution_count": 13,
   "id": "a82af30a",
   "metadata": {
    "execution": {
     "iopub.execute_input": "2021-08-23T00:18:37.203276Z",
     "iopub.status.busy": "2021-08-23T00:18:37.202529Z",
     "iopub.status.idle": "2021-08-23T00:18:37.205686Z",
     "shell.execute_reply": "2021-08-23T00:18:37.205112Z",
     "shell.execute_reply.started": "2021-08-23T00:16:31.417078Z"
    },
    "papermill": {
     "duration": 0.040985,
     "end_time": "2021-08-23T00:18:37.205842",
     "exception": false,
     "start_time": "2021-08-23T00:18:37.164857",
     "status": "completed"
    },
    "tags": []
   },
   "outputs": [],
   "source": [
    "# for the fixed learning rate, use the opt n iterations and tune the tree hyperparameters\n",
    "def objective(trial, X=all_pseudo.iloc[:,:-1], y=all_pseudo[target]):\n",
    "  \"\"\"\n",
    "  \"\"\"\n",
    "  param_space = {\n",
    "               #'device':'gpu',  # Use GPU acceleration\n",
    "               #'boosting_type': 'gbdt',\n",
    "               'reg_lambda':trial.suggest_uniform('reg_lambda', 0.01, 100),\n",
    "              'reg_alpha':trial.suggest_uniform('reg_alpha', 0.01, 50),\n",
    "                'subsample': trial.suggest_uniform('subsample', 0.2, 1.0),\n",
    "              'colsample_bytree':trial.suggest_uniform('colsample_bytree', 0.1, 1.0),\n",
    "                #'subsample_freq': trial.suggest_int('subsample_freq', 1, 10),\n",
    "               'learning_rate':trial.suggest_uniform('learning_rate', 1e-3, 1),\n",
    "                 'min_child_samples':trial.suggest_int('min_child_samples', 5, 100),\n",
    "              'num_leaves':trial.suggest_int('num_leaves', 10, 200),\n",
    "              'max_depth':trial.suggest_int('max_depth', 2, 30),\n",
    "              #'min_split_gain': trial.suggest_float('min_split_gain', 0.0, 0.005),\n",
    "              #'class_weight':trial.suggest_categorical('class_weight',['balanced',None]),\n",
    "               'n_estimators':N_ESTIMATORS,\n",
    "                'n_jobs' : -1,\n",
    "              'metric':'rmse',\n",
    "              'max_bin':trial.suggest_int('max_bin', 300, 1000),\n",
    "              'cat_smooth':trial.suggest_int('cat_smooth', 5, 100),\n",
    "              'cat_l2':trial.suggest_loguniform('cat_l2', 1e-3, 100)\n",
    "                }\n",
    "            \n",
    "  seed_list=[SEED, SEED+1]\n",
    "  #kf = KFold(n_splits=N_SPLITS, shuffle=True, random_state=CVSEED)\n",
    "  lgb_oof = np.zeros(train.shape[0])\n",
    "  #lgb_pred = np.zeros(test.shape[0])\n",
    "  X_tr, X_va, y_tr, y_va = train_test_split(X,y,test_size=.2,random_state=CVSEED)\n",
    "  trn_idx = X_tr.index\n",
    "  val_idx = X_va.index\n",
    "  \n",
    "  #for (trn_idx, val_idx) in enumerate(kf.split(X, y)):\n",
    "  #print(f\"===== fold {fold} =====\")\n",
    "  oof_idx = np.array([idx for idx in val_idx if idx < train.shape[0]])\n",
    "  preds_idx = np.array([idx for idx in val_idx if idx >= train.shape[0]])\n",
    "\n",
    "  X_train, y_train = all_pseudo.iloc[trn_idx, :-1], all_pseudo[target].iloc[trn_idx]\n",
    "  #X_train = apply_noise_row(X_train)\n",
    "\n",
    "  X_valid, y_valid = all_pseudo.iloc[oof_idx, :-1], all_pseudo[target].iloc[oof_idx]\n",
    "  #X_test = all_pseudo[scale_features].iloc[preds_idx]\n",
    "  \n",
    "  #start = time.time()\n",
    "  for inseed in seed_list:\n",
    "    param_space['random_state'] = inseed\n",
    "\n",
    "    model = lgb.LGBMRegressor(**param_space)\n",
    "    model.fit(\n",
    "        X_train, \n",
    "        y_train,\n",
    "        eval_set=[(X_valid, y_valid)],\n",
    "        eval_metric='rmse',\n",
    "        early_stopping_rounds=EARLY_STOPPING_ROUNDS,\n",
    "        verbose=VERBOSE,\n",
    "        categorical_feature=[0, 1, 2, 3, 4, 5, 6, 7, 8, 9]\n",
    "        #callbacks=[optuna.integration.LightGBMPruningCallback(trial, metric='rmse')],\n",
    "    )\n",
    "\n",
    "\n",
    "    lgb_oof[oof_idx] += model.predict(X_valid) / len(seed_list)\n",
    "    #lgb_pred[preds_idx-train.shape[0]] += model.predict(X_test) / len(seed_list)\n",
    "\n",
    "  #elapsed = time.time() - start\n",
    "  rmse = mean_squared_error(y_valid, lgb_oof[oof_idx], squared=False)\n",
    "  #print(f\"fold {fold} - lgb rmse: {rmse:.6f}, elapsed time: {elapsed:.2f}sec\\n\")            \n",
    "  \n",
    "  #print(f\"oof lgb_rmse = {mean_squared_error(train[target], lgb_oof, squared=False)}\")\n",
    "\n",
    "  \n",
    "  return rmse"
   ]
  },
  {
   "cell_type": "code",
   "execution_count": 14,
   "id": "03206a4a",
   "metadata": {
    "execution": {
     "iopub.execute_input": "2021-08-23T00:18:37.253325Z",
     "iopub.status.busy": "2021-08-23T00:18:37.252614Z",
     "iopub.status.idle": "2021-08-23T00:44:24.450822Z",
     "shell.execute_reply": "2021-08-23T00:44:24.450333Z",
     "shell.execute_reply.started": "2021-08-23T00:16:31.436472Z"
    },
    "papermill": {
     "duration": 1547.224828,
     "end_time": "2021-08-23T00:44:24.450981",
     "exception": false,
     "start_time": "2021-08-23T00:18:37.226153",
     "status": "completed"
    },
    "tags": []
   },
   "outputs": [
    {
     "name": "stderr",
     "output_type": "stream",
     "text": [
      "\u001b[32m[I 2021-08-23 00:18:37,250]\u001b[0m A new study created in memory with name: no-name-ddf3c641-b387-4a30-89a5-e49653820507\u001b[0m\n"
     ]
    },
    {
     "name": "stdout",
     "output_type": "stream",
     "text": [
      "Training until validation scores don't improve for 200 rounds\n",
      "Early stopping, best iteration is:\n",
      "[536]\tvalid_0's rmse: 0.713472\n",
      "Training until validation scores don't improve for 200 rounds\n",
      "Early stopping, best iteration is:\n",
      "[670]\tvalid_0's rmse: 0.713616\n"
     ]
    },
    {
     "name": "stderr",
     "output_type": "stream",
     "text": [
      "\u001b[32m[I 2021-08-23 00:19:40,660]\u001b[0m Trial 0 finished with value: 0.7132462550941675 and parameters: {'reg_lambda': 71.22804518208092, 'reg_alpha': 20.914019373466296, 'subsample': 0.4398404020748512, 'colsample_bytree': 0.31734777406489234, 'learning_rate': 0.06163469479301172, 'min_child_samples': 17, 'num_leaves': 119, 'max_depth': 20, 'max_bin': 896, 'cat_smooth': 40, 'cat_l2': 1.3138040115205214}. Best is trial 0 with value: 0.7132462550941675.\u001b[0m\n"
     ]
    },
    {
     "name": "stdout",
     "output_type": "stream",
     "text": [
      "Training until validation scores don't improve for 200 rounds\n",
      "[1000]\tvalid_0's rmse: 0.714465\n",
      "[2000]\tvalid_0's rmse: 0.713356\n",
      "[3000]\tvalid_0's rmse: 0.713088\n",
      "[4000]\tvalid_0's rmse: 0.713006\n",
      "Early stopping, best iteration is:\n",
      "[4707]\tvalid_0's rmse: 0.712988\n",
      "Training until validation scores don't improve for 200 rounds\n",
      "[1000]\tvalid_0's rmse: 0.714331\n",
      "[2000]\tvalid_0's rmse: 0.713243\n",
      "[3000]\tvalid_0's rmse: 0.712928\n",
      "[4000]\tvalid_0's rmse: 0.712845\n",
      "Early stopping, best iteration is:\n",
      "[4029]\tvalid_0's rmse: 0.712841\n"
     ]
    },
    {
     "name": "stderr",
     "output_type": "stream",
     "text": [
      "\u001b[32m[I 2021-08-23 00:23:27,138]\u001b[0m Trial 1 finished with value: 0.7128322936038564 and parameters: {'reg_lambda': 28.354896871840413, 'reg_alpha': 41.160128543109266, 'subsample': 0.5137580786570335, 'colsample_bytree': 0.23967435576049964, 'learning_rate': 0.02690118616570491, 'min_child_samples': 79, 'num_leaves': 24, 'max_depth': 24, 'max_bin': 894, 'cat_smooth': 50, 'cat_l2': 0.006269585073940497}. Best is trial 1 with value: 0.7128322936038564.\u001b[0m\n"
     ]
    },
    {
     "name": "stdout",
     "output_type": "stream",
     "text": [
      "Training until validation scores don't improve for 200 rounds\n",
      "Early stopping, best iteration is:\n",
      "[21]\tvalid_0's rmse: 0.720187\n",
      "Training until validation scores don't improve for 200 rounds\n"
     ]
    },
    {
     "name": "stderr",
     "output_type": "stream",
     "text": [
      "\u001b[32m[I 2021-08-23 00:23:44,454]\u001b[0m Trial 2 finished with value: 0.7171877064746541 and parameters: {'reg_lambda': 17.060210950373325, 'reg_alpha': 7.2162771704842505, 'subsample': 0.9648115501720349, 'colsample_bytree': 0.8508268221669721, 'learning_rate': 0.6230178563318562, 'min_child_samples': 31, 'num_leaves': 139, 'max_depth': 9, 'max_bin': 317, 'cat_smooth': 81, 'cat_l2': 0.1171394543192337}. Best is trial 1 with value: 0.7128322936038564.\u001b[0m\n"
     ]
    },
    {
     "name": "stdout",
     "output_type": "stream",
     "text": [
      "Early stopping, best iteration is:\n",
      "[21]\tvalid_0's rmse: 0.718868\n",
      "Training until validation scores don't improve for 200 rounds\n",
      "Early stopping, best iteration is:\n",
      "[14]\tvalid_0's rmse: 0.720315\n",
      "Training until validation scores don't improve for 200 rounds\n"
     ]
    },
    {
     "name": "stderr",
     "output_type": "stream",
     "text": [
      "\u001b[32m[I 2021-08-23 00:24:05,391]\u001b[0m Trial 3 finished with value: 0.7172264043500538 and parameters: {'reg_lambda': 51.46581034101, 'reg_alpha': 8.531572444361245, 'subsample': 0.9375753454140665, 'colsample_bytree': 0.7677723900653577, 'learning_rate': 0.7445569010402524, 'min_child_samples': 36, 'num_leaves': 184, 'max_depth': 24, 'max_bin': 568, 'cat_smooth': 95, 'cat_l2': 6.952696848721614}. Best is trial 1 with value: 0.7128322936038564.\u001b[0m\n"
     ]
    },
    {
     "name": "stdout",
     "output_type": "stream",
     "text": [
      "Early stopping, best iteration is:\n",
      "[14]\tvalid_0's rmse: 0.720651\n",
      "Training until validation scores don't improve for 200 rounds\n",
      "Early stopping, best iteration is:\n",
      "[251]\tvalid_0's rmse: 0.713871\n",
      "Training until validation scores don't improve for 200 rounds\n",
      "Early stopping, best iteration is:\n",
      "[243]\tvalid_0's rmse: 0.713887\n"
     ]
    },
    {
     "name": "stderr",
     "output_type": "stream",
     "text": [
      "\u001b[32m[I 2021-08-23 00:24:23,198]\u001b[0m Trial 4 finished with value: 0.7132244608667255 and parameters: {'reg_lambda': 93.73482582065542, 'reg_alpha': 39.5438135298472, 'subsample': 0.725097946154055, 'colsample_bytree': 0.2974240330536204, 'learning_rate': 0.5891574236685329, 'min_child_samples': 22, 'num_leaves': 11, 'max_depth': 17, 'max_bin': 969, 'cat_smooth': 57, 'cat_l2': 4.902976586986592}. Best is trial 1 with value: 0.7128322936038564.\u001b[0m\n"
     ]
    },
    {
     "name": "stdout",
     "output_type": "stream",
     "text": [
      "Training until validation scores don't improve for 200 rounds\n",
      "Early stopping, best iteration is:\n",
      "[631]\tvalid_0's rmse: 0.714277\n",
      "Training until validation scores don't improve for 200 rounds\n",
      "Early stopping, best iteration is:\n",
      "[574]\tvalid_0's rmse: 0.714271\n"
     ]
    },
    {
     "name": "stderr",
     "output_type": "stream",
     "text": [
      "\u001b[32m[I 2021-08-23 00:25:27,783]\u001b[0m Trial 5 finished with value: 0.7140705520314125 and parameters: {'reg_lambda': 1.1175998728641905, 'reg_alpha': 48.685001028138316, 'subsample': 0.9149727242983487, 'colsample_bytree': 0.7148089889738509, 'learning_rate': 0.07422775920720738, 'min_child_samples': 72, 'num_leaves': 82, 'max_depth': 21, 'max_bin': 816, 'cat_smooth': 52, 'cat_l2': 24.837915099605105}. Best is trial 1 with value: 0.7128322936038564.\u001b[0m\n"
     ]
    },
    {
     "name": "stdout",
     "output_type": "stream",
     "text": [
      "Training until validation scores don't improve for 200 rounds\n",
      "Early stopping, best iteration is:\n",
      "[28]\tvalid_0's rmse: 0.717826\n",
      "Training until validation scores don't improve for 200 rounds\n"
     ]
    },
    {
     "name": "stderr",
     "output_type": "stream",
     "text": [
      "\u001b[32m[I 2021-08-23 00:25:50,245]\u001b[0m Trial 6 finished with value: 0.7159515505947495 and parameters: {'reg_lambda': 4.913219628709567, 'reg_alpha': 40.10050472834298, 'subsample': 0.3041794541276379, 'colsample_bytree': 0.380015688403492, 'learning_rate': 0.7519927935115147, 'min_child_samples': 52, 'num_leaves': 199, 'max_depth': 22, 'max_bin': 729, 'cat_smooth': 51, 'cat_l2': 0.00390672428063351}. Best is trial 1 with value: 0.7128322936038564.\u001b[0m\n"
     ]
    },
    {
     "name": "stdout",
     "output_type": "stream",
     "text": [
      "Early stopping, best iteration is:\n",
      "[21]\tvalid_0's rmse: 0.7182\n",
      "Training until validation scores don't improve for 200 rounds\n",
      "Early stopping, best iteration is:\n",
      "[12]\tvalid_0's rmse: 0.719871\n",
      "Training until validation scores don't improve for 200 rounds\n"
     ]
    },
    {
     "name": "stderr",
     "output_type": "stream",
     "text": [
      "\u001b[32m[I 2021-08-23 00:26:09,893]\u001b[0m Trial 7 finished with value: 0.7174768498059338 and parameters: {'reg_lambda': 71.11117177962966, 'reg_alpha': 24.794417419421382, 'subsample': 0.22865272348966015, 'colsample_bytree': 0.5896679888167241, 'learning_rate': 0.8705777795238969, 'min_child_samples': 61, 'num_leaves': 146, 'max_depth': 23, 'max_bin': 606, 'cat_smooth': 6, 'cat_l2': 0.005511639432033395}. Best is trial 1 with value: 0.7128322936038564.\u001b[0m\n"
     ]
    },
    {
     "name": "stdout",
     "output_type": "stream",
     "text": [
      "Early stopping, best iteration is:\n",
      "[16]\tvalid_0's rmse: 0.720687\n",
      "Training until validation scores don't improve for 200 rounds\n",
      "Early stopping, best iteration is:\n",
      "[57]\tvalid_0's rmse: 0.715133\n",
      "Training until validation scores don't improve for 200 rounds\n"
     ]
    },
    {
     "name": "stderr",
     "output_type": "stream",
     "text": [
      "\u001b[32m[I 2021-08-23 00:26:25,475]\u001b[0m Trial 8 finished with value: 0.7143436004786342 and parameters: {'reg_lambda': 89.13725251112876, 'reg_alpha': 20.68285565280326, 'subsample': 0.7115535119030418, 'colsample_bytree': 0.41727355597870797, 'learning_rate': 0.48909772266066, 'min_child_samples': 81, 'num_leaves': 51, 'max_depth': 24, 'max_bin': 572, 'cat_smooth': 82, 'cat_l2': 0.11900961622495397}. Best is trial 1 with value: 0.7128322936038564.\u001b[0m\n"
     ]
    },
    {
     "name": "stdout",
     "output_type": "stream",
     "text": [
      "Early stopping, best iteration is:\n",
      "[54]\tvalid_0's rmse: 0.71549\n",
      "Training until validation scores don't improve for 200 rounds\n",
      "Early stopping, best iteration is:\n",
      "[29]\tvalid_0's rmse: 0.718374\n",
      "Training until validation scores don't improve for 200 rounds\n"
     ]
    },
    {
     "name": "stderr",
     "output_type": "stream",
     "text": [
      "\u001b[32m[I 2021-08-23 00:26:46,533]\u001b[0m Trial 9 finished with value: 0.7167539059660357 and parameters: {'reg_lambda': 11.854073549299434, 'reg_alpha': 44.41905352830439, 'subsample': 0.970786407548289, 'colsample_bytree': 0.8287236663937738, 'learning_rate': 0.7253747210642744, 'min_child_samples': 93, 'num_leaves': 104, 'max_depth': 30, 'max_bin': 362, 'cat_smooth': 30, 'cat_l2': 7.316737141273215}. Best is trial 1 with value: 0.7128322936038564.\u001b[0m\n"
     ]
    },
    {
     "name": "stdout",
     "output_type": "stream",
     "text": [
      "Early stopping, best iteration is:\n",
      "[33]\tvalid_0's rmse: 0.719293\n",
      "Training until validation scores don't improve for 200 rounds\n",
      "[1000]\tvalid_0's rmse: 0.71278\n",
      "Early stopping, best iteration is:\n",
      "[808]\tvalid_0's rmse: 0.712665\n",
      "Training until validation scores don't improve for 200 rounds\n",
      "[1000]\tvalid_0's rmse: 0.71293\n",
      "Early stopping, best iteration is:\n",
      "[849]\tvalid_0's rmse: 0.712893\n"
     ]
    },
    {
     "name": "stderr",
     "output_type": "stream",
     "text": [
      "\u001b[32m[I 2021-08-23 00:27:25,401]\u001b[0m Trial 10 finished with value: 0.7125197894042219 and parameters: {'reg_lambda': 31.96159394963173, 'reg_alpha': 34.77324636947614, 'subsample': 0.5060755836496151, 'colsample_bytree': 0.14468936339449, 'learning_rate': 0.31091805860052085, 'min_child_samples': 99, 'num_leaves': 11, 'max_depth': 30, 'max_bin': 996, 'cat_smooth': 12, 'cat_l2': 0.0010766597770169293}. Best is trial 10 with value: 0.7125197894042219.\u001b[0m\n"
     ]
    },
    {
     "name": "stdout",
     "output_type": "stream",
     "text": [
      "Training until validation scores don't improve for 200 rounds\n",
      "Early stopping, best iteration is:\n",
      "[582]\tvalid_0's rmse: 0.71266\n",
      "Training until validation scores don't improve for 200 rounds\n",
      "Early stopping, best iteration is:\n",
      "[717]\tvalid_0's rmse: 0.712963\n"
     ]
    },
    {
     "name": "stderr",
     "output_type": "stream",
     "text": [
      "\u001b[32m[I 2021-08-23 00:27:57,340]\u001b[0m Trial 11 finished with value: 0.7125637676172063 and parameters: {'reg_lambda': 30.169617862134274, 'reg_alpha': 33.53322480707972, 'subsample': 0.5004877423710059, 'colsample_bytree': 0.14682780611191346, 'learning_rate': 0.33327967570295697, 'min_child_samples': 100, 'num_leaves': 10, 'max_depth': 30, 'max_bin': 992, 'cat_smooth': 5, 'cat_l2': 0.0010685153625499511}. Best is trial 10 with value: 0.7125197894042219.\u001b[0m\n"
     ]
    },
    {
     "name": "stdout",
     "output_type": "stream",
     "text": [
      "Training until validation scores don't improve for 200 rounds\n",
      "Early stopping, best iteration is:\n",
      "[285]\tvalid_0's rmse: 0.713315\n",
      "Training until validation scores don't improve for 200 rounds\n",
      "Early stopping, best iteration is:\n",
      "[258]\tvalid_0's rmse: 0.713206\n"
     ]
    },
    {
     "name": "stderr",
     "output_type": "stream",
     "text": [
      "\u001b[32m[I 2021-08-23 00:28:23,672]\u001b[0m Trial 12 finished with value: 0.7128311772090961 and parameters: {'reg_lambda': 35.68199276090073, 'reg_alpha': 32.02938955908844, 'subsample': 0.3938285317827363, 'colsample_bytree': 0.14795595473922962, 'learning_rate': 0.3089967802325722, 'min_child_samples': 97, 'num_leaves': 47, 'max_depth': 30, 'max_bin': 998, 'cat_smooth': 5, 'cat_l2': 0.0010402067243497253}. Best is trial 10 with value: 0.7125197894042219.\u001b[0m\n"
     ]
    },
    {
     "name": "stdout",
     "output_type": "stream",
     "text": [
      "Training until validation scores don't improve for 200 rounds\n",
      "Early stopping, best iteration is:\n",
      "[798]\tvalid_0's rmse: 0.712813\n",
      "Training until validation scores don't improve for 200 rounds\n",
      "[1000]\tvalid_0's rmse: 0.712829\n",
      "Early stopping, best iteration is:\n",
      "[885]\tvalid_0's rmse: 0.712813\n"
     ]
    },
    {
     "name": "stderr",
     "output_type": "stream",
     "text": [
      "\u001b[32m[I 2021-08-23 00:28:47,623]\u001b[0m Trial 13 finished with value: 0.7125942506725893 and parameters: {'reg_lambda': 43.727949828577245, 'reg_alpha': 31.688804898174016, 'subsample': 0.6169041594799058, 'colsample_bytree': 0.103316108948798, 'learning_rate': 0.2940515157593458, 'min_child_samples': 97, 'num_leaves': 11, 'max_depth': 30, 'max_bin': 996, 'cat_smooth': 18, 'cat_l2': 0.001163866828004529}. Best is trial 10 with value: 0.7125197894042219.\u001b[0m\n"
     ]
    },
    {
     "name": "stdout",
     "output_type": "stream",
     "text": [
      "Training until validation scores don't improve for 200 rounds\n",
      "Early stopping, best iteration is:\n",
      "[367]\tvalid_0's rmse: 0.71328\n",
      "Training until validation scores don't improve for 200 rounds\n",
      "Early stopping, best iteration is:\n",
      "[353]\tvalid_0's rmse: 0.713223\n"
     ]
    },
    {
     "name": "stderr",
     "output_type": "stream",
     "text": [
      "\u001b[32m[I 2021-08-23 00:29:14,152]\u001b[0m Trial 14 finished with value: 0.7128759219630435 and parameters: {'reg_lambda': 24.70789484316013, 'reg_alpha': 31.606856536471124, 'subsample': 0.6014423538364002, 'colsample_bytree': 0.10773007069065188, 'learning_rate': 0.2887265214410217, 'min_child_samples': 100, 'num_leaves': 48, 'max_depth': 8, 'max_bin': 757, 'cat_smooth': 19, 'cat_l2': 0.024821673022320242}. Best is trial 10 with value: 0.7125197894042219.\u001b[0m\n"
     ]
    },
    {
     "name": "stdout",
     "output_type": "stream",
     "text": [
      "Training until validation scores don't improve for 200 rounds\n",
      "Early stopping, best iteration is:\n",
      "[68]\tvalid_0's rmse: 0.715874\n",
      "Training until validation scores don't improve for 200 rounds\n",
      "Early stopping, best iteration is:\n",
      "[101]\tvalid_0's rmse: 0.715604\n"
     ]
    },
    {
     "name": "stderr",
     "output_type": "stream",
     "text": [
      "\u001b[32m[I 2021-08-23 00:29:36,013]\u001b[0m Trial 15 finished with value: 0.7147114740474484 and parameters: {'reg_lambda': 58.632097926392994, 'reg_alpha': 34.09343194132642, 'subsample': 0.47099818787874337, 'colsample_bytree': 0.5033023340976392, 'learning_rate': 0.41105464717703993, 'min_child_samples': 84, 'num_leaves': 72, 'max_depth': 28, 'max_bin': 443, 'cat_smooth': 14, 'cat_l2': 0.0230295337928035}. Best is trial 10 with value: 0.7125197894042219.\u001b[0m\n"
     ]
    },
    {
     "name": "stdout",
     "output_type": "stream",
     "text": [
      "Training until validation scores don't improve for 200 rounds\n",
      "Early stopping, best iteration is:\n",
      "[441]\tvalid_0's rmse: 0.71306\n",
      "Training until validation scores don't improve for 200 rounds\n",
      "Early stopping, best iteration is:\n",
      "[475]\tvalid_0's rmse: 0.713098\n"
     ]
    },
    {
     "name": "stderr",
     "output_type": "stream",
     "text": [
      "\u001b[32m[I 2021-08-23 00:30:08,923]\u001b[0m Trial 16 finished with value: 0.7127246499456431 and parameters: {'reg_lambda': 37.64398286154883, 'reg_alpha': 13.900993104055816, 'subsample': 0.7169666171541105, 'colsample_bytree': 0.2206411393186809, 'learning_rate': 0.1695957210084681, 'min_child_samples': 66, 'num_leaves': 30, 'max_depth': 12, 'max_bin': 911, 'cat_smooth': 30, 'cat_l2': 0.0010737300783094476}. Best is trial 10 with value: 0.7125197894042219.\u001b[0m\n"
     ]
    },
    {
     "name": "stdout",
     "output_type": "stream",
     "text": [
      "Training until validation scores don't improve for 200 rounds\n",
      "[1000]\tvalid_0's rmse: 0.714881\n",
      "[2000]\tvalid_0's rmse: 0.713327\n",
      "[3000]\tvalid_0's rmse: 0.71293\n",
      "Early stopping, best iteration is:\n",
      "[3448]\tvalid_0's rmse: 0.712891\n",
      "Training until validation scores don't improve for 200 rounds\n",
      "[1000]\tvalid_0's rmse: 0.71501\n",
      "[2000]\tvalid_0's rmse: 0.713457\n",
      "[3000]\tvalid_0's rmse: 0.713021\n",
      "Early stopping, best iteration is:\n",
      "[3486]\tvalid_0's rmse: 0.712961\n"
     ]
    },
    {
     "name": "stderr",
     "output_type": "stream",
     "text": [
      "\u001b[32m[I 2021-08-23 00:31:53,601]\u001b[0m Trial 17 finished with value: 0.7128423025828451 and parameters: {'reg_lambda': 20.42667912764319, 'reg_alpha': 49.128057870524216, 'subsample': 0.3411557639043098, 'colsample_bytree': 0.17475807957140638, 'learning_rate': 0.18475386966736976, 'min_child_samples': 49, 'num_leaves': 10, 'max_depth': 2, 'max_bin': 830, 'cat_smooth': 6, 'cat_l2': 0.025387515260068313}. Best is trial 10 with value: 0.7125197894042219.\u001b[0m\n"
     ]
    },
    {
     "name": "stdout",
     "output_type": "stream",
     "text": [
      "Training until validation scores don't improve for 200 rounds\n",
      "Early stopping, best iteration is:\n",
      "[71]\tvalid_0's rmse: 0.715701\n",
      "Training until validation scores don't improve for 200 rounds\n",
      "Early stopping, best iteration is:\n",
      "[78]\tvalid_0's rmse: 0.715442\n"
     ]
    },
    {
     "name": "stderr",
     "output_type": "stream",
     "text": [
      "\u001b[32m[I 2021-08-23 00:32:11,088]\u001b[0m Trial 18 finished with value: 0.7144455228983145 and parameters: {'reg_lambda': 30.904641274818427, 'reg_alpha': 26.99288318183595, 'subsample': 0.5389102438870237, 'colsample_bytree': 0.5989471461785592, 'learning_rate': 0.42758791546181896, 'min_child_samples': 86, 'num_leaves': 67, 'max_depth': 27, 'max_bin': 672, 'cat_smooth': 29, 'cat_l2': 99.749236337292}. Best is trial 10 with value: 0.7125197894042219.\u001b[0m\n"
     ]
    },
    {
     "name": "stdout",
     "output_type": "stream",
     "text": [
      "Training until validation scores don't improve for 200 rounds\n",
      "Early stopping, best iteration is:\n",
      "[312]\tvalid_0's rmse: 0.713739\n",
      "Training until validation scores don't improve for 200 rounds\n",
      "Early stopping, best iteration is:\n",
      "[449]\tvalid_0's rmse: 0.713478\n"
     ]
    },
    {
     "name": "stderr",
     "output_type": "stream",
     "text": [
      "\u001b[32m[I 2021-08-23 00:32:40,652]\u001b[0m Trial 19 finished with value: 0.713252279475325 and parameters: {'reg_lambda': 56.4694838441933, 'reg_alpha': 36.0627670768438, 'subsample': 0.8330956762697885, 'colsample_bytree': 0.44001340786507087, 'learning_rate': 0.19565690069403868, 'min_child_samples': 6, 'num_leaves': 30, 'max_depth': 27, 'max_bin': 947, 'cat_smooth': 14, 'cat_l2': 0.0028758524637212497}. Best is trial 10 with value: 0.7125197894042219.\u001b[0m\n"
     ]
    },
    {
     "name": "stdout",
     "output_type": "stream",
     "text": [
      "Training until validation scores don't improve for 200 rounds\n",
      "Early stopping, best iteration is:\n",
      "[54]\tvalid_0's rmse: 0.716158\n",
      "Training until validation scores don't improve for 200 rounds\n"
     ]
    },
    {
     "name": "stderr",
     "output_type": "stream",
     "text": [
      "\u001b[32m[I 2021-08-23 00:33:04,817]\u001b[0m Trial 20 finished with value: 0.7152105426868423 and parameters: {'reg_lambda': 41.50513831586017, 'reg_alpha': 25.580718606701456, 'subsample': 0.2973189858725259, 'colsample_bytree': 0.9901356530116481, 'learning_rate': 0.3764153982744623, 'min_child_samples': 92, 'num_leaves': 94, 'max_depth': 17, 'max_bin': 856, 'cat_smooth': 40, 'cat_l2': 0.22726672513583512}. Best is trial 10 with value: 0.7125197894042219.\u001b[0m\n"
     ]
    },
    {
     "name": "stdout",
     "output_type": "stream",
     "text": [
      "Early stopping, best iteration is:\n",
      "[55]\tvalid_0's rmse: 0.716292\n",
      "Training until validation scores don't improve for 200 rounds\n",
      "[1000]\tvalid_0's rmse: 0.712893\n",
      "Early stopping, best iteration is:\n",
      "[1604]\tvalid_0's rmse: 0.712829\n",
      "Training until validation scores don't improve for 200 rounds\n",
      "[1000]\tvalid_0's rmse: 0.71279\n",
      "Early stopping, best iteration is:\n",
      "[1364]\tvalid_0's rmse: 0.712693\n"
     ]
    },
    {
     "name": "stderr",
     "output_type": "stream",
     "text": [
      "\u001b[32m[I 2021-08-23 00:33:58,685]\u001b[0m Trial 21 finished with value: 0.7124995237022378 and parameters: {'reg_lambda': 45.09994580439574, 'reg_alpha': 29.653225831399617, 'subsample': 0.6272858433082099, 'colsample_bytree': 0.10415878244926194, 'learning_rate': 0.2653785487729413, 'min_child_samples': 98, 'num_leaves': 10, 'max_depth': 30, 'max_bin': 986, 'cat_smooth': 19, 'cat_l2': 0.00110483287391013}. Best is trial 21 with value: 0.7124995237022378.\u001b[0m\n"
     ]
    },
    {
     "name": "stdout",
     "output_type": "stream",
     "text": [
      "Training until validation scores don't improve for 200 rounds\n",
      "[1000]\tvalid_0's rmse: 0.712724\n",
      "[2000]\tvalid_0's rmse: 0.712626\n",
      "Early stopping, best iteration is:\n",
      "[1981]\tvalid_0's rmse: 0.712606\n",
      "Training until validation scores don't improve for 200 rounds\n",
      "[1000]\tvalid_0's rmse: 0.712766\n",
      "Early stopping, best iteration is:\n",
      "[1560]\tvalid_0's rmse: 0.712574\n"
     ]
    },
    {
     "name": "stderr",
     "output_type": "stream",
     "text": [
      "\u001b[32m[I 2021-08-23 00:35:04,602]\u001b[0m Trial 22 finished with value: 0.7123367407151787 and parameters: {'reg_lambda': 47.16380193795371, 'reg_alpha': 29.16964013102968, 'subsample': 0.6268349823731298, 'colsample_bytree': 0.11028261217734764, 'learning_rate': 0.20170403778571633, 'min_child_samples': 89, 'num_leaves': 12, 'max_depth': 27, 'max_bin': 979, 'cat_smooth': 21, 'cat_l2': 0.0010504043298797654}. Best is trial 22 with value: 0.7123367407151787.\u001b[0m\n"
     ]
    },
    {
     "name": "stdout",
     "output_type": "stream",
     "text": [
      "Training until validation scores don't improve for 200 rounds\n",
      "Early stopping, best iteration is:\n",
      "[291]\tvalid_0's rmse: 0.713393\n",
      "Training until validation scores don't improve for 200 rounds\n",
      "Early stopping, best iteration is:\n",
      "[200]\tvalid_0's rmse: 0.713299\n"
     ]
    },
    {
     "name": "stderr",
     "output_type": "stream",
     "text": [
      "\u001b[32m[I 2021-08-23 00:35:29,385]\u001b[0m Trial 23 finished with value: 0.7129500735361347 and parameters: {'reg_lambda': 64.79417464667881, 'reg_alpha': 17.694539493703584, 'subsample': 0.6522941477248214, 'colsample_bytree': 0.24513006758533884, 'learning_rate': 0.23482086001609387, 'min_child_samples': 74, 'num_leaves': 32, 'max_depth': 27, 'max_bin': 960, 'cat_smooth': 23, 'cat_l2': 0.009761424977159368}. Best is trial 22 with value: 0.7123367407151787.\u001b[0m\n"
     ]
    },
    {
     "name": "stdout",
     "output_type": "stream",
     "text": [
      "Training until validation scores don't improve for 200 rounds\n",
      "Early stopping, best iteration is:\n",
      "[652]\tvalid_0's rmse: 0.713218\n",
      "Training until validation scores don't improve for 200 rounds\n",
      "Early stopping, best iteration is:\n",
      "[652]\tvalid_0's rmse: 0.713054\n"
     ]
    },
    {
     "name": "stderr",
     "output_type": "stream",
     "text": [
      "\u001b[32m[I 2021-08-23 00:36:13,288]\u001b[0m Trial 24 finished with value: 0.7128439068052604 and parameters: {'reg_lambda': 46.76753585245165, 'reg_alpha': 27.478152298087174, 'subsample': 0.7880281504915227, 'colsample_bytree': 0.10639011054233816, 'learning_rate': 0.13093312315166944, 'min_child_samples': 89, 'num_leaves': 56, 'max_depth': 26, 'max_bin': 786, 'cat_smooth': 40, 'cat_l2': 0.0017875578487013069}. Best is trial 22 with value: 0.7123367407151787.\u001b[0m\n"
     ]
    },
    {
     "name": "stdout",
     "output_type": "stream",
     "text": [
      "Training until validation scores don't improve for 200 rounds\n",
      "Early stopping, best iteration is:\n",
      "[146]\tvalid_0's rmse: 0.713859\n",
      "Training until validation scores don't improve for 200 rounds\n",
      "Early stopping, best iteration is:\n",
      "[138]\tvalid_0's rmse: 0.714234\n"
     ]
    },
    {
     "name": "stderr",
     "output_type": "stream",
     "text": [
      "\u001b[32m[I 2021-08-23 00:36:30,028]\u001b[0m Trial 25 finished with value: 0.7132952452479279 and parameters: {'reg_lambda': 81.51924346822337, 'reg_alpha': 37.370507461082674, 'subsample': 0.5610288074846574, 'colsample_bytree': 0.3076530640656371, 'learning_rate': 0.5203982203616639, 'min_child_samples': 100, 'num_leaves': 22, 'max_depth': 30, 'max_bin': 919, 'cat_smooth': 12, 'cat_l2': 0.012374738658533963}. Best is trial 22 with value: 0.7123367407151787.\u001b[0m\n"
     ]
    },
    {
     "name": "stdout",
     "output_type": "stream",
     "text": [
      "Training until validation scores don't improve for 200 rounds\n",
      "Early stopping, best iteration is:\n",
      "[405]\tvalid_0's rmse: 0.713046\n",
      "Training until validation scores don't improve for 200 rounds\n",
      "Early stopping, best iteration is:\n",
      "[321]\tvalid_0's rmse: 0.712977\n"
     ]
    },
    {
     "name": "stderr",
     "output_type": "stream",
     "text": [
      "\u001b[32m[I 2021-08-23 00:36:59,149]\u001b[0m Trial 26 finished with value: 0.7126764305111786 and parameters: {'reg_lambda': 52.72605324297714, 'reg_alpha': 28.884306606871785, 'subsample': 0.665847679041292, 'colsample_bytree': 0.17269411751302655, 'learning_rate': 0.2419112809092898, 'min_child_samples': 61, 'num_leaves': 37, 'max_depth': 20, 'max_bin': 860, 'cat_smooth': 26, 'cat_l2': 0.002765121574486186}. Best is trial 22 with value: 0.7123367407151787.\u001b[0m\n"
     ]
    },
    {
     "name": "stdout",
     "output_type": "stream",
     "text": [
      "Training until validation scores don't improve for 200 rounds\n",
      "[1000]\tvalid_0's rmse: 0.712955\n",
      "[2000]\tvalid_0's rmse: 0.71263\n",
      "Early stopping, best iteration is:\n",
      "[2008]\tvalid_0's rmse: 0.712627\n",
      "Training until validation scores don't improve for 200 rounds\n",
      "[1000]\tvalid_0's rmse: 0.713013\n",
      "[2000]\tvalid_0's rmse: 0.712712\n",
      "Early stopping, best iteration is:\n",
      "[2130]\tvalid_0's rmse: 0.712697\n"
     ]
    },
    {
     "name": "stderr",
     "output_type": "stream",
     "text": [
      "\u001b[32m[I 2021-08-23 00:38:13,674]\u001b[0m Trial 27 finished with value: 0.7124960047196875 and parameters: {'reg_lambda': 64.2515999033586, 'reg_alpha': 44.70289222212386, 'subsample': 0.8175146373431239, 'colsample_bytree': 0.2191826488060004, 'learning_rate': 0.10425195954640588, 'min_child_samples': 76, 'num_leaves': 13, 'max_depth': 26, 'max_bin': 998, 'cat_smooth': 37, 'cat_l2': 0.05068860967401655}. Best is trial 22 with value: 0.7123367407151787.\u001b[0m\n"
     ]
    },
    {
     "name": "stdout",
     "output_type": "stream",
     "text": [
      "Training until validation scores don't improve for 200 rounds\n",
      "Early stopping, best iteration is:\n",
      "[437]\tvalid_0's rmse: 0.714049\n",
      "Training until validation scores don't improve for 200 rounds\n",
      "Early stopping, best iteration is:\n",
      "[291]\tvalid_0's rmse: 0.713971\n"
     ]
    },
    {
     "name": "stderr",
     "output_type": "stream",
     "text": [
      "\u001b[32m[I 2021-08-23 00:38:49,110]\u001b[0m Trial 28 finished with value: 0.713572553551387 and parameters: {'reg_lambda': 64.38397557065153, 'reg_alpha': 0.6929150386561105, 'subsample': 0.8473477434752169, 'colsample_bytree': 0.35824649130229813, 'learning_rate': 0.11198384162157407, 'min_child_samples': 76, 'num_leaves': 66, 'max_depth': 25, 'max_bin': 700, 'cat_smooth': 35, 'cat_l2': 0.8051077490759458}. Best is trial 22 with value: 0.7123367407151787.\u001b[0m\n"
     ]
    },
    {
     "name": "stdout",
     "output_type": "stream",
     "text": [
      "Training until validation scores don't improve for 200 rounds\n",
      "[1000]\tvalid_0's rmse: 0.715322\n",
      "[2000]\tvalid_0's rmse: 0.713636\n",
      "[3000]\tvalid_0's rmse: 0.713357\n",
      "Early stopping, best iteration is:\n",
      "[3554]\tvalid_0's rmse: 0.713325\n",
      "Training until validation scores don't improve for 200 rounds\n",
      "[1000]\tvalid_0's rmse: 0.715306\n",
      "[2000]\tvalid_0's rmse: 0.713652\n",
      "[3000]\tvalid_0's rmse: 0.713353\n",
      "Early stopping, best iteration is:\n",
      "[3780]\tvalid_0's rmse: 0.713317\n"
     ]
    },
    {
     "name": "stderr",
     "output_type": "stream",
     "text": [
      "\u001b[32m[I 2021-08-23 00:44:24,434]\u001b[0m Trial 29 finished with value: 0.7132515466940019 and parameters: {'reg_lambda': 79.8230262694479, 'reg_alpha': 44.4697838825761, 'subsample': 0.7845308779925164, 'colsample_bytree': 0.2672599865217198, 'learning_rate': 0.013981658523843199, 'min_child_samples': 66, 'num_leaves': 128, 'max_depth': 19, 'max_bin': 893, 'cat_smooth': 64, 'cat_l2': 0.060018874117894236}. Best is trial 22 with value: 0.7123367407151787.\u001b[0m\n"
     ]
    },
    {
     "name": "stdout",
     "output_type": "stream",
     "text": [
      "Number of finished trials: 30\n",
      "Best trial: {'reg_lambda': 47.16380193795371, 'reg_alpha': 29.16964013102968, 'subsample': 0.6268349823731298, 'colsample_bytree': 0.11028261217734764, 'learning_rate': 0.20170403778571633, 'min_child_samples': 89, 'num_leaves': 12, 'max_depth': 27, 'max_bin': 979, 'cat_smooth': 21, 'cat_l2': 0.0010504043298797654}\n"
     ]
    }
   ],
   "source": [
    "study = optuna.create_study(direction='minimize')\n",
    "study.optimize(objective,n_trials= 30)\n",
    "print('Number of finished trials:', len(study.trials))\n",
    "print('Best trial:', study.best_trial.params)"
   ]
  },
  {
   "cell_type": "code",
   "execution_count": 15,
   "id": "b4419cc7",
   "metadata": {
    "execution": {
     "iopub.execute_input": "2021-08-23T00:44:24.607630Z",
     "iopub.status.busy": "2021-08-23T00:44:24.606761Z",
     "iopub.status.idle": "2021-08-23T00:44:24.611283Z",
     "shell.execute_reply": "2021-08-23T00:44:24.610666Z"
    },
    "papermill": {
     "duration": 0.085358,
     "end_time": "2021-08-23T00:44:24.611417",
     "exception": false,
     "start_time": "2021-08-23T00:44:24.526059",
     "status": "completed"
    },
    "tags": []
   },
   "outputs": [
    {
     "data": {
      "text/plain": [
       "{'reg_lambda': 47.16380193795371,\n",
       " 'reg_alpha': 29.16964013102968,\n",
       " 'subsample': 0.6268349823731298,\n",
       " 'colsample_bytree': 0.11028261217734764,\n",
       " 'learning_rate': 0.20170403778571633,\n",
       " 'min_child_samples': 89,\n",
       " 'num_leaves': 12,\n",
       " 'max_depth': 27,\n",
       " 'max_bin': 979,\n",
       " 'cat_smooth': 21,\n",
       " 'cat_l2': 0.0010504043298797654}"
      ]
     },
     "execution_count": 15,
     "metadata": {},
     "output_type": "execute_result"
    }
   ],
   "source": [
    "study.best_params"
   ]
  },
  {
   "cell_type": "markdown",
   "id": "a5f89444",
   "metadata": {
    "papermill": {
     "duration": 0.074598,
     "end_time": "2021-08-23T00:44:24.761969",
     "exception": false,
     "start_time": "2021-08-23T00:44:24.687371",
     "status": "completed"
    },
    "tags": []
   },
   "source": [
    "# Log\n",
    "\n",
    "====== Ordinal encoding =========\n",
    "\n",
    "\n",
    "\n",
    "====== One-hot encoding =========\n",
    "\n",
    "\n"
   ]
  }
 ],
 "metadata": {
  "kernelspec": {
   "display_name": "Python 3",
   "language": "python",
   "name": "python3"
  },
  "language_info": {
   "codemirror_mode": {
    "name": "ipython",
    "version": 3
   },
   "file_extension": ".py",
   "mimetype": "text/x-python",
   "name": "python",
   "nbconvert_exporter": "python",
   "pygments_lexer": "ipython3",
   "version": "3.7.10"
  },
  "papermill": {
   "default_parameters": {},
   "duration": 1579.302472,
   "end_time": "2021-08-23T00:44:26.659701",
   "environment_variables": {},
   "exception": null,
   "input_path": "__notebook__.ipynb",
   "output_path": "__notebook__.ipynb",
   "parameters": {},
   "start_time": "2021-08-23T00:18:07.357229",
   "version": "2.3.3"
  }
 },
 "nbformat": 4,
 "nbformat_minor": 5
}
