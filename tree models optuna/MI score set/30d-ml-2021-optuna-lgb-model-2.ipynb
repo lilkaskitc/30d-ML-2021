{
 "cells": [
  {
   "cell_type": "code",
   "execution_count": 1,
   "id": "0d542424",
   "metadata": {
    "_cell_guid": "b1076dfc-b9ad-4769-8c92-a6c4dae69d19",
    "_uuid": "8f2839f25d086af736a60e9eeb907d3b93b6e0e5",
    "execution": {
     "iopub.execute_input": "2021-08-29T23:13:06.404485Z",
     "iopub.status.busy": "2021-08-29T23:13:06.403720Z",
     "iopub.status.idle": "2021-08-29T23:13:08.438142Z",
     "shell.execute_reply": "2021-08-29T23:13:08.438665Z",
     "shell.execute_reply.started": "2021-08-23T00:16:14.312898Z"
    },
    "papermill": {
     "duration": 2.063009,
     "end_time": "2021-08-29T23:13:08.439036",
     "exception": false,
     "start_time": "2021-08-29T23:13:06.376027",
     "status": "completed"
    },
    "tags": []
   },
   "outputs": [
    {
     "data": {
      "text/html": [
       "<style type='text/css'>\n",
       ".datatable table.frame { margin-bottom: 0; }\n",
       ".datatable table.frame thead { border-bottom: none; }\n",
       ".datatable table.frame tr.coltypes td {  color: #FFFFFF;  line-height: 6px;  padding: 0 0.5em;}\n",
       ".datatable .bool    { background: #DDDD99; }\n",
       ".datatable .object  { background: #565656; }\n",
       ".datatable .int     { background: #5D9E5D; }\n",
       ".datatable .float   { background: #4040CC; }\n",
       ".datatable .str     { background: #CC4040; }\n",
       ".datatable .time    { background: #40CC40; }\n",
       ".datatable .row_index {  background: var(--jp-border-color3);  border-right: 1px solid var(--jp-border-color0);  color: var(--jp-ui-font-color3);  font-size: 9px;}\n",
       ".datatable .frame tbody td { text-align: left; }\n",
       ".datatable .frame tr.coltypes .row_index {  background: var(--jp-border-color0);}\n",
       ".datatable th:nth-child(2) { padding-left: 12px; }\n",
       ".datatable .hellipsis {  color: var(--jp-cell-editor-border-color);}\n",
       ".datatable .vellipsis {  background: var(--jp-layout-color0);  color: var(--jp-cell-editor-border-color);}\n",
       ".datatable .na {  color: var(--jp-cell-editor-border-color);  font-size: 80%;}\n",
       ".datatable .sp {  opacity: 0.25;}\n",
       ".datatable .footer { font-size: 9px; }\n",
       ".datatable .frame_dimensions {  background: var(--jp-border-color3);  border-top: 1px solid var(--jp-border-color0);  color: var(--jp-ui-font-color3);  display: inline-block;  opacity: 0.6;  padding: 1px 10px 1px 5px;}\n",
       "</style>\n"
      ],
      "text/plain": [
       "<IPython.core.display.HTML object>"
      ]
     },
     "metadata": {},
     "output_type": "display_data"
    }
   ],
   "source": [
    "# Familiar imports\n",
    "import numpy as np\n",
    "import pandas as pd\n",
    "import random\n",
    "import os\n",
    "import time\n",
    "from pathlib import Path\n",
    "\n",
    "from sklearn.preprocessing import StandardScaler\n",
    "from sklearn.model_selection import KFold, train_test_split\n",
    "from sklearn.metrics import mean_squared_error\n",
    "from sklearn.preprocessing import OrdinalEncoder, OneHotEncoder\n",
    "\n",
    "import lightgbm as lgb\n",
    "#import xgboost as xgb\n",
    "#import catboost as ctb\n",
    "\n",
    "import warnings\n",
    "warnings.simplefilter('ignore')"
   ]
  },
  {
   "cell_type": "markdown",
   "id": "c572f57a",
   "metadata": {
    "papermill": {
     "duration": 0.012587,
     "end_time": "2021-08-29T23:13:08.465254",
     "exception": false,
     "start_time": "2021-08-29T23:13:08.452667",
     "status": "completed"
    },
    "tags": []
   },
   "source": [
    "# Parameters"
   ]
  },
  {
   "cell_type": "code",
   "execution_count": 2,
   "id": "a9024167",
   "metadata": {
    "execution": {
     "iopub.execute_input": "2021-08-29T23:13:08.496709Z",
     "iopub.status.busy": "2021-08-29T23:13:08.496090Z",
     "iopub.status.idle": "2021-08-29T23:13:08.498646Z",
     "shell.execute_reply": "2021-08-29T23:13:08.499123Z",
     "shell.execute_reply.started": "2021-08-23T00:16:14.321159Z"
    },
    "papermill": {
     "duration": 0.021449,
     "end_time": "2021-08-29T23:13:08.499307",
     "exception": false,
     "start_time": "2021-08-29T23:13:08.477858",
     "status": "completed"
    },
    "tags": []
   },
   "outputs": [],
   "source": [
    "target = 'target'\n",
    "\n",
    "DEBUG = False\n",
    "\n",
    "if DEBUG:\n",
    "    N_ESTIMATORS = 1\n",
    "    N_SPLITS = 2\n",
    "    SEED = 17\n",
    "    CVSEED = 17\n",
    "    EARLY_STOPPING_ROUNDS = 1\n",
    "    VERBOSE = 100\n",
    "    #N_ITERS = 2\n",
    "else:\n",
    "    N_SPLITS = 10\n",
    "    N_ESTIMATORS = 20000\n",
    "    EARLY_STOPPING_ROUNDS = 200\n",
    "    VERBOSE = 1000\n",
    "    SEED = 17\n",
    "    CVSEED = 17\n",
    "    #N_ITERS = 10"
   ]
  },
  {
   "cell_type": "code",
   "execution_count": 3,
   "id": "e6e3c086",
   "metadata": {
    "execution": {
     "iopub.execute_input": "2021-08-29T23:13:08.530340Z",
     "iopub.status.busy": "2021-08-29T23:13:08.529658Z",
     "iopub.status.idle": "2021-08-29T23:13:08.532717Z",
     "shell.execute_reply": "2021-08-29T23:13:08.532262Z",
     "shell.execute_reply.started": "2021-08-23T00:16:14.340149Z"
    },
    "papermill": {
     "duration": 0.020805,
     "end_time": "2021-08-29T23:13:08.532872",
     "exception": false,
     "start_time": "2021-08-29T23:13:08.512067",
     "status": "completed"
    },
    "tags": []
   },
   "outputs": [],
   "source": [
    "def set_seed(seed=17):\n",
    "    random.seed(seed)\n",
    "    os.environ['PYTHONHASHSEED'] = str(seed)\n",
    "    np.random.seed(seed)\n",
    "    \n",
    "set_seed(SEED)"
   ]
  },
  {
   "cell_type": "markdown",
   "id": "5367d9af",
   "metadata": {
    "papermill": {
     "duration": 0.012302,
     "end_time": "2021-08-29T23:13:08.557995",
     "exception": false,
     "start_time": "2021-08-29T23:13:08.545693",
     "status": "completed"
    },
    "tags": []
   },
   "source": [
    "# Load data"
   ]
  },
  {
   "cell_type": "code",
   "execution_count": 4,
   "id": "991649e1",
   "metadata": {
    "execution": {
     "iopub.execute_input": "2021-08-29T23:13:08.588126Z",
     "iopub.status.busy": "2021-08-29T23:13:08.587354Z",
     "iopub.status.idle": "2021-08-29T23:13:13.032263Z",
     "shell.execute_reply": "2021-08-29T23:13:13.031611Z",
     "shell.execute_reply.started": "2021-08-23T00:16:14.353733Z"
    },
    "papermill": {
     "duration": 4.461885,
     "end_time": "2021-08-29T23:13:13.032421",
     "exception": false,
     "start_time": "2021-08-29T23:13:08.570536",
     "status": "completed"
    },
    "tags": []
   },
   "outputs": [
    {
     "data": {
      "text/html": [
       "<div>\n",
       "<style scoped>\n",
       "    .dataframe tbody tr th:only-of-type {\n",
       "        vertical-align: middle;\n",
       "    }\n",
       "\n",
       "    .dataframe tbody tr th {\n",
       "        vertical-align: top;\n",
       "    }\n",
       "\n",
       "    .dataframe thead th {\n",
       "        text-align: right;\n",
       "    }\n",
       "</style>\n",
       "<table border=\"1\" class=\"dataframe\">\n",
       "  <thead>\n",
       "    <tr style=\"text-align: right;\">\n",
       "      <th></th>\n",
       "      <th>id</th>\n",
       "      <th>cat0</th>\n",
       "      <th>cat1</th>\n",
       "      <th>cat2</th>\n",
       "      <th>cat3</th>\n",
       "      <th>cat4</th>\n",
       "      <th>cat5</th>\n",
       "      <th>cat6</th>\n",
       "      <th>cat7</th>\n",
       "      <th>cat8</th>\n",
       "      <th>...</th>\n",
       "      <th>cont5</th>\n",
       "      <th>cont6</th>\n",
       "      <th>cont7</th>\n",
       "      <th>cont8</th>\n",
       "      <th>cont9</th>\n",
       "      <th>cont10</th>\n",
       "      <th>cont11</th>\n",
       "      <th>cont12</th>\n",
       "      <th>cont13</th>\n",
       "      <th>target</th>\n",
       "    </tr>\n",
       "  </thead>\n",
       "  <tbody>\n",
       "    <tr>\n",
       "      <th>0</th>\n",
       "      <td>1</td>\n",
       "      <td>B</td>\n",
       "      <td>B</td>\n",
       "      <td>B</td>\n",
       "      <td>C</td>\n",
       "      <td>B</td>\n",
       "      <td>B</td>\n",
       "      <td>A</td>\n",
       "      <td>E</td>\n",
       "      <td>C</td>\n",
       "      <td>...</td>\n",
       "      <td>0.400361</td>\n",
       "      <td>0.160266</td>\n",
       "      <td>0.310921</td>\n",
       "      <td>0.389470</td>\n",
       "      <td>0.267559</td>\n",
       "      <td>0.237281</td>\n",
       "      <td>0.377873</td>\n",
       "      <td>0.322401</td>\n",
       "      <td>0.869850</td>\n",
       "      <td>8.113634</td>\n",
       "    </tr>\n",
       "    <tr>\n",
       "      <th>1</th>\n",
       "      <td>2</td>\n",
       "      <td>B</td>\n",
       "      <td>B</td>\n",
       "      <td>A</td>\n",
       "      <td>A</td>\n",
       "      <td>B</td>\n",
       "      <td>D</td>\n",
       "      <td>A</td>\n",
       "      <td>F</td>\n",
       "      <td>A</td>\n",
       "      <td>...</td>\n",
       "      <td>0.533087</td>\n",
       "      <td>0.558922</td>\n",
       "      <td>0.516294</td>\n",
       "      <td>0.594928</td>\n",
       "      <td>0.341439</td>\n",
       "      <td>0.906013</td>\n",
       "      <td>0.921701</td>\n",
       "      <td>0.261975</td>\n",
       "      <td>0.465083</td>\n",
       "      <td>8.481233</td>\n",
       "    </tr>\n",
       "    <tr>\n",
       "      <th>2</th>\n",
       "      <td>3</td>\n",
       "      <td>A</td>\n",
       "      <td>A</td>\n",
       "      <td>A</td>\n",
       "      <td>C</td>\n",
       "      <td>B</td>\n",
       "      <td>D</td>\n",
       "      <td>A</td>\n",
       "      <td>D</td>\n",
       "      <td>A</td>\n",
       "      <td>...</td>\n",
       "      <td>0.650609</td>\n",
       "      <td>0.375348</td>\n",
       "      <td>0.902567</td>\n",
       "      <td>0.555205</td>\n",
       "      <td>0.843531</td>\n",
       "      <td>0.748809</td>\n",
       "      <td>0.620126</td>\n",
       "      <td>0.541474</td>\n",
       "      <td>0.763846</td>\n",
       "      <td>8.364351</td>\n",
       "    </tr>\n",
       "    <tr>\n",
       "      <th>3</th>\n",
       "      <td>4</td>\n",
       "      <td>B</td>\n",
       "      <td>B</td>\n",
       "      <td>A</td>\n",
       "      <td>C</td>\n",
       "      <td>B</td>\n",
       "      <td>D</td>\n",
       "      <td>A</td>\n",
       "      <td>E</td>\n",
       "      <td>C</td>\n",
       "      <td>...</td>\n",
       "      <td>0.668980</td>\n",
       "      <td>0.239061</td>\n",
       "      <td>0.732948</td>\n",
       "      <td>0.679618</td>\n",
       "      <td>0.574844</td>\n",
       "      <td>0.346010</td>\n",
       "      <td>0.714610</td>\n",
       "      <td>0.540150</td>\n",
       "      <td>0.280682</td>\n",
       "      <td>8.049253</td>\n",
       "    </tr>\n",
       "    <tr>\n",
       "      <th>4</th>\n",
       "      <td>6</td>\n",
       "      <td>A</td>\n",
       "      <td>A</td>\n",
       "      <td>A</td>\n",
       "      <td>C</td>\n",
       "      <td>B</td>\n",
       "      <td>D</td>\n",
       "      <td>A</td>\n",
       "      <td>E</td>\n",
       "      <td>A</td>\n",
       "      <td>...</td>\n",
       "      <td>0.686964</td>\n",
       "      <td>0.420667</td>\n",
       "      <td>0.648182</td>\n",
       "      <td>0.684501</td>\n",
       "      <td>0.956692</td>\n",
       "      <td>1.000773</td>\n",
       "      <td>0.776742</td>\n",
       "      <td>0.625849</td>\n",
       "      <td>0.250823</td>\n",
       "      <td>7.972260</td>\n",
       "    </tr>\n",
       "  </tbody>\n",
       "</table>\n",
       "<p>5 rows × 26 columns</p>\n",
       "</div>"
      ],
      "text/plain": [
       "   id cat0 cat1 cat2 cat3 cat4 cat5 cat6 cat7 cat8  ...     cont5     cont6  \\\n",
       "0   1    B    B    B    C    B    B    A    E    C  ...  0.400361  0.160266   \n",
       "1   2    B    B    A    A    B    D    A    F    A  ...  0.533087  0.558922   \n",
       "2   3    A    A    A    C    B    D    A    D    A  ...  0.650609  0.375348   \n",
       "3   4    B    B    A    C    B    D    A    E    C  ...  0.668980  0.239061   \n",
       "4   6    A    A    A    C    B    D    A    E    A  ...  0.686964  0.420667   \n",
       "\n",
       "      cont7     cont8     cont9    cont10    cont11    cont12    cont13  \\\n",
       "0  0.310921  0.389470  0.267559  0.237281  0.377873  0.322401  0.869850   \n",
       "1  0.516294  0.594928  0.341439  0.906013  0.921701  0.261975  0.465083   \n",
       "2  0.902567  0.555205  0.843531  0.748809  0.620126  0.541474  0.763846   \n",
       "3  0.732948  0.679618  0.574844  0.346010  0.714610  0.540150  0.280682   \n",
       "4  0.648182  0.684501  0.956692  1.000773  0.776742  0.625849  0.250823   \n",
       "\n",
       "     target  \n",
       "0  8.113634  \n",
       "1  8.481233  \n",
       "2  8.364351  \n",
       "3  8.049253  \n",
       "4  7.972260  \n",
       "\n",
       "[5 rows x 26 columns]"
      ]
     },
     "execution_count": 4,
     "metadata": {},
     "output_type": "execute_result"
    }
   ],
   "source": [
    "# Load the training data\n",
    "train = pd.read_csv(\"../input/30-days-of-ml/train.csv\")\n",
    "test = pd.read_csv(\"../input/30-days-of-ml/test.csv\")\n",
    "\n",
    "# Preview the data\n",
    "train.head()"
   ]
  },
  {
   "cell_type": "code",
   "execution_count": 5,
   "id": "ae6e5a61",
   "metadata": {
    "execution": {
     "iopub.execute_input": "2021-08-29T23:13:13.102047Z",
     "iopub.status.busy": "2021-08-29T23:13:13.101346Z",
     "iopub.status.idle": "2021-08-29T23:13:13.273556Z",
     "shell.execute_reply": "2021-08-29T23:13:13.274010Z",
     "shell.execute_reply.started": "2021-08-23T00:16:16.729191Z"
    },
    "papermill": {
     "duration": 0.228072,
     "end_time": "2021-08-29T23:13:13.274205",
     "exception": false,
     "start_time": "2021-08-29T23:13:13.046133",
     "status": "completed"
    },
    "tags": []
   },
   "outputs": [
    {
     "data": {
      "text/html": [
       "<div>\n",
       "<style scoped>\n",
       "    .dataframe tbody tr th:only-of-type {\n",
       "        vertical-align: middle;\n",
       "    }\n",
       "\n",
       "    .dataframe tbody tr th {\n",
       "        vertical-align: top;\n",
       "    }\n",
       "\n",
       "    .dataframe thead th {\n",
       "        text-align: right;\n",
       "    }\n",
       "</style>\n",
       "<table border=\"1\" class=\"dataframe\">\n",
       "  <thead>\n",
       "    <tr style=\"text-align: right;\">\n",
       "      <th></th>\n",
       "      <th>id</th>\n",
       "      <th>cat0</th>\n",
       "      <th>cat1</th>\n",
       "      <th>cat5</th>\n",
       "      <th>cat7</th>\n",
       "      <th>cat8</th>\n",
       "      <th>cat9</th>\n",
       "      <th>cont0</th>\n",
       "      <th>cont1</th>\n",
       "      <th>cont2</th>\n",
       "      <th>...</th>\n",
       "      <th>cont5</th>\n",
       "      <th>cont6</th>\n",
       "      <th>cont7</th>\n",
       "      <th>cont8</th>\n",
       "      <th>cont9</th>\n",
       "      <th>cont10</th>\n",
       "      <th>cont11</th>\n",
       "      <th>cont12</th>\n",
       "      <th>cont13</th>\n",
       "      <th>target</th>\n",
       "    </tr>\n",
       "  </thead>\n",
       "  <tbody>\n",
       "    <tr>\n",
       "      <th>0</th>\n",
       "      <td>1</td>\n",
       "      <td>B</td>\n",
       "      <td>B</td>\n",
       "      <td>B</td>\n",
       "      <td>E</td>\n",
       "      <td>C</td>\n",
       "      <td>N</td>\n",
       "      <td>0.201470</td>\n",
       "      <td>-0.014822</td>\n",
       "      <td>0.669699</td>\n",
       "      <td>...</td>\n",
       "      <td>0.400361</td>\n",
       "      <td>0.160266</td>\n",
       "      <td>0.310921</td>\n",
       "      <td>0.389470</td>\n",
       "      <td>0.267559</td>\n",
       "      <td>0.237281</td>\n",
       "      <td>0.377873</td>\n",
       "      <td>0.322401</td>\n",
       "      <td>0.869850</td>\n",
       "      <td>8.113634</td>\n",
       "    </tr>\n",
       "    <tr>\n",
       "      <th>1</th>\n",
       "      <td>2</td>\n",
       "      <td>B</td>\n",
       "      <td>B</td>\n",
       "      <td>D</td>\n",
       "      <td>F</td>\n",
       "      <td>A</td>\n",
       "      <td>O</td>\n",
       "      <td>0.743068</td>\n",
       "      <td>0.367411</td>\n",
       "      <td>1.021605</td>\n",
       "      <td>...</td>\n",
       "      <td>0.533087</td>\n",
       "      <td>0.558922</td>\n",
       "      <td>0.516294</td>\n",
       "      <td>0.594928</td>\n",
       "      <td>0.341439</td>\n",
       "      <td>0.906013</td>\n",
       "      <td>0.921701</td>\n",
       "      <td>0.261975</td>\n",
       "      <td>0.465083</td>\n",
       "      <td>8.481233</td>\n",
       "    </tr>\n",
       "    <tr>\n",
       "      <th>2</th>\n",
       "      <td>3</td>\n",
       "      <td>A</td>\n",
       "      <td>A</td>\n",
       "      <td>D</td>\n",
       "      <td>D</td>\n",
       "      <td>A</td>\n",
       "      <td>F</td>\n",
       "      <td>0.742708</td>\n",
       "      <td>0.310383</td>\n",
       "      <td>-0.012673</td>\n",
       "      <td>...</td>\n",
       "      <td>0.650609</td>\n",
       "      <td>0.375348</td>\n",
       "      <td>0.902567</td>\n",
       "      <td>0.555205</td>\n",
       "      <td>0.843531</td>\n",
       "      <td>0.748809</td>\n",
       "      <td>0.620126</td>\n",
       "      <td>0.541474</td>\n",
       "      <td>0.763846</td>\n",
       "      <td>8.364351</td>\n",
       "    </tr>\n",
       "    <tr>\n",
       "      <th>3</th>\n",
       "      <td>4</td>\n",
       "      <td>B</td>\n",
       "      <td>B</td>\n",
       "      <td>D</td>\n",
       "      <td>E</td>\n",
       "      <td>C</td>\n",
       "      <td>K</td>\n",
       "      <td>0.429551</td>\n",
       "      <td>0.620998</td>\n",
       "      <td>0.577942</td>\n",
       "      <td>...</td>\n",
       "      <td>0.668980</td>\n",
       "      <td>0.239061</td>\n",
       "      <td>0.732948</td>\n",
       "      <td>0.679618</td>\n",
       "      <td>0.574844</td>\n",
       "      <td>0.346010</td>\n",
       "      <td>0.714610</td>\n",
       "      <td>0.540150</td>\n",
       "      <td>0.280682</td>\n",
       "      <td>8.049253</td>\n",
       "    </tr>\n",
       "    <tr>\n",
       "      <th>4</th>\n",
       "      <td>6</td>\n",
       "      <td>A</td>\n",
       "      <td>A</td>\n",
       "      <td>D</td>\n",
       "      <td>E</td>\n",
       "      <td>A</td>\n",
       "      <td>N</td>\n",
       "      <td>1.058291</td>\n",
       "      <td>0.367492</td>\n",
       "      <td>-0.052389</td>\n",
       "      <td>...</td>\n",
       "      <td>0.686964</td>\n",
       "      <td>0.420667</td>\n",
       "      <td>0.648182</td>\n",
       "      <td>0.684501</td>\n",
       "      <td>0.956692</td>\n",
       "      <td>1.000773</td>\n",
       "      <td>0.776742</td>\n",
       "      <td>0.625849</td>\n",
       "      <td>0.250823</td>\n",
       "      <td>7.972260</td>\n",
       "    </tr>\n",
       "  </tbody>\n",
       "</table>\n",
       "<p>5 rows × 22 columns</p>\n",
       "</div>"
      ],
      "text/plain": [
       "   id cat0 cat1 cat5 cat7 cat8 cat9     cont0     cont1     cont2  ...  \\\n",
       "0   1    B    B    B    E    C    N  0.201470 -0.014822  0.669699  ...   \n",
       "1   2    B    B    D    F    A    O  0.743068  0.367411  1.021605  ...   \n",
       "2   3    A    A    D    D    A    F  0.742708  0.310383 -0.012673  ...   \n",
       "3   4    B    B    D    E    C    K  0.429551  0.620998  0.577942  ...   \n",
       "4   6    A    A    D    E    A    N  1.058291  0.367492 -0.052389  ...   \n",
       "\n",
       "      cont5     cont6     cont7     cont8     cont9    cont10    cont11  \\\n",
       "0  0.400361  0.160266  0.310921  0.389470  0.267559  0.237281  0.377873   \n",
       "1  0.533087  0.558922  0.516294  0.594928  0.341439  0.906013  0.921701   \n",
       "2  0.650609  0.375348  0.902567  0.555205  0.843531  0.748809  0.620126   \n",
       "3  0.668980  0.239061  0.732948  0.679618  0.574844  0.346010  0.714610   \n",
       "4  0.686964  0.420667  0.648182  0.684501  0.956692  1.000773  0.776742   \n",
       "\n",
       "     cont12    cont13    target  \n",
       "0  0.322401  0.869850  8.113634  \n",
       "1  0.261975  0.465083  8.481233  \n",
       "2  0.541474  0.763846  8.364351  \n",
       "3  0.540150  0.280682  8.049253  \n",
       "4  0.625849  0.250823  7.972260  \n",
       "\n",
       "[5 rows x 22 columns]"
      ]
     },
     "execution_count": 5,
     "metadata": {},
     "output_type": "execute_result"
    }
   ],
   "source": [
    "# Low MI scores\n",
    "for pp in [\"cat2\",\"cat3\",\"cat4\",\"cat6\"]:\n",
    "    train.pop(pp)\n",
    "    test.pop(pp)\n",
    "train.head()"
   ]
  },
  {
   "cell_type": "code",
   "execution_count": 6,
   "id": "764df667",
   "metadata": {
    "execution": {
     "iopub.execute_input": "2021-08-29T23:13:13.309109Z",
     "iopub.status.busy": "2021-08-29T23:13:13.308416Z",
     "iopub.status.idle": "2021-08-29T23:13:13.360921Z",
     "shell.execute_reply": "2021-08-29T23:13:13.360389Z",
     "shell.execute_reply.started": "2021-08-23T00:16:16.834758Z"
    },
    "papermill": {
     "duration": 0.072745,
     "end_time": "2021-08-29T23:13:13.361087",
     "exception": false,
     "start_time": "2021-08-29T23:13:13.288342",
     "status": "completed"
    },
    "tags": []
   },
   "outputs": [
    {
     "data": {
      "text/html": [
       "<div>\n",
       "<style scoped>\n",
       "    .dataframe tbody tr th:only-of-type {\n",
       "        vertical-align: middle;\n",
       "    }\n",
       "\n",
       "    .dataframe tbody tr th {\n",
       "        vertical-align: top;\n",
       "    }\n",
       "\n",
       "    .dataframe thead th {\n",
       "        text-align: right;\n",
       "    }\n",
       "</style>\n",
       "<table border=\"1\" class=\"dataframe\">\n",
       "  <thead>\n",
       "    <tr style=\"text-align: right;\">\n",
       "      <th></th>\n",
       "      <th>cat0</th>\n",
       "      <th>cat1</th>\n",
       "      <th>cat5</th>\n",
       "      <th>cat7</th>\n",
       "      <th>cat8</th>\n",
       "      <th>cat9</th>\n",
       "      <th>cont0</th>\n",
       "      <th>cont1</th>\n",
       "      <th>cont2</th>\n",
       "      <th>cont3</th>\n",
       "      <th>cont4</th>\n",
       "      <th>cont5</th>\n",
       "      <th>cont6</th>\n",
       "      <th>cont7</th>\n",
       "      <th>cont8</th>\n",
       "      <th>cont9</th>\n",
       "      <th>cont10</th>\n",
       "      <th>cont11</th>\n",
       "      <th>cont12</th>\n",
       "      <th>cont13</th>\n",
       "    </tr>\n",
       "  </thead>\n",
       "  <tbody>\n",
       "    <tr>\n",
       "      <th>0</th>\n",
       "      <td>B</td>\n",
       "      <td>B</td>\n",
       "      <td>B</td>\n",
       "      <td>E</td>\n",
       "      <td>C</td>\n",
       "      <td>N</td>\n",
       "      <td>0.201470</td>\n",
       "      <td>-0.014822</td>\n",
       "      <td>0.669699</td>\n",
       "      <td>0.136278</td>\n",
       "      <td>0.610706</td>\n",
       "      <td>0.400361</td>\n",
       "      <td>0.160266</td>\n",
       "      <td>0.310921</td>\n",
       "      <td>0.389470</td>\n",
       "      <td>0.267559</td>\n",
       "      <td>0.237281</td>\n",
       "      <td>0.377873</td>\n",
       "      <td>0.322401</td>\n",
       "      <td>0.869850</td>\n",
       "    </tr>\n",
       "    <tr>\n",
       "      <th>1</th>\n",
       "      <td>B</td>\n",
       "      <td>B</td>\n",
       "      <td>D</td>\n",
       "      <td>F</td>\n",
       "      <td>A</td>\n",
       "      <td>O</td>\n",
       "      <td>0.743068</td>\n",
       "      <td>0.367411</td>\n",
       "      <td>1.021605</td>\n",
       "      <td>0.365798</td>\n",
       "      <td>0.276853</td>\n",
       "      <td>0.533087</td>\n",
       "      <td>0.558922</td>\n",
       "      <td>0.516294</td>\n",
       "      <td>0.594928</td>\n",
       "      <td>0.341439</td>\n",
       "      <td>0.906013</td>\n",
       "      <td>0.921701</td>\n",
       "      <td>0.261975</td>\n",
       "      <td>0.465083</td>\n",
       "    </tr>\n",
       "    <tr>\n",
       "      <th>2</th>\n",
       "      <td>A</td>\n",
       "      <td>A</td>\n",
       "      <td>D</td>\n",
       "      <td>D</td>\n",
       "      <td>A</td>\n",
       "      <td>F</td>\n",
       "      <td>0.742708</td>\n",
       "      <td>0.310383</td>\n",
       "      <td>-0.012673</td>\n",
       "      <td>0.576957</td>\n",
       "      <td>0.285074</td>\n",
       "      <td>0.650609</td>\n",
       "      <td>0.375348</td>\n",
       "      <td>0.902567</td>\n",
       "      <td>0.555205</td>\n",
       "      <td>0.843531</td>\n",
       "      <td>0.748809</td>\n",
       "      <td>0.620126</td>\n",
       "      <td>0.541474</td>\n",
       "      <td>0.763846</td>\n",
       "    </tr>\n",
       "    <tr>\n",
       "      <th>3</th>\n",
       "      <td>B</td>\n",
       "      <td>B</td>\n",
       "      <td>D</td>\n",
       "      <td>E</td>\n",
       "      <td>C</td>\n",
       "      <td>K</td>\n",
       "      <td>0.429551</td>\n",
       "      <td>0.620998</td>\n",
       "      <td>0.577942</td>\n",
       "      <td>0.280610</td>\n",
       "      <td>0.284667</td>\n",
       "      <td>0.668980</td>\n",
       "      <td>0.239061</td>\n",
       "      <td>0.732948</td>\n",
       "      <td>0.679618</td>\n",
       "      <td>0.574844</td>\n",
       "      <td>0.346010</td>\n",
       "      <td>0.714610</td>\n",
       "      <td>0.540150</td>\n",
       "      <td>0.280682</td>\n",
       "    </tr>\n",
       "    <tr>\n",
       "      <th>4</th>\n",
       "      <td>A</td>\n",
       "      <td>A</td>\n",
       "      <td>D</td>\n",
       "      <td>E</td>\n",
       "      <td>A</td>\n",
       "      <td>N</td>\n",
       "      <td>1.058291</td>\n",
       "      <td>0.367492</td>\n",
       "      <td>-0.052389</td>\n",
       "      <td>0.232407</td>\n",
       "      <td>0.287595</td>\n",
       "      <td>0.686964</td>\n",
       "      <td>0.420667</td>\n",
       "      <td>0.648182</td>\n",
       "      <td>0.684501</td>\n",
       "      <td>0.956692</td>\n",
       "      <td>1.000773</td>\n",
       "      <td>0.776742</td>\n",
       "      <td>0.625849</td>\n",
       "      <td>0.250823</td>\n",
       "    </tr>\n",
       "  </tbody>\n",
       "</table>\n",
       "</div>"
      ],
      "text/plain": [
       "  cat0 cat1 cat5 cat7 cat8 cat9     cont0     cont1     cont2     cont3  \\\n",
       "0    B    B    B    E    C    N  0.201470 -0.014822  0.669699  0.136278   \n",
       "1    B    B    D    F    A    O  0.743068  0.367411  1.021605  0.365798   \n",
       "2    A    A    D    D    A    F  0.742708  0.310383 -0.012673  0.576957   \n",
       "3    B    B    D    E    C    K  0.429551  0.620998  0.577942  0.280610   \n",
       "4    A    A    D    E    A    N  1.058291  0.367492 -0.052389  0.232407   \n",
       "\n",
       "      cont4     cont5     cont6     cont7     cont8     cont9    cont10  \\\n",
       "0  0.610706  0.400361  0.160266  0.310921  0.389470  0.267559  0.237281   \n",
       "1  0.276853  0.533087  0.558922  0.516294  0.594928  0.341439  0.906013   \n",
       "2  0.285074  0.650609  0.375348  0.902567  0.555205  0.843531  0.748809   \n",
       "3  0.284667  0.668980  0.239061  0.732948  0.679618  0.574844  0.346010   \n",
       "4  0.287595  0.686964  0.420667  0.648182  0.684501  0.956692  1.000773   \n",
       "\n",
       "     cont11    cont12    cont13  \n",
       "0  0.377873  0.322401  0.869850  \n",
       "1  0.921701  0.261975  0.465083  \n",
       "2  0.620126  0.541474  0.763846  \n",
       "3  0.714610  0.540150  0.280682  \n",
       "4  0.776742  0.625849  0.250823  "
      ]
     },
     "execution_count": 6,
     "metadata": {},
     "output_type": "execute_result"
    }
   ],
   "source": [
    "# Separate target from features\n",
    "y = train['target']\n",
    "features = train.drop(['id','target'], axis=1)\n",
    "\n",
    "# Preview features\n",
    "features.head()"
   ]
  },
  {
   "cell_type": "markdown",
   "id": "b7a17b94",
   "metadata": {
    "papermill": {
     "duration": 0.013941,
     "end_time": "2021-08-29T23:13:13.389648",
     "exception": false,
     "start_time": "2021-08-29T23:13:13.375707",
     "status": "completed"
    },
    "tags": []
   },
   "source": [
    "# Preprocessing"
   ]
  },
  {
   "cell_type": "code",
   "execution_count": 7,
   "id": "b7c89f35",
   "metadata": {
    "execution": {
     "iopub.execute_input": "2021-08-29T23:13:13.423860Z",
     "iopub.status.busy": "2021-08-29T23:13:13.423244Z",
     "iopub.status.idle": "2021-08-29T23:13:13.429441Z",
     "shell.execute_reply": "2021-08-29T23:13:13.428865Z",
     "shell.execute_reply.started": "2021-08-23T00:16:16.898832Z"
    },
    "papermill": {
     "duration": 0.025811,
     "end_time": "2021-08-29T23:13:13.429602",
     "exception": false,
     "start_time": "2021-08-29T23:13:13.403791",
     "status": "completed"
    },
    "tags": []
   },
   "outputs": [
    {
     "data": {
      "text/plain": [
       "\"\\n# List of categorical columns\\nobject_cols = [col for col in features.columns if 'cat' in col]\\n\\n# ordinal-encode categorical columns\\nX = features.copy()\\nX_test = test.drop(['id'], axis=1).copy()\\nordinal_encoder = OrdinalEncoder()\\nX[object_cols] = ordinal_encoder.fit_transform(features[object_cols])\\nX_test[object_cols] = ordinal_encoder.transform(test[object_cols])\\n\\n# Preview the ordinal-encoded features\\nX.head()\\n\""
      ]
     },
     "execution_count": 7,
     "metadata": {},
     "output_type": "execute_result"
    }
   ],
   "source": [
    "'''\n",
    "# List of categorical columns\n",
    "object_cols = [col for col in features.columns if 'cat' in col]\n",
    "\n",
    "# ordinal-encode categorical columns\n",
    "X = features.copy()\n",
    "X_test = test.drop(['id'], axis=1).copy()\n",
    "ordinal_encoder = OrdinalEncoder()\n",
    "X[object_cols] = ordinal_encoder.fit_transform(features[object_cols])\n",
    "X_test[object_cols] = ordinal_encoder.transform(test[object_cols])\n",
    "\n",
    "# Preview the ordinal-encoded features\n",
    "X.head()\n",
    "'''"
   ]
  },
  {
   "cell_type": "code",
   "execution_count": 8,
   "id": "3f41a534",
   "metadata": {
    "execution": {
     "iopub.execute_input": "2021-08-29T23:13:13.467790Z",
     "iopub.status.busy": "2021-08-29T23:13:13.467115Z",
     "iopub.status.idle": "2021-08-29T23:13:15.468633Z",
     "shell.execute_reply": "2021-08-29T23:13:15.468017Z",
     "shell.execute_reply.started": "2021-08-23T00:16:19.341219Z"
    },
    "papermill": {
     "duration": 2.023992,
     "end_time": "2021-08-29T23:13:15.468802",
     "exception": false,
     "start_time": "2021-08-29T23:13:13.444810",
     "status": "completed"
    },
    "tags": []
   },
   "outputs": [
    {
     "data": {
      "text/html": [
       "<div>\n",
       "<style scoped>\n",
       "    .dataframe tbody tr th:only-of-type {\n",
       "        vertical-align: middle;\n",
       "    }\n",
       "\n",
       "    .dataframe tbody tr th {\n",
       "        vertical-align: top;\n",
       "    }\n",
       "\n",
       "    .dataframe thead th {\n",
       "        text-align: right;\n",
       "    }\n",
       "</style>\n",
       "<table border=\"1\" class=\"dataframe\">\n",
       "  <thead>\n",
       "    <tr style=\"text-align: right;\">\n",
       "      <th></th>\n",
       "      <th>cont0</th>\n",
       "      <th>cont1</th>\n",
       "      <th>cont2</th>\n",
       "      <th>cont3</th>\n",
       "      <th>cont4</th>\n",
       "      <th>cont5</th>\n",
       "      <th>cont6</th>\n",
       "      <th>cont7</th>\n",
       "      <th>cont8</th>\n",
       "      <th>cont9</th>\n",
       "      <th>...</th>\n",
       "      <th>ohe_28</th>\n",
       "      <th>ohe_29</th>\n",
       "      <th>ohe_30</th>\n",
       "      <th>ohe_31</th>\n",
       "      <th>ohe_32</th>\n",
       "      <th>ohe_33</th>\n",
       "      <th>ohe_34</th>\n",
       "      <th>ohe_35</th>\n",
       "      <th>ohe_36</th>\n",
       "      <th>ohe_37</th>\n",
       "    </tr>\n",
       "  </thead>\n",
       "  <tbody>\n",
       "    <tr>\n",
       "      <th>0</th>\n",
       "      <td>0.201470</td>\n",
       "      <td>-0.014822</td>\n",
       "      <td>0.669699</td>\n",
       "      <td>0.136278</td>\n",
       "      <td>0.610706</td>\n",
       "      <td>0.400361</td>\n",
       "      <td>0.160266</td>\n",
       "      <td>0.310921</td>\n",
       "      <td>0.389470</td>\n",
       "      <td>0.267559</td>\n",
       "      <td>...</td>\n",
       "      <td>0.0</td>\n",
       "      <td>0.0</td>\n",
       "      <td>0.0</td>\n",
       "      <td>0.0</td>\n",
       "      <td>0.0</td>\n",
       "      <td>0.0</td>\n",
       "      <td>0.0</td>\n",
       "      <td>0.0</td>\n",
       "      <td>1.0</td>\n",
       "      <td>0.0</td>\n",
       "    </tr>\n",
       "    <tr>\n",
       "      <th>1</th>\n",
       "      <td>0.743068</td>\n",
       "      <td>0.367411</td>\n",
       "      <td>1.021605</td>\n",
       "      <td>0.365798</td>\n",
       "      <td>0.276853</td>\n",
       "      <td>0.533087</td>\n",
       "      <td>0.558922</td>\n",
       "      <td>0.516294</td>\n",
       "      <td>0.594928</td>\n",
       "      <td>0.341439</td>\n",
       "      <td>...</td>\n",
       "      <td>0.0</td>\n",
       "      <td>0.0</td>\n",
       "      <td>0.0</td>\n",
       "      <td>0.0</td>\n",
       "      <td>0.0</td>\n",
       "      <td>0.0</td>\n",
       "      <td>0.0</td>\n",
       "      <td>0.0</td>\n",
       "      <td>0.0</td>\n",
       "      <td>1.0</td>\n",
       "    </tr>\n",
       "    <tr>\n",
       "      <th>2</th>\n",
       "      <td>0.742708</td>\n",
       "      <td>0.310383</td>\n",
       "      <td>-0.012673</td>\n",
       "      <td>0.576957</td>\n",
       "      <td>0.285074</td>\n",
       "      <td>0.650609</td>\n",
       "      <td>0.375348</td>\n",
       "      <td>0.902567</td>\n",
       "      <td>0.555205</td>\n",
       "      <td>0.843531</td>\n",
       "      <td>...</td>\n",
       "      <td>1.0</td>\n",
       "      <td>0.0</td>\n",
       "      <td>0.0</td>\n",
       "      <td>0.0</td>\n",
       "      <td>0.0</td>\n",
       "      <td>0.0</td>\n",
       "      <td>0.0</td>\n",
       "      <td>0.0</td>\n",
       "      <td>0.0</td>\n",
       "      <td>0.0</td>\n",
       "    </tr>\n",
       "    <tr>\n",
       "      <th>3</th>\n",
       "      <td>0.429551</td>\n",
       "      <td>0.620998</td>\n",
       "      <td>0.577942</td>\n",
       "      <td>0.280610</td>\n",
       "      <td>0.284667</td>\n",
       "      <td>0.668980</td>\n",
       "      <td>0.239061</td>\n",
       "      <td>0.732948</td>\n",
       "      <td>0.679618</td>\n",
       "      <td>0.574844</td>\n",
       "      <td>...</td>\n",
       "      <td>0.0</td>\n",
       "      <td>0.0</td>\n",
       "      <td>0.0</td>\n",
       "      <td>0.0</td>\n",
       "      <td>0.0</td>\n",
       "      <td>1.0</td>\n",
       "      <td>0.0</td>\n",
       "      <td>0.0</td>\n",
       "      <td>0.0</td>\n",
       "      <td>0.0</td>\n",
       "    </tr>\n",
       "    <tr>\n",
       "      <th>4</th>\n",
       "      <td>1.058291</td>\n",
       "      <td>0.367492</td>\n",
       "      <td>-0.052389</td>\n",
       "      <td>0.232407</td>\n",
       "      <td>0.287595</td>\n",
       "      <td>0.686964</td>\n",
       "      <td>0.420667</td>\n",
       "      <td>0.648182</td>\n",
       "      <td>0.684501</td>\n",
       "      <td>0.956692</td>\n",
       "      <td>...</td>\n",
       "      <td>0.0</td>\n",
       "      <td>0.0</td>\n",
       "      <td>0.0</td>\n",
       "      <td>0.0</td>\n",
       "      <td>0.0</td>\n",
       "      <td>0.0</td>\n",
       "      <td>0.0</td>\n",
       "      <td>0.0</td>\n",
       "      <td>1.0</td>\n",
       "      <td>0.0</td>\n",
       "    </tr>\n",
       "  </tbody>\n",
       "</table>\n",
       "<p>5 rows × 52 columns</p>\n",
       "</div>"
      ],
      "text/plain": [
       "      cont0     cont1     cont2     cont3     cont4     cont5     cont6  \\\n",
       "0  0.201470 -0.014822  0.669699  0.136278  0.610706  0.400361  0.160266   \n",
       "1  0.743068  0.367411  1.021605  0.365798  0.276853  0.533087  0.558922   \n",
       "2  0.742708  0.310383 -0.012673  0.576957  0.285074  0.650609  0.375348   \n",
       "3  0.429551  0.620998  0.577942  0.280610  0.284667  0.668980  0.239061   \n",
       "4  1.058291  0.367492 -0.052389  0.232407  0.287595  0.686964  0.420667   \n",
       "\n",
       "      cont7     cont8     cont9  ...  ohe_28  ohe_29  ohe_30  ohe_31  ohe_32  \\\n",
       "0  0.310921  0.389470  0.267559  ...     0.0     0.0     0.0     0.0     0.0   \n",
       "1  0.516294  0.594928  0.341439  ...     0.0     0.0     0.0     0.0     0.0   \n",
       "2  0.902567  0.555205  0.843531  ...     1.0     0.0     0.0     0.0     0.0   \n",
       "3  0.732948  0.679618  0.574844  ...     0.0     0.0     0.0     0.0     0.0   \n",
       "4  0.648182  0.684501  0.956692  ...     0.0     0.0     0.0     0.0     0.0   \n",
       "\n",
       "   ohe_33  ohe_34  ohe_35  ohe_36  ohe_37  \n",
       "0     0.0     0.0     0.0     1.0     0.0  \n",
       "1     0.0     0.0     0.0     0.0     1.0  \n",
       "2     0.0     0.0     0.0     0.0     0.0  \n",
       "3     1.0     0.0     0.0     0.0     0.0  \n",
       "4     0.0     0.0     0.0     1.0     0.0  \n",
       "\n",
       "[5 rows x 52 columns]"
      ]
     },
     "execution_count": 8,
     "metadata": {},
     "output_type": "execute_result"
    }
   ],
   "source": [
    "\n",
    "# List of categorical columns\n",
    "object_cols = [col for col in features.columns if 'cat' in col]\n",
    "\n",
    "# one-hot-encode categorical columns\n",
    "X = features.copy()\n",
    "X_test = test.drop(['id'], axis=1).copy()\n",
    "\n",
    "oh_encoder = OneHotEncoder(sparse=False, handle_unknown=\"ignore\")\n",
    "X_ohe = oh_encoder.fit_transform(features[object_cols])\n",
    "X_test_ohe = oh_encoder.transform(test[object_cols])\n",
    "\n",
    "X_ohe = pd.DataFrame(X_ohe, columns=[f\"ohe_{i}\" for i in range(X_ohe.shape[1])])\n",
    "X_test_ohe = pd.DataFrame(X_test_ohe, columns=[f\"ohe_{i}\" for i in range(X_test_ohe.shape[1])])\n",
    "\n",
    "X = pd.concat([X, X_ohe], axis=1)\n",
    "X_test = pd.concat([X_test, X_test_ohe], axis=1)\n",
    "X = X.drop(object_cols, axis=1)\n",
    "X_test = X_test.drop(object_cols, axis=1)\n",
    "    \n",
    "# Preview the one-hot-encoded features\n",
    "X.head()\n"
   ]
  },
  {
   "cell_type": "code",
   "execution_count": 9,
   "id": "9281fe1e",
   "metadata": {
    "execution": {
     "iopub.execute_input": "2021-08-29T23:13:15.527491Z",
     "iopub.status.busy": "2021-08-29T23:13:15.526791Z",
     "iopub.status.idle": "2021-08-29T23:13:15.748610Z",
     "shell.execute_reply": "2021-08-29T23:13:15.748015Z",
     "shell.execute_reply.started": "2021-08-23T00:16:19.349749Z"
    },
    "papermill": {
     "duration": 0.264571,
     "end_time": "2021-08-29T23:13:15.748767",
     "exception": false,
     "start_time": "2021-08-29T23:13:15.484196",
     "status": "completed"
    },
    "tags": []
   },
   "outputs": [],
   "source": [
    "scale_features = [col for col in features.columns if 'cont' in col]\n",
    "\n",
    "ss = StandardScaler()\n",
    "X[scale_features] = ss.fit_transform(features[scale_features])\n",
    "X_test[scale_features] = ss.transform(test[scale_features])"
   ]
  },
  {
   "cell_type": "code",
   "execution_count": 10,
   "id": "d2869a8a",
   "metadata": {
    "execution": {
     "iopub.execute_input": "2021-08-29T23:13:15.787222Z",
     "iopub.status.busy": "2021-08-29T23:13:15.786523Z",
     "iopub.status.idle": "2021-08-29T23:13:15.790088Z",
     "shell.execute_reply": "2021-08-29T23:13:15.789538Z",
     "shell.execute_reply.started": "2021-08-23T00:16:21.487354Z"
    },
    "papermill": {
     "duration": 0.026149,
     "end_time": "2021-08-29T23:13:15.790238",
     "exception": false,
     "start_time": "2021-08-29T23:13:15.764089",
     "status": "completed"
    },
    "tags": []
   },
   "outputs": [],
   "source": [
    "# Swap noise\n",
    "\n",
    "# Random\n",
    "def apply_noise_rn(df, p=.75):\n",
    "    should_not_swap = np.random.binomial(1, p, df.shape)\n",
    "    corrupted_df = df.where(should_not_swap == 1, np.random.permutation(df))\n",
    "    return corrupted_df\n",
    "\n",
    "# Row-wise\n",
    "def apply_noise_row(df, p=.75):\n",
    "    should_not_swap = np.zeros(df.shape)\n",
    "    for i in range(df.shape[0]):\n",
    "        for j in np.random.choice(df.shape[1],int(p*df.shape[1]),replace=False):\n",
    "            should_not_swap[i,j]=1 \n",
    "    corrupted_df = df.where(should_not_swap == 1, np.random.permutation(df))\n",
    "    return corrupted_df"
   ]
  },
  {
   "cell_type": "markdown",
   "id": "8e0fafdd",
   "metadata": {
    "papermill": {
     "duration": 0.015503,
     "end_time": "2021-08-29T23:13:15.821953",
     "exception": false,
     "start_time": "2021-08-29T23:13:15.806450",
     "status": "completed"
    },
    "tags": []
   },
   "source": [
    "# Pseudo Label"
   ]
  },
  {
   "cell_type": "code",
   "execution_count": 11,
   "id": "4b51e533",
   "metadata": {
    "execution": {
     "iopub.execute_input": "2021-08-29T23:13:15.857471Z",
     "iopub.status.busy": "2021-08-29T23:13:15.856706Z",
     "iopub.status.idle": "2021-08-29T23:13:16.598946Z",
     "shell.execute_reply": "2021-08-29T23:13:16.598325Z",
     "shell.execute_reply.started": "2021-08-23T00:16:21.499316Z"
    },
    "papermill": {
     "duration": 0.762133,
     "end_time": "2021-08-29T23:13:16.599124",
     "exception": false,
     "start_time": "2021-08-29T23:13:15.836991",
     "status": "completed"
    },
    "tags": []
   },
   "outputs": [],
   "source": [
    "pseudo = pd.read_csv(\"../input/30-days-pseudo/submission.csv\")[target]\n",
    "train_pseudo = pd.concat([X, y], axis=1)\n",
    "test_pseudo = pd.concat([X_test, pseudo], axis=1)\n",
    "all_pseudo = pd.concat([train_pseudo, test_pseudo]).reset_index(drop=True)"
   ]
  },
  {
   "cell_type": "markdown",
   "id": "a451fc74",
   "metadata": {
    "papermill": {
     "duration": 0.014909,
     "end_time": "2021-08-29T23:13:16.628958",
     "exception": false,
     "start_time": "2021-08-29T23:13:16.614049",
     "status": "completed"
    },
    "tags": []
   },
   "source": [
    "# Optuna"
   ]
  },
  {
   "cell_type": "code",
   "execution_count": 12,
   "id": "0808b025",
   "metadata": {
    "execution": {
     "iopub.execute_input": "2021-08-29T23:13:16.678545Z",
     "iopub.status.busy": "2021-08-29T23:13:16.662879Z",
     "iopub.status.idle": "2021-08-29T23:13:25.537868Z",
     "shell.execute_reply": "2021-08-29T23:13:25.538446Z",
     "shell.execute_reply.started": "2021-08-23T00:16:21.841088Z"
    },
    "papermill": {
     "duration": 8.89487,
     "end_time": "2021-08-29T23:13:25.538641",
     "exception": false,
     "start_time": "2021-08-29T23:13:16.643771",
     "status": "completed"
    },
    "tags": []
   },
   "outputs": [
    {
     "name": "stdout",
     "output_type": "stream",
     "text": [
      "\u001b[33mWARNING: Running pip as root will break packages and permissions. You should install packages reliably by using venv: https://pip.pypa.io/warnings/venv\u001b[0m\r\n"
     ]
    }
   ],
   "source": [
    "# Optuna for parameter search\n",
    "!pip install -q optuna\n",
    "\n",
    "import optuna\n",
    "import pickle"
   ]
  },
  {
   "cell_type": "code",
   "execution_count": 13,
   "id": "7b1c83dc",
   "metadata": {
    "execution": {
     "iopub.execute_input": "2021-08-29T23:13:25.572931Z",
     "iopub.status.busy": "2021-08-29T23:13:25.572278Z",
     "iopub.status.idle": "2021-08-29T23:13:25.585751Z",
     "shell.execute_reply": "2021-08-29T23:13:25.586226Z",
     "shell.execute_reply.started": "2021-08-23T00:16:31.417078Z"
    },
    "papermill": {
     "duration": 0.032229,
     "end_time": "2021-08-29T23:13:25.586427",
     "exception": false,
     "start_time": "2021-08-29T23:13:25.554198",
     "status": "completed"
    },
    "tags": []
   },
   "outputs": [],
   "source": [
    "# for the fixed learning rate, use the opt n iterations and tune the tree hyperparameters\n",
    "def objective(trial, X=all_pseudo.iloc[:,:-1], y=all_pseudo[target]):\n",
    "  \"\"\"\n",
    "  \"\"\"\n",
    "  param_space = {\n",
    "              #'device':'gpu',  # Use GPU acceleration\n",
    "               #'boosting_type': 'gbdt',\n",
    "               'reg_lambda':trial.suggest_uniform('reg_lambda', 22, 28),\n",
    "              'reg_alpha':trial.suggest_uniform('reg_alpha', 17, 20),\n",
    "                'subsample': trial.suggest_uniform('subsample', 0.233, 0.283 ),\n",
    "              'colsample_bytree':trial.suggest_uniform('colsample_bytree', 0.250, 0.280),\n",
    "                #'subsample_freq': trial.suggest_int('subsample_freq', 1, 10),\n",
    "               'learning_rate':trial.suggest_uniform('learning_rate', 0.221, 0.251),\n",
    "                 'min_child_samples':trial.suggest_int('min_child_samples', 106, 112),\n",
    "              'num_leaves':trial.suggest_int('num_leaves', 88, 100),\n",
    "              'max_depth':trial.suggest_int('max_depth', 2, 3),\n",
    "              #'min_split_gain': trial.suggest_float('min_split_gain', 0.0, 0.005),\n",
    "              #'class_weight':trial.suggest_categorical('class_weight',['balanced',None]),\n",
    "               'n_estimators':N_ESTIMATORS,\n",
    "                'n_jobs' : -1,\n",
    "              'metric':'rmse',\n",
    "              'max_bin':trial.suggest_int('max_bin', 1148, 1198),\n",
    "              'cat_smooth':trial.suggest_int('cat_smooth', 78, 84),\n",
    "              'cat_l2':trial.suggest_loguniform('cat_l2', 2.5, 7.5)\n",
    "              }\n",
    "            \n",
    "  seed_list=[SEED, SEED+1]\n",
    "  #kf = KFold(n_splits=N_SPLITS, shuffle=True, random_state=CVSEED)\n",
    "  lgb_oof = np.zeros(train.shape[0])\n",
    "  #lgb_pred = np.zeros(test.shape[0])\n",
    "  X_tr, X_va, y_tr, y_va = train_test_split(X,y,test_size=.2,random_state=CVSEED)\n",
    "  trn_idx = X_tr.index\n",
    "  val_idx = X_va.index\n",
    "  \n",
    "  #for (trn_idx, val_idx) in enumerate(kf.split(X, y)):\n",
    "  #print(f\"===== fold {fold} =====\")\n",
    "  oof_idx = np.array([idx for idx in val_idx if idx < train.shape[0]])\n",
    "  preds_idx = np.array([idx for idx in val_idx if idx >= train.shape[0]])\n",
    "\n",
    "  X_train, y_train = all_pseudo.iloc[trn_idx, :-1], all_pseudo[target].iloc[trn_idx]\n",
    "  #X_train = apply_noise_rn(X_train)\n",
    "\n",
    "  X_valid, y_valid = all_pseudo.iloc[oof_idx, :-1], all_pseudo[target].iloc[oof_idx]\n",
    "  #X_test = all_pseudo[scale_features].iloc[preds_idx]\n",
    "  \n",
    "  #start = time.time()\n",
    "  for inseed in seed_list:\n",
    "    param_space['random_state'] = inseed\n",
    "\n",
    "    model = lgb.LGBMRegressor(**param_space)\n",
    "    model.fit(\n",
    "        X_train, \n",
    "        y_train,\n",
    "        eval_set=[(X_valid, y_valid)],\n",
    "        eval_metric='rmse',\n",
    "        early_stopping_rounds=EARLY_STOPPING_ROUNDS,\n",
    "        verbose=VERBOSE,\n",
    "        #categorical_feature=[0, 1, 2, 3, 4, 5, 6, 7, 8, 9]\n",
    "        #callbacks=[optuna.integration.LightGBMPruningCallback(trial, metric='rmse')],\n",
    "    )\n",
    "\n",
    "\n",
    "    lgb_oof[oof_idx] += model.predict(X_valid) / len(seed_list)\n",
    "    #lgb_pred[preds_idx-train.shape[0]] += model.predict(X_test) / len(seed_list)\n",
    "\n",
    "  #elapsed = time.time() - start\n",
    "  rmse = mean_squared_error(y_valid, lgb_oof[oof_idx], squared=False)\n",
    "  #print(f\"fold {fold} - lgb rmse: {rmse:.6f}, elapsed time: {elapsed:.2f}sec\\n\")            \n",
    "  \n",
    "  #print(f\"oof lgb_rmse = {mean_squared_error(train[target], lgb_oof, squared=False)}\")\n",
    "\n",
    "  \n",
    "  return rmse"
   ]
  },
  {
   "cell_type": "code",
   "execution_count": 14,
   "id": "73b6a67b",
   "metadata": {
    "execution": {
     "iopub.execute_input": "2021-08-29T23:13:25.621034Z",
     "iopub.status.busy": "2021-08-29T23:13:25.620372Z",
     "iopub.status.idle": "2021-08-29T23:45:15.305857Z",
     "shell.execute_reply": "2021-08-29T23:45:15.306325Z",
     "shell.execute_reply.started": "2021-08-23T00:16:31.436472Z"
    },
    "papermill": {
     "duration": 1909.704344,
     "end_time": "2021-08-29T23:45:15.306522",
     "exception": false,
     "start_time": "2021-08-29T23:13:25.602178",
     "status": "completed"
    },
    "tags": []
   },
   "outputs": [
    {
     "name": "stderr",
     "output_type": "stream",
     "text": [
      "\u001b[32m[I 2021-08-29 23:13:25,621]\u001b[0m A new study created in memory with name: no-name-0f4b0c53-8dc9-4c59-8a56-8664e732be69\u001b[0m\n"
     ]
    },
    {
     "name": "stdout",
     "output_type": "stream",
     "text": [
      "Training until validation scores don't improve for 200 rounds\n",
      "[1000]\tvalid_0's rmse: 0.710699\n",
      "[2000]\tvalid_0's rmse: 0.709243\n",
      "Early stopping, best iteration is:\n",
      "[2740]\tvalid_0's rmse: 0.709036\n",
      "Training until validation scores don't improve for 200 rounds\n",
      "[1000]\tvalid_0's rmse: 0.710782\n",
      "[2000]\tvalid_0's rmse: 0.709345\n",
      "[3000]\tvalid_0's rmse: 0.709163\n",
      "Early stopping, best iteration is:\n",
      "[2804]\tvalid_0's rmse: 0.709104\n"
     ]
    },
    {
     "name": "stderr",
     "output_type": "stream",
     "text": [
      "\u001b[32m[I 2021-08-29 23:14:30,627]\u001b[0m Trial 0 finished with value: 0.7089351115222434 and parameters: {'reg_lambda': 22.715443256327532, 'reg_alpha': 19.107570352189512, 'subsample': 0.2729335339881532, 'colsample_bytree': 0.25617687669996847, 'learning_rate': 0.2392551210199904, 'min_child_samples': 109, 'num_leaves': 90, 'max_depth': 2, 'max_bin': 1184, 'cat_smooth': 78, 'cat_l2': 2.7038060864084072}. Best is trial 0 with value: 0.7089351115222434.\u001b[0m\n"
     ]
    },
    {
     "name": "stdout",
     "output_type": "stream",
     "text": [
      "Training until validation scores don't improve for 200 rounds\n",
      "[1000]\tvalid_0's rmse: 0.709455\n",
      "Early stopping, best iteration is:\n",
      "[1270]\tvalid_0's rmse: 0.709331\n",
      "Training until validation scores don't improve for 200 rounds\n",
      "[1000]\tvalid_0's rmse: 0.709515\n",
      "Early stopping, best iteration is:\n",
      "[1279]\tvalid_0's rmse: 0.709393\n"
     ]
    },
    {
     "name": "stderr",
     "output_type": "stream",
     "text": [
      "\u001b[32m[I 2021-08-29 23:15:09,980]\u001b[0m Trial 1 finished with value: 0.7091014253799477 and parameters: {'reg_lambda': 22.37612682198711, 'reg_alpha': 18.343426086150238, 'subsample': 0.268684492064483, 'colsample_bytree': 0.26328250918202467, 'learning_rate': 0.2403001433810683, 'min_child_samples': 110, 'num_leaves': 90, 'max_depth': 3, 'max_bin': 1187, 'cat_smooth': 83, 'cat_l2': 3.19329635579223}. Best is trial 0 with value: 0.7089351115222434.\u001b[0m\n"
     ]
    },
    {
     "name": "stdout",
     "output_type": "stream",
     "text": [
      "Training until validation scores don't improve for 200 rounds\n",
      "[1000]\tvalid_0's rmse: 0.709415\n",
      "Early stopping, best iteration is:\n",
      "[1262]\tvalid_0's rmse: 0.709288\n",
      "Training until validation scores don't improve for 200 rounds\n",
      "[1000]\tvalid_0's rmse: 0.709395\n",
      "Early stopping, best iteration is:\n",
      "[1019]\tvalid_0's rmse: 0.70937\n"
     ]
    },
    {
     "name": "stderr",
     "output_type": "stream",
     "text": [
      "\u001b[32m[I 2021-08-29 23:15:46,018]\u001b[0m Trial 2 finished with value: 0.709061002519857 and parameters: {'reg_lambda': 26.422670340057866, 'reg_alpha': 18.04997233883924, 'subsample': 0.2604466154739754, 'colsample_bytree': 0.26238794909870067, 'learning_rate': 0.24877111588214249, 'min_child_samples': 111, 'num_leaves': 90, 'max_depth': 3, 'max_bin': 1169, 'cat_smooth': 83, 'cat_l2': 3.09816731342425}. Best is trial 0 with value: 0.7089351115222434.\u001b[0m\n"
     ]
    },
    {
     "name": "stdout",
     "output_type": "stream",
     "text": [
      "Training until validation scores don't improve for 200 rounds\n",
      "[1000]\tvalid_0's rmse: 0.710954\n",
      "[2000]\tvalid_0's rmse: 0.709386\n",
      "[3000]\tvalid_0's rmse: 0.70907\n",
      "Early stopping, best iteration is:\n",
      "[3020]\tvalid_0's rmse: 0.70906\n",
      "Training until validation scores don't improve for 200 rounds\n",
      "[1000]\tvalid_0's rmse: 0.710821\n",
      "[2000]\tvalid_0's rmse: 0.709342\n",
      "[3000]\tvalid_0's rmse: 0.709067\n",
      "Early stopping, best iteration is:\n",
      "[3481]\tvalid_0's rmse: 0.709008\n"
     ]
    },
    {
     "name": "stderr",
     "output_type": "stream",
     "text": [
      "\u001b[32m[I 2021-08-29 23:17:01,767]\u001b[0m Trial 3 finished with value: 0.7088634276528123 and parameters: {'reg_lambda': 26.15251122280022, 'reg_alpha': 17.602963729709163, 'subsample': 0.23530633708410942, 'colsample_bytree': 0.2525523264616808, 'learning_rate': 0.242800098591402, 'min_child_samples': 107, 'num_leaves': 90, 'max_depth': 2, 'max_bin': 1175, 'cat_smooth': 80, 'cat_l2': 3.177067772538733}. Best is trial 3 with value: 0.7088634276528123.\u001b[0m\n"
     ]
    },
    {
     "name": "stdout",
     "output_type": "stream",
     "text": [
      "Training until validation scores don't improve for 200 rounds\n",
      "[1000]\tvalid_0's rmse: 0.70953\n",
      "Early stopping, best iteration is:\n",
      "[1352]\tvalid_0's rmse: 0.709425\n",
      "Training until validation scores don't improve for 200 rounds\n",
      "[1000]\tvalid_0's rmse: 0.709339\n",
      "Early stopping, best iteration is:\n",
      "[1287]\tvalid_0's rmse: 0.709221\n"
     ]
    },
    {
     "name": "stderr",
     "output_type": "stream",
     "text": [
      "\u001b[32m[I 2021-08-29 23:17:42,596]\u001b[0m Trial 4 finished with value: 0.7090795846442165 and parameters: {'reg_lambda': 22.854017259719463, 'reg_alpha': 17.015539520872135, 'subsample': 0.2812848169853863, 'colsample_bytree': 0.26340200591837043, 'learning_rate': 0.22356445488107668, 'min_child_samples': 106, 'num_leaves': 91, 'max_depth': 3, 'max_bin': 1183, 'cat_smooth': 81, 'cat_l2': 5.597208001038238}. Best is trial 3 with value: 0.7088634276528123.\u001b[0m\n"
     ]
    },
    {
     "name": "stdout",
     "output_type": "stream",
     "text": [
      "Training until validation scores don't improve for 200 rounds\n",
      "[1000]\tvalid_0's rmse: 0.71063\n",
      "[2000]\tvalid_0's rmse: 0.70929\n",
      "Early stopping, best iteration is:\n",
      "[2718]\tvalid_0's rmse: 0.709132\n",
      "Training until validation scores don't improve for 200 rounds\n",
      "[1000]\tvalid_0's rmse: 0.710609\n",
      "[2000]\tvalid_0's rmse: 0.709249\n",
      "[3000]\tvalid_0's rmse: 0.709023\n",
      "Early stopping, best iteration is:\n",
      "[3487]\tvalid_0's rmse: 0.708999\n"
     ]
    },
    {
     "name": "stderr",
     "output_type": "stream",
     "text": [
      "\u001b[32m[I 2021-08-29 23:18:55,008]\u001b[0m Trial 5 finished with value: 0.7088862973641823 and parameters: {'reg_lambda': 22.42381495159725, 'reg_alpha': 17.174134799615448, 'subsample': 0.26909959092465763, 'colsample_bytree': 0.2544274333692104, 'learning_rate': 0.24943942548443646, 'min_child_samples': 106, 'num_leaves': 95, 'max_depth': 2, 'max_bin': 1184, 'cat_smooth': 79, 'cat_l2': 2.504033759519302}. Best is trial 3 with value: 0.7088634276528123.\u001b[0m\n"
     ]
    },
    {
     "name": "stdout",
     "output_type": "stream",
     "text": [
      "Training until validation scores don't improve for 200 rounds\n",
      "[1000]\tvalid_0's rmse: 0.709386\n",
      "Early stopping, best iteration is:\n",
      "[1450]\tvalid_0's rmse: 0.70917\n",
      "Training until validation scores don't improve for 200 rounds\n",
      "[1000]\tvalid_0's rmse: 0.709375\n",
      "Early stopping, best iteration is:\n",
      "[1494]\tvalid_0's rmse: 0.709139\n"
     ]
    },
    {
     "name": "stderr",
     "output_type": "stream",
     "text": [
      "\u001b[32m[I 2021-08-29 23:19:38,945]\u001b[0m Trial 6 finished with value: 0.7089118038774981 and parameters: {'reg_lambda': 22.350212167630282, 'reg_alpha': 18.35452082242736, 'subsample': 0.27646304834334423, 'colsample_bytree': 0.26349026661675684, 'learning_rate': 0.22350667453802447, 'min_child_samples': 110, 'num_leaves': 99, 'max_depth': 3, 'max_bin': 1194, 'cat_smooth': 81, 'cat_l2': 5.472346020351298}. Best is trial 3 with value: 0.7088634276528123.\u001b[0m\n"
     ]
    },
    {
     "name": "stdout",
     "output_type": "stream",
     "text": [
      "Training until validation scores don't improve for 200 rounds\n",
      "[1000]\tvalid_0's rmse: 0.710681\n",
      "[2000]\tvalid_0's rmse: 0.709307\n",
      "[3000]\tvalid_0's rmse: 0.709145\n",
      "Early stopping, best iteration is:\n",
      "[3315]\tvalid_0's rmse: 0.709095\n",
      "Training until validation scores don't improve for 200 rounds\n",
      "[1000]\tvalid_0's rmse: 0.710789\n",
      "[2000]\tvalid_0's rmse: 0.709353\n",
      "Early stopping, best iteration is:\n",
      "[2486]\tvalid_0's rmse: 0.709133\n"
     ]
    },
    {
     "name": "stderr",
     "output_type": "stream",
     "text": [
      "\u001b[32m[I 2021-08-29 23:20:47,461]\u001b[0m Trial 7 finished with value: 0.7089606208095353 and parameters: {'reg_lambda': 22.89545332224384, 'reg_alpha': 18.800158941491095, 'subsample': 0.23695493312947524, 'colsample_bytree': 0.2600125681702363, 'learning_rate': 0.2400843050115501, 'min_child_samples': 112, 'num_leaves': 89, 'max_depth': 2, 'max_bin': 1176, 'cat_smooth': 82, 'cat_l2': 3.84200283391802}. Best is trial 3 with value: 0.7088634276528123.\u001b[0m\n"
     ]
    },
    {
     "name": "stdout",
     "output_type": "stream",
     "text": [
      "Training until validation scores don't improve for 200 rounds\n",
      "[1000]\tvalid_0's rmse: 0.709322\n",
      "Early stopping, best iteration is:\n",
      "[1419]\tvalid_0's rmse: 0.709174\n",
      "Training until validation scores don't improve for 200 rounds\n",
      "[1000]\tvalid_0's rmse: 0.709458\n",
      "Early stopping, best iteration is:\n",
      "[1451]\tvalid_0's rmse: 0.709305\n"
     ]
    },
    {
     "name": "stderr",
     "output_type": "stream",
     "text": [
      "\u001b[32m[I 2021-08-29 23:21:31,284]\u001b[0m Trial 8 finished with value: 0.7089694135720227 and parameters: {'reg_lambda': 22.368036627046028, 'reg_alpha': 17.86459388672789, 'subsample': 0.2529355925412905, 'colsample_bytree': 0.25599655432464735, 'learning_rate': 0.23945257545710646, 'min_child_samples': 108, 'num_leaves': 89, 'max_depth': 3, 'max_bin': 1182, 'cat_smooth': 78, 'cat_l2': 2.689511524568169}. Best is trial 3 with value: 0.7088634276528123.\u001b[0m\n"
     ]
    },
    {
     "name": "stdout",
     "output_type": "stream",
     "text": [
      "Training until validation scores don't improve for 200 rounds\n",
      "[1000]\tvalid_0's rmse: 0.709321\n",
      "Early stopping, best iteration is:\n",
      "[1163]\tvalid_0's rmse: 0.70917\n",
      "Training until validation scores don't improve for 200 rounds\n",
      "[1000]\tvalid_0's rmse: 0.709495\n",
      "Early stopping, best iteration is:\n",
      "[1318]\tvalid_0's rmse: 0.709337\n"
     ]
    },
    {
     "name": "stderr",
     "output_type": "stream",
     "text": [
      "\u001b[32m[I 2021-08-29 23:22:10,575]\u001b[0m Trial 9 finished with value: 0.7090051067913 and parameters: {'reg_lambda': 24.00477175516379, 'reg_alpha': 19.65535035508909, 'subsample': 0.2354872190931988, 'colsample_bytree': 0.26219473729345055, 'learning_rate': 0.2379765627473233, 'min_child_samples': 107, 'num_leaves': 89, 'max_depth': 3, 'max_bin': 1179, 'cat_smooth': 80, 'cat_l2': 6.706502125292348}. Best is trial 3 with value: 0.7088634276528123.\u001b[0m\n"
     ]
    },
    {
     "name": "stdout",
     "output_type": "stream",
     "text": [
      "Training until validation scores don't improve for 200 rounds\n",
      "[1000]\tvalid_0's rmse: 0.71076\n",
      "[2000]\tvalid_0's rmse: 0.709276\n",
      "[3000]\tvalid_0's rmse: 0.70903\n",
      "Early stopping, best iteration is:\n",
      "[2867]\tvalid_0's rmse: 0.709024\n",
      "Training until validation scores don't improve for 200 rounds\n",
      "[1000]\tvalid_0's rmse: 0.710813\n",
      "[2000]\tvalid_0's rmse: 0.709349\n",
      "[3000]\tvalid_0's rmse: 0.709084\n",
      "Early stopping, best iteration is:\n",
      "[2856]\tvalid_0's rmse: 0.709075\n"
     ]
    },
    {
     "name": "stderr",
     "output_type": "stream",
     "text": [
      "\u001b[32m[I 2021-08-29 23:23:18,241]\u001b[0m Trial 10 finished with value: 0.7089076011726827 and parameters: {'reg_lambda': 27.706079887023044, 'reg_alpha': 17.499531809720505, 'subsample': 0.24539870564460492, 'colsample_bytree': 0.27459161733675236, 'learning_rate': 0.23107728441597364, 'min_child_samples': 108, 'num_leaves': 94, 'max_depth': 2, 'max_bin': 1151, 'cat_smooth': 80, 'cat_l2': 4.161454446926812}. Best is trial 3 with value: 0.7088634276528123.\u001b[0m\n"
     ]
    },
    {
     "name": "stdout",
     "output_type": "stream",
     "text": [
      "Training until validation scores don't improve for 200 rounds\n",
      "[1000]\tvalid_0's rmse: 0.710945\n",
      "[2000]\tvalid_0's rmse: 0.709499\n",
      "[3000]\tvalid_0's rmse: 0.709283\n",
      "Early stopping, best iteration is:\n",
      "[2983]\tvalid_0's rmse: 0.709276\n",
      "Training until validation scores don't improve for 200 rounds\n",
      "[1000]\tvalid_0's rmse: 0.710803\n",
      "[2000]\tvalid_0's rmse: 0.709473\n",
      "[3000]\tvalid_0's rmse: 0.709224\n",
      "Early stopping, best iteration is:\n",
      "[3205]\tvalid_0's rmse: 0.709207\n"
     ]
    },
    {
     "name": "stderr",
     "output_type": "stream",
     "text": [
      "\u001b[32m[I 2021-08-29 23:24:31,228]\u001b[0m Trial 11 finished with value: 0.7090650509495239 and parameters: {'reg_lambda': 25.66295655002827, 'reg_alpha': 17.068294465112253, 'subsample': 0.26347357575135943, 'colsample_bytree': 0.2504324152626515, 'learning_rate': 0.2503769469193417, 'min_child_samples': 106, 'num_leaves': 96, 'max_depth': 2, 'max_bin': 1166, 'cat_smooth': 79, 'cat_l2': 3.417791354619208}. Best is trial 3 with value: 0.7088634276528123.\u001b[0m\n"
     ]
    },
    {
     "name": "stdout",
     "output_type": "stream",
     "text": [
      "Training until validation scores don't improve for 200 rounds\n",
      "[1000]\tvalid_0's rmse: 0.710897\n",
      "[2000]\tvalid_0's rmse: 0.70933\n",
      "Early stopping, best iteration is:\n",
      "[2794]\tvalid_0's rmse: 0.709086\n",
      "Training until validation scores don't improve for 200 rounds\n",
      "[1000]\tvalid_0's rmse: 0.710797\n",
      "[2000]\tvalid_0's rmse: 0.709457\n",
      "[3000]\tvalid_0's rmse: 0.709255\n",
      "Early stopping, best iteration is:\n",
      "[2874]\tvalid_0's rmse: 0.709244\n"
     ]
    },
    {
     "name": "stderr",
     "output_type": "stream",
     "text": [
      "\u001b[32m[I 2021-08-29 23:25:39,792]\u001b[0m Trial 12 finished with value: 0.7089929338121823 and parameters: {'reg_lambda': 27.17090121002347, 'reg_alpha': 17.399983960967447, 'subsample': 0.25163138907850974, 'colsample_bytree': 0.25042992462229374, 'learning_rate': 0.24620506084424368, 'min_child_samples': 106, 'num_leaves': 94, 'max_depth': 2, 'max_bin': 1161, 'cat_smooth': 79, 'cat_l2': 2.5988997704322094}. Best is trial 3 with value: 0.7088634276528123.\u001b[0m\n"
     ]
    },
    {
     "name": "stdout",
     "output_type": "stream",
     "text": [
      "Training until validation scores don't improve for 200 rounds\n",
      "[1000]\tvalid_0's rmse: 0.710545\n",
      "[2000]\tvalid_0's rmse: 0.709276\n",
      "[3000]\tvalid_0's rmse: 0.709016\n",
      "Early stopping, best iteration is:\n",
      "[2997]\tvalid_0's rmse: 0.709015\n",
      "Training until validation scores don't improve for 200 rounds\n",
      "[1000]\tvalid_0's rmse: 0.710711\n",
      "[2000]\tvalid_0's rmse: 0.709475\n",
      "Early stopping, best iteration is:\n",
      "[2217]\tvalid_0's rmse: 0.709356\n"
     ]
    },
    {
     "name": "stderr",
     "output_type": "stream",
     "text": [
      "\u001b[32m[I 2021-08-29 23:26:44,531]\u001b[0m Trial 13 finished with value: 0.709021660604894 and parameters: {'reg_lambda': 24.61287487693533, 'reg_alpha': 17.492482470727914, 'subsample': 0.2668166234166488, 'colsample_bytree': 0.2717581671472758, 'learning_rate': 0.24501138591259417, 'min_child_samples': 107, 'num_leaves': 97, 'max_depth': 2, 'max_bin': 1158, 'cat_smooth': 79, 'cat_l2': 2.5193072251546833}. Best is trial 3 with value: 0.7088634276528123.\u001b[0m\n"
     ]
    },
    {
     "name": "stdout",
     "output_type": "stream",
     "text": [
      "Training until validation scores don't improve for 200 rounds\n",
      "[1000]\tvalid_0's rmse: 0.711005\n",
      "[2000]\tvalid_0's rmse: 0.709481\n",
      "Early stopping, best iteration is:\n",
      "[2695]\tvalid_0's rmse: 0.709253\n",
      "Training until validation scores don't improve for 200 rounds\n",
      "[1000]\tvalid_0's rmse: 0.710973\n",
      "[2000]\tvalid_0's rmse: 0.709442\n",
      "[3000]\tvalid_0's rmse: 0.709196\n",
      "Early stopping, best iteration is:\n",
      "[3421]\tvalid_0's rmse: 0.709116\n"
     ]
    },
    {
     "name": "stderr",
     "output_type": "stream",
     "text": [
      "\u001b[32m[I 2021-08-29 23:27:57,220]\u001b[0m Trial 14 finished with value: 0.7090085856598115 and parameters: {'reg_lambda': 26.06179765548124, 'reg_alpha': 17.00866242579231, 'subsample': 0.24201227370227982, 'colsample_bytree': 0.2541092788475389, 'learning_rate': 0.23245738815012248, 'min_child_samples': 107, 'num_leaves': 92, 'max_depth': 2, 'max_bin': 1196, 'cat_smooth': 80, 'cat_l2': 3.531288992424389}. Best is trial 3 with value: 0.7088634276528123.\u001b[0m\n"
     ]
    },
    {
     "name": "stdout",
     "output_type": "stream",
     "text": [
      "Training until validation scores don't improve for 200 rounds\n",
      "[1000]\tvalid_0's rmse: 0.710701\n",
      "[2000]\tvalid_0's rmse: 0.709297\n",
      "[3000]\tvalid_0's rmse: 0.709043\n",
      "Early stopping, best iteration is:\n",
      "[2847]\tvalid_0's rmse: 0.709027\n",
      "Training until validation scores don't improve for 200 rounds\n",
      "[1000]\tvalid_0's rmse: 0.710723\n",
      "[2000]\tvalid_0's rmse: 0.709404\n",
      "[3000]\tvalid_0's rmse: 0.709204\n",
      "Early stopping, best iteration is:\n",
      "[3217]\tvalid_0's rmse: 0.709165\n"
     ]
    },
    {
     "name": "stderr",
     "output_type": "stream",
     "text": [
      "\u001b[32m[I 2021-08-29 23:29:09,253]\u001b[0m Trial 15 finished with value: 0.7089493962219469 and parameters: {'reg_lambda': 23.895808878644438, 'reg_alpha': 17.840984015997837, 'subsample': 0.2563603410012719, 'colsample_bytree': 0.2681824641413678, 'learning_rate': 0.24479276331879418, 'min_child_samples': 108, 'num_leaves': 96, 'max_depth': 2, 'max_bin': 1191, 'cat_smooth': 78, 'cat_l2': 2.9324433382832913}. Best is trial 3 with value: 0.7088634276528123.\u001b[0m\n"
     ]
    },
    {
     "name": "stdout",
     "output_type": "stream",
     "text": [
      "Training until validation scores don't improve for 200 rounds\n",
      "[1000]\tvalid_0's rmse: 0.710631\n",
      "[2000]\tvalid_0's rmse: 0.709196\n",
      "[3000]\tvalid_0's rmse: 0.708961\n",
      "Early stopping, best iteration is:\n",
      "[3056]\tvalid_0's rmse: 0.708951\n",
      "Training until validation scores don't improve for 200 rounds\n",
      "[1000]\tvalid_0's rmse: 0.710704\n",
      "[2000]\tvalid_0's rmse: 0.709333\n",
      "Early stopping, best iteration is:\n",
      "[2731]\tvalid_0's rmse: 0.709201\n"
     ]
    },
    {
     "name": "stderr",
     "output_type": "stream",
     "text": [
      "\u001b[32m[I 2021-08-29 23:30:21,169]\u001b[0m Trial 16 finished with value: 0.7089268786818612 and parameters: {'reg_lambda': 27.127295747421954, 'reg_alpha': 17.43287323651181, 'subsample': 0.2823880324575902, 'colsample_bytree': 0.27943825493411656, 'learning_rate': 0.24943417795686126, 'min_child_samples': 106, 'num_leaves': 93, 'max_depth': 2, 'max_bin': 1172, 'cat_smooth': 80, 'cat_l2': 4.873293626681055}. Best is trial 3 with value: 0.7088634276528123.\u001b[0m\n"
     ]
    },
    {
     "name": "stdout",
     "output_type": "stream",
     "text": [
      "Training until validation scores don't improve for 200 rounds\n",
      "[1000]\tvalid_0's rmse: 0.710802\n",
      "[2000]\tvalid_0's rmse: 0.709281\n",
      "[3000]\tvalid_0's rmse: 0.70908\n",
      "Early stopping, best iteration is:\n",
      "[3735]\tvalid_0's rmse: 0.708984\n",
      "Training until validation scores don't improve for 200 rounds\n",
      "[1000]\tvalid_0's rmse: 0.710749\n",
      "[2000]\tvalid_0's rmse: 0.709255\n",
      "Early stopping, best iteration is:\n",
      "[2734]\tvalid_0's rmse: 0.709034\n"
     ]
    },
    {
     "name": "stderr",
     "output_type": "stream",
     "text": [
      "\u001b[32m[I 2021-08-29 23:31:36,741]\u001b[0m Trial 17 finished with value: 0.708826260098729 and parameters: {'reg_lambda': 24.984742572351553, 'reg_alpha': 17.238314749729266, 'subsample': 0.27231281807556784, 'colsample_bytree': 0.25249704379805205, 'learning_rate': 0.24495104991851, 'min_child_samples': 107, 'num_leaves': 100, 'max_depth': 2, 'max_bin': 1175, 'cat_smooth': 82, 'cat_l2': 3.797122304934783}. Best is trial 17 with value: 0.708826260098729.\u001b[0m\n"
     ]
    },
    {
     "name": "stdout",
     "output_type": "stream",
     "text": [
      "Training until validation scores don't improve for 200 rounds\n",
      "[1000]\tvalid_0's rmse: 0.710894\n",
      "[2000]\tvalid_0's rmse: 0.709248\n",
      "Early stopping, best iteration is:\n",
      "[2707]\tvalid_0's rmse: 0.709066\n",
      "Training until validation scores don't improve for 200 rounds\n",
      "[1000]\tvalid_0's rmse: 0.710848\n",
      "[2000]\tvalid_0's rmse: 0.709399\n",
      "[3000]\tvalid_0's rmse: 0.709058\n",
      "Early stopping, best iteration is:\n",
      "[3387]\tvalid_0's rmse: 0.708999\n"
     ]
    },
    {
     "name": "stderr",
     "output_type": "stream",
     "text": [
      "\u001b[32m[I 2021-08-29 23:32:50,162]\u001b[0m Trial 18 finished with value: 0.7088555310896881 and parameters: {'reg_lambda': 25.19570054975197, 'reg_alpha': 17.79050553143354, 'subsample': 0.2744445248833738, 'colsample_bytree': 0.250405196687137, 'learning_rate': 0.24286550517926792, 'min_child_samples': 109, 'num_leaves': 99, 'max_depth': 2, 'max_bin': 1175, 'cat_smooth': 82, 'cat_l2': 4.222309564793502}. Best is trial 17 with value: 0.708826260098729.\u001b[0m\n"
     ]
    },
    {
     "name": "stdout",
     "output_type": "stream",
     "text": [
      "Training until validation scores don't improve for 200 rounds\n",
      "[1000]\tvalid_0's rmse: 0.710711\n",
      "[2000]\tvalid_0's rmse: 0.709345\n",
      "Early stopping, best iteration is:\n",
      "[2663]\tvalid_0's rmse: 0.709169\n",
      "Training until validation scores don't improve for 200 rounds\n",
      "[1000]\tvalid_0's rmse: 0.710871\n",
      "[2000]\tvalid_0's rmse: 0.709414\n",
      "Early stopping, best iteration is:\n",
      "[2671]\tvalid_0's rmse: 0.709227\n"
     ]
    },
    {
     "name": "stderr",
     "output_type": "stream",
     "text": [
      "\u001b[32m[I 2021-08-29 23:33:53,885]\u001b[0m Trial 19 finished with value: 0.70905776645786 and parameters: {'reg_lambda': 25.170515756341217, 'reg_alpha': 18.091590221971437, 'subsample': 0.2764624965706549, 'colsample_bytree': 0.2585057084554969, 'learning_rate': 0.23468991896013347, 'min_child_samples': 110, 'num_leaves': 100, 'max_depth': 2, 'max_bin': 1164, 'cat_smooth': 84, 'cat_l2': 4.630061825741206}. Best is trial 17 with value: 0.708826260098729.\u001b[0m\n"
     ]
    },
    {
     "name": "stdout",
     "output_type": "stream",
     "text": [
      "Training until validation scores don't improve for 200 rounds\n",
      "[1000]\tvalid_0's rmse: 0.710787\n",
      "[2000]\tvalid_0's rmse: 0.709197\n",
      "[3000]\tvalid_0's rmse: 0.708988\n",
      "Early stopping, best iteration is:\n",
      "[3111]\tvalid_0's rmse: 0.70897\n",
      "Training until validation scores don't improve for 200 rounds\n",
      "[1000]\tvalid_0's rmse: 0.710756\n",
      "[2000]\tvalid_0's rmse: 0.709358\n",
      "[3000]\tvalid_0's rmse: 0.709175\n",
      "Early stopping, best iteration is:\n",
      "[3327]\tvalid_0's rmse: 0.709109\n"
     ]
    },
    {
     "name": "stderr",
     "output_type": "stream",
     "text": [
      "\u001b[32m[I 2021-08-29 23:35:09,622]\u001b[0m Trial 20 finished with value: 0.7088677316236124 and parameters: {'reg_lambda': 24.61922679153974, 'reg_alpha': 18.61594662260193, 'subsample': 0.27760700508305575, 'colsample_bytree': 0.25031623020811566, 'learning_rate': 0.2432468857938558, 'min_child_samples': 109, 'num_leaves': 99, 'max_depth': 2, 'max_bin': 1155, 'cat_smooth': 82, 'cat_l2': 4.077733159618642}. Best is trial 17 with value: 0.708826260098729.\u001b[0m\n"
     ]
    },
    {
     "name": "stdout",
     "output_type": "stream",
     "text": [
      "Training until validation scores don't improve for 200 rounds\n",
      "[1000]\tvalid_0's rmse: 0.710898\n",
      "[2000]\tvalid_0's rmse: 0.709261\n",
      "[3000]\tvalid_0's rmse: 0.708969\n",
      "Early stopping, best iteration is:\n",
      "[3036]\tvalid_0's rmse: 0.708947\n",
      "Training until validation scores don't improve for 200 rounds\n",
      "[1000]\tvalid_0's rmse: 0.710843\n",
      "[2000]\tvalid_0's rmse: 0.709387\n",
      "[3000]\tvalid_0's rmse: 0.709156\n",
      "Early stopping, best iteration is:\n",
      "[3058]\tvalid_0's rmse: 0.709105\n"
     ]
    },
    {
     "name": "stderr",
     "output_type": "stream",
     "text": [
      "\u001b[32m[I 2021-08-29 23:36:20,928]\u001b[0m Trial 21 finished with value: 0.708859367923011 and parameters: {'reg_lambda': 25.45286795305667, 'reg_alpha': 17.786475379070804, 'subsample': 0.2727394689011271, 'colsample_bytree': 0.2520527652006119, 'learning_rate': 0.24189703380913885, 'min_child_samples': 108, 'num_leaves': 100, 'max_depth': 2, 'max_bin': 1172, 'cat_smooth': 82, 'cat_l2': 3.6736800627864166}. Best is trial 17 with value: 0.708826260098729.\u001b[0m\n"
     ]
    },
    {
     "name": "stdout",
     "output_type": "stream",
     "text": [
      "Training until validation scores don't improve for 200 rounds\n",
      "[1000]\tvalid_0's rmse: 0.71086\n",
      "[2000]\tvalid_0's rmse: 0.709314\n",
      "[3000]\tvalid_0's rmse: 0.709063\n",
      "Early stopping, best iteration is:\n",
      "[3023]\tvalid_0's rmse: 0.709055\n",
      "Training until validation scores don't improve for 200 rounds\n",
      "[1000]\tvalid_0's rmse: 0.710927\n",
      "[2000]\tvalid_0's rmse: 0.709404\n",
      "[3000]\tvalid_0's rmse: 0.709208\n",
      "Early stopping, best iteration is:\n",
      "[2961]\tvalid_0's rmse: 0.709198\n"
     ]
    },
    {
     "name": "stderr",
     "output_type": "stream",
     "text": [
      "\u001b[32m[I 2021-08-29 23:37:31,497]\u001b[0m Trial 22 finished with value: 0.7089567838213009 and parameters: {'reg_lambda': 25.320778805552063, 'reg_alpha': 17.817310264266386, 'subsample': 0.27270445286859435, 'colsample_bytree': 0.2522292212143319, 'learning_rate': 0.24705741834640357, 'min_child_samples': 108, 'num_leaves': 100, 'max_depth': 2, 'max_bin': 1170, 'cat_smooth': 82, 'cat_l2': 3.7376400798683616}. Best is trial 17 with value: 0.708826260098729.\u001b[0m\n"
     ]
    },
    {
     "name": "stdout",
     "output_type": "stream",
     "text": [
      "Training until validation scores don't improve for 200 rounds\n",
      "[1000]\tvalid_0's rmse: 0.710626\n",
      "[2000]\tvalid_0's rmse: 0.709316\n",
      "Early stopping, best iteration is:\n",
      "[2589]\tvalid_0's rmse: 0.709124\n",
      "Training until validation scores don't improve for 200 rounds\n",
      "[1000]\tvalid_0's rmse: 0.710742\n",
      "[2000]\tvalid_0's rmse: 0.709369\n",
      "[3000]\tvalid_0's rmse: 0.70918\n",
      "Early stopping, best iteration is:\n",
      "[3233]\tvalid_0's rmse: 0.709139\n"
     ]
    },
    {
     "name": "stderr",
     "output_type": "stream",
     "text": [
      "\u001b[32m[I 2021-08-29 23:38:37,225]\u001b[0m Trial 23 finished with value: 0.7089780707775998 and parameters: {'reg_lambda': 24.203251463786344, 'reg_alpha': 17.23935267260174, 'subsample': 0.2826288044155043, 'colsample_bytree': 0.25795125885416975, 'learning_rate': 0.24261211455327675, 'min_child_samples': 109, 'num_leaves': 98, 'max_depth': 2, 'max_bin': 1177, 'cat_smooth': 83, 'cat_l2': 4.484256168309575}. Best is trial 17 with value: 0.708826260098729.\u001b[0m\n"
     ]
    },
    {
     "name": "stdout",
     "output_type": "stream",
     "text": [
      "Training until validation scores don't improve for 200 rounds\n",
      "[1000]\tvalid_0's rmse: 0.710994\n",
      "[2000]\tvalid_0's rmse: 0.709467\n",
      "[3000]\tvalid_0's rmse: 0.709223\n",
      "Early stopping, best iteration is:\n",
      "[3101]\tvalid_0's rmse: 0.709205\n",
      "Training until validation scores don't improve for 200 rounds\n",
      "[1000]\tvalid_0's rmse: 0.710984\n",
      "[2000]\tvalid_0's rmse: 0.709499\n",
      "[3000]\tvalid_0's rmse: 0.709285\n",
      "Early stopping, best iteration is:\n",
      "[3043]\tvalid_0's rmse: 0.709263\n"
     ]
    },
    {
     "name": "stderr",
     "output_type": "stream",
     "text": [
      "\u001b[32m[I 2021-08-29 23:39:42,952]\u001b[0m Trial 24 finished with value: 0.7090686846797555 and parameters: {'reg_lambda': 23.434615248536158, 'reg_alpha': 18.125727515919237, 'subsample': 0.2642594107491947, 'colsample_bytree': 0.2503015898256268, 'learning_rate': 0.23702916860114442, 'min_child_samples': 108, 'num_leaves': 100, 'max_depth': 2, 'max_bin': 1167, 'cat_smooth': 82, 'cat_l2': 5.049585258280801}. Best is trial 17 with value: 0.708826260098729.\u001b[0m\n"
     ]
    },
    {
     "name": "stdout",
     "output_type": "stream",
     "text": [
      "Training until validation scores don't improve for 200 rounds\n",
      "[1000]\tvalid_0's rmse: 0.710772\n",
      "[2000]\tvalid_0's rmse: 0.709146\n",
      "[3000]\tvalid_0's rmse: 0.708907\n",
      "Early stopping, best iteration is:\n",
      "[3108]\tvalid_0's rmse: 0.70886\n",
      "Training until validation scores don't improve for 200 rounds\n",
      "[1000]\tvalid_0's rmse: 0.710863\n",
      "[2000]\tvalid_0's rmse: 0.709325\n",
      "[3000]\tvalid_0's rmse: 0.709066\n",
      "Early stopping, best iteration is:\n",
      "[3512]\tvalid_0's rmse: 0.708991\n"
     ]
    },
    {
     "name": "stderr",
     "output_type": "stream",
     "text": [
      "\u001b[32m[I 2021-08-29 23:40:53,910]\u001b[0m Trial 25 finished with value: 0.7087611371131594 and parameters: {'reg_lambda': 25.58131029123097, 'reg_alpha': 17.731297121842683, 'subsample': 0.27276100882279997, 'colsample_bytree': 0.25277319511583163, 'learning_rate': 0.2347561485788669, 'min_child_samples': 109, 'num_leaves': 98, 'max_depth': 2, 'max_bin': 1172, 'cat_smooth': 84, 'cat_l2': 4.034749139061899}. Best is trial 25 with value: 0.7087611371131594.\u001b[0m\n"
     ]
    },
    {
     "name": "stdout",
     "output_type": "stream",
     "text": [
      "Training until validation scores don't improve for 200 rounds\n",
      "[1000]\tvalid_0's rmse: 0.710799\n",
      "[2000]\tvalid_0's rmse: 0.709318\n",
      "[3000]\tvalid_0's rmse: 0.709066\n",
      "Early stopping, best iteration is:\n",
      "[3241]\tvalid_0's rmse: 0.709033\n",
      "Training until validation scores don't improve for 200 rounds\n",
      "[1000]\tvalid_0's rmse: 0.710962\n",
      "[2000]\tvalid_0's rmse: 0.709358\n",
      "Early stopping, best iteration is:\n",
      "[2466]\tvalid_0's rmse: 0.70919\n"
     ]
    },
    {
     "name": "stderr",
     "output_type": "stream",
     "text": [
      "\u001b[32m[I 2021-08-29 23:41:55,246]\u001b[0m Trial 26 finished with value: 0.7089644213085298 and parameters: {'reg_lambda': 24.80945696631139, 'reg_alpha': 17.26313253271195, 'subsample': 0.27916528592532386, 'colsample_bytree': 0.25518348814901454, 'learning_rate': 0.22743610554973684, 'min_child_samples': 111, 'num_leaves': 98, 'max_depth': 2, 'max_bin': 1179, 'cat_smooth': 84, 'cat_l2': 4.042733652119477}. Best is trial 25 with value: 0.7087611371131594.\u001b[0m\n"
     ]
    },
    {
     "name": "stdout",
     "output_type": "stream",
     "text": [
      "Training until validation scores don't improve for 200 rounds\n",
      "[1000]\tvalid_0's rmse: 0.710784\n",
      "[2000]\tvalid_0's rmse: 0.709439\n",
      "[3000]\tvalid_0's rmse: 0.709187\n",
      "Early stopping, best iteration is:\n",
      "[3062]\tvalid_0's rmse: 0.709167\n",
      "Training until validation scores don't improve for 200 rounds\n",
      "[1000]\tvalid_0's rmse: 0.710811\n",
      "[2000]\tvalid_0's rmse: 0.709327\n",
      "Early stopping, best iteration is:\n",
      "[2799]\tvalid_0's rmse: 0.709103\n"
     ]
    },
    {
     "name": "stderr",
     "output_type": "stream",
     "text": [
      "\u001b[32m[I 2021-08-29 23:42:58,976]\u001b[0m Trial 27 finished with value: 0.7089901509294283 and parameters: {'reg_lambda': 25.764790533150926, 'reg_alpha': 17.67467465110331, 'subsample': 0.27067863479654863, 'colsample_bytree': 0.26784333508014385, 'learning_rate': 0.23549713476026282, 'min_child_samples': 110, 'num_leaves': 98, 'max_depth': 2, 'max_bin': 1162, 'cat_smooth': 84, 'cat_l2': 4.326086026463653}. Best is trial 25 with value: 0.7087611371131594.\u001b[0m\n"
     ]
    },
    {
     "name": "stdout",
     "output_type": "stream",
     "text": [
      "Training until validation scores don't improve for 200 rounds\n",
      "[1000]\tvalid_0's rmse: 0.710761\n",
      "[2000]\tvalid_0's rmse: 0.709212\n",
      "Early stopping, best iteration is:\n",
      "[2703]\tvalid_0's rmse: 0.708954\n",
      "Training until validation scores don't improve for 200 rounds\n",
      "[1000]\tvalid_0's rmse: 0.71098\n",
      "[2000]\tvalid_0's rmse: 0.709281\n",
      "[3000]\tvalid_0's rmse: 0.708982\n",
      "Early stopping, best iteration is:\n",
      "[3022]\tvalid_0's rmse: 0.708978\n"
     ]
    },
    {
     "name": "stderr",
     "output_type": "stream",
     "text": [
      "\u001b[32m[I 2021-08-29 23:44:02,360]\u001b[0m Trial 28 finished with value: 0.7088301711365852 and parameters: {'reg_lambda': 26.583691957353626, 'reg_alpha': 18.04001149977492, 'subsample': 0.26246608418428036, 'colsample_bytree': 0.25851307781428995, 'learning_rate': 0.22974738457397567, 'min_child_samples': 109, 'num_leaves': 99, 'max_depth': 2, 'max_bin': 1174, 'cat_smooth': 83, 'cat_l2': 5.368315395997765}. Best is trial 25 with value: 0.7087611371131594.\u001b[0m\n"
     ]
    },
    {
     "name": "stdout",
     "output_type": "stream",
     "text": [
      "Training until validation scores don't improve for 200 rounds\n",
      "[1000]\tvalid_0's rmse: 0.710884\n",
      "[2000]\tvalid_0's rmse: 0.709281\n",
      "[3000]\tvalid_0's rmse: 0.709028\n",
      "Early stopping, best iteration is:\n",
      "[3516]\tvalid_0's rmse: 0.708977\n",
      "Training until validation scores don't improve for 200 rounds\n",
      "[1000]\tvalid_0's rmse: 0.711015\n",
      "[2000]\tvalid_0's rmse: 0.709438\n",
      "[3000]\tvalid_0's rmse: 0.709168\n",
      "Early stopping, best iteration is:\n",
      "[3181]\tvalid_0's rmse: 0.709155\n"
     ]
    },
    {
     "name": "stderr",
     "output_type": "stream",
     "text": [
      "\u001b[32m[I 2021-08-29 23:45:15,293]\u001b[0m Trial 29 finished with value: 0.7089266036447274 and parameters: {'reg_lambda': 26.379595954595057, 'reg_alpha': 19.082812922511707, 'subsample': 0.2608117444177106, 'colsample_bytree': 0.25931013141534454, 'learning_rate': 0.22848788180555987, 'min_child_samples': 109, 'num_leaves': 97, 'max_depth': 2, 'max_bin': 1187, 'cat_smooth': 83, 'cat_l2': 6.425095070474276}. Best is trial 25 with value: 0.7087611371131594.\u001b[0m\n"
     ]
    },
    {
     "name": "stdout",
     "output_type": "stream",
     "text": [
      "Number of finished trials: 30\n",
      "Best trial: {'reg_lambda': 25.58131029123097, 'reg_alpha': 17.731297121842683, 'subsample': 0.27276100882279997, 'colsample_bytree': 0.25277319511583163, 'learning_rate': 0.2347561485788669, 'min_child_samples': 109, 'num_leaves': 98, 'max_depth': 2, 'max_bin': 1172, 'cat_smooth': 84, 'cat_l2': 4.034749139061899}\n"
     ]
    }
   ],
   "source": [
    "study = optuna.create_study(direction='minimize')\n",
    "study.optimize(objective,n_trials= 30)\n",
    "print('Number of finished trials:', len(study.trials))\n",
    "print('Best trial:', study.best_trial.params)"
   ]
  },
  {
   "cell_type": "code",
   "execution_count": 15,
   "id": "8d34a577",
   "metadata": {
    "execution": {
     "iopub.execute_input": "2021-08-29T23:45:15.469030Z",
     "iopub.status.busy": "2021-08-29T23:45:15.468120Z",
     "iopub.status.idle": "2021-08-29T23:45:15.474461Z",
     "shell.execute_reply": "2021-08-29T23:45:15.474932Z"
    },
    "papermill": {
     "duration": 0.089366,
     "end_time": "2021-08-29T23:45:15.475114",
     "exception": false,
     "start_time": "2021-08-29T23:45:15.385748",
     "status": "completed"
    },
    "tags": []
   },
   "outputs": [
    {
     "data": {
      "text/plain": [
       "{'reg_lambda': 25.58131029123097,\n",
       " 'reg_alpha': 17.731297121842683,\n",
       " 'subsample': 0.27276100882279997,\n",
       " 'colsample_bytree': 0.25277319511583163,\n",
       " 'learning_rate': 0.2347561485788669,\n",
       " 'min_child_samples': 109,\n",
       " 'num_leaves': 98,\n",
       " 'max_depth': 2,\n",
       " 'max_bin': 1172,\n",
       " 'cat_smooth': 84,\n",
       " 'cat_l2': 4.034749139061899}"
      ]
     },
     "execution_count": 15,
     "metadata": {},
     "output_type": "execute_result"
    }
   ],
   "source": [
    "study.best_params"
   ]
  },
  {
   "cell_type": "markdown",
   "id": "7f023727",
   "metadata": {
    "papermill": {
     "duration": 0.082561,
     "end_time": "2021-08-29T23:45:15.637147",
     "exception": false,
     "start_time": "2021-08-29T23:45:15.554586",
     "status": "completed"
    },
    "tags": []
   },
   "source": [
    "# Log\n",
    "\n",
    "====== Ordinal encoding =========\n",
    "\n",
    "0.7123367407151787 no noise ver1 final\n",
    "\n",
    "0.7158040228380602 row-wise noise ver2\n",
    "\n",
    "0.7157995952863279 random noise ver3\n",
    "\n",
    "====== One-hot encoding =========\n",
    "\n",
    "0.7203460513257339 no noise ver4\n",
    "\n",
    "0.7090027494545778 no noise ver9\n",
    "\n",
    "0.7089277083045002 no noise ver10 (narrow space)\n",
    "\n",
    "0.7088992777144029 no noise ver11 (narrow space)\n",
    "\n",
    "0.7088362570431959 no noise ver12 (narrow space)"
   ]
  }
 ],
 "metadata": {
  "kernelspec": {
   "display_name": "Python 3",
   "language": "python",
   "name": "python3"
  },
  "language_info": {
   "codemirror_mode": {
    "name": "ipython",
    "version": 3
   },
   "file_extension": ".py",
   "mimetype": "text/x-python",
   "name": "python",
   "nbconvert_exporter": "python",
   "pygments_lexer": "ipython3",
   "version": "3.7.10"
  },
  "papermill": {
   "default_parameters": {},
   "duration": 1938.370369,
   "end_time": "2021-08-29T23:45:17.306756",
   "environment_variables": {},
   "exception": null,
   "input_path": "__notebook__.ipynb",
   "output_path": "__notebook__.ipynb",
   "parameters": {},
   "start_time": "2021-08-29T23:12:58.936387",
   "version": "2.3.3"
  }
 },
 "nbformat": 4,
 "nbformat_minor": 5
}
