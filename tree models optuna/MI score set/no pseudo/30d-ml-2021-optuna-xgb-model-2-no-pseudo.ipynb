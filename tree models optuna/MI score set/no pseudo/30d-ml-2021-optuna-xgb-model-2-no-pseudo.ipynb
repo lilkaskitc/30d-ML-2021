{
 "cells": [
  {
   "cell_type": "code",
   "execution_count": 1,
   "id": "9f650284",
   "metadata": {
    "_cell_guid": "b1076dfc-b9ad-4769-8c92-a6c4dae69d19",
    "_uuid": "8f2839f25d086af736a60e9eeb907d3b93b6e0e5",
    "execution": {
     "iopub.execute_input": "2021-08-26T08:11:02.254867Z",
     "iopub.status.busy": "2021-08-26T08:11:02.253692Z",
     "iopub.status.idle": "2021-08-26T08:11:03.578049Z",
     "shell.execute_reply": "2021-08-26T08:11:03.577255Z",
     "shell.execute_reply.started": "2021-08-25T14:50:21.072225Z"
    },
    "papermill": {
     "duration": 1.344267,
     "end_time": "2021-08-26T08:11:03.578223",
     "exception": false,
     "start_time": "2021-08-26T08:11:02.233956",
     "status": "completed"
    },
    "tags": []
   },
   "outputs": [],
   "source": [
    "# Familiar imports\n",
    "import numpy as np\n",
    "import pandas as pd\n",
    "import random\n",
    "import os\n",
    "import time\n",
    "from pathlib import Path\n",
    "\n",
    "from sklearn.preprocessing import StandardScaler\n",
    "from sklearn.model_selection import KFold, train_test_split\n",
    "from sklearn.metrics import mean_squared_error\n",
    "from sklearn.preprocessing import OrdinalEncoder, OneHotEncoder\n",
    "\n",
    "#import lightgbm as lgb\n",
    "import xgboost as xgb\n",
    "#import catboost as ctb\n",
    "\n",
    "import warnings\n",
    "warnings.simplefilter('ignore')"
   ]
  },
  {
   "cell_type": "markdown",
   "id": "228c3f04",
   "metadata": {
    "papermill": {
     "duration": 0.014801,
     "end_time": "2021-08-26T08:11:03.609122",
     "exception": false,
     "start_time": "2021-08-26T08:11:03.594321",
     "status": "completed"
    },
    "tags": []
   },
   "source": [
    "# Parameters"
   ]
  },
  {
   "cell_type": "code",
   "execution_count": 2,
   "id": "d74f4ce1",
   "metadata": {
    "execution": {
     "iopub.execute_input": "2021-08-26T08:11:03.642863Z",
     "iopub.status.busy": "2021-08-26T08:11:03.642213Z",
     "iopub.status.idle": "2021-08-26T08:11:03.647118Z",
     "shell.execute_reply": "2021-08-26T08:11:03.647594Z",
     "shell.execute_reply.started": "2021-08-25T14:50:23.451782Z"
    },
    "papermill": {
     "duration": 0.023534,
     "end_time": "2021-08-26T08:11:03.647812",
     "exception": false,
     "start_time": "2021-08-26T08:11:03.624278",
     "status": "completed"
    },
    "tags": []
   },
   "outputs": [],
   "source": [
    "target = 'target'\n",
    "\n",
    "DEBUG = False\n",
    "\n",
    "if DEBUG:\n",
    "    N_ESTIMATORS = 1\n",
    "    N_SPLITS = 2\n",
    "    SEED = 17\n",
    "    CVSEED = 17\n",
    "    EARLY_STOPPING_ROUNDS = 1\n",
    "    VERBOSE = 100\n",
    "    #N_ITERS = 2\n",
    "else:\n",
    "    N_SPLITS = 10\n",
    "    N_ESTIMATORS = 20000\n",
    "    EARLY_STOPPING_ROUNDS = 200\n",
    "    VERBOSE = 1000\n",
    "    SEED = 17\n",
    "    CVSEED = 17\n",
    "    #N_ITERS = 10"
   ]
  },
  {
   "cell_type": "code",
   "execution_count": 3,
   "id": "6c28f94a",
   "metadata": {
    "execution": {
     "iopub.execute_input": "2021-08-26T08:11:03.681033Z",
     "iopub.status.busy": "2021-08-26T08:11:03.680406Z",
     "iopub.status.idle": "2021-08-26T08:11:03.684434Z",
     "shell.execute_reply": "2021-08-26T08:11:03.684929Z",
     "shell.execute_reply.started": "2021-08-25T14:50:23.461811Z"
    },
    "papermill": {
     "duration": 0.022199,
     "end_time": "2021-08-26T08:11:03.685093",
     "exception": false,
     "start_time": "2021-08-26T08:11:03.662894",
     "status": "completed"
    },
    "tags": []
   },
   "outputs": [],
   "source": [
    "def set_seed(seed=17):\n",
    "    random.seed(seed)\n",
    "    os.environ['PYTHONHASHSEED'] = str(seed)\n",
    "    np.random.seed(seed)\n",
    "    \n",
    "set_seed(SEED)"
   ]
  },
  {
   "cell_type": "markdown",
   "id": "b63888be",
   "metadata": {
    "papermill": {
     "duration": 0.014805,
     "end_time": "2021-08-26T08:11:03.714922",
     "exception": false,
     "start_time": "2021-08-26T08:11:03.700117",
     "status": "completed"
    },
    "tags": []
   },
   "source": [
    "# Load data"
   ]
  },
  {
   "cell_type": "code",
   "execution_count": 4,
   "id": "4c751c9d",
   "metadata": {
    "execution": {
     "iopub.execute_input": "2021-08-26T08:11:03.748545Z",
     "iopub.status.busy": "2021-08-26T08:11:03.747871Z",
     "iopub.status.idle": "2021-08-26T08:11:08.041307Z",
     "shell.execute_reply": "2021-08-26T08:11:08.041800Z",
     "shell.execute_reply.started": "2021-08-25T14:50:23.479237Z"
    },
    "papermill": {
     "duration": 4.311871,
     "end_time": "2021-08-26T08:11:08.041981",
     "exception": false,
     "start_time": "2021-08-26T08:11:03.730110",
     "status": "completed"
    },
    "tags": []
   },
   "outputs": [
    {
     "data": {
      "text/html": [
       "<div>\n",
       "<style scoped>\n",
       "    .dataframe tbody tr th:only-of-type {\n",
       "        vertical-align: middle;\n",
       "    }\n",
       "\n",
       "    .dataframe tbody tr th {\n",
       "        vertical-align: top;\n",
       "    }\n",
       "\n",
       "    .dataframe thead th {\n",
       "        text-align: right;\n",
       "    }\n",
       "</style>\n",
       "<table border=\"1\" class=\"dataframe\">\n",
       "  <thead>\n",
       "    <tr style=\"text-align: right;\">\n",
       "      <th></th>\n",
       "      <th>id</th>\n",
       "      <th>cat0</th>\n",
       "      <th>cat1</th>\n",
       "      <th>cat2</th>\n",
       "      <th>cat3</th>\n",
       "      <th>cat4</th>\n",
       "      <th>cat5</th>\n",
       "      <th>cat6</th>\n",
       "      <th>cat7</th>\n",
       "      <th>cat8</th>\n",
       "      <th>...</th>\n",
       "      <th>cont5</th>\n",
       "      <th>cont6</th>\n",
       "      <th>cont7</th>\n",
       "      <th>cont8</th>\n",
       "      <th>cont9</th>\n",
       "      <th>cont10</th>\n",
       "      <th>cont11</th>\n",
       "      <th>cont12</th>\n",
       "      <th>cont13</th>\n",
       "      <th>target</th>\n",
       "    </tr>\n",
       "  </thead>\n",
       "  <tbody>\n",
       "    <tr>\n",
       "      <th>0</th>\n",
       "      <td>1</td>\n",
       "      <td>B</td>\n",
       "      <td>B</td>\n",
       "      <td>B</td>\n",
       "      <td>C</td>\n",
       "      <td>B</td>\n",
       "      <td>B</td>\n",
       "      <td>A</td>\n",
       "      <td>E</td>\n",
       "      <td>C</td>\n",
       "      <td>...</td>\n",
       "      <td>0.400361</td>\n",
       "      <td>0.160266</td>\n",
       "      <td>0.310921</td>\n",
       "      <td>0.389470</td>\n",
       "      <td>0.267559</td>\n",
       "      <td>0.237281</td>\n",
       "      <td>0.377873</td>\n",
       "      <td>0.322401</td>\n",
       "      <td>0.869850</td>\n",
       "      <td>8.113634</td>\n",
       "    </tr>\n",
       "    <tr>\n",
       "      <th>1</th>\n",
       "      <td>2</td>\n",
       "      <td>B</td>\n",
       "      <td>B</td>\n",
       "      <td>A</td>\n",
       "      <td>A</td>\n",
       "      <td>B</td>\n",
       "      <td>D</td>\n",
       "      <td>A</td>\n",
       "      <td>F</td>\n",
       "      <td>A</td>\n",
       "      <td>...</td>\n",
       "      <td>0.533087</td>\n",
       "      <td>0.558922</td>\n",
       "      <td>0.516294</td>\n",
       "      <td>0.594928</td>\n",
       "      <td>0.341439</td>\n",
       "      <td>0.906013</td>\n",
       "      <td>0.921701</td>\n",
       "      <td>0.261975</td>\n",
       "      <td>0.465083</td>\n",
       "      <td>8.481233</td>\n",
       "    </tr>\n",
       "    <tr>\n",
       "      <th>2</th>\n",
       "      <td>3</td>\n",
       "      <td>A</td>\n",
       "      <td>A</td>\n",
       "      <td>A</td>\n",
       "      <td>C</td>\n",
       "      <td>B</td>\n",
       "      <td>D</td>\n",
       "      <td>A</td>\n",
       "      <td>D</td>\n",
       "      <td>A</td>\n",
       "      <td>...</td>\n",
       "      <td>0.650609</td>\n",
       "      <td>0.375348</td>\n",
       "      <td>0.902567</td>\n",
       "      <td>0.555205</td>\n",
       "      <td>0.843531</td>\n",
       "      <td>0.748809</td>\n",
       "      <td>0.620126</td>\n",
       "      <td>0.541474</td>\n",
       "      <td>0.763846</td>\n",
       "      <td>8.364351</td>\n",
       "    </tr>\n",
       "    <tr>\n",
       "      <th>3</th>\n",
       "      <td>4</td>\n",
       "      <td>B</td>\n",
       "      <td>B</td>\n",
       "      <td>A</td>\n",
       "      <td>C</td>\n",
       "      <td>B</td>\n",
       "      <td>D</td>\n",
       "      <td>A</td>\n",
       "      <td>E</td>\n",
       "      <td>C</td>\n",
       "      <td>...</td>\n",
       "      <td>0.668980</td>\n",
       "      <td>0.239061</td>\n",
       "      <td>0.732948</td>\n",
       "      <td>0.679618</td>\n",
       "      <td>0.574844</td>\n",
       "      <td>0.346010</td>\n",
       "      <td>0.714610</td>\n",
       "      <td>0.540150</td>\n",
       "      <td>0.280682</td>\n",
       "      <td>8.049253</td>\n",
       "    </tr>\n",
       "    <tr>\n",
       "      <th>4</th>\n",
       "      <td>6</td>\n",
       "      <td>A</td>\n",
       "      <td>A</td>\n",
       "      <td>A</td>\n",
       "      <td>C</td>\n",
       "      <td>B</td>\n",
       "      <td>D</td>\n",
       "      <td>A</td>\n",
       "      <td>E</td>\n",
       "      <td>A</td>\n",
       "      <td>...</td>\n",
       "      <td>0.686964</td>\n",
       "      <td>0.420667</td>\n",
       "      <td>0.648182</td>\n",
       "      <td>0.684501</td>\n",
       "      <td>0.956692</td>\n",
       "      <td>1.000773</td>\n",
       "      <td>0.776742</td>\n",
       "      <td>0.625849</td>\n",
       "      <td>0.250823</td>\n",
       "      <td>7.972260</td>\n",
       "    </tr>\n",
       "  </tbody>\n",
       "</table>\n",
       "<p>5 rows × 26 columns</p>\n",
       "</div>"
      ],
      "text/plain": [
       "   id cat0 cat1 cat2 cat3 cat4 cat5 cat6 cat7 cat8  ...     cont5     cont6  \\\n",
       "0   1    B    B    B    C    B    B    A    E    C  ...  0.400361  0.160266   \n",
       "1   2    B    B    A    A    B    D    A    F    A  ...  0.533087  0.558922   \n",
       "2   3    A    A    A    C    B    D    A    D    A  ...  0.650609  0.375348   \n",
       "3   4    B    B    A    C    B    D    A    E    C  ...  0.668980  0.239061   \n",
       "4   6    A    A    A    C    B    D    A    E    A  ...  0.686964  0.420667   \n",
       "\n",
       "      cont7     cont8     cont9    cont10    cont11    cont12    cont13  \\\n",
       "0  0.310921  0.389470  0.267559  0.237281  0.377873  0.322401  0.869850   \n",
       "1  0.516294  0.594928  0.341439  0.906013  0.921701  0.261975  0.465083   \n",
       "2  0.902567  0.555205  0.843531  0.748809  0.620126  0.541474  0.763846   \n",
       "3  0.732948  0.679618  0.574844  0.346010  0.714610  0.540150  0.280682   \n",
       "4  0.648182  0.684501  0.956692  1.000773  0.776742  0.625849  0.250823   \n",
       "\n",
       "     target  \n",
       "0  8.113634  \n",
       "1  8.481233  \n",
       "2  8.364351  \n",
       "3  8.049253  \n",
       "4  7.972260  \n",
       "\n",
       "[5 rows x 26 columns]"
      ]
     },
     "execution_count": 4,
     "metadata": {},
     "output_type": "execute_result"
    }
   ],
   "source": [
    "# Load the training data\n",
    "train = pd.read_csv(\"../input/30-days-of-ml/train.csv\")\n",
    "test = pd.read_csv(\"../input/30-days-of-ml/test.csv\")\n",
    "\n",
    "# Preview the data\n",
    "train.head()"
   ]
  },
  {
   "cell_type": "code",
   "execution_count": 5,
   "id": "6aee15a7",
   "metadata": {
    "execution": {
     "iopub.execute_input": "2021-08-26T08:11:08.135033Z",
     "iopub.status.busy": "2021-08-26T08:11:08.113525Z",
     "iopub.status.idle": "2021-08-26T08:11:08.297856Z",
     "shell.execute_reply": "2021-08-26T08:11:08.297258Z",
     "shell.execute_reply.started": "2021-08-25T14:50:28.162127Z"
    },
    "papermill": {
     "duration": 0.240316,
     "end_time": "2021-08-26T08:11:08.298023",
     "exception": false,
     "start_time": "2021-08-26T08:11:08.057707",
     "status": "completed"
    },
    "tags": []
   },
   "outputs": [
    {
     "data": {
      "text/html": [
       "<div>\n",
       "<style scoped>\n",
       "    .dataframe tbody tr th:only-of-type {\n",
       "        vertical-align: middle;\n",
       "    }\n",
       "\n",
       "    .dataframe tbody tr th {\n",
       "        vertical-align: top;\n",
       "    }\n",
       "\n",
       "    .dataframe thead th {\n",
       "        text-align: right;\n",
       "    }\n",
       "</style>\n",
       "<table border=\"1\" class=\"dataframe\">\n",
       "  <thead>\n",
       "    <tr style=\"text-align: right;\">\n",
       "      <th></th>\n",
       "      <th>id</th>\n",
       "      <th>cat0</th>\n",
       "      <th>cat1</th>\n",
       "      <th>cat5</th>\n",
       "      <th>cat7</th>\n",
       "      <th>cat8</th>\n",
       "      <th>cat9</th>\n",
       "      <th>cont0</th>\n",
       "      <th>cont1</th>\n",
       "      <th>cont2</th>\n",
       "      <th>...</th>\n",
       "      <th>cont5</th>\n",
       "      <th>cont6</th>\n",
       "      <th>cont7</th>\n",
       "      <th>cont8</th>\n",
       "      <th>cont9</th>\n",
       "      <th>cont10</th>\n",
       "      <th>cont11</th>\n",
       "      <th>cont12</th>\n",
       "      <th>cont13</th>\n",
       "      <th>target</th>\n",
       "    </tr>\n",
       "  </thead>\n",
       "  <tbody>\n",
       "    <tr>\n",
       "      <th>0</th>\n",
       "      <td>1</td>\n",
       "      <td>B</td>\n",
       "      <td>B</td>\n",
       "      <td>B</td>\n",
       "      <td>E</td>\n",
       "      <td>C</td>\n",
       "      <td>N</td>\n",
       "      <td>0.201470</td>\n",
       "      <td>-0.014822</td>\n",
       "      <td>0.669699</td>\n",
       "      <td>...</td>\n",
       "      <td>0.400361</td>\n",
       "      <td>0.160266</td>\n",
       "      <td>0.310921</td>\n",
       "      <td>0.389470</td>\n",
       "      <td>0.267559</td>\n",
       "      <td>0.237281</td>\n",
       "      <td>0.377873</td>\n",
       "      <td>0.322401</td>\n",
       "      <td>0.869850</td>\n",
       "      <td>8.113634</td>\n",
       "    </tr>\n",
       "    <tr>\n",
       "      <th>1</th>\n",
       "      <td>2</td>\n",
       "      <td>B</td>\n",
       "      <td>B</td>\n",
       "      <td>D</td>\n",
       "      <td>F</td>\n",
       "      <td>A</td>\n",
       "      <td>O</td>\n",
       "      <td>0.743068</td>\n",
       "      <td>0.367411</td>\n",
       "      <td>1.021605</td>\n",
       "      <td>...</td>\n",
       "      <td>0.533087</td>\n",
       "      <td>0.558922</td>\n",
       "      <td>0.516294</td>\n",
       "      <td>0.594928</td>\n",
       "      <td>0.341439</td>\n",
       "      <td>0.906013</td>\n",
       "      <td>0.921701</td>\n",
       "      <td>0.261975</td>\n",
       "      <td>0.465083</td>\n",
       "      <td>8.481233</td>\n",
       "    </tr>\n",
       "    <tr>\n",
       "      <th>2</th>\n",
       "      <td>3</td>\n",
       "      <td>A</td>\n",
       "      <td>A</td>\n",
       "      <td>D</td>\n",
       "      <td>D</td>\n",
       "      <td>A</td>\n",
       "      <td>F</td>\n",
       "      <td>0.742708</td>\n",
       "      <td>0.310383</td>\n",
       "      <td>-0.012673</td>\n",
       "      <td>...</td>\n",
       "      <td>0.650609</td>\n",
       "      <td>0.375348</td>\n",
       "      <td>0.902567</td>\n",
       "      <td>0.555205</td>\n",
       "      <td>0.843531</td>\n",
       "      <td>0.748809</td>\n",
       "      <td>0.620126</td>\n",
       "      <td>0.541474</td>\n",
       "      <td>0.763846</td>\n",
       "      <td>8.364351</td>\n",
       "    </tr>\n",
       "    <tr>\n",
       "      <th>3</th>\n",
       "      <td>4</td>\n",
       "      <td>B</td>\n",
       "      <td>B</td>\n",
       "      <td>D</td>\n",
       "      <td>E</td>\n",
       "      <td>C</td>\n",
       "      <td>K</td>\n",
       "      <td>0.429551</td>\n",
       "      <td>0.620998</td>\n",
       "      <td>0.577942</td>\n",
       "      <td>...</td>\n",
       "      <td>0.668980</td>\n",
       "      <td>0.239061</td>\n",
       "      <td>0.732948</td>\n",
       "      <td>0.679618</td>\n",
       "      <td>0.574844</td>\n",
       "      <td>0.346010</td>\n",
       "      <td>0.714610</td>\n",
       "      <td>0.540150</td>\n",
       "      <td>0.280682</td>\n",
       "      <td>8.049253</td>\n",
       "    </tr>\n",
       "    <tr>\n",
       "      <th>4</th>\n",
       "      <td>6</td>\n",
       "      <td>A</td>\n",
       "      <td>A</td>\n",
       "      <td>D</td>\n",
       "      <td>E</td>\n",
       "      <td>A</td>\n",
       "      <td>N</td>\n",
       "      <td>1.058291</td>\n",
       "      <td>0.367492</td>\n",
       "      <td>-0.052389</td>\n",
       "      <td>...</td>\n",
       "      <td>0.686964</td>\n",
       "      <td>0.420667</td>\n",
       "      <td>0.648182</td>\n",
       "      <td>0.684501</td>\n",
       "      <td>0.956692</td>\n",
       "      <td>1.000773</td>\n",
       "      <td>0.776742</td>\n",
       "      <td>0.625849</td>\n",
       "      <td>0.250823</td>\n",
       "      <td>7.972260</td>\n",
       "    </tr>\n",
       "  </tbody>\n",
       "</table>\n",
       "<p>5 rows × 22 columns</p>\n",
       "</div>"
      ],
      "text/plain": [
       "   id cat0 cat1 cat5 cat7 cat8 cat9     cont0     cont1     cont2  ...  \\\n",
       "0   1    B    B    B    E    C    N  0.201470 -0.014822  0.669699  ...   \n",
       "1   2    B    B    D    F    A    O  0.743068  0.367411  1.021605  ...   \n",
       "2   3    A    A    D    D    A    F  0.742708  0.310383 -0.012673  ...   \n",
       "3   4    B    B    D    E    C    K  0.429551  0.620998  0.577942  ...   \n",
       "4   6    A    A    D    E    A    N  1.058291  0.367492 -0.052389  ...   \n",
       "\n",
       "      cont5     cont6     cont7     cont8     cont9    cont10    cont11  \\\n",
       "0  0.400361  0.160266  0.310921  0.389470  0.267559  0.237281  0.377873   \n",
       "1  0.533087  0.558922  0.516294  0.594928  0.341439  0.906013  0.921701   \n",
       "2  0.650609  0.375348  0.902567  0.555205  0.843531  0.748809  0.620126   \n",
       "3  0.668980  0.239061  0.732948  0.679618  0.574844  0.346010  0.714610   \n",
       "4  0.686964  0.420667  0.648182  0.684501  0.956692  1.000773  0.776742   \n",
       "\n",
       "     cont12    cont13    target  \n",
       "0  0.322401  0.869850  8.113634  \n",
       "1  0.261975  0.465083  8.481233  \n",
       "2  0.541474  0.763846  8.364351  \n",
       "3  0.540150  0.280682  8.049253  \n",
       "4  0.625849  0.250823  7.972260  \n",
       "\n",
       "[5 rows x 22 columns]"
      ]
     },
     "execution_count": 5,
     "metadata": {},
     "output_type": "execute_result"
    }
   ],
   "source": [
    "# Low MI scores\n",
    "for pp in [\"cat2\",\"cat3\",\"cat4\",\"cat6\"]:\n",
    "    train.pop(pp)\n",
    "    test.pop(pp)\n",
    "train.head()"
   ]
  },
  {
   "cell_type": "code",
   "execution_count": 6,
   "id": "2efb353f",
   "metadata": {
    "execution": {
     "iopub.execute_input": "2021-08-26T08:11:08.336927Z",
     "iopub.status.busy": "2021-08-26T08:11:08.336172Z",
     "iopub.status.idle": "2021-08-26T08:11:08.384109Z",
     "shell.execute_reply": "2021-08-26T08:11:08.383551Z",
     "shell.execute_reply.started": "2021-08-25T14:50:28.334953Z"
    },
    "papermill": {
     "duration": 0.069457,
     "end_time": "2021-08-26T08:11:08.384251",
     "exception": false,
     "start_time": "2021-08-26T08:11:08.314794",
     "status": "completed"
    },
    "tags": []
   },
   "outputs": [
    {
     "data": {
      "text/html": [
       "<div>\n",
       "<style scoped>\n",
       "    .dataframe tbody tr th:only-of-type {\n",
       "        vertical-align: middle;\n",
       "    }\n",
       "\n",
       "    .dataframe tbody tr th {\n",
       "        vertical-align: top;\n",
       "    }\n",
       "\n",
       "    .dataframe thead th {\n",
       "        text-align: right;\n",
       "    }\n",
       "</style>\n",
       "<table border=\"1\" class=\"dataframe\">\n",
       "  <thead>\n",
       "    <tr style=\"text-align: right;\">\n",
       "      <th></th>\n",
       "      <th>cat0</th>\n",
       "      <th>cat1</th>\n",
       "      <th>cat5</th>\n",
       "      <th>cat7</th>\n",
       "      <th>cat8</th>\n",
       "      <th>cat9</th>\n",
       "      <th>cont0</th>\n",
       "      <th>cont1</th>\n",
       "      <th>cont2</th>\n",
       "      <th>cont3</th>\n",
       "      <th>cont4</th>\n",
       "      <th>cont5</th>\n",
       "      <th>cont6</th>\n",
       "      <th>cont7</th>\n",
       "      <th>cont8</th>\n",
       "      <th>cont9</th>\n",
       "      <th>cont10</th>\n",
       "      <th>cont11</th>\n",
       "      <th>cont12</th>\n",
       "      <th>cont13</th>\n",
       "    </tr>\n",
       "  </thead>\n",
       "  <tbody>\n",
       "    <tr>\n",
       "      <th>0</th>\n",
       "      <td>B</td>\n",
       "      <td>B</td>\n",
       "      <td>B</td>\n",
       "      <td>E</td>\n",
       "      <td>C</td>\n",
       "      <td>N</td>\n",
       "      <td>0.201470</td>\n",
       "      <td>-0.014822</td>\n",
       "      <td>0.669699</td>\n",
       "      <td>0.136278</td>\n",
       "      <td>0.610706</td>\n",
       "      <td>0.400361</td>\n",
       "      <td>0.160266</td>\n",
       "      <td>0.310921</td>\n",
       "      <td>0.389470</td>\n",
       "      <td>0.267559</td>\n",
       "      <td>0.237281</td>\n",
       "      <td>0.377873</td>\n",
       "      <td>0.322401</td>\n",
       "      <td>0.869850</td>\n",
       "    </tr>\n",
       "    <tr>\n",
       "      <th>1</th>\n",
       "      <td>B</td>\n",
       "      <td>B</td>\n",
       "      <td>D</td>\n",
       "      <td>F</td>\n",
       "      <td>A</td>\n",
       "      <td>O</td>\n",
       "      <td>0.743068</td>\n",
       "      <td>0.367411</td>\n",
       "      <td>1.021605</td>\n",
       "      <td>0.365798</td>\n",
       "      <td>0.276853</td>\n",
       "      <td>0.533087</td>\n",
       "      <td>0.558922</td>\n",
       "      <td>0.516294</td>\n",
       "      <td>0.594928</td>\n",
       "      <td>0.341439</td>\n",
       "      <td>0.906013</td>\n",
       "      <td>0.921701</td>\n",
       "      <td>0.261975</td>\n",
       "      <td>0.465083</td>\n",
       "    </tr>\n",
       "    <tr>\n",
       "      <th>2</th>\n",
       "      <td>A</td>\n",
       "      <td>A</td>\n",
       "      <td>D</td>\n",
       "      <td>D</td>\n",
       "      <td>A</td>\n",
       "      <td>F</td>\n",
       "      <td>0.742708</td>\n",
       "      <td>0.310383</td>\n",
       "      <td>-0.012673</td>\n",
       "      <td>0.576957</td>\n",
       "      <td>0.285074</td>\n",
       "      <td>0.650609</td>\n",
       "      <td>0.375348</td>\n",
       "      <td>0.902567</td>\n",
       "      <td>0.555205</td>\n",
       "      <td>0.843531</td>\n",
       "      <td>0.748809</td>\n",
       "      <td>0.620126</td>\n",
       "      <td>0.541474</td>\n",
       "      <td>0.763846</td>\n",
       "    </tr>\n",
       "    <tr>\n",
       "      <th>3</th>\n",
       "      <td>B</td>\n",
       "      <td>B</td>\n",
       "      <td>D</td>\n",
       "      <td>E</td>\n",
       "      <td>C</td>\n",
       "      <td>K</td>\n",
       "      <td>0.429551</td>\n",
       "      <td>0.620998</td>\n",
       "      <td>0.577942</td>\n",
       "      <td>0.280610</td>\n",
       "      <td>0.284667</td>\n",
       "      <td>0.668980</td>\n",
       "      <td>0.239061</td>\n",
       "      <td>0.732948</td>\n",
       "      <td>0.679618</td>\n",
       "      <td>0.574844</td>\n",
       "      <td>0.346010</td>\n",
       "      <td>0.714610</td>\n",
       "      <td>0.540150</td>\n",
       "      <td>0.280682</td>\n",
       "    </tr>\n",
       "    <tr>\n",
       "      <th>4</th>\n",
       "      <td>A</td>\n",
       "      <td>A</td>\n",
       "      <td>D</td>\n",
       "      <td>E</td>\n",
       "      <td>A</td>\n",
       "      <td>N</td>\n",
       "      <td>1.058291</td>\n",
       "      <td>0.367492</td>\n",
       "      <td>-0.052389</td>\n",
       "      <td>0.232407</td>\n",
       "      <td>0.287595</td>\n",
       "      <td>0.686964</td>\n",
       "      <td>0.420667</td>\n",
       "      <td>0.648182</td>\n",
       "      <td>0.684501</td>\n",
       "      <td>0.956692</td>\n",
       "      <td>1.000773</td>\n",
       "      <td>0.776742</td>\n",
       "      <td>0.625849</td>\n",
       "      <td>0.250823</td>\n",
       "    </tr>\n",
       "  </tbody>\n",
       "</table>\n",
       "</div>"
      ],
      "text/plain": [
       "  cat0 cat1 cat5 cat7 cat8 cat9     cont0     cont1     cont2     cont3  \\\n",
       "0    B    B    B    E    C    N  0.201470 -0.014822  0.669699  0.136278   \n",
       "1    B    B    D    F    A    O  0.743068  0.367411  1.021605  0.365798   \n",
       "2    A    A    D    D    A    F  0.742708  0.310383 -0.012673  0.576957   \n",
       "3    B    B    D    E    C    K  0.429551  0.620998  0.577942  0.280610   \n",
       "4    A    A    D    E    A    N  1.058291  0.367492 -0.052389  0.232407   \n",
       "\n",
       "      cont4     cont5     cont6     cont7     cont8     cont9    cont10  \\\n",
       "0  0.610706  0.400361  0.160266  0.310921  0.389470  0.267559  0.237281   \n",
       "1  0.276853  0.533087  0.558922  0.516294  0.594928  0.341439  0.906013   \n",
       "2  0.285074  0.650609  0.375348  0.902567  0.555205  0.843531  0.748809   \n",
       "3  0.284667  0.668980  0.239061  0.732948  0.679618  0.574844  0.346010   \n",
       "4  0.287595  0.686964  0.420667  0.648182  0.684501  0.956692  1.000773   \n",
       "\n",
       "     cont11    cont12    cont13  \n",
       "0  0.377873  0.322401  0.869850  \n",
       "1  0.921701  0.261975  0.465083  \n",
       "2  0.620126  0.541474  0.763846  \n",
       "3  0.714610  0.540150  0.280682  \n",
       "4  0.776742  0.625849  0.250823  "
      ]
     },
     "execution_count": 6,
     "metadata": {},
     "output_type": "execute_result"
    }
   ],
   "source": [
    "# Separate target from features\n",
    "y = train['target']\n",
    "features = train.drop(['id','target'], axis=1)\n",
    "\n",
    "# Preview features\n",
    "features.head()"
   ]
  },
  {
   "cell_type": "markdown",
   "id": "ef15e540",
   "metadata": {
    "papermill": {
     "duration": 0.016803,
     "end_time": "2021-08-26T08:11:08.418808",
     "exception": false,
     "start_time": "2021-08-26T08:11:08.402005",
     "status": "completed"
    },
    "tags": []
   },
   "source": [
    "# Preprocessing"
   ]
  },
  {
   "cell_type": "code",
   "execution_count": 7,
   "id": "813e5005",
   "metadata": {
    "execution": {
     "iopub.execute_input": "2021-08-26T08:11:08.458893Z",
     "iopub.status.busy": "2021-08-26T08:11:08.458186Z",
     "iopub.status.idle": "2021-08-26T08:11:10.808439Z",
     "shell.execute_reply": "2021-08-26T08:11:10.807800Z",
     "shell.execute_reply.started": "2021-08-25T14:50:28.388579Z"
    },
    "papermill": {
     "duration": 2.372869,
     "end_time": "2021-08-26T08:11:10.808608",
     "exception": false,
     "start_time": "2021-08-26T08:11:08.435739",
     "status": "completed"
    },
    "tags": []
   },
   "outputs": [
    {
     "data": {
      "text/html": [
       "<div>\n",
       "<style scoped>\n",
       "    .dataframe tbody tr th:only-of-type {\n",
       "        vertical-align: middle;\n",
       "    }\n",
       "\n",
       "    .dataframe tbody tr th {\n",
       "        vertical-align: top;\n",
       "    }\n",
       "\n",
       "    .dataframe thead th {\n",
       "        text-align: right;\n",
       "    }\n",
       "</style>\n",
       "<table border=\"1\" class=\"dataframe\">\n",
       "  <thead>\n",
       "    <tr style=\"text-align: right;\">\n",
       "      <th></th>\n",
       "      <th>cat0</th>\n",
       "      <th>cat1</th>\n",
       "      <th>cat5</th>\n",
       "      <th>cat7</th>\n",
       "      <th>cat8</th>\n",
       "      <th>cat9</th>\n",
       "      <th>cont0</th>\n",
       "      <th>cont1</th>\n",
       "      <th>cont2</th>\n",
       "      <th>cont3</th>\n",
       "      <th>cont4</th>\n",
       "      <th>cont5</th>\n",
       "      <th>cont6</th>\n",
       "      <th>cont7</th>\n",
       "      <th>cont8</th>\n",
       "      <th>cont9</th>\n",
       "      <th>cont10</th>\n",
       "      <th>cont11</th>\n",
       "      <th>cont12</th>\n",
       "      <th>cont13</th>\n",
       "    </tr>\n",
       "  </thead>\n",
       "  <tbody>\n",
       "    <tr>\n",
       "      <th>0</th>\n",
       "      <td>1.0</td>\n",
       "      <td>1.0</td>\n",
       "      <td>1.0</td>\n",
       "      <td>4.0</td>\n",
       "      <td>2.0</td>\n",
       "      <td>13.0</td>\n",
       "      <td>0.201470</td>\n",
       "      <td>-0.014822</td>\n",
       "      <td>0.669699</td>\n",
       "      <td>0.136278</td>\n",
       "      <td>0.610706</td>\n",
       "      <td>0.400361</td>\n",
       "      <td>0.160266</td>\n",
       "      <td>0.310921</td>\n",
       "      <td>0.389470</td>\n",
       "      <td>0.267559</td>\n",
       "      <td>0.237281</td>\n",
       "      <td>0.377873</td>\n",
       "      <td>0.322401</td>\n",
       "      <td>0.869850</td>\n",
       "    </tr>\n",
       "    <tr>\n",
       "      <th>1</th>\n",
       "      <td>1.0</td>\n",
       "      <td>1.0</td>\n",
       "      <td>3.0</td>\n",
       "      <td>5.0</td>\n",
       "      <td>0.0</td>\n",
       "      <td>14.0</td>\n",
       "      <td>0.743068</td>\n",
       "      <td>0.367411</td>\n",
       "      <td>1.021605</td>\n",
       "      <td>0.365798</td>\n",
       "      <td>0.276853</td>\n",
       "      <td>0.533087</td>\n",
       "      <td>0.558922</td>\n",
       "      <td>0.516294</td>\n",
       "      <td>0.594928</td>\n",
       "      <td>0.341439</td>\n",
       "      <td>0.906013</td>\n",
       "      <td>0.921701</td>\n",
       "      <td>0.261975</td>\n",
       "      <td>0.465083</td>\n",
       "    </tr>\n",
       "    <tr>\n",
       "      <th>2</th>\n",
       "      <td>0.0</td>\n",
       "      <td>0.0</td>\n",
       "      <td>3.0</td>\n",
       "      <td>3.0</td>\n",
       "      <td>0.0</td>\n",
       "      <td>5.0</td>\n",
       "      <td>0.742708</td>\n",
       "      <td>0.310383</td>\n",
       "      <td>-0.012673</td>\n",
       "      <td>0.576957</td>\n",
       "      <td>0.285074</td>\n",
       "      <td>0.650609</td>\n",
       "      <td>0.375348</td>\n",
       "      <td>0.902567</td>\n",
       "      <td>0.555205</td>\n",
       "      <td>0.843531</td>\n",
       "      <td>0.748809</td>\n",
       "      <td>0.620126</td>\n",
       "      <td>0.541474</td>\n",
       "      <td>0.763846</td>\n",
       "    </tr>\n",
       "    <tr>\n",
       "      <th>3</th>\n",
       "      <td>1.0</td>\n",
       "      <td>1.0</td>\n",
       "      <td>3.0</td>\n",
       "      <td>4.0</td>\n",
       "      <td>2.0</td>\n",
       "      <td>10.0</td>\n",
       "      <td>0.429551</td>\n",
       "      <td>0.620998</td>\n",
       "      <td>0.577942</td>\n",
       "      <td>0.280610</td>\n",
       "      <td>0.284667</td>\n",
       "      <td>0.668980</td>\n",
       "      <td>0.239061</td>\n",
       "      <td>0.732948</td>\n",
       "      <td>0.679618</td>\n",
       "      <td>0.574844</td>\n",
       "      <td>0.346010</td>\n",
       "      <td>0.714610</td>\n",
       "      <td>0.540150</td>\n",
       "      <td>0.280682</td>\n",
       "    </tr>\n",
       "    <tr>\n",
       "      <th>4</th>\n",
       "      <td>0.0</td>\n",
       "      <td>0.0</td>\n",
       "      <td>3.0</td>\n",
       "      <td>4.0</td>\n",
       "      <td>0.0</td>\n",
       "      <td>13.0</td>\n",
       "      <td>1.058291</td>\n",
       "      <td>0.367492</td>\n",
       "      <td>-0.052389</td>\n",
       "      <td>0.232407</td>\n",
       "      <td>0.287595</td>\n",
       "      <td>0.686964</td>\n",
       "      <td>0.420667</td>\n",
       "      <td>0.648182</td>\n",
       "      <td>0.684501</td>\n",
       "      <td>0.956692</td>\n",
       "      <td>1.000773</td>\n",
       "      <td>0.776742</td>\n",
       "      <td>0.625849</td>\n",
       "      <td>0.250823</td>\n",
       "    </tr>\n",
       "  </tbody>\n",
       "</table>\n",
       "</div>"
      ],
      "text/plain": [
       "   cat0  cat1  cat5  cat7  cat8  cat9     cont0     cont1     cont2     cont3  \\\n",
       "0   1.0   1.0   1.0   4.0   2.0  13.0  0.201470 -0.014822  0.669699  0.136278   \n",
       "1   1.0   1.0   3.0   5.0   0.0  14.0  0.743068  0.367411  1.021605  0.365798   \n",
       "2   0.0   0.0   3.0   3.0   0.0   5.0  0.742708  0.310383 -0.012673  0.576957   \n",
       "3   1.0   1.0   3.0   4.0   2.0  10.0  0.429551  0.620998  0.577942  0.280610   \n",
       "4   0.0   0.0   3.0   4.0   0.0  13.0  1.058291  0.367492 -0.052389  0.232407   \n",
       "\n",
       "      cont4     cont5     cont6     cont7     cont8     cont9    cont10  \\\n",
       "0  0.610706  0.400361  0.160266  0.310921  0.389470  0.267559  0.237281   \n",
       "1  0.276853  0.533087  0.558922  0.516294  0.594928  0.341439  0.906013   \n",
       "2  0.285074  0.650609  0.375348  0.902567  0.555205  0.843531  0.748809   \n",
       "3  0.284667  0.668980  0.239061  0.732948  0.679618  0.574844  0.346010   \n",
       "4  0.287595  0.686964  0.420667  0.648182  0.684501  0.956692  1.000773   \n",
       "\n",
       "     cont11    cont12    cont13  \n",
       "0  0.377873  0.322401  0.869850  \n",
       "1  0.921701  0.261975  0.465083  \n",
       "2  0.620126  0.541474  0.763846  \n",
       "3  0.714610  0.540150  0.280682  \n",
       "4  0.776742  0.625849  0.250823  "
      ]
     },
     "execution_count": 7,
     "metadata": {},
     "output_type": "execute_result"
    }
   ],
   "source": [
    "\n",
    "# List of categorical columns\n",
    "object_cols = [col for col in features.columns if 'cat' in col]\n",
    "\n",
    "# ordinal-encode categorical columns\n",
    "X = features.copy()\n",
    "X_test = test.drop(['id'], axis=1).copy()\n",
    "ordinal_encoder = OrdinalEncoder()\n",
    "X[object_cols] = ordinal_encoder.fit_transform(features[object_cols])\n",
    "X_test[object_cols] = ordinal_encoder.transform(test[object_cols])\n",
    "\n",
    "# Preview the ordinal-encoded features\n",
    "X.head()\n"
   ]
  },
  {
   "cell_type": "code",
   "execution_count": 8,
   "id": "139a7285",
   "metadata": {
    "execution": {
     "iopub.execute_input": "2021-08-26T08:11:10.850053Z",
     "iopub.status.busy": "2021-08-26T08:11:10.849139Z",
     "iopub.status.idle": "2021-08-26T08:11:10.853256Z",
     "shell.execute_reply": "2021-08-26T08:11:10.852646Z",
     "shell.execute_reply.started": "2021-08-25T14:50:30.978302Z"
    },
    "papermill": {
     "duration": 0.027141,
     "end_time": "2021-08-26T08:11:10.853427",
     "exception": false,
     "start_time": "2021-08-26T08:11:10.826286",
     "status": "completed"
    },
    "tags": []
   },
   "outputs": [
    {
     "data": {
      "text/plain": [
       "'\\n# List of categorical columns\\nobject_cols = [col for col in features.columns if \\'cat\\' in col]\\n\\n# one-hot-encode categorical columns\\nX = features.copy()\\nX_test = test.drop([\\'id\\'], axis=1).copy()\\n\\noh_encoder = OneHotEncoder(sparse=False, handle_unknown=\"ignore\")\\nX_ohe = oh_encoder.fit_transform(features[object_cols])\\nX_test_ohe = oh_encoder.transform(test[object_cols])\\n\\nX_ohe = pd.DataFrame(X_ohe, columns=[f\"ohe_{i}\" for i in range(X_ohe.shape[1])])\\nX_test_ohe = pd.DataFrame(X_test_ohe, columns=[f\"ohe_{i}\" for i in range(X_test_ohe.shape[1])])\\n\\nX = pd.concat([X, X_ohe], axis=1)\\nX_test = pd.concat([X_test, X_test_ohe], axis=1)\\nX = X.drop(object_cols, axis=1)\\nX_test = X_test.drop(object_cols, axis=1)\\n    \\n# Preview the one-hot-encoded features\\nX.head()\\n'"
      ]
     },
     "execution_count": 8,
     "metadata": {},
     "output_type": "execute_result"
    }
   ],
   "source": [
    "'''\n",
    "# List of categorical columns\n",
    "object_cols = [col for col in features.columns if 'cat' in col]\n",
    "\n",
    "# one-hot-encode categorical columns\n",
    "X = features.copy()\n",
    "X_test = test.drop(['id'], axis=1).copy()\n",
    "\n",
    "oh_encoder = OneHotEncoder(sparse=False, handle_unknown=\"ignore\")\n",
    "X_ohe = oh_encoder.fit_transform(features[object_cols])\n",
    "X_test_ohe = oh_encoder.transform(test[object_cols])\n",
    "\n",
    "X_ohe = pd.DataFrame(X_ohe, columns=[f\"ohe_{i}\" for i in range(X_ohe.shape[1])])\n",
    "X_test_ohe = pd.DataFrame(X_test_ohe, columns=[f\"ohe_{i}\" for i in range(X_test_ohe.shape[1])])\n",
    "\n",
    "X = pd.concat([X, X_ohe], axis=1)\n",
    "X_test = pd.concat([X_test, X_test_ohe], axis=1)\n",
    "X = X.drop(object_cols, axis=1)\n",
    "X_test = X_test.drop(object_cols, axis=1)\n",
    "    \n",
    "# Preview the one-hot-encoded features\n",
    "X.head()\n",
    "'''"
   ]
  },
  {
   "cell_type": "code",
   "execution_count": 9,
   "id": "ea6f790e",
   "metadata": {
    "execution": {
     "iopub.execute_input": "2021-08-26T08:11:10.909628Z",
     "iopub.status.busy": "2021-08-26T08:11:10.908917Z",
     "iopub.status.idle": "2021-08-26T08:11:12.950291Z",
     "shell.execute_reply": "2021-08-26T08:11:12.949615Z",
     "shell.execute_reply.started": "2021-08-25T14:50:30.988805Z"
    },
    "papermill": {
     "duration": 2.079173,
     "end_time": "2021-08-26T08:11:12.950435",
     "exception": false,
     "start_time": "2021-08-26T08:11:10.871262",
     "status": "completed"
    },
    "tags": []
   },
   "outputs": [],
   "source": [
    "scale_features = [col for col in features.columns if 'cont' in col]\n",
    "\n",
    "ss = StandardScaler()\n",
    "X[scale_features] = ss.fit_transform(features[scale_features])\n",
    "X_test[scale_features] = ss.transform(test[scale_features])"
   ]
  },
  {
   "cell_type": "code",
   "execution_count": 10,
   "id": "a64dfad1",
   "metadata": {
    "execution": {
     "iopub.execute_input": "2021-08-26T08:11:12.994665Z",
     "iopub.status.busy": "2021-08-26T08:11:12.993891Z",
     "iopub.status.idle": "2021-08-26T08:11:12.996996Z",
     "shell.execute_reply": "2021-08-26T08:11:12.996319Z",
     "shell.execute_reply.started": "2021-08-25T14:50:33.045348Z"
    },
    "papermill": {
     "duration": 0.028506,
     "end_time": "2021-08-26T08:11:12.997138",
     "exception": false,
     "start_time": "2021-08-26T08:11:12.968632",
     "status": "completed"
    },
    "tags": []
   },
   "outputs": [],
   "source": [
    "# Swap noise\n",
    "\n",
    "# Random\n",
    "def apply_noise_rn(df, p=.75):\n",
    "    should_not_swap = np.random.binomial(1, p, df.shape)\n",
    "    corrupted_df = df.where(should_not_swap == 1, np.random.permutation(df))\n",
    "    return corrupted_df\n",
    "\n",
    "# Row-wise\n",
    "def apply_noise_row(df, p=.75):\n",
    "    should_not_swap = np.zeros(df.shape)\n",
    "    for i in range(df.shape[0]):\n",
    "        for j in np.random.choice(df.shape[1],int(p*df.shape[1]),replace=False):\n",
    "            should_not_swap[i,j]=1 \n",
    "    corrupted_df = df.where(should_not_swap == 1, np.random.permutation(df))\n",
    "    return corrupted_df"
   ]
  },
  {
   "cell_type": "markdown",
   "id": "4c727755",
   "metadata": {
    "papermill": {
     "duration": 0.017892,
     "end_time": "2021-08-26T08:11:13.032848",
     "exception": false,
     "start_time": "2021-08-26T08:11:13.014956",
     "status": "completed"
    },
    "tags": []
   },
   "source": [
    "# Optuna"
   ]
  },
  {
   "cell_type": "code",
   "execution_count": 11,
   "id": "e2520915",
   "metadata": {
    "execution": {
     "iopub.execute_input": "2021-08-26T08:11:13.089734Z",
     "iopub.status.busy": "2021-08-26T08:11:13.074218Z",
     "iopub.status.idle": "2021-08-26T08:11:23.337693Z",
     "shell.execute_reply": "2021-08-26T08:11:23.336974Z",
     "shell.execute_reply.started": "2021-08-25T14:50:33.055157Z"
    },
    "papermill": {
     "duration": 10.28633,
     "end_time": "2021-08-26T08:11:23.337841",
     "exception": false,
     "start_time": "2021-08-26T08:11:13.051511",
     "status": "completed"
    },
    "tags": []
   },
   "outputs": [
    {
     "name": "stdout",
     "output_type": "stream",
     "text": [
      "\u001b[33mWARNING: Running pip as root will break packages and permissions. You should install packages reliably by using venv: https://pip.pypa.io/warnings/venv\u001b[0m\r\n"
     ]
    }
   ],
   "source": [
    "# Optuna for parameter search\n",
    "!pip install -q optuna\n",
    "\n",
    "import optuna\n",
    "import pickle"
   ]
  },
  {
   "cell_type": "code",
   "execution_count": 12,
   "id": "750ec354",
   "metadata": {
    "execution": {
     "iopub.execute_input": "2021-08-26T08:11:23.386695Z",
     "iopub.status.busy": "2021-08-26T08:11:23.385915Z",
     "iopub.status.idle": "2021-08-26T08:11:23.389224Z",
     "shell.execute_reply": "2021-08-26T08:11:23.388637Z",
     "shell.execute_reply.started": "2021-08-25T14:50:43.459482Z"
    },
    "papermill": {
     "duration": 0.03322,
     "end_time": "2021-08-26T08:11:23.389412",
     "exception": false,
     "start_time": "2021-08-26T08:11:23.356192",
     "status": "completed"
    },
    "tags": []
   },
   "outputs": [],
   "source": [
    "# for the fixed learning rate, use the opt n iterations and tune the tree hyperparameters\n",
    "def objective(trial, X=X, y=y):\n",
    "  \"\"\"\n",
    "  \"\"\"\n",
    "  param_space = {\n",
    "               'objective': 'reg:squarederror',\n",
    "               'learning_rate':trial.suggest_uniform('learning_rate', 1e-4, 4.5e-2),\n",
    "               'n_estimators':N_ESTIMATORS,\n",
    "               'subsample': trial.suggest_uniform('subsample', 0.697, 0.897),\n",
    "              'colsample_bytree':trial.suggest_uniform('colsample_bytree', 0.006, 0.206),\n",
    "              'max_depth':trial.suggest_int('max_depth', 2, 8),\n",
    "              'lambda':trial.suggest_uniform('lambda', 13.4, 25.4),\n",
    "              'alpha':trial.suggest_uniform('alpha', 4.2, 16.2),\n",
    "           'min_child_weight':trial.suggest_uniform('min_child_weight', 305, 415),\n",
    "           'importance_type': 'total_gain',\n",
    "            'tree_method': 'hist'\n",
    "                }\n",
    "            \n",
    "  seed_list=[SEED, SEED+1]\n",
    "  #kf = KFold(n_splits=N_SPLITS, shuffle=True, random_state=CVSEED)\n",
    "  #lgb_oof = np.zeros(train.shape[0])\n",
    "  #lgb_pred = np.zeros(test.shape[0])\n",
    "  X_tr, X_va, y_tr, y_va = train_test_split(X,y,test_size=.2,random_state=CVSEED)\n",
    "  pred=np.zeros(y_va.shape[0])\n",
    "    \n",
    "  #for (trn_idx, val_idx) in enumerate(kf.split(X, y)):\n",
    "  #print(f\"===== fold {fold} =====\")\n",
    "    \n",
    "  #X_tr = apply_noise_row(X_tr)\n",
    "\n",
    "  \n",
    "  #start = time.time()\n",
    "  for inseed in seed_list:\n",
    "    param_space['seed'] = inseed\n",
    "\n",
    "    model = xgb.XGBRegressor(**param_space)\n",
    "    model.fit(\n",
    "        X_tr, \n",
    "        y_tr,\n",
    "        eval_set=[(X_va, y_va)],\n",
    "        eval_metric='rmse',\n",
    "        early_stopping_rounds=EARLY_STOPPING_ROUNDS,\n",
    "        verbose=VERBOSE\n",
    "    )\n",
    "\n",
    "\n",
    "    pred += model.predict(X_va) / len(seed_list)\n",
    "    \n",
    "  #elapsed = time.time() - start\n",
    "  rmse = mean_squared_error(y_va, pred, squared=False)\n",
    "  #print(f\"fold {fold} - lgb rmse: {rmse:.6f}, elapsed time: {elapsed:.2f}sec\\n\")            \n",
    "  \n",
    "  #print(f\"oof lgb_rmse = {mean_squared_error(train[target], lgb_oof, squared=False)}\")\n",
    "\n",
    "  \n",
    "  return rmse"
   ]
  },
  {
   "cell_type": "code",
   "execution_count": 13,
   "id": "fe5f800b",
   "metadata": {
    "execution": {
     "iopub.execute_input": "2021-08-26T08:11:23.431966Z",
     "iopub.status.busy": "2021-08-26T08:11:23.431170Z",
     "iopub.status.idle": "2021-08-26T10:39:51.066292Z",
     "shell.execute_reply": "2021-08-26T10:39:51.066828Z",
     "shell.execute_reply.started": "2021-08-25T14:50:43.475861Z"
    },
    "papermill": {
     "duration": 8907.65946,
     "end_time": "2021-08-26T10:39:51.067111",
     "exception": false,
     "start_time": "2021-08-26T08:11:23.407651",
     "status": "completed"
    },
    "tags": []
   },
   "outputs": [
    {
     "name": "stderr",
     "output_type": "stream",
     "text": [
      "\u001b[32m[I 2021-08-26 08:11:23,429]\u001b[0m A new study created in memory with name: no-name-10688b46-c0ec-49d8-bbba-d2de1a1f5626\u001b[0m\n"
     ]
    },
    {
     "name": "stdout",
     "output_type": "stream",
     "text": [
      "[0]\tvalidation_0-rmse:7.65988\n",
      "[1000]\tvalidation_0-rmse:0.72421\n",
      "[2000]\tvalidation_0-rmse:0.71849\n",
      "[3000]\tvalidation_0-rmse:0.71671\n",
      "[4000]\tvalidation_0-rmse:0.71632\n",
      "[4112]\tvalidation_0-rmse:0.71630\n",
      "[0]\tvalidation_0-rmse:7.65988\n",
      "[1000]\tvalidation_0-rmse:0.72426\n",
      "[2000]\tvalidation_0-rmse:0.71825\n",
      "[3000]\tvalidation_0-rmse:0.71659\n",
      "[4000]\tvalidation_0-rmse:0.71623\n",
      "[4242]\tvalidation_0-rmse:0.71625\n"
     ]
    },
    {
     "name": "stderr",
     "output_type": "stream",
     "text": [
      "\u001b[32m[I 2021-08-26 08:14:56,874]\u001b[0m Trial 0 finished with value: 0.7162477946192615 and parameters: {'learning_rate': 0.015054316946396156, 'subsample': 0.8542964173789822, 'colsample_bytree': 0.07112232250344032, 'max_depth': 8, 'lambda': 14.518385867574269, 'alpha': 5.145921422660868, 'min_child_weight': 380.97133921828686}. Best is trial 0 with value: 0.7162477946192615.\u001b[0m\n"
     ]
    },
    {
     "name": "stdout",
     "output_type": "stream",
     "text": [
      "[0]\tvalidation_0-rmse:7.64962\n",
      "[1000]\tvalidation_0-rmse:0.72268\n",
      "[2000]\tvalidation_0-rmse:0.71830\n",
      "[3000]\tvalidation_0-rmse:0.71654\n",
      "[4000]\tvalidation_0-rmse:0.71566\n",
      "[5000]\tvalidation_0-rmse:0.71518\n",
      "[6000]\tvalidation_0-rmse:0.71496\n",
      "[7000]\tvalidation_0-rmse:0.71481\n",
      "[7622]\tvalidation_0-rmse:0.71479\n",
      "[0]\tvalidation_0-rmse:7.64962\n",
      "[1000]\tvalidation_0-rmse:0.72274\n",
      "[2000]\tvalidation_0-rmse:0.71826\n",
      "[3000]\tvalidation_0-rmse:0.71650\n",
      "[4000]\tvalidation_0-rmse:0.71563\n",
      "[5000]\tvalidation_0-rmse:0.71522\n",
      "[6000]\tvalidation_0-rmse:0.71502\n",
      "[7000]\tvalidation_0-rmse:0.71491\n",
      "[7041]\tvalidation_0-rmse:0.71490\n"
     ]
    },
    {
     "name": "stderr",
     "output_type": "stream",
     "text": [
      "\u001b[32m[I 2021-08-26 08:19:58,608]\u001b[0m Trial 1 finished with value: 0.7147838717852049 and parameters: {'learning_rate': 0.01638834904891358, 'subsample': 0.7337548369555916, 'colsample_bytree': 0.15774873412175436, 'max_depth': 4, 'lambda': 24.19584127209603, 'alpha': 4.789725531986864, 'min_child_weight': 388.55140950800023}. Best is trial 1 with value: 0.7147838717852049.\u001b[0m\n"
     ]
    },
    {
     "name": "stdout",
     "output_type": "stream",
     "text": [
      "[0]\tvalidation_0-rmse:7.76769\n",
      "[1000]\tvalidation_0-rmse:2.76548\n",
      "[2000]\tvalidation_0-rmse:1.17959\n",
      "[3000]\tvalidation_0-rmse:0.80452\n",
      "[4000]\tvalidation_0-rmse:0.74599\n",
      "[5000]\tvalidation_0-rmse:0.73707\n",
      "[6000]\tvalidation_0-rmse:0.73456\n",
      "[7000]\tvalidation_0-rmse:0.73286\n",
      "[8000]\tvalidation_0-rmse:0.73138\n",
      "[9000]\tvalidation_0-rmse:0.73005\n",
      "[10000]\tvalidation_0-rmse:0.72883\n",
      "[11000]\tvalidation_0-rmse:0.72770\n",
      "[12000]\tvalidation_0-rmse:0.72670\n",
      "[13000]\tvalidation_0-rmse:0.72583\n",
      "[14000]\tvalidation_0-rmse:0.72501\n",
      "[15000]\tvalidation_0-rmse:0.72423\n",
      "[16000]\tvalidation_0-rmse:0.72354\n",
      "[17000]\tvalidation_0-rmse:0.72284\n",
      "[18000]\tvalidation_0-rmse:0.72225\n",
      "[19000]\tvalidation_0-rmse:0.72168\n",
      "[19999]\tvalidation_0-rmse:0.72115\n",
      "[0]\tvalidation_0-rmse:7.76769\n",
      "[1000]\tvalidation_0-rmse:2.76547\n",
      "[2000]\tvalidation_0-rmse:1.17957\n",
      "[3000]\tvalidation_0-rmse:0.80451\n",
      "[4000]\tvalidation_0-rmse:0.74601\n",
      "[5000]\tvalidation_0-rmse:0.73721\n",
      "[6000]\tvalidation_0-rmse:0.73457\n",
      "[7000]\tvalidation_0-rmse:0.73288\n",
      "[8000]\tvalidation_0-rmse:0.73143\n",
      "[9000]\tvalidation_0-rmse:0.73012\n",
      "[10000]\tvalidation_0-rmse:0.72894\n",
      "[11000]\tvalidation_0-rmse:0.72777\n",
      "[12000]\tvalidation_0-rmse:0.72672\n",
      "[13000]\tvalidation_0-rmse:0.72588\n",
      "[14000]\tvalidation_0-rmse:0.72503\n",
      "[15000]\tvalidation_0-rmse:0.72424\n",
      "[16000]\tvalidation_0-rmse:0.72350\n",
      "[17000]\tvalidation_0-rmse:0.72288\n",
      "[18000]\tvalidation_0-rmse:0.72225\n",
      "[19000]\tvalidation_0-rmse:0.72172\n",
      "[19999]\tvalidation_0-rmse:0.72121\n"
     ]
    },
    {
     "name": "stderr",
     "output_type": "stream",
     "text": [
      "\u001b[32m[I 2021-08-26 08:35:44,660]\u001b[0m Trial 2 finished with value: 0.7211769453741331 and parameters: {'learning_rate': 0.001064643808874446, 'subsample': 0.8421348780549465, 'colsample_bytree': 0.022732041883219395, 'max_depth': 7, 'lambda': 13.558846029880735, 'alpha': 9.346268498595457, 'min_child_weight': 325.737429415473}. Best is trial 1 with value: 0.7147838717852049.\u001b[0m\n"
     ]
    },
    {
     "name": "stdout",
     "output_type": "stream",
     "text": [
      "[0]\tvalidation_0-rmse:7.43354\n",
      "[1000]\tvalidation_0-rmse:0.71526\n",
      "[1648]\tvalidation_0-rmse:0.71507\n",
      "[0]\tvalidation_0-rmse:7.43355\n",
      "[1000]\tvalidation_0-rmse:0.71544\n",
      "[1693]\tvalidation_0-rmse:0.71520\n"
     ]
    },
    {
     "name": "stderr",
     "output_type": "stream",
     "text": [
      "\u001b[32m[I 2021-08-26 08:37:08,328]\u001b[0m Trial 3 finished with value: 0.71493388274738 and parameters: {'learning_rate': 0.044433927331059116, 'subsample': 0.8406189795487649, 'colsample_bytree': 0.10015497933149191, 'max_depth': 6, 'lambda': 18.142330861310988, 'alpha': 6.372357038796309, 'min_child_weight': 342.18748422492854}. Best is trial 1 with value: 0.7147838717852049.\u001b[0m\n"
     ]
    },
    {
     "name": "stdout",
     "output_type": "stream",
     "text": [
      "[0]\tvalidation_0-rmse:7.55794\n",
      "[1000]\tvalidation_0-rmse:0.72973\n",
      "[2000]\tvalidation_0-rmse:0.72567\n",
      "[3000]\tvalidation_0-rmse:0.72327\n",
      "[4000]\tvalidation_0-rmse:0.72165\n",
      "[5000]\tvalidation_0-rmse:0.72054\n",
      "[6000]\tvalidation_0-rmse:0.71971\n",
      "[7000]\tvalidation_0-rmse:0.71894\n",
      "[8000]\tvalidation_0-rmse:0.71831\n",
      "[9000]\tvalidation_0-rmse:0.71779\n",
      "[10000]\tvalidation_0-rmse:0.71735\n",
      "[11000]\tvalidation_0-rmse:0.71697\n",
      "[12000]\tvalidation_0-rmse:0.71670\n",
      "[13000]\tvalidation_0-rmse:0.71645\n",
      "[14000]\tvalidation_0-rmse:0.71623\n",
      "[15000]\tvalidation_0-rmse:0.71606\n",
      "[16000]\tvalidation_0-rmse:0.71593\n",
      "[17000]\tvalidation_0-rmse:0.71575\n",
      "[18000]\tvalidation_0-rmse:0.71563\n",
      "[19000]\tvalidation_0-rmse:0.71553\n",
      "[19999]\tvalidation_0-rmse:0.71543\n",
      "[0]\tvalidation_0-rmse:7.55793\n",
      "[1000]\tvalidation_0-rmse:0.72987\n",
      "[2000]\tvalidation_0-rmse:0.72575\n",
      "[3000]\tvalidation_0-rmse:0.72320\n",
      "[4000]\tvalidation_0-rmse:0.72164\n",
      "[5000]\tvalidation_0-rmse:0.72057\n",
      "[6000]\tvalidation_0-rmse:0.71964\n",
      "[7000]\tvalidation_0-rmse:0.71891\n",
      "[8000]\tvalidation_0-rmse:0.71833\n",
      "[9000]\tvalidation_0-rmse:0.71779\n",
      "[10000]\tvalidation_0-rmse:0.71735\n",
      "[11000]\tvalidation_0-rmse:0.71695\n",
      "[12000]\tvalidation_0-rmse:0.71662\n",
      "[13000]\tvalidation_0-rmse:0.71635\n",
      "[14000]\tvalidation_0-rmse:0.71611\n",
      "[15000]\tvalidation_0-rmse:0.71593\n",
      "[16000]\tvalidation_0-rmse:0.71575\n",
      "[17000]\tvalidation_0-rmse:0.71564\n",
      "[18000]\tvalidation_0-rmse:0.71554\n",
      "[19000]\tvalidation_0-rmse:0.71547\n",
      "[19999]\tvalidation_0-rmse:0.71540\n"
     ]
    },
    {
     "name": "stderr",
     "output_type": "stream",
     "text": [
      "\u001b[32m[I 2021-08-26 08:49:15,402]\u001b[0m Trial 4 finished with value: 0.715406422974229 and parameters: {'learning_rate': 0.02829019347526324, 'subsample': 0.7078634635817241, 'colsample_bytree': 0.08916449057774362, 'max_depth': 2, 'lambda': 17.073024262428778, 'alpha': 14.313838798995466, 'min_child_weight': 388.6825003080838}. Best is trial 1 with value: 0.7147838717852049.\u001b[0m\n"
     ]
    },
    {
     "name": "stdout",
     "output_type": "stream",
     "text": [
      "[0]\tvalidation_0-rmse:7.47516\n",
      "[1000]\tvalidation_0-rmse:0.71994\n",
      "[2000]\tvalidation_0-rmse:0.71652\n",
      "[3000]\tvalidation_0-rmse:0.71536\n",
      "[4000]\tvalidation_0-rmse:0.71498\n",
      "[4553]\tvalidation_0-rmse:0.71491\n",
      "[0]\tvalidation_0-rmse:7.47514\n",
      "[1000]\tvalidation_0-rmse:0.71990\n",
      "[2000]\tvalidation_0-rmse:0.71657\n",
      "[3000]\tvalidation_0-rmse:0.71543\n",
      "[4000]\tvalidation_0-rmse:0.71500\n",
      "[5000]\tvalidation_0-rmse:0.71485\n",
      "[5442]\tvalidation_0-rmse:0.71485\n"
     ]
    },
    {
     "name": "stderr",
     "output_type": "stream",
     "text": [
      "\u001b[32m[I 2021-08-26 08:52:26,113]\u001b[0m Trial 5 finished with value: 0.7148111970996172 and parameters: {'learning_rate': 0.03903415551384657, 'subsample': 0.8666302218347047, 'colsample_bytree': 0.158769040988685, 'max_depth': 3, 'lambda': 20.21328883866903, 'alpha': 15.58903671138582, 'min_child_weight': 383.02389935427595}. Best is trial 1 with value: 0.7147838717852049.\u001b[0m\n"
     ]
    },
    {
     "name": "stdout",
     "output_type": "stream",
     "text": [
      "[0]\tvalidation_0-rmse:7.71524\n",
      "[1000]\tvalidation_0-rmse:0.73772\n",
      "[2000]\tvalidation_0-rmse:0.73370\n",
      "[3000]\tvalidation_0-rmse:0.73112\n",
      "[4000]\tvalidation_0-rmse:0.72922\n",
      "[5000]\tvalidation_0-rmse:0.72784\n",
      "[6000]\tvalidation_0-rmse:0.72683\n",
      "[7000]\tvalidation_0-rmse:0.72592\n",
      "[8000]\tvalidation_0-rmse:0.72511\n",
      "[9000]\tvalidation_0-rmse:0.72438\n",
      "[10000]\tvalidation_0-rmse:0.72376\n",
      "[11000]\tvalidation_0-rmse:0.72323\n",
      "[12000]\tvalidation_0-rmse:0.72275\n",
      "[13000]\tvalidation_0-rmse:0.72235\n",
      "[14000]\tvalidation_0-rmse:0.72194\n",
      "[15000]\tvalidation_0-rmse:0.72158\n",
      "[16000]\tvalidation_0-rmse:0.72126\n",
      "[17000]\tvalidation_0-rmse:0.72093\n",
      "[18000]\tvalidation_0-rmse:0.72067\n",
      "[19000]\tvalidation_0-rmse:0.72037\n",
      "[19999]\tvalidation_0-rmse:0.72010\n",
      "[0]\tvalidation_0-rmse:7.71524\n",
      "[1000]\tvalidation_0-rmse:0.73776\n",
      "[2000]\tvalidation_0-rmse:0.73379\n",
      "[3000]\tvalidation_0-rmse:0.73110\n",
      "[4000]\tvalidation_0-rmse:0.72927\n",
      "[5000]\tvalidation_0-rmse:0.72796\n",
      "[6000]\tvalidation_0-rmse:0.72685\n",
      "[7000]\tvalidation_0-rmse:0.72593\n",
      "[8000]\tvalidation_0-rmse:0.72514\n",
      "[9000]\tvalidation_0-rmse:0.72443\n",
      "[10000]\tvalidation_0-rmse:0.72382\n",
      "[11000]\tvalidation_0-rmse:0.72324\n",
      "[12000]\tvalidation_0-rmse:0.72273\n",
      "[13000]\tvalidation_0-rmse:0.72234\n",
      "[14000]\tvalidation_0-rmse:0.72194\n",
      "[15000]\tvalidation_0-rmse:0.72157\n",
      "[16000]\tvalidation_0-rmse:0.72122\n",
      "[17000]\tvalidation_0-rmse:0.72094\n",
      "[18000]\tvalidation_0-rmse:0.72064\n",
      "[19000]\tvalidation_0-rmse:0.72039\n",
      "[19999]\tvalidation_0-rmse:0.72013\n"
     ]
    },
    {
     "name": "stderr",
     "output_type": "stream",
     "text": [
      "\u001b[32m[I 2021-08-26 09:04:23,750]\u001b[0m Trial 6 finished with value: 0.7201079823004702 and parameters: {'learning_rate': 0.007870528738096728, 'subsample': 0.7886489592373912, 'colsample_bytree': 0.024226526569500813, 'max_depth': 2, 'lambda': 16.107796195861003, 'alpha': 15.993269205059136, 'min_child_weight': 349.71365037501465}. Best is trial 1 with value: 0.7147838717852049.\u001b[0m\n"
     ]
    },
    {
     "name": "stdout",
     "output_type": "stream",
     "text": [
      "[0]\tvalidation_0-rmse:7.67938\n",
      "[1000]\tvalidation_0-rmse:0.73193\n",
      "[2000]\tvalidation_0-rmse:0.72779\n",
      "[3000]\tvalidation_0-rmse:0.72540\n",
      "[4000]\tvalidation_0-rmse:0.72373\n",
      "[5000]\tvalidation_0-rmse:0.72249\n",
      "[6000]\tvalidation_0-rmse:0.72145\n",
      "[7000]\tvalidation_0-rmse:0.72063\n",
      "[8000]\tvalidation_0-rmse:0.71994\n",
      "[9000]\tvalidation_0-rmse:0.71934\n",
      "[10000]\tvalidation_0-rmse:0.71881\n",
      "[11000]\tvalidation_0-rmse:0.71833\n",
      "[12000]\tvalidation_0-rmse:0.71795\n",
      "[13000]\tvalidation_0-rmse:0.71761\n",
      "[14000]\tvalidation_0-rmse:0.71727\n",
      "[15000]\tvalidation_0-rmse:0.71697\n",
      "[16000]\tvalidation_0-rmse:0.71671\n",
      "[17000]\tvalidation_0-rmse:0.71648\n",
      "[18000]\tvalidation_0-rmse:0.71628\n",
      "[19000]\tvalidation_0-rmse:0.71609\n",
      "[19999]\tvalidation_0-rmse:0.71593\n",
      "[0]\tvalidation_0-rmse:7.67938\n",
      "[1000]\tvalidation_0-rmse:0.73207\n",
      "[2000]\tvalidation_0-rmse:0.72779\n",
      "[3000]\tvalidation_0-rmse:0.72536\n",
      "[4000]\tvalidation_0-rmse:0.72367\n",
      "[5000]\tvalidation_0-rmse:0.72243\n",
      "[6000]\tvalidation_0-rmse:0.72144\n",
      "[7000]\tvalidation_0-rmse:0.72063\n",
      "[8000]\tvalidation_0-rmse:0.71993\n",
      "[9000]\tvalidation_0-rmse:0.71934\n",
      "[10000]\tvalidation_0-rmse:0.71883\n",
      "[11000]\tvalidation_0-rmse:0.71836\n",
      "[12000]\tvalidation_0-rmse:0.71797\n",
      "[13000]\tvalidation_0-rmse:0.71760\n",
      "[14000]\tvalidation_0-rmse:0.71729\n",
      "[15000]\tvalidation_0-rmse:0.71697\n",
      "[16000]\tvalidation_0-rmse:0.71670\n",
      "[17000]\tvalidation_0-rmse:0.71647\n",
      "[18000]\tvalidation_0-rmse:0.71626\n",
      "[19000]\tvalidation_0-rmse:0.71609\n",
      "[19999]\tvalidation_0-rmse:0.71593\n"
     ]
    },
    {
     "name": "stderr",
     "output_type": "stream",
     "text": [
      "\u001b[32m[I 2021-08-26 09:16:09,506]\u001b[0m Trial 7 finished with value: 0.7159237202488801 and parameters: {'learning_rate': 0.012525253173761361, 'subsample': 0.8603867293484643, 'colsample_bytree': 0.10748456225400231, 'max_depth': 2, 'lambda': 22.416874069825624, 'alpha': 7.456633608830372, 'min_child_weight': 390.36912766196923}. Best is trial 1 with value: 0.7147838717852049.\u001b[0m\n"
     ]
    },
    {
     "name": "stdout",
     "output_type": "stream",
     "text": [
      "[0]\tvalidation_0-rmse:7.69867\n",
      "[1000]\tvalidation_0-rmse:0.73140\n",
      "[2000]\tvalidation_0-rmse:0.72427\n",
      "[3000]\tvalidation_0-rmse:0.72057\n",
      "[4000]\tvalidation_0-rmse:0.71847\n",
      "[5000]\tvalidation_0-rmse:0.71727\n",
      "[6000]\tvalidation_0-rmse:0.71655\n",
      "[7000]\tvalidation_0-rmse:0.71605\n",
      "[8000]\tvalidation_0-rmse:0.71572\n",
      "[9000]\tvalidation_0-rmse:0.71551\n",
      "[10000]\tvalidation_0-rmse:0.71537\n",
      "[11000]\tvalidation_0-rmse:0.71529\n",
      "[11842]\tvalidation_0-rmse:0.71526\n",
      "[0]\tvalidation_0-rmse:7.69867\n",
      "[1000]\tvalidation_0-rmse:0.73157\n",
      "[2000]\tvalidation_0-rmse:0.72421\n",
      "[3000]\tvalidation_0-rmse:0.72036\n",
      "[4000]\tvalidation_0-rmse:0.71833\n",
      "[5000]\tvalidation_0-rmse:0.71720\n",
      "[6000]\tvalidation_0-rmse:0.71645\n",
      "[7000]\tvalidation_0-rmse:0.71598\n",
      "[8000]\tvalidation_0-rmse:0.71568\n",
      "[9000]\tvalidation_0-rmse:0.71549\n",
      "[10000]\tvalidation_0-rmse:0.71538\n",
      "[11000]\tvalidation_0-rmse:0.71532\n",
      "[12000]\tvalidation_0-rmse:0.71527\n",
      "[12401]\tvalidation_0-rmse:0.71527\n"
     ]
    },
    {
     "name": "stderr",
     "output_type": "stream",
     "text": [
      "\u001b[32m[I 2021-08-26 09:25:03,711]\u001b[0m Trial 8 finished with value: 0.7152593420720396 and parameters: {'learning_rate': 0.01002146689509941, 'subsample': 0.7919084777018266, 'colsample_bytree': 0.025974978789326787, 'max_depth': 5, 'lambda': 15.490878636473287, 'alpha': 15.30960133179967, 'min_child_weight': 361.61429453877764}. Best is trial 1 with value: 0.7147838717852049.\u001b[0m\n"
     ]
    },
    {
     "name": "stdout",
     "output_type": "stream",
     "text": [
      "[0]\tvalidation_0-rmse:7.53585\n",
      "[1000]\tvalidation_0-rmse:0.71982\n",
      "[2000]\tvalidation_0-rmse:0.71636\n",
      "[3000]\tvalidation_0-rmse:0.71549\n",
      "[4000]\tvalidation_0-rmse:0.71542\n",
      "[4027]\tvalidation_0-rmse:0.71542\n",
      "[0]\tvalidation_0-rmse:7.53585\n",
      "[1000]\tvalidation_0-rmse:0.71969\n",
      "[2000]\tvalidation_0-rmse:0.71623\n",
      "[3000]\tvalidation_0-rmse:0.71549\n",
      "[3932]\tvalidation_0-rmse:0.71540\n"
     ]
    },
    {
     "name": "stderr",
     "output_type": "stream",
     "text": [
      "\u001b[32m[I 2021-08-26 09:27:58,003]\u001b[0m Trial 9 finished with value: 0.7153748387161238 and parameters: {'learning_rate': 0.03115225563602909, 'subsample': 0.8286807379975274, 'colsample_bytree': 0.06665594992793143, 'max_depth': 5, 'lambda': 20.779391855947946, 'alpha': 5.475407497889059, 'min_child_weight': 356.04357091484485}. Best is trial 1 with value: 0.7147838717852049.\u001b[0m\n"
     ]
    },
    {
     "name": "stdout",
     "output_type": "stream",
     "text": [
      "[0]\tvalidation_0-rmse:7.61766\n",
      "[1000]\tvalidation_0-rmse:0.72108\n",
      "[2000]\tvalidation_0-rmse:0.71744\n",
      "[3000]\tvalidation_0-rmse:0.71597\n",
      "[4000]\tvalidation_0-rmse:0.71537\n",
      "[5000]\tvalidation_0-rmse:0.71507\n",
      "[5377]\tvalidation_0-rmse:0.71502\n",
      "[0]\tvalidation_0-rmse:7.61766\n",
      "[1000]\tvalidation_0-rmse:0.72144\n",
      "[2000]\tvalidation_0-rmse:0.71750\n",
      "[3000]\tvalidation_0-rmse:0.71604\n",
      "[4000]\tvalidation_0-rmse:0.71538\n",
      "[5000]\tvalidation_0-rmse:0.71511\n",
      "[5854]\tvalidation_0-rmse:0.71506\n"
     ]
    },
    {
     "name": "stderr",
     "output_type": "stream",
     "text": [
      "\u001b[32m[I 2021-08-26 09:31:55,434]\u001b[0m Trial 10 finished with value: 0.7149740992487753 and parameters: {'learning_rate': 0.020538788049165438, 'subsample': 0.717267367503475, 'colsample_bytree': 0.20485050917610798, 'max_depth': 4, 'lambda': 25.32332331115982, 'alpha': 12.157980241440846, 'min_child_weight': 413.04493018910847}. Best is trial 1 with value: 0.7147838717852049.\u001b[0m\n"
     ]
    },
    {
     "name": "stdout",
     "output_type": "stream",
     "text": [
      "[0]\tvalidation_0-rmse:7.42944\n",
      "[1000]\tvalidation_0-rmse:0.71907\n",
      "[2000]\tvalidation_0-rmse:0.71610\n",
      "[3000]\tvalidation_0-rmse:0.71521\n",
      "[4000]\tvalidation_0-rmse:0.71495\n",
      "[4075]\tvalidation_0-rmse:0.71494\n",
      "[0]\tvalidation_0-rmse:7.42943\n",
      "[1000]\tvalidation_0-rmse:0.71902\n",
      "[2000]\tvalidation_0-rmse:0.71611\n",
      "[3000]\tvalidation_0-rmse:0.71517\n",
      "[4000]\tvalidation_0-rmse:0.71486\n",
      "[4586]\tvalidation_0-rmse:0.71483\n"
     ]
    },
    {
     "name": "stderr",
     "output_type": "stream",
     "text": [
      "\u001b[32m[I 2021-08-26 09:34:35,409]\u001b[0m Trial 11 finished with value: 0.7148007205973506 and parameters: {'learning_rate': 0.04497041297278242, 'subsample': 0.8942497787713473, 'colsample_bytree': 0.16822466345062878, 'max_depth': 3, 'lambda': 24.849770823056087, 'alpha': 11.653120069217186, 'min_child_weight': 408.68993369720613}. Best is trial 1 with value: 0.7147838717852049.\u001b[0m\n"
     ]
    },
    {
     "name": "stdout",
     "output_type": "stream",
     "text": [
      "[0]\tvalidation_0-rmse:7.59345\n",
      "[1000]\tvalidation_0-rmse:0.72035\n",
      "[2000]\tvalidation_0-rmse:0.71679\n",
      "[3000]\tvalidation_0-rmse:0.71556\n",
      "[4000]\tvalidation_0-rmse:0.71505\n",
      "[5000]\tvalidation_0-rmse:0.71491\n",
      "[5423]\tvalidation_0-rmse:0.71489\n",
      "[0]\tvalidation_0-rmse:7.59344\n",
      "[1000]\tvalidation_0-rmse:0.72036\n",
      "[2000]\tvalidation_0-rmse:0.71677\n",
      "[3000]\tvalidation_0-rmse:0.71556\n",
      "[4000]\tvalidation_0-rmse:0.71506\n",
      "[5000]\tvalidation_0-rmse:0.71489\n",
      "[5431]\tvalidation_0-rmse:0.71488\n"
     ]
    },
    {
     "name": "stderr",
     "output_type": "stream",
     "text": [
      "\u001b[32m[I 2021-08-26 09:38:28,405]\u001b[0m Trial 12 finished with value: 0.7148204872580212 and parameters: {'learning_rate': 0.023680573479851308, 'subsample': 0.7446516319541332, 'colsample_bytree': 0.17045632100849878, 'max_depth': 4, 'lambda': 25.31610289646619, 'alpha': 11.531656154412019, 'min_child_weight': 413.4702287166852}. Best is trial 1 with value: 0.7147838717852049.\u001b[0m\n"
     ]
    },
    {
     "name": "stdout",
     "output_type": "stream",
     "text": [
      "[0]\tvalidation_0-rmse:7.49923\n",
      "[1000]\tvalidation_0-rmse:0.72071\n",
      "[2000]\tvalidation_0-rmse:0.71721\n",
      "[3000]\tvalidation_0-rmse:0.71575\n",
      "[4000]\tvalidation_0-rmse:0.71508\n",
      "[5000]\tvalidation_0-rmse:0.71481\n",
      "[5966]\tvalidation_0-rmse:0.71474\n",
      "[0]\tvalidation_0-rmse:7.49922\n",
      "[1000]\tvalidation_0-rmse:0.72091\n",
      "[2000]\tvalidation_0-rmse:0.71704\n",
      "[3000]\tvalidation_0-rmse:0.71566\n",
      "[4000]\tvalidation_0-rmse:0.71508\n",
      "[5000]\tvalidation_0-rmse:0.71485\n",
      "[5187]\tvalidation_0-rmse:0.71486\n"
     ]
    },
    {
     "name": "stderr",
     "output_type": "stream",
     "text": [
      "\u001b[32m[I 2021-08-26 09:42:02,931]\u001b[0m Trial 13 finished with value: 0.7147347298618847 and parameters: {'learning_rate': 0.035911704721643505, 'subsample': 0.758986664425826, 'colsample_bytree': 0.14877335434638944, 'max_depth': 3, 'lambda': 23.55352467486903, 'alpha': 8.884411546006588, 'min_child_weight': 404.00096818056176}. Best is trial 13 with value: 0.7147347298618847.\u001b[0m\n"
     ]
    },
    {
     "name": "stdout",
     "output_type": "stream",
     "text": [
      "[0]\tvalidation_0-rmse:7.49860\n",
      "[1000]\tvalidation_0-rmse:0.71823\n",
      "[2000]\tvalidation_0-rmse:0.71563\n",
      "[3000]\tvalidation_0-rmse:0.71498\n",
      "[4000]\tvalidation_0-rmse:0.71483\n",
      "[4013]\tvalidation_0-rmse:0.71482\n",
      "[0]\tvalidation_0-rmse:7.49859\n",
      "[1000]\tvalidation_0-rmse:0.71828\n",
      "[2000]\tvalidation_0-rmse:0.71556\n",
      "[3000]\tvalidation_0-rmse:0.71491\n",
      "[4000]\tvalidation_0-rmse:0.71476\n",
      "[4156]\tvalidation_0-rmse:0.71477\n"
     ]
    },
    {
     "name": "stderr",
     "output_type": "stream",
     "text": [
      "\u001b[32m[I 2021-08-26 09:44:53,646]\u001b[0m Trial 14 finished with value: 0.7146973290774513 and parameters: {'learning_rate': 0.03599274202460459, 'subsample': 0.755425833261219, 'colsample_bytree': 0.13727706011809385, 'max_depth': 4, 'lambda': 23.100256216068097, 'alpha': 8.594445808629562, 'min_child_weight': 399.8056895955304}. Best is trial 14 with value: 0.7146973290774513.\u001b[0m\n"
     ]
    },
    {
     "name": "stdout",
     "output_type": "stream",
     "text": [
      "[0]\tvalidation_0-rmse:7.49119\n",
      "[1000]\tvalidation_0-rmse:0.72055\n",
      "[2000]\tvalidation_0-rmse:0.71710\n",
      "[3000]\tvalidation_0-rmse:0.71568\n",
      "[4000]\tvalidation_0-rmse:0.71505\n",
      "[5000]\tvalidation_0-rmse:0.71476\n",
      "[5906]\tvalidation_0-rmse:0.71470\n",
      "[0]\tvalidation_0-rmse:7.49118\n",
      "[1000]\tvalidation_0-rmse:0.72071\n",
      "[2000]\tvalidation_0-rmse:0.71690\n",
      "[3000]\tvalidation_0-rmse:0.71562\n",
      "[4000]\tvalidation_0-rmse:0.71501\n",
      "[5000]\tvalidation_0-rmse:0.71479\n",
      "[6000]\tvalidation_0-rmse:0.71471\n",
      "[6556]\tvalidation_0-rmse:0.71469\n"
     ]
    },
    {
     "name": "stderr",
     "output_type": "stream",
     "text": [
      "\u001b[32m[I 2021-08-26 09:48:47,726]\u001b[0m Trial 15 finished with value: 0.7146166263980875 and parameters: {'learning_rate': 0.036955320792692224, 'subsample': 0.7635473153188327, 'colsample_bytree': 0.1354938997791723, 'max_depth': 3, 'lambda': 22.821468405823435, 'alpha': 9.002866837758342, 'min_child_weight': 402.0811006541652}. Best is trial 15 with value: 0.7146166263980875.\u001b[0m\n"
     ]
    },
    {
     "name": "stdout",
     "output_type": "stream",
     "text": [
      "[0]\tvalidation_0-rmse:7.48404\n",
      "[1000]\tvalidation_0-rmse:0.71556\n",
      "[2000]\tvalidation_0-rmse:0.71486\n",
      "[2080]\tvalidation_0-rmse:0.71486\n",
      "[0]\tvalidation_0-rmse:7.48403\n",
      "[1000]\tvalidation_0-rmse:0.71556\n",
      "[1856]\tvalidation_0-rmse:0.71491\n"
     ]
    },
    {
     "name": "stderr",
     "output_type": "stream",
     "text": [
      "\u001b[32m[I 2021-08-26 09:50:26,031]\u001b[0m Trial 16 finished with value: 0.7147311930941627 and parameters: {'learning_rate': 0.037882124150957104, 'subsample': 0.7693073004816162, 'colsample_bytree': 0.12717105085497912, 'max_depth': 6, 'lambda': 21.90757263186705, 'alpha': 8.177679579326595, 'min_child_weight': 305.5905268949908}. Best is trial 15 with value: 0.7146166263980875.\u001b[0m\n"
     ]
    },
    {
     "name": "stdout",
     "output_type": "stream",
     "text": [
      "[0]\tvalidation_0-rmse:7.53463\n",
      "[1000]\tvalidation_0-rmse:0.71865\n",
      "[2000]\tvalidation_0-rmse:0.71594\n",
      "[3000]\tvalidation_0-rmse:0.71516\n",
      "[4000]\tvalidation_0-rmse:0.71493\n",
      "[4382]\tvalidation_0-rmse:0.71492\n",
      "[0]\tvalidation_0-rmse:7.53465\n",
      "[1000]\tvalidation_0-rmse:0.71865\n",
      "[2000]\tvalidation_0-rmse:0.71589\n",
      "[3000]\tvalidation_0-rmse:0.71513\n",
      "[4000]\tvalidation_0-rmse:0.71496\n",
      "[4272]\tvalidation_0-rmse:0.71497\n"
     ]
    },
    {
     "name": "stderr",
     "output_type": "stream",
     "text": [
      "\u001b[32m[I 2021-08-26 09:53:23,475]\u001b[0m Trial 17 finished with value: 0.7148419840641131 and parameters: {'learning_rate': 0.031311701588349096, 'subsample': 0.8060604371993532, 'colsample_bytree': 0.19697988446155681, 'max_depth': 4, 'lambda': 22.50188915313605, 'alpha': 10.263341161912518, 'min_child_weight': 371.40130122665926}. Best is trial 15 with value: 0.7146166263980875.\u001b[0m\n"
     ]
    },
    {
     "name": "stdout",
     "output_type": "stream",
     "text": [
      "[0]\tvalidation_0-rmse:7.45280\n",
      "[1000]\tvalidation_0-rmse:0.71978\n",
      "[2000]\tvalidation_0-rmse:0.71654\n",
      "[3000]\tvalidation_0-rmse:0.71537\n",
      "[4000]\tvalidation_0-rmse:0.71493\n",
      "[5000]\tvalidation_0-rmse:0.71475\n",
      "[5430]\tvalidation_0-rmse:0.71472\n",
      "[0]\tvalidation_0-rmse:7.45280\n",
      "[1000]\tvalidation_0-rmse:0.71981\n",
      "[2000]\tvalidation_0-rmse:0.71639\n",
      "[3000]\tvalidation_0-rmse:0.71527\n",
      "[4000]\tvalidation_0-rmse:0.71486\n",
      "[5000]\tvalidation_0-rmse:0.71474\n",
      "[5185]\tvalidation_0-rmse:0.71477\n"
     ]
    },
    {
     "name": "stderr",
     "output_type": "stream",
     "text": [
      "\u001b[32m[I 2021-08-26 09:56:44,991]\u001b[0m Trial 18 finished with value: 0.7146574842795045 and parameters: {'learning_rate': 0.04193690610414038, 'subsample': 0.7692940586756707, 'colsample_bytree': 0.13095024695976853, 'max_depth': 3, 'lambda': 19.474473615479294, 'alpha': 7.115192720470196, 'min_child_weight': 399.60688135692897}. Best is trial 15 with value: 0.7146166263980875.\u001b[0m\n"
     ]
    },
    {
     "name": "stdout",
     "output_type": "stream",
     "text": [
      "[0]\tvalidation_0-rmse:7.44916\n",
      "[1000]\tvalidation_0-rmse:0.71966\n",
      "[2000]\tvalidation_0-rmse:0.71645\n",
      "[3000]\tvalidation_0-rmse:0.71534\n",
      "[4000]\tvalidation_0-rmse:0.71487\n",
      "[5000]\tvalidation_0-rmse:0.71475\n",
      "[5419]\tvalidation_0-rmse:0.71474\n",
      "[0]\tvalidation_0-rmse:7.44915\n",
      "[1000]\tvalidation_0-rmse:0.71970\n",
      "[2000]\tvalidation_0-rmse:0.71629\n",
      "[3000]\tvalidation_0-rmse:0.71523\n",
      "[4000]\tvalidation_0-rmse:0.71483\n",
      "[5000]\tvalidation_0-rmse:0.71469\n",
      "[5184]\tvalidation_0-rmse:0.71470\n"
     ]
    },
    {
     "name": "stderr",
     "output_type": "stream",
     "text": [
      "\u001b[32m[I 2021-08-26 10:00:09,182]\u001b[0m Trial 19 finished with value: 0.7146440983910533 and parameters: {'learning_rate': 0.04240944397938301, 'subsample': 0.7731784088352714, 'colsample_bytree': 0.11976404025107508, 'max_depth': 3, 'lambda': 18.945078985705408, 'alpha': 6.583676189144089, 'min_child_weight': 370.5021284939529}. Best is trial 15 with value: 0.7146166263980875.\u001b[0m\n"
     ]
    },
    {
     "name": "stdout",
     "output_type": "stream",
     "text": [
      "[0]\tvalidation_0-rmse:7.45564\n",
      "[1000]\tvalidation_0-rmse:0.72398\n",
      "[2000]\tvalidation_0-rmse:0.72023\n",
      "[3000]\tvalidation_0-rmse:0.71811\n",
      "[4000]\tvalidation_0-rmse:0.71679\n",
      "[5000]\tvalidation_0-rmse:0.71600\n",
      "[6000]\tvalidation_0-rmse:0.71553\n",
      "[7000]\tvalidation_0-rmse:0.71522\n",
      "[8000]\tvalidation_0-rmse:0.71500\n",
      "[8359]\tvalidation_0-rmse:0.71499\n",
      "[0]\tvalidation_0-rmse:7.45565\n",
      "[1000]\tvalidation_0-rmse:0.72403\n",
      "[2000]\tvalidation_0-rmse:0.72019\n",
      "[3000]\tvalidation_0-rmse:0.71813\n",
      "[4000]\tvalidation_0-rmse:0.71685\n",
      "[5000]\tvalidation_0-rmse:0.71607\n",
      "[6000]\tvalidation_0-rmse:0.71562\n",
      "[7000]\tvalidation_0-rmse:0.71528\n",
      "[8000]\tvalidation_0-rmse:0.71516\n",
      "[9000]\tvalidation_0-rmse:0.71502\n",
      "[9241]\tvalidation_0-rmse:0.71502\n"
     ]
    },
    {
     "name": "stderr",
     "output_type": "stream",
     "text": [
      "\u001b[32m[I 2021-08-26 10:05:15,558]\u001b[0m Trial 20 finished with value: 0.7149543906262377 and parameters: {'learning_rate': 0.04156579322130671, 'subsample': 0.8105722859918264, 'colsample_bytree': 0.18701568093977036, 'max_depth': 2, 'lambda': 18.121808873327943, 'alpha': 10.327514462622464, 'min_child_weight': 371.5535676505252}. Best is trial 15 with value: 0.7146166263980875.\u001b[0m\n"
     ]
    },
    {
     "name": "stdout",
     "output_type": "stream",
     "text": [
      "[0]\tvalidation_0-rmse:7.43494\n",
      "[1000]\tvalidation_0-rmse:0.71939\n",
      "[2000]\tvalidation_0-rmse:0.71632\n",
      "[3000]\tvalidation_0-rmse:0.71526\n",
      "[4000]\tvalidation_0-rmse:0.71484\n",
      "[5000]\tvalidation_0-rmse:0.71473\n",
      "[5430]\tvalidation_0-rmse:0.71473\n",
      "[0]\tvalidation_0-rmse:7.43493\n",
      "[1000]\tvalidation_0-rmse:0.71951\n",
      "[2000]\tvalidation_0-rmse:0.71621\n",
      "[3000]\tvalidation_0-rmse:0.71522\n",
      "[4000]\tvalidation_0-rmse:0.71486\n",
      "[4828]\tvalidation_0-rmse:0.71477\n"
     ]
    },
    {
     "name": "stderr",
     "output_type": "stream",
     "text": [
      "\u001b[32m[I 2021-08-26 10:08:31,449]\u001b[0m Trial 21 finished with value: 0.714663362508581 and parameters: {'learning_rate': 0.044255439120170464, 'subsample': 0.7740289220015787, 'colsample_bytree': 0.12157171739518034, 'max_depth': 3, 'lambda': 19.08341043733502, 'alpha': 6.84499546652604, 'min_child_weight': 397.78760961626375}. Best is trial 15 with value: 0.7146166263980875.\u001b[0m\n"
     ]
    },
    {
     "name": "stdout",
     "output_type": "stream",
     "text": [
      "[0]\tvalidation_0-rmse:7.45906\n",
      "[1000]\tvalidation_0-rmse:0.71984\n",
      "[2000]\tvalidation_0-rmse:0.71662\n",
      "[3000]\tvalidation_0-rmse:0.71541\n",
      "[4000]\tvalidation_0-rmse:0.71490\n",
      "[4902]\tvalidation_0-rmse:0.71477\n",
      "[0]\tvalidation_0-rmse:7.45907\n",
      "[1000]\tvalidation_0-rmse:0.71987\n",
      "[2000]\tvalidation_0-rmse:0.71645\n",
      "[3000]\tvalidation_0-rmse:0.71529\n",
      "[4000]\tvalidation_0-rmse:0.71493\n",
      "[4752]\tvalidation_0-rmse:0.71486\n"
     ]
    },
    {
     "name": "stderr",
     "output_type": "stream",
     "text": [
      "\u001b[32m[I 2021-08-26 10:11:38,700]\u001b[0m Trial 22 finished with value: 0.7147364395605201 and parameters: {'learning_rate': 0.04112545357304276, 'subsample': 0.7287573433001663, 'colsample_bytree': 0.12144995426253789, 'max_depth': 3, 'lambda': 20.98401969324317, 'alpha': 6.246093290252401, 'min_child_weight': 374.32232237872904}. Best is trial 15 with value: 0.7146166263980875.\u001b[0m\n"
     ]
    },
    {
     "name": "stdout",
     "output_type": "stream",
     "text": [
      "[0]\tvalidation_0-rmse:7.52389\n",
      "[1000]\tvalidation_0-rmse:0.72445\n",
      "[2000]\tvalidation_0-rmse:0.71986\n",
      "[3000]\tvalidation_0-rmse:0.71767\n",
      "[4000]\tvalidation_0-rmse:0.71647\n",
      "[5000]\tvalidation_0-rmse:0.71584\n",
      "[6000]\tvalidation_0-rmse:0.71550\n",
      "[7000]\tvalidation_0-rmse:0.71530\n",
      "[8000]\tvalidation_0-rmse:0.71518\n",
      "[8852]\tvalidation_0-rmse:0.71514\n",
      "[0]\tvalidation_0-rmse:7.52388\n",
      "[1000]\tvalidation_0-rmse:0.72448\n",
      "[2000]\tvalidation_0-rmse:0.71960\n",
      "[3000]\tvalidation_0-rmse:0.71751\n",
      "[4000]\tvalidation_0-rmse:0.71639\n",
      "[5000]\tvalidation_0-rmse:0.71583\n",
      "[6000]\tvalidation_0-rmse:0.71543\n",
      "[7000]\tvalidation_0-rmse:0.71520\n",
      "[7211]\tvalidation_0-rmse:0.71519\n"
     ]
    },
    {
     "name": "stderr",
     "output_type": "stream",
     "text": [
      "\u001b[32m[I 2021-08-26 10:16:33,830]\u001b[0m Trial 23 finished with value: 0.7151379512911817 and parameters: {'learning_rate': 0.032708206302825504, 'subsample': 0.7797620488920632, 'colsample_bytree': 0.08125423312031729, 'max_depth': 3, 'lambda': 18.86801315195657, 'alpha': 7.613518155145147, 'min_child_weight': 399.245175268994}. Best is trial 15 with value: 0.7146166263980875.\u001b[0m\n"
     ]
    },
    {
     "name": "stdout",
     "output_type": "stream",
     "text": [
      "[0]\tvalidation_0-rmse:7.45454\n",
      "[1000]\tvalidation_0-rmse:0.72462\n",
      "[2000]\tvalidation_0-rmse:0.72089\n",
      "[3000]\tvalidation_0-rmse:0.71877\n",
      "[4000]\tvalidation_0-rmse:0.71739\n",
      "[5000]\tvalidation_0-rmse:0.71650\n",
      "[6000]\tvalidation_0-rmse:0.71589\n",
      "[7000]\tvalidation_0-rmse:0.71547\n",
      "[8000]\tvalidation_0-rmse:0.71520\n",
      "[9000]\tvalidation_0-rmse:0.71507\n",
      "[10000]\tvalidation_0-rmse:0.71496\n",
      "[10906]\tvalidation_0-rmse:0.71491\n",
      "[0]\tvalidation_0-rmse:7.45454\n",
      "[1000]\tvalidation_0-rmse:0.72471\n",
      "[2000]\tvalidation_0-rmse:0.72077\n",
      "[3000]\tvalidation_0-rmse:0.71861\n",
      "[4000]\tvalidation_0-rmse:0.71727\n",
      "[5000]\tvalidation_0-rmse:0.71647\n",
      "[6000]\tvalidation_0-rmse:0.71592\n",
      "[7000]\tvalidation_0-rmse:0.71551\n",
      "[8000]\tvalidation_0-rmse:0.71523\n",
      "[9000]\tvalidation_0-rmse:0.71508\n",
      "[10000]\tvalidation_0-rmse:0.71499\n",
      "[10314]\tvalidation_0-rmse:0.71498\n"
     ]
    },
    {
     "name": "stderr",
     "output_type": "stream",
     "text": [
      "\u001b[32m[I 2021-08-26 10:22:47,202]\u001b[0m Trial 24 finished with value: 0.7148997599525241 and parameters: {'learning_rate': 0.04171070370592692, 'subsample': 0.7520396411782171, 'colsample_bytree': 0.14493736076717362, 'max_depth': 2, 'lambda': 19.850923838289095, 'alpha': 9.671654125812239, 'min_child_weight': 337.2272983559892}. Best is trial 15 with value: 0.7146166263980875.\u001b[0m\n"
     ]
    },
    {
     "name": "stdout",
     "output_type": "stream",
     "text": [
      "[0]\tvalidation_0-rmse:7.56767\n",
      "[1000]\tvalidation_0-rmse:0.71781\n",
      "[2000]\tvalidation_0-rmse:0.71539\n",
      "[3000]\tvalidation_0-rmse:0.71488\n",
      "[3553]\tvalidation_0-rmse:0.71483\n",
      "[0]\tvalidation_0-rmse:7.56768\n",
      "[1000]\tvalidation_0-rmse:0.71786\n",
      "[2000]\tvalidation_0-rmse:0.71534\n",
      "[3000]\tvalidation_0-rmse:0.71483\n",
      "[3340]\tvalidation_0-rmse:0.71482\n"
     ]
    },
    {
     "name": "stderr",
     "output_type": "stream",
     "text": [
      "\u001b[32m[I 2021-08-26 10:25:25,674]\u001b[0m Trial 25 finished with value: 0.7147307293220216 and parameters: {'learning_rate': 0.02702515529665481, 'subsample': 0.6974497869938223, 'colsample_bytree': 0.10372066286543913, 'max_depth': 5, 'lambda': 17.248324539854103, 'alpha': 7.221761473203803, 'min_child_weight': 362.4087193779113}. Best is trial 15 with value: 0.7146166263980875.\u001b[0m\n"
     ]
    },
    {
     "name": "stdout",
     "output_type": "stream",
     "text": [
      "[0]\tvalidation_0-rmse:7.51931\n",
      "[1000]\tvalidation_0-rmse:0.72108\n",
      "[2000]\tvalidation_0-rmse:0.71741\n",
      "[3000]\tvalidation_0-rmse:0.71593\n",
      "[4000]\tvalidation_0-rmse:0.71521\n",
      "[5000]\tvalidation_0-rmse:0.71488\n",
      "[6000]\tvalidation_0-rmse:0.71475\n",
      "[6022]\tvalidation_0-rmse:0.71474\n",
      "[0]\tvalidation_0-rmse:7.51931\n",
      "[1000]\tvalidation_0-rmse:0.72118\n",
      "[2000]\tvalidation_0-rmse:0.71733\n",
      "[3000]\tvalidation_0-rmse:0.71583\n",
      "[4000]\tvalidation_0-rmse:0.71516\n",
      "[5000]\tvalidation_0-rmse:0.71488\n",
      "[5628]\tvalidation_0-rmse:0.71480\n"
     ]
    },
    {
     "name": "stderr",
     "output_type": "stream",
     "text": [
      "\u001b[32m[I 2021-08-26 10:29:04,843]\u001b[0m Trial 26 finished with value: 0.7147225431722443 and parameters: {'learning_rate': 0.03330109614137446, 'subsample': 0.8172010513728407, 'colsample_bytree': 0.13161952321704318, 'max_depth': 3, 'lambda': 21.223741582288945, 'alpha': 5.790957122549146, 'min_child_weight': 395.47965652303185}. Best is trial 15 with value: 0.7146166263980875.\u001b[0m\n"
     ]
    },
    {
     "name": "stdout",
     "output_type": "stream",
     "text": [
      "[0]\tvalidation_0-rmse:7.43327\n",
      "[1000]\tvalidation_0-rmse:0.71931\n",
      "[2000]\tvalidation_0-rmse:0.71643\n",
      "[3000]\tvalidation_0-rmse:0.71555\n",
      "[3973]\tvalidation_0-rmse:0.71544\n",
      "[0]\tvalidation_0-rmse:7.43326\n",
      "[1000]\tvalidation_0-rmse:0.71924\n",
      "[2000]\tvalidation_0-rmse:0.71621\n",
      "[3000]\tvalidation_0-rmse:0.71548\n",
      "[3912]\tvalidation_0-rmse:0.71537\n"
     ]
    },
    {
     "name": "stderr",
     "output_type": "stream",
     "text": [
      "\u001b[32m[I 2021-08-26 10:31:40,915]\u001b[0m Trial 27 finished with value: 0.7153674400610617 and parameters: {'learning_rate': 0.04447299333263942, 'subsample': 0.7690805731979639, 'colsample_bytree': 0.048858487826586645, 'max_depth': 4, 'lambda': 18.299161241558707, 'alpha': 4.488893652074027, 'min_child_weight': 407.0741750487625}. Best is trial 15 with value: 0.7146166263980875.\u001b[0m\n"
     ]
    },
    {
     "name": "stdout",
     "output_type": "stream",
     "text": [
      "[0]\tvalidation_0-rmse:7.47890\n",
      "[1000]\tvalidation_0-rmse:0.72496\n",
      "[2000]\tvalidation_0-rmse:0.72125\n",
      "[3000]\tvalidation_0-rmse:0.71908\n",
      "[4000]\tvalidation_0-rmse:0.71765\n",
      "[5000]\tvalidation_0-rmse:0.71678\n",
      "[6000]\tvalidation_0-rmse:0.71613\n",
      "[7000]\tvalidation_0-rmse:0.71565\n",
      "[8000]\tvalidation_0-rmse:0.71537\n",
      "[9000]\tvalidation_0-rmse:0.71519\n",
      "[10000]\tvalidation_0-rmse:0.71503\n",
      "[11000]\tvalidation_0-rmse:0.71496\n",
      "[11494]\tvalidation_0-rmse:0.71494\n",
      "[0]\tvalidation_0-rmse:7.47889\n",
      "[1000]\tvalidation_0-rmse:0.72517\n",
      "[2000]\tvalidation_0-rmse:0.72114\n",
      "[3000]\tvalidation_0-rmse:0.71899\n",
      "[4000]\tvalidation_0-rmse:0.71760\n",
      "[5000]\tvalidation_0-rmse:0.71672\n",
      "[6000]\tvalidation_0-rmse:0.71609\n",
      "[7000]\tvalidation_0-rmse:0.71566\n",
      "[8000]\tvalidation_0-rmse:0.71537\n",
      "[9000]\tvalidation_0-rmse:0.71517\n",
      "[10000]\tvalidation_0-rmse:0.71504\n",
      "[11000]\tvalidation_0-rmse:0.71496\n",
      "[11272]\tvalidation_0-rmse:0.71496\n"
     ]
    },
    {
     "name": "stderr",
     "output_type": "stream",
     "text": [
      "\u001b[32m[I 2021-08-26 10:38:30,054]\u001b[0m Trial 28 finished with value: 0.7149057320481842 and parameters: {'learning_rate': 0.03855176871987986, 'subsample': 0.738993188751685, 'colsample_bytree': 0.10841792917976853, 'max_depth': 2, 'lambda': 19.593482368069125, 'alpha': 8.042277631077042, 'min_child_weight': 379.06054252460507}. Best is trial 15 with value: 0.7146166263980875.\u001b[0m\n"
     ]
    },
    {
     "name": "stdout",
     "output_type": "stream",
     "text": [
      "[0]\tvalidation_0-rmse:7.50153\n",
      "[1000]\tvalidation_0-rmse:0.71549\n",
      "[1366]\tvalidation_0-rmse:0.71546\n",
      "[0]\tvalidation_0-rmse:7.50154\n",
      "[1000]\tvalidation_0-rmse:0.71550\n",
      "[1385]\tvalidation_0-rmse:0.71548\n"
     ]
    },
    {
     "name": "stderr",
     "output_type": "stream",
     "text": [
      "\u001b[32m[I 2021-08-26 10:39:51,047]\u001b[0m Trial 29 finished with value: 0.7152189986236754 and parameters: {'learning_rate': 0.03560812312133998, 'subsample': 0.79624276741487, 'colsample_bytree': 0.17820560725513004, 'max_depth': 8, 'lambda': 17.014520904901932, 'alpha': 10.720326474296842, 'min_child_weight': 414.82226759044715}. Best is trial 15 with value: 0.7146166263980875.\u001b[0m\n"
     ]
    },
    {
     "name": "stdout",
     "output_type": "stream",
     "text": [
      "Number of finished trials: 30\n",
      "Best trial: {'learning_rate': 0.036955320792692224, 'subsample': 0.7635473153188327, 'colsample_bytree': 0.1354938997791723, 'max_depth': 3, 'lambda': 22.821468405823435, 'alpha': 9.002866837758342, 'min_child_weight': 402.0811006541652}\n"
     ]
    }
   ],
   "source": [
    "study = optuna.create_study(direction='minimize')\n",
    "study.optimize(objective,n_trials= 30)\n",
    "print('Number of finished trials:', len(study.trials))\n",
    "print('Best trial:', study.best_trial.params)"
   ]
  },
  {
   "cell_type": "code",
   "execution_count": 14,
   "id": "4c92c5a8",
   "metadata": {
    "execution": {
     "iopub.execute_input": "2021-08-26T10:39:51.455246Z",
     "iopub.status.busy": "2021-08-26T10:39:51.454337Z",
     "iopub.status.idle": "2021-08-26T10:39:51.458545Z",
     "shell.execute_reply": "2021-08-26T10:39:51.457896Z"
    },
    "papermill": {
     "duration": 0.20086,
     "end_time": "2021-08-26T10:39:51.458693",
     "exception": false,
     "start_time": "2021-08-26T10:39:51.257833",
     "status": "completed"
    },
    "tags": []
   },
   "outputs": [
    {
     "data": {
      "text/plain": [
       "{'learning_rate': 0.036955320792692224,\n",
       " 'subsample': 0.7635473153188327,\n",
       " 'colsample_bytree': 0.1354938997791723,\n",
       " 'max_depth': 3,\n",
       " 'lambda': 22.821468405823435,\n",
       " 'alpha': 9.002866837758342,\n",
       " 'min_child_weight': 402.0811006541652}"
      ]
     },
     "execution_count": 14,
     "metadata": {},
     "output_type": "execute_result"
    }
   ],
   "source": [
    "study.best_params"
   ]
  },
  {
   "cell_type": "markdown",
   "id": "682b65c4",
   "metadata": {
    "papermill": {
     "duration": 0.187858,
     "end_time": "2021-08-26T10:39:51.835876",
     "exception": false,
     "start_time": "2021-08-26T10:39:51.648018",
     "status": "completed"
    },
    "tags": []
   },
   "source": [
    "# Log\n",
    "\n",
    "====== Ordinal encoding =========\n",
    "\n",
    "0.7150466204380306 no noise ver1\n",
    "\n",
    "0.7146430566586621 no noise ver3 (narrow space)\n",
    "\n",
    "====== One-hot encoding =========\n",
    "\n",
    "0.7153005695083217 no noise ver2\n"
   ]
  }
 ],
 "metadata": {
  "kernelspec": {
   "display_name": "Python 3",
   "language": "python",
   "name": "python3"
  },
  "language_info": {
   "codemirror_mode": {
    "name": "ipython",
    "version": 3
   },
   "file_extension": ".py",
   "mimetype": "text/x-python",
   "name": "python",
   "nbconvert_exporter": "python",
   "pygments_lexer": "ipython3",
   "version": "3.7.10"
  },
  "papermill": {
   "default_parameters": {},
   "duration": 8940.065896,
   "end_time": "2021-08-26T10:39:53.568637",
   "environment_variables": {},
   "exception": null,
   "input_path": "__notebook__.ipynb",
   "output_path": "__notebook__.ipynb",
   "parameters": {},
   "start_time": "2021-08-26T08:10:53.502741",
   "version": "2.3.3"
  }
 },
 "nbformat": 4,
 "nbformat_minor": 5
}
