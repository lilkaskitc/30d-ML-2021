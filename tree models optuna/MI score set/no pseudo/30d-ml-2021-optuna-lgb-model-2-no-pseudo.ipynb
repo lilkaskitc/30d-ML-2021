{
 "cells": [
  {
   "cell_type": "code",
   "execution_count": 1,
   "id": "10ca055d",
   "metadata": {
    "_cell_guid": "b1076dfc-b9ad-4769-8c92-a6c4dae69d19",
    "_uuid": "8f2839f25d086af736a60e9eeb907d3b93b6e0e5",
    "execution": {
     "iopub.execute_input": "2021-08-29T15:49:32.854287Z",
     "iopub.status.busy": "2021-08-29T15:49:32.853060Z",
     "iopub.status.idle": "2021-08-29T15:49:35.095646Z",
     "shell.execute_reply": "2021-08-29T15:49:35.094856Z",
     "shell.execute_reply.started": "2021-08-25T14:50:21.072225Z"
    },
    "papermill": {
     "duration": 2.262512,
     "end_time": "2021-08-29T15:49:35.095827",
     "exception": false,
     "start_time": "2021-08-29T15:49:32.833315",
     "status": "completed"
    },
    "tags": []
   },
   "outputs": [
    {
     "data": {
      "text/html": [
       "<style type='text/css'>\n",
       ".datatable table.frame { margin-bottom: 0; }\n",
       ".datatable table.frame thead { border-bottom: none; }\n",
       ".datatable table.frame tr.coltypes td {  color: #FFFFFF;  line-height: 6px;  padding: 0 0.5em;}\n",
       ".datatable .bool    { background: #DDDD99; }\n",
       ".datatable .object  { background: #565656; }\n",
       ".datatable .int     { background: #5D9E5D; }\n",
       ".datatable .float   { background: #4040CC; }\n",
       ".datatable .str     { background: #CC4040; }\n",
       ".datatable .time    { background: #40CC40; }\n",
       ".datatable .row_index {  background: var(--jp-border-color3);  border-right: 1px solid var(--jp-border-color0);  color: var(--jp-ui-font-color3);  font-size: 9px;}\n",
       ".datatable .frame tbody td { text-align: left; }\n",
       ".datatable .frame tr.coltypes .row_index {  background: var(--jp-border-color0);}\n",
       ".datatable th:nth-child(2) { padding-left: 12px; }\n",
       ".datatable .hellipsis {  color: var(--jp-cell-editor-border-color);}\n",
       ".datatable .vellipsis {  background: var(--jp-layout-color0);  color: var(--jp-cell-editor-border-color);}\n",
       ".datatable .na {  color: var(--jp-cell-editor-border-color);  font-size: 80%;}\n",
       ".datatable .sp {  opacity: 0.25;}\n",
       ".datatable .footer { font-size: 9px; }\n",
       ".datatable .frame_dimensions {  background: var(--jp-border-color3);  border-top: 1px solid var(--jp-border-color0);  color: var(--jp-ui-font-color3);  display: inline-block;  opacity: 0.6;  padding: 1px 10px 1px 5px;}\n",
       "</style>\n"
      ],
      "text/plain": [
       "<IPython.core.display.HTML object>"
      ]
     },
     "metadata": {},
     "output_type": "display_data"
    }
   ],
   "source": [
    "# Familiar imports\n",
    "import numpy as np\n",
    "import pandas as pd\n",
    "import random\n",
    "import os\n",
    "import time\n",
    "from pathlib import Path\n",
    "\n",
    "from sklearn.preprocessing import StandardScaler\n",
    "from sklearn.model_selection import KFold, train_test_split\n",
    "from sklearn.metrics import mean_squared_error\n",
    "from sklearn.preprocessing import OrdinalEncoder, OneHotEncoder\n",
    "\n",
    "import lightgbm as lgb\n",
    "#import xgboost as xgb\n",
    "#import catboost as ctb\n",
    "\n",
    "import warnings\n",
    "warnings.simplefilter('ignore')"
   ]
  },
  {
   "cell_type": "markdown",
   "id": "b77656c8",
   "metadata": {
    "papermill": {
     "duration": 0.015327,
     "end_time": "2021-08-29T15:49:35.127441",
     "exception": false,
     "start_time": "2021-08-29T15:49:35.112114",
     "status": "completed"
    },
    "tags": []
   },
   "source": [
    "# Parameters"
   ]
  },
  {
   "cell_type": "code",
   "execution_count": 2,
   "id": "04065f0b",
   "metadata": {
    "execution": {
     "iopub.execute_input": "2021-08-29T15:49:35.165481Z",
     "iopub.status.busy": "2021-08-29T15:49:35.164469Z",
     "iopub.status.idle": "2021-08-29T15:49:35.167435Z",
     "shell.execute_reply": "2021-08-29T15:49:35.166899Z",
     "shell.execute_reply.started": "2021-08-25T14:50:23.451782Z"
    },
    "papermill": {
     "duration": 0.024585,
     "end_time": "2021-08-29T15:49:35.167573",
     "exception": false,
     "start_time": "2021-08-29T15:49:35.142988",
     "status": "completed"
    },
    "tags": []
   },
   "outputs": [],
   "source": [
    "target = 'target'\n",
    "\n",
    "DEBUG = False\n",
    "\n",
    "if DEBUG:\n",
    "    N_ESTIMATORS = 1\n",
    "    N_SPLITS = 2\n",
    "    SEED = 17\n",
    "    CVSEED = 17\n",
    "    EARLY_STOPPING_ROUNDS = 1\n",
    "    VERBOSE = 100\n",
    "    #N_ITERS = 2\n",
    "else:\n",
    "    N_SPLITS = 10\n",
    "    N_ESTIMATORS = 20000\n",
    "    EARLY_STOPPING_ROUNDS = 200\n",
    "    VERBOSE = 1000\n",
    "    SEED = 17\n",
    "    CVSEED = 17\n",
    "    #N_ITERS = 10"
   ]
  },
  {
   "cell_type": "code",
   "execution_count": 3,
   "id": "612e9ed6",
   "metadata": {
    "execution": {
     "iopub.execute_input": "2021-08-29T15:49:35.204620Z",
     "iopub.status.busy": "2021-08-29T15:49:35.203775Z",
     "iopub.status.idle": "2021-08-29T15:49:35.207724Z",
     "shell.execute_reply": "2021-08-29T15:49:35.208194Z",
     "shell.execute_reply.started": "2021-08-25T14:50:23.461811Z"
    },
    "papermill": {
     "duration": 0.025335,
     "end_time": "2021-08-29T15:49:35.208373",
     "exception": false,
     "start_time": "2021-08-29T15:49:35.183038",
     "status": "completed"
    },
    "tags": []
   },
   "outputs": [],
   "source": [
    "def set_seed(seed=17):\n",
    "    random.seed(seed)\n",
    "    os.environ['PYTHONHASHSEED'] = str(seed)\n",
    "    np.random.seed(seed)\n",
    "    \n",
    "set_seed(SEED)"
   ]
  },
  {
   "cell_type": "markdown",
   "id": "672fc31c",
   "metadata": {
    "papermill": {
     "duration": 0.015578,
     "end_time": "2021-08-29T15:49:35.239471",
     "exception": false,
     "start_time": "2021-08-29T15:49:35.223893",
     "status": "completed"
    },
    "tags": []
   },
   "source": [
    "# Load data"
   ]
  },
  {
   "cell_type": "code",
   "execution_count": 4,
   "id": "a3af01d5",
   "metadata": {
    "execution": {
     "iopub.execute_input": "2021-08-29T15:49:35.276212Z",
     "iopub.status.busy": "2021-08-29T15:49:35.275419Z",
     "iopub.status.idle": "2021-08-29T15:49:39.631931Z",
     "shell.execute_reply": "2021-08-29T15:49:39.630982Z",
     "shell.execute_reply.started": "2021-08-25T14:50:23.479237Z"
    },
    "papermill": {
     "duration": 4.376752,
     "end_time": "2021-08-29T15:49:39.632106",
     "exception": false,
     "start_time": "2021-08-29T15:49:35.255354",
     "status": "completed"
    },
    "tags": []
   },
   "outputs": [
    {
     "data": {
      "text/html": [
       "<div>\n",
       "<style scoped>\n",
       "    .dataframe tbody tr th:only-of-type {\n",
       "        vertical-align: middle;\n",
       "    }\n",
       "\n",
       "    .dataframe tbody tr th {\n",
       "        vertical-align: top;\n",
       "    }\n",
       "\n",
       "    .dataframe thead th {\n",
       "        text-align: right;\n",
       "    }\n",
       "</style>\n",
       "<table border=\"1\" class=\"dataframe\">\n",
       "  <thead>\n",
       "    <tr style=\"text-align: right;\">\n",
       "      <th></th>\n",
       "      <th>id</th>\n",
       "      <th>cat0</th>\n",
       "      <th>cat1</th>\n",
       "      <th>cat2</th>\n",
       "      <th>cat3</th>\n",
       "      <th>cat4</th>\n",
       "      <th>cat5</th>\n",
       "      <th>cat6</th>\n",
       "      <th>cat7</th>\n",
       "      <th>cat8</th>\n",
       "      <th>...</th>\n",
       "      <th>cont5</th>\n",
       "      <th>cont6</th>\n",
       "      <th>cont7</th>\n",
       "      <th>cont8</th>\n",
       "      <th>cont9</th>\n",
       "      <th>cont10</th>\n",
       "      <th>cont11</th>\n",
       "      <th>cont12</th>\n",
       "      <th>cont13</th>\n",
       "      <th>target</th>\n",
       "    </tr>\n",
       "  </thead>\n",
       "  <tbody>\n",
       "    <tr>\n",
       "      <th>0</th>\n",
       "      <td>1</td>\n",
       "      <td>B</td>\n",
       "      <td>B</td>\n",
       "      <td>B</td>\n",
       "      <td>C</td>\n",
       "      <td>B</td>\n",
       "      <td>B</td>\n",
       "      <td>A</td>\n",
       "      <td>E</td>\n",
       "      <td>C</td>\n",
       "      <td>...</td>\n",
       "      <td>0.400361</td>\n",
       "      <td>0.160266</td>\n",
       "      <td>0.310921</td>\n",
       "      <td>0.389470</td>\n",
       "      <td>0.267559</td>\n",
       "      <td>0.237281</td>\n",
       "      <td>0.377873</td>\n",
       "      <td>0.322401</td>\n",
       "      <td>0.869850</td>\n",
       "      <td>8.113634</td>\n",
       "    </tr>\n",
       "    <tr>\n",
       "      <th>1</th>\n",
       "      <td>2</td>\n",
       "      <td>B</td>\n",
       "      <td>B</td>\n",
       "      <td>A</td>\n",
       "      <td>A</td>\n",
       "      <td>B</td>\n",
       "      <td>D</td>\n",
       "      <td>A</td>\n",
       "      <td>F</td>\n",
       "      <td>A</td>\n",
       "      <td>...</td>\n",
       "      <td>0.533087</td>\n",
       "      <td>0.558922</td>\n",
       "      <td>0.516294</td>\n",
       "      <td>0.594928</td>\n",
       "      <td>0.341439</td>\n",
       "      <td>0.906013</td>\n",
       "      <td>0.921701</td>\n",
       "      <td>0.261975</td>\n",
       "      <td>0.465083</td>\n",
       "      <td>8.481233</td>\n",
       "    </tr>\n",
       "    <tr>\n",
       "      <th>2</th>\n",
       "      <td>3</td>\n",
       "      <td>A</td>\n",
       "      <td>A</td>\n",
       "      <td>A</td>\n",
       "      <td>C</td>\n",
       "      <td>B</td>\n",
       "      <td>D</td>\n",
       "      <td>A</td>\n",
       "      <td>D</td>\n",
       "      <td>A</td>\n",
       "      <td>...</td>\n",
       "      <td>0.650609</td>\n",
       "      <td>0.375348</td>\n",
       "      <td>0.902567</td>\n",
       "      <td>0.555205</td>\n",
       "      <td>0.843531</td>\n",
       "      <td>0.748809</td>\n",
       "      <td>0.620126</td>\n",
       "      <td>0.541474</td>\n",
       "      <td>0.763846</td>\n",
       "      <td>8.364351</td>\n",
       "    </tr>\n",
       "    <tr>\n",
       "      <th>3</th>\n",
       "      <td>4</td>\n",
       "      <td>B</td>\n",
       "      <td>B</td>\n",
       "      <td>A</td>\n",
       "      <td>C</td>\n",
       "      <td>B</td>\n",
       "      <td>D</td>\n",
       "      <td>A</td>\n",
       "      <td>E</td>\n",
       "      <td>C</td>\n",
       "      <td>...</td>\n",
       "      <td>0.668980</td>\n",
       "      <td>0.239061</td>\n",
       "      <td>0.732948</td>\n",
       "      <td>0.679618</td>\n",
       "      <td>0.574844</td>\n",
       "      <td>0.346010</td>\n",
       "      <td>0.714610</td>\n",
       "      <td>0.540150</td>\n",
       "      <td>0.280682</td>\n",
       "      <td>8.049253</td>\n",
       "    </tr>\n",
       "    <tr>\n",
       "      <th>4</th>\n",
       "      <td>6</td>\n",
       "      <td>A</td>\n",
       "      <td>A</td>\n",
       "      <td>A</td>\n",
       "      <td>C</td>\n",
       "      <td>B</td>\n",
       "      <td>D</td>\n",
       "      <td>A</td>\n",
       "      <td>E</td>\n",
       "      <td>A</td>\n",
       "      <td>...</td>\n",
       "      <td>0.686964</td>\n",
       "      <td>0.420667</td>\n",
       "      <td>0.648182</td>\n",
       "      <td>0.684501</td>\n",
       "      <td>0.956692</td>\n",
       "      <td>1.000773</td>\n",
       "      <td>0.776742</td>\n",
       "      <td>0.625849</td>\n",
       "      <td>0.250823</td>\n",
       "      <td>7.972260</td>\n",
       "    </tr>\n",
       "  </tbody>\n",
       "</table>\n",
       "<p>5 rows × 26 columns</p>\n",
       "</div>"
      ],
      "text/plain": [
       "   id cat0 cat1 cat2 cat3 cat4 cat5 cat6 cat7 cat8  ...     cont5     cont6  \\\n",
       "0   1    B    B    B    C    B    B    A    E    C  ...  0.400361  0.160266   \n",
       "1   2    B    B    A    A    B    D    A    F    A  ...  0.533087  0.558922   \n",
       "2   3    A    A    A    C    B    D    A    D    A  ...  0.650609  0.375348   \n",
       "3   4    B    B    A    C    B    D    A    E    C  ...  0.668980  0.239061   \n",
       "4   6    A    A    A    C    B    D    A    E    A  ...  0.686964  0.420667   \n",
       "\n",
       "      cont7     cont8     cont9    cont10    cont11    cont12    cont13  \\\n",
       "0  0.310921  0.389470  0.267559  0.237281  0.377873  0.322401  0.869850   \n",
       "1  0.516294  0.594928  0.341439  0.906013  0.921701  0.261975  0.465083   \n",
       "2  0.902567  0.555205  0.843531  0.748809  0.620126  0.541474  0.763846   \n",
       "3  0.732948  0.679618  0.574844  0.346010  0.714610  0.540150  0.280682   \n",
       "4  0.648182  0.684501  0.956692  1.000773  0.776742  0.625849  0.250823   \n",
       "\n",
       "     target  \n",
       "0  8.113634  \n",
       "1  8.481233  \n",
       "2  8.364351  \n",
       "3  8.049253  \n",
       "4  7.972260  \n",
       "\n",
       "[5 rows x 26 columns]"
      ]
     },
     "execution_count": 4,
     "metadata": {},
     "output_type": "execute_result"
    }
   ],
   "source": [
    "# Load the training data\n",
    "train = pd.read_csv(\"../input/30-days-of-ml/train.csv\")\n",
    "test = pd.read_csv(\"../input/30-days-of-ml/test.csv\")\n",
    "\n",
    "# Preview the data\n",
    "train.head()"
   ]
  },
  {
   "cell_type": "code",
   "execution_count": 5,
   "id": "2d7ba8dc",
   "metadata": {
    "execution": {
     "iopub.execute_input": "2021-08-29T15:49:39.704825Z",
     "iopub.status.busy": "2021-08-29T15:49:39.704099Z",
     "iopub.status.idle": "2021-08-29T15:49:39.858946Z",
     "shell.execute_reply": "2021-08-29T15:49:39.859443Z",
     "shell.execute_reply.started": "2021-08-25T14:50:28.162127Z"
    },
    "papermill": {
     "duration": 0.211346,
     "end_time": "2021-08-29T15:49:39.859626",
     "exception": false,
     "start_time": "2021-08-29T15:49:39.648280",
     "status": "completed"
    },
    "tags": []
   },
   "outputs": [
    {
     "data": {
      "text/html": [
       "<div>\n",
       "<style scoped>\n",
       "    .dataframe tbody tr th:only-of-type {\n",
       "        vertical-align: middle;\n",
       "    }\n",
       "\n",
       "    .dataframe tbody tr th {\n",
       "        vertical-align: top;\n",
       "    }\n",
       "\n",
       "    .dataframe thead th {\n",
       "        text-align: right;\n",
       "    }\n",
       "</style>\n",
       "<table border=\"1\" class=\"dataframe\">\n",
       "  <thead>\n",
       "    <tr style=\"text-align: right;\">\n",
       "      <th></th>\n",
       "      <th>id</th>\n",
       "      <th>cat0</th>\n",
       "      <th>cat1</th>\n",
       "      <th>cat5</th>\n",
       "      <th>cat7</th>\n",
       "      <th>cat8</th>\n",
       "      <th>cat9</th>\n",
       "      <th>cont0</th>\n",
       "      <th>cont1</th>\n",
       "      <th>cont2</th>\n",
       "      <th>...</th>\n",
       "      <th>cont5</th>\n",
       "      <th>cont6</th>\n",
       "      <th>cont7</th>\n",
       "      <th>cont8</th>\n",
       "      <th>cont9</th>\n",
       "      <th>cont10</th>\n",
       "      <th>cont11</th>\n",
       "      <th>cont12</th>\n",
       "      <th>cont13</th>\n",
       "      <th>target</th>\n",
       "    </tr>\n",
       "  </thead>\n",
       "  <tbody>\n",
       "    <tr>\n",
       "      <th>0</th>\n",
       "      <td>1</td>\n",
       "      <td>B</td>\n",
       "      <td>B</td>\n",
       "      <td>B</td>\n",
       "      <td>E</td>\n",
       "      <td>C</td>\n",
       "      <td>N</td>\n",
       "      <td>0.201470</td>\n",
       "      <td>-0.014822</td>\n",
       "      <td>0.669699</td>\n",
       "      <td>...</td>\n",
       "      <td>0.400361</td>\n",
       "      <td>0.160266</td>\n",
       "      <td>0.310921</td>\n",
       "      <td>0.389470</td>\n",
       "      <td>0.267559</td>\n",
       "      <td>0.237281</td>\n",
       "      <td>0.377873</td>\n",
       "      <td>0.322401</td>\n",
       "      <td>0.869850</td>\n",
       "      <td>8.113634</td>\n",
       "    </tr>\n",
       "    <tr>\n",
       "      <th>1</th>\n",
       "      <td>2</td>\n",
       "      <td>B</td>\n",
       "      <td>B</td>\n",
       "      <td>D</td>\n",
       "      <td>F</td>\n",
       "      <td>A</td>\n",
       "      <td>O</td>\n",
       "      <td>0.743068</td>\n",
       "      <td>0.367411</td>\n",
       "      <td>1.021605</td>\n",
       "      <td>...</td>\n",
       "      <td>0.533087</td>\n",
       "      <td>0.558922</td>\n",
       "      <td>0.516294</td>\n",
       "      <td>0.594928</td>\n",
       "      <td>0.341439</td>\n",
       "      <td>0.906013</td>\n",
       "      <td>0.921701</td>\n",
       "      <td>0.261975</td>\n",
       "      <td>0.465083</td>\n",
       "      <td>8.481233</td>\n",
       "    </tr>\n",
       "    <tr>\n",
       "      <th>2</th>\n",
       "      <td>3</td>\n",
       "      <td>A</td>\n",
       "      <td>A</td>\n",
       "      <td>D</td>\n",
       "      <td>D</td>\n",
       "      <td>A</td>\n",
       "      <td>F</td>\n",
       "      <td>0.742708</td>\n",
       "      <td>0.310383</td>\n",
       "      <td>-0.012673</td>\n",
       "      <td>...</td>\n",
       "      <td>0.650609</td>\n",
       "      <td>0.375348</td>\n",
       "      <td>0.902567</td>\n",
       "      <td>0.555205</td>\n",
       "      <td>0.843531</td>\n",
       "      <td>0.748809</td>\n",
       "      <td>0.620126</td>\n",
       "      <td>0.541474</td>\n",
       "      <td>0.763846</td>\n",
       "      <td>8.364351</td>\n",
       "    </tr>\n",
       "    <tr>\n",
       "      <th>3</th>\n",
       "      <td>4</td>\n",
       "      <td>B</td>\n",
       "      <td>B</td>\n",
       "      <td>D</td>\n",
       "      <td>E</td>\n",
       "      <td>C</td>\n",
       "      <td>K</td>\n",
       "      <td>0.429551</td>\n",
       "      <td>0.620998</td>\n",
       "      <td>0.577942</td>\n",
       "      <td>...</td>\n",
       "      <td>0.668980</td>\n",
       "      <td>0.239061</td>\n",
       "      <td>0.732948</td>\n",
       "      <td>0.679618</td>\n",
       "      <td>0.574844</td>\n",
       "      <td>0.346010</td>\n",
       "      <td>0.714610</td>\n",
       "      <td>0.540150</td>\n",
       "      <td>0.280682</td>\n",
       "      <td>8.049253</td>\n",
       "    </tr>\n",
       "    <tr>\n",
       "      <th>4</th>\n",
       "      <td>6</td>\n",
       "      <td>A</td>\n",
       "      <td>A</td>\n",
       "      <td>D</td>\n",
       "      <td>E</td>\n",
       "      <td>A</td>\n",
       "      <td>N</td>\n",
       "      <td>1.058291</td>\n",
       "      <td>0.367492</td>\n",
       "      <td>-0.052389</td>\n",
       "      <td>...</td>\n",
       "      <td>0.686964</td>\n",
       "      <td>0.420667</td>\n",
       "      <td>0.648182</td>\n",
       "      <td>0.684501</td>\n",
       "      <td>0.956692</td>\n",
       "      <td>1.000773</td>\n",
       "      <td>0.776742</td>\n",
       "      <td>0.625849</td>\n",
       "      <td>0.250823</td>\n",
       "      <td>7.972260</td>\n",
       "    </tr>\n",
       "  </tbody>\n",
       "</table>\n",
       "<p>5 rows × 22 columns</p>\n",
       "</div>"
      ],
      "text/plain": [
       "   id cat0 cat1 cat5 cat7 cat8 cat9     cont0     cont1     cont2  ...  \\\n",
       "0   1    B    B    B    E    C    N  0.201470 -0.014822  0.669699  ...   \n",
       "1   2    B    B    D    F    A    O  0.743068  0.367411  1.021605  ...   \n",
       "2   3    A    A    D    D    A    F  0.742708  0.310383 -0.012673  ...   \n",
       "3   4    B    B    D    E    C    K  0.429551  0.620998  0.577942  ...   \n",
       "4   6    A    A    D    E    A    N  1.058291  0.367492 -0.052389  ...   \n",
       "\n",
       "      cont5     cont6     cont7     cont8     cont9    cont10    cont11  \\\n",
       "0  0.400361  0.160266  0.310921  0.389470  0.267559  0.237281  0.377873   \n",
       "1  0.533087  0.558922  0.516294  0.594928  0.341439  0.906013  0.921701   \n",
       "2  0.650609  0.375348  0.902567  0.555205  0.843531  0.748809  0.620126   \n",
       "3  0.668980  0.239061  0.732948  0.679618  0.574844  0.346010  0.714610   \n",
       "4  0.686964  0.420667  0.648182  0.684501  0.956692  1.000773  0.776742   \n",
       "\n",
       "     cont12    cont13    target  \n",
       "0  0.322401  0.869850  8.113634  \n",
       "1  0.261975  0.465083  8.481233  \n",
       "2  0.541474  0.763846  8.364351  \n",
       "3  0.540150  0.280682  8.049253  \n",
       "4  0.625849  0.250823  7.972260  \n",
       "\n",
       "[5 rows x 22 columns]"
      ]
     },
     "execution_count": 5,
     "metadata": {},
     "output_type": "execute_result"
    }
   ],
   "source": [
    "# Low MI scores\n",
    "for pp in [\"cat2\",\"cat3\",\"cat4\",\"cat6\"]:\n",
    "    train.pop(pp)\n",
    "    test.pop(pp)\n",
    "train.head()"
   ]
  },
  {
   "cell_type": "code",
   "execution_count": 6,
   "id": "9bc21132",
   "metadata": {
    "execution": {
     "iopub.execute_input": "2021-08-29T15:49:39.900386Z",
     "iopub.status.busy": "2021-08-29T15:49:39.899484Z",
     "iopub.status.idle": "2021-08-29T15:49:39.952979Z",
     "shell.execute_reply": "2021-08-29T15:49:39.952395Z",
     "shell.execute_reply.started": "2021-08-25T14:50:28.334953Z"
    },
    "papermill": {
     "duration": 0.076784,
     "end_time": "2021-08-29T15:49:39.953156",
     "exception": false,
     "start_time": "2021-08-29T15:49:39.876372",
     "status": "completed"
    },
    "tags": []
   },
   "outputs": [
    {
     "data": {
      "text/html": [
       "<div>\n",
       "<style scoped>\n",
       "    .dataframe tbody tr th:only-of-type {\n",
       "        vertical-align: middle;\n",
       "    }\n",
       "\n",
       "    .dataframe tbody tr th {\n",
       "        vertical-align: top;\n",
       "    }\n",
       "\n",
       "    .dataframe thead th {\n",
       "        text-align: right;\n",
       "    }\n",
       "</style>\n",
       "<table border=\"1\" class=\"dataframe\">\n",
       "  <thead>\n",
       "    <tr style=\"text-align: right;\">\n",
       "      <th></th>\n",
       "      <th>cat0</th>\n",
       "      <th>cat1</th>\n",
       "      <th>cat5</th>\n",
       "      <th>cat7</th>\n",
       "      <th>cat8</th>\n",
       "      <th>cat9</th>\n",
       "      <th>cont0</th>\n",
       "      <th>cont1</th>\n",
       "      <th>cont2</th>\n",
       "      <th>cont3</th>\n",
       "      <th>cont4</th>\n",
       "      <th>cont5</th>\n",
       "      <th>cont6</th>\n",
       "      <th>cont7</th>\n",
       "      <th>cont8</th>\n",
       "      <th>cont9</th>\n",
       "      <th>cont10</th>\n",
       "      <th>cont11</th>\n",
       "      <th>cont12</th>\n",
       "      <th>cont13</th>\n",
       "    </tr>\n",
       "  </thead>\n",
       "  <tbody>\n",
       "    <tr>\n",
       "      <th>0</th>\n",
       "      <td>B</td>\n",
       "      <td>B</td>\n",
       "      <td>B</td>\n",
       "      <td>E</td>\n",
       "      <td>C</td>\n",
       "      <td>N</td>\n",
       "      <td>0.201470</td>\n",
       "      <td>-0.014822</td>\n",
       "      <td>0.669699</td>\n",
       "      <td>0.136278</td>\n",
       "      <td>0.610706</td>\n",
       "      <td>0.400361</td>\n",
       "      <td>0.160266</td>\n",
       "      <td>0.310921</td>\n",
       "      <td>0.389470</td>\n",
       "      <td>0.267559</td>\n",
       "      <td>0.237281</td>\n",
       "      <td>0.377873</td>\n",
       "      <td>0.322401</td>\n",
       "      <td>0.869850</td>\n",
       "    </tr>\n",
       "    <tr>\n",
       "      <th>1</th>\n",
       "      <td>B</td>\n",
       "      <td>B</td>\n",
       "      <td>D</td>\n",
       "      <td>F</td>\n",
       "      <td>A</td>\n",
       "      <td>O</td>\n",
       "      <td>0.743068</td>\n",
       "      <td>0.367411</td>\n",
       "      <td>1.021605</td>\n",
       "      <td>0.365798</td>\n",
       "      <td>0.276853</td>\n",
       "      <td>0.533087</td>\n",
       "      <td>0.558922</td>\n",
       "      <td>0.516294</td>\n",
       "      <td>0.594928</td>\n",
       "      <td>0.341439</td>\n",
       "      <td>0.906013</td>\n",
       "      <td>0.921701</td>\n",
       "      <td>0.261975</td>\n",
       "      <td>0.465083</td>\n",
       "    </tr>\n",
       "    <tr>\n",
       "      <th>2</th>\n",
       "      <td>A</td>\n",
       "      <td>A</td>\n",
       "      <td>D</td>\n",
       "      <td>D</td>\n",
       "      <td>A</td>\n",
       "      <td>F</td>\n",
       "      <td>0.742708</td>\n",
       "      <td>0.310383</td>\n",
       "      <td>-0.012673</td>\n",
       "      <td>0.576957</td>\n",
       "      <td>0.285074</td>\n",
       "      <td>0.650609</td>\n",
       "      <td>0.375348</td>\n",
       "      <td>0.902567</td>\n",
       "      <td>0.555205</td>\n",
       "      <td>0.843531</td>\n",
       "      <td>0.748809</td>\n",
       "      <td>0.620126</td>\n",
       "      <td>0.541474</td>\n",
       "      <td>0.763846</td>\n",
       "    </tr>\n",
       "    <tr>\n",
       "      <th>3</th>\n",
       "      <td>B</td>\n",
       "      <td>B</td>\n",
       "      <td>D</td>\n",
       "      <td>E</td>\n",
       "      <td>C</td>\n",
       "      <td>K</td>\n",
       "      <td>0.429551</td>\n",
       "      <td>0.620998</td>\n",
       "      <td>0.577942</td>\n",
       "      <td>0.280610</td>\n",
       "      <td>0.284667</td>\n",
       "      <td>0.668980</td>\n",
       "      <td>0.239061</td>\n",
       "      <td>0.732948</td>\n",
       "      <td>0.679618</td>\n",
       "      <td>0.574844</td>\n",
       "      <td>0.346010</td>\n",
       "      <td>0.714610</td>\n",
       "      <td>0.540150</td>\n",
       "      <td>0.280682</td>\n",
       "    </tr>\n",
       "    <tr>\n",
       "      <th>4</th>\n",
       "      <td>A</td>\n",
       "      <td>A</td>\n",
       "      <td>D</td>\n",
       "      <td>E</td>\n",
       "      <td>A</td>\n",
       "      <td>N</td>\n",
       "      <td>1.058291</td>\n",
       "      <td>0.367492</td>\n",
       "      <td>-0.052389</td>\n",
       "      <td>0.232407</td>\n",
       "      <td>0.287595</td>\n",
       "      <td>0.686964</td>\n",
       "      <td>0.420667</td>\n",
       "      <td>0.648182</td>\n",
       "      <td>0.684501</td>\n",
       "      <td>0.956692</td>\n",
       "      <td>1.000773</td>\n",
       "      <td>0.776742</td>\n",
       "      <td>0.625849</td>\n",
       "      <td>0.250823</td>\n",
       "    </tr>\n",
       "  </tbody>\n",
       "</table>\n",
       "</div>"
      ],
      "text/plain": [
       "  cat0 cat1 cat5 cat7 cat8 cat9     cont0     cont1     cont2     cont3  \\\n",
       "0    B    B    B    E    C    N  0.201470 -0.014822  0.669699  0.136278   \n",
       "1    B    B    D    F    A    O  0.743068  0.367411  1.021605  0.365798   \n",
       "2    A    A    D    D    A    F  0.742708  0.310383 -0.012673  0.576957   \n",
       "3    B    B    D    E    C    K  0.429551  0.620998  0.577942  0.280610   \n",
       "4    A    A    D    E    A    N  1.058291  0.367492 -0.052389  0.232407   \n",
       "\n",
       "      cont4     cont5     cont6     cont7     cont8     cont9    cont10  \\\n",
       "0  0.610706  0.400361  0.160266  0.310921  0.389470  0.267559  0.237281   \n",
       "1  0.276853  0.533087  0.558922  0.516294  0.594928  0.341439  0.906013   \n",
       "2  0.285074  0.650609  0.375348  0.902567  0.555205  0.843531  0.748809   \n",
       "3  0.284667  0.668980  0.239061  0.732948  0.679618  0.574844  0.346010   \n",
       "4  0.287595  0.686964  0.420667  0.648182  0.684501  0.956692  1.000773   \n",
       "\n",
       "     cont11    cont12    cont13  \n",
       "0  0.377873  0.322401  0.869850  \n",
       "1  0.921701  0.261975  0.465083  \n",
       "2  0.620126  0.541474  0.763846  \n",
       "3  0.714610  0.540150  0.280682  \n",
       "4  0.776742  0.625849  0.250823  "
      ]
     },
     "execution_count": 6,
     "metadata": {},
     "output_type": "execute_result"
    }
   ],
   "source": [
    "# Separate target from features\n",
    "y = train['target']\n",
    "features = train.drop(['id','target'], axis=1)\n",
    "\n",
    "# Preview features\n",
    "features.head()"
   ]
  },
  {
   "cell_type": "markdown",
   "id": "16f8471a",
   "metadata": {
    "papermill": {
     "duration": 0.016793,
     "end_time": "2021-08-29T15:49:39.989047",
     "exception": false,
     "start_time": "2021-08-29T15:49:39.972254",
     "status": "completed"
    },
    "tags": []
   },
   "source": [
    "# Preprocessing"
   ]
  },
  {
   "cell_type": "code",
   "execution_count": 7,
   "id": "ea8830b2",
   "metadata": {
    "execution": {
     "iopub.execute_input": "2021-08-29T15:49:40.030937Z",
     "iopub.status.busy": "2021-08-29T15:49:40.030031Z",
     "iopub.status.idle": "2021-08-29T15:49:40.034666Z",
     "shell.execute_reply": "2021-08-29T15:49:40.034177Z",
     "shell.execute_reply.started": "2021-08-25T14:50:28.388579Z"
    },
    "papermill": {
     "duration": 0.028345,
     "end_time": "2021-08-29T15:49:40.034806",
     "exception": false,
     "start_time": "2021-08-29T15:49:40.006461",
     "status": "completed"
    },
    "tags": []
   },
   "outputs": [
    {
     "data": {
      "text/plain": [
       "\"\\n# List of categorical columns\\nobject_cols = [col for col in features.columns if 'cat' in col]\\n\\n# ordinal-encode categorical columns\\nX = features.copy()\\nX_test = test.drop(['id'], axis=1).copy()\\nordinal_encoder = OrdinalEncoder()\\nX[object_cols] = ordinal_encoder.fit_transform(features[object_cols])\\nX_test[object_cols] = ordinal_encoder.transform(test[object_cols])\\n\\n# Preview the ordinal-encoded features\\nX.head()\\n\""
      ]
     },
     "execution_count": 7,
     "metadata": {},
     "output_type": "execute_result"
    }
   ],
   "source": [
    "'''\n",
    "# List of categorical columns\n",
    "object_cols = [col for col in features.columns if 'cat' in col]\n",
    "\n",
    "# ordinal-encode categorical columns\n",
    "X = features.copy()\n",
    "X_test = test.drop(['id'], axis=1).copy()\n",
    "ordinal_encoder = OrdinalEncoder()\n",
    "X[object_cols] = ordinal_encoder.fit_transform(features[object_cols])\n",
    "X_test[object_cols] = ordinal_encoder.transform(test[object_cols])\n",
    "\n",
    "# Preview the ordinal-encoded features\n",
    "X.head()\n",
    "'''"
   ]
  },
  {
   "cell_type": "code",
   "execution_count": 8,
   "id": "024c6ff0",
   "metadata": {
    "execution": {
     "iopub.execute_input": "2021-08-29T15:49:40.079479Z",
     "iopub.status.busy": "2021-08-29T15:49:40.078774Z",
     "iopub.status.idle": "2021-08-29T15:49:42.303575Z",
     "shell.execute_reply": "2021-08-29T15:49:42.302496Z",
     "shell.execute_reply.started": "2021-08-25T14:50:30.978302Z"
    },
    "papermill": {
     "duration": 2.250599,
     "end_time": "2021-08-29T15:49:42.303731",
     "exception": false,
     "start_time": "2021-08-29T15:49:40.053132",
     "status": "completed"
    },
    "tags": []
   },
   "outputs": [
    {
     "data": {
      "text/html": [
       "<div>\n",
       "<style scoped>\n",
       "    .dataframe tbody tr th:only-of-type {\n",
       "        vertical-align: middle;\n",
       "    }\n",
       "\n",
       "    .dataframe tbody tr th {\n",
       "        vertical-align: top;\n",
       "    }\n",
       "\n",
       "    .dataframe thead th {\n",
       "        text-align: right;\n",
       "    }\n",
       "</style>\n",
       "<table border=\"1\" class=\"dataframe\">\n",
       "  <thead>\n",
       "    <tr style=\"text-align: right;\">\n",
       "      <th></th>\n",
       "      <th>cont0</th>\n",
       "      <th>cont1</th>\n",
       "      <th>cont2</th>\n",
       "      <th>cont3</th>\n",
       "      <th>cont4</th>\n",
       "      <th>cont5</th>\n",
       "      <th>cont6</th>\n",
       "      <th>cont7</th>\n",
       "      <th>cont8</th>\n",
       "      <th>cont9</th>\n",
       "      <th>...</th>\n",
       "      <th>ohe_28</th>\n",
       "      <th>ohe_29</th>\n",
       "      <th>ohe_30</th>\n",
       "      <th>ohe_31</th>\n",
       "      <th>ohe_32</th>\n",
       "      <th>ohe_33</th>\n",
       "      <th>ohe_34</th>\n",
       "      <th>ohe_35</th>\n",
       "      <th>ohe_36</th>\n",
       "      <th>ohe_37</th>\n",
       "    </tr>\n",
       "  </thead>\n",
       "  <tbody>\n",
       "    <tr>\n",
       "      <th>0</th>\n",
       "      <td>0.201470</td>\n",
       "      <td>-0.014822</td>\n",
       "      <td>0.669699</td>\n",
       "      <td>0.136278</td>\n",
       "      <td>0.610706</td>\n",
       "      <td>0.400361</td>\n",
       "      <td>0.160266</td>\n",
       "      <td>0.310921</td>\n",
       "      <td>0.389470</td>\n",
       "      <td>0.267559</td>\n",
       "      <td>...</td>\n",
       "      <td>0.0</td>\n",
       "      <td>0.0</td>\n",
       "      <td>0.0</td>\n",
       "      <td>0.0</td>\n",
       "      <td>0.0</td>\n",
       "      <td>0.0</td>\n",
       "      <td>0.0</td>\n",
       "      <td>0.0</td>\n",
       "      <td>1.0</td>\n",
       "      <td>0.0</td>\n",
       "    </tr>\n",
       "    <tr>\n",
       "      <th>1</th>\n",
       "      <td>0.743068</td>\n",
       "      <td>0.367411</td>\n",
       "      <td>1.021605</td>\n",
       "      <td>0.365798</td>\n",
       "      <td>0.276853</td>\n",
       "      <td>0.533087</td>\n",
       "      <td>0.558922</td>\n",
       "      <td>0.516294</td>\n",
       "      <td>0.594928</td>\n",
       "      <td>0.341439</td>\n",
       "      <td>...</td>\n",
       "      <td>0.0</td>\n",
       "      <td>0.0</td>\n",
       "      <td>0.0</td>\n",
       "      <td>0.0</td>\n",
       "      <td>0.0</td>\n",
       "      <td>0.0</td>\n",
       "      <td>0.0</td>\n",
       "      <td>0.0</td>\n",
       "      <td>0.0</td>\n",
       "      <td>1.0</td>\n",
       "    </tr>\n",
       "    <tr>\n",
       "      <th>2</th>\n",
       "      <td>0.742708</td>\n",
       "      <td>0.310383</td>\n",
       "      <td>-0.012673</td>\n",
       "      <td>0.576957</td>\n",
       "      <td>0.285074</td>\n",
       "      <td>0.650609</td>\n",
       "      <td>0.375348</td>\n",
       "      <td>0.902567</td>\n",
       "      <td>0.555205</td>\n",
       "      <td>0.843531</td>\n",
       "      <td>...</td>\n",
       "      <td>1.0</td>\n",
       "      <td>0.0</td>\n",
       "      <td>0.0</td>\n",
       "      <td>0.0</td>\n",
       "      <td>0.0</td>\n",
       "      <td>0.0</td>\n",
       "      <td>0.0</td>\n",
       "      <td>0.0</td>\n",
       "      <td>0.0</td>\n",
       "      <td>0.0</td>\n",
       "    </tr>\n",
       "    <tr>\n",
       "      <th>3</th>\n",
       "      <td>0.429551</td>\n",
       "      <td>0.620998</td>\n",
       "      <td>0.577942</td>\n",
       "      <td>0.280610</td>\n",
       "      <td>0.284667</td>\n",
       "      <td>0.668980</td>\n",
       "      <td>0.239061</td>\n",
       "      <td>0.732948</td>\n",
       "      <td>0.679618</td>\n",
       "      <td>0.574844</td>\n",
       "      <td>...</td>\n",
       "      <td>0.0</td>\n",
       "      <td>0.0</td>\n",
       "      <td>0.0</td>\n",
       "      <td>0.0</td>\n",
       "      <td>0.0</td>\n",
       "      <td>1.0</td>\n",
       "      <td>0.0</td>\n",
       "      <td>0.0</td>\n",
       "      <td>0.0</td>\n",
       "      <td>0.0</td>\n",
       "    </tr>\n",
       "    <tr>\n",
       "      <th>4</th>\n",
       "      <td>1.058291</td>\n",
       "      <td>0.367492</td>\n",
       "      <td>-0.052389</td>\n",
       "      <td>0.232407</td>\n",
       "      <td>0.287595</td>\n",
       "      <td>0.686964</td>\n",
       "      <td>0.420667</td>\n",
       "      <td>0.648182</td>\n",
       "      <td>0.684501</td>\n",
       "      <td>0.956692</td>\n",
       "      <td>...</td>\n",
       "      <td>0.0</td>\n",
       "      <td>0.0</td>\n",
       "      <td>0.0</td>\n",
       "      <td>0.0</td>\n",
       "      <td>0.0</td>\n",
       "      <td>0.0</td>\n",
       "      <td>0.0</td>\n",
       "      <td>0.0</td>\n",
       "      <td>1.0</td>\n",
       "      <td>0.0</td>\n",
       "    </tr>\n",
       "  </tbody>\n",
       "</table>\n",
       "<p>5 rows × 52 columns</p>\n",
       "</div>"
      ],
      "text/plain": [
       "      cont0     cont1     cont2     cont3     cont4     cont5     cont6  \\\n",
       "0  0.201470 -0.014822  0.669699  0.136278  0.610706  0.400361  0.160266   \n",
       "1  0.743068  0.367411  1.021605  0.365798  0.276853  0.533087  0.558922   \n",
       "2  0.742708  0.310383 -0.012673  0.576957  0.285074  0.650609  0.375348   \n",
       "3  0.429551  0.620998  0.577942  0.280610  0.284667  0.668980  0.239061   \n",
       "4  1.058291  0.367492 -0.052389  0.232407  0.287595  0.686964  0.420667   \n",
       "\n",
       "      cont7     cont8     cont9  ...  ohe_28  ohe_29  ohe_30  ohe_31  ohe_32  \\\n",
       "0  0.310921  0.389470  0.267559  ...     0.0     0.0     0.0     0.0     0.0   \n",
       "1  0.516294  0.594928  0.341439  ...     0.0     0.0     0.0     0.0     0.0   \n",
       "2  0.902567  0.555205  0.843531  ...     1.0     0.0     0.0     0.0     0.0   \n",
       "3  0.732948  0.679618  0.574844  ...     0.0     0.0     0.0     0.0     0.0   \n",
       "4  0.648182  0.684501  0.956692  ...     0.0     0.0     0.0     0.0     0.0   \n",
       "\n",
       "   ohe_33  ohe_34  ohe_35  ohe_36  ohe_37  \n",
       "0     0.0     0.0     0.0     1.0     0.0  \n",
       "1     0.0     0.0     0.0     0.0     1.0  \n",
       "2     0.0     0.0     0.0     0.0     0.0  \n",
       "3     1.0     0.0     0.0     0.0     0.0  \n",
       "4     0.0     0.0     0.0     1.0     0.0  \n",
       "\n",
       "[5 rows x 52 columns]"
      ]
     },
     "execution_count": 8,
     "metadata": {},
     "output_type": "execute_result"
    }
   ],
   "source": [
    "\n",
    "# List of categorical columns\n",
    "object_cols = [col for col in features.columns if 'cat' in col]\n",
    "\n",
    "# one-hot-encode categorical columns\n",
    "X = features.copy()\n",
    "X_test = test.drop(['id'], axis=1).copy()\n",
    "\n",
    "oh_encoder = OneHotEncoder(sparse=False, handle_unknown=\"ignore\")\n",
    "X_ohe = oh_encoder.fit_transform(features[object_cols])\n",
    "X_test_ohe = oh_encoder.transform(test[object_cols])\n",
    "\n",
    "X_ohe = pd.DataFrame(X_ohe, columns=[f\"ohe_{i}\" for i in range(X_ohe.shape[1])])\n",
    "X_test_ohe = pd.DataFrame(X_test_ohe, columns=[f\"ohe_{i}\" for i in range(X_test_ohe.shape[1])])\n",
    "\n",
    "X = pd.concat([X, X_ohe], axis=1)\n",
    "X_test = pd.concat([X_test, X_test_ohe], axis=1)\n",
    "X = X.drop(object_cols, axis=1)\n",
    "X_test = X_test.drop(object_cols, axis=1)\n",
    "    \n",
    "# Preview the one-hot-encoded features\n",
    "X.head()\n"
   ]
  },
  {
   "cell_type": "code",
   "execution_count": 9,
   "id": "b6848f9b",
   "metadata": {
    "execution": {
     "iopub.execute_input": "2021-08-29T15:49:42.361635Z",
     "iopub.status.busy": "2021-08-29T15:49:42.360944Z",
     "iopub.status.idle": "2021-08-29T15:49:42.518507Z",
     "shell.execute_reply": "2021-08-29T15:49:42.517938Z",
     "shell.execute_reply.started": "2021-08-25T14:50:30.988805Z"
    },
    "papermill": {
     "duration": 0.196434,
     "end_time": "2021-08-29T15:49:42.518664",
     "exception": false,
     "start_time": "2021-08-29T15:49:42.322230",
     "status": "completed"
    },
    "tags": []
   },
   "outputs": [],
   "source": [
    "scale_features = [col for col in features.columns if 'cont' in col]\n",
    "\n",
    "ss = StandardScaler()\n",
    "X[scale_features] = ss.fit_transform(features[scale_features])\n",
    "X_test[scale_features] = ss.transform(test[scale_features])"
   ]
  },
  {
   "cell_type": "code",
   "execution_count": 10,
   "id": "3a813557",
   "metadata": {
    "execution": {
     "iopub.execute_input": "2021-08-29T15:49:42.564864Z",
     "iopub.status.busy": "2021-08-29T15:49:42.563784Z",
     "iopub.status.idle": "2021-08-29T15:49:42.566875Z",
     "shell.execute_reply": "2021-08-29T15:49:42.566247Z",
     "shell.execute_reply.started": "2021-08-25T14:50:33.045348Z"
    },
    "papermill": {
     "duration": 0.02972,
     "end_time": "2021-08-29T15:49:42.567017",
     "exception": false,
     "start_time": "2021-08-29T15:49:42.537297",
     "status": "completed"
    },
    "tags": []
   },
   "outputs": [],
   "source": [
    "# Swap noise\n",
    "\n",
    "# Random\n",
    "def apply_noise_rn(df, p=.75):\n",
    "    should_not_swap = np.random.binomial(1, p, df.shape)\n",
    "    corrupted_df = df.where(should_not_swap == 1, np.random.permutation(df))\n",
    "    return corrupted_df\n",
    "\n",
    "# Row-wise\n",
    "def apply_noise_row(df, p=.75):\n",
    "    should_not_swap = np.zeros(df.shape)\n",
    "    for i in range(df.shape[0]):\n",
    "        for j in np.random.choice(df.shape[1],int(p*df.shape[1]),replace=False):\n",
    "            should_not_swap[i,j]=1 \n",
    "    corrupted_df = df.where(should_not_swap == 1, np.random.permutation(df))\n",
    "    return corrupted_df"
   ]
  },
  {
   "cell_type": "markdown",
   "id": "5a62c9fb",
   "metadata": {
    "papermill": {
     "duration": 0.017926,
     "end_time": "2021-08-29T15:49:42.603221",
     "exception": false,
     "start_time": "2021-08-29T15:49:42.585295",
     "status": "completed"
    },
    "tags": []
   },
   "source": [
    "# Optuna"
   ]
  },
  {
   "cell_type": "code",
   "execution_count": 11,
   "id": "e91d8484",
   "metadata": {
    "execution": {
     "iopub.execute_input": "2021-08-29T15:49:42.645344Z",
     "iopub.status.busy": "2021-08-29T15:49:42.644572Z",
     "iopub.status.idle": "2021-08-29T15:49:52.510711Z",
     "shell.execute_reply": "2021-08-29T15:49:52.509907Z",
     "shell.execute_reply.started": "2021-08-25T14:50:33.055157Z"
    },
    "papermill": {
     "duration": 9.889299,
     "end_time": "2021-08-29T15:49:52.510860",
     "exception": false,
     "start_time": "2021-08-29T15:49:42.621561",
     "status": "completed"
    },
    "tags": []
   },
   "outputs": [
    {
     "name": "stdout",
     "output_type": "stream",
     "text": [
      "\u001b[33mWARNING: Running pip as root will break packages and permissions. You should install packages reliably by using venv: https://pip.pypa.io/warnings/venv\u001b[0m\r\n"
     ]
    }
   ],
   "source": [
    "# Optuna for parameter search\n",
    "!pip install -q optuna\n",
    "\n",
    "import optuna\n",
    "import pickle"
   ]
  },
  {
   "cell_type": "code",
   "execution_count": 12,
   "id": "24b17b72",
   "metadata": {
    "execution": {
     "iopub.execute_input": "2021-08-29T15:49:52.561988Z",
     "iopub.status.busy": "2021-08-29T15:49:52.561292Z",
     "iopub.status.idle": "2021-08-29T15:49:52.563799Z",
     "shell.execute_reply": "2021-08-29T15:49:52.564273Z",
     "shell.execute_reply.started": "2021-08-25T14:50:43.459482Z"
    },
    "papermill": {
     "duration": 0.03483,
     "end_time": "2021-08-29T15:49:52.564470",
     "exception": false,
     "start_time": "2021-08-29T15:49:52.529640",
     "status": "completed"
    },
    "tags": []
   },
   "outputs": [],
   "source": [
    "# for the fixed learning rate, use the opt n iterations and tune the tree hyperparameters\n",
    "def objective(trial, X=X, y=y):\n",
    "  \"\"\"\n",
    "  \"\"\"\n",
    "  param_space = {\n",
    "               #'device':'gpu',  # Use GPU acceleration\n",
    "               #'boosting_type': 'gbdt',\n",
    "               'reg_lambda':trial.suggest_uniform('reg_lambda', 58.8, 61.8),\n",
    "              'reg_alpha':trial.suggest_uniform('reg_alpha', 44, 47),\n",
    "                'subsample': trial.suggest_uniform('subsample', 0.371, 0.421),\n",
    "              'colsample_bytree':trial.suggest_uniform('colsample_bytree', 0.0202, 0.0602),\n",
    "                #'subsample_freq': trial.suggest_int('subsample_freq', 1, 10),\n",
    "               'learning_rate':trial.suggest_uniform('learning_rate', 9.69e-2, 1.169e-1),\n",
    "                 'min_child_samples':trial.suggest_int('min_child_samples', 15, 20),\n",
    "              'num_leaves':trial.suggest_int('num_leaves', 206, 218),\n",
    "              'max_depth':trial.suggest_int('max_depth', 23, 25),\n",
    "              #'min_split_gain': trial.suggest_float('min_split_gain', 0.0, 0.005),\n",
    "              #'class_weight':trial.suggest_categorical('class_weight',['balanced',None]),\n",
    "               'n_estimators':N_ESTIMATORS,\n",
    "                'n_jobs' : -1,\n",
    "              'metric':'rmse',\n",
    "              'max_bin':trial.suggest_int('max_bin', 1003, 1053),\n",
    "              'cat_smooth':trial.suggest_int('cat_smooth', 82, 87),\n",
    "              'cat_l2':trial.suggest_loguniform('cat_l2', 23.4, 29.4)\n",
    "                }\n",
    "            \n",
    "  seed_list=[SEED, SEED+1]\n",
    "  #kf = KFold(n_splits=N_SPLITS, shuffle=True, random_state=CVSEED)\n",
    "  #lgb_oof = np.zeros(train.shape[0])\n",
    "  #lgb_pred = np.zeros(test.shape[0])\n",
    "  X_tr, X_va, y_tr, y_va = train_test_split(X,y,test_size=.2,random_state=CVSEED)\n",
    "  pred=np.zeros(y_va.shape[0])\n",
    "    \n",
    "  #for (trn_idx, val_idx) in enumerate(kf.split(X, y)):\n",
    "  #print(f\"===== fold {fold} =====\")\n",
    "    \n",
    "  #X_tr = apply_noise_row(X_tr)\n",
    "\n",
    "  \n",
    "  #start = time.time()\n",
    "  for inseed in seed_list:\n",
    "    param_space['random_state'] = inseed\n",
    "\n",
    "    model = lgb.LGBMRegressor(**param_space)\n",
    "    model.fit(\n",
    "        X_tr, \n",
    "        y_tr,\n",
    "        eval_set=[(X_va, y_va)],\n",
    "        eval_metric='rmse',\n",
    "        early_stopping_rounds=EARLY_STOPPING_ROUNDS,\n",
    "        verbose=VERBOSE,\n",
    "        #categorical_feature=[0, 1, 2, 3, 4, 5, 6, 7, 8, 9]\n",
    "        #callbacks=[optuna.integration.LightGBMPruningCallback(trial, metric='rmse')],\n",
    "    )\n",
    "\n",
    "\n",
    "    pred += model.predict(X_va) / len(seed_list)\n",
    "    \n",
    "  #elapsed = time.time() - start\n",
    "  rmse = mean_squared_error(y_va, pred, squared=False)\n",
    "  #print(f\"fold {fold} - lgb rmse: {rmse:.6f}, elapsed time: {elapsed:.2f}sec\\n\")            \n",
    "  \n",
    "  #print(f\"oof lgb_rmse = {mean_squared_error(train[target], lgb_oof, squared=False)}\")\n",
    "\n",
    "  \n",
    "  return rmse"
   ]
  },
  {
   "cell_type": "code",
   "execution_count": 13,
   "id": "f4fae811",
   "metadata": {
    "execution": {
     "iopub.execute_input": "2021-08-29T15:49:52.608004Z",
     "iopub.status.busy": "2021-08-29T15:49:52.607053Z",
     "iopub.status.idle": "2021-08-29T16:17:00.481253Z",
     "shell.execute_reply": "2021-08-29T16:17:00.481769Z",
     "shell.execute_reply.started": "2021-08-25T14:50:43.475861Z"
    },
    "papermill": {
     "duration": 1627.898721,
     "end_time": "2021-08-29T16:17:00.481986",
     "exception": false,
     "start_time": "2021-08-29T15:49:52.583265",
     "status": "completed"
    },
    "tags": []
   },
   "outputs": [
    {
     "name": "stderr",
     "output_type": "stream",
     "text": [
      "\u001b[32m[I 2021-08-29 15:49:52,605]\u001b[0m A new study created in memory with name: no-name-df479054-1155-4f31-a7d0-24fdb5b8a760\u001b[0m\n"
     ]
    },
    {
     "name": "stdout",
     "output_type": "stream",
     "text": [
      "Training until validation scores don't improve for 200 rounds\n",
      "[1000]\tvalid_0's rmse: 0.71528\n",
      "[2000]\tvalid_0's rmse: 0.71462\n",
      "Early stopping, best iteration is:\n",
      "[2158]\tvalid_0's rmse: 0.714573\n",
      "Training until validation scores don't improve for 200 rounds\n",
      "[1000]\tvalid_0's rmse: 0.714556\n",
      "[2000]\tvalid_0's rmse: 0.714163\n",
      "Early stopping, best iteration is:\n",
      "[1974]\tvalid_0's rmse: 0.714153\n"
     ]
    },
    {
     "name": "stderr",
     "output_type": "stream",
     "text": [
      "\u001b[32m[I 2021-08-29 15:50:48,254]\u001b[0m Trial 0 finished with value: 0.7140660417309733 and parameters: {'reg_lambda': 59.37247800746857, 'reg_alpha': 46.74740903144017, 'subsample': 0.40314841433425597, 'colsample_bytree': 0.047674922288663046, 'learning_rate': 0.11295311366478794, 'min_child_samples': 20, 'num_leaves': 209, 'max_depth': 24, 'max_bin': 1019, 'cat_smooth': 82, 'cat_l2': 27.53807872810818}. Best is trial 0 with value: 0.7140660417309733.\u001b[0m\n"
     ]
    },
    {
     "name": "stdout",
     "output_type": "stream",
     "text": [
      "Training until validation scores don't improve for 200 rounds\n",
      "Early stopping, best iteration is:\n",
      "[1]\tvalid_0's rmse: 8.27805\n",
      "Training until validation scores don't improve for 200 rounds\n",
      "[1000]\tvalid_0's rmse: 0.715723\n",
      "[2000]\tvalid_0's rmse: 0.714607\n",
      "[3000]\tvalid_0's rmse: 0.714425\n",
      "[4000]\tvalid_0's rmse: 0.714348\n",
      "[5000]\tvalid_0's rmse: 0.714321\n",
      "[6000]\tvalid_0's rmse: 0.714308\n",
      "[7000]\tvalid_0's rmse: 0.714302\n",
      "[8000]\tvalid_0's rmse: 0.714299\n",
      "[9000]\tvalid_0's rmse: 0.714299\n",
      "[10000]\tvalid_0's rmse: 0.714298\n",
      "[11000]\tvalid_0's rmse: 0.714298\n",
      "[12000]\tvalid_0's rmse: 0.714297\n",
      "[13000]\tvalid_0's rmse: 0.714297\n",
      "[14000]\tvalid_0's rmse: 0.714297\n",
      "[15000]\tvalid_0's rmse: 0.714297\n",
      "[16000]\tvalid_0's rmse: 0.714297\n",
      "[17000]\tvalid_0's rmse: 0.714297\n",
      "[18000]\tvalid_0's rmse: 0.714297\n",
      "[19000]\tvalid_0's rmse: 0.714297\n",
      "[20000]\tvalid_0's rmse: 0.714297\n",
      "Did not meet early stopping. Best iteration is:\n",
      "[19990]\tvalid_0's rmse: 0.714297\n"
     ]
    },
    {
     "name": "stderr",
     "output_type": "stream",
     "text": [
      "\u001b[32m[I 2021-08-29 15:52:16,007]\u001b[0m Trial 1 finished with value: 0.7215775071972174 and parameters: {'reg_lambda': 61.11235114992489, 'reg_alpha': 46.58635961894863, 'subsample': 0.388947023473248, 'colsample_bytree': 0.022255664371316056, 'learning_rate': 0.10797340596899264, 'min_child_samples': 16, 'num_leaves': 208, 'max_depth': 23, 'max_bin': 1011, 'cat_smooth': 86, 'cat_l2': 29.155145134113567}. Best is trial 0 with value: 0.7140660417309733.\u001b[0m\n"
     ]
    },
    {
     "name": "stdout",
     "output_type": "stream",
     "text": [
      "Training until validation scores don't improve for 200 rounds\n",
      "[1000]\tvalid_0's rmse: 0.714278\n",
      "Early stopping, best iteration is:\n",
      "[1019]\tvalid_0's rmse: 0.714258\n",
      "Training until validation scores don't improve for 200 rounds\n",
      "[1000]\tvalid_0's rmse: 0.71447\n",
      "Early stopping, best iteration is:\n",
      "[949]\tvalid_0's rmse: 0.714416\n"
     ]
    },
    {
     "name": "stderr",
     "output_type": "stream",
     "text": [
      "\u001b[32m[I 2021-08-29 15:52:56,444]\u001b[0m Trial 2 finished with value: 0.7141281266585107 and parameters: {'reg_lambda': 61.28026001808623, 'reg_alpha': 44.272447331369534, 'subsample': 0.38042750576784157, 'colsample_bytree': 0.05408425518628607, 'learning_rate': 0.11195009481062194, 'min_child_samples': 20, 'num_leaves': 218, 'max_depth': 24, 'max_bin': 1032, 'cat_smooth': 83, 'cat_l2': 24.916590586644578}. Best is trial 0 with value: 0.7140660417309733.\u001b[0m\n"
     ]
    },
    {
     "name": "stdout",
     "output_type": "stream",
     "text": [
      "Training until validation scores don't improve for 200 rounds\n",
      "[1000]\tvalid_0's rmse: 0.715448\n",
      "[2000]\tvalid_0's rmse: 0.714512\n",
      "Early stopping, best iteration is:\n",
      "[2531]\tvalid_0's rmse: 0.714409\n",
      "Training until validation scores don't improve for 200 rounds\n",
      "[1000]\tvalid_0's rmse: 0.714769\n",
      "[2000]\tvalid_0's rmse: 0.714199\n",
      "Early stopping, best iteration is:\n",
      "[1974]\tvalid_0's rmse: 0.714188\n"
     ]
    },
    {
     "name": "stderr",
     "output_type": "stream",
     "text": [
      "\u001b[32m[I 2021-08-29 15:53:57,623]\u001b[0m Trial 3 finished with value: 0.7139994300083183 and parameters: {'reg_lambda': 60.637938594495495, 'reg_alpha': 44.64232535025033, 'subsample': 0.39712919329250546, 'colsample_bytree': 0.03286170446500506, 'learning_rate': 0.0975874587000339, 'min_child_samples': 16, 'num_leaves': 210, 'max_depth': 23, 'max_bin': 1038, 'cat_smooth': 85, 'cat_l2': 24.446497900014585}. Best is trial 3 with value: 0.7139994300083183.\u001b[0m\n"
     ]
    },
    {
     "name": "stdout",
     "output_type": "stream",
     "text": [
      "Training until validation scores don't improve for 200 rounds\n",
      "[1000]\tvalid_0's rmse: 0.715329\n",
      "Early stopping, best iteration is:\n",
      "[1759]\tvalid_0's rmse: 0.71463\n",
      "Training until validation scores don't improve for 200 rounds\n",
      "[1000]\tvalid_0's rmse: 0.714568\n",
      "[2000]\tvalid_0's rmse: 0.714065\n",
      "Early stopping, best iteration is:\n",
      "[2247]\tvalid_0's rmse: 0.714043\n"
     ]
    },
    {
     "name": "stderr",
     "output_type": "stream",
     "text": [
      "\u001b[32m[I 2021-08-29 15:54:52,024]\u001b[0m Trial 4 finished with value: 0.7140383616192774 and parameters: {'reg_lambda': 61.08084705518814, 'reg_alpha': 46.18805823531937, 'subsample': 0.39141906668070825, 'colsample_bytree': 0.04089371385731369, 'learning_rate': 0.10760418030122551, 'min_child_samples': 17, 'num_leaves': 215, 'max_depth': 23, 'max_bin': 1019, 'cat_smooth': 86, 'cat_l2': 25.696375011096954}. Best is trial 3 with value: 0.7139994300083183.\u001b[0m\n"
     ]
    },
    {
     "name": "stdout",
     "output_type": "stream",
     "text": [
      "Training until validation scores don't improve for 200 rounds\n",
      "[1000]\tvalid_0's rmse: 0.714312\n",
      "Early stopping, best iteration is:\n",
      "[1038]\tvalid_0's rmse: 0.714287\n",
      "Training until validation scores don't improve for 200 rounds\n",
      "[1000]\tvalid_0's rmse: 0.714501\n",
      "Early stopping, best iteration is:\n",
      "[962]\tvalid_0's rmse: 0.714487\n"
     ]
    },
    {
     "name": "stderr",
     "output_type": "stream",
     "text": [
      "\u001b[32m[I 2021-08-29 15:55:27,902]\u001b[0m Trial 5 finished with value: 0.7141743722168212 and parameters: {'reg_lambda': 60.86724969361107, 'reg_alpha': 46.150326149669766, 'subsample': 0.4063407652860171, 'colsample_bytree': 0.052124959010529034, 'learning_rate': 0.10398039127415884, 'min_child_samples': 16, 'num_leaves': 206, 'max_depth': 23, 'max_bin': 1011, 'cat_smooth': 82, 'cat_l2': 27.822265138712957}. Best is trial 3 with value: 0.7139994300083183.\u001b[0m\n"
     ]
    },
    {
     "name": "stdout",
     "output_type": "stream",
     "text": [
      "Training until validation scores don't improve for 200 rounds\n",
      "[1000]\tvalid_0's rmse: 0.715503\n",
      "[2000]\tvalid_0's rmse: 0.714659\n",
      "Early stopping, best iteration is:\n",
      "[2531]\tvalid_0's rmse: 0.714584\n",
      "Training until validation scores don't improve for 200 rounds\n",
      "[1000]\tvalid_0's rmse: 0.715361\n",
      "Early stopping, best iteration is:\n",
      "[1655]\tvalid_0's rmse: 0.714694\n"
     ]
    },
    {
     "name": "stderr",
     "output_type": "stream",
     "text": [
      "\u001b[32m[I 2021-08-29 15:56:24,859]\u001b[0m Trial 6 finished with value: 0.7144488570650758 and parameters: {'reg_lambda': 59.00246585404882, 'reg_alpha': 46.197996166062204, 'subsample': 0.3764950128005767, 'colsample_bytree': 0.030746248779799725, 'learning_rate': 0.10414854411751684, 'min_child_samples': 15, 'num_leaves': 216, 'max_depth': 25, 'max_bin': 1004, 'cat_smooth': 87, 'cat_l2': 24.735793104409957}. Best is trial 3 with value: 0.7139994300083183.\u001b[0m\n"
     ]
    },
    {
     "name": "stdout",
     "output_type": "stream",
     "text": [
      "Training until validation scores don't improve for 200 rounds\n",
      "Early stopping, best iteration is:\n",
      "[2]\tvalid_0's rmse: 8.27805\n",
      "Training until validation scores don't improve for 200 rounds\n",
      "[1000]\tvalid_0's rmse: 0.715964\n",
      "[2000]\tvalid_0's rmse: 0.714562\n",
      "[3000]\tvalid_0's rmse: 0.71431\n",
      "[4000]\tvalid_0's rmse: 0.714198\n",
      "[5000]\tvalid_0's rmse: 0.714154\n",
      "[6000]\tvalid_0's rmse: 0.714132\n",
      "[7000]\tvalid_0's rmse: 0.71412\n",
      "[8000]\tvalid_0's rmse: 0.714115\n",
      "[9000]\tvalid_0's rmse: 0.714112\n",
      "Early stopping, best iteration is:\n",
      "[9420]\tvalid_0's rmse: 0.714111\n"
     ]
    },
    {
     "name": "stderr",
     "output_type": "stream",
     "text": [
      "\u001b[32m[I 2021-08-29 15:57:14,243]\u001b[0m Trial 7 finished with value: 0.7214921767061337 and parameters: {'reg_lambda': 61.34334011816203, 'reg_alpha': 46.762545386015475, 'subsample': 0.418452689579665, 'colsample_bytree': 0.026867826856938063, 'learning_rate': 0.0983217757844432, 'min_child_samples': 17, 'num_leaves': 213, 'max_depth': 23, 'max_bin': 1047, 'cat_smooth': 83, 'cat_l2': 25.145574690479545}. Best is trial 3 with value: 0.7139994300083183.\u001b[0m\n"
     ]
    },
    {
     "name": "stdout",
     "output_type": "stream",
     "text": [
      "Training until validation scores don't improve for 200 rounds\n",
      "[1000]\tvalid_0's rmse: 0.714287\n",
      "Early stopping, best iteration is:\n",
      "[1124]\tvalid_0's rmse: 0.714239\n",
      "Training until validation scores don't improve for 200 rounds\n",
      "[1000]\tvalid_0's rmse: 0.714237\n",
      "Early stopping, best iteration is:\n",
      "[1012]\tvalid_0's rmse: 0.71422\n"
     ]
    },
    {
     "name": "stderr",
     "output_type": "stream",
     "text": [
      "\u001b[32m[I 2021-08-29 15:57:56,462]\u001b[0m Trial 8 finished with value: 0.7140044646901039 and parameters: {'reg_lambda': 60.220264277912605, 'reg_alpha': 45.12415522598367, 'subsample': 0.37305082006696344, 'colsample_bytree': 0.05808105506315403, 'learning_rate': 0.10790435046128988, 'min_child_samples': 18, 'num_leaves': 207, 'max_depth': 24, 'max_bin': 1048, 'cat_smooth': 82, 'cat_l2': 25.902340749680256}. Best is trial 3 with value: 0.7139994300083183.\u001b[0m\n"
     ]
    },
    {
     "name": "stdout",
     "output_type": "stream",
     "text": [
      "Training until validation scores don't improve for 200 rounds\n",
      "[1000]\tvalid_0's rmse: 0.71538\n",
      "[2000]\tvalid_0's rmse: 0.714618\n",
      "Early stopping, best iteration is:\n",
      "[2196]\tvalid_0's rmse: 0.714555\n",
      "Training until validation scores don't improve for 200 rounds\n",
      "[1000]\tvalid_0's rmse: 0.714605\n",
      "[2000]\tvalid_0's rmse: 0.714146\n",
      "Early stopping, best iteration is:\n",
      "[2136]\tvalid_0's rmse: 0.714136\n"
     ]
    },
    {
     "name": "stderr",
     "output_type": "stream",
     "text": [
      "\u001b[32m[I 2021-08-29 15:58:54,328]\u001b[0m Trial 9 finished with value: 0.7140567736237796 and parameters: {'reg_lambda': 59.17435371275335, 'reg_alpha': 45.258898320597076, 'subsample': 0.38634736220344185, 'colsample_bytree': 0.03970138240198397, 'learning_rate': 0.10724949736313615, 'min_child_samples': 16, 'num_leaves': 214, 'max_depth': 25, 'max_bin': 1050, 'cat_smooth': 82, 'cat_l2': 23.95905428037265}. Best is trial 3 with value: 0.7139994300083183.\u001b[0m\n"
     ]
    },
    {
     "name": "stdout",
     "output_type": "stream",
     "text": [
      "Training until validation scores don't improve for 200 rounds\n",
      "[1000]\tvalid_0's rmse: 0.715551\n",
      "[2000]\tvalid_0's rmse: 0.714617\n",
      "Early stopping, best iteration is:\n",
      "[2559]\tvalid_0's rmse: 0.714539\n",
      "Training until validation scores don't improve for 200 rounds\n",
      "[1000]\tvalid_0's rmse: 0.714721\n",
      "[2000]\tvalid_0's rmse: 0.714129\n",
      "Early stopping, best iteration is:\n",
      "[1974]\tvalid_0's rmse: 0.714121\n"
     ]
    },
    {
     "name": "stderr",
     "output_type": "stream",
     "text": [
      "\u001b[32m[I 2021-08-29 15:59:55,231]\u001b[0m Trial 10 finished with value: 0.7140488599305965 and parameters: {'reg_lambda': 60.220010619295, 'reg_alpha': 44.05840408313482, 'subsample': 0.4203848550564153, 'colsample_bytree': 0.03471075137158026, 'learning_rate': 0.09730893402272431, 'min_child_samples': 18, 'num_leaves': 211, 'max_depth': 23, 'max_bin': 1036, 'cat_smooth': 85, 'cat_l2': 23.677369872896108}. Best is trial 3 with value: 0.7139994300083183.\u001b[0m\n"
     ]
    },
    {
     "name": "stdout",
     "output_type": "stream",
     "text": [
      "Training until validation scores don't improve for 200 rounds\n",
      "[1000]\tvalid_0's rmse: 0.714386\n",
      "Early stopping, best iteration is:\n",
      "[975]\tvalid_0's rmse: 0.714367\n",
      "Training until validation scores don't improve for 200 rounds\n",
      "[1000]\tvalid_0's rmse: 0.714394\n",
      "Early stopping, best iteration is:\n",
      "[966]\tvalid_0's rmse: 0.714366\n"
     ]
    },
    {
     "name": "stderr",
     "output_type": "stream",
     "text": [
      "\u001b[32m[I 2021-08-29 16:00:34,995]\u001b[0m Trial 11 finished with value: 0.7141628405548907 and parameters: {'reg_lambda': 60.15380258757139, 'reg_alpha': 44.87126869279807, 'subsample': 0.40094142312067915, 'colsample_bytree': 0.05856041050595716, 'learning_rate': 0.10135588512042204, 'min_child_samples': 19, 'num_leaves': 206, 'max_depth': 24, 'max_bin': 1042, 'cat_smooth': 84, 'cat_l2': 26.440547798160125}. Best is trial 3 with value: 0.7139994300083183.\u001b[0m\n"
     ]
    },
    {
     "name": "stdout",
     "output_type": "stream",
     "text": [
      "Training until validation scores don't improve for 200 rounds\n",
      "[1000]\tvalid_0's rmse: 0.715295\n",
      "[2000]\tvalid_0's rmse: 0.714625\n",
      "Early stopping, best iteration is:\n",
      "[2196]\tvalid_0's rmse: 0.714591\n",
      "Training until validation scores don't improve for 200 rounds\n",
      "[1000]\tvalid_0's rmse: 0.714508\n",
      "[2000]\tvalid_0's rmse: 0.714063\n",
      "Early stopping, best iteration is:\n",
      "[2280]\tvalid_0's rmse: 0.71405\n"
     ]
    },
    {
     "name": "stderr",
     "output_type": "stream",
     "text": [
      "\u001b[32m[I 2021-08-29 16:01:34,545]\u001b[0m Trial 12 finished with value: 0.7140174542128389 and parameters: {'reg_lambda': 59.79178402939472, 'reg_alpha': 44.663004551841844, 'subsample': 0.4121681827724638, 'colsample_bytree': 0.0370124845282842, 'learning_rate': 0.11036663717450865, 'min_child_samples': 18, 'num_leaves': 210, 'max_depth': 24, 'max_bin': 1053, 'cat_smooth': 85, 'cat_l2': 26.59312144256721}. Best is trial 3 with value: 0.7139994300083183.\u001b[0m\n"
     ]
    },
    {
     "name": "stdout",
     "output_type": "stream",
     "text": [
      "Training until validation scores don't improve for 200 rounds\n",
      "[1000]\tvalid_0's rmse: 0.715229\n",
      "[2000]\tvalid_0's rmse: 0.71456\n",
      "Early stopping, best iteration is:\n",
      "[2021]\tvalid_0's rmse: 0.714549\n",
      "Training until validation scores don't improve for 200 rounds\n",
      "[1000]\tvalid_0's rmse: 0.715119\n",
      "Early stopping, best iteration is:\n",
      "[1576]\tvalid_0's rmse: 0.71464\n"
     ]
    },
    {
     "name": "stderr",
     "output_type": "stream",
     "text": [
      "\u001b[32m[I 2021-08-29 16:02:25,897]\u001b[0m Trial 13 finished with value: 0.7144226360487417 and parameters: {'reg_lambda': 60.55402039595699, 'reg_alpha': 45.318007977682896, 'subsample': 0.3719935517050669, 'colsample_bytree': 0.04623478745998739, 'learning_rate': 0.11499230892294643, 'min_child_samples': 15, 'num_leaves': 208, 'max_depth': 25, 'max_bin': 1040, 'cat_smooth': 84, 'cat_l2': 24.224413287900376}. Best is trial 3 with value: 0.7139994300083183.\u001b[0m\n"
     ]
    },
    {
     "name": "stdout",
     "output_type": "stream",
     "text": [
      "Training until validation scores don't improve for 200 rounds\n",
      "Early stopping, best iteration is:\n",
      "[1]\tvalid_0's rmse: 8.27805\n",
      "Training until validation scores don't improve for 200 rounds\n",
      "[1000]\tvalid_0's rmse: 0.715805\n",
      "[2000]\tvalid_0's rmse: 0.714589\n",
      "[3000]\tvalid_0's rmse: 0.714389\n",
      "[4000]\tvalid_0's rmse: 0.714301\n",
      "[5000]\tvalid_0's rmse: 0.714266\n",
      "[6000]\tvalid_0's rmse: 0.714251\n",
      "[7000]\tvalid_0's rmse: 0.714243\n",
      "[8000]\tvalid_0's rmse: 0.71424\n",
      "[9000]\tvalid_0's rmse: 0.714238\n",
      "[10000]\tvalid_0's rmse: 0.714237\n",
      "[11000]\tvalid_0's rmse: 0.714237\n",
      "[12000]\tvalid_0's rmse: 0.714237\n",
      "[13000]\tvalid_0's rmse: 0.714237\n",
      "[14000]\tvalid_0's rmse: 0.714237\n",
      "[15000]\tvalid_0's rmse: 0.714237\n",
      "[16000]\tvalid_0's rmse: 0.714237\n",
      "[17000]\tvalid_0's rmse: 0.714237\n",
      "[18000]\tvalid_0's rmse: 0.714237\n",
      "[19000]\tvalid_0's rmse: 0.714237\n",
      "[20000]\tvalid_0's rmse: 0.714237\n",
      "Did not meet early stopping. Best iteration is:\n",
      "[19974]\tvalid_0's rmse: 0.714237\n"
     ]
    },
    {
     "name": "stderr",
     "output_type": "stream",
     "text": [
      "\u001b[32m[I 2021-08-29 16:03:55,633]\u001b[0m Trial 14 finished with value: 0.7215013323356326 and parameters: {'reg_lambda': 61.71945833644243, 'reg_alpha': 44.62947780518765, 'subsample': 0.39644570962420755, 'colsample_bytree': 0.021332733248553996, 'learning_rate': 0.10365896685706458, 'min_child_samples': 19, 'num_leaves': 207, 'max_depth': 24, 'max_bin': 1026, 'cat_smooth': 86, 'cat_l2': 25.875440920133595}. Best is trial 3 with value: 0.7139994300083183.\u001b[0m\n"
     ]
    },
    {
     "name": "stdout",
     "output_type": "stream",
     "text": [
      "Training until validation scores don't improve for 200 rounds\n",
      "Early stopping, best iteration is:\n",
      "[1]\tvalid_0's rmse: 8.27805\n",
      "Training until validation scores don't improve for 200 rounds\n",
      "[1000]\tvalid_0's rmse: 0.715909\n",
      "[2000]\tvalid_0's rmse: 0.714606\n",
      "[3000]\tvalid_0's rmse: 0.714383\n",
      "[4000]\tvalid_0's rmse: 0.714282\n",
      "[5000]\tvalid_0's rmse: 0.714241\n",
      "[6000]\tvalid_0's rmse: 0.714222\n",
      "[7000]\tvalid_0's rmse: 0.714211\n",
      "[8000]\tvalid_0's rmse: 0.714207\n",
      "[9000]\tvalid_0's rmse: 0.714205\n",
      "[10000]\tvalid_0's rmse: 0.714204\n",
      "[11000]\tvalid_0's rmse: 0.714203\n",
      "[12000]\tvalid_0's rmse: 0.714203\n",
      "[13000]\tvalid_0's rmse: 0.714203\n",
      "[14000]\tvalid_0's rmse: 0.714203\n",
      "[15000]\tvalid_0's rmse: 0.714203\n",
      "[16000]\tvalid_0's rmse: 0.714203\n",
      "[17000]\tvalid_0's rmse: 0.714203\n",
      "[18000]\tvalid_0's rmse: 0.714203\n",
      "[19000]\tvalid_0's rmse: 0.714203\n",
      "[20000]\tvalid_0's rmse: 0.714203\n",
      "Did not meet early stopping. Best iteration is:\n",
      "[19971]\tvalid_0's rmse: 0.714203\n"
     ]
    },
    {
     "name": "stderr",
     "output_type": "stream",
     "text": [
      "\u001b[32m[I 2021-08-29 16:05:25,553]\u001b[0m Trial 15 finished with value: 0.7215080409608486 and parameters: {'reg_lambda': 59.68478373194729, 'reg_alpha': 45.72336584929582, 'subsample': 0.3954352350855117, 'colsample_bytree': 0.026623322373060296, 'learning_rate': 0.10163627869164348, 'min_child_samples': 17, 'num_leaves': 211, 'max_depth': 24, 'max_bin': 1045, 'cat_smooth': 83, 'cat_l2': 23.410679303078812}. Best is trial 3 with value: 0.7139994300083183.\u001b[0m\n"
     ]
    },
    {
     "name": "stdout",
     "output_type": "stream",
     "text": [
      "Training until validation scores don't improve for 200 rounds\n",
      "[1000]\tvalid_0's rmse: 0.715329\n",
      "[2000]\tvalid_0's rmse: 0.71463\n",
      "Early stopping, best iteration is:\n",
      "[2158]\tvalid_0's rmse: 0.714609\n",
      "Training until validation scores don't improve for 200 rounds\n",
      "[1000]\tvalid_0's rmse: 0.714556\n",
      "[2000]\tvalid_0's rmse: 0.714123\n",
      "Early stopping, best iteration is:\n",
      "[2446]\tvalid_0's rmse: 0.714074\n"
     ]
    },
    {
     "name": "stderr",
     "output_type": "stream",
     "text": [
      "\u001b[32m[I 2021-08-29 16:06:25,463]\u001b[0m Trial 16 finished with value: 0.7140310636876799 and parameters: {'reg_lambda': 60.58539425786951, 'reg_alpha': 45.03159841455132, 'subsample': 0.38238488694690126, 'colsample_bytree': 0.03286699771556393, 'learning_rate': 0.10955754825401726, 'min_child_samples': 19, 'num_leaves': 209, 'max_depth': 23, 'max_bin': 1053, 'cat_smooth': 85, 'cat_l2': 27.32515845300963}. Best is trial 3 with value: 0.7139994300083183.\u001b[0m\n"
     ]
    },
    {
     "name": "stdout",
     "output_type": "stream",
     "text": [
      "Training until validation scores don't improve for 200 rounds\n",
      "[1000]\tvalid_0's rmse: 0.715497\n",
      "[2000]\tvalid_0's rmse: 0.714613\n",
      "Early stopping, best iteration is:\n",
      "[2290]\tvalid_0's rmse: 0.714559\n",
      "Training until validation scores don't improve for 200 rounds\n",
      "[1000]\tvalid_0's rmse: 0.714668\n",
      "[2000]\tvalid_0's rmse: 0.71412\n",
      "Early stopping, best iteration is:\n",
      "[1974]\tvalid_0's rmse: 0.714112\n"
     ]
    },
    {
     "name": "stderr",
     "output_type": "stream",
     "text": [
      "\u001b[32m[I 2021-08-29 16:07:22,575]\u001b[0m Trial 17 finished with value: 0.7140409887170239 and parameters: {'reg_lambda': 59.84739584977561, 'reg_alpha': 44.34887948947197, 'subsample': 0.40870661294181454, 'colsample_bytree': 0.04422741118697057, 'learning_rate': 0.09945411004450633, 'min_child_samples': 18, 'num_leaves': 212, 'max_depth': 25, 'max_bin': 1036, 'cat_smooth': 87, 'cat_l2': 25.276149831431564}. Best is trial 3 with value: 0.7139994300083183.\u001b[0m\n"
     ]
    },
    {
     "name": "stdout",
     "output_type": "stream",
     "text": [
      "Training until validation scores don't improve for 200 rounds\n",
      "[1000]\tvalid_0's rmse: 0.714375\n",
      "Early stopping, best iteration is:\n",
      "[1124]\tvalid_0's rmse: 0.714318\n",
      "Training until validation scores don't improve for 200 rounds\n",
      "[1000]\tvalid_0's rmse: 0.714448\n",
      "Early stopping, best iteration is:\n",
      "[994]\tvalid_0's rmse: 0.714434\n"
     ]
    },
    {
     "name": "stderr",
     "output_type": "stream",
     "text": [
      "\u001b[32m[I 2021-08-29 16:07:59,500]\u001b[0m Trial 18 finished with value: 0.7141503281951148 and parameters: {'reg_lambda': 60.685722440577976, 'reg_alpha': 45.655993980596726, 'subsample': 0.3715229059197538, 'colsample_bytree': 0.05795287983565839, 'learning_rate': 0.10571723004357525, 'min_child_samples': 16, 'num_leaves': 206, 'max_depth': 24, 'max_bin': 1028, 'cat_smooth': 84, 'cat_l2': 24.545914713733474}. Best is trial 3 with value: 0.7139994300083183.\u001b[0m\n"
     ]
    },
    {
     "name": "stdout",
     "output_type": "stream",
     "text": [
      "Training until validation scores don't improve for 200 rounds\n",
      "Early stopping, best iteration is:\n",
      "[1]\tvalid_0's rmse: 8.27805\n",
      "Training until validation scores don't improve for 200 rounds\n"
     ]
    },
    {
     "name": "stderr",
     "output_type": "stream",
     "text": [
      "\u001b[32m[I 2021-08-29 16:08:02,585]\u001b[0m Trial 19 finished with value: 0.7436819512553937 and parameters: {'reg_lambda': 61.687425121607504, 'reg_alpha': 45.01672377871731, 'subsample': 0.3965551849507089, 'colsample_bytree': 0.026982574021441767, 'learning_rate': 0.11655308703896805, 'min_child_samples': 15, 'num_leaves': 210, 'max_depth': 23, 'max_bin': 1038, 'cat_smooth': 85, 'cat_l2': 26.959113768124755}. Best is trial 3 with value: 0.7139994300083183.\u001b[0m\n"
     ]
    },
    {
     "name": "stdout",
     "output_type": "stream",
     "text": [
      "Early stopping, best iteration is:\n",
      "[1]\tvalid_0's rmse: 8.27805\n",
      "Training until validation scores don't improve for 200 rounds\n",
      "[1000]\tvalid_0's rmse: 0.714356\n",
      "Early stopping, best iteration is:\n",
      "[1124]\tvalid_0's rmse: 0.714304\n",
      "Training until validation scores don't improve for 200 rounds\n",
      "[1000]\tvalid_0's rmse: 0.714375\n",
      "Early stopping, best iteration is:\n",
      "[962]\tvalid_0's rmse: 0.714352\n"
     ]
    },
    {
     "name": "stderr",
     "output_type": "stream",
     "text": [
      "\u001b[32m[I 2021-08-29 16:08:45,846]\u001b[0m Trial 20 finished with value: 0.714122650439228 and parameters: {'reg_lambda': 60.294869344775826, 'reg_alpha': 44.54747267147146, 'subsample': 0.3843399353081818, 'colsample_bytree': 0.051832157799171816, 'learning_rate': 0.1095794449527167, 'min_child_samples': 17, 'num_leaves': 208, 'max_depth': 24, 'max_bin': 1046, 'cat_smooth': 83, 'cat_l2': 28.24021542829166}. Best is trial 3 with value: 0.7139994300083183.\u001b[0m\n"
     ]
    },
    {
     "name": "stdout",
     "output_type": "stream",
     "text": [
      "Training until validation scores don't improve for 200 rounds\n",
      "[1000]\tvalid_0's rmse: 0.715321\n",
      "[2000]\tvalid_0's rmse: 0.714647\n",
      "Early stopping, best iteration is:\n",
      "[2158]\tvalid_0's rmse: 0.714616\n",
      "Training until validation scores don't improve for 200 rounds\n",
      "[1000]\tvalid_0's rmse: 0.714513\n",
      "[2000]\tvalid_0's rmse: 0.714066\n",
      "Early stopping, best iteration is:\n",
      "[2749]\tvalid_0's rmse: 0.714018\n"
     ]
    },
    {
     "name": "stderr",
     "output_type": "stream",
     "text": [
      "\u001b[32m[I 2021-08-29 16:09:49,236]\u001b[0m Trial 21 finished with value: 0.7140004709021545 and parameters: {'reg_lambda': 59.861867376446135, 'reg_alpha': 44.66563411077924, 'subsample': 0.4137197305472892, 'colsample_bytree': 0.03935670491444415, 'learning_rate': 0.11102959462918519, 'min_child_samples': 18, 'num_leaves': 210, 'max_depth': 24, 'max_bin': 1053, 'cat_smooth': 85, 'cat_l2': 26.354454050602392}. Best is trial 3 with value: 0.7139994300083183.\u001b[0m\n"
     ]
    },
    {
     "name": "stdout",
     "output_type": "stream",
     "text": [
      "Training until validation scores don't improve for 200 rounds\n",
      "[1000]\tvalid_0's rmse: 0.715289\n",
      "[2000]\tvalid_0's rmse: 0.714665\n",
      "Early stopping, best iteration is:\n",
      "[1862]\tvalid_0's rmse: 0.714653\n",
      "Training until validation scores don't improve for 200 rounds\n",
      "[1000]\tvalid_0's rmse: 0.714562\n",
      "[2000]\tvalid_0's rmse: 0.714183\n",
      "Early stopping, best iteration is:\n",
      "[1988]\tvalid_0's rmse: 0.714182\n"
     ]
    },
    {
     "name": "stderr",
     "output_type": "stream",
     "text": [
      "\u001b[32m[I 2021-08-29 16:10:42,029]\u001b[0m Trial 22 finished with value: 0.71410259156839 and parameters: {'reg_lambda': 59.94381259108621, 'reg_alpha': 44.02759037717214, 'subsample': 0.4143874948683262, 'colsample_bytree': 0.040914599845198935, 'learning_rate': 0.11259501886671676, 'min_child_samples': 18, 'num_leaves': 212, 'max_depth': 24, 'max_bin': 1050, 'cat_smooth': 86, 'cat_l2': 25.91332245595483}. Best is trial 3 with value: 0.7139994300083183.\u001b[0m\n"
     ]
    },
    {
     "name": "stdout",
     "output_type": "stream",
     "text": [
      "Training until validation scores don't improve for 200 rounds\n",
      "[1000]\tvalid_0's rmse: 0.715134\n",
      "Early stopping, best iteration is:\n",
      "[1734]\tvalid_0's rmse: 0.714544\n",
      "Training until validation scores don't improve for 200 rounds\n",
      "[1000]\tvalid_0's rmse: 0.714493\n",
      "[2000]\tvalid_0's rmse: 0.71415\n",
      "Early stopping, best iteration is:\n",
      "[2015]\tvalid_0's rmse: 0.714148\n"
     ]
    },
    {
     "name": "stderr",
     "output_type": "stream",
     "text": [
      "\u001b[32m[I 2021-08-29 16:11:25,866]\u001b[0m Trial 23 finished with value: 0.7140359978129787 and parameters: {'reg_lambda': 59.50583185316692, 'reg_alpha': 44.87581019139055, 'subsample': 0.3773854135152074, 'colsample_bytree': 0.03690897714864214, 'learning_rate': 0.11501775035682991, 'min_child_samples': 19, 'num_leaves': 210, 'max_depth': 24, 'max_bin': 1042, 'cat_smooth': 84, 'cat_l2': 26.790582870785173}. Best is trial 3 with value: 0.7139994300083183.\u001b[0m\n"
     ]
    },
    {
     "name": "stdout",
     "output_type": "stream",
     "text": [
      "Training until validation scores don't improve for 200 rounds\n",
      "[1000]\tvalid_0's rmse: 0.715342\n",
      "[2000]\tvalid_0's rmse: 0.71466\n",
      "Early stopping, best iteration is:\n",
      "[2191]\tvalid_0's rmse: 0.714621\n",
      "Training until validation scores don't improve for 200 rounds\n",
      "[1000]\tvalid_0's rmse: 0.71459\n",
      "[2000]\tvalid_0's rmse: 0.714201\n",
      "Early stopping, best iteration is:\n",
      "[1859]\tvalid_0's rmse: 0.714175\n"
     ]
    },
    {
     "name": "stderr",
     "output_type": "stream",
     "text": [
      "\u001b[32m[I 2021-08-29 16:12:19,778]\u001b[0m Trial 24 finished with value: 0.7140988778591393 and parameters: {'reg_lambda': 60.06702933608843, 'reg_alpha': 45.296265270163545, 'subsample': 0.41435663878595214, 'colsample_bytree': 0.03261596205516143, 'learning_rate': 0.11072566236485544, 'min_child_samples': 18, 'num_leaves': 209, 'max_depth': 24, 'max_bin': 1050, 'cat_smooth': 85, 'cat_l2': 26.134264798628397}. Best is trial 3 with value: 0.7139994300083183.\u001b[0m\n"
     ]
    },
    {
     "name": "stdout",
     "output_type": "stream",
     "text": [
      "Training until validation scores don't improve for 200 rounds\n",
      "[1000]\tvalid_0's rmse: 0.715379\n",
      "[2000]\tvalid_0's rmse: 0.714626\n",
      "Early stopping, best iteration is:\n",
      "[2024]\tvalid_0's rmse: 0.714612\n",
      "Training until validation scores don't improve for 200 rounds\n",
      "[1000]\tvalid_0's rmse: 0.714641\n",
      "[2000]\tvalid_0's rmse: 0.714184\n",
      "Early stopping, best iteration is:\n",
      "[1974]\tvalid_0's rmse: 0.714175\n"
     ]
    },
    {
     "name": "stderr",
     "output_type": "stream",
     "text": [
      "\u001b[32m[I 2021-08-29 16:13:14,544]\u001b[0m Trial 25 finished with value: 0.7140906051390628 and parameters: {'reg_lambda': 60.40521381977115, 'reg_alpha': 44.41990610890197, 'subsample': 0.4010774464629475, 'colsample_bytree': 0.030191602442222246, 'learning_rate': 0.10609655971435787, 'min_child_samples': 17, 'num_leaves': 207, 'max_depth': 25, 'max_bin': 1033, 'cat_smooth': 86, 'cat_l2': 25.45968552234711}. Best is trial 3 with value: 0.7139994300083183.\u001b[0m\n"
     ]
    },
    {
     "name": "stdout",
     "output_type": "stream",
     "text": [
      "Training until validation scores don't improve for 200 rounds\n",
      "[1000]\tvalid_0's rmse: 0.71533\n",
      "[2000]\tvalid_0's rmse: 0.714624\n",
      "Early stopping, best iteration is:\n",
      "[2531]\tvalid_0's rmse: 0.71455\n",
      "Training until validation scores don't improve for 200 rounds\n",
      "[1000]\tvalid_0's rmse: 0.714603\n",
      "[2000]\tvalid_0's rmse: 0.714193\n",
      "Early stopping, best iteration is:\n",
      "[2111]\tvalid_0's rmse: 0.714181\n"
     ]
    },
    {
     "name": "stderr",
     "output_type": "stream",
     "text": [
      "\u001b[32m[I 2021-08-29 16:14:15,872]\u001b[0m Trial 26 finished with value: 0.7140551280021992 and parameters: {'reg_lambda': 60.84671991139881, 'reg_alpha': 44.880830912802786, 'subsample': 0.3909040770962648, 'colsample_bytree': 0.043872297182562865, 'learning_rate': 0.10851360857315935, 'min_child_samples': 19, 'num_leaves': 207, 'max_depth': 24, 'max_bin': 1044, 'cat_smooth': 84, 'cat_l2': 24.34254032806873}. Best is trial 3 with value: 0.7139994300083183.\u001b[0m\n"
     ]
    },
    {
     "name": "stdout",
     "output_type": "stream",
     "text": [
      "Training until validation scores don't improve for 200 rounds\n",
      "[1000]\tvalid_0's rmse: 0.715306\n",
      "Early stopping, best iteration is:\n",
      "[1736]\tvalid_0's rmse: 0.714654\n",
      "Training until validation scores don't improve for 200 rounds\n",
      "[1000]\tvalid_0's rmse: 0.714455\n",
      "[2000]\tvalid_0's rmse: 0.714024\n",
      "Early stopping, best iteration is:\n",
      "[2184]\tvalid_0's rmse: 0.713997\n"
     ]
    },
    {
     "name": "stderr",
     "output_type": "stream",
     "text": [
      "\u001b[32m[I 2021-08-29 16:15:08,441]\u001b[0m Trial 27 finished with value: 0.7140161685671598 and parameters: {'reg_lambda': 60.38051546951431, 'reg_alpha': 45.422073177861364, 'subsample': 0.4079777870521575, 'colsample_bytree': 0.03688944044094991, 'learning_rate': 0.11443842895213116, 'min_child_samples': 18, 'num_leaves': 211, 'max_depth': 23, 'max_bin': 1053, 'cat_smooth': 85, 'cat_l2': 26.175496929994978}. Best is trial 3 with value: 0.7139994300083183.\u001b[0m\n"
     ]
    },
    {
     "name": "stdout",
     "output_type": "stream",
     "text": [
      "Training until validation scores don't improve for 200 rounds\n",
      "[1000]\tvalid_0's rmse: 0.715245\n",
      "[2000]\tvalid_0's rmse: 0.714577\n",
      "Early stopping, best iteration is:\n",
      "[2209]\tvalid_0's rmse: 0.714533\n",
      "Training until validation scores don't improve for 200 rounds\n",
      "[1000]\tvalid_0's rmse: 0.714444\n",
      "[2000]\tvalid_0's rmse: 0.714073\n",
      "Early stopping, best iteration is:\n",
      "[2017]\tvalid_0's rmse: 0.714071\n"
     ]
    },
    {
     "name": "stderr",
     "output_type": "stream",
     "text": [
      "\u001b[32m[I 2021-08-29 16:16:05,464]\u001b[0m Trial 28 finished with value: 0.7139903895722409 and parameters: {'reg_lambda': 59.535735282464216, 'reg_alpha': 44.17262044748552, 'subsample': 0.39326014116962515, 'colsample_bytree': 0.03850972760592158, 'learning_rate': 0.11096731683506365, 'min_child_samples': 17, 'num_leaves': 209, 'max_depth': 24, 'max_bin': 1049, 'cat_smooth': 87, 'cat_l2': 28.43849507330949}. Best is trial 28 with value: 0.7139903895722409.\u001b[0m\n"
     ]
    },
    {
     "name": "stdout",
     "output_type": "stream",
     "text": [
      "Training until validation scores don't improve for 200 rounds\n",
      "[1000]\tvalid_0's rmse: 0.715219\n",
      "[2000]\tvalid_0's rmse: 0.714584\n",
      "Early stopping, best iteration is:\n",
      "[2196]\tvalid_0's rmse: 0.714553\n",
      "Training until validation scores don't improve for 200 rounds\n",
      "[1000]\tvalid_0's rmse: 0.714486\n",
      "[2000]\tvalid_0's rmse: 0.714075\n",
      "Early stopping, best iteration is:\n",
      "[1974]\tvalid_0's rmse: 0.714068\n"
     ]
    },
    {
     "name": "stderr",
     "output_type": "stream",
     "text": [
      "\u001b[32m[I 2021-08-29 16:17:00,464]\u001b[0m Trial 29 finished with value: 0.7139779682129103 and parameters: {'reg_lambda': 59.4077902110251, 'reg_alpha': 44.16098510640907, 'subsample': 0.403195864806355, 'colsample_bytree': 0.039533970364454794, 'learning_rate': 0.11384998791349592, 'min_child_samples': 16, 'num_leaves': 213, 'max_depth': 24, 'max_bin': 1026, 'cat_smooth': 87, 'cat_l2': 29.360702296801012}. Best is trial 29 with value: 0.7139779682129103.\u001b[0m\n"
     ]
    },
    {
     "name": "stdout",
     "output_type": "stream",
     "text": [
      "Number of finished trials: 30\n",
      "Best trial: {'reg_lambda': 59.4077902110251, 'reg_alpha': 44.16098510640907, 'subsample': 0.403195864806355, 'colsample_bytree': 0.039533970364454794, 'learning_rate': 0.11384998791349592, 'min_child_samples': 16, 'num_leaves': 213, 'max_depth': 24, 'max_bin': 1026, 'cat_smooth': 87, 'cat_l2': 29.360702296801012}\n"
     ]
    }
   ],
   "source": [
    "study = optuna.create_study(direction='minimize')\n",
    "study.optimize(objective,n_trials= 30)\n",
    "print('Number of finished trials:', len(study.trials))\n",
    "print('Best trial:', study.best_trial.params)"
   ]
  },
  {
   "cell_type": "code",
   "execution_count": 14,
   "id": "5d9f302e",
   "metadata": {
    "execution": {
     "iopub.execute_input": "2021-08-29T16:17:00.703909Z",
     "iopub.status.busy": "2021-08-29T16:17:00.703123Z",
     "iopub.status.idle": "2021-08-29T16:17:00.709900Z",
     "shell.execute_reply": "2021-08-29T16:17:00.710428Z"
    },
    "papermill": {
     "duration": 0.118241,
     "end_time": "2021-08-29T16:17:00.710608",
     "exception": false,
     "start_time": "2021-08-29T16:17:00.592367",
     "status": "completed"
    },
    "tags": []
   },
   "outputs": [
    {
     "data": {
      "text/plain": [
       "{'reg_lambda': 59.4077902110251,\n",
       " 'reg_alpha': 44.16098510640907,\n",
       " 'subsample': 0.403195864806355,\n",
       " 'colsample_bytree': 0.039533970364454794,\n",
       " 'learning_rate': 0.11384998791349592,\n",
       " 'min_child_samples': 16,\n",
       " 'num_leaves': 213,\n",
       " 'max_depth': 24,\n",
       " 'max_bin': 1026,\n",
       " 'cat_smooth': 87,\n",
       " 'cat_l2': 29.360702296801012}"
      ]
     },
     "execution_count": 14,
     "metadata": {},
     "output_type": "execute_result"
    }
   ],
   "source": [
    "study.best_params"
   ]
  },
  {
   "cell_type": "markdown",
   "id": "90e9a087",
   "metadata": {
    "papermill": {
     "duration": 0.108431,
     "end_time": "2021-08-29T16:17:00.927422",
     "exception": false,
     "start_time": "2021-08-29T16:17:00.818991",
     "status": "completed"
    },
    "tags": []
   },
   "source": [
    "# Log\n",
    "\n",
    "====== Ordinal encoding =========\n",
    "\n",
    "0.7169747685796982 no noise ver1\n",
    "\n",
    "0.716813599897907 no noise ver3 (narrow space) final\n",
    "\n",
    "\n",
    "\n",
    "====== One-hot encoding =========\n",
    "\n",
    "0.724412184059166 no noise ver2\n",
    "\n",
    "0.7148014527408726 no noise ver6\n",
    "\n",
    "0.7141152381854105 no noise ver7 (narrow space)\n",
    "\n",
    "0.7140553164806666 no noise ver8 (narrow space)\n",
    "\n",
    "0.7140062352122274 no noise ver9 (narrow space)"
   ]
  }
 ],
 "metadata": {
  "kernelspec": {
   "display_name": "Python 3",
   "language": "python",
   "name": "python3"
  },
  "language_info": {
   "codemirror_mode": {
    "name": "ipython",
    "version": 3
   },
   "file_extension": ".py",
   "mimetype": "text/x-python",
   "name": "python",
   "nbconvert_exporter": "python",
   "pygments_lexer": "ipython3",
   "version": "3.7.10"
  },
  "papermill": {
   "default_parameters": {},
   "duration": 1658.407431,
   "end_time": "2021-08-29T16:17:02.521619",
   "environment_variables": {},
   "exception": null,
   "input_path": "__notebook__.ipynb",
   "output_path": "__notebook__.ipynb",
   "parameters": {},
   "start_time": "2021-08-29T15:49:24.114188",
   "version": "2.3.3"
  }
 },
 "nbformat": 4,
 "nbformat_minor": 5
}
