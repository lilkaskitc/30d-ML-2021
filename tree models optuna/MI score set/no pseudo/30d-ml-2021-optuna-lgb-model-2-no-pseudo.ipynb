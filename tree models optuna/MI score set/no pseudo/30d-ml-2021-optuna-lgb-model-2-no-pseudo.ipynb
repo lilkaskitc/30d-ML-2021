{
 "cells": [
  {
   "cell_type": "code",
   "execution_count": 1,
   "id": "e2c26497",
   "metadata": {
    "_cell_guid": "b1076dfc-b9ad-4769-8c92-a6c4dae69d19",
    "_uuid": "8f2839f25d086af736a60e9eeb907d3b93b6e0e5",
    "execution": {
     "iopub.execute_input": "2021-08-25T23:56:08.882396Z",
     "iopub.status.busy": "2021-08-25T23:56:08.877716Z",
     "iopub.status.idle": "2021-08-25T23:56:11.155487Z",
     "shell.execute_reply": "2021-08-25T23:56:11.154552Z",
     "shell.execute_reply.started": "2021-08-25T14:50:21.072225Z"
    },
    "papermill": {
     "duration": 2.302821,
     "end_time": "2021-08-25T23:56:11.155662",
     "exception": false,
     "start_time": "2021-08-25T23:56:08.852841",
     "status": "completed"
    },
    "tags": []
   },
   "outputs": [
    {
     "data": {
      "text/html": [
       "<style type='text/css'>\n",
       ".datatable table.frame { margin-bottom: 0; }\n",
       ".datatable table.frame thead { border-bottom: none; }\n",
       ".datatable table.frame tr.coltypes td {  color: #FFFFFF;  line-height: 6px;  padding: 0 0.5em;}\n",
       ".datatable .bool    { background: #DDDD99; }\n",
       ".datatable .object  { background: #565656; }\n",
       ".datatable .int     { background: #5D9E5D; }\n",
       ".datatable .float   { background: #4040CC; }\n",
       ".datatable .str     { background: #CC4040; }\n",
       ".datatable .time    { background: #40CC40; }\n",
       ".datatable .row_index {  background: var(--jp-border-color3);  border-right: 1px solid var(--jp-border-color0);  color: var(--jp-ui-font-color3);  font-size: 9px;}\n",
       ".datatable .frame tbody td { text-align: left; }\n",
       ".datatable .frame tr.coltypes .row_index {  background: var(--jp-border-color0);}\n",
       ".datatable th:nth-child(2) { padding-left: 12px; }\n",
       ".datatable .hellipsis {  color: var(--jp-cell-editor-border-color);}\n",
       ".datatable .vellipsis {  background: var(--jp-layout-color0);  color: var(--jp-cell-editor-border-color);}\n",
       ".datatable .na {  color: var(--jp-cell-editor-border-color);  font-size: 80%;}\n",
       ".datatable .sp {  opacity: 0.25;}\n",
       ".datatable .footer { font-size: 9px; }\n",
       ".datatable .frame_dimensions {  background: var(--jp-border-color3);  border-top: 1px solid var(--jp-border-color0);  color: var(--jp-ui-font-color3);  display: inline-block;  opacity: 0.6;  padding: 1px 10px 1px 5px;}\n",
       "</style>\n"
      ],
      "text/plain": [
       "<IPython.core.display.HTML object>"
      ]
     },
     "metadata": {},
     "output_type": "display_data"
    }
   ],
   "source": [
    "# Familiar imports\n",
    "import numpy as np\n",
    "import pandas as pd\n",
    "import random\n",
    "import os\n",
    "import time\n",
    "from pathlib import Path\n",
    "\n",
    "from sklearn.preprocessing import StandardScaler\n",
    "from sklearn.model_selection import KFold, train_test_split\n",
    "from sklearn.metrics import mean_squared_error\n",
    "from sklearn.preprocessing import OrdinalEncoder, OneHotEncoder\n",
    "\n",
    "import lightgbm as lgb\n",
    "#import xgboost as xgb\n",
    "#import catboost as ctb\n",
    "\n",
    "import warnings\n",
    "warnings.simplefilter('ignore')"
   ]
  },
  {
   "cell_type": "markdown",
   "id": "7009e0ce",
   "metadata": {
    "papermill": {
     "duration": 0.015004,
     "end_time": "2021-08-25T23:56:11.186939",
     "exception": false,
     "start_time": "2021-08-25T23:56:11.171935",
     "status": "completed"
    },
    "tags": []
   },
   "source": [
    "# Parameters"
   ]
  },
  {
   "cell_type": "code",
   "execution_count": 2,
   "id": "9700f273",
   "metadata": {
    "execution": {
     "iopub.execute_input": "2021-08-25T23:56:11.225449Z",
     "iopub.status.busy": "2021-08-25T23:56:11.224687Z",
     "iopub.status.idle": "2021-08-25T23:56:11.227550Z",
     "shell.execute_reply": "2021-08-25T23:56:11.228239Z",
     "shell.execute_reply.started": "2021-08-25T14:50:23.451782Z"
    },
    "papermill": {
     "duration": 0.025497,
     "end_time": "2021-08-25T23:56:11.228493",
     "exception": false,
     "start_time": "2021-08-25T23:56:11.202996",
     "status": "completed"
    },
    "tags": []
   },
   "outputs": [],
   "source": [
    "target = 'target'\n",
    "\n",
    "DEBUG = False\n",
    "\n",
    "if DEBUG:\n",
    "    N_ESTIMATORS = 1\n",
    "    N_SPLITS = 2\n",
    "    SEED = 17\n",
    "    CVSEED = 17\n",
    "    EARLY_STOPPING_ROUNDS = 1\n",
    "    VERBOSE = 100\n",
    "    #N_ITERS = 2\n",
    "else:\n",
    "    N_SPLITS = 10\n",
    "    N_ESTIMATORS = 20000\n",
    "    EARLY_STOPPING_ROUNDS = 200\n",
    "    VERBOSE = 1000\n",
    "    SEED = 17\n",
    "    CVSEED = 17\n",
    "    #N_ITERS = 10"
   ]
  },
  {
   "cell_type": "code",
   "execution_count": 3,
   "id": "e4c21e7e",
   "metadata": {
    "execution": {
     "iopub.execute_input": "2021-08-25T23:56:11.265449Z",
     "iopub.status.busy": "2021-08-25T23:56:11.264776Z",
     "iopub.status.idle": "2021-08-25T23:56:11.266804Z",
     "shell.execute_reply": "2021-08-25T23:56:11.267363Z",
     "shell.execute_reply.started": "2021-08-25T14:50:23.461811Z"
    },
    "papermill": {
     "duration": 0.023132,
     "end_time": "2021-08-25T23:56:11.267534",
     "exception": false,
     "start_time": "2021-08-25T23:56:11.244402",
     "status": "completed"
    },
    "tags": []
   },
   "outputs": [],
   "source": [
    "def set_seed(seed=17):\n",
    "    random.seed(seed)\n",
    "    os.environ['PYTHONHASHSEED'] = str(seed)\n",
    "    np.random.seed(seed)\n",
    "    \n",
    "set_seed(SEED)"
   ]
  },
  {
   "cell_type": "markdown",
   "id": "9a520b7a",
   "metadata": {
    "papermill": {
     "duration": 0.014959,
     "end_time": "2021-08-25T23:56:11.298582",
     "exception": false,
     "start_time": "2021-08-25T23:56:11.283623",
     "status": "completed"
    },
    "tags": []
   },
   "source": [
    "# Load data"
   ]
  },
  {
   "cell_type": "code",
   "execution_count": 4,
   "id": "32db5986",
   "metadata": {
    "execution": {
     "iopub.execute_input": "2021-08-25T23:56:11.332685Z",
     "iopub.status.busy": "2021-08-25T23:56:11.332055Z",
     "iopub.status.idle": "2021-08-25T23:56:15.875697Z",
     "shell.execute_reply": "2021-08-25T23:56:15.876182Z",
     "shell.execute_reply.started": "2021-08-25T14:50:23.479237Z"
    },
    "papermill": {
     "duration": 4.562093,
     "end_time": "2021-08-25T23:56:15.876378",
     "exception": false,
     "start_time": "2021-08-25T23:56:11.314285",
     "status": "completed"
    },
    "tags": []
   },
   "outputs": [
    {
     "data": {
      "text/html": [
       "<div>\n",
       "<style scoped>\n",
       "    .dataframe tbody tr th:only-of-type {\n",
       "        vertical-align: middle;\n",
       "    }\n",
       "\n",
       "    .dataframe tbody tr th {\n",
       "        vertical-align: top;\n",
       "    }\n",
       "\n",
       "    .dataframe thead th {\n",
       "        text-align: right;\n",
       "    }\n",
       "</style>\n",
       "<table border=\"1\" class=\"dataframe\">\n",
       "  <thead>\n",
       "    <tr style=\"text-align: right;\">\n",
       "      <th></th>\n",
       "      <th>id</th>\n",
       "      <th>cat0</th>\n",
       "      <th>cat1</th>\n",
       "      <th>cat2</th>\n",
       "      <th>cat3</th>\n",
       "      <th>cat4</th>\n",
       "      <th>cat5</th>\n",
       "      <th>cat6</th>\n",
       "      <th>cat7</th>\n",
       "      <th>cat8</th>\n",
       "      <th>...</th>\n",
       "      <th>cont5</th>\n",
       "      <th>cont6</th>\n",
       "      <th>cont7</th>\n",
       "      <th>cont8</th>\n",
       "      <th>cont9</th>\n",
       "      <th>cont10</th>\n",
       "      <th>cont11</th>\n",
       "      <th>cont12</th>\n",
       "      <th>cont13</th>\n",
       "      <th>target</th>\n",
       "    </tr>\n",
       "  </thead>\n",
       "  <tbody>\n",
       "    <tr>\n",
       "      <th>0</th>\n",
       "      <td>1</td>\n",
       "      <td>B</td>\n",
       "      <td>B</td>\n",
       "      <td>B</td>\n",
       "      <td>C</td>\n",
       "      <td>B</td>\n",
       "      <td>B</td>\n",
       "      <td>A</td>\n",
       "      <td>E</td>\n",
       "      <td>C</td>\n",
       "      <td>...</td>\n",
       "      <td>0.400361</td>\n",
       "      <td>0.160266</td>\n",
       "      <td>0.310921</td>\n",
       "      <td>0.389470</td>\n",
       "      <td>0.267559</td>\n",
       "      <td>0.237281</td>\n",
       "      <td>0.377873</td>\n",
       "      <td>0.322401</td>\n",
       "      <td>0.869850</td>\n",
       "      <td>8.113634</td>\n",
       "    </tr>\n",
       "    <tr>\n",
       "      <th>1</th>\n",
       "      <td>2</td>\n",
       "      <td>B</td>\n",
       "      <td>B</td>\n",
       "      <td>A</td>\n",
       "      <td>A</td>\n",
       "      <td>B</td>\n",
       "      <td>D</td>\n",
       "      <td>A</td>\n",
       "      <td>F</td>\n",
       "      <td>A</td>\n",
       "      <td>...</td>\n",
       "      <td>0.533087</td>\n",
       "      <td>0.558922</td>\n",
       "      <td>0.516294</td>\n",
       "      <td>0.594928</td>\n",
       "      <td>0.341439</td>\n",
       "      <td>0.906013</td>\n",
       "      <td>0.921701</td>\n",
       "      <td>0.261975</td>\n",
       "      <td>0.465083</td>\n",
       "      <td>8.481233</td>\n",
       "    </tr>\n",
       "    <tr>\n",
       "      <th>2</th>\n",
       "      <td>3</td>\n",
       "      <td>A</td>\n",
       "      <td>A</td>\n",
       "      <td>A</td>\n",
       "      <td>C</td>\n",
       "      <td>B</td>\n",
       "      <td>D</td>\n",
       "      <td>A</td>\n",
       "      <td>D</td>\n",
       "      <td>A</td>\n",
       "      <td>...</td>\n",
       "      <td>0.650609</td>\n",
       "      <td>0.375348</td>\n",
       "      <td>0.902567</td>\n",
       "      <td>0.555205</td>\n",
       "      <td>0.843531</td>\n",
       "      <td>0.748809</td>\n",
       "      <td>0.620126</td>\n",
       "      <td>0.541474</td>\n",
       "      <td>0.763846</td>\n",
       "      <td>8.364351</td>\n",
       "    </tr>\n",
       "    <tr>\n",
       "      <th>3</th>\n",
       "      <td>4</td>\n",
       "      <td>B</td>\n",
       "      <td>B</td>\n",
       "      <td>A</td>\n",
       "      <td>C</td>\n",
       "      <td>B</td>\n",
       "      <td>D</td>\n",
       "      <td>A</td>\n",
       "      <td>E</td>\n",
       "      <td>C</td>\n",
       "      <td>...</td>\n",
       "      <td>0.668980</td>\n",
       "      <td>0.239061</td>\n",
       "      <td>0.732948</td>\n",
       "      <td>0.679618</td>\n",
       "      <td>0.574844</td>\n",
       "      <td>0.346010</td>\n",
       "      <td>0.714610</td>\n",
       "      <td>0.540150</td>\n",
       "      <td>0.280682</td>\n",
       "      <td>8.049253</td>\n",
       "    </tr>\n",
       "    <tr>\n",
       "      <th>4</th>\n",
       "      <td>6</td>\n",
       "      <td>A</td>\n",
       "      <td>A</td>\n",
       "      <td>A</td>\n",
       "      <td>C</td>\n",
       "      <td>B</td>\n",
       "      <td>D</td>\n",
       "      <td>A</td>\n",
       "      <td>E</td>\n",
       "      <td>A</td>\n",
       "      <td>...</td>\n",
       "      <td>0.686964</td>\n",
       "      <td>0.420667</td>\n",
       "      <td>0.648182</td>\n",
       "      <td>0.684501</td>\n",
       "      <td>0.956692</td>\n",
       "      <td>1.000773</td>\n",
       "      <td>0.776742</td>\n",
       "      <td>0.625849</td>\n",
       "      <td>0.250823</td>\n",
       "      <td>7.972260</td>\n",
       "    </tr>\n",
       "  </tbody>\n",
       "</table>\n",
       "<p>5 rows × 26 columns</p>\n",
       "</div>"
      ],
      "text/plain": [
       "   id cat0 cat1 cat2 cat3 cat4 cat5 cat6 cat7 cat8  ...     cont5     cont6  \\\n",
       "0   1    B    B    B    C    B    B    A    E    C  ...  0.400361  0.160266   \n",
       "1   2    B    B    A    A    B    D    A    F    A  ...  0.533087  0.558922   \n",
       "2   3    A    A    A    C    B    D    A    D    A  ...  0.650609  0.375348   \n",
       "3   4    B    B    A    C    B    D    A    E    C  ...  0.668980  0.239061   \n",
       "4   6    A    A    A    C    B    D    A    E    A  ...  0.686964  0.420667   \n",
       "\n",
       "      cont7     cont8     cont9    cont10    cont11    cont12    cont13  \\\n",
       "0  0.310921  0.389470  0.267559  0.237281  0.377873  0.322401  0.869850   \n",
       "1  0.516294  0.594928  0.341439  0.906013  0.921701  0.261975  0.465083   \n",
       "2  0.902567  0.555205  0.843531  0.748809  0.620126  0.541474  0.763846   \n",
       "3  0.732948  0.679618  0.574844  0.346010  0.714610  0.540150  0.280682   \n",
       "4  0.648182  0.684501  0.956692  1.000773  0.776742  0.625849  0.250823   \n",
       "\n",
       "     target  \n",
       "0  8.113634  \n",
       "1  8.481233  \n",
       "2  8.364351  \n",
       "3  8.049253  \n",
       "4  7.972260  \n",
       "\n",
       "[5 rows x 26 columns]"
      ]
     },
     "execution_count": 4,
     "metadata": {},
     "output_type": "execute_result"
    }
   ],
   "source": [
    "# Load the training data\n",
    "train = pd.read_csv(\"../input/30-days-of-ml/train.csv\")\n",
    "test = pd.read_csv(\"../input/30-days-of-ml/test.csv\")\n",
    "\n",
    "# Preview the data\n",
    "train.head()"
   ]
  },
  {
   "cell_type": "code",
   "execution_count": 5,
   "id": "200c51a1",
   "metadata": {
    "execution": {
     "iopub.execute_input": "2021-08-25T23:56:15.952295Z",
     "iopub.status.busy": "2021-08-25T23:56:15.917880Z",
     "iopub.status.idle": "2021-08-25T23:56:16.107449Z",
     "shell.execute_reply": "2021-08-25T23:56:16.106649Z",
     "shell.execute_reply.started": "2021-08-25T14:50:28.162127Z"
    },
    "papermill": {
     "duration": 0.214596,
     "end_time": "2021-08-25T23:56:16.107715",
     "exception": false,
     "start_time": "2021-08-25T23:56:15.893119",
     "status": "completed"
    },
    "tags": []
   },
   "outputs": [
    {
     "data": {
      "text/html": [
       "<div>\n",
       "<style scoped>\n",
       "    .dataframe tbody tr th:only-of-type {\n",
       "        vertical-align: middle;\n",
       "    }\n",
       "\n",
       "    .dataframe tbody tr th {\n",
       "        vertical-align: top;\n",
       "    }\n",
       "\n",
       "    .dataframe thead th {\n",
       "        text-align: right;\n",
       "    }\n",
       "</style>\n",
       "<table border=\"1\" class=\"dataframe\">\n",
       "  <thead>\n",
       "    <tr style=\"text-align: right;\">\n",
       "      <th></th>\n",
       "      <th>id</th>\n",
       "      <th>cat0</th>\n",
       "      <th>cat1</th>\n",
       "      <th>cat5</th>\n",
       "      <th>cat7</th>\n",
       "      <th>cat8</th>\n",
       "      <th>cat9</th>\n",
       "      <th>cont0</th>\n",
       "      <th>cont1</th>\n",
       "      <th>cont2</th>\n",
       "      <th>...</th>\n",
       "      <th>cont5</th>\n",
       "      <th>cont6</th>\n",
       "      <th>cont7</th>\n",
       "      <th>cont8</th>\n",
       "      <th>cont9</th>\n",
       "      <th>cont10</th>\n",
       "      <th>cont11</th>\n",
       "      <th>cont12</th>\n",
       "      <th>cont13</th>\n",
       "      <th>target</th>\n",
       "    </tr>\n",
       "  </thead>\n",
       "  <tbody>\n",
       "    <tr>\n",
       "      <th>0</th>\n",
       "      <td>1</td>\n",
       "      <td>B</td>\n",
       "      <td>B</td>\n",
       "      <td>B</td>\n",
       "      <td>E</td>\n",
       "      <td>C</td>\n",
       "      <td>N</td>\n",
       "      <td>0.201470</td>\n",
       "      <td>-0.014822</td>\n",
       "      <td>0.669699</td>\n",
       "      <td>...</td>\n",
       "      <td>0.400361</td>\n",
       "      <td>0.160266</td>\n",
       "      <td>0.310921</td>\n",
       "      <td>0.389470</td>\n",
       "      <td>0.267559</td>\n",
       "      <td>0.237281</td>\n",
       "      <td>0.377873</td>\n",
       "      <td>0.322401</td>\n",
       "      <td>0.869850</td>\n",
       "      <td>8.113634</td>\n",
       "    </tr>\n",
       "    <tr>\n",
       "      <th>1</th>\n",
       "      <td>2</td>\n",
       "      <td>B</td>\n",
       "      <td>B</td>\n",
       "      <td>D</td>\n",
       "      <td>F</td>\n",
       "      <td>A</td>\n",
       "      <td>O</td>\n",
       "      <td>0.743068</td>\n",
       "      <td>0.367411</td>\n",
       "      <td>1.021605</td>\n",
       "      <td>...</td>\n",
       "      <td>0.533087</td>\n",
       "      <td>0.558922</td>\n",
       "      <td>0.516294</td>\n",
       "      <td>0.594928</td>\n",
       "      <td>0.341439</td>\n",
       "      <td>0.906013</td>\n",
       "      <td>0.921701</td>\n",
       "      <td>0.261975</td>\n",
       "      <td>0.465083</td>\n",
       "      <td>8.481233</td>\n",
       "    </tr>\n",
       "    <tr>\n",
       "      <th>2</th>\n",
       "      <td>3</td>\n",
       "      <td>A</td>\n",
       "      <td>A</td>\n",
       "      <td>D</td>\n",
       "      <td>D</td>\n",
       "      <td>A</td>\n",
       "      <td>F</td>\n",
       "      <td>0.742708</td>\n",
       "      <td>0.310383</td>\n",
       "      <td>-0.012673</td>\n",
       "      <td>...</td>\n",
       "      <td>0.650609</td>\n",
       "      <td>0.375348</td>\n",
       "      <td>0.902567</td>\n",
       "      <td>0.555205</td>\n",
       "      <td>0.843531</td>\n",
       "      <td>0.748809</td>\n",
       "      <td>0.620126</td>\n",
       "      <td>0.541474</td>\n",
       "      <td>0.763846</td>\n",
       "      <td>8.364351</td>\n",
       "    </tr>\n",
       "    <tr>\n",
       "      <th>3</th>\n",
       "      <td>4</td>\n",
       "      <td>B</td>\n",
       "      <td>B</td>\n",
       "      <td>D</td>\n",
       "      <td>E</td>\n",
       "      <td>C</td>\n",
       "      <td>K</td>\n",
       "      <td>0.429551</td>\n",
       "      <td>0.620998</td>\n",
       "      <td>0.577942</td>\n",
       "      <td>...</td>\n",
       "      <td>0.668980</td>\n",
       "      <td>0.239061</td>\n",
       "      <td>0.732948</td>\n",
       "      <td>0.679618</td>\n",
       "      <td>0.574844</td>\n",
       "      <td>0.346010</td>\n",
       "      <td>0.714610</td>\n",
       "      <td>0.540150</td>\n",
       "      <td>0.280682</td>\n",
       "      <td>8.049253</td>\n",
       "    </tr>\n",
       "    <tr>\n",
       "      <th>4</th>\n",
       "      <td>6</td>\n",
       "      <td>A</td>\n",
       "      <td>A</td>\n",
       "      <td>D</td>\n",
       "      <td>E</td>\n",
       "      <td>A</td>\n",
       "      <td>N</td>\n",
       "      <td>1.058291</td>\n",
       "      <td>0.367492</td>\n",
       "      <td>-0.052389</td>\n",
       "      <td>...</td>\n",
       "      <td>0.686964</td>\n",
       "      <td>0.420667</td>\n",
       "      <td>0.648182</td>\n",
       "      <td>0.684501</td>\n",
       "      <td>0.956692</td>\n",
       "      <td>1.000773</td>\n",
       "      <td>0.776742</td>\n",
       "      <td>0.625849</td>\n",
       "      <td>0.250823</td>\n",
       "      <td>7.972260</td>\n",
       "    </tr>\n",
       "  </tbody>\n",
       "</table>\n",
       "<p>5 rows × 22 columns</p>\n",
       "</div>"
      ],
      "text/plain": [
       "   id cat0 cat1 cat5 cat7 cat8 cat9     cont0     cont1     cont2  ...  \\\n",
       "0   1    B    B    B    E    C    N  0.201470 -0.014822  0.669699  ...   \n",
       "1   2    B    B    D    F    A    O  0.743068  0.367411  1.021605  ...   \n",
       "2   3    A    A    D    D    A    F  0.742708  0.310383 -0.012673  ...   \n",
       "3   4    B    B    D    E    C    K  0.429551  0.620998  0.577942  ...   \n",
       "4   6    A    A    D    E    A    N  1.058291  0.367492 -0.052389  ...   \n",
       "\n",
       "      cont5     cont6     cont7     cont8     cont9    cont10    cont11  \\\n",
       "0  0.400361  0.160266  0.310921  0.389470  0.267559  0.237281  0.377873   \n",
       "1  0.533087  0.558922  0.516294  0.594928  0.341439  0.906013  0.921701   \n",
       "2  0.650609  0.375348  0.902567  0.555205  0.843531  0.748809  0.620126   \n",
       "3  0.668980  0.239061  0.732948  0.679618  0.574844  0.346010  0.714610   \n",
       "4  0.686964  0.420667  0.648182  0.684501  0.956692  1.000773  0.776742   \n",
       "\n",
       "     cont12    cont13    target  \n",
       "0  0.322401  0.869850  8.113634  \n",
       "1  0.261975  0.465083  8.481233  \n",
       "2  0.541474  0.763846  8.364351  \n",
       "3  0.540150  0.280682  8.049253  \n",
       "4  0.625849  0.250823  7.972260  \n",
       "\n",
       "[5 rows x 22 columns]"
      ]
     },
     "execution_count": 5,
     "metadata": {},
     "output_type": "execute_result"
    }
   ],
   "source": [
    "# Low MI scores\n",
    "for pp in [\"cat2\",\"cat3\",\"cat4\",\"cat6\"]:\n",
    "    train.pop(pp)\n",
    "    test.pop(pp)\n",
    "train.head()"
   ]
  },
  {
   "cell_type": "code",
   "execution_count": 6,
   "id": "9001b125",
   "metadata": {
    "execution": {
     "iopub.execute_input": "2021-08-25T23:56:16.149742Z",
     "iopub.status.busy": "2021-08-25T23:56:16.148842Z",
     "iopub.status.idle": "2021-08-25T23:56:16.197860Z",
     "shell.execute_reply": "2021-08-25T23:56:16.197319Z",
     "shell.execute_reply.started": "2021-08-25T14:50:28.334953Z"
    },
    "papermill": {
     "duration": 0.072442,
     "end_time": "2021-08-25T23:56:16.198029",
     "exception": false,
     "start_time": "2021-08-25T23:56:16.125587",
     "status": "completed"
    },
    "tags": []
   },
   "outputs": [
    {
     "data": {
      "text/html": [
       "<div>\n",
       "<style scoped>\n",
       "    .dataframe tbody tr th:only-of-type {\n",
       "        vertical-align: middle;\n",
       "    }\n",
       "\n",
       "    .dataframe tbody tr th {\n",
       "        vertical-align: top;\n",
       "    }\n",
       "\n",
       "    .dataframe thead th {\n",
       "        text-align: right;\n",
       "    }\n",
       "</style>\n",
       "<table border=\"1\" class=\"dataframe\">\n",
       "  <thead>\n",
       "    <tr style=\"text-align: right;\">\n",
       "      <th></th>\n",
       "      <th>cat0</th>\n",
       "      <th>cat1</th>\n",
       "      <th>cat5</th>\n",
       "      <th>cat7</th>\n",
       "      <th>cat8</th>\n",
       "      <th>cat9</th>\n",
       "      <th>cont0</th>\n",
       "      <th>cont1</th>\n",
       "      <th>cont2</th>\n",
       "      <th>cont3</th>\n",
       "      <th>cont4</th>\n",
       "      <th>cont5</th>\n",
       "      <th>cont6</th>\n",
       "      <th>cont7</th>\n",
       "      <th>cont8</th>\n",
       "      <th>cont9</th>\n",
       "      <th>cont10</th>\n",
       "      <th>cont11</th>\n",
       "      <th>cont12</th>\n",
       "      <th>cont13</th>\n",
       "    </tr>\n",
       "  </thead>\n",
       "  <tbody>\n",
       "    <tr>\n",
       "      <th>0</th>\n",
       "      <td>B</td>\n",
       "      <td>B</td>\n",
       "      <td>B</td>\n",
       "      <td>E</td>\n",
       "      <td>C</td>\n",
       "      <td>N</td>\n",
       "      <td>0.201470</td>\n",
       "      <td>-0.014822</td>\n",
       "      <td>0.669699</td>\n",
       "      <td>0.136278</td>\n",
       "      <td>0.610706</td>\n",
       "      <td>0.400361</td>\n",
       "      <td>0.160266</td>\n",
       "      <td>0.310921</td>\n",
       "      <td>0.389470</td>\n",
       "      <td>0.267559</td>\n",
       "      <td>0.237281</td>\n",
       "      <td>0.377873</td>\n",
       "      <td>0.322401</td>\n",
       "      <td>0.869850</td>\n",
       "    </tr>\n",
       "    <tr>\n",
       "      <th>1</th>\n",
       "      <td>B</td>\n",
       "      <td>B</td>\n",
       "      <td>D</td>\n",
       "      <td>F</td>\n",
       "      <td>A</td>\n",
       "      <td>O</td>\n",
       "      <td>0.743068</td>\n",
       "      <td>0.367411</td>\n",
       "      <td>1.021605</td>\n",
       "      <td>0.365798</td>\n",
       "      <td>0.276853</td>\n",
       "      <td>0.533087</td>\n",
       "      <td>0.558922</td>\n",
       "      <td>0.516294</td>\n",
       "      <td>0.594928</td>\n",
       "      <td>0.341439</td>\n",
       "      <td>0.906013</td>\n",
       "      <td>0.921701</td>\n",
       "      <td>0.261975</td>\n",
       "      <td>0.465083</td>\n",
       "    </tr>\n",
       "    <tr>\n",
       "      <th>2</th>\n",
       "      <td>A</td>\n",
       "      <td>A</td>\n",
       "      <td>D</td>\n",
       "      <td>D</td>\n",
       "      <td>A</td>\n",
       "      <td>F</td>\n",
       "      <td>0.742708</td>\n",
       "      <td>0.310383</td>\n",
       "      <td>-0.012673</td>\n",
       "      <td>0.576957</td>\n",
       "      <td>0.285074</td>\n",
       "      <td>0.650609</td>\n",
       "      <td>0.375348</td>\n",
       "      <td>0.902567</td>\n",
       "      <td>0.555205</td>\n",
       "      <td>0.843531</td>\n",
       "      <td>0.748809</td>\n",
       "      <td>0.620126</td>\n",
       "      <td>0.541474</td>\n",
       "      <td>0.763846</td>\n",
       "    </tr>\n",
       "    <tr>\n",
       "      <th>3</th>\n",
       "      <td>B</td>\n",
       "      <td>B</td>\n",
       "      <td>D</td>\n",
       "      <td>E</td>\n",
       "      <td>C</td>\n",
       "      <td>K</td>\n",
       "      <td>0.429551</td>\n",
       "      <td>0.620998</td>\n",
       "      <td>0.577942</td>\n",
       "      <td>0.280610</td>\n",
       "      <td>0.284667</td>\n",
       "      <td>0.668980</td>\n",
       "      <td>0.239061</td>\n",
       "      <td>0.732948</td>\n",
       "      <td>0.679618</td>\n",
       "      <td>0.574844</td>\n",
       "      <td>0.346010</td>\n",
       "      <td>0.714610</td>\n",
       "      <td>0.540150</td>\n",
       "      <td>0.280682</td>\n",
       "    </tr>\n",
       "    <tr>\n",
       "      <th>4</th>\n",
       "      <td>A</td>\n",
       "      <td>A</td>\n",
       "      <td>D</td>\n",
       "      <td>E</td>\n",
       "      <td>A</td>\n",
       "      <td>N</td>\n",
       "      <td>1.058291</td>\n",
       "      <td>0.367492</td>\n",
       "      <td>-0.052389</td>\n",
       "      <td>0.232407</td>\n",
       "      <td>0.287595</td>\n",
       "      <td>0.686964</td>\n",
       "      <td>0.420667</td>\n",
       "      <td>0.648182</td>\n",
       "      <td>0.684501</td>\n",
       "      <td>0.956692</td>\n",
       "      <td>1.000773</td>\n",
       "      <td>0.776742</td>\n",
       "      <td>0.625849</td>\n",
       "      <td>0.250823</td>\n",
       "    </tr>\n",
       "  </tbody>\n",
       "</table>\n",
       "</div>"
      ],
      "text/plain": [
       "  cat0 cat1 cat5 cat7 cat8 cat9     cont0     cont1     cont2     cont3  \\\n",
       "0    B    B    B    E    C    N  0.201470 -0.014822  0.669699  0.136278   \n",
       "1    B    B    D    F    A    O  0.743068  0.367411  1.021605  0.365798   \n",
       "2    A    A    D    D    A    F  0.742708  0.310383 -0.012673  0.576957   \n",
       "3    B    B    D    E    C    K  0.429551  0.620998  0.577942  0.280610   \n",
       "4    A    A    D    E    A    N  1.058291  0.367492 -0.052389  0.232407   \n",
       "\n",
       "      cont4     cont5     cont6     cont7     cont8     cont9    cont10  \\\n",
       "0  0.610706  0.400361  0.160266  0.310921  0.389470  0.267559  0.237281   \n",
       "1  0.276853  0.533087  0.558922  0.516294  0.594928  0.341439  0.906013   \n",
       "2  0.285074  0.650609  0.375348  0.902567  0.555205  0.843531  0.748809   \n",
       "3  0.284667  0.668980  0.239061  0.732948  0.679618  0.574844  0.346010   \n",
       "4  0.287595  0.686964  0.420667  0.648182  0.684501  0.956692  1.000773   \n",
       "\n",
       "     cont11    cont12    cont13  \n",
       "0  0.377873  0.322401  0.869850  \n",
       "1  0.921701  0.261975  0.465083  \n",
       "2  0.620126  0.541474  0.763846  \n",
       "3  0.714610  0.540150  0.280682  \n",
       "4  0.776742  0.625849  0.250823  "
      ]
     },
     "execution_count": 6,
     "metadata": {},
     "output_type": "execute_result"
    }
   ],
   "source": [
    "# Separate target from features\n",
    "y = train['target']\n",
    "features = train.drop(['id','target'], axis=1)\n",
    "\n",
    "# Preview features\n",
    "features.head()"
   ]
  },
  {
   "cell_type": "markdown",
   "id": "7a3cb242",
   "metadata": {
    "papermill": {
     "duration": 0.017308,
     "end_time": "2021-08-25T23:56:16.232587",
     "exception": false,
     "start_time": "2021-08-25T23:56:16.215279",
     "status": "completed"
    },
    "tags": []
   },
   "source": [
    "# Preprocessing"
   ]
  },
  {
   "cell_type": "code",
   "execution_count": 7,
   "id": "390d6680",
   "metadata": {
    "execution": {
     "iopub.execute_input": "2021-08-25T23:56:16.274516Z",
     "iopub.status.busy": "2021-08-25T23:56:16.273797Z",
     "iopub.status.idle": "2021-08-25T23:56:18.644694Z",
     "shell.execute_reply": "2021-08-25T23:56:18.645482Z",
     "shell.execute_reply.started": "2021-08-25T14:50:28.388579Z"
    },
    "papermill": {
     "duration": 2.39584,
     "end_time": "2021-08-25T23:56:18.645767",
     "exception": false,
     "start_time": "2021-08-25T23:56:16.249927",
     "status": "completed"
    },
    "tags": []
   },
   "outputs": [
    {
     "data": {
      "text/html": [
       "<div>\n",
       "<style scoped>\n",
       "    .dataframe tbody tr th:only-of-type {\n",
       "        vertical-align: middle;\n",
       "    }\n",
       "\n",
       "    .dataframe tbody tr th {\n",
       "        vertical-align: top;\n",
       "    }\n",
       "\n",
       "    .dataframe thead th {\n",
       "        text-align: right;\n",
       "    }\n",
       "</style>\n",
       "<table border=\"1\" class=\"dataframe\">\n",
       "  <thead>\n",
       "    <tr style=\"text-align: right;\">\n",
       "      <th></th>\n",
       "      <th>cat0</th>\n",
       "      <th>cat1</th>\n",
       "      <th>cat5</th>\n",
       "      <th>cat7</th>\n",
       "      <th>cat8</th>\n",
       "      <th>cat9</th>\n",
       "      <th>cont0</th>\n",
       "      <th>cont1</th>\n",
       "      <th>cont2</th>\n",
       "      <th>cont3</th>\n",
       "      <th>cont4</th>\n",
       "      <th>cont5</th>\n",
       "      <th>cont6</th>\n",
       "      <th>cont7</th>\n",
       "      <th>cont8</th>\n",
       "      <th>cont9</th>\n",
       "      <th>cont10</th>\n",
       "      <th>cont11</th>\n",
       "      <th>cont12</th>\n",
       "      <th>cont13</th>\n",
       "    </tr>\n",
       "  </thead>\n",
       "  <tbody>\n",
       "    <tr>\n",
       "      <th>0</th>\n",
       "      <td>1.0</td>\n",
       "      <td>1.0</td>\n",
       "      <td>1.0</td>\n",
       "      <td>4.0</td>\n",
       "      <td>2.0</td>\n",
       "      <td>13.0</td>\n",
       "      <td>0.201470</td>\n",
       "      <td>-0.014822</td>\n",
       "      <td>0.669699</td>\n",
       "      <td>0.136278</td>\n",
       "      <td>0.610706</td>\n",
       "      <td>0.400361</td>\n",
       "      <td>0.160266</td>\n",
       "      <td>0.310921</td>\n",
       "      <td>0.389470</td>\n",
       "      <td>0.267559</td>\n",
       "      <td>0.237281</td>\n",
       "      <td>0.377873</td>\n",
       "      <td>0.322401</td>\n",
       "      <td>0.869850</td>\n",
       "    </tr>\n",
       "    <tr>\n",
       "      <th>1</th>\n",
       "      <td>1.0</td>\n",
       "      <td>1.0</td>\n",
       "      <td>3.0</td>\n",
       "      <td>5.0</td>\n",
       "      <td>0.0</td>\n",
       "      <td>14.0</td>\n",
       "      <td>0.743068</td>\n",
       "      <td>0.367411</td>\n",
       "      <td>1.021605</td>\n",
       "      <td>0.365798</td>\n",
       "      <td>0.276853</td>\n",
       "      <td>0.533087</td>\n",
       "      <td>0.558922</td>\n",
       "      <td>0.516294</td>\n",
       "      <td>0.594928</td>\n",
       "      <td>0.341439</td>\n",
       "      <td>0.906013</td>\n",
       "      <td>0.921701</td>\n",
       "      <td>0.261975</td>\n",
       "      <td>0.465083</td>\n",
       "    </tr>\n",
       "    <tr>\n",
       "      <th>2</th>\n",
       "      <td>0.0</td>\n",
       "      <td>0.0</td>\n",
       "      <td>3.0</td>\n",
       "      <td>3.0</td>\n",
       "      <td>0.0</td>\n",
       "      <td>5.0</td>\n",
       "      <td>0.742708</td>\n",
       "      <td>0.310383</td>\n",
       "      <td>-0.012673</td>\n",
       "      <td>0.576957</td>\n",
       "      <td>0.285074</td>\n",
       "      <td>0.650609</td>\n",
       "      <td>0.375348</td>\n",
       "      <td>0.902567</td>\n",
       "      <td>0.555205</td>\n",
       "      <td>0.843531</td>\n",
       "      <td>0.748809</td>\n",
       "      <td>0.620126</td>\n",
       "      <td>0.541474</td>\n",
       "      <td>0.763846</td>\n",
       "    </tr>\n",
       "    <tr>\n",
       "      <th>3</th>\n",
       "      <td>1.0</td>\n",
       "      <td>1.0</td>\n",
       "      <td>3.0</td>\n",
       "      <td>4.0</td>\n",
       "      <td>2.0</td>\n",
       "      <td>10.0</td>\n",
       "      <td>0.429551</td>\n",
       "      <td>0.620998</td>\n",
       "      <td>0.577942</td>\n",
       "      <td>0.280610</td>\n",
       "      <td>0.284667</td>\n",
       "      <td>0.668980</td>\n",
       "      <td>0.239061</td>\n",
       "      <td>0.732948</td>\n",
       "      <td>0.679618</td>\n",
       "      <td>0.574844</td>\n",
       "      <td>0.346010</td>\n",
       "      <td>0.714610</td>\n",
       "      <td>0.540150</td>\n",
       "      <td>0.280682</td>\n",
       "    </tr>\n",
       "    <tr>\n",
       "      <th>4</th>\n",
       "      <td>0.0</td>\n",
       "      <td>0.0</td>\n",
       "      <td>3.0</td>\n",
       "      <td>4.0</td>\n",
       "      <td>0.0</td>\n",
       "      <td>13.0</td>\n",
       "      <td>1.058291</td>\n",
       "      <td>0.367492</td>\n",
       "      <td>-0.052389</td>\n",
       "      <td>0.232407</td>\n",
       "      <td>0.287595</td>\n",
       "      <td>0.686964</td>\n",
       "      <td>0.420667</td>\n",
       "      <td>0.648182</td>\n",
       "      <td>0.684501</td>\n",
       "      <td>0.956692</td>\n",
       "      <td>1.000773</td>\n",
       "      <td>0.776742</td>\n",
       "      <td>0.625849</td>\n",
       "      <td>0.250823</td>\n",
       "    </tr>\n",
       "  </tbody>\n",
       "</table>\n",
       "</div>"
      ],
      "text/plain": [
       "   cat0  cat1  cat5  cat7  cat8  cat9     cont0     cont1     cont2     cont3  \\\n",
       "0   1.0   1.0   1.0   4.0   2.0  13.0  0.201470 -0.014822  0.669699  0.136278   \n",
       "1   1.0   1.0   3.0   5.0   0.0  14.0  0.743068  0.367411  1.021605  0.365798   \n",
       "2   0.0   0.0   3.0   3.0   0.0   5.0  0.742708  0.310383 -0.012673  0.576957   \n",
       "3   1.0   1.0   3.0   4.0   2.0  10.0  0.429551  0.620998  0.577942  0.280610   \n",
       "4   0.0   0.0   3.0   4.0   0.0  13.0  1.058291  0.367492 -0.052389  0.232407   \n",
       "\n",
       "      cont4     cont5     cont6     cont7     cont8     cont9    cont10  \\\n",
       "0  0.610706  0.400361  0.160266  0.310921  0.389470  0.267559  0.237281   \n",
       "1  0.276853  0.533087  0.558922  0.516294  0.594928  0.341439  0.906013   \n",
       "2  0.285074  0.650609  0.375348  0.902567  0.555205  0.843531  0.748809   \n",
       "3  0.284667  0.668980  0.239061  0.732948  0.679618  0.574844  0.346010   \n",
       "4  0.287595  0.686964  0.420667  0.648182  0.684501  0.956692  1.000773   \n",
       "\n",
       "     cont11    cont12    cont13  \n",
       "0  0.377873  0.322401  0.869850  \n",
       "1  0.921701  0.261975  0.465083  \n",
       "2  0.620126  0.541474  0.763846  \n",
       "3  0.714610  0.540150  0.280682  \n",
       "4  0.776742  0.625849  0.250823  "
      ]
     },
     "execution_count": 7,
     "metadata": {},
     "output_type": "execute_result"
    }
   ],
   "source": [
    "\n",
    "# List of categorical columns\n",
    "object_cols = [col for col in features.columns if 'cat' in col]\n",
    "\n",
    "# ordinal-encode categorical columns\n",
    "X = features.copy()\n",
    "X_test = test.drop(['id'], axis=1).copy()\n",
    "ordinal_encoder = OrdinalEncoder()\n",
    "X[object_cols] = ordinal_encoder.fit_transform(features[object_cols])\n",
    "X_test[object_cols] = ordinal_encoder.transform(test[object_cols])\n",
    "\n",
    "# Preview the ordinal-encoded features\n",
    "X.head()\n"
   ]
  },
  {
   "cell_type": "code",
   "execution_count": 8,
   "id": "6af9392e",
   "metadata": {
    "execution": {
     "iopub.execute_input": "2021-08-25T23:56:18.692940Z",
     "iopub.status.busy": "2021-08-25T23:56:18.692214Z",
     "iopub.status.idle": "2021-08-25T23:56:18.695738Z",
     "shell.execute_reply": "2021-08-25T23:56:18.695153Z",
     "shell.execute_reply.started": "2021-08-25T14:50:30.978302Z"
    },
    "papermill": {
     "duration": 0.029958,
     "end_time": "2021-08-25T23:56:18.695899",
     "exception": false,
     "start_time": "2021-08-25T23:56:18.665941",
     "status": "completed"
    },
    "tags": []
   },
   "outputs": [
    {
     "data": {
      "text/plain": [
       "'\\n# List of categorical columns\\nobject_cols = [col for col in features.columns if \\'cat\\' in col]\\n\\n# one-hot-encode categorical columns\\nX = features.copy()\\nX_test = test.drop([\\'id\\'], axis=1).copy()\\n\\noh_encoder = OneHotEncoder(sparse=False, handle_unknown=\"ignore\")\\nX_ohe = oh_encoder.fit_transform(features[object_cols])\\nX_test_ohe = oh_encoder.transform(test[object_cols])\\n\\nX_ohe = pd.DataFrame(X_ohe, columns=[f\"ohe_{i}\" for i in range(X_ohe.shape[1])])\\nX_test_ohe = pd.DataFrame(X_test_ohe, columns=[f\"ohe_{i}\" for i in range(X_test_ohe.shape[1])])\\n\\nX = pd.concat([X, X_ohe], axis=1)\\nX_test = pd.concat([X_test, X_test_ohe], axis=1)\\nX = X.drop(object_cols, axis=1)\\nX_test = X_test.drop(object_cols, axis=1)\\n    \\n# Preview the one-hot-encoded features\\nX.head()\\n'"
      ]
     },
     "execution_count": 8,
     "metadata": {},
     "output_type": "execute_result"
    }
   ],
   "source": [
    "'''\n",
    "# List of categorical columns\n",
    "object_cols = [col for col in features.columns if 'cat' in col]\n",
    "\n",
    "# one-hot-encode categorical columns\n",
    "X = features.copy()\n",
    "X_test = test.drop(['id'], axis=1).copy()\n",
    "\n",
    "oh_encoder = OneHotEncoder(sparse=False, handle_unknown=\"ignore\")\n",
    "X_ohe = oh_encoder.fit_transform(features[object_cols])\n",
    "X_test_ohe = oh_encoder.transform(test[object_cols])\n",
    "\n",
    "X_ohe = pd.DataFrame(X_ohe, columns=[f\"ohe_{i}\" for i in range(X_ohe.shape[1])])\n",
    "X_test_ohe = pd.DataFrame(X_test_ohe, columns=[f\"ohe_{i}\" for i in range(X_test_ohe.shape[1])])\n",
    "\n",
    "X = pd.concat([X, X_ohe], axis=1)\n",
    "X_test = pd.concat([X_test, X_test_ohe], axis=1)\n",
    "X = X.drop(object_cols, axis=1)\n",
    "X_test = X_test.drop(object_cols, axis=1)\n",
    "    \n",
    "# Preview the one-hot-encoded features\n",
    "X.head()\n",
    "'''"
   ]
  },
  {
   "cell_type": "code",
   "execution_count": 9,
   "id": "f69c5ce4",
   "metadata": {
    "execution": {
     "iopub.execute_input": "2021-08-25T23:56:18.736896Z",
     "iopub.status.busy": "2021-08-25T23:56:18.736249Z",
     "iopub.status.idle": "2021-08-25T23:56:20.819227Z",
     "shell.execute_reply": "2021-08-25T23:56:20.819714Z",
     "shell.execute_reply.started": "2021-08-25T14:50:30.988805Z"
    },
    "papermill": {
     "duration": 2.105142,
     "end_time": "2021-08-25T23:56:20.819895",
     "exception": false,
     "start_time": "2021-08-25T23:56:18.714753",
     "status": "completed"
    },
    "tags": []
   },
   "outputs": [],
   "source": [
    "scale_features = [col for col in features.columns if 'cont' in col]\n",
    "\n",
    "ss = StandardScaler()\n",
    "X[scale_features] = ss.fit_transform(features[scale_features])\n",
    "X_test[scale_features] = ss.transform(test[scale_features])"
   ]
  },
  {
   "cell_type": "code",
   "execution_count": 10,
   "id": "1d707e7d",
   "metadata": {
    "execution": {
     "iopub.execute_input": "2021-08-25T23:56:20.867784Z",
     "iopub.status.busy": "2021-08-25T23:56:20.867075Z",
     "iopub.status.idle": "2021-08-25T23:56:20.871130Z",
     "shell.execute_reply": "2021-08-25T23:56:20.870452Z",
     "shell.execute_reply.started": "2021-08-25T14:50:33.045348Z"
    },
    "papermill": {
     "duration": 0.032934,
     "end_time": "2021-08-25T23:56:20.871318",
     "exception": false,
     "start_time": "2021-08-25T23:56:20.838384",
     "status": "completed"
    },
    "tags": []
   },
   "outputs": [],
   "source": [
    "# Swap noise\n",
    "\n",
    "# Random\n",
    "def apply_noise_rn(df, p=.75):\n",
    "    should_not_swap = np.random.binomial(1, p, df.shape)\n",
    "    corrupted_df = df.where(should_not_swap == 1, np.random.permutation(df))\n",
    "    return corrupted_df\n",
    "\n",
    "# Row-wise\n",
    "def apply_noise_row(df, p=.75):\n",
    "    should_not_swap = np.zeros(df.shape)\n",
    "    for i in range(df.shape[0]):\n",
    "        for j in np.random.choice(df.shape[1],int(p*df.shape[1]),replace=False):\n",
    "            should_not_swap[i,j]=1 \n",
    "    corrupted_df = df.where(should_not_swap == 1, np.random.permutation(df))\n",
    "    return corrupted_df"
   ]
  },
  {
   "cell_type": "markdown",
   "id": "bbd134a5",
   "metadata": {
    "papermill": {
     "duration": 0.018478,
     "end_time": "2021-08-25T23:56:20.909409",
     "exception": false,
     "start_time": "2021-08-25T23:56:20.890931",
     "status": "completed"
    },
    "tags": []
   },
   "source": [
    "# Optuna"
   ]
  },
  {
   "cell_type": "code",
   "execution_count": 11,
   "id": "8156fe2a",
   "metadata": {
    "execution": {
     "iopub.execute_input": "2021-08-25T23:56:20.967442Z",
     "iopub.status.busy": "2021-08-25T23:56:20.951464Z",
     "iopub.status.idle": "2021-08-25T23:56:30.997790Z",
     "shell.execute_reply": "2021-08-25T23:56:30.996991Z",
     "shell.execute_reply.started": "2021-08-25T14:50:33.055157Z"
    },
    "papermill": {
     "duration": 10.0696,
     "end_time": "2021-08-25T23:56:30.997947",
     "exception": false,
     "start_time": "2021-08-25T23:56:20.928347",
     "status": "completed"
    },
    "tags": []
   },
   "outputs": [
    {
     "name": "stdout",
     "output_type": "stream",
     "text": [
      "\u001b[33mWARNING: Running pip as root will break packages and permissions. You should install packages reliably by using venv: https://pip.pypa.io/warnings/venv\u001b[0m\r\n"
     ]
    }
   ],
   "source": [
    "# Optuna for parameter search\n",
    "!pip install -q optuna\n",
    "\n",
    "import optuna\n",
    "import pickle"
   ]
  },
  {
   "cell_type": "code",
   "execution_count": 12,
   "id": "654d8413",
   "metadata": {
    "execution": {
     "iopub.execute_input": "2021-08-25T23:56:31.052706Z",
     "iopub.status.busy": "2021-08-25T23:56:31.047905Z",
     "iopub.status.idle": "2021-08-25T23:56:31.059405Z",
     "shell.execute_reply": "2021-08-25T23:56:31.057865Z",
     "shell.execute_reply.started": "2021-08-25T14:50:43.459482Z"
    },
    "papermill": {
     "duration": 0.040758,
     "end_time": "2021-08-25T23:56:31.059584",
     "exception": false,
     "start_time": "2021-08-25T23:56:31.018826",
     "status": "completed"
    },
    "tags": []
   },
   "outputs": [],
   "source": [
    "# for the fixed learning rate, use the opt n iterations and tune the tree hyperparameters\n",
    "def objective(trial, X=X, y=y):\n",
    "  \"\"\"\n",
    "  \"\"\"\n",
    "  param_space = {\n",
    "               #'device':'gpu',  # Use GPU acceleration\n",
    "               #'boosting_type': 'gbdt',\n",
    "               'reg_lambda':trial.suggest_uniform('reg_lambda', 0.001, 25),\n",
    "              'reg_alpha':trial.suggest_uniform('reg_alpha', 3, 27),\n",
    "                'subsample': trial.suggest_uniform('subsample', 0.2, 0.6),\n",
    "              'colsample_bytree':trial.suggest_uniform('colsample_bytree', 0.1, 0.4),\n",
    "                #'subsample_freq': trial.suggest_int('subsample_freq', 1, 10),\n",
    "               'learning_rate':trial.suggest_uniform('learning_rate', 2e-2, 6.95e-2),\n",
    "                 'min_child_samples':trial.suggest_int('min_child_samples', 5, 55),\n",
    "              'num_leaves':trial.suggest_int('num_leaves', 87, 187),\n",
    "              'max_depth':trial.suggest_int('max_depth', 2, 15),\n",
    "              #'min_split_gain': trial.suggest_float('min_split_gain', 0.0, 0.005),\n",
    "              #'class_weight':trial.suggest_categorical('class_weight',['balanced',None]),\n",
    "               'n_estimators':N_ESTIMATORS,\n",
    "                'n_jobs' : -1,\n",
    "              'metric':'rmse',\n",
    "              'max_bin':trial.suggest_int('max_bin', 494, 894),\n",
    "              'cat_smooth':trial.suggest_int('cat_smooth', 37, 87),\n",
    "              'cat_l2':trial.suggest_loguniform('cat_l2', 50, 98)\n",
    "                }\n",
    "            \n",
    "  seed_list=[SEED, SEED+1]\n",
    "  #kf = KFold(n_splits=N_SPLITS, shuffle=True, random_state=CVSEED)\n",
    "  #lgb_oof = np.zeros(train.shape[0])\n",
    "  #lgb_pred = np.zeros(test.shape[0])\n",
    "  X_tr, X_va, y_tr, y_va = train_test_split(X,y,test_size=.2,random_state=CVSEED)\n",
    "  pred=np.zeros(y_va.shape[0])\n",
    "    \n",
    "  #for (trn_idx, val_idx) in enumerate(kf.split(X, y)):\n",
    "  #print(f\"===== fold {fold} =====\")\n",
    "    \n",
    "  #X_tr = apply_noise_row(X_tr)\n",
    "\n",
    "  \n",
    "  #start = time.time()\n",
    "  for inseed in seed_list:\n",
    "    param_space['random_state'] = inseed\n",
    "\n",
    "    model = lgb.LGBMRegressor(**param_space)\n",
    "    model.fit(\n",
    "        X_tr, \n",
    "        y_tr,\n",
    "        eval_set=[(X_va, y_va)],\n",
    "        eval_metric='rmse',\n",
    "        early_stopping_rounds=EARLY_STOPPING_ROUNDS,\n",
    "        verbose=VERBOSE,\n",
    "        categorical_feature=[0, 1, 2, 3, 4, 5, 6, 7, 8, 9]\n",
    "        #callbacks=[optuna.integration.LightGBMPruningCallback(trial, metric='rmse')],\n",
    "    )\n",
    "\n",
    "\n",
    "    pred += model.predict(X_va) / len(seed_list)\n",
    "    \n",
    "  #elapsed = time.time() - start\n",
    "  rmse = mean_squared_error(y_va, pred, squared=False)\n",
    "  #print(f\"fold {fold} - lgb rmse: {rmse:.6f}, elapsed time: {elapsed:.2f}sec\\n\")            \n",
    "  \n",
    "  #print(f\"oof lgb_rmse = {mean_squared_error(train[target], lgb_oof, squared=False)}\")\n",
    "\n",
    "  \n",
    "  return rmse"
   ]
  },
  {
   "cell_type": "code",
   "execution_count": 13,
   "id": "00207bf1",
   "metadata": {
    "execution": {
     "iopub.execute_input": "2021-08-25T23:56:31.106299Z",
     "iopub.status.busy": "2021-08-25T23:56:31.105149Z",
     "iopub.status.idle": "2021-08-26T00:53:22.146754Z",
     "shell.execute_reply": "2021-08-26T00:53:22.147570Z",
     "shell.execute_reply.started": "2021-08-25T14:50:43.475861Z"
    },
    "papermill": {
     "duration": 3411.068409,
     "end_time": "2021-08-26T00:53:22.147798",
     "exception": false,
     "start_time": "2021-08-25T23:56:31.079389",
     "status": "completed"
    },
    "tags": []
   },
   "outputs": [
    {
     "name": "stderr",
     "output_type": "stream",
     "text": [
      "\u001b[32m[I 2021-08-25 23:56:31,103]\u001b[0m A new study created in memory with name: no-name-5dd489b2-a311-43f9-8f29-a049d842e4f1\u001b[0m\n"
     ]
    },
    {
     "name": "stdout",
     "output_type": "stream",
     "text": [
      "Training until validation scores don't improve for 200 rounds\n",
      "[1000]\tvalid_0's rmse: 0.724652\n",
      "[2000]\tvalid_0's rmse: 0.721277\n",
      "[3000]\tvalid_0's rmse: 0.719567\n",
      "[4000]\tvalid_0's rmse: 0.718587\n",
      "[5000]\tvalid_0's rmse: 0.717973\n",
      "[6000]\tvalid_0's rmse: 0.717556\n",
      "[7000]\tvalid_0's rmse: 0.717375\n",
      "[8000]\tvalid_0's rmse: 0.71734\n",
      "Early stopping, best iteration is:\n",
      "[7800]\tvalid_0's rmse: 0.717319\n",
      "Training until validation scores don't improve for 200 rounds\n",
      "[1000]\tvalid_0's rmse: 0.724603\n",
      "[2000]\tvalid_0's rmse: 0.721304\n",
      "[3000]\tvalid_0's rmse: 0.71953\n",
      "[4000]\tvalid_0's rmse: 0.718635\n",
      "[5000]\tvalid_0's rmse: 0.718075\n",
      "[6000]\tvalid_0's rmse: 0.717749\n",
      "[7000]\tvalid_0's rmse: 0.717467\n",
      "Early stopping, best iteration is:\n",
      "[7394]\tvalid_0's rmse: 0.717408\n"
     ]
    },
    {
     "name": "stderr",
     "output_type": "stream",
     "text": [
      "\u001b[32m[I 2021-08-25 23:59:19,541]\u001b[0m Trial 0 finished with value: 0.7172494952683935 and parameters: {'reg_lambda': 12.448419725180374, 'reg_alpha': 4.982647038535252, 'subsample': 0.4310059949444464, 'colsample_bytree': 0.2579181572031725, 'learning_rate': 0.0421451971220899, 'min_child_samples': 28, 'num_leaves': 120, 'max_depth': 2, 'max_bin': 614, 'cat_smooth': 58, 'cat_l2': 86.82538385789324}. Best is trial 0 with value: 0.7172494952683935.\u001b[0m\n"
     ]
    },
    {
     "name": "stdout",
     "output_type": "stream",
     "text": [
      "Training until validation scores don't improve for 200 rounds\n",
      "[1000]\tvalid_0's rmse: 0.717737\n",
      "Early stopping, best iteration is:\n",
      "[1340]\tvalid_0's rmse: 0.717562\n",
      "Training until validation scores don't improve for 200 rounds\n",
      "[1000]\tvalid_0's rmse: 0.718173\n",
      "Early stopping, best iteration is:\n",
      "[1570]\tvalid_0's rmse: 0.717662\n"
     ]
    },
    {
     "name": "stderr",
     "output_type": "stream",
     "text": [
      "\u001b[32m[I 2021-08-26 00:00:06,756]\u001b[0m Trial 1 finished with value: 0.7171721640380457 and parameters: {'reg_lambda': 16.011130453847322, 'reg_alpha': 6.757455032499683, 'subsample': 0.24892822034485254, 'colsample_bytree': 0.10121420184848116, 'learning_rate': 0.06559381728938582, 'min_child_samples': 16, 'num_leaves': 167, 'max_depth': 5, 'max_bin': 741, 'cat_smooth': 66, 'cat_l2': 57.89927784408105}. Best is trial 1 with value: 0.7171721640380457.\u001b[0m\n"
     ]
    },
    {
     "name": "stdout",
     "output_type": "stream",
     "text": [
      "Training until validation scores don't improve for 200 rounds\n",
      "[1000]\tvalid_0's rmse: 0.717993\n",
      "Early stopping, best iteration is:\n",
      "[1593]\tvalid_0's rmse: 0.717666\n",
      "Training until validation scores don't improve for 200 rounds\n",
      "[1000]\tvalid_0's rmse: 0.717943\n",
      "Early stopping, best iteration is:\n",
      "[1317]\tvalid_0's rmse: 0.717666\n"
     ]
    },
    {
     "name": "stderr",
     "output_type": "stream",
     "text": [
      "\u001b[32m[I 2021-08-26 00:00:55,045]\u001b[0m Trial 2 finished with value: 0.7174450659718075 and parameters: {'reg_lambda': 4.592802957341805, 'reg_alpha': 10.236547744724502, 'subsample': 0.43226996912145527, 'colsample_bytree': 0.225322246342379, 'learning_rate': 0.06932018784048481, 'min_child_samples': 55, 'num_leaves': 128, 'max_depth': 4, 'max_bin': 675, 'cat_smooth': 69, 'cat_l2': 62.907018643027136}. Best is trial 1 with value: 0.7171721640380457.\u001b[0m\n"
     ]
    },
    {
     "name": "stdout",
     "output_type": "stream",
     "text": [
      "Training until validation scores don't improve for 200 rounds\n",
      "[1000]\tvalid_0's rmse: 0.717929\n",
      "Early stopping, best iteration is:\n",
      "[1441]\tvalid_0's rmse: 0.717714\n",
      "Training until validation scores don't improve for 200 rounds\n",
      "[1000]\tvalid_0's rmse: 0.717965\n",
      "Early stopping, best iteration is:\n",
      "[1627]\tvalid_0's rmse: 0.717586\n"
     ]
    },
    {
     "name": "stderr",
     "output_type": "stream",
     "text": [
      "\u001b[32m[I 2021-08-26 00:02:12,120]\u001b[0m Trial 3 finished with value: 0.7174926833730871 and parameters: {'reg_lambda': 18.49973470467656, 'reg_alpha': 22.336482461353896, 'subsample': 0.4120463611131943, 'colsample_bytree': 0.1318782086038527, 'learning_rate': 0.02952051435923574, 'min_child_samples': 52, 'num_leaves': 124, 'max_depth': 8, 'max_bin': 803, 'cat_smooth': 41, 'cat_l2': 81.38553457269346}. Best is trial 1 with value: 0.7171721640380457.\u001b[0m\n"
     ]
    },
    {
     "name": "stdout",
     "output_type": "stream",
     "text": [
      "Training until validation scores don't improve for 200 rounds\n",
      "[1000]\tvalid_0's rmse: 0.718035\n",
      "Early stopping, best iteration is:\n",
      "[870]\tvalid_0's rmse: 0.717798\n",
      "Training until validation scores don't improve for 200 rounds\n",
      "Early stopping, best iteration is:\n",
      "[693]\tvalid_0's rmse: 0.717665\n"
     ]
    },
    {
     "name": "stderr",
     "output_type": "stream",
     "text": [
      "\u001b[32m[I 2021-08-26 00:02:57,425]\u001b[0m Trial 4 finished with value: 0.7174511614292371 and parameters: {'reg_lambda': 11.52402235671487, 'reg_alpha': 13.87776343427796, 'subsample': 0.5888978163871172, 'colsample_bytree': 0.14509921659421657, 'learning_rate': 0.04745111147056583, 'min_child_samples': 37, 'num_leaves': 97, 'max_depth': 10, 'max_bin': 757, 'cat_smooth': 63, 'cat_l2': 95.36966614591555}. Best is trial 1 with value: 0.7171721640380457.\u001b[0m\n"
     ]
    },
    {
     "name": "stdout",
     "output_type": "stream",
     "text": [
      "Training until validation scores don't improve for 200 rounds\n",
      "[1000]\tvalid_0's rmse: 0.720908\n",
      "[2000]\tvalid_0's rmse: 0.718626\n",
      "[3000]\tvalid_0's rmse: 0.717948\n",
      "[4000]\tvalid_0's rmse: 0.71776\n",
      "Early stopping, best iteration is:\n",
      "[4035]\tvalid_0's rmse: 0.717756\n",
      "Training until validation scores don't improve for 200 rounds\n",
      "[1000]\tvalid_0's rmse: 0.720941\n",
      "[2000]\tvalid_0's rmse: 0.718539\n",
      "[3000]\tvalid_0's rmse: 0.717854\n",
      "[4000]\tvalid_0's rmse: 0.717682\n",
      "Early stopping, best iteration is:\n",
      "[3850]\tvalid_0's rmse: 0.71766\n"
     ]
    },
    {
     "name": "stderr",
     "output_type": "stream",
     "text": [
      "\u001b[32m[I 2021-08-26 00:05:09,570]\u001b[0m Trial 5 finished with value: 0.7175870570449869 and parameters: {'reg_lambda': 20.64748091452387, 'reg_alpha': 25.22954987576047, 'subsample': 0.4806080106894476, 'colsample_bytree': 0.3351847877368459, 'learning_rate': 0.027815050722298427, 'min_child_samples': 50, 'num_leaves': 133, 'max_depth': 4, 'max_bin': 809, 'cat_smooth': 49, 'cat_l2': 71.55598405809535}. Best is trial 1 with value: 0.7171721640380457.\u001b[0m\n"
     ]
    },
    {
     "name": "stdout",
     "output_type": "stream",
     "text": [
      "Training until validation scores don't improve for 200 rounds\n",
      "[1000]\tvalid_0's rmse: 0.718049\n",
      "Early stopping, best iteration is:\n",
      "[1163]\tvalid_0's rmse: 0.717999\n",
      "Training until validation scores don't improve for 200 rounds\n",
      "[1000]\tvalid_0's rmse: 0.718741\n",
      "Early stopping, best iteration is:\n",
      "[1463]\tvalid_0's rmse: 0.718545\n"
     ]
    },
    {
     "name": "stderr",
     "output_type": "stream",
     "text": [
      "\u001b[32m[I 2021-08-26 00:06:14,430]\u001b[0m Trial 6 finished with value: 0.7176853530995403 and parameters: {'reg_lambda': 12.611850234332982, 'reg_alpha': 26.298886272989915, 'subsample': 0.3538069493185739, 'colsample_bytree': 0.11515553606483603, 'learning_rate': 0.04611428253316061, 'min_child_samples': 5, 'num_leaves': 118, 'max_depth': 15, 'max_bin': 676, 'cat_smooth': 53, 'cat_l2': 57.15454528497483}. Best is trial 1 with value: 0.7171721640380457.\u001b[0m\n"
     ]
    },
    {
     "name": "stdout",
     "output_type": "stream",
     "text": [
      "Training until validation scores don't improve for 200 rounds\n",
      "[1000]\tvalid_0's rmse: 0.718004\n",
      "Early stopping, best iteration is:\n",
      "[1038]\tvalid_0's rmse: 0.717985\n",
      "Training until validation scores don't improve for 200 rounds\n",
      "[1000]\tvalid_0's rmse: 0.71867\n",
      "Early stopping, best iteration is:\n",
      "[892]\tvalid_0's rmse: 0.718614\n"
     ]
    },
    {
     "name": "stderr",
     "output_type": "stream",
     "text": [
      "\u001b[32m[I 2021-08-26 00:07:04,238]\u001b[0m Trial 7 finished with value: 0.7177351438649123 and parameters: {'reg_lambda': 11.977464820861918, 'reg_alpha': 24.020390205065524, 'subsample': 0.5677606115367264, 'colsample_bytree': 0.11554646111785456, 'learning_rate': 0.055022257038384176, 'min_child_samples': 55, 'num_leaves': 93, 'max_depth': 15, 'max_bin': 797, 'cat_smooth': 84, 'cat_l2': 53.77127602868182}. Best is trial 1 with value: 0.7171721640380457.\u001b[0m\n"
     ]
    },
    {
     "name": "stdout",
     "output_type": "stream",
     "text": [
      "Training until validation scores don't improve for 200 rounds\n",
      "[1000]\tvalid_0's rmse: 0.720099\n",
      "[2000]\tvalid_0's rmse: 0.719168\n",
      "Early stopping, best iteration is:\n",
      "[1838]\tvalid_0's rmse: 0.719115\n",
      "Training until validation scores don't improve for 200 rounds\n",
      "[1000]\tvalid_0's rmse: 0.72134\n",
      "Early stopping, best iteration is:\n",
      "[1690]\tvalid_0's rmse: 0.719964\n"
     ]
    },
    {
     "name": "stderr",
     "output_type": "stream",
     "text": [
      "\u001b[32m[I 2021-08-26 00:08:28,929]\u001b[0m Trial 8 finished with value: 0.7186999557886177 and parameters: {'reg_lambda': 18.368006417607813, 'reg_alpha': 5.031421925397134, 'subsample': 0.21065343440104722, 'colsample_bytree': 0.11839992053235196, 'learning_rate': 0.022353428723335185, 'min_child_samples': 36, 'num_leaves': 118, 'max_depth': 11, 'max_bin': 665, 'cat_smooth': 51, 'cat_l2': 55.09031634290573}. Best is trial 1 with value: 0.7171721640380457.\u001b[0m\n"
     ]
    },
    {
     "name": "stdout",
     "output_type": "stream",
     "text": [
      "Training until validation scores don't improve for 200 rounds\n",
      "Early stopping, best iteration is:\n",
      "[418]\tvalid_0's rmse: 0.718497\n",
      "Training until validation scores don't improve for 200 rounds\n",
      "Early stopping, best iteration is:\n",
      "[370]\tvalid_0's rmse: 0.718297\n"
     ]
    },
    {
     "name": "stderr",
     "output_type": "stream",
     "text": [
      "\u001b[32m[I 2021-08-26 00:09:00,923]\u001b[0m Trial 9 finished with value: 0.7180321592151526 and parameters: {'reg_lambda': 19.030015156098763, 'reg_alpha': 12.500177594915908, 'subsample': 0.2224448246058243, 'colsample_bytree': 0.12724533967730817, 'learning_rate': 0.06589140586011626, 'min_child_samples': 51, 'num_leaves': 150, 'max_depth': 11, 'max_bin': 684, 'cat_smooth': 54, 'cat_l2': 77.86211828296362}. Best is trial 1 with value: 0.7171721640380457.\u001b[0m\n"
     ]
    },
    {
     "name": "stdout",
     "output_type": "stream",
     "text": [
      "Training until validation scores don't improve for 200 rounds\n",
      "[1000]\tvalid_0's rmse: 0.718659\n",
      "Early stopping, best iteration is:\n",
      "[875]\tvalid_0's rmse: 0.718606\n",
      "Training until validation scores don't improve for 200 rounds\n",
      "Early stopping, best iteration is:\n",
      "[762]\tvalid_0's rmse: 0.71843\n"
     ]
    },
    {
     "name": "stderr",
     "output_type": "stream",
     "text": [
      "\u001b[32m[I 2021-08-26 00:09:41,382]\u001b[0m Trial 10 finished with value: 0.718244210716381 and parameters: {'reg_lambda': 3.6312362301020524, 'reg_alpha': 18.520255312785032, 'subsample': 0.27031441359285135, 'colsample_bytree': 0.38830688774641625, 'learning_rate': 0.05993204904341469, 'min_child_samples': 8, 'num_leaves': 180, 'max_depth': 6, 'max_bin': 871, 'cat_smooth': 79, 'cat_l2': 50.144786839002}. Best is trial 1 with value: 0.7171721640380457.\u001b[0m\n"
     ]
    },
    {
     "name": "stdout",
     "output_type": "stream",
     "text": [
      "Training until validation scores don't improve for 200 rounds\n",
      "[1000]\tvalid_0's rmse: 0.725307\n",
      "[2000]\tvalid_0's rmse: 0.721907\n",
      "[3000]\tvalid_0's rmse: 0.720166\n",
      "[4000]\tvalid_0's rmse: 0.719156\n",
      "[5000]\tvalid_0's rmse: 0.718507\n",
      "[6000]\tvalid_0's rmse: 0.71804\n",
      "[7000]\tvalid_0's rmse: 0.717783\n",
      "Early stopping, best iteration is:\n",
      "[7619]\tvalid_0's rmse: 0.717672\n",
      "Training until validation scores don't improve for 200 rounds\n",
      "[1000]\tvalid_0's rmse: 0.725255\n",
      "[2000]\tvalid_0's rmse: 0.721888\n",
      "[3000]\tvalid_0's rmse: 0.719994\n",
      "[4000]\tvalid_0's rmse: 0.71901\n",
      "[5000]\tvalid_0's rmse: 0.718281\n",
      "[6000]\tvalid_0's rmse: 0.717826\n",
      "[7000]\tvalid_0's rmse: 0.717524\n",
      "[8000]\tvalid_0's rmse: 0.717361\n",
      "Early stopping, best iteration is:\n",
      "[8160]\tvalid_0's rmse: 0.717334\n"
     ]
    },
    {
     "name": "stderr",
     "output_type": "stream",
     "text": [
      "\u001b[32m[I 2021-08-26 00:12:01,876]\u001b[0m Trial 11 finished with value: 0.7174084222445999 and parameters: {'reg_lambda': 8.566310593741742, 'reg_alpha': 3.461158591418205, 'subsample': 0.32812751249881444, 'colsample_bytree': 0.2563931483120701, 'learning_rate': 0.036673984685062694, 'min_child_samples': 18, 'num_leaves': 163, 'max_depth': 2, 'max_bin': 542, 'cat_smooth': 71, 'cat_l2': 94.69181095888472}. Best is trial 1 with value: 0.7171721640380457.\u001b[0m\n"
     ]
    },
    {
     "name": "stdout",
     "output_type": "stream",
     "text": [
      "Training until validation scores don't improve for 200 rounds\n",
      "[1000]\tvalid_0's rmse: 0.725054\n",
      "[2000]\tvalid_0's rmse: 0.721813\n",
      "[3000]\tvalid_0's rmse: 0.719964\n",
      "[4000]\tvalid_0's rmse: 0.718885\n",
      "[5000]\tvalid_0's rmse: 0.718348\n",
      "[6000]\tvalid_0's rmse: 0.717843\n",
      "[7000]\tvalid_0's rmse: 0.717587\n",
      "[8000]\tvalid_0's rmse: 0.717471\n",
      "[9000]\tvalid_0's rmse: 0.71739\n",
      "Early stopping, best iteration is:\n",
      "[9437]\tvalid_0's rmse: 0.717353\n",
      "Training until validation scores don't improve for 200 rounds\n",
      "[1000]\tvalid_0's rmse: 0.725049\n",
      "[2000]\tvalid_0's rmse: 0.721722\n",
      "[3000]\tvalid_0's rmse: 0.719892\n",
      "[4000]\tvalid_0's rmse: 0.718868\n",
      "[5000]\tvalid_0's rmse: 0.718208\n",
      "[6000]\tvalid_0's rmse: 0.71774\n",
      "[7000]\tvalid_0's rmse: 0.717462\n",
      "[8000]\tvalid_0's rmse: 0.717309\n",
      "[9000]\tvalid_0's rmse: 0.717221\n",
      "Early stopping, best iteration is:\n",
      "[9123]\tvalid_0's rmse: 0.717217\n"
     ]
    },
    {
     "name": "stderr",
     "output_type": "stream",
     "text": [
      "\u001b[32m[I 2021-08-26 00:15:26,582]\u001b[0m Trial 12 finished with value: 0.7171867607554321 and parameters: {'reg_lambda': 24.730911115271724, 'reg_alpha': 7.445808865716874, 'subsample': 0.4975111552388811, 'colsample_bytree': 0.23762644565561214, 'learning_rate': 0.038578359785453493, 'min_child_samples': 21, 'num_leaves': 183, 'max_depth': 2, 'max_bin': 588, 'cat_smooth': 63, 'cat_l2': 65.19744725037864}. Best is trial 1 with value: 0.7171721640380457.\u001b[0m\n"
     ]
    },
    {
     "name": "stdout",
     "output_type": "stream",
     "text": [
      "Training until validation scores don't improve for 200 rounds\n",
      "[1000]\tvalid_0's rmse: 0.718477\n",
      "[2000]\tvalid_0's rmse: 0.717722\n",
      "Early stopping, best iteration is:\n",
      "[2048]\tvalid_0's rmse: 0.717712\n",
      "Training until validation scores don't improve for 200 rounds\n",
      "[1000]\tvalid_0's rmse: 0.718549\n",
      "[2000]\tvalid_0's rmse: 0.717817\n",
      "Early stopping, best iteration is:\n",
      "[2286]\tvalid_0's rmse: 0.717762\n"
     ]
    },
    {
     "name": "stderr",
     "output_type": "stream",
     "text": [
      "\u001b[32m[I 2021-08-26 00:16:42,270]\u001b[0m Trial 13 finished with value: 0.7173719928199073 and parameters: {'reg_lambda': 24.22276992254394, 'reg_alpha': 8.362766738883087, 'subsample': 0.5153945373303792, 'colsample_bytree': 0.20089095444927704, 'learning_rate': 0.036131687928826664, 'min_child_samples': 16, 'num_leaves': 186, 'max_depth': 5, 'max_bin': 494, 'cat_smooth': 67, 'cat_l2': 63.85340393678241}. Best is trial 1 with value: 0.7171721640380457.\u001b[0m\n"
     ]
    },
    {
     "name": "stdout",
     "output_type": "stream",
     "text": [
      "Training until validation scores don't improve for 200 rounds\n",
      "Early stopping, best iteration is:\n",
      "[581]\tvalid_0's rmse: 0.718793\n",
      "Training until validation scores don't improve for 200 rounds\n",
      "Early stopping, best iteration is:\n",
      "[676]\tvalid_0's rmse: 0.718726\n"
     ]
    },
    {
     "name": "stderr",
     "output_type": "stream",
     "text": [
      "\u001b[32m[I 2021-08-26 00:17:21,772]\u001b[0m Trial 14 finished with value: 0.7182906930660171 and parameters: {'reg_lambda': 23.721344470279764, 'reg_alpha': 7.984377998092082, 'subsample': 0.5181392895824551, 'colsample_bytree': 0.3102467928999581, 'learning_rate': 0.05316222411650601, 'min_child_samples': 21, 'num_leaves': 169, 'max_depth': 7, 'max_bin': 571, 'cat_smooth': 76, 'cat_l2': 63.540092740648234}. Best is trial 1 with value: 0.7171721640380457.\u001b[0m\n"
     ]
    },
    {
     "name": "stdout",
     "output_type": "stream",
     "text": [
      "Training until validation scores don't improve for 200 rounds\n",
      "[1000]\tvalid_0's rmse: 0.725403\n",
      "[2000]\tvalid_0's rmse: 0.721883\n",
      "[3000]\tvalid_0's rmse: 0.720074\n",
      "[4000]\tvalid_0's rmse: 0.719017\n",
      "[5000]\tvalid_0's rmse: 0.71842\n",
      "[6000]\tvalid_0's rmse: 0.717924\n",
      "[7000]\tvalid_0's rmse: 0.717581\n",
      "[8000]\tvalid_0's rmse: 0.717336\n",
      "[9000]\tvalid_0's rmse: 0.717215\n",
      "Early stopping, best iteration is:\n",
      "[9665]\tvalid_0's rmse: 0.717163\n",
      "Training until validation scores don't improve for 200 rounds\n",
      "[1000]\tvalid_0's rmse: 0.725737\n",
      "[2000]\tvalid_0's rmse: 0.722258\n",
      "[3000]\tvalid_0's rmse: 0.72033\n",
      "[4000]\tvalid_0's rmse: 0.719189\n",
      "[5000]\tvalid_0's rmse: 0.718515\n",
      "[6000]\tvalid_0's rmse: 0.718051\n",
      "[7000]\tvalid_0's rmse: 0.717724\n",
      "[8000]\tvalid_0's rmse: 0.717493\n",
      "[9000]\tvalid_0's rmse: 0.717359\n",
      "[10000]\tvalid_0's rmse: 0.717238\n",
      "[11000]\tvalid_0's rmse: 0.717173\n",
      "Early stopping, best iteration is:\n",
      "[11366]\tvalid_0's rmse: 0.717157\n"
     ]
    },
    {
     "name": "stderr",
     "output_type": "stream",
     "text": [
      "\u001b[32m[I 2021-08-26 00:21:11,003]\u001b[0m Trial 15 finished with value: 0.7170142920807474 and parameters: {'reg_lambda': 16.390511875923536, 'reg_alpha': 17.001400677027867, 'subsample': 0.29847381797811345, 'colsample_bytree': 0.18778170637380362, 'learning_rate': 0.03825356233296462, 'min_child_samples': 12, 'num_leaves': 149, 'max_depth': 2, 'max_bin': 728, 'cat_smooth': 62, 'cat_l2': 69.63380616031898}. Best is trial 15 with value: 0.7170142920807474.\u001b[0m\n"
     ]
    },
    {
     "name": "stdout",
     "output_type": "stream",
     "text": [
      "Training until validation scores don't improve for 200 rounds\n",
      "[1000]\tvalid_0's rmse: 0.720384\n",
      "[2000]\tvalid_0's rmse: 0.718028\n",
      "[3000]\tvalid_0's rmse: 0.717335\n",
      "[4000]\tvalid_0's rmse: 0.717181\n",
      "Early stopping, best iteration is:\n",
      "[3888]\tvalid_0's rmse: 0.717164\n",
      "Training until validation scores don't improve for 200 rounds\n",
      "[1000]\tvalid_0's rmse: 0.720677\n",
      "[2000]\tvalid_0's rmse: 0.71808\n",
      "[3000]\tvalid_0's rmse: 0.71732\n",
      "[4000]\tvalid_0's rmse: 0.717111\n",
      "Early stopping, best iteration is:\n",
      "[4419]\tvalid_0's rmse: 0.717073\n"
     ]
    },
    {
     "name": "stderr",
     "output_type": "stream",
     "text": [
      "\u001b[32m[I 2021-08-26 00:23:06,745]\u001b[0m Trial 16 finished with value: 0.7169963363473908 and parameters: {'reg_lambda': 15.482190662889375, 'reg_alpha': 19.233417762540203, 'subsample': 0.2664864573992731, 'colsample_bytree': 0.17266208910142705, 'learning_rate': 0.03090925817838993, 'min_child_samples': 10, 'num_leaves': 148, 'max_depth': 4, 'max_bin': 739, 'cat_smooth': 41, 'cat_l2': 71.7257112111999}. Best is trial 16 with value: 0.7169963363473908.\u001b[0m\n"
     ]
    },
    {
     "name": "stdout",
     "output_type": "stream",
     "text": [
      "Training until validation scores don't improve for 200 rounds\n",
      "[1000]\tvalid_0's rmse: 0.723033\n",
      "[2000]\tvalid_0's rmse: 0.719435\n",
      "[3000]\tvalid_0's rmse: 0.718212\n",
      "[4000]\tvalid_0's rmse: 0.717575\n",
      "[5000]\tvalid_0's rmse: 0.717264\n",
      "[6000]\tvalid_0's rmse: 0.717045\n",
      "Early stopping, best iteration is:\n",
      "[6526]\tvalid_0's rmse: 0.717\n",
      "Training until validation scores don't improve for 200 rounds\n",
      "[1000]\tvalid_0's rmse: 0.723303\n",
      "[2000]\tvalid_0's rmse: 0.719658\n",
      "[3000]\tvalid_0's rmse: 0.718303\n",
      "[4000]\tvalid_0's rmse: 0.717682\n",
      "[5000]\tvalid_0's rmse: 0.717273\n",
      "[6000]\tvalid_0's rmse: 0.717101\n",
      "[7000]\tvalid_0's rmse: 0.717026\n",
      "Early stopping, best iteration is:\n",
      "[7204]\tvalid_0's rmse: 0.717004\n"
     ]
    },
    {
     "name": "stderr",
     "output_type": "stream",
     "text": [
      "\u001b[32m[I 2021-08-26 00:25:53,475]\u001b[0m Trial 17 finished with value: 0.7168975565990577 and parameters: {'reg_lambda': 15.870317641779877, 'reg_alpha': 17.862934418736206, 'subsample': 0.3166600016272764, 'colsample_bytree': 0.17183640686187102, 'learning_rate': 0.02886068335567525, 'min_child_samples': 10, 'num_leaves': 149, 'max_depth': 3, 'max_bin': 889, 'cat_smooth': 38, 'cat_l2': 72.78852347063905}. Best is trial 17 with value: 0.7168975565990577.\u001b[0m\n"
     ]
    },
    {
     "name": "stdout",
     "output_type": "stream",
     "text": [
      "Training until validation scores don't improve for 200 rounds\n",
      "[1000]\tvalid_0's rmse: 0.721058\n",
      "[2000]\tvalid_0's rmse: 0.718567\n",
      "[3000]\tvalid_0's rmse: 0.717733\n",
      "[4000]\tvalid_0's rmse: 0.717424\n",
      "[5000]\tvalid_0's rmse: 0.717339\n",
      "Early stopping, best iteration is:\n",
      "[5042]\tvalid_0's rmse: 0.717335\n",
      "Training until validation scores don't improve for 200 rounds\n",
      "[1000]\tvalid_0's rmse: 0.721483\n",
      "[2000]\tvalid_0's rmse: 0.718712\n",
      "[3000]\tvalid_0's rmse: 0.71779\n",
      "[4000]\tvalid_0's rmse: 0.717484\n",
      "Early stopping, best iteration is:\n",
      "[4439]\tvalid_0's rmse: 0.717438\n"
     ]
    },
    {
     "name": "stderr",
     "output_type": "stream",
     "text": [
      "\u001b[32m[I 2021-08-26 00:28:12,119]\u001b[0m Trial 18 finished with value: 0.7171706871899584 and parameters: {'reg_lambda': 8.633040853016453, 'reg_alpha': 20.238649759821946, 'subsample': 0.35817941056460867, 'colsample_bytree': 0.18286265753245273, 'learning_rate': 0.024944276684727446, 'min_child_samples': 6, 'num_leaves': 143, 'max_depth': 4, 'max_bin': 891, 'cat_smooth': 37, 'cat_l2': 74.6354638639364}. Best is trial 17 with value: 0.7168975565990577.\u001b[0m\n"
     ]
    },
    {
     "name": "stdout",
     "output_type": "stream",
     "text": [
      "Training until validation scores don't improve for 200 rounds\n",
      "[1000]\tvalid_0's rmse: 0.717824\n",
      "Early stopping, best iteration is:\n",
      "[1162]\tvalid_0's rmse: 0.717767\n",
      "Training until validation scores don't improve for 200 rounds\n",
      "[1000]\tvalid_0's rmse: 0.718064\n",
      "Early stopping, best iteration is:\n",
      "[978]\tvalid_0's rmse: 0.71805\n"
     ]
    },
    {
     "name": "stderr",
     "output_type": "stream",
     "text": [
      "\u001b[32m[I 2021-08-26 00:29:12,602]\u001b[0m Trial 19 finished with value: 0.717706748977595 and parameters: {'reg_lambda': 15.092419224185607, 'reg_alpha': 15.513851734922618, 'subsample': 0.2754695574569901, 'colsample_bytree': 0.16241556783950978, 'learning_rate': 0.03033845867539069, 'min_child_samples': 27, 'num_leaves': 155, 'max_depth': 9, 'max_bin': 835, 'cat_smooth': 44, 'cat_l2': 85.15528689584747}. Best is trial 17 with value: 0.7168975565990577.\u001b[0m\n"
     ]
    },
    {
     "name": "stdout",
     "output_type": "stream",
     "text": [
      "Training until validation scores don't improve for 200 rounds\n",
      "[1000]\tvalid_0's rmse: 0.724754\n",
      "[2000]\tvalid_0's rmse: 0.721092\n",
      "[3000]\tvalid_0's rmse: 0.719288\n",
      "[4000]\tvalid_0's rmse: 0.718352\n",
      "[5000]\tvalid_0's rmse: 0.717799\n",
      "[6000]\tvalid_0's rmse: 0.71746\n",
      "[7000]\tvalid_0's rmse: 0.717259\n",
      "[8000]\tvalid_0's rmse: 0.717139\n",
      "Early stopping, best iteration is:\n",
      "[8728]\tvalid_0's rmse: 0.717071\n",
      "Training until validation scores don't improve for 200 rounds\n",
      "[1000]\tvalid_0's rmse: 0.724863\n",
      "[2000]\tvalid_0's rmse: 0.721096\n",
      "[3000]\tvalid_0's rmse: 0.719431\n",
      "[4000]\tvalid_0's rmse: 0.718489\n",
      "[5000]\tvalid_0's rmse: 0.717947\n",
      "[6000]\tvalid_0's rmse: 0.717653\n",
      "[7000]\tvalid_0's rmse: 0.71744\n",
      "[8000]\tvalid_0's rmse: 0.717379\n",
      "Early stopping, best iteration is:\n",
      "[8310]\tvalid_0's rmse: 0.717358\n"
     ]
    },
    {
     "name": "stderr",
     "output_type": "stream",
     "text": [
      "\u001b[32m[I 2021-08-26 00:32:22,564]\u001b[0m Trial 20 finished with value: 0.7170808710289119 and parameters: {'reg_lambda': 8.745578575926757, 'reg_alpha': 21.029530945742973, 'subsample': 0.307909038393373, 'colsample_bytree': 0.28620017658075775, 'learning_rate': 0.020308792779597743, 'min_child_samples': 10, 'num_leaves': 108, 'max_depth': 3, 'max_bin': 849, 'cat_smooth': 39, 'cat_l2': 69.44953177843809}. Best is trial 17 with value: 0.7168975565990577.\u001b[0m\n"
     ]
    },
    {
     "name": "stdout",
     "output_type": "stream",
     "text": [
      "Training until validation scores don't improve for 200 rounds\n",
      "[1000]\tvalid_0's rmse: 0.726107\n",
      "[2000]\tvalid_0's rmse: 0.722602\n",
      "[3000]\tvalid_0's rmse: 0.720729\n",
      "[4000]\tvalid_0's rmse: 0.719522\n",
      "[5000]\tvalid_0's rmse: 0.718699\n",
      "[6000]\tvalid_0's rmse: 0.718267\n",
      "[7000]\tvalid_0's rmse: 0.717875\n",
      "[8000]\tvalid_0's rmse: 0.717588\n",
      "[9000]\tvalid_0's rmse: 0.717364\n",
      "[10000]\tvalid_0's rmse: 0.717237\n",
      "[11000]\tvalid_0's rmse: 0.717139\n",
      "[12000]\tvalid_0's rmse: 0.717085\n",
      "Early stopping, best iteration is:\n",
      "[12467]\tvalid_0's rmse: 0.717054\n",
      "Training until validation scores don't improve for 200 rounds\n",
      "[1000]\tvalid_0's rmse: 0.726544\n",
      "[2000]\tvalid_0's rmse: 0.72312\n",
      "[3000]\tvalid_0's rmse: 0.721078\n",
      "[4000]\tvalid_0's rmse: 0.719806\n",
      "[5000]\tvalid_0's rmse: 0.719082\n",
      "[6000]\tvalid_0's rmse: 0.718476\n",
      "[7000]\tvalid_0's rmse: 0.718049\n",
      "[8000]\tvalid_0's rmse: 0.717686\n",
      "[9000]\tvalid_0's rmse: 0.717485\n",
      "[10000]\tvalid_0's rmse: 0.717368\n",
      "[11000]\tvalid_0's rmse: 0.717284\n",
      "[12000]\tvalid_0's rmse: 0.717236\n",
      "Early stopping, best iteration is:\n",
      "[11812]\tvalid_0's rmse: 0.717226\n"
     ]
    },
    {
     "name": "stderr",
     "output_type": "stream",
     "text": [
      "\u001b[32m[I 2021-08-26 00:36:42,490]\u001b[0m Trial 21 finished with value: 0.7169962672451365 and parameters: {'reg_lambda': 16.30741403715015, 'reg_alpha': 16.991082540871737, 'subsample': 0.3002979534638624, 'colsample_bytree': 0.18788441807200565, 'learning_rate': 0.03277748320421452, 'min_child_samples': 11, 'num_leaves': 141, 'max_depth': 2, 'max_bin': 739, 'cat_smooth': 46, 'cat_l2': 70.6499940260651}. Best is trial 17 with value: 0.7168975565990577.\u001b[0m\n"
     ]
    },
    {
     "name": "stdout",
     "output_type": "stream",
     "text": [
      "Training until validation scores don't improve for 200 rounds\n",
      "[1000]\tvalid_0's rmse: 0.722413\n",
      "[2000]\tvalid_0's rmse: 0.719126\n",
      "[3000]\tvalid_0's rmse: 0.717988\n",
      "[4000]\tvalid_0's rmse: 0.71743\n",
      "[5000]\tvalid_0's rmse: 0.717192\n",
      "[6000]\tvalid_0's rmse: 0.71704\n",
      "[7000]\tvalid_0's rmse: 0.716997\n",
      "Early stopping, best iteration is:\n",
      "[7163]\tvalid_0's rmse: 0.716985\n",
      "Training until validation scores don't improve for 200 rounds\n",
      "[1000]\tvalid_0's rmse: 0.72261\n",
      "[2000]\tvalid_0's rmse: 0.719162\n",
      "[3000]\tvalid_0's rmse: 0.717954\n",
      "[4000]\tvalid_0's rmse: 0.717395\n",
      "[5000]\tvalid_0's rmse: 0.717098\n",
      "[6000]\tvalid_0's rmse: 0.716959\n",
      "Early stopping, best iteration is:\n",
      "[6771]\tvalid_0's rmse: 0.716885\n"
     ]
    },
    {
     "name": "stderr",
     "output_type": "stream",
     "text": [
      "\u001b[32m[I 2021-08-26 00:39:26,130]\u001b[0m Trial 22 finished with value: 0.7168204682426634 and parameters: {'reg_lambda': 20.58795541276128, 'reg_alpha': 18.01937497701544, 'subsample': 0.3745625800190576, 'colsample_bytree': 0.1607977986241361, 'learning_rate': 0.0326714082422687, 'min_child_samples': 12, 'num_leaves': 140, 'max_depth': 3, 'max_bin': 759, 'cat_smooth': 45, 'cat_l2': 74.67833870267675}. Best is trial 22 with value: 0.7168204682426634.\u001b[0m\n"
     ]
    },
    {
     "name": "stdout",
     "output_type": "stream",
     "text": [
      "Training until validation scores don't improve for 200 rounds\n",
      "[1000]\tvalid_0's rmse: 0.721781\n",
      "[2000]\tvalid_0's rmse: 0.718924\n",
      "[3000]\tvalid_0's rmse: 0.717811\n",
      "[4000]\tvalid_0's rmse: 0.717326\n",
      "[5000]\tvalid_0's rmse: 0.717151\n",
      "[6000]\tvalid_0's rmse: 0.717072\n",
      "Early stopping, best iteration is:\n",
      "[6053]\tvalid_0's rmse: 0.717066\n",
      "Training until validation scores don't improve for 200 rounds\n",
      "[1000]\tvalid_0's rmse: 0.722343\n",
      "[2000]\tvalid_0's rmse: 0.719177\n",
      "[3000]\tvalid_0's rmse: 0.718071\n",
      "[4000]\tvalid_0's rmse: 0.7176\n",
      "[5000]\tvalid_0's rmse: 0.717426\n",
      "Early stopping, best iteration is:\n",
      "[5616]\tvalid_0's rmse: 0.717388\n"
     ]
    },
    {
     "name": "stderr",
     "output_type": "stream",
     "text": [
      "\u001b[32m[I 2021-08-26 00:41:51,668]\u001b[0m Trial 23 finished with value: 0.7170337339311279 and parameters: {'reg_lambda': 21.56698814012752, 'reg_alpha': 16.658452799884042, 'subsample': 0.3752524056888269, 'colsample_bytree': 0.20996681232090608, 'learning_rate': 0.03334381156122168, 'min_child_samples': 13, 'num_leaves': 133, 'max_depth': 3, 'max_bin': 774, 'cat_smooth': 47, 'cat_l2': 77.7954184810843}. Best is trial 22 with value: 0.7168204682426634.\u001b[0m\n"
     ]
    },
    {
     "name": "stdout",
     "output_type": "stream",
     "text": [
      "Training until validation scores don't improve for 200 rounds\n",
      "[1000]\tvalid_0's rmse: 0.718884\n",
      "[2000]\tvalid_0's rmse: 0.717686\n",
      "Early stopping, best iteration is:\n",
      "[2514]\tvalid_0's rmse: 0.717621\n",
      "Training until validation scores don't improve for 200 rounds\n",
      "[1000]\tvalid_0's rmse: 0.719031\n",
      "[2000]\tvalid_0's rmse: 0.717786\n",
      "Early stopping, best iteration is:\n",
      "[2423]\tvalid_0's rmse: 0.7177\n"
     ]
    },
    {
     "name": "stderr",
     "output_type": "stream",
     "text": [
      "\u001b[32m[I 2021-08-26 00:43:24,582]\u001b[0m Trial 24 finished with value: 0.7175079422023608 and parameters: {'reg_lambda': 21.251729730023115, 'reg_alpha': 12.795115448314064, 'subsample': 0.3309395834779689, 'colsample_bytree': 0.1552474278870527, 'learning_rate': 0.02503099081085296, 'min_child_samples': 5, 'num_leaves': 140, 'max_depth': 6, 'max_bin': 633, 'cat_smooth': 46, 'cat_l2': 67.13825721550543}. Best is trial 22 with value: 0.7168204682426634.\u001b[0m\n"
     ]
    },
    {
     "name": "stdout",
     "output_type": "stream",
     "text": [
      "Training until validation scores don't improve for 200 rounds\n",
      "Early stopping, best iteration is:\n",
      "[563]\tvalid_0's rmse: 0.71813\n",
      "Training until validation scores don't improve for 200 rounds\n",
      "Early stopping, best iteration is:\n",
      "[567]\tvalid_0's rmse: 0.718705\n"
     ]
    },
    {
     "name": "stderr",
     "output_type": "stream",
     "text": [
      "\u001b[32m[I 2021-08-26 00:44:13,318]\u001b[0m Trial 25 finished with value: 0.717939017669126 and parameters: {'reg_lambda': 14.131318331405891, 'reg_alpha': 17.52573371899909, 'subsample': 0.38429113606059184, 'colsample_bytree': 0.2083289169010658, 'learning_rate': 0.04082253052677651, 'min_child_samples': 23, 'num_leaves': 159, 'max_depth': 13, 'max_bin': 716, 'cat_smooth': 37, 'cat_l2': 75.77609464542181}. Best is trial 22 with value: 0.7168204682426634.\u001b[0m\n"
     ]
    },
    {
     "name": "stdout",
     "output_type": "stream",
     "text": [
      "Training until validation scores don't improve for 200 rounds\n",
      "[1000]\tvalid_0's rmse: 0.72233\n",
      "[2000]\tvalid_0's rmse: 0.719136\n",
      "[3000]\tvalid_0's rmse: 0.718024\n",
      "[4000]\tvalid_0's rmse: 0.717448\n",
      "[5000]\tvalid_0's rmse: 0.717144\n",
      "[6000]\tvalid_0's rmse: 0.716995\n",
      "[7000]\tvalid_0's rmse: 0.716923\n",
      "Early stopping, best iteration is:\n",
      "[7334]\tvalid_0's rmse: 0.716911\n",
      "Training until validation scores don't improve for 200 rounds\n",
      "[1000]\tvalid_0's rmse: 0.722626\n",
      "[2000]\tvalid_0's rmse: 0.719257\n",
      "[3000]\tvalid_0's rmse: 0.717963\n",
      "[4000]\tvalid_0's rmse: 0.717434\n",
      "[5000]\tvalid_0's rmse: 0.717126\n",
      "[6000]\tvalid_0's rmse: 0.717018\n",
      "[7000]\tvalid_0's rmse: 0.716939\n",
      "Early stopping, best iteration is:\n",
      "[6885]\tvalid_0's rmse: 0.716936\n"
     ]
    },
    {
     "name": "stderr",
     "output_type": "stream",
     "text": [
      "\u001b[32m[I 2021-08-26 00:46:58,572]\u001b[0m Trial 26 finished with value: 0.716813599897907 and parameters: {'reg_lambda': 22.64241900807383, 'reg_alpha': 22.32970088488026, 'subsample': 0.3237257183367251, 'colsample_bytree': 0.15268338858066302, 'learning_rate': 0.03289518963074013, 'min_child_samples': 34, 'num_leaves': 140, 'max_depth': 3, 'max_bin': 705, 'cat_smooth': 44, 'cat_l2': 82.37637091520239}. Best is trial 26 with value: 0.716813599897907.\u001b[0m\n"
     ]
    },
    {
     "name": "stdout",
     "output_type": "stream",
     "text": [
      "Training until validation scores don't improve for 200 rounds\n",
      "[1000]\tvalid_0's rmse: 0.719034\n",
      "[2000]\tvalid_0's rmse: 0.717754\n",
      "Early stopping, best iteration is:\n",
      "[2715]\tvalid_0's rmse: 0.717646\n",
      "Training until validation scores don't improve for 200 rounds\n",
      "[1000]\tvalid_0's rmse: 0.719286\n",
      "[2000]\tvalid_0's rmse: 0.71773\n",
      "[3000]\tvalid_0's rmse: 0.717552\n",
      "Early stopping, best iteration is:\n",
      "[3016]\tvalid_0's rmse: 0.71755\n"
     ]
    },
    {
     "name": "stderr",
     "output_type": "stream",
     "text": [
      "\u001b[32m[I 2021-08-26 00:48:43,265]\u001b[0m Trial 27 finished with value: 0.7174760189254447 and parameters: {'reg_lambda': 22.253878665636613, 'reg_alpha': 23.18260107866215, 'subsample': 0.33807055466288355, 'colsample_bytree': 0.1528574960737214, 'learning_rate': 0.025788745341996027, 'min_child_samples': 36, 'num_leaves': 110, 'max_depth': 6, 'max_bin': 634, 'cat_smooth': 58, 'cat_l2': 89.95998542067453}. Best is trial 26 with value: 0.716813599897907.\u001b[0m\n"
     ]
    },
    {
     "name": "stdout",
     "output_type": "stream",
     "text": [
      "Training until validation scores don't improve for 200 rounds\n",
      "[1000]\tvalid_0's rmse: 0.723774\n",
      "[2000]\tvalid_0's rmse: 0.720145\n",
      "[3000]\tvalid_0's rmse: 0.718868\n",
      "[4000]\tvalid_0's rmse: 0.718239\n",
      "[5000]\tvalid_0's rmse: 0.717862\n",
      "[6000]\tvalid_0's rmse: 0.717623\n",
      "[7000]\tvalid_0's rmse: 0.717509\n",
      "[8000]\tvalid_0's rmse: 0.717411\n",
      "[9000]\tvalid_0's rmse: 0.717355\n",
      "[10000]\tvalid_0's rmse: 0.717315\n",
      "Early stopping, best iteration is:\n",
      "[9995]\tvalid_0's rmse: 0.717314\n",
      "Training until validation scores don't improve for 200 rounds\n",
      "[1000]\tvalid_0's rmse: 0.724834\n",
      "[2000]\tvalid_0's rmse: 0.721543\n",
      "[3000]\tvalid_0's rmse: 0.719574\n",
      "[4000]\tvalid_0's rmse: 0.718691\n",
      "[5000]\tvalid_0's rmse: 0.718139\n",
      "[6000]\tvalid_0's rmse: 0.717795\n",
      "[7000]\tvalid_0's rmse: 0.717586\n",
      "[8000]\tvalid_0's rmse: 0.717438\n",
      "[9000]\tvalid_0's rmse: 0.717393\n",
      "[10000]\tvalid_0's rmse: 0.717336\n",
      "Early stopping, best iteration is:\n",
      "[10539]\tvalid_0's rmse: 0.717317\n"
     ]
    },
    {
     "name": "stderr",
     "output_type": "stream",
     "text": [
      "\u001b[32m[I 2021-08-26 00:52:18,817]\u001b[0m Trial 28 finished with value: 0.7170157307892239 and parameters: {'reg_lambda': 19.47607712035561, 'reg_alpha': 21.747681447737023, 'subsample': 0.4059186039123447, 'colsample_bytree': 0.10260318507191415, 'learning_rate': 0.03436568478792896, 'min_child_samples': 42, 'num_leaves': 173, 'max_depth': 3, 'max_bin': 781, 'cat_smooth': 43, 'cat_l2': 81.03366487614083}. Best is trial 26 with value: 0.716813599897907.\u001b[0m\n"
     ]
    },
    {
     "name": "stdout",
     "output_type": "stream",
     "text": [
      "Training until validation scores don't improve for 200 rounds\n",
      "[1000]\tvalid_0's rmse: 0.718477\n",
      "[2000]\tvalid_0's rmse: 0.717899\n",
      "Early stopping, best iteration is:\n",
      "[1980]\tvalid_0's rmse: 0.71788\n",
      "Training until validation scores don't improve for 200 rounds\n",
      "[1000]\tvalid_0's rmse: 0.718405\n",
      "[2000]\tvalid_0's rmse: 0.717935\n",
      "Early stopping, best iteration is:\n",
      "[1811]\tvalid_0's rmse: 0.71787\n"
     ]
    },
    {
     "name": "stderr",
     "output_type": "stream",
     "text": [
      "\u001b[32m[I 2021-08-26 00:53:22,130]\u001b[0m Trial 29 finished with value: 0.7176044457798756 and parameters: {'reg_lambda': 22.474692440539222, 'reg_alpha': 20.328307792257203, 'subsample': 0.448027917969831, 'colsample_bytree': 0.2813080746270542, 'learning_rate': 0.04145658909748892, 'min_child_samples': 29, 'num_leaves': 155, 'max_depth': 5, 'max_bin': 713, 'cat_smooth': 56, 'cat_l2': 87.98154242380733}. Best is trial 26 with value: 0.716813599897907.\u001b[0m\n"
     ]
    },
    {
     "name": "stdout",
     "output_type": "stream",
     "text": [
      "Number of finished trials: 30\n",
      "Best trial: {'reg_lambda': 22.64241900807383, 'reg_alpha': 22.32970088488026, 'subsample': 0.3237257183367251, 'colsample_bytree': 0.15268338858066302, 'learning_rate': 0.03289518963074013, 'min_child_samples': 34, 'num_leaves': 140, 'max_depth': 3, 'max_bin': 705, 'cat_smooth': 44, 'cat_l2': 82.37637091520239}\n"
     ]
    }
   ],
   "source": [
    "study = optuna.create_study(direction='minimize')\n",
    "study.optimize(objective,n_trials= 30)\n",
    "print('Number of finished trials:', len(study.trials))\n",
    "print('Best trial:', study.best_trial.params)"
   ]
  },
  {
   "cell_type": "code",
   "execution_count": 14,
   "id": "f9ca8949",
   "metadata": {
    "execution": {
     "iopub.execute_input": "2021-08-26T00:53:22.424228Z",
     "iopub.status.busy": "2021-08-26T00:53:22.423571Z",
     "iopub.status.idle": "2021-08-26T00:53:22.429768Z",
     "shell.execute_reply": "2021-08-26T00:53:22.430266Z"
    },
    "papermill": {
     "duration": 0.145505,
     "end_time": "2021-08-26T00:53:22.430447",
     "exception": false,
     "start_time": "2021-08-26T00:53:22.284942",
     "status": "completed"
    },
    "tags": []
   },
   "outputs": [
    {
     "data": {
      "text/plain": [
       "{'reg_lambda': 22.64241900807383,\n",
       " 'reg_alpha': 22.32970088488026,\n",
       " 'subsample': 0.3237257183367251,\n",
       " 'colsample_bytree': 0.15268338858066302,\n",
       " 'learning_rate': 0.03289518963074013,\n",
       " 'min_child_samples': 34,\n",
       " 'num_leaves': 140,\n",
       " 'max_depth': 3,\n",
       " 'max_bin': 705,\n",
       " 'cat_smooth': 44,\n",
       " 'cat_l2': 82.37637091520239}"
      ]
     },
     "execution_count": 14,
     "metadata": {},
     "output_type": "execute_result"
    }
   ],
   "source": [
    "study.best_params"
   ]
  },
  {
   "cell_type": "markdown",
   "id": "23cbbe01",
   "metadata": {
    "papermill": {
     "duration": 0.134491,
     "end_time": "2021-08-26T00:53:22.699408",
     "exception": false,
     "start_time": "2021-08-26T00:53:22.564917",
     "status": "completed"
    },
    "tags": []
   },
   "source": [
    "# Log\n",
    "\n",
    "====== Ordinal encoding =========\n",
    "\n",
    "0.7169747685796982 no noise ver1\n",
    "\n",
    "====== One-hot encoding =========\n",
    "\n",
    "0.724412184059166 no noise ver2"
   ]
  }
 ],
 "metadata": {
  "kernelspec": {
   "display_name": "Python 3",
   "language": "python",
   "name": "python3"
  },
  "language_info": {
   "codemirror_mode": {
    "name": "ipython",
    "version": 3
   },
   "file_extension": ".py",
   "mimetype": "text/x-python",
   "name": "python",
   "nbconvert_exporter": "python",
   "pygments_lexer": "ipython3",
   "version": "3.7.10"
  },
  "papermill": {
   "default_parameters": {},
   "duration": 3443.969826,
   "end_time": "2021-08-26T00:53:24.196311",
   "environment_variables": {},
   "exception": null,
   "input_path": "__notebook__.ipynb",
   "output_path": "__notebook__.ipynb",
   "parameters": {},
   "start_time": "2021-08-25T23:56:00.226485",
   "version": "2.3.3"
  }
 },
 "nbformat": 4,
 "nbformat_minor": 5
}
