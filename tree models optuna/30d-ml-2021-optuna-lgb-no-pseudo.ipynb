{
 "cells": [
  {
   "cell_type": "code",
   "execution_count": 1,
   "id": "514d7af0",
   "metadata": {
    "_cell_guid": "b1076dfc-b9ad-4769-8c92-a6c4dae69d19",
    "_uuid": "8f2839f25d086af736a60e9eeb907d3b93b6e0e5",
    "execution": {
     "iopub.execute_input": "2021-08-21T02:36:25.591654Z",
     "iopub.status.busy": "2021-08-21T02:36:25.590835Z",
     "iopub.status.idle": "2021-08-21T02:36:27.851661Z",
     "shell.execute_reply": "2021-08-21T02:36:27.850532Z",
     "shell.execute_reply.started": "2021-08-20T06:47:53.699459Z"
    },
    "papermill": {
     "duration": 2.29035,
     "end_time": "2021-08-21T02:36:27.851850",
     "exception": false,
     "start_time": "2021-08-21T02:36:25.561500",
     "status": "completed"
    },
    "tags": []
   },
   "outputs": [
    {
     "data": {
      "text/html": [
       "<style type='text/css'>\n",
       ".datatable table.frame { margin-bottom: 0; }\n",
       ".datatable table.frame thead { border-bottom: none; }\n",
       ".datatable table.frame tr.coltypes td {  color: #FFFFFF;  line-height: 6px;  padding: 0 0.5em;}\n",
       ".datatable .bool    { background: #DDDD99; }\n",
       ".datatable .object  { background: #565656; }\n",
       ".datatable .int     { background: #5D9E5D; }\n",
       ".datatable .float   { background: #4040CC; }\n",
       ".datatable .str     { background: #CC4040; }\n",
       ".datatable .time    { background: #40CC40; }\n",
       ".datatable .row_index {  background: var(--jp-border-color3);  border-right: 1px solid var(--jp-border-color0);  color: var(--jp-ui-font-color3);  font-size: 9px;}\n",
       ".datatable .frame tbody td { text-align: left; }\n",
       ".datatable .frame tr.coltypes .row_index {  background: var(--jp-border-color0);}\n",
       ".datatable th:nth-child(2) { padding-left: 12px; }\n",
       ".datatable .hellipsis {  color: var(--jp-cell-editor-border-color);}\n",
       ".datatable .vellipsis {  background: var(--jp-layout-color0);  color: var(--jp-cell-editor-border-color);}\n",
       ".datatable .na {  color: var(--jp-cell-editor-border-color);  font-size: 80%;}\n",
       ".datatable .sp {  opacity: 0.25;}\n",
       ".datatable .footer { font-size: 9px; }\n",
       ".datatable .frame_dimensions {  background: var(--jp-border-color3);  border-top: 1px solid var(--jp-border-color0);  color: var(--jp-ui-font-color3);  display: inline-block;  opacity: 0.6;  padding: 1px 10px 1px 5px;}\n",
       "</style>\n"
      ],
      "text/plain": [
       "<IPython.core.display.HTML object>"
      ]
     },
     "metadata": {},
     "output_type": "display_data"
    }
   ],
   "source": [
    "# Familiar imports\n",
    "import numpy as np\n",
    "import pandas as pd\n",
    "import random\n",
    "import os\n",
    "import time\n",
    "from pathlib import Path\n",
    "\n",
    "from sklearn.preprocessing import StandardScaler\n",
    "from sklearn.model_selection import KFold, train_test_split\n",
    "from sklearn.metrics import mean_squared_error\n",
    "from sklearn.preprocessing import OrdinalEncoder, OneHotEncoder\n",
    "\n",
    "import lightgbm as lgb\n",
    "#import xgboost as xgb\n",
    "#import catboost as ctb\n",
    "\n",
    "import warnings\n",
    "warnings.simplefilter('ignore')"
   ]
  },
  {
   "cell_type": "markdown",
   "id": "60db8e74",
   "metadata": {
    "papermill": {
     "duration": 0.014212,
     "end_time": "2021-08-21T02:36:27.881772",
     "exception": false,
     "start_time": "2021-08-21T02:36:27.867560",
     "status": "completed"
    },
    "tags": []
   },
   "source": [
    "# Parameters"
   ]
  },
  {
   "cell_type": "code",
   "execution_count": 2,
   "id": "23ac7dfb",
   "metadata": {
    "execution": {
     "iopub.execute_input": "2021-08-21T02:36:27.918151Z",
     "iopub.status.busy": "2021-08-21T02:36:27.917413Z",
     "iopub.status.idle": "2021-08-21T02:36:27.920044Z",
     "shell.execute_reply": "2021-08-21T02:36:27.919534Z",
     "shell.execute_reply.started": "2021-08-20T06:47:53.708447Z"
    },
    "papermill": {
     "duration": 0.023912,
     "end_time": "2021-08-21T02:36:27.920198",
     "exception": false,
     "start_time": "2021-08-21T02:36:27.896286",
     "status": "completed"
    },
    "tags": []
   },
   "outputs": [],
   "source": [
    "target = 'target'\n",
    "\n",
    "DEBUG = False\n",
    "\n",
    "if DEBUG:\n",
    "    N_ESTIMATORS = 1\n",
    "    N_SPLITS = 2\n",
    "    SEED = 17\n",
    "    CVSEED = 17\n",
    "    EARLY_STOPPING_ROUNDS = 1\n",
    "    VERBOSE = 100\n",
    "    #N_ITERS = 2\n",
    "else:\n",
    "    N_SPLITS = 10\n",
    "    N_ESTIMATORS = 20000\n",
    "    EARLY_STOPPING_ROUNDS = 200\n",
    "    VERBOSE = 1000\n",
    "    SEED = 17\n",
    "    CVSEED = 17\n",
    "    #N_ITERS = 10"
   ]
  },
  {
   "cell_type": "code",
   "execution_count": 3,
   "id": "7f609475",
   "metadata": {
    "execution": {
     "iopub.execute_input": "2021-08-21T02:36:27.957433Z",
     "iopub.status.busy": "2021-08-21T02:36:27.956465Z",
     "iopub.status.idle": "2021-08-21T02:36:27.959847Z",
     "shell.execute_reply": "2021-08-21T02:36:27.959265Z",
     "shell.execute_reply.started": "2021-08-20T06:47:53.732547Z"
    },
    "papermill": {
     "duration": 0.023936,
     "end_time": "2021-08-21T02:36:27.960024",
     "exception": false,
     "start_time": "2021-08-21T02:36:27.936088",
     "status": "completed"
    },
    "tags": []
   },
   "outputs": [],
   "source": [
    "def set_seed(seed=17):\n",
    "    random.seed(seed)\n",
    "    os.environ['PYTHONHASHSEED'] = str(seed)\n",
    "    np.random.seed(seed)\n",
    "    \n",
    "set_seed(SEED)"
   ]
  },
  {
   "cell_type": "markdown",
   "id": "e2eea9f7",
   "metadata": {
    "papermill": {
     "duration": 0.014707,
     "end_time": "2021-08-21T02:36:27.989874",
     "exception": false,
     "start_time": "2021-08-21T02:36:27.975167",
     "status": "completed"
    },
    "tags": []
   },
   "source": [
    "# Load data"
   ]
  },
  {
   "cell_type": "code",
   "execution_count": 4,
   "id": "ed7c81d9",
   "metadata": {
    "execution": {
     "iopub.execute_input": "2021-08-21T02:36:28.025499Z",
     "iopub.status.busy": "2021-08-21T02:36:28.024785Z",
     "iopub.status.idle": "2021-08-21T02:36:32.375276Z",
     "shell.execute_reply": "2021-08-21T02:36:32.375755Z",
     "shell.execute_reply.started": "2021-08-20T06:47:53.744252Z"
    },
    "papermill": {
     "duration": 4.370805,
     "end_time": "2021-08-21T02:36:32.375989",
     "exception": false,
     "start_time": "2021-08-21T02:36:28.005184",
     "status": "completed"
    },
    "tags": []
   },
   "outputs": [
    {
     "data": {
      "text/html": [
       "<div>\n",
       "<style scoped>\n",
       "    .dataframe tbody tr th:only-of-type {\n",
       "        vertical-align: middle;\n",
       "    }\n",
       "\n",
       "    .dataframe tbody tr th {\n",
       "        vertical-align: top;\n",
       "    }\n",
       "\n",
       "    .dataframe thead th {\n",
       "        text-align: right;\n",
       "    }\n",
       "</style>\n",
       "<table border=\"1\" class=\"dataframe\">\n",
       "  <thead>\n",
       "    <tr style=\"text-align: right;\">\n",
       "      <th></th>\n",
       "      <th>id</th>\n",
       "      <th>cat0</th>\n",
       "      <th>cat1</th>\n",
       "      <th>cat2</th>\n",
       "      <th>cat3</th>\n",
       "      <th>cat4</th>\n",
       "      <th>cat5</th>\n",
       "      <th>cat6</th>\n",
       "      <th>cat7</th>\n",
       "      <th>cat8</th>\n",
       "      <th>...</th>\n",
       "      <th>cont5</th>\n",
       "      <th>cont6</th>\n",
       "      <th>cont7</th>\n",
       "      <th>cont8</th>\n",
       "      <th>cont9</th>\n",
       "      <th>cont10</th>\n",
       "      <th>cont11</th>\n",
       "      <th>cont12</th>\n",
       "      <th>cont13</th>\n",
       "      <th>target</th>\n",
       "    </tr>\n",
       "  </thead>\n",
       "  <tbody>\n",
       "    <tr>\n",
       "      <th>0</th>\n",
       "      <td>1</td>\n",
       "      <td>B</td>\n",
       "      <td>B</td>\n",
       "      <td>B</td>\n",
       "      <td>C</td>\n",
       "      <td>B</td>\n",
       "      <td>B</td>\n",
       "      <td>A</td>\n",
       "      <td>E</td>\n",
       "      <td>C</td>\n",
       "      <td>...</td>\n",
       "      <td>0.400361</td>\n",
       "      <td>0.160266</td>\n",
       "      <td>0.310921</td>\n",
       "      <td>0.389470</td>\n",
       "      <td>0.267559</td>\n",
       "      <td>0.237281</td>\n",
       "      <td>0.377873</td>\n",
       "      <td>0.322401</td>\n",
       "      <td>0.869850</td>\n",
       "      <td>8.113634</td>\n",
       "    </tr>\n",
       "    <tr>\n",
       "      <th>1</th>\n",
       "      <td>2</td>\n",
       "      <td>B</td>\n",
       "      <td>B</td>\n",
       "      <td>A</td>\n",
       "      <td>A</td>\n",
       "      <td>B</td>\n",
       "      <td>D</td>\n",
       "      <td>A</td>\n",
       "      <td>F</td>\n",
       "      <td>A</td>\n",
       "      <td>...</td>\n",
       "      <td>0.533087</td>\n",
       "      <td>0.558922</td>\n",
       "      <td>0.516294</td>\n",
       "      <td>0.594928</td>\n",
       "      <td>0.341439</td>\n",
       "      <td>0.906013</td>\n",
       "      <td>0.921701</td>\n",
       "      <td>0.261975</td>\n",
       "      <td>0.465083</td>\n",
       "      <td>8.481233</td>\n",
       "    </tr>\n",
       "    <tr>\n",
       "      <th>2</th>\n",
       "      <td>3</td>\n",
       "      <td>A</td>\n",
       "      <td>A</td>\n",
       "      <td>A</td>\n",
       "      <td>C</td>\n",
       "      <td>B</td>\n",
       "      <td>D</td>\n",
       "      <td>A</td>\n",
       "      <td>D</td>\n",
       "      <td>A</td>\n",
       "      <td>...</td>\n",
       "      <td>0.650609</td>\n",
       "      <td>0.375348</td>\n",
       "      <td>0.902567</td>\n",
       "      <td>0.555205</td>\n",
       "      <td>0.843531</td>\n",
       "      <td>0.748809</td>\n",
       "      <td>0.620126</td>\n",
       "      <td>0.541474</td>\n",
       "      <td>0.763846</td>\n",
       "      <td>8.364351</td>\n",
       "    </tr>\n",
       "    <tr>\n",
       "      <th>3</th>\n",
       "      <td>4</td>\n",
       "      <td>B</td>\n",
       "      <td>B</td>\n",
       "      <td>A</td>\n",
       "      <td>C</td>\n",
       "      <td>B</td>\n",
       "      <td>D</td>\n",
       "      <td>A</td>\n",
       "      <td>E</td>\n",
       "      <td>C</td>\n",
       "      <td>...</td>\n",
       "      <td>0.668980</td>\n",
       "      <td>0.239061</td>\n",
       "      <td>0.732948</td>\n",
       "      <td>0.679618</td>\n",
       "      <td>0.574844</td>\n",
       "      <td>0.346010</td>\n",
       "      <td>0.714610</td>\n",
       "      <td>0.540150</td>\n",
       "      <td>0.280682</td>\n",
       "      <td>8.049253</td>\n",
       "    </tr>\n",
       "    <tr>\n",
       "      <th>4</th>\n",
       "      <td>6</td>\n",
       "      <td>A</td>\n",
       "      <td>A</td>\n",
       "      <td>A</td>\n",
       "      <td>C</td>\n",
       "      <td>B</td>\n",
       "      <td>D</td>\n",
       "      <td>A</td>\n",
       "      <td>E</td>\n",
       "      <td>A</td>\n",
       "      <td>...</td>\n",
       "      <td>0.686964</td>\n",
       "      <td>0.420667</td>\n",
       "      <td>0.648182</td>\n",
       "      <td>0.684501</td>\n",
       "      <td>0.956692</td>\n",
       "      <td>1.000773</td>\n",
       "      <td>0.776742</td>\n",
       "      <td>0.625849</td>\n",
       "      <td>0.250823</td>\n",
       "      <td>7.972260</td>\n",
       "    </tr>\n",
       "  </tbody>\n",
       "</table>\n",
       "<p>5 rows × 26 columns</p>\n",
       "</div>"
      ],
      "text/plain": [
       "   id cat0 cat1 cat2 cat3 cat4 cat5 cat6 cat7 cat8  ...     cont5     cont6  \\\n",
       "0   1    B    B    B    C    B    B    A    E    C  ...  0.400361  0.160266   \n",
       "1   2    B    B    A    A    B    D    A    F    A  ...  0.533087  0.558922   \n",
       "2   3    A    A    A    C    B    D    A    D    A  ...  0.650609  0.375348   \n",
       "3   4    B    B    A    C    B    D    A    E    C  ...  0.668980  0.239061   \n",
       "4   6    A    A    A    C    B    D    A    E    A  ...  0.686964  0.420667   \n",
       "\n",
       "      cont7     cont8     cont9    cont10    cont11    cont12    cont13  \\\n",
       "0  0.310921  0.389470  0.267559  0.237281  0.377873  0.322401  0.869850   \n",
       "1  0.516294  0.594928  0.341439  0.906013  0.921701  0.261975  0.465083   \n",
       "2  0.902567  0.555205  0.843531  0.748809  0.620126  0.541474  0.763846   \n",
       "3  0.732948  0.679618  0.574844  0.346010  0.714610  0.540150  0.280682   \n",
       "4  0.648182  0.684501  0.956692  1.000773  0.776742  0.625849  0.250823   \n",
       "\n",
       "     target  \n",
       "0  8.113634  \n",
       "1  8.481233  \n",
       "2  8.364351  \n",
       "3  8.049253  \n",
       "4  7.972260  \n",
       "\n",
       "[5 rows x 26 columns]"
      ]
     },
     "execution_count": 4,
     "metadata": {},
     "output_type": "execute_result"
    }
   ],
   "source": [
    "# Load the training data\n",
    "train = pd.read_csv(\"../input/30-days-of-ml/train.csv\")\n",
    "test = pd.read_csv(\"../input/30-days-of-ml/test.csv\")\n",
    "\n",
    "# Preview the data\n",
    "train.head()"
   ]
  },
  {
   "cell_type": "code",
   "execution_count": 5,
   "id": "223d80a2",
   "metadata": {
    "execution": {
     "iopub.execute_input": "2021-08-21T02:36:32.411778Z",
     "iopub.status.busy": "2021-08-21T02:36:32.410793Z",
     "iopub.status.idle": "2021-08-21T02:36:32.487146Z",
     "shell.execute_reply": "2021-08-21T02:36:32.486456Z",
     "shell.execute_reply.started": "2021-08-20T06:47:56.421501Z"
    },
    "papermill": {
     "duration": 0.095634,
     "end_time": "2021-08-21T02:36:32.487302",
     "exception": false,
     "start_time": "2021-08-21T02:36:32.391668",
     "status": "completed"
    },
    "tags": []
   },
   "outputs": [
    {
     "data": {
      "text/html": [
       "<div>\n",
       "<style scoped>\n",
       "    .dataframe tbody tr th:only-of-type {\n",
       "        vertical-align: middle;\n",
       "    }\n",
       "\n",
       "    .dataframe tbody tr th {\n",
       "        vertical-align: top;\n",
       "    }\n",
       "\n",
       "    .dataframe thead th {\n",
       "        text-align: right;\n",
       "    }\n",
       "</style>\n",
       "<table border=\"1\" class=\"dataframe\">\n",
       "  <thead>\n",
       "    <tr style=\"text-align: right;\">\n",
       "      <th></th>\n",
       "      <th>cat0</th>\n",
       "      <th>cat1</th>\n",
       "      <th>cat2</th>\n",
       "      <th>cat3</th>\n",
       "      <th>cat4</th>\n",
       "      <th>cat5</th>\n",
       "      <th>cat6</th>\n",
       "      <th>cat7</th>\n",
       "      <th>cat8</th>\n",
       "      <th>cat9</th>\n",
       "      <th>...</th>\n",
       "      <th>cont4</th>\n",
       "      <th>cont5</th>\n",
       "      <th>cont6</th>\n",
       "      <th>cont7</th>\n",
       "      <th>cont8</th>\n",
       "      <th>cont9</th>\n",
       "      <th>cont10</th>\n",
       "      <th>cont11</th>\n",
       "      <th>cont12</th>\n",
       "      <th>cont13</th>\n",
       "    </tr>\n",
       "  </thead>\n",
       "  <tbody>\n",
       "    <tr>\n",
       "      <th>0</th>\n",
       "      <td>B</td>\n",
       "      <td>B</td>\n",
       "      <td>B</td>\n",
       "      <td>C</td>\n",
       "      <td>B</td>\n",
       "      <td>B</td>\n",
       "      <td>A</td>\n",
       "      <td>E</td>\n",
       "      <td>C</td>\n",
       "      <td>N</td>\n",
       "      <td>...</td>\n",
       "      <td>0.610706</td>\n",
       "      <td>0.400361</td>\n",
       "      <td>0.160266</td>\n",
       "      <td>0.310921</td>\n",
       "      <td>0.389470</td>\n",
       "      <td>0.267559</td>\n",
       "      <td>0.237281</td>\n",
       "      <td>0.377873</td>\n",
       "      <td>0.322401</td>\n",
       "      <td>0.869850</td>\n",
       "    </tr>\n",
       "    <tr>\n",
       "      <th>1</th>\n",
       "      <td>B</td>\n",
       "      <td>B</td>\n",
       "      <td>A</td>\n",
       "      <td>A</td>\n",
       "      <td>B</td>\n",
       "      <td>D</td>\n",
       "      <td>A</td>\n",
       "      <td>F</td>\n",
       "      <td>A</td>\n",
       "      <td>O</td>\n",
       "      <td>...</td>\n",
       "      <td>0.276853</td>\n",
       "      <td>0.533087</td>\n",
       "      <td>0.558922</td>\n",
       "      <td>0.516294</td>\n",
       "      <td>0.594928</td>\n",
       "      <td>0.341439</td>\n",
       "      <td>0.906013</td>\n",
       "      <td>0.921701</td>\n",
       "      <td>0.261975</td>\n",
       "      <td>0.465083</td>\n",
       "    </tr>\n",
       "    <tr>\n",
       "      <th>2</th>\n",
       "      <td>A</td>\n",
       "      <td>A</td>\n",
       "      <td>A</td>\n",
       "      <td>C</td>\n",
       "      <td>B</td>\n",
       "      <td>D</td>\n",
       "      <td>A</td>\n",
       "      <td>D</td>\n",
       "      <td>A</td>\n",
       "      <td>F</td>\n",
       "      <td>...</td>\n",
       "      <td>0.285074</td>\n",
       "      <td>0.650609</td>\n",
       "      <td>0.375348</td>\n",
       "      <td>0.902567</td>\n",
       "      <td>0.555205</td>\n",
       "      <td>0.843531</td>\n",
       "      <td>0.748809</td>\n",
       "      <td>0.620126</td>\n",
       "      <td>0.541474</td>\n",
       "      <td>0.763846</td>\n",
       "    </tr>\n",
       "    <tr>\n",
       "      <th>3</th>\n",
       "      <td>B</td>\n",
       "      <td>B</td>\n",
       "      <td>A</td>\n",
       "      <td>C</td>\n",
       "      <td>B</td>\n",
       "      <td>D</td>\n",
       "      <td>A</td>\n",
       "      <td>E</td>\n",
       "      <td>C</td>\n",
       "      <td>K</td>\n",
       "      <td>...</td>\n",
       "      <td>0.284667</td>\n",
       "      <td>0.668980</td>\n",
       "      <td>0.239061</td>\n",
       "      <td>0.732948</td>\n",
       "      <td>0.679618</td>\n",
       "      <td>0.574844</td>\n",
       "      <td>0.346010</td>\n",
       "      <td>0.714610</td>\n",
       "      <td>0.540150</td>\n",
       "      <td>0.280682</td>\n",
       "    </tr>\n",
       "    <tr>\n",
       "      <th>4</th>\n",
       "      <td>A</td>\n",
       "      <td>A</td>\n",
       "      <td>A</td>\n",
       "      <td>C</td>\n",
       "      <td>B</td>\n",
       "      <td>D</td>\n",
       "      <td>A</td>\n",
       "      <td>E</td>\n",
       "      <td>A</td>\n",
       "      <td>N</td>\n",
       "      <td>...</td>\n",
       "      <td>0.287595</td>\n",
       "      <td>0.686964</td>\n",
       "      <td>0.420667</td>\n",
       "      <td>0.648182</td>\n",
       "      <td>0.684501</td>\n",
       "      <td>0.956692</td>\n",
       "      <td>1.000773</td>\n",
       "      <td>0.776742</td>\n",
       "      <td>0.625849</td>\n",
       "      <td>0.250823</td>\n",
       "    </tr>\n",
       "  </tbody>\n",
       "</table>\n",
       "<p>5 rows × 24 columns</p>\n",
       "</div>"
      ],
      "text/plain": [
       "  cat0 cat1 cat2 cat3 cat4 cat5 cat6 cat7 cat8 cat9  ...     cont4     cont5  \\\n",
       "0    B    B    B    C    B    B    A    E    C    N  ...  0.610706  0.400361   \n",
       "1    B    B    A    A    B    D    A    F    A    O  ...  0.276853  0.533087   \n",
       "2    A    A    A    C    B    D    A    D    A    F  ...  0.285074  0.650609   \n",
       "3    B    B    A    C    B    D    A    E    C    K  ...  0.284667  0.668980   \n",
       "4    A    A    A    C    B    D    A    E    A    N  ...  0.287595  0.686964   \n",
       "\n",
       "      cont6     cont7     cont8     cont9    cont10    cont11    cont12  \\\n",
       "0  0.160266  0.310921  0.389470  0.267559  0.237281  0.377873  0.322401   \n",
       "1  0.558922  0.516294  0.594928  0.341439  0.906013  0.921701  0.261975   \n",
       "2  0.375348  0.902567  0.555205  0.843531  0.748809  0.620126  0.541474   \n",
       "3  0.239061  0.732948  0.679618  0.574844  0.346010  0.714610  0.540150   \n",
       "4  0.420667  0.648182  0.684501  0.956692  1.000773  0.776742  0.625849   \n",
       "\n",
       "     cont13  \n",
       "0  0.869850  \n",
       "1  0.465083  \n",
       "2  0.763846  \n",
       "3  0.280682  \n",
       "4  0.250823  \n",
       "\n",
       "[5 rows x 24 columns]"
      ]
     },
     "execution_count": 5,
     "metadata": {},
     "output_type": "execute_result"
    }
   ],
   "source": [
    "# Separate target from features\n",
    "y = train['target']\n",
    "features = train.drop(['id','target'], axis=1)\n",
    "\n",
    "# Preview features\n",
    "features.head()"
   ]
  },
  {
   "cell_type": "markdown",
   "id": "58a92d80",
   "metadata": {
    "papermill": {
     "duration": 0.016004,
     "end_time": "2021-08-21T02:36:32.519495",
     "exception": false,
     "start_time": "2021-08-21T02:36:32.503491",
     "status": "completed"
    },
    "tags": []
   },
   "source": [
    "# Preprocessing"
   ]
  },
  {
   "cell_type": "code",
   "execution_count": 6,
   "id": "762140b9",
   "metadata": {
    "execution": {
     "iopub.execute_input": "2021-08-21T02:36:32.603350Z",
     "iopub.status.busy": "2021-08-21T02:36:32.601685Z",
     "iopub.status.idle": "2021-08-21T02:36:36.933397Z",
     "shell.execute_reply": "2021-08-21T02:36:36.933889Z",
     "shell.execute_reply.started": "2021-08-20T06:47:56.492387Z"
    },
    "papermill": {
     "duration": 4.397939,
     "end_time": "2021-08-21T02:36:36.934110",
     "exception": false,
     "start_time": "2021-08-21T02:36:32.536171",
     "status": "completed"
    },
    "tags": []
   },
   "outputs": [
    {
     "data": {
      "text/html": [
       "<div>\n",
       "<style scoped>\n",
       "    .dataframe tbody tr th:only-of-type {\n",
       "        vertical-align: middle;\n",
       "    }\n",
       "\n",
       "    .dataframe tbody tr th {\n",
       "        vertical-align: top;\n",
       "    }\n",
       "\n",
       "    .dataframe thead th {\n",
       "        text-align: right;\n",
       "    }\n",
       "</style>\n",
       "<table border=\"1\" class=\"dataframe\">\n",
       "  <thead>\n",
       "    <tr style=\"text-align: right;\">\n",
       "      <th></th>\n",
       "      <th>cat0</th>\n",
       "      <th>cat1</th>\n",
       "      <th>cat2</th>\n",
       "      <th>cat3</th>\n",
       "      <th>cat4</th>\n",
       "      <th>cat5</th>\n",
       "      <th>cat6</th>\n",
       "      <th>cat7</th>\n",
       "      <th>cat8</th>\n",
       "      <th>cat9</th>\n",
       "      <th>...</th>\n",
       "      <th>cont4</th>\n",
       "      <th>cont5</th>\n",
       "      <th>cont6</th>\n",
       "      <th>cont7</th>\n",
       "      <th>cont8</th>\n",
       "      <th>cont9</th>\n",
       "      <th>cont10</th>\n",
       "      <th>cont11</th>\n",
       "      <th>cont12</th>\n",
       "      <th>cont13</th>\n",
       "    </tr>\n",
       "  </thead>\n",
       "  <tbody>\n",
       "    <tr>\n",
       "      <th>0</th>\n",
       "      <td>1.0</td>\n",
       "      <td>1.0</td>\n",
       "      <td>1.0</td>\n",
       "      <td>2.0</td>\n",
       "      <td>1.0</td>\n",
       "      <td>1.0</td>\n",
       "      <td>0.0</td>\n",
       "      <td>4.0</td>\n",
       "      <td>2.0</td>\n",
       "      <td>13.0</td>\n",
       "      <td>...</td>\n",
       "      <td>0.610706</td>\n",
       "      <td>0.400361</td>\n",
       "      <td>0.160266</td>\n",
       "      <td>0.310921</td>\n",
       "      <td>0.389470</td>\n",
       "      <td>0.267559</td>\n",
       "      <td>0.237281</td>\n",
       "      <td>0.377873</td>\n",
       "      <td>0.322401</td>\n",
       "      <td>0.869850</td>\n",
       "    </tr>\n",
       "    <tr>\n",
       "      <th>1</th>\n",
       "      <td>1.0</td>\n",
       "      <td>1.0</td>\n",
       "      <td>0.0</td>\n",
       "      <td>0.0</td>\n",
       "      <td>1.0</td>\n",
       "      <td>3.0</td>\n",
       "      <td>0.0</td>\n",
       "      <td>5.0</td>\n",
       "      <td>0.0</td>\n",
       "      <td>14.0</td>\n",
       "      <td>...</td>\n",
       "      <td>0.276853</td>\n",
       "      <td>0.533087</td>\n",
       "      <td>0.558922</td>\n",
       "      <td>0.516294</td>\n",
       "      <td>0.594928</td>\n",
       "      <td>0.341439</td>\n",
       "      <td>0.906013</td>\n",
       "      <td>0.921701</td>\n",
       "      <td>0.261975</td>\n",
       "      <td>0.465083</td>\n",
       "    </tr>\n",
       "    <tr>\n",
       "      <th>2</th>\n",
       "      <td>0.0</td>\n",
       "      <td>0.0</td>\n",
       "      <td>0.0</td>\n",
       "      <td>2.0</td>\n",
       "      <td>1.0</td>\n",
       "      <td>3.0</td>\n",
       "      <td>0.0</td>\n",
       "      <td>3.0</td>\n",
       "      <td>0.0</td>\n",
       "      <td>5.0</td>\n",
       "      <td>...</td>\n",
       "      <td>0.285074</td>\n",
       "      <td>0.650609</td>\n",
       "      <td>0.375348</td>\n",
       "      <td>0.902567</td>\n",
       "      <td>0.555205</td>\n",
       "      <td>0.843531</td>\n",
       "      <td>0.748809</td>\n",
       "      <td>0.620126</td>\n",
       "      <td>0.541474</td>\n",
       "      <td>0.763846</td>\n",
       "    </tr>\n",
       "    <tr>\n",
       "      <th>3</th>\n",
       "      <td>1.0</td>\n",
       "      <td>1.0</td>\n",
       "      <td>0.0</td>\n",
       "      <td>2.0</td>\n",
       "      <td>1.0</td>\n",
       "      <td>3.0</td>\n",
       "      <td>0.0</td>\n",
       "      <td>4.0</td>\n",
       "      <td>2.0</td>\n",
       "      <td>10.0</td>\n",
       "      <td>...</td>\n",
       "      <td>0.284667</td>\n",
       "      <td>0.668980</td>\n",
       "      <td>0.239061</td>\n",
       "      <td>0.732948</td>\n",
       "      <td>0.679618</td>\n",
       "      <td>0.574844</td>\n",
       "      <td>0.346010</td>\n",
       "      <td>0.714610</td>\n",
       "      <td>0.540150</td>\n",
       "      <td>0.280682</td>\n",
       "    </tr>\n",
       "    <tr>\n",
       "      <th>4</th>\n",
       "      <td>0.0</td>\n",
       "      <td>0.0</td>\n",
       "      <td>0.0</td>\n",
       "      <td>2.0</td>\n",
       "      <td>1.0</td>\n",
       "      <td>3.0</td>\n",
       "      <td>0.0</td>\n",
       "      <td>4.0</td>\n",
       "      <td>0.0</td>\n",
       "      <td>13.0</td>\n",
       "      <td>...</td>\n",
       "      <td>0.287595</td>\n",
       "      <td>0.686964</td>\n",
       "      <td>0.420667</td>\n",
       "      <td>0.648182</td>\n",
       "      <td>0.684501</td>\n",
       "      <td>0.956692</td>\n",
       "      <td>1.000773</td>\n",
       "      <td>0.776742</td>\n",
       "      <td>0.625849</td>\n",
       "      <td>0.250823</td>\n",
       "    </tr>\n",
       "  </tbody>\n",
       "</table>\n",
       "<p>5 rows × 24 columns</p>\n",
       "</div>"
      ],
      "text/plain": [
       "   cat0  cat1  cat2  cat3  cat4  cat5  cat6  cat7  cat8  cat9  ...     cont4  \\\n",
       "0   1.0   1.0   1.0   2.0   1.0   1.0   0.0   4.0   2.0  13.0  ...  0.610706   \n",
       "1   1.0   1.0   0.0   0.0   1.0   3.0   0.0   5.0   0.0  14.0  ...  0.276853   \n",
       "2   0.0   0.0   0.0   2.0   1.0   3.0   0.0   3.0   0.0   5.0  ...  0.285074   \n",
       "3   1.0   1.0   0.0   2.0   1.0   3.0   0.0   4.0   2.0  10.0  ...  0.284667   \n",
       "4   0.0   0.0   0.0   2.0   1.0   3.0   0.0   4.0   0.0  13.0  ...  0.287595   \n",
       "\n",
       "      cont5     cont6     cont7     cont8     cont9    cont10    cont11  \\\n",
       "0  0.400361  0.160266  0.310921  0.389470  0.267559  0.237281  0.377873   \n",
       "1  0.533087  0.558922  0.516294  0.594928  0.341439  0.906013  0.921701   \n",
       "2  0.650609  0.375348  0.902567  0.555205  0.843531  0.748809  0.620126   \n",
       "3  0.668980  0.239061  0.732948  0.679618  0.574844  0.346010  0.714610   \n",
       "4  0.686964  0.420667  0.648182  0.684501  0.956692  1.000773  0.776742   \n",
       "\n",
       "     cont12    cont13  \n",
       "0  0.322401  0.869850  \n",
       "1  0.261975  0.465083  \n",
       "2  0.541474  0.763846  \n",
       "3  0.540150  0.280682  \n",
       "4  0.625849  0.250823  \n",
       "\n",
       "[5 rows x 24 columns]"
      ]
     },
     "execution_count": 6,
     "metadata": {},
     "output_type": "execute_result"
    }
   ],
   "source": [
    "\n",
    "# List of categorical columns\n",
    "object_cols = [col for col in features.columns if 'cat' in col]\n",
    "\n",
    "# ordinal-encode categorical columns\n",
    "X = features.copy()\n",
    "X_test = test.drop(['id'], axis=1).copy()\n",
    "ordinal_encoder = OrdinalEncoder()\n",
    "X[object_cols] = ordinal_encoder.fit_transform(features[object_cols])\n",
    "X_test[object_cols] = ordinal_encoder.transform(test[object_cols])\n",
    "\n",
    "# Preview the ordinal-encoded features\n",
    "X.head()\n"
   ]
  },
  {
   "cell_type": "code",
   "execution_count": 7,
   "id": "c351261c",
   "metadata": {
    "execution": {
     "iopub.execute_input": "2021-08-21T02:36:36.974071Z",
     "iopub.status.busy": "2021-08-21T02:36:36.973339Z",
     "iopub.status.idle": "2021-08-21T02:36:36.977815Z",
     "shell.execute_reply": "2021-08-21T02:36:36.977226Z",
     "shell.execute_reply.started": "2021-08-20T06:47:56.500999Z"
    },
    "papermill": {
     "duration": 0.027189,
     "end_time": "2021-08-21T02:36:36.977988",
     "exception": false,
     "start_time": "2021-08-21T02:36:36.950799",
     "status": "completed"
    },
    "tags": []
   },
   "outputs": [
    {
     "data": {
      "text/plain": [
       "'\\n# List of categorical columns\\nobject_cols = [col for col in features.columns if \\'cat\\' in col]\\n\\n# one-hot-encode categorical columns\\nX = features.copy()\\nX_test = test.drop([\\'id\\'], axis=1).copy()\\n\\noh_encoder = OneHotEncoder(sparse=False, handle_unknown=\"ignore\")\\nX_ohe = oh_encoder.fit_transform(features[object_cols])\\nX_test_ohe = oh_encoder.transform(test[object_cols])\\n\\nX_ohe = pd.DataFrame(X_ohe, columns=[f\"ohe_{i}\" for i in range(X_ohe.shape[1])])\\nX_test_ohe = pd.DataFrame(X_test_ohe, columns=[f\"ohe_{i}\" for i in range(X_test_ohe.shape[1])])\\n\\nX = pd.concat([X, X_ohe], axis=1)\\nX_test = pd.concat([X_test, X_test_ohe], axis=1)\\nX = X.drop(object_cols, axis=1)\\nX_test = X_test.drop(object_cols, axis=1)\\n    \\n# Preview the one-hot-encoded features\\nX.head()\\n'"
      ]
     },
     "execution_count": 7,
     "metadata": {},
     "output_type": "execute_result"
    }
   ],
   "source": [
    "'''\n",
    "# List of categorical columns\n",
    "object_cols = [col for col in features.columns if 'cat' in col]\n",
    "\n",
    "# one-hot-encode categorical columns\n",
    "X = features.copy()\n",
    "X_test = test.drop(['id'], axis=1).copy()\n",
    "\n",
    "oh_encoder = OneHotEncoder(sparse=False, handle_unknown=\"ignore\")\n",
    "X_ohe = oh_encoder.fit_transform(features[object_cols])\n",
    "X_test_ohe = oh_encoder.transform(test[object_cols])\n",
    "\n",
    "X_ohe = pd.DataFrame(X_ohe, columns=[f\"ohe_{i}\" for i in range(X_ohe.shape[1])])\n",
    "X_test_ohe = pd.DataFrame(X_test_ohe, columns=[f\"ohe_{i}\" for i in range(X_test_ohe.shape[1])])\n",
    "\n",
    "X = pd.concat([X, X_ohe], axis=1)\n",
    "X_test = pd.concat([X_test, X_test_ohe], axis=1)\n",
    "X = X.drop(object_cols, axis=1)\n",
    "X_test = X_test.drop(object_cols, axis=1)\n",
    "    \n",
    "# Preview the one-hot-encoded features\n",
    "X.head()\n",
    "'''"
   ]
  },
  {
   "cell_type": "code",
   "execution_count": 8,
   "id": "23e7431b",
   "metadata": {
    "execution": {
     "iopub.execute_input": "2021-08-21T02:36:37.030153Z",
     "iopub.status.busy": "2021-08-21T02:36:37.027979Z",
     "iopub.status.idle": "2021-08-21T02:36:39.207806Z",
     "shell.execute_reply": "2021-08-21T02:36:39.207204Z",
     "shell.execute_reply.started": "2021-08-20T06:48:00.167585Z"
    },
    "papermill": {
     "duration": 2.212535,
     "end_time": "2021-08-21T02:36:39.207985",
     "exception": false,
     "start_time": "2021-08-21T02:36:36.995450",
     "status": "completed"
    },
    "tags": []
   },
   "outputs": [],
   "source": [
    "scale_features = [col for col in features.columns if 'cont' in col]\n",
    "\n",
    "ss = StandardScaler()\n",
    "X[scale_features] = ss.fit_transform(features[scale_features])\n",
    "X_test[scale_features] = ss.transform(test[scale_features])"
   ]
  },
  {
   "cell_type": "code",
   "execution_count": 9,
   "id": "7edd8677",
   "metadata": {
    "execution": {
     "iopub.execute_input": "2021-08-21T02:36:39.251193Z",
     "iopub.status.busy": "2021-08-21T02:36:39.250383Z",
     "iopub.status.idle": "2021-08-21T02:36:39.253682Z",
     "shell.execute_reply": "2021-08-21T02:36:39.253011Z",
     "shell.execute_reply.started": "2021-08-20T06:48:00.357749Z"
    },
    "papermill": {
     "duration": 0.028353,
     "end_time": "2021-08-21T02:36:39.253844",
     "exception": false,
     "start_time": "2021-08-21T02:36:39.225491",
     "status": "completed"
    },
    "tags": []
   },
   "outputs": [],
   "source": [
    "# Swap noise\n",
    "\n",
    "# Random\n",
    "def apply_noise_rn(df, p=.75):\n",
    "    should_not_swap = np.random.binomial(1, p, df.shape)\n",
    "    corrupted_df = df.where(should_not_swap == 1, np.random.permutation(df))\n",
    "    return corrupted_df\n",
    "\n",
    "# Row-wise\n",
    "def apply_noise_row(df, p=.75):\n",
    "    should_not_swap = np.zeros(df.shape)\n",
    "    for i in range(df.shape[0]):\n",
    "        for j in np.random.choice(df.shape[1],int(p*df.shape[1]),replace=False):\n",
    "            should_not_swap[i,j]=1 \n",
    "    corrupted_df = df.where(should_not_swap == 1, np.random.permutation(df))\n",
    "    return corrupted_df"
   ]
  },
  {
   "cell_type": "markdown",
   "id": "bc7eb313",
   "metadata": {
    "papermill": {
     "duration": 0.016667,
     "end_time": "2021-08-21T02:36:39.287961",
     "exception": false,
     "start_time": "2021-08-21T02:36:39.271294",
     "status": "completed"
    },
    "tags": []
   },
   "source": [
    "# Optuna"
   ]
  },
  {
   "cell_type": "code",
   "execution_count": 10,
   "id": "cfbf303a",
   "metadata": {
    "execution": {
     "iopub.execute_input": "2021-08-21T02:36:39.327779Z",
     "iopub.status.busy": "2021-08-21T02:36:39.327134Z",
     "iopub.status.idle": "2021-08-21T02:36:49.124868Z",
     "shell.execute_reply": "2021-08-21T02:36:49.123914Z",
     "shell.execute_reply.started": "2021-08-20T06:48:00.371581Z"
    },
    "papermill": {
     "duration": 9.819984,
     "end_time": "2021-08-21T02:36:49.125072",
     "exception": false,
     "start_time": "2021-08-21T02:36:39.305088",
     "status": "completed"
    },
    "tags": []
   },
   "outputs": [
    {
     "name": "stdout",
     "output_type": "stream",
     "text": [
      "\u001b[33mWARNING: Running pip as root will break packages and permissions. You should install packages reliably by using venv: https://pip.pypa.io/warnings/venv\u001b[0m\r\n"
     ]
    }
   ],
   "source": [
    "# Optuna for parameter search\n",
    "!pip install -q optuna\n",
    "\n",
    "import optuna\n",
    "import pickle"
   ]
  },
  {
   "cell_type": "code",
   "execution_count": 11,
   "id": "3df89681",
   "metadata": {
    "execution": {
     "iopub.execute_input": "2021-08-21T02:36:49.174751Z",
     "iopub.status.busy": "2021-08-21T02:36:49.174062Z",
     "iopub.status.idle": "2021-08-21T02:36:49.177146Z",
     "shell.execute_reply": "2021-08-21T02:36:49.177600Z",
     "shell.execute_reply.started": "2021-08-20T06:48:11.237648Z"
    },
    "papermill": {
     "duration": 0.03526,
     "end_time": "2021-08-21T02:36:49.177780",
     "exception": false,
     "start_time": "2021-08-21T02:36:49.142520",
     "status": "completed"
    },
    "tags": []
   },
   "outputs": [],
   "source": [
    "# for the fixed learning rate, use the opt n iterations and tune the tree hyperparameters\n",
    "def objective(trial, X=X, y=y):\n",
    "  \"\"\"\n",
    "  \"\"\"\n",
    "  param_space = {\n",
    "               #'device':'gpu',  # Use GPU acceleration\n",
    "               #'boosting_type': 'gbdt',\n",
    "               'reg_lambda':trial.suggest_uniform('reg_lambda', 6.6, 7.8),\n",
    "              'reg_alpha':trial.suggest_uniform('reg_alpha', 34, 38),\n",
    "                'subsample': trial.suggest_uniform('subsample', 0.825, 0.875),\n",
    "              'colsample_bytree':trial.suggest_uniform('colsample_bytree', 0.645, 0.695),\n",
    "                #'subsample_freq': trial.suggest_int('subsample_freq', 1, 10),\n",
    "               'learning_rate':trial.suggest_uniform('learning_rate', 5.5e-2, 7.5e-2),\n",
    "                 'min_child_samples':trial.suggest_int('min_child_samples', 23, 27),\n",
    "              'num_leaves':trial.suggest_int('num_leaves', 19, 29),\n",
    "              'max_depth':trial.suggest_int('max_depth', 2, 3),\n",
    "              #'min_split_gain': trial.suggest_float('min_split_gain', 0.0, 0.005),\n",
    "              #'class_weight':trial.suggest_categorical('class_weight',['balanced',None]),\n",
    "               'n_estimators':N_ESTIMATORS,\n",
    "                'n_jobs' : -1,\n",
    "              'metric':'rmse',\n",
    "              'max_bin':trial.suggest_int('max_bin', 732, 762),\n",
    "              'cat_smooth':trial.suggest_int('cat_smooth', 88, 92),\n",
    "              'cat_l2':trial.suggest_loguniform('cat_l2', 3.7, 6.25)\n",
    "                }\n",
    "            \n",
    "  seed_list=[SEED, SEED+1]\n",
    "  #kf = KFold(n_splits=N_SPLITS, shuffle=True, random_state=CVSEED)\n",
    "  #lgb_oof = np.zeros(train.shape[0])\n",
    "  #lgb_pred = np.zeros(test.shape[0])\n",
    "  X_tr, X_va, y_tr, y_va = train_test_split(X,y,test_size=.2,random_state=CVSEED)\n",
    "  pred=np.zeros(y_va.shape[0])\n",
    "    \n",
    "  #for (trn_idx, val_idx) in enumerate(kf.split(X, y)):\n",
    "  #print(f\"===== fold {fold} =====\")\n",
    "    \n",
    "  #X_tr = apply_noise_row(X_tr)\n",
    "\n",
    "  \n",
    "  #start = time.time()\n",
    "  for inseed in seed_list:\n",
    "    param_space['random_state'] = inseed\n",
    "\n",
    "    model = lgb.LGBMRegressor(**param_space)\n",
    "    model.fit(\n",
    "        X_tr, \n",
    "        y_tr,\n",
    "        eval_set=[(X_va, y_va)],\n",
    "        eval_metric='rmse',\n",
    "        early_stopping_rounds=EARLY_STOPPING_ROUNDS,\n",
    "        verbose=VERBOSE,\n",
    "        categorical_feature=[0, 1, 2, 3, 4, 5, 6, 7, 8, 9]\n",
    "        #callbacks=[optuna.integration.LightGBMPruningCallback(trial, metric='rmse')],\n",
    "    )\n",
    "\n",
    "\n",
    "    pred += model.predict(X_va) / len(seed_list)\n",
    "    \n",
    "  #elapsed = time.time() - start\n",
    "  rmse = mean_squared_error(y_va, pred, squared=False)\n",
    "  #print(f\"fold {fold} - lgb rmse: {rmse:.6f}, elapsed time: {elapsed:.2f}sec\\n\")            \n",
    "  \n",
    "  #print(f\"oof lgb_rmse = {mean_squared_error(train[target], lgb_oof, squared=False)}\")\n",
    "\n",
    "  \n",
    "  return rmse"
   ]
  },
  {
   "cell_type": "code",
   "execution_count": 12,
   "id": "c4e9600e",
   "metadata": {
    "execution": {
     "iopub.execute_input": "2021-08-21T02:36:49.218323Z",
     "iopub.status.busy": "2021-08-21T02:36:49.217539Z",
     "iopub.status.idle": "2021-08-21T03:36:36.308779Z",
     "shell.execute_reply": "2021-08-21T03:36:36.309522Z",
     "shell.execute_reply.started": "2021-08-20T06:48:11.257068Z"
    },
    "papermill": {
     "duration": 3587.114937,
     "end_time": "2021-08-21T03:36:36.309735",
     "exception": false,
     "start_time": "2021-08-21T02:36:49.194798",
     "status": "completed"
    },
    "tags": []
   },
   "outputs": [
    {
     "name": "stderr",
     "output_type": "stream",
     "text": [
      "\u001b[32m[I 2021-08-21 02:36:49,215]\u001b[0m A new study created in memory with name: no-name-128cd841-23a8-41c6-bab0-2a69f026ebdc\u001b[0m\n"
     ]
    },
    {
     "name": "stdout",
     "output_type": "stream",
     "text": [
      "Training until validation scores don't improve for 200 rounds\n",
      "[1000]\tvalid_0's rmse: 0.717089\n",
      "[2000]\tvalid_0's rmse: 0.715067\n",
      "[3000]\tvalid_0's rmse: 0.714583\n",
      "Early stopping, best iteration is:\n",
      "[3090]\tvalid_0's rmse: 0.714566\n",
      "Training until validation scores don't improve for 200 rounds\n",
      "[1000]\tvalid_0's rmse: 0.717119\n",
      "[2000]\tvalid_0's rmse: 0.715086\n",
      "[3000]\tvalid_0's rmse: 0.714727\n",
      "Early stopping, best iteration is:\n",
      "[3388]\tvalid_0's rmse: 0.714675\n"
     ]
    },
    {
     "name": "stderr",
     "output_type": "stream",
     "text": [
      "\u001b[32m[I 2021-08-21 02:38:08,318]\u001b[0m Trial 0 finished with value: 0.7144695779946586 and parameters: {'reg_lambda': 7.685780275889322, 'reg_alpha': 35.06254186395001, 'subsample': 0.8673627928188785, 'colsample_bytree': 0.6699163816690578, 'learning_rate': 0.0683907765278896, 'min_child_samples': 24, 'num_leaves': 21, 'max_depth': 3, 'max_bin': 738, 'cat_smooth': 90, 'cat_l2': 5.569087556194927}. Best is trial 0 with value: 0.7144695779946586.\u001b[0m\n"
     ]
    },
    {
     "name": "stdout",
     "output_type": "stream",
     "text": [
      "Training until validation scores don't improve for 200 rounds\n",
      "[1000]\tvalid_0's rmse: 0.720394\n",
      "[2000]\tvalid_0's rmse: 0.716788\n",
      "[3000]\tvalid_0's rmse: 0.715269\n",
      "[4000]\tvalid_0's rmse: 0.714592\n",
      "[5000]\tvalid_0's rmse: 0.714362\n",
      "[6000]\tvalid_0's rmse: 0.714273\n",
      "Early stopping, best iteration is:\n",
      "[5816]\tvalid_0's rmse: 0.714261\n",
      "Training until validation scores don't improve for 200 rounds\n",
      "[1000]\tvalid_0's rmse: 0.720472\n",
      "[2000]\tvalid_0's rmse: 0.716873\n",
      "[3000]\tvalid_0's rmse: 0.715281\n",
      "[4000]\tvalid_0's rmse: 0.714641\n",
      "[5000]\tvalid_0's rmse: 0.714371\n",
      "[6000]\tvalid_0's rmse: 0.714259\n",
      "Early stopping, best iteration is:\n",
      "[5988]\tvalid_0's rmse: 0.714258\n"
     ]
    },
    {
     "name": "stderr",
     "output_type": "stream",
     "text": [
      "\u001b[32m[I 2021-08-21 02:40:00,782]\u001b[0m Trial 1 finished with value: 0.7141631430900747 and parameters: {'reg_lambda': 6.954468373460137, 'reg_alpha': 35.06911897318049, 'subsample': 0.8592515353056105, 'colsample_bytree': 0.6566066931274556, 'learning_rate': 0.07434827317454108, 'min_child_samples': 25, 'num_leaves': 24, 'max_depth': 2, 'max_bin': 760, 'cat_smooth': 92, 'cat_l2': 5.008394512233755}. Best is trial 1 with value: 0.7141631430900747.\u001b[0m\n"
     ]
    },
    {
     "name": "stdout",
     "output_type": "stream",
     "text": [
      "Training until validation scores don't improve for 200 rounds\n",
      "[1000]\tvalid_0's rmse: 0.718036\n",
      "[2000]\tvalid_0's rmse: 0.715522\n",
      "[3000]\tvalid_0's rmse: 0.714877\n",
      "[4000]\tvalid_0's rmse: 0.714608\n",
      "Early stopping, best iteration is:\n",
      "[4304]\tvalid_0's rmse: 0.714564\n",
      "Training until validation scores don't improve for 200 rounds\n",
      "[1000]\tvalid_0's rmse: 0.717999\n",
      "[2000]\tvalid_0's rmse: 0.715523\n",
      "[3000]\tvalid_0's rmse: 0.714908\n",
      "[4000]\tvalid_0's rmse: 0.714721\n",
      "Early stopping, best iteration is:\n",
      "[3989]\tvalid_0's rmse: 0.714716\n"
     ]
    },
    {
     "name": "stderr",
     "output_type": "stream",
     "text": [
      "\u001b[32m[I 2021-08-21 02:41:41,558]\u001b[0m Trial 2 finished with value: 0.7144914352936411 and parameters: {'reg_lambda': 7.2092727576153175, 'reg_alpha': 36.175894245301706, 'subsample': 0.8626410525807126, 'colsample_bytree': 0.656925661769379, 'learning_rate': 0.05739073798483632, 'min_child_samples': 25, 'num_leaves': 27, 'max_depth': 3, 'max_bin': 745, 'cat_smooth': 92, 'cat_l2': 4.1559055506504174}. Best is trial 1 with value: 0.7141631430900747.\u001b[0m\n"
     ]
    },
    {
     "name": "stdout",
     "output_type": "stream",
     "text": [
      "Training until validation scores don't improve for 200 rounds\n",
      "[1000]\tvalid_0's rmse: 0.717129\n",
      "[2000]\tvalid_0's rmse: 0.715022\n",
      "[3000]\tvalid_0's rmse: 0.714602\n",
      "Early stopping, best iteration is:\n",
      "[3414]\tvalid_0's rmse: 0.714506\n",
      "Training until validation scores don't improve for 200 rounds\n",
      "[1000]\tvalid_0's rmse: 0.71714\n",
      "[2000]\tvalid_0's rmse: 0.715183\n",
      "Early stopping, best iteration is:\n",
      "[2788]\tvalid_0's rmse: 0.714729\n"
     ]
    },
    {
     "name": "stderr",
     "output_type": "stream",
     "text": [
      "\u001b[32m[I 2021-08-21 02:42:58,795]\u001b[0m Trial 3 finished with value: 0.7144495728916018 and parameters: {'reg_lambda': 7.016352238155574, 'reg_alpha': 35.63857591019697, 'subsample': 0.8659875350260541, 'colsample_bytree': 0.6554635010712909, 'learning_rate': 0.06718133773879573, 'min_child_samples': 24, 'num_leaves': 24, 'max_depth': 3, 'max_bin': 760, 'cat_smooth': 88, 'cat_l2': 5.624216783926828}. Best is trial 1 with value: 0.7141631430900747.\u001b[0m\n"
     ]
    },
    {
     "name": "stdout",
     "output_type": "stream",
     "text": [
      "Training until validation scores don't improve for 200 rounds\n",
      "[1000]\tvalid_0's rmse: 0.720969\n",
      "[2000]\tvalid_0's rmse: 0.717299\n",
      "[3000]\tvalid_0's rmse: 0.715581\n",
      "[4000]\tvalid_0's rmse: 0.714764\n",
      "[5000]\tvalid_0's rmse: 0.714423\n",
      "[6000]\tvalid_0's rmse: 0.714262\n",
      "[7000]\tvalid_0's rmse: 0.714193\n",
      "Early stopping, best iteration is:\n",
      "[7257]\tvalid_0's rmse: 0.714186\n",
      "Training until validation scores don't improve for 200 rounds\n",
      "[1000]\tvalid_0's rmse: 0.721063\n",
      "[2000]\tvalid_0's rmse: 0.717235\n",
      "[3000]\tvalid_0's rmse: 0.71558\n",
      "[4000]\tvalid_0's rmse: 0.714771\n",
      "[5000]\tvalid_0's rmse: 0.714426\n",
      "[6000]\tvalid_0's rmse: 0.714307\n",
      "[7000]\tvalid_0's rmse: 0.714252\n",
      "Early stopping, best iteration is:\n",
      "[7633]\tvalid_0's rmse: 0.714229\n"
     ]
    },
    {
     "name": "stderr",
     "output_type": "stream",
     "text": [
      "\u001b[32m[I 2021-08-21 02:45:21,217]\u001b[0m Trial 4 finished with value: 0.7141080551505147 and parameters: {'reg_lambda': 6.674644141507648, 'reg_alpha': 34.564481203078415, 'subsample': 0.8471442204424425, 'colsample_bytree': 0.6836092841645856, 'learning_rate': 0.06665943252736647, 'min_child_samples': 26, 'num_leaves': 19, 'max_depth': 2, 'max_bin': 755, 'cat_smooth': 89, 'cat_l2': 5.2034916672503755}. Best is trial 4 with value: 0.7141080551505147.\u001b[0m\n"
     ]
    },
    {
     "name": "stdout",
     "output_type": "stream",
     "text": [
      "Training until validation scores don't improve for 200 rounds\n",
      "[1000]\tvalid_0's rmse: 0.720429\n",
      "[2000]\tvalid_0's rmse: 0.716858\n",
      "[3000]\tvalid_0's rmse: 0.715413\n",
      "[4000]\tvalid_0's rmse: 0.714777\n",
      "[5000]\tvalid_0's rmse: 0.714472\n",
      "[6000]\tvalid_0's rmse: 0.71435\n",
      "Early stopping, best iteration is:\n",
      "[6224]\tvalid_0's rmse: 0.714324\n",
      "Training until validation scores don't improve for 200 rounds\n",
      "[1000]\tvalid_0's rmse: 0.720485\n",
      "[2000]\tvalid_0's rmse: 0.716875\n",
      "[3000]\tvalid_0's rmse: 0.715286\n",
      "[4000]\tvalid_0's rmse: 0.714715\n",
      "[5000]\tvalid_0's rmse: 0.714467\n",
      "[6000]\tvalid_0's rmse: 0.714372\n",
      "Early stopping, best iteration is:\n",
      "[6345]\tvalid_0's rmse: 0.714339\n"
     ]
    },
    {
     "name": "stderr",
     "output_type": "stream",
     "text": [
      "\u001b[32m[I 2021-08-21 02:47:26,103]\u001b[0m Trial 5 finished with value: 0.7142274855942211 and parameters: {'reg_lambda': 7.066459772561306, 'reg_alpha': 35.41142675987052, 'subsample': 0.8557021764974305, 'colsample_bytree': 0.6768217473880961, 'learning_rate': 0.0736511184713422, 'min_child_samples': 27, 'num_leaves': 28, 'max_depth': 2, 'max_bin': 736, 'cat_smooth': 88, 'cat_l2': 4.846236975004745}. Best is trial 4 with value: 0.7141080551505147.\u001b[0m\n"
     ]
    },
    {
     "name": "stdout",
     "output_type": "stream",
     "text": [
      "Training until validation scores don't improve for 200 rounds\n",
      "[1000]\tvalid_0's rmse: 0.71742\n",
      "[2000]\tvalid_0's rmse: 0.715176\n",
      "[3000]\tvalid_0's rmse: 0.714738\n",
      "Early stopping, best iteration is:\n",
      "[3419]\tvalid_0's rmse: 0.714707\n",
      "Training until validation scores don't improve for 200 rounds\n",
      "[1000]\tvalid_0's rmse: 0.717526\n",
      "[2000]\tvalid_0's rmse: 0.715287\n",
      "[3000]\tvalid_0's rmse: 0.714779\n",
      "Early stopping, best iteration is:\n",
      "[3578]\tvalid_0's rmse: 0.71466\n"
     ]
    },
    {
     "name": "stderr",
     "output_type": "stream",
     "text": [
      "\u001b[32m[I 2021-08-21 02:48:51,051]\u001b[0m Trial 6 finished with value: 0.7145346985429333 and parameters: {'reg_lambda': 6.938634599001583, 'reg_alpha': 34.68712567076545, 'subsample': 0.8600383932625957, 'colsample_bytree': 0.6871757191717716, 'learning_rate': 0.06351513491629736, 'min_child_samples': 25, 'num_leaves': 29, 'max_depth': 3, 'max_bin': 752, 'cat_smooth': 92, 'cat_l2': 3.9324304743048253}. Best is trial 4 with value: 0.7141080551505147.\u001b[0m\n"
     ]
    },
    {
     "name": "stdout",
     "output_type": "stream",
     "text": [
      "Training until validation scores don't improve for 200 rounds\n",
      "[1000]\tvalid_0's rmse: 0.72172\n",
      "[2000]\tvalid_0's rmse: 0.717918\n",
      "[3000]\tvalid_0's rmse: 0.716087\n",
      "[4000]\tvalid_0's rmse: 0.715162\n",
      "[5000]\tvalid_0's rmse: 0.714709\n",
      "[6000]\tvalid_0's rmse: 0.714481\n",
      "[7000]\tvalid_0's rmse: 0.714373\n",
      "[8000]\tvalid_0's rmse: 0.714308\n",
      "Early stopping, best iteration is:\n",
      "[7893]\tvalid_0's rmse: 0.714305\n",
      "Training until validation scores don't improve for 200 rounds\n",
      "[1000]\tvalid_0's rmse: 0.721682\n",
      "[2000]\tvalid_0's rmse: 0.717909\n",
      "[3000]\tvalid_0's rmse: 0.716034\n",
      "[4000]\tvalid_0's rmse: 0.715079\n",
      "[5000]\tvalid_0's rmse: 0.714605\n",
      "[6000]\tvalid_0's rmse: 0.714354\n",
      "[7000]\tvalid_0's rmse: 0.714242\n",
      "[8000]\tvalid_0's rmse: 0.714199\n",
      "Early stopping, best iteration is:\n",
      "[8005]\tvalid_0's rmse: 0.714199\n"
     ]
    },
    {
     "name": "stderr",
     "output_type": "stream",
     "text": [
      "\u001b[32m[I 2021-08-21 02:51:24,014]\u001b[0m Trial 7 finished with value: 0.7141575312137134 and parameters: {'reg_lambda': 7.542968754257447, 'reg_alpha': 37.22387519111675, 'subsample': 0.854395788059009, 'colsample_bytree': 0.688697014845815, 'learning_rate': 0.05974530962117951, 'min_child_samples': 27, 'num_leaves': 22, 'max_depth': 2, 'max_bin': 744, 'cat_smooth': 89, 'cat_l2': 4.786312572308717}. Best is trial 4 with value: 0.7141080551505147.\u001b[0m\n"
     ]
    },
    {
     "name": "stdout",
     "output_type": "stream",
     "text": [
      "Training until validation scores don't improve for 200 rounds\n",
      "[1000]\tvalid_0's rmse: 0.721212\n",
      "[2000]\tvalid_0's rmse: 0.717641\n",
      "[3000]\tvalid_0's rmse: 0.715896\n",
      "[4000]\tvalid_0's rmse: 0.715062\n",
      "[5000]\tvalid_0's rmse: 0.71456\n",
      "[6000]\tvalid_0's rmse: 0.714355\n",
      "[7000]\tvalid_0's rmse: 0.714258\n",
      "Early stopping, best iteration is:\n",
      "[7091]\tvalid_0's rmse: 0.714252\n",
      "Training until validation scores don't improve for 200 rounds\n",
      "[1000]\tvalid_0's rmse: 0.721425\n",
      "[2000]\tvalid_0's rmse: 0.717503\n",
      "[3000]\tvalid_0's rmse: 0.715891\n",
      "[4000]\tvalid_0's rmse: 0.715013\n",
      "[5000]\tvalid_0's rmse: 0.714581\n",
      "[6000]\tvalid_0's rmse: 0.714377\n",
      "[7000]\tvalid_0's rmse: 0.714257\n",
      "Early stopping, best iteration is:\n",
      "[7201]\tvalid_0's rmse: 0.714236\n"
     ]
    },
    {
     "name": "stderr",
     "output_type": "stream",
     "text": [
      "\u001b[32m[I 2021-08-21 02:53:39,208]\u001b[0m Trial 8 finished with value: 0.7141544982873875 and parameters: {'reg_lambda': 7.086605212944113, 'reg_alpha': 37.96743865891143, 'subsample': 0.8307869762182328, 'colsample_bytree': 0.6486420109473578, 'learning_rate': 0.06303343103190809, 'min_child_samples': 26, 'num_leaves': 22, 'max_depth': 2, 'max_bin': 739, 'cat_smooth': 90, 'cat_l2': 4.8542973658215995}. Best is trial 4 with value: 0.7141080551505147.\u001b[0m\n"
     ]
    },
    {
     "name": "stdout",
     "output_type": "stream",
     "text": [
      "Training until validation scores don't improve for 200 rounds\n",
      "[1000]\tvalid_0's rmse: 0.717523\n",
      "[2000]\tvalid_0's rmse: 0.71521\n",
      "[3000]\tvalid_0's rmse: 0.714662\n",
      "Early stopping, best iteration is:\n",
      "[3592]\tvalid_0's rmse: 0.714518\n",
      "Training until validation scores don't improve for 200 rounds\n",
      "[1000]\tvalid_0's rmse: 0.717552\n",
      "[2000]\tvalid_0's rmse: 0.715248\n",
      "[3000]\tvalid_0's rmse: 0.714781\n",
      "Early stopping, best iteration is:\n",
      "[3470]\tvalid_0's rmse: 0.714683\n"
     ]
    },
    {
     "name": "stderr",
     "output_type": "stream",
     "text": [
      "\u001b[32m[I 2021-08-21 02:55:06,455]\u001b[0m Trial 9 finished with value: 0.7144547870122115 and parameters: {'reg_lambda': 7.270277159511425, 'reg_alpha': 34.212137620723695, 'subsample': 0.8316557218534195, 'colsample_bytree': 0.6892847559803866, 'learning_rate': 0.06383938051491508, 'min_child_samples': 27, 'num_leaves': 25, 'max_depth': 3, 'max_bin': 748, 'cat_smooth': 90, 'cat_l2': 4.768879627912868}. Best is trial 4 with value: 0.7141080551505147.\u001b[0m\n"
     ]
    },
    {
     "name": "stdout",
     "output_type": "stream",
     "text": [
      "Training until validation scores don't improve for 200 rounds\n",
      "[1000]\tvalid_0's rmse: 0.720777\n",
      "[2000]\tvalid_0's rmse: 0.717126\n",
      "[3000]\tvalid_0's rmse: 0.715518\n",
      "[4000]\tvalid_0's rmse: 0.714754\n",
      "[5000]\tvalid_0's rmse: 0.714405\n",
      "[6000]\tvalid_0's rmse: 0.71427\n",
      "[7000]\tvalid_0's rmse: 0.714225\n",
      "Early stopping, best iteration is:\n",
      "[7163]\tvalid_0's rmse: 0.71422\n",
      "Training until validation scores don't improve for 200 rounds\n",
      "[1000]\tvalid_0's rmse: 0.720948\n",
      "[2000]\tvalid_0's rmse: 0.716989\n",
      "[3000]\tvalid_0's rmse: 0.715485\n",
      "[4000]\tvalid_0's rmse: 0.714715\n",
      "[5000]\tvalid_0's rmse: 0.71438\n",
      "Early stopping, best iteration is:\n",
      "[5373]\tvalid_0's rmse: 0.714297\n"
     ]
    },
    {
     "name": "stderr",
     "output_type": "stream",
     "text": [
      "\u001b[32m[I 2021-08-21 02:57:06,592]\u001b[0m Trial 10 finished with value: 0.7141475091092794 and parameters: {'reg_lambda': 6.630018031951741, 'reg_alpha': 36.46194236681363, 'subsample': 0.8427304621099018, 'colsample_bytree': 0.6788684177653164, 'learning_rate': 0.06969854911341969, 'min_child_samples': 23, 'num_leaves': 19, 'max_depth': 2, 'max_bin': 755, 'cat_smooth': 89, 'cat_l2': 4.310451555240133}. Best is trial 4 with value: 0.7141080551505147.\u001b[0m\n"
     ]
    },
    {
     "name": "stdout",
     "output_type": "stream",
     "text": [
      "Training until validation scores don't improve for 200 rounds\n",
      "[1000]\tvalid_0's rmse: 0.720814\n",
      "[2000]\tvalid_0's rmse: 0.717116\n",
      "[3000]\tvalid_0's rmse: 0.715496\n",
      "[4000]\tvalid_0's rmse: 0.714777\n",
      "[5000]\tvalid_0's rmse: 0.714511\n",
      "[6000]\tvalid_0's rmse: 0.714398\n",
      "Early stopping, best iteration is:\n",
      "[6058]\tvalid_0's rmse: 0.714389\n",
      "Training until validation scores don't improve for 200 rounds\n",
      "[1000]\tvalid_0's rmse: 0.720695\n",
      "[2000]\tvalid_0's rmse: 0.71713\n",
      "[3000]\tvalid_0's rmse: 0.715472\n",
      "[4000]\tvalid_0's rmse: 0.714825\n",
      "[5000]\tvalid_0's rmse: 0.714544\n",
      "[6000]\tvalid_0's rmse: 0.714435\n",
      "Early stopping, best iteration is:\n",
      "[6589]\tvalid_0's rmse: 0.714395\n"
     ]
    },
    {
     "name": "stderr",
     "output_type": "stream",
     "text": [
      "\u001b[32m[I 2021-08-21 02:59:05,801]\u001b[0m Trial 11 finished with value: 0.7143050513992377 and parameters: {'reg_lambda': 6.640563421251799, 'reg_alpha': 36.51070567608584, 'subsample': 0.8422929704565661, 'colsample_bytree': 0.6770109520623483, 'learning_rate': 0.07077692837620767, 'min_child_samples': 23, 'num_leaves': 19, 'max_depth': 2, 'max_bin': 756, 'cat_smooth': 89, 'cat_l2': 4.224733761288754}. Best is trial 4 with value: 0.7141080551505147.\u001b[0m\n"
     ]
    },
    {
     "name": "stdout",
     "output_type": "stream",
     "text": [
      "Training until validation scores don't improve for 200 rounds\n",
      "[1000]\tvalid_0's rmse: 0.720627\n",
      "[2000]\tvalid_0's rmse: 0.716935\n",
      "[3000]\tvalid_0's rmse: 0.715371\n",
      "[4000]\tvalid_0's rmse: 0.714629\n",
      "[5000]\tvalid_0's rmse: 0.714343\n",
      "[6000]\tvalid_0's rmse: 0.714211\n",
      "[7000]\tvalid_0's rmse: 0.714142\n",
      "Early stopping, best iteration is:\n",
      "[7447]\tvalid_0's rmse: 0.714111\n",
      "Training until validation scores don't improve for 200 rounds\n",
      "[1000]\tvalid_0's rmse: 0.720769\n",
      "[2000]\tvalid_0's rmse: 0.717016\n",
      "[3000]\tvalid_0's rmse: 0.715453\n",
      "[4000]\tvalid_0's rmse: 0.714691\n",
      "[5000]\tvalid_0's rmse: 0.714369\n",
      "[6000]\tvalid_0's rmse: 0.714256\n",
      "Early stopping, best iteration is:\n",
      "[5991]\tvalid_0's rmse: 0.714256\n"
     ]
    },
    {
     "name": "stderr",
     "output_type": "stream",
     "text": [
      "\u001b[32m[I 2021-08-21 03:01:13,523]\u001b[0m Trial 12 finished with value: 0.714081271380416 and parameters: {'reg_lambda': 6.616765040165289, 'reg_alpha': 36.805761204217944, 'subsample': 0.8431140870589577, 'colsample_bytree': 0.6763512706014263, 'learning_rate': 0.07080612651038082, 'min_child_samples': 26, 'num_leaves': 19, 'max_depth': 2, 'max_bin': 754, 'cat_smooth': 89, 'cat_l2': 6.026168441469418}. Best is trial 12 with value: 0.714081271380416.\u001b[0m\n"
     ]
    },
    {
     "name": "stdout",
     "output_type": "stream",
     "text": [
      "Training until validation scores don't improve for 200 rounds\n",
      "[1000]\tvalid_0's rmse: 0.720555\n",
      "[2000]\tvalid_0's rmse: 0.716954\n",
      "[3000]\tvalid_0's rmse: 0.715404\n",
      "[4000]\tvalid_0's rmse: 0.714698\n",
      "[5000]\tvalid_0's rmse: 0.714422\n",
      "[6000]\tvalid_0's rmse: 0.71428\n",
      "Early stopping, best iteration is:\n",
      "[6441]\tvalid_0's rmse: 0.714243\n",
      "Training until validation scores don't improve for 200 rounds\n",
      "[1000]\tvalid_0's rmse: 0.720556\n",
      "[2000]\tvalid_0's rmse: 0.71693\n",
      "[3000]\tvalid_0's rmse: 0.715317\n",
      "[4000]\tvalid_0's rmse: 0.714628\n",
      "[5000]\tvalid_0's rmse: 0.714315\n",
      "[6000]\tvalid_0's rmse: 0.714188\n",
      "[7000]\tvalid_0's rmse: 0.714141\n",
      "Early stopping, best iteration is:\n",
      "[7009]\tvalid_0's rmse: 0.714139\n"
     ]
    },
    {
     "name": "stderr",
     "output_type": "stream",
     "text": [
      "\u001b[32m[I 2021-08-21 03:03:22,811]\u001b[0m Trial 13 finished with value: 0.7140914808283688 and parameters: {'reg_lambda': 6.7300372466714355, 'reg_alpha': 37.48862902588565, 'subsample': 0.8442663208667539, 'colsample_bytree': 0.6696899930461401, 'learning_rate': 0.07151347440667236, 'min_child_samples': 26, 'num_leaves': 20, 'max_depth': 2, 'max_bin': 751, 'cat_smooth': 89, 'cat_l2': 6.183199481691027}. Best is trial 12 with value: 0.714081271380416.\u001b[0m\n"
     ]
    },
    {
     "name": "stdout",
     "output_type": "stream",
     "text": [
      "Training until validation scores don't improve for 200 rounds\n",
      "[1000]\tvalid_0's rmse: 0.720635\n",
      "[2000]\tvalid_0's rmse: 0.716952\n",
      "[3000]\tvalid_0's rmse: 0.715391\n",
      "[4000]\tvalid_0's rmse: 0.714702\n",
      "[5000]\tvalid_0's rmse: 0.714381\n",
      "[6000]\tvalid_0's rmse: 0.714267\n",
      "Early stopping, best iteration is:\n",
      "[6698]\tvalid_0's rmse: 0.714228\n",
      "Training until validation scores don't improve for 200 rounds\n",
      "[1000]\tvalid_0's rmse: 0.720545\n",
      "[2000]\tvalid_0's rmse: 0.716925\n",
      "[3000]\tvalid_0's rmse: 0.715373\n",
      "[4000]\tvalid_0's rmse: 0.714667\n",
      "[5000]\tvalid_0's rmse: 0.714364\n",
      "[6000]\tvalid_0's rmse: 0.714248\n",
      "Early stopping, best iteration is:\n",
      "[6172]\tvalid_0's rmse: 0.714232\n"
     ]
    },
    {
     "name": "stderr",
     "output_type": "stream",
     "text": [
      "\u001b[32m[I 2021-08-21 03:05:25,194]\u001b[0m Trial 14 finished with value: 0.7141353080556251 and parameters: {'reg_lambda': 6.7802499116272825, 'reg_alpha': 37.556617334395526, 'subsample': 0.8359831325501461, 'colsample_bytree': 0.6658555891014544, 'learning_rate': 0.07199618608680182, 'min_child_samples': 26, 'num_leaves': 21, 'max_depth': 2, 'max_bin': 750, 'cat_smooth': 91, 'cat_l2': 6.182892292321872}. Best is trial 12 with value: 0.714081271380416.\u001b[0m\n"
     ]
    },
    {
     "name": "stdout",
     "output_type": "stream",
     "text": [
      "Training until validation scores don't improve for 200 rounds\n",
      "[1000]\tvalid_0's rmse: 0.72032\n",
      "[2000]\tvalid_0's rmse: 0.716703\n",
      "[3000]\tvalid_0's rmse: 0.71514\n",
      "[4000]\tvalid_0's rmse: 0.714564\n",
      "[5000]\tvalid_0's rmse: 0.714286\n",
      "[6000]\tvalid_0's rmse: 0.71418\n",
      "[7000]\tvalid_0's rmse: 0.714149\n",
      "Early stopping, best iteration is:\n",
      "[6843]\tvalid_0's rmse: 0.714134\n",
      "Training until validation scores don't improve for 200 rounds\n",
      "[1000]\tvalid_0's rmse: 0.720319\n",
      "[2000]\tvalid_0's rmse: 0.716714\n",
      "[3000]\tvalid_0's rmse: 0.715249\n",
      "[4000]\tvalid_0's rmse: 0.714664\n",
      "[5000]\tvalid_0's rmse: 0.714391\n",
      "Early stopping, best iteration is:\n",
      "[5373]\tvalid_0's rmse: 0.71434\n"
     ]
    },
    {
     "name": "stderr",
     "output_type": "stream",
     "text": [
      "\u001b[32m[I 2021-08-21 03:07:22,374]\u001b[0m Trial 15 finished with value: 0.7141291483959906 and parameters: {'reg_lambda': 6.805727619913024, 'reg_alpha': 37.072809493682584, 'subsample': 0.838660997968962, 'colsample_bytree': 0.6640155795667029, 'learning_rate': 0.07477682427516079, 'min_child_samples': 26, 'num_leaves': 20, 'max_depth': 2, 'max_bin': 753, 'cat_smooth': 88, 'cat_l2': 6.219092078081347}. Best is trial 12 with value: 0.714081271380416.\u001b[0m\n"
     ]
    },
    {
     "name": "stdout",
     "output_type": "stream",
     "text": [
      "Training until validation scores don't improve for 200 rounds\n",
      "[1000]\tvalid_0's rmse: 0.72069\n",
      "[2000]\tvalid_0's rmse: 0.717027\n",
      "[3000]\tvalid_0's rmse: 0.715323\n",
      "[4000]\tvalid_0's rmse: 0.714687\n",
      "[5000]\tvalid_0's rmse: 0.714383\n",
      "[6000]\tvalid_0's rmse: 0.714268\n",
      "Early stopping, best iteration is:\n",
      "[6031]\tvalid_0's rmse: 0.714257\n",
      "Training until validation scores don't improve for 200 rounds\n",
      "[1000]\tvalid_0's rmse: 0.720537\n",
      "[2000]\tvalid_0's rmse: 0.717008\n",
      "[3000]\tvalid_0's rmse: 0.715386\n",
      "[4000]\tvalid_0's rmse: 0.714726\n",
      "[5000]\tvalid_0's rmse: 0.714404\n",
      "[6000]\tvalid_0's rmse: 0.714294\n",
      "Early stopping, best iteration is:\n",
      "[6645]\tvalid_0's rmse: 0.714248\n"
     ]
    },
    {
     "name": "stderr",
     "output_type": "stream",
     "text": [
      "\u001b[32m[I 2021-08-21 03:09:23,831]\u001b[0m Trial 16 finished with value: 0.7141541838876997 and parameters: {'reg_lambda': 7.389528939926815, 'reg_alpha': 37.80108997461054, 'subsample': 0.8253091017804839, 'colsample_bytree': 0.6708425385135139, 'learning_rate': 0.07238548494351998, 'min_child_samples': 26, 'num_leaves': 22, 'max_depth': 2, 'max_bin': 758, 'cat_smooth': 89, 'cat_l2': 5.895048490163328}. Best is trial 12 with value: 0.714081271380416.\u001b[0m\n"
     ]
    },
    {
     "name": "stdout",
     "output_type": "stream",
     "text": [
      "Training until validation scores don't improve for 200 rounds\n",
      "[1000]\tvalid_0's rmse: 0.720779\n",
      "[2000]\tvalid_0's rmse: 0.717162\n",
      "[3000]\tvalid_0's rmse: 0.715584\n",
      "[4000]\tvalid_0's rmse: 0.714762\n",
      "[5000]\tvalid_0's rmse: 0.714431\n",
      "[6000]\tvalid_0's rmse: 0.714281\n",
      "Early stopping, best iteration is:\n",
      "[6564]\tvalid_0's rmse: 0.714219\n",
      "Training until validation scores don't improve for 200 rounds\n",
      "[1000]\tvalid_0's rmse: 0.720619\n",
      "[2000]\tvalid_0's rmse: 0.717216\n",
      "[3000]\tvalid_0's rmse: 0.715554\n",
      "[4000]\tvalid_0's rmse: 0.714783\n",
      "[5000]\tvalid_0's rmse: 0.714452\n",
      "[6000]\tvalid_0's rmse: 0.714302\n",
      "Early stopping, best iteration is:\n",
      "[6034]\tvalid_0's rmse: 0.714295\n"
     ]
    },
    {
     "name": "stderr",
     "output_type": "stream",
     "text": [
      "\u001b[32m[I 2021-08-21 03:11:24,222]\u001b[0m Trial 17 finished with value: 0.7141621161943432 and parameters: {'reg_lambda': 6.787918086025174, 'reg_alpha': 37.00333424017857, 'subsample': 0.8507135218931857, 'colsample_bytree': 0.669875975201239, 'learning_rate': 0.06975094479107208, 'min_child_samples': 27, 'num_leaves': 20, 'max_depth': 2, 'max_bin': 743, 'cat_smooth': 91, 'cat_l2': 6.246167250987779}. Best is trial 12 with value: 0.714081271380416.\u001b[0m\n"
     ]
    },
    {
     "name": "stdout",
     "output_type": "stream",
     "text": [
      "Training until validation scores don't improve for 200 rounds\n",
      "[1000]\tvalid_0's rmse: 0.720706\n",
      "[2000]\tvalid_0's rmse: 0.71694\n",
      "[3000]\tvalid_0's rmse: 0.715348\n",
      "[4000]\tvalid_0's rmse: 0.714651\n",
      "[5000]\tvalid_0's rmse: 0.714332\n",
      "[6000]\tvalid_0's rmse: 0.714223\n",
      "[7000]\tvalid_0's rmse: 0.714182\n",
      "Early stopping, best iteration is:\n",
      "[6929]\tvalid_0's rmse: 0.714175\n",
      "Training until validation scores don't improve for 200 rounds\n",
      "[1000]\tvalid_0's rmse: 0.720691\n",
      "[2000]\tvalid_0's rmse: 0.717056\n",
      "[3000]\tvalid_0's rmse: 0.715312\n",
      "[4000]\tvalid_0's rmse: 0.714626\n",
      "[5000]\tvalid_0's rmse: 0.714392\n",
      "[6000]\tvalid_0's rmse: 0.714266\n",
      "[7000]\tvalid_0's rmse: 0.714214\n",
      "Early stopping, best iteration is:\n",
      "[6922]\tvalid_0's rmse: 0.714209\n"
     ]
    },
    {
     "name": "stderr",
     "output_type": "stream",
     "text": [
      "\u001b[32m[I 2021-08-21 03:13:36,999]\u001b[0m Trial 18 finished with value: 0.714093654226078 and parameters: {'reg_lambda': 6.604527076502143, 'reg_alpha': 36.76422437762635, 'subsample': 0.8477672788844244, 'colsample_bytree': 0.6808995110508105, 'learning_rate': 0.071345545898672, 'min_child_samples': 24, 'num_leaves': 26, 'max_depth': 2, 'max_bin': 750, 'cat_smooth': 88, 'cat_l2': 5.765911278328634}. Best is trial 12 with value: 0.714081271380416.\u001b[0m\n"
     ]
    },
    {
     "name": "stdout",
     "output_type": "stream",
     "text": [
      "Training until validation scores don't improve for 200 rounds\n",
      "[1000]\tvalid_0's rmse: 0.721057\n",
      "[2000]\tvalid_0's rmse: 0.717375\n",
      "[3000]\tvalid_0's rmse: 0.715789\n",
      "[4000]\tvalid_0's rmse: 0.714996\n",
      "[5000]\tvalid_0's rmse: 0.714631\n",
      "[6000]\tvalid_0's rmse: 0.714449\n",
      "[7000]\tvalid_0's rmse: 0.714362\n",
      "Early stopping, best iteration is:\n",
      "[7351]\tvalid_0's rmse: 0.714338\n",
      "Training until validation scores don't improve for 200 rounds\n",
      "[1000]\tvalid_0's rmse: 0.721154\n",
      "[2000]\tvalid_0's rmse: 0.717357\n",
      "[3000]\tvalid_0's rmse: 0.715713\n",
      "[4000]\tvalid_0's rmse: 0.71489\n",
      "[5000]\tvalid_0's rmse: 0.714483\n",
      "[6000]\tvalid_0's rmse: 0.714306\n",
      "[7000]\tvalid_0's rmse: 0.714223\n",
      "Early stopping, best iteration is:\n",
      "[7284]\tvalid_0's rmse: 0.7142\n"
     ]
    },
    {
     "name": "stderr",
     "output_type": "stream",
     "text": [
      "\u001b[32m[I 2021-08-21 03:15:58,000]\u001b[0m Trial 19 finished with value: 0.7141755595262351 and parameters: {'reg_lambda': 6.825116885582118, 'reg_alpha': 37.42848023697365, 'subsample': 0.8443848853742988, 'colsample_bytree': 0.6940063376302749, 'learning_rate': 0.06584650505909509, 'min_child_samples': 26, 'num_leaves': 20, 'max_depth': 2, 'max_bin': 732, 'cat_smooth': 91, 'cat_l2': 5.330781940229762}. Best is trial 12 with value: 0.714081271380416.\u001b[0m\n"
     ]
    },
    {
     "name": "stdout",
     "output_type": "stream",
     "text": [
      "Training until validation scores don't improve for 200 rounds\n",
      "[1000]\tvalid_0's rmse: 0.720874\n",
      "[2000]\tvalid_0's rmse: 0.717102\n",
      "[3000]\tvalid_0's rmse: 0.715409\n",
      "[4000]\tvalid_0's rmse: 0.714651\n",
      "[5000]\tvalid_0's rmse: 0.714334\n",
      "[6000]\tvalid_0's rmse: 0.714154\n",
      "[7000]\tvalid_0's rmse: 0.714069\n",
      "Early stopping, best iteration is:\n",
      "[7000]\tvalid_0's rmse: 0.714069\n",
      "Training until validation scores don't improve for 200 rounds\n",
      "[1000]\tvalid_0's rmse: 0.720948\n",
      "[2000]\tvalid_0's rmse: 0.71703\n",
      "[3000]\tvalid_0's rmse: 0.715473\n",
      "[4000]\tvalid_0's rmse: 0.714655\n",
      "[5000]\tvalid_0's rmse: 0.714343\n",
      "[6000]\tvalid_0's rmse: 0.714207\n",
      "Early stopping, best iteration is:\n",
      "[6722]\tvalid_0's rmse: 0.714136\n"
     ]
    },
    {
     "name": "stderr",
     "output_type": "stream",
     "text": [
      "\u001b[32m[I 2021-08-21 03:18:09,315]\u001b[0m Trial 20 finished with value: 0.714007381480075 and parameters: {'reg_lambda': 6.704369605378165, 'reg_alpha': 35.9392368710277, 'subsample': 0.8721997285333448, 'colsample_bytree': 0.6622645153830327, 'learning_rate': 0.06841807942492734, 'min_child_samples': 25, 'num_leaves': 23, 'max_depth': 2, 'max_bin': 747, 'cat_smooth': 89, 'cat_l2': 5.994307898874366}. Best is trial 20 with value: 0.714007381480075.\u001b[0m\n"
     ]
    },
    {
     "name": "stdout",
     "output_type": "stream",
     "text": [
      "Training until validation scores don't improve for 200 rounds\n",
      "[1000]\tvalid_0's rmse: 0.720683\n",
      "[2000]\tvalid_0's rmse: 0.717076\n",
      "[3000]\tvalid_0's rmse: 0.71541\n",
      "[4000]\tvalid_0's rmse: 0.714601\n",
      "[5000]\tvalid_0's rmse: 0.714272\n",
      "Early stopping, best iteration is:\n",
      "[5615]\tvalid_0's rmse: 0.71413\n",
      "Training until validation scores don't improve for 200 rounds\n",
      "[1000]\tvalid_0's rmse: 0.720927\n",
      "[2000]\tvalid_0's rmse: 0.717139\n",
      "[3000]\tvalid_0's rmse: 0.715498\n",
      "[4000]\tvalid_0's rmse: 0.714708\n",
      "[5000]\tvalid_0's rmse: 0.714392\n",
      "[6000]\tvalid_0's rmse: 0.714238\n",
      "[7000]\tvalid_0's rmse: 0.714183\n",
      "Early stopping, best iteration is:\n",
      "[7374]\tvalid_0's rmse: 0.714158\n"
     ]
    },
    {
     "name": "stderr",
     "output_type": "stream",
     "text": [
      "\u001b[32m[I 2021-08-21 03:20:11,515]\u001b[0m Trial 21 finished with value: 0.7140320332870725 and parameters: {'reg_lambda': 6.698534744033083, 'reg_alpha': 35.892721362537266, 'subsample': 0.8723270651189626, 'colsample_bytree': 0.6623238635757952, 'learning_rate': 0.06887645221916344, 'min_child_samples': 25, 'num_leaves': 23, 'max_depth': 2, 'max_bin': 747, 'cat_smooth': 89, 'cat_l2': 5.973588362260898}. Best is trial 20 with value: 0.714007381480075.\u001b[0m\n"
     ]
    },
    {
     "name": "stdout",
     "output_type": "stream",
     "text": [
      "Training until validation scores don't improve for 200 rounds\n",
      "[1000]\tvalid_0's rmse: 0.720664\n",
      "[2000]\tvalid_0's rmse: 0.716986\n",
      "[3000]\tvalid_0's rmse: 0.715384\n",
      "[4000]\tvalid_0's rmse: 0.714568\n",
      "[5000]\tvalid_0's rmse: 0.714272\n",
      "[6000]\tvalid_0's rmse: 0.714099\n",
      "[7000]\tvalid_0's rmse: 0.714012\n",
      "Early stopping, best iteration is:\n",
      "[7135]\tvalid_0's rmse: 0.714\n",
      "Training until validation scores don't improve for 200 rounds\n",
      "[1000]\tvalid_0's rmse: 0.72092\n",
      "[2000]\tvalid_0's rmse: 0.71727\n",
      "[3000]\tvalid_0's rmse: 0.715554\n",
      "[4000]\tvalid_0's rmse: 0.714792\n",
      "[5000]\tvalid_0's rmse: 0.714404\n",
      "[6000]\tvalid_0's rmse: 0.714249\n",
      "[7000]\tvalid_0's rmse: 0.714176\n",
      "Early stopping, best iteration is:\n",
      "[7626]\tvalid_0's rmse: 0.714157\n"
     ]
    },
    {
     "name": "stderr",
     "output_type": "stream",
     "text": [
      "\u001b[32m[I 2021-08-21 03:22:31,917]\u001b[0m Trial 22 finished with value: 0.7139793127526392 and parameters: {'reg_lambda': 6.609931804562087, 'reg_alpha': 35.89337620630626, 'subsample': 0.8737357601914469, 'colsample_bytree': 0.6612958156067924, 'learning_rate': 0.06767790040126322, 'min_child_samples': 25, 'num_leaves': 23, 'max_depth': 2, 'max_bin': 747, 'cat_smooth': 89, 'cat_l2': 5.885433554272715}. Best is trial 22 with value: 0.7139793127526392.\u001b[0m\n"
     ]
    },
    {
     "name": "stdout",
     "output_type": "stream",
     "text": [
      "Training until validation scores don't improve for 200 rounds\n",
      "[1000]\tvalid_0's rmse: 0.720615\n",
      "[2000]\tvalid_0's rmse: 0.717167\n",
      "[3000]\tvalid_0's rmse: 0.715459\n",
      "[4000]\tvalid_0's rmse: 0.714687\n",
      "[5000]\tvalid_0's rmse: 0.714325\n",
      "[6000]\tvalid_0's rmse: 0.714175\n",
      "Early stopping, best iteration is:\n",
      "[6724]\tvalid_0's rmse: 0.714104\n",
      "Training until validation scores don't improve for 200 rounds\n",
      "[1000]\tvalid_0's rmse: 0.720883\n",
      "[2000]\tvalid_0's rmse: 0.717136\n",
      "[3000]\tvalid_0's rmse: 0.715399\n",
      "[4000]\tvalid_0's rmse: 0.714691\n",
      "[5000]\tvalid_0's rmse: 0.714335\n",
      "[6000]\tvalid_0's rmse: 0.714205\n",
      "[7000]\tvalid_0's rmse: 0.714128\n",
      "Early stopping, best iteration is:\n",
      "[7081]\tvalid_0's rmse: 0.714121\n"
     ]
    },
    {
     "name": "stderr",
     "output_type": "stream",
     "text": [
      "\u001b[32m[I 2021-08-21 03:24:44,352]\u001b[0m Trial 23 finished with value: 0.7140163364989786 and parameters: {'reg_lambda': 6.896872020718579, 'reg_alpha': 35.85583758870463, 'subsample': 0.8749496446261755, 'colsample_bytree': 0.6617550206677685, 'learning_rate': 0.06856388239345414, 'min_child_samples': 25, 'num_leaves': 23, 'max_depth': 2, 'max_bin': 747, 'cat_smooth': 90, 'cat_l2': 5.471511422409701}. Best is trial 22 with value: 0.7139793127526392.\u001b[0m\n"
     ]
    },
    {
     "name": "stdout",
     "output_type": "stream",
     "text": [
      "Training until validation scores don't improve for 200 rounds\n",
      "[1000]\tvalid_0's rmse: 0.721561\n",
      "[2000]\tvalid_0's rmse: 0.717745\n",
      "[3000]\tvalid_0's rmse: 0.715889\n",
      "[4000]\tvalid_0's rmse: 0.714984\n",
      "[5000]\tvalid_0's rmse: 0.714554\n",
      "[6000]\tvalid_0's rmse: 0.714316\n",
      "Early stopping, best iteration is:\n",
      "[6733]\tvalid_0's rmse: 0.714259\n",
      "Training until validation scores don't improve for 200 rounds\n",
      "[1000]\tvalid_0's rmse: 0.721648\n",
      "[2000]\tvalid_0's rmse: 0.717734\n",
      "[3000]\tvalid_0's rmse: 0.716023\n",
      "[4000]\tvalid_0's rmse: 0.715101\n",
      "[5000]\tvalid_0's rmse: 0.714665\n",
      "[6000]\tvalid_0's rmse: 0.71444\n",
      "[7000]\tvalid_0's rmse: 0.714354\n",
      "Early stopping, best iteration is:\n",
      "[6941]\tvalid_0's rmse: 0.714351\n"
     ]
    },
    {
     "name": "stderr",
     "output_type": "stream",
     "text": [
      "\u001b[32m[I 2021-08-21 03:26:54,045]\u001b[0m Trial 24 finished with value: 0.7142204945423886 and parameters: {'reg_lambda': 6.901209409414016, 'reg_alpha': 35.919283679617706, 'subsample': 0.8736377210411502, 'colsample_bytree': 0.6531961506622663, 'learning_rate': 0.061619939576480216, 'min_child_samples': 24, 'num_leaves': 23, 'max_depth': 2, 'max_bin': 742, 'cat_smooth': 90, 'cat_l2': 5.417577278686151}. Best is trial 22 with value: 0.7139793127526392.\u001b[0m\n"
     ]
    },
    {
     "name": "stdout",
     "output_type": "stream",
     "text": [
      "Training until validation scores don't improve for 200 rounds\n",
      "[1000]\tvalid_0's rmse: 0.720832\n",
      "[2000]\tvalid_0's rmse: 0.717098\n",
      "[3000]\tvalid_0's rmse: 0.715461\n",
      "[4000]\tvalid_0's rmse: 0.714718\n",
      "[5000]\tvalid_0's rmse: 0.714343\n",
      "[6000]\tvalid_0's rmse: 0.714164\n",
      "[7000]\tvalid_0's rmse: 0.714096\n",
      "Early stopping, best iteration is:\n",
      "[7125]\tvalid_0's rmse: 0.714091\n",
      "Training until validation scores don't improve for 200 rounds\n",
      "[1000]\tvalid_0's rmse: 0.720957\n",
      "[2000]\tvalid_0's rmse: 0.717203\n",
      "[3000]\tvalid_0's rmse: 0.715556\n",
      "[4000]\tvalid_0's rmse: 0.714751\n",
      "[5000]\tvalid_0's rmse: 0.714383\n",
      "[6000]\tvalid_0's rmse: 0.714215\n",
      "Early stopping, best iteration is:\n",
      "[6467]\tvalid_0's rmse: 0.714161\n"
     ]
    },
    {
     "name": "stderr",
     "output_type": "stream",
     "text": [
      "\u001b[32m[I 2021-08-21 03:29:02,442]\u001b[0m Trial 25 finished with value: 0.7140281673507306 and parameters: {'reg_lambda': 6.891534610919295, 'reg_alpha': 35.49685200531406, 'subsample': 0.8704395663592696, 'colsample_bytree': 0.6611291627004622, 'learning_rate': 0.0673694288491911, 'min_child_samples': 25, 'num_leaves': 25, 'max_depth': 2, 'max_bin': 747, 'cat_smooth': 90, 'cat_l2': 5.594417788435411}. Best is trial 22 with value: 0.7139793127526392.\u001b[0m\n"
     ]
    },
    {
     "name": "stdout",
     "output_type": "stream",
     "text": [
      "Training until validation scores don't improve for 200 rounds\n",
      "[1000]\tvalid_0's rmse: 0.721169\n",
      "[2000]\tvalid_0's rmse: 0.717415\n",
      "[3000]\tvalid_0's rmse: 0.7158\n",
      "[4000]\tvalid_0's rmse: 0.714867\n",
      "[5000]\tvalid_0's rmse: 0.714507\n",
      "[6000]\tvalid_0's rmse: 0.71437\n",
      "Early stopping, best iteration is:\n",
      "[6720]\tvalid_0's rmse: 0.714287\n",
      "Training until validation scores don't improve for 200 rounds\n",
      "[1000]\tvalid_0's rmse: 0.721184\n",
      "[2000]\tvalid_0's rmse: 0.717469\n",
      "[3000]\tvalid_0's rmse: 0.715762\n",
      "[4000]\tvalid_0's rmse: 0.714916\n",
      "[5000]\tvalid_0's rmse: 0.714525\n",
      "[6000]\tvalid_0's rmse: 0.714353\n",
      "Early stopping, best iteration is:\n",
      "[6538]\tvalid_0's rmse: 0.71431\n"
     ]
    },
    {
     "name": "stderr",
     "output_type": "stream",
     "text": [
      "\u001b[32m[I 2021-08-21 03:31:09,562]\u001b[0m Trial 26 finished with value: 0.7142058597564799 and parameters: {'reg_lambda': 7.124363517557133, 'reg_alpha': 36.18549891143406, 'subsample': 0.8693129821250198, 'colsample_bytree': 0.6493119733495171, 'learning_rate': 0.06474669328866985, 'min_child_samples': 24, 'num_leaves': 23, 'max_depth': 2, 'max_bin': 741, 'cat_smooth': 91, 'cat_l2': 5.192200160530959}. Best is trial 22 with value: 0.7139793127526392.\u001b[0m\n"
     ]
    },
    {
     "name": "stdout",
     "output_type": "stream",
     "text": [
      "Training until validation scores don't improve for 200 rounds\n",
      "[1000]\tvalid_0's rmse: 0.72092\n",
      "[2000]\tvalid_0's rmse: 0.717201\n",
      "[3000]\tvalid_0's rmse: 0.715607\n",
      "[4000]\tvalid_0's rmse: 0.71488\n",
      "[5000]\tvalid_0's rmse: 0.714496\n",
      "[6000]\tvalid_0's rmse: 0.714381\n",
      "[7000]\tvalid_0's rmse: 0.714293\n",
      "Early stopping, best iteration is:\n",
      "[7160]\tvalid_0's rmse: 0.714278\n",
      "Training until validation scores don't improve for 200 rounds\n",
      "[1000]\tvalid_0's rmse: 0.720868\n",
      "[2000]\tvalid_0's rmse: 0.717206\n",
      "[3000]\tvalid_0's rmse: 0.715509\n",
      "[4000]\tvalid_0's rmse: 0.714761\n",
      "[5000]\tvalid_0's rmse: 0.714406\n",
      "Early stopping, best iteration is:\n",
      "[5603]\tvalid_0's rmse: 0.714304\n"
     ]
    },
    {
     "name": "stderr",
     "output_type": "stream",
     "text": [
      "\u001b[32m[I 2021-08-21 03:33:11,215]\u001b[0m Trial 27 finished with value: 0.7141810899723732 and parameters: {'reg_lambda': 6.717621578854126, 'reg_alpha': 35.206113426541336, 'subsample': 0.8742902928948034, 'colsample_bytree': 0.6599479563321384, 'learning_rate': 0.06817212988918453, 'min_child_samples': 25, 'num_leaves': 25, 'max_depth': 2, 'max_bin': 745, 'cat_smooth': 90, 'cat_l2': 5.77544380983315}. Best is trial 22 with value: 0.7139793127526392.\u001b[0m\n"
     ]
    },
    {
     "name": "stdout",
     "output_type": "stream",
     "text": [
      "Training until validation scores don't improve for 200 rounds\n",
      "[1000]\tvalid_0's rmse: 0.720993\n",
      "[2000]\tvalid_0's rmse: 0.717265\n",
      "[3000]\tvalid_0's rmse: 0.715578\n",
      "[4000]\tvalid_0's rmse: 0.714721\n",
      "[5000]\tvalid_0's rmse: 0.714309\n",
      "[6000]\tvalid_0's rmse: 0.714101\n",
      "Early stopping, best iteration is:\n",
      "[6587]\tvalid_0's rmse: 0.714031\n",
      "Training until validation scores don't improve for 200 rounds\n",
      "[1000]\tvalid_0's rmse: 0.721187\n",
      "[2000]\tvalid_0's rmse: 0.717505\n",
      "[3000]\tvalid_0's rmse: 0.715776\n",
      "[4000]\tvalid_0's rmse: 0.714898\n",
      "[5000]\tvalid_0's rmse: 0.714492\n",
      "[6000]\tvalid_0's rmse: 0.714351\n",
      "[7000]\tvalid_0's rmse: 0.714292\n",
      "Early stopping, best iteration is:\n",
      "[6811]\tvalid_0's rmse: 0.714289\n"
     ]
    },
    {
     "name": "stderr",
     "output_type": "stream",
     "text": [
      "\u001b[32m[I 2021-08-21 03:35:18,087]\u001b[0m Trial 28 finished with value: 0.7140684064247501 and parameters: {'reg_lambda': 6.855126036474554, 'reg_alpha': 35.62485319025951, 'subsample': 0.8746495151598167, 'colsample_bytree': 0.6527820812378021, 'learning_rate': 0.0652054076536791, 'min_child_samples': 25, 'num_leaves': 23, 'max_depth': 2, 'max_bin': 749, 'cat_smooth': 88, 'cat_l2': 5.438983341097058}. Best is trial 22 with value: 0.7139793127526392.\u001b[0m\n"
     ]
    },
    {
     "name": "stdout",
     "output_type": "stream",
     "text": [
      "Training until validation scores don't improve for 200 rounds\n",
      "[1000]\tvalid_0's rmse: 0.717088\n",
      "[2000]\tvalid_0's rmse: 0.715113\n",
      "[3000]\tvalid_0's rmse: 0.714682\n",
      "Early stopping, best iteration is:\n",
      "[3173]\tvalid_0's rmse: 0.71465\n",
      "Training until validation scores don't improve for 200 rounds\n",
      "[1000]\tvalid_0's rmse: 0.717044\n",
      "[2000]\tvalid_0's rmse: 0.714959\n",
      "[3000]\tvalid_0's rmse: 0.714587\n",
      "Early stopping, best iteration is:\n",
      "[3214]\tvalid_0's rmse: 0.714522\n"
     ]
    },
    {
     "name": "stderr",
     "output_type": "stream",
     "text": [
      "\u001b[32m[I 2021-08-21 03:36:36,290]\u001b[0m Trial 29 finished with value: 0.7144388541484309 and parameters: {'reg_lambda': 7.785765097700414, 'reg_alpha': 36.33867180724996, 'subsample': 0.8661534137571989, 'colsample_bytree': 0.6457114939654622, 'learning_rate': 0.06898861926858153, 'min_child_samples': 24, 'num_leaves': 21, 'max_depth': 3, 'max_bin': 739, 'cat_smooth': 90, 'cat_l2': 5.746910227747635}. Best is trial 22 with value: 0.7139793127526392.\u001b[0m\n"
     ]
    },
    {
     "name": "stdout",
     "output_type": "stream",
     "text": [
      "Number of finished trials: 30\n",
      "Best trial: {'reg_lambda': 6.609931804562087, 'reg_alpha': 35.89337620630626, 'subsample': 0.8737357601914469, 'colsample_bytree': 0.6612958156067924, 'learning_rate': 0.06767790040126322, 'min_child_samples': 25, 'num_leaves': 23, 'max_depth': 2, 'max_bin': 747, 'cat_smooth': 89, 'cat_l2': 5.885433554272715}\n"
     ]
    }
   ],
   "source": [
    "study = optuna.create_study(direction='minimize')\n",
    "study.optimize(objective,n_trials= 30)\n",
    "print('Number of finished trials:', len(study.trials))\n",
    "print('Best trial:', study.best_trial.params)"
   ]
  },
  {
   "cell_type": "code",
   "execution_count": 13,
   "id": "0480b568",
   "metadata": {
    "execution": {
     "iopub.execute_input": "2021-08-21T03:36:36.644754Z",
     "iopub.status.busy": "2021-08-21T03:36:36.644111Z",
     "iopub.status.idle": "2021-08-21T03:36:36.648333Z",
     "shell.execute_reply": "2021-08-21T03:36:36.647756Z"
    },
    "papermill": {
     "duration": 0.174771,
     "end_time": "2021-08-21T03:36:36.648489",
     "exception": false,
     "start_time": "2021-08-21T03:36:36.473718",
     "status": "completed"
    },
    "tags": []
   },
   "outputs": [
    {
     "data": {
      "text/plain": [
       "{'reg_lambda': 6.609931804562087,\n",
       " 'reg_alpha': 35.89337620630626,\n",
       " 'subsample': 0.8737357601914469,\n",
       " 'colsample_bytree': 0.6612958156067924,\n",
       " 'learning_rate': 0.06767790040126322,\n",
       " 'min_child_samples': 25,\n",
       " 'num_leaves': 23,\n",
       " 'max_depth': 2,\n",
       " 'max_bin': 747,\n",
       " 'cat_smooth': 89,\n",
       " 'cat_l2': 5.885433554272715}"
      ]
     },
     "execution_count": 13,
     "metadata": {},
     "output_type": "execute_result"
    }
   ],
   "source": [
    "study.best_params"
   ]
  },
  {
   "cell_type": "markdown",
   "id": "512d24cc",
   "metadata": {
    "papermill": {
     "duration": 0.167758,
     "end_time": "2021-08-21T03:36:36.983975",
     "exception": false,
     "start_time": "2021-08-21T03:36:36.816217",
     "status": "completed"
    },
    "tags": []
   },
   "source": [
    "# Log\n",
    "\n",
    "====== Ordinal encoding =========\n",
    "\n",
    "0.7179915711010899 row-wise noise ver4\n",
    "\n",
    "0.7180313553153085 random noise ver5\n",
    "\n",
    "0.7145452167048295 no noise ver6\n",
    "\n",
    "0.7143969338945801 no noise ver10 (narrow space)\n",
    "\n",
    "0.7141318460599843 no noise ver11 (narrow space)\n",
    "\n",
    "0.7140261333995335 no noise ver12 (narrow space)\n",
    "\n",
    "====== One-hot encoding =========\n",
    "\n",
    "0.7242254028037789 no noise ver7\n",
    "\n",
    "0.7264762744397595 random noise ver8\n",
    "\n",
    "0.7265375795882082 row-wise noise ver9\n",
    "\n",
    "\n"
   ]
  }
 ],
 "metadata": {
  "kernelspec": {
   "display_name": "Python 3",
   "language": "python",
   "name": "python3"
  },
  "language_info": {
   "codemirror_mode": {
    "name": "ipython",
    "version": 3
   },
   "file_extension": ".py",
   "mimetype": "text/x-python",
   "name": "python",
   "nbconvert_exporter": "python",
   "pygments_lexer": "ipython3",
   "version": "3.7.10"
  },
  "papermill": {
   "default_parameters": {},
   "duration": 3621.178074,
   "end_time": "2021-08-21T03:36:38.656439",
   "environment_variables": {},
   "exception": null,
   "input_path": "__notebook__.ipynb",
   "output_path": "__notebook__.ipynb",
   "parameters": {},
   "start_time": "2021-08-21T02:36:17.478365",
   "version": "2.3.3"
  }
 },
 "nbformat": 4,
 "nbformat_minor": 5
}
