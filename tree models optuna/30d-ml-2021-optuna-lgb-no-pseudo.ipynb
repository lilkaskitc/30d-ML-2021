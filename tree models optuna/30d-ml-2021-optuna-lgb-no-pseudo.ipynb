{
 "cells": [
  {
   "cell_type": "code",
   "execution_count": 1,
   "id": "adcfdc96",
   "metadata": {
    "_cell_guid": "b1076dfc-b9ad-4769-8c92-a6c4dae69d19",
    "_uuid": "8f2839f25d086af736a60e9eeb907d3b93b6e0e5",
    "execution": {
     "iopub.execute_input": "2021-08-29T14:01:00.513176Z",
     "iopub.status.busy": "2021-08-29T14:01:00.511965Z",
     "iopub.status.idle": "2021-08-29T14:01:02.687269Z",
     "shell.execute_reply": "2021-08-29T14:01:02.686373Z",
     "shell.execute_reply.started": "2021-08-20T06:47:53.699459Z"
    },
    "papermill": {
     "duration": 2.194532,
     "end_time": "2021-08-29T14:01:02.687464",
     "exception": false,
     "start_time": "2021-08-29T14:01:00.492932",
     "status": "completed"
    },
    "tags": []
   },
   "outputs": [
    {
     "data": {
      "text/html": [
       "<style type='text/css'>\n",
       ".datatable table.frame { margin-bottom: 0; }\n",
       ".datatable table.frame thead { border-bottom: none; }\n",
       ".datatable table.frame tr.coltypes td {  color: #FFFFFF;  line-height: 6px;  padding: 0 0.5em;}\n",
       ".datatable .bool    { background: #DDDD99; }\n",
       ".datatable .object  { background: #565656; }\n",
       ".datatable .int     { background: #5D9E5D; }\n",
       ".datatable .float   { background: #4040CC; }\n",
       ".datatable .str     { background: #CC4040; }\n",
       ".datatable .time    { background: #40CC40; }\n",
       ".datatable .row_index {  background: var(--jp-border-color3);  border-right: 1px solid var(--jp-border-color0);  color: var(--jp-ui-font-color3);  font-size: 9px;}\n",
       ".datatable .frame tbody td { text-align: left; }\n",
       ".datatable .frame tr.coltypes .row_index {  background: var(--jp-border-color0);}\n",
       ".datatable th:nth-child(2) { padding-left: 12px; }\n",
       ".datatable .hellipsis {  color: var(--jp-cell-editor-border-color);}\n",
       ".datatable .vellipsis {  background: var(--jp-layout-color0);  color: var(--jp-cell-editor-border-color);}\n",
       ".datatable .na {  color: var(--jp-cell-editor-border-color);  font-size: 80%;}\n",
       ".datatable .sp {  opacity: 0.25;}\n",
       ".datatable .footer { font-size: 9px; }\n",
       ".datatable .frame_dimensions {  background: var(--jp-border-color3);  border-top: 1px solid var(--jp-border-color0);  color: var(--jp-ui-font-color3);  display: inline-block;  opacity: 0.6;  padding: 1px 10px 1px 5px;}\n",
       "</style>\n"
      ],
      "text/plain": [
       "<IPython.core.display.HTML object>"
      ]
     },
     "metadata": {},
     "output_type": "display_data"
    }
   ],
   "source": [
    "# Familiar imports\n",
    "import numpy as np\n",
    "import pandas as pd\n",
    "import random\n",
    "import os\n",
    "import time\n",
    "from pathlib import Path\n",
    "\n",
    "from sklearn.preprocessing import StandardScaler\n",
    "from sklearn.model_selection import KFold, train_test_split\n",
    "from sklearn.metrics import mean_squared_error\n",
    "from sklearn.preprocessing import OrdinalEncoder, OneHotEncoder\n",
    "\n",
    "import lightgbm as lgb\n",
    "#import xgboost as xgb\n",
    "#import catboost as ctb\n",
    "\n",
    "import warnings\n",
    "warnings.simplefilter('ignore')"
   ]
  },
  {
   "cell_type": "markdown",
   "id": "9f11b875",
   "metadata": {
    "papermill": {
     "duration": 0.014424,
     "end_time": "2021-08-29T14:01:02.717974",
     "exception": false,
     "start_time": "2021-08-29T14:01:02.703550",
     "status": "completed"
    },
    "tags": []
   },
   "source": [
    "# Parameters"
   ]
  },
  {
   "cell_type": "code",
   "execution_count": 2,
   "id": "b81090f5",
   "metadata": {
    "execution": {
     "iopub.execute_input": "2021-08-29T14:01:02.754598Z",
     "iopub.status.busy": "2021-08-29T14:01:02.753913Z",
     "iopub.status.idle": "2021-08-29T14:01:02.757197Z",
     "shell.execute_reply": "2021-08-29T14:01:02.756702Z",
     "shell.execute_reply.started": "2021-08-20T06:47:53.708447Z"
    },
    "papermill": {
     "duration": 0.024563,
     "end_time": "2021-08-29T14:01:02.757348",
     "exception": false,
     "start_time": "2021-08-29T14:01:02.732785",
     "status": "completed"
    },
    "tags": []
   },
   "outputs": [],
   "source": [
    "target = 'target'\n",
    "\n",
    "DEBUG = False\n",
    "\n",
    "if DEBUG:\n",
    "    N_ESTIMATORS = 1\n",
    "    N_SPLITS = 2\n",
    "    SEED = 17\n",
    "    CVSEED = 17\n",
    "    EARLY_STOPPING_ROUNDS = 1\n",
    "    VERBOSE = 100\n",
    "    #N_ITERS = 2\n",
    "else:\n",
    "    N_SPLITS = 10\n",
    "    N_ESTIMATORS = 20000\n",
    "    EARLY_STOPPING_ROUNDS = 200\n",
    "    VERBOSE = 1000\n",
    "    SEED = 17\n",
    "    CVSEED = 17\n",
    "    #N_ITERS = 10"
   ]
  },
  {
   "cell_type": "code",
   "execution_count": 3,
   "id": "82a0e3ed",
   "metadata": {
    "execution": {
     "iopub.execute_input": "2021-08-29T14:01:02.793037Z",
     "iopub.status.busy": "2021-08-29T14:01:02.792392Z",
     "iopub.status.idle": "2021-08-29T14:01:02.795796Z",
     "shell.execute_reply": "2021-08-29T14:01:02.795231Z",
     "shell.execute_reply.started": "2021-08-20T06:47:53.732547Z"
    },
    "papermill": {
     "duration": 0.023775,
     "end_time": "2021-08-29T14:01:02.795961",
     "exception": false,
     "start_time": "2021-08-29T14:01:02.772186",
     "status": "completed"
    },
    "tags": []
   },
   "outputs": [],
   "source": [
    "def set_seed(seed=17):\n",
    "    random.seed(seed)\n",
    "    os.environ['PYTHONHASHSEED'] = str(seed)\n",
    "    np.random.seed(seed)\n",
    "    \n",
    "set_seed(SEED)"
   ]
  },
  {
   "cell_type": "markdown",
   "id": "650cefe7",
   "metadata": {
    "papermill": {
     "duration": 0.014704,
     "end_time": "2021-08-29T14:01:02.825373",
     "exception": false,
     "start_time": "2021-08-29T14:01:02.810669",
     "status": "completed"
    },
    "tags": []
   },
   "source": [
    "# Load data"
   ]
  },
  {
   "cell_type": "code",
   "execution_count": 4,
   "id": "6f58fda2",
   "metadata": {
    "execution": {
     "iopub.execute_input": "2021-08-29T14:01:02.860729Z",
     "iopub.status.busy": "2021-08-29T14:01:02.859694Z",
     "iopub.status.idle": "2021-08-29T14:01:07.161108Z",
     "shell.execute_reply": "2021-08-29T14:01:07.161682Z",
     "shell.execute_reply.started": "2021-08-20T06:47:53.744252Z"
    },
    "papermill": {
     "duration": 4.321257,
     "end_time": "2021-08-29T14:01:07.161879",
     "exception": false,
     "start_time": "2021-08-29T14:01:02.840622",
     "status": "completed"
    },
    "tags": []
   },
   "outputs": [
    {
     "data": {
      "text/html": [
       "<div>\n",
       "<style scoped>\n",
       "    .dataframe tbody tr th:only-of-type {\n",
       "        vertical-align: middle;\n",
       "    }\n",
       "\n",
       "    .dataframe tbody tr th {\n",
       "        vertical-align: top;\n",
       "    }\n",
       "\n",
       "    .dataframe thead th {\n",
       "        text-align: right;\n",
       "    }\n",
       "</style>\n",
       "<table border=\"1\" class=\"dataframe\">\n",
       "  <thead>\n",
       "    <tr style=\"text-align: right;\">\n",
       "      <th></th>\n",
       "      <th>id</th>\n",
       "      <th>cat0</th>\n",
       "      <th>cat1</th>\n",
       "      <th>cat2</th>\n",
       "      <th>cat3</th>\n",
       "      <th>cat4</th>\n",
       "      <th>cat5</th>\n",
       "      <th>cat6</th>\n",
       "      <th>cat7</th>\n",
       "      <th>cat8</th>\n",
       "      <th>...</th>\n",
       "      <th>cont5</th>\n",
       "      <th>cont6</th>\n",
       "      <th>cont7</th>\n",
       "      <th>cont8</th>\n",
       "      <th>cont9</th>\n",
       "      <th>cont10</th>\n",
       "      <th>cont11</th>\n",
       "      <th>cont12</th>\n",
       "      <th>cont13</th>\n",
       "      <th>target</th>\n",
       "    </tr>\n",
       "  </thead>\n",
       "  <tbody>\n",
       "    <tr>\n",
       "      <th>0</th>\n",
       "      <td>1</td>\n",
       "      <td>B</td>\n",
       "      <td>B</td>\n",
       "      <td>B</td>\n",
       "      <td>C</td>\n",
       "      <td>B</td>\n",
       "      <td>B</td>\n",
       "      <td>A</td>\n",
       "      <td>E</td>\n",
       "      <td>C</td>\n",
       "      <td>...</td>\n",
       "      <td>0.400361</td>\n",
       "      <td>0.160266</td>\n",
       "      <td>0.310921</td>\n",
       "      <td>0.389470</td>\n",
       "      <td>0.267559</td>\n",
       "      <td>0.237281</td>\n",
       "      <td>0.377873</td>\n",
       "      <td>0.322401</td>\n",
       "      <td>0.869850</td>\n",
       "      <td>8.113634</td>\n",
       "    </tr>\n",
       "    <tr>\n",
       "      <th>1</th>\n",
       "      <td>2</td>\n",
       "      <td>B</td>\n",
       "      <td>B</td>\n",
       "      <td>A</td>\n",
       "      <td>A</td>\n",
       "      <td>B</td>\n",
       "      <td>D</td>\n",
       "      <td>A</td>\n",
       "      <td>F</td>\n",
       "      <td>A</td>\n",
       "      <td>...</td>\n",
       "      <td>0.533087</td>\n",
       "      <td>0.558922</td>\n",
       "      <td>0.516294</td>\n",
       "      <td>0.594928</td>\n",
       "      <td>0.341439</td>\n",
       "      <td>0.906013</td>\n",
       "      <td>0.921701</td>\n",
       "      <td>0.261975</td>\n",
       "      <td>0.465083</td>\n",
       "      <td>8.481233</td>\n",
       "    </tr>\n",
       "    <tr>\n",
       "      <th>2</th>\n",
       "      <td>3</td>\n",
       "      <td>A</td>\n",
       "      <td>A</td>\n",
       "      <td>A</td>\n",
       "      <td>C</td>\n",
       "      <td>B</td>\n",
       "      <td>D</td>\n",
       "      <td>A</td>\n",
       "      <td>D</td>\n",
       "      <td>A</td>\n",
       "      <td>...</td>\n",
       "      <td>0.650609</td>\n",
       "      <td>0.375348</td>\n",
       "      <td>0.902567</td>\n",
       "      <td>0.555205</td>\n",
       "      <td>0.843531</td>\n",
       "      <td>0.748809</td>\n",
       "      <td>0.620126</td>\n",
       "      <td>0.541474</td>\n",
       "      <td>0.763846</td>\n",
       "      <td>8.364351</td>\n",
       "    </tr>\n",
       "    <tr>\n",
       "      <th>3</th>\n",
       "      <td>4</td>\n",
       "      <td>B</td>\n",
       "      <td>B</td>\n",
       "      <td>A</td>\n",
       "      <td>C</td>\n",
       "      <td>B</td>\n",
       "      <td>D</td>\n",
       "      <td>A</td>\n",
       "      <td>E</td>\n",
       "      <td>C</td>\n",
       "      <td>...</td>\n",
       "      <td>0.668980</td>\n",
       "      <td>0.239061</td>\n",
       "      <td>0.732948</td>\n",
       "      <td>0.679618</td>\n",
       "      <td>0.574844</td>\n",
       "      <td>0.346010</td>\n",
       "      <td>0.714610</td>\n",
       "      <td>0.540150</td>\n",
       "      <td>0.280682</td>\n",
       "      <td>8.049253</td>\n",
       "    </tr>\n",
       "    <tr>\n",
       "      <th>4</th>\n",
       "      <td>6</td>\n",
       "      <td>A</td>\n",
       "      <td>A</td>\n",
       "      <td>A</td>\n",
       "      <td>C</td>\n",
       "      <td>B</td>\n",
       "      <td>D</td>\n",
       "      <td>A</td>\n",
       "      <td>E</td>\n",
       "      <td>A</td>\n",
       "      <td>...</td>\n",
       "      <td>0.686964</td>\n",
       "      <td>0.420667</td>\n",
       "      <td>0.648182</td>\n",
       "      <td>0.684501</td>\n",
       "      <td>0.956692</td>\n",
       "      <td>1.000773</td>\n",
       "      <td>0.776742</td>\n",
       "      <td>0.625849</td>\n",
       "      <td>0.250823</td>\n",
       "      <td>7.972260</td>\n",
       "    </tr>\n",
       "  </tbody>\n",
       "</table>\n",
       "<p>5 rows × 26 columns</p>\n",
       "</div>"
      ],
      "text/plain": [
       "   id cat0 cat1 cat2 cat3 cat4 cat5 cat6 cat7 cat8  ...     cont5     cont6  \\\n",
       "0   1    B    B    B    C    B    B    A    E    C  ...  0.400361  0.160266   \n",
       "1   2    B    B    A    A    B    D    A    F    A  ...  0.533087  0.558922   \n",
       "2   3    A    A    A    C    B    D    A    D    A  ...  0.650609  0.375348   \n",
       "3   4    B    B    A    C    B    D    A    E    C  ...  0.668980  0.239061   \n",
       "4   6    A    A    A    C    B    D    A    E    A  ...  0.686964  0.420667   \n",
       "\n",
       "      cont7     cont8     cont9    cont10    cont11    cont12    cont13  \\\n",
       "0  0.310921  0.389470  0.267559  0.237281  0.377873  0.322401  0.869850   \n",
       "1  0.516294  0.594928  0.341439  0.906013  0.921701  0.261975  0.465083   \n",
       "2  0.902567  0.555205  0.843531  0.748809  0.620126  0.541474  0.763846   \n",
       "3  0.732948  0.679618  0.574844  0.346010  0.714610  0.540150  0.280682   \n",
       "4  0.648182  0.684501  0.956692  1.000773  0.776742  0.625849  0.250823   \n",
       "\n",
       "     target  \n",
       "0  8.113634  \n",
       "1  8.481233  \n",
       "2  8.364351  \n",
       "3  8.049253  \n",
       "4  7.972260  \n",
       "\n",
       "[5 rows x 26 columns]"
      ]
     },
     "execution_count": 4,
     "metadata": {},
     "output_type": "execute_result"
    }
   ],
   "source": [
    "# Load the training data\n",
    "train = pd.read_csv(\"../input/30-days-of-ml/train.csv\")\n",
    "test = pd.read_csv(\"../input/30-days-of-ml/test.csv\")\n",
    "\n",
    "# Preview the data\n",
    "train.head()"
   ]
  },
  {
   "cell_type": "code",
   "execution_count": 5,
   "id": "61994da3",
   "metadata": {
    "execution": {
     "iopub.execute_input": "2021-08-29T14:01:07.196820Z",
     "iopub.status.busy": "2021-08-29T14:01:07.195750Z",
     "iopub.status.idle": "2021-08-29T14:01:07.272679Z",
     "shell.execute_reply": "2021-08-29T14:01:07.273235Z",
     "shell.execute_reply.started": "2021-08-20T06:47:56.421501Z"
    },
    "papermill": {
     "duration": 0.096095,
     "end_time": "2021-08-29T14:01:07.273427",
     "exception": false,
     "start_time": "2021-08-29T14:01:07.177332",
     "status": "completed"
    },
    "tags": []
   },
   "outputs": [
    {
     "data": {
      "text/html": [
       "<div>\n",
       "<style scoped>\n",
       "    .dataframe tbody tr th:only-of-type {\n",
       "        vertical-align: middle;\n",
       "    }\n",
       "\n",
       "    .dataframe tbody tr th {\n",
       "        vertical-align: top;\n",
       "    }\n",
       "\n",
       "    .dataframe thead th {\n",
       "        text-align: right;\n",
       "    }\n",
       "</style>\n",
       "<table border=\"1\" class=\"dataframe\">\n",
       "  <thead>\n",
       "    <tr style=\"text-align: right;\">\n",
       "      <th></th>\n",
       "      <th>cat0</th>\n",
       "      <th>cat1</th>\n",
       "      <th>cat2</th>\n",
       "      <th>cat3</th>\n",
       "      <th>cat4</th>\n",
       "      <th>cat5</th>\n",
       "      <th>cat6</th>\n",
       "      <th>cat7</th>\n",
       "      <th>cat8</th>\n",
       "      <th>cat9</th>\n",
       "      <th>...</th>\n",
       "      <th>cont4</th>\n",
       "      <th>cont5</th>\n",
       "      <th>cont6</th>\n",
       "      <th>cont7</th>\n",
       "      <th>cont8</th>\n",
       "      <th>cont9</th>\n",
       "      <th>cont10</th>\n",
       "      <th>cont11</th>\n",
       "      <th>cont12</th>\n",
       "      <th>cont13</th>\n",
       "    </tr>\n",
       "  </thead>\n",
       "  <tbody>\n",
       "    <tr>\n",
       "      <th>0</th>\n",
       "      <td>B</td>\n",
       "      <td>B</td>\n",
       "      <td>B</td>\n",
       "      <td>C</td>\n",
       "      <td>B</td>\n",
       "      <td>B</td>\n",
       "      <td>A</td>\n",
       "      <td>E</td>\n",
       "      <td>C</td>\n",
       "      <td>N</td>\n",
       "      <td>...</td>\n",
       "      <td>0.610706</td>\n",
       "      <td>0.400361</td>\n",
       "      <td>0.160266</td>\n",
       "      <td>0.310921</td>\n",
       "      <td>0.389470</td>\n",
       "      <td>0.267559</td>\n",
       "      <td>0.237281</td>\n",
       "      <td>0.377873</td>\n",
       "      <td>0.322401</td>\n",
       "      <td>0.869850</td>\n",
       "    </tr>\n",
       "    <tr>\n",
       "      <th>1</th>\n",
       "      <td>B</td>\n",
       "      <td>B</td>\n",
       "      <td>A</td>\n",
       "      <td>A</td>\n",
       "      <td>B</td>\n",
       "      <td>D</td>\n",
       "      <td>A</td>\n",
       "      <td>F</td>\n",
       "      <td>A</td>\n",
       "      <td>O</td>\n",
       "      <td>...</td>\n",
       "      <td>0.276853</td>\n",
       "      <td>0.533087</td>\n",
       "      <td>0.558922</td>\n",
       "      <td>0.516294</td>\n",
       "      <td>0.594928</td>\n",
       "      <td>0.341439</td>\n",
       "      <td>0.906013</td>\n",
       "      <td>0.921701</td>\n",
       "      <td>0.261975</td>\n",
       "      <td>0.465083</td>\n",
       "    </tr>\n",
       "    <tr>\n",
       "      <th>2</th>\n",
       "      <td>A</td>\n",
       "      <td>A</td>\n",
       "      <td>A</td>\n",
       "      <td>C</td>\n",
       "      <td>B</td>\n",
       "      <td>D</td>\n",
       "      <td>A</td>\n",
       "      <td>D</td>\n",
       "      <td>A</td>\n",
       "      <td>F</td>\n",
       "      <td>...</td>\n",
       "      <td>0.285074</td>\n",
       "      <td>0.650609</td>\n",
       "      <td>0.375348</td>\n",
       "      <td>0.902567</td>\n",
       "      <td>0.555205</td>\n",
       "      <td>0.843531</td>\n",
       "      <td>0.748809</td>\n",
       "      <td>0.620126</td>\n",
       "      <td>0.541474</td>\n",
       "      <td>0.763846</td>\n",
       "    </tr>\n",
       "    <tr>\n",
       "      <th>3</th>\n",
       "      <td>B</td>\n",
       "      <td>B</td>\n",
       "      <td>A</td>\n",
       "      <td>C</td>\n",
       "      <td>B</td>\n",
       "      <td>D</td>\n",
       "      <td>A</td>\n",
       "      <td>E</td>\n",
       "      <td>C</td>\n",
       "      <td>K</td>\n",
       "      <td>...</td>\n",
       "      <td>0.284667</td>\n",
       "      <td>0.668980</td>\n",
       "      <td>0.239061</td>\n",
       "      <td>0.732948</td>\n",
       "      <td>0.679618</td>\n",
       "      <td>0.574844</td>\n",
       "      <td>0.346010</td>\n",
       "      <td>0.714610</td>\n",
       "      <td>0.540150</td>\n",
       "      <td>0.280682</td>\n",
       "    </tr>\n",
       "    <tr>\n",
       "      <th>4</th>\n",
       "      <td>A</td>\n",
       "      <td>A</td>\n",
       "      <td>A</td>\n",
       "      <td>C</td>\n",
       "      <td>B</td>\n",
       "      <td>D</td>\n",
       "      <td>A</td>\n",
       "      <td>E</td>\n",
       "      <td>A</td>\n",
       "      <td>N</td>\n",
       "      <td>...</td>\n",
       "      <td>0.287595</td>\n",
       "      <td>0.686964</td>\n",
       "      <td>0.420667</td>\n",
       "      <td>0.648182</td>\n",
       "      <td>0.684501</td>\n",
       "      <td>0.956692</td>\n",
       "      <td>1.000773</td>\n",
       "      <td>0.776742</td>\n",
       "      <td>0.625849</td>\n",
       "      <td>0.250823</td>\n",
       "    </tr>\n",
       "  </tbody>\n",
       "</table>\n",
       "<p>5 rows × 24 columns</p>\n",
       "</div>"
      ],
      "text/plain": [
       "  cat0 cat1 cat2 cat3 cat4 cat5 cat6 cat7 cat8 cat9  ...     cont4     cont5  \\\n",
       "0    B    B    B    C    B    B    A    E    C    N  ...  0.610706  0.400361   \n",
       "1    B    B    A    A    B    D    A    F    A    O  ...  0.276853  0.533087   \n",
       "2    A    A    A    C    B    D    A    D    A    F  ...  0.285074  0.650609   \n",
       "3    B    B    A    C    B    D    A    E    C    K  ...  0.284667  0.668980   \n",
       "4    A    A    A    C    B    D    A    E    A    N  ...  0.287595  0.686964   \n",
       "\n",
       "      cont6     cont7     cont8     cont9    cont10    cont11    cont12  \\\n",
       "0  0.160266  0.310921  0.389470  0.267559  0.237281  0.377873  0.322401   \n",
       "1  0.558922  0.516294  0.594928  0.341439  0.906013  0.921701  0.261975   \n",
       "2  0.375348  0.902567  0.555205  0.843531  0.748809  0.620126  0.541474   \n",
       "3  0.239061  0.732948  0.679618  0.574844  0.346010  0.714610  0.540150   \n",
       "4  0.420667  0.648182  0.684501  0.956692  1.000773  0.776742  0.625849   \n",
       "\n",
       "     cont13  \n",
       "0  0.869850  \n",
       "1  0.465083  \n",
       "2  0.763846  \n",
       "3  0.280682  \n",
       "4  0.250823  \n",
       "\n",
       "[5 rows x 24 columns]"
      ]
     },
     "execution_count": 5,
     "metadata": {},
     "output_type": "execute_result"
    }
   ],
   "source": [
    "# Separate target from features\n",
    "y = train['target']\n",
    "features = train.drop(['id','target'], axis=1)\n",
    "\n",
    "# Preview features\n",
    "features.head()"
   ]
  },
  {
   "cell_type": "markdown",
   "id": "d68e5614",
   "metadata": {
    "papermill": {
     "duration": 0.01582,
     "end_time": "2021-08-29T14:01:07.305195",
     "exception": false,
     "start_time": "2021-08-29T14:01:07.289375",
     "status": "completed"
    },
    "tags": []
   },
   "source": [
    "# Preprocessing"
   ]
  },
  {
   "cell_type": "code",
   "execution_count": 6,
   "id": "54bd5eb1",
   "metadata": {
    "execution": {
     "iopub.execute_input": "2021-08-29T14:01:07.340385Z",
     "iopub.status.busy": "2021-08-29T14:01:07.339681Z",
     "iopub.status.idle": "2021-08-29T14:01:07.344744Z",
     "shell.execute_reply": "2021-08-29T14:01:07.345304Z",
     "shell.execute_reply.started": "2021-08-20T06:47:56.492387Z"
    },
    "papermill": {
     "duration": 0.024286,
     "end_time": "2021-08-29T14:01:07.345481",
     "exception": false,
     "start_time": "2021-08-29T14:01:07.321195",
     "status": "completed"
    },
    "tags": []
   },
   "outputs": [
    {
     "data": {
      "text/plain": [
       "\"\\n# List of categorical columns\\nobject_cols = [col for col in features.columns if 'cat' in col]\\n\\n# ordinal-encode categorical columns\\nX = features.copy()\\nX_test = test.drop(['id'], axis=1).copy()\\nordinal_encoder = OrdinalEncoder()\\nX[object_cols] = ordinal_encoder.fit_transform(features[object_cols])\\nX_test[object_cols] = ordinal_encoder.transform(test[object_cols])\\n\\n# Preview the ordinal-encoded features\\nX.head()\\n\""
      ]
     },
     "execution_count": 6,
     "metadata": {},
     "output_type": "execute_result"
    }
   ],
   "source": [
    "'''\n",
    "# List of categorical columns\n",
    "object_cols = [col for col in features.columns if 'cat' in col]\n",
    "\n",
    "# ordinal-encode categorical columns\n",
    "X = features.copy()\n",
    "X_test = test.drop(['id'], axis=1).copy()\n",
    "ordinal_encoder = OrdinalEncoder()\n",
    "X[object_cols] = ordinal_encoder.fit_transform(features[object_cols])\n",
    "X_test[object_cols] = ordinal_encoder.transform(test[object_cols])\n",
    "\n",
    "# Preview the ordinal-encoded features\n",
    "X.head()\n",
    "'''"
   ]
  },
  {
   "cell_type": "code",
   "execution_count": 7,
   "id": "cefbf1ed",
   "metadata": {
    "execution": {
     "iopub.execute_input": "2021-08-29T14:01:07.381637Z",
     "iopub.status.busy": "2021-08-29T14:01:07.380929Z",
     "iopub.status.idle": "2021-08-29T14:01:11.359901Z",
     "shell.execute_reply": "2021-08-29T14:01:11.359322Z",
     "shell.execute_reply.started": "2021-08-20T06:47:56.500999Z"
    },
    "papermill": {
     "duration": 3.998295,
     "end_time": "2021-08-29T14:01:11.360054",
     "exception": false,
     "start_time": "2021-08-29T14:01:07.361759",
     "status": "completed"
    },
    "tags": []
   },
   "outputs": [
    {
     "data": {
      "text/html": [
       "<div>\n",
       "<style scoped>\n",
       "    .dataframe tbody tr th:only-of-type {\n",
       "        vertical-align: middle;\n",
       "    }\n",
       "\n",
       "    .dataframe tbody tr th {\n",
       "        vertical-align: top;\n",
       "    }\n",
       "\n",
       "    .dataframe thead th {\n",
       "        text-align: right;\n",
       "    }\n",
       "</style>\n",
       "<table border=\"1\" class=\"dataframe\">\n",
       "  <thead>\n",
       "    <tr style=\"text-align: right;\">\n",
       "      <th></th>\n",
       "      <th>cont0</th>\n",
       "      <th>cont1</th>\n",
       "      <th>cont2</th>\n",
       "      <th>cont3</th>\n",
       "      <th>cont4</th>\n",
       "      <th>cont5</th>\n",
       "      <th>cont6</th>\n",
       "      <th>cont7</th>\n",
       "      <th>cont8</th>\n",
       "      <th>cont9</th>\n",
       "      <th>...</th>\n",
       "      <th>ohe_46</th>\n",
       "      <th>ohe_47</th>\n",
       "      <th>ohe_48</th>\n",
       "      <th>ohe_49</th>\n",
       "      <th>ohe_50</th>\n",
       "      <th>ohe_51</th>\n",
       "      <th>ohe_52</th>\n",
       "      <th>ohe_53</th>\n",
       "      <th>ohe_54</th>\n",
       "      <th>ohe_55</th>\n",
       "    </tr>\n",
       "  </thead>\n",
       "  <tbody>\n",
       "    <tr>\n",
       "      <th>0</th>\n",
       "      <td>0.201470</td>\n",
       "      <td>-0.014822</td>\n",
       "      <td>0.669699</td>\n",
       "      <td>0.136278</td>\n",
       "      <td>0.610706</td>\n",
       "      <td>0.400361</td>\n",
       "      <td>0.160266</td>\n",
       "      <td>0.310921</td>\n",
       "      <td>0.389470</td>\n",
       "      <td>0.267559</td>\n",
       "      <td>...</td>\n",
       "      <td>0.0</td>\n",
       "      <td>0.0</td>\n",
       "      <td>0.0</td>\n",
       "      <td>0.0</td>\n",
       "      <td>0.0</td>\n",
       "      <td>0.0</td>\n",
       "      <td>0.0</td>\n",
       "      <td>0.0</td>\n",
       "      <td>1.0</td>\n",
       "      <td>0.0</td>\n",
       "    </tr>\n",
       "    <tr>\n",
       "      <th>1</th>\n",
       "      <td>0.743068</td>\n",
       "      <td>0.367411</td>\n",
       "      <td>1.021605</td>\n",
       "      <td>0.365798</td>\n",
       "      <td>0.276853</td>\n",
       "      <td>0.533087</td>\n",
       "      <td>0.558922</td>\n",
       "      <td>0.516294</td>\n",
       "      <td>0.594928</td>\n",
       "      <td>0.341439</td>\n",
       "      <td>...</td>\n",
       "      <td>0.0</td>\n",
       "      <td>0.0</td>\n",
       "      <td>0.0</td>\n",
       "      <td>0.0</td>\n",
       "      <td>0.0</td>\n",
       "      <td>0.0</td>\n",
       "      <td>0.0</td>\n",
       "      <td>0.0</td>\n",
       "      <td>0.0</td>\n",
       "      <td>1.0</td>\n",
       "    </tr>\n",
       "    <tr>\n",
       "      <th>2</th>\n",
       "      <td>0.742708</td>\n",
       "      <td>0.310383</td>\n",
       "      <td>-0.012673</td>\n",
       "      <td>0.576957</td>\n",
       "      <td>0.285074</td>\n",
       "      <td>0.650609</td>\n",
       "      <td>0.375348</td>\n",
       "      <td>0.902567</td>\n",
       "      <td>0.555205</td>\n",
       "      <td>0.843531</td>\n",
       "      <td>...</td>\n",
       "      <td>1.0</td>\n",
       "      <td>0.0</td>\n",
       "      <td>0.0</td>\n",
       "      <td>0.0</td>\n",
       "      <td>0.0</td>\n",
       "      <td>0.0</td>\n",
       "      <td>0.0</td>\n",
       "      <td>0.0</td>\n",
       "      <td>0.0</td>\n",
       "      <td>0.0</td>\n",
       "    </tr>\n",
       "    <tr>\n",
       "      <th>3</th>\n",
       "      <td>0.429551</td>\n",
       "      <td>0.620998</td>\n",
       "      <td>0.577942</td>\n",
       "      <td>0.280610</td>\n",
       "      <td>0.284667</td>\n",
       "      <td>0.668980</td>\n",
       "      <td>0.239061</td>\n",
       "      <td>0.732948</td>\n",
       "      <td>0.679618</td>\n",
       "      <td>0.574844</td>\n",
       "      <td>...</td>\n",
       "      <td>0.0</td>\n",
       "      <td>0.0</td>\n",
       "      <td>0.0</td>\n",
       "      <td>0.0</td>\n",
       "      <td>0.0</td>\n",
       "      <td>1.0</td>\n",
       "      <td>0.0</td>\n",
       "      <td>0.0</td>\n",
       "      <td>0.0</td>\n",
       "      <td>0.0</td>\n",
       "    </tr>\n",
       "    <tr>\n",
       "      <th>4</th>\n",
       "      <td>1.058291</td>\n",
       "      <td>0.367492</td>\n",
       "      <td>-0.052389</td>\n",
       "      <td>0.232407</td>\n",
       "      <td>0.287595</td>\n",
       "      <td>0.686964</td>\n",
       "      <td>0.420667</td>\n",
       "      <td>0.648182</td>\n",
       "      <td>0.684501</td>\n",
       "      <td>0.956692</td>\n",
       "      <td>...</td>\n",
       "      <td>0.0</td>\n",
       "      <td>0.0</td>\n",
       "      <td>0.0</td>\n",
       "      <td>0.0</td>\n",
       "      <td>0.0</td>\n",
       "      <td>0.0</td>\n",
       "      <td>0.0</td>\n",
       "      <td>0.0</td>\n",
       "      <td>1.0</td>\n",
       "      <td>0.0</td>\n",
       "    </tr>\n",
       "  </tbody>\n",
       "</table>\n",
       "<p>5 rows × 70 columns</p>\n",
       "</div>"
      ],
      "text/plain": [
       "      cont0     cont1     cont2     cont3     cont4     cont5     cont6  \\\n",
       "0  0.201470 -0.014822  0.669699  0.136278  0.610706  0.400361  0.160266   \n",
       "1  0.743068  0.367411  1.021605  0.365798  0.276853  0.533087  0.558922   \n",
       "2  0.742708  0.310383 -0.012673  0.576957  0.285074  0.650609  0.375348   \n",
       "3  0.429551  0.620998  0.577942  0.280610  0.284667  0.668980  0.239061   \n",
       "4  1.058291  0.367492 -0.052389  0.232407  0.287595  0.686964  0.420667   \n",
       "\n",
       "      cont7     cont8     cont9  ...  ohe_46  ohe_47  ohe_48  ohe_49  ohe_50  \\\n",
       "0  0.310921  0.389470  0.267559  ...     0.0     0.0     0.0     0.0     0.0   \n",
       "1  0.516294  0.594928  0.341439  ...     0.0     0.0     0.0     0.0     0.0   \n",
       "2  0.902567  0.555205  0.843531  ...     1.0     0.0     0.0     0.0     0.0   \n",
       "3  0.732948  0.679618  0.574844  ...     0.0     0.0     0.0     0.0     0.0   \n",
       "4  0.648182  0.684501  0.956692  ...     0.0     0.0     0.0     0.0     0.0   \n",
       "\n",
       "   ohe_51  ohe_52  ohe_53  ohe_54  ohe_55  \n",
       "0     0.0     0.0     0.0     1.0     0.0  \n",
       "1     0.0     0.0     0.0     0.0     1.0  \n",
       "2     0.0     0.0     0.0     0.0     0.0  \n",
       "3     1.0     0.0     0.0     0.0     0.0  \n",
       "4     0.0     0.0     0.0     1.0     0.0  \n",
       "\n",
       "[5 rows x 70 columns]"
      ]
     },
     "execution_count": 7,
     "metadata": {},
     "output_type": "execute_result"
    }
   ],
   "source": [
    "\n",
    "# List of categorical columns\n",
    "object_cols = [col for col in features.columns if 'cat' in col]\n",
    "\n",
    "# one-hot-encode categorical columns\n",
    "X = features.copy()\n",
    "X_test = test.drop(['id'], axis=1).copy()\n",
    "\n",
    "oh_encoder = OneHotEncoder(sparse=False, handle_unknown=\"ignore\")\n",
    "X_ohe = oh_encoder.fit_transform(features[object_cols])\n",
    "X_test_ohe = oh_encoder.transform(test[object_cols])\n",
    "\n",
    "X_ohe = pd.DataFrame(X_ohe, columns=[f\"ohe_{i}\" for i in range(X_ohe.shape[1])])\n",
    "X_test_ohe = pd.DataFrame(X_test_ohe, columns=[f\"ohe_{i}\" for i in range(X_test_ohe.shape[1])])\n",
    "\n",
    "X = pd.concat([X, X_ohe], axis=1)\n",
    "X_test = pd.concat([X_test, X_test_ohe], axis=1)\n",
    "X = X.drop(object_cols, axis=1)\n",
    "X_test = X_test.drop(object_cols, axis=1)\n",
    "    \n",
    "# Preview the one-hot-encoded features\n",
    "X.head()\n"
   ]
  },
  {
   "cell_type": "code",
   "execution_count": 8,
   "id": "a101884f",
   "metadata": {
    "execution": {
     "iopub.execute_input": "2021-08-29T14:01:11.423313Z",
     "iopub.status.busy": "2021-08-29T14:01:11.422037Z",
     "iopub.status.idle": "2021-08-29T14:01:11.583579Z",
     "shell.execute_reply": "2021-08-29T14:01:11.582933Z",
     "shell.execute_reply.started": "2021-08-20T06:48:00.167585Z"
    },
    "papermill": {
     "duration": 0.206481,
     "end_time": "2021-08-29T14:01:11.583750",
     "exception": false,
     "start_time": "2021-08-29T14:01:11.377269",
     "status": "completed"
    },
    "tags": []
   },
   "outputs": [],
   "source": [
    "scale_features = [col for col in features.columns if 'cont' in col]\n",
    "\n",
    "ss = StandardScaler()\n",
    "X[scale_features] = ss.fit_transform(features[scale_features])\n",
    "X_test[scale_features] = ss.transform(test[scale_features])"
   ]
  },
  {
   "cell_type": "code",
   "execution_count": 9,
   "id": "99b9e909",
   "metadata": {
    "execution": {
     "iopub.execute_input": "2021-08-29T14:01:11.626926Z",
     "iopub.status.busy": "2021-08-29T14:01:11.626244Z",
     "iopub.status.idle": "2021-08-29T14:01:11.628953Z",
     "shell.execute_reply": "2021-08-29T14:01:11.628413Z",
     "shell.execute_reply.started": "2021-08-20T06:48:00.357749Z"
    },
    "papermill": {
     "duration": 0.028091,
     "end_time": "2021-08-29T14:01:11.629128",
     "exception": false,
     "start_time": "2021-08-29T14:01:11.601037",
     "status": "completed"
    },
    "tags": []
   },
   "outputs": [],
   "source": [
    "# Swap noise\n",
    "\n",
    "# Random\n",
    "def apply_noise_rn(df, p=.75):\n",
    "    should_not_swap = np.random.binomial(1, p, df.shape)\n",
    "    corrupted_df = df.where(should_not_swap == 1, np.random.permutation(df))\n",
    "    return corrupted_df\n",
    "\n",
    "# Row-wise\n",
    "def apply_noise_row(df, p=.75):\n",
    "    should_not_swap = np.zeros(df.shape)\n",
    "    for i in range(df.shape[0]):\n",
    "        for j in np.random.choice(df.shape[1],int(p*df.shape[1]),replace=False):\n",
    "            should_not_swap[i,j]=1 \n",
    "    corrupted_df = df.where(should_not_swap == 1, np.random.permutation(df))\n",
    "    return corrupted_df"
   ]
  },
  {
   "cell_type": "markdown",
   "id": "18e93915",
   "metadata": {
    "papermill": {
     "duration": 0.016934,
     "end_time": "2021-08-29T14:01:11.663634",
     "exception": false,
     "start_time": "2021-08-29T14:01:11.646700",
     "status": "completed"
    },
    "tags": []
   },
   "source": [
    "# Optuna"
   ]
  },
  {
   "cell_type": "code",
   "execution_count": 10,
   "id": "0bf813ad",
   "metadata": {
    "execution": {
     "iopub.execute_input": "2021-08-29T14:01:11.718490Z",
     "iopub.status.busy": "2021-08-29T14:01:11.702803Z",
     "iopub.status.idle": "2021-08-29T14:01:21.361213Z",
     "shell.execute_reply": "2021-08-29T14:01:21.359772Z",
     "shell.execute_reply.started": "2021-08-20T06:48:00.371581Z"
    },
    "papermill": {
     "duration": 9.680484,
     "end_time": "2021-08-29T14:01:21.361414",
     "exception": false,
     "start_time": "2021-08-29T14:01:11.680930",
     "status": "completed"
    },
    "tags": []
   },
   "outputs": [
    {
     "name": "stdout",
     "output_type": "stream",
     "text": [
      "\u001b[33mWARNING: Running pip as root will break packages and permissions. You should install packages reliably by using venv: https://pip.pypa.io/warnings/venv\u001b[0m\r\n"
     ]
    }
   ],
   "source": [
    "# Optuna for parameter search\n",
    "!pip install -q optuna\n",
    "\n",
    "import optuna\n",
    "import pickle"
   ]
  },
  {
   "cell_type": "code",
   "execution_count": 11,
   "id": "3df70223",
   "metadata": {
    "execution": {
     "iopub.execute_input": "2021-08-29T14:01:21.410330Z",
     "iopub.status.busy": "2021-08-29T14:01:21.405399Z",
     "iopub.status.idle": "2021-08-29T14:01:21.413105Z",
     "shell.execute_reply": "2021-08-29T14:01:21.412517Z",
     "shell.execute_reply.started": "2021-08-20T06:48:11.237648Z"
    },
    "papermill": {
     "duration": 0.033937,
     "end_time": "2021-08-29T14:01:21.413256",
     "exception": false,
     "start_time": "2021-08-29T14:01:21.379319",
     "status": "completed"
    },
    "tags": []
   },
   "outputs": [],
   "source": [
    "# for the fixed learning rate, use the opt n iterations and tune the tree hyperparameters\n",
    "def objective(trial, X=X, y=y):\n",
    "  \"\"\"\n",
    "  \"\"\"\n",
    "  param_space = {\n",
    "               #'device':'gpu',  # Use GPU acceleration\n",
    "               #'boosting_type': 'gbdt',\n",
    "               'reg_lambda':trial.suggest_uniform('reg_lambda', 28.5, 52.5),\n",
    "              'reg_alpha':trial.suggest_uniform('reg_alpha', 23.66, 47.66),\n",
    "                'subsample': trial.suggest_uniform('subsample', 0.79, 1.0),\n",
    "              'colsample_bytree':trial.suggest_uniform('colsample_bytree', 0.004, 0.404),\n",
    "                #'subsample_freq': trial.suggest_int('subsample_freq', 1, 10),\n",
    "               'learning_rate':trial.suggest_uniform('learning_rate', 1e-2, 1e-1),\n",
    "                 'min_child_samples':trial.suggest_int('min_child_samples', 3, 50),\n",
    "              'num_leaves':trial.suggest_int('num_leaves', 58, 158),\n",
    "              'max_depth':trial.suggest_int('max_depth', 2, 10),\n",
    "              #'min_split_gain': trial.suggest_float('min_split_gain', 0.0, 0.005),\n",
    "              #'class_weight':trial.suggest_categorical('class_weight',['balanced',None]),\n",
    "               'n_estimators':N_ESTIMATORS,\n",
    "                'n_jobs' : -1,\n",
    "              'metric':'rmse',\n",
    "              'max_bin':trial.suggest_int('max_bin', 632, 1032),\n",
    "              'cat_smooth':trial.suggest_int('cat_smooth', 59, 109),\n",
    "              'cat_l2':trial.suggest_loguniform('cat_l2', 1e-3, 50)\n",
    "                }\n",
    "            \n",
    "  seed_list=[SEED, SEED+1]\n",
    "  #kf = KFold(n_splits=N_SPLITS, shuffle=True, random_state=CVSEED)\n",
    "  #lgb_oof = np.zeros(train.shape[0])\n",
    "  #lgb_pred = np.zeros(test.shape[0])\n",
    "  X_tr, X_va, y_tr, y_va = train_test_split(X,y,test_size=.2,random_state=CVSEED)\n",
    "  pred=np.zeros(y_va.shape[0])\n",
    "    \n",
    "  #for (trn_idx, val_idx) in enumerate(kf.split(X, y)):\n",
    "  #print(f\"===== fold {fold} =====\")\n",
    "    \n",
    "  #X_tr = apply_noise_row(X_tr)\n",
    "\n",
    "  \n",
    "  #start = time.time()\n",
    "  for inseed in seed_list:\n",
    "    param_space['random_state'] = inseed\n",
    "\n",
    "    model = lgb.LGBMRegressor(**param_space)\n",
    "    model.fit(\n",
    "        X_tr, \n",
    "        y_tr,\n",
    "        eval_set=[(X_va, y_va)],\n",
    "        eval_metric='rmse',\n",
    "        early_stopping_rounds=EARLY_STOPPING_ROUNDS,\n",
    "        verbose=VERBOSE,\n",
    "        #categorical_feature=[0, 1, 2, 3, 4, 5, 6, 7, 8, 9]\n",
    "        #callbacks=[optuna.integration.LightGBMPruningCallback(trial, metric='rmse')],\n",
    "    )\n",
    "\n",
    "\n",
    "    pred += model.predict(X_va) / len(seed_list)\n",
    "    \n",
    "  #elapsed = time.time() - start\n",
    "  rmse = mean_squared_error(y_va, pred, squared=False)\n",
    "  #print(f\"fold {fold} - lgb rmse: {rmse:.6f}, elapsed time: {elapsed:.2f}sec\\n\")            \n",
    "  \n",
    "  #print(f\"oof lgb_rmse = {mean_squared_error(train[target], lgb_oof, squared=False)}\")\n",
    "\n",
    "  \n",
    "  return rmse"
   ]
  },
  {
   "cell_type": "code",
   "execution_count": 12,
   "id": "dde72e50",
   "metadata": {
    "execution": {
     "iopub.execute_input": "2021-08-29T14:01:21.450382Z",
     "iopub.status.busy": "2021-08-29T14:01:21.449778Z",
     "iopub.status.idle": "2021-08-29T15:25:19.580417Z",
     "shell.execute_reply": "2021-08-29T15:25:19.579735Z",
     "shell.execute_reply.started": "2021-08-20T06:48:11.257068Z"
    },
    "papermill": {
     "duration": 5038.15037,
     "end_time": "2021-08-29T15:25:19.580692",
     "exception": false,
     "start_time": "2021-08-29T14:01:21.430322",
     "status": "completed"
    },
    "tags": []
   },
   "outputs": [
    {
     "name": "stderr",
     "output_type": "stream",
     "text": [
      "\u001b[32m[I 2021-08-29 14:01:21,451]\u001b[0m A new study created in memory with name: no-name-5b606795-88d4-401e-bfbc-017fff26d4e6\u001b[0m\n"
     ]
    },
    {
     "name": "stdout",
     "output_type": "stream",
     "text": [
      "Training until validation scores don't improve for 200 rounds\n",
      "[1000]\tvalid_0's rmse: 0.71785\n",
      "[2000]\tvalid_0's rmse: 0.715354\n",
      "[3000]\tvalid_0's rmse: 0.714908\n",
      "Early stopping, best iteration is:\n",
      "[3661]\tvalid_0's rmse: 0.714819\n",
      "Training until validation scores don't improve for 200 rounds\n",
      "[1000]\tvalid_0's rmse: 0.718571\n",
      "[2000]\tvalid_0's rmse: 0.715644\n",
      "[3000]\tvalid_0's rmse: 0.71512\n",
      "Early stopping, best iteration is:\n",
      "[3347]\tvalid_0's rmse: 0.715081\n"
     ]
    },
    {
     "name": "stderr",
     "output_type": "stream",
     "text": [
      "\u001b[32m[I 2021-08-29 14:04:48,528]\u001b[0m Trial 0 finished with value: 0.7146375097508282 and parameters: {'reg_lambda': 35.27947375497561, 'reg_alpha': 37.21468181236867, 'subsample': 0.8488162149702033, 'colsample_bytree': 0.21194302543539598, 'learning_rate': 0.014673599405678691, 'min_child_samples': 38, 'num_leaves': 151, 'max_depth': 8, 'max_bin': 697, 'cat_smooth': 62, 'cat_l2': 0.8044858942544637}. Best is trial 0 with value: 0.7146375097508282.\u001b[0m\n"
     ]
    },
    {
     "name": "stdout",
     "output_type": "stream",
     "text": [
      "Training until validation scores don't improve for 200 rounds\n",
      "[1000]\tvalid_0's rmse: 0.717072\n",
      "[2000]\tvalid_0's rmse: 0.714736\n",
      "[3000]\tvalid_0's rmse: 0.714371\n",
      "Early stopping, best iteration is:\n",
      "[3010]\tvalid_0's rmse: 0.714369\n",
      "Training until validation scores don't improve for 200 rounds\n",
      "[1000]\tvalid_0's rmse: 0.71988\n",
      "[2000]\tvalid_0's rmse: 0.715973\n",
      "[3000]\tvalid_0's rmse: 0.715245\n",
      "Early stopping, best iteration is:\n",
      "[3479]\tvalid_0's rmse: 0.715094\n"
     ]
    },
    {
     "name": "stderr",
     "output_type": "stream",
     "text": [
      "\u001b[32m[I 2021-08-29 14:06:55,742]\u001b[0m Trial 1 finished with value: 0.7142804723015487 and parameters: {'reg_lambda': 42.93588471342488, 'reg_alpha': 32.302778394338375, 'subsample': 0.8875421809598261, 'colsample_bytree': 0.06423307611262974, 'learning_rate': 0.03293684527289206, 'min_child_samples': 21, 'num_leaves': 133, 'max_depth': 9, 'max_bin': 736, 'cat_smooth': 84, 'cat_l2': 0.045864066849847604}. Best is trial 1 with value: 0.7142804723015487.\u001b[0m\n"
     ]
    },
    {
     "name": "stdout",
     "output_type": "stream",
     "text": [
      "Training until validation scores don't improve for 200 rounds\n",
      "[1000]\tvalid_0's rmse: 0.720879\n",
      "[2000]\tvalid_0's rmse: 0.716586\n",
      "[3000]\tvalid_0's rmse: 0.715141\n",
      "[4000]\tvalid_0's rmse: 0.714525\n",
      "[5000]\tvalid_0's rmse: 0.714221\n",
      "[6000]\tvalid_0's rmse: 0.714095\n",
      "Early stopping, best iteration is:\n",
      "[6139]\tvalid_0's rmse: 0.714077\n",
      "Training until validation scores don't improve for 200 rounds\n",
      "[1000]\tvalid_0's rmse: 0.722557\n",
      "[2000]\tvalid_0's rmse: 0.717687\n",
      "[3000]\tvalid_0's rmse: 0.715823\n",
      "[4000]\tvalid_0's rmse: 0.714913\n",
      "[5000]\tvalid_0's rmse: 0.714551\n",
      "[6000]\tvalid_0's rmse: 0.714407\n",
      "[7000]\tvalid_0's rmse: 0.714359\n",
      "Early stopping, best iteration is:\n",
      "[6841]\tvalid_0's rmse: 0.714351\n"
     ]
    },
    {
     "name": "stderr",
     "output_type": "stream",
     "text": [
      "\u001b[32m[I 2021-08-29 14:10:11,473]\u001b[0m Trial 2 finished with value: 0.7139502222653392 and parameters: {'reg_lambda': 48.45663236205434, 'reg_alpha': 24.69437223164695, 'subsample': 0.9782483346243842, 'colsample_bytree': 0.1407937702183033, 'learning_rate': 0.015426114192531835, 'min_child_samples': 8, 'num_leaves': 142, 'max_depth': 5, 'max_bin': 948, 'cat_smooth': 65, 'cat_l2': 0.5339353702778717}. Best is trial 2 with value: 0.7139502222653392.\u001b[0m\n"
     ]
    },
    {
     "name": "stdout",
     "output_type": "stream",
     "text": [
      "Training until validation scores don't improve for 200 rounds\n",
      "[1000]\tvalid_0's rmse: 0.718034\n",
      "[2000]\tvalid_0's rmse: 0.715095\n",
      "[3000]\tvalid_0's rmse: 0.714287\n",
      "[4000]\tvalid_0's rmse: 0.714025\n",
      "[5000]\tvalid_0's rmse: 0.713903\n",
      "Early stopping, best iteration is:\n",
      "[5747]\tvalid_0's rmse: 0.713848\n",
      "Training until validation scores don't improve for 200 rounds\n",
      "[1000]\tvalid_0's rmse: 0.719862\n",
      "[2000]\tvalid_0's rmse: 0.71624\n",
      "[3000]\tvalid_0's rmse: 0.714874\n",
      "[4000]\tvalid_0's rmse: 0.714457\n",
      "[5000]\tvalid_0's rmse: 0.714323\n",
      "[6000]\tvalid_0's rmse: 0.714166\n",
      "Early stopping, best iteration is:\n",
      "[6095]\tvalid_0's rmse: 0.714158\n"
     ]
    },
    {
     "name": "stderr",
     "output_type": "stream",
     "text": [
      "\u001b[32m[I 2021-08-29 14:11:48,877]\u001b[0m Trial 3 finished with value: 0.7137613027700954 and parameters: {'reg_lambda': 36.30490756582562, 'reg_alpha': 39.9886108564348, 'subsample': 0.8906315685272019, 'colsample_bytree': 0.022333947388077167, 'learning_rate': 0.08677691900828466, 'min_child_samples': 8, 'num_leaves': 147, 'max_depth': 5, 'max_bin': 767, 'cat_smooth': 99, 'cat_l2': 0.05522597650981811}. Best is trial 3 with value: 0.7137613027700954.\u001b[0m\n"
     ]
    },
    {
     "name": "stdout",
     "output_type": "stream",
     "text": [
      "Training until validation scores don't improve for 200 rounds\n",
      "Early stopping, best iteration is:\n",
      "[595]\tvalid_0's rmse: 0.715758\n",
      "Training until validation scores don't improve for 200 rounds\n",
      "Early stopping, best iteration is:\n",
      "[578]\tvalid_0's rmse: 0.715343\n"
     ]
    },
    {
     "name": "stderr",
     "output_type": "stream",
     "text": [
      "\u001b[32m[I 2021-08-29 14:12:39,449]\u001b[0m Trial 4 finished with value: 0.7151740732101894 and parameters: {'reg_lambda': 40.743531103206564, 'reg_alpha': 40.95283222192968, 'subsample': 0.8582105457298237, 'colsample_bytree': 0.39674393127287383, 'learning_rate': 0.08938386646237888, 'min_child_samples': 46, 'num_leaves': 63, 'max_depth': 8, 'max_bin': 847, 'cat_smooth': 74, 'cat_l2': 0.0010671620331898994}. Best is trial 3 with value: 0.7137613027700954.\u001b[0m\n"
     ]
    },
    {
     "name": "stdout",
     "output_type": "stream",
     "text": [
      "Training until validation scores don't improve for 200 rounds\n",
      "[1000]\tvalid_0's rmse: 0.719272\n",
      "[2000]\tvalid_0's rmse: 0.715412\n",
      "[3000]\tvalid_0's rmse: 0.714444\n",
      "[4000]\tvalid_0's rmse: 0.714012\n",
      "[5000]\tvalid_0's rmse: 0.71388\n",
      "[6000]\tvalid_0's rmse: 0.713822\n",
      "Early stopping, best iteration is:\n",
      "[5999]\tvalid_0's rmse: 0.713822\n",
      "Training until validation scores don't improve for 200 rounds\n",
      "[1000]\tvalid_0's rmse: 0.719036\n",
      "[2000]\tvalid_0's rmse: 0.715497\n",
      "[3000]\tvalid_0's rmse: 0.714465\n",
      "[4000]\tvalid_0's rmse: 0.714149\n",
      "[5000]\tvalid_0's rmse: 0.714042\n",
      "Early stopping, best iteration is:\n",
      "[5022]\tvalid_0's rmse: 0.71404\n"
     ]
    },
    {
     "name": "stderr",
     "output_type": "stream",
     "text": [
      "\u001b[32m[I 2021-08-29 14:15:28,279]\u001b[0m Trial 5 finished with value: 0.7138148944951799 and parameters: {'reg_lambda': 39.887639280534515, 'reg_alpha': 47.15751508021695, 'subsample': 0.8302514867329012, 'colsample_bytree': 0.060881659079447425, 'learning_rate': 0.03055673220365151, 'min_child_samples': 30, 'num_leaves': 77, 'max_depth': 7, 'max_bin': 943, 'cat_smooth': 74, 'cat_l2': 0.06429800972146131}. Best is trial 3 with value: 0.7137613027700954.\u001b[0m\n"
     ]
    },
    {
     "name": "stdout",
     "output_type": "stream",
     "text": [
      "Training until validation scores don't improve for 200 rounds\n",
      "Early stopping, best iteration is:\n",
      "[790]\tvalid_0's rmse: 0.715251\n",
      "Training until validation scores don't improve for 200 rounds\n",
      "Early stopping, best iteration is:\n",
      "[744]\tvalid_0's rmse: 0.715012\n"
     ]
    },
    {
     "name": "stderr",
     "output_type": "stream",
     "text": [
      "\u001b[32m[I 2021-08-29 14:16:28,363]\u001b[0m Trial 6 finished with value: 0.7148410248017745 and parameters: {'reg_lambda': 49.40828967537931, 'reg_alpha': 45.64696142059351, 'subsample': 0.8967808225923346, 'colsample_bytree': 0.18450650296221643, 'learning_rate': 0.06346552369215643, 'min_child_samples': 46, 'num_leaves': 153, 'max_depth': 9, 'max_bin': 940, 'cat_smooth': 106, 'cat_l2': 0.00303295782054364}. Best is trial 3 with value: 0.7137613027700954.\u001b[0m\n"
     ]
    },
    {
     "name": "stdout",
     "output_type": "stream",
     "text": [
      "Training until validation scores don't improve for 200 rounds\n",
      "[1000]\tvalid_0's rmse: 0.714355\n",
      "Early stopping, best iteration is:\n",
      "[1558]\tvalid_0's rmse: 0.71425\n",
      "Training until validation scores don't improve for 200 rounds\n",
      "[1000]\tvalid_0's rmse: 0.714457\n",
      "Early stopping, best iteration is:\n",
      "[1531]\tvalid_0's rmse: 0.714209\n"
     ]
    },
    {
     "name": "stderr",
     "output_type": "stream",
     "text": [
      "\u001b[32m[I 2021-08-29 14:17:28,002]\u001b[0m Trial 7 finished with value: 0.7140629400759854 and parameters: {'reg_lambda': 38.351300192316074, 'reg_alpha': 44.870346750688185, 'subsample': 0.8078371650414872, 'colsample_bytree': 0.09930296851494985, 'learning_rate': 0.08027009945391399, 'min_child_samples': 9, 'num_leaves': 82, 'max_depth': 6, 'max_bin': 869, 'cat_smooth': 77, 'cat_l2': 5.792864671550286}. Best is trial 3 with value: 0.7137613027700954.\u001b[0m\n"
     ]
    },
    {
     "name": "stdout",
     "output_type": "stream",
     "text": [
      "Training until validation scores don't improve for 200 rounds\n",
      "[1000]\tvalid_0's rmse: 0.714486\n",
      "[2000]\tvalid_0's rmse: 0.71392\n",
      "Early stopping, best iteration is:\n",
      "[1874]\tvalid_0's rmse: 0.713919\n",
      "Training until validation scores don't improve for 200 rounds\n",
      "[1000]\tvalid_0's rmse: 0.714662\n",
      "Early stopping, best iteration is:\n",
      "[1636]\tvalid_0's rmse: 0.714238\n"
     ]
    },
    {
     "name": "stderr",
     "output_type": "stream",
     "text": [
      "\u001b[32m[I 2021-08-29 14:18:23,357]\u001b[0m Trial 8 finished with value: 0.713908022039106 and parameters: {'reg_lambda': 48.48047330857134, 'reg_alpha': 37.944548282105, 'subsample': 0.943324905302257, 'colsample_bytree': 0.07150698507250675, 'learning_rate': 0.06957250145346641, 'min_child_samples': 34, 'num_leaves': 143, 'max_depth': 6, 'max_bin': 997, 'cat_smooth': 66, 'cat_l2': 0.11003828497602469}. Best is trial 3 with value: 0.7137613027700954.\u001b[0m\n"
     ]
    },
    {
     "name": "stdout",
     "output_type": "stream",
     "text": [
      "Training until validation scores don't improve for 200 rounds\n",
      "[1000]\tvalid_0's rmse: 0.715771\n",
      "[2000]\tvalid_0's rmse: 0.714379\n",
      "Early stopping, best iteration is:\n",
      "[2327]\tvalid_0's rmse: 0.714332\n",
      "Training until validation scores don't improve for 200 rounds\n",
      "[1000]\tvalid_0's rmse: 0.715853\n",
      "[2000]\tvalid_0's rmse: 0.714465\n",
      "Early stopping, best iteration is:\n",
      "[2487]\tvalid_0's rmse: 0.714395\n"
     ]
    },
    {
     "name": "stderr",
     "output_type": "stream",
     "text": [
      "\u001b[32m[I 2021-08-29 14:20:39,301]\u001b[0m Trial 9 finished with value: 0.7142136939492365 and parameters: {'reg_lambda': 34.811957988110365, 'reg_alpha': 28.924414240271624, 'subsample': 0.8613217295324698, 'colsample_bytree': 0.13698587093258638, 'learning_rate': 0.021113885161273972, 'min_child_samples': 45, 'num_leaves': 87, 'max_depth': 9, 'max_bin': 862, 'cat_smooth': 69, 'cat_l2': 17.92866901137536}. Best is trial 3 with value: 0.7137613027700954.\u001b[0m\n"
     ]
    },
    {
     "name": "stdout",
     "output_type": "stream",
     "text": [
      "Training until validation scores don't improve for 200 rounds\n",
      "[1000]\tvalid_0's rmse: 0.718867\n",
      "[2000]\tvalid_0's rmse: 0.71574\n",
      "[3000]\tvalid_0's rmse: 0.714614\n",
      "[4000]\tvalid_0's rmse: 0.714211\n",
      "[5000]\tvalid_0's rmse: 0.714085\n",
      "Early stopping, best iteration is:\n",
      "[5217]\tvalid_0's rmse: 0.714065\n",
      "Training until validation scores don't improve for 200 rounds\n",
      "[1000]\tvalid_0's rmse: 0.718891\n",
      "[2000]\tvalid_0's rmse: 0.7158\n",
      "[3000]\tvalid_0's rmse: 0.71464\n",
      "[4000]\tvalid_0's rmse: 0.714285\n",
      "[5000]\tvalid_0's rmse: 0.714183\n",
      "Early stopping, best iteration is:\n",
      "[5151]\tvalid_0's rmse: 0.714158\n"
     ]
    },
    {
     "name": "stderr",
     "output_type": "stream",
     "text": [
      "\u001b[32m[I 2021-08-29 14:22:54,689]\u001b[0m Trial 10 finished with value: 0.714000413029184 and parameters: {'reg_lambda': 29.792945538514342, 'reg_alpha': 41.43497902731134, 'subsample': 0.9322023238897502, 'colsample_bytree': 0.29768239498119337, 'learning_rate': 0.09960290751724506, 'min_child_samples': 19, 'num_leaves': 118, 'max_depth': 2, 'max_bin': 757, 'cat_smooth': 104, 'cat_l2': 0.008595752406045959}. Best is trial 3 with value: 0.7137613027700954.\u001b[0m\n"
     ]
    },
    {
     "name": "stdout",
     "output_type": "stream",
     "text": [
      "Training until validation scores don't improve for 200 rounds\n",
      "[1000]\tvalid_0's rmse: 0.72854\n",
      "[2000]\tvalid_0's rmse: 0.722675\n",
      "[3000]\tvalid_0's rmse: 0.720172\n",
      "[4000]\tvalid_0's rmse: 0.718619\n",
      "[5000]\tvalid_0's rmse: 0.717432\n",
      "[6000]\tvalid_0's rmse: 0.716559\n",
      "[7000]\tvalid_0's rmse: 0.716005\n",
      "[8000]\tvalid_0's rmse: 0.715595\n",
      "[9000]\tvalid_0's rmse: 0.715263\n",
      "[10000]\tvalid_0's rmse: 0.715061\n",
      "[11000]\tvalid_0's rmse: 0.714876\n",
      "[12000]\tvalid_0's rmse: 0.71474\n",
      "[13000]\tvalid_0's rmse: 0.714623\n",
      "[14000]\tvalid_0's rmse: 0.714546\n",
      "[15000]\tvalid_0's rmse: 0.714474\n",
      "[16000]\tvalid_0's rmse: 0.714426\n",
      "[17000]\tvalid_0's rmse: 0.714375\n",
      "[18000]\tvalid_0's rmse: 0.714333\n",
      "[19000]\tvalid_0's rmse: 0.714294\n",
      "[20000]\tvalid_0's rmse: 0.71427\n",
      "Did not meet early stopping. Best iteration is:\n",
      "[20000]\tvalid_0's rmse: 0.71427\n",
      "Training until validation scores don't improve for 200 rounds\n"
     ]
    },
    {
     "name": "stderr",
     "output_type": "stream",
     "text": [
      "\u001b[32m[I 2021-08-29 14:25:22,162]\u001b[0m Trial 11 finished with value: 0.7220080762810516 and parameters: {'reg_lambda': 30.080895533740478, 'reg_alpha': 47.342064120502826, 'subsample': 0.7937194412992199, 'colsample_bytree': 0.01798938044054773, 'learning_rate': 0.04685151535908337, 'min_child_samples': 29, 'num_leaves': 101, 'max_depth': 4, 'max_bin': 794, 'cat_smooth': 92, 'cat_l2': 0.01491500206653902}. Best is trial 3 with value: 0.7137613027700954.\u001b[0m\n"
     ]
    },
    {
     "name": "stdout",
     "output_type": "stream",
     "text": [
      "Early stopping, best iteration is:\n",
      "[1]\tvalid_0's rmse: 8.27805\n",
      "Training until validation scores don't improve for 200 rounds\n",
      "[1000]\tvalid_0's rmse: 0.726601\n",
      "[2000]\tvalid_0's rmse: 0.721978\n",
      "[3000]\tvalid_0's rmse: 0.719312\n",
      "[4000]\tvalid_0's rmse: 0.717787\n",
      "[5000]\tvalid_0's rmse: 0.716882\n",
      "[6000]\tvalid_0's rmse: 0.716275\n",
      "[7000]\tvalid_0's rmse: 0.715831\n",
      "[8000]\tvalid_0's rmse: 0.715476\n",
      "[9000]\tvalid_0's rmse: 0.715255\n",
      "[10000]\tvalid_0's rmse: 0.715085\n",
      "[11000]\tvalid_0's rmse: 0.714915\n",
      "[12000]\tvalid_0's rmse: 0.71473\n",
      "[13000]\tvalid_0's rmse: 0.714608\n",
      "[14000]\tvalid_0's rmse: 0.714495\n",
      "[15000]\tvalid_0's rmse: 0.714405\n",
      "[16000]\tvalid_0's rmse: 0.714343\n",
      "[17000]\tvalid_0's rmse: 0.714259\n",
      "[18000]\tvalid_0's rmse: 0.71421\n",
      "Early stopping, best iteration is:\n",
      "[18333]\tvalid_0's rmse: 0.714196\n",
      "Training until validation scores don't improve for 200 rounds\n",
      "[1000]\tvalid_0's rmse: 0.729152\n",
      "[2000]\tvalid_0's rmse: 0.724258\n",
      "[3000]\tvalid_0's rmse: 0.721444\n",
      "[4000]\tvalid_0's rmse: 0.720082\n",
      "[5000]\tvalid_0's rmse: 0.718741\n",
      "[6000]\tvalid_0's rmse: 0.718109\n",
      "[7000]\tvalid_0's rmse: 0.717173\n",
      "[8000]\tvalid_0's rmse: 0.71665\n",
      "[9000]\tvalid_0's rmse: 0.716254\n",
      "[10000]\tvalid_0's rmse: 0.71587\n",
      "[11000]\tvalid_0's rmse: 0.715593\n",
      "[12000]\tvalid_0's rmse: 0.715322\n",
      "[13000]\tvalid_0's rmse: 0.715123\n",
      "[14000]\tvalid_0's rmse: 0.71498\n",
      "[15000]\tvalid_0's rmse: 0.714849\n",
      "[16000]\tvalid_0's rmse: 0.714747\n",
      "[17000]\tvalid_0's rmse: 0.71464\n",
      "[18000]\tvalid_0's rmse: 0.714538\n",
      "[19000]\tvalid_0's rmse: 0.714469\n",
      "[20000]\tvalid_0's rmse: 0.714394\n",
      "Did not meet early stopping. Best iteration is:\n",
      "[19987]\tvalid_0's rmse: 0.714394\n"
     ]
    },
    {
     "name": "stderr",
     "output_type": "stream",
     "text": [
      "\u001b[32m[I 2021-08-29 14:30:29,886]\u001b[0m Trial 12 finished with value: 0.7140691452326852 and parameters: {'reg_lambda': 43.9165048162334, 'reg_alpha': 42.60262574787023, 'subsample': 0.8178903697439379, 'colsample_bytree': 0.02361250596718601, 'learning_rate': 0.04173764058842182, 'min_child_samples': 16, 'num_leaves': 59, 'max_depth': 3, 'max_bin': 658, 'cat_smooth': 94, 'cat_l2': 0.06392133129249152}. Best is trial 3 with value: 0.7137613027700954.\u001b[0m\n"
     ]
    },
    {
     "name": "stdout",
     "output_type": "stream",
     "text": [
      "Training until validation scores don't improve for 200 rounds\n",
      "[1000]\tvalid_0's rmse: 0.730199\n",
      "[2000]\tvalid_0's rmse: 0.72327\n",
      "[3000]\tvalid_0's rmse: 0.719274\n",
      "[4000]\tvalid_0's rmse: 0.717224\n",
      "[5000]\tvalid_0's rmse: 0.716164\n",
      "[6000]\tvalid_0's rmse: 0.715421\n",
      "[7000]\tvalid_0's rmse: 0.715014\n",
      "[8000]\tvalid_0's rmse: 0.714761\n",
      "[9000]\tvalid_0's rmse: 0.714586\n",
      "[10000]\tvalid_0's rmse: 0.714472\n",
      "[11000]\tvalid_0's rmse: 0.714378\n",
      "[12000]\tvalid_0's rmse: 0.714337\n",
      "Early stopping, best iteration is:\n",
      "[12761]\tvalid_0's rmse: 0.714296\n",
      "Training until validation scores don't improve for 200 rounds\n",
      "[1000]\tvalid_0's rmse: 0.728513\n",
      "[2000]\tvalid_0's rmse: 0.722305\n",
      "[3000]\tvalid_0's rmse: 0.718998\n",
      "[4000]\tvalid_0's rmse: 0.716926\n",
      "[5000]\tvalid_0's rmse: 0.715795\n",
      "[6000]\tvalid_0's rmse: 0.715224\n",
      "[7000]\tvalid_0's rmse: 0.714936\n",
      "[8000]\tvalid_0's rmse: 0.714685\n",
      "[9000]\tvalid_0's rmse: 0.714519\n",
      "[10000]\tvalid_0's rmse: 0.714408\n",
      "[11000]\tvalid_0's rmse: 0.714318\n",
      "[12000]\tvalid_0's rmse: 0.714244\n",
      "[13000]\tvalid_0's rmse: 0.714209\n",
      "[14000]\tvalid_0's rmse: 0.714176\n",
      "[15000]\tvalid_0's rmse: 0.714154\n",
      "Early stopping, best iteration is:\n",
      "[15451]\tvalid_0's rmse: 0.714144\n"
     ]
    },
    {
     "name": "stderr",
     "output_type": "stream",
     "text": [
      "\u001b[32m[I 2021-08-29 14:34:39,212]\u001b[0m Trial 13 finished with value: 0.714107991253216 and parameters: {'reg_lambda': 36.122983507630586, 'reg_alpha': 34.91414135674993, 'subsample': 0.833852311798721, 'colsample_bytree': 0.007619341054553155, 'learning_rate': 0.028785153316510763, 'min_child_samples': 3, 'num_leaves': 77, 'max_depth': 7, 'max_bin': 1020, 'cat_smooth': 96, 'cat_l2': 2.065224269706999}. Best is trial 3 with value: 0.7137613027700954.\u001b[0m\n"
     ]
    },
    {
     "name": "stdout",
     "output_type": "stream",
     "text": [
      "Training until validation scores don't improve for 200 rounds\n",
      "[1000]\tvalid_0's rmse: 0.725237\n",
      "[2000]\tvalid_0's rmse: 0.719198\n",
      "[3000]\tvalid_0's rmse: 0.717066\n",
      "[4000]\tvalid_0's rmse: 0.715972\n",
      "[5000]\tvalid_0's rmse: 0.71519\n",
      "[6000]\tvalid_0's rmse: 0.714723\n",
      "[7000]\tvalid_0's rmse: 0.71451\n",
      "[8000]\tvalid_0's rmse: 0.714354\n",
      "[9000]\tvalid_0's rmse: 0.714241\n",
      "[10000]\tvalid_0's rmse: 0.714151\n",
      "[11000]\tvalid_0's rmse: 0.714105\n",
      "[12000]\tvalid_0's rmse: 0.714074\n",
      "[13000]\tvalid_0's rmse: 0.714044\n",
      "[14000]\tvalid_0's rmse: 0.714028\n",
      "[15000]\tvalid_0's rmse: 0.714011\n",
      "[16000]\tvalid_0's rmse: 0.713999\n",
      "[17000]\tvalid_0's rmse: 0.713989\n",
      "[18000]\tvalid_0's rmse: 0.713978\n",
      "[19000]\tvalid_0's rmse: 0.713971\n",
      "Early stopping, best iteration is:\n",
      "[19568]\tvalid_0's rmse: 0.713968\n",
      "Training until validation scores don't improve for 200 rounds\n"
     ]
    },
    {
     "name": "stderr",
     "output_type": "stream",
     "text": [
      "\u001b[32m[I 2021-08-29 14:37:07,351]\u001b[0m Trial 14 finished with value: 0.7215082448929139 and parameters: {'reg_lambda': 31.9564942262556, 'reg_alpha': 47.228756034856104, 'subsample': 0.8933934903601749, 'colsample_bytree': 0.006322552206687326, 'learning_rate': 0.055972428375695715, 'min_child_samples': 28, 'num_leaves': 115, 'max_depth': 5, 'max_bin': 914, 'cat_smooth': 85, 'cat_l2': 0.23620584120638297}. Best is trial 3 with value: 0.7137613027700954.\u001b[0m\n"
     ]
    },
    {
     "name": "stdout",
     "output_type": "stream",
     "text": [
      "Early stopping, best iteration is:\n",
      "[1]\tvalid_0's rmse: 8.27805\n",
      "Training until validation scores don't improve for 200 rounds\n",
      "Early stopping, best iteration is:\n",
      "[583]\tvalid_0's rmse: 0.715263\n",
      "Training until validation scores don't improve for 200 rounds\n",
      "Early stopping, best iteration is:\n",
      "[618]\tvalid_0's rmse: 0.715264\n"
     ]
    },
    {
     "name": "stderr",
     "output_type": "stream",
     "text": [
      "\u001b[32m[I 2021-08-29 14:37:49,517]\u001b[0m Trial 15 finished with value: 0.7149023468553495 and parameters: {'reg_lambda': 39.516093034547055, 'reg_alpha': 39.78539130532914, 'subsample': 0.9260146879716563, 'colsample_bytree': 0.259159174572729, 'learning_rate': 0.09456507961421803, 'min_child_samples': 38, 'num_leaves': 97, 'max_depth': 7, 'max_bin': 790, 'cat_smooth': 78, 'cat_l2': 0.014878203332212262}. Best is trial 3 with value: 0.7137613027700954.\u001b[0m\n"
     ]
    },
    {
     "name": "stdout",
     "output_type": "stream",
     "text": [
      "Training until validation scores don't improve for 200 rounds\n",
      "[1000]\tvalid_0's rmse: 0.716039\n",
      "[2000]\tvalid_0's rmse: 0.714324\n",
      "Early stopping, best iteration is:\n",
      "[2647]\tvalid_0's rmse: 0.714005\n",
      "Training until validation scores don't improve for 200 rounds\n",
      "[1000]\tvalid_0's rmse: 0.715908\n",
      "[2000]\tvalid_0's rmse: 0.714443\n",
      "[3000]\tvalid_0's rmse: 0.714158\n",
      "Early stopping, best iteration is:\n",
      "[3436]\tvalid_0's rmse: 0.714081\n"
     ]
    },
    {
     "name": "stderr",
     "output_type": "stream",
     "text": [
      "\u001b[32m[I 2021-08-29 14:38:58,018]\u001b[0m Trial 16 finished with value: 0.7139052752091712 and parameters: {'reg_lambda': 44.45429210861202, 'reg_alpha': 43.34449428987668, 'subsample': 0.9687299556821595, 'colsample_bytree': 0.06585408325885012, 'learning_rate': 0.08108355259176023, 'min_child_samples': 12, 'num_leaves': 69, 'max_depth': 4, 'max_bin': 905, 'cat_smooth': 101, 'cat_l2': 0.030837199037477364}. Best is trial 3 with value: 0.7137613027700954.\u001b[0m\n"
     ]
    },
    {
     "name": "stdout",
     "output_type": "stream",
     "text": [
      "Training until validation scores don't improve for 200 rounds\n",
      "[1000]\tvalid_0's rmse: 0.715649\n",
      "Early stopping, best iteration is:\n",
      "[1231]\tvalid_0's rmse: 0.715525\n",
      "Training until validation scores don't improve for 200 rounds\n",
      "[1000]\tvalid_0's rmse: 0.715584\n",
      "Early stopping, best iteration is:\n",
      "[1359]\tvalid_0's rmse: 0.715423\n"
     ]
    },
    {
     "name": "stderr",
     "output_type": "stream",
     "text": [
      "\u001b[32m[I 2021-08-29 14:40:25,743]\u001b[0m Trial 17 finished with value: 0.7152175245945783 and parameters: {'reg_lambda': 33.08149467016466, 'reg_alpha': 31.52638014571597, 'subsample': 0.8726429804826298, 'colsample_bytree': 0.39042627088857196, 'learning_rate': 0.04275755930134243, 'min_child_samples': 24, 'num_leaves': 127, 'max_depth': 7, 'max_bin': 637, 'cat_smooth': 87, 'cat_l2': 0.20416165277724763}. Best is trial 3 with value: 0.7137613027700954.\u001b[0m\n"
     ]
    },
    {
     "name": "stdout",
     "output_type": "stream",
     "text": [
      "Training until validation scores don't improve for 200 rounds\n",
      "[1000]\tvalid_0's rmse: 0.717695\n",
      "[2000]\tvalid_0's rmse: 0.714939\n",
      "[3000]\tvalid_0's rmse: 0.714177\n",
      "[4000]\tvalid_0's rmse: 0.713967\n",
      "Early stopping, best iteration is:\n",
      "[4622]\tvalid_0's rmse: 0.713923\n",
      "Training until validation scores don't improve for 200 rounds\n",
      "[1000]\tvalid_0's rmse: 0.718191\n",
      "[2000]\tvalid_0's rmse: 0.715184\n",
      "[3000]\tvalid_0's rmse: 0.714514\n",
      "[4000]\tvalid_0's rmse: 0.71428\n",
      "Early stopping, best iteration is:\n",
      "[4197]\tvalid_0's rmse: 0.71427\n"
     ]
    },
    {
     "name": "stderr",
     "output_type": "stream",
     "text": [
      "\u001b[32m[I 2021-08-29 14:42:49,661]\u001b[0m Trial 18 finished with value: 0.7138041893992176 and parameters: {'reg_lambda': 37.68921453136633, 'reg_alpha': 33.96202975962493, 'subsample': 0.9138254974051203, 'colsample_bytree': 0.12700611911698031, 'learning_rate': 0.029365513994247618, 'min_child_samples': 32, 'num_leaves': 93, 'max_depth': 5, 'max_bin': 985, 'cat_smooth': 79, 'cat_l2': 0.004184249645513462}. Best is trial 3 with value: 0.7137613027700954.\u001b[0m\n"
     ]
    },
    {
     "name": "stdout",
     "output_type": "stream",
     "text": [
      "Training until validation scores don't improve for 200 rounds\n",
      "[1000]\tvalid_0's rmse: 0.720966\n",
      "[2000]\tvalid_0's rmse: 0.717474\n",
      "[3000]\tvalid_0's rmse: 0.715859\n",
      "[4000]\tvalid_0's rmse: 0.714906\n",
      "[5000]\tvalid_0's rmse: 0.7144\n",
      "[6000]\tvalid_0's rmse: 0.714142\n",
      "[7000]\tvalid_0's rmse: 0.714019\n",
      "Early stopping, best iteration is:\n",
      "[7736]\tvalid_0's rmse: 0.713981\n",
      "Training until validation scores don't improve for 200 rounds\n",
      "[1000]\tvalid_0's rmse: 0.721023\n",
      "[2000]\tvalid_0's rmse: 0.717475\n",
      "[3000]\tvalid_0's rmse: 0.715878\n",
      "[4000]\tvalid_0's rmse: 0.714933\n",
      "[5000]\tvalid_0's rmse: 0.714437\n",
      "[6000]\tvalid_0's rmse: 0.714155\n",
      "[7000]\tvalid_0's rmse: 0.714028\n",
      "Early stopping, best iteration is:\n",
      "[7654]\tvalid_0's rmse: 0.713977\n"
     ]
    },
    {
     "name": "stderr",
     "output_type": "stream",
     "text": [
      "\u001b[32m[I 2021-08-29 14:45:38,266]\u001b[0m Trial 19 finished with value: 0.713887174979145 and parameters: {'reg_lambda': 37.16059821628127, 'reg_alpha': 34.61606161346828, 'subsample': 0.9066939986473218, 'colsample_bytree': 0.13403307077956678, 'learning_rate': 0.07261446831259767, 'min_child_samples': 39, 'num_leaves': 93, 'max_depth': 2, 'max_bin': 701, 'cat_smooth': 101, 'cat_l2': 0.0011962139665362668}. Best is trial 3 with value: 0.7137613027700954.\u001b[0m\n"
     ]
    },
    {
     "name": "stdout",
     "output_type": "stream",
     "text": [
      "Training until validation scores don't improve for 200 rounds\n",
      "[1000]\tvalid_0's rmse: 0.716111\n",
      "[2000]\tvalid_0's rmse: 0.714392\n",
      "[3000]\tvalid_0's rmse: 0.714109\n",
      "Early stopping, best iteration is:\n",
      "[3001]\tvalid_0's rmse: 0.714107\n",
      "Training until validation scores don't improve for 200 rounds\n",
      "[1000]\tvalid_0's rmse: 0.715855\n",
      "[2000]\tvalid_0's rmse: 0.714222\n",
      "Early stopping, best iteration is:\n",
      "[2550]\tvalid_0's rmse: 0.714021\n"
     ]
    },
    {
     "name": "stderr",
     "output_type": "stream",
     "text": [
      "\u001b[32m[I 2021-08-29 14:47:08,520]\u001b[0m Trial 20 finished with value: 0.7138976813091181 and parameters: {'reg_lambda': 32.69851066545118, 'reg_alpha': 28.424856777184495, 'subsample': 0.9950391249471355, 'colsample_bytree': 0.192242105442149, 'learning_rate': 0.05339352532326981, 'min_child_samples': 4, 'num_leaves': 107, 'max_depth': 4, 'max_bin': 807, 'cat_smooth': 90, 'cat_l2': 0.004158643560891313}. Best is trial 3 with value: 0.7137613027700954.\u001b[0m\n"
     ]
    },
    {
     "name": "stdout",
     "output_type": "stream",
     "text": [
      "Training until validation scores don't improve for 200 rounds\n",
      "[1000]\tvalid_0's rmse: 0.717336\n",
      "[2000]\tvalid_0's rmse: 0.71472\n",
      "[3000]\tvalid_0's rmse: 0.713961\n",
      "[4000]\tvalid_0's rmse: 0.713723\n",
      "Early stopping, best iteration is:\n",
      "[4407]\tvalid_0's rmse: 0.713691\n",
      "Training until validation scores don't improve for 200 rounds\n",
      "[1000]\tvalid_0's rmse: 0.717429\n",
      "[2000]\tvalid_0's rmse: 0.714836\n",
      "[3000]\tvalid_0's rmse: 0.71415\n",
      "[4000]\tvalid_0's rmse: 0.713923\n",
      "Early stopping, best iteration is:\n",
      "[3992]\tvalid_0's rmse: 0.71392\n"
     ]
    },
    {
     "name": "stderr",
     "output_type": "stream",
     "text": [
      "\u001b[32m[I 2021-08-29 14:49:21,713]\u001b[0m Trial 21 finished with value: 0.713703570478098 and parameters: {'reg_lambda': 41.03628312626444, 'reg_alpha': 38.41940339833245, 'subsample': 0.9134939033084765, 'colsample_bytree': 0.09987634015871047, 'learning_rate': 0.03003500277878182, 'min_child_samples': 32, 'num_leaves': 73, 'max_depth': 5, 'max_bin': 980, 'cat_smooth': 73, 'cat_l2': 0.004516582815139025}. Best is trial 21 with value: 0.713703570478098.\u001b[0m\n"
     ]
    },
    {
     "name": "stdout",
     "output_type": "stream",
     "text": [
      "Training until validation scores don't improve for 200 rounds\n",
      "[1000]\tvalid_0's rmse: 0.719607\n",
      "[2000]\tvalid_0's rmse: 0.715886\n",
      "[3000]\tvalid_0's rmse: 0.714664\n",
      "[4000]\tvalid_0's rmse: 0.714099\n",
      "[5000]\tvalid_0's rmse: 0.713844\n",
      "[6000]\tvalid_0's rmse: 0.713723\n",
      "[7000]\tvalid_0's rmse: 0.713686\n",
      "Early stopping, best iteration is:\n",
      "[6884]\tvalid_0's rmse: 0.71368\n",
      "Training until validation scores don't improve for 200 rounds\n",
      "[1000]\tvalid_0's rmse: 0.719816\n",
      "[2000]\tvalid_0's rmse: 0.716004\n",
      "[3000]\tvalid_0's rmse: 0.71477\n",
      "[4000]\tvalid_0's rmse: 0.714249\n",
      "[5000]\tvalid_0's rmse: 0.713998\n",
      "[6000]\tvalid_0's rmse: 0.713904\n",
      "Early stopping, best iteration is:\n",
      "[6587]\tvalid_0's rmse: 0.71388\n"
     ]
    },
    {
     "name": "stderr",
     "output_type": "stream",
     "text": [
      "\u001b[32m[I 2021-08-29 14:52:49,380]\u001b[0m Trial 22 finished with value: 0.7136800897091226 and parameters: {'reg_lambda': 42.18013570792163, 'reg_alpha': 38.521869828980904, 'subsample': 0.917759532576613, 'colsample_bytree': 0.10220689704949325, 'learning_rate': 0.020573700487761252, 'min_child_samples': 33, 'num_leaves': 89, 'max_depth': 5, 'max_bin': 982, 'cat_smooth': 80, 'cat_l2': 0.002790830762775057}. Best is trial 22 with value: 0.7136800897091226.\u001b[0m\n"
     ]
    },
    {
     "name": "stdout",
     "output_type": "stream",
     "text": [
      "Training until validation scores don't improve for 200 rounds\n",
      "[1000]\tvalid_0's rmse: 0.724955\n",
      "[2000]\tvalid_0's rmse: 0.719462\n",
      "[3000]\tvalid_0's rmse: 0.717121\n",
      "[4000]\tvalid_0's rmse: 0.715817\n",
      "[5000]\tvalid_0's rmse: 0.715097\n",
      "[6000]\tvalid_0's rmse: 0.714622\n",
      "[7000]\tvalid_0's rmse: 0.714321\n",
      "[8000]\tvalid_0's rmse: 0.714116\n",
      "[9000]\tvalid_0's rmse: 0.713952\n",
      "[10000]\tvalid_0's rmse: 0.713826\n",
      "[11000]\tvalid_0's rmse: 0.713759\n",
      "Early stopping, best iteration is:\n",
      "[11154]\tvalid_0's rmse: 0.713749\n",
      "Training until validation scores don't improve for 200 rounds\n",
      "[1000]\tvalid_0's rmse: 0.725453\n",
      "[2000]\tvalid_0's rmse: 0.719758\n",
      "[3000]\tvalid_0's rmse: 0.717289\n",
      "[4000]\tvalid_0's rmse: 0.715921\n",
      "[5000]\tvalid_0's rmse: 0.715185\n",
      "[6000]\tvalid_0's rmse: 0.714693\n",
      "[7000]\tvalid_0's rmse: 0.714395\n",
      "[8000]\tvalid_0's rmse: 0.714193\n",
      "[9000]\tvalid_0's rmse: 0.714069\n",
      "[10000]\tvalid_0's rmse: 0.713975\n",
      "[11000]\tvalid_0's rmse: 0.713914\n",
      "[12000]\tvalid_0's rmse: 0.71388\n",
      "Early stopping, best iteration is:\n",
      "[12283]\tvalid_0's rmse: 0.713867\n"
     ]
    },
    {
     "name": "stderr",
     "output_type": "stream",
     "text": [
      "\u001b[32m[I 2021-08-29 14:58:10,686]\u001b[0m Trial 23 finished with value: 0.7137305200324163 and parameters: {'reg_lambda': 41.63201449683488, 'reg_alpha': 38.58314013565402, 'subsample': 0.9559664234649148, 'colsample_bytree': 0.09804412545693127, 'learning_rate': 0.010575013850304231, 'min_child_samples': 25, 'num_leaves': 67, 'max_depth': 5, 'max_bin': 1030, 'cat_smooth': 59, 'cat_l2': 0.0016380773119503472}. Best is trial 22 with value: 0.7136800897091226.\u001b[0m\n"
     ]
    },
    {
     "name": "stdout",
     "output_type": "stream",
     "text": [
      "Training until validation scores don't improve for 200 rounds\n",
      "[1000]\tvalid_0's rmse: 0.728617\n",
      "[2000]\tvalid_0's rmse: 0.723818\n",
      "[3000]\tvalid_0's rmse: 0.721249\n",
      "[4000]\tvalid_0's rmse: 0.719513\n",
      "[5000]\tvalid_0's rmse: 0.718265\n",
      "[6000]\tvalid_0's rmse: 0.717366\n",
      "[7000]\tvalid_0's rmse: 0.716679\n",
      "[8000]\tvalid_0's rmse: 0.716157\n",
      "[9000]\tvalid_0's rmse: 0.715712\n",
      "[10000]\tvalid_0's rmse: 0.71532\n",
      "[11000]\tvalid_0's rmse: 0.715016\n",
      "[12000]\tvalid_0's rmse: 0.714762\n",
      "[13000]\tvalid_0's rmse: 0.714558\n",
      "[14000]\tvalid_0's rmse: 0.714378\n",
      "[15000]\tvalid_0's rmse: 0.714247\n",
      "[16000]\tvalid_0's rmse: 0.714139\n",
      "[17000]\tvalid_0's rmse: 0.714045\n",
      "[18000]\tvalid_0's rmse: 0.713972\n",
      "[19000]\tvalid_0's rmse: 0.713911\n",
      "[20000]\tvalid_0's rmse: 0.713865\n",
      "Did not meet early stopping. Best iteration is:\n",
      "[20000]\tvalid_0's rmse: 0.713865\n",
      "Training until validation scores don't improve for 200 rounds\n",
      "[1000]\tvalid_0's rmse: 0.72895\n",
      "[2000]\tvalid_0's rmse: 0.7241\n",
      "[3000]\tvalid_0's rmse: 0.721314\n",
      "[4000]\tvalid_0's rmse: 0.719523\n",
      "[5000]\tvalid_0's rmse: 0.718223\n",
      "[6000]\tvalid_0's rmse: 0.717293\n",
      "[7000]\tvalid_0's rmse: 0.716601\n",
      "[8000]\tvalid_0's rmse: 0.716054\n",
      "[9000]\tvalid_0's rmse: 0.715639\n",
      "[10000]\tvalid_0's rmse: 0.71527\n",
      "[11000]\tvalid_0's rmse: 0.714974\n",
      "[12000]\tvalid_0's rmse: 0.714723\n",
      "[13000]\tvalid_0's rmse: 0.714532\n",
      "[14000]\tvalid_0's rmse: 0.714384\n",
      "[15000]\tvalid_0's rmse: 0.714249\n",
      "[16000]\tvalid_0's rmse: 0.714139\n",
      "[17000]\tvalid_0's rmse: 0.714046\n",
      "[18000]\tvalid_0's rmse: 0.713986\n",
      "[19000]\tvalid_0's rmse: 0.713916\n",
      "[20000]\tvalid_0's rmse: 0.71387\n",
      "Did not meet early stopping. Best iteration is:\n",
      "[19952]\tvalid_0's rmse: 0.713869\n"
     ]
    },
    {
     "name": "stderr",
     "output_type": "stream",
     "text": [
      "\u001b[32m[I 2021-08-29 15:05:09,889]\u001b[0m Trial 24 finished with value: 0.7137888216283397 and parameters: {'reg_lambda': 45.96954023402704, 'reg_alpha': 37.640946683679545, 'subsample': 0.9468996778396712, 'colsample_bytree': 0.10891147373737105, 'learning_rate': 0.01157433344984015, 'min_child_samples': 24, 'num_leaves': 70, 'max_depth': 3, 'max_bin': 1007, 'cat_smooth': 59, 'cat_l2': 0.0017338508215338333}. Best is trial 22 with value: 0.7136800897091226.\u001b[0m\n"
     ]
    },
    {
     "name": "stdout",
     "output_type": "stream",
     "text": [
      "Training until validation scores don't improve for 200 rounds\n",
      "[1000]\tvalid_0's rmse: 0.724661\n",
      "[2000]\tvalid_0's rmse: 0.720077\n",
      "[3000]\tvalid_0's rmse: 0.717671\n",
      "[4000]\tvalid_0's rmse: 0.716473\n",
      "[5000]\tvalid_0's rmse: 0.715674\n",
      "[6000]\tvalid_0's rmse: 0.715148\n",
      "[7000]\tvalid_0's rmse: 0.714759\n",
      "[8000]\tvalid_0's rmse: 0.71448\n",
      "[9000]\tvalid_0's rmse: 0.71423\n",
      "[10000]\tvalid_0's rmse: 0.714053\n",
      "[11000]\tvalid_0's rmse: 0.713919\n",
      "[12000]\tvalid_0's rmse: 0.713812\n",
      "[13000]\tvalid_0's rmse: 0.713735\n",
      "[14000]\tvalid_0's rmse: 0.713698\n",
      "[15000]\tvalid_0's rmse: 0.713657\n",
      "Early stopping, best iteration is:\n",
      "[15700]\tvalid_0's rmse: 0.713618\n",
      "Training until validation scores don't improve for 200 rounds\n",
      "[1000]\tvalid_0's rmse: 0.726877\n",
      "[2000]\tvalid_0's rmse: 0.721999\n",
      "[3000]\tvalid_0's rmse: 0.719592\n",
      "[4000]\tvalid_0's rmse: 0.717858\n",
      "[5000]\tvalid_0's rmse: 0.716751\n",
      "[6000]\tvalid_0's rmse: 0.716001\n",
      "[7000]\tvalid_0's rmse: 0.715468\n",
      "[8000]\tvalid_0's rmse: 0.715101\n",
      "[9000]\tvalid_0's rmse: 0.714835\n",
      "[10000]\tvalid_0's rmse: 0.714619\n",
      "[11000]\tvalid_0's rmse: 0.714469\n",
      "[12000]\tvalid_0's rmse: 0.714332\n",
      "[13000]\tvalid_0's rmse: 0.714235\n",
      "[14000]\tvalid_0's rmse: 0.714176\n",
      "[15000]\tvalid_0's rmse: 0.714144\n",
      "[16000]\tvalid_0's rmse: 0.714086\n",
      "[17000]\tvalid_0's rmse: 0.714057\n",
      "[18000]\tvalid_0's rmse: 0.714019\n",
      "Early stopping, best iteration is:\n",
      "[18770]\tvalid_0's rmse: 0.713993\n"
     ]
    },
    {
     "name": "stderr",
     "output_type": "stream",
     "text": [
      "\u001b[32m[I 2021-08-29 15:09:39,303]\u001b[0m Trial 25 finished with value: 0.7135805321548033 and parameters: {'reg_lambda': 41.78296284134347, 'reg_alpha': 38.33783791655099, 'subsample': 0.976360319972227, 'colsample_bytree': 0.09092207097566063, 'learning_rate': 0.022034096577430256, 'min_child_samples': 34, 'num_leaves': 67, 'max_depth': 3, 'max_bin': 1029, 'cat_smooth': 70, 'cat_l2': 0.0010825325380121003}. Best is trial 25 with value: 0.7135805321548033.\u001b[0m\n"
     ]
    },
    {
     "name": "stdout",
     "output_type": "stream",
     "text": [
      "Training until validation scores don't improve for 200 rounds\n",
      "[1000]\tvalid_0's rmse: 0.723196\n",
      "[2000]\tvalid_0's rmse: 0.719096\n",
      "[3000]\tvalid_0's rmse: 0.717027\n",
      "[4000]\tvalid_0's rmse: 0.715785\n",
      "[5000]\tvalid_0's rmse: 0.715044\n",
      "[6000]\tvalid_0's rmse: 0.714592\n",
      "[7000]\tvalid_0's rmse: 0.714299\n",
      "[8000]\tvalid_0's rmse: 0.714124\n",
      "[9000]\tvalid_0's rmse: 0.714004\n",
      "[10000]\tvalid_0's rmse: 0.713955\n",
      "Early stopping, best iteration is:\n",
      "[10758]\tvalid_0's rmse: 0.713924\n",
      "Training until validation scores don't improve for 200 rounds\n",
      "[1000]\tvalid_0's rmse: 0.723187\n",
      "[2000]\tvalid_0's rmse: 0.719196\n",
      "[3000]\tvalid_0's rmse: 0.717115\n",
      "[4000]\tvalid_0's rmse: 0.715884\n",
      "[5000]\tvalid_0's rmse: 0.715132\n",
      "[6000]\tvalid_0's rmse: 0.714645\n",
      "[7000]\tvalid_0's rmse: 0.714336\n",
      "[8000]\tvalid_0's rmse: 0.714146\n",
      "[9000]\tvalid_0's rmse: 0.714\n",
      "[10000]\tvalid_0's rmse: 0.713916\n",
      "Early stopping, best iteration is:\n",
      "[10789]\tvalid_0's rmse: 0.713881\n"
     ]
    },
    {
     "name": "stderr",
     "output_type": "stream",
     "text": [
      "\u001b[32m[I 2021-08-29 15:14:36,667]\u001b[0m Trial 26 finished with value: 0.713813240995753 and parameters: {'reg_lambda': 47.14127977152032, 'reg_alpha': 36.13561326041185, 'subsample': 0.9767046498020526, 'colsample_bytree': 0.22292593798476953, 'learning_rate': 0.02130032518110561, 'min_child_samples': 35, 'num_leaves': 82, 'max_depth': 3, 'max_bin': 976, 'cat_smooth': 70, 'cat_l2': 0.008202944267429362}. Best is trial 25 with value: 0.7135805321548033.\u001b[0m\n"
     ]
    },
    {
     "name": "stdout",
     "output_type": "stream",
     "text": [
      "Training until validation scores don't improve for 200 rounds\n",
      "[1000]\tvalid_0's rmse: 0.720767\n",
      "[2000]\tvalid_0's rmse: 0.717096\n",
      "[3000]\tvalid_0's rmse: 0.715612\n",
      "[4000]\tvalid_0's rmse: 0.714882\n",
      "[5000]\tvalid_0's rmse: 0.714442\n",
      "[6000]\tvalid_0's rmse: 0.714227\n",
      "[7000]\tvalid_0's rmse: 0.714125\n",
      "Early stopping, best iteration is:\n",
      "[7737]\tvalid_0's rmse: 0.714092\n",
      "Training until validation scores don't improve for 200 rounds\n",
      "[1000]\tvalid_0's rmse: 0.72042\n",
      "[2000]\tvalid_0's rmse: 0.717005\n",
      "[3000]\tvalid_0's rmse: 0.715518\n",
      "[4000]\tvalid_0's rmse: 0.714778\n",
      "[5000]\tvalid_0's rmse: 0.714392\n",
      "[6000]\tvalid_0's rmse: 0.714184\n",
      "[7000]\tvalid_0's rmse: 0.714095\n",
      "Early stopping, best iteration is:\n",
      "[7461]\tvalid_0's rmse: 0.71407\n"
     ]
    },
    {
     "name": "stderr",
     "output_type": "stream",
     "text": [
      "\u001b[32m[I 2021-08-29 15:18:24,905]\u001b[0m Trial 27 finished with value: 0.713978770629201 and parameters: {'reg_lambda': 52.19670375311056, 'reg_alpha': 39.16867089545991, 'subsample': 0.9954267188995569, 'colsample_bytree': 0.16428486882582982, 'learning_rate': 0.021861336654897385, 'min_child_samples': 50, 'num_leaves': 58, 'max_depth': 4, 'max_bin': 900, 'cat_smooth': 81, 'cat_l2': 0.0025388134128869868}. Best is trial 25 with value: 0.7135805321548033.\u001b[0m\n"
     ]
    },
    {
     "name": "stdout",
     "output_type": "stream",
     "text": [
      "Training until validation scores don't improve for 200 rounds\n",
      "[1000]\tvalid_0's rmse: 0.724243\n",
      "[2000]\tvalid_0's rmse: 0.719637\n",
      "[3000]\tvalid_0's rmse: 0.717549\n",
      "[4000]\tvalid_0's rmse: 0.716223\n",
      "[5000]\tvalid_0's rmse: 0.715474\n",
      "[6000]\tvalid_0's rmse: 0.714935\n",
      "[7000]\tvalid_0's rmse: 0.714588\n",
      "[8000]\tvalid_0's rmse: 0.714299\n",
      "[9000]\tvalid_0's rmse: 0.714157\n",
      "[10000]\tvalid_0's rmse: 0.714052\n",
      "[11000]\tvalid_0's rmse: 0.713955\n",
      "[12000]\tvalid_0's rmse: 0.713901\n",
      "Early stopping, best iteration is:\n",
      "[11980]\tvalid_0's rmse: 0.713896\n",
      "Training until validation scores don't improve for 200 rounds\n",
      "[1000]\tvalid_0's rmse: 0.723948\n",
      "[2000]\tvalid_0's rmse: 0.719796\n",
      "[3000]\tvalid_0's rmse: 0.717392\n",
      "[4000]\tvalid_0's rmse: 0.716206\n",
      "[5000]\tvalid_0's rmse: 0.715447\n",
      "[6000]\tvalid_0's rmse: 0.714873\n",
      "[7000]\tvalid_0's rmse: 0.714541\n",
      "[8000]\tvalid_0's rmse: 0.714278\n",
      "[9000]\tvalid_0's rmse: 0.7141\n",
      "[10000]\tvalid_0's rmse: 0.714008\n",
      "[11000]\tvalid_0's rmse: 0.713899\n",
      "[12000]\tvalid_0's rmse: 0.713829\n",
      "Early stopping, best iteration is:\n",
      "[12104]\tvalid_0's rmse: 0.713828\n"
     ]
    },
    {
     "name": "stderr",
     "output_type": "stream",
     "text": [
      "\u001b[32m[I 2021-08-29 15:22:10,944]\u001b[0m Trial 28 finished with value: 0.7137679030543781 and parameters: {'reg_lambda': 42.13735356662759, 'reg_alpha': 36.14968851846132, 'subsample': 0.9159595470755406, 'colsample_bytree': 0.04226565784406397, 'learning_rate': 0.03872902654480494, 'min_child_samples': 40, 'num_leaves': 75, 'max_depth': 3, 'max_bin': 968, 'cat_smooth': 73, 'cat_l2': 0.0010895029069886582}. Best is trial 25 with value: 0.7135805321548033.\u001b[0m\n"
     ]
    },
    {
     "name": "stdout",
     "output_type": "stream",
     "text": [
      "Training until validation scores don't improve for 200 rounds\n",
      "[1000]\tvalid_0's rmse: 0.717834\n",
      "[2000]\tvalid_0's rmse: 0.715348\n",
      "[3000]\tvalid_0's rmse: 0.714625\n",
      "[4000]\tvalid_0's rmse: 0.714447\n",
      "Early stopping, best iteration is:\n",
      "[4100]\tvalid_0's rmse: 0.714429\n",
      "Training until validation scores don't improve for 200 rounds\n",
      "[1000]\tvalid_0's rmse: 0.717866\n",
      "[2000]\tvalid_0's rmse: 0.71544\n",
      "[3000]\tvalid_0's rmse: 0.714686\n",
      "[4000]\tvalid_0's rmse: 0.714513\n",
      "Early stopping, best iteration is:\n",
      "[4166]\tvalid_0's rmse: 0.714493\n"
     ]
    },
    {
     "name": "stderr",
     "output_type": "stream",
     "text": [
      "\u001b[32m[I 2021-08-29 15:25:19,397]\u001b[0m Trial 29 finished with value: 0.7143512267938333 and parameters: {'reg_lambda': 45.142900629819074, 'reg_alpha': 37.09410010960552, 'subsample': 0.9595494045949351, 'colsample_bytree': 0.23565381130545318, 'learning_rate': 0.0188244065800554, 'min_child_samples': 43, 'num_leaves': 85, 'max_depth': 6, 'max_bin': 1032, 'cat_smooth': 64, 'cat_l2': 0.009414837433348032}. Best is trial 25 with value: 0.7135805321548033.\u001b[0m\n"
     ]
    },
    {
     "name": "stdout",
     "output_type": "stream",
     "text": [
      "Number of finished trials: 30\n",
      "Best trial: {'reg_lambda': 41.78296284134347, 'reg_alpha': 38.33783791655099, 'subsample': 0.976360319972227, 'colsample_bytree': 0.09092207097566063, 'learning_rate': 0.022034096577430256, 'min_child_samples': 34, 'num_leaves': 67, 'max_depth': 3, 'max_bin': 1029, 'cat_smooth': 70, 'cat_l2': 0.0010825325380121003}\n"
     ]
    }
   ],
   "source": [
    "study = optuna.create_study(direction='minimize')\n",
    "study.optimize(objective,n_trials= 30)\n",
    "print('Number of finished trials:', len(study.trials))\n",
    "print('Best trial:', study.best_trial.params)"
   ]
  },
  {
   "cell_type": "code",
   "execution_count": 13,
   "id": "21975d72",
   "metadata": {
    "execution": {
     "iopub.execute_input": "2021-08-29T15:25:19.944298Z",
     "iopub.status.busy": "2021-08-29T15:25:19.943412Z",
     "iopub.status.idle": "2021-08-29T15:25:19.946954Z",
     "shell.execute_reply": "2021-08-29T15:25:19.947469Z"
    },
    "papermill": {
     "duration": 0.190357,
     "end_time": "2021-08-29T15:25:19.947651",
     "exception": false,
     "start_time": "2021-08-29T15:25:19.757294",
     "status": "completed"
    },
    "tags": []
   },
   "outputs": [
    {
     "data": {
      "text/plain": [
       "{'reg_lambda': 41.78296284134347,\n",
       " 'reg_alpha': 38.33783791655099,\n",
       " 'subsample': 0.976360319972227,\n",
       " 'colsample_bytree': 0.09092207097566063,\n",
       " 'learning_rate': 0.022034096577430256,\n",
       " 'min_child_samples': 34,\n",
       " 'num_leaves': 67,\n",
       " 'max_depth': 3,\n",
       " 'max_bin': 1029,\n",
       " 'cat_smooth': 70,\n",
       " 'cat_l2': 0.0010825325380121003}"
      ]
     },
     "execution_count": 13,
     "metadata": {},
     "output_type": "execute_result"
    }
   ],
   "source": [
    "study.best_params"
   ]
  },
  {
   "cell_type": "markdown",
   "id": "c8dafbf3",
   "metadata": {
    "papermill": {
     "duration": 0.17895,
     "end_time": "2021-08-29T15:25:20.302474",
     "exception": false,
     "start_time": "2021-08-29T15:25:20.123524",
     "status": "completed"
    },
    "tags": []
   },
   "source": [
    "# Log\n",
    "\n",
    "====== Ordinal encoding =========\n",
    "\n",
    "0.7179915711010899 row-wise noise ver4\n",
    "\n",
    "0.7180313553153085 random noise ver5\n",
    "\n",
    "0.7145452167048295 no noise ver6\n",
    "\n",
    "0.7143969338945801 no noise ver10 (narrow space)\n",
    "\n",
    "0.7141318460599843 no noise ver11 (narrow space)\n",
    "\n",
    "0.7140261333995335 no noise ver12 (narrow space)\n",
    "\n",
    "0.7139793127526392 no noise ver13 (narrow space) final\n",
    "\n",
    "====== One-hot encoding =========\n",
    "\n",
    "0.7242254028037789 no noise ver7\n",
    "\n",
    "0.7264762744397595 random noise ver8\n",
    "\n",
    "0.7265375795882082 row-wise noise ver9\n",
    "\n",
    "0.7138071888962808 no noise ver16\n",
    "\n",
    "narrow\n"
   ]
  }
 ],
 "metadata": {
  "kernelspec": {
   "display_name": "Python 3",
   "language": "python",
   "name": "python3"
  },
  "language_info": {
   "codemirror_mode": {
    "name": "ipython",
    "version": 3
   },
   "file_extension": ".py",
   "mimetype": "text/x-python",
   "name": "python",
   "nbconvert_exporter": "python",
   "pygments_lexer": "ipython3",
   "version": "3.7.10"
  },
  "papermill": {
   "default_parameters": {},
   "duration": 5069.590817,
   "end_time": "2021-08-29T15:25:21.813101",
   "environment_variables": {},
   "exception": null,
   "input_path": "__notebook__.ipynb",
   "output_path": "__notebook__.ipynb",
   "parameters": {},
   "start_time": "2021-08-29T14:00:52.222284",
   "version": "2.3.3"
  }
 },
 "nbformat": 4,
 "nbformat_minor": 5
}
