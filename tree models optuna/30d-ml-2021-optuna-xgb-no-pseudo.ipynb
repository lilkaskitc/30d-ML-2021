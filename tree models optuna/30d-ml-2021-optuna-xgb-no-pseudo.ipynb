{
 "cells": [
  {
   "cell_type": "code",
   "execution_count": 1,
   "id": "197bfcf8",
   "metadata": {
    "_cell_guid": "b1076dfc-b9ad-4769-8c92-a6c4dae69d19",
    "_uuid": "8f2839f25d086af736a60e9eeb907d3b93b6e0e5",
    "execution": {
     "iopub.execute_input": "2021-08-22T23:09:26.686742Z",
     "iopub.status.busy": "2021-08-22T23:09:26.685661Z",
     "iopub.status.idle": "2021-08-22T23:09:27.723839Z",
     "shell.execute_reply": "2021-08-22T23:09:27.722917Z",
     "shell.execute_reply.started": "2021-08-20T03:56:01.134073Z"
    },
    "papermill": {
     "duration": 1.055574,
     "end_time": "2021-08-22T23:09:27.724036",
     "exception": false,
     "start_time": "2021-08-22T23:09:26.668462",
     "status": "completed"
    },
    "tags": []
   },
   "outputs": [],
   "source": [
    "# Familiar imports\n",
    "import numpy as np\n",
    "import pandas as pd\n",
    "import random\n",
    "import os\n",
    "import time\n",
    "from pathlib import Path\n",
    "\n",
    "from sklearn.preprocessing import StandardScaler\n",
    "from sklearn.model_selection import KFold, train_test_split\n",
    "from sklearn.metrics import mean_squared_error\n",
    "from sklearn.preprocessing import OrdinalEncoder, OneHotEncoder\n",
    "\n",
    "#import lightgbm as lgb\n",
    "import xgboost as xgb\n",
    "#import catboost as ctb\n",
    "\n",
    "import warnings\n",
    "warnings.simplefilter('ignore')"
   ]
  },
  {
   "cell_type": "markdown",
   "id": "0730586c",
   "metadata": {
    "papermill": {
     "duration": 0.012559,
     "end_time": "2021-08-22T23:09:27.750534",
     "exception": false,
     "start_time": "2021-08-22T23:09:27.737975",
     "status": "completed"
    },
    "tags": []
   },
   "source": [
    "# Parameters"
   ]
  },
  {
   "cell_type": "code",
   "execution_count": 2,
   "id": "09096caf",
   "metadata": {
    "execution": {
     "iopub.execute_input": "2021-08-22T23:09:27.783910Z",
     "iopub.status.busy": "2021-08-22T23:09:27.782997Z",
     "iopub.status.idle": "2021-08-22T23:09:27.785895Z",
     "shell.execute_reply": "2021-08-22T23:09:27.785389Z",
     "shell.execute_reply.started": "2021-08-20T03:56:02.020554Z"
    },
    "papermill": {
     "duration": 0.022278,
     "end_time": "2021-08-22T23:09:27.786015",
     "exception": false,
     "start_time": "2021-08-22T23:09:27.763737",
     "status": "completed"
    },
    "tags": []
   },
   "outputs": [],
   "source": [
    "target = 'target'\n",
    "\n",
    "DEBUG = False\n",
    "\n",
    "if DEBUG:\n",
    "    N_ESTIMATORS = 1\n",
    "    N_SPLITS = 2\n",
    "    SEED = 17\n",
    "    CVSEED = 17\n",
    "    EARLY_STOPPING_ROUNDS = 1\n",
    "    VERBOSE = 100\n",
    "    #N_ITERS = 2\n",
    "else:\n",
    "    N_SPLITS = 10\n",
    "    N_ESTIMATORS = 20000\n",
    "    EARLY_STOPPING_ROUNDS = 200\n",
    "    VERBOSE = 1000\n",
    "    SEED = 17\n",
    "    CVSEED = 17\n",
    "    #N_ITERS = 10"
   ]
  },
  {
   "cell_type": "code",
   "execution_count": 3,
   "id": "64eeefd0",
   "metadata": {
    "execution": {
     "iopub.execute_input": "2021-08-22T23:09:27.816878Z",
     "iopub.status.busy": "2021-08-22T23:09:27.816065Z",
     "iopub.status.idle": "2021-08-22T23:09:27.818238Z",
     "shell.execute_reply": "2021-08-22T23:09:27.818769Z",
     "shell.execute_reply.started": "2021-08-20T03:56:02.02947Z"
    },
    "papermill": {
     "duration": 0.019908,
     "end_time": "2021-08-22T23:09:27.818920",
     "exception": false,
     "start_time": "2021-08-22T23:09:27.799012",
     "status": "completed"
    },
    "tags": []
   },
   "outputs": [],
   "source": [
    "def set_seed(seed=17):\n",
    "    random.seed(seed)\n",
    "    os.environ['PYTHONHASHSEED'] = str(seed)\n",
    "    np.random.seed(seed)\n",
    "    \n",
    "set_seed(SEED)"
   ]
  },
  {
   "cell_type": "markdown",
   "id": "47987d04",
   "metadata": {
    "papermill": {
     "duration": 0.01218,
     "end_time": "2021-08-22T23:09:27.843704",
     "exception": false,
     "start_time": "2021-08-22T23:09:27.831524",
     "status": "completed"
    },
    "tags": []
   },
   "source": [
    "# Load data"
   ]
  },
  {
   "cell_type": "code",
   "execution_count": 4,
   "id": "3fba0557",
   "metadata": {
    "execution": {
     "iopub.execute_input": "2021-08-22T23:09:27.879167Z",
     "iopub.status.busy": "2021-08-22T23:09:27.878266Z",
     "iopub.status.idle": "2021-08-22T23:09:31.373922Z",
     "shell.execute_reply": "2021-08-22T23:09:31.374544Z",
     "shell.execute_reply.started": "2021-08-20T03:56:02.037744Z"
    },
    "papermill": {
     "duration": 3.516979,
     "end_time": "2021-08-22T23:09:31.374711",
     "exception": false,
     "start_time": "2021-08-22T23:09:27.857732",
     "status": "completed"
    },
    "tags": []
   },
   "outputs": [
    {
     "data": {
      "text/html": [
       "<div>\n",
       "<style scoped>\n",
       "    .dataframe tbody tr th:only-of-type {\n",
       "        vertical-align: middle;\n",
       "    }\n",
       "\n",
       "    .dataframe tbody tr th {\n",
       "        vertical-align: top;\n",
       "    }\n",
       "\n",
       "    .dataframe thead th {\n",
       "        text-align: right;\n",
       "    }\n",
       "</style>\n",
       "<table border=\"1\" class=\"dataframe\">\n",
       "  <thead>\n",
       "    <tr style=\"text-align: right;\">\n",
       "      <th></th>\n",
       "      <th>id</th>\n",
       "      <th>cat0</th>\n",
       "      <th>cat1</th>\n",
       "      <th>cat2</th>\n",
       "      <th>cat3</th>\n",
       "      <th>cat4</th>\n",
       "      <th>cat5</th>\n",
       "      <th>cat6</th>\n",
       "      <th>cat7</th>\n",
       "      <th>cat8</th>\n",
       "      <th>...</th>\n",
       "      <th>cont5</th>\n",
       "      <th>cont6</th>\n",
       "      <th>cont7</th>\n",
       "      <th>cont8</th>\n",
       "      <th>cont9</th>\n",
       "      <th>cont10</th>\n",
       "      <th>cont11</th>\n",
       "      <th>cont12</th>\n",
       "      <th>cont13</th>\n",
       "      <th>target</th>\n",
       "    </tr>\n",
       "  </thead>\n",
       "  <tbody>\n",
       "    <tr>\n",
       "      <th>0</th>\n",
       "      <td>1</td>\n",
       "      <td>B</td>\n",
       "      <td>B</td>\n",
       "      <td>B</td>\n",
       "      <td>C</td>\n",
       "      <td>B</td>\n",
       "      <td>B</td>\n",
       "      <td>A</td>\n",
       "      <td>E</td>\n",
       "      <td>C</td>\n",
       "      <td>...</td>\n",
       "      <td>0.400361</td>\n",
       "      <td>0.160266</td>\n",
       "      <td>0.310921</td>\n",
       "      <td>0.389470</td>\n",
       "      <td>0.267559</td>\n",
       "      <td>0.237281</td>\n",
       "      <td>0.377873</td>\n",
       "      <td>0.322401</td>\n",
       "      <td>0.869850</td>\n",
       "      <td>8.113634</td>\n",
       "    </tr>\n",
       "    <tr>\n",
       "      <th>1</th>\n",
       "      <td>2</td>\n",
       "      <td>B</td>\n",
       "      <td>B</td>\n",
       "      <td>A</td>\n",
       "      <td>A</td>\n",
       "      <td>B</td>\n",
       "      <td>D</td>\n",
       "      <td>A</td>\n",
       "      <td>F</td>\n",
       "      <td>A</td>\n",
       "      <td>...</td>\n",
       "      <td>0.533087</td>\n",
       "      <td>0.558922</td>\n",
       "      <td>0.516294</td>\n",
       "      <td>0.594928</td>\n",
       "      <td>0.341439</td>\n",
       "      <td>0.906013</td>\n",
       "      <td>0.921701</td>\n",
       "      <td>0.261975</td>\n",
       "      <td>0.465083</td>\n",
       "      <td>8.481233</td>\n",
       "    </tr>\n",
       "    <tr>\n",
       "      <th>2</th>\n",
       "      <td>3</td>\n",
       "      <td>A</td>\n",
       "      <td>A</td>\n",
       "      <td>A</td>\n",
       "      <td>C</td>\n",
       "      <td>B</td>\n",
       "      <td>D</td>\n",
       "      <td>A</td>\n",
       "      <td>D</td>\n",
       "      <td>A</td>\n",
       "      <td>...</td>\n",
       "      <td>0.650609</td>\n",
       "      <td>0.375348</td>\n",
       "      <td>0.902567</td>\n",
       "      <td>0.555205</td>\n",
       "      <td>0.843531</td>\n",
       "      <td>0.748809</td>\n",
       "      <td>0.620126</td>\n",
       "      <td>0.541474</td>\n",
       "      <td>0.763846</td>\n",
       "      <td>8.364351</td>\n",
       "    </tr>\n",
       "    <tr>\n",
       "      <th>3</th>\n",
       "      <td>4</td>\n",
       "      <td>B</td>\n",
       "      <td>B</td>\n",
       "      <td>A</td>\n",
       "      <td>C</td>\n",
       "      <td>B</td>\n",
       "      <td>D</td>\n",
       "      <td>A</td>\n",
       "      <td>E</td>\n",
       "      <td>C</td>\n",
       "      <td>...</td>\n",
       "      <td>0.668980</td>\n",
       "      <td>0.239061</td>\n",
       "      <td>0.732948</td>\n",
       "      <td>0.679618</td>\n",
       "      <td>0.574844</td>\n",
       "      <td>0.346010</td>\n",
       "      <td>0.714610</td>\n",
       "      <td>0.540150</td>\n",
       "      <td>0.280682</td>\n",
       "      <td>8.049253</td>\n",
       "    </tr>\n",
       "    <tr>\n",
       "      <th>4</th>\n",
       "      <td>6</td>\n",
       "      <td>A</td>\n",
       "      <td>A</td>\n",
       "      <td>A</td>\n",
       "      <td>C</td>\n",
       "      <td>B</td>\n",
       "      <td>D</td>\n",
       "      <td>A</td>\n",
       "      <td>E</td>\n",
       "      <td>A</td>\n",
       "      <td>...</td>\n",
       "      <td>0.686964</td>\n",
       "      <td>0.420667</td>\n",
       "      <td>0.648182</td>\n",
       "      <td>0.684501</td>\n",
       "      <td>0.956692</td>\n",
       "      <td>1.000773</td>\n",
       "      <td>0.776742</td>\n",
       "      <td>0.625849</td>\n",
       "      <td>0.250823</td>\n",
       "      <td>7.972260</td>\n",
       "    </tr>\n",
       "  </tbody>\n",
       "</table>\n",
       "<p>5 rows × 26 columns</p>\n",
       "</div>"
      ],
      "text/plain": [
       "   id cat0 cat1 cat2 cat3 cat4 cat5 cat6 cat7 cat8  ...     cont5     cont6  \\\n",
       "0   1    B    B    B    C    B    B    A    E    C  ...  0.400361  0.160266   \n",
       "1   2    B    B    A    A    B    D    A    F    A  ...  0.533087  0.558922   \n",
       "2   3    A    A    A    C    B    D    A    D    A  ...  0.650609  0.375348   \n",
       "3   4    B    B    A    C    B    D    A    E    C  ...  0.668980  0.239061   \n",
       "4   6    A    A    A    C    B    D    A    E    A  ...  0.686964  0.420667   \n",
       "\n",
       "      cont7     cont8     cont9    cont10    cont11    cont12    cont13  \\\n",
       "0  0.310921  0.389470  0.267559  0.237281  0.377873  0.322401  0.869850   \n",
       "1  0.516294  0.594928  0.341439  0.906013  0.921701  0.261975  0.465083   \n",
       "2  0.902567  0.555205  0.843531  0.748809  0.620126  0.541474  0.763846   \n",
       "3  0.732948  0.679618  0.574844  0.346010  0.714610  0.540150  0.280682   \n",
       "4  0.648182  0.684501  0.956692  1.000773  0.776742  0.625849  0.250823   \n",
       "\n",
       "     target  \n",
       "0  8.113634  \n",
       "1  8.481233  \n",
       "2  8.364351  \n",
       "3  8.049253  \n",
       "4  7.972260  \n",
       "\n",
       "[5 rows x 26 columns]"
      ]
     },
     "execution_count": 4,
     "metadata": {},
     "output_type": "execute_result"
    }
   ],
   "source": [
    "# Load the training data\n",
    "train = pd.read_csv(\"../input/30-days-of-ml/train.csv\")\n",
    "test = pd.read_csv(\"../input/30-days-of-ml/test.csv\")\n",
    "\n",
    "# Preview the data\n",
    "train.head()"
   ]
  },
  {
   "cell_type": "code",
   "execution_count": 5,
   "id": "16c70152",
   "metadata": {
    "execution": {
     "iopub.execute_input": "2021-08-22T23:09:31.403670Z",
     "iopub.status.busy": "2021-08-22T23:09:31.403134Z",
     "iopub.status.idle": "2021-08-22T23:09:31.469599Z",
     "shell.execute_reply": "2021-08-22T23:09:31.470156Z",
     "shell.execute_reply.started": "2021-08-20T03:56:05.096109Z"
    },
    "papermill": {
     "duration": 0.082422,
     "end_time": "2021-08-22T23:09:31.470350",
     "exception": false,
     "start_time": "2021-08-22T23:09:31.387928",
     "status": "completed"
    },
    "tags": []
   },
   "outputs": [
    {
     "data": {
      "text/html": [
       "<div>\n",
       "<style scoped>\n",
       "    .dataframe tbody tr th:only-of-type {\n",
       "        vertical-align: middle;\n",
       "    }\n",
       "\n",
       "    .dataframe tbody tr th {\n",
       "        vertical-align: top;\n",
       "    }\n",
       "\n",
       "    .dataframe thead th {\n",
       "        text-align: right;\n",
       "    }\n",
       "</style>\n",
       "<table border=\"1\" class=\"dataframe\">\n",
       "  <thead>\n",
       "    <tr style=\"text-align: right;\">\n",
       "      <th></th>\n",
       "      <th>cat0</th>\n",
       "      <th>cat1</th>\n",
       "      <th>cat2</th>\n",
       "      <th>cat3</th>\n",
       "      <th>cat4</th>\n",
       "      <th>cat5</th>\n",
       "      <th>cat6</th>\n",
       "      <th>cat7</th>\n",
       "      <th>cat8</th>\n",
       "      <th>cat9</th>\n",
       "      <th>...</th>\n",
       "      <th>cont4</th>\n",
       "      <th>cont5</th>\n",
       "      <th>cont6</th>\n",
       "      <th>cont7</th>\n",
       "      <th>cont8</th>\n",
       "      <th>cont9</th>\n",
       "      <th>cont10</th>\n",
       "      <th>cont11</th>\n",
       "      <th>cont12</th>\n",
       "      <th>cont13</th>\n",
       "    </tr>\n",
       "  </thead>\n",
       "  <tbody>\n",
       "    <tr>\n",
       "      <th>0</th>\n",
       "      <td>B</td>\n",
       "      <td>B</td>\n",
       "      <td>B</td>\n",
       "      <td>C</td>\n",
       "      <td>B</td>\n",
       "      <td>B</td>\n",
       "      <td>A</td>\n",
       "      <td>E</td>\n",
       "      <td>C</td>\n",
       "      <td>N</td>\n",
       "      <td>...</td>\n",
       "      <td>0.610706</td>\n",
       "      <td>0.400361</td>\n",
       "      <td>0.160266</td>\n",
       "      <td>0.310921</td>\n",
       "      <td>0.389470</td>\n",
       "      <td>0.267559</td>\n",
       "      <td>0.237281</td>\n",
       "      <td>0.377873</td>\n",
       "      <td>0.322401</td>\n",
       "      <td>0.869850</td>\n",
       "    </tr>\n",
       "    <tr>\n",
       "      <th>1</th>\n",
       "      <td>B</td>\n",
       "      <td>B</td>\n",
       "      <td>A</td>\n",
       "      <td>A</td>\n",
       "      <td>B</td>\n",
       "      <td>D</td>\n",
       "      <td>A</td>\n",
       "      <td>F</td>\n",
       "      <td>A</td>\n",
       "      <td>O</td>\n",
       "      <td>...</td>\n",
       "      <td>0.276853</td>\n",
       "      <td>0.533087</td>\n",
       "      <td>0.558922</td>\n",
       "      <td>0.516294</td>\n",
       "      <td>0.594928</td>\n",
       "      <td>0.341439</td>\n",
       "      <td>0.906013</td>\n",
       "      <td>0.921701</td>\n",
       "      <td>0.261975</td>\n",
       "      <td>0.465083</td>\n",
       "    </tr>\n",
       "    <tr>\n",
       "      <th>2</th>\n",
       "      <td>A</td>\n",
       "      <td>A</td>\n",
       "      <td>A</td>\n",
       "      <td>C</td>\n",
       "      <td>B</td>\n",
       "      <td>D</td>\n",
       "      <td>A</td>\n",
       "      <td>D</td>\n",
       "      <td>A</td>\n",
       "      <td>F</td>\n",
       "      <td>...</td>\n",
       "      <td>0.285074</td>\n",
       "      <td>0.650609</td>\n",
       "      <td>0.375348</td>\n",
       "      <td>0.902567</td>\n",
       "      <td>0.555205</td>\n",
       "      <td>0.843531</td>\n",
       "      <td>0.748809</td>\n",
       "      <td>0.620126</td>\n",
       "      <td>0.541474</td>\n",
       "      <td>0.763846</td>\n",
       "    </tr>\n",
       "    <tr>\n",
       "      <th>3</th>\n",
       "      <td>B</td>\n",
       "      <td>B</td>\n",
       "      <td>A</td>\n",
       "      <td>C</td>\n",
       "      <td>B</td>\n",
       "      <td>D</td>\n",
       "      <td>A</td>\n",
       "      <td>E</td>\n",
       "      <td>C</td>\n",
       "      <td>K</td>\n",
       "      <td>...</td>\n",
       "      <td>0.284667</td>\n",
       "      <td>0.668980</td>\n",
       "      <td>0.239061</td>\n",
       "      <td>0.732948</td>\n",
       "      <td>0.679618</td>\n",
       "      <td>0.574844</td>\n",
       "      <td>0.346010</td>\n",
       "      <td>0.714610</td>\n",
       "      <td>0.540150</td>\n",
       "      <td>0.280682</td>\n",
       "    </tr>\n",
       "    <tr>\n",
       "      <th>4</th>\n",
       "      <td>A</td>\n",
       "      <td>A</td>\n",
       "      <td>A</td>\n",
       "      <td>C</td>\n",
       "      <td>B</td>\n",
       "      <td>D</td>\n",
       "      <td>A</td>\n",
       "      <td>E</td>\n",
       "      <td>A</td>\n",
       "      <td>N</td>\n",
       "      <td>...</td>\n",
       "      <td>0.287595</td>\n",
       "      <td>0.686964</td>\n",
       "      <td>0.420667</td>\n",
       "      <td>0.648182</td>\n",
       "      <td>0.684501</td>\n",
       "      <td>0.956692</td>\n",
       "      <td>1.000773</td>\n",
       "      <td>0.776742</td>\n",
       "      <td>0.625849</td>\n",
       "      <td>0.250823</td>\n",
       "    </tr>\n",
       "  </tbody>\n",
       "</table>\n",
       "<p>5 rows × 24 columns</p>\n",
       "</div>"
      ],
      "text/plain": [
       "  cat0 cat1 cat2 cat3 cat4 cat5 cat6 cat7 cat8 cat9  ...     cont4     cont5  \\\n",
       "0    B    B    B    C    B    B    A    E    C    N  ...  0.610706  0.400361   \n",
       "1    B    B    A    A    B    D    A    F    A    O  ...  0.276853  0.533087   \n",
       "2    A    A    A    C    B    D    A    D    A    F  ...  0.285074  0.650609   \n",
       "3    B    B    A    C    B    D    A    E    C    K  ...  0.284667  0.668980   \n",
       "4    A    A    A    C    B    D    A    E    A    N  ...  0.287595  0.686964   \n",
       "\n",
       "      cont6     cont7     cont8     cont9    cont10    cont11    cont12  \\\n",
       "0  0.160266  0.310921  0.389470  0.267559  0.237281  0.377873  0.322401   \n",
       "1  0.558922  0.516294  0.594928  0.341439  0.906013  0.921701  0.261975   \n",
       "2  0.375348  0.902567  0.555205  0.843531  0.748809  0.620126  0.541474   \n",
       "3  0.239061  0.732948  0.679618  0.574844  0.346010  0.714610  0.540150   \n",
       "4  0.420667  0.648182  0.684501  0.956692  1.000773  0.776742  0.625849   \n",
       "\n",
       "     cont13  \n",
       "0  0.869850  \n",
       "1  0.465083  \n",
       "2  0.763846  \n",
       "3  0.280682  \n",
       "4  0.250823  \n",
       "\n",
       "[5 rows x 24 columns]"
      ]
     },
     "execution_count": 5,
     "metadata": {},
     "output_type": "execute_result"
    }
   ],
   "source": [
    "# Separate target from features\n",
    "y = train['target']\n",
    "features = train.drop(['id','target'], axis=1)\n",
    "\n",
    "# Preview features\n",
    "features.head()"
   ]
  },
  {
   "cell_type": "markdown",
   "id": "28c53373",
   "metadata": {
    "papermill": {
     "duration": 0.013502,
     "end_time": "2021-08-22T23:09:31.498000",
     "exception": false,
     "start_time": "2021-08-22T23:09:31.484498",
     "status": "completed"
    },
    "tags": []
   },
   "source": [
    "# Preprocessing"
   ]
  },
  {
   "cell_type": "code",
   "execution_count": 6,
   "id": "7a1af9a5",
   "metadata": {
    "execution": {
     "iopub.execute_input": "2021-08-22T23:09:31.528558Z",
     "iopub.status.busy": "2021-08-22T23:09:31.527948Z",
     "iopub.status.idle": "2021-08-22T23:09:31.532807Z",
     "shell.execute_reply": "2021-08-22T23:09:31.533355Z",
     "shell.execute_reply.started": "2021-08-20T03:56:05.178682Z"
    },
    "papermill": {
     "duration": 0.021276,
     "end_time": "2021-08-22T23:09:31.533526",
     "exception": false,
     "start_time": "2021-08-22T23:09:31.512250",
     "status": "completed"
    },
    "tags": []
   },
   "outputs": [
    {
     "data": {
      "text/plain": [
       "\"\\n# List of categorical columns\\nobject_cols = [col for col in features.columns if 'cat' in col]\\n\\n# ordinal-encode categorical columns\\nX = features.copy()\\nX_test = test.drop(['id'], axis=1).copy()\\nordinal_encoder = OrdinalEncoder()\\nX[object_cols] = ordinal_encoder.fit_transform(features[object_cols])\\nX_test[object_cols] = ordinal_encoder.transform(test[object_cols])\\n\\n# Preview the ordinal-encoded features\\nX.head()\\n\""
      ]
     },
     "execution_count": 6,
     "metadata": {},
     "output_type": "execute_result"
    }
   ],
   "source": [
    "'''\n",
    "# List of categorical columns\n",
    "object_cols = [col for col in features.columns if 'cat' in col]\n",
    "\n",
    "# ordinal-encode categorical columns\n",
    "X = features.copy()\n",
    "X_test = test.drop(['id'], axis=1).copy()\n",
    "ordinal_encoder = OrdinalEncoder()\n",
    "X[object_cols] = ordinal_encoder.fit_transform(features[object_cols])\n",
    "X_test[object_cols] = ordinal_encoder.transform(test[object_cols])\n",
    "\n",
    "# Preview the ordinal-encoded features\n",
    "X.head()\n",
    "'''"
   ]
  },
  {
   "cell_type": "code",
   "execution_count": 7,
   "id": "8f86813b",
   "metadata": {
    "execution": {
     "iopub.execute_input": "2021-08-22T23:09:31.564518Z",
     "iopub.status.busy": "2021-08-22T23:09:31.563904Z",
     "iopub.status.idle": "2021-08-22T23:09:34.745428Z",
     "shell.execute_reply": "2021-08-22T23:09:34.745978Z"
    },
    "papermill": {
     "duration": 3.198518,
     "end_time": "2021-08-22T23:09:34.746165",
     "exception": false,
     "start_time": "2021-08-22T23:09:31.547647",
     "status": "completed"
    },
    "tags": []
   },
   "outputs": [
    {
     "data": {
      "text/html": [
       "<div>\n",
       "<style scoped>\n",
       "    .dataframe tbody tr th:only-of-type {\n",
       "        vertical-align: middle;\n",
       "    }\n",
       "\n",
       "    .dataframe tbody tr th {\n",
       "        vertical-align: top;\n",
       "    }\n",
       "\n",
       "    .dataframe thead th {\n",
       "        text-align: right;\n",
       "    }\n",
       "</style>\n",
       "<table border=\"1\" class=\"dataframe\">\n",
       "  <thead>\n",
       "    <tr style=\"text-align: right;\">\n",
       "      <th></th>\n",
       "      <th>cont0</th>\n",
       "      <th>cont1</th>\n",
       "      <th>cont2</th>\n",
       "      <th>cont3</th>\n",
       "      <th>cont4</th>\n",
       "      <th>cont5</th>\n",
       "      <th>cont6</th>\n",
       "      <th>cont7</th>\n",
       "      <th>cont8</th>\n",
       "      <th>cont9</th>\n",
       "      <th>...</th>\n",
       "      <th>ohe_46</th>\n",
       "      <th>ohe_47</th>\n",
       "      <th>ohe_48</th>\n",
       "      <th>ohe_49</th>\n",
       "      <th>ohe_50</th>\n",
       "      <th>ohe_51</th>\n",
       "      <th>ohe_52</th>\n",
       "      <th>ohe_53</th>\n",
       "      <th>ohe_54</th>\n",
       "      <th>ohe_55</th>\n",
       "    </tr>\n",
       "  </thead>\n",
       "  <tbody>\n",
       "    <tr>\n",
       "      <th>0</th>\n",
       "      <td>0.201470</td>\n",
       "      <td>-0.014822</td>\n",
       "      <td>0.669699</td>\n",
       "      <td>0.136278</td>\n",
       "      <td>0.610706</td>\n",
       "      <td>0.400361</td>\n",
       "      <td>0.160266</td>\n",
       "      <td>0.310921</td>\n",
       "      <td>0.389470</td>\n",
       "      <td>0.267559</td>\n",
       "      <td>...</td>\n",
       "      <td>0.0</td>\n",
       "      <td>0.0</td>\n",
       "      <td>0.0</td>\n",
       "      <td>0.0</td>\n",
       "      <td>0.0</td>\n",
       "      <td>0.0</td>\n",
       "      <td>0.0</td>\n",
       "      <td>0.0</td>\n",
       "      <td>1.0</td>\n",
       "      <td>0.0</td>\n",
       "    </tr>\n",
       "    <tr>\n",
       "      <th>1</th>\n",
       "      <td>0.743068</td>\n",
       "      <td>0.367411</td>\n",
       "      <td>1.021605</td>\n",
       "      <td>0.365798</td>\n",
       "      <td>0.276853</td>\n",
       "      <td>0.533087</td>\n",
       "      <td>0.558922</td>\n",
       "      <td>0.516294</td>\n",
       "      <td>0.594928</td>\n",
       "      <td>0.341439</td>\n",
       "      <td>...</td>\n",
       "      <td>0.0</td>\n",
       "      <td>0.0</td>\n",
       "      <td>0.0</td>\n",
       "      <td>0.0</td>\n",
       "      <td>0.0</td>\n",
       "      <td>0.0</td>\n",
       "      <td>0.0</td>\n",
       "      <td>0.0</td>\n",
       "      <td>0.0</td>\n",
       "      <td>1.0</td>\n",
       "    </tr>\n",
       "    <tr>\n",
       "      <th>2</th>\n",
       "      <td>0.742708</td>\n",
       "      <td>0.310383</td>\n",
       "      <td>-0.012673</td>\n",
       "      <td>0.576957</td>\n",
       "      <td>0.285074</td>\n",
       "      <td>0.650609</td>\n",
       "      <td>0.375348</td>\n",
       "      <td>0.902567</td>\n",
       "      <td>0.555205</td>\n",
       "      <td>0.843531</td>\n",
       "      <td>...</td>\n",
       "      <td>1.0</td>\n",
       "      <td>0.0</td>\n",
       "      <td>0.0</td>\n",
       "      <td>0.0</td>\n",
       "      <td>0.0</td>\n",
       "      <td>0.0</td>\n",
       "      <td>0.0</td>\n",
       "      <td>0.0</td>\n",
       "      <td>0.0</td>\n",
       "      <td>0.0</td>\n",
       "    </tr>\n",
       "    <tr>\n",
       "      <th>3</th>\n",
       "      <td>0.429551</td>\n",
       "      <td>0.620998</td>\n",
       "      <td>0.577942</td>\n",
       "      <td>0.280610</td>\n",
       "      <td>0.284667</td>\n",
       "      <td>0.668980</td>\n",
       "      <td>0.239061</td>\n",
       "      <td>0.732948</td>\n",
       "      <td>0.679618</td>\n",
       "      <td>0.574844</td>\n",
       "      <td>...</td>\n",
       "      <td>0.0</td>\n",
       "      <td>0.0</td>\n",
       "      <td>0.0</td>\n",
       "      <td>0.0</td>\n",
       "      <td>0.0</td>\n",
       "      <td>1.0</td>\n",
       "      <td>0.0</td>\n",
       "      <td>0.0</td>\n",
       "      <td>0.0</td>\n",
       "      <td>0.0</td>\n",
       "    </tr>\n",
       "    <tr>\n",
       "      <th>4</th>\n",
       "      <td>1.058291</td>\n",
       "      <td>0.367492</td>\n",
       "      <td>-0.052389</td>\n",
       "      <td>0.232407</td>\n",
       "      <td>0.287595</td>\n",
       "      <td>0.686964</td>\n",
       "      <td>0.420667</td>\n",
       "      <td>0.648182</td>\n",
       "      <td>0.684501</td>\n",
       "      <td>0.956692</td>\n",
       "      <td>...</td>\n",
       "      <td>0.0</td>\n",
       "      <td>0.0</td>\n",
       "      <td>0.0</td>\n",
       "      <td>0.0</td>\n",
       "      <td>0.0</td>\n",
       "      <td>0.0</td>\n",
       "      <td>0.0</td>\n",
       "      <td>0.0</td>\n",
       "      <td>1.0</td>\n",
       "      <td>0.0</td>\n",
       "    </tr>\n",
       "  </tbody>\n",
       "</table>\n",
       "<p>5 rows × 70 columns</p>\n",
       "</div>"
      ],
      "text/plain": [
       "      cont0     cont1     cont2     cont3     cont4     cont5     cont6  \\\n",
       "0  0.201470 -0.014822  0.669699  0.136278  0.610706  0.400361  0.160266   \n",
       "1  0.743068  0.367411  1.021605  0.365798  0.276853  0.533087  0.558922   \n",
       "2  0.742708  0.310383 -0.012673  0.576957  0.285074  0.650609  0.375348   \n",
       "3  0.429551  0.620998  0.577942  0.280610  0.284667  0.668980  0.239061   \n",
       "4  1.058291  0.367492 -0.052389  0.232407  0.287595  0.686964  0.420667   \n",
       "\n",
       "      cont7     cont8     cont9  ...  ohe_46  ohe_47  ohe_48  ohe_49  ohe_50  \\\n",
       "0  0.310921  0.389470  0.267559  ...     0.0     0.0     0.0     0.0     0.0   \n",
       "1  0.516294  0.594928  0.341439  ...     0.0     0.0     0.0     0.0     0.0   \n",
       "2  0.902567  0.555205  0.843531  ...     1.0     0.0     0.0     0.0     0.0   \n",
       "3  0.732948  0.679618  0.574844  ...     0.0     0.0     0.0     0.0     0.0   \n",
       "4  0.648182  0.684501  0.956692  ...     0.0     0.0     0.0     0.0     0.0   \n",
       "\n",
       "   ohe_51  ohe_52  ohe_53  ohe_54  ohe_55  \n",
       "0     0.0     0.0     0.0     1.0     0.0  \n",
       "1     0.0     0.0     0.0     0.0     1.0  \n",
       "2     0.0     0.0     0.0     0.0     0.0  \n",
       "3     1.0     0.0     0.0     0.0     0.0  \n",
       "4     0.0     0.0     0.0     1.0     0.0  \n",
       "\n",
       "[5 rows x 70 columns]"
      ]
     },
     "execution_count": 7,
     "metadata": {},
     "output_type": "execute_result"
    }
   ],
   "source": [
    "# List of categorical columns\n",
    "object_cols = [col for col in features.columns if 'cat' in col]\n",
    "\n",
    "# one-hot-encode categorical columns\n",
    "X = features.copy()\n",
    "X_test = test.drop(['id'], axis=1).copy()\n",
    "\n",
    "oh_encoder = OneHotEncoder(sparse=False, handle_unknown=\"ignore\")\n",
    "X_ohe = oh_encoder.fit_transform(features[object_cols])\n",
    "X_test_ohe = oh_encoder.transform(test[object_cols])\n",
    "\n",
    "X_ohe = pd.DataFrame(X_ohe, columns=[f\"ohe_{i}\" for i in range(X_ohe.shape[1])])\n",
    "X_test_ohe = pd.DataFrame(X_test_ohe, columns=[f\"ohe_{i}\" for i in range(X_test_ohe.shape[1])])\n",
    "\n",
    "X = pd.concat([X, X_ohe], axis=1)\n",
    "X_test = pd.concat([X_test, X_test_ohe], axis=1)\n",
    "X = X.drop(object_cols, axis=1)\n",
    "X_test = X_test.drop(object_cols, axis=1)\n",
    "    \n",
    "# Preview the one-hot-encoded features\n",
    "X.head()"
   ]
  },
  {
   "cell_type": "code",
   "execution_count": 8,
   "id": "243d5e63",
   "metadata": {
    "execution": {
     "iopub.execute_input": "2021-08-22T23:09:34.779227Z",
     "iopub.status.busy": "2021-08-22T23:09:34.778637Z",
     "iopub.status.idle": "2021-08-22T23:09:34.934559Z",
     "shell.execute_reply": "2021-08-22T23:09:34.935011Z",
     "shell.execute_reply.started": "2021-08-20T03:56:07.860009Z"
    },
    "papermill": {
     "duration": 0.174142,
     "end_time": "2021-08-22T23:09:34.935202",
     "exception": false,
     "start_time": "2021-08-22T23:09:34.761060",
     "status": "completed"
    },
    "tags": []
   },
   "outputs": [],
   "source": [
    "scale_features = [col for col in features.columns if 'cont' in col]\n",
    "\n",
    "ss = StandardScaler()\n",
    "X[scale_features] = ss.fit_transform(features[scale_features])\n",
    "X_test[scale_features] = ss.transform(test[scale_features])"
   ]
  },
  {
   "cell_type": "code",
   "execution_count": 9,
   "id": "c58604b5",
   "metadata": {
    "execution": {
     "iopub.execute_input": "2021-08-22T23:09:34.973699Z",
     "iopub.status.busy": "2021-08-22T23:09:34.972944Z",
     "iopub.status.idle": "2021-08-22T23:09:34.975578Z",
     "shell.execute_reply": "2021-08-22T23:09:34.975103Z",
     "shell.execute_reply.started": "2021-08-20T03:56:08.940049Z"
    },
    "papermill": {
     "duration": 0.024989,
     "end_time": "2021-08-22T23:09:34.975709",
     "exception": false,
     "start_time": "2021-08-22T23:09:34.950720",
     "status": "completed"
    },
    "tags": []
   },
   "outputs": [],
   "source": [
    "# Swap noise\n",
    "\n",
    "# Random\n",
    "def apply_noise_rn(df, p=.75):\n",
    "    should_not_swap = np.random.binomial(1, p, df.shape)\n",
    "    corrupted_df = df.where(should_not_swap == 1, np.random.permutation(df))\n",
    "    return corrupted_df\n",
    "\n",
    "# Row-wise\n",
    "def apply_noise_row(df, p=.75):\n",
    "    should_not_swap = np.zeros(df.shape)\n",
    "    for i in range(df.shape[0]):\n",
    "        for j in np.random.choice(df.shape[1],int(p*df.shape[1]),replace=False):\n",
    "            should_not_swap[i,j]=1 \n",
    "    corrupted_df = df.where(should_not_swap == 1, np.random.permutation(df))\n",
    "    return corrupted_df"
   ]
  },
  {
   "cell_type": "markdown",
   "id": "a415b801",
   "metadata": {
    "papermill": {
     "duration": 0.014712,
     "end_time": "2021-08-22T23:09:35.005470",
     "exception": false,
     "start_time": "2021-08-22T23:09:34.990758",
     "status": "completed"
    },
    "tags": []
   },
   "source": [
    "# Optuna"
   ]
  },
  {
   "cell_type": "code",
   "execution_count": 10,
   "id": "eeed2b9f",
   "metadata": {
    "execution": {
     "iopub.execute_input": "2021-08-22T23:09:35.040558Z",
     "iopub.status.busy": "2021-08-22T23:09:35.039960Z",
     "iopub.status.idle": "2021-08-22T23:09:43.810236Z",
     "shell.execute_reply": "2021-08-22T23:09:43.809607Z",
     "shell.execute_reply.started": "2021-08-20T03:56:08.950976Z"
    },
    "papermill": {
     "duration": 8.789395,
     "end_time": "2021-08-22T23:09:43.810404",
     "exception": false,
     "start_time": "2021-08-22T23:09:35.021009",
     "status": "completed"
    },
    "tags": []
   },
   "outputs": [
    {
     "name": "stdout",
     "output_type": "stream",
     "text": [
      "\u001b[33mWARNING: Running pip as root will break packages and permissions. You should install packages reliably by using venv: https://pip.pypa.io/warnings/venv\u001b[0m\r\n"
     ]
    }
   ],
   "source": [
    "# Optuna for parameter search\n",
    "!pip install -q optuna\n",
    "\n",
    "import optuna\n",
    "import pickle"
   ]
  },
  {
   "cell_type": "code",
   "execution_count": 11,
   "id": "a4eea120",
   "metadata": {
    "execution": {
     "iopub.execute_input": "2021-08-22T23:09:43.853819Z",
     "iopub.status.busy": "2021-08-22T23:09:43.853178Z",
     "iopub.status.idle": "2021-08-22T23:09:43.856180Z",
     "shell.execute_reply": "2021-08-22T23:09:43.855536Z",
     "shell.execute_reply.started": "2021-08-20T03:57:17.033425Z"
    },
    "papermill": {
     "duration": 0.029708,
     "end_time": "2021-08-22T23:09:43.856311",
     "exception": false,
     "start_time": "2021-08-22T23:09:43.826603",
     "status": "completed"
    },
    "tags": []
   },
   "outputs": [],
   "source": [
    "# for the fixed learning rate, use the opt n iterations and tune the tree hyperparameters\n",
    "def objective(trial, X=X, y=y):\n",
    "  \"\"\"\n",
    "  \"\"\"\n",
    "  param_space = {\n",
    "               'objective': 'reg:squarederror',\n",
    "               'learning_rate':trial.suggest_uniform('learning_rate', 2.15e-2, 2.65e-2),\n",
    "               'n_estimators':N_ESTIMATORS,\n",
    "               'subsample': trial.suggest_uniform('subsample', 0.8127, 0.842),\n",
    "              'colsample_bytree':trial.suggest_uniform('colsample_bytree', 0.11, 0.13),\n",
    "              'max_depth':trial.suggest_int('max_depth', 2, 4),\n",
    "              'lambda':trial.suggest_uniform('lambda', 4.81, 6.31),\n",
    "              'alpha':trial.suggest_uniform('alpha', 2.766, 3.766),\n",
    "           'min_child_weight':trial.suggest_uniform('min_child_weight', 204, 224),\n",
    "           'importance_type': 'total_gain',\n",
    "            'tree_method': 'hist'\n",
    "                }\n",
    "            \n",
    "  seed_list=[SEED, SEED+1]\n",
    "  #kf = KFold(n_splits=N_SPLITS, shuffle=True, random_state=CVSEED)\n",
    "  #lgb_oof = np.zeros(train.shape[0])\n",
    "  #lgb_pred = np.zeros(test.shape[0])\n",
    "  X_tr, X_va, y_tr, y_va = train_test_split(X,y,test_size=.2,random_state=CVSEED)\n",
    "  pred=np.zeros(y_va.shape[0])\n",
    "    \n",
    "  #for (trn_idx, val_idx) in enumerate(kf.split(X, y)):\n",
    "  #print(f\"===== fold {fold} =====\")\n",
    "    \n",
    "  #X_tr = apply_noise_row(X_tr)\n",
    "\n",
    "  \n",
    "  #start = time.time()\n",
    "  for inseed in seed_list:\n",
    "    param_space['seed'] = inseed\n",
    "\n",
    "    model = xgb.XGBRegressor(**param_space)\n",
    "    model.fit(\n",
    "        X_tr, \n",
    "        y_tr,\n",
    "        eval_set=[(X_va, y_va)],\n",
    "        eval_metric='rmse',\n",
    "        early_stopping_rounds=EARLY_STOPPING_ROUNDS,\n",
    "        verbose=VERBOSE,\n",
    "        )\n",
    "\n",
    "\n",
    "    pred += model.predict(X_va) / len(seed_list)\n",
    "    \n",
    "  #elapsed = time.time() - start\n",
    "  rmse = mean_squared_error(y_va, pred, squared=False)\n",
    "  #print(f\"fold {fold} - lgb rmse: {rmse:.6f}, elapsed time: {elapsed:.2f}sec\\n\")            \n",
    "  \n",
    "  #print(f\"oof lgb_rmse = {mean_squared_error(train[target], lgb_oof, squared=False)}\")\n",
    "\n",
    "  \n",
    "  return rmse"
   ]
  },
  {
   "cell_type": "code",
   "execution_count": 12,
   "id": "ce99d2bd",
   "metadata": {
    "execution": {
     "iopub.execute_input": "2021-08-22T23:09:43.893746Z",
     "iopub.status.busy": "2021-08-22T23:09:43.893006Z",
     "iopub.status.idle": "2021-08-23T04:59:53.486564Z",
     "shell.execute_reply": "2021-08-23T04:59:53.485885Z",
     "shell.execute_reply.started": "2021-08-20T03:57:17.158006Z"
    },
    "papermill": {
     "duration": 21009.61431,
     "end_time": "2021-08-23T04:59:53.486719",
     "exception": false,
     "start_time": "2021-08-22T23:09:43.872409",
     "status": "completed"
    },
    "tags": []
   },
   "outputs": [
    {
     "name": "stderr",
     "output_type": "stream",
     "text": [
      "\u001b[32m[I 2021-08-22 23:09:43,891]\u001b[0m A new study created in memory with name: no-name-75406781-f0d6-4bee-b553-b2b5b7a42ff6\u001b[0m\n"
     ]
    },
    {
     "name": "stdout",
     "output_type": "stream",
     "text": [
      "[0]\tvalidation_0-rmse:7.57327\n",
      "[1000]\tvalidation_0-rmse:0.72720\n",
      "[2000]\tvalidation_0-rmse:0.72330\n",
      "[3000]\tvalidation_0-rmse:0.72114\n",
      "[4000]\tvalidation_0-rmse:0.71962\n",
      "[5000]\tvalidation_0-rmse:0.71847\n",
      "[6000]\tvalidation_0-rmse:0.71763\n",
      "[7000]\tvalidation_0-rmse:0.71693\n",
      "[8000]\tvalidation_0-rmse:0.71641\n",
      "[9000]\tvalidation_0-rmse:0.71597\n",
      "[10000]\tvalidation_0-rmse:0.71566\n",
      "[11000]\tvalidation_0-rmse:0.71546\n",
      "[12000]\tvalidation_0-rmse:0.71528\n",
      "[13000]\tvalidation_0-rmse:0.71517\n",
      "[14000]\tvalidation_0-rmse:0.71505\n",
      "[15000]\tvalidation_0-rmse:0.71499\n",
      "[16000]\tvalidation_0-rmse:0.71493\n",
      "[17000]\tvalidation_0-rmse:0.71488\n",
      "[17334]\tvalidation_0-rmse:0.71488\n",
      "[0]\tvalidation_0-rmse:7.57328\n",
      "[1000]\tvalidation_0-rmse:0.72740\n",
      "[2000]\tvalidation_0-rmse:0.72341\n",
      "[3000]\tvalidation_0-rmse:0.72120\n",
      "[4000]\tvalidation_0-rmse:0.71969\n",
      "[5000]\tvalidation_0-rmse:0.71853\n",
      "[6000]\tvalidation_0-rmse:0.71767\n",
      "[7000]\tvalidation_0-rmse:0.71700\n",
      "[8000]\tvalidation_0-rmse:0.71649\n",
      "[9000]\tvalidation_0-rmse:0.71604\n",
      "[10000]\tvalidation_0-rmse:0.71572\n",
      "[11000]\tvalidation_0-rmse:0.71548\n",
      "[12000]\tvalidation_0-rmse:0.71529\n",
      "[13000]\tvalidation_0-rmse:0.71515\n",
      "[14000]\tvalidation_0-rmse:0.71504\n",
      "[15000]\tvalidation_0-rmse:0.71495\n",
      "[16000]\tvalidation_0-rmse:0.71487\n",
      "[16513]\tvalidation_0-rmse:0.71484\n"
     ]
    },
    {
     "name": "stderr",
     "output_type": "stream",
     "text": [
      "\u001b[32m[I 2021-08-22 23:27:21,628]\u001b[0m Trial 0 finished with value: 0.7148324547783617 and parameters: {'learning_rate': 0.026293784804099888, 'subsample': 0.8397054169915146, 'colsample_bytree': 0.12721163409054237, 'max_depth': 2, 'lambda': 6.172904569919547, 'alpha': 3.164669038972148, 'min_child_weight': 205.3262921838479}. Best is trial 0 with value: 0.7148324547783617.\u001b[0m\n"
     ]
    },
    {
     "name": "stdout",
     "output_type": "stream",
     "text": [
      "[0]\tvalidation_0-rmse:7.59155\n",
      "[1000]\tvalidation_0-rmse:0.72351\n",
      "[2000]\tvalidation_0-rmse:0.71915\n",
      "[3000]\tvalidation_0-rmse:0.71713\n",
      "[4000]\tvalidation_0-rmse:0.71599\n",
      "[5000]\tvalidation_0-rmse:0.71540\n",
      "[6000]\tvalidation_0-rmse:0.71502\n",
      "[7000]\tvalidation_0-rmse:0.71479\n",
      "[8000]\tvalidation_0-rmse:0.71467\n",
      "[9000]\tvalidation_0-rmse:0.71459\n",
      "[9653]\tvalidation_0-rmse:0.71455\n",
      "[0]\tvalidation_0-rmse:7.59155\n",
      "[1000]\tvalidation_0-rmse:0.72355\n",
      "[2000]\tvalidation_0-rmse:0.71906\n",
      "[3000]\tvalidation_0-rmse:0.71708\n",
      "[4000]\tvalidation_0-rmse:0.71602\n",
      "[5000]\tvalidation_0-rmse:0.71535\n",
      "[6000]\tvalidation_0-rmse:0.71500\n",
      "[7000]\tvalidation_0-rmse:0.71475\n",
      "[8000]\tvalidation_0-rmse:0.71455\n",
      "[8957]\tvalidation_0-rmse:0.71450\n"
     ]
    },
    {
     "name": "stderr",
     "output_type": "stream",
     "text": [
      "\u001b[32m[I 2021-08-22 23:37:47,663]\u001b[0m Trial 1 finished with value: 0.7144732102803356 and parameters: {'learning_rate': 0.023922184284137126, 'subsample': 0.8255690907817529, 'colsample_bytree': 0.1167134909462559, 'max_depth': 3, 'lambda': 4.883892254371711, 'alpha': 3.2370904024468588, 'min_child_weight': 215.29861335773373}. Best is trial 1 with value: 0.7144732102803356.\u001b[0m\n"
     ]
    },
    {
     "name": "stdout",
     "output_type": "stream",
     "text": [
      "[0]\tvalidation_0-rmse:7.57686\n",
      "[1000]\tvalidation_0-rmse:0.72058\n",
      "[2000]\tvalidation_0-rmse:0.71675\n",
      "[3000]\tvalidation_0-rmse:0.71544\n",
      "[4000]\tvalidation_0-rmse:0.71483\n",
      "[5000]\tvalidation_0-rmse:0.71470\n",
      "[6000]\tvalidation_0-rmse:0.71464\n",
      "[6055]\tvalidation_0-rmse:0.71464\n",
      "[0]\tvalidation_0-rmse:7.57686\n",
      "[1000]\tvalidation_0-rmse:0.72070\n",
      "[2000]\tvalidation_0-rmse:0.71687\n",
      "[3000]\tvalidation_0-rmse:0.71554\n",
      "[4000]\tvalidation_0-rmse:0.71499\n",
      "[5000]\tvalidation_0-rmse:0.71478\n",
      "[5028]\tvalidation_0-rmse:0.71478\n"
     ]
    },
    {
     "name": "stderr",
     "output_type": "stream",
     "text": [
      "\u001b[32m[I 2021-08-22 23:44:25,153]\u001b[0m Trial 2 finished with value: 0.7146128798005869 and parameters: {'learning_rate': 0.025829203808620665, 'subsample': 0.8139706383410952, 'colsample_bytree': 0.11043759107223206, 'max_depth': 4, 'lambda': 5.277404885682078, 'alpha': 3.0065639231126315, 'min_child_weight': 204.71130295863534}. Best is trial 1 with value: 0.7144732102803356.\u001b[0m\n"
     ]
    },
    {
     "name": "stdout",
     "output_type": "stream",
     "text": [
      "[0]\tvalidation_0-rmse:7.58830\n",
      "[1000]\tvalidation_0-rmse:0.72060\n",
      "[2000]\tvalidation_0-rmse:0.71686\n",
      "[3000]\tvalidation_0-rmse:0.71552\n",
      "[4000]\tvalidation_0-rmse:0.71496\n",
      "[5000]\tvalidation_0-rmse:0.71478\n",
      "[5634]\tvalidation_0-rmse:0.71469\n",
      "[0]\tvalidation_0-rmse:7.58830\n",
      "[1000]\tvalidation_0-rmse:0.72070\n",
      "[2000]\tvalidation_0-rmse:0.71690\n",
      "[3000]\tvalidation_0-rmse:0.71557\n",
      "[4000]\tvalidation_0-rmse:0.71505\n",
      "[5000]\tvalidation_0-rmse:0.71482\n",
      "[5352]\tvalidation_0-rmse:0.71481\n"
     ]
    },
    {
     "name": "stderr",
     "output_type": "stream",
     "text": [
      "\u001b[32m[I 2021-08-22 23:50:54,666]\u001b[0m Trial 3 finished with value: 0.7146755624781 and parameters: {'learning_rate': 0.024342130166338516, 'subsample': 0.8246456246727468, 'colsample_bytree': 0.1161100281251607, 'max_depth': 4, 'lambda': 5.6140795100502725, 'alpha': 3.058906473168345, 'min_child_weight': 207.57109480904595}. Best is trial 1 with value: 0.7144732102803356.\u001b[0m\n"
     ]
    },
    {
     "name": "stdout",
     "output_type": "stream",
     "text": [
      "[0]\tvalidation_0-rmse:7.60520\n",
      "[1000]\tvalidation_0-rmse:0.72813\n",
      "[2000]\tvalidation_0-rmse:0.72423\n",
      "[3000]\tvalidation_0-rmse:0.72201\n",
      "[4000]\tvalidation_0-rmse:0.72047\n",
      "[5000]\tvalidation_0-rmse:0.71929\n",
      "[6000]\tvalidation_0-rmse:0.71836\n",
      "[7000]\tvalidation_0-rmse:0.71764\n",
      "[8000]\tvalidation_0-rmse:0.71704\n",
      "[9000]\tvalidation_0-rmse:0.71657\n",
      "[10000]\tvalidation_0-rmse:0.71619\n",
      "[11000]\tvalidation_0-rmse:0.71592\n",
      "[12000]\tvalidation_0-rmse:0.71566\n",
      "[13000]\tvalidation_0-rmse:0.71549\n",
      "[14000]\tvalidation_0-rmse:0.71531\n",
      "[15000]\tvalidation_0-rmse:0.71519\n",
      "[16000]\tvalidation_0-rmse:0.71507\n",
      "[17000]\tvalidation_0-rmse:0.71498\n",
      "[18000]\tvalidation_0-rmse:0.71494\n",
      "[18129]\tvalidation_0-rmse:0.71494\n",
      "[0]\tvalidation_0-rmse:7.60520\n",
      "[1000]\tvalidation_0-rmse:0.72831\n",
      "[2000]\tvalidation_0-rmse:0.72432\n",
      "[3000]\tvalidation_0-rmse:0.72213\n",
      "[4000]\tvalidation_0-rmse:0.72057\n",
      "[5000]\tvalidation_0-rmse:0.71935\n",
      "[6000]\tvalidation_0-rmse:0.71844\n",
      "[7000]\tvalidation_0-rmse:0.71769\n",
      "[8000]\tvalidation_0-rmse:0.71709\n",
      "[9000]\tvalidation_0-rmse:0.71658\n",
      "[10000]\tvalidation_0-rmse:0.71617\n",
      "[11000]\tvalidation_0-rmse:0.71589\n",
      "[12000]\tvalidation_0-rmse:0.71566\n",
      "[13000]\tvalidation_0-rmse:0.71546\n",
      "[14000]\tvalidation_0-rmse:0.71529\n",
      "[15000]\tvalidation_0-rmse:0.71516\n",
      "[16000]\tvalidation_0-rmse:0.71506\n",
      "[17000]\tvalidation_0-rmse:0.71498\n",
      "[18000]\tvalidation_0-rmse:0.71492\n",
      "[18528]\tvalidation_0-rmse:0.71491\n"
     ]
    },
    {
     "name": "stderr",
     "output_type": "stream",
     "text": [
      "\u001b[32m[I 2021-08-23 00:09:48,152]\u001b[0m Trial 4 finished with value: 0.7149015475667985 and parameters: {'learning_rate': 0.0221496336840086, 'subsample': 0.8252716641098514, 'colsample_bytree': 0.12843610591000124, 'max_depth': 2, 'lambda': 5.023856429757637, 'alpha': 3.6489905539493783, 'min_child_weight': 223.46735563788022}. Best is trial 1 with value: 0.7144732102803356.\u001b[0m\n"
     ]
    },
    {
     "name": "stdout",
     "output_type": "stream",
     "text": [
      "[0]\tvalidation_0-rmse:7.58219\n",
      "[1000]\tvalidation_0-rmse:0.72746\n",
      "[2000]\tvalidation_0-rmse:0.72354\n",
      "[3000]\tvalidation_0-rmse:0.72132\n",
      "[4000]\tvalidation_0-rmse:0.71977\n",
      "[5000]\tvalidation_0-rmse:0.71863\n",
      "[6000]\tvalidation_0-rmse:0.71778\n",
      "[7000]\tvalidation_0-rmse:0.71709\n",
      "[8000]\tvalidation_0-rmse:0.71653\n",
      "[9000]\tvalidation_0-rmse:0.71611\n",
      "[10000]\tvalidation_0-rmse:0.71579\n",
      "[11000]\tvalidation_0-rmse:0.71557\n",
      "[12000]\tvalidation_0-rmse:0.71535\n",
      "[13000]\tvalidation_0-rmse:0.71520\n",
      "[14000]\tvalidation_0-rmse:0.71509\n",
      "[15000]\tvalidation_0-rmse:0.71502\n",
      "[16000]\tvalidation_0-rmse:0.71494\n",
      "[17000]\tvalidation_0-rmse:0.71488\n",
      "[17329]\tvalidation_0-rmse:0.71488\n",
      "[0]\tvalidation_0-rmse:7.58219\n",
      "[1000]\tvalidation_0-rmse:0.72762\n",
      "[2000]\tvalidation_0-rmse:0.72362\n",
      "[3000]\tvalidation_0-rmse:0.72146\n",
      "[4000]\tvalidation_0-rmse:0.71989\n",
      "[5000]\tvalidation_0-rmse:0.71867\n",
      "[6000]\tvalidation_0-rmse:0.71784\n",
      "[7000]\tvalidation_0-rmse:0.71716\n",
      "[8000]\tvalidation_0-rmse:0.71659\n",
      "[9000]\tvalidation_0-rmse:0.71613\n",
      "[10000]\tvalidation_0-rmse:0.71577\n",
      "[11000]\tvalidation_0-rmse:0.71554\n",
      "[12000]\tvalidation_0-rmse:0.71535\n",
      "[13000]\tvalidation_0-rmse:0.71520\n",
      "[14000]\tvalidation_0-rmse:0.71508\n",
      "[15000]\tvalidation_0-rmse:0.71497\n",
      "[16000]\tvalidation_0-rmse:0.71490\n",
      "[17000]\tvalidation_0-rmse:0.71485\n",
      "[17681]\tvalidation_0-rmse:0.71482\n"
     ]
    },
    {
     "name": "stderr",
     "output_type": "stream",
     "text": [
      "\u001b[32m[I 2021-08-23 00:28:15,380]\u001b[0m Trial 5 finished with value: 0.7148232942419147 and parameters: {'learning_rate': 0.02513570609710466, 'subsample': 0.8256905798363073, 'colsample_bytree': 0.12107145236274929, 'max_depth': 2, 'lambda': 5.648636475880883, 'alpha': 3.3685252569524713, 'min_child_weight': 223.5939841997837}. Best is trial 1 with value: 0.7144732102803356.\u001b[0m\n"
     ]
    },
    {
     "name": "stdout",
     "output_type": "stream",
     "text": [
      "[0]\tvalidation_0-rmse:7.59390\n",
      "[1000]\tvalidation_0-rmse:0.72816\n",
      "[2000]\tvalidation_0-rmse:0.72416\n",
      "[3000]\tvalidation_0-rmse:0.72197\n",
      "[4000]\tvalidation_0-rmse:0.72041\n",
      "[5000]\tvalidation_0-rmse:0.71924\n",
      "[6000]\tvalidation_0-rmse:0.71833\n",
      "[7000]\tvalidation_0-rmse:0.71760\n",
      "[8000]\tvalidation_0-rmse:0.71702\n",
      "[9000]\tvalidation_0-rmse:0.71656\n",
      "[10000]\tvalidation_0-rmse:0.71619\n",
      "[11000]\tvalidation_0-rmse:0.71591\n",
      "[12000]\tvalidation_0-rmse:0.71565\n",
      "[13000]\tvalidation_0-rmse:0.71544\n",
      "[14000]\tvalidation_0-rmse:0.71530\n",
      "[15000]\tvalidation_0-rmse:0.71519\n",
      "[16000]\tvalidation_0-rmse:0.71508\n",
      "[17000]\tvalidation_0-rmse:0.71499\n",
      "[18000]\tvalidation_0-rmse:0.71492\n",
      "[19000]\tvalidation_0-rmse:0.71488\n",
      "[19999]\tvalidation_0-rmse:0.71484\n",
      "[0]\tvalidation_0-rmse:7.59391\n",
      "[1000]\tvalidation_0-rmse:0.72838\n",
      "[2000]\tvalidation_0-rmse:0.72439\n",
      "[3000]\tvalidation_0-rmse:0.72219\n",
      "[4000]\tvalidation_0-rmse:0.72065\n",
      "[5000]\tvalidation_0-rmse:0.71944\n",
      "[6000]\tvalidation_0-rmse:0.71854\n",
      "[7000]\tvalidation_0-rmse:0.71777\n",
      "[8000]\tvalidation_0-rmse:0.71716\n",
      "[9000]\tvalidation_0-rmse:0.71665\n",
      "[10000]\tvalidation_0-rmse:0.71626\n",
      "[11000]\tvalidation_0-rmse:0.71597\n",
      "[12000]\tvalidation_0-rmse:0.71573\n",
      "[13000]\tvalidation_0-rmse:0.71551\n",
      "[14000]\tvalidation_0-rmse:0.71532\n",
      "[15000]\tvalidation_0-rmse:0.71518\n",
      "[16000]\tvalidation_0-rmse:0.71508\n",
      "[17000]\tvalidation_0-rmse:0.71501\n",
      "[18000]\tvalidation_0-rmse:0.71495\n",
      "[18015]\tvalidation_0-rmse:0.71495\n"
     ]
    },
    {
     "name": "stderr",
     "output_type": "stream",
     "text": [
      "\u001b[32m[I 2021-08-23 00:48:08,229]\u001b[0m Trial 6 finished with value: 0.7148670908968052 and parameters: {'learning_rate': 0.02361587566112041, 'subsample': 0.824256463909912, 'colsample_bytree': 0.1108420373487894, 'max_depth': 2, 'lambda': 5.105380335925966, 'alpha': 2.9627945970294456, 'min_child_weight': 206.74446600541893}. Best is trial 1 with value: 0.7144732102803356.\u001b[0m\n"
     ]
    },
    {
     "name": "stdout",
     "output_type": "stream",
     "text": [
      "[0]\tvalidation_0-rmse:7.59909\n",
      "[1000]\tvalidation_0-rmse:0.72139\n",
      "[2000]\tvalidation_0-rmse:0.71729\n",
      "[3000]\tvalidation_0-rmse:0.71575\n",
      "[4000]\tvalidation_0-rmse:0.71507\n",
      "[5000]\tvalidation_0-rmse:0.71482\n",
      "[6000]\tvalidation_0-rmse:0.71471\n",
      "[6057]\tvalidation_0-rmse:0.71470\n",
      "[0]\tvalidation_0-rmse:7.59909\n",
      "[1000]\tvalidation_0-rmse:0.72159\n",
      "[2000]\tvalidation_0-rmse:0.71746\n",
      "[3000]\tvalidation_0-rmse:0.71593\n",
      "[4000]\tvalidation_0-rmse:0.71523\n",
      "[5000]\tvalidation_0-rmse:0.71492\n",
      "[6000]\tvalidation_0-rmse:0.71481\n",
      "[6927]\tvalidation_0-rmse:0.71476\n"
     ]
    },
    {
     "name": "stderr",
     "output_type": "stream",
     "text": [
      "\u001b[32m[I 2021-08-23 00:55:59,793]\u001b[0m Trial 7 finished with value: 0.7146510280282309 and parameters: {'learning_rate': 0.02294236664890366, 'subsample': 0.8188824688027918, 'colsample_bytree': 0.11415204248038553, 'max_depth': 4, 'lambda': 5.643467193015434, 'alpha': 3.0968799404871437, 'min_child_weight': 219.22449796570987}. Best is trial 1 with value: 0.7144732102803356.\u001b[0m\n"
     ]
    },
    {
     "name": "stdout",
     "output_type": "stream",
     "text": [
      "[0]\tvalidation_0-rmse:7.57886\n",
      "[1000]\tvalidation_0-rmse:0.72779\n",
      "[2000]\tvalidation_0-rmse:0.72376\n",
      "[3000]\tvalidation_0-rmse:0.72162\n",
      "[4000]\tvalidation_0-rmse:0.72005\n",
      "[5000]\tvalidation_0-rmse:0.71885\n",
      "[6000]\tvalidation_0-rmse:0.71798\n",
      "[7000]\tvalidation_0-rmse:0.71730\n",
      "[8000]\tvalidation_0-rmse:0.71672\n",
      "[9000]\tvalidation_0-rmse:0.71629\n",
      "[10000]\tvalidation_0-rmse:0.71594\n",
      "[11000]\tvalidation_0-rmse:0.71569\n",
      "[12000]\tvalidation_0-rmse:0.71546\n",
      "[13000]\tvalidation_0-rmse:0.71529\n",
      "[14000]\tvalidation_0-rmse:0.71517\n",
      "[15000]\tvalidation_0-rmse:0.71507\n",
      "[16000]\tvalidation_0-rmse:0.71498\n",
      "[17000]\tvalidation_0-rmse:0.71490\n",
      "[17478]\tvalidation_0-rmse:0.71489\n",
      "[0]\tvalidation_0-rmse:7.57886\n",
      "[1000]\tvalidation_0-rmse:0.72796\n",
      "[2000]\tvalidation_0-rmse:0.72394\n",
      "[3000]\tvalidation_0-rmse:0.72174\n",
      "[4000]\tvalidation_0-rmse:0.72021\n",
      "[5000]\tvalidation_0-rmse:0.71901\n",
      "[6000]\tvalidation_0-rmse:0.71819\n",
      "[7000]\tvalidation_0-rmse:0.71743\n",
      "[8000]\tvalidation_0-rmse:0.71684\n",
      "[9000]\tvalidation_0-rmse:0.71636\n",
      "[10000]\tvalidation_0-rmse:0.71597\n",
      "[11000]\tvalidation_0-rmse:0.71571\n",
      "[12000]\tvalidation_0-rmse:0.71552\n",
      "[13000]\tvalidation_0-rmse:0.71533\n",
      "[14000]\tvalidation_0-rmse:0.71517\n",
      "[15000]\tvalidation_0-rmse:0.71504\n",
      "[16000]\tvalidation_0-rmse:0.71496\n",
      "[17000]\tvalidation_0-rmse:0.71488\n",
      "[17446]\tvalidation_0-rmse:0.71487\n"
     ]
    },
    {
     "name": "stderr",
     "output_type": "stream",
     "text": [
      "\u001b[32m[I 2021-08-23 01:13:59,542]\u001b[0m Trial 8 finished with value: 0.7148533480806057 and parameters: {'learning_rate': 0.025569041638874836, 'subsample': 0.8298646770501397, 'colsample_bytree': 0.1135248083871891, 'max_depth': 2, 'lambda': 5.024503171478786, 'alpha': 3.0783561674477657, 'min_child_weight': 209.50853904640024}. Best is trial 1 with value: 0.7144732102803356.\u001b[0m\n"
     ]
    },
    {
     "name": "stdout",
     "output_type": "stream",
     "text": [
      "[0]\tvalidation_0-rmse:7.58592\n",
      "[1000]\tvalidation_0-rmse:0.72045\n",
      "[2000]\tvalidation_0-rmse:0.71680\n",
      "[3000]\tvalidation_0-rmse:0.71549\n",
      "[4000]\tvalidation_0-rmse:0.71489\n",
      "[4796]\tvalidation_0-rmse:0.71476\n",
      "[0]\tvalidation_0-rmse:7.58592\n",
      "[1000]\tvalidation_0-rmse:0.72063\n",
      "[2000]\tvalidation_0-rmse:0.71685\n",
      "[3000]\tvalidation_0-rmse:0.71552\n",
      "[4000]\tvalidation_0-rmse:0.71501\n",
      "[5000]\tvalidation_0-rmse:0.71477\n",
      "[5372]\tvalidation_0-rmse:0.71475\n"
     ]
    },
    {
     "name": "stderr",
     "output_type": "stream",
     "text": [
      "\u001b[32m[I 2021-08-23 01:20:16,194]\u001b[0m Trial 9 finished with value: 0.714684304653796 and parameters: {'learning_rate': 0.024653259141068154, 'subsample': 0.8303518852229618, 'colsample_bytree': 0.11586203712643789, 'max_depth': 4, 'lambda': 6.202461771161097, 'alpha': 2.9680948017412456, 'min_child_weight': 208.840108005157}. Best is trial 1 with value: 0.7144732102803356.\u001b[0m\n"
     ]
    },
    {
     "name": "stdout",
     "output_type": "stream",
     "text": [
      "[0]\tvalidation_0-rmse:7.60998\n",
      "[1000]\tvalidation_0-rmse:0.72419\n",
      "[2000]\tvalidation_0-rmse:0.71971\n",
      "[3000]\tvalidation_0-rmse:0.71754\n",
      "[4000]\tvalidation_0-rmse:0.71634\n",
      "[5000]\tvalidation_0-rmse:0.71565\n",
      "[6000]\tvalidation_0-rmse:0.71523\n",
      "[7000]\tvalidation_0-rmse:0.71497\n",
      "[8000]\tvalidation_0-rmse:0.71481\n",
      "[9000]\tvalidation_0-rmse:0.71468\n",
      "[9933]\tvalidation_0-rmse:0.71462\n",
      "[0]\tvalidation_0-rmse:7.60998\n",
      "[1000]\tvalidation_0-rmse:0.72423\n",
      "[2000]\tvalidation_0-rmse:0.71973\n",
      "[3000]\tvalidation_0-rmse:0.71752\n",
      "[4000]\tvalidation_0-rmse:0.71636\n",
      "[5000]\tvalidation_0-rmse:0.71563\n",
      "[6000]\tvalidation_0-rmse:0.71520\n",
      "[7000]\tvalidation_0-rmse:0.71492\n",
      "[8000]\tvalidation_0-rmse:0.71475\n",
      "[9000]\tvalidation_0-rmse:0.71467\n",
      "[9224]\tvalidation_0-rmse:0.71467\n"
     ]
    },
    {
     "name": "stderr",
     "output_type": "stream",
     "text": [
      "\u001b[32m[I 2021-08-23 01:31:06,153]\u001b[0m Trial 10 finished with value: 0.7146032465003465 and parameters: {'learning_rate': 0.021530044862999226, 'subsample': 0.837521889047223, 'colsample_bytree': 0.12130138186771713, 'max_depth': 3, 'lambda': 4.845808242406236, 'alpha': 3.4137691867220936, 'min_child_weight': 214.51065929770013}. Best is trial 1 with value: 0.7144732102803356.\u001b[0m\n"
     ]
    },
    {
     "name": "stdout",
     "output_type": "stream",
     "text": [
      "[0]\tvalidation_0-rmse:7.60953\n",
      "[1000]\tvalidation_0-rmse:0.72413\n",
      "[2000]\tvalidation_0-rmse:0.71972\n",
      "[3000]\tvalidation_0-rmse:0.71754\n",
      "[4000]\tvalidation_0-rmse:0.71632\n",
      "[5000]\tvalidation_0-rmse:0.71563\n",
      "[6000]\tvalidation_0-rmse:0.71520\n",
      "[7000]\tvalidation_0-rmse:0.71494\n",
      "[8000]\tvalidation_0-rmse:0.71479\n",
      "[9000]\tvalidation_0-rmse:0.71467\n",
      "[9933]\tvalidation_0-rmse:0.71462\n",
      "[0]\tvalidation_0-rmse:7.60954\n",
      "[1000]\tvalidation_0-rmse:0.72421\n",
      "[2000]\tvalidation_0-rmse:0.71971\n",
      "[3000]\tvalidation_0-rmse:0.71753\n",
      "[4000]\tvalidation_0-rmse:0.71636\n",
      "[5000]\tvalidation_0-rmse:0.71566\n",
      "[6000]\tvalidation_0-rmse:0.71523\n",
      "[7000]\tvalidation_0-rmse:0.71494\n",
      "[8000]\tvalidation_0-rmse:0.71474\n",
      "[9000]\tvalidation_0-rmse:0.71464\n",
      "[9220]\tvalidation_0-rmse:0.71463\n"
     ]
    },
    {
     "name": "stderr",
     "output_type": "stream",
     "text": [
      "\u001b[32m[I 2021-08-23 01:41:54,360]\u001b[0m Trial 11 finished with value: 0.7145859863306023 and parameters: {'learning_rate': 0.021587583030855412, 'subsample': 0.8383039471110006, 'colsample_bytree': 0.1222800620599494, 'max_depth': 3, 'lambda': 4.854058329869786, 'alpha': 3.384999880715353, 'min_child_weight': 214.30318806871026}. Best is trial 1 with value: 0.7144732102803356.\u001b[0m\n"
     ]
    },
    {
     "name": "stdout",
     "output_type": "stream",
     "text": [
      "[0]\tvalidation_0-rmse:7.60009\n",
      "[1000]\tvalidation_0-rmse:0.72382\n",
      "[2000]\tvalidation_0-rmse:0.71942\n",
      "[3000]\tvalidation_0-rmse:0.71730\n",
      "[4000]\tvalidation_0-rmse:0.71612\n",
      "[5000]\tvalidation_0-rmse:0.71549\n",
      "[6000]\tvalidation_0-rmse:0.71511\n",
      "[7000]\tvalidation_0-rmse:0.71488\n",
      "[8000]\tvalidation_0-rmse:0.71474\n",
      "[9000]\tvalidation_0-rmse:0.71462\n",
      "[9744]\tvalidation_0-rmse:0.71456\n",
      "[0]\tvalidation_0-rmse:7.60009\n",
      "[1000]\tvalidation_0-rmse:0.72388\n",
      "[2000]\tvalidation_0-rmse:0.71934\n",
      "[3000]\tvalidation_0-rmse:0.71727\n",
      "[4000]\tvalidation_0-rmse:0.71618\n",
      "[5000]\tvalidation_0-rmse:0.71550\n",
      "[6000]\tvalidation_0-rmse:0.71512\n",
      "[7000]\tvalidation_0-rmse:0.71487\n",
      "[8000]\tvalidation_0-rmse:0.71470\n",
      "[8957]\tvalidation_0-rmse:0.71463\n"
     ]
    },
    {
     "name": "stderr",
     "output_type": "stream",
     "text": [
      "\u001b[32m[I 2021-08-23 01:52:30,698]\u001b[0m Trial 12 finished with value: 0.71455249724057 and parameters: {'learning_rate': 0.022813391234398597, 'subsample': 0.8363536971100372, 'colsample_bytree': 0.1246440764304016, 'max_depth': 3, 'lambda': 4.822021107191799, 'alpha': 3.5569060192542463, 'min_child_weight': 214.10720032260903}. Best is trial 1 with value: 0.7144732102803356.\u001b[0m\n"
     ]
    },
    {
     "name": "stdout",
     "output_type": "stream",
     "text": [
      "[0]\tvalidation_0-rmse:7.59521\n",
      "[1000]\tvalidation_0-rmse:0.72365\n",
      "[2000]\tvalidation_0-rmse:0.71931\n",
      "[3000]\tvalidation_0-rmse:0.71718\n",
      "[4000]\tvalidation_0-rmse:0.71604\n",
      "[5000]\tvalidation_0-rmse:0.71544\n",
      "[6000]\tvalidation_0-rmse:0.71506\n",
      "[7000]\tvalidation_0-rmse:0.71483\n",
      "[8000]\tvalidation_0-rmse:0.71470\n",
      "[8612]\tvalidation_0-rmse:0.71466\n",
      "[0]\tvalidation_0-rmse:7.59521\n",
      "[1000]\tvalidation_0-rmse:0.72375\n",
      "[2000]\tvalidation_0-rmse:0.71920\n",
      "[3000]\tvalidation_0-rmse:0.71720\n",
      "[4000]\tvalidation_0-rmse:0.71609\n",
      "[5000]\tvalidation_0-rmse:0.71545\n",
      "[6000]\tvalidation_0-rmse:0.71508\n",
      "[7000]\tvalidation_0-rmse:0.71485\n",
      "[8000]\tvalidation_0-rmse:0.71469\n",
      "[8946]\tvalidation_0-rmse:0.71462\n"
     ]
    },
    {
     "name": "stderr",
     "output_type": "stream",
     "text": [
      "\u001b[32m[I 2021-08-23 02:02:33,096]\u001b[0m Trial 13 finished with value: 0.7145947830589962 and parameters: {'learning_rate': 0.023445520133181623, 'subsample': 0.8332339872342946, 'colsample_bytree': 0.12499945857445614, 'max_depth': 3, 'lambda': 5.311634223084642, 'alpha': 3.7297966267069653, 'min_child_weight': 217.61283811965862}. Best is trial 1 with value: 0.7144732102803356.\u001b[0m\n"
     ]
    },
    {
     "name": "stdout",
     "output_type": "stream",
     "text": [
      "[0]\tvalidation_0-rmse:7.60080\n",
      "[1000]\tvalidation_0-rmse:0.72386\n",
      "[2000]\tvalidation_0-rmse:0.71939\n",
      "[3000]\tvalidation_0-rmse:0.71728\n",
      "[4000]\tvalidation_0-rmse:0.71613\n",
      "[5000]\tvalidation_0-rmse:0.71550\n",
      "[6000]\tvalidation_0-rmse:0.71511\n",
      "[7000]\tvalidation_0-rmse:0.71487\n",
      "[8000]\tvalidation_0-rmse:0.71476\n",
      "[9000]\tvalidation_0-rmse:0.71466\n",
      "[9997]\tvalidation_0-rmse:0.71462\n",
      "[0]\tvalidation_0-rmse:7.60080\n",
      "[1000]\tvalidation_0-rmse:0.72393\n",
      "[2000]\tvalidation_0-rmse:0.71940\n",
      "[3000]\tvalidation_0-rmse:0.71725\n",
      "[4000]\tvalidation_0-rmse:0.71617\n",
      "[5000]\tvalidation_0-rmse:0.71549\n",
      "[6000]\tvalidation_0-rmse:0.71514\n",
      "[7000]\tvalidation_0-rmse:0.71489\n",
      "[8000]\tvalidation_0-rmse:0.71469\n",
      "[8853]\tvalidation_0-rmse:0.71464\n"
     ]
    },
    {
     "name": "stderr",
     "output_type": "stream",
     "text": [
      "\u001b[32m[I 2021-08-23 02:13:15,749]\u001b[0m Trial 14 finished with value: 0.7145801121895747 and parameters: {'learning_rate': 0.02272215183954885, 'subsample': 0.8178708591272076, 'colsample_bytree': 0.12463095889459168, 'max_depth': 3, 'lambda': 5.903908175908481, 'alpha': 3.554894172048054, 'min_child_weight': 211.6203595366509}. Best is trial 1 with value: 0.7144732102803356.\u001b[0m\n"
     ]
    },
    {
     "name": "stdout",
     "output_type": "stream",
     "text": [
      "[0]\tvalidation_0-rmse:7.59182\n",
      "[1000]\tvalidation_0-rmse:0.72351\n",
      "[2000]\tvalidation_0-rmse:0.71920\n",
      "[3000]\tvalidation_0-rmse:0.71711\n",
      "[4000]\tvalidation_0-rmse:0.71599\n",
      "[5000]\tvalidation_0-rmse:0.71541\n",
      "[6000]\tvalidation_0-rmse:0.71507\n",
      "[7000]\tvalidation_0-rmse:0.71485\n",
      "[8000]\tvalidation_0-rmse:0.71473\n",
      "[8590]\tvalidation_0-rmse:0.71468\n",
      "[0]\tvalidation_0-rmse:7.59182\n",
      "[1000]\tvalidation_0-rmse:0.72354\n",
      "[2000]\tvalidation_0-rmse:0.71909\n",
      "[3000]\tvalidation_0-rmse:0.71712\n",
      "[4000]\tvalidation_0-rmse:0.71604\n",
      "[5000]\tvalidation_0-rmse:0.71539\n",
      "[6000]\tvalidation_0-rmse:0.71504\n",
      "[7000]\tvalidation_0-rmse:0.71481\n",
      "[8000]\tvalidation_0-rmse:0.71466\n",
      "[8958]\tvalidation_0-rmse:0.71460\n"
     ]
    },
    {
     "name": "stderr",
     "output_type": "stream",
     "text": [
      "\u001b[32m[I 2021-08-23 02:23:12,134]\u001b[0m Trial 15 finished with value: 0.7145947148160228 and parameters: {'learning_rate': 0.023886339188874485, 'subsample': 0.8331726906670295, 'colsample_bytree': 0.11810220223534815, 'max_depth': 3, 'lambda': 4.832320049873947, 'alpha': 2.77912767560524, 'min_child_weight': 217.35471241234384}. Best is trial 1 with value: 0.7144732102803356.\u001b[0m\n"
     ]
    },
    {
     "name": "stdout",
     "output_type": "stream",
     "text": [
      "[0]\tvalidation_0-rmse:7.60471\n",
      "[1000]\tvalidation_0-rmse:0.72394\n",
      "[2000]\tvalidation_0-rmse:0.71952\n",
      "[3000]\tvalidation_0-rmse:0.71735\n",
      "[4000]\tvalidation_0-rmse:0.71619\n",
      "[5000]\tvalidation_0-rmse:0.71555\n",
      "[6000]\tvalidation_0-rmse:0.71513\n",
      "[7000]\tvalidation_0-rmse:0.71490\n",
      "[8000]\tvalidation_0-rmse:0.71477\n",
      "[9000]\tvalidation_0-rmse:0.71466\n",
      "[9497]\tvalidation_0-rmse:0.71464\n",
      "[0]\tvalidation_0-rmse:7.60471\n",
      "[1000]\tvalidation_0-rmse:0.72405\n",
      "[2000]\tvalidation_0-rmse:0.71949\n",
      "[3000]\tvalidation_0-rmse:0.71738\n",
      "[4000]\tvalidation_0-rmse:0.71625\n",
      "[5000]\tvalidation_0-rmse:0.71552\n",
      "[6000]\tvalidation_0-rmse:0.71515\n",
      "[7000]\tvalidation_0-rmse:0.71488\n",
      "[8000]\tvalidation_0-rmse:0.71470\n",
      "[8959]\tvalidation_0-rmse:0.71464\n"
     ]
    },
    {
     "name": "stderr",
     "output_type": "stream",
     "text": [
      "\u001b[32m[I 2021-08-23 02:33:56,985]\u001b[0m Trial 16 finished with value: 0.7145903666140814 and parameters: {'learning_rate': 0.022213771663367465, 'subsample': 0.820423641263808, 'colsample_bytree': 0.1180632438052343, 'max_depth': 3, 'lambda': 5.324105675454307, 'alpha': 3.237614387695234, 'min_child_weight': 212.08395180175629}. Best is trial 1 with value: 0.7144732102803356.\u001b[0m\n"
     ]
    },
    {
     "name": "stdout",
     "output_type": "stream",
     "text": [
      "[0]\tvalidation_0-rmse:7.59849\n",
      "[1000]\tvalidation_0-rmse:0.72373\n",
      "[2000]\tvalidation_0-rmse:0.71937\n",
      "[3000]\tvalidation_0-rmse:0.71729\n",
      "[4000]\tvalidation_0-rmse:0.71613\n",
      "[5000]\tvalidation_0-rmse:0.71549\n",
      "[6000]\tvalidation_0-rmse:0.71511\n",
      "[7000]\tvalidation_0-rmse:0.71488\n",
      "[8000]\tvalidation_0-rmse:0.71475\n",
      "[9000]\tvalidation_0-rmse:0.71463\n",
      "[9708]\tvalidation_0-rmse:0.71459\n",
      "[0]\tvalidation_0-rmse:7.59849\n",
      "[1000]\tvalidation_0-rmse:0.72382\n",
      "[2000]\tvalidation_0-rmse:0.71937\n",
      "[3000]\tvalidation_0-rmse:0.71725\n",
      "[4000]\tvalidation_0-rmse:0.71614\n",
      "[5000]\tvalidation_0-rmse:0.71548\n",
      "[6000]\tvalidation_0-rmse:0.71509\n",
      "[7000]\tvalidation_0-rmse:0.71486\n",
      "[8000]\tvalidation_0-rmse:0.71469\n",
      "[8891]\tvalidation_0-rmse:0.71462\n"
     ]
    },
    {
     "name": "stderr",
     "output_type": "stream",
     "text": [
      "\u001b[32m[I 2021-08-23 02:44:35,792]\u001b[0m Trial 17 finished with value: 0.7145568152315229 and parameters: {'learning_rate': 0.02302006831707702, 'subsample': 0.834882090335372, 'colsample_bytree': 0.12487348915897829, 'max_depth': 3, 'lambda': 5.180057990085055, 'alpha': 3.5270493952168196, 'min_child_weight': 219.56308576842585}. Best is trial 1 with value: 0.7144732102803356.\u001b[0m\n"
     ]
    },
    {
     "name": "stdout",
     "output_type": "stream",
     "text": [
      "[0]\tvalidation_0-rmse:7.58699\n",
      "[1000]\tvalidation_0-rmse:0.72332\n",
      "[2000]\tvalidation_0-rmse:0.71900\n",
      "[3000]\tvalidation_0-rmse:0.71701\n",
      "[4000]\tvalidation_0-rmse:0.71593\n",
      "[5000]\tvalidation_0-rmse:0.71534\n",
      "[6000]\tvalidation_0-rmse:0.71498\n",
      "[7000]\tvalidation_0-rmse:0.71477\n",
      "[8000]\tvalidation_0-rmse:0.71465\n",
      "[8589]\tvalidation_0-rmse:0.71462\n",
      "[0]\tvalidation_0-rmse:7.58699\n",
      "[1000]\tvalidation_0-rmse:0.72337\n",
      "[2000]\tvalidation_0-rmse:0.71894\n",
      "[3000]\tvalidation_0-rmse:0.71697\n",
      "[4000]\tvalidation_0-rmse:0.71594\n",
      "[5000]\tvalidation_0-rmse:0.71533\n",
      "[6000]\tvalidation_0-rmse:0.71499\n",
      "[7000]\tvalidation_0-rmse:0.71476\n",
      "[8000]\tvalidation_0-rmse:0.71460\n",
      "[8350]\tvalidation_0-rmse:0.71457\n"
     ]
    },
    {
     "name": "stderr",
     "output_type": "stream",
     "text": [
      "\u001b[32m[I 2021-08-23 02:54:17,757]\u001b[0m Trial 18 finished with value: 0.7145520575035664 and parameters: {'learning_rate': 0.024513374810672752, 'subsample': 0.8301169066621706, 'colsample_bytree': 0.11907330754459161, 'max_depth': 3, 'lambda': 4.822519782599038, 'alpha': 3.300450109346936, 'min_child_weight': 215.816521847506}. Best is trial 1 with value: 0.7144732102803356.\u001b[0m\n"
     ]
    },
    {
     "name": "stdout",
     "output_type": "stream",
     "text": [
      "[0]\tvalidation_0-rmse:7.58533\n",
      "[1000]\tvalidation_0-rmse:0.72045\n",
      "[2000]\tvalidation_0-rmse:0.71680\n",
      "[3000]\tvalidation_0-rmse:0.71546\n",
      "[4000]\tvalidation_0-rmse:0.71489\n",
      "[5000]\tvalidation_0-rmse:0.71473\n",
      "[5629]\tvalidation_0-rmse:0.71467\n",
      "[0]\tvalidation_0-rmse:7.58533\n",
      "[1000]\tvalidation_0-rmse:0.72059\n",
      "[2000]\tvalidation_0-rmse:0.71681\n",
      "[3000]\tvalidation_0-rmse:0.71552\n",
      "[4000]\tvalidation_0-rmse:0.71501\n",
      "[5000]\tvalidation_0-rmse:0.71475\n",
      "[5823]\tvalidation_0-rmse:0.71472\n"
     ]
    },
    {
     "name": "stderr",
     "output_type": "stream",
     "text": [
      "\u001b[32m[I 2021-08-23 03:01:23,287]\u001b[0m Trial 19 finished with value: 0.7146105378739286 and parameters: {'learning_rate': 0.024728662071490364, 'subsample': 0.8291268545006297, 'colsample_bytree': 0.11884037300070541, 'max_depth': 4, 'lambda': 5.481556312181791, 'alpha': 3.298802788559576, 'min_child_weight': 216.85547695736162}. Best is trial 1 with value: 0.7144732102803356.\u001b[0m\n"
     ]
    },
    {
     "name": "stdout",
     "output_type": "stream",
     "text": [
      "[0]\tvalidation_0-rmse:7.58870\n",
      "[1000]\tvalidation_0-rmse:0.72381\n",
      "[2000]\tvalidation_0-rmse:0.71932\n",
      "[3000]\tvalidation_0-rmse:0.71723\n",
      "[4000]\tvalidation_0-rmse:0.71605\n",
      "[5000]\tvalidation_0-rmse:0.71542\n",
      "[6000]\tvalidation_0-rmse:0.71504\n",
      "[7000]\tvalidation_0-rmse:0.71481\n",
      "[8000]\tvalidation_0-rmse:0.71468\n",
      "[9000]\tvalidation_0-rmse:0.71459\n",
      "[9533]\tvalidation_0-rmse:0.71457\n",
      "[0]\tvalidation_0-rmse:7.58869\n",
      "[1000]\tvalidation_0-rmse:0.72386\n",
      "[2000]\tvalidation_0-rmse:0.71940\n",
      "[3000]\tvalidation_0-rmse:0.71725\n",
      "[4000]\tvalidation_0-rmse:0.71614\n",
      "[5000]\tvalidation_0-rmse:0.71545\n",
      "[6000]\tvalidation_0-rmse:0.71511\n",
      "[7000]\tvalidation_0-rmse:0.71480\n",
      "[8000]\tvalidation_0-rmse:0.71466\n",
      "[8853]\tvalidation_0-rmse:0.71459\n"
     ]
    },
    {
     "name": "stderr",
     "output_type": "stream",
     "text": [
      "\u001b[32m[I 2021-08-23 03:11:55,099]\u001b[0m Trial 20 finished with value: 0.7145313328411104 and parameters: {'learning_rate': 0.024291362121225325, 'subsample': 0.8210936017102053, 'colsample_bytree': 0.11308444706059206, 'max_depth': 3, 'lambda': 4.956874467063828, 'alpha': 2.848363922559455, 'min_child_weight': 220.6812708949866}. Best is trial 1 with value: 0.7144732102803356.\u001b[0m\n"
     ]
    },
    {
     "name": "stdout",
     "output_type": "stream",
     "text": [
      "[0]\tvalidation_0-rmse:7.59000\n",
      "[1000]\tvalidation_0-rmse:0.72388\n",
      "[2000]\tvalidation_0-rmse:0.71929\n",
      "[3000]\tvalidation_0-rmse:0.71720\n",
      "[4000]\tvalidation_0-rmse:0.71603\n",
      "[5000]\tvalidation_0-rmse:0.71543\n",
      "[6000]\tvalidation_0-rmse:0.71506\n",
      "[7000]\tvalidation_0-rmse:0.71483\n",
      "[8000]\tvalidation_0-rmse:0.71473\n",
      "[9000]\tvalidation_0-rmse:0.71463\n",
      "[9819]\tvalidation_0-rmse:0.71459\n",
      "[0]\tvalidation_0-rmse:7.59000\n",
      "[1000]\tvalidation_0-rmse:0.72392\n",
      "[2000]\tvalidation_0-rmse:0.71945\n",
      "[3000]\tvalidation_0-rmse:0.71731\n",
      "[4000]\tvalidation_0-rmse:0.71618\n",
      "[5000]\tvalidation_0-rmse:0.71547\n",
      "[6000]\tvalidation_0-rmse:0.71511\n",
      "[7000]\tvalidation_0-rmse:0.71482\n",
      "[8000]\tvalidation_0-rmse:0.71466\n",
      "[8940]\tvalidation_0-rmse:0.71459\n"
     ]
    },
    {
     "name": "stderr",
     "output_type": "stream",
     "text": [
      "\u001b[32m[I 2021-08-23 03:22:38,747]\u001b[0m Trial 21 finished with value: 0.7145345210970576 and parameters: {'learning_rate': 0.02412359887811642, 'subsample': 0.822406807367274, 'colsample_bytree': 0.11263138858993581, 'max_depth': 3, 'lambda': 4.957915884333224, 'alpha': 2.7771757343298016, 'min_child_weight': 220.63464557936211}. Best is trial 1 with value: 0.7144732102803356.\u001b[0m\n"
     ]
    },
    {
     "name": "stdout",
     "output_type": "stream",
     "text": [
      "[0]\tvalidation_0-rmse:7.59082\n",
      "[1000]\tvalidation_0-rmse:0.72390\n",
      "[2000]\tvalidation_0-rmse:0.71935\n",
      "[3000]\tvalidation_0-rmse:0.71727\n",
      "[4000]\tvalidation_0-rmse:0.71609\n",
      "[5000]\tvalidation_0-rmse:0.71547\n",
      "[6000]\tvalidation_0-rmse:0.71510\n",
      "[7000]\tvalidation_0-rmse:0.71489\n",
      "[8000]\tvalidation_0-rmse:0.71476\n",
      "[9000]\tvalidation_0-rmse:0.71465\n",
      "[9818]\tvalidation_0-rmse:0.71460\n",
      "[0]\tvalidation_0-rmse:7.59082\n",
      "[1000]\tvalidation_0-rmse:0.72398\n",
      "[2000]\tvalidation_0-rmse:0.71948\n",
      "[3000]\tvalidation_0-rmse:0.71732\n",
      "[4000]\tvalidation_0-rmse:0.71618\n",
      "[5000]\tvalidation_0-rmse:0.71550\n",
      "[6000]\tvalidation_0-rmse:0.71514\n",
      "[7000]\tvalidation_0-rmse:0.71485\n",
      "[8000]\tvalidation_0-rmse:0.71466\n",
      "[8939]\tvalidation_0-rmse:0.71459\n"
     ]
    },
    {
     "name": "stderr",
     "output_type": "stream",
     "text": [
      "\u001b[32m[I 2021-08-23 03:33:58,278]\u001b[0m Trial 22 finished with value: 0.7145419945154571 and parameters: {'learning_rate': 0.02401561770084289, 'subsample': 0.821954104011881, 'colsample_bytree': 0.11264822125082498, 'max_depth': 3, 'lambda': 5.027370725343834, 'alpha': 2.7759752833502027, 'min_child_weight': 221.77886271140795}. Best is trial 1 with value: 0.7144732102803356.\u001b[0m\n"
     ]
    },
    {
     "name": "stdout",
     "output_type": "stream",
     "text": [
      "[0]\tvalidation_0-rmse:7.58206\n",
      "[1000]\tvalidation_0-rmse:0.72358\n",
      "[2000]\tvalidation_0-rmse:0.71912\n",
      "[3000]\tvalidation_0-rmse:0.71702\n",
      "[4000]\tvalidation_0-rmse:0.71592\n",
      "[5000]\tvalidation_0-rmse:0.71535\n",
      "[6000]\tvalidation_0-rmse:0.71499\n",
      "[7000]\tvalidation_0-rmse:0.71478\n",
      "[8000]\tvalidation_0-rmse:0.71468\n",
      "[8569]\tvalidation_0-rmse:0.71464\n",
      "[0]\tvalidation_0-rmse:7.58206\n",
      "[1000]\tvalidation_0-rmse:0.72368\n",
      "[2000]\tvalidation_0-rmse:0.71921\n",
      "[3000]\tvalidation_0-rmse:0.71712\n",
      "[4000]\tvalidation_0-rmse:0.71603\n",
      "[5000]\tvalidation_0-rmse:0.71538\n",
      "[6000]\tvalidation_0-rmse:0.71505\n",
      "[7000]\tvalidation_0-rmse:0.71482\n",
      "[8000]\tvalidation_0-rmse:0.71465\n",
      "[8852]\tvalidation_0-rmse:0.71461\n"
     ]
    },
    {
     "name": "stderr",
     "output_type": "stream",
     "text": [
      "\u001b[32m[I 2021-08-23 03:44:51,471]\u001b[0m Trial 23 finished with value: 0.7145738570393051 and parameters: {'learning_rate': 0.025154104442436973, 'subsample': 0.8153483638799828, 'colsample_bytree': 0.1118974782887295, 'max_depth': 3, 'lambda': 4.999834050560621, 'alpha': 2.839439630126761, 'min_child_weight': 221.1575747684421}. Best is trial 1 with value: 0.7144732102803356.\u001b[0m\n"
     ]
    },
    {
     "name": "stdout",
     "output_type": "stream",
     "text": [
      "[0]\tvalidation_0-rmse:7.59475\n",
      "[1000]\tvalidation_0-rmse:0.72363\n",
      "[2000]\tvalidation_0-rmse:0.71923\n",
      "[3000]\tvalidation_0-rmse:0.71717\n",
      "[4000]\tvalidation_0-rmse:0.71602\n",
      "[5000]\tvalidation_0-rmse:0.71544\n",
      "[6000]\tvalidation_0-rmse:0.71508\n",
      "[7000]\tvalidation_0-rmse:0.71485\n",
      "[8000]\tvalidation_0-rmse:0.71475\n",
      "[9000]\tvalidation_0-rmse:0.71466\n",
      "[9820]\tvalidation_0-rmse:0.71463\n",
      "[0]\tvalidation_0-rmse:7.59475\n",
      "[1000]\tvalidation_0-rmse:0.72367\n",
      "[2000]\tvalidation_0-rmse:0.71918\n",
      "[3000]\tvalidation_0-rmse:0.71712\n",
      "[4000]\tvalidation_0-rmse:0.71606\n",
      "[5000]\tvalidation_0-rmse:0.71538\n",
      "[6000]\tvalidation_0-rmse:0.71505\n",
      "[7000]\tvalidation_0-rmse:0.71479\n",
      "[8000]\tvalidation_0-rmse:0.71461\n",
      "[8917]\tvalidation_0-rmse:0.71455\n"
     ]
    },
    {
     "name": "stderr",
     "output_type": "stream",
     "text": [
      "\u001b[32m[I 2021-08-23 03:55:40,075]\u001b[0m Trial 24 finished with value: 0.7145364595721442 and parameters: {'learning_rate': 0.023505090599221526, 'subsample': 0.822679646306033, 'colsample_bytree': 0.11524742048369838, 'max_depth': 3, 'lambda': 4.943451517660434, 'alpha': 2.8810475623490372, 'min_child_weight': 219.91222464736737}. Best is trial 1 with value: 0.7144732102803356.\u001b[0m\n"
     ]
    },
    {
     "name": "stdout",
     "output_type": "stream",
     "text": [
      "[0]\tvalidation_0-rmse:7.59087\n",
      "[1000]\tvalidation_0-rmse:0.72346\n",
      "[2000]\tvalidation_0-rmse:0.71910\n",
      "[3000]\tvalidation_0-rmse:0.71707\n",
      "[4000]\tvalidation_0-rmse:0.71596\n",
      "[5000]\tvalidation_0-rmse:0.71539\n",
      "[6000]\tvalidation_0-rmse:0.71504\n",
      "[7000]\tvalidation_0-rmse:0.71486\n",
      "[8000]\tvalidation_0-rmse:0.71476\n",
      "[8667]\tvalidation_0-rmse:0.71472\n",
      "[0]\tvalidation_0-rmse:7.59087\n",
      "[1000]\tvalidation_0-rmse:0.72351\n",
      "[2000]\tvalidation_0-rmse:0.71906\n",
      "[3000]\tvalidation_0-rmse:0.71702\n",
      "[4000]\tvalidation_0-rmse:0.71598\n",
      "[5000]\tvalidation_0-rmse:0.71536\n",
      "[6000]\tvalidation_0-rmse:0.71502\n",
      "[7000]\tvalidation_0-rmse:0.71479\n",
      "[8000]\tvalidation_0-rmse:0.71463\n",
      "[8973]\tvalidation_0-rmse:0.71459\n"
     ]
    },
    {
     "name": "stderr",
     "output_type": "stream",
     "text": [
      "\u001b[32m[I 2021-08-23 04:05:51,947]\u001b[0m Trial 25 finished with value: 0.714606932994684 and parameters: {'learning_rate': 0.024009623513272557, 'subsample': 0.817470952682652, 'colsample_bytree': 0.11652916461915527, 'max_depth': 3, 'lambda': 5.217914855604217, 'alpha': 2.857950304840075, 'min_child_weight': 222.09131356674843}. Best is trial 1 with value: 0.7144732102803356.\u001b[0m\n"
     ]
    },
    {
     "name": "stdout",
     "output_type": "stream",
     "text": [
      "[0]\tvalidation_0-rmse:7.58874\n",
      "[1000]\tvalidation_0-rmse:0.72761\n",
      "[2000]\tvalidation_0-rmse:0.72368\n",
      "[3000]\tvalidation_0-rmse:0.72151\n",
      "[4000]\tvalidation_0-rmse:0.71998\n",
      "[5000]\tvalidation_0-rmse:0.71882\n",
      "[6000]\tvalidation_0-rmse:0.71791\n",
      "[7000]\tvalidation_0-rmse:0.71723\n",
      "[8000]\tvalidation_0-rmse:0.71665\n",
      "[9000]\tvalidation_0-rmse:0.71622\n",
      "[10000]\tvalidation_0-rmse:0.71589\n",
      "[11000]\tvalidation_0-rmse:0.71565\n",
      "[12000]\tvalidation_0-rmse:0.71543\n",
      "[13000]\tvalidation_0-rmse:0.71527\n",
      "[14000]\tvalidation_0-rmse:0.71515\n",
      "[15000]\tvalidation_0-rmse:0.71507\n",
      "[16000]\tvalidation_0-rmse:0.71499\n",
      "[17000]\tvalidation_0-rmse:0.71493\n",
      "[17099]\tvalidation_0-rmse:0.71493\n",
      "[0]\tvalidation_0-rmse:7.58874\n",
      "[1000]\tvalidation_0-rmse:0.72779\n",
      "[2000]\tvalidation_0-rmse:0.72379\n",
      "[3000]\tvalidation_0-rmse:0.72163\n",
      "[4000]\tvalidation_0-rmse:0.72010\n",
      "[5000]\tvalidation_0-rmse:0.71888\n",
      "[6000]\tvalidation_0-rmse:0.71801\n",
      "[7000]\tvalidation_0-rmse:0.71730\n",
      "[8000]\tvalidation_0-rmse:0.71672\n",
      "[9000]\tvalidation_0-rmse:0.71626\n",
      "[10000]\tvalidation_0-rmse:0.71588\n",
      "[11000]\tvalidation_0-rmse:0.71563\n",
      "[12000]\tvalidation_0-rmse:0.71544\n",
      "[13000]\tvalidation_0-rmse:0.71527\n",
      "[14000]\tvalidation_0-rmse:0.71513\n",
      "[15000]\tvalidation_0-rmse:0.71502\n",
      "[16000]\tvalidation_0-rmse:0.71494\n",
      "[17000]\tvalidation_0-rmse:0.71487\n",
      "[17796]\tvalidation_0-rmse:0.71484\n"
     ]
    },
    {
     "name": "stderr",
     "output_type": "stream",
     "text": [
      "\u001b[32m[I 2021-08-23 04:24:39,167]\u001b[0m Trial 26 finished with value: 0.7148621841959267 and parameters: {'learning_rate': 0.024285585687342567, 'subsample': 0.8279304864494722, 'colsample_bytree': 0.11456124350679031, 'max_depth': 2, 'lambda': 5.43150211131656, 'alpha': 2.907240343617424, 'min_child_weight': 218.77568294572708}. Best is trial 1 with value: 0.7144732102803356.\u001b[0m\n"
     ]
    },
    {
     "name": "stdout",
     "output_type": "stream",
     "text": [
      "[0]\tvalidation_0-rmse:7.58326\n",
      "[1000]\tvalidation_0-rmse:0.72073\n",
      "[2000]\tvalidation_0-rmse:0.71690\n",
      "[3000]\tvalidation_0-rmse:0.71552\n",
      "[4000]\tvalidation_0-rmse:0.71490\n",
      "[5000]\tvalidation_0-rmse:0.71470\n",
      "[5952]\tvalidation_0-rmse:0.71467\n",
      "[0]\tvalidation_0-rmse:7.58325\n",
      "[1000]\tvalidation_0-rmse:0.72094\n",
      "[2000]\tvalidation_0-rmse:0.71705\n",
      "[3000]\tvalidation_0-rmse:0.71566\n",
      "[4000]\tvalidation_0-rmse:0.71508\n",
      "[5000]\tvalidation_0-rmse:0.71485\n",
      "[5351]\tvalidation_0-rmse:0.71483\n"
     ]
    },
    {
     "name": "stderr",
     "output_type": "stream",
     "text": [
      "\u001b[32m[I 2021-08-23 04:31:39,003]\u001b[0m Trial 27 finished with value: 0.714672175840553 and parameters: {'learning_rate': 0.024998749517166997, 'subsample': 0.8209122572790294, 'colsample_bytree': 0.1121525479071252, 'max_depth': 4, 'lambda': 5.122581340569818, 'alpha': 3.190559208691719, 'min_child_weight': 212.28471425045564}. Best is trial 1 with value: 0.7144732102803356.\u001b[0m\n"
     ]
    },
    {
     "name": "stdout",
     "output_type": "stream",
     "text": [
      "[0]\tvalidation_0-rmse:7.59643\n",
      "[1000]\tvalidation_0-rmse:0.72405\n",
      "[2000]\tvalidation_0-rmse:0.71955\n",
      "[3000]\tvalidation_0-rmse:0.71741\n",
      "[4000]\tvalidation_0-rmse:0.71618\n",
      "[5000]\tvalidation_0-rmse:0.71554\n",
      "[6000]\tvalidation_0-rmse:0.71513\n",
      "[7000]\tvalidation_0-rmse:0.71487\n",
      "[8000]\tvalidation_0-rmse:0.71472\n",
      "[9000]\tvalidation_0-rmse:0.71461\n",
      "[9819]\tvalidation_0-rmse:0.71456\n",
      "[0]\tvalidation_0-rmse:7.59643\n",
      "[1000]\tvalidation_0-rmse:0.72412\n",
      "[2000]\tvalidation_0-rmse:0.71964\n",
      "[3000]\tvalidation_0-rmse:0.71750\n",
      "[4000]\tvalidation_0-rmse:0.71630\n",
      "[5000]\tvalidation_0-rmse:0.71559\n",
      "[6000]\tvalidation_0-rmse:0.71521\n",
      "[7000]\tvalidation_0-rmse:0.71491\n",
      "[8000]\tvalidation_0-rmse:0.71469\n",
      "[8966]\tvalidation_0-rmse:0.71461\n"
     ]
    },
    {
     "name": "stderr",
     "output_type": "stream",
     "text": [
      "\u001b[32m[I 2021-08-23 04:42:27,349]\u001b[0m Trial 28 finished with value: 0.7145389419843101 and parameters: {'learning_rate': 0.023288924120634963, 'subsample': 0.826557568388911, 'colsample_bytree': 0.110454590830013, 'max_depth': 3, 'lambda': 4.930673108975507, 'alpha': 2.7677058564942376, 'min_child_weight': 221.11627780568776}. Best is trial 1 with value: 0.7144732102803356.\u001b[0m\n"
     ]
    },
    {
     "name": "stdout",
     "output_type": "stream",
     "text": [
      "[0]\tvalidation_0-rmse:7.57346\n",
      "[1000]\tvalidation_0-rmse:0.72723\n",
      "[2000]\tvalidation_0-rmse:0.72331\n",
      "[3000]\tvalidation_0-rmse:0.72114\n",
      "[4000]\tvalidation_0-rmse:0.71963\n",
      "[5000]\tvalidation_0-rmse:0.71846\n",
      "[6000]\tvalidation_0-rmse:0.71763\n",
      "[7000]\tvalidation_0-rmse:0.71695\n",
      "[8000]\tvalidation_0-rmse:0.71640\n",
      "[9000]\tvalidation_0-rmse:0.71600\n",
      "[10000]\tvalidation_0-rmse:0.71571\n",
      "[11000]\tvalidation_0-rmse:0.71549\n",
      "[12000]\tvalidation_0-rmse:0.71530\n",
      "[13000]\tvalidation_0-rmse:0.71518\n",
      "[14000]\tvalidation_0-rmse:0.71506\n",
      "[14623]\tvalidation_0-rmse:0.71501\n",
      "[0]\tvalidation_0-rmse:7.57347\n",
      "[1000]\tvalidation_0-rmse:0.72740\n",
      "[2000]\tvalidation_0-rmse:0.72336\n",
      "[3000]\tvalidation_0-rmse:0.72119\n",
      "[4000]\tvalidation_0-rmse:0.71964\n",
      "[5000]\tvalidation_0-rmse:0.71844\n",
      "[6000]\tvalidation_0-rmse:0.71758\n",
      "[7000]\tvalidation_0-rmse:0.71694\n",
      "[8000]\tvalidation_0-rmse:0.71643\n",
      "[9000]\tvalidation_0-rmse:0.71600\n",
      "[10000]\tvalidation_0-rmse:0.71568\n",
      "[11000]\tvalidation_0-rmse:0.71544\n",
      "[12000]\tvalidation_0-rmse:0.71528\n",
      "[13000]\tvalidation_0-rmse:0.71513\n",
      "[14000]\tvalidation_0-rmse:0.71503\n",
      "[15000]\tvalidation_0-rmse:0.71494\n",
      "[16000]\tvalidation_0-rmse:0.71488\n",
      "[17000]\tvalidation_0-rmse:0.71483\n",
      "[17668]\tvalidation_0-rmse:0.71482\n"
     ]
    },
    {
     "name": "stderr",
     "output_type": "stream",
     "text": [
      "\u001b[32m[I 2021-08-23 04:59:53,473]\u001b[0m Trial 29 finished with value: 0.7148720392439037 and parameters: {'learning_rate': 0.026268363756957045, 'subsample': 0.8233067682014026, 'colsample_bytree': 0.11707480726192526, 'max_depth': 2, 'lambda': 5.966595499537643, 'alpha': 3.1322038694238796, 'min_child_weight': 216.08294419840237}. Best is trial 1 with value: 0.7144732102803356.\u001b[0m\n"
     ]
    },
    {
     "name": "stdout",
     "output_type": "stream",
     "text": [
      "Number of finished trials: 30\n",
      "Best trial: {'learning_rate': 0.023922184284137126, 'subsample': 0.8255690907817529, 'colsample_bytree': 0.1167134909462559, 'max_depth': 3, 'lambda': 4.883892254371711, 'alpha': 3.2370904024468588, 'min_child_weight': 215.29861335773373}\n"
     ]
    }
   ],
   "source": [
    "study = optuna.create_study(direction='minimize')\n",
    "study.optimize(objective,n_trials= 30)\n",
    "print('Number of finished trials:', len(study.trials))\n",
    "print('Best trial:', study.best_trial.params)"
   ]
  },
  {
   "cell_type": "code",
   "execution_count": 13,
   "id": "ffce3668",
   "metadata": {
    "execution": {
     "iopub.execute_input": "2021-08-23T04:59:53.958504Z",
     "iopub.status.busy": "2021-08-23T04:59:53.957790Z",
     "iopub.status.idle": "2021-08-23T04:59:53.961207Z",
     "shell.execute_reply": "2021-08-23T04:59:53.961662Z"
    },
    "papermill": {
     "duration": 0.241436,
     "end_time": "2021-08-23T04:59:53.961835",
     "exception": false,
     "start_time": "2021-08-23T04:59:53.720399",
     "status": "completed"
    },
    "tags": []
   },
   "outputs": [
    {
     "data": {
      "text/plain": [
       "{'learning_rate': 0.023922184284137126,\n",
       " 'subsample': 0.8255690907817529,\n",
       " 'colsample_bytree': 0.1167134909462559,\n",
       " 'max_depth': 3,\n",
       " 'lambda': 4.883892254371711,\n",
       " 'alpha': 3.2370904024468588,\n",
       " 'min_child_weight': 215.29861335773373}"
      ]
     },
     "execution_count": 13,
     "metadata": {},
     "output_type": "execute_result"
    }
   ],
   "source": [
    "study.best_params"
   ]
  },
  {
   "cell_type": "markdown",
   "id": "d15a4498",
   "metadata": {
    "papermill": {
     "duration": 0.234306,
     "end_time": "2021-08-23T04:59:54.429878",
     "exception": false,
     "start_time": "2021-08-23T04:59:54.195572",
     "status": "completed"
    },
    "tags": []
   },
   "source": [
    "# Log\n",
    "\n",
    "====== Ordinal encoding =========\n",
    "\n",
    "0.7191554455920611 row-wise ver2\n",
    "\n",
    "0.718174759653254 random noise ver3\n",
    "\n",
    "0.7151687433954103 no noise ver4\n",
    "\n",
    "====== One-hot encoding =========\n",
    "\n",
    "0.7146766534694031 no noise ver6\n",
    "\n",
    "0.714641142870855 no noise ver9 (narrow space)\n",
    "\n",
    "0.7145730004429567 no noise ver10 (narrow space)\n",
    "\n",
    "0.7145102270468436 no noise ver11 (narrow space)\n",
    "\n",
    "0.7145007685084899 no noise ver12 (narrow space)\n",
    "\n",
    "0.7186947597333636 random noise ver7\n",
    "\n",
    "0.7186322008878688 row-wise ver8\n"
   ]
  }
 ],
 "metadata": {
  "kernelspec": {
   "display_name": "Python 3",
   "language": "python",
   "name": "python3"
  },
  "language_info": {
   "codemirror_mode": {
    "name": "ipython",
    "version": 3
   },
   "file_extension": ".py",
   "mimetype": "text/x-python",
   "name": "python",
   "nbconvert_exporter": "python",
   "pygments_lexer": "ipython3",
   "version": "3.7.10"
  },
  "papermill": {
   "default_parameters": {},
   "duration": 21037.356832,
   "end_time": "2021-08-23T04:59:56.303364",
   "environment_variables": {},
   "exception": null,
   "input_path": "__notebook__.ipynb",
   "output_path": "__notebook__.ipynb",
   "parameters": {},
   "start_time": "2021-08-22T23:09:18.946532",
   "version": "2.3.3"
  }
 },
 "nbformat": 4,
 "nbformat_minor": 5
}
