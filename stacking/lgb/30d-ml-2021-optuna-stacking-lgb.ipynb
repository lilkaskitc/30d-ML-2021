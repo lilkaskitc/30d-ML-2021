{
 "cells": [
  {
   "cell_type": "code",
   "execution_count": 1,
   "id": "ce09701d",
   "metadata": {
    "_cell_guid": "b1076dfc-b9ad-4769-8c92-a6c4dae69d19",
    "_uuid": "8f2839f25d086af736a60e9eeb907d3b93b6e0e5",
    "execution": {
     "iopub.execute_input": "2021-08-31T12:00:00.198421Z",
     "iopub.status.busy": "2021-08-31T12:00:00.197726Z",
     "iopub.status.idle": "2021-08-31T12:00:02.383925Z",
     "shell.execute_reply": "2021-08-31T12:00:02.383222Z",
     "shell.execute_reply.started": "2021-08-31T11:54:07.168187Z"
    },
    "papermill": {
     "duration": 2.217697,
     "end_time": "2021-08-31T12:00:02.384116",
     "exception": false,
     "start_time": "2021-08-31T12:00:00.166419",
     "status": "completed"
    },
    "tags": []
   },
   "outputs": [
    {
     "data": {
      "text/html": [
       "<style type='text/css'>\n",
       ".datatable table.frame { margin-bottom: 0; }\n",
       ".datatable table.frame thead { border-bottom: none; }\n",
       ".datatable table.frame tr.coltypes td {  color: #FFFFFF;  line-height: 6px;  padding: 0 0.5em;}\n",
       ".datatable .bool    { background: #DDDD99; }\n",
       ".datatable .object  { background: #565656; }\n",
       ".datatable .int     { background: #5D9E5D; }\n",
       ".datatable .float   { background: #4040CC; }\n",
       ".datatable .str     { background: #CC4040; }\n",
       ".datatable .time    { background: #40CC40; }\n",
       ".datatable .row_index {  background: var(--jp-border-color3);  border-right: 1px solid var(--jp-border-color0);  color: var(--jp-ui-font-color3);  font-size: 9px;}\n",
       ".datatable .frame tbody td { text-align: left; }\n",
       ".datatable .frame tr.coltypes .row_index {  background: var(--jp-border-color0);}\n",
       ".datatable th:nth-child(2) { padding-left: 12px; }\n",
       ".datatable .hellipsis {  color: var(--jp-cell-editor-border-color);}\n",
       ".datatable .vellipsis {  background: var(--jp-layout-color0);  color: var(--jp-cell-editor-border-color);}\n",
       ".datatable .na {  color: var(--jp-cell-editor-border-color);  font-size: 80%;}\n",
       ".datatable .sp {  opacity: 0.25;}\n",
       ".datatable .footer { font-size: 9px; }\n",
       ".datatable .frame_dimensions {  background: var(--jp-border-color3);  border-top: 1px solid var(--jp-border-color0);  color: var(--jp-ui-font-color3);  display: inline-block;  opacity: 0.6;  padding: 1px 10px 1px 5px;}\n",
       "</style>\n"
      ],
      "text/plain": [
       "<IPython.core.display.HTML object>"
      ]
     },
     "metadata": {},
     "output_type": "display_data"
    }
   ],
   "source": [
    "# Familiar imports\n",
    "import numpy as np\n",
    "import pandas as pd\n",
    "import random\n",
    "import os\n",
    "import time\n",
    "from pathlib import Path\n",
    "\n",
    "from sklearn.preprocessing import StandardScaler\n",
    "from sklearn.model_selection import KFold, train_test_split\n",
    "from sklearn.metrics import mean_squared_error\n",
    "from sklearn.preprocessing import OrdinalEncoder, OneHotEncoder\n",
    "\n",
    "import lightgbm as lgb\n",
    "#import xgboost as xgb\n",
    "#import catboost as ctb\n",
    "\n",
    "import warnings\n",
    "warnings.simplefilter('ignore')"
   ]
  },
  {
   "cell_type": "markdown",
   "id": "c3dbcd29",
   "metadata": {
    "papermill": {
     "duration": 0.016058,
     "end_time": "2021-08-31T12:00:02.417612",
     "exception": false,
     "start_time": "2021-08-31T12:00:02.401554",
     "status": "completed"
    },
    "tags": []
   },
   "source": [
    "# Parameters"
   ]
  },
  {
   "cell_type": "code",
   "execution_count": 2,
   "id": "66cbb749",
   "metadata": {
    "execution": {
     "iopub.execute_input": "2021-08-31T12:00:02.457458Z",
     "iopub.status.busy": "2021-08-31T12:00:02.456247Z",
     "iopub.status.idle": "2021-08-31T12:00:02.458633Z",
     "shell.execute_reply": "2021-08-31T12:00:02.459181Z",
     "shell.execute_reply.started": "2021-08-31T11:54:09.478672Z"
    },
    "papermill": {
     "duration": 0.025228,
     "end_time": "2021-08-31T12:00:02.459343",
     "exception": false,
     "start_time": "2021-08-31T12:00:02.434115",
     "status": "completed"
    },
    "tags": []
   },
   "outputs": [],
   "source": [
    "target = 'target'\n",
    "\n",
    "DEBUG = False\n",
    "\n",
    "if DEBUG:\n",
    "    N_ESTIMATORS = 1\n",
    "    N_SPLITS = 2\n",
    "    SEED = 17\n",
    "    CVSEED = 17\n",
    "    EARLY_STOPPING_ROUNDS = 1\n",
    "    VERBOSE = 100\n",
    "    #N_ITERS = 2\n",
    "else:\n",
    "    N_SPLITS = 10\n",
    "    N_ESTIMATORS = 20000\n",
    "    EARLY_STOPPING_ROUNDS = 300\n",
    "    VERBOSE = 1000\n",
    "    SEED = 17\n",
    "    CVSEED = 17\n",
    "    #N_ITERS = 10"
   ]
  },
  {
   "cell_type": "code",
   "execution_count": 3,
   "id": "61b77af7",
   "metadata": {
    "execution": {
     "iopub.execute_input": "2021-08-31T12:00:02.495825Z",
     "iopub.status.busy": "2021-08-31T12:00:02.494899Z",
     "iopub.status.idle": "2021-08-31T12:00:02.499826Z",
     "shell.execute_reply": "2021-08-31T12:00:02.500342Z",
     "shell.execute_reply.started": "2021-08-31T11:54:09.486828Z"
    },
    "papermill": {
     "duration": 0.024643,
     "end_time": "2021-08-31T12:00:02.500502",
     "exception": false,
     "start_time": "2021-08-31T12:00:02.475859",
     "status": "completed"
    },
    "tags": []
   },
   "outputs": [],
   "source": [
    "def set_seed(seed=17):\n",
    "    random.seed(seed)\n",
    "    os.environ['PYTHONHASHSEED'] = str(seed)\n",
    "    np.random.seed(seed)\n",
    "    \n",
    "set_seed(SEED)"
   ]
  },
  {
   "cell_type": "markdown",
   "id": "4071cf7b",
   "metadata": {
    "papermill": {
     "duration": 0.016232,
     "end_time": "2021-08-31T12:00:02.533434",
     "exception": false,
     "start_time": "2021-08-31T12:00:02.517202",
     "status": "completed"
    },
    "tags": []
   },
   "source": [
    "# Load data"
   ]
  },
  {
   "cell_type": "code",
   "execution_count": 4,
   "id": "81b5cd84",
   "metadata": {
    "execution": {
     "iopub.execute_input": "2021-08-31T12:00:02.570027Z",
     "iopub.status.busy": "2021-08-31T12:00:02.569066Z",
     "iopub.status.idle": "2021-08-31T12:00:06.709438Z",
     "shell.execute_reply": "2021-08-31T12:00:06.708890Z",
     "shell.execute_reply.started": "2021-08-31T11:54:09.501265Z"
    },
    "papermill": {
     "duration": 4.159691,
     "end_time": "2021-08-31T12:00:06.709573",
     "exception": false,
     "start_time": "2021-08-31T12:00:02.549882",
     "status": "completed"
    },
    "tags": []
   },
   "outputs": [
    {
     "data": {
      "text/html": [
       "<div>\n",
       "<style scoped>\n",
       "    .dataframe tbody tr th:only-of-type {\n",
       "        vertical-align: middle;\n",
       "    }\n",
       "\n",
       "    .dataframe tbody tr th {\n",
       "        vertical-align: top;\n",
       "    }\n",
       "\n",
       "    .dataframe thead th {\n",
       "        text-align: right;\n",
       "    }\n",
       "</style>\n",
       "<table border=\"1\" class=\"dataframe\">\n",
       "  <thead>\n",
       "    <tr style=\"text-align: right;\">\n",
       "      <th></th>\n",
       "      <th>id</th>\n",
       "      <th>cat0</th>\n",
       "      <th>cat1</th>\n",
       "      <th>cat2</th>\n",
       "      <th>cat3</th>\n",
       "      <th>cat4</th>\n",
       "      <th>cat5</th>\n",
       "      <th>cat6</th>\n",
       "      <th>cat7</th>\n",
       "      <th>cat8</th>\n",
       "      <th>...</th>\n",
       "      <th>cont5</th>\n",
       "      <th>cont6</th>\n",
       "      <th>cont7</th>\n",
       "      <th>cont8</th>\n",
       "      <th>cont9</th>\n",
       "      <th>cont10</th>\n",
       "      <th>cont11</th>\n",
       "      <th>cont12</th>\n",
       "      <th>cont13</th>\n",
       "      <th>target</th>\n",
       "    </tr>\n",
       "  </thead>\n",
       "  <tbody>\n",
       "    <tr>\n",
       "      <th>0</th>\n",
       "      <td>1</td>\n",
       "      <td>B</td>\n",
       "      <td>B</td>\n",
       "      <td>B</td>\n",
       "      <td>C</td>\n",
       "      <td>B</td>\n",
       "      <td>B</td>\n",
       "      <td>A</td>\n",
       "      <td>E</td>\n",
       "      <td>C</td>\n",
       "      <td>...</td>\n",
       "      <td>0.400361</td>\n",
       "      <td>0.160266</td>\n",
       "      <td>0.310921</td>\n",
       "      <td>0.389470</td>\n",
       "      <td>0.267559</td>\n",
       "      <td>0.237281</td>\n",
       "      <td>0.377873</td>\n",
       "      <td>0.322401</td>\n",
       "      <td>0.869850</td>\n",
       "      <td>8.113634</td>\n",
       "    </tr>\n",
       "    <tr>\n",
       "      <th>1</th>\n",
       "      <td>2</td>\n",
       "      <td>B</td>\n",
       "      <td>B</td>\n",
       "      <td>A</td>\n",
       "      <td>A</td>\n",
       "      <td>B</td>\n",
       "      <td>D</td>\n",
       "      <td>A</td>\n",
       "      <td>F</td>\n",
       "      <td>A</td>\n",
       "      <td>...</td>\n",
       "      <td>0.533087</td>\n",
       "      <td>0.558922</td>\n",
       "      <td>0.516294</td>\n",
       "      <td>0.594928</td>\n",
       "      <td>0.341439</td>\n",
       "      <td>0.906013</td>\n",
       "      <td>0.921701</td>\n",
       "      <td>0.261975</td>\n",
       "      <td>0.465083</td>\n",
       "      <td>8.481233</td>\n",
       "    </tr>\n",
       "    <tr>\n",
       "      <th>2</th>\n",
       "      <td>3</td>\n",
       "      <td>A</td>\n",
       "      <td>A</td>\n",
       "      <td>A</td>\n",
       "      <td>C</td>\n",
       "      <td>B</td>\n",
       "      <td>D</td>\n",
       "      <td>A</td>\n",
       "      <td>D</td>\n",
       "      <td>A</td>\n",
       "      <td>...</td>\n",
       "      <td>0.650609</td>\n",
       "      <td>0.375348</td>\n",
       "      <td>0.902567</td>\n",
       "      <td>0.555205</td>\n",
       "      <td>0.843531</td>\n",
       "      <td>0.748809</td>\n",
       "      <td>0.620126</td>\n",
       "      <td>0.541474</td>\n",
       "      <td>0.763846</td>\n",
       "      <td>8.364351</td>\n",
       "    </tr>\n",
       "    <tr>\n",
       "      <th>3</th>\n",
       "      <td>4</td>\n",
       "      <td>B</td>\n",
       "      <td>B</td>\n",
       "      <td>A</td>\n",
       "      <td>C</td>\n",
       "      <td>B</td>\n",
       "      <td>D</td>\n",
       "      <td>A</td>\n",
       "      <td>E</td>\n",
       "      <td>C</td>\n",
       "      <td>...</td>\n",
       "      <td>0.668980</td>\n",
       "      <td>0.239061</td>\n",
       "      <td>0.732948</td>\n",
       "      <td>0.679618</td>\n",
       "      <td>0.574844</td>\n",
       "      <td>0.346010</td>\n",
       "      <td>0.714610</td>\n",
       "      <td>0.540150</td>\n",
       "      <td>0.280682</td>\n",
       "      <td>8.049253</td>\n",
       "    </tr>\n",
       "    <tr>\n",
       "      <th>4</th>\n",
       "      <td>6</td>\n",
       "      <td>A</td>\n",
       "      <td>A</td>\n",
       "      <td>A</td>\n",
       "      <td>C</td>\n",
       "      <td>B</td>\n",
       "      <td>D</td>\n",
       "      <td>A</td>\n",
       "      <td>E</td>\n",
       "      <td>A</td>\n",
       "      <td>...</td>\n",
       "      <td>0.686964</td>\n",
       "      <td>0.420667</td>\n",
       "      <td>0.648182</td>\n",
       "      <td>0.684501</td>\n",
       "      <td>0.956692</td>\n",
       "      <td>1.000773</td>\n",
       "      <td>0.776742</td>\n",
       "      <td>0.625849</td>\n",
       "      <td>0.250823</td>\n",
       "      <td>7.972260</td>\n",
       "    </tr>\n",
       "  </tbody>\n",
       "</table>\n",
       "<p>5 rows × 26 columns</p>\n",
       "</div>"
      ],
      "text/plain": [
       "   id cat0 cat1 cat2 cat3 cat4 cat5 cat6 cat7 cat8  ...     cont5     cont6  \\\n",
       "0   1    B    B    B    C    B    B    A    E    C  ...  0.400361  0.160266   \n",
       "1   2    B    B    A    A    B    D    A    F    A  ...  0.533087  0.558922   \n",
       "2   3    A    A    A    C    B    D    A    D    A  ...  0.650609  0.375348   \n",
       "3   4    B    B    A    C    B    D    A    E    C  ...  0.668980  0.239061   \n",
       "4   6    A    A    A    C    B    D    A    E    A  ...  0.686964  0.420667   \n",
       "\n",
       "      cont7     cont8     cont9    cont10    cont11    cont12    cont13  \\\n",
       "0  0.310921  0.389470  0.267559  0.237281  0.377873  0.322401  0.869850   \n",
       "1  0.516294  0.594928  0.341439  0.906013  0.921701  0.261975  0.465083   \n",
       "2  0.902567  0.555205  0.843531  0.748809  0.620126  0.541474  0.763846   \n",
       "3  0.732948  0.679618  0.574844  0.346010  0.714610  0.540150  0.280682   \n",
       "4  0.648182  0.684501  0.956692  1.000773  0.776742  0.625849  0.250823   \n",
       "\n",
       "     target  \n",
       "0  8.113634  \n",
       "1  8.481233  \n",
       "2  8.364351  \n",
       "3  8.049253  \n",
       "4  7.972260  \n",
       "\n",
       "[5 rows x 26 columns]"
      ]
     },
     "execution_count": 4,
     "metadata": {},
     "output_type": "execute_result"
    }
   ],
   "source": [
    "# Load the training data\n",
    "train = pd.read_csv(\"../input/30-days-of-ml/train.csv\")\n",
    "test = pd.read_csv(\"../input/30-days-of-ml/test.csv\")\n",
    "\n",
    "# Preview the data\n",
    "train.head()"
   ]
  },
  {
   "cell_type": "code",
   "execution_count": 5,
   "id": "9eefbfd7",
   "metadata": {
    "execution": {
     "iopub.execute_input": "2021-08-31T12:00:06.753541Z",
     "iopub.status.busy": "2021-08-31T12:00:06.752841Z",
     "iopub.status.idle": "2021-08-31T12:00:07.806800Z",
     "shell.execute_reply": "2021-08-31T12:00:07.806015Z",
     "shell.execute_reply.started": "2021-08-31T11:54:13.967927Z"
    },
    "papermill": {
     "duration": 1.079983,
     "end_time": "2021-08-31T12:00:07.806949",
     "exception": false,
     "start_time": "2021-08-31T12:00:06.726966",
     "status": "completed"
    },
    "tags": []
   },
   "outputs": [],
   "source": [
    "train['lgb_pred'] = np.load(\"../input/30d-lgb-pred/4lgb_oof.npy\")+ np.load(\"../input/30d-lgb-pred/5lgb_oof.npy\")\n",
    "test['lgb_pred'] = np.load(\"../input/30d-lgb-pred/4lgb_pred.npy\")+ np.load(\"../input/30d-lgb-pred/5lgb_pred.npy\")\n",
    "\n",
    "train['xgb_pred'] = np.load(\"../input/30d-ml-2021-xgb/xgb_oof.npy\")\n",
    "test['xgb_pred'] = np.load(\"../input/30d-ml-2021-xgb/xgb_pred.npy\")\n",
    "\n",
    "train['lgb2_pred'] = np.load(\"../input/30d-ml-2021-lgb-model-2/lgb_oof.npy\")\n",
    "test['lgb2_pred'] = np.load(\"../input/30d-ml-2021-lgb-model-2/lgb_pred.npy\")\n",
    "\n",
    "train['xgb2_pred'] = np.load(\"../input/30d-ml-2021-xgb-model-2/xgb_oof.npy\")\n",
    "test['xgb2_pred'] = np.load(\"../input/30d-ml-2021-xgb-model-2/xgb_pred.npy\")\n",
    "\n",
    "train['ctb2_pred'] = np.load(\"../input/30d-ml-2021-catb-model-2/ctb_oof.npy\")\n",
    "test['ctb2_pred'] = np.load(\"../input/30d-ml-2021-catb-model-2/ctb_pred.npy\")\n",
    "\n",
    "train['lgb_p2_pred'] = np.load(\"../input/30d-ml-2021-lgb-pseudo2/lgb_oof.npy\")\n",
    "test['lgb_p2_pred'] = np.load(\"../input/30d-ml-2021-lgb-pseudo2/lgb_pred.npy\")\n",
    "\n",
    "train['xgb_p2_pred'] = np.load(\"../input/30d-ml-2021-xgb-pseudo2/xgb_oof.npy\")\n",
    "test['xgb_p2_pred'] = np.load(\"../input/30d-ml-2021-xgb-pseudo2/xgb_pred.npy\")\n",
    "\n",
    "train['lgb2_p2_pred'] = np.load(\"../input/30d-ml-2021-lgb-model-2-pseudo2/lgb_oof.npy\")\n",
    "test['lgb2_p2_pred'] = np.load(\"../input/30d-ml-2021-lgb-model-2-pseudo2/lgb_pred.npy\")\n",
    "\n",
    "train['xgb2_p2_pred'] = np.load(\"../input/30d-ml-2021-xgb-model-2-pseudo-2/xgb_oof.npy\")\n",
    "test['xgb2_p2_pred'] = np.load(\"../input/30d-ml-2021-xgb-model-2-pseudo-2/xgb_pred.npy\")\n",
    "\n",
    "train['ctb2_p2_pred'] = np.load(\"../input/30d-ml-2021-catb-model-2-pseudo2/ctb_oof.npy\")\n",
    "test['ctb2_p2_pred'] = np.load(\"../input/30d-ml-2021-catb-model-2-pseudo2/ctb_pred.npy\")"
   ]
  },
  {
   "cell_type": "code",
   "execution_count": 6,
   "id": "fc49735b",
   "metadata": {
    "execution": {
     "iopub.execute_input": "2021-08-31T12:00:07.847360Z",
     "iopub.status.busy": "2021-08-31T12:00:07.846672Z",
     "iopub.status.idle": "2021-08-31T12:00:07.970994Z",
     "shell.execute_reply": "2021-08-31T12:00:07.970455Z",
     "shell.execute_reply.started": "2021-08-31T11:54:14.840474Z"
    },
    "papermill": {
     "duration": 0.146776,
     "end_time": "2021-08-31T12:00:07.971136",
     "exception": false,
     "start_time": "2021-08-31T12:00:07.824360",
     "status": "completed"
    },
    "tags": []
   },
   "outputs": [
    {
     "data": {
      "text/html": [
       "<div>\n",
       "<style scoped>\n",
       "    .dataframe tbody tr th:only-of-type {\n",
       "        vertical-align: middle;\n",
       "    }\n",
       "\n",
       "    .dataframe tbody tr th {\n",
       "        vertical-align: top;\n",
       "    }\n",
       "\n",
       "    .dataframe thead th {\n",
       "        text-align: right;\n",
       "    }\n",
       "</style>\n",
       "<table border=\"1\" class=\"dataframe\">\n",
       "  <thead>\n",
       "    <tr style=\"text-align: right;\">\n",
       "      <th></th>\n",
       "      <th>cat0</th>\n",
       "      <th>cat1</th>\n",
       "      <th>cat2</th>\n",
       "      <th>cat3</th>\n",
       "      <th>cat4</th>\n",
       "      <th>cat5</th>\n",
       "      <th>cat6</th>\n",
       "      <th>cat7</th>\n",
       "      <th>cat8</th>\n",
       "      <th>cat9</th>\n",
       "      <th>...</th>\n",
       "      <th>lgb_pred</th>\n",
       "      <th>xgb_pred</th>\n",
       "      <th>lgb2_pred</th>\n",
       "      <th>xgb2_pred</th>\n",
       "      <th>ctb2_pred</th>\n",
       "      <th>lgb_p2_pred</th>\n",
       "      <th>xgb_p2_pred</th>\n",
       "      <th>lgb2_p2_pred</th>\n",
       "      <th>xgb2_p2_pred</th>\n",
       "      <th>ctb2_p2_pred</th>\n",
       "    </tr>\n",
       "  </thead>\n",
       "  <tbody>\n",
       "    <tr>\n",
       "      <th>0</th>\n",
       "      <td>B</td>\n",
       "      <td>B</td>\n",
       "      <td>B</td>\n",
       "      <td>C</td>\n",
       "      <td>B</td>\n",
       "      <td>B</td>\n",
       "      <td>A</td>\n",
       "      <td>E</td>\n",
       "      <td>C</td>\n",
       "      <td>N</td>\n",
       "      <td>...</td>\n",
       "      <td>8.412190</td>\n",
       "      <td>8.406845</td>\n",
       "      <td>8.429377</td>\n",
       "      <td>8.463968</td>\n",
       "      <td>8.422910</td>\n",
       "      <td>8.447788</td>\n",
       "      <td>8.409527</td>\n",
       "      <td>8.424738</td>\n",
       "      <td>8.453580</td>\n",
       "      <td>8.462934</td>\n",
       "    </tr>\n",
       "    <tr>\n",
       "      <th>1</th>\n",
       "      <td>B</td>\n",
       "      <td>B</td>\n",
       "      <td>A</td>\n",
       "      <td>A</td>\n",
       "      <td>B</td>\n",
       "      <td>D</td>\n",
       "      <td>A</td>\n",
       "      <td>F</td>\n",
       "      <td>A</td>\n",
       "      <td>O</td>\n",
       "      <td>...</td>\n",
       "      <td>8.362972</td>\n",
       "      <td>8.342352</td>\n",
       "      <td>8.298047</td>\n",
       "      <td>8.321292</td>\n",
       "      <td>8.315539</td>\n",
       "      <td>8.356257</td>\n",
       "      <td>8.358488</td>\n",
       "      <td>8.330516</td>\n",
       "      <td>8.345897</td>\n",
       "      <td>8.336991</td>\n",
       "    </tr>\n",
       "    <tr>\n",
       "      <th>2</th>\n",
       "      <td>A</td>\n",
       "      <td>A</td>\n",
       "      <td>A</td>\n",
       "      <td>C</td>\n",
       "      <td>B</td>\n",
       "      <td>D</td>\n",
       "      <td>A</td>\n",
       "      <td>D</td>\n",
       "      <td>A</td>\n",
       "      <td>F</td>\n",
       "      <td>...</td>\n",
       "      <td>8.214132</td>\n",
       "      <td>8.204342</td>\n",
       "      <td>8.222232</td>\n",
       "      <td>8.199663</td>\n",
       "      <td>8.207955</td>\n",
       "      <td>8.225424</td>\n",
       "      <td>8.228208</td>\n",
       "      <td>8.233979</td>\n",
       "      <td>8.237179</td>\n",
       "      <td>8.222193</td>\n",
       "    </tr>\n",
       "    <tr>\n",
       "      <th>3</th>\n",
       "      <td>B</td>\n",
       "      <td>B</td>\n",
       "      <td>A</td>\n",
       "      <td>C</td>\n",
       "      <td>B</td>\n",
       "      <td>D</td>\n",
       "      <td>A</td>\n",
       "      <td>E</td>\n",
       "      <td>C</td>\n",
       "      <td>K</td>\n",
       "      <td>...</td>\n",
       "      <td>8.385730</td>\n",
       "      <td>8.386736</td>\n",
       "      <td>8.393528</td>\n",
       "      <td>8.400892</td>\n",
       "      <td>8.363494</td>\n",
       "      <td>8.384510</td>\n",
       "      <td>8.419605</td>\n",
       "      <td>8.409301</td>\n",
       "      <td>8.404530</td>\n",
       "      <td>8.371811</td>\n",
       "    </tr>\n",
       "    <tr>\n",
       "      <th>4</th>\n",
       "      <td>A</td>\n",
       "      <td>A</td>\n",
       "      <td>A</td>\n",
       "      <td>C</td>\n",
       "      <td>B</td>\n",
       "      <td>D</td>\n",
       "      <td>A</td>\n",
       "      <td>E</td>\n",
       "      <td>A</td>\n",
       "      <td>N</td>\n",
       "      <td>...</td>\n",
       "      <td>8.205836</td>\n",
       "      <td>8.197277</td>\n",
       "      <td>8.206230</td>\n",
       "      <td>8.210944</td>\n",
       "      <td>8.227323</td>\n",
       "      <td>8.223536</td>\n",
       "      <td>8.206048</td>\n",
       "      <td>8.236329</td>\n",
       "      <td>8.230536</td>\n",
       "      <td>8.280970</td>\n",
       "    </tr>\n",
       "  </tbody>\n",
       "</table>\n",
       "<p>5 rows × 34 columns</p>\n",
       "</div>"
      ],
      "text/plain": [
       "  cat0 cat1 cat2 cat3 cat4 cat5 cat6 cat7 cat8 cat9  ...  lgb_pred  xgb_pred  \\\n",
       "0    B    B    B    C    B    B    A    E    C    N  ...  8.412190  8.406845   \n",
       "1    B    B    A    A    B    D    A    F    A    O  ...  8.362972  8.342352   \n",
       "2    A    A    A    C    B    D    A    D    A    F  ...  8.214132  8.204342   \n",
       "3    B    B    A    C    B    D    A    E    C    K  ...  8.385730  8.386736   \n",
       "4    A    A    A    C    B    D    A    E    A    N  ...  8.205836  8.197277   \n",
       "\n",
       "   lgb2_pred  xgb2_pred  ctb2_pred  lgb_p2_pred  xgb_p2_pred  lgb2_p2_pred  \\\n",
       "0   8.429377   8.463968   8.422910     8.447788     8.409527      8.424738   \n",
       "1   8.298047   8.321292   8.315539     8.356257     8.358488      8.330516   \n",
       "2   8.222232   8.199663   8.207955     8.225424     8.228208      8.233979   \n",
       "3   8.393528   8.400892   8.363494     8.384510     8.419605      8.409301   \n",
       "4   8.206230   8.210944   8.227323     8.223536     8.206048      8.236329   \n",
       "\n",
       "   xgb2_p2_pred  ctb2_p2_pred  \n",
       "0      8.453580      8.462934  \n",
       "1      8.345897      8.336991  \n",
       "2      8.237179      8.222193  \n",
       "3      8.404530      8.371811  \n",
       "4      8.230536      8.280970  \n",
       "\n",
       "[5 rows x 34 columns]"
      ]
     },
     "execution_count": 6,
     "metadata": {},
     "output_type": "execute_result"
    }
   ],
   "source": [
    "# Separate target from features\n",
    "y = train['target']\n",
    "features = train.drop(['id','target'], axis=1)\n",
    "\n",
    "# Preview features\n",
    "features.head()"
   ]
  },
  {
   "cell_type": "markdown",
   "id": "6add3aa4",
   "metadata": {
    "papermill": {
     "duration": 0.017169,
     "end_time": "2021-08-31T12:00:08.006083",
     "exception": false,
     "start_time": "2021-08-31T12:00:07.988914",
     "status": "completed"
    },
    "tags": []
   },
   "source": [
    "# Preprocessing"
   ]
  },
  {
   "cell_type": "code",
   "execution_count": 7,
   "id": "ae8920ed",
   "metadata": {
    "execution": {
     "iopub.execute_input": "2021-08-31T12:00:08.083438Z",
     "iopub.status.busy": "2021-08-31T12:00:08.082780Z",
     "iopub.status.idle": "2021-08-31T12:00:12.232627Z",
     "shell.execute_reply": "2021-08-31T12:00:12.232111Z",
     "shell.execute_reply.started": "2021-08-31T11:54:14.969225Z"
    },
    "papermill": {
     "duration": 4.209087,
     "end_time": "2021-08-31T12:00:12.232782",
     "exception": false,
     "start_time": "2021-08-31T12:00:08.023695",
     "status": "completed"
    },
    "tags": []
   },
   "outputs": [
    {
     "data": {
      "text/html": [
       "<div>\n",
       "<style scoped>\n",
       "    .dataframe tbody tr th:only-of-type {\n",
       "        vertical-align: middle;\n",
       "    }\n",
       "\n",
       "    .dataframe tbody tr th {\n",
       "        vertical-align: top;\n",
       "    }\n",
       "\n",
       "    .dataframe thead th {\n",
       "        text-align: right;\n",
       "    }\n",
       "</style>\n",
       "<table border=\"1\" class=\"dataframe\">\n",
       "  <thead>\n",
       "    <tr style=\"text-align: right;\">\n",
       "      <th></th>\n",
       "      <th>cat0</th>\n",
       "      <th>cat1</th>\n",
       "      <th>cat2</th>\n",
       "      <th>cat3</th>\n",
       "      <th>cat4</th>\n",
       "      <th>cat5</th>\n",
       "      <th>cat6</th>\n",
       "      <th>cat7</th>\n",
       "      <th>cat8</th>\n",
       "      <th>cat9</th>\n",
       "      <th>...</th>\n",
       "      <th>lgb_pred</th>\n",
       "      <th>xgb_pred</th>\n",
       "      <th>lgb2_pred</th>\n",
       "      <th>xgb2_pred</th>\n",
       "      <th>ctb2_pred</th>\n",
       "      <th>lgb_p2_pred</th>\n",
       "      <th>xgb_p2_pred</th>\n",
       "      <th>lgb2_p2_pred</th>\n",
       "      <th>xgb2_p2_pred</th>\n",
       "      <th>ctb2_p2_pred</th>\n",
       "    </tr>\n",
       "  </thead>\n",
       "  <tbody>\n",
       "    <tr>\n",
       "      <th>0</th>\n",
       "      <td>1.0</td>\n",
       "      <td>1.0</td>\n",
       "      <td>1.0</td>\n",
       "      <td>2.0</td>\n",
       "      <td>1.0</td>\n",
       "      <td>1.0</td>\n",
       "      <td>0.0</td>\n",
       "      <td>4.0</td>\n",
       "      <td>2.0</td>\n",
       "      <td>13.0</td>\n",
       "      <td>...</td>\n",
       "      <td>8.412190</td>\n",
       "      <td>8.406845</td>\n",
       "      <td>8.429377</td>\n",
       "      <td>8.463968</td>\n",
       "      <td>8.422910</td>\n",
       "      <td>8.447788</td>\n",
       "      <td>8.409527</td>\n",
       "      <td>8.424738</td>\n",
       "      <td>8.453580</td>\n",
       "      <td>8.462934</td>\n",
       "    </tr>\n",
       "    <tr>\n",
       "      <th>1</th>\n",
       "      <td>1.0</td>\n",
       "      <td>1.0</td>\n",
       "      <td>0.0</td>\n",
       "      <td>0.0</td>\n",
       "      <td>1.0</td>\n",
       "      <td>3.0</td>\n",
       "      <td>0.0</td>\n",
       "      <td>5.0</td>\n",
       "      <td>0.0</td>\n",
       "      <td>14.0</td>\n",
       "      <td>...</td>\n",
       "      <td>8.362972</td>\n",
       "      <td>8.342352</td>\n",
       "      <td>8.298047</td>\n",
       "      <td>8.321292</td>\n",
       "      <td>8.315539</td>\n",
       "      <td>8.356257</td>\n",
       "      <td>8.358488</td>\n",
       "      <td>8.330516</td>\n",
       "      <td>8.345897</td>\n",
       "      <td>8.336991</td>\n",
       "    </tr>\n",
       "    <tr>\n",
       "      <th>2</th>\n",
       "      <td>0.0</td>\n",
       "      <td>0.0</td>\n",
       "      <td>0.0</td>\n",
       "      <td>2.0</td>\n",
       "      <td>1.0</td>\n",
       "      <td>3.0</td>\n",
       "      <td>0.0</td>\n",
       "      <td>3.0</td>\n",
       "      <td>0.0</td>\n",
       "      <td>5.0</td>\n",
       "      <td>...</td>\n",
       "      <td>8.214132</td>\n",
       "      <td>8.204342</td>\n",
       "      <td>8.222232</td>\n",
       "      <td>8.199663</td>\n",
       "      <td>8.207955</td>\n",
       "      <td>8.225424</td>\n",
       "      <td>8.228208</td>\n",
       "      <td>8.233979</td>\n",
       "      <td>8.237179</td>\n",
       "      <td>8.222193</td>\n",
       "    </tr>\n",
       "    <tr>\n",
       "      <th>3</th>\n",
       "      <td>1.0</td>\n",
       "      <td>1.0</td>\n",
       "      <td>0.0</td>\n",
       "      <td>2.0</td>\n",
       "      <td>1.0</td>\n",
       "      <td>3.0</td>\n",
       "      <td>0.0</td>\n",
       "      <td>4.0</td>\n",
       "      <td>2.0</td>\n",
       "      <td>10.0</td>\n",
       "      <td>...</td>\n",
       "      <td>8.385730</td>\n",
       "      <td>8.386736</td>\n",
       "      <td>8.393528</td>\n",
       "      <td>8.400892</td>\n",
       "      <td>8.363494</td>\n",
       "      <td>8.384510</td>\n",
       "      <td>8.419605</td>\n",
       "      <td>8.409301</td>\n",
       "      <td>8.404530</td>\n",
       "      <td>8.371811</td>\n",
       "    </tr>\n",
       "    <tr>\n",
       "      <th>4</th>\n",
       "      <td>0.0</td>\n",
       "      <td>0.0</td>\n",
       "      <td>0.0</td>\n",
       "      <td>2.0</td>\n",
       "      <td>1.0</td>\n",
       "      <td>3.0</td>\n",
       "      <td>0.0</td>\n",
       "      <td>4.0</td>\n",
       "      <td>0.0</td>\n",
       "      <td>13.0</td>\n",
       "      <td>...</td>\n",
       "      <td>8.205836</td>\n",
       "      <td>8.197277</td>\n",
       "      <td>8.206230</td>\n",
       "      <td>8.210944</td>\n",
       "      <td>8.227323</td>\n",
       "      <td>8.223536</td>\n",
       "      <td>8.206048</td>\n",
       "      <td>8.236329</td>\n",
       "      <td>8.230536</td>\n",
       "      <td>8.280970</td>\n",
       "    </tr>\n",
       "  </tbody>\n",
       "</table>\n",
       "<p>5 rows × 34 columns</p>\n",
       "</div>"
      ],
      "text/plain": [
       "   cat0  cat1  cat2  cat3  cat4  cat5  cat6  cat7  cat8  cat9  ...  lgb_pred  \\\n",
       "0   1.0   1.0   1.0   2.0   1.0   1.0   0.0   4.0   2.0  13.0  ...  8.412190   \n",
       "1   1.0   1.0   0.0   0.0   1.0   3.0   0.0   5.0   0.0  14.0  ...  8.362972   \n",
       "2   0.0   0.0   0.0   2.0   1.0   3.0   0.0   3.0   0.0   5.0  ...  8.214132   \n",
       "3   1.0   1.0   0.0   2.0   1.0   3.0   0.0   4.0   2.0  10.0  ...  8.385730   \n",
       "4   0.0   0.0   0.0   2.0   1.0   3.0   0.0   4.0   0.0  13.0  ...  8.205836   \n",
       "\n",
       "   xgb_pred  lgb2_pred  xgb2_pred  ctb2_pred  lgb_p2_pred  xgb_p2_pred  \\\n",
       "0  8.406845   8.429377   8.463968   8.422910     8.447788     8.409527   \n",
       "1  8.342352   8.298047   8.321292   8.315539     8.356257     8.358488   \n",
       "2  8.204342   8.222232   8.199663   8.207955     8.225424     8.228208   \n",
       "3  8.386736   8.393528   8.400892   8.363494     8.384510     8.419605   \n",
       "4  8.197277   8.206230   8.210944   8.227323     8.223536     8.206048   \n",
       "\n",
       "   lgb2_p2_pred  xgb2_p2_pred  ctb2_p2_pred  \n",
       "0      8.424738      8.453580      8.462934  \n",
       "1      8.330516      8.345897      8.336991  \n",
       "2      8.233979      8.237179      8.222193  \n",
       "3      8.409301      8.404530      8.371811  \n",
       "4      8.236329      8.230536      8.280970  \n",
       "\n",
       "[5 rows x 34 columns]"
      ]
     },
     "execution_count": 7,
     "metadata": {},
     "output_type": "execute_result"
    }
   ],
   "source": [
    "\n",
    "# List of categorical columns\n",
    "object_cols = [col for col in features.columns if 'cat' in col]\n",
    "\n",
    "# ordinal-encode categorical columns\n",
    "X = features.copy()\n",
    "X_test = test.drop(['id'], axis=1).copy()\n",
    "ordinal_encoder = OrdinalEncoder()\n",
    "X[object_cols] = ordinal_encoder.fit_transform(features[object_cols])\n",
    "X_test[object_cols] = ordinal_encoder.transform(test[object_cols])\n",
    "\n",
    "# Preview the ordinal-encoded features\n",
    "X.head()\n"
   ]
  },
  {
   "cell_type": "code",
   "execution_count": 8,
   "id": "e053966d",
   "metadata": {
    "execution": {
     "iopub.execute_input": "2021-08-31T12:00:12.276901Z",
     "iopub.status.busy": "2021-08-31T12:00:12.275912Z",
     "iopub.status.idle": "2021-08-31T12:00:12.280407Z",
     "shell.execute_reply": "2021-08-31T12:00:12.279749Z",
     "shell.execute_reply.started": "2021-08-31T11:54:19.221156Z"
    },
    "papermill": {
     "duration": 0.029219,
     "end_time": "2021-08-31T12:00:12.280537",
     "exception": false,
     "start_time": "2021-08-31T12:00:12.251318",
     "status": "completed"
    },
    "tags": []
   },
   "outputs": [
    {
     "data": {
      "text/plain": [
       "'\\n# List of categorical columns\\nobject_cols = [col for col in features.columns if \\'cat\\' in col]\\n\\n# one-hot-encode categorical columns\\nX = features.copy()\\nX_test = test.drop([\\'id\\'], axis=1).copy()\\n\\noh_encoder = OneHotEncoder(sparse=False, handle_unknown=\"ignore\")\\nX_ohe = oh_encoder.fit_transform(features[object_cols])\\nX_test_ohe = oh_encoder.transform(test[object_cols])\\n\\nX_ohe = pd.DataFrame(X_ohe, columns=[f\"ohe_{i}\" for i in range(X_ohe.shape[1])])\\nX_test_ohe = pd.DataFrame(X_test_ohe, columns=[f\"ohe_{i}\" for i in range(X_test_ohe.shape[1])])\\n\\nX = pd.concat([X, X_ohe], axis=1)\\nX_test = pd.concat([X_test, X_test_ohe], axis=1)\\nX = X.drop(object_cols, axis=1)\\nX_test = X_test.drop(object_cols, axis=1)\\n    \\n# Preview the one-hot-encoded features\\nX.head()\\n'"
      ]
     },
     "execution_count": 8,
     "metadata": {},
     "output_type": "execute_result"
    }
   ],
   "source": [
    "'''\n",
    "# List of categorical columns\n",
    "object_cols = [col for col in features.columns if 'cat' in col]\n",
    "\n",
    "# one-hot-encode categorical columns\n",
    "X = features.copy()\n",
    "X_test = test.drop(['id'], axis=1).copy()\n",
    "\n",
    "oh_encoder = OneHotEncoder(sparse=False, handle_unknown=\"ignore\")\n",
    "X_ohe = oh_encoder.fit_transform(features[object_cols])\n",
    "X_test_ohe = oh_encoder.transform(test[object_cols])\n",
    "\n",
    "X_ohe = pd.DataFrame(X_ohe, columns=[f\"ohe_{i}\" for i in range(X_ohe.shape[1])])\n",
    "X_test_ohe = pd.DataFrame(X_test_ohe, columns=[f\"ohe_{i}\" for i in range(X_test_ohe.shape[1])])\n",
    "\n",
    "X = pd.concat([X, X_ohe], axis=1)\n",
    "X_test = pd.concat([X_test, X_test_ohe], axis=1)\n",
    "X = X.drop(object_cols, axis=1)\n",
    "X_test = X_test.drop(object_cols, axis=1)\n",
    "    \n",
    "# Preview the one-hot-encoded features\n",
    "X.head()\n",
    "'''"
   ]
  },
  {
   "cell_type": "code",
   "execution_count": 9,
   "id": "ae5f1b75",
   "metadata": {
    "execution": {
     "iopub.execute_input": "2021-08-31T12:00:12.340206Z",
     "iopub.status.busy": "2021-08-31T12:00:12.339509Z",
     "iopub.status.idle": "2021-08-31T12:00:14.368722Z",
     "shell.execute_reply": "2021-08-31T12:00:14.368162Z",
     "shell.execute_reply.started": "2021-08-31T11:54:19.232845Z"
    },
    "papermill": {
     "duration": 2.06936,
     "end_time": "2021-08-31T12:00:14.368875",
     "exception": false,
     "start_time": "2021-08-31T12:00:12.299515",
     "status": "completed"
    },
    "tags": []
   },
   "outputs": [],
   "source": [
    "scale_features = [col for col in features.columns if 'cont' in col]\n",
    "\n",
    "ss = StandardScaler()\n",
    "X[scale_features] = ss.fit_transform(features[scale_features])\n",
    "X_test[scale_features] = ss.transform(test[scale_features])"
   ]
  },
  {
   "cell_type": "code",
   "execution_count": 10,
   "id": "f8b884df",
   "metadata": {
    "execution": {
     "iopub.execute_input": "2021-08-31T12:00:14.415535Z",
     "iopub.status.busy": "2021-08-31T12:00:14.414780Z",
     "iopub.status.idle": "2021-08-31T12:00:14.418125Z",
     "shell.execute_reply": "2021-08-31T12:00:14.417465Z",
     "shell.execute_reply.started": "2021-08-31T11:54:21.281898Z"
    },
    "papermill": {
     "duration": 0.030211,
     "end_time": "2021-08-31T12:00:14.418269",
     "exception": false,
     "start_time": "2021-08-31T12:00:14.388058",
     "status": "completed"
    },
    "tags": []
   },
   "outputs": [],
   "source": [
    "# Swap noise\n",
    "\n",
    "# Random\n",
    "def apply_noise_rn(df, p=.75):\n",
    "    should_not_swap = np.random.binomial(1, p, df.shape)\n",
    "    corrupted_df = df.where(should_not_swap == 1, np.random.permutation(df))\n",
    "    return corrupted_df\n",
    "\n",
    "# Row-wise\n",
    "def apply_noise_row(df, p=.75):\n",
    "    should_not_swap = np.zeros(df.shape)\n",
    "    for i in range(df.shape[0]):\n",
    "        for j in np.random.choice(df.shape[1],int(p*df.shape[1]),replace=False):\n",
    "            should_not_swap[i,j]=1 \n",
    "    corrupted_df = df.where(should_not_swap == 1, np.random.permutation(df))\n",
    "    return corrupted_df"
   ]
  },
  {
   "cell_type": "markdown",
   "id": "d2136a2c",
   "metadata": {
    "papermill": {
     "duration": 0.01871,
     "end_time": "2021-08-31T12:00:14.456114",
     "exception": false,
     "start_time": "2021-08-31T12:00:14.437404",
     "status": "completed"
    },
    "tags": []
   },
   "source": [
    "# Pseudo Label"
   ]
  },
  {
   "cell_type": "code",
   "execution_count": 11,
   "id": "3f2cc192",
   "metadata": {
    "execution": {
     "iopub.execute_input": "2021-08-31T12:00:14.500162Z",
     "iopub.status.busy": "2021-08-31T12:00:14.499286Z",
     "iopub.status.idle": "2021-08-31T12:00:15.039909Z",
     "shell.execute_reply": "2021-08-31T12:00:15.040404Z",
     "shell.execute_reply.started": "2021-08-31T11:54:21.290866Z"
    },
    "papermill": {
     "duration": 0.565355,
     "end_time": "2021-08-31T12:00:15.040588",
     "exception": false,
     "start_time": "2021-08-31T12:00:14.475233",
     "status": "completed"
    },
    "tags": []
   },
   "outputs": [],
   "source": [
    "pseudo = pd.read_csv(\"../input/competition-day-6-stacking10/submission.csv\")[target]\n",
    "train_pseudo = pd.concat([X, y], axis=1)\n",
    "test_pseudo = pd.concat([X_test, pseudo], axis=1)\n",
    "all_pseudo = pd.concat([train_pseudo, test_pseudo]).reset_index(drop=True)"
   ]
  },
  {
   "cell_type": "markdown",
   "id": "ae22b393",
   "metadata": {
    "papermill": {
     "duration": 0.018839,
     "end_time": "2021-08-31T12:00:15.078121",
     "exception": false,
     "start_time": "2021-08-31T12:00:15.059282",
     "status": "completed"
    },
    "tags": []
   },
   "source": [
    "# Optuna"
   ]
  },
  {
   "cell_type": "code",
   "execution_count": 12,
   "id": "68c1fbf4",
   "metadata": {
    "execution": {
     "iopub.execute_input": "2021-08-31T12:00:15.135524Z",
     "iopub.status.busy": "2021-08-31T12:00:15.120357Z",
     "iopub.status.idle": "2021-08-31T12:00:24.902984Z",
     "shell.execute_reply": "2021-08-31T12:00:24.902412Z",
     "shell.execute_reply.started": "2021-08-31T11:54:21.835287Z"
    },
    "papermill": {
     "duration": 9.806225,
     "end_time": "2021-08-31T12:00:24.903121",
     "exception": false,
     "start_time": "2021-08-31T12:00:15.096896",
     "status": "completed"
    },
    "tags": []
   },
   "outputs": [
    {
     "name": "stdout",
     "output_type": "stream",
     "text": [
      "\u001b[33mWARNING: Running pip as root will break packages and permissions. You should install packages reliably by using venv: https://pip.pypa.io/warnings/venv\u001b[0m\r\n"
     ]
    }
   ],
   "source": [
    "# Optuna for parameter search\n",
    "!pip install -q optuna\n",
    "\n",
    "import optuna\n",
    "import pickle"
   ]
  },
  {
   "cell_type": "code",
   "execution_count": 13,
   "id": "ed2cc4c6",
   "metadata": {
    "execution": {
     "iopub.execute_input": "2021-08-31T12:00:24.959599Z",
     "iopub.status.busy": "2021-08-31T12:00:24.958927Z",
     "iopub.status.idle": "2021-08-31T12:00:24.961923Z",
     "shell.execute_reply": "2021-08-31T12:00:24.961421Z",
     "shell.execute_reply.started": "2021-08-31T11:58:46.190992Z"
    },
    "papermill": {
     "duration": 0.039532,
     "end_time": "2021-08-31T12:00:24.962063",
     "exception": false,
     "start_time": "2021-08-31T12:00:24.922531",
     "status": "completed"
    },
    "tags": []
   },
   "outputs": [],
   "source": [
    "# for the fixed learning rate, use the opt n iterations and tune the tree hyperparameters\n",
    "def objective(trial, X=all_pseudo.iloc[:,:-1], y=all_pseudo[target]):\n",
    "  \"\"\"\n",
    "  \"\"\"\n",
    "  param_space = {\n",
    "              #'device':'gpu',  # Use GPU acceleration\n",
    "               #'boosting_type': 'gbdt',\n",
    "               'reg_lambda':trial.suggest_uniform('reg_lambda', 0.01, 50),\n",
    "              'reg_alpha':trial.suggest_uniform('reg_alpha', 0.01, 50),\n",
    "                'subsample': trial.suggest_uniform('subsample', 0.1, 1.0),\n",
    "              'colsample_bytree':trial.suggest_uniform('colsample_bytree', 0.1, 1.0),\n",
    "                #'subsample_freq': trial.suggest_int('subsample_freq', 1, 10),\n",
    "               'learning_rate':trial.suggest_uniform('learning_rate', 1e-3, 1e-1),\n",
    "                 'min_child_samples':trial.suggest_int('min_child_samples', 5, 100),\n",
    "              'num_leaves':trial.suggest_int('num_leaves', 10, 200),\n",
    "              'max_depth':trial.suggest_int('max_depth', 3, 30),\n",
    "              #'min_split_gain': trial.suggest_float('min_split_gain', 0.0, 0.005),\n",
    "              #'class_weight':trial.suggest_categorical('class_weight',['balanced',None]),\n",
    "               'n_estimators':N_ESTIMATORS,\n",
    "                'n_jobs' : -1,\n",
    "              'metric':'rmse',\n",
    "              'max_bin':trial.suggest_int('max_bin', 300, 1000),\n",
    "              'cat_smooth':trial.suggest_int('cat_smooth', 5, 100),\n",
    "              'cat_l2':trial.suggest_loguniform('cat_l2', 1e-3, 100)\n",
    "                }\n",
    "            \n",
    "  seed_list=[SEED, SEED+1]\n",
    "  #kf = KFold(n_splits=N_SPLITS, shuffle=True, random_state=CVSEED)\n",
    "  lgb_oof = np.zeros(train.shape[0])\n",
    "  #lgb_pred = np.zeros(test.shape[0])\n",
    "  X_tr, X_va, y_tr, y_va = train_test_split(X,y,test_size=.2,random_state=CVSEED)\n",
    "  trn_idx = X_tr.index\n",
    "  val_idx = X_va.index\n",
    "  \n",
    "  #for (trn_idx, val_idx) in enumerate(kf.split(X, y)):\n",
    "  #print(f\"===== fold {fold} =====\")\n",
    "  oof_idx = np.array([idx for idx in val_idx if idx < train.shape[0]])\n",
    "  preds_idx = np.array([idx for idx in val_idx if idx >= train.shape[0]])\n",
    "\n",
    "  X_train, y_train = all_pseudo.iloc[trn_idx, :-1], all_pseudo[target].iloc[trn_idx]\n",
    "  #X_train = apply_noise_row(X_train)\n",
    "\n",
    "  X_valid, y_valid = all_pseudo.iloc[oof_idx, :-1], all_pseudo[target].iloc[oof_idx]\n",
    "  #X_test = all_pseudo[scale_features].iloc[preds_idx]\n",
    "  \n",
    "  #start = time.time()\n",
    "  for inseed in seed_list:\n",
    "    param_space['random_state'] = inseed\n",
    "\n",
    "    model = lgb.LGBMRegressor(**param_space)\n",
    "    model.fit(\n",
    "        X_train, \n",
    "        y_train,\n",
    "        eval_set=[(X_valid, y_valid)],\n",
    "        eval_metric='rmse',\n",
    "        early_stopping_rounds=EARLY_STOPPING_ROUNDS,\n",
    "        verbose=VERBOSE,\n",
    "        categorical_feature=[0, 1, 2, 3, 4, 5, 6, 7, 8, 9]\n",
    "        #callbacks=[optuna.integration.LightGBMPruningCallback(trial, metric='rmse')],\n",
    "    )\n",
    "\n",
    "\n",
    "    lgb_oof[oof_idx] += model.predict(X_valid) / len(seed_list)\n",
    "    #lgb_pred[preds_idx-train.shape[0]] += model.predict(X_test) / len(seed_list)\n",
    "\n",
    "  #elapsed = time.time() - start\n",
    "  rmse = mean_squared_error(y_valid, lgb_oof[oof_idx], squared=False)\n",
    "  #print(f\"fold {fold} - lgb rmse: {rmse:.6f}, elapsed time: {elapsed:.2f}sec\\n\")            \n",
    "  \n",
    "  #print(f\"oof lgb_rmse = {mean_squared_error(train[target], lgb_oof, squared=False)}\")\n",
    "\n",
    "  \n",
    "  return rmse"
   ]
  },
  {
   "cell_type": "code",
   "execution_count": 14,
   "id": "9b0df587",
   "metadata": {
    "execution": {
     "iopub.execute_input": "2021-08-31T12:00:25.007107Z",
     "iopub.status.busy": "2021-08-31T12:00:25.006505Z",
     "iopub.status.idle": "2021-08-31T12:06:45.211952Z",
     "shell.execute_reply": "2021-08-31T12:06:45.212531Z",
     "shell.execute_reply.started": "2021-08-31T11:58:46.572530Z"
    },
    "papermill": {
     "duration": 380.231622,
     "end_time": "2021-08-31T12:06:45.212718",
     "exception": false,
     "start_time": "2021-08-31T12:00:24.981096",
     "status": "completed"
    },
    "tags": []
   },
   "outputs": [
    {
     "name": "stderr",
     "output_type": "stream",
     "text": [
      "\u001b[32m[I 2021-08-31 12:00:25,005]\u001b[0m A new study created in memory with name: no-name-368a85b3-a2ed-441f-ae3e-133aa468be5f\u001b[0m\n"
     ]
    },
    {
     "name": "stdout",
     "output_type": "stream",
     "text": [
      "Training until validation scores don't improve for 300 rounds\n",
      "Early stopping, best iteration is:\n",
      "[49]\tvalid_0's rmse: 0.708379\n",
      "Training until validation scores don't improve for 300 rounds\n"
     ]
    },
    {
     "name": "stderr",
     "output_type": "stream",
     "text": [
      "\u001b[32m[I 2021-08-31 12:00:47,528]\u001b[0m Trial 0 finished with value: 0.7083360781008808 and parameters: {'reg_lambda': 16.71311410752518, 'reg_alpha': 29.150427411827117, 'subsample': 0.6911530701868912, 'colsample_bytree': 0.36777669382651357, 'learning_rate': 0.08176996518286897, 'min_child_samples': 66, 'num_leaves': 90, 'max_depth': 28, 'max_bin': 480, 'cat_smooth': 49, 'cat_l2': 0.019913160583344105}. Best is trial 0 with value: 0.7083360781008808.\u001b[0m\n"
     ]
    },
    {
     "name": "stdout",
     "output_type": "stream",
     "text": [
      "Early stopping, best iteration is:\n",
      "[49]\tvalid_0's rmse: 0.708337\n",
      "Training until validation scores don't improve for 300 rounds\n",
      "Early stopping, best iteration is:\n",
      "[131]\tvalid_0's rmse: 0.708298\n",
      "Training until validation scores don't improve for 300 rounds\n",
      "Early stopping, best iteration is:\n",
      "[117]\tvalid_0's rmse: 0.708284\n"
     ]
    },
    {
     "name": "stderr",
     "output_type": "stream",
     "text": [
      "\u001b[32m[I 2021-08-31 12:01:15,670]\u001b[0m Trial 1 finished with value: 0.7082794204503696 and parameters: {'reg_lambda': 39.83488026173493, 'reg_alpha': 12.318754186978246, 'subsample': 0.1592288428780441, 'colsample_bytree': 0.9051789510221443, 'learning_rate': 0.04359784605660522, 'min_child_samples': 84, 'num_leaves': 37, 'max_depth': 20, 'max_bin': 388, 'cat_smooth': 64, 'cat_l2': 28.143687816344105}. Best is trial 1 with value: 0.7082794204503696.\u001b[0m\n"
     ]
    },
    {
     "name": "stdout",
     "output_type": "stream",
     "text": [
      "Training until validation scores don't improve for 300 rounds\n",
      "Early stopping, best iteration is:\n",
      "[61]\tvalid_0's rmse: 0.708269\n",
      "Training until validation scores don't improve for 300 rounds\n"
     ]
    },
    {
     "name": "stderr",
     "output_type": "stream",
     "text": [
      "\u001b[32m[I 2021-08-31 12:01:32,047]\u001b[0m Trial 2 finished with value: 0.7082514515200967 and parameters: {'reg_lambda': 13.225379119482772, 'reg_alpha': 4.289762269509225, 'subsample': 0.29788655682109016, 'colsample_bytree': 0.5819198772725399, 'learning_rate': 0.08475833089974247, 'min_child_samples': 41, 'num_leaves': 32, 'max_depth': 11, 'max_bin': 308, 'cat_smooth': 40, 'cat_l2': 1.83524847415674}. Best is trial 2 with value: 0.7082514515200967.\u001b[0m\n"
     ]
    },
    {
     "name": "stdout",
     "output_type": "stream",
     "text": [
      "Early stopping, best iteration is:\n",
      "[47]\tvalid_0's rmse: 0.708274\n",
      "Training until validation scores don't improve for 300 rounds\n",
      "Early stopping, best iteration is:\n",
      "[174]\tvalid_0's rmse: 0.708419\n",
      "Training until validation scores don't improve for 300 rounds\n",
      "Early stopping, best iteration is:\n",
      "[161]\tvalid_0's rmse: 0.708401\n"
     ]
    },
    {
     "name": "stderr",
     "output_type": "stream",
     "text": [
      "\u001b[32m[I 2021-08-31 12:02:25,425]\u001b[0m Trial 3 finished with value: 0.7084026629645883 and parameters: {'reg_lambda': 39.25619870930596, 'reg_alpha': 43.93682590920673, 'subsample': 0.5290188541663902, 'colsample_bytree': 0.8364677438527506, 'learning_rate': 0.024586060938392548, 'min_child_samples': 53, 'num_leaves': 174, 'max_depth': 8, 'max_bin': 747, 'cat_smooth': 82, 'cat_l2': 0.003509146862127828}. Best is trial 2 with value: 0.7082514515200967.\u001b[0m\n"
     ]
    },
    {
     "name": "stdout",
     "output_type": "stream",
     "text": [
      "Training until validation scores don't improve for 300 rounds\n",
      "Early stopping, best iteration is:\n",
      "[118]\tvalid_0's rmse: 0.70833\n",
      "Training until validation scores don't improve for 300 rounds\n",
      "Early stopping, best iteration is:\n",
      "[109]\tvalid_0's rmse: 0.708317\n"
     ]
    },
    {
     "name": "stderr",
     "output_type": "stream",
     "text": [
      "\u001b[32m[I 2021-08-31 12:03:02,073]\u001b[0m Trial 4 finished with value: 0.7083064232045374 and parameters: {'reg_lambda': 5.6706875877817025, 'reg_alpha': 17.258280583518463, 'subsample': 0.24673482774578187, 'colsample_bytree': 0.989032350948719, 'learning_rate': 0.03658190984206483, 'min_child_samples': 91, 'num_leaves': 78, 'max_depth': 18, 'max_bin': 340, 'cat_smooth': 80, 'cat_l2': 0.022906321882816685}. Best is trial 2 with value: 0.7082514515200967.\u001b[0m\n"
     ]
    },
    {
     "name": "stdout",
     "output_type": "stream",
     "text": [
      "Training until validation scores don't improve for 300 rounds\n",
      "Early stopping, best iteration is:\n",
      "[107]\tvalid_0's rmse: 0.70875\n",
      "Training until validation scores don't improve for 300 rounds\n",
      "Early stopping, best iteration is:\n",
      "[101]\tvalid_0's rmse: 0.708715\n"
     ]
    },
    {
     "name": "stderr",
     "output_type": "stream",
     "text": [
      "\u001b[32m[I 2021-08-31 12:03:28,260]\u001b[0m Trial 5 finished with value: 0.7086909492317531 and parameters: {'reg_lambda': 5.348571138742473, 'reg_alpha': 44.49990098900952, 'subsample': 0.546856489337325, 'colsample_bytree': 0.12851108397155483, 'learning_rate': 0.058758335551058805, 'min_child_samples': 29, 'num_leaves': 158, 'max_depth': 16, 'max_bin': 917, 'cat_smooth': 35, 'cat_l2': 46.4604198553973}. Best is trial 2 with value: 0.7082514515200967.\u001b[0m\n"
     ]
    },
    {
     "name": "stdout",
     "output_type": "stream",
     "text": [
      "Training until validation scores don't improve for 300 rounds\n",
      "Early stopping, best iteration is:\n",
      "[39]\tvalid_0's rmse: 0.708473\n",
      "Training until validation scores don't improve for 300 rounds\n"
     ]
    },
    {
     "name": "stderr",
     "output_type": "stream",
     "text": [
      "\u001b[32m[I 2021-08-31 12:03:51,467]\u001b[0m Trial 6 finished with value: 0.7083964727362505 and parameters: {'reg_lambda': 4.862022247463815, 'reg_alpha': 2.73395010065672, 'subsample': 0.49210907433963125, 'colsample_bytree': 0.5297976005493427, 'learning_rate': 0.0790948251670354, 'min_child_samples': 62, 'num_leaves': 131, 'max_depth': 12, 'max_bin': 335, 'cat_smooth': 76, 'cat_l2': 0.14875226328546515}. Best is trial 2 with value: 0.7082514515200967.\u001b[0m\n"
     ]
    },
    {
     "name": "stdout",
     "output_type": "stream",
     "text": [
      "Early stopping, best iteration is:\n",
      "[46]\tvalid_0's rmse: 0.708444\n",
      "Training until validation scores don't improve for 300 rounds\n",
      "Early stopping, best iteration is:\n",
      "[164]\tvalid_0's rmse: 0.708334\n",
      "Training until validation scores don't improve for 300 rounds\n",
      "Early stopping, best iteration is:\n",
      "[218]\tvalid_0's rmse: 0.708345\n"
     ]
    },
    {
     "name": "stderr",
     "output_type": "stream",
     "text": [
      "\u001b[32m[I 2021-08-31 12:04:31,525]\u001b[0m Trial 7 finished with value: 0.7083249589581768 and parameters: {'reg_lambda': 49.96070483274772, 'reg_alpha': 10.265529367571869, 'subsample': 0.17920140865791978, 'colsample_bytree': 0.5918101233385454, 'learning_rate': 0.023464180145558983, 'min_child_samples': 88, 'num_leaves': 75, 'max_depth': 23, 'max_bin': 797, 'cat_smooth': 20, 'cat_l2': 0.0587009274898848}. Best is trial 2 with value: 0.7082514515200967.\u001b[0m\n"
     ]
    },
    {
     "name": "stdout",
     "output_type": "stream",
     "text": [
      "Training until validation scores don't improve for 300 rounds\n",
      "Early stopping, best iteration is:\n",
      "[47]\tvalid_0's rmse: 0.70841\n",
      "Training until validation scores don't improve for 300 rounds\n"
     ]
    },
    {
     "name": "stderr",
     "output_type": "stream",
     "text": [
      "\u001b[32m[I 2021-08-31 12:05:07,392]\u001b[0m Trial 8 finished with value: 0.7084028939524983 and parameters: {'reg_lambda': 38.4054120718746, 'reg_alpha': 49.8035413384593, 'subsample': 0.8465290613904913, 'colsample_bytree': 0.8773827118755158, 'learning_rate': 0.09012764008988502, 'min_child_samples': 62, 'num_leaves': 118, 'max_depth': 27, 'max_bin': 349, 'cat_smooth': 29, 'cat_l2': 24.85593801952012}. Best is trial 2 with value: 0.7082514515200967.\u001b[0m\n"
     ]
    },
    {
     "name": "stdout",
     "output_type": "stream",
     "text": [
      "Early stopping, best iteration is:\n",
      "[37]\tvalid_0's rmse: 0.708452\n",
      "Training until validation scores don't improve for 300 rounds\n",
      "Early stopping, best iteration is:\n",
      "[87]\tvalid_0's rmse: 0.708457\n",
      "Training until validation scores don't improve for 300 rounds\n"
     ]
    },
    {
     "name": "stderr",
     "output_type": "stream",
     "text": [
      "\u001b[32m[I 2021-08-31 12:05:28,769]\u001b[0m Trial 9 finished with value: 0.7084692648048331 and parameters: {'reg_lambda': 40.12137315270792, 'reg_alpha': 26.06972991067325, 'subsample': 0.9631287285261552, 'colsample_bytree': 0.2083758099822828, 'learning_rate': 0.06608507463686712, 'min_child_samples': 93, 'num_leaves': 91, 'max_depth': 28, 'max_bin': 378, 'cat_smooth': 52, 'cat_l2': 8.182426559550203}. Best is trial 2 with value: 0.7082514515200967.\u001b[0m\n"
     ]
    },
    {
     "name": "stdout",
     "output_type": "stream",
     "text": [
      "Early stopping, best iteration is:\n",
      "[67]\tvalid_0's rmse: 0.708537\n",
      "Training until validation scores don't improve for 300 rounds\n",
      "Early stopping, best iteration is:\n",
      "[51]\tvalid_0's rmse: 0.708254\n",
      "Training until validation scores don't improve for 300 rounds\n"
     ]
    },
    {
     "name": "stderr",
     "output_type": "stream",
     "text": [
      "\u001b[32m[I 2021-08-31 12:05:41,734]\u001b[0m Trial 10 finished with value: 0.7082304234010356 and parameters: {'reg_lambda': 19.519366734282507, 'reg_alpha': 1.3275018109541037, 'subsample': 0.3713936625423869, 'colsample_bytree': 0.5898403781754266, 'learning_rate': 0.09738055609191759, 'min_child_samples': 10, 'num_leaves': 10, 'max_depth': 3, 'max_bin': 549, 'cat_smooth': 18, 'cat_l2': 1.3203129968088911}. Best is trial 10 with value: 0.7082304234010356.\u001b[0m\n"
     ]
    },
    {
     "name": "stdout",
     "output_type": "stream",
     "text": [
      "Early stopping, best iteration is:\n",
      "[57]\tvalid_0's rmse: 0.70822\n",
      "Training until validation scores don't improve for 300 rounds\n",
      "Early stopping, best iteration is:\n",
      "[60]\tvalid_0's rmse: 0.708232\n",
      "Training until validation scores don't improve for 300 rounds\n"
     ]
    },
    {
     "name": "stderr",
     "output_type": "stream",
     "text": [
      "\u001b[32m[I 2021-08-31 12:05:57,909]\u001b[0m Trial 11 finished with value: 0.7082241114084727 and parameters: {'reg_lambda': 20.1388248569007, 'reg_alpha': 4.881381271350994, 'subsample': 0.3404911440135218, 'colsample_bytree': 0.6518015401509105, 'learning_rate': 0.09949593978380408, 'min_child_samples': 5, 'num_leaves': 14, 'max_depth': 3, 'max_bin': 570, 'cat_smooth': 5, 'cat_l2': 1.4334223364439564}. Best is trial 11 with value: 0.7082241114084727.\u001b[0m\n"
     ]
    },
    {
     "name": "stdout",
     "output_type": "stream",
     "text": [
      "Early stopping, best iteration is:\n",
      "[54]\tvalid_0's rmse: 0.708229\n",
      "Training until validation scores don't improve for 300 rounds\n",
      "Early stopping, best iteration is:\n",
      "[49]\tvalid_0's rmse: 0.708234\n",
      "Training until validation scores don't improve for 300 rounds\n"
     ]
    },
    {
     "name": "stderr",
     "output_type": "stream",
     "text": [
      "\u001b[32m[I 2021-08-31 12:06:11,527]\u001b[0m Trial 12 finished with value: 0.708244296376391 and parameters: {'reg_lambda': 26.0137254472435, 'reg_alpha': 0.9266991650544085, 'subsample': 0.37968064139321656, 'colsample_bytree': 0.7117196848428201, 'learning_rate': 0.0999888115938618, 'min_child_samples': 8, 'num_leaves': 14, 'max_depth': 3, 'max_bin': 572, 'cat_smooth': 12, 'cat_l2': 1.4099523588213076}. Best is trial 11 with value: 0.7082241114084727.\u001b[0m\n"
     ]
    },
    {
     "name": "stdout",
     "output_type": "stream",
     "text": [
      "Early stopping, best iteration is:\n",
      "[50]\tvalid_0's rmse: 0.708264\n",
      "Training until validation scores don't improve for 300 rounds\n",
      "Early stopping, best iteration is:\n",
      "[61]\tvalid_0's rmse: 0.708243\n",
      "Training until validation scores don't improve for 300 rounds\n"
     ]
    },
    {
     "name": "stderr",
     "output_type": "stream",
     "text": [
      "\u001b[32m[I 2021-08-31 12:06:24,883]\u001b[0m Trial 13 finished with value: 0.7082360641953526 and parameters: {'reg_lambda': 24.551136116305493, 'reg_alpha': 18.72020079656227, 'subsample': 0.3809504732091884, 'colsample_bytree': 0.4171978419078962, 'learning_rate': 0.09927812951734935, 'min_child_samples': 6, 'num_leaves': 10, 'max_depth': 3, 'max_bin': 603, 'cat_smooth': 6, 'cat_l2': 1.087032661126781}. Best is trial 11 with value: 0.7082241114084727.\u001b[0m\n"
     ]
    },
    {
     "name": "stdout",
     "output_type": "stream",
     "text": [
      "Early stopping, best iteration is:\n",
      "[56]\tvalid_0's rmse: 0.708244\n",
      "Training until validation scores don't improve for 300 rounds\n",
      "Early stopping, best iteration is:\n",
      "[55]\tvalid_0's rmse: 0.708339\n",
      "Training until validation scores don't improve for 300 rounds\n"
     ]
    },
    {
     "name": "stderr",
     "output_type": "stream",
     "text": [
      "\u001b[32m[I 2021-08-31 12:06:45,200]\u001b[0m Trial 14 finished with value: 0.7083047506697105 and parameters: {'reg_lambda': 23.57220438069856, 'reg_alpha': 0.10047089215722771, 'subsample': 0.6942259734879492, 'colsample_bytree': 0.6910606389910317, 'learning_rate': 0.06875864902280626, 'min_child_samples': 20, 'num_leaves': 50, 'max_depth': 6, 'max_bin': 525, 'cat_smooth': 100, 'cat_l2': 0.34743782203473467}. Best is trial 11 with value: 0.7082241114084727.\u001b[0m\n"
     ]
    },
    {
     "name": "stdout",
     "output_type": "stream",
     "text": [
      "Early stopping, best iteration is:\n",
      "[66]\tvalid_0's rmse: 0.70831\n",
      "Number of finished trials: 15\n",
      "Best trial: {'reg_lambda': 20.1388248569007, 'reg_alpha': 4.881381271350994, 'subsample': 0.3404911440135218, 'colsample_bytree': 0.6518015401509105, 'learning_rate': 0.09949593978380408, 'min_child_samples': 5, 'num_leaves': 14, 'max_depth': 3, 'max_bin': 570, 'cat_smooth': 5, 'cat_l2': 1.4334223364439564}\n"
     ]
    }
   ],
   "source": [
    "study = optuna.create_study(direction='minimize')\n",
    "study.optimize(objective,n_trials= 15)\n",
    "print('Number of finished trials:', len(study.trials))\n",
    "print('Best trial:', study.best_trial.params)"
   ]
  },
  {
   "cell_type": "code",
   "execution_count": 15,
   "id": "176fcee8",
   "metadata": {
    "execution": {
     "iopub.execute_input": "2021-08-31T12:06:45.299923Z",
     "iopub.status.busy": "2021-08-31T12:06:45.299192Z",
     "iopub.status.idle": "2021-08-31T12:06:45.306551Z",
     "shell.execute_reply": "2021-08-31T12:06:45.306058Z"
    },
    "papermill": {
     "duration": 0.052055,
     "end_time": "2021-08-31T12:06:45.306688",
     "exception": false,
     "start_time": "2021-08-31T12:06:45.254633",
     "status": "completed"
    },
    "tags": []
   },
   "outputs": [
    {
     "data": {
      "text/plain": [
       "{'reg_lambda': 20.1388248569007,\n",
       " 'reg_alpha': 4.881381271350994,\n",
       " 'subsample': 0.3404911440135218,\n",
       " 'colsample_bytree': 0.6518015401509105,\n",
       " 'learning_rate': 0.09949593978380408,\n",
       " 'min_child_samples': 5,\n",
       " 'num_leaves': 14,\n",
       " 'max_depth': 3,\n",
       " 'max_bin': 570,\n",
       " 'cat_smooth': 5,\n",
       " 'cat_l2': 1.4334223364439564}"
      ]
     },
     "execution_count": 15,
     "metadata": {},
     "output_type": "execute_result"
    }
   ],
   "source": [
    "study.best_params"
   ]
  },
  {
   "cell_type": "markdown",
   "id": "d4a205d2",
   "metadata": {
    "papermill": {
     "duration": 0.04183,
     "end_time": "2021-08-31T12:06:45.390366",
     "exception": false,
     "start_time": "2021-08-31T12:06:45.348536",
     "status": "completed"
    },
    "tags": []
   },
   "source": [
    "# Log\n",
    "\n",
    "========== 7 preds ==============\n",
    "====== Ordinal encoding =========\n",
    "\n",
    "0.7084260065007167 no noise ver1\n",
    "\n",
    "========== 10 preds ==============\n",
    "====== Ordinal encoding =========\n",
    "\n",
    "res\n",
    "\n",
    "====== One-hot encoding =========\n",
    "\n"
   ]
  }
 ],
 "metadata": {
  "kernelspec": {
   "display_name": "Python 3",
   "language": "python",
   "name": "python3"
  },
  "language_info": {
   "codemirror_mode": {
    "name": "ipython",
    "version": 3
   },
   "file_extension": ".py",
   "mimetype": "text/x-python",
   "name": "python",
   "nbconvert_exporter": "python",
   "pygments_lexer": "ipython3",
   "version": "3.7.10"
  },
  "papermill": {
   "default_parameters": {},
   "duration": 414.871413,
   "end_time": "2021-08-31T12:06:46.894358",
   "environment_variables": {},
   "exception": null,
   "input_path": "__notebook__.ipynb",
   "output_path": "__notebook__.ipynb",
   "parameters": {},
   "start_time": "2021-08-31T11:59:52.022945",
   "version": "2.3.3"
  }
 },
 "nbformat": 4,
 "nbformat_minor": 5
}
