{
 "cells": [
  {
   "cell_type": "code",
   "execution_count": 1,
   "id": "e1e98ea6",
   "metadata": {
    "_cell_guid": "b1076dfc-b9ad-4769-8c92-a6c4dae69d19",
    "_uuid": "8f2839f25d086af736a60e9eeb907d3b93b6e0e5",
    "execution": {
     "iopub.execute_input": "2021-08-31T21:51:05.317500Z",
     "iopub.status.busy": "2021-08-31T21:51:05.316689Z",
     "iopub.status.idle": "2021-08-31T21:51:06.845395Z",
     "shell.execute_reply": "2021-08-31T21:51:06.844547Z",
     "shell.execute_reply.started": "2021-08-31T21:47:37.747690Z"
    },
    "papermill": {
     "duration": 1.563093,
     "end_time": "2021-08-31T21:51:06.845602",
     "exception": false,
     "start_time": "2021-08-31T21:51:05.282509",
     "status": "completed"
    },
    "tags": []
   },
   "outputs": [],
   "source": [
    "# Familiar imports\n",
    "import numpy as np\n",
    "import pandas as pd\n",
    "import random\n",
    "import os\n",
    "import time\n",
    "import pickle\n",
    "from pathlib import Path\n",
    "\n",
    "from sklearn.preprocessing import StandardScaler\n",
    "from sklearn.model_selection import KFold, train_test_split\n",
    "from sklearn.metrics import mean_squared_error\n",
    "from sklearn.preprocessing import OrdinalEncoder, OneHotEncoder\n",
    "from sklearn.ensemble import RandomForestRegressor\n",
    "\n",
    "#import lightgbm as lgb\n",
    "#import xgboost as xgb\n",
    "#import catboost as ctb\n",
    "\n",
    "import matplotlib.pyplot as plt\n",
    "import seaborn as sns\n",
    "\n",
    "import warnings\n",
    "warnings.simplefilter('ignore')"
   ]
  },
  {
   "cell_type": "markdown",
   "id": "969654dd",
   "metadata": {
    "papermill": {
     "duration": 0.017358,
     "end_time": "2021-08-31T21:51:06.883314",
     "exception": false,
     "start_time": "2021-08-31T21:51:06.865956",
     "status": "completed"
    },
    "tags": []
   },
   "source": [
    "# Parameters"
   ]
  },
  {
   "cell_type": "code",
   "execution_count": 2,
   "id": "c7ff5604",
   "metadata": {
    "execution": {
     "iopub.execute_input": "2021-08-31T21:51:06.927237Z",
     "iopub.status.busy": "2021-08-31T21:51:06.926087Z",
     "iopub.status.idle": "2021-08-31T21:51:06.929292Z",
     "shell.execute_reply": "2021-08-31T21:51:06.929811Z",
     "shell.execute_reply.started": "2021-08-31T21:47:39.054004Z"
    },
    "papermill": {
     "duration": 0.028959,
     "end_time": "2021-08-31T21:51:06.930008",
     "exception": false,
     "start_time": "2021-08-31T21:51:06.901049",
     "status": "completed"
    },
    "tags": []
   },
   "outputs": [],
   "source": [
    "target = 'target'\n",
    "\n",
    "DEBUG = False\n",
    "\n",
    "if DEBUG:\n",
    "    N_ESTIMATORS = 1\n",
    "    N_SPLITS = 2\n",
    "    SEED = 17\n",
    "    CVSEED = 17\n",
    "    EARLY_STOPPING_ROUNDS = 1\n",
    "    VERBOSE = 100\n",
    "    #N_ITERS = 2\n",
    "else:\n",
    "    N_SPLITS = 10\n",
    "    N_ESTIMATORS = 500\n",
    "    EARLY_STOPPING_ROUNDS = 200\n",
    "    VERBOSE = 1000\n",
    "    SEED = 17\n",
    "    CVSEED = 17\n",
    "    #N_ITERS = 10"
   ]
  },
  {
   "cell_type": "code",
   "execution_count": 3,
   "id": "d6bfb828",
   "metadata": {
    "execution": {
     "iopub.execute_input": "2021-08-31T21:51:06.972303Z",
     "iopub.status.busy": "2021-08-31T21:51:06.971593Z",
     "iopub.status.idle": "2021-08-31T21:51:06.975265Z",
     "shell.execute_reply": "2021-08-31T21:51:06.974706Z",
     "shell.execute_reply.started": "2021-08-31T21:47:39.061679Z"
    },
    "papermill": {
     "duration": 0.027586,
     "end_time": "2021-08-31T21:51:06.975410",
     "exception": false,
     "start_time": "2021-08-31T21:51:06.947824",
     "status": "completed"
    },
    "tags": []
   },
   "outputs": [],
   "source": [
    "def set_seed(seed=17):\n",
    "    random.seed(seed)\n",
    "    os.environ['PYTHONHASHSEED'] = str(seed)\n",
    "    np.random.seed(seed)\n",
    "    \n",
    "set_seed(SEED)"
   ]
  },
  {
   "cell_type": "markdown",
   "id": "ae8929ea",
   "metadata": {
    "papermill": {
     "duration": 0.018567,
     "end_time": "2021-08-31T21:51:07.012497",
     "exception": false,
     "start_time": "2021-08-31T21:51:06.993930",
     "status": "completed"
    },
    "tags": []
   },
   "source": [
    "# Load data"
   ]
  },
  {
   "cell_type": "code",
   "execution_count": 4,
   "id": "2a4ff706",
   "metadata": {
    "execution": {
     "iopub.execute_input": "2021-08-31T21:51:07.055261Z",
     "iopub.status.busy": "2021-08-31T21:51:07.054570Z",
     "iopub.status.idle": "2021-08-31T21:51:11.842122Z",
     "shell.execute_reply": "2021-08-31T21:51:11.842627Z",
     "shell.execute_reply.started": "2021-08-31T21:47:39.077149Z"
    },
    "papermill": {
     "duration": 4.811771,
     "end_time": "2021-08-31T21:51:11.842799",
     "exception": false,
     "start_time": "2021-08-31T21:51:07.031028",
     "status": "completed"
    },
    "tags": []
   },
   "outputs": [
    {
     "data": {
      "text/html": [
       "<div>\n",
       "<style scoped>\n",
       "    .dataframe tbody tr th:only-of-type {\n",
       "        vertical-align: middle;\n",
       "    }\n",
       "\n",
       "    .dataframe tbody tr th {\n",
       "        vertical-align: top;\n",
       "    }\n",
       "\n",
       "    .dataframe thead th {\n",
       "        text-align: right;\n",
       "    }\n",
       "</style>\n",
       "<table border=\"1\" class=\"dataframe\">\n",
       "  <thead>\n",
       "    <tr style=\"text-align: right;\">\n",
       "      <th></th>\n",
       "      <th>id</th>\n",
       "      <th>cat0</th>\n",
       "      <th>cat1</th>\n",
       "      <th>cat2</th>\n",
       "      <th>cat3</th>\n",
       "      <th>cat4</th>\n",
       "      <th>cat5</th>\n",
       "      <th>cat6</th>\n",
       "      <th>cat7</th>\n",
       "      <th>cat8</th>\n",
       "      <th>...</th>\n",
       "      <th>cont5</th>\n",
       "      <th>cont6</th>\n",
       "      <th>cont7</th>\n",
       "      <th>cont8</th>\n",
       "      <th>cont9</th>\n",
       "      <th>cont10</th>\n",
       "      <th>cont11</th>\n",
       "      <th>cont12</th>\n",
       "      <th>cont13</th>\n",
       "      <th>target</th>\n",
       "    </tr>\n",
       "  </thead>\n",
       "  <tbody>\n",
       "    <tr>\n",
       "      <th>0</th>\n",
       "      <td>1</td>\n",
       "      <td>B</td>\n",
       "      <td>B</td>\n",
       "      <td>B</td>\n",
       "      <td>C</td>\n",
       "      <td>B</td>\n",
       "      <td>B</td>\n",
       "      <td>A</td>\n",
       "      <td>E</td>\n",
       "      <td>C</td>\n",
       "      <td>...</td>\n",
       "      <td>0.400361</td>\n",
       "      <td>0.160266</td>\n",
       "      <td>0.310921</td>\n",
       "      <td>0.389470</td>\n",
       "      <td>0.267559</td>\n",
       "      <td>0.237281</td>\n",
       "      <td>0.377873</td>\n",
       "      <td>0.322401</td>\n",
       "      <td>0.869850</td>\n",
       "      <td>8.113634</td>\n",
       "    </tr>\n",
       "    <tr>\n",
       "      <th>1</th>\n",
       "      <td>2</td>\n",
       "      <td>B</td>\n",
       "      <td>B</td>\n",
       "      <td>A</td>\n",
       "      <td>A</td>\n",
       "      <td>B</td>\n",
       "      <td>D</td>\n",
       "      <td>A</td>\n",
       "      <td>F</td>\n",
       "      <td>A</td>\n",
       "      <td>...</td>\n",
       "      <td>0.533087</td>\n",
       "      <td>0.558922</td>\n",
       "      <td>0.516294</td>\n",
       "      <td>0.594928</td>\n",
       "      <td>0.341439</td>\n",
       "      <td>0.906013</td>\n",
       "      <td>0.921701</td>\n",
       "      <td>0.261975</td>\n",
       "      <td>0.465083</td>\n",
       "      <td>8.481233</td>\n",
       "    </tr>\n",
       "    <tr>\n",
       "      <th>2</th>\n",
       "      <td>3</td>\n",
       "      <td>A</td>\n",
       "      <td>A</td>\n",
       "      <td>A</td>\n",
       "      <td>C</td>\n",
       "      <td>B</td>\n",
       "      <td>D</td>\n",
       "      <td>A</td>\n",
       "      <td>D</td>\n",
       "      <td>A</td>\n",
       "      <td>...</td>\n",
       "      <td>0.650609</td>\n",
       "      <td>0.375348</td>\n",
       "      <td>0.902567</td>\n",
       "      <td>0.555205</td>\n",
       "      <td>0.843531</td>\n",
       "      <td>0.748809</td>\n",
       "      <td>0.620126</td>\n",
       "      <td>0.541474</td>\n",
       "      <td>0.763846</td>\n",
       "      <td>8.364351</td>\n",
       "    </tr>\n",
       "    <tr>\n",
       "      <th>3</th>\n",
       "      <td>4</td>\n",
       "      <td>B</td>\n",
       "      <td>B</td>\n",
       "      <td>A</td>\n",
       "      <td>C</td>\n",
       "      <td>B</td>\n",
       "      <td>D</td>\n",
       "      <td>A</td>\n",
       "      <td>E</td>\n",
       "      <td>C</td>\n",
       "      <td>...</td>\n",
       "      <td>0.668980</td>\n",
       "      <td>0.239061</td>\n",
       "      <td>0.732948</td>\n",
       "      <td>0.679618</td>\n",
       "      <td>0.574844</td>\n",
       "      <td>0.346010</td>\n",
       "      <td>0.714610</td>\n",
       "      <td>0.540150</td>\n",
       "      <td>0.280682</td>\n",
       "      <td>8.049253</td>\n",
       "    </tr>\n",
       "    <tr>\n",
       "      <th>4</th>\n",
       "      <td>6</td>\n",
       "      <td>A</td>\n",
       "      <td>A</td>\n",
       "      <td>A</td>\n",
       "      <td>C</td>\n",
       "      <td>B</td>\n",
       "      <td>D</td>\n",
       "      <td>A</td>\n",
       "      <td>E</td>\n",
       "      <td>A</td>\n",
       "      <td>...</td>\n",
       "      <td>0.686964</td>\n",
       "      <td>0.420667</td>\n",
       "      <td>0.648182</td>\n",
       "      <td>0.684501</td>\n",
       "      <td>0.956692</td>\n",
       "      <td>1.000773</td>\n",
       "      <td>0.776742</td>\n",
       "      <td>0.625849</td>\n",
       "      <td>0.250823</td>\n",
       "      <td>7.972260</td>\n",
       "    </tr>\n",
       "  </tbody>\n",
       "</table>\n",
       "<p>5 rows × 26 columns</p>\n",
       "</div>"
      ],
      "text/plain": [
       "   id cat0 cat1 cat2 cat3 cat4 cat5 cat6 cat7 cat8  ...     cont5     cont6  \\\n",
       "0   1    B    B    B    C    B    B    A    E    C  ...  0.400361  0.160266   \n",
       "1   2    B    B    A    A    B    D    A    F    A  ...  0.533087  0.558922   \n",
       "2   3    A    A    A    C    B    D    A    D    A  ...  0.650609  0.375348   \n",
       "3   4    B    B    A    C    B    D    A    E    C  ...  0.668980  0.239061   \n",
       "4   6    A    A    A    C    B    D    A    E    A  ...  0.686964  0.420667   \n",
       "\n",
       "      cont7     cont8     cont9    cont10    cont11    cont12    cont13  \\\n",
       "0  0.310921  0.389470  0.267559  0.237281  0.377873  0.322401  0.869850   \n",
       "1  0.516294  0.594928  0.341439  0.906013  0.921701  0.261975  0.465083   \n",
       "2  0.902567  0.555205  0.843531  0.748809  0.620126  0.541474  0.763846   \n",
       "3  0.732948  0.679618  0.574844  0.346010  0.714610  0.540150  0.280682   \n",
       "4  0.648182  0.684501  0.956692  1.000773  0.776742  0.625849  0.250823   \n",
       "\n",
       "     target  \n",
       "0  8.113634  \n",
       "1  8.481233  \n",
       "2  8.364351  \n",
       "3  8.049253  \n",
       "4  7.972260  \n",
       "\n",
       "[5 rows x 26 columns]"
      ]
     },
     "execution_count": 4,
     "metadata": {},
     "output_type": "execute_result"
    }
   ],
   "source": [
    "# Load the training data\n",
    "train = pd.read_csv(\"../input/30-days-of-ml/train.csv\")\n",
    "test = pd.read_csv(\"../input/30-days-of-ml/test.csv\")\n",
    "submission = pd.read_csv(\"../input/30-days-of-ml/sample_submission.csv\")\n",
    "\n",
    "# Preview the data\n",
    "train.head()"
   ]
  },
  {
   "cell_type": "code",
   "execution_count": 5,
   "id": "7bb97e3a",
   "metadata": {
    "execution": {
     "iopub.execute_input": "2021-08-31T21:51:11.889889Z",
     "iopub.status.busy": "2021-08-31T21:51:11.889154Z",
     "iopub.status.idle": "2021-08-31T21:51:12.550035Z",
     "shell.execute_reply": "2021-08-31T21:51:12.550588Z",
     "shell.execute_reply.started": "2021-08-31T21:47:43.378499Z"
    },
    "papermill": {
     "duration": 0.689356,
     "end_time": "2021-08-31T21:51:12.550777",
     "exception": false,
     "start_time": "2021-08-31T21:51:11.861421",
     "status": "completed"
    },
    "tags": []
   },
   "outputs": [],
   "source": [
    "train['lgb_pred'] = np.load(\"../input/30d-lgb-pred/4lgb_oof.npy\")+ np.load(\"../input/30d-lgb-pred/5lgb_oof.npy\")\n",
    "test['lgb_pred'] = np.load(\"../input/30d-lgb-pred/4lgb_pred.npy\")+ np.load(\"../input/30d-lgb-pred/5lgb_pred.npy\")\n",
    "\n",
    "train['xgb_pred'] = np.load(\"../input/30d-ml-2021-xgb/xgb_oof.npy\")\n",
    "test['xgb_pred'] = np.load(\"../input/30d-ml-2021-xgb/xgb_pred.npy\")\n",
    "\n",
    "train['lgb2_pred'] = np.load(\"../input/30d-ml-2021-lgb-model-2/lgb_oof.npy\")\n",
    "test['lgb2_pred'] = np.load(\"../input/30d-ml-2021-lgb-model-2/lgb_pred.npy\")\n",
    "\n",
    "train['xgb2_pred'] = np.load(\"../input/30d-ml-2021-xgb-model-2/xgb_oof.npy\")\n",
    "test['xgb2_pred'] = np.load(\"../input/30d-ml-2021-xgb-model-2/xgb_pred.npy\")\n",
    "\n",
    "train['ctb2_pred'] = np.load(\"../input/30d-ml-2021-catb-model-2/ctb_oof.npy\")\n",
    "test['ctb2_pred'] = np.load(\"../input/30d-ml-2021-catb-model-2/ctb_pred.npy\")\n",
    "\n",
    "train['lgb_p2_pred'] = np.load(\"../input/30d-ml-2021-lgb-pseudo2/lgb_oof.npy\")\n",
    "test['lgb_p2_pred'] = np.load(\"../input/30d-ml-2021-lgb-pseudo2/lgb_pred.npy\")\n",
    "\n",
    "train['xgb_p2_pred'] = np.load(\"../input/30d-ml-2021-xgb-pseudo2/xgb_oof.npy\")\n",
    "test['xgb_p2_pred'] = np.load(\"../input/30d-ml-2021-xgb-pseudo2/xgb_pred.npy\")\n",
    "\n",
    "train['lgb2_p2_pred'] = np.load(\"../input/30d-ml-2021-lgb-model-2-pseudo2/lgb_oof.npy\")\n",
    "test['lgb2_p2_pred'] = np.load(\"../input/30d-ml-2021-lgb-model-2-pseudo2/lgb_pred.npy\")\n",
    "\n",
    "train['xgb2_p2_pred'] = np.load(\"../input/30d-ml-2021-xgb-model-2-pseudo-2/xgb_oof.npy\")\n",
    "test['xgb2_p2_pred'] = np.load(\"../input/30d-ml-2021-xgb-model-2-pseudo-2/xgb_pred.npy\")\n",
    "\n",
    "train['ctb2_p2_pred'] = np.load(\"../input/30d-ml-2021-catb-model-2-pseudo2/ctb_oof.npy\")\n",
    "test['ctb2_p2_pred'] = np.load(\"../input/30d-ml-2021-catb-model-2-pseudo2/ctb_pred.npy\")"
   ]
  },
  {
   "cell_type": "code",
   "execution_count": 6,
   "id": "699ee1b0",
   "metadata": {
    "execution": {
     "iopub.execute_input": "2021-08-31T21:51:12.591517Z",
     "iopub.status.busy": "2021-08-31T21:51:12.590435Z",
     "iopub.status.idle": "2021-08-31T21:51:12.722684Z",
     "shell.execute_reply": "2021-08-31T21:51:12.723156Z",
     "shell.execute_reply.started": "2021-08-31T21:47:44.087253Z"
    },
    "papermill": {
     "duration": 0.154186,
     "end_time": "2021-08-31T21:51:12.723335",
     "exception": false,
     "start_time": "2021-08-31T21:51:12.569149",
     "status": "completed"
    },
    "tags": []
   },
   "outputs": [
    {
     "data": {
      "text/html": [
       "<div>\n",
       "<style scoped>\n",
       "    .dataframe tbody tr th:only-of-type {\n",
       "        vertical-align: middle;\n",
       "    }\n",
       "\n",
       "    .dataframe tbody tr th {\n",
       "        vertical-align: top;\n",
       "    }\n",
       "\n",
       "    .dataframe thead th {\n",
       "        text-align: right;\n",
       "    }\n",
       "</style>\n",
       "<table border=\"1\" class=\"dataframe\">\n",
       "  <thead>\n",
       "    <tr style=\"text-align: right;\">\n",
       "      <th></th>\n",
       "      <th>cat0</th>\n",
       "      <th>cat1</th>\n",
       "      <th>cat2</th>\n",
       "      <th>cat3</th>\n",
       "      <th>cat4</th>\n",
       "      <th>cat5</th>\n",
       "      <th>cat6</th>\n",
       "      <th>cat7</th>\n",
       "      <th>cat8</th>\n",
       "      <th>cat9</th>\n",
       "      <th>...</th>\n",
       "      <th>lgb_pred</th>\n",
       "      <th>xgb_pred</th>\n",
       "      <th>lgb2_pred</th>\n",
       "      <th>xgb2_pred</th>\n",
       "      <th>ctb2_pred</th>\n",
       "      <th>lgb_p2_pred</th>\n",
       "      <th>xgb_p2_pred</th>\n",
       "      <th>lgb2_p2_pred</th>\n",
       "      <th>xgb2_p2_pred</th>\n",
       "      <th>ctb2_p2_pred</th>\n",
       "    </tr>\n",
       "  </thead>\n",
       "  <tbody>\n",
       "    <tr>\n",
       "      <th>0</th>\n",
       "      <td>B</td>\n",
       "      <td>B</td>\n",
       "      <td>B</td>\n",
       "      <td>C</td>\n",
       "      <td>B</td>\n",
       "      <td>B</td>\n",
       "      <td>A</td>\n",
       "      <td>E</td>\n",
       "      <td>C</td>\n",
       "      <td>N</td>\n",
       "      <td>...</td>\n",
       "      <td>8.412190</td>\n",
       "      <td>8.406845</td>\n",
       "      <td>8.429377</td>\n",
       "      <td>8.463968</td>\n",
       "      <td>8.422910</td>\n",
       "      <td>8.447788</td>\n",
       "      <td>8.409527</td>\n",
       "      <td>8.424738</td>\n",
       "      <td>8.453580</td>\n",
       "      <td>8.462934</td>\n",
       "    </tr>\n",
       "    <tr>\n",
       "      <th>1</th>\n",
       "      <td>B</td>\n",
       "      <td>B</td>\n",
       "      <td>A</td>\n",
       "      <td>A</td>\n",
       "      <td>B</td>\n",
       "      <td>D</td>\n",
       "      <td>A</td>\n",
       "      <td>F</td>\n",
       "      <td>A</td>\n",
       "      <td>O</td>\n",
       "      <td>...</td>\n",
       "      <td>8.362972</td>\n",
       "      <td>8.342352</td>\n",
       "      <td>8.298047</td>\n",
       "      <td>8.321292</td>\n",
       "      <td>8.315539</td>\n",
       "      <td>8.356257</td>\n",
       "      <td>8.358488</td>\n",
       "      <td>8.330516</td>\n",
       "      <td>8.345897</td>\n",
       "      <td>8.336991</td>\n",
       "    </tr>\n",
       "    <tr>\n",
       "      <th>2</th>\n",
       "      <td>A</td>\n",
       "      <td>A</td>\n",
       "      <td>A</td>\n",
       "      <td>C</td>\n",
       "      <td>B</td>\n",
       "      <td>D</td>\n",
       "      <td>A</td>\n",
       "      <td>D</td>\n",
       "      <td>A</td>\n",
       "      <td>F</td>\n",
       "      <td>...</td>\n",
       "      <td>8.214132</td>\n",
       "      <td>8.204342</td>\n",
       "      <td>8.222232</td>\n",
       "      <td>8.199663</td>\n",
       "      <td>8.207955</td>\n",
       "      <td>8.225424</td>\n",
       "      <td>8.228208</td>\n",
       "      <td>8.233979</td>\n",
       "      <td>8.237179</td>\n",
       "      <td>8.222193</td>\n",
       "    </tr>\n",
       "    <tr>\n",
       "      <th>3</th>\n",
       "      <td>B</td>\n",
       "      <td>B</td>\n",
       "      <td>A</td>\n",
       "      <td>C</td>\n",
       "      <td>B</td>\n",
       "      <td>D</td>\n",
       "      <td>A</td>\n",
       "      <td>E</td>\n",
       "      <td>C</td>\n",
       "      <td>K</td>\n",
       "      <td>...</td>\n",
       "      <td>8.385730</td>\n",
       "      <td>8.386736</td>\n",
       "      <td>8.393528</td>\n",
       "      <td>8.400892</td>\n",
       "      <td>8.363494</td>\n",
       "      <td>8.384510</td>\n",
       "      <td>8.419605</td>\n",
       "      <td>8.409301</td>\n",
       "      <td>8.404530</td>\n",
       "      <td>8.371811</td>\n",
       "    </tr>\n",
       "    <tr>\n",
       "      <th>4</th>\n",
       "      <td>A</td>\n",
       "      <td>A</td>\n",
       "      <td>A</td>\n",
       "      <td>C</td>\n",
       "      <td>B</td>\n",
       "      <td>D</td>\n",
       "      <td>A</td>\n",
       "      <td>E</td>\n",
       "      <td>A</td>\n",
       "      <td>N</td>\n",
       "      <td>...</td>\n",
       "      <td>8.205836</td>\n",
       "      <td>8.197277</td>\n",
       "      <td>8.206230</td>\n",
       "      <td>8.210944</td>\n",
       "      <td>8.227323</td>\n",
       "      <td>8.223536</td>\n",
       "      <td>8.206048</td>\n",
       "      <td>8.236329</td>\n",
       "      <td>8.230536</td>\n",
       "      <td>8.280970</td>\n",
       "    </tr>\n",
       "  </tbody>\n",
       "</table>\n",
       "<p>5 rows × 34 columns</p>\n",
       "</div>"
      ],
      "text/plain": [
       "  cat0 cat1 cat2 cat3 cat4 cat5 cat6 cat7 cat8 cat9  ...  lgb_pred  xgb_pred  \\\n",
       "0    B    B    B    C    B    B    A    E    C    N  ...  8.412190  8.406845   \n",
       "1    B    B    A    A    B    D    A    F    A    O  ...  8.362972  8.342352   \n",
       "2    A    A    A    C    B    D    A    D    A    F  ...  8.214132  8.204342   \n",
       "3    B    B    A    C    B    D    A    E    C    K  ...  8.385730  8.386736   \n",
       "4    A    A    A    C    B    D    A    E    A    N  ...  8.205836  8.197277   \n",
       "\n",
       "   lgb2_pred  xgb2_pred  ctb2_pred  lgb_p2_pred  xgb_p2_pred  lgb2_p2_pred  \\\n",
       "0   8.429377   8.463968   8.422910     8.447788     8.409527      8.424738   \n",
       "1   8.298047   8.321292   8.315539     8.356257     8.358488      8.330516   \n",
       "2   8.222232   8.199663   8.207955     8.225424     8.228208      8.233979   \n",
       "3   8.393528   8.400892   8.363494     8.384510     8.419605      8.409301   \n",
       "4   8.206230   8.210944   8.227323     8.223536     8.206048      8.236329   \n",
       "\n",
       "   xgb2_p2_pred  ctb2_p2_pred  \n",
       "0      8.453580      8.462934  \n",
       "1      8.345897      8.336991  \n",
       "2      8.237179      8.222193  \n",
       "3      8.404530      8.371811  \n",
       "4      8.230536      8.280970  \n",
       "\n",
       "[5 rows x 34 columns]"
      ]
     },
     "execution_count": 6,
     "metadata": {},
     "output_type": "execute_result"
    }
   ],
   "source": [
    "# Separate target from features\n",
    "y = train['target']\n",
    "features = train.drop(['id','target'], axis=1)\n",
    "\n",
    "# Preview features\n",
    "features.head()"
   ]
  },
  {
   "cell_type": "markdown",
   "id": "e0dc456e",
   "metadata": {
    "papermill": {
     "duration": 0.018671,
     "end_time": "2021-08-31T21:51:12.761624",
     "exception": false,
     "start_time": "2021-08-31T21:51:12.742953",
     "status": "completed"
    },
    "tags": []
   },
   "source": [
    "# Preprocessing"
   ]
  },
  {
   "cell_type": "code",
   "execution_count": 7,
   "id": "62230d7b",
   "metadata": {
    "execution": {
     "iopub.execute_input": "2021-08-31T21:51:12.804946Z",
     "iopub.status.busy": "2021-08-31T21:51:12.803933Z",
     "iopub.status.idle": "2021-08-31T21:51:17.000906Z",
     "shell.execute_reply": "2021-08-31T21:51:17.001828Z",
     "shell.execute_reply.started": "2021-08-31T21:47:44.169871Z"
    },
    "papermill": {
     "duration": 4.220923,
     "end_time": "2021-08-31T21:51:17.002158",
     "exception": false,
     "start_time": "2021-08-31T21:51:12.781235",
     "status": "completed"
    },
    "tags": []
   },
   "outputs": [
    {
     "data": {
      "text/html": [
       "<div>\n",
       "<style scoped>\n",
       "    .dataframe tbody tr th:only-of-type {\n",
       "        vertical-align: middle;\n",
       "    }\n",
       "\n",
       "    .dataframe tbody tr th {\n",
       "        vertical-align: top;\n",
       "    }\n",
       "\n",
       "    .dataframe thead th {\n",
       "        text-align: right;\n",
       "    }\n",
       "</style>\n",
       "<table border=\"1\" class=\"dataframe\">\n",
       "  <thead>\n",
       "    <tr style=\"text-align: right;\">\n",
       "      <th></th>\n",
       "      <th>cat0</th>\n",
       "      <th>cat1</th>\n",
       "      <th>cat2</th>\n",
       "      <th>cat3</th>\n",
       "      <th>cat4</th>\n",
       "      <th>cat5</th>\n",
       "      <th>cat6</th>\n",
       "      <th>cat7</th>\n",
       "      <th>cat8</th>\n",
       "      <th>cat9</th>\n",
       "      <th>...</th>\n",
       "      <th>lgb_pred</th>\n",
       "      <th>xgb_pred</th>\n",
       "      <th>lgb2_pred</th>\n",
       "      <th>xgb2_pred</th>\n",
       "      <th>ctb2_pred</th>\n",
       "      <th>lgb_p2_pred</th>\n",
       "      <th>xgb_p2_pred</th>\n",
       "      <th>lgb2_p2_pred</th>\n",
       "      <th>xgb2_p2_pred</th>\n",
       "      <th>ctb2_p2_pred</th>\n",
       "    </tr>\n",
       "  </thead>\n",
       "  <tbody>\n",
       "    <tr>\n",
       "      <th>0</th>\n",
       "      <td>1.0</td>\n",
       "      <td>1.0</td>\n",
       "      <td>1.0</td>\n",
       "      <td>2.0</td>\n",
       "      <td>1.0</td>\n",
       "      <td>1.0</td>\n",
       "      <td>0.0</td>\n",
       "      <td>4.0</td>\n",
       "      <td>2.0</td>\n",
       "      <td>13.0</td>\n",
       "      <td>...</td>\n",
       "      <td>8.412190</td>\n",
       "      <td>8.406845</td>\n",
       "      <td>8.429377</td>\n",
       "      <td>8.463968</td>\n",
       "      <td>8.422910</td>\n",
       "      <td>8.447788</td>\n",
       "      <td>8.409527</td>\n",
       "      <td>8.424738</td>\n",
       "      <td>8.453580</td>\n",
       "      <td>8.462934</td>\n",
       "    </tr>\n",
       "    <tr>\n",
       "      <th>1</th>\n",
       "      <td>1.0</td>\n",
       "      <td>1.0</td>\n",
       "      <td>0.0</td>\n",
       "      <td>0.0</td>\n",
       "      <td>1.0</td>\n",
       "      <td>3.0</td>\n",
       "      <td>0.0</td>\n",
       "      <td>5.0</td>\n",
       "      <td>0.0</td>\n",
       "      <td>14.0</td>\n",
       "      <td>...</td>\n",
       "      <td>8.362972</td>\n",
       "      <td>8.342352</td>\n",
       "      <td>8.298047</td>\n",
       "      <td>8.321292</td>\n",
       "      <td>8.315539</td>\n",
       "      <td>8.356257</td>\n",
       "      <td>8.358488</td>\n",
       "      <td>8.330516</td>\n",
       "      <td>8.345897</td>\n",
       "      <td>8.336991</td>\n",
       "    </tr>\n",
       "    <tr>\n",
       "      <th>2</th>\n",
       "      <td>0.0</td>\n",
       "      <td>0.0</td>\n",
       "      <td>0.0</td>\n",
       "      <td>2.0</td>\n",
       "      <td>1.0</td>\n",
       "      <td>3.0</td>\n",
       "      <td>0.0</td>\n",
       "      <td>3.0</td>\n",
       "      <td>0.0</td>\n",
       "      <td>5.0</td>\n",
       "      <td>...</td>\n",
       "      <td>8.214132</td>\n",
       "      <td>8.204342</td>\n",
       "      <td>8.222232</td>\n",
       "      <td>8.199663</td>\n",
       "      <td>8.207955</td>\n",
       "      <td>8.225424</td>\n",
       "      <td>8.228208</td>\n",
       "      <td>8.233979</td>\n",
       "      <td>8.237179</td>\n",
       "      <td>8.222193</td>\n",
       "    </tr>\n",
       "    <tr>\n",
       "      <th>3</th>\n",
       "      <td>1.0</td>\n",
       "      <td>1.0</td>\n",
       "      <td>0.0</td>\n",
       "      <td>2.0</td>\n",
       "      <td>1.0</td>\n",
       "      <td>3.0</td>\n",
       "      <td>0.0</td>\n",
       "      <td>4.0</td>\n",
       "      <td>2.0</td>\n",
       "      <td>10.0</td>\n",
       "      <td>...</td>\n",
       "      <td>8.385730</td>\n",
       "      <td>8.386736</td>\n",
       "      <td>8.393528</td>\n",
       "      <td>8.400892</td>\n",
       "      <td>8.363494</td>\n",
       "      <td>8.384510</td>\n",
       "      <td>8.419605</td>\n",
       "      <td>8.409301</td>\n",
       "      <td>8.404530</td>\n",
       "      <td>8.371811</td>\n",
       "    </tr>\n",
       "    <tr>\n",
       "      <th>4</th>\n",
       "      <td>0.0</td>\n",
       "      <td>0.0</td>\n",
       "      <td>0.0</td>\n",
       "      <td>2.0</td>\n",
       "      <td>1.0</td>\n",
       "      <td>3.0</td>\n",
       "      <td>0.0</td>\n",
       "      <td>4.0</td>\n",
       "      <td>0.0</td>\n",
       "      <td>13.0</td>\n",
       "      <td>...</td>\n",
       "      <td>8.205836</td>\n",
       "      <td>8.197277</td>\n",
       "      <td>8.206230</td>\n",
       "      <td>8.210944</td>\n",
       "      <td>8.227323</td>\n",
       "      <td>8.223536</td>\n",
       "      <td>8.206048</td>\n",
       "      <td>8.236329</td>\n",
       "      <td>8.230536</td>\n",
       "      <td>8.280970</td>\n",
       "    </tr>\n",
       "  </tbody>\n",
       "</table>\n",
       "<p>5 rows × 34 columns</p>\n",
       "</div>"
      ],
      "text/plain": [
       "   cat0  cat1  cat2  cat3  cat4  cat5  cat6  cat7  cat8  cat9  ...  lgb_pred  \\\n",
       "0   1.0   1.0   1.0   2.0   1.0   1.0   0.0   4.0   2.0  13.0  ...  8.412190   \n",
       "1   1.0   1.0   0.0   0.0   1.0   3.0   0.0   5.0   0.0  14.0  ...  8.362972   \n",
       "2   0.0   0.0   0.0   2.0   1.0   3.0   0.0   3.0   0.0   5.0  ...  8.214132   \n",
       "3   1.0   1.0   0.0   2.0   1.0   3.0   0.0   4.0   2.0  10.0  ...  8.385730   \n",
       "4   0.0   0.0   0.0   2.0   1.0   3.0   0.0   4.0   0.0  13.0  ...  8.205836   \n",
       "\n",
       "   xgb_pred  lgb2_pred  xgb2_pred  ctb2_pred  lgb_p2_pred  xgb_p2_pred  \\\n",
       "0  8.406845   8.429377   8.463968   8.422910     8.447788     8.409527   \n",
       "1  8.342352   8.298047   8.321292   8.315539     8.356257     8.358488   \n",
       "2  8.204342   8.222232   8.199663   8.207955     8.225424     8.228208   \n",
       "3  8.386736   8.393528   8.400892   8.363494     8.384510     8.419605   \n",
       "4  8.197277   8.206230   8.210944   8.227323     8.223536     8.206048   \n",
       "\n",
       "   lgb2_p2_pred  xgb2_p2_pred  ctb2_p2_pred  \n",
       "0      8.424738      8.453580      8.462934  \n",
       "1      8.330516      8.345897      8.336991  \n",
       "2      8.233979      8.237179      8.222193  \n",
       "3      8.409301      8.404530      8.371811  \n",
       "4      8.236329      8.230536      8.280970  \n",
       "\n",
       "[5 rows x 34 columns]"
      ]
     },
     "execution_count": 7,
     "metadata": {},
     "output_type": "execute_result"
    }
   ],
   "source": [
    "\n",
    "# List of categorical columns\n",
    "object_cols = [col for col in features.columns if 'cat' in col]\n",
    "\n",
    "# ordinal-encode categorical columns\n",
    "X = features.copy()\n",
    "X_test = test.drop(['id'], axis=1).copy()\n",
    "ordinal_encoder = OrdinalEncoder()\n",
    "X[object_cols] = ordinal_encoder.fit_transform(features[object_cols])\n",
    "X_test[object_cols] = ordinal_encoder.transform(test[object_cols])\n",
    "\n",
    "# Preview the ordinal-encoded features\n",
    "X.head()\n"
   ]
  },
  {
   "cell_type": "code",
   "execution_count": 8,
   "id": "d42b3335",
   "metadata": {
    "execution": {
     "iopub.execute_input": "2021-08-31T21:51:17.048066Z",
     "iopub.status.busy": "2021-08-31T21:51:17.047319Z",
     "iopub.status.idle": "2021-08-31T21:51:17.052864Z",
     "shell.execute_reply": "2021-08-31T21:51:17.053365Z",
     "shell.execute_reply.started": "2021-08-31T21:47:48.232444Z"
    },
    "papermill": {
     "duration": 0.03034,
     "end_time": "2021-08-31T21:51:17.053575",
     "exception": false,
     "start_time": "2021-08-31T21:51:17.023235",
     "status": "completed"
    },
    "tags": []
   },
   "outputs": [
    {
     "data": {
      "text/plain": [
       "'\\n# List of categorical columns\\nobject_cols = [col for col in features.columns if \\'cat\\' in col]\\n\\n# one-hot-encode categorical columns\\nX = features.copy()\\nX_test = test.drop([\\'id\\'], axis=1).copy()\\n\\noh_encoder = OneHotEncoder(sparse=False, handle_unknown=\"ignore\")\\nX_ohe = oh_encoder.fit_transform(features[object_cols])\\nX_test_ohe = oh_encoder.transform(test[object_cols])\\n\\nX_ohe = pd.DataFrame(X_ohe, columns=[f\"ohe_{i}\" for i in range(X_ohe.shape[1])])\\nX_test_ohe = pd.DataFrame(X_test_ohe, columns=[f\"ohe_{i}\" for i in range(X_test_ohe.shape[1])])\\n\\nX = pd.concat([X, X_ohe], axis=1)\\nX_test = pd.concat([X_test, X_test_ohe], axis=1)\\nX = X.drop(object_cols, axis=1)\\nX_test = X_test.drop(object_cols, axis=1)\\n    \\n# Preview the one-hot-encoded features\\nX.head()\\n'"
      ]
     },
     "execution_count": 8,
     "metadata": {},
     "output_type": "execute_result"
    }
   ],
   "source": [
    "'''\n",
    "# List of categorical columns\n",
    "object_cols = [col for col in features.columns if 'cat' in col]\n",
    "\n",
    "# one-hot-encode categorical columns\n",
    "X = features.copy()\n",
    "X_test = test.drop(['id'], axis=1).copy()\n",
    "\n",
    "oh_encoder = OneHotEncoder(sparse=False, handle_unknown=\"ignore\")\n",
    "X_ohe = oh_encoder.fit_transform(features[object_cols])\n",
    "X_test_ohe = oh_encoder.transform(test[object_cols])\n",
    "\n",
    "X_ohe = pd.DataFrame(X_ohe, columns=[f\"ohe_{i}\" for i in range(X_ohe.shape[1])])\n",
    "X_test_ohe = pd.DataFrame(X_test_ohe, columns=[f\"ohe_{i}\" for i in range(X_test_ohe.shape[1])])\n",
    "\n",
    "X = pd.concat([X, X_ohe], axis=1)\n",
    "X_test = pd.concat([X_test, X_test_ohe], axis=1)\n",
    "X = X.drop(object_cols, axis=1)\n",
    "X_test = X_test.drop(object_cols, axis=1)\n",
    "    \n",
    "# Preview the one-hot-encoded features\n",
    "X.head()\n",
    "'''"
   ]
  },
  {
   "cell_type": "code",
   "execution_count": 9,
   "id": "1a0dbcb6",
   "metadata": {
    "execution": {
     "iopub.execute_input": "2021-08-31T21:51:17.099648Z",
     "iopub.status.busy": "2021-08-31T21:51:17.098829Z",
     "iopub.status.idle": "2021-08-31T21:51:18.534811Z",
     "shell.execute_reply": "2021-08-31T21:51:18.535374Z",
     "shell.execute_reply.started": "2021-08-31T21:47:48.240538Z"
    },
    "papermill": {
     "duration": 1.461957,
     "end_time": "2021-08-31T21:51:18.535598",
     "exception": false,
     "start_time": "2021-08-31T21:51:17.073641",
     "status": "completed"
    },
    "tags": []
   },
   "outputs": [],
   "source": [
    "scale_features = [col for col in features.columns if 'pred' in col]\n",
    "\n",
    "ss = StandardScaler()\n",
    "X[scale_features] = ss.fit_transform(features[scale_features])\n",
    "X_test[scale_features] = ss.transform(test[scale_features])"
   ]
  },
  {
   "cell_type": "code",
   "execution_count": 10,
   "id": "ae01781d",
   "metadata": {
    "execution": {
     "iopub.execute_input": "2021-08-31T21:51:18.580175Z",
     "iopub.status.busy": "2021-08-31T21:51:18.579454Z",
     "iopub.status.idle": "2021-08-31T21:51:18.586697Z",
     "shell.execute_reply": "2021-08-31T21:51:18.587235Z",
     "shell.execute_reply.started": "2021-08-31T21:47:49.421216Z"
    },
    "papermill": {
     "duration": 0.031522,
     "end_time": "2021-08-31T21:51:18.587430",
     "exception": false,
     "start_time": "2021-08-31T21:51:18.555908",
     "status": "completed"
    },
    "tags": []
   },
   "outputs": [],
   "source": [
    "# Swap noise\n",
    "\n",
    "# Random\n",
    "def apply_noise_rn(df, p=.75):\n",
    "    should_not_swap = np.random.binomial(1, p, df.shape)\n",
    "    corrupted_df = df.where(should_not_swap == 1, np.random.permutation(df))\n",
    "    return corrupted_df\n",
    "\n",
    "# Row-wise\n",
    "def apply_noise_row(df, p=.75):\n",
    "    should_not_swap = np.zeros(df.shape)\n",
    "    for i in range(df.shape[0]):\n",
    "        for j in np.random.choice(df.shape[1],int(p*df.shape[1]),replace=False):\n",
    "            should_not_swap[i,j]=1 \n",
    "    corrupted_df = df.where(should_not_swap == 1, np.random.permutation(df))\n",
    "    return corrupted_df"
   ]
  },
  {
   "cell_type": "markdown",
   "id": "4fe1a46b",
   "metadata": {
    "papermill": {
     "duration": 0.019915,
     "end_time": "2021-08-31T21:51:18.627478",
     "exception": false,
     "start_time": "2021-08-31T21:51:18.607563",
     "status": "completed"
    },
    "tags": []
   },
   "source": [
    "# Pseudo Label"
   ]
  },
  {
   "cell_type": "code",
   "execution_count": 11,
   "id": "0bb20361",
   "metadata": {
    "execution": {
     "iopub.execute_input": "2021-08-31T21:51:18.672159Z",
     "iopub.status.busy": "2021-08-31T21:51:18.671457Z",
     "iopub.status.idle": "2021-08-31T21:51:19.233565Z",
     "shell.execute_reply": "2021-08-31T21:51:19.234648Z",
     "shell.execute_reply.started": "2021-08-31T21:47:49.430614Z"
    },
    "papermill": {
     "duration": 0.587077,
     "end_time": "2021-08-31T21:51:19.234938",
     "exception": false,
     "start_time": "2021-08-31T21:51:18.647861",
     "status": "completed"
    },
    "tags": []
   },
   "outputs": [],
   "source": [
    "pseudo = pd.read_csv(\"../input/competition-day-6-stacking10/submission.csv\")[target]\n",
    "train_pseudo = pd.concat([X, y], axis=1)\n",
    "test_pseudo = pd.concat([X_test, pseudo], axis=1)\n",
    "all_pseudo = pd.concat([train_pseudo, test_pseudo]).reset_index(drop=True)"
   ]
  },
  {
   "cell_type": "markdown",
   "id": "7cd37f16",
   "metadata": {
    "papermill": {
     "duration": 0.020152,
     "end_time": "2021-08-31T21:51:19.275199",
     "exception": false,
     "start_time": "2021-08-31T21:51:19.255047",
     "status": "completed"
    },
    "tags": []
   },
   "source": [
    "# RF"
   ]
  },
  {
   "cell_type": "code",
   "execution_count": 12,
   "id": "03493be6",
   "metadata": {
    "execution": {
     "iopub.execute_input": "2021-08-31T21:51:19.322167Z",
     "iopub.status.busy": "2021-08-31T21:51:19.321472Z",
     "iopub.status.idle": "2021-08-31T21:51:19.327024Z",
     "shell.execute_reply": "2021-08-31T21:51:19.327593Z",
     "shell.execute_reply.started": "2021-08-31T21:47:49.735485Z"
    },
    "papermill": {
     "duration": 0.031878,
     "end_time": "2021-08-31T21:51:19.327928",
     "exception": false,
     "start_time": "2021-08-31T21:51:19.296050",
     "status": "completed"
    },
    "tags": []
   },
   "outputs": [],
   "source": [
    "rr_params = {\n",
    "     'n_estimators':N_ESTIMATORS,\n",
    "                    #'objective': 'regression',\n",
    "              'criterion':'mse',\n",
    "                  #'metric':'rmse',\n",
    "              'n_jobs':-1,\n",
    "              'bootstrap':True,\n",
    "    \n",
    "            'max_depth': 6,\n",
    "             'max_features': 0.5228583626675448,\n",
    "             'max_samples': 0.8642975166335827,\n",
    "             'ccp_alpha': 8.850117341313198e-06\n",
    "        \n",
    "}"
   ]
  },
  {
   "cell_type": "code",
   "execution_count": 13,
   "id": "03be9801",
   "metadata": {
    "execution": {
     "iopub.execute_input": "2021-08-31T21:51:19.383819Z",
     "iopub.status.busy": "2021-08-31T21:51:19.383080Z",
     "iopub.status.idle": "2021-08-31T22:38:59.939323Z",
     "shell.execute_reply": "2021-08-31T22:38:59.939891Z",
     "shell.execute_reply.started": "2021-08-31T21:47:49.744007Z"
    },
    "papermill": {
     "duration": 2860.591778,
     "end_time": "2021-08-31T22:38:59.940283",
     "exception": false,
     "start_time": "2021-08-31T21:51:19.348505",
     "status": "completed"
    },
    "tags": []
   },
   "outputs": [
    {
     "name": "stdout",
     "output_type": "stream",
     "text": [
      "===== fold 0 =====\n",
      "===== fold 1 =====\n",
      "===== fold 2 =====\n",
      "===== fold 3 =====\n",
      "===== fold 4 =====\n",
      "===== fold 5 =====\n",
      "===== fold 6 =====\n",
      "===== fold 7 =====\n",
      "fold 7 - rr rmse: 0.713237, elapsed time: 960.12sec\n",
      "\n",
      "===== fold 8 =====\n",
      "fold 8 - rr rmse: 0.714513, elapsed time: 939.04sec\n",
      "\n",
      "===== fold 9 =====\n",
      "fold 9 - rr rmse: 0.717035, elapsed time: 960.43sec\n",
      "\n",
      "oof rr_rmse = 6.936184077341105\n"
     ]
    }
   ],
   "source": [
    "rr_oof = np.zeros(train.shape[0])\n",
    "rr_pred = np.zeros(test.shape[0])\n",
    "rr_importances = pd.DataFrame()\n",
    "\n",
    "kf = KFold(n_splits=N_SPLITS, shuffle=True, random_state=CVSEED)\n",
    "seed_list=[SEED, SEED+1, SEED+2]\n",
    "\n",
    "for fold, (trn_idx, val_idx) in enumerate(kf.split(X=all_pseudo[scale_features], y=all_pseudo[target])):\n",
    "    print(f\"===== fold {fold} =====\")\n",
    "    if fold in [7,8,9]:\n",
    "    \n",
    "        oof_idx = np.array([idx for idx in val_idx if idx < train.shape[0]])\n",
    "        preds_idx = np.array([idx for idx in val_idx if idx >= train.shape[0]])\n",
    "\n",
    "        X_train, y_train = all_pseudo[scale_features].iloc[trn_idx], all_pseudo[target].iloc[trn_idx]\n",
    "        #X_train = apply_noise_row(X_train)\n",
    "\n",
    "        X_valid, y_valid = all_pseudo[scale_features].iloc[oof_idx], all_pseudo[target].iloc[oof_idx]\n",
    "        X_test = all_pseudo[scale_features].iloc[preds_idx]\n",
    "\n",
    "        # rr\n",
    "        start = time.time()\n",
    "\n",
    "        for inseed in seed_list:\n",
    "            rr_params['random_state'] = inseed\n",
    "\n",
    "            model = RandomForestRegressor(**rr_params, verbose=0)\n",
    "            model.fit(\n",
    "                X_train, \n",
    "                y_train,\n",
    "                \n",
    "            )\n",
    "\n",
    "           \n",
    "\n",
    "            with open(f\"rr_model{fold}.pkl\", 'wb') as f:\n",
    "                pickle.dump(model, f)\n",
    "\n",
    "            fi_tmp = pd.DataFrame()\n",
    "            fi_tmp['feature'] = scale_features\n",
    "            fi_tmp['importance'] = model.feature_importances_\n",
    "            fi_tmp['fold'] = fold\n",
    "            fi_tmp['seed'] = inseed\n",
    "            rr_importances = rr_importances.append(fi_tmp)\n",
    "\n",
    "            rr_oof[oof_idx] += model.predict(X_valid) / len(seed_list)\n",
    "            rr_pred[preds_idx-train.shape[0]] += model.predict(X_test) / len(seed_list)\n",
    "\n",
    "        elapsed = time.time() - start\n",
    "        rmse = mean_squared_error(y_valid, rr_oof[oof_idx], squared=False)\n",
    "        print(f\"fold {fold} - rr rmse: {rmse:.6f}, elapsed time: {elapsed:.2f}sec\\n\")\n",
    "\n",
    "        \n",
    "print(f\"oof rr_rmse = {mean_squared_error(train[target], rr_oof, squared=False)}\")\n",
    "\n",
    "np.save(\"rr_oof.npy\", rr_oof)\n",
    "np.save(\"rr_pred.npy\", rr_pred)"
   ]
  },
  {
   "cell_type": "markdown",
   "id": "c1b30a15",
   "metadata": {
    "papermill": {
     "duration": 0.020755,
     "end_time": "2021-08-31T22:38:59.982944",
     "exception": false,
     "start_time": "2021-08-31T22:38:59.962189",
     "status": "completed"
    },
    "tags": []
   },
   "source": [
    "# OOF predictions"
   ]
  },
  {
   "cell_type": "code",
   "execution_count": 14,
   "id": "eeaf5436",
   "metadata": {
    "execution": {
     "iopub.execute_input": "2021-08-31T22:39:00.054149Z",
     "iopub.status.busy": "2021-08-31T22:39:00.053417Z",
     "iopub.status.idle": "2021-08-31T22:39:01.327460Z",
     "shell.execute_reply": "2021-08-31T22:39:01.328019Z",
     "shell.execute_reply.started": "2021-08-31T21:47:57.244738Z"
    },
    "papermill": {
     "duration": 1.322497,
     "end_time": "2021-08-31T22:39:01.328191",
     "exception": false,
     "start_time": "2021-08-31T22:39:00.005694",
     "status": "completed"
    },
    "tags": []
   },
   "outputs": [
    {
     "data": {
      "text/plain": [
       "<matplotlib.collections.PathCollection at 0x7f602149ad50>"
      ]
     },
     "execution_count": 14,
     "metadata": {},
     "output_type": "execute_result"
    },
    {
     "data": {
      "image/png": "[encoded data removed]",
      "text/plain": [
       "<Figure size 432x288 with 1 Axes>"
      ]
     },
     "metadata": {
      "needs_background": "light"
     },
     "output_type": "display_data"
    }
   ],
   "source": [
    "plt.plot(train[target], train[target])\n",
    "plt.scatter(train[target], rr_oof)"
   ]
  },
  {
   "cell_type": "markdown",
   "id": "559ee3e4",
   "metadata": {
    "papermill": {
     "duration": 0.023502,
     "end_time": "2021-08-31T22:39:01.375455",
     "exception": false,
     "start_time": "2021-08-31T22:39:01.351953",
     "status": "completed"
    },
    "tags": []
   },
   "source": [
    "# Features importances"
   ]
  },
  {
   "cell_type": "code",
   "execution_count": 15,
   "id": "93545ea3",
   "metadata": {
    "execution": {
     "iopub.execute_input": "2021-08-31T22:39:01.437299Z",
     "iopub.status.busy": "2021-08-31T22:39:01.430698Z",
     "iopub.status.idle": "2021-08-31T22:39:01.774672Z",
     "shell.execute_reply": "2021-08-31T22:39:01.773994Z",
     "shell.execute_reply.started": "2021-08-31T21:47:58.759393Z"
    },
    "papermill": {
     "duration": 0.375381,
     "end_time": "2021-08-31T22:39:01.774811",
     "exception": false,
     "start_time": "2021-08-31T22:39:01.399430",
     "status": "completed"
    },
    "tags": []
   },
   "outputs": [
    {
     "data": {
      "text/plain": [
       "Text(0.5, 1.0, 'LightGBM feature importances')"
      ]
     },
     "execution_count": 15,
     "metadata": {},
     "output_type": "execute_result"
    },
    {
     "data": {
      "image/png": "[encoded data removed]",
      "text/plain": [
       "<Figure size 1152x1152 with 1 Axes>"
      ]
     },
     "metadata": {
      "needs_background": "light"
     },
     "output_type": "display_data"
    }
   ],
   "source": [
    "order = list(rr_importances.groupby('feature').mean().sort_values('importance', ascending=False).index)\n",
    "\n",
    "fig = plt.figure(figsize=(16, 16), tight_layout=True)\n",
    "sns.barplot(x=\"importance\", y=\"feature\", data=rr_importances.groupby('feature').mean().reset_index(), order=order)\n",
    "plt.title(\"LightGBM feature importances\")"
   ]
  },
  {
   "cell_type": "markdown",
   "id": "a08f623f",
   "metadata": {
    "papermill": {
     "duration": 0.023717,
     "end_time": "2021-08-31T22:39:01.823448",
     "exception": false,
     "start_time": "2021-08-31T22:39:01.799731",
     "status": "completed"
    },
    "tags": []
   },
   "source": [
    "# Submission"
   ]
  },
  {
   "cell_type": "code",
   "execution_count": 16,
   "id": "a80d684d",
   "metadata": {
    "execution": {
     "iopub.execute_input": "2021-08-31T22:39:01.878849Z",
     "iopub.status.busy": "2021-08-31T22:39:01.878018Z",
     "iopub.status.idle": "2021-08-31T22:39:02.451208Z",
     "shell.execute_reply": "2021-08-31T22:39:02.450651Z",
     "shell.execute_reply.started": "2021-08-31T21:47:59.078490Z"
    },
    "papermill": {
     "duration": 0.60382,
     "end_time": "2021-08-31T22:39:02.451368",
     "exception": false,
     "start_time": "2021-08-31T22:39:01.847548",
     "status": "completed"
    },
    "tags": []
   },
   "outputs": [
    {
     "data": {
      "text/html": [
       "<div>\n",
       "<style scoped>\n",
       "    .dataframe tbody tr th:only-of-type {\n",
       "        vertical-align: middle;\n",
       "    }\n",
       "\n",
       "    .dataframe tbody tr th {\n",
       "        vertical-align: top;\n",
       "    }\n",
       "\n",
       "    .dataframe thead th {\n",
       "        text-align: right;\n",
       "    }\n",
       "</style>\n",
       "<table border=\"1\" class=\"dataframe\">\n",
       "  <thead>\n",
       "    <tr style=\"text-align: right;\">\n",
       "      <th></th>\n",
       "      <th>id</th>\n",
       "      <th>target</th>\n",
       "    </tr>\n",
       "  </thead>\n",
       "  <tbody>\n",
       "    <tr>\n",
       "      <th>0</th>\n",
       "      <td>0</td>\n",
       "      <td>0.000000</td>\n",
       "    </tr>\n",
       "    <tr>\n",
       "      <th>1</th>\n",
       "      <td>5</td>\n",
       "      <td>8.421267</td>\n",
       "    </tr>\n",
       "    <tr>\n",
       "      <th>2</th>\n",
       "      <td>15</td>\n",
       "      <td>0.000000</td>\n",
       "    </tr>\n",
       "    <tr>\n",
       "      <th>3</th>\n",
       "      <td>16</td>\n",
       "      <td>8.492365</td>\n",
       "    </tr>\n",
       "    <tr>\n",
       "      <th>4</th>\n",
       "      <td>17</td>\n",
       "      <td>0.000000</td>\n",
       "    </tr>\n",
       "    <tr>\n",
       "      <th>...</th>\n",
       "      <td>...</td>\n",
       "      <td>...</td>\n",
       "    </tr>\n",
       "    <tr>\n",
       "      <th>199995</th>\n",
       "      <td>499987</td>\n",
       "      <td>8.022262</td>\n",
       "    </tr>\n",
       "    <tr>\n",
       "      <th>199996</th>\n",
       "      <td>499990</td>\n",
       "      <td>8.488556</td>\n",
       "    </tr>\n",
       "    <tr>\n",
       "      <th>199997</th>\n",
       "      <td>499991</td>\n",
       "      <td>0.000000</td>\n",
       "    </tr>\n",
       "    <tr>\n",
       "      <th>199998</th>\n",
       "      <td>499994</td>\n",
       "      <td>0.000000</td>\n",
       "    </tr>\n",
       "    <tr>\n",
       "      <th>199999</th>\n",
       "      <td>499995</td>\n",
       "      <td>0.000000</td>\n",
       "    </tr>\n",
       "  </tbody>\n",
       "</table>\n",
       "<p>200000 rows × 2 columns</p>\n",
       "</div>"
      ],
      "text/plain": [
       "            id    target\n",
       "0            0  0.000000\n",
       "1            5  8.421267\n",
       "2           15  0.000000\n",
       "3           16  8.492365\n",
       "4           17  0.000000\n",
       "...        ...       ...\n",
       "199995  499987  8.022262\n",
       "199996  499990  8.488556\n",
       "199997  499991  0.000000\n",
       "199998  499994  0.000000\n",
       "199999  499995  0.000000\n",
       "\n",
       "[200000 rows x 2 columns]"
      ]
     },
     "execution_count": 16,
     "metadata": {},
     "output_type": "execute_result"
    }
   ],
   "source": [
    "submission[target] = rr_pred\n",
    "submission.to_csv(\"submission.csv\", index=False)\n",
    "\n",
    "submission"
   ]
  }
 ],
 "metadata": {
  "kernelspec": {
   "display_name": "Python 3",
   "language": "python",
   "name": "python3"
  },
  "language_info": {
   "codemirror_mode": {
    "name": "ipython",
    "version": 3
   },
   "file_extension": ".py",
   "mimetype": "text/x-python",
   "name": "python",
   "nbconvert_exporter": "python",
   "pygments_lexer": "ipython3",
   "version": "3.7.10"
  },
  "papermill": {
   "default_parameters": {},
   "duration": 2887.637642,
   "end_time": "2021-08-31T22:39:04.003069",
   "environment_variables": {},
   "exception": null,
   "input_path": "__notebook__.ipynb",
   "output_path": "__notebook__.ipynb",
   "parameters": {},
   "start_time": "2021-08-31T21:50:56.365427",
   "version": "2.3.3"
  }
 },
 "nbformat": 4,
 "nbformat_minor": 5
}
