{
 "cells": [
  {
   "cell_type": "code",
   "execution_count": 1,
   "id": "23336433",
   "metadata": {
    "_cell_guid": "b1076dfc-b9ad-4769-8c92-a6c4dae69d19",
    "_uuid": "8f2839f25d086af736a60e9eeb907d3b93b6e0e5",
    "execution": {
     "iopub.execute_input": "2021-08-30T04:12:53.332381Z",
     "iopub.status.busy": "2021-08-30T04:12:53.331867Z",
     "iopub.status.idle": "2021-08-30T04:12:55.504706Z",
     "shell.execute_reply": "2021-08-30T04:12:55.503892Z",
     "shell.execute_reply.started": "2021-08-28T23:01:03.75464Z"
    },
    "papermill": {
     "duration": 2.202744,
     "end_time": "2021-08-30T04:12:55.504857",
     "exception": false,
     "start_time": "2021-08-30T04:12:53.302113",
     "status": "completed"
    },
    "tags": []
   },
   "outputs": [
    {
     "data": {
      "text/html": [
       "<style type='text/css'>\n",
       ".datatable table.frame { margin-bottom: 0; }\n",
       ".datatable table.frame thead { border-bottom: none; }\n",
       ".datatable table.frame tr.coltypes td {  color: #FFFFFF;  line-height: 6px;  padding: 0 0.5em;}\n",
       ".datatable .bool    { background: #DDDD99; }\n",
       ".datatable .object  { background: #565656; }\n",
       ".datatable .int     { background: #5D9E5D; }\n",
       ".datatable .float   { background: #4040CC; }\n",
       ".datatable .str     { background: #CC4040; }\n",
       ".datatable .time    { background: #40CC40; }\n",
       ".datatable .row_index {  background: var(--jp-border-color3);  border-right: 1px solid var(--jp-border-color0);  color: var(--jp-ui-font-color3);  font-size: 9px;}\n",
       ".datatable .frame tbody td { text-align: left; }\n",
       ".datatable .frame tr.coltypes .row_index {  background: var(--jp-border-color0);}\n",
       ".datatable th:nth-child(2) { padding-left: 12px; }\n",
       ".datatable .hellipsis {  color: var(--jp-cell-editor-border-color);}\n",
       ".datatable .vellipsis {  background: var(--jp-layout-color0);  color: var(--jp-cell-editor-border-color);}\n",
       ".datatable .na {  color: var(--jp-cell-editor-border-color);  font-size: 80%;}\n",
       ".datatable .sp {  opacity: 0.25;}\n",
       ".datatable .footer { font-size: 9px; }\n",
       ".datatable .frame_dimensions {  background: var(--jp-border-color3);  border-top: 1px solid var(--jp-border-color0);  color: var(--jp-ui-font-color3);  display: inline-block;  opacity: 0.6;  padding: 1px 10px 1px 5px;}\n",
       "</style>\n"
      ],
      "text/plain": [
       "<IPython.core.display.HTML object>"
      ]
     },
     "metadata": {},
     "output_type": "display_data"
    }
   ],
   "source": [
    "# Familiar imports\n",
    "import numpy as np\n",
    "import pandas as pd\n",
    "import random\n",
    "import os\n",
    "import time\n",
    "from pathlib import Path\n",
    "\n",
    "from sklearn.preprocessing import StandardScaler\n",
    "from sklearn.model_selection import KFold, train_test_split\n",
    "from sklearn.metrics import mean_squared_error\n",
    "from sklearn.preprocessing import OrdinalEncoder, OneHotEncoder\n",
    "\n",
    "import lightgbm as lgb\n",
    "#import xgboost as xgb\n",
    "#import catboost as ctb\n",
    "\n",
    "import warnings\n",
    "warnings.simplefilter('ignore')"
   ]
  },
  {
   "cell_type": "markdown",
   "id": "8c8e0d03",
   "metadata": {
    "papermill": {
     "duration": 0.012596,
     "end_time": "2021-08-30T04:12:55.531306",
     "exception": false,
     "start_time": "2021-08-30T04:12:55.518710",
     "status": "completed"
    },
    "tags": []
   },
   "source": [
    "# Parameters"
   ]
  },
  {
   "cell_type": "code",
   "execution_count": 2,
   "id": "0ada28cd",
   "metadata": {
    "execution": {
     "iopub.execute_input": "2021-08-30T04:12:55.561751Z",
     "iopub.status.busy": "2021-08-30T04:12:55.561210Z",
     "iopub.status.idle": "2021-08-30T04:12:55.564709Z",
     "shell.execute_reply": "2021-08-30T04:12:55.564254Z",
     "shell.execute_reply.started": "2021-08-28T23:01:05.88621Z"
    },
    "papermill": {
     "duration": 0.021162,
     "end_time": "2021-08-30T04:12:55.564821",
     "exception": false,
     "start_time": "2021-08-30T04:12:55.543659",
     "status": "completed"
    },
    "tags": []
   },
   "outputs": [],
   "source": [
    "target = 'target'\n",
    "\n",
    "DEBUG = False\n",
    "\n",
    "if DEBUG:\n",
    "    N_ESTIMATORS = 1\n",
    "    N_SPLITS = 2\n",
    "    SEED = 17\n",
    "    CVSEED = 17\n",
    "    EARLY_STOPPING_ROUNDS = 1\n",
    "    VERBOSE = 100\n",
    "    #N_ITERS = 2\n",
    "else:\n",
    "    N_SPLITS = 10\n",
    "    N_ESTIMATORS = 20000\n",
    "    EARLY_STOPPING_ROUNDS = 200\n",
    "    VERBOSE = 1000\n",
    "    SEED = 17\n",
    "    CVSEED = 17\n",
    "    #N_ITERS = 10"
   ]
  },
  {
   "cell_type": "code",
   "execution_count": 3,
   "id": "5066c43f",
   "metadata": {
    "execution": {
     "iopub.execute_input": "2021-08-30T04:12:55.595305Z",
     "iopub.status.busy": "2021-08-30T04:12:55.594804Z",
     "iopub.status.idle": "2021-08-30T04:12:55.598406Z",
     "shell.execute_reply": "2021-08-30T04:12:55.597917Z",
     "shell.execute_reply.started": "2021-08-28T23:01:05.894491Z"
    },
    "papermill": {
     "duration": 0.020538,
     "end_time": "2021-08-30T04:12:55.598536",
     "exception": false,
     "start_time": "2021-08-30T04:12:55.577998",
     "status": "completed"
    },
    "tags": []
   },
   "outputs": [],
   "source": [
    "def set_seed(seed=17):\n",
    "    random.seed(seed)\n",
    "    os.environ['PYTHONHASHSEED'] = str(seed)\n",
    "    np.random.seed(seed)\n",
    "    \n",
    "set_seed(SEED)"
   ]
  },
  {
   "cell_type": "markdown",
   "id": "974f22c2",
   "metadata": {
    "papermill": {
     "duration": 0.012261,
     "end_time": "2021-08-30T04:12:55.623933",
     "exception": false,
     "start_time": "2021-08-30T04:12:55.611672",
     "status": "completed"
    },
    "tags": []
   },
   "source": [
    "# Load data"
   ]
  },
  {
   "cell_type": "code",
   "execution_count": 4,
   "id": "86d33a07",
   "metadata": {
    "execution": {
     "iopub.execute_input": "2021-08-30T04:12:55.653562Z",
     "iopub.status.busy": "2021-08-30T04:12:55.653047Z",
     "iopub.status.idle": "2021-08-30T04:12:59.853293Z",
     "shell.execute_reply": "2021-08-30T04:12:59.853685Z",
     "shell.execute_reply.started": "2021-08-28T23:01:05.905177Z"
    },
    "papermill": {
     "duration": 4.217396,
     "end_time": "2021-08-30T04:12:59.853846",
     "exception": false,
     "start_time": "2021-08-30T04:12:55.636450",
     "status": "completed"
    },
    "tags": []
   },
   "outputs": [
    {
     "data": {
      "text/html": [
       "<div>\n",
       "<style scoped>\n",
       "    .dataframe tbody tr th:only-of-type {\n",
       "        vertical-align: middle;\n",
       "    }\n",
       "\n",
       "    .dataframe tbody tr th {\n",
       "        vertical-align: top;\n",
       "    }\n",
       "\n",
       "    .dataframe thead th {\n",
       "        text-align: right;\n",
       "    }\n",
       "</style>\n",
       "<table border=\"1\" class=\"dataframe\">\n",
       "  <thead>\n",
       "    <tr style=\"text-align: right;\">\n",
       "      <th></th>\n",
       "      <th>id</th>\n",
       "      <th>cat0</th>\n",
       "      <th>cat1</th>\n",
       "      <th>cat2</th>\n",
       "      <th>cat3</th>\n",
       "      <th>cat4</th>\n",
       "      <th>cat5</th>\n",
       "      <th>cat6</th>\n",
       "      <th>cat7</th>\n",
       "      <th>cat8</th>\n",
       "      <th>...</th>\n",
       "      <th>cont5</th>\n",
       "      <th>cont6</th>\n",
       "      <th>cont7</th>\n",
       "      <th>cont8</th>\n",
       "      <th>cont9</th>\n",
       "      <th>cont10</th>\n",
       "      <th>cont11</th>\n",
       "      <th>cont12</th>\n",
       "      <th>cont13</th>\n",
       "      <th>target</th>\n",
       "    </tr>\n",
       "  </thead>\n",
       "  <tbody>\n",
       "    <tr>\n",
       "      <th>0</th>\n",
       "      <td>1</td>\n",
       "      <td>B</td>\n",
       "      <td>B</td>\n",
       "      <td>B</td>\n",
       "      <td>C</td>\n",
       "      <td>B</td>\n",
       "      <td>B</td>\n",
       "      <td>A</td>\n",
       "      <td>E</td>\n",
       "      <td>C</td>\n",
       "      <td>...</td>\n",
       "      <td>0.400361</td>\n",
       "      <td>0.160266</td>\n",
       "      <td>0.310921</td>\n",
       "      <td>0.389470</td>\n",
       "      <td>0.267559</td>\n",
       "      <td>0.237281</td>\n",
       "      <td>0.377873</td>\n",
       "      <td>0.322401</td>\n",
       "      <td>0.869850</td>\n",
       "      <td>8.113634</td>\n",
       "    </tr>\n",
       "    <tr>\n",
       "      <th>1</th>\n",
       "      <td>2</td>\n",
       "      <td>B</td>\n",
       "      <td>B</td>\n",
       "      <td>A</td>\n",
       "      <td>A</td>\n",
       "      <td>B</td>\n",
       "      <td>D</td>\n",
       "      <td>A</td>\n",
       "      <td>F</td>\n",
       "      <td>A</td>\n",
       "      <td>...</td>\n",
       "      <td>0.533087</td>\n",
       "      <td>0.558922</td>\n",
       "      <td>0.516294</td>\n",
       "      <td>0.594928</td>\n",
       "      <td>0.341439</td>\n",
       "      <td>0.906013</td>\n",
       "      <td>0.921701</td>\n",
       "      <td>0.261975</td>\n",
       "      <td>0.465083</td>\n",
       "      <td>8.481233</td>\n",
       "    </tr>\n",
       "    <tr>\n",
       "      <th>2</th>\n",
       "      <td>3</td>\n",
       "      <td>A</td>\n",
       "      <td>A</td>\n",
       "      <td>A</td>\n",
       "      <td>C</td>\n",
       "      <td>B</td>\n",
       "      <td>D</td>\n",
       "      <td>A</td>\n",
       "      <td>D</td>\n",
       "      <td>A</td>\n",
       "      <td>...</td>\n",
       "      <td>0.650609</td>\n",
       "      <td>0.375348</td>\n",
       "      <td>0.902567</td>\n",
       "      <td>0.555205</td>\n",
       "      <td>0.843531</td>\n",
       "      <td>0.748809</td>\n",
       "      <td>0.620126</td>\n",
       "      <td>0.541474</td>\n",
       "      <td>0.763846</td>\n",
       "      <td>8.364351</td>\n",
       "    </tr>\n",
       "    <tr>\n",
       "      <th>3</th>\n",
       "      <td>4</td>\n",
       "      <td>B</td>\n",
       "      <td>B</td>\n",
       "      <td>A</td>\n",
       "      <td>C</td>\n",
       "      <td>B</td>\n",
       "      <td>D</td>\n",
       "      <td>A</td>\n",
       "      <td>E</td>\n",
       "      <td>C</td>\n",
       "      <td>...</td>\n",
       "      <td>0.668980</td>\n",
       "      <td>0.239061</td>\n",
       "      <td>0.732948</td>\n",
       "      <td>0.679618</td>\n",
       "      <td>0.574844</td>\n",
       "      <td>0.346010</td>\n",
       "      <td>0.714610</td>\n",
       "      <td>0.540150</td>\n",
       "      <td>0.280682</td>\n",
       "      <td>8.049253</td>\n",
       "    </tr>\n",
       "    <tr>\n",
       "      <th>4</th>\n",
       "      <td>6</td>\n",
       "      <td>A</td>\n",
       "      <td>A</td>\n",
       "      <td>A</td>\n",
       "      <td>C</td>\n",
       "      <td>B</td>\n",
       "      <td>D</td>\n",
       "      <td>A</td>\n",
       "      <td>E</td>\n",
       "      <td>A</td>\n",
       "      <td>...</td>\n",
       "      <td>0.686964</td>\n",
       "      <td>0.420667</td>\n",
       "      <td>0.648182</td>\n",
       "      <td>0.684501</td>\n",
       "      <td>0.956692</td>\n",
       "      <td>1.000773</td>\n",
       "      <td>0.776742</td>\n",
       "      <td>0.625849</td>\n",
       "      <td>0.250823</td>\n",
       "      <td>7.972260</td>\n",
       "    </tr>\n",
       "  </tbody>\n",
       "</table>\n",
       "<p>5 rows × 26 columns</p>\n",
       "</div>"
      ],
      "text/plain": [
       "   id cat0 cat1 cat2 cat3 cat4 cat5 cat6 cat7 cat8  ...     cont5     cont6  \\\n",
       "0   1    B    B    B    C    B    B    A    E    C  ...  0.400361  0.160266   \n",
       "1   2    B    B    A    A    B    D    A    F    A  ...  0.533087  0.558922   \n",
       "2   3    A    A    A    C    B    D    A    D    A  ...  0.650609  0.375348   \n",
       "3   4    B    B    A    C    B    D    A    E    C  ...  0.668980  0.239061   \n",
       "4   6    A    A    A    C    B    D    A    E    A  ...  0.686964  0.420667   \n",
       "\n",
       "      cont7     cont8     cont9    cont10    cont11    cont12    cont13  \\\n",
       "0  0.310921  0.389470  0.267559  0.237281  0.377873  0.322401  0.869850   \n",
       "1  0.516294  0.594928  0.341439  0.906013  0.921701  0.261975  0.465083   \n",
       "2  0.902567  0.555205  0.843531  0.748809  0.620126  0.541474  0.763846   \n",
       "3  0.732948  0.679618  0.574844  0.346010  0.714610  0.540150  0.280682   \n",
       "4  0.648182  0.684501  0.956692  1.000773  0.776742  0.625849  0.250823   \n",
       "\n",
       "     target  \n",
       "0  8.113634  \n",
       "1  8.481233  \n",
       "2  8.364351  \n",
       "3  8.049253  \n",
       "4  7.972260  \n",
       "\n",
       "[5 rows x 26 columns]"
      ]
     },
     "execution_count": 4,
     "metadata": {},
     "output_type": "execute_result"
    }
   ],
   "source": [
    "# Load the training data\n",
    "train = pd.read_csv(\"../input/30-days-of-ml/train.csv\")\n",
    "test = pd.read_csv(\"../input/30-days-of-ml/test.csv\")\n",
    "\n",
    "# Preview the data\n",
    "train.head()"
   ]
  },
  {
   "cell_type": "code",
   "execution_count": 5,
   "id": "2c8396dd",
   "metadata": {
    "execution": {
     "iopub.execute_input": "2021-08-30T04:12:59.883756Z",
     "iopub.status.busy": "2021-08-30T04:12:59.883197Z",
     "iopub.status.idle": "2021-08-30T04:13:00.245248Z",
     "shell.execute_reply": "2021-08-30T04:13:00.244794Z",
     "shell.execute_reply.started": "2021-08-28T23:01:09.989196Z"
    },
    "papermill": {
     "duration": 0.378097,
     "end_time": "2021-08-30T04:13:00.245371",
     "exception": false,
     "start_time": "2021-08-30T04:12:59.867274",
     "status": "completed"
    },
    "tags": []
   },
   "outputs": [],
   "source": [
    "train['lgb_pred'] = np.load(\"../input/30d-ml-2021-lgb-no-pseudo/lgb_oof.npy\")\n",
    "test['lgb_pred'] = np.load(\"../input/30d-ml-2021-lgb-no-pseudo/lgb_pred.npy\")\n",
    "\n",
    "train['xgb_pred'] = np.load(\"../input/30d-ml-2021-xgb-no-pseudo/xgb_oof.npy\")\n",
    "test['xgb_pred'] = np.load(\"../input/30d-ml-2021-xgb-no-pseudo/xgb_pred.npy\")\n",
    "\n",
    "train['lgb2_pred'] = np.load(\"../input/30d-ml-2021-lgb-model-2-no-pseudo/lgb_oof.npy\")\n",
    "test['lgb2_pred'] = np.load(\"../input/30d-ml-2021-lgb-model-2-no-pseudo/lgb_pred.npy\")\n",
    "\n",
    "train['xgb2_pred'] = np.load(\"../input/30d-ml-2021-xgb-model-2-no-pseudo/xgb_oof.npy\")\n",
    "test['xgb2_pred'] = np.load(\"../input/30d-ml-2021-xgb-model-2-no-pseudo/xgb_pred.npy\")\n",
    "\n",
    "train['ctb_pred'] = np.load(\"../input/30d-ml-2021-catb-no-pseudo/ctb_oof.npy\")\n",
    "test['ctb_pred'] = np.load(\"../input/30d-ml-2021-catb-no-pseudo/ctb_pred.npy\")"
   ]
  },
  {
   "cell_type": "code",
   "execution_count": 6,
   "id": "cf8f059a",
   "metadata": {
    "execution": {
     "iopub.execute_input": "2021-08-30T04:13:00.278311Z",
     "iopub.status.busy": "2021-08-30T04:13:00.277796Z",
     "iopub.status.idle": "2021-08-30T04:13:00.350779Z",
     "shell.execute_reply": "2021-08-30T04:13:00.350185Z",
     "shell.execute_reply.started": "2021-08-28T23:01:10.289945Z"
    },
    "papermill": {
     "duration": 0.091738,
     "end_time": "2021-08-30T04:13:00.350908",
     "exception": false,
     "start_time": "2021-08-30T04:13:00.259170",
     "status": "completed"
    },
    "tags": []
   },
   "outputs": [
    {
     "data": {
      "text/html": [
       "<div>\n",
       "<style scoped>\n",
       "    .dataframe tbody tr th:only-of-type {\n",
       "        vertical-align: middle;\n",
       "    }\n",
       "\n",
       "    .dataframe tbody tr th {\n",
       "        vertical-align: top;\n",
       "    }\n",
       "\n",
       "    .dataframe thead th {\n",
       "        text-align: right;\n",
       "    }\n",
       "</style>\n",
       "<table border=\"1\" class=\"dataframe\">\n",
       "  <thead>\n",
       "    <tr style=\"text-align: right;\">\n",
       "      <th></th>\n",
       "      <th>cat0</th>\n",
       "      <th>cat1</th>\n",
       "      <th>cat2</th>\n",
       "      <th>cat3</th>\n",
       "      <th>cat4</th>\n",
       "      <th>cat5</th>\n",
       "      <th>cat6</th>\n",
       "      <th>cat7</th>\n",
       "      <th>cat8</th>\n",
       "      <th>cat9</th>\n",
       "      <th>...</th>\n",
       "      <th>cont9</th>\n",
       "      <th>cont10</th>\n",
       "      <th>cont11</th>\n",
       "      <th>cont12</th>\n",
       "      <th>cont13</th>\n",
       "      <th>lgb_pred</th>\n",
       "      <th>xgb_pred</th>\n",
       "      <th>lgb2_pred</th>\n",
       "      <th>xgb2_pred</th>\n",
       "      <th>ctb_pred</th>\n",
       "    </tr>\n",
       "  </thead>\n",
       "  <tbody>\n",
       "    <tr>\n",
       "      <th>0</th>\n",
       "      <td>B</td>\n",
       "      <td>B</td>\n",
       "      <td>B</td>\n",
       "      <td>C</td>\n",
       "      <td>B</td>\n",
       "      <td>B</td>\n",
       "      <td>A</td>\n",
       "      <td>E</td>\n",
       "      <td>C</td>\n",
       "      <td>N</td>\n",
       "      <td>...</td>\n",
       "      <td>0.267559</td>\n",
       "      <td>0.237281</td>\n",
       "      <td>0.377873</td>\n",
       "      <td>0.322401</td>\n",
       "      <td>0.869850</td>\n",
       "      <td>8.414218</td>\n",
       "      <td>8.425334</td>\n",
       "      <td>8.452603</td>\n",
       "      <td>8.430861</td>\n",
       "      <td>8.420048</td>\n",
       "    </tr>\n",
       "    <tr>\n",
       "      <th>1</th>\n",
       "      <td>B</td>\n",
       "      <td>B</td>\n",
       "      <td>A</td>\n",
       "      <td>A</td>\n",
       "      <td>B</td>\n",
       "      <td>D</td>\n",
       "      <td>A</td>\n",
       "      <td>F</td>\n",
       "      <td>A</td>\n",
       "      <td>O</td>\n",
       "      <td>...</td>\n",
       "      <td>0.341439</td>\n",
       "      <td>0.906013</td>\n",
       "      <td>0.921701</td>\n",
       "      <td>0.261975</td>\n",
       "      <td>0.465083</td>\n",
       "      <td>8.376001</td>\n",
       "      <td>8.361334</td>\n",
       "      <td>8.349284</td>\n",
       "      <td>8.328455</td>\n",
       "      <td>8.375351</td>\n",
       "    </tr>\n",
       "    <tr>\n",
       "      <th>2</th>\n",
       "      <td>A</td>\n",
       "      <td>A</td>\n",
       "      <td>A</td>\n",
       "      <td>C</td>\n",
       "      <td>B</td>\n",
       "      <td>D</td>\n",
       "      <td>A</td>\n",
       "      <td>D</td>\n",
       "      <td>A</td>\n",
       "      <td>F</td>\n",
       "      <td>...</td>\n",
       "      <td>0.843531</td>\n",
       "      <td>0.748809</td>\n",
       "      <td>0.620126</td>\n",
       "      <td>0.541474</td>\n",
       "      <td>0.763846</td>\n",
       "      <td>8.161854</td>\n",
       "      <td>8.177517</td>\n",
       "      <td>8.209423</td>\n",
       "      <td>8.190731</td>\n",
       "      <td>8.143454</td>\n",
       "    </tr>\n",
       "    <tr>\n",
       "      <th>3</th>\n",
       "      <td>B</td>\n",
       "      <td>B</td>\n",
       "      <td>A</td>\n",
       "      <td>C</td>\n",
       "      <td>B</td>\n",
       "      <td>D</td>\n",
       "      <td>A</td>\n",
       "      <td>E</td>\n",
       "      <td>C</td>\n",
       "      <td>K</td>\n",
       "      <td>...</td>\n",
       "      <td>0.574844</td>\n",
       "      <td>0.346010</td>\n",
       "      <td>0.714610</td>\n",
       "      <td>0.540150</td>\n",
       "      <td>0.280682</td>\n",
       "      <td>8.391968</td>\n",
       "      <td>8.398763</td>\n",
       "      <td>8.421653</td>\n",
       "      <td>8.401320</td>\n",
       "      <td>8.357306</td>\n",
       "    </tr>\n",
       "    <tr>\n",
       "      <th>4</th>\n",
       "      <td>A</td>\n",
       "      <td>A</td>\n",
       "      <td>A</td>\n",
       "      <td>C</td>\n",
       "      <td>B</td>\n",
       "      <td>D</td>\n",
       "      <td>A</td>\n",
       "      <td>E</td>\n",
       "      <td>A</td>\n",
       "      <td>N</td>\n",
       "      <td>...</td>\n",
       "      <td>0.956692</td>\n",
       "      <td>1.000773</td>\n",
       "      <td>0.776742</td>\n",
       "      <td>0.625849</td>\n",
       "      <td>0.250823</td>\n",
       "      <td>8.236148</td>\n",
       "      <td>8.256151</td>\n",
       "      <td>8.253373</td>\n",
       "      <td>8.255340</td>\n",
       "      <td>8.248562</td>\n",
       "    </tr>\n",
       "  </tbody>\n",
       "</table>\n",
       "<p>5 rows × 29 columns</p>\n",
       "</div>"
      ],
      "text/plain": [
       "  cat0 cat1 cat2 cat3 cat4 cat5 cat6 cat7 cat8 cat9  ...     cont9    cont10  \\\n",
       "0    B    B    B    C    B    B    A    E    C    N  ...  0.267559  0.237281   \n",
       "1    B    B    A    A    B    D    A    F    A    O  ...  0.341439  0.906013   \n",
       "2    A    A    A    C    B    D    A    D    A    F  ...  0.843531  0.748809   \n",
       "3    B    B    A    C    B    D    A    E    C    K  ...  0.574844  0.346010   \n",
       "4    A    A    A    C    B    D    A    E    A    N  ...  0.956692  1.000773   \n",
       "\n",
       "     cont11    cont12    cont13  lgb_pred  xgb_pred  lgb2_pred  xgb2_pred  \\\n",
       "0  0.377873  0.322401  0.869850  8.414218  8.425334   8.452603   8.430861   \n",
       "1  0.921701  0.261975  0.465083  8.376001  8.361334   8.349284   8.328455   \n",
       "2  0.620126  0.541474  0.763846  8.161854  8.177517   8.209423   8.190731   \n",
       "3  0.714610  0.540150  0.280682  8.391968  8.398763   8.421653   8.401320   \n",
       "4  0.776742  0.625849  0.250823  8.236148  8.256151   8.253373   8.255340   \n",
       "\n",
       "   ctb_pred  \n",
       "0  8.420048  \n",
       "1  8.375351  \n",
       "2  8.143454  \n",
       "3  8.357306  \n",
       "4  8.248562  \n",
       "\n",
       "[5 rows x 29 columns]"
      ]
     },
     "execution_count": 6,
     "metadata": {},
     "output_type": "execute_result"
    }
   ],
   "source": [
    "# Separate target from features\n",
    "y = train['target']\n",
    "features = train.drop(['id','target'], axis=1)\n",
    "\n",
    "# Preview features\n",
    "features.head()"
   ]
  },
  {
   "cell_type": "markdown",
   "id": "8287616f",
   "metadata": {
    "papermill": {
     "duration": 0.013304,
     "end_time": "2021-08-30T04:13:00.379017",
     "exception": false,
     "start_time": "2021-08-30T04:13:00.365713",
     "status": "completed"
    },
    "tags": []
   },
   "source": [
    "# Preprocessing"
   ]
  },
  {
   "cell_type": "code",
   "execution_count": 7,
   "id": "7ba68fbf",
   "metadata": {
    "execution": {
     "iopub.execute_input": "2021-08-30T04:13:00.411805Z",
     "iopub.status.busy": "2021-08-30T04:13:00.411282Z",
     "iopub.status.idle": "2021-08-30T04:13:00.416629Z",
     "shell.execute_reply": "2021-08-30T04:13:00.417000Z",
     "shell.execute_reply.started": "2021-08-28T23:01:10.399142Z"
    },
    "papermill": {
     "duration": 0.023846,
     "end_time": "2021-08-30T04:13:00.417156",
     "exception": false,
     "start_time": "2021-08-30T04:13:00.393310",
     "status": "completed"
    },
    "tags": []
   },
   "outputs": [
    {
     "data": {
      "text/plain": [
       "\"\\n# List of categorical columns\\nobject_cols = [col for col in features.columns if 'cat' in col]\\n\\n# ordinal-encode categorical columns\\nX = features.copy()\\nX_test = test.drop(['id'], axis=1).copy()\\nordinal_encoder = OrdinalEncoder()\\nX[object_cols] = ordinal_encoder.fit_transform(features[object_cols])\\nX_test[object_cols] = ordinal_encoder.transform(test[object_cols])\\n\\n# Preview the ordinal-encoded features\\nX.head()\\n\""
      ]
     },
     "execution_count": 7,
     "metadata": {},
     "output_type": "execute_result"
    }
   ],
   "source": [
    "'''\n",
    "# List of categorical columns\n",
    "object_cols = [col for col in features.columns if 'cat' in col]\n",
    "\n",
    "# ordinal-encode categorical columns\n",
    "X = features.copy()\n",
    "X_test = test.drop(['id'], axis=1).copy()\n",
    "ordinal_encoder = OrdinalEncoder()\n",
    "X[object_cols] = ordinal_encoder.fit_transform(features[object_cols])\n",
    "X_test[object_cols] = ordinal_encoder.transform(test[object_cols])\n",
    "\n",
    "# Preview the ordinal-encoded features\n",
    "X.head()\n",
    "'''"
   ]
  },
  {
   "cell_type": "code",
   "execution_count": 8,
   "id": "0081f96b",
   "metadata": {
    "execution": {
     "iopub.execute_input": "2021-08-30T04:13:00.469646Z",
     "iopub.status.busy": "2021-08-30T04:13:00.469084Z",
     "iopub.status.idle": "2021-08-30T04:13:02.094825Z",
     "shell.execute_reply": "2021-08-30T04:13:02.095318Z",
     "shell.execute_reply.started": "2021-08-28T23:01:10.408101Z"
    },
    "papermill": {
     "duration": 1.664408,
     "end_time": "2021-08-30T04:13:02.095521",
     "exception": false,
     "start_time": "2021-08-30T04:13:00.431113",
     "status": "completed"
    },
    "tags": []
   },
   "outputs": [
    {
     "data": {
      "text/html": [
       "<div>\n",
       "<style scoped>\n",
       "    .dataframe tbody tr th:only-of-type {\n",
       "        vertical-align: middle;\n",
       "    }\n",
       "\n",
       "    .dataframe tbody tr th {\n",
       "        vertical-align: top;\n",
       "    }\n",
       "\n",
       "    .dataframe thead th {\n",
       "        text-align: right;\n",
       "    }\n",
       "</style>\n",
       "<table border=\"1\" class=\"dataframe\">\n",
       "  <thead>\n",
       "    <tr style=\"text-align: right;\">\n",
       "      <th></th>\n",
       "      <th>cont0</th>\n",
       "      <th>cont1</th>\n",
       "      <th>cont2</th>\n",
       "      <th>cont3</th>\n",
       "      <th>cont4</th>\n",
       "      <th>cont5</th>\n",
       "      <th>cont6</th>\n",
       "      <th>cont7</th>\n",
       "      <th>cont8</th>\n",
       "      <th>cont9</th>\n",
       "      <th>...</th>\n",
       "      <th>ohe_46</th>\n",
       "      <th>ohe_47</th>\n",
       "      <th>ohe_48</th>\n",
       "      <th>ohe_49</th>\n",
       "      <th>ohe_50</th>\n",
       "      <th>ohe_51</th>\n",
       "      <th>ohe_52</th>\n",
       "      <th>ohe_53</th>\n",
       "      <th>ohe_54</th>\n",
       "      <th>ohe_55</th>\n",
       "    </tr>\n",
       "  </thead>\n",
       "  <tbody>\n",
       "    <tr>\n",
       "      <th>0</th>\n",
       "      <td>0.201470</td>\n",
       "      <td>-0.014822</td>\n",
       "      <td>0.669699</td>\n",
       "      <td>0.136278</td>\n",
       "      <td>0.610706</td>\n",
       "      <td>0.400361</td>\n",
       "      <td>0.160266</td>\n",
       "      <td>0.310921</td>\n",
       "      <td>0.389470</td>\n",
       "      <td>0.267559</td>\n",
       "      <td>...</td>\n",
       "      <td>0.0</td>\n",
       "      <td>0.0</td>\n",
       "      <td>0.0</td>\n",
       "      <td>0.0</td>\n",
       "      <td>0.0</td>\n",
       "      <td>0.0</td>\n",
       "      <td>0.0</td>\n",
       "      <td>0.0</td>\n",
       "      <td>1.0</td>\n",
       "      <td>0.0</td>\n",
       "    </tr>\n",
       "    <tr>\n",
       "      <th>1</th>\n",
       "      <td>0.743068</td>\n",
       "      <td>0.367411</td>\n",
       "      <td>1.021605</td>\n",
       "      <td>0.365798</td>\n",
       "      <td>0.276853</td>\n",
       "      <td>0.533087</td>\n",
       "      <td>0.558922</td>\n",
       "      <td>0.516294</td>\n",
       "      <td>0.594928</td>\n",
       "      <td>0.341439</td>\n",
       "      <td>...</td>\n",
       "      <td>0.0</td>\n",
       "      <td>0.0</td>\n",
       "      <td>0.0</td>\n",
       "      <td>0.0</td>\n",
       "      <td>0.0</td>\n",
       "      <td>0.0</td>\n",
       "      <td>0.0</td>\n",
       "      <td>0.0</td>\n",
       "      <td>0.0</td>\n",
       "      <td>1.0</td>\n",
       "    </tr>\n",
       "    <tr>\n",
       "      <th>2</th>\n",
       "      <td>0.742708</td>\n",
       "      <td>0.310383</td>\n",
       "      <td>-0.012673</td>\n",
       "      <td>0.576957</td>\n",
       "      <td>0.285074</td>\n",
       "      <td>0.650609</td>\n",
       "      <td>0.375348</td>\n",
       "      <td>0.902567</td>\n",
       "      <td>0.555205</td>\n",
       "      <td>0.843531</td>\n",
       "      <td>...</td>\n",
       "      <td>1.0</td>\n",
       "      <td>0.0</td>\n",
       "      <td>0.0</td>\n",
       "      <td>0.0</td>\n",
       "      <td>0.0</td>\n",
       "      <td>0.0</td>\n",
       "      <td>0.0</td>\n",
       "      <td>0.0</td>\n",
       "      <td>0.0</td>\n",
       "      <td>0.0</td>\n",
       "    </tr>\n",
       "    <tr>\n",
       "      <th>3</th>\n",
       "      <td>0.429551</td>\n",
       "      <td>0.620998</td>\n",
       "      <td>0.577942</td>\n",
       "      <td>0.280610</td>\n",
       "      <td>0.284667</td>\n",
       "      <td>0.668980</td>\n",
       "      <td>0.239061</td>\n",
       "      <td>0.732948</td>\n",
       "      <td>0.679618</td>\n",
       "      <td>0.574844</td>\n",
       "      <td>...</td>\n",
       "      <td>0.0</td>\n",
       "      <td>0.0</td>\n",
       "      <td>0.0</td>\n",
       "      <td>0.0</td>\n",
       "      <td>0.0</td>\n",
       "      <td>1.0</td>\n",
       "      <td>0.0</td>\n",
       "      <td>0.0</td>\n",
       "      <td>0.0</td>\n",
       "      <td>0.0</td>\n",
       "    </tr>\n",
       "    <tr>\n",
       "      <th>4</th>\n",
       "      <td>1.058291</td>\n",
       "      <td>0.367492</td>\n",
       "      <td>-0.052389</td>\n",
       "      <td>0.232407</td>\n",
       "      <td>0.287595</td>\n",
       "      <td>0.686964</td>\n",
       "      <td>0.420667</td>\n",
       "      <td>0.648182</td>\n",
       "      <td>0.684501</td>\n",
       "      <td>0.956692</td>\n",
       "      <td>...</td>\n",
       "      <td>0.0</td>\n",
       "      <td>0.0</td>\n",
       "      <td>0.0</td>\n",
       "      <td>0.0</td>\n",
       "      <td>0.0</td>\n",
       "      <td>0.0</td>\n",
       "      <td>0.0</td>\n",
       "      <td>0.0</td>\n",
       "      <td>1.0</td>\n",
       "      <td>0.0</td>\n",
       "    </tr>\n",
       "  </tbody>\n",
       "</table>\n",
       "<p>5 rows × 75 columns</p>\n",
       "</div>"
      ],
      "text/plain": [
       "      cont0     cont1     cont2     cont3     cont4     cont5     cont6  \\\n",
       "0  0.201470 -0.014822  0.669699  0.136278  0.610706  0.400361  0.160266   \n",
       "1  0.743068  0.367411  1.021605  0.365798  0.276853  0.533087  0.558922   \n",
       "2  0.742708  0.310383 -0.012673  0.576957  0.285074  0.650609  0.375348   \n",
       "3  0.429551  0.620998  0.577942  0.280610  0.284667  0.668980  0.239061   \n",
       "4  1.058291  0.367492 -0.052389  0.232407  0.287595  0.686964  0.420667   \n",
       "\n",
       "      cont7     cont8     cont9  ...  ohe_46  ohe_47  ohe_48  ohe_49  ohe_50  \\\n",
       "0  0.310921  0.389470  0.267559  ...     0.0     0.0     0.0     0.0     0.0   \n",
       "1  0.516294  0.594928  0.341439  ...     0.0     0.0     0.0     0.0     0.0   \n",
       "2  0.902567  0.555205  0.843531  ...     1.0     0.0     0.0     0.0     0.0   \n",
       "3  0.732948  0.679618  0.574844  ...     0.0     0.0     0.0     0.0     0.0   \n",
       "4  0.648182  0.684501  0.956692  ...     0.0     0.0     0.0     0.0     0.0   \n",
       "\n",
       "   ohe_51  ohe_52  ohe_53  ohe_54  ohe_55  \n",
       "0     0.0     0.0     0.0     1.0     0.0  \n",
       "1     0.0     0.0     0.0     0.0     1.0  \n",
       "2     0.0     0.0     0.0     0.0     0.0  \n",
       "3     1.0     0.0     0.0     0.0     0.0  \n",
       "4     0.0     0.0     0.0     1.0     0.0  \n",
       "\n",
       "[5 rows x 75 columns]"
      ]
     },
     "execution_count": 8,
     "metadata": {},
     "output_type": "execute_result"
    }
   ],
   "source": [
    "\n",
    "# List of categorical columns\n",
    "object_cols = [col for col in features.columns if 'cat' in col]\n",
    "\n",
    "# one-hot-encode categorical columns\n",
    "X = features.copy()\n",
    "X_test = test.drop(['id'], axis=1).copy()\n",
    "\n",
    "oh_encoder = OneHotEncoder(sparse=False, handle_unknown=\"ignore\")\n",
    "X_ohe = oh_encoder.fit_transform(features[object_cols])\n",
    "X_test_ohe = oh_encoder.transform(test[object_cols])\n",
    "\n",
    "X_ohe = pd.DataFrame(X_ohe, columns=[f\"ohe_{i}\" for i in range(X_ohe.shape[1])])\n",
    "X_test_ohe = pd.DataFrame(X_test_ohe, columns=[f\"ohe_{i}\" for i in range(X_test_ohe.shape[1])])\n",
    "\n",
    "X = pd.concat([X, X_ohe], axis=1)\n",
    "X_test = pd.concat([X_test, X_test_ohe], axis=1)\n",
    "X = X.drop(object_cols, axis=1)\n",
    "X_test = X_test.drop(object_cols, axis=1)\n",
    "    \n",
    "# Preview the one-hot-encoded features\n",
    "X.head()\n"
   ]
  },
  {
   "cell_type": "code",
   "execution_count": 9,
   "id": "4fbda976",
   "metadata": {
    "execution": {
     "iopub.execute_input": "2021-08-30T04:13:02.155438Z",
     "iopub.status.busy": "2021-08-30T04:13:02.154747Z",
     "iopub.status.idle": "2021-08-30T04:13:02.254680Z",
     "shell.execute_reply": "2021-08-30T04:13:02.254023Z",
     "shell.execute_reply.started": "2021-08-28T23:01:12.914803Z"
    },
    "papermill": {
     "duration": 0.137635,
     "end_time": "2021-08-30T04:13:02.254817",
     "exception": false,
     "start_time": "2021-08-30T04:13:02.117182",
     "status": "completed"
    },
    "tags": []
   },
   "outputs": [],
   "source": [
    "scale_features = [col for col in features.columns if 'cont' in col]\n",
    "\n",
    "ss = StandardScaler()\n",
    "X[scale_features] = ss.fit_transform(features[scale_features])\n",
    "X_test[scale_features] = ss.transform(test[scale_features])"
   ]
  },
  {
   "cell_type": "code",
   "execution_count": 10,
   "id": "00c01c49",
   "metadata": {
    "execution": {
     "iopub.execute_input": "2021-08-30T04:13:02.305537Z",
     "iopub.status.busy": "2021-08-30T04:13:02.304820Z",
     "iopub.status.idle": "2021-08-30T04:13:02.308855Z",
     "shell.execute_reply": "2021-08-30T04:13:02.308213Z",
     "shell.execute_reply.started": "2021-08-28T23:01:13.085521Z"
    },
    "papermill": {
     "duration": 0.032808,
     "end_time": "2021-08-30T04:13:02.309008",
     "exception": false,
     "start_time": "2021-08-30T04:13:02.276200",
     "status": "completed"
    },
    "tags": []
   },
   "outputs": [],
   "source": [
    "# Swap noise\n",
    "\n",
    "# Random\n",
    "def apply_noise_rn(df, p=.75):\n",
    "    should_not_swap = np.random.binomial(1, p, df.shape)\n",
    "    corrupted_df = df.where(should_not_swap == 1, np.random.permutation(df))\n",
    "    return corrupted_df\n",
    "\n",
    "# Row-wise\n",
    "def apply_noise_row(df, p=.75):\n",
    "    should_not_swap = np.zeros(df.shape)\n",
    "    for i in range(df.shape[0]):\n",
    "        for j in np.random.choice(df.shape[1],int(p*df.shape[1]),replace=False):\n",
    "            should_not_swap[i,j]=1 \n",
    "    corrupted_df = df.where(should_not_swap == 1, np.random.permutation(df))\n",
    "    return corrupted_df"
   ]
  },
  {
   "cell_type": "markdown",
   "id": "7f9da421",
   "metadata": {
    "papermill": {
     "duration": 0.020986,
     "end_time": "2021-08-30T04:13:02.352149",
     "exception": false,
     "start_time": "2021-08-30T04:13:02.331163",
     "status": "completed"
    },
    "tags": []
   },
   "source": [
    "# Optuna"
   ]
  },
  {
   "cell_type": "code",
   "execution_count": 11,
   "id": "2756963d",
   "metadata": {
    "execution": {
     "iopub.execute_input": "2021-08-30T04:13:02.400215Z",
     "iopub.status.busy": "2021-08-30T04:13:02.399584Z",
     "iopub.status.idle": "2021-08-30T04:13:10.822421Z",
     "shell.execute_reply": "2021-08-30T04:13:10.821942Z",
     "shell.execute_reply.started": "2021-08-28T08:36:38.513213Z"
    },
    "papermill": {
     "duration": 8.44729,
     "end_time": "2021-08-30T04:13:10.822545",
     "exception": false,
     "start_time": "2021-08-30T04:13:02.375255",
     "status": "completed"
    },
    "tags": []
   },
   "outputs": [
    {
     "name": "stdout",
     "output_type": "stream",
     "text": [
      "\u001b[33mWARNING: Running pip as root will break packages and permissions. You should install packages reliably by using venv: https://pip.pypa.io/warnings/venv\u001b[0m\r\n"
     ]
    }
   ],
   "source": [
    "# Optuna for parameter search\n",
    "!pip install -q optuna\n",
    "\n",
    "import optuna\n",
    "import pickle"
   ]
  },
  {
   "cell_type": "code",
   "execution_count": 12,
   "id": "604d3a3b",
   "metadata": {
    "execution": {
     "iopub.execute_input": "2021-08-30T04:13:10.864493Z",
     "iopub.status.busy": "2021-08-30T04:13:10.863910Z",
     "iopub.status.idle": "2021-08-30T04:13:10.868053Z",
     "shell.execute_reply": "2021-08-30T04:13:10.867465Z",
     "shell.execute_reply.started": "2021-08-28T08:36:47.005101Z"
    },
    "papermill": {
     "duration": 0.030346,
     "end_time": "2021-08-30T04:13:10.868176",
     "exception": false,
     "start_time": "2021-08-30T04:13:10.837830",
     "status": "completed"
    },
    "tags": []
   },
   "outputs": [],
   "source": [
    "# for the fixed learning rate, use the opt n iterations and tune the tree hyperparameters\n",
    "def objective(trial, X=X, y=y):\n",
    "  \"\"\"\n",
    "  \"\"\"\n",
    "  param_space = {\n",
    "                #'device':'gpu',  # Use GPU acceleration\n",
    "               #'boosting_type': 'gbdt',\n",
    "               'reg_lambda':trial.suggest_uniform('reg_lambda', 0.001, 20.017),\n",
    "              'reg_alpha':trial.suggest_uniform('reg_alpha', 0.001, 12),\n",
    "                'subsample': trial.suggest_uniform('subsample', 0.266, 0.666),\n",
    "              'colsample_bytree':trial.suggest_uniform('colsample_bytree', 0.655, 1.0),\n",
    "                #'subsample_freq': trial.suggest_int('subsample_freq', 1, 10),\n",
    "               'learning_rate':trial.suggest_uniform('learning_rate', 1e-2, 1e-1),\n",
    "                 'min_child_samples':trial.suggest_int('min_child_samples', 2, 50),\n",
    "              'num_leaves':trial.suggest_int('num_leaves', 3, 61),\n",
    "              'max_depth':trial.suggest_int('max_depth', 2, 15),\n",
    "              #'min_split_gain': trial.suggest_float('min_split_gain', 0.0, 0.005),\n",
    "              #'class_weight':trial.suggest_categorical('class_weight',['balanced',None]),\n",
    "               'n_estimators':N_ESTIMATORS,\n",
    "                'n_jobs' : -1,\n",
    "              'metric':'rmse',\n",
    "              'max_bin':trial.suggest_int('max_bin', 761, 1161),\n",
    "              'cat_smooth':trial.suggest_int('cat_smooth', 25, 75),\n",
    "              'cat_l2':trial.suggest_loguniform('cat_l2', 1e-3, 50)\n",
    "                }\n",
    "            \n",
    "  seed_list=[SEED, SEED+1]\n",
    "  #kf = KFold(n_splits=N_SPLITS, shuffle=True, random_state=CVSEED)\n",
    "  #lgb_oof = np.zeros(train.shape[0])\n",
    "  #lgb_pred = np.zeros(test.shape[0])\n",
    "  X_tr, X_va, y_tr, y_va = train_test_split(X,y,test_size=.2,random_state=CVSEED)\n",
    "  pred=np.zeros(y_va.shape[0])\n",
    "    \n",
    "  #for (trn_idx, val_idx) in enumerate(kf.split(X, y)):\n",
    "  #print(f\"===== fold {fold} =====\")\n",
    "    \n",
    "  #X_tr = apply_noise_row(X_tr)\n",
    "\n",
    "  \n",
    "  #start = time.time()\n",
    "  for inseed in seed_list:\n",
    "    param_space['random_state'] = inseed\n",
    "\n",
    "    model = lgb.LGBMRegressor(**param_space)\n",
    "    model.fit(\n",
    "        X_tr, \n",
    "        y_tr,\n",
    "        eval_set=[(X_va, y_va)],\n",
    "        eval_metric='rmse',\n",
    "        early_stopping_rounds=EARLY_STOPPING_ROUNDS,\n",
    "        verbose=VERBOSE,\n",
    "        #categorical_feature=[0, 1, 2, 3, 4, 5, 6, 7, 8, 9]\n",
    "        #callbacks=[optuna.integration.LightGBMPruningCallback(trial, metric='rmse')],\n",
    "    )\n",
    "\n",
    "\n",
    "    pred += model.predict(X_va) / len(seed_list)\n",
    "    \n",
    "  #elapsed = time.time() - start\n",
    "  rmse = mean_squared_error(y_va, pred, squared=False)\n",
    "  #print(f\"fold {fold} - lgb rmse: {rmse:.6f}, elapsed time: {elapsed:.2f}sec\\n\")            \n",
    "  \n",
    "  #print(f\"oof lgb_rmse = {mean_squared_error(train[target], lgb_oof, squared=False)}\")\n",
    "\n",
    "  \n",
    "  return rmse"
   ]
  },
  {
   "cell_type": "code",
   "execution_count": 13,
   "id": "9dc2f8b7",
   "metadata": {
    "execution": {
     "iopub.execute_input": "2021-08-30T04:13:10.903193Z",
     "iopub.status.busy": "2021-08-30T04:13:10.902668Z",
     "iopub.status.idle": "2021-08-30T04:19:36.895533Z",
     "shell.execute_reply": "2021-08-30T04:19:36.895081Z",
     "shell.execute_reply.started": "2021-08-28T08:36:47.019688Z"
    },
    "papermill": {
     "duration": 386.012486,
     "end_time": "2021-08-30T04:19:36.895661",
     "exception": false,
     "start_time": "2021-08-30T04:13:10.883175",
     "status": "completed"
    },
    "tags": []
   },
   "outputs": [
    {
     "name": "stderr",
     "output_type": "stream",
     "text": [
      "\u001b[32m[I 2021-08-30 04:13:10,900]\u001b[0m A new study created in memory with name: no-name-98daabd8-d389-4c6b-98e2-b9d21f7cdadb\u001b[0m\n"
     ]
    },
    {
     "name": "stdout",
     "output_type": "stream",
     "text": [
      "Training until validation scores don't improve for 200 rounds\n",
      "Early stopping, best iteration is:\n",
      "[188]\tvalid_0's rmse: 0.713633\n",
      "Training until validation scores don't improve for 200 rounds\n",
      "Early stopping, best iteration is:\n",
      "[180]\tvalid_0's rmse: 0.713669\n"
     ]
    },
    {
     "name": "stderr",
     "output_type": "stream",
     "text": [
      "\u001b[32m[I 2021-08-30 04:13:34,088]\u001b[0m Trial 0 finished with value: 0.7136363148572867 and parameters: {'reg_lambda': 1.8943967735776317, 'reg_alpha': 11.376724556823065, 'subsample': 0.5435511640940591, 'colsample_bytree': 0.6798170818696656, 'learning_rate': 0.020460369060154117, 'min_child_samples': 10, 'num_leaves': 52, 'max_depth': 7, 'max_bin': 940, 'cat_smooth': 62, 'cat_l2': 0.878704549413933}. Best is trial 0 with value: 0.7136363148572867.\u001b[0m\n"
     ]
    },
    {
     "name": "stdout",
     "output_type": "stream",
     "text": [
      "Training until validation scores don't improve for 200 rounds\n",
      "Early stopping, best iteration is:\n",
      "[413]\tvalid_0's rmse: 0.713385\n",
      "Training until validation scores don't improve for 200 rounds\n",
      "Early stopping, best iteration is:\n",
      "[503]\tvalid_0's rmse: 0.713352\n"
     ]
    },
    {
     "name": "stderr",
     "output_type": "stream",
     "text": [
      "\u001b[32m[I 2021-08-30 04:13:53,411]\u001b[0m Trial 1 finished with value: 0.7133635397332245 and parameters: {'reg_lambda': 16.046197871080437, 'reg_alpha': 1.0263227722928279, 'subsample': 0.5007809773393735, 'colsample_bytree': 0.6902873773837921, 'learning_rate': 0.015834989490828035, 'min_child_samples': 42, 'num_leaves': 8, 'max_depth': 10, 'max_bin': 786, 'cat_smooth': 47, 'cat_l2': 23.64184938850266}. Best is trial 1 with value: 0.7133635397332245.\u001b[0m\n"
     ]
    },
    {
     "name": "stdout",
     "output_type": "stream",
     "text": [
      "Training until validation scores don't improve for 200 rounds\n",
      "Early stopping, best iteration is:\n",
      "[338]\tvalid_0's rmse: 0.713657\n",
      "Training until validation scores don't improve for 200 rounds\n",
      "Early stopping, best iteration is:\n",
      "[314]\tvalid_0's rmse: 0.71369\n"
     ]
    },
    {
     "name": "stderr",
     "output_type": "stream",
     "text": [
      "\u001b[32m[I 2021-08-30 04:14:27,931]\u001b[0m Trial 2 finished with value: 0.7136622738106766 and parameters: {'reg_lambda': 12.621947272204745, 'reg_alpha': 10.506847223597022, 'subsample': 0.3498674123434914, 'colsample_bytree': 0.9577447514711512, 'learning_rate': 0.010704183242140208, 'min_child_samples': 16, 'num_leaves': 49, 'max_depth': 6, 'max_bin': 937, 'cat_smooth': 36, 'cat_l2': 0.5729913789461862}. Best is trial 1 with value: 0.7133635397332245.\u001b[0m\n"
     ]
    },
    {
     "name": "stdout",
     "output_type": "stream",
     "text": [
      "Training until validation scores don't improve for 200 rounds\n",
      "Early stopping, best iteration is:\n",
      "[51]\tvalid_0's rmse: 0.713578\n",
      "Training until validation scores don't improve for 200 rounds\n"
     ]
    },
    {
     "name": "stderr",
     "output_type": "stream",
     "text": [
      "\u001b[32m[I 2021-08-30 04:14:39,912]\u001b[0m Trial 3 finished with value: 0.7135283181902162 and parameters: {'reg_lambda': 11.48745876701106, 'reg_alpha': 9.687921219163675, 'subsample': 0.27884189363874395, 'colsample_bytree': 0.9775197117355559, 'learning_rate': 0.08912994953909302, 'min_child_samples': 23, 'num_leaves': 37, 'max_depth': 8, 'max_bin': 782, 'cat_smooth': 47, 'cat_l2': 9.836836918724087}. Best is trial 1 with value: 0.7133635397332245.\u001b[0m\n"
     ]
    },
    {
     "name": "stdout",
     "output_type": "stream",
     "text": [
      "Early stopping, best iteration is:\n",
      "[45]\tvalid_0's rmse: 0.713561\n",
      "Training until validation scores don't improve for 200 rounds\n",
      "Early stopping, best iteration is:\n",
      "[59]\tvalid_0's rmse: 0.7136\n",
      "Training until validation scores don't improve for 200 rounds\n"
     ]
    },
    {
     "name": "stderr",
     "output_type": "stream",
     "text": [
      "\u001b[32m[I 2021-08-30 04:14:53,239]\u001b[0m Trial 4 finished with value: 0.7135706737560137 and parameters: {'reg_lambda': 17.907396698643602, 'reg_alpha': 5.352120538710614, 'subsample': 0.6482559997379675, 'colsample_bytree': 0.8517357832702208, 'learning_rate': 0.07534094026011733, 'min_child_samples': 33, 'num_leaves': 48, 'max_depth': 12, 'max_bin': 768, 'cat_smooth': 44, 'cat_l2': 0.18098654737357872}. Best is trial 1 with value: 0.7133635397332245.\u001b[0m\n"
     ]
    },
    {
     "name": "stdout",
     "output_type": "stream",
     "text": [
      "Early stopping, best iteration is:\n",
      "[48]\tvalid_0's rmse: 0.713644\n",
      "Training until validation scores don't improve for 200 rounds\n",
      "Early stopping, best iteration is:\n",
      "[98]\tvalid_0's rmse: 0.713467\n",
      "Training until validation scores don't improve for 200 rounds\n"
     ]
    },
    {
     "name": "stderr",
     "output_type": "stream",
     "text": [
      "\u001b[32m[I 2021-08-30 04:15:03,709]\u001b[0m Trial 5 finished with value: 0.7134602707204154 and parameters: {'reg_lambda': 13.505592503890858, 'reg_alpha': 6.9244262544294495, 'subsample': 0.3625577095198801, 'colsample_bytree': 0.662845685640649, 'learning_rate': 0.0576144585832115, 'min_child_samples': 35, 'num_leaves': 19, 'max_depth': 7, 'max_bin': 856, 'cat_smooth': 53, 'cat_l2': 0.007889238557950259}. Best is trial 1 with value: 0.7133635397332245.\u001b[0m\n"
     ]
    },
    {
     "name": "stdout",
     "output_type": "stream",
     "text": [
      "Early stopping, best iteration is:\n",
      "[83]\tvalid_0's rmse: 0.713486\n",
      "Training until validation scores don't improve for 200 rounds\n",
      "Early stopping, best iteration is:\n",
      "[83]\tvalid_0's rmse: 0.713417\n",
      "Training until validation scores don't improve for 200 rounds\n"
     ]
    },
    {
     "name": "stderr",
     "output_type": "stream",
     "text": [
      "\u001b[32m[I 2021-08-30 04:15:16,131]\u001b[0m Trial 6 finished with value: 0.713423310767661 and parameters: {'reg_lambda': 7.445400456990124, 'reg_alpha': 2.9629685193121493, 'subsample': 0.4340003963304979, 'colsample_bytree': 0.9308264580109804, 'learning_rate': 0.08242130056701857, 'min_child_samples': 36, 'num_leaves': 33, 'max_depth': 12, 'max_bin': 1053, 'cat_smooth': 59, 'cat_l2': 9.025918796545536}. Best is trial 1 with value: 0.7133635397332245.\u001b[0m\n"
     ]
    },
    {
     "name": "stdout",
     "output_type": "stream",
     "text": [
      "Early stopping, best iteration is:\n",
      "[58]\tvalid_0's rmse: 0.713542\n",
      "Training until validation scores don't improve for 200 rounds\n",
      "Early stopping, best iteration is:\n",
      "[205]\tvalid_0's rmse: 0.713364\n",
      "Training until validation scores don't improve for 200 rounds\n"
     ]
    },
    {
     "name": "stderr",
     "output_type": "stream",
     "text": [
      "\u001b[32m[I 2021-08-30 04:15:27,550]\u001b[0m Trial 7 finished with value: 0.71335588562799 and parameters: {'reg_lambda': 4.840600553527534, 'reg_alpha': 11.057096092544521, 'subsample': 0.6003486073849158, 'colsample_bytree': 0.8335037175102992, 'learning_rate': 0.03518311992039621, 'min_child_samples': 33, 'num_leaves': 4, 'max_depth': 15, 'max_bin': 1032, 'cat_smooth': 42, 'cat_l2': 0.3159912265543137}. Best is trial 7 with value: 0.71335588562799.\u001b[0m\n"
     ]
    },
    {
     "name": "stdout",
     "output_type": "stream",
     "text": [
      "Early stopping, best iteration is:\n",
      "[207]\tvalid_0's rmse: 0.713353\n",
      "Training until validation scores don't improve for 200 rounds\n",
      "Early stopping, best iteration is:\n",
      "[51]\tvalid_0's rmse: 0.71347\n",
      "Training until validation scores don't improve for 200 rounds\n"
     ]
    },
    {
     "name": "stderr",
     "output_type": "stream",
     "text": [
      "\u001b[32m[I 2021-08-30 04:15:37,226]\u001b[0m Trial 8 finished with value: 0.7134260850527594 and parameters: {'reg_lambda': 7.860477233684048, 'reg_alpha': 4.665214788388988, 'subsample': 0.5108971603536527, 'colsample_bytree': 0.7191477502492702, 'learning_rate': 0.09686592484446407, 'min_child_samples': 37, 'num_leaves': 24, 'max_depth': 9, 'max_bin': 861, 'cat_smooth': 46, 'cat_l2': 0.0011455840550588041}. Best is trial 7 with value: 0.71335588562799.\u001b[0m\n"
     ]
    },
    {
     "name": "stdout",
     "output_type": "stream",
     "text": [
      "Early stopping, best iteration is:\n",
      "[48]\tvalid_0's rmse: 0.713453\n",
      "Training until validation scores don't improve for 200 rounds\n",
      "Early stopping, best iteration is:\n",
      "[125]\tvalid_0's rmse: 0.713359\n",
      "Training until validation scores don't improve for 200 rounds\n"
     ]
    },
    {
     "name": "stderr",
     "output_type": "stream",
     "text": [
      "\u001b[32m[I 2021-08-30 04:15:47,415]\u001b[0m Trial 9 finished with value: 0.7133496567358177 and parameters: {'reg_lambda': 11.40127651341431, 'reg_alpha': 2.7113516256639083, 'subsample': 0.5752259352516689, 'colsample_bytree': 0.937192973904204, 'learning_rate': 0.053321667897300765, 'min_child_samples': 43, 'num_leaves': 7, 'max_depth': 15, 'max_bin': 995, 'cat_smooth': 48, 'cat_l2': 0.0035643742961932456}. Best is trial 9 with value: 0.7133496567358177.\u001b[0m\n"
     ]
    },
    {
     "name": "stdout",
     "output_type": "stream",
     "text": [
      "Early stopping, best iteration is:\n",
      "[144]\tvalid_0's rmse: 0.713353\n",
      "Training until validation scores don't improve for 200 rounds\n",
      "Early stopping, best iteration is:\n",
      "[142]\tvalid_0's rmse: 0.713335\n",
      "Training until validation scores don't improve for 200 rounds\n"
     ]
    },
    {
     "name": "stderr",
     "output_type": "stream",
     "text": [
      "\u001b[32m[I 2021-08-30 04:15:58,676]\u001b[0m Trial 10 finished with value: 0.7133294539443773 and parameters: {'reg_lambda': 0.2634809671810636, 'reg_alpha': 0.5208690144400698, 'subsample': 0.6551265862781982, 'colsample_bytree': 0.9012345209483889, 'learning_rate': 0.05132264536448306, 'min_child_samples': 49, 'num_leaves': 17, 'max_depth': 3, 'max_bin': 1148, 'cat_smooth': 75, 'cat_l2': 0.007260797173575946}. Best is trial 10 with value: 0.7133294539443773.\u001b[0m\n"
     ]
    },
    {
     "name": "stdout",
     "output_type": "stream",
     "text": [
      "Early stopping, best iteration is:\n",
      "[120]\tvalid_0's rmse: 0.713337\n",
      "Training until validation scores don't improve for 200 rounds\n",
      "Early stopping, best iteration is:\n",
      "[181]\tvalid_0's rmse: 0.713326\n",
      "Training until validation scores don't improve for 200 rounds\n"
     ]
    },
    {
     "name": "stderr",
     "output_type": "stream",
     "text": [
      "\u001b[32m[I 2021-08-30 04:16:08,717]\u001b[0m Trial 11 finished with value: 0.7133309594287723 and parameters: {'reg_lambda': 0.4491040198123414, 'reg_alpha': 0.08797481811830288, 'subsample': 0.6278184900649588, 'colsample_bytree': 0.9042524562856363, 'learning_rate': 0.05102930560364999, 'min_child_samples': 49, 'num_leaves': 14, 'max_depth': 2, 'max_bin': 1146, 'cat_smooth': 75, 'cat_l2': 0.006659784715720572}. Best is trial 10 with value: 0.7133294539443773.\u001b[0m\n"
     ]
    },
    {
     "name": "stdout",
     "output_type": "stream",
     "text": [
      "Early stopping, best iteration is:\n",
      "[175]\tvalid_0's rmse: 0.713344\n",
      "Training until validation scores don't improve for 200 rounds\n",
      "Early stopping, best iteration is:\n",
      "[218]\tvalid_0's rmse: 0.713323\n",
      "Training until validation scores don't improve for 200 rounds\n"
     ]
    },
    {
     "name": "stderr",
     "output_type": "stream",
     "text": [
      "\u001b[32m[I 2021-08-30 04:16:19,131]\u001b[0m Trial 12 finished with value: 0.7133268070951851 and parameters: {'reg_lambda': 0.8690000919820293, 'reg_alpha': 0.2988346804095643, 'subsample': 0.6566525907452626, 'colsample_bytree': 0.8834525807462618, 'learning_rate': 0.04837481160786926, 'min_child_samples': 50, 'num_leaves': 20, 'max_depth': 2, 'max_bin': 1147, 'cat_smooth': 73, 'cat_l2': 0.024808123536732993}. Best is trial 12 with value: 0.7133268070951851.\u001b[0m\n"
     ]
    },
    {
     "name": "stdout",
     "output_type": "stream",
     "text": [
      "Early stopping, best iteration is:\n",
      "[193]\tvalid_0's rmse: 0.71334\n",
      "Training until validation scores don't improve for 200 rounds\n",
      "Early stopping, best iteration is:\n",
      "[261]\tvalid_0's rmse: 0.713354\n",
      "Training until validation scores don't improve for 200 rounds\n"
     ]
    },
    {
     "name": "stderr",
     "output_type": "stream",
     "text": [
      "\u001b[32m[I 2021-08-30 04:16:31,686]\u001b[0m Trial 13 finished with value: 0.7133460683421868 and parameters: {'reg_lambda': 3.31663566641345, 'reg_alpha': 0.029323570221768236, 'subsample': 0.660558461840393, 'colsample_bytree': 0.7895074792687133, 'learning_rate': 0.03590565550989798, 'min_child_samples': 50, 'num_leaves': 26, 'max_depth': 2, 'max_bin': 1161, 'cat_smooth': 75, 'cat_l2': 0.03696692982766058}. Best is trial 12 with value: 0.7133268070951851.\u001b[0m\n"
     ]
    },
    {
     "name": "stdout",
     "output_type": "stream",
     "text": [
      "Early stopping, best iteration is:\n",
      "[298]\tvalid_0's rmse: 0.713348\n",
      "Training until validation scores don't improve for 200 rounds\n",
      "Early stopping, best iteration is:\n",
      "[81]\tvalid_0's rmse: 0.713434\n",
      "Training until validation scores don't improve for 200 rounds\n"
     ]
    },
    {
     "name": "stderr",
     "output_type": "stream",
     "text": [
      "\u001b[32m[I 2021-08-30 04:16:42,392]\u001b[0m Trial 14 finished with value: 0.7133896426286988 and parameters: {'reg_lambda': 0.20054741536491505, 'reg_alpha': 1.9528444518114911, 'subsample': 0.6642443940819543, 'colsample_bytree': 0.8786390984257232, 'learning_rate': 0.06708859326275196, 'min_child_samples': 50, 'num_leaves': 14, 'max_depth': 4, 'max_bin': 1108, 'cat_smooth': 68, 'cat_l2': 0.03135628603314571}. Best is trial 12 with value: 0.7133268070951851.\u001b[0m\n"
     ]
    },
    {
     "name": "stdout",
     "output_type": "stream",
     "text": [
      "Early stopping, best iteration is:\n",
      "[91]\tvalid_0's rmse: 0.713368\n",
      "Training until validation scores don't improve for 200 rounds\n",
      "Early stopping, best iteration is:\n",
      "[114]\tvalid_0's rmse: 0.713495\n",
      "Training until validation scores don't improve for 200 rounds\n"
     ]
    },
    {
     "name": "stderr",
     "output_type": "stream",
     "text": [
      "\u001b[32m[I 2021-08-30 04:16:54,861]\u001b[0m Trial 15 finished with value: 0.7134671377424149 and parameters: {'reg_lambda': 5.924952478827887, 'reg_alpha': 7.2188719100393675, 'subsample': 0.5778321272263802, 'colsample_bytree': 0.7781612470548641, 'learning_rate': 0.037436436863840364, 'min_child_samples': 44, 'num_leaves': 28, 'max_depth': 4, 'max_bin': 1104, 'cat_smooth': 69, 'cat_l2': 0.048316316093326046}. Best is trial 12 with value: 0.7133268070951851.\u001b[0m\n"
     ]
    },
    {
     "name": "stdout",
     "output_type": "stream",
     "text": [
      "Early stopping, best iteration is:\n",
      "[147]\tvalid_0's rmse: 0.713456\n",
      "Training until validation scores don't improve for 200 rounds\n",
      "Early stopping, best iteration is:\n",
      "[125]\tvalid_0's rmse: 0.713437\n",
      "Training until validation scores don't improve for 200 rounds\n"
     ]
    },
    {
     "name": "stderr",
     "output_type": "stream",
     "text": [
      "\u001b[32m[I 2021-08-30 04:17:08,472]\u001b[0m Trial 16 finished with value: 0.7134401925187 and parameters: {'reg_lambda': 2.7089508093970958, 'reg_alpha': 3.9835372947291217, 'subsample': 0.41394477026288723, 'colsample_bytree': 0.9919111867293106, 'learning_rate': 0.04478364556622482, 'min_child_samples': 3, 'num_leaves': 40, 'max_depth': 4, 'max_bin': 1098, 'cat_smooth': 25, 'cat_l2': 0.0010765719974351728}. Best is trial 12 with value: 0.7133268070951851.\u001b[0m\n"
     ]
    },
    {
     "name": "stdout",
     "output_type": "stream",
     "text": [
      "Early stopping, best iteration is:\n",
      "[121]\tvalid_0's rmse: 0.713457\n",
      "Training until validation scores don't improve for 200 rounds\n",
      "Early stopping, best iteration is:\n",
      "[117]\tvalid_0's rmse: 0.713347\n",
      "Training until validation scores don't improve for 200 rounds\n"
     ]
    },
    {
     "name": "stderr",
     "output_type": "stream",
     "text": [
      "\u001b[32m[I 2021-08-30 04:17:17,260]\u001b[0m Trial 17 finished with value: 0.7133412610588339 and parameters: {'reg_lambda': 0.07801412723362011, 'reg_alpha': 1.1015203526606951, 'subsample': 0.6097535256160277, 'colsample_bytree': 0.8794986831404419, 'learning_rate': 0.06478569548487353, 'min_child_samples': 26, 'num_leaves': 18, 'max_depth': 2, 'max_bin': 1148, 'cat_smooth': 69, 'cat_l2': 0.014415043796350138}. Best is trial 12 with value: 0.7133268070951851.\u001b[0m\n"
     ]
    },
    {
     "name": "stdout",
     "output_type": "stream",
     "text": [
      "Early stopping, best iteration is:\n",
      "[140]\tvalid_0's rmse: 0.713346\n",
      "Training until validation scores don't improve for 200 rounds\n",
      "Early stopping, best iteration is:\n",
      "[143]\tvalid_0's rmse: 0.713534\n",
      "Training until validation scores don't improve for 200 rounds\n",
      "Early stopping, best iteration is:\n",
      "[234]\tvalid_0's rmse: 0.713489\n"
     ]
    },
    {
     "name": "stderr",
     "output_type": "stream",
     "text": [
      "\u001b[32m[I 2021-08-30 04:17:35,301]\u001b[0m Trial 18 finished with value: 0.7134934306587354 and parameters: {'reg_lambda': 8.85425719927797, 'reg_alpha': 8.694162806146956, 'subsample': 0.5365631408855545, 'colsample_bytree': 0.7994549302457068, 'learning_rate': 0.027845693680518233, 'min_child_samples': 47, 'num_leaves': 59, 'max_depth': 5, 'max_bin': 1059, 'cat_smooth': 63, 'cat_l2': 0.11040388674889862}. Best is trial 12 with value: 0.7133268070951851.\u001b[0m\n"
     ]
    },
    {
     "name": "stdout",
     "output_type": "stream",
     "text": [
      "Training until validation scores don't improve for 200 rounds\n",
      "Early stopping, best iteration is:\n",
      "[106]\tvalid_0's rmse: 0.713365\n",
      "Training until validation scores don't improve for 200 rounds\n"
     ]
    },
    {
     "name": "stderr",
     "output_type": "stream",
     "text": [
      "\u001b[32m[I 2021-08-30 04:17:45,439]\u001b[0m Trial 19 finished with value: 0.7133547317721802 and parameters: {'reg_lambda': 4.1564776033317425, 'reg_alpha': 0.14629987560362956, 'subsample': 0.46819240364583886, 'colsample_bytree': 0.907801998988772, 'learning_rate': 0.04565891091486857, 'min_child_samples': 28, 'num_leaves': 17, 'max_depth': 3, 'max_bin': 990, 'cat_smooth': 74, 'cat_l2': 0.0025255436190144143}. Best is trial 12 with value: 0.7133268070951851.\u001b[0m\n"
     ]
    },
    {
     "name": "stdout",
     "output_type": "stream",
     "text": [
      "Early stopping, best iteration is:\n",
      "[122]\tvalid_0's rmse: 0.713352\n",
      "Training until validation scores don't improve for 200 rounds\n",
      "Early stopping, best iteration is:\n",
      "[111]\tvalid_0's rmse: 0.713375\n",
      "Training until validation scores don't improve for 200 rounds\n"
     ]
    },
    {
     "name": "stderr",
     "output_type": "stream",
     "text": [
      "\u001b[32m[I 2021-08-30 04:17:54,236]\u001b[0m Trial 20 finished with value: 0.7133551206668214 and parameters: {'reg_lambda': 1.3293700487663518, 'reg_alpha': 3.3619073821974217, 'subsample': 0.6601283938953596, 'colsample_bytree': 0.8727862388448835, 'learning_rate': 0.06704786689557836, 'min_child_samples': 19, 'num_leaves': 10, 'max_depth': 2, 'max_bin': 1127, 'cat_smooth': 55, 'cat_l2': 1.9967888935673863}. Best is trial 12 with value: 0.7133268070951851.\u001b[0m\n"
     ]
    },
    {
     "name": "stdout",
     "output_type": "stream",
     "text": [
      "Early stopping, best iteration is:\n",
      "[131]\tvalid_0's rmse: 0.713346\n",
      "Training until validation scores don't improve for 200 rounds\n",
      "Early stopping, best iteration is:\n",
      "[139]\tvalid_0's rmse: 0.713348\n",
      "Training until validation scores don't improve for 200 rounds\n"
     ]
    },
    {
     "name": "stderr",
     "output_type": "stream",
     "text": [
      "\u001b[32m[I 2021-08-30 04:18:03,605]\u001b[0m Trial 21 finished with value: 0.7133397080798829 and parameters: {'reg_lambda': 0.8638620170982618, 'reg_alpha': 0.08157196403943208, 'subsample': 0.6270416089814025, 'colsample_bytree': 0.9131155203346357, 'learning_rate': 0.052616612141442906, 'min_child_samples': 50, 'num_leaves': 22, 'max_depth': 2, 'max_bin': 1158, 'cat_smooth': 75, 'cat_l2': 0.005995107577753928}. Best is trial 12 with value: 0.7133268070951851.\u001b[0m\n"
     ]
    },
    {
     "name": "stdout",
     "output_type": "stream",
     "text": [
      "Early stopping, best iteration is:\n",
      "[164]\tvalid_0's rmse: 0.713338\n",
      "Training until validation scores don't improve for 200 rounds\n",
      "Early stopping, best iteration is:\n",
      "[124]\tvalid_0's rmse: 0.713369\n",
      "Training until validation scores don't improve for 200 rounds\n"
     ]
    },
    {
     "name": "stderr",
     "output_type": "stream",
     "text": [
      "\u001b[32m[I 2021-08-30 04:18:15,016]\u001b[0m Trial 22 finished with value: 0.7133497337461002 and parameters: {'reg_lambda': 0.004660613181398765, 'reg_alpha': 1.567244507870287, 'subsample': 0.6296708552696619, 'colsample_bytree': 0.9063612281849586, 'learning_rate': 0.04596839022372861, 'min_child_samples': 40, 'num_leaves': 13, 'max_depth': 3, 'max_bin': 1079, 'cat_smooth': 71, 'cat_l2': 0.014943869131836271}. Best is trial 12 with value: 0.7133268070951851.\u001b[0m\n"
     ]
    },
    {
     "name": "stdout",
     "output_type": "stream",
     "text": [
      "Early stopping, best iteration is:\n",
      "[132]\tvalid_0's rmse: 0.713341\n",
      "Training until validation scores don't improve for 200 rounds\n",
      "Early stopping, best iteration is:\n",
      "[104]\tvalid_0's rmse: 0.713357\n",
      "Training until validation scores don't improve for 200 rounds\n"
     ]
    },
    {
     "name": "stderr",
     "output_type": "stream",
     "text": [
      "\u001b[32m[I 2021-08-30 04:18:25,679]\u001b[0m Trial 23 finished with value: 0.7133422231009965 and parameters: {'reg_lambda': 5.706212444437959, 'reg_alpha': 0.007193372070552678, 'subsample': 0.5737455227979513, 'colsample_bytree': 0.8482624076871256, 'learning_rate': 0.06117707738578092, 'min_child_samples': 46, 'num_leaves': 13, 'max_depth': 5, 'max_bin': 1137, 'cat_smooth': 64, 'cat_l2': 0.0018114898411477098}. Best is trial 12 with value: 0.7133268070951851.\u001b[0m\n"
     ]
    },
    {
     "name": "stdout",
     "output_type": "stream",
     "text": [
      "Early stopping, best iteration is:\n",
      "[100]\tvalid_0's rmse: 0.713353\n",
      "Training until validation scores don't improve for 200 rounds\n",
      "Early stopping, best iteration is:\n",
      "[141]\tvalid_0's rmse: 0.713361\n",
      "Training until validation scores don't improve for 200 rounds\n"
     ]
    },
    {
     "name": "stderr",
     "output_type": "stream",
     "text": [
      "\u001b[32m[I 2021-08-30 04:18:36,509]\u001b[0m Trial 24 finished with value: 0.713362850218317 and parameters: {'reg_lambda': 2.3022200302032108, 'reg_alpha': 2.2333121884711753, 'subsample': 0.6637078874316952, 'colsample_bytree': 0.9533340248084401, 'learning_rate': 0.05000229431489754, 'min_child_samples': 48, 'num_leaves': 31, 'max_depth': 3, 'max_bin': 1155, 'cat_smooth': 75, 'cat_l2': 0.08056161676513501}. Best is trial 12 with value: 0.7133268070951851.\u001b[0m\n"
     ]
    },
    {
     "name": "stdout",
     "output_type": "stream",
     "text": [
      "Early stopping, best iteration is:\n",
      "[125]\tvalid_0's rmse: 0.713375\n",
      "Training until validation scores don't improve for 200 rounds\n",
      "Early stopping, best iteration is:\n",
      "[170]\tvalid_0's rmse: 0.713337\n",
      "Training until validation scores don't improve for 200 rounds\n"
     ]
    },
    {
     "name": "stderr",
     "output_type": "stream",
     "text": [
      "\u001b[32m[I 2021-08-30 04:18:46,542]\u001b[0m Trial 25 finished with value: 0.7133473341085509 and parameters: {'reg_lambda': 3.673609383821232, 'reg_alpha': 0.8436717599017696, 'subsample': 0.6124155279482547, 'colsample_bytree': 0.8140757477676782, 'learning_rate': 0.07422912092706364, 'min_child_samples': 41, 'num_leaves': 3, 'max_depth': 5, 'max_bin': 1117, 'cat_smooth': 66, 'cat_l2': 0.015890586929335225}. Best is trial 12 with value: 0.7133268070951851.\u001b[0m\n"
     ]
    },
    {
     "name": "stdout",
     "output_type": "stream",
     "text": [
      "Early stopping, best iteration is:\n",
      "[140]\tvalid_0's rmse: 0.713373\n",
      "Training until validation scores don't improve for 200 rounds\n",
      "Early stopping, best iteration is:\n",
      "[178]\tvalid_0's rmse: 0.713359\n",
      "Training until validation scores don't improve for 200 rounds\n"
     ]
    },
    {
     "name": "stderr",
     "output_type": "stream",
     "text": [
      "\u001b[32m[I 2021-08-30 04:18:56,527]\u001b[0m Trial 26 finished with value: 0.7133572142474576 and parameters: {'reg_lambda': 1.3550932665814064, 'reg_alpha': 0.6251704742449219, 'subsample': 0.6409898862820202, 'colsample_bytree': 0.8896163112694229, 'learning_rate': 0.04088500018059304, 'min_child_samples': 50, 'num_leaves': 21, 'max_depth': 2, 'max_bin': 1026, 'cat_smooth': 72, 'cat_l2': 0.005739906674765499}. Best is trial 12 with value: 0.7133268070951851.\u001b[0m\n"
     ]
    },
    {
     "name": "stdout",
     "output_type": "stream",
     "text": [
      "Early stopping, best iteration is:\n",
      "[201]\tvalid_0's rmse: 0.713362\n",
      "Training until validation scores don't improve for 200 rounds\n",
      "Early stopping, best iteration is:\n",
      "[201]\tvalid_0's rmse: 0.713394\n",
      "Training until validation scores don't improve for 200 rounds\n"
     ]
    },
    {
     "name": "stderr",
     "output_type": "stream",
     "text": [
      "\u001b[32m[I 2021-08-30 04:19:09,029]\u001b[0m Trial 27 finished with value: 0.7133765270293868 and parameters: {'reg_lambda': 6.076332373550635, 'reg_alpha': 1.9130190328837113, 'subsample': 0.5913254296472731, 'colsample_bytree': 0.7519136716577095, 'learning_rate': 0.028626222109705512, 'min_child_samples': 46, 'num_leaves': 15, 'max_depth': 3, 'max_bin': 1084, 'cat_smooth': 59, 'cat_l2': 0.022250900537604815}. Best is trial 12 with value: 0.7133268070951851.\u001b[0m\n"
     ]
    },
    {
     "name": "stdout",
     "output_type": "stream",
     "text": [
      "Early stopping, best iteration is:\n",
      "[227]\tvalid_0's rmse: 0.71337\n",
      "Training until validation scores don't improve for 200 rounds\n",
      "Early stopping, best iteration is:\n",
      "[157]\tvalid_0's rmse: 0.713359\n",
      "Training until validation scores don't improve for 200 rounds\n"
     ]
    },
    {
     "name": "stderr",
     "output_type": "stream",
     "text": [
      "\u001b[32m[I 2021-08-30 04:19:20,895]\u001b[0m Trial 28 finished with value: 0.7133569312016007 and parameters: {'reg_lambda': 0.09025370222103937, 'reg_alpha': 3.5839003817055177, 'subsample': 0.5464155265988371, 'colsample_bytree': 0.8593545236561634, 'learning_rate': 0.05641981452865167, 'min_child_samples': 39, 'num_leaves': 10, 'max_depth': 6, 'max_bin': 1161, 'cat_smooth': 27, 'cat_l2': 0.0065544206051565855}. Best is trial 12 with value: 0.7133268070951851.\u001b[0m\n"
     ]
    },
    {
     "name": "stdout",
     "output_type": "stream",
     "text": [
      "Early stopping, best iteration is:\n",
      "[155]\tvalid_0's rmse: 0.713378\n",
      "Training until validation scores don't improve for 200 rounds\n",
      "Early stopping, best iteration is:\n",
      "[222]\tvalid_0's rmse: 0.713405\n",
      "Training until validation scores don't improve for 200 rounds\n"
     ]
    },
    {
     "name": "stderr",
     "output_type": "stream",
     "text": [
      "\u001b[32m[I 2021-08-30 04:19:36,880]\u001b[0m Trial 29 finished with value: 0.7134055616911394 and parameters: {'reg_lambda': 1.7319626916115283, 'reg_alpha': 1.562230299058049, 'subsample': 0.531862911504736, 'colsample_bytree': 0.9272556496765181, 'learning_rate': 0.02405574710353151, 'min_child_samples': 5, 'num_leaves': 29, 'max_depth': 4, 'max_bin': 929, 'cat_smooth': 60, 'cat_l2': 0.06841793291159051}. Best is trial 12 with value: 0.7133268070951851.\u001b[0m\n"
     ]
    },
    {
     "name": "stdout",
     "output_type": "stream",
     "text": [
      "Early stopping, best iteration is:\n",
      "[181]\tvalid_0's rmse: 0.713422\n",
      "Number of finished trials: 30\n",
      "Best trial: {'reg_lambda': 0.8690000919820293, 'reg_alpha': 0.2988346804095643, 'subsample': 0.6566525907452626, 'colsample_bytree': 0.8834525807462618, 'learning_rate': 0.04837481160786926, 'min_child_samples': 50, 'num_leaves': 20, 'max_depth': 2, 'max_bin': 1147, 'cat_smooth': 73, 'cat_l2': 0.024808123536732993}\n"
     ]
    }
   ],
   "source": [
    "study = optuna.create_study(direction='minimize')\n",
    "study.optimize(objective,n_trials= 30)\n",
    "print('Number of finished trials:', len(study.trials))\n",
    "print('Best trial:', study.best_trial.params)"
   ]
  },
  {
   "cell_type": "code",
   "execution_count": 14,
   "id": "26c1578c",
   "metadata": {
    "execution": {
     "iopub.execute_input": "2021-08-30T04:19:37.009144Z",
     "iopub.status.busy": "2021-08-30T04:19:37.008452Z",
     "iopub.status.idle": "2021-08-30T04:19:37.012867Z",
     "shell.execute_reply": "2021-08-30T04:19:37.012290Z"
    },
    "papermill": {
     "duration": 0.06379,
     "end_time": "2021-08-30T04:19:37.013047",
     "exception": false,
     "start_time": "2021-08-30T04:19:36.949257",
     "status": "completed"
    },
    "tags": []
   },
   "outputs": [
    {
     "data": {
      "text/plain": [
       "{'reg_lambda': 0.8690000919820293,\n",
       " 'reg_alpha': 0.2988346804095643,\n",
       " 'subsample': 0.6566525907452626,\n",
       " 'colsample_bytree': 0.8834525807462618,\n",
       " 'learning_rate': 0.04837481160786926,\n",
       " 'min_child_samples': 50,\n",
       " 'num_leaves': 20,\n",
       " 'max_depth': 2,\n",
       " 'max_bin': 1147,\n",
       " 'cat_smooth': 73,\n",
       " 'cat_l2': 0.024808123536732993}"
      ]
     },
     "execution_count": 14,
     "metadata": {},
     "output_type": "execute_result"
    }
   ],
   "source": [
    "study.best_params"
   ]
  },
  {
   "cell_type": "markdown",
   "id": "f6b14174",
   "metadata": {
    "papermill": {
     "duration": 0.053801,
     "end_time": "2021-08-30T04:19:37.121160",
     "exception": false,
     "start_time": "2021-08-30T04:19:37.067359",
     "status": "completed"
    },
    "tags": []
   },
   "source": [
    "# Log\n",
    "\n",
    "======= 5 preds ==========\n",
    "====== Ordinal encoding =========\n",
    "\n",
    "0.7133926867644429 no noise ver14\n",
    "\n",
    "====== One-hot encoding =========\n",
    "\n",
    "0.7133625023983746 no noise ver13\n",
    "\n",
    "wait nar\n",
    "\n",
    "======= 4 preds ==========\n",
    "\n",
    "====== Ordinal encoding =========\n",
    "\n",
    "0.7137357370735623 no noise ver1\n",
    "\n",
    "====== One-hot encoding =========\n",
    "\n",
    "0.7137291748487112 no noise ver2\n",
    "\n",
    "0.7137002996077744 no noise ver3 (narrow space) final\n",
    "\n",
    "======= 3 preds ==========\n",
    "\n",
    "0.7137535191229942 no noise ver5\n",
    "\n",
    "0.713726763788908 no noise ver6 (narrow space)\n",
    "\n",
    "0.7137241864554145 no noise ver7 (narrow space)\n",
    "\n",
    "0.7137232072697571 no noise ver8 (narrow space)\n",
    "\n",
    "0.7137179037352981 no noise ver9 (narrow space) final"
   ]
  }
 ],
 "metadata": {
  "kernelspec": {
   "display_name": "Python 3",
   "language": "python",
   "name": "python3"
  },
  "language_info": {
   "codemirror_mode": {
    "name": "ipython",
    "version": 3
   },
   "file_extension": ".py",
   "mimetype": "text/x-python",
   "name": "python",
   "nbconvert_exporter": "python",
   "pygments_lexer": "ipython3",
   "version": "3.7.10"
  },
  "papermill": {
   "default_parameters": {},
   "duration": 412.755384,
   "end_time": "2021-08-30T04:19:38.187889",
   "environment_variables": {},
   "exception": null,
   "input_path": "__notebook__.ipynb",
   "output_path": "__notebook__.ipynb",
   "parameters": {},
   "start_time": "2021-08-30T04:12:45.432505",
   "version": "2.3.3"
  }
 },
 "nbformat": 4,
 "nbformat_minor": 5
}
