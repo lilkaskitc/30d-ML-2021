{
 "cells": [
  {
   "cell_type": "code",
   "execution_count": 1,
   "id": "35d782c1",
   "metadata": {
    "_cell_guid": "b1076dfc-b9ad-4769-8c92-a6c4dae69d19",
    "_uuid": "8f2839f25d086af736a60e9eeb907d3b93b6e0e5",
    "execution": {
     "iopub.execute_input": "2021-08-28T10:25:56.232695Z",
     "iopub.status.busy": "2021-08-28T10:25:56.231926Z",
     "iopub.status.idle": "2021-08-28T10:25:58.577530Z",
     "shell.execute_reply": "2021-08-28T10:25:58.576672Z",
     "shell.execute_reply.started": "2021-08-28T08:36:32.287289Z"
    },
    "papermill": {
     "duration": 2.376482,
     "end_time": "2021-08-28T10:25:58.577741",
     "exception": false,
     "start_time": "2021-08-28T10:25:56.201259",
     "status": "completed"
    },
    "tags": []
   },
   "outputs": [
    {
     "data": {
      "text/html": [
       "<style type='text/css'>\n",
       ".datatable table.frame { margin-bottom: 0; }\n",
       ".datatable table.frame thead { border-bottom: none; }\n",
       ".datatable table.frame tr.coltypes td {  color: #FFFFFF;  line-height: 6px;  padding: 0 0.5em;}\n",
       ".datatable .bool    { background: #DDDD99; }\n",
       ".datatable .object  { background: #565656; }\n",
       ".datatable .int     { background: #5D9E5D; }\n",
       ".datatable .float   { background: #4040CC; }\n",
       ".datatable .str     { background: #CC4040; }\n",
       ".datatable .time    { background: #40CC40; }\n",
       ".datatable .row_index {  background: var(--jp-border-color3);  border-right: 1px solid var(--jp-border-color0);  color: var(--jp-ui-font-color3);  font-size: 9px;}\n",
       ".datatable .frame tbody td { text-align: left; }\n",
       ".datatable .frame tr.coltypes .row_index {  background: var(--jp-border-color0);}\n",
       ".datatable th:nth-child(2) { padding-left: 12px; }\n",
       ".datatable .hellipsis {  color: var(--jp-cell-editor-border-color);}\n",
       ".datatable .vellipsis {  background: var(--jp-layout-color0);  color: var(--jp-cell-editor-border-color);}\n",
       ".datatable .na {  color: var(--jp-cell-editor-border-color);  font-size: 80%;}\n",
       ".datatable .sp {  opacity: 0.25;}\n",
       ".datatable .footer { font-size: 9px; }\n",
       ".datatable .frame_dimensions {  background: var(--jp-border-color3);  border-top: 1px solid var(--jp-border-color0);  color: var(--jp-ui-font-color3);  display: inline-block;  opacity: 0.6;  padding: 1px 10px 1px 5px;}\n",
       "</style>\n"
      ],
      "text/plain": [
       "<IPython.core.display.HTML object>"
      ]
     },
     "metadata": {},
     "output_type": "display_data"
    }
   ],
   "source": [
    "# Familiar imports\n",
    "import numpy as np\n",
    "import pandas as pd\n",
    "import random\n",
    "import os\n",
    "import time\n",
    "from pathlib import Path\n",
    "\n",
    "from sklearn.preprocessing import StandardScaler\n",
    "from sklearn.model_selection import KFold, train_test_split\n",
    "from sklearn.metrics import mean_squared_error\n",
    "from sklearn.preprocessing import OrdinalEncoder, OneHotEncoder\n",
    "\n",
    "import lightgbm as lgb\n",
    "#import xgboost as xgb\n",
    "#import catboost as ctb\n",
    "\n",
    "import warnings\n",
    "warnings.simplefilter('ignore')"
   ]
  },
  {
   "cell_type": "markdown",
   "id": "9ad32214",
   "metadata": {
    "papermill": {
     "duration": 0.015378,
     "end_time": "2021-08-28T10:25:58.610799",
     "exception": false,
     "start_time": "2021-08-28T10:25:58.595421",
     "status": "completed"
    },
    "tags": []
   },
   "source": [
    "# Parameters"
   ]
  },
  {
   "cell_type": "code",
   "execution_count": 2,
   "id": "8abb7354",
   "metadata": {
    "execution": {
     "iopub.execute_input": "2021-08-28T10:25:58.649068Z",
     "iopub.status.busy": "2021-08-28T10:25:58.648295Z",
     "iopub.status.idle": "2021-08-28T10:25:58.650817Z",
     "shell.execute_reply": "2021-08-28T10:25:58.651285Z",
     "shell.execute_reply.started": "2021-08-28T08:36:32.294684Z"
    },
    "papermill": {
     "duration": 0.024872,
     "end_time": "2021-08-28T10:25:58.651464",
     "exception": false,
     "start_time": "2021-08-28T10:25:58.626592",
     "status": "completed"
    },
    "tags": []
   },
   "outputs": [],
   "source": [
    "target = 'target'\n",
    "\n",
    "DEBUG = False\n",
    "\n",
    "if DEBUG:\n",
    "    N_ESTIMATORS = 1\n",
    "    N_SPLITS = 2\n",
    "    SEED = 17\n",
    "    CVSEED = 17\n",
    "    EARLY_STOPPING_ROUNDS = 1\n",
    "    VERBOSE = 100\n",
    "    #N_ITERS = 2\n",
    "else:\n",
    "    N_SPLITS = 10\n",
    "    N_ESTIMATORS = 20000\n",
    "    EARLY_STOPPING_ROUNDS = 200\n",
    "    VERBOSE = 1000\n",
    "    SEED = 17\n",
    "    CVSEED = 17\n",
    "    #N_ITERS = 10"
   ]
  },
  {
   "cell_type": "code",
   "execution_count": 3,
   "id": "9786ca06",
   "metadata": {
    "execution": {
     "iopub.execute_input": "2021-08-28T10:25:58.687596Z",
     "iopub.status.busy": "2021-08-28T10:25:58.686956Z",
     "iopub.status.idle": "2021-08-28T10:25:58.690898Z",
     "shell.execute_reply": "2021-08-28T10:25:58.691526Z",
     "shell.execute_reply.started": "2021-08-28T08:36:32.316148Z"
    },
    "papermill": {
     "duration": 0.024783,
     "end_time": "2021-08-28T10:25:58.691700",
     "exception": false,
     "start_time": "2021-08-28T10:25:58.666917",
     "status": "completed"
    },
    "tags": []
   },
   "outputs": [],
   "source": [
    "def set_seed(seed=17):\n",
    "    random.seed(seed)\n",
    "    os.environ['PYTHONHASHSEED'] = str(seed)\n",
    "    np.random.seed(seed)\n",
    "    \n",
    "set_seed(SEED)"
   ]
  },
  {
   "cell_type": "markdown",
   "id": "2d080e1d",
   "metadata": {
    "papermill": {
     "duration": 0.014887,
     "end_time": "2021-08-28T10:25:58.721911",
     "exception": false,
     "start_time": "2021-08-28T10:25:58.707024",
     "status": "completed"
    },
    "tags": []
   },
   "source": [
    "# Load data"
   ]
  },
  {
   "cell_type": "code",
   "execution_count": 4,
   "id": "2631baa8",
   "metadata": {
    "execution": {
     "iopub.execute_input": "2021-08-28T10:25:58.757517Z",
     "iopub.status.busy": "2021-08-28T10:25:58.756767Z",
     "iopub.status.idle": "2021-08-28T10:26:03.586819Z",
     "shell.execute_reply": "2021-08-28T10:26:03.586320Z",
     "shell.execute_reply.started": "2021-08-28T08:36:32.329846Z"
    },
    "papermill": {
     "duration": 4.849849,
     "end_time": "2021-08-28T10:26:03.586985",
     "exception": false,
     "start_time": "2021-08-28T10:25:58.737136",
     "status": "completed"
    },
    "tags": []
   },
   "outputs": [
    {
     "data": {
      "text/html": [
       "<div>\n",
       "<style scoped>\n",
       "    .dataframe tbody tr th:only-of-type {\n",
       "        vertical-align: middle;\n",
       "    }\n",
       "\n",
       "    .dataframe tbody tr th {\n",
       "        vertical-align: top;\n",
       "    }\n",
       "\n",
       "    .dataframe thead th {\n",
       "        text-align: right;\n",
       "    }\n",
       "</style>\n",
       "<table border=\"1\" class=\"dataframe\">\n",
       "  <thead>\n",
       "    <tr style=\"text-align: right;\">\n",
       "      <th></th>\n",
       "      <th>id</th>\n",
       "      <th>cat0</th>\n",
       "      <th>cat1</th>\n",
       "      <th>cat2</th>\n",
       "      <th>cat3</th>\n",
       "      <th>cat4</th>\n",
       "      <th>cat5</th>\n",
       "      <th>cat6</th>\n",
       "      <th>cat7</th>\n",
       "      <th>cat8</th>\n",
       "      <th>...</th>\n",
       "      <th>cont5</th>\n",
       "      <th>cont6</th>\n",
       "      <th>cont7</th>\n",
       "      <th>cont8</th>\n",
       "      <th>cont9</th>\n",
       "      <th>cont10</th>\n",
       "      <th>cont11</th>\n",
       "      <th>cont12</th>\n",
       "      <th>cont13</th>\n",
       "      <th>target</th>\n",
       "    </tr>\n",
       "  </thead>\n",
       "  <tbody>\n",
       "    <tr>\n",
       "      <th>0</th>\n",
       "      <td>1</td>\n",
       "      <td>B</td>\n",
       "      <td>B</td>\n",
       "      <td>B</td>\n",
       "      <td>C</td>\n",
       "      <td>B</td>\n",
       "      <td>B</td>\n",
       "      <td>A</td>\n",
       "      <td>E</td>\n",
       "      <td>C</td>\n",
       "      <td>...</td>\n",
       "      <td>0.400361</td>\n",
       "      <td>0.160266</td>\n",
       "      <td>0.310921</td>\n",
       "      <td>0.389470</td>\n",
       "      <td>0.267559</td>\n",
       "      <td>0.237281</td>\n",
       "      <td>0.377873</td>\n",
       "      <td>0.322401</td>\n",
       "      <td>0.869850</td>\n",
       "      <td>8.113634</td>\n",
       "    </tr>\n",
       "    <tr>\n",
       "      <th>1</th>\n",
       "      <td>2</td>\n",
       "      <td>B</td>\n",
       "      <td>B</td>\n",
       "      <td>A</td>\n",
       "      <td>A</td>\n",
       "      <td>B</td>\n",
       "      <td>D</td>\n",
       "      <td>A</td>\n",
       "      <td>F</td>\n",
       "      <td>A</td>\n",
       "      <td>...</td>\n",
       "      <td>0.533087</td>\n",
       "      <td>0.558922</td>\n",
       "      <td>0.516294</td>\n",
       "      <td>0.594928</td>\n",
       "      <td>0.341439</td>\n",
       "      <td>0.906013</td>\n",
       "      <td>0.921701</td>\n",
       "      <td>0.261975</td>\n",
       "      <td>0.465083</td>\n",
       "      <td>8.481233</td>\n",
       "    </tr>\n",
       "    <tr>\n",
       "      <th>2</th>\n",
       "      <td>3</td>\n",
       "      <td>A</td>\n",
       "      <td>A</td>\n",
       "      <td>A</td>\n",
       "      <td>C</td>\n",
       "      <td>B</td>\n",
       "      <td>D</td>\n",
       "      <td>A</td>\n",
       "      <td>D</td>\n",
       "      <td>A</td>\n",
       "      <td>...</td>\n",
       "      <td>0.650609</td>\n",
       "      <td>0.375348</td>\n",
       "      <td>0.902567</td>\n",
       "      <td>0.555205</td>\n",
       "      <td>0.843531</td>\n",
       "      <td>0.748809</td>\n",
       "      <td>0.620126</td>\n",
       "      <td>0.541474</td>\n",
       "      <td>0.763846</td>\n",
       "      <td>8.364351</td>\n",
       "    </tr>\n",
       "    <tr>\n",
       "      <th>3</th>\n",
       "      <td>4</td>\n",
       "      <td>B</td>\n",
       "      <td>B</td>\n",
       "      <td>A</td>\n",
       "      <td>C</td>\n",
       "      <td>B</td>\n",
       "      <td>D</td>\n",
       "      <td>A</td>\n",
       "      <td>E</td>\n",
       "      <td>C</td>\n",
       "      <td>...</td>\n",
       "      <td>0.668980</td>\n",
       "      <td>0.239061</td>\n",
       "      <td>0.732948</td>\n",
       "      <td>0.679618</td>\n",
       "      <td>0.574844</td>\n",
       "      <td>0.346010</td>\n",
       "      <td>0.714610</td>\n",
       "      <td>0.540150</td>\n",
       "      <td>0.280682</td>\n",
       "      <td>8.049253</td>\n",
       "    </tr>\n",
       "    <tr>\n",
       "      <th>4</th>\n",
       "      <td>6</td>\n",
       "      <td>A</td>\n",
       "      <td>A</td>\n",
       "      <td>A</td>\n",
       "      <td>C</td>\n",
       "      <td>B</td>\n",
       "      <td>D</td>\n",
       "      <td>A</td>\n",
       "      <td>E</td>\n",
       "      <td>A</td>\n",
       "      <td>...</td>\n",
       "      <td>0.686964</td>\n",
       "      <td>0.420667</td>\n",
       "      <td>0.648182</td>\n",
       "      <td>0.684501</td>\n",
       "      <td>0.956692</td>\n",
       "      <td>1.000773</td>\n",
       "      <td>0.776742</td>\n",
       "      <td>0.625849</td>\n",
       "      <td>0.250823</td>\n",
       "      <td>7.972260</td>\n",
       "    </tr>\n",
       "  </tbody>\n",
       "</table>\n",
       "<p>5 rows × 26 columns</p>\n",
       "</div>"
      ],
      "text/plain": [
       "   id cat0 cat1 cat2 cat3 cat4 cat5 cat6 cat7 cat8  ...     cont5     cont6  \\\n",
       "0   1    B    B    B    C    B    B    A    E    C  ...  0.400361  0.160266   \n",
       "1   2    B    B    A    A    B    D    A    F    A  ...  0.533087  0.558922   \n",
       "2   3    A    A    A    C    B    D    A    D    A  ...  0.650609  0.375348   \n",
       "3   4    B    B    A    C    B    D    A    E    C  ...  0.668980  0.239061   \n",
       "4   6    A    A    A    C    B    D    A    E    A  ...  0.686964  0.420667   \n",
       "\n",
       "      cont7     cont8     cont9    cont10    cont11    cont12    cont13  \\\n",
       "0  0.310921  0.389470  0.267559  0.237281  0.377873  0.322401  0.869850   \n",
       "1  0.516294  0.594928  0.341439  0.906013  0.921701  0.261975  0.465083   \n",
       "2  0.902567  0.555205  0.843531  0.748809  0.620126  0.541474  0.763846   \n",
       "3  0.732948  0.679618  0.574844  0.346010  0.714610  0.540150  0.280682   \n",
       "4  0.648182  0.684501  0.956692  1.000773  0.776742  0.625849  0.250823   \n",
       "\n",
       "     target  \n",
       "0  8.113634  \n",
       "1  8.481233  \n",
       "2  8.364351  \n",
       "3  8.049253  \n",
       "4  7.972260  \n",
       "\n",
       "[5 rows x 26 columns]"
      ]
     },
     "execution_count": 4,
     "metadata": {},
     "output_type": "execute_result"
    }
   ],
   "source": [
    "# Load the training data\n",
    "train = pd.read_csv(\"../input/30-days-of-ml/train.csv\")\n",
    "test = pd.read_csv(\"../input/30-days-of-ml/test.csv\")\n",
    "\n",
    "# Preview the data\n",
    "train.head()"
   ]
  },
  {
   "cell_type": "code",
   "execution_count": 5,
   "id": "9afa2f3b",
   "metadata": {
    "execution": {
     "iopub.execute_input": "2021-08-28T10:26:03.625266Z",
     "iopub.status.busy": "2021-08-28T10:26:03.624447Z",
     "iopub.status.idle": "2021-08-28T10:26:03.835157Z",
     "shell.execute_reply": "2021-08-28T10:26:03.834568Z",
     "shell.execute_reply.started": "2021-08-28T08:36:34.696444Z"
    },
    "papermill": {
     "duration": 0.232272,
     "end_time": "2021-08-28T10:26:03.835315",
     "exception": false,
     "start_time": "2021-08-28T10:26:03.603043",
     "status": "completed"
    },
    "tags": []
   },
   "outputs": [],
   "source": [
    "train['lgb_pred'] = np.load(\"../input/30d-ml-2021-lgb-no-pseudo/lgb_oof.npy\")\n",
    "test['lgb_pred'] = np.load(\"../input/30d-ml-2021-lgb-no-pseudo/lgb_pred.npy\")\n",
    "\n",
    "train['xgb_pred'] = np.load(\"../input/30d-ml-2021-xgb-no-pseudo/xgb_oof.npy\")\n",
    "test['xgb_pred'] = np.load(\"../input/30d-ml-2021-xgb-no-pseudo/xgb_pred.npy\")\n",
    "\n",
    "train['xgb2_pred'] = np.load(\"../input/30d-ml-2021-xgb-model-2-no-pseudo/xgb_oof.npy\")\n",
    "test['xgb2_pred'] = np.load(\"../input/30d-ml-2021-xgb-model-2-no-pseudo/xgb_pred.npy\")\n",
    "\n",
    "train['ctb_pred'] = np.load(\"../input/30d-ml-2021-catb-no-pseudo/ctb_oof.npy\")\n",
    "test['ctb_pred'] = np.load(\"../input/30d-ml-2021-catb-no-pseudo/ctb_pred.npy\")"
   ]
  },
  {
   "cell_type": "code",
   "execution_count": 6,
   "id": "9c733786",
   "metadata": {
    "execution": {
     "iopub.execute_input": "2021-08-28T10:26:03.875048Z",
     "iopub.status.busy": "2021-08-28T10:26:03.873456Z",
     "iopub.status.idle": "2021-08-28T10:26:03.987912Z",
     "shell.execute_reply": "2021-08-28T10:26:03.987264Z",
     "shell.execute_reply.started": "2021-08-28T08:36:34.736491Z"
    },
    "papermill": {
     "duration": 0.136578,
     "end_time": "2021-08-28T10:26:03.988079",
     "exception": false,
     "start_time": "2021-08-28T10:26:03.851501",
     "status": "completed"
    },
    "tags": []
   },
   "outputs": [
    {
     "data": {
      "text/html": [
       "<div>\n",
       "<style scoped>\n",
       "    .dataframe tbody tr th:only-of-type {\n",
       "        vertical-align: middle;\n",
       "    }\n",
       "\n",
       "    .dataframe tbody tr th {\n",
       "        vertical-align: top;\n",
       "    }\n",
       "\n",
       "    .dataframe thead th {\n",
       "        text-align: right;\n",
       "    }\n",
       "</style>\n",
       "<table border=\"1\" class=\"dataframe\">\n",
       "  <thead>\n",
       "    <tr style=\"text-align: right;\">\n",
       "      <th></th>\n",
       "      <th>cat0</th>\n",
       "      <th>cat1</th>\n",
       "      <th>cat2</th>\n",
       "      <th>cat3</th>\n",
       "      <th>cat4</th>\n",
       "      <th>cat5</th>\n",
       "      <th>cat6</th>\n",
       "      <th>cat7</th>\n",
       "      <th>cat8</th>\n",
       "      <th>cat9</th>\n",
       "      <th>...</th>\n",
       "      <th>cont8</th>\n",
       "      <th>cont9</th>\n",
       "      <th>cont10</th>\n",
       "      <th>cont11</th>\n",
       "      <th>cont12</th>\n",
       "      <th>cont13</th>\n",
       "      <th>lgb_pred</th>\n",
       "      <th>xgb_pred</th>\n",
       "      <th>xgb2_pred</th>\n",
       "      <th>ctb_pred</th>\n",
       "    </tr>\n",
       "  </thead>\n",
       "  <tbody>\n",
       "    <tr>\n",
       "      <th>0</th>\n",
       "      <td>B</td>\n",
       "      <td>B</td>\n",
       "      <td>B</td>\n",
       "      <td>C</td>\n",
       "      <td>B</td>\n",
       "      <td>B</td>\n",
       "      <td>A</td>\n",
       "      <td>E</td>\n",
       "      <td>C</td>\n",
       "      <td>N</td>\n",
       "      <td>...</td>\n",
       "      <td>0.389470</td>\n",
       "      <td>0.267559</td>\n",
       "      <td>0.237281</td>\n",
       "      <td>0.377873</td>\n",
       "      <td>0.322401</td>\n",
       "      <td>0.869850</td>\n",
       "      <td>8.438170</td>\n",
       "      <td>8.425334</td>\n",
       "      <td>8.430861</td>\n",
       "      <td>8.420048</td>\n",
       "    </tr>\n",
       "    <tr>\n",
       "      <th>1</th>\n",
       "      <td>B</td>\n",
       "      <td>B</td>\n",
       "      <td>A</td>\n",
       "      <td>A</td>\n",
       "      <td>B</td>\n",
       "      <td>D</td>\n",
       "      <td>A</td>\n",
       "      <td>F</td>\n",
       "      <td>A</td>\n",
       "      <td>O</td>\n",
       "      <td>...</td>\n",
       "      <td>0.594928</td>\n",
       "      <td>0.341439</td>\n",
       "      <td>0.906013</td>\n",
       "      <td>0.921701</td>\n",
       "      <td>0.261975</td>\n",
       "      <td>0.465083</td>\n",
       "      <td>8.361583</td>\n",
       "      <td>8.361334</td>\n",
       "      <td>8.328455</td>\n",
       "      <td>8.375351</td>\n",
       "    </tr>\n",
       "    <tr>\n",
       "      <th>2</th>\n",
       "      <td>A</td>\n",
       "      <td>A</td>\n",
       "      <td>A</td>\n",
       "      <td>C</td>\n",
       "      <td>B</td>\n",
       "      <td>D</td>\n",
       "      <td>A</td>\n",
       "      <td>D</td>\n",
       "      <td>A</td>\n",
       "      <td>F</td>\n",
       "      <td>...</td>\n",
       "      <td>0.555205</td>\n",
       "      <td>0.843531</td>\n",
       "      <td>0.748809</td>\n",
       "      <td>0.620126</td>\n",
       "      <td>0.541474</td>\n",
       "      <td>0.763846</td>\n",
       "      <td>8.174809</td>\n",
       "      <td>8.177517</td>\n",
       "      <td>8.190731</td>\n",
       "      <td>8.143454</td>\n",
       "    </tr>\n",
       "    <tr>\n",
       "      <th>3</th>\n",
       "      <td>B</td>\n",
       "      <td>B</td>\n",
       "      <td>A</td>\n",
       "      <td>C</td>\n",
       "      <td>B</td>\n",
       "      <td>D</td>\n",
       "      <td>A</td>\n",
       "      <td>E</td>\n",
       "      <td>C</td>\n",
       "      <td>K</td>\n",
       "      <td>...</td>\n",
       "      <td>0.679618</td>\n",
       "      <td>0.574844</td>\n",
       "      <td>0.346010</td>\n",
       "      <td>0.714610</td>\n",
       "      <td>0.540150</td>\n",
       "      <td>0.280682</td>\n",
       "      <td>8.376340</td>\n",
       "      <td>8.398763</td>\n",
       "      <td>8.401320</td>\n",
       "      <td>8.357306</td>\n",
       "    </tr>\n",
       "    <tr>\n",
       "      <th>4</th>\n",
       "      <td>A</td>\n",
       "      <td>A</td>\n",
       "      <td>A</td>\n",
       "      <td>C</td>\n",
       "      <td>B</td>\n",
       "      <td>D</td>\n",
       "      <td>A</td>\n",
       "      <td>E</td>\n",
       "      <td>A</td>\n",
       "      <td>N</td>\n",
       "      <td>...</td>\n",
       "      <td>0.684501</td>\n",
       "      <td>0.956692</td>\n",
       "      <td>1.000773</td>\n",
       "      <td>0.776742</td>\n",
       "      <td>0.625849</td>\n",
       "      <td>0.250823</td>\n",
       "      <td>8.140109</td>\n",
       "      <td>8.256151</td>\n",
       "      <td>8.255340</td>\n",
       "      <td>8.248562</td>\n",
       "    </tr>\n",
       "  </tbody>\n",
       "</table>\n",
       "<p>5 rows × 28 columns</p>\n",
       "</div>"
      ],
      "text/plain": [
       "  cat0 cat1 cat2 cat3 cat4 cat5 cat6 cat7 cat8 cat9  ...     cont8     cont9  \\\n",
       "0    B    B    B    C    B    B    A    E    C    N  ...  0.389470  0.267559   \n",
       "1    B    B    A    A    B    D    A    F    A    O  ...  0.594928  0.341439   \n",
       "2    A    A    A    C    B    D    A    D    A    F  ...  0.555205  0.843531   \n",
       "3    B    B    A    C    B    D    A    E    C    K  ...  0.679618  0.574844   \n",
       "4    A    A    A    C    B    D    A    E    A    N  ...  0.684501  0.956692   \n",
       "\n",
       "     cont10    cont11    cont12    cont13  lgb_pred  xgb_pred  xgb2_pred  \\\n",
       "0  0.237281  0.377873  0.322401  0.869850  8.438170  8.425334   8.430861   \n",
       "1  0.906013  0.921701  0.261975  0.465083  8.361583  8.361334   8.328455   \n",
       "2  0.748809  0.620126  0.541474  0.763846  8.174809  8.177517   8.190731   \n",
       "3  0.346010  0.714610  0.540150  0.280682  8.376340  8.398763   8.401320   \n",
       "4  1.000773  0.776742  0.625849  0.250823  8.140109  8.256151   8.255340   \n",
       "\n",
       "   ctb_pred  \n",
       "0  8.420048  \n",
       "1  8.375351  \n",
       "2  8.143454  \n",
       "3  8.357306  \n",
       "4  8.248562  \n",
       "\n",
       "[5 rows x 28 columns]"
      ]
     },
     "execution_count": 6,
     "metadata": {},
     "output_type": "execute_result"
    }
   ],
   "source": [
    "# Separate target from features\n",
    "y = train['target']\n",
    "features = train.drop(['id','target'], axis=1)\n",
    "\n",
    "# Preview features\n",
    "features.head()"
   ]
  },
  {
   "cell_type": "markdown",
   "id": "34bd74b6",
   "metadata": {
    "papermill": {
     "duration": 0.016156,
     "end_time": "2021-08-28T10:26:04.020912",
     "exception": false,
     "start_time": "2021-08-28T10:26:04.004756",
     "status": "completed"
    },
    "tags": []
   },
   "source": [
    "# Preprocessing"
   ]
  },
  {
   "cell_type": "code",
   "execution_count": 7,
   "id": "ca441005",
   "metadata": {
    "execution": {
     "iopub.execute_input": "2021-08-28T10:26:04.060490Z",
     "iopub.status.busy": "2021-08-28T10:26:04.059475Z",
     "iopub.status.idle": "2021-08-28T10:26:04.063118Z",
     "shell.execute_reply": "2021-08-28T10:26:04.063617Z",
     "shell.execute_reply.started": "2021-08-28T08:36:34.832753Z"
    },
    "papermill": {
     "duration": 0.026353,
     "end_time": "2021-08-28T10:26:04.063789",
     "exception": false,
     "start_time": "2021-08-28T10:26:04.037436",
     "status": "completed"
    },
    "tags": []
   },
   "outputs": [
    {
     "data": {
      "text/plain": [
       "\"\\n# List of categorical columns\\nobject_cols = [col for col in features.columns if 'cat' in col]\\n\\n# ordinal-encode categorical columns\\nX = features.copy()\\nX_test = test.drop(['id'], axis=1).copy()\\nordinal_encoder = OrdinalEncoder()\\nX[object_cols] = ordinal_encoder.fit_transform(features[object_cols])\\nX_test[object_cols] = ordinal_encoder.transform(test[object_cols])\\n\\n# Preview the ordinal-encoded features\\nX.head()\\n\""
      ]
     },
     "execution_count": 7,
     "metadata": {},
     "output_type": "execute_result"
    }
   ],
   "source": [
    "'''\n",
    "# List of categorical columns\n",
    "object_cols = [col for col in features.columns if 'cat' in col]\n",
    "\n",
    "# ordinal-encode categorical columns\n",
    "X = features.copy()\n",
    "X_test = test.drop(['id'], axis=1).copy()\n",
    "ordinal_encoder = OrdinalEncoder()\n",
    "X[object_cols] = ordinal_encoder.fit_transform(features[object_cols])\n",
    "X_test[object_cols] = ordinal_encoder.transform(test[object_cols])\n",
    "\n",
    "# Preview the ordinal-encoded features\n",
    "X.head()\n",
    "'''"
   ]
  },
  {
   "cell_type": "code",
   "execution_count": 8,
   "id": "b3ce1676",
   "metadata": {
    "execution": {
     "iopub.execute_input": "2021-08-28T10:26:04.145636Z",
     "iopub.status.busy": "2021-08-28T10:26:04.106390Z",
     "iopub.status.idle": "2021-08-28T10:26:07.703421Z",
     "shell.execute_reply": "2021-08-28T10:26:07.702769Z",
     "shell.execute_reply.started": "2021-08-28T08:36:37.392623Z"
    },
    "papermill": {
     "duration": 3.622819,
     "end_time": "2021-08-28T10:26:07.703576",
     "exception": false,
     "start_time": "2021-08-28T10:26:04.080757",
     "status": "completed"
    },
    "tags": []
   },
   "outputs": [
    {
     "data": {
      "text/html": [
       "<div>\n",
       "<style scoped>\n",
       "    .dataframe tbody tr th:only-of-type {\n",
       "        vertical-align: middle;\n",
       "    }\n",
       "\n",
       "    .dataframe tbody tr th {\n",
       "        vertical-align: top;\n",
       "    }\n",
       "\n",
       "    .dataframe thead th {\n",
       "        text-align: right;\n",
       "    }\n",
       "</style>\n",
       "<table border=\"1\" class=\"dataframe\">\n",
       "  <thead>\n",
       "    <tr style=\"text-align: right;\">\n",
       "      <th></th>\n",
       "      <th>cont0</th>\n",
       "      <th>cont1</th>\n",
       "      <th>cont2</th>\n",
       "      <th>cont3</th>\n",
       "      <th>cont4</th>\n",
       "      <th>cont5</th>\n",
       "      <th>cont6</th>\n",
       "      <th>cont7</th>\n",
       "      <th>cont8</th>\n",
       "      <th>cont9</th>\n",
       "      <th>...</th>\n",
       "      <th>ohe_46</th>\n",
       "      <th>ohe_47</th>\n",
       "      <th>ohe_48</th>\n",
       "      <th>ohe_49</th>\n",
       "      <th>ohe_50</th>\n",
       "      <th>ohe_51</th>\n",
       "      <th>ohe_52</th>\n",
       "      <th>ohe_53</th>\n",
       "      <th>ohe_54</th>\n",
       "      <th>ohe_55</th>\n",
       "    </tr>\n",
       "  </thead>\n",
       "  <tbody>\n",
       "    <tr>\n",
       "      <th>0</th>\n",
       "      <td>0.201470</td>\n",
       "      <td>-0.014822</td>\n",
       "      <td>0.669699</td>\n",
       "      <td>0.136278</td>\n",
       "      <td>0.610706</td>\n",
       "      <td>0.400361</td>\n",
       "      <td>0.160266</td>\n",
       "      <td>0.310921</td>\n",
       "      <td>0.389470</td>\n",
       "      <td>0.267559</td>\n",
       "      <td>...</td>\n",
       "      <td>0.0</td>\n",
       "      <td>0.0</td>\n",
       "      <td>0.0</td>\n",
       "      <td>0.0</td>\n",
       "      <td>0.0</td>\n",
       "      <td>0.0</td>\n",
       "      <td>0.0</td>\n",
       "      <td>0.0</td>\n",
       "      <td>1.0</td>\n",
       "      <td>0.0</td>\n",
       "    </tr>\n",
       "    <tr>\n",
       "      <th>1</th>\n",
       "      <td>0.743068</td>\n",
       "      <td>0.367411</td>\n",
       "      <td>1.021605</td>\n",
       "      <td>0.365798</td>\n",
       "      <td>0.276853</td>\n",
       "      <td>0.533087</td>\n",
       "      <td>0.558922</td>\n",
       "      <td>0.516294</td>\n",
       "      <td>0.594928</td>\n",
       "      <td>0.341439</td>\n",
       "      <td>...</td>\n",
       "      <td>0.0</td>\n",
       "      <td>0.0</td>\n",
       "      <td>0.0</td>\n",
       "      <td>0.0</td>\n",
       "      <td>0.0</td>\n",
       "      <td>0.0</td>\n",
       "      <td>0.0</td>\n",
       "      <td>0.0</td>\n",
       "      <td>0.0</td>\n",
       "      <td>1.0</td>\n",
       "    </tr>\n",
       "    <tr>\n",
       "      <th>2</th>\n",
       "      <td>0.742708</td>\n",
       "      <td>0.310383</td>\n",
       "      <td>-0.012673</td>\n",
       "      <td>0.576957</td>\n",
       "      <td>0.285074</td>\n",
       "      <td>0.650609</td>\n",
       "      <td>0.375348</td>\n",
       "      <td>0.902567</td>\n",
       "      <td>0.555205</td>\n",
       "      <td>0.843531</td>\n",
       "      <td>...</td>\n",
       "      <td>1.0</td>\n",
       "      <td>0.0</td>\n",
       "      <td>0.0</td>\n",
       "      <td>0.0</td>\n",
       "      <td>0.0</td>\n",
       "      <td>0.0</td>\n",
       "      <td>0.0</td>\n",
       "      <td>0.0</td>\n",
       "      <td>0.0</td>\n",
       "      <td>0.0</td>\n",
       "    </tr>\n",
       "    <tr>\n",
       "      <th>3</th>\n",
       "      <td>0.429551</td>\n",
       "      <td>0.620998</td>\n",
       "      <td>0.577942</td>\n",
       "      <td>0.280610</td>\n",
       "      <td>0.284667</td>\n",
       "      <td>0.668980</td>\n",
       "      <td>0.239061</td>\n",
       "      <td>0.732948</td>\n",
       "      <td>0.679618</td>\n",
       "      <td>0.574844</td>\n",
       "      <td>...</td>\n",
       "      <td>0.0</td>\n",
       "      <td>0.0</td>\n",
       "      <td>0.0</td>\n",
       "      <td>0.0</td>\n",
       "      <td>0.0</td>\n",
       "      <td>1.0</td>\n",
       "      <td>0.0</td>\n",
       "      <td>0.0</td>\n",
       "      <td>0.0</td>\n",
       "      <td>0.0</td>\n",
       "    </tr>\n",
       "    <tr>\n",
       "      <th>4</th>\n",
       "      <td>1.058291</td>\n",
       "      <td>0.367492</td>\n",
       "      <td>-0.052389</td>\n",
       "      <td>0.232407</td>\n",
       "      <td>0.287595</td>\n",
       "      <td>0.686964</td>\n",
       "      <td>0.420667</td>\n",
       "      <td>0.648182</td>\n",
       "      <td>0.684501</td>\n",
       "      <td>0.956692</td>\n",
       "      <td>...</td>\n",
       "      <td>0.0</td>\n",
       "      <td>0.0</td>\n",
       "      <td>0.0</td>\n",
       "      <td>0.0</td>\n",
       "      <td>0.0</td>\n",
       "      <td>0.0</td>\n",
       "      <td>0.0</td>\n",
       "      <td>0.0</td>\n",
       "      <td>1.0</td>\n",
       "      <td>0.0</td>\n",
       "    </tr>\n",
       "  </tbody>\n",
       "</table>\n",
       "<p>5 rows × 74 columns</p>\n",
       "</div>"
      ],
      "text/plain": [
       "      cont0     cont1     cont2     cont3     cont4     cont5     cont6  \\\n",
       "0  0.201470 -0.014822  0.669699  0.136278  0.610706  0.400361  0.160266   \n",
       "1  0.743068  0.367411  1.021605  0.365798  0.276853  0.533087  0.558922   \n",
       "2  0.742708  0.310383 -0.012673  0.576957  0.285074  0.650609  0.375348   \n",
       "3  0.429551  0.620998  0.577942  0.280610  0.284667  0.668980  0.239061   \n",
       "4  1.058291  0.367492 -0.052389  0.232407  0.287595  0.686964  0.420667   \n",
       "\n",
       "      cont7     cont8     cont9  ...  ohe_46  ohe_47  ohe_48  ohe_49  ohe_50  \\\n",
       "0  0.310921  0.389470  0.267559  ...     0.0     0.0     0.0     0.0     0.0   \n",
       "1  0.516294  0.594928  0.341439  ...     0.0     0.0     0.0     0.0     0.0   \n",
       "2  0.902567  0.555205  0.843531  ...     1.0     0.0     0.0     0.0     0.0   \n",
       "3  0.732948  0.679618  0.574844  ...     0.0     0.0     0.0     0.0     0.0   \n",
       "4  0.648182  0.684501  0.956692  ...     0.0     0.0     0.0     0.0     0.0   \n",
       "\n",
       "   ohe_51  ohe_52  ohe_53  ohe_54  ohe_55  \n",
       "0     0.0     0.0     0.0     1.0     0.0  \n",
       "1     0.0     0.0     0.0     0.0     1.0  \n",
       "2     0.0     0.0     0.0     0.0     0.0  \n",
       "3     1.0     0.0     0.0     0.0     0.0  \n",
       "4     0.0     0.0     0.0     1.0     0.0  \n",
       "\n",
       "[5 rows x 74 columns]"
      ]
     },
     "execution_count": 8,
     "metadata": {},
     "output_type": "execute_result"
    }
   ],
   "source": [
    "\n",
    "# List of categorical columns\n",
    "object_cols = [col for col in features.columns if 'cat' in col]\n",
    "\n",
    "# one-hot-encode categorical columns\n",
    "X = features.copy()\n",
    "X_test = test.drop(['id'], axis=1).copy()\n",
    "\n",
    "oh_encoder = OneHotEncoder(sparse=False, handle_unknown=\"ignore\")\n",
    "X_ohe = oh_encoder.fit_transform(features[object_cols])\n",
    "X_test_ohe = oh_encoder.transform(test[object_cols])\n",
    "\n",
    "X_ohe = pd.DataFrame(X_ohe, columns=[f\"ohe_{i}\" for i in range(X_ohe.shape[1])])\n",
    "X_test_ohe = pd.DataFrame(X_test_ohe, columns=[f\"ohe_{i}\" for i in range(X_test_ohe.shape[1])])\n",
    "\n",
    "X = pd.concat([X, X_ohe], axis=1)\n",
    "X_test = pd.concat([X_test, X_test_ohe], axis=1)\n",
    "X = X.drop(object_cols, axis=1)\n",
    "X_test = X_test.drop(object_cols, axis=1)\n",
    "    \n",
    "# Preview the one-hot-encoded features\n",
    "X.head()\n"
   ]
  },
  {
   "cell_type": "code",
   "execution_count": 9,
   "id": "84bd4fd6",
   "metadata": {
    "execution": {
     "iopub.execute_input": "2021-08-28T10:26:07.761054Z",
     "iopub.status.busy": "2021-08-28T10:26:07.759678Z",
     "iopub.status.idle": "2021-08-28T10:26:07.928729Z",
     "shell.execute_reply": "2021-08-28T10:26:07.928146Z",
     "shell.execute_reply.started": "2021-08-28T08:36:37.400844Z"
    },
    "papermill": {
     "duration": 0.207636,
     "end_time": "2021-08-28T10:26:07.928887",
     "exception": false,
     "start_time": "2021-08-28T10:26:07.721251",
     "status": "completed"
    },
    "tags": []
   },
   "outputs": [],
   "source": [
    "scale_features = [col for col in features.columns if 'cont' in col]\n",
    "\n",
    "ss = StandardScaler()\n",
    "X[scale_features] = ss.fit_transform(features[scale_features])\n",
    "X_test[scale_features] = ss.transform(test[scale_features])"
   ]
  },
  {
   "cell_type": "code",
   "execution_count": 10,
   "id": "e4753881",
   "metadata": {
    "execution": {
     "iopub.execute_input": "2021-08-28T10:26:07.972936Z",
     "iopub.status.busy": "2021-08-28T10:26:07.972235Z",
     "iopub.status.idle": "2021-08-28T10:26:07.975385Z",
     "shell.execute_reply": "2021-08-28T10:26:07.974782Z",
     "shell.execute_reply.started": "2021-08-28T08:36:38.504645Z"
    },
    "papermill": {
     "duration": 0.029069,
     "end_time": "2021-08-28T10:26:07.975538",
     "exception": false,
     "start_time": "2021-08-28T10:26:07.946469",
     "status": "completed"
    },
    "tags": []
   },
   "outputs": [],
   "source": [
    "# Swap noise\n",
    "\n",
    "# Random\n",
    "def apply_noise_rn(df, p=.75):\n",
    "    should_not_swap = np.random.binomial(1, p, df.shape)\n",
    "    corrupted_df = df.where(should_not_swap == 1, np.random.permutation(df))\n",
    "    return corrupted_df\n",
    "\n",
    "# Row-wise\n",
    "def apply_noise_row(df, p=.75):\n",
    "    should_not_swap = np.zeros(df.shape)\n",
    "    for i in range(df.shape[0]):\n",
    "        for j in np.random.choice(df.shape[1],int(p*df.shape[1]),replace=False):\n",
    "            should_not_swap[i,j]=1 \n",
    "    corrupted_df = df.where(should_not_swap == 1, np.random.permutation(df))\n",
    "    return corrupted_df"
   ]
  },
  {
   "cell_type": "markdown",
   "id": "5408975c",
   "metadata": {
    "papermill": {
     "duration": 0.018233,
     "end_time": "2021-08-28T10:26:08.011803",
     "exception": false,
     "start_time": "2021-08-28T10:26:07.993570",
     "status": "completed"
    },
    "tags": []
   },
   "source": [
    "# Optuna"
   ]
  },
  {
   "cell_type": "code",
   "execution_count": 11,
   "id": "ad83e961",
   "metadata": {
    "execution": {
     "iopub.execute_input": "2021-08-28T10:26:08.069298Z",
     "iopub.status.busy": "2021-08-28T10:26:08.068483Z",
     "iopub.status.idle": "2021-08-28T10:26:18.366559Z",
     "shell.execute_reply": "2021-08-28T10:26:18.365781Z",
     "shell.execute_reply.started": "2021-08-28T08:36:38.513213Z"
    },
    "papermill": {
     "duration": 10.337431,
     "end_time": "2021-08-28T10:26:18.366714",
     "exception": false,
     "start_time": "2021-08-28T10:26:08.029283",
     "status": "completed"
    },
    "tags": []
   },
   "outputs": [
    {
     "name": "stdout",
     "output_type": "stream",
     "text": [
      "\u001b[33mWARNING: Running pip as root will break packages and permissions. You should install packages reliably by using venv: https://pip.pypa.io/warnings/venv\u001b[0m\r\n"
     ]
    }
   ],
   "source": [
    "# Optuna for parameter search\n",
    "!pip install -q optuna\n",
    "\n",
    "import optuna\n",
    "import pickle"
   ]
  },
  {
   "cell_type": "code",
   "execution_count": 12,
   "id": "552efddc",
   "metadata": {
    "execution": {
     "iopub.execute_input": "2021-08-28T10:26:18.417209Z",
     "iopub.status.busy": "2021-08-28T10:26:18.416464Z",
     "iopub.status.idle": "2021-08-28T10:26:18.419815Z",
     "shell.execute_reply": "2021-08-28T10:26:18.419299Z",
     "shell.execute_reply.started": "2021-08-28T08:36:47.005101Z"
    },
    "papermill": {
     "duration": 0.035336,
     "end_time": "2021-08-28T10:26:18.419984",
     "exception": false,
     "start_time": "2021-08-28T10:26:18.384648",
     "status": "completed"
    },
    "tags": []
   },
   "outputs": [],
   "source": [
    "# for the fixed learning rate, use the opt n iterations and tune the tree hyperparameters\n",
    "def objective(trial, X=X, y=y):\n",
    "  \"\"\"\n",
    "  \"\"\"\n",
    "  param_space = {\n",
    "               #'device':'gpu',  # Use GPU acceleration\n",
    "               #'boosting_type': 'gbdt',\n",
    "               'reg_lambda':trial.suggest_uniform('reg_lambda', 0.01, 25),\n",
    "              'reg_alpha':trial.suggest_uniform('reg_alpha', 7, 31),\n",
    "                'subsample': trial.suggest_uniform('subsample', 0.513, 0.913),\n",
    "              'colsample_bytree':trial.suggest_uniform('colsample_bytree', 0.601, 1.0),\n",
    "                #'subsample_freq': trial.suggest_int('subsample_freq', 1, 10),\n",
    "               'learning_rate':trial.suggest_uniform('learning_rate', 1e-2, 1e-1),\n",
    "                 'min_child_samples':trial.suggest_int('min_child_samples', 2, 45),\n",
    "              'num_leaves':trial.suggest_int('num_leaves', 5, 60),\n",
    "              'max_depth':trial.suggest_int('max_depth', 20, 34),\n",
    "              #'min_split_gain': trial.suggest_float('min_split_gain', 0.0, 0.005),\n",
    "              #'class_weight':trial.suggest_categorical('class_weight',['balanced',None]),\n",
    "               'n_estimators':N_ESTIMATORS,\n",
    "                'n_jobs' : -1,\n",
    "              'metric':'rmse',\n",
    "              'max_bin':trial.suggest_int('max_bin', 399, 799),\n",
    "              'cat_smooth':trial.suggest_int('cat_smooth', 32, 82),\n",
    "              'cat_l2':trial.suggest_loguniform('cat_l2', 1e-3, 50)\n",
    "                }\n",
    "            \n",
    "  seed_list=[SEED, SEED+1]\n",
    "  #kf = KFold(n_splits=N_SPLITS, shuffle=True, random_state=CVSEED)\n",
    "  #lgb_oof = np.zeros(train.shape[0])\n",
    "  #lgb_pred = np.zeros(test.shape[0])\n",
    "  X_tr, X_va, y_tr, y_va = train_test_split(X,y,test_size=.2,random_state=CVSEED)\n",
    "  pred=np.zeros(y_va.shape[0])\n",
    "    \n",
    "  #for (trn_idx, val_idx) in enumerate(kf.split(X, y)):\n",
    "  #print(f\"===== fold {fold} =====\")\n",
    "    \n",
    "  #X_tr = apply_noise_row(X_tr)\n",
    "\n",
    "  \n",
    "  #start = time.time()\n",
    "  for inseed in seed_list:\n",
    "    param_space['random_state'] = inseed\n",
    "\n",
    "    model = lgb.LGBMRegressor(**param_space)\n",
    "    model.fit(\n",
    "        X_tr, \n",
    "        y_tr,\n",
    "        eval_set=[(X_va, y_va)],\n",
    "        eval_metric='rmse',\n",
    "        early_stopping_rounds=EARLY_STOPPING_ROUNDS,\n",
    "        verbose=VERBOSE,\n",
    "        categorical_feature=[0, 1, 2, 3, 4, 5, 6, 7, 8, 9]\n",
    "        #callbacks=[optuna.integration.LightGBMPruningCallback(trial, metric='rmse')],\n",
    "    )\n",
    "\n",
    "\n",
    "    pred += model.predict(X_va) / len(seed_list)\n",
    "    \n",
    "  #elapsed = time.time() - start\n",
    "  rmse = mean_squared_error(y_va, pred, squared=False)\n",
    "  #print(f\"fold {fold} - lgb rmse: {rmse:.6f}, elapsed time: {elapsed:.2f}sec\\n\")            \n",
    "  \n",
    "  #print(f\"oof lgb_rmse = {mean_squared_error(train[target], lgb_oof, squared=False)}\")\n",
    "\n",
    "  \n",
    "  return rmse"
   ]
  },
  {
   "cell_type": "code",
   "execution_count": 13,
   "id": "f6d3912a",
   "metadata": {
    "execution": {
     "iopub.execute_input": "2021-08-28T10:26:18.461526Z",
     "iopub.status.busy": "2021-08-28T10:26:18.460739Z",
     "iopub.status.idle": "2021-08-28T10:31:57.760131Z",
     "shell.execute_reply": "2021-08-28T10:31:57.759561Z",
     "shell.execute_reply.started": "2021-08-28T08:36:47.019688Z"
    },
    "papermill": {
     "duration": 339.322536,
     "end_time": "2021-08-28T10:31:57.760301",
     "exception": false,
     "start_time": "2021-08-28T10:26:18.437765",
     "status": "completed"
    },
    "tags": []
   },
   "outputs": [
    {
     "name": "stderr",
     "output_type": "stream",
     "text": [
      "\u001b[32m[I 2021-08-28 10:26:18,458]\u001b[0m A new study created in memory with name: no-name-1661ef11-0a84-4957-bb07-360f0d453377\u001b[0m\n"
     ]
    },
    {
     "name": "stdout",
     "output_type": "stream",
     "text": [
      "Training until validation scores don't improve for 200 rounds\n",
      "Early stopping, best iteration is:\n",
      "[163]\tvalid_0's rmse: 0.713839\n",
      "Training until validation scores don't improve for 200 rounds\n",
      "Early stopping, best iteration is:\n",
      "[157]\tvalid_0's rmse: 0.713815\n"
     ]
    },
    {
     "name": "stderr",
     "output_type": "stream",
     "text": [
      "\u001b[32m[I 2021-08-28 10:26:31,731]\u001b[0m Trial 0 finished with value: 0.713817130596516 and parameters: {'reg_lambda': 21.32265451668209, 'reg_alpha': 9.490127657609712, 'subsample': 0.6183308013887656, 'colsample_bytree': 0.6508665905956785, 'learning_rate': 0.02830386627318216, 'min_child_samples': 28, 'num_leaves': 22, 'max_depth': 31, 'max_bin': 526, 'cat_smooth': 65, 'cat_l2': 21.69646543711112}. Best is trial 0 with value: 0.713817130596516.\u001b[0m\n"
     ]
    },
    {
     "name": "stdout",
     "output_type": "stream",
     "text": [
      "Training until validation scores don't improve for 200 rounds\n",
      "Early stopping, best iteration is:\n",
      "[69]\tvalid_0's rmse: 0.713772\n",
      "Training until validation scores don't improve for 200 rounds\n"
     ]
    },
    {
     "name": "stderr",
     "output_type": "stream",
     "text": [
      "\u001b[32m[I 2021-08-28 10:26:41,886]\u001b[0m Trial 1 finished with value: 0.713762641025865 and parameters: {'reg_lambda': 19.094788397260594, 'reg_alpha': 29.164994475889145, 'subsample': 0.6874427872007026, 'colsample_bytree': 0.8082250080284827, 'learning_rate': 0.07500664489612797, 'min_child_samples': 34, 'num_leaves': 15, 'max_depth': 20, 'max_bin': 438, 'cat_smooth': 80, 'cat_l2': 2.0370622967946463}. Best is trial 1 with value: 0.713762641025865.\u001b[0m\n"
     ]
    },
    {
     "name": "stdout",
     "output_type": "stream",
     "text": [
      "Early stopping, best iteration is:\n",
      "[57]\tvalid_0's rmse: 0.713773\n",
      "Training until validation scores don't improve for 200 rounds\n",
      "Early stopping, best iteration is:\n",
      "[133]\tvalid_0's rmse: 0.713921\n",
      "Training until validation scores don't improve for 200 rounds\n",
      "Early stopping, best iteration is:\n",
      "[138]\tvalid_0's rmse: 0.713915\n"
     ]
    },
    {
     "name": "stderr",
     "output_type": "stream",
     "text": [
      "\u001b[32m[I 2021-08-28 10:26:55,702]\u001b[0m Trial 2 finished with value: 0.7139104039280345 and parameters: {'reg_lambda': 0.5843903690142668, 'reg_alpha': 12.714474618451394, 'subsample': 0.6876136742620087, 'colsample_bytree': 0.9967062508923845, 'learning_rate': 0.02855261088178062, 'min_child_samples': 37, 'num_leaves': 26, 'max_depth': 22, 'max_bin': 705, 'cat_smooth': 48, 'cat_l2': 2.6939538191072288}. Best is trial 1 with value: 0.713762641025865.\u001b[0m\n"
     ]
    },
    {
     "name": "stdout",
     "output_type": "stream",
     "text": [
      "Training until validation scores don't improve for 200 rounds\n",
      "Early stopping, best iteration is:\n",
      "[46]\tvalid_0's rmse: 0.713935\n",
      "Training until validation scores don't improve for 200 rounds\n"
     ]
    },
    {
     "name": "stderr",
     "output_type": "stream",
     "text": [
      "\u001b[32m[I 2021-08-28 10:27:04,985]\u001b[0m Trial 3 finished with value: 0.7139127211268006 and parameters: {'reg_lambda': 14.420071945066345, 'reg_alpha': 9.937854962810608, 'subsample': 0.7302845622307472, 'colsample_bytree': 0.7377449760924125, 'learning_rate': 0.09001959473750656, 'min_child_samples': 28, 'num_leaves': 32, 'max_depth': 20, 'max_bin': 679, 'cat_smooth': 32, 'cat_l2': 5.167000910188007}. Best is trial 1 with value: 0.713762641025865.\u001b[0m\n"
     ]
    },
    {
     "name": "stdout",
     "output_type": "stream",
     "text": [
      "Early stopping, best iteration is:\n",
      "[39]\tvalid_0's rmse: 0.71395\n",
      "Training until validation scores don't improve for 200 rounds\n",
      "Early stopping, best iteration is:\n",
      "[143]\tvalid_0's rmse: 0.713738\n",
      "Training until validation scores don't improve for 200 rounds\n"
     ]
    },
    {
     "name": "stderr",
     "output_type": "stream",
     "text": [
      "\u001b[32m[I 2021-08-28 10:27:15,812]\u001b[0m Trial 4 finished with value: 0.7137371400558243 and parameters: {'reg_lambda': 3.619608044126845, 'reg_alpha': 19.604249515409794, 'subsample': 0.885683108281837, 'colsample_bytree': 0.7160086435027024, 'learning_rate': 0.03942132327345818, 'min_child_samples': 42, 'num_leaves': 8, 'max_depth': 26, 'max_bin': 509, 'cat_smooth': 37, 'cat_l2': 30.680882027231757}. Best is trial 4 with value: 0.7137371400558243.\u001b[0m\n"
     ]
    },
    {
     "name": "stdout",
     "output_type": "stream",
     "text": [
      "Early stopping, best iteration is:\n",
      "[141]\tvalid_0's rmse: 0.713744\n",
      "Training until validation scores don't improve for 200 rounds\n",
      "Early stopping, best iteration is:\n",
      "[61]\tvalid_0's rmse: 0.713718\n",
      "Training until validation scores don't improve for 200 rounds\n"
     ]
    },
    {
     "name": "stderr",
     "output_type": "stream",
     "text": [
      "\u001b[32m[I 2021-08-28 10:27:24,254]\u001b[0m Trial 5 finished with value: 0.7137303155668558 and parameters: {'reg_lambda': 8.552670707798201, 'reg_alpha': 24.503395319034986, 'subsample': 0.9014288038839613, 'colsample_bytree': 0.9844327603284457, 'learning_rate': 0.086702699537196, 'min_child_samples': 11, 'num_leaves': 8, 'max_depth': 23, 'max_bin': 571, 'cat_smooth': 80, 'cat_l2': 0.0033090745939966188}. Best is trial 5 with value: 0.7137303155668558.\u001b[0m\n"
     ]
    },
    {
     "name": "stdout",
     "output_type": "stream",
     "text": [
      "Early stopping, best iteration is:\n",
      "[71]\tvalid_0's rmse: 0.713753\n",
      "Training until validation scores don't improve for 200 rounds\n",
      "Early stopping, best iteration is:\n",
      "[150]\tvalid_0's rmse: 0.713808\n",
      "Training until validation scores don't improve for 200 rounds\n",
      "Early stopping, best iteration is:\n",
      "[136]\tvalid_0's rmse: 0.713803\n"
     ]
    },
    {
     "name": "stderr",
     "output_type": "stream",
     "text": [
      "\u001b[32m[I 2021-08-28 10:27:35,610]\u001b[0m Trial 6 finished with value: 0.7137994583243872 and parameters: {'reg_lambda': 23.344006760943284, 'reg_alpha': 13.247165953545187, 'subsample': 0.7318380098947811, 'colsample_bytree': 0.9473497761302628, 'learning_rate': 0.02945798417392121, 'min_child_samples': 8, 'num_leaves': 16, 'max_depth': 32, 'max_bin': 654, 'cat_smooth': 35, 'cat_l2': 0.0023400403754637034}. Best is trial 5 with value: 0.7137303155668558.\u001b[0m\n"
     ]
    },
    {
     "name": "stdout",
     "output_type": "stream",
     "text": [
      "Training until validation scores don't improve for 200 rounds\n",
      "Early stopping, best iteration is:\n",
      "[69]\tvalid_0's rmse: 0.713742\n",
      "Training until validation scores don't improve for 200 rounds\n"
     ]
    },
    {
     "name": "stderr",
     "output_type": "stream",
     "text": [
      "\u001b[32m[I 2021-08-28 10:27:44,241]\u001b[0m Trial 7 finished with value: 0.7137361891495408 and parameters: {'reg_lambda': 3.2497689686357063, 'reg_alpha': 19.111417061127906, 'subsample': 0.5513404065123084, 'colsample_bytree': 0.9277519128536278, 'learning_rate': 0.0655932724240723, 'min_child_samples': 3, 'num_leaves': 9, 'max_depth': 31, 'max_bin': 670, 'cat_smooth': 63, 'cat_l2': 0.015295759461642385}. Best is trial 5 with value: 0.7137303155668558.\u001b[0m\n"
     ]
    },
    {
     "name": "stdout",
     "output_type": "stream",
     "text": [
      "Early stopping, best iteration is:\n",
      "[79]\tvalid_0's rmse: 0.713742\n",
      "Training until validation scores don't improve for 200 rounds\n",
      "Early stopping, best iteration is:\n",
      "[148]\tvalid_0's rmse: 0.714018\n",
      "Training until validation scores don't improve for 200 rounds\n",
      "Early stopping, best iteration is:\n",
      "[147]\tvalid_0's rmse: 0.713985\n"
     ]
    },
    {
     "name": "stderr",
     "output_type": "stream",
     "text": [
      "\u001b[32m[I 2021-08-28 10:28:00,636]\u001b[0m Trial 8 finished with value: 0.7139876571405072 and parameters: {'reg_lambda': 2.2081147473254674, 'reg_alpha': 21.55290930749385, 'subsample': 0.7137710404138748, 'colsample_bytree': 0.8780425646311236, 'learning_rate': 0.0252255790943935, 'min_child_samples': 15, 'num_leaves': 51, 'max_depth': 22, 'max_bin': 537, 'cat_smooth': 47, 'cat_l2': 0.5990681527916983}. Best is trial 5 with value: 0.7137303155668558.\u001b[0m\n"
     ]
    },
    {
     "name": "stdout",
     "output_type": "stream",
     "text": [
      "Training until validation scores don't improve for 200 rounds\n",
      "Early stopping, best iteration is:\n",
      "[217]\tvalid_0's rmse: 0.713721\n",
      "Training until validation scores don't improve for 200 rounds\n",
      "Early stopping, best iteration is:\n",
      "[204]\tvalid_0's rmse: 0.713726\n"
     ]
    },
    {
     "name": "stderr",
     "output_type": "stream",
     "text": [
      "\u001b[32m[I 2021-08-28 10:28:10,732]\u001b[0m Trial 9 finished with value: 0.7137210954934485 and parameters: {'reg_lambda': 14.449940694461345, 'reg_alpha': 27.01318841727797, 'subsample': 0.6996807410011846, 'colsample_bytree': 0.8123997372666533, 'learning_rate': 0.027693384548118885, 'min_child_samples': 36, 'num_leaves': 6, 'max_depth': 23, 'max_bin': 665, 'cat_smooth': 66, 'cat_l2': 0.00443720713885871}. Best is trial 9 with value: 0.7137210954934485.\u001b[0m\n"
     ]
    },
    {
     "name": "stdout",
     "output_type": "stream",
     "text": [
      "Training until validation scores don't improve for 200 rounds\n",
      "Early stopping, best iteration is:\n",
      "[80]\tvalid_0's rmse: 0.714025\n",
      "Training until validation scores don't improve for 200 rounds\n"
     ]
    },
    {
     "name": "stderr",
     "output_type": "stream",
     "text": [
      "\u001b[32m[I 2021-08-28 10:28:25,713]\u001b[0m Trial 10 finished with value: 0.7139985622115183 and parameters: {'reg_lambda': 14.147408552809457, 'reg_alpha': 29.924070399205654, 'subsample': 0.825145060174534, 'colsample_bytree': 0.8336296587564676, 'learning_rate': 0.047386548367077584, 'min_child_samples': 44, 'num_leaves': 50, 'max_depth': 26, 'max_bin': 780, 'cat_smooth': 71, 'cat_l2': 0.036085809225659404}. Best is trial 9 with value: 0.7137210954934485.\u001b[0m\n"
     ]
    },
    {
     "name": "stdout",
     "output_type": "stream",
     "text": [
      "Early stopping, best iteration is:\n",
      "[81]\tvalid_0's rmse: 0.714001\n",
      "Training until validation scores don't improve for 200 rounds\n",
      "Early stopping, best iteration is:\n",
      "[59]\tvalid_0's rmse: 0.713806\n",
      "Training until validation scores don't improve for 200 rounds\n"
     ]
    },
    {
     "name": "stderr",
     "output_type": "stream",
     "text": [
      "\u001b[32m[I 2021-08-28 10:28:34,843]\u001b[0m Trial 11 finished with value: 0.7137677816147943 and parameters: {'reg_lambda': 8.719935493016518, 'reg_alpha': 25.6193248381745, 'subsample': 0.8310284661503888, 'colsample_bytree': 0.6190318701770292, 'learning_rate': 0.09988602877916689, 'min_child_samples': 18, 'num_leaves': 6, 'max_depth': 24, 'max_bin': 604, 'cat_smooth': 81, 'cat_l2': 0.0011487832183630796}. Best is trial 9 with value: 0.7137210954934485.\u001b[0m\n"
     ]
    },
    {
     "name": "stdout",
     "output_type": "stream",
     "text": [
      "Early stopping, best iteration is:\n",
      "[54]\tvalid_0's rmse: 0.713748\n",
      "Training until validation scores don't improve for 200 rounds\n",
      "Early stopping, best iteration is:\n",
      "[58]\tvalid_0's rmse: 0.713984\n",
      "Training until validation scores don't improve for 200 rounds\n"
     ]
    },
    {
     "name": "stderr",
     "output_type": "stream",
     "text": [
      "\u001b[32m[I 2021-08-28 10:28:46,670]\u001b[0m Trial 12 finished with value: 0.7139470922433655 and parameters: {'reg_lambda': 8.89534913454814, 'reg_alpha': 25.05717778393432, 'subsample': 0.7897565998940137, 'colsample_bytree': 0.983984470425547, 'learning_rate': 0.06166680877616728, 'min_child_samples': 10, 'num_leaves': 38, 'max_depth': 23, 'max_bin': 763, 'cat_smooth': 75, 'cat_l2': 0.007906627649554502}. Best is trial 9 with value: 0.7137210954934485.\u001b[0m\n"
     ]
    },
    {
     "name": "stdout",
     "output_type": "stream",
     "text": [
      "Early stopping, best iteration is:\n",
      "[60]\tvalid_0's rmse: 0.713943\n",
      "Training until validation scores don't improve for 200 rounds\n",
      "Early stopping, best iteration is:\n",
      "[289]\tvalid_0's rmse: 0.714031\n",
      "Training until validation scores don't improve for 200 rounds\n",
      "Early stopping, best iteration is:\n",
      "[306]\tvalid_0's rmse: 0.714012\n"
     ]
    },
    {
     "name": "stderr",
     "output_type": "stream",
     "text": [
      "\u001b[32m[I 2021-08-28 10:29:13,035]\u001b[0m Trial 13 finished with value: 0.714012185789704 and parameters: {'reg_lambda': 9.24535672601111, 'reg_alpha': 25.243952972299272, 'subsample': 0.6213597126207627, 'colsample_bytree': 0.739852800640066, 'learning_rate': 0.013348047406084904, 'min_child_samples': 21, 'num_leaves': 60, 'max_depth': 28, 'max_bin': 591, 'cat_smooth': 55, 'cat_l2': 0.06506644546873987}. Best is trial 9 with value: 0.7137210954934485.\u001b[0m\n"
     ]
    },
    {
     "name": "stdout",
     "output_type": "stream",
     "text": [
      "Training until validation scores don't improve for 200 rounds\n",
      "Early stopping, best iteration is:\n",
      "[78]\tvalid_0's rmse: 0.713694\n",
      "Training until validation scores don't improve for 200 rounds\n"
     ]
    },
    {
     "name": "stderr",
     "output_type": "stream",
     "text": [
      "\u001b[32m[I 2021-08-28 10:29:20,877]\u001b[0m Trial 14 finished with value: 0.7137002996077744 and parameters: {'reg_lambda': 17.15595263626255, 'reg_alpha': 28.41175647691953, 'subsample': 0.8872494576691315, 'colsample_bytree': 0.8822495475460936, 'learning_rate': 0.0840589671215061, 'min_child_samples': 26, 'num_leaves': 5, 'max_depth': 28, 'max_bin': 598, 'cat_smooth': 71, 'cat_l2': 0.004758350233688687}. Best is trial 14 with value: 0.7137002996077744.\u001b[0m\n"
     ]
    },
    {
     "name": "stdout",
     "output_type": "stream",
     "text": [
      "Early stopping, best iteration is:\n",
      "[66]\tvalid_0's rmse: 0.713715\n",
      "Training until validation scores don't improve for 200 rounds\n",
      "Early stopping, best iteration is:\n",
      "[87]\tvalid_0's rmse: 0.713781\n",
      "Training until validation scores don't improve for 200 rounds\n"
     ]
    },
    {
     "name": "stderr",
     "output_type": "stream",
     "text": [
      "\u001b[32m[I 2021-08-28 10:29:30,998]\u001b[0m Trial 15 finished with value: 0.7137678302834279 and parameters: {'reg_lambda': 18.933132611808738, 'reg_alpha': 30.427132368489332, 'subsample': 0.6154358336176479, 'colsample_bytree': 0.8867470727368164, 'learning_rate': 0.04750067543315852, 'min_child_samples': 27, 'num_leaves': 16, 'max_depth': 29, 'max_bin': 744, 'cat_smooth': 68, 'cat_l2': 0.12443550711238166}. Best is trial 14 with value: 0.7137002996077744.\u001b[0m\n"
     ]
    },
    {
     "name": "stdout",
     "output_type": "stream",
     "text": [
      "Early stopping, best iteration is:\n",
      "[106]\tvalid_0's rmse: 0.713769\n",
      "Training until validation scores don't improve for 200 rounds\n",
      "Early stopping, best iteration is:\n",
      "[331]\tvalid_0's rmse: 0.713901\n",
      "Training until validation scores don't improve for 200 rounds\n",
      "Early stopping, best iteration is:\n",
      "[379]\tvalid_0's rmse: 0.713885\n"
     ]
    },
    {
     "name": "stderr",
     "output_type": "stream",
     "text": [
      "\u001b[32m[I 2021-08-28 10:29:53,844]\u001b[0m Trial 16 finished with value: 0.7138870725454427 and parameters: {'reg_lambda': 16.742412124512544, 'reg_alpha': 27.977611491933303, 'subsample': 0.7880416749833632, 'colsample_bytree': 0.8599666874230186, 'learning_rate': 0.011766513857385433, 'min_child_samples': 35, 'num_leaves': 24, 'max_depth': 25, 'max_bin': 629, 'cat_smooth': 59, 'cat_l2': 0.007489580415292065}. Best is trial 14 with value: 0.7137002996077744.\u001b[0m\n"
     ]
    },
    {
     "name": "stdout",
     "output_type": "stream",
     "text": [
      "Training until validation scores don't improve for 200 rounds\n",
      "Early stopping, best iteration is:\n",
      "[78]\tvalid_0's rmse: 0.71372\n",
      "Training until validation scores don't improve for 200 rounds\n"
     ]
    },
    {
     "name": "stderr",
     "output_type": "stream",
     "text": [
      "\u001b[32m[I 2021-08-28 10:30:02,049]\u001b[0m Trial 17 finished with value: 0.713715658965678 and parameters: {'reg_lambda': 11.358541387837043, 'reg_alpha': 21.863074529978228, 'subsample': 0.5174642652883438, 'colsample_bytree': 0.771627957027657, 'learning_rate': 0.07642673351929696, 'min_child_samples': 39, 'num_leaves': 5, 'max_depth': 34, 'max_bin': 459, 'cat_smooth': 74, 'cat_l2': 0.0015265196516698952}. Best is trial 14 with value: 0.7137002996077744.\u001b[0m\n"
     ]
    },
    {
     "name": "stdout",
     "output_type": "stream",
     "text": [
      "Early stopping, best iteration is:\n",
      "[77]\tvalid_0's rmse: 0.713722\n",
      "Training until validation scores don't improve for 200 rounds\n",
      "Early stopping, best iteration is:\n",
      "[50]\tvalid_0's rmse: 0.713955\n",
      "Training until validation scores don't improve for 200 rounds\n"
     ]
    },
    {
     "name": "stderr",
     "output_type": "stream",
     "text": [
      "\u001b[32m[I 2021-08-28 10:30:12,946]\u001b[0m Trial 18 finished with value: 0.7139600756065486 and parameters: {'reg_lambda': 11.96382129715564, 'reg_alpha': 17.212482904054717, 'subsample': 0.5389900637766621, 'colsample_bytree': 0.7682506462393035, 'learning_rate': 0.07786131320779319, 'min_child_samples': 45, 'num_leaves': 41, 'max_depth': 34, 'max_bin': 411, 'cat_smooth': 74, 'cat_l2': 0.0012631514005227754}. Best is trial 14 with value: 0.7137002996077744.\u001b[0m\n"
     ]
    },
    {
     "name": "stdout",
     "output_type": "stream",
     "text": [
      "Early stopping, best iteration is:\n",
      "[45]\tvalid_0's rmse: 0.714017\n",
      "Training until validation scores don't improve for 200 rounds\n",
      "Early stopping, best iteration is:\n",
      "[42]\tvalid_0's rmse: 0.713765\n",
      "Training until validation scores don't improve for 200 rounds\n"
     ]
    },
    {
     "name": "stderr",
     "output_type": "stream",
     "text": [
      "\u001b[32m[I 2021-08-28 10:30:22,899]\u001b[0m Trial 19 finished with value: 0.7137618760307886 and parameters: {'reg_lambda': 10.872806327420825, 'reg_alpha': 22.184285116883935, 'subsample': 0.5155126927242837, 'colsample_bytree': 0.6767875180457514, 'learning_rate': 0.09933419129533488, 'min_child_samples': 31, 'num_leaves': 14, 'max_depth': 34, 'max_bin': 437, 'cat_smooth': 76, 'cat_l2': 0.01921122791581874}. Best is trial 14 with value: 0.7137002996077744.\u001b[0m\n"
     ]
    },
    {
     "name": "stdout",
     "output_type": "stream",
     "text": [
      "Early stopping, best iteration is:\n",
      "[41]\tvalid_0's rmse: 0.713779\n",
      "Training until validation scores don't improve for 200 rounds\n",
      "Early stopping, best iteration is:\n",
      "[55]\tvalid_0's rmse: 0.713828\n",
      "Training until validation scores don't improve for 200 rounds\n"
     ]
    },
    {
     "name": "stderr",
     "output_type": "stream",
     "text": [
      "\u001b[32m[I 2021-08-28 10:30:32,592]\u001b[0m Trial 20 finished with value: 0.713833986161377 and parameters: {'reg_lambda': 5.8400261625827525, 'reg_alpha': 14.804044118419636, 'subsample': 0.8721972795300081, 'colsample_bytree': 0.9177305033452817, 'learning_rate': 0.07338199639261131, 'min_child_samples': 40, 'num_leaves': 20, 'max_depth': 33, 'max_bin': 477, 'cat_smooth': 57, 'cat_l2': 0.0010567090177998994}. Best is trial 14 with value: 0.7137002996077744.\u001b[0m\n"
     ]
    },
    {
     "name": "stdout",
     "output_type": "stream",
     "text": [
      "Early stopping, best iteration is:\n",
      "[49]\tvalid_0's rmse: 0.713863\n",
      "Training until validation scores don't improve for 200 rounds\n",
      "Early stopping, best iteration is:\n",
      "[62]\tvalid_0's rmse: 0.713724\n",
      "Training until validation scores don't improve for 200 rounds\n"
     ]
    },
    {
     "name": "stderr",
     "output_type": "stream",
     "text": [
      "\u001b[32m[I 2021-08-28 10:30:39,471]\u001b[0m Trial 21 finished with value: 0.713736240959199 and parameters: {'reg_lambda': 15.606851551120204, 'reg_alpha': 27.539834620041255, 'subsample': 0.5794248476391104, 'colsample_bytree': 0.7980522193950004, 'learning_rate': 0.0875437689827884, 'min_child_samples': 23, 'num_leaves': 5, 'max_depth': 29, 'max_bin': 721, 'cat_smooth': 69, 'cat_l2': 0.004726106243165873}. Best is trial 14 with value: 0.7137002996077744.\u001b[0m\n"
     ]
    },
    {
     "name": "stdout",
     "output_type": "stream",
     "text": [
      "Early stopping, best iteration is:\n",
      "[72]\tvalid_0's rmse: 0.713759\n",
      "Training until validation scores don't improve for 200 rounds\n",
      "Early stopping, best iteration is:\n",
      "[92]\tvalid_0's rmse: 0.713721\n",
      "Training until validation scores don't improve for 200 rounds\n"
     ]
    },
    {
     "name": "stderr",
     "output_type": "stream",
     "text": [
      "\u001b[32m[I 2021-08-28 10:30:47,793]\u001b[0m Trial 22 finished with value: 0.7137284595410376 and parameters: {'reg_lambda': 17.40435910288112, 'reg_alpha': 21.228554376073784, 'subsample': 0.652437012037997, 'colsample_bytree': 0.8318004690076644, 'learning_rate': 0.06173570257206538, 'min_child_samples': 39, 'num_leaves': 5, 'max_depth': 27, 'max_bin': 556, 'cat_smooth': 64, 'cat_l2': 0.0010242217228128004}. Best is trial 14 with value: 0.7137002996077744.\u001b[0m\n"
     ]
    },
    {
     "name": "stdout",
     "output_type": "stream",
     "text": [
      "Early stopping, best iteration is:\n",
      "[93]\tvalid_0's rmse: 0.713745\n",
      "Training until validation scores don't improve for 200 rounds\n",
      "Early stopping, best iteration is:\n",
      "[41]\tvalid_0's rmse: 0.713798\n",
      "Training until validation scores don't improve for 200 rounds\n"
     ]
    },
    {
     "name": "stderr",
     "output_type": "stream",
     "text": [
      "\u001b[32m[I 2021-08-28 10:30:57,067]\u001b[0m Trial 23 finished with value: 0.7137566405625226 and parameters: {'reg_lambda': 12.992798958705691, 'reg_alpha': 23.204719782094017, 'subsample': 0.7650860763596324, 'colsample_bytree': 0.7842540656075426, 'learning_rate': 0.09426089882017397, 'min_child_samples': 32, 'num_leaves': 11, 'max_depth': 21, 'max_bin': 639, 'cat_smooth': 72, 'cat_l2': 0.015813399799802924}. Best is trial 14 with value: 0.7137002996077744.\u001b[0m\n"
     ]
    },
    {
     "name": "stdout",
     "output_type": "stream",
     "text": [
      "Early stopping, best iteration is:\n",
      "[49]\tvalid_0's rmse: 0.713734\n",
      "Training until validation scores don't improve for 200 rounds\n",
      "Early stopping, best iteration is:\n",
      "[72]\tvalid_0's rmse: 0.713794\n",
      "Training until validation scores don't improve for 200 rounds\n"
     ]
    },
    {
     "name": "stderr",
     "output_type": "stream",
     "text": [
      "\u001b[32m[I 2021-08-28 10:31:07,165]\u001b[0m Trial 24 finished with value: 0.7137571198737942 and parameters: {'reg_lambda': 20.67072743687536, 'reg_alpha': 26.977077925391807, 'subsample': 0.8437789974536853, 'colsample_bytree': 0.8389420480914921, 'learning_rate': 0.08028541875552567, 'min_child_samples': 37, 'num_leaves': 12, 'max_depth': 30, 'max_bin': 495, 'cat_smooth': 61, 'cat_l2': 0.002415632276238803}. Best is trial 14 with value: 0.7137002996077744.\u001b[0m\n"
     ]
    },
    {
     "name": "stdout",
     "output_type": "stream",
     "text": [
      "Early stopping, best iteration is:\n",
      "[74]\tvalid_0's rmse: 0.713736\n",
      "Training until validation scores don't improve for 200 rounds\n",
      "Early stopping, best iteration is:\n",
      "[60]\tvalid_0's rmse: 0.713846\n",
      "Training until validation scores don't improve for 200 rounds\n"
     ]
    },
    {
     "name": "stderr",
     "output_type": "stream",
     "text": [
      "\u001b[32m[I 2021-08-28 10:31:17,196]\u001b[0m Trial 25 finished with value: 0.7138349121993545 and parameters: {'reg_lambda': 11.691249798565119, 'reg_alpha': 16.745785914918397, 'subsample': 0.6616869944488167, 'colsample_bytree': 0.762145448715687, 'learning_rate': 0.06962038422951915, 'min_child_samples': 26, 'num_leaves': 19, 'max_depth': 25, 'max_bin': 699, 'cat_smooth': 78, 'cat_l2': 0.26027668104648044}. Best is trial 14 with value: 0.7137002996077744.\u001b[0m\n"
     ]
    },
    {
     "name": "stdout",
     "output_type": "stream",
     "text": [
      "Early stopping, best iteration is:\n",
      "[61]\tvalid_0's rmse: 0.713846\n",
      "Training until validation scores don't improve for 200 rounds\n",
      "Early stopping, best iteration is:\n",
      "[99]\tvalid_0's rmse: 0.713763\n",
      "Training until validation scores don't improve for 200 rounds\n"
     ]
    },
    {
     "name": "stderr",
     "output_type": "stream",
     "text": [
      "\u001b[32m[I 2021-08-28 10:31:25,910]\u001b[0m Trial 26 finished with value: 0.7137368785457336 and parameters: {'reg_lambda': 6.2847711151972305, 'reg_alpha': 23.461808903883476, 'subsample': 0.9128490703576747, 'colsample_bytree': 0.8957184742213404, 'learning_rate': 0.05281336138651836, 'min_child_samples': 31, 'num_leaves': 11, 'max_depth': 27, 'max_bin': 595, 'cat_smooth': 67, 'cat_l2': 0.007169426813134424}. Best is trial 14 with value: 0.7137002996077744.\u001b[0m\n"
     ]
    },
    {
     "name": "stdout",
     "output_type": "stream",
     "text": [
      "Early stopping, best iteration is:\n",
      "[92]\tvalid_0's rmse: 0.713721\n",
      "Training until validation scores don't improve for 200 rounds\n",
      "Early stopping, best iteration is:\n",
      "[46]\tvalid_0's rmse: 0.713916\n",
      "Training until validation scores don't improve for 200 rounds\n"
     ]
    },
    {
     "name": "stderr",
     "output_type": "stream",
     "text": [
      "\u001b[32m[I 2021-08-28 10:31:36,473]\u001b[0m Trial 27 finished with value: 0.7138676158277895 and parameters: {'reg_lambda': 24.246451965570564, 'reg_alpha': 30.896358548203178, 'subsample': 0.5777193725868796, 'colsample_bytree': 0.6872098725866161, 'learning_rate': 0.08168922488082427, 'min_child_samples': 41, 'num_leaves': 27, 'max_depth': 32, 'max_bin': 613, 'cat_smooth': 54, 'cat_l2': 0.03286912043126229}. Best is trial 14 with value: 0.7137002996077744.\u001b[0m\n"
     ]
    },
    {
     "name": "stdout",
     "output_type": "stream",
     "text": [
      "Early stopping, best iteration is:\n",
      "[46]\tvalid_0's rmse: 0.71385\n",
      "Training until validation scores don't improve for 200 rounds\n",
      "Early stopping, best iteration is:\n",
      "[150]\tvalid_0's rmse: 0.713731\n",
      "Training until validation scores don't improve for 200 rounds\n"
     ]
    },
    {
     "name": "stderr",
     "output_type": "stream",
     "text": [
      "\u001b[32m[I 2021-08-28 10:31:45,273]\u001b[0m Trial 28 finished with value: 0.7137288841521282 and parameters: {'reg_lambda': 15.75314850268768, 'reg_alpha': 26.72119952819424, 'subsample': 0.769157283091034, 'colsample_bytree': 0.8136158991561, 'learning_rate': 0.03782786095556265, 'min_child_samples': 23, 'num_leaves': 6, 'max_depth': 24, 'max_bin': 471, 'cat_smooth': 74, 'cat_l2': 0.002066976922512104}. Best is trial 14 with value: 0.7137002996077744.\u001b[0m\n"
     ]
    },
    {
     "name": "stdout",
     "output_type": "stream",
     "text": [
      "Early stopping, best iteration is:\n",
      "[152]\tvalid_0's rmse: 0.713733\n",
      "Training until validation scores don't improve for 200 rounds\n",
      "Early stopping, best iteration is:\n",
      "[349]\tvalid_0's rmse: 0.713732\n",
      "Training until validation scores don't improve for 200 rounds\n",
      "Early stopping, best iteration is:\n",
      "[359]\tvalid_0's rmse: 0.713721\n"
     ]
    },
    {
     "name": "stderr",
     "output_type": "stream",
     "text": [
      "\u001b[32m[I 2021-08-28 10:31:57,741]\u001b[0m Trial 29 finished with value: 0.7137236761140465 and parameters: {'reg_lambda': 21.721981521240462, 'reg_alpha': 28.658854898375782, 'subsample': 0.6272334216791822, 'colsample_bytree': 0.8477791398145609, 'learning_rate': 0.017636098152189764, 'min_child_samples': 30, 'num_leaves': 5, 'max_depth': 30, 'max_bin': 549, 'cat_smooth': 66, 'cat_l2': 0.0050173896798538275}. Best is trial 14 with value: 0.7137002996077744.\u001b[0m\n"
     ]
    },
    {
     "name": "stdout",
     "output_type": "stream",
     "text": [
      "Number of finished trials: 30\n",
      "Best trial: {'reg_lambda': 17.15595263626255, 'reg_alpha': 28.41175647691953, 'subsample': 0.8872494576691315, 'colsample_bytree': 0.8822495475460936, 'learning_rate': 0.0840589671215061, 'min_child_samples': 26, 'num_leaves': 5, 'max_depth': 28, 'max_bin': 598, 'cat_smooth': 71, 'cat_l2': 0.004758350233688687}\n"
     ]
    }
   ],
   "source": [
    "study = optuna.create_study(direction='minimize')\n",
    "study.optimize(objective,n_trials= 30)\n",
    "print('Number of finished trials:', len(study.trials))\n",
    "print('Best trial:', study.best_trial.params)"
   ]
  },
  {
   "cell_type": "code",
   "execution_count": 14,
   "id": "55d0b271",
   "metadata": {
    "execution": {
     "iopub.execute_input": "2021-08-28T10:31:57.893800Z",
     "iopub.status.busy": "2021-08-28T10:31:57.893137Z",
     "iopub.status.idle": "2021-08-28T10:31:57.897076Z",
     "shell.execute_reply": "2021-08-28T10:31:57.896570Z"
    },
    "papermill": {
     "duration": 0.073384,
     "end_time": "2021-08-28T10:31:57.897218",
     "exception": false,
     "start_time": "2021-08-28T10:31:57.823834",
     "status": "completed"
    },
    "tags": []
   },
   "outputs": [
    {
     "data": {
      "text/plain": [
       "{'reg_lambda': 17.15595263626255,\n",
       " 'reg_alpha': 28.41175647691953,\n",
       " 'subsample': 0.8872494576691315,\n",
       " 'colsample_bytree': 0.8822495475460936,\n",
       " 'learning_rate': 0.0840589671215061,\n",
       " 'min_child_samples': 26,\n",
       " 'num_leaves': 5,\n",
       " 'max_depth': 28,\n",
       " 'max_bin': 598,\n",
       " 'cat_smooth': 71,\n",
       " 'cat_l2': 0.004758350233688687}"
      ]
     },
     "execution_count": 14,
     "metadata": {},
     "output_type": "execute_result"
    }
   ],
   "source": [
    "study.best_params"
   ]
  },
  {
   "cell_type": "markdown",
   "id": "9dfeca44",
   "metadata": {
    "papermill": {
     "duration": 0.063439,
     "end_time": "2021-08-28T10:31:58.024545",
     "exception": false,
     "start_time": "2021-08-28T10:31:57.961106",
     "status": "completed"
    },
    "tags": []
   },
   "source": [
    "# Log\n",
    "\n",
    "====== Ordinal encoding =========\n",
    "\n",
    "0.7137357370735623 no noise ver1\n",
    "\n",
    "====== One-hot encoding =========\n",
    "\n",
    "0.7137291748487112 no noise ver2\n",
    "\n",
    "narrow"
   ]
  }
 ],
 "metadata": {
  "kernelspec": {
   "display_name": "Python 3",
   "language": "python",
   "name": "python3"
  },
  "language_info": {
   "codemirror_mode": {
    "name": "ipython",
    "version": 3
   },
   "file_extension": ".py",
   "mimetype": "text/x-python",
   "name": "python",
   "nbconvert_exporter": "python",
   "pygments_lexer": "ipython3",
   "version": "3.7.10"
  },
  "papermill": {
   "default_parameters": {},
   "duration": 371.746962,
   "end_time": "2021-08-28T10:31:59.098559",
   "environment_variables": {},
   "exception": null,
   "input_path": "__notebook__.ipynb",
   "output_path": "__notebook__.ipynb",
   "parameters": {},
   "start_time": "2021-08-28T10:25:47.351597",
   "version": "2.3.3"
  }
 },
 "nbformat": 4,
 "nbformat_minor": 5
}
