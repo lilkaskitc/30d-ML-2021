{
 "cells": [
  {
   "cell_type": "markdown",
   "id": "00306ed1",
   "metadata": {
    "papermill": {
     "duration": 0.012883,
     "end_time": "2021-08-31T23:20:35.122112",
     "exception": false,
     "start_time": "2021-08-31T23:20:35.109229",
     "status": "completed"
    },
    "tags": []
   },
   "source": [
    "# Libraries"
   ]
  },
  {
   "cell_type": "code",
   "execution_count": 1,
   "id": "c09559b1",
   "metadata": {
    "_cell_guid": "b1076dfc-b9ad-4769-8c92-a6c4dae69d19",
    "_uuid": "8f2839f25d086af736a60e9eeb907d3b93b6e0e5",
    "execution": {
     "iopub.execute_input": "2021-08-31T23:20:35.151306Z",
     "iopub.status.busy": "2021-08-31T23:20:35.150061Z",
     "iopub.status.idle": "2021-08-31T23:20:36.437755Z",
     "shell.execute_reply": "2021-08-31T23:20:36.436922Z",
     "shell.execute_reply.started": "2021-08-31T18:56:38.528297Z"
    },
    "papermill": {
     "duration": 1.303147,
     "end_time": "2021-08-31T23:20:36.437932",
     "exception": false,
     "start_time": "2021-08-31T23:20:35.134785",
     "status": "completed"
    },
    "tags": []
   },
   "outputs": [],
   "source": [
    "from pathlib import Path\n",
    "import pandas as pd\n",
    "import numpy as np\n",
    "import pickle\n",
    "import random\n",
    "import time\n",
    "import os\n",
    "\n",
    "from sklearn.preprocessing import StandardScaler\n",
    "from sklearn.model_selection import KFold\n",
    "from sklearn.metrics import mean_squared_error\n",
    "\n",
    "#import lightgbm as lgb\n",
    "#from sklearn.neural_network import MLPRegressor\n",
    "\n",
    "from scipy.optimize import minimize\n",
    "\n",
    "import matplotlib.pyplot as plt\n",
    "import seaborn as sns\n",
    "\n",
    "\n",
    "import warnings\n",
    "warnings.simplefilter('ignore')"
   ]
  },
  {
   "cell_type": "markdown",
   "id": "ccf82bfe",
   "metadata": {
    "papermill": {
     "duration": 0.010927,
     "end_time": "2021-08-31T23:20:36.460443",
     "exception": false,
     "start_time": "2021-08-31T23:20:36.449516",
     "status": "completed"
    },
    "tags": []
   },
   "source": [
    "# Parameters"
   ]
  },
  {
   "cell_type": "code",
   "execution_count": 2,
   "id": "816bd111",
   "metadata": {
    "execution": {
     "iopub.execute_input": "2021-08-31T23:20:36.489917Z",
     "iopub.status.busy": "2021-08-31T23:20:36.489264Z",
     "iopub.status.idle": "2021-08-31T23:20:36.492471Z",
     "shell.execute_reply": "2021-08-31T23:20:36.491854Z",
     "shell.execute_reply.started": "2021-08-31T18:56:38.538258Z"
    },
    "papermill": {
     "duration": 0.020401,
     "end_time": "2021-08-31T23:20:36.492608",
     "exception": false,
     "start_time": "2021-08-31T23:20:36.472207",
     "status": "completed"
    },
    "tags": []
   },
   "outputs": [],
   "source": [
    "target = 'target'\n",
    "\n",
    "DEBUG = False\n",
    "\n",
    "if DEBUG:\n",
    "    N_ESTIMATORS = 1\n",
    "    N_SPLITS = 2\n",
    "    SEED = 17\n",
    "    CVSEED = 17\n",
    "    EARLY_STOPPING_ROUNDS = 1\n",
    "    VERBOSE = 100\n",
    "    #N_ITERS = 2\n",
    "else:\n",
    "    N_SPLITS = 10\n",
    "    N_ESTIMATORS = 10000\n",
    "    EARLY_STOPPING_ROUNDS = 300\n",
    "    VERBOSE = 1000\n",
    "    SEED = 17\n",
    "    CVSEED = 17\n",
    "    #N_ITERS = 10"
   ]
  },
  {
   "cell_type": "code",
   "execution_count": 3,
   "id": "d1b99b4e",
   "metadata": {
    "execution": {
     "iopub.execute_input": "2021-08-31T23:20:36.521249Z",
     "iopub.status.busy": "2021-08-31T23:20:36.520501Z",
     "iopub.status.idle": "2021-08-31T23:20:36.523617Z",
     "shell.execute_reply": "2021-08-31T23:20:36.523138Z",
     "shell.execute_reply.started": "2021-08-31T18:56:38.554294Z"
    },
    "papermill": {
     "duration": 0.019617,
     "end_time": "2021-08-31T23:20:36.523779",
     "exception": false,
     "start_time": "2021-08-31T23:20:36.504162",
     "status": "completed"
    },
    "tags": []
   },
   "outputs": [],
   "source": [
    "def set_seed(seed=17):\n",
    "    random.seed(seed)\n",
    "    os.environ['PYTHONHASHSEED'] = str(seed)\n",
    "    np.random.seed(seed)\n",
    "    \n",
    "set_seed(SEED)"
   ]
  },
  {
   "cell_type": "markdown",
   "id": "599686c5",
   "metadata": {
    "papermill": {
     "duration": 0.011164,
     "end_time": "2021-08-31T23:20:36.546492",
     "exception": false,
     "start_time": "2021-08-31T23:20:36.535328",
     "status": "completed"
    },
    "tags": []
   },
   "source": [
    "# Datasets"
   ]
  },
  {
   "cell_type": "code",
   "execution_count": 4,
   "id": "e22ed6a7",
   "metadata": {
    "execution": {
     "iopub.execute_input": "2021-08-31T23:20:36.575437Z",
     "iopub.status.busy": "2021-08-31T23:20:36.574722Z",
     "iopub.status.idle": "2021-08-31T23:20:38.989033Z",
     "shell.execute_reply": "2021-08-31T23:20:38.988250Z",
     "shell.execute_reply.started": "2021-08-31T18:56:38.569814Z"
    },
    "papermill": {
     "duration": 2.43133,
     "end_time": "2021-08-31T23:20:38.989198",
     "exception": false,
     "start_time": "2021-08-31T23:20:36.557868",
     "status": "completed"
    },
    "tags": []
   },
   "outputs": [],
   "source": [
    "INPUT = Path(\"../input/30-days-of-ml\")\n",
    "\n",
    "train = pd.read_csv(INPUT / \"train.csv\")\n",
    "#test = pd.read_csv(INPUT / \"test.csv\")\n",
    "submission = pd.read_csv(INPUT / \"sample_submission.csv\")"
   ]
  },
  {
   "cell_type": "code",
   "execution_count": 5,
   "id": "5128a93d",
   "metadata": {
    "execution": {
     "iopub.execute_input": "2021-08-31T23:20:39.017476Z",
     "iopub.status.busy": "2021-08-31T23:20:39.016800Z",
     "iopub.status.idle": "2021-08-31T23:20:39.237550Z",
     "shell.execute_reply": "2021-08-31T23:20:39.236956Z",
     "shell.execute_reply.started": "2021-08-31T18:56:43.614696Z"
    },
    "papermill": {
     "duration": 0.237092,
     "end_time": "2021-08-31T23:20:39.237702",
     "exception": false,
     "start_time": "2021-08-31T23:20:39.000610",
     "status": "completed"
    },
    "tags": []
   },
   "outputs": [],
   "source": [
    "rid_oof = np.load(\"../input/30d-ml-2021-stacking-ridge-lv3/rid_oof.npy\")\n",
    "rid_pred = np.load(\"../input/30d-ml-2021-stacking-ridge-lv3/rid_pred.npy\")\n",
    "\n",
    "en_oof = np.load(\"../input/30d-ml-2021-stacking-en-lv3/en_oof.npy\")\n",
    "en_pred = np.load(\"../input/30d-ml-2021-stacking-en-lv3/en_pred.npy\")\n",
    "\n",
    "lgb_oof = np.load(\"../input/30d-ml-2021-stacking-lgb-no-pseudo/lgb_oof.npy\")\n",
    "lgb_pred = np.load(\"../input/30d-ml-2021-stacking-lgb-no-pseudo/lgb_pred.npy\")\n"
   ]
  },
  {
   "cell_type": "markdown",
   "id": "58d18297",
   "metadata": {
    "papermill": {
     "duration": 0.010962,
     "end_time": "2021-08-31T23:20:39.260063",
     "exception": false,
     "start_time": "2021-08-31T23:20:39.249101",
     "status": "completed"
    },
    "tags": []
   },
   "source": [
    "# Blending"
   ]
  },
  {
   "cell_type": "code",
   "execution_count": 6,
   "id": "3bdef40d",
   "metadata": {
    "execution": {
     "iopub.execute_input": "2021-08-31T23:20:39.289380Z",
     "iopub.status.busy": "2021-08-31T23:20:39.288713Z",
     "iopub.status.idle": "2021-08-31T23:20:39.603729Z",
     "shell.execute_reply": "2021-08-31T23:20:39.604246Z",
     "shell.execute_reply.started": "2021-08-31T18:56:43.638868Z"
    },
    "papermill": {
     "duration": 0.333183,
     "end_time": "2021-08-31T23:20:39.604421",
     "exception": false,
     "start_time": "2021-08-31T23:20:39.271238",
     "status": "completed"
    },
    "tags": []
   },
   "outputs": [
    {
     "name": "stdout",
     "output_type": "stream",
     "text": [
      " final_simplex: (array([[-2.34841731,  4.53863334],\n",
      "       [-2.34847102,  4.53868091],\n",
      "       [-2.34835799,  4.53856282]]), array([0.71370354, 0.71370354, 0.71370354]))\n",
      "           fun: 0.7137035420037221\n",
      "       message: 'Optimization terminated successfully.'\n",
      "          nfev: 110\n",
      "           nit: 59\n",
      "        status: 0\n",
      "       success: True\n",
      "             x: array([-2.34841731,  4.53863334])\n",
      "coef0 -2.3484173148599456, coef1 4.538633343797747, coef2 -1.190216028937801\n"
     ]
    }
   ],
   "source": [
    "def class_optimizer(X, a0, a1, a2):\n",
    "    oof = X[0]*a0 + X[1]*a1 + (1-X[0]-X[1])*a2\n",
    "    return mean_squared_error(train[target], oof, squared=False)\n",
    "\n",
    "res = minimize(\n",
    "    fun=class_optimizer,\n",
    "    x0=[0.45, 0.45],\n",
    "    args=tuple([rid_oof, en_oof, lgb_oof]),\n",
    "    method='Nelder-Mead',\n",
    "    options={'maxiter': 500})\n",
    "\n",
    "print(res)\n",
    "print(f\"coef0 {res.x[0]}, coef1 {res.x[1]}, coef2 {1-res.x[0]-res.x[1]}\")"
   ]
  },
  {
   "cell_type": "code",
   "execution_count": 7,
   "id": "d8918a1b",
   "metadata": {
    "execution": {
     "iopub.execute_input": "2021-08-31T23:20:39.634054Z",
     "iopub.status.busy": "2021-08-31T23:20:39.633422Z",
     "iopub.status.idle": "2021-08-31T23:20:39.642561Z",
     "shell.execute_reply": "2021-08-31T23:20:39.643024Z",
     "shell.execute_reply.started": "2021-08-31T18:56:43.867959Z"
    },
    "papermill": {
     "duration": 0.026978,
     "end_time": "2021-08-31T23:20:39.643275",
     "exception": false,
     "start_time": "2021-08-31T23:20:39.616297",
     "status": "completed"
    },
    "tags": []
   },
   "outputs": [
    {
     "name": "stdout",
     "output_type": "stream",
     "text": [
      "0.7137035420037221\n"
     ]
    }
   ],
   "source": [
    "blend_oof = res.x[0] * rid_oof + res.x[1] * en_oof + (1-res.x[0]-res.x[1]) * lgb_oof\n",
    "blend_pred = res.x[0] * rid_pred  + res.x[1] * en_pred + (1-res.x[0]-res.x[1]) * lgb_pred\n",
    "\n",
    "print(mean_squared_error(train[target], blend_oof, squared=False))"
   ]
  },
  {
   "cell_type": "markdown",
   "id": "1ff068a5",
   "metadata": {
    "papermill": {
     "duration": 0.011732,
     "end_time": "2021-08-31T23:20:39.667139",
     "exception": false,
     "start_time": "2021-08-31T23:20:39.655407",
     "status": "completed"
    },
    "tags": []
   },
   "source": [
    "# OOF predictions"
   ]
  },
  {
   "cell_type": "code",
   "execution_count": 8,
   "id": "879194da",
   "metadata": {
    "execution": {
     "iopub.execute_input": "2021-08-31T23:20:39.711156Z",
     "iopub.status.busy": "2021-08-31T23:20:39.710499Z",
     "iopub.status.idle": "2021-08-31T23:20:40.955602Z",
     "shell.execute_reply": "2021-08-31T23:20:40.954959Z",
     "shell.execute_reply.started": "2021-08-31T18:56:43.884072Z"
    },
    "papermill": {
     "duration": 1.276548,
     "end_time": "2021-08-31T23:20:40.955746",
     "exception": false,
     "start_time": "2021-08-31T23:20:39.679198",
     "status": "completed"
    },
    "tags": []
   },
   "outputs": [
    {
     "data": {
      "text/plain": [
       "<matplotlib.collections.PathCollection at 0x7f6b5b697690>"
      ]
     },
     "execution_count": 8,
     "metadata": {},
     "output_type": "execute_result"
    },
    {
     "data": {
      "image/png": "[encoded data removed]",
      "text/plain": [
       "<Figure size 432x288 with 1 Axes>"
      ]
     },
     "metadata": {
      "needs_background": "light"
     },
     "output_type": "display_data"
    }
   ],
   "source": [
    "plt.plot(train[target], train[target])\n",
    "plt.scatter(train[target], blend_oof)"
   ]
  },
  {
   "cell_type": "markdown",
   "id": "c2c99c5a",
   "metadata": {
    "papermill": {
     "duration": 0.012952,
     "end_time": "2021-08-31T23:20:40.982521",
     "exception": false,
     "start_time": "2021-08-31T23:20:40.969569",
     "status": "completed"
    },
    "tags": []
   },
   "source": [
    "# Submission"
   ]
  },
  {
   "cell_type": "code",
   "execution_count": 9,
   "id": "4d3042da",
   "metadata": {
    "execution": {
     "iopub.execute_input": "2021-08-31T23:20:41.013653Z",
     "iopub.status.busy": "2021-08-31T23:20:41.012980Z",
     "iopub.status.idle": "2021-08-31T23:20:41.752981Z",
     "shell.execute_reply": "2021-08-31T23:20:41.753548Z",
     "shell.execute_reply.started": "2021-08-31T18:56:44.928495Z"
    },
    "papermill": {
     "duration": 0.757989,
     "end_time": "2021-08-31T23:20:41.753728",
     "exception": false,
     "start_time": "2021-08-31T23:20:40.995739",
     "status": "completed"
    },
    "tags": []
   },
   "outputs": [
    {
     "data": {
      "text/html": [
       "<div>\n",
       "<style scoped>\n",
       "    .dataframe tbody tr th:only-of-type {\n",
       "        vertical-align: middle;\n",
       "    }\n",
       "\n",
       "    .dataframe tbody tr th {\n",
       "        vertical-align: top;\n",
       "    }\n",
       "\n",
       "    .dataframe thead th {\n",
       "        text-align: right;\n",
       "    }\n",
       "</style>\n",
       "<table border=\"1\" class=\"dataframe\">\n",
       "  <thead>\n",
       "    <tr style=\"text-align: right;\">\n",
       "      <th></th>\n",
       "      <th>id</th>\n",
       "      <th>target</th>\n",
       "    </tr>\n",
       "  </thead>\n",
       "  <tbody>\n",
       "    <tr>\n",
       "      <th>0</th>\n",
       "      <td>0</td>\n",
       "      <td>8.085456</td>\n",
       "    </tr>\n",
       "    <tr>\n",
       "      <th>1</th>\n",
       "      <td>5</td>\n",
       "      <td>8.434978</td>\n",
       "    </tr>\n",
       "    <tr>\n",
       "      <th>2</th>\n",
       "      <td>15</td>\n",
       "      <td>8.420626</td>\n",
       "    </tr>\n",
       "    <tr>\n",
       "      <th>3</th>\n",
       "      <td>16</td>\n",
       "      <td>8.456066</td>\n",
       "    </tr>\n",
       "    <tr>\n",
       "      <th>4</th>\n",
       "      <td>17</td>\n",
       "      <td>8.095083</td>\n",
       "    </tr>\n",
       "    <tr>\n",
       "      <th>...</th>\n",
       "      <td>...</td>\n",
       "      <td>...</td>\n",
       "    </tr>\n",
       "    <tr>\n",
       "      <th>199995</th>\n",
       "      <td>499987</td>\n",
       "      <td>8.056114</td>\n",
       "    </tr>\n",
       "    <tr>\n",
       "      <th>199996</th>\n",
       "      <td>499990</td>\n",
       "      <td>8.483039</td>\n",
       "    </tr>\n",
       "    <tr>\n",
       "      <th>199997</th>\n",
       "      <td>499991</td>\n",
       "      <td>8.551086</td>\n",
       "    </tr>\n",
       "    <tr>\n",
       "      <th>199998</th>\n",
       "      <td>499994</td>\n",
       "      <td>8.212099</td>\n",
       "    </tr>\n",
       "    <tr>\n",
       "      <th>199999</th>\n",
       "      <td>499995</td>\n",
       "      <td>7.943036</td>\n",
       "    </tr>\n",
       "  </tbody>\n",
       "</table>\n",
       "<p>200000 rows × 2 columns</p>\n",
       "</div>"
      ],
      "text/plain": [
       "            id    target\n",
       "0            0  8.085456\n",
       "1            5  8.434978\n",
       "2           15  8.420626\n",
       "3           16  8.456066\n",
       "4           17  8.095083\n",
       "...        ...       ...\n",
       "199995  499987  8.056114\n",
       "199996  499990  8.483039\n",
       "199997  499991  8.551086\n",
       "199998  499994  8.212099\n",
       "199999  499995  7.943036\n",
       "\n",
       "[200000 rows x 2 columns]"
      ]
     },
     "execution_count": 9,
     "metadata": {},
     "output_type": "execute_result"
    }
   ],
   "source": [
    "submission[target] = blend_pred\n",
    "submission.to_csv(\"submission.csv\", index=False)\n",
    "\n",
    "submission"
   ]
  }
 ],
 "metadata": {
  "kernelspec": {
   "display_name": "Python 3",
   "language": "python",
   "name": "python3"
  },
  "language_info": {
   "codemirror_mode": {
    "name": "ipython",
    "version": 3
   },
   "file_extension": ".py",
   "mimetype": "text/x-python",
   "name": "python",
   "nbconvert_exporter": "python",
   "pygments_lexer": "ipython3",
   "version": "3.7.10"
  },
  "papermill": {
   "default_parameters": {},
   "duration": 15.484977,
   "end_time": "2021-08-31T23:20:42.479112",
   "environment_variables": {},
   "exception": null,
   "input_path": "__notebook__.ipynb",
   "output_path": "__notebook__.ipynb",
   "parameters": {},
   "start_time": "2021-08-31T23:20:26.994135",
   "version": "2.3.3"
  }
 },
 "nbformat": 4,
 "nbformat_minor": 5
}
